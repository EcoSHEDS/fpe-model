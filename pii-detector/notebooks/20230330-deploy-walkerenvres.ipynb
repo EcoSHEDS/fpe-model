{
 "cells": [
  {
   "cell_type": "code",
   "execution_count": 10,
   "metadata": {},
   "outputs": [],
   "source": [
    "import boto3, time, json\n",
    "\n",
    "sess = boto3.Session()\n",
    "sm = sess.client(\"sagemaker\")\n",
    "region = sess.region_name\n",
    "account = sess.client(\"sts\").get_caller_identity().get(\"Account\")\n",
    "s3_bucket_name = \"sagemaker-us-east-1-474916309046\"\n",
    "s3_prefix = \"fpe-pii\"\n",
    "sagemaker_role_arn = \"arn:aws:iam::474916309046:role/service-role/AmazonSageMaker-ExecutionRole-20201211T145559\"\n",
    "ecr_image_arn = \"474916309046.dkr.ecr.us-east-1.amazonaws.com/fpe-pii:latest\""
   ]
  },
  {
   "attachments": {},
   "cell_type": "markdown",
   "metadata": {},
   "source": [
    "## Create Sagemaker Model"
   ]
  },
  {
   "cell_type": "code",
   "execution_count": 7,
   "metadata": {},
   "outputs": [],
   "source": [
    "# create sagemaker model\n",
    "model_file_name = \"mdv5a\"\n",
    "model_data = f\"s3://{s3_bucket_name}/{s3_prefix}/model/{model_file_name}.tar.gz\"\n",
    "sm_model_name = f\"fpe-pii-{model_file_name}\"\n",
    "container = {\"Image\": ecr_image_arn, \"ModelDataUrl\": model_data}"
   ]
  },
  {
   "cell_type": "code",
   "execution_count": null,
   "metadata": {},
   "outputs": [],
   "source": [
    "# create_model_response = sm.create_model(\n",
    "#     ModelName=sm_model_name,\n",
    "#     ExecutionRoleArn=sagemaker_role_arn,\n",
    "#     PrimaryContainer=container\n",
    "# )\n",
    "# print(create_model_response[\"ModelArn\"])"
   ]
  },
  {
   "attachments": {},
   "cell_type": "markdown",
   "metadata": {},
   "source": [
    "## Create Batch Job"
   ]
  },
  {
   "cell_type": "code",
   "execution_count": 4,
   "metadata": {},
   "outputs": [
    {
     "data": {
      "text/plain": [
       "('s3://sagemaker-us-east-1-474916309046/fpe/data/parkers-brook/images/',\n",
       " 's3://sagemaker-us-east-1-474916309046/fpe/data/parkers-brook/pii/')"
      ]
     },
     "execution_count": 4,
     "metadata": {},
     "output_type": "execute_result"
    }
   ],
   "source": [
    "# batch_input = f\"s3://{s3_bucket_name}/{s3_prefix}/imagesets/atherton/img/\"\n",
    "# batch_output = f\"s3://{s3_bucket_name}/{s3_prefix}/imagesets/atherton/pii/\"\n",
    "batch_input = f\"s3://{s3_bucket_name}/fpe/data/parkers-brook/images/\"\n",
    "batch_output = f\"s3://{s3_bucket_name}/fpe/data/parkers-brook/pii/\"\n",
    "batch_input, batch_output"
   ]
  },
  {
   "cell_type": "code",
   "execution_count": 8,
   "metadata": {},
   "outputs": [
    {
     "data": {
      "text/plain": [
       "{'TransformJobName': 'fpe-pii-batch-20230331131956',\n",
       " 'ModelName': 'fpe-pii-mdv5a',\n",
       " 'BatchStrategy': 'MultiRecord',\n",
       " 'TransformInput': {'DataSource': {'S3DataSource': {'S3DataType': 'S3Prefix',\n",
       "    'S3Uri': 's3://sagemaker-us-east-1-474916309046/fpe/data/parkers-brook/images/'}},\n",
       "  'CompressionType': 'None'},\n",
       " 'TransformOutput': {'S3OutputPath': 's3://sagemaker-us-east-1-474916309046/fpe/data/parkers-brook/pii/',\n",
       "  'AssembleWith': 'Line'},\n",
       " 'TransformResources': {'InstanceType': 'ml.m5.large', 'InstanceCount': 4},\n",
       " 'ModelClientConfig': {'InvocationsTimeoutInSeconds': 3600,\n",
       "  'InvocationsMaxRetries': 1}}"
      ]
     },
     "execution_count": 8,
     "metadata": {},
     "output_type": "execute_result"
    }
   ],
   "source": [
    "batch_job_name = 'fpe-pii-batch-' + time.strftime(\"%Y%m%d%H%M%S\", time.gmtime())\n",
    "batch_request = {\n",
    "    \"TransformJobName\": batch_job_name,\n",
    "    \"ModelName\": sm_model_name,\n",
    "    \"BatchStrategy\": \"MultiRecord\",\n",
    "    \"TransformInput\": {\n",
    "        \"DataSource\": {\n",
    "            \"S3DataSource\": {\n",
    "                \"S3DataType\": \"S3Prefix\",\n",
    "                \"S3Uri\": batch_input\n",
    "            }\n",
    "        },\n",
    "        \"CompressionType\": \"None\",\n",
    "    },\n",
    "    \"TransformOutput\": {\n",
    "        \"S3OutputPath\": batch_output,\n",
    "        \"AssembleWith\": \"Line\"\n",
    "    },\n",
    "    \"TransformResources\": {\n",
    "        \"InstanceType\": \"ml.m5.large\",\n",
    "        \"InstanceCount\": 4\n",
    "    },\n",
    "    \"ModelClientConfig\": {\n",
    "        \"InvocationsTimeoutInSeconds\": 3600,\n",
    "        \"InvocationsMaxRetries\": 1,\n",
    "    },\n",
    "}\n",
    "batch_request"
   ]
  },
  {
   "cell_type": "code",
   "execution_count": 9,
   "metadata": {},
   "outputs": [
    {
     "data": {
      "text/plain": [
       "{'TransformJobArn': 'arn:aws:sagemaker:us-east-1:474916309046:transform-job/fpe-pii-batch-20230331131956',\n",
       " 'ResponseMetadata': {'RequestId': 'c7ca2f74-da87-4cf6-8d6b-df40b53ace33',\n",
       "  'HTTPStatusCode': 200,\n",
       "  'HTTPHeaders': {'x-amzn-requestid': 'c7ca2f74-da87-4cf6-8d6b-df40b53ace33',\n",
       "   'content-type': 'application/x-amz-json-1.1',\n",
       "   'content-length': '105',\n",
       "   'date': 'Fri, 31 Mar 2023 13:19:59 GMT'},\n",
       "  'RetryAttempts': 0}}"
      ]
     },
     "execution_count": 9,
     "metadata": {},
     "output_type": "execute_result"
    }
   ],
   "source": [
    "sm.create_transform_job(**batch_request)"
   ]
  },
  {
   "attachments": {},
   "cell_type": "markdown",
   "metadata": {},
   "source": [
    "## Process Output"
   ]
  },
  {
   "cell_type": "code",
   "execution_count": 19,
   "metadata": {},
   "outputs": [
    {
     "data": {
      "text/plain": [
       "'{\"bucketName\": \"sagemaker-us-east-1-474916309046\", \"folderName\": \"fpe/data/parkers-brook/pii/\", \"outputFileName\": \"fpe/data/parkers-brook/pii-output.json\"}'"
      ]
     },
     "execution_count": 19,
     "metadata": {},
     "output_type": "execute_result"
    }
   ],
   "source": [
    "lambda_client = boto3.client('lambda')\n",
    "\n",
    "# Define the input for the Lambda function\n",
    "input_data = {\n",
    "  'bucketName': \"sagemaker-us-east-1-474916309046\",\n",
    "  # 'folderName': \"fpe-pii/imagesets/atherton/pii/\",\n",
    "  # 'outputFileName': \"fpe-pii/imagesets/atherton/pii-output.json\"\n",
    "  'folderName': \"fpe/data/parkers-brook/pii/\",\n",
    "  'outputFileName': \"fpe/data/parkers-brook/pii-output.json\"\n",
    "}\n",
    "\n",
    "# Convert the input to a JSON string\n",
    "payload = json.dumps(input_data)\n",
    "payload"
   ]
  },
  {
   "cell_type": "code",
   "execution_count": 29,
   "metadata": {},
   "outputs": [
    {
     "name": "stdout",
     "output_type": "stream",
     "text": [
      "{'ResponseMetadata': {'RequestId': '7c2587b0-5aae-490b-b78e-c68bc06a3218', 'HTTPStatusCode': 202, 'HTTPHeaders': {'date': 'Fri, 31 Mar 2023 14:50:03 GMT', 'content-length': '0', 'connection': 'keep-alive', 'x-amzn-requestid': '7c2587b0-5aae-490b-b78e-c68bc06a3218', 'x-amzn-remapped-content-length': '0', 'x-amzn-trace-id': 'root=1-6426f31b-0bfc2e4264f86f4c04077377;sampled=0'}, 'RetryAttempts': 0}, 'StatusCode': 202, 'Payload': <botocore.response.StreamingBody object at 0x116c24df0>}\n",
      "CPU times: user 8.12 ms, sys: 2.25 ms, total: 10.4 ms\n",
      "Wall time: 228 ms\n"
     ]
    }
   ],
   "source": [
    "%%time\n",
    "# Invoke the Lambda function\n",
    "response = lambda_client.invoke(\n",
    "  FunctionName='fpe-pii-output',\n",
    "  InvocationType='Event',\n",
    "  Payload=payload\n",
    ")\n",
    "\n",
    "# Print the response from the Lambda function\n",
    "print(response)"
   ]
  }
 ],
 "metadata": {
  "kernelspec": {
   "display_name": "fpe-pii",
   "language": "python",
   "name": "python3"
  },
  "language_info": {
   "codemirror_mode": {
    "name": "ipython",
    "version": 3
   },
   "file_extension": ".py",
   "mimetype": "text/x-python",
   "name": "python",
   "nbconvert_exporter": "python",
   "pygments_lexer": "ipython3",
   "version": "3.8.16"
  },
  "orig_nbformat": 4
 },
 "nbformat": 4,
 "nbformat_minor": 2
}
