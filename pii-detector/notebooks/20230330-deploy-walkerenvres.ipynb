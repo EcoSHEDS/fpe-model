{
 "cells": [
  {
   "cell_type": "code",
   "execution_count": 1,
   "metadata": {},
   "outputs": [],
   "source": [
    "import boto3, time, json\n",
    "\n",
    "sess = boto3.Session()\n",
    "sm = sess.client(\"sagemaker\")\n",
    "region = sess.region_name\n",
    "account = sess.client(\"sts\").get_caller_identity().get(\"Account\")\n",
    "s3_bucket_name = \"sagemaker-us-east-1-474916309046\"\n",
    "s3_prefix = \"fpe-pii\"\n",
    "sagemaker_role_arn = \"arn:aws:iam::474916309046:role/service-role/AmazonSageMaker-ExecutionRole-20201211T145559\"\n",
    "ecr_image_arn = \"474916309046.dkr.ecr.us-east-1.amazonaws.com/fpe-pii:latest\""
   ]
  },
  {
   "attachments": {},
   "cell_type": "markdown",
   "metadata": {},
   "source": [
    "## Create Sagemaker Model"
   ]
  },
  {
   "cell_type": "code",
   "execution_count": 2,
   "metadata": {},
   "outputs": [
    {
     "data": {
      "text/plain": [
       "{'Image': '474916309046.dkr.ecr.us-east-1.amazonaws.com/fpe-pii:latest',\n",
       " 'ModelDataUrl': 's3://sagemaker-us-east-1-474916309046/fpe-pii/model/mdv5a.tar.gz'}"
      ]
     },
     "execution_count": 2,
     "metadata": {},
     "output_type": "execute_result"
    }
   ],
   "source": [
    "# create sagemaker model\n",
    "model_file_name = \"mdv5a\"\n",
    "model_data = f\"s3://{s3_bucket_name}/{s3_prefix}/model/{model_file_name}.tar.gz\"\n",
    "sm_model_name = f\"fpe-pii-{model_file_name}\"\n",
    "container = {\"Image\": ecr_image_arn, \"ModelDataUrl\": model_data}\n",
    "container"
   ]
  },
  {
   "cell_type": "code",
   "execution_count": 4,
   "metadata": {},
   "outputs": [
    {
     "ename": "ClientError",
     "evalue": "An error occurred (ValidationException) when calling the CreateModel operation: Cannot create already existing model \"arn:aws:sagemaker:us-east-1:474916309046:model/fpe-pii-mdv5a\".",
     "output_type": "error",
     "traceback": [
      "\u001b[0;31m---------------------------------------------------------------------------\u001b[0m",
      "\u001b[0;31mClientError\u001b[0m                               Traceback (most recent call last)",
      "Cell \u001b[0;32mIn[4], line 1\u001b[0m\n\u001b[0;32m----> 1\u001b[0m create_model_response \u001b[39m=\u001b[39m sm\u001b[39m.\u001b[39;49mcreate_model(\n\u001b[1;32m      2\u001b[0m     ModelName\u001b[39m=\u001b[39;49msm_model_name,\n\u001b[1;32m      3\u001b[0m     ExecutionRoleArn\u001b[39m=\u001b[39;49msagemaker_role_arn,\n\u001b[1;32m      4\u001b[0m     PrimaryContainer\u001b[39m=\u001b[39;49mcontainer\n\u001b[1;32m      5\u001b[0m )\n\u001b[1;32m      6\u001b[0m \u001b[39mprint\u001b[39m(create_model_response[\u001b[39m\"\u001b[39m\u001b[39mModelArn\u001b[39m\u001b[39m\"\u001b[39m])\n",
      "File \u001b[0;32m/opt/homebrew/Caskroom/miniconda/base/envs/fpe-pii/lib/python3.8/site-packages/botocore/client.py:530\u001b[0m, in \u001b[0;36mClientCreator._create_api_method.<locals>._api_call\u001b[0;34m(self, *args, **kwargs)\u001b[0m\n\u001b[1;32m    526\u001b[0m     \u001b[39mraise\u001b[39;00m \u001b[39mTypeError\u001b[39;00m(\n\u001b[1;32m    527\u001b[0m         \u001b[39mf\u001b[39m\u001b[39m\"\u001b[39m\u001b[39m{\u001b[39;00mpy_operation_name\u001b[39m}\u001b[39;00m\u001b[39m() only accepts keyword arguments.\u001b[39m\u001b[39m\"\u001b[39m\n\u001b[1;32m    528\u001b[0m     )\n\u001b[1;32m    529\u001b[0m \u001b[39m# The \"self\" in this scope is referring to the BaseClient.\u001b[39;00m\n\u001b[0;32m--> 530\u001b[0m \u001b[39mreturn\u001b[39;00m \u001b[39mself\u001b[39;49m\u001b[39m.\u001b[39;49m_make_api_call(operation_name, kwargs)\n",
      "File \u001b[0;32m/opt/homebrew/Caskroom/miniconda/base/envs/fpe-pii/lib/python3.8/site-packages/botocore/client.py:960\u001b[0m, in \u001b[0;36mBaseClient._make_api_call\u001b[0;34m(self, operation_name, api_params)\u001b[0m\n\u001b[1;32m    958\u001b[0m     error_code \u001b[39m=\u001b[39m parsed_response\u001b[39m.\u001b[39mget(\u001b[39m\"\u001b[39m\u001b[39mError\u001b[39m\u001b[39m\"\u001b[39m, {})\u001b[39m.\u001b[39mget(\u001b[39m\"\u001b[39m\u001b[39mCode\u001b[39m\u001b[39m\"\u001b[39m)\n\u001b[1;32m    959\u001b[0m     error_class \u001b[39m=\u001b[39m \u001b[39mself\u001b[39m\u001b[39m.\u001b[39mexceptions\u001b[39m.\u001b[39mfrom_code(error_code)\n\u001b[0;32m--> 960\u001b[0m     \u001b[39mraise\u001b[39;00m error_class(parsed_response, operation_name)\n\u001b[1;32m    961\u001b[0m \u001b[39melse\u001b[39;00m:\n\u001b[1;32m    962\u001b[0m     \u001b[39mreturn\u001b[39;00m parsed_response\n",
      "\u001b[0;31mClientError\u001b[0m: An error occurred (ValidationException) when calling the CreateModel operation: Cannot create already existing model \"arn:aws:sagemaker:us-east-1:474916309046:model/fpe-pii-mdv5a\"."
     ]
    }
   ],
   "source": [
    "# create_model_response = sm.create_model(\n",
    "#     ModelName=sm_model_name,\n",
    "#     ExecutionRoleArn=sagemaker_role_arn,\n",
    "#     PrimaryContainer=container\n",
    "# )\n",
    "# print(create_model_response[\"ModelArn\"])"
   ]
  },
  {
   "attachments": {},
   "cell_type": "markdown",
   "metadata": {},
   "source": [
    "## Create Batch Job"
   ]
  },
  {
   "cell_type": "code",
   "execution_count": 3,
   "metadata": {},
   "outputs": [
    {
     "data": {
      "text/plain": [
       "('s3://sagemaker-us-east-1-474916309046/fpe-pii/imagesets/atherton-32/img/',\n",
       " 's3://sagemaker-us-east-1-474916309046/fpe-pii/imagesets/atherton-32/pii/')"
      ]
     },
     "execution_count": 3,
     "metadata": {},
     "output_type": "execute_result"
    }
   ],
   "source": [
    "batch_input = f\"s3://{s3_bucket_name}/{s3_prefix}/imagesets/atherton-32/img/\"\n",
    "batch_output = f\"s3://{s3_bucket_name}/{s3_prefix}/imagesets/atherton-32/pii/\"\n",
    "# batch_input = f\"s3://{s3_bucket_name}/fpe/data/parkers-brook/images/\"\n",
    "# batch_output = f\"s3://{s3_bucket_name}/fpe/data/parkers-brook/pii/\"\n",
    "batch_input, batch_output"
   ]
  },
  {
   "cell_type": "code",
   "execution_count": 11,
   "metadata": {},
   "outputs": [
    {
     "data": {
      "text/plain": [
       "{'TransformJobName': 'fpe-pii-batch-20230413000801',\n",
       " 'ModelName': 'fpe-pii-mdv5a',\n",
       " 'BatchStrategy': 'MultiRecord',\n",
       " 'MaxConcurrentTransforms': 8,\n",
       " 'TransformInput': {'DataSource': {'S3DataSource': {'S3DataType': 'S3Prefix',\n",
       "    'S3Uri': 's3://sagemaker-us-east-1-474916309046/fpe-pii/imagesets/atherton-32/img/'}},\n",
       "  'CompressionType': 'None'},\n",
       " 'TransformOutput': {'S3OutputPath': 's3://sagemaker-us-east-1-474916309046/fpe-pii/imagesets/atherton-32/pii/',\n",
       "  'AssembleWith': 'Line'},\n",
       " 'TransformResources': {'InstanceType': 'ml.m5.2xlarge', 'InstanceCount': 1},\n",
       " 'ModelClientConfig': {'InvocationsTimeoutInSeconds': 3600,\n",
       "  'InvocationsMaxRetries': 1}}"
      ]
     },
     "execution_count": 11,
     "metadata": {},
     "output_type": "execute_result"
    }
   ],
   "source": [
    "batch_job_name = 'fpe-pii-batch-' + time.strftime(\"%Y%m%d%H%M%S\", time.gmtime())\n",
    "batch_request = {\n",
    "    \"TransformJobName\": batch_job_name,\n",
    "    \"ModelName\": sm_model_name,\n",
    "    \"BatchStrategy\": \"MultiRecord\",\n",
    "    \"MaxConcurrentTransforms\": 8,\n",
    "    \"TransformInput\": {\n",
    "        \"DataSource\": {\n",
    "            \"S3DataSource\": {\n",
    "                \"S3DataType\": \"S3Prefix\",\n",
    "                \"S3Uri\": batch_input\n",
    "            }\n",
    "        },\n",
    "        \"CompressionType\": \"None\",\n",
    "    },\n",
    "    \"TransformOutput\": {\n",
    "        \"S3OutputPath\": batch_output,\n",
    "        \"AssembleWith\": \"Line\"\n",
    "    },\n",
    "    \"TransformResources\": {\n",
    "        \"InstanceType\": \"ml.m5.2xlarge\",\n",
    "        \"InstanceCount\": 1\n",
    "    },\n",
    "    \"ModelClientConfig\": {\n",
    "        \"InvocationsTimeoutInSeconds\": 3600,\n",
    "        \"InvocationsMaxRetries\": 1,\n",
    "    },\n",
    "}\n",
    "batch_request"
   ]
  },
  {
   "cell_type": "code",
   "execution_count": 12,
   "metadata": {},
   "outputs": [
    {
     "data": {
      "text/plain": [
       "{'TransformJobArn': 'arn:aws:sagemaker:us-east-1:474916309046:transform-job/fpe-pii-batch-20230413000801',\n",
       " 'ResponseMetadata': {'RequestId': '2fcf8e0e-b778-400e-9aab-a3bf3ae60e2b',\n",
       "  'HTTPStatusCode': 200,\n",
       "  'HTTPHeaders': {'x-amzn-requestid': '2fcf8e0e-b778-400e-9aab-a3bf3ae60e2b',\n",
       "   'content-type': 'application/x-amz-json-1.1',\n",
       "   'content-length': '105',\n",
       "   'date': 'Thu, 13 Apr 2023 00:08:04 GMT'},\n",
       "  'RetryAttempts': 0}}"
      ]
     },
     "execution_count": 12,
     "metadata": {},
     "output_type": "execute_result"
    }
   ],
   "source": [
    "sm.create_transform_job(**batch_request)"
   ]
  },
  {
   "attachments": {},
   "cell_type": "markdown",
   "metadata": {},
   "source": [
    "## Process Output"
   ]
  },
  {
   "cell_type": "code",
   "execution_count": 19,
   "metadata": {},
   "outputs": [
    {
     "data": {
      "text/plain": [
       "'{\"bucketName\": \"sagemaker-us-east-1-474916309046\", \"folderName\": \"fpe/data/parkers-brook/pii/\", \"outputFileName\": \"fpe/data/parkers-brook/pii-output.json\"}'"
      ]
     },
     "execution_count": 19,
     "metadata": {},
     "output_type": "execute_result"
    }
   ],
   "source": [
    "lambda_client = boto3.client('lambda')\n",
    "\n",
    "# Define the input for the Lambda function\n",
    "input_data = {\n",
    "  'bucketName': \"sagemaker-us-east-1-474916309046\",\n",
    "  # 'folderName': \"fpe-pii/imagesets/atherton/pii/\",\n",
    "  # 'outputFileName': \"fpe-pii/imagesets/atherton/pii-output.json\"\n",
    "  'folderName': \"fpe/data/parkers-brook/pii/\",\n",
    "  'outputFileName': \"fpe/data/parkers-brook/pii-output.json\"\n",
    "}\n",
    "\n",
    "# Convert the input to a JSON string\n",
    "payload = json.dumps(input_data)\n",
    "payload"
   ]
  },
  {
   "cell_type": "code",
   "execution_count": 29,
   "metadata": {},
   "outputs": [
    {
     "name": "stdout",
     "output_type": "stream",
     "text": [
      "{'ResponseMetadata': {'RequestId': '7c2587b0-5aae-490b-b78e-c68bc06a3218', 'HTTPStatusCode': 202, 'HTTPHeaders': {'date': 'Fri, 31 Mar 2023 14:50:03 GMT', 'content-length': '0', 'connection': 'keep-alive', 'x-amzn-requestid': '7c2587b0-5aae-490b-b78e-c68bc06a3218', 'x-amzn-remapped-content-length': '0', 'x-amzn-trace-id': 'root=1-6426f31b-0bfc2e4264f86f4c04077377;sampled=0'}, 'RetryAttempts': 0}, 'StatusCode': 202, 'Payload': <botocore.response.StreamingBody object at 0x116c24df0>}\n",
      "CPU times: user 8.12 ms, sys: 2.25 ms, total: 10.4 ms\n",
      "Wall time: 228 ms\n"
     ]
    }
   ],
   "source": [
    "%%time\n",
    "# Invoke the Lambda function\n",
    "response = lambda_client.invoke(\n",
    "  FunctionName='fpe-pii-output',\n",
    "  InvocationType='Event',\n",
    "  Payload=payload\n",
    ")\n",
    "\n",
    "# Print the response from the Lambda function\n",
    "print(response)"
   ]
  }
 ],
 "metadata": {
  "kernelspec": {
   "display_name": "fpe-pii",
   "language": "python",
   "name": "python3"
  },
  "language_info": {
   "codemirror_mode": {
    "name": "ipython",
    "version": 3
   },
   "file_extension": ".py",
   "mimetype": "text/x-python",
   "name": "python",
   "nbconvert_exporter": "python",
   "pygments_lexer": "ipython3",
   "version": "3.8.16"
  },
  "orig_nbformat": 4
 },
 "nbformat": 4,
 "nbformat_minor": 2
}
