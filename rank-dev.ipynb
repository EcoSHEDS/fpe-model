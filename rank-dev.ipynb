{
 "cells": [
  {
   "cell_type": "markdown",
   "id": "61634f46-4d19-436c-9cb5-becc5b8111ff",
   "metadata": {},
   "source": [
    "# FPE Rank Model"
   ]
  },
  {
   "cell_type": "code",
   "execution_count": 3,
   "id": "f198bc4d",
   "metadata": {},
   "outputs": [],
   "source": [
    "import boto3\n",
    "import time\n",
    "import json\n",
    "import os\n",
    "import pandas as pd\n",
    "import sagemaker\n",
    "from io import StringIO"
   ]
  },
  {
   "cell_type": "code",
   "execution_count": 4,
   "id": "9100f343",
   "metadata": {},
   "outputs": [],
   "source": [
    "AWS_PROFILE=\"conte-prod\"\n",
    "AWS_REGION=\"us-west-2\"\n",
    "JOB_ROLE_ARN=\"arn:aws:iam::694155575325:role/fpe-prod-sagemaker-execution-role\"\n",
    "\n",
    "session = boto3.Session(profile_name=AWS_PROFILE)\n",
    "s3 = session.client(\"s3\")"
   ]
  },
  {
   "cell_type": "code",
   "execution_count": 5,
   "id": "25f6568d",
   "metadata": {},
   "outputs": [
    {
     "name": "stdout",
     "output_type": "stream",
     "text": [
      "sagemaker.config INFO - Not applying SDK defaults from location: /etc/xdg/sagemaker/config.yaml\n",
      "sagemaker.config INFO - Not applying SDK defaults from location: /home/jdwalker/.config/sagemaker/config.yaml\n"
     ]
    }
   ],
   "source": [
    "def timestamp():\n",
    "    return time.strftime(\"%Y%m%d-%H%M%S\")\n",
    "\n",
    "def get_batch_creds(session, role_arn):\n",
    "    sts = session.client(\"sts\")\n",
    "    response = sts.assume_role(\n",
    "        RoleArn=role_arn,\n",
    "        RoleSessionName=f\"fpe-sagemaker-session--{timestamp()}\"\n",
    "    )\n",
    "    return response['Credentials']\n",
    "\n",
    "creds = get_batch_creds(session, JOB_ROLE_ARN)\n",
    "sm_boto_session = boto3.Session(\n",
    "    aws_access_key_id=creds['AccessKeyId'],\n",
    "    aws_secret_access_key=creds['SecretAccessKey'],\n",
    "    aws_session_token=creds['SessionToken'],\n",
    "    region_name=AWS_REGION\n",
    ")\n",
    "\n",
    "sm_session = sagemaker.Session(boto_session = sm_boto_session)"
   ]
  },
  {
   "cell_type": "code",
   "execution_count": 15,
   "id": "feeae8a4",
   "metadata": {},
   "outputs": [
    {
     "data": {
      "text/plain": [
       "('fpe-rank-WESTB0-20240328-215259',\n",
       " 's3://usgs-chs-conte-prod-fpe-models/rank/WESTB0/FLOW_CFS/20240327/models/20240328/input',\n",
       " 's3://usgs-chs-conte-prod-fpe-models/rank/WESTB0/FLOW_CFS/20240327/models/20240328/jobs',\n",
       " 's3://usgs-chs-conte-prod-fpe-models/rank/WESTB0/FLOW_CFS/20240327/models/20240328/checkpoints',\n",
       " 's3://usgs-chs-conte-prod-fpe-models/rank/WESTB0/FLOW_CFS/20240327/models/20240328/transform')"
      ]
     },
     "execution_count": 15,
     "metadata": {},
     "output_type": "execute_result"
    }
   ],
   "source": [
    "fpe_dir = f\"/mnt/d/fpe/rank\"\n",
    "station_name = \"West Brook 0_01171100\"\n",
    "station_alias = \"WESTB0\"\n",
    "\n",
    "variable = \"FLOW_CFS\"\n",
    "dataset_version = \"20240327\"\n",
    "model_version = \"20240328\"\n",
    "dataset_dir = f\"{fpe_dir}/{station_name}/{variable}/{dataset_version}\"\n",
    "model_dir = f\"{dataset_dir}/models/{model_version}\"\n",
    "job_name = f\"fpe-rank-{station_alias}-{timestamp()}\"\n",
    "\n",
    "if not os.path.exists(model_dir):\n",
    "    raise Exception(f\"model_dir not found ({model_dir})\")\n",
    "\n",
    "model_bucket = \"usgs-chs-conte-prod-fpe-models\"\n",
    "storage_bucket = \"usgs-chs-conte-prod-fpe-storage\"\n",
    "\n",
    "station_key = f\"rank/{station_alias}\"\n",
    "data_key = f\"{station_key}/{variable}/{dataset_version}\"\n",
    "model_key = f\"{data_key}/models/{model_version}\"\n",
    "input_key = f\"{model_key}/input\"\n",
    "jobs_key = f\"{model_key}/jobs\"\n",
    "checkpoints_key = f\"{model_key}/checkpoints\"\n",
    "transform_key = f\"{model_key}/transform\"\n",
    "\n",
    "input_path = f\"s3://{model_bucket}/{input_key}\"\n",
    "output_path = f\"s3://{model_bucket}/{jobs_key}\"\n",
    "checkpoint_path = f\"s3://{model_bucket}/{checkpoints_key}\"\n",
    "transform_path = f\"s3://{model_bucket}/{transform_key}\"\n",
    "(job_name, input_path, output_path, checkpoint_path, transform_path)"
   ]
  },
  {
   "cell_type": "code",
   "execution_count": 7,
   "id": "2cf3830e",
   "metadata": {},
   "outputs": [
    {
     "name": "stdout",
     "output_type": "stream",
     "text": [
      "uploading: annotations.csv -> rank/WESTB0/FLOW_CFS/20240327/models/20240328/input/annotations.csv\n",
      "uploading: images-months.png -> rank/WESTB0/FLOW_CFS/20240327/models/20240328/input/images-months.png\n",
      "uploading: images-ts.png -> rank/WESTB0/FLOW_CFS/20240327/models/20240328/input/images-ts.png\n",
      "uploading: images-values-cfd.png -> rank/WESTB0/FLOW_CFS/20240327/models/20240328/input/images-values-cfd.png\n",
      "uploading: images-values-hist.png -> rank/WESTB0/FLOW_CFS/20240327/models/20240328/input/images-values-hist.png\n",
      "uploading: images-values-ts.png -> rank/WESTB0/FLOW_CFS/20240327/models/20240328/input/images-values-ts.png\n",
      "uploading: images.csv -> rank/WESTB0/FLOW_CFS/20240327/models/20240328/input/images.csv\n",
      "uploading: manifest.json -> rank/WESTB0/FLOW_CFS/20240327/models/20240328/input/manifest.json\n",
      "uploading: pairs-timestamps.png -> rank/WESTB0/FLOW_CFS/20240327/models/20240328/input/pairs-timestamps.png\n",
      "uploading: pairs-values-delta.png -> rank/WESTB0/FLOW_CFS/20240327/models/20240328/input/pairs-values-delta.png\n",
      "uploading: pairs-values.png -> rank/WESTB0/FLOW_CFS/20240327/models/20240328/input/pairs-values.png\n",
      "uploading: pairs.csv -> rank/WESTB0/FLOW_CFS/20240327/models/20240328/input/pairs.csv\n",
      "uploading: rank-input.json -> rank/WESTB0/FLOW_CFS/20240327/models/20240328/input/rank-input.json\n"
     ]
    }
   ],
   "source": [
    "# upload input files to s3\n",
    "\n",
    "for subdir, dirs, files in os.walk(f\"{model_dir}/input\"):\n",
    "    for file in files:\n",
    "        s3_key = f\"{input_key}/{file}\"\n",
    "        print(f\"uploading: {file} -> {s3_key}\")\n",
    "        s3.upload_file(Filename=os.path.join(subdir, file), Bucket=model_bucket, Key=s3_key)"
   ]
  },
  {
   "cell_type": "code",
   "execution_count": 8,
   "id": "29f3c9c7",
   "metadata": {},
   "outputs": [],
   "source": [
    "# def timestamp():\n",
    "#     return time.strftime(\"%Y%m%d-%H%M%S\")\n",
    "\n",
    "# sts = session.client(\"sts\")\n",
    "# response = sts.assume_role(\n",
    "#     RoleArn=\"arn:aws:iam::694155575325:role/fpe-prod-batch-job-role\",\n",
    "#     RoleSessionName=f\"fpe-batch-session--{timestamp()}\"\n",
    "# )\n",
    "# creds = response['Credentials']\n",
    "# batch_boto_session = boto3.Session(\n",
    "#     aws_access_key_id=creds['AccessKeyId'],\n",
    "#     aws_secret_access_key=creds['SecretAccessKey'],\n",
    "#     aws_session_token=creds['SessionToken'],\n",
    "#     region_name=AWS_REGION\n",
    "# )\n",
    "# batch = batch_boto_session.client('batch')\n",
    "\n",
    "# batch.terminate_job(jobId=\"aaf02bed-6135-4bb3-bbe7-54f58237a7a0\", reason=\"running indefinitely\")"
   ]
  },
  {
   "cell_type": "markdown",
   "id": "7e903ac6",
   "metadata": {},
   "source": [
    "## Training"
   ]
  },
  {
   "cell_type": "code",
   "execution_count": 9,
   "id": "b6d650da-67eb-49dd-81bc-07ee38ff59a2",
   "metadata": {},
   "outputs": [],
   "source": [
    "from sagemaker.pytorch import PyTorch\n",
    "\n",
    "estimator = PyTorch(\n",
    "    entry_point=\"train.py\",\n",
    "    source_dir=\"src\",\n",
    "    py_version=\"py39\",\n",
    "    framework_version=\"1.13.1\",\n",
    "    role=\"arn:aws:iam::694155575325:role/fpe-prod-sagemaker-execution-role\",\n",
    "    instance_count=1,\n",
    "    instance_type=\"ml.p3.2xlarge\",\n",
    "    volume_size=100,\n",
    "    hyperparameters={\n",
    "        \"epochs\": 20\n",
    "    },\n",
    "    output_path=output_path,\n",
    "    checkpoint_s3_uri=checkpoint_path,\n",
    "    code_location=output_path,\n",
    "    disable_output_compression=False,\n",
    "    sagemaker_session=sm_session\n",
    ")"
   ]
  },
  {
   "cell_type": "code",
   "execution_count": 10,
   "id": "8b76c344-025b-42e8-b606-34c4f93f43ad",
   "metadata": {},
   "outputs": [
    {
     "data": {
      "text/plain": [
       "(<sagemaker.inputs.TrainingInput at 0x7f556e5ad1c0>,\n",
       " 's3://usgs-chs-conte-prod-fpe-models/rank/WESTB0/FLOW_CFS/20240327/models/20240328/input/manifest.json',\n",
       " 's3://usgs-chs-conte-prod-fpe-models/rank/WESTB0/FLOW_CFS/20240327/models/20240328/input')"
      ]
     },
     "execution_count": 10,
     "metadata": {},
     "output_type": "execute_result"
    }
   ],
   "source": [
    "from sagemaker.inputs import TrainingInput\n",
    "\n",
    "input_images = TrainingInput(\n",
    "    s3_data = f\"{input_path}/manifest.json\",\n",
    "    s3_data_type = \"ManifestFile\",\n",
    "    input_mode = \"File\"\n",
    ")\n",
    "(input_images, f\"{input_path}/manifest.json\", input_path)"
   ]
  },
  {
   "cell_type": "code",
   "execution_count": 16,
   "id": "bd8dd95e-9915-4e4e-9824-7a15d2f13281",
   "metadata": {},
   "outputs": [
    {
     "name": "stdout",
     "output_type": "stream",
     "text": [
      "Using provided s3_resource\n"
     ]
    },
    {
     "name": "stderr",
     "output_type": "stream",
     "text": [
      "INFO:sagemaker.image_uris:image_uri is not presented, retrieving image_uri based on instance_type, framework etc.\n",
      "INFO:sagemaker:Creating training-job with name: fpe-rank-WESTB0-20240328-215259\n"
     ]
    }
   ],
   "source": [
    "estimator.fit({ \"images\": input_images, \"values\": input_path }, job_name=job_name, wait=False)"
   ]
  },
  {
   "cell_type": "code",
   "execution_count": 13,
   "id": "62693c29",
   "metadata": {},
   "outputs": [],
   "source": [
    "# sm_session.stop_training_job(\"pytorch-training-2024-03-29-01-49-35-117\")"
   ]
  },
  {
   "cell_type": "markdown",
   "id": "14f08cb5",
   "metadata": {},
   "source": [
    "### Download Output"
   ]
  },
  {
   "cell_type": "code",
   "execution_count": 18,
   "id": "7243877f",
   "metadata": {},
   "outputs": [
    {
     "data": {
      "text/plain": [
       "{'id': 29,\n",
       " 'user_id': '0626d282-0267-40b0-8f17-214c8f72e551',\n",
       " 'name': 'West Brook 0_01171100',\n",
       " 'description': '50 feet downstream river left of pantry rd bridge.',\n",
       " 'latitude': 42.4143,\n",
       " 'longitude': -72.6293,\n",
       " 'timezone': 'US/Eastern',\n",
       " 'created_at': '2022-02-10 15:05:42',\n",
       " 'updated_at': '2023-01-20 14:41:21',\n",
       " 'private': False,\n",
       " 'nwis_id': '01171100',\n",
       " 'waterbody_type': 'ST',\n",
       " 'status': 'ACTIVE'}"
      ]
     },
     "execution_count": 18,
     "metadata": {},
     "output_type": "execute_result"
    }
   ],
   "source": [
    "with open(f\"{dataset_dir}/dataset/station.json\", \"r\") as f:\n",
    "    station = json.load(f)\n",
    "station"
   ]
  },
  {
   "cell_type": "code",
   "execution_count": 19,
   "id": "b860a6b0",
   "metadata": {},
   "outputs": [
    {
     "name": "stdout",
     "output_type": "stream",
     "text": [
      "job: fpe-rank-WESTB0-20240328-215259\n",
      "downloading: s3://usgs-chs-conte-prod-fpe-models/rank/WESTB0/FLOW_CFS/20240327/models/20240328/jobs/fpe-rank-WESTB0-20240328-215259/output/output.tar.gz -> /mnt/d/fpe/rank/West Brook 0_01171100/FLOW_CFS/20240327/models/20240328/output/output.tar.gz\n"
     ]
    },
    {
     "ename": "ClientError",
     "evalue": "An error occurred (404) when calling the HeadObject operation: Not Found",
     "output_type": "error",
     "traceback": [
      "\u001b[0;31m---------------------------------------------------------------------------\u001b[0m",
      "\u001b[0;31mClientError\u001b[0m                               Traceback (most recent call last)",
      "Cell \u001b[0;32mIn[19], line 15\u001b[0m\n\u001b[1;32m     12\u001b[0m     get_ipython()\u001b[38;5;241m.\u001b[39msystem(\u001b[38;5;124m'\u001b[39m\u001b[38;5;124mtar -xzvf \u001b[39m\u001b[38;5;132;01m{output_file}\u001b[39;00m\u001b[38;5;124m -C \u001b[39m\u001b[38;5;132;01m{output_dir}\u001b[39;00m\u001b[38;5;124m'\u001b[39m)\n\u001b[1;32m     13\u001b[0m     output_file\n\u001b[0;32m---> 15\u001b[0m \u001b[43mdownload_output\u001b[49m\u001b[43m(\u001b[49m\u001b[43msession\u001b[49m\u001b[43m,\u001b[49m\u001b[43m \u001b[49m\u001b[43mjob_name\u001b[49m\u001b[43m,\u001b[49m\u001b[43m \u001b[49m\u001b[43mjobs_key\u001b[49m\u001b[43m,\u001b[49m\u001b[43m \u001b[49m\u001b[43mmodel_dir\u001b[49m\u001b[43m)\u001b[49m\n",
      "Cell \u001b[0;32mIn[19], line 10\u001b[0m, in \u001b[0;36mdownload_output\u001b[0;34m(session, job_name, jobs_key, model_dir)\u001b[0m\n\u001b[1;32m      8\u001b[0m output_key \u001b[38;5;241m=\u001b[39m \u001b[38;5;124mf\u001b[39m\u001b[38;5;124m\"\u001b[39m\u001b[38;5;132;01m{\u001b[39;00mjobs_key\u001b[38;5;132;01m}\u001b[39;00m\u001b[38;5;124m/\u001b[39m\u001b[38;5;132;01m{\u001b[39;00mjob_name\u001b[38;5;132;01m}\u001b[39;00m\u001b[38;5;124m/output/output.tar.gz\u001b[39m\u001b[38;5;124m\"\u001b[39m\n\u001b[1;32m      9\u001b[0m \u001b[38;5;28mprint\u001b[39m(\u001b[38;5;124mf\u001b[39m\u001b[38;5;124m\"\u001b[39m\u001b[38;5;124mdownloading: s3://\u001b[39m\u001b[38;5;132;01m{\u001b[39;00mmodel_bucket\u001b[38;5;132;01m}\u001b[39;00m\u001b[38;5;124m/\u001b[39m\u001b[38;5;132;01m{\u001b[39;00moutput_key\u001b[38;5;132;01m}\u001b[39;00m\u001b[38;5;124m -> \u001b[39m\u001b[38;5;132;01m{\u001b[39;00moutput_file\u001b[38;5;132;01m}\u001b[39;00m\u001b[38;5;124m\"\u001b[39m)\n\u001b[0;32m---> 10\u001b[0m \u001b[43ms3\u001b[49m\u001b[38;5;241;43m.\u001b[39;49m\u001b[43mdownload_file\u001b[49m\u001b[43m(\u001b[49m\u001b[43mBucket\u001b[49m\u001b[38;5;241;43m=\u001b[39;49m\u001b[43mmodel_bucket\u001b[49m\u001b[43m,\u001b[49m\u001b[43m \u001b[49m\u001b[43mKey\u001b[49m\u001b[38;5;241;43m=\u001b[39;49m\u001b[43moutput_key\u001b[49m\u001b[43m,\u001b[49m\u001b[43m \u001b[49m\u001b[43mFilename\u001b[49m\u001b[38;5;241;43m=\u001b[39;49m\u001b[43moutput_file\u001b[49m\u001b[43m)\u001b[49m\n\u001b[1;32m     11\u001b[0m \u001b[38;5;28mprint\u001b[39m(\u001b[38;5;124mf\u001b[39m\u001b[38;5;124m\"\u001b[39m\u001b[38;5;124mextracting: \u001b[39m\u001b[38;5;132;01m{\u001b[39;00moutput_file\u001b[38;5;132;01m}\u001b[39;00m\u001b[38;5;124m -> \u001b[39m\u001b[38;5;132;01m{\u001b[39;00moutput_dir\u001b[38;5;132;01m}\u001b[39;00m\u001b[38;5;124m\"\u001b[39m)\n\u001b[1;32m     12\u001b[0m get_ipython()\u001b[38;5;241m.\u001b[39msystem(\u001b[38;5;124m'\u001b[39m\u001b[38;5;124mtar -xzvf \u001b[39m\u001b[38;5;132;01m{output_file}\u001b[39;00m\u001b[38;5;124m -C \u001b[39m\u001b[38;5;132;01m{output_dir}\u001b[39;00m\u001b[38;5;124m'\u001b[39m)\n",
      "File \u001b[0;32m~/miniconda3/envs/fpe-rank/lib/python3.9/site-packages/boto3/s3/inject.py:192\u001b[0m, in \u001b[0;36mdownload_file\u001b[0;34m(self, Bucket, Key, Filename, ExtraArgs, Callback, Config)\u001b[0m\n\u001b[1;32m    157\u001b[0m \u001b[38;5;250m\u001b[39m\u001b[38;5;124;03m\"\"\"Download an S3 object to a file.\u001b[39;00m\n\u001b[1;32m    158\u001b[0m \n\u001b[1;32m    159\u001b[0m \u001b[38;5;124;03mUsage::\u001b[39;00m\n\u001b[0;32m   (...)\u001b[0m\n\u001b[1;32m    189\u001b[0m \u001b[38;5;124;03m    transfer.\u001b[39;00m\n\u001b[1;32m    190\u001b[0m \u001b[38;5;124;03m\"\"\"\u001b[39;00m\n\u001b[1;32m    191\u001b[0m \u001b[38;5;28;01mwith\u001b[39;00m S3Transfer(\u001b[38;5;28mself\u001b[39m, Config) \u001b[38;5;28;01mas\u001b[39;00m transfer:\n\u001b[0;32m--> 192\u001b[0m     \u001b[38;5;28;01mreturn\u001b[39;00m \u001b[43mtransfer\u001b[49m\u001b[38;5;241;43m.\u001b[39;49m\u001b[43mdownload_file\u001b[49m\u001b[43m(\u001b[49m\n\u001b[1;32m    193\u001b[0m \u001b[43m        \u001b[49m\u001b[43mbucket\u001b[49m\u001b[38;5;241;43m=\u001b[39;49m\u001b[43mBucket\u001b[49m\u001b[43m,\u001b[49m\n\u001b[1;32m    194\u001b[0m \u001b[43m        \u001b[49m\u001b[43mkey\u001b[49m\u001b[38;5;241;43m=\u001b[39;49m\u001b[43mKey\u001b[49m\u001b[43m,\u001b[49m\n\u001b[1;32m    195\u001b[0m \u001b[43m        \u001b[49m\u001b[43mfilename\u001b[49m\u001b[38;5;241;43m=\u001b[39;49m\u001b[43mFilename\u001b[49m\u001b[43m,\u001b[49m\n\u001b[1;32m    196\u001b[0m \u001b[43m        \u001b[49m\u001b[43mextra_args\u001b[49m\u001b[38;5;241;43m=\u001b[39;49m\u001b[43mExtraArgs\u001b[49m\u001b[43m,\u001b[49m\n\u001b[1;32m    197\u001b[0m \u001b[43m        \u001b[49m\u001b[43mcallback\u001b[49m\u001b[38;5;241;43m=\u001b[39;49m\u001b[43mCallback\u001b[49m\u001b[43m,\u001b[49m\n\u001b[1;32m    198\u001b[0m \u001b[43m    \u001b[49m\u001b[43m)\u001b[49m\n",
      "File \u001b[0;32m~/miniconda3/envs/fpe-rank/lib/python3.9/site-packages/boto3/s3/transfer.py:405\u001b[0m, in \u001b[0;36mS3Transfer.download_file\u001b[0;34m(self, bucket, key, filename, extra_args, callback)\u001b[0m\n\u001b[1;32m    401\u001b[0m future \u001b[38;5;241m=\u001b[39m \u001b[38;5;28mself\u001b[39m\u001b[38;5;241m.\u001b[39m_manager\u001b[38;5;241m.\u001b[39mdownload(\n\u001b[1;32m    402\u001b[0m     bucket, key, filename, extra_args, subscribers\n\u001b[1;32m    403\u001b[0m )\n\u001b[1;32m    404\u001b[0m \u001b[38;5;28;01mtry\u001b[39;00m:\n\u001b[0;32m--> 405\u001b[0m     \u001b[43mfuture\u001b[49m\u001b[38;5;241;43m.\u001b[39;49m\u001b[43mresult\u001b[49m\u001b[43m(\u001b[49m\u001b[43m)\u001b[49m\n\u001b[1;32m    406\u001b[0m \u001b[38;5;66;03m# This is for backwards compatibility where when retries are\u001b[39;00m\n\u001b[1;32m    407\u001b[0m \u001b[38;5;66;03m# exceeded we need to throw the same error from boto3 instead of\u001b[39;00m\n\u001b[1;32m    408\u001b[0m \u001b[38;5;66;03m# s3transfer's built in RetriesExceededError as current users are\u001b[39;00m\n\u001b[1;32m    409\u001b[0m \u001b[38;5;66;03m# catching the boto3 one instead of the s3transfer exception to do\u001b[39;00m\n\u001b[1;32m    410\u001b[0m \u001b[38;5;66;03m# their own retries.\u001b[39;00m\n\u001b[1;32m    411\u001b[0m \u001b[38;5;28;01mexcept\u001b[39;00m S3TransferRetriesExceededError \u001b[38;5;28;01mas\u001b[39;00m e:\n",
      "File \u001b[0;32m~/miniconda3/envs/fpe-rank/lib/python3.9/site-packages/s3transfer/futures.py:103\u001b[0m, in \u001b[0;36mTransferFuture.result\u001b[0;34m(self)\u001b[0m\n\u001b[1;32m     98\u001b[0m \u001b[38;5;28;01mdef\u001b[39;00m \u001b[38;5;21mresult\u001b[39m(\u001b[38;5;28mself\u001b[39m):\n\u001b[1;32m     99\u001b[0m     \u001b[38;5;28;01mtry\u001b[39;00m:\n\u001b[1;32m    100\u001b[0m         \u001b[38;5;66;03m# Usually the result() method blocks until the transfer is done,\u001b[39;00m\n\u001b[1;32m    101\u001b[0m         \u001b[38;5;66;03m# however if a KeyboardInterrupt is raised we want want to exit\u001b[39;00m\n\u001b[1;32m    102\u001b[0m         \u001b[38;5;66;03m# out of this and propagate the exception.\u001b[39;00m\n\u001b[0;32m--> 103\u001b[0m         \u001b[38;5;28;01mreturn\u001b[39;00m \u001b[38;5;28;43mself\u001b[39;49m\u001b[38;5;241;43m.\u001b[39;49m\u001b[43m_coordinator\u001b[49m\u001b[38;5;241;43m.\u001b[39;49m\u001b[43mresult\u001b[49m\u001b[43m(\u001b[49m\u001b[43m)\u001b[49m\n\u001b[1;32m    104\u001b[0m     \u001b[38;5;28;01mexcept\u001b[39;00m \u001b[38;5;167;01mKeyboardInterrupt\u001b[39;00m \u001b[38;5;28;01mas\u001b[39;00m e:\n\u001b[1;32m    105\u001b[0m         \u001b[38;5;28mself\u001b[39m\u001b[38;5;241m.\u001b[39mcancel()\n",
      "File \u001b[0;32m~/miniconda3/envs/fpe-rank/lib/python3.9/site-packages/s3transfer/futures.py:266\u001b[0m, in \u001b[0;36mTransferCoordinator.result\u001b[0;34m(self)\u001b[0m\n\u001b[1;32m    263\u001b[0m \u001b[38;5;66;03m# Once done waiting, raise an exception if present or return the\u001b[39;00m\n\u001b[1;32m    264\u001b[0m \u001b[38;5;66;03m# final result.\u001b[39;00m\n\u001b[1;32m    265\u001b[0m \u001b[38;5;28;01mif\u001b[39;00m \u001b[38;5;28mself\u001b[39m\u001b[38;5;241m.\u001b[39m_exception:\n\u001b[0;32m--> 266\u001b[0m     \u001b[38;5;28;01mraise\u001b[39;00m \u001b[38;5;28mself\u001b[39m\u001b[38;5;241m.\u001b[39m_exception\n\u001b[1;32m    267\u001b[0m \u001b[38;5;28;01mreturn\u001b[39;00m \u001b[38;5;28mself\u001b[39m\u001b[38;5;241m.\u001b[39m_result\n",
      "File \u001b[0;32m~/miniconda3/envs/fpe-rank/lib/python3.9/site-packages/s3transfer/tasks.py:269\u001b[0m, in \u001b[0;36mSubmissionTask._main\u001b[0;34m(self, transfer_future, **kwargs)\u001b[0m\n\u001b[1;32m    265\u001b[0m     \u001b[38;5;28mself\u001b[39m\u001b[38;5;241m.\u001b[39m_transfer_coordinator\u001b[38;5;241m.\u001b[39mset_status_to_running()\n\u001b[1;32m    267\u001b[0m     \u001b[38;5;66;03m# Call the submit method to start submitting tasks to execute the\u001b[39;00m\n\u001b[1;32m    268\u001b[0m     \u001b[38;5;66;03m# transfer.\u001b[39;00m\n\u001b[0;32m--> 269\u001b[0m     \u001b[38;5;28;43mself\u001b[39;49m\u001b[38;5;241;43m.\u001b[39;49m\u001b[43m_submit\u001b[49m\u001b[43m(\u001b[49m\u001b[43mtransfer_future\u001b[49m\u001b[38;5;241;43m=\u001b[39;49m\u001b[43mtransfer_future\u001b[49m\u001b[43m,\u001b[49m\u001b[43m \u001b[49m\u001b[38;5;241;43m*\u001b[39;49m\u001b[38;5;241;43m*\u001b[39;49m\u001b[43mkwargs\u001b[49m\u001b[43m)\u001b[49m\n\u001b[1;32m    270\u001b[0m \u001b[38;5;28;01mexcept\u001b[39;00m \u001b[38;5;167;01mBaseException\u001b[39;00m \u001b[38;5;28;01mas\u001b[39;00m e:\n\u001b[1;32m    271\u001b[0m     \u001b[38;5;66;03m# If there was an exception raised during the submission of task\u001b[39;00m\n\u001b[1;32m    272\u001b[0m     \u001b[38;5;66;03m# there is a chance that the final task that signals if a transfer\u001b[39;00m\n\u001b[0;32m   (...)\u001b[0m\n\u001b[1;32m    281\u001b[0m \n\u001b[1;32m    282\u001b[0m     \u001b[38;5;66;03m# Set the exception, that caused the process to fail.\u001b[39;00m\n\u001b[1;32m    283\u001b[0m     \u001b[38;5;28mself\u001b[39m\u001b[38;5;241m.\u001b[39m_log_and_set_exception(e)\n",
      "File \u001b[0;32m~/miniconda3/envs/fpe-rank/lib/python3.9/site-packages/s3transfer/download.py:354\u001b[0m, in \u001b[0;36mDownloadSubmissionTask._submit\u001b[0;34m(self, client, config, osutil, request_executor, io_executor, transfer_future, bandwidth_limiter)\u001b[0m\n\u001b[1;32m    325\u001b[0m \u001b[38;5;250m\u001b[39m\u001b[38;5;124;03m\"\"\"\u001b[39;00m\n\u001b[1;32m    326\u001b[0m \u001b[38;5;124;03m:param client: The client associated with the transfer manager\u001b[39;00m\n\u001b[1;32m    327\u001b[0m \n\u001b[0;32m   (...)\u001b[0m\n\u001b[1;32m    349\u001b[0m \u001b[38;5;124;03m    downloading streams\u001b[39;00m\n\u001b[1;32m    350\u001b[0m \u001b[38;5;124;03m\"\"\"\u001b[39;00m\n\u001b[1;32m    351\u001b[0m \u001b[38;5;28;01mif\u001b[39;00m transfer_future\u001b[38;5;241m.\u001b[39mmeta\u001b[38;5;241m.\u001b[39msize \u001b[38;5;129;01mis\u001b[39;00m \u001b[38;5;28;01mNone\u001b[39;00m:\n\u001b[1;32m    352\u001b[0m     \u001b[38;5;66;03m# If a size was not provided figure out the size for the\u001b[39;00m\n\u001b[1;32m    353\u001b[0m     \u001b[38;5;66;03m# user.\u001b[39;00m\n\u001b[0;32m--> 354\u001b[0m     response \u001b[38;5;241m=\u001b[39m \u001b[43mclient\u001b[49m\u001b[38;5;241;43m.\u001b[39;49m\u001b[43mhead_object\u001b[49m\u001b[43m(\u001b[49m\n\u001b[1;32m    355\u001b[0m \u001b[43m        \u001b[49m\u001b[43mBucket\u001b[49m\u001b[38;5;241;43m=\u001b[39;49m\u001b[43mtransfer_future\u001b[49m\u001b[38;5;241;43m.\u001b[39;49m\u001b[43mmeta\u001b[49m\u001b[38;5;241;43m.\u001b[39;49m\u001b[43mcall_args\u001b[49m\u001b[38;5;241;43m.\u001b[39;49m\u001b[43mbucket\u001b[49m\u001b[43m,\u001b[49m\n\u001b[1;32m    356\u001b[0m \u001b[43m        \u001b[49m\u001b[43mKey\u001b[49m\u001b[38;5;241;43m=\u001b[39;49m\u001b[43mtransfer_future\u001b[49m\u001b[38;5;241;43m.\u001b[39;49m\u001b[43mmeta\u001b[49m\u001b[38;5;241;43m.\u001b[39;49m\u001b[43mcall_args\u001b[49m\u001b[38;5;241;43m.\u001b[39;49m\u001b[43mkey\u001b[49m\u001b[43m,\u001b[49m\n\u001b[1;32m    357\u001b[0m \u001b[43m        \u001b[49m\u001b[38;5;241;43m*\u001b[39;49m\u001b[38;5;241;43m*\u001b[39;49m\u001b[43mtransfer_future\u001b[49m\u001b[38;5;241;43m.\u001b[39;49m\u001b[43mmeta\u001b[49m\u001b[38;5;241;43m.\u001b[39;49m\u001b[43mcall_args\u001b[49m\u001b[38;5;241;43m.\u001b[39;49m\u001b[43mextra_args\u001b[49m\u001b[43m,\u001b[49m\n\u001b[1;32m    358\u001b[0m \u001b[43m    \u001b[49m\u001b[43m)\u001b[49m\n\u001b[1;32m    359\u001b[0m     transfer_future\u001b[38;5;241m.\u001b[39mmeta\u001b[38;5;241m.\u001b[39mprovide_transfer_size(\n\u001b[1;32m    360\u001b[0m         response[\u001b[38;5;124m'\u001b[39m\u001b[38;5;124mContentLength\u001b[39m\u001b[38;5;124m'\u001b[39m]\n\u001b[1;32m    361\u001b[0m     )\n\u001b[1;32m    363\u001b[0m download_output_manager \u001b[38;5;241m=\u001b[39m \u001b[38;5;28mself\u001b[39m\u001b[38;5;241m.\u001b[39m_get_download_output_manager_cls(\n\u001b[1;32m    364\u001b[0m     transfer_future, osutil\n\u001b[1;32m    365\u001b[0m )(osutil, \u001b[38;5;28mself\u001b[39m\u001b[38;5;241m.\u001b[39m_transfer_coordinator, io_executor)\n",
      "File \u001b[0;32m~/miniconda3/envs/fpe-rank/lib/python3.9/site-packages/botocore/client.py:565\u001b[0m, in \u001b[0;36mClientCreator._create_api_method.<locals>._api_call\u001b[0;34m(self, *args, **kwargs)\u001b[0m\n\u001b[1;32m    561\u001b[0m     \u001b[38;5;28;01mraise\u001b[39;00m \u001b[38;5;167;01mTypeError\u001b[39;00m(\n\u001b[1;32m    562\u001b[0m         \u001b[38;5;124mf\u001b[39m\u001b[38;5;124m\"\u001b[39m\u001b[38;5;132;01m{\u001b[39;00mpy_operation_name\u001b[38;5;132;01m}\u001b[39;00m\u001b[38;5;124m() only accepts keyword arguments.\u001b[39m\u001b[38;5;124m\"\u001b[39m\n\u001b[1;32m    563\u001b[0m     )\n\u001b[1;32m    564\u001b[0m \u001b[38;5;66;03m# The \"self\" in this scope is referring to the BaseClient.\u001b[39;00m\n\u001b[0;32m--> 565\u001b[0m \u001b[38;5;28;01mreturn\u001b[39;00m \u001b[38;5;28;43mself\u001b[39;49m\u001b[38;5;241;43m.\u001b[39;49m\u001b[43m_make_api_call\u001b[49m\u001b[43m(\u001b[49m\u001b[43moperation_name\u001b[49m\u001b[43m,\u001b[49m\u001b[43m \u001b[49m\u001b[43mkwargs\u001b[49m\u001b[43m)\u001b[49m\n",
      "File \u001b[0;32m~/miniconda3/envs/fpe-rank/lib/python3.9/site-packages/botocore/client.py:1021\u001b[0m, in \u001b[0;36mBaseClient._make_api_call\u001b[0;34m(self, operation_name, api_params)\u001b[0m\n\u001b[1;32m   1017\u001b[0m     error_code \u001b[38;5;241m=\u001b[39m error_info\u001b[38;5;241m.\u001b[39mget(\u001b[38;5;124m\"\u001b[39m\u001b[38;5;124mQueryErrorCode\u001b[39m\u001b[38;5;124m\"\u001b[39m) \u001b[38;5;129;01mor\u001b[39;00m error_info\u001b[38;5;241m.\u001b[39mget(\n\u001b[1;32m   1018\u001b[0m         \u001b[38;5;124m\"\u001b[39m\u001b[38;5;124mCode\u001b[39m\u001b[38;5;124m\"\u001b[39m\n\u001b[1;32m   1019\u001b[0m     )\n\u001b[1;32m   1020\u001b[0m     error_class \u001b[38;5;241m=\u001b[39m \u001b[38;5;28mself\u001b[39m\u001b[38;5;241m.\u001b[39mexceptions\u001b[38;5;241m.\u001b[39mfrom_code(error_code)\n\u001b[0;32m-> 1021\u001b[0m     \u001b[38;5;28;01mraise\u001b[39;00m error_class(parsed_response, operation_name)\n\u001b[1;32m   1022\u001b[0m \u001b[38;5;28;01melse\u001b[39;00m:\n\u001b[1;32m   1023\u001b[0m     \u001b[38;5;28;01mreturn\u001b[39;00m parsed_response\n",
      "\u001b[0;31mClientError\u001b[0m: An error occurred (404) when calling the HeadObject operation: Not Found"
     ]
    }
   ],
   "source": [
    "def download_output(session, job_name, jobs_key, model_dir):\n",
    "    s3 = session.client(\"s3\")\n",
    "    output_dir = f\"{model_dir}/output\"\n",
    "    if not os.path.exists(output_dir):\n",
    "        os.makedirs(output_dir)\n",
    "    output_file = f\"{output_dir}/output.tar.gz\"\n",
    "    print(f\"job: {job_name}\")\n",
    "    output_key = f\"{jobs_key}/{job_name}/output/output.tar.gz\"\n",
    "    print(f\"downloading: s3://{model_bucket}/{output_key} -> {output_file}\")\n",
    "    s3.download_file(Bucket=model_bucket, Key=output_key, Filename=output_file)\n",
    "    print(f\"extracting: {output_file} -> {output_dir}\")\n",
    "    !tar -xzvf {output_file} -C {output_dir}\n",
    "    output_file\n",
    "\n",
    "download_output(session, job_name, jobs_key, model_dir)"
   ]
  },
  {
   "cell_type": "markdown",
   "id": "ff74e6da",
   "metadata": {},
   "source": [
    "## Batch Transform"
   ]
  },
  {
   "cell_type": "code",
   "execution_count": 17,
   "id": "97f6a94c",
   "metadata": {},
   "outputs": [
    {
     "ename": "NameError",
     "evalue": "name 'station_dir' is not defined",
     "output_type": "error",
     "traceback": [
      "\u001b[0;31m---------------------------------------------------------------------------\u001b[0m",
      "\u001b[0;31mNameError\u001b[0m                                 Traceback (most recent call last)",
      "Cell \u001b[0;32mIn[17], line 1\u001b[0m\n\u001b[0;32m----> 1\u001b[0m \u001b[38;5;28;01mwith\u001b[39;00m \u001b[38;5;28mopen\u001b[39m(\u001b[38;5;124mf\u001b[39m\u001b[38;5;124m\"\u001b[39m\u001b[38;5;132;01m{\u001b[39;00mstation_dir\u001b[38;5;132;01m}\u001b[39;00m\u001b[38;5;124m/data/station.json\u001b[39m\u001b[38;5;124m\"\u001b[39m, \u001b[38;5;124m\"\u001b[39m\u001b[38;5;124mr\u001b[39m\u001b[38;5;124m\"\u001b[39m) \u001b[38;5;28;01mas\u001b[39;00m f:\n\u001b[1;32m      2\u001b[0m     station \u001b[38;5;241m=\u001b[39m json\u001b[38;5;241m.\u001b[39mload(f)\n\u001b[1;32m      3\u001b[0m station\n",
      "\u001b[0;31mNameError\u001b[0m: name 'station_dir' is not defined"
     ]
    }
   ],
   "source": []
  },
  {
   "cell_type": "code",
   "execution_count": 58,
   "id": "aeaa29e4",
   "metadata": {},
   "outputs": [],
   "source": []
  },
  {
   "cell_type": "code",
   "execution_count": 59,
   "id": "11eb5131",
   "metadata": {},
   "outputs": [
    {
     "name": "stdout",
     "output_type": "stream",
     "text": [
      "job: fpe-rank-2023-10-26-19-59-36-250\n",
      "downloading: s3://usgs-chs-conte-prod-fpe-models/rank/01651770/20231026/jobs/fpe-rank-2023-10-26-19-59-36-250/output/output.tar.gz -> D:/fpe/sites/01651770/models/20231026/output/output.tar.gz\n",
      "extracting: D:/fpe/sites/01651770/models/20231026/output/output.tar.gz -> D:/fpe/sites/01651770/models/20231026/output\n"
     ]
    },
    {
     "name": "stderr",
     "output_type": "stream",
     "text": [
      "x args.json\n",
      "x metrics.csv\n"
     ]
    }
   ],
   "source": []
  },
  {
   "cell_type": "code",
   "execution_count": 60,
   "id": "a9feef7c",
   "metadata": {},
   "outputs": [
    {
     "name": "stdout",
     "output_type": "stream",
     "text": [
      "rows: 16363\n"
     ]
    }
   ],
   "source": [
    "transform_images_file = f\"{model_dir}/input/images.csv\"\n",
    "transform_images = pd.read_csv(transform_images_file)\n",
    "transform_images[\"timestamp\"] = pd.to_datetime(transform_images[\"timestamp\"]).dt.tz_convert(station[\"timezone\"])\n",
    "print(f\"rows: {len(transform_images)}\")"
   ]
  },
  {
   "cell_type": "code",
   "execution_count": 61,
   "id": "d7465f42",
   "metadata": {},
   "outputs": [
    {
     "data": {
      "text/html": [
       "<div>\n",
       "<style scoped>\n",
       "    .dataframe tbody tr th:only-of-type {\n",
       "        vertical-align: middle;\n",
       "    }\n",
       "\n",
       "    .dataframe tbody tr th {\n",
       "        vertical-align: top;\n",
       "    }\n",
       "\n",
       "    .dataframe thead th {\n",
       "        text-align: right;\n",
       "    }\n",
       "</style>\n",
       "<table border=\"1\" class=\"dataframe\">\n",
       "  <thead>\n",
       "    <tr style=\"text-align: right;\">\n",
       "      <th></th>\n",
       "      <th>hour</th>\n",
       "      <th>count</th>\n",
       "    </tr>\n",
       "  </thead>\n",
       "  <tbody>\n",
       "    <tr>\n",
       "      <th>0</th>\n",
       "      <td>7</td>\n",
       "      <td>1346</td>\n",
       "    </tr>\n",
       "    <tr>\n",
       "      <th>1</th>\n",
       "      <td>8</td>\n",
       "      <td>1365</td>\n",
       "    </tr>\n",
       "    <tr>\n",
       "      <th>2</th>\n",
       "      <td>9</td>\n",
       "      <td>1364</td>\n",
       "    </tr>\n",
       "    <tr>\n",
       "      <th>3</th>\n",
       "      <td>10</td>\n",
       "      <td>1364</td>\n",
       "    </tr>\n",
       "    <tr>\n",
       "      <th>4</th>\n",
       "      <td>11</td>\n",
       "      <td>1365</td>\n",
       "    </tr>\n",
       "    <tr>\n",
       "      <th>5</th>\n",
       "      <td>12</td>\n",
       "      <td>1368</td>\n",
       "    </tr>\n",
       "    <tr>\n",
       "      <th>6</th>\n",
       "      <td>13</td>\n",
       "      <td>1368</td>\n",
       "    </tr>\n",
       "    <tr>\n",
       "      <th>7</th>\n",
       "      <td>14</td>\n",
       "      <td>1369</td>\n",
       "    </tr>\n",
       "    <tr>\n",
       "      <th>8</th>\n",
       "      <td>15</td>\n",
       "      <td>1370</td>\n",
       "    </tr>\n",
       "    <tr>\n",
       "      <th>9</th>\n",
       "      <td>16</td>\n",
       "      <td>1370</td>\n",
       "    </tr>\n",
       "    <tr>\n",
       "      <th>10</th>\n",
       "      <td>17</td>\n",
       "      <td>1365</td>\n",
       "    </tr>\n",
       "    <tr>\n",
       "      <th>11</th>\n",
       "      <td>18</td>\n",
       "      <td>1349</td>\n",
       "    </tr>\n",
       "  </tbody>\n",
       "</table>\n",
       "</div>"
      ],
      "text/plain": [
       "    hour  count\n",
       "0      7   1346\n",
       "1      8   1365\n",
       "2      9   1364\n",
       "3     10   1364\n",
       "4     11   1365\n",
       "5     12   1368\n",
       "6     13   1368\n",
       "7     14   1369\n",
       "8     15   1370\n",
       "9     16   1370\n",
       "10    17   1365\n",
       "11    18   1349"
      ]
     },
     "execution_count": 61,
     "metadata": {},
     "output_type": "execute_result"
    }
   ],
   "source": [
    "transform_images[\"hour\"] = transform_images[\"timestamp\"].dt.hour\n",
    "transform_images.groupby(\"hour\").size().reset_index(name=\"count\")"
   ]
  },
  {
   "cell_type": "code",
   "execution_count": 62,
   "id": "d476d207",
   "metadata": {},
   "outputs": [
    {
     "data": {
      "text/html": [
       "<div>\n",
       "<style scoped>\n",
       "    .dataframe tbody tr th:only-of-type {\n",
       "        vertical-align: middle;\n",
       "    }\n",
       "\n",
       "    .dataframe tbody tr th {\n",
       "        vertical-align: top;\n",
       "    }\n",
       "\n",
       "    .dataframe thead th {\n",
       "        text-align: right;\n",
       "    }\n",
       "</style>\n",
       "<table border=\"1\" class=\"dataframe\">\n",
       "  <thead>\n",
       "    <tr style=\"text-align: right;\">\n",
       "      <th></th>\n",
       "      <th>month</th>\n",
       "      <th>count</th>\n",
       "    </tr>\n",
       "  </thead>\n",
       "  <tbody>\n",
       "    <tr>\n",
       "      <th>0</th>\n",
       "      <td>1</td>\n",
       "      <td>1858</td>\n",
       "    </tr>\n",
       "    <tr>\n",
       "      <th>1</th>\n",
       "      <td>2</td>\n",
       "      <td>1680</td>\n",
       "    </tr>\n",
       "    <tr>\n",
       "      <th>2</th>\n",
       "      <td>3</td>\n",
       "      <td>1860</td>\n",
       "    </tr>\n",
       "    <tr>\n",
       "      <th>3</th>\n",
       "      <td>4</td>\n",
       "      <td>1799</td>\n",
       "    </tr>\n",
       "    <tr>\n",
       "      <th>4</th>\n",
       "      <td>5</td>\n",
       "      <td>1860</td>\n",
       "    </tr>\n",
       "    <tr>\n",
       "      <th>5</th>\n",
       "      <td>6</td>\n",
       "      <td>1800</td>\n",
       "    </tr>\n",
       "    <tr>\n",
       "      <th>6</th>\n",
       "      <td>7</td>\n",
       "      <td>1860</td>\n",
       "    </tr>\n",
       "    <tr>\n",
       "      <th>7</th>\n",
       "      <td>8</td>\n",
       "      <td>240</td>\n",
       "    </tr>\n",
       "    <tr>\n",
       "      <th>8</th>\n",
       "      <td>10</td>\n",
       "      <td>112</td>\n",
       "    </tr>\n",
       "    <tr>\n",
       "      <th>9</th>\n",
       "      <td>11</td>\n",
       "      <td>1436</td>\n",
       "    </tr>\n",
       "    <tr>\n",
       "      <th>10</th>\n",
       "      <td>12</td>\n",
       "      <td>1858</td>\n",
       "    </tr>\n",
       "  </tbody>\n",
       "</table>\n",
       "</div>"
      ],
      "text/plain": [
       "    month  count\n",
       "0       1   1858\n",
       "1       2   1680\n",
       "2       3   1860\n",
       "3       4   1799\n",
       "4       5   1860\n",
       "5       6   1800\n",
       "6       7   1860\n",
       "7       8    240\n",
       "8      10    112\n",
       "9      11   1436\n",
       "10     12   1858"
      ]
     },
     "execution_count": 62,
     "metadata": {},
     "output_type": "execute_result"
    }
   ],
   "source": [
    "transform_images[\"month\"] = transform_images[\"timestamp\"].dt.month\n",
    "transform_images.groupby(\"month\").size().reset_index(name=\"count\")"
   ]
  },
  {
   "cell_type": "code",
   "execution_count": 63,
   "id": "e9816821",
   "metadata": {},
   "outputs": [],
   "source": [
    "transform_images = transform_images[transform_images[\"timestamp\"].dt.hour.between(7, 18)]\n",
    "transform_images[\"timestamp\"] = transform_images[\"timestamp\"].dt.tz_convert(\"UTC\")\n",
    "transform_images.to_csv(f\"{model_dir}/input/images.csv\", index=False)"
   ]
  },
  {
   "cell_type": "code",
   "execution_count": 64,
   "id": "a3dfbd3e",
   "metadata": {},
   "outputs": [
    {
     "name": "stdout",
     "output_type": "stream",
     "text": [
      "uploading: D:/fpe/sites/01651770/models/20231026/input/images.csv -> rank/01651770/20231026/transform/images.csv\n"
     ]
    }
   ],
   "source": [
    "s3_key = f\"{transform_key}/images.csv\"\n",
    "print(f\"uploading: {transform_images_file} -> {s3_key}\")\n",
    "s3.upload_file(Filename=transform_images_file, Bucket=model_bucket, Key=s3_key)"
   ]
  },
  {
   "cell_type": "code",
   "execution_count": 65,
   "id": "f2239dac",
   "metadata": {},
   "outputs": [
    {
     "data": {
      "text/html": [
       "<div>\n",
       "<style scoped>\n",
       "    .dataframe tbody tr th:only-of-type {\n",
       "        vertical-align: middle;\n",
       "    }\n",
       "\n",
       "    .dataframe tbody tr th {\n",
       "        vertical-align: top;\n",
       "    }\n",
       "\n",
       "    .dataframe thead th {\n",
       "        text-align: right;\n",
       "    }\n",
       "</style>\n",
       "<table border=\"1\" class=\"dataframe\">\n",
       "  <thead>\n",
       "    <tr style=\"text-align: right;\">\n",
       "      <th></th>\n",
       "      <th>station_name</th>\n",
       "      <th>station_id</th>\n",
       "      <th>imageset_id</th>\n",
       "      <th>image_id</th>\n",
       "      <th>timestamp</th>\n",
       "      <th>filename</th>\n",
       "      <th>url</th>\n",
       "      <th>flow_cfs</th>\n",
       "      <th>hour</th>\n",
       "      <th>month</th>\n",
       "    </tr>\n",
       "  </thead>\n",
       "  <tbody>\n",
       "    <tr>\n",
       "      <th>0</th>\n",
       "      <td>01651770 HICKEY RUN AT NATIONAL ARBORETUM</td>\n",
       "      <td>79</td>\n",
       "      <td>610</td>\n",
       "      <td>1036972</td>\n",
       "      <td>2022-10-26 18:30:00+00:00</td>\n",
       "      <td>imagesets/2ae2fe0a-8d71-45a7-b3fe-902455392131...</td>\n",
       "      <td>https://usgs-chs-conte-prod-fpe-storage.s3.ama...</td>\n",
       "      <td>0.14</td>\n",
       "      <td>14</td>\n",
       "      <td>10</td>\n",
       "    </tr>\n",
       "    <tr>\n",
       "      <th>1</th>\n",
       "      <td>01651770 HICKEY RUN AT NATIONAL ARBORETUM</td>\n",
       "      <td>79</td>\n",
       "      <td>610</td>\n",
       "      <td>1036973</td>\n",
       "      <td>2022-10-26 19:00:00+00:00</td>\n",
       "      <td>imagesets/2ae2fe0a-8d71-45a7-b3fe-902455392131...</td>\n",
       "      <td>https://usgs-chs-conte-prod-fpe-storage.s3.ama...</td>\n",
       "      <td>0.14</td>\n",
       "      <td>15</td>\n",
       "      <td>10</td>\n",
       "    </tr>\n",
       "    <tr>\n",
       "      <th>2</th>\n",
       "      <td>01651770 HICKEY RUN AT NATIONAL ARBORETUM</td>\n",
       "      <td>79</td>\n",
       "      <td>610</td>\n",
       "      <td>1036974</td>\n",
       "      <td>2022-10-26 19:30:00+00:00</td>\n",
       "      <td>imagesets/2ae2fe0a-8d71-45a7-b3fe-902455392131...</td>\n",
       "      <td>https://usgs-chs-conte-prod-fpe-storage.s3.ama...</td>\n",
       "      <td>0.14</td>\n",
       "      <td>15</td>\n",
       "      <td>10</td>\n",
       "    </tr>\n",
       "    <tr>\n",
       "      <th>3</th>\n",
       "      <td>01651770 HICKEY RUN AT NATIONAL ARBORETUM</td>\n",
       "      <td>79</td>\n",
       "      <td>610</td>\n",
       "      <td>1036975</td>\n",
       "      <td>2022-10-26 20:00:00+00:00</td>\n",
       "      <td>imagesets/2ae2fe0a-8d71-45a7-b3fe-902455392131...</td>\n",
       "      <td>https://usgs-chs-conte-prod-fpe-storage.s3.ama...</td>\n",
       "      <td>0.16</td>\n",
       "      <td>16</td>\n",
       "      <td>10</td>\n",
       "    </tr>\n",
       "    <tr>\n",
       "      <th>4</th>\n",
       "      <td>01651770 HICKEY RUN AT NATIONAL ARBORETUM</td>\n",
       "      <td>79</td>\n",
       "      <td>610</td>\n",
       "      <td>1036976</td>\n",
       "      <td>2022-10-26 20:30:00+00:00</td>\n",
       "      <td>imagesets/2ae2fe0a-8d71-45a7-b3fe-902455392131...</td>\n",
       "      <td>https://usgs-chs-conte-prod-fpe-storage.s3.ama...</td>\n",
       "      <td>0.14</td>\n",
       "      <td>16</td>\n",
       "      <td>10</td>\n",
       "    </tr>\n",
       "    <tr>\n",
       "      <th>...</th>\n",
       "      <td>...</td>\n",
       "      <td>...</td>\n",
       "      <td>...</td>\n",
       "      <td>...</td>\n",
       "      <td>...</td>\n",
       "      <td>...</td>\n",
       "      <td>...</td>\n",
       "      <td>...</td>\n",
       "      <td>...</td>\n",
       "      <td>...</td>\n",
       "    </tr>\n",
       "    <tr>\n",
       "      <th>16358</th>\n",
       "      <td>01651770 HICKEY RUN AT NATIONAL ARBORETUM</td>\n",
       "      <td>79</td>\n",
       "      <td>1991</td>\n",
       "      <td>2793662</td>\n",
       "      <td>2023-08-04 22:00:00+00:00</td>\n",
       "      <td>imagesets/5a130b49-b468-4e7d-a36b-5b6ee4d90452...</td>\n",
       "      <td>https://usgs-chs-conte-prod-fpe-storage.s3.ama...</td>\n",
       "      <td>0.28</td>\n",
       "      <td>18</td>\n",
       "      <td>8</td>\n",
       "    </tr>\n",
       "    <tr>\n",
       "      <th>16359</th>\n",
       "      <td>01651770 HICKEY RUN AT NATIONAL ARBORETUM</td>\n",
       "      <td>79</td>\n",
       "      <td>1991</td>\n",
       "      <td>2793664</td>\n",
       "      <td>2023-08-04 22:12:00+00:00</td>\n",
       "      <td>imagesets/5a130b49-b468-4e7d-a36b-5b6ee4d90452...</td>\n",
       "      <td>https://usgs-chs-conte-prod-fpe-storage.s3.ama...</td>\n",
       "      <td>0.28</td>\n",
       "      <td>18</td>\n",
       "      <td>8</td>\n",
       "    </tr>\n",
       "    <tr>\n",
       "      <th>16360</th>\n",
       "      <td>01651770 HICKEY RUN AT NATIONAL ARBORETUM</td>\n",
       "      <td>79</td>\n",
       "      <td>1991</td>\n",
       "      <td>2793666</td>\n",
       "      <td>2023-08-04 22:24:00+00:00</td>\n",
       "      <td>imagesets/5a130b49-b468-4e7d-a36b-5b6ee4d90452...</td>\n",
       "      <td>https://usgs-chs-conte-prod-fpe-storage.s3.ama...</td>\n",
       "      <td>0.28</td>\n",
       "      <td>18</td>\n",
       "      <td>8</td>\n",
       "    </tr>\n",
       "    <tr>\n",
       "      <th>16361</th>\n",
       "      <td>01651770 HICKEY RUN AT NATIONAL ARBORETUM</td>\n",
       "      <td>79</td>\n",
       "      <td>1991</td>\n",
       "      <td>2793669</td>\n",
       "      <td>2023-08-04 22:36:00+00:00</td>\n",
       "      <td>imagesets/5a130b49-b468-4e7d-a36b-5b6ee4d90452...</td>\n",
       "      <td>https://usgs-chs-conte-prod-fpe-storage.s3.ama...</td>\n",
       "      <td>0.26</td>\n",
       "      <td>18</td>\n",
       "      <td>8</td>\n",
       "    </tr>\n",
       "    <tr>\n",
       "      <th>16362</th>\n",
       "      <td>01651770 HICKEY RUN AT NATIONAL ARBORETUM</td>\n",
       "      <td>79</td>\n",
       "      <td>1991</td>\n",
       "      <td>2793671</td>\n",
       "      <td>2023-08-04 22:48:00+00:00</td>\n",
       "      <td>imagesets/5a130b49-b468-4e7d-a36b-5b6ee4d90452...</td>\n",
       "      <td>https://usgs-chs-conte-prod-fpe-storage.s3.ama...</td>\n",
       "      <td>0.26</td>\n",
       "      <td>18</td>\n",
       "      <td>8</td>\n",
       "    </tr>\n",
       "  </tbody>\n",
       "</table>\n",
       "<p>16363 rows × 10 columns</p>\n",
       "</div>"
      ],
      "text/plain": [
       "                                    station_name  station_id  imageset_id  \\\n",
       "0      01651770 HICKEY RUN AT NATIONAL ARBORETUM          79          610   \n",
       "1      01651770 HICKEY RUN AT NATIONAL ARBORETUM          79          610   \n",
       "2      01651770 HICKEY RUN AT NATIONAL ARBORETUM          79          610   \n",
       "3      01651770 HICKEY RUN AT NATIONAL ARBORETUM          79          610   \n",
       "4      01651770 HICKEY RUN AT NATIONAL ARBORETUM          79          610   \n",
       "...                                          ...         ...          ...   \n",
       "16358  01651770 HICKEY RUN AT NATIONAL ARBORETUM          79         1991   \n",
       "16359  01651770 HICKEY RUN AT NATIONAL ARBORETUM          79         1991   \n",
       "16360  01651770 HICKEY RUN AT NATIONAL ARBORETUM          79         1991   \n",
       "16361  01651770 HICKEY RUN AT NATIONAL ARBORETUM          79         1991   \n",
       "16362  01651770 HICKEY RUN AT NATIONAL ARBORETUM          79         1991   \n",
       "\n",
       "       image_id                 timestamp  \\\n",
       "0       1036972 2022-10-26 18:30:00+00:00   \n",
       "1       1036973 2022-10-26 19:00:00+00:00   \n",
       "2       1036974 2022-10-26 19:30:00+00:00   \n",
       "3       1036975 2022-10-26 20:00:00+00:00   \n",
       "4       1036976 2022-10-26 20:30:00+00:00   \n",
       "...         ...                       ...   \n",
       "16358   2793662 2023-08-04 22:00:00+00:00   \n",
       "16359   2793664 2023-08-04 22:12:00+00:00   \n",
       "16360   2793666 2023-08-04 22:24:00+00:00   \n",
       "16361   2793669 2023-08-04 22:36:00+00:00   \n",
       "16362   2793671 2023-08-04 22:48:00+00:00   \n",
       "\n",
       "                                                filename  \\\n",
       "0      imagesets/2ae2fe0a-8d71-45a7-b3fe-902455392131...   \n",
       "1      imagesets/2ae2fe0a-8d71-45a7-b3fe-902455392131...   \n",
       "2      imagesets/2ae2fe0a-8d71-45a7-b3fe-902455392131...   \n",
       "3      imagesets/2ae2fe0a-8d71-45a7-b3fe-902455392131...   \n",
       "4      imagesets/2ae2fe0a-8d71-45a7-b3fe-902455392131...   \n",
       "...                                                  ...   \n",
       "16358  imagesets/5a130b49-b468-4e7d-a36b-5b6ee4d90452...   \n",
       "16359  imagesets/5a130b49-b468-4e7d-a36b-5b6ee4d90452...   \n",
       "16360  imagesets/5a130b49-b468-4e7d-a36b-5b6ee4d90452...   \n",
       "16361  imagesets/5a130b49-b468-4e7d-a36b-5b6ee4d90452...   \n",
       "16362  imagesets/5a130b49-b468-4e7d-a36b-5b6ee4d90452...   \n",
       "\n",
       "                                                     url  flow_cfs  hour  \\\n",
       "0      https://usgs-chs-conte-prod-fpe-storage.s3.ama...      0.14    14   \n",
       "1      https://usgs-chs-conte-prod-fpe-storage.s3.ama...      0.14    15   \n",
       "2      https://usgs-chs-conte-prod-fpe-storage.s3.ama...      0.14    15   \n",
       "3      https://usgs-chs-conte-prod-fpe-storage.s3.ama...      0.16    16   \n",
       "4      https://usgs-chs-conte-prod-fpe-storage.s3.ama...      0.14    16   \n",
       "...                                                  ...       ...   ...   \n",
       "16358  https://usgs-chs-conte-prod-fpe-storage.s3.ama...      0.28    18   \n",
       "16359  https://usgs-chs-conte-prod-fpe-storage.s3.ama...      0.28    18   \n",
       "16360  https://usgs-chs-conte-prod-fpe-storage.s3.ama...      0.28    18   \n",
       "16361  https://usgs-chs-conte-prod-fpe-storage.s3.ama...      0.26    18   \n",
       "16362  https://usgs-chs-conte-prod-fpe-storage.s3.ama...      0.26    18   \n",
       "\n",
       "       month  \n",
       "0         10  \n",
       "1         10  \n",
       "2         10  \n",
       "3         10  \n",
       "4         10  \n",
       "...      ...  \n",
       "16358      8  \n",
       "16359      8  \n",
       "16360      8  \n",
       "16361      8  \n",
       "16362      8  \n",
       "\n",
       "[16363 rows x 10 columns]"
      ]
     },
     "execution_count": 65,
     "metadata": {},
     "output_type": "execute_result"
    }
   ],
   "source": [
    "transform_images"
   ]
  },
  {
   "cell_type": "code",
   "execution_count": 66,
   "id": "393cafc5",
   "metadata": {},
   "outputs": [
    {
     "name": "stdout",
     "output_type": "stream",
     "text": [
      "uploading transform manifest: rank/01651770/20231026/transform/manifest.json (n = 16363)\n"
     ]
    },
    {
     "data": {
      "text/plain": [
       "{'ResponseMetadata': {'RequestId': 'NXHVJP1HD7C4QE69',\n",
       "  'HostId': 'o3suoY98LakWiRjfHKLnf1gUPpkC2Na3/Kq341K5NdZVWXrEa1dDydcefAm8KxCRf1PFF5hrv4DZkePzXXLx1Q==',\n",
       "  'HTTPStatusCode': 200,\n",
       "  'HTTPHeaders': {'x-amz-id-2': 'o3suoY98LakWiRjfHKLnf1gUPpkC2Na3/Kq341K5NdZVWXrEa1dDydcefAm8KxCRf1PFF5hrv4DZkePzXXLx1Q==',\n",
       "   'x-amz-request-id': 'NXHVJP1HD7C4QE69',\n",
       "   'date': 'Thu, 26 Oct 2023 22:58:12 GMT',\n",
       "   'x-amz-server-side-encryption': 'AES256',\n",
       "   'etag': '\"94b537f0a7d1275f65ca68b4bffdcd29\"',\n",
       "   'server': 'AmazonS3',\n",
       "   'content-length': '0'},\n",
       "  'RetryAttempts': 0},\n",
       " 'ETag': '\"94b537f0a7d1275f65ca68b4bffdcd29\"',\n",
       " 'ServerSideEncryption': 'AES256'}"
      ]
     },
     "execution_count": 66,
     "metadata": {},
     "output_type": "execute_result"
    }
   ],
   "source": [
    "manifest = transform_images['filename'].to_list()\n",
    "manifest.insert(0, {\"prefix\": f\"s3://{storage_bucket}/\"})\n",
    "\n",
    "manifest_key = f\"{transform_key}/manifest.json\"\n",
    "body = json.dumps(manifest)\n",
    "print(f\"uploading transform manifest: {manifest_key} (n = {len(manifest) - 1})\")\n",
    "s3.put_object(Bucket=model_bucket, Key=manifest_key, Body=body)"
   ]
  },
  {
   "cell_type": "code",
   "execution_count": 67,
   "id": "69b826e5",
   "metadata": {},
   "outputs": [
    {
     "data": {
      "text/plain": [
       "'s3://usgs-chs-conte-prod-fpe-models/rank/01651770/20231026/jobs/fpe-rank-2023-10-26-19-59-36-250/output/model.tar.gz'"
      ]
     },
     "execution_count": 67,
     "metadata": {},
     "output_type": "execute_result"
    }
   ],
   "source": [
    "with open(f\"{model_dir}/job.txt\", \"r\") as f:\n",
    "    job_name = f.readline().strip()\n",
    "model_path = f\"{output_path}/{job_name}/output/model.tar.gz\"\n",
    "model_path"
   ]
  },
  {
   "cell_type": "code",
   "execution_count": 68,
   "id": "2eb28f08",
   "metadata": {},
   "outputs": [
    {
     "data": {
      "text/plain": [
       "<sagemaker.pytorch.model.PyTorchModel at 0x1a341109280>"
      ]
     },
     "execution_count": 68,
     "metadata": {},
     "output_type": "execute_result"
    }
   ],
   "source": [
    "from sagemaker.pytorch.model import PyTorchModel\n",
    "\n",
    "pytorch_model = PyTorchModel(\n",
    "    model_data=model_path,\n",
    "    role=\"arn:aws:iam::694155575325:role/fpe-prod-sagemaker-execution-role\",\n",
    "    py_version=\"py38\",\n",
    "    framework_version=\"1.12\",\n",
    "    source_dir=\"src/\",\n",
    "    entry_point=\"transform.py\",\n",
    "    sagemaker_session = sm_session\n",
    ")\n",
    "pytorch_model"
   ]
  },
  {
   "cell_type": "code",
   "execution_count": 69,
   "id": "ffbb72cc",
   "metadata": {},
   "outputs": [
    {
     "name": "stderr",
     "output_type": "stream",
     "text": [
      "INFO:sagemaker:Repacking model artifact (s3://usgs-chs-conte-prod-fpe-models/rank/01651770/20231026/jobs/fpe-rank-2023-10-26-19-59-36-250/output/model.tar.gz), script artifact (src/), and dependencies ([]) into single tar.gz file located at s3://sagemaker-us-west-2-694155575325/pytorch-inference-2023-10-26-22-58-16-275/model.tar.gz. This may take some time depending on model size...\n"
     ]
    },
    {
     "name": "stderr",
     "output_type": "stream",
     "text": [
      "INFO:sagemaker:Creating model with name: pytorch-inference-2023-10-26-22-58-52-069\n"
     ]
    },
    {
     "data": {
      "text/plain": [
       "(<sagemaker.transformer.Transformer at 0x1a341ff6a00>,\n",
       " 's3://usgs-chs-conte-prod-fpe-models/rank/01651770/20231026/transform')"
      ]
     },
     "execution_count": 69,
     "metadata": {},
     "output_type": "execute_result"
    }
   ],
   "source": [
    "transformer = pytorch_model.transformer(\n",
    "    instance_count=1,\n",
    "    instance_type=\"ml.c5.xlarge\",\n",
    "    output_path=transform_path\n",
    ")\n",
    "(transformer,transform_path)"
   ]
  },
  {
   "cell_type": "code",
   "execution_count": 70,
   "id": "9479ade3",
   "metadata": {},
   "outputs": [
    {
     "name": "stderr",
     "output_type": "stream",
     "text": [
      "INFO:sagemaker:Creating transform job with name: pytorch-inference-2023-10-26-22-58-59-941\n"
     ]
    }
   ],
   "source": [
    "transformer.transform(\n",
    "    data=f\"{transform_path}/manifest.json\",\n",
    "    data_type=\"ManifestFile\",\n",
    "    content_type=\"image/jpg\",\n",
    "    wait=False,\n",
    ")"
   ]
  },
  {
   "cell_type": "code",
   "execution_count": 132,
   "id": "6c6ce644",
   "metadata": {},
   "outputs": [
    {
     "name": "stderr",
     "output_type": "stream",
     "text": [
      "INFO:sagemaker:Stopping transform job: pytorch-inference-2023-09-29-00-44-57-671\n"
     ]
    }
   ],
   "source": [
    "sm_session.stop_transform_job(\"pytorch-inference-2023-09-29-00-44-57-671\")"
   ]
  },
  {
   "cell_type": "markdown",
   "id": "1e5cdd03",
   "metadata": {},
   "source": [
    "## Process Transform Output"
   ]
  },
  {
   "cell_type": "code",
   "execution_count": 71,
   "id": "0939b456",
   "metadata": {},
   "outputs": [],
   "source": [
    "def process_transform_output (session, site, model_id, job_size = 5000, root_dir = \"D:/fpe/sites\"):\n",
    "    lambda_client = session.client(\"lambda\")\n",
    "    transform_prefix = f\"rank/{site}/{model_id}/transform\"\n",
    "    df = pd.read_csv(f\"{root_dir}/{site}/models/{model_id}/input/images.csv\")\n",
    "    skip = 0\n",
    "    while skip < len(df):\n",
    "        payload = {\n",
    "            \"action\": \"process_transform_output\",\n",
    "            \"bucket_name\": model_bucket,\n",
    "            \"data_file\": f\"{transform_prefix}/images.csv\",\n",
    "            \"data_prefix\": transform_prefix,\n",
    "            \"output_prefix\": transform_prefix,\n",
    "            \"n\": job_size,\n",
    "            \"skip\": skip\n",
    "        }\n",
    "        print(f\"invoke: skip={skip}, n={job_size} ({skip} to {skip + job_size - 1})\")\n",
    "        lambda_client.invoke(\n",
    "            FunctionName=\"fpe-prod-lambda-models\",\n",
    "            InvocationType=\"Event\",\n",
    "            Payload=json.dumps(payload)\n",
    "        )\n",
    "        skip += job_size\n",
    "    return df"
   ]
  },
  {
   "cell_type": "code",
   "execution_count": 75,
   "id": "14825b5d",
   "metadata": {},
   "outputs": [
    {
     "name": "stdout",
     "output_type": "stream",
     "text": [
      "invoke: skip=0, n=5000 (0 to 4999)\n",
      "invoke: skip=5000, n=5000 (5000 to 9999)\n",
      "invoke: skip=10000, n=5000 (10000 to 14999)\n",
      "invoke: skip=15000, n=5000 (15000 to 19999)\n"
     ]
    },
    {
     "data": {
      "text/html": [
       "<div>\n",
       "<style scoped>\n",
       "    .dataframe tbody tr th:only-of-type {\n",
       "        vertical-align: middle;\n",
       "    }\n",
       "\n",
       "    .dataframe tbody tr th {\n",
       "        vertical-align: top;\n",
       "    }\n",
       "\n",
       "    .dataframe thead th {\n",
       "        text-align: right;\n",
       "    }\n",
       "</style>\n",
       "<table border=\"1\" class=\"dataframe\">\n",
       "  <thead>\n",
       "    <tr style=\"text-align: right;\">\n",
       "      <th></th>\n",
       "      <th>station_name</th>\n",
       "      <th>station_id</th>\n",
       "      <th>imageset_id</th>\n",
       "      <th>image_id</th>\n",
       "      <th>timestamp</th>\n",
       "      <th>filename</th>\n",
       "      <th>url</th>\n",
       "      <th>flow_cfs</th>\n",
       "      <th>hour</th>\n",
       "      <th>month</th>\n",
       "    </tr>\n",
       "  </thead>\n",
       "  <tbody>\n",
       "    <tr>\n",
       "      <th>0</th>\n",
       "      <td>01651770 HICKEY RUN AT NATIONAL ARBORETUM</td>\n",
       "      <td>79</td>\n",
       "      <td>610</td>\n",
       "      <td>1036972</td>\n",
       "      <td>2022-10-26 18:30:00+00:00</td>\n",
       "      <td>imagesets/2ae2fe0a-8d71-45a7-b3fe-902455392131...</td>\n",
       "      <td>https://usgs-chs-conte-prod-fpe-storage.s3.ama...</td>\n",
       "      <td>0.14</td>\n",
       "      <td>14</td>\n",
       "      <td>10</td>\n",
       "    </tr>\n",
       "    <tr>\n",
       "      <th>1</th>\n",
       "      <td>01651770 HICKEY RUN AT NATIONAL ARBORETUM</td>\n",
       "      <td>79</td>\n",
       "      <td>610</td>\n",
       "      <td>1036973</td>\n",
       "      <td>2022-10-26 19:00:00+00:00</td>\n",
       "      <td>imagesets/2ae2fe0a-8d71-45a7-b3fe-902455392131...</td>\n",
       "      <td>https://usgs-chs-conte-prod-fpe-storage.s3.ama...</td>\n",
       "      <td>0.14</td>\n",
       "      <td>15</td>\n",
       "      <td>10</td>\n",
       "    </tr>\n",
       "    <tr>\n",
       "      <th>2</th>\n",
       "      <td>01651770 HICKEY RUN AT NATIONAL ARBORETUM</td>\n",
       "      <td>79</td>\n",
       "      <td>610</td>\n",
       "      <td>1036974</td>\n",
       "      <td>2022-10-26 19:30:00+00:00</td>\n",
       "      <td>imagesets/2ae2fe0a-8d71-45a7-b3fe-902455392131...</td>\n",
       "      <td>https://usgs-chs-conte-prod-fpe-storage.s3.ama...</td>\n",
       "      <td>0.14</td>\n",
       "      <td>15</td>\n",
       "      <td>10</td>\n",
       "    </tr>\n",
       "    <tr>\n",
       "      <th>3</th>\n",
       "      <td>01651770 HICKEY RUN AT NATIONAL ARBORETUM</td>\n",
       "      <td>79</td>\n",
       "      <td>610</td>\n",
       "      <td>1036975</td>\n",
       "      <td>2022-10-26 20:00:00+00:00</td>\n",
       "      <td>imagesets/2ae2fe0a-8d71-45a7-b3fe-902455392131...</td>\n",
       "      <td>https://usgs-chs-conte-prod-fpe-storage.s3.ama...</td>\n",
       "      <td>0.16</td>\n",
       "      <td>16</td>\n",
       "      <td>10</td>\n",
       "    </tr>\n",
       "    <tr>\n",
       "      <th>4</th>\n",
       "      <td>01651770 HICKEY RUN AT NATIONAL ARBORETUM</td>\n",
       "      <td>79</td>\n",
       "      <td>610</td>\n",
       "      <td>1036976</td>\n",
       "      <td>2022-10-26 20:30:00+00:00</td>\n",
       "      <td>imagesets/2ae2fe0a-8d71-45a7-b3fe-902455392131...</td>\n",
       "      <td>https://usgs-chs-conte-prod-fpe-storage.s3.ama...</td>\n",
       "      <td>0.14</td>\n",
       "      <td>16</td>\n",
       "      <td>10</td>\n",
       "    </tr>\n",
       "    <tr>\n",
       "      <th>...</th>\n",
       "      <td>...</td>\n",
       "      <td>...</td>\n",
       "      <td>...</td>\n",
       "      <td>...</td>\n",
       "      <td>...</td>\n",
       "      <td>...</td>\n",
       "      <td>...</td>\n",
       "      <td>...</td>\n",
       "      <td>...</td>\n",
       "      <td>...</td>\n",
       "    </tr>\n",
       "    <tr>\n",
       "      <th>16358</th>\n",
       "      <td>01651770 HICKEY RUN AT NATIONAL ARBORETUM</td>\n",
       "      <td>79</td>\n",
       "      <td>1991</td>\n",
       "      <td>2793662</td>\n",
       "      <td>2023-08-04 22:00:00+00:00</td>\n",
       "      <td>imagesets/5a130b49-b468-4e7d-a36b-5b6ee4d90452...</td>\n",
       "      <td>https://usgs-chs-conte-prod-fpe-storage.s3.ama...</td>\n",
       "      <td>0.28</td>\n",
       "      <td>18</td>\n",
       "      <td>8</td>\n",
       "    </tr>\n",
       "    <tr>\n",
       "      <th>16359</th>\n",
       "      <td>01651770 HICKEY RUN AT NATIONAL ARBORETUM</td>\n",
       "      <td>79</td>\n",
       "      <td>1991</td>\n",
       "      <td>2793664</td>\n",
       "      <td>2023-08-04 22:12:00+00:00</td>\n",
       "      <td>imagesets/5a130b49-b468-4e7d-a36b-5b6ee4d90452...</td>\n",
       "      <td>https://usgs-chs-conte-prod-fpe-storage.s3.ama...</td>\n",
       "      <td>0.28</td>\n",
       "      <td>18</td>\n",
       "      <td>8</td>\n",
       "    </tr>\n",
       "    <tr>\n",
       "      <th>16360</th>\n",
       "      <td>01651770 HICKEY RUN AT NATIONAL ARBORETUM</td>\n",
       "      <td>79</td>\n",
       "      <td>1991</td>\n",
       "      <td>2793666</td>\n",
       "      <td>2023-08-04 22:24:00+00:00</td>\n",
       "      <td>imagesets/5a130b49-b468-4e7d-a36b-5b6ee4d90452...</td>\n",
       "      <td>https://usgs-chs-conte-prod-fpe-storage.s3.ama...</td>\n",
       "      <td>0.28</td>\n",
       "      <td>18</td>\n",
       "      <td>8</td>\n",
       "    </tr>\n",
       "    <tr>\n",
       "      <th>16361</th>\n",
       "      <td>01651770 HICKEY RUN AT NATIONAL ARBORETUM</td>\n",
       "      <td>79</td>\n",
       "      <td>1991</td>\n",
       "      <td>2793669</td>\n",
       "      <td>2023-08-04 22:36:00+00:00</td>\n",
       "      <td>imagesets/5a130b49-b468-4e7d-a36b-5b6ee4d90452...</td>\n",
       "      <td>https://usgs-chs-conte-prod-fpe-storage.s3.ama...</td>\n",
       "      <td>0.26</td>\n",
       "      <td>18</td>\n",
       "      <td>8</td>\n",
       "    </tr>\n",
       "    <tr>\n",
       "      <th>16362</th>\n",
       "      <td>01651770 HICKEY RUN AT NATIONAL ARBORETUM</td>\n",
       "      <td>79</td>\n",
       "      <td>1991</td>\n",
       "      <td>2793671</td>\n",
       "      <td>2023-08-04 22:48:00+00:00</td>\n",
       "      <td>imagesets/5a130b49-b468-4e7d-a36b-5b6ee4d90452...</td>\n",
       "      <td>https://usgs-chs-conte-prod-fpe-storage.s3.ama...</td>\n",
       "      <td>0.26</td>\n",
       "      <td>18</td>\n",
       "      <td>8</td>\n",
       "    </tr>\n",
       "  </tbody>\n",
       "</table>\n",
       "<p>16363 rows × 10 columns</p>\n",
       "</div>"
      ],
      "text/plain": [
       "                                    station_name  station_id  imageset_id  \\\n",
       "0      01651770 HICKEY RUN AT NATIONAL ARBORETUM          79          610   \n",
       "1      01651770 HICKEY RUN AT NATIONAL ARBORETUM          79          610   \n",
       "2      01651770 HICKEY RUN AT NATIONAL ARBORETUM          79          610   \n",
       "3      01651770 HICKEY RUN AT NATIONAL ARBORETUM          79          610   \n",
       "4      01651770 HICKEY RUN AT NATIONAL ARBORETUM          79          610   \n",
       "...                                          ...         ...          ...   \n",
       "16358  01651770 HICKEY RUN AT NATIONAL ARBORETUM          79         1991   \n",
       "16359  01651770 HICKEY RUN AT NATIONAL ARBORETUM          79         1991   \n",
       "16360  01651770 HICKEY RUN AT NATIONAL ARBORETUM          79         1991   \n",
       "16361  01651770 HICKEY RUN AT NATIONAL ARBORETUM          79         1991   \n",
       "16362  01651770 HICKEY RUN AT NATIONAL ARBORETUM          79         1991   \n",
       "\n",
       "       image_id                  timestamp  \\\n",
       "0       1036972  2022-10-26 18:30:00+00:00   \n",
       "1       1036973  2022-10-26 19:00:00+00:00   \n",
       "2       1036974  2022-10-26 19:30:00+00:00   \n",
       "3       1036975  2022-10-26 20:00:00+00:00   \n",
       "4       1036976  2022-10-26 20:30:00+00:00   \n",
       "...         ...                        ...   \n",
       "16358   2793662  2023-08-04 22:00:00+00:00   \n",
       "16359   2793664  2023-08-04 22:12:00+00:00   \n",
       "16360   2793666  2023-08-04 22:24:00+00:00   \n",
       "16361   2793669  2023-08-04 22:36:00+00:00   \n",
       "16362   2793671  2023-08-04 22:48:00+00:00   \n",
       "\n",
       "                                                filename  \\\n",
       "0      imagesets/2ae2fe0a-8d71-45a7-b3fe-902455392131...   \n",
       "1      imagesets/2ae2fe0a-8d71-45a7-b3fe-902455392131...   \n",
       "2      imagesets/2ae2fe0a-8d71-45a7-b3fe-902455392131...   \n",
       "3      imagesets/2ae2fe0a-8d71-45a7-b3fe-902455392131...   \n",
       "4      imagesets/2ae2fe0a-8d71-45a7-b3fe-902455392131...   \n",
       "...                                                  ...   \n",
       "16358  imagesets/5a130b49-b468-4e7d-a36b-5b6ee4d90452...   \n",
       "16359  imagesets/5a130b49-b468-4e7d-a36b-5b6ee4d90452...   \n",
       "16360  imagesets/5a130b49-b468-4e7d-a36b-5b6ee4d90452...   \n",
       "16361  imagesets/5a130b49-b468-4e7d-a36b-5b6ee4d90452...   \n",
       "16362  imagesets/5a130b49-b468-4e7d-a36b-5b6ee4d90452...   \n",
       "\n",
       "                                                     url  flow_cfs  hour  \\\n",
       "0      https://usgs-chs-conte-prod-fpe-storage.s3.ama...      0.14    14   \n",
       "1      https://usgs-chs-conte-prod-fpe-storage.s3.ama...      0.14    15   \n",
       "2      https://usgs-chs-conte-prod-fpe-storage.s3.ama...      0.14    15   \n",
       "3      https://usgs-chs-conte-prod-fpe-storage.s3.ama...      0.16    16   \n",
       "4      https://usgs-chs-conte-prod-fpe-storage.s3.ama...      0.14    16   \n",
       "...                                                  ...       ...   ...   \n",
       "16358  https://usgs-chs-conte-prod-fpe-storage.s3.ama...      0.28    18   \n",
       "16359  https://usgs-chs-conte-prod-fpe-storage.s3.ama...      0.28    18   \n",
       "16360  https://usgs-chs-conte-prod-fpe-storage.s3.ama...      0.28    18   \n",
       "16361  https://usgs-chs-conte-prod-fpe-storage.s3.ama...      0.26    18   \n",
       "16362  https://usgs-chs-conte-prod-fpe-storage.s3.ama...      0.26    18   \n",
       "\n",
       "       month  \n",
       "0         10  \n",
       "1         10  \n",
       "2         10  \n",
       "3         10  \n",
       "4         10  \n",
       "...      ...  \n",
       "16358      8  \n",
       "16359      8  \n",
       "16360      8  \n",
       "16361      8  \n",
       "16362      8  \n",
       "\n",
       "[16363 rows x 10 columns]"
      ]
     },
     "execution_count": 75,
     "metadata": {},
     "output_type": "execute_result"
    }
   ],
   "source": [
    "process_transform_output(session, \"01651770\", \"20231026\")"
   ]
  },
  {
   "cell_type": "code",
   "execution_count": 76,
   "id": "6fc52115",
   "metadata": {},
   "outputs": [],
   "source": [
    "def combine_predictions (session, site, model_id, job_size = 5000, root_dir = \"D:/fpe/sites\"):\n",
    "    s3 = session.client(\"s3\")\n",
    "    transform_prefix = f\"rank/{site}/{model_id}/transform\"\n",
    "    df = pd.read_csv(f\"{root_dir}/{site}/models/{model_id}/input/images.csv\")\n",
    "    keys = [f\"{transform_prefix}/predictions-{skip:05d}-{(skip + job_size - 1):05d}.csv\" for skip in range(0, len(df), job_size)]\n",
    "\n",
    "    dfs = []\n",
    "    for key in keys:\n",
    "        print(key)\n",
    "        csv_obj = s3.get_object(Bucket=model_bucket, Key=key)\n",
    "        csv_data = csv_obj['Body'].read().decode('utf-8')\n",
    "        dfs.append(pd.read_csv(StringIO(csv_data)))\n",
    "\n",
    "    df = pd.concat(dfs, ignore_index=True)\n",
    "\n",
    "    csv_buffer = StringIO()\n",
    "    df.to_csv(csv_buffer, index=False)\n",
    "    output_key = f\"{transform_key}/predictions.csv\"\n",
    "    s3.put_object(Body=csv_buffer.getvalue(), Bucket=model_bucket, Key=output_key)\n",
    "    transform_path = f\"{root_dir}/{site}/models/{model_id}/transform\"\n",
    "    if not os.path.exists(transform_path):\n",
    "        os.makedirs(transform_path)\n",
    "    df.to_csv(f\"{transform_path}/predictions.csv\", index=False)\n",
    "    df\n"
   ]
  },
  {
   "cell_type": "code",
   "execution_count": 79,
   "id": "054a3d08",
   "metadata": {},
   "outputs": [
    {
     "name": "stdout",
     "output_type": "stream",
     "text": [
      "rank/01651770/20231026/transform/predictions-00000-04999.csv\n",
      "rank/01651770/20231026/transform/predictions-05000-09999.csv\n",
      "rank/01651770/20231026/transform/predictions-10000-14999.csv\n",
      "rank/01651770/20231026/transform/predictions-15000-19999.csv\n"
     ]
    }
   ],
   "source": [
    "combine_predictions(session, \"01651770\", \"20231026\")"
   ]
  },
  {
   "cell_type": "code",
   "execution_count": null,
   "id": "bfc08c1b",
   "metadata": {},
   "outputs": [],
   "source": []
  }
 ],
 "metadata": {
  "kernelspec": {
   "display_name": "Python 3 (ipykernel)",
   "language": "python",
   "name": "python3"
  },
  "language_info": {
   "codemirror_mode": {
    "name": "ipython",
    "version": 3
   },
   "file_extension": ".py",
   "mimetype": "text/x-python",
   "name": "python",
   "nbconvert_exporter": "python",
   "pygments_lexer": "ipython3",
   "version": "3.9.19"
  }
 },
 "nbformat": 4,
 "nbformat_minor": 5
}
