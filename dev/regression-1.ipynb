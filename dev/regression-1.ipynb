{
 "cells": [
  {
   "cell_type": "code",
   "execution_count": 160,
   "id": "1fa016e2-0fe9-4c3c-9f6e-4578c91b0a22",
   "metadata": {},
   "outputs": [],
   "source": [
    "import os\n",
    "import pandas as pd\n",
    "import numpy as np\n",
    "import pickle\n",
    "import time\n",
    "import torch\n",
    "import torch.nn as nn\n",
    "import seaborn as sns\n",
    "import matplotlib.pyplot as plt\n",
    "from torch.utils.data import Dataset, DataLoader\n",
    "from torchvision.transforms import Resize, RandomCrop, RandomHorizontalFlip, RandomRotation, ColorJitter, CenterCrop, ToTensor, Normalize, Compose\n",
    "from torchvision.models import resnet18, resnet50\n",
    "\n",
    "from sklearn.model_selection import StratifiedShuffleSplit\n",
    "from tqdm.notebook import tqdm\n",
    "from PIL import Image as PILImage\n",
    "from PIL import ImageStat as PILImageStat\n",
    "\n",
    "pd.options.mode.chained_assignment = None\n",
    "\n",
    "name = 'parkers_brook'\n",
    "data_dir = 'data'\n",
    "\n",
    "site_dir = os.path.join(data_dir, name)\n",
    "images_dir =  os.path.join(site_dir, 'images')\n",
    "model_dir =  os.path.join(site_dir, 'model')\n",
    "pred_dir =  os.path.join(site_dir, 'pred')\n",
    "\n",
    "os.makedirs(model_dir, exist_ok=True)\n",
    "os.makedirs(pred_dir, exist_ok=True)"
   ]
  },
  {
   "cell_type": "code",
   "execution_count": 88,
   "id": "2ff36b06-66a1-46dc-8a23-b1c5bc93e8db",
   "metadata": {},
   "outputs": [
    {
     "data": {
      "text/html": [
       "<div>\n",
       "<style scoped>\n",
       "    .dataframe tbody tr th:only-of-type {\n",
       "        vertical-align: middle;\n",
       "    }\n",
       "\n",
       "    .dataframe tbody tr th {\n",
       "        vertical-align: top;\n",
       "    }\n",
       "\n",
       "    .dataframe thead th {\n",
       "        text-align: right;\n",
       "    }\n",
       "</style>\n",
       "<table border=\"1\" class=\"dataframe\">\n",
       "  <thead>\n",
       "    <tr style=\"text-align: right;\">\n",
       "      <th></th>\n",
       "      <th>filename</th>\n",
       "      <th>timestamp</th>\n",
       "      <th>flow_cfs</th>\n",
       "      <th>week</th>\n",
       "      <th>year</th>\n",
       "    </tr>\n",
       "  </thead>\n",
       "  <tbody>\n",
       "    <tr>\n",
       "      <th>5089</th>\n",
       "      <td>20190806_1300_ParkersBrook.jpg</td>\n",
       "      <td>2019-08-06 09:00:00-04:00</td>\n",
       "      <td>3.43</td>\n",
       "      <td>32</td>\n",
       "      <td>2019</td>\n",
       "    </tr>\n",
       "    <tr>\n",
       "      <th>1427</th>\n",
       "      <td>20180929_1300_ParkersBrook.JPG</td>\n",
       "      <td>2018-09-29 09:00:00-04:00</td>\n",
       "      <td>11.75</td>\n",
       "      <td>39</td>\n",
       "      <td>2018</td>\n",
       "    </tr>\n",
       "    <tr>\n",
       "      <th>4747</th>\n",
       "      <td>20190704_1500_ParkersBrook.jpg</td>\n",
       "      <td>2019-07-04 11:00:00-04:00</td>\n",
       "      <td>4.91</td>\n",
       "      <td>27</td>\n",
       "      <td>2019</td>\n",
       "    </tr>\n",
       "    <tr>\n",
       "      <th>4329</th>\n",
       "      <td>20190602_1300_ParkersBrook.jpg</td>\n",
       "      <td>2019-06-02 09:00:00-04:00</td>\n",
       "      <td>7.86</td>\n",
       "      <td>22</td>\n",
       "      <td>2019</td>\n",
       "    </tr>\n",
       "    <tr>\n",
       "      <th>2244</th>\n",
       "      <td>20181209_1000_ParkersBrook.JPG</td>\n",
       "      <td>2018-12-09 05:00:00-05:00</td>\n",
       "      <td>13.98</td>\n",
       "      <td>49</td>\n",
       "      <td>2018</td>\n",
       "    </tr>\n",
       "    <tr>\n",
       "      <th>...</th>\n",
       "      <td>...</td>\n",
       "      <td>...</td>\n",
       "      <td>...</td>\n",
       "      <td>...</td>\n",
       "      <td>...</td>\n",
       "    </tr>\n",
       "    <tr>\n",
       "      <th>712</th>\n",
       "      <td>20180806_0800_ParkersBrook.JPG</td>\n",
       "      <td>2018-08-06 04:00:00-04:00</td>\n",
       "      <td>14.97</td>\n",
       "      <td>32</td>\n",
       "      <td>2018</td>\n",
       "    </tr>\n",
       "    <tr>\n",
       "      <th>903</th>\n",
       "      <td>20180821_0700_ParkersBrook.JPG</td>\n",
       "      <td>2018-08-21 03:00:00-04:00</td>\n",
       "      <td>15.11</td>\n",
       "      <td>34</td>\n",
       "      <td>2018</td>\n",
       "    </tr>\n",
       "    <tr>\n",
       "      <th>771</th>\n",
       "      <td>20180810_1400_ParkersBrook.JPG</td>\n",
       "      <td>2018-08-10 10:00:00-04:00</td>\n",
       "      <td>14.50</td>\n",
       "      <td>32</td>\n",
       "      <td>2018</td>\n",
       "    </tr>\n",
       "    <tr>\n",
       "      <th>741</th>\n",
       "      <td>20180808_1100_ParkersBrook.JPG</td>\n",
       "      <td>2018-08-08 07:00:00-04:00</td>\n",
       "      <td>12.55</td>\n",
       "      <td>32</td>\n",
       "      <td>2018</td>\n",
       "    </tr>\n",
       "    <tr>\n",
       "      <th>3301</th>\n",
       "      <td>20190315_1600_ParkersBrook.jpg</td>\n",
       "      <td>2019-03-15 12:00:00-04:00</td>\n",
       "      <td>17.35</td>\n",
       "      <td>11</td>\n",
       "      <td>2019</td>\n",
       "    </tr>\n",
       "  </tbody>\n",
       "</table>\n",
       "<p>500 rows × 5 columns</p>\n",
       "</div>"
      ],
      "text/plain": [
       "                            filename                 timestamp  flow_cfs  \\\n",
       "5089  20190806_1300_ParkersBrook.jpg 2019-08-06 09:00:00-04:00      3.43   \n",
       "1427  20180929_1300_ParkersBrook.JPG 2018-09-29 09:00:00-04:00     11.75   \n",
       "4747  20190704_1500_ParkersBrook.jpg 2019-07-04 11:00:00-04:00      4.91   \n",
       "4329  20190602_1300_ParkersBrook.jpg 2019-06-02 09:00:00-04:00      7.86   \n",
       "2244  20181209_1000_ParkersBrook.JPG 2018-12-09 05:00:00-05:00     13.98   \n",
       "...                              ...                       ...       ...   \n",
       "712   20180806_0800_ParkersBrook.JPG 2018-08-06 04:00:00-04:00     14.97   \n",
       "903   20180821_0700_ParkersBrook.JPG 2018-08-21 03:00:00-04:00     15.11   \n",
       "771   20180810_1400_ParkersBrook.JPG 2018-08-10 10:00:00-04:00     14.50   \n",
       "741   20180808_1100_ParkersBrook.JPG 2018-08-08 07:00:00-04:00     12.55   \n",
       "3301  20190315_1600_ParkersBrook.jpg 2019-03-15 12:00:00-04:00     17.35   \n",
       "\n",
       "      week  year  \n",
       "5089    32  2019  \n",
       "1427    39  2018  \n",
       "4747    27  2019  \n",
       "4329    22  2019  \n",
       "2244    49  2018  \n",
       "...    ...   ...  \n",
       "712     32  2018  \n",
       "903     34  2018  \n",
       "771     32  2018  \n",
       "741     32  2018  \n",
       "3301    11  2019  \n",
       "\n",
       "[500 rows x 5 columns]"
      ]
     },
     "execution_count": 88,
     "metadata": {},
     "output_type": "execute_result"
    }
   ],
   "source": [
    "df = pd.read_csv(os.path.join(site_dir, 'images.csv'), dtype={'flow_cfs': np.float32})\n",
    "df['timestamp'] = pd.to_datetime(df['timestamp']).dt.tz_convert(tz='US/Eastern')\n",
    "df['week'] = df['timestamp'].dt.isocalendar().week\n",
    "df['year'] = df['timestamp'].dt.isocalendar().year\n",
    "df.sort_values(by='timestamp', inplace=True, ignore_index=True)\n",
    "df = df.sample(500, replace=False)\n",
    "df"
   ]
  },
  {
   "cell_type": "code",
   "execution_count": 89,
   "id": "31225331-78f8-4bf1-99a0-dbff50e63d41",
   "metadata": {},
   "outputs": [
    {
     "data": {
      "text/plain": [
       "filename                         object\n",
       "timestamp    datetime64[ns, US/Eastern]\n",
       "flow_cfs                        float32\n",
       "week                             UInt32\n",
       "year                             UInt32\n",
       "dtype: object"
      ]
     },
     "execution_count": 89,
     "metadata": {},
     "output_type": "execute_result"
    }
   ],
   "source": [
    "df.dtypes"
   ]
  },
  {
   "cell_type": "code",
   "execution_count": 90,
   "id": "e31f6aef-80ae-4140-94c9-438ed1ab981b",
   "metadata": {},
   "outputs": [
    {
     "data": {
      "text/html": [
       "<div>\n",
       "<style scoped>\n",
       "    .dataframe tbody tr th:only-of-type {\n",
       "        vertical-align: middle;\n",
       "    }\n",
       "\n",
       "    .dataframe tbody tr th {\n",
       "        vertical-align: top;\n",
       "    }\n",
       "\n",
       "    .dataframe thead th {\n",
       "        text-align: right;\n",
       "    }\n",
       "</style>\n",
       "<table border=\"1\" class=\"dataframe\">\n",
       "  <thead>\n",
       "    <tr style=\"text-align: right;\">\n",
       "      <th></th>\n",
       "      <th></th>\n",
       "      <th>mean_flow_cfs</th>\n",
       "    </tr>\n",
       "    <tr>\n",
       "      <th>year</th>\n",
       "      <th>week</th>\n",
       "      <th></th>\n",
       "    </tr>\n",
       "  </thead>\n",
       "  <tbody>\n",
       "    <tr>\n",
       "      <th rowspan=\"5\" valign=\"top\">2018</th>\n",
       "      <th>24</th>\n",
       "      <td>3.800000</td>\n",
       "    </tr>\n",
       "    <tr>\n",
       "      <th>25</th>\n",
       "      <td>3.633000</td>\n",
       "    </tr>\n",
       "    <tr>\n",
       "      <th>26</th>\n",
       "      <td>15.288000</td>\n",
       "    </tr>\n",
       "    <tr>\n",
       "      <th>27</th>\n",
       "      <td>11.696667</td>\n",
       "    </tr>\n",
       "    <tr>\n",
       "      <th>28</th>\n",
       "      <td>9.670000</td>\n",
       "    </tr>\n",
       "  </tbody>\n",
       "</table>\n",
       "</div>"
      ],
      "text/plain": [
       "           mean_flow_cfs\n",
       "year week               \n",
       "2018 24         3.800000\n",
       "     25         3.633000\n",
       "     26        15.288000\n",
       "     27        11.696667\n",
       "     28         9.670000"
      ]
     },
     "execution_count": 90,
     "metadata": {},
     "output_type": "execute_result"
    }
   ],
   "source": [
    "weekly_flow_means = df[['flow_cfs', 'year', 'week']].groupby(['year', 'week']).mean().rename(columns={'flow_cfs': 'mean_flow_cfs'})\n",
    "weekly_flow_means.head()"
   ]
  },
  {
   "cell_type": "code",
   "execution_count": 91,
   "id": "710d4dd0-2ce6-49a1-921c-b56df32d43b9",
   "metadata": {},
   "outputs": [
    {
     "data": {
      "text/plain": [
       "array([ 7.21149981, 16.29299974])"
      ]
     },
     "execution_count": 91,
     "metadata": {},
     "output_type": "execute_result"
    }
   ],
   "source": [
    "weekly_flow_quantiles = np.quantile(weekly_flow_means['mean_flow_cfs'].values, [.25, .75], axis=0)\n",
    "weekly_flow_quantiles"
   ]
  },
  {
   "cell_type": "code",
   "execution_count": 92,
   "id": "b5e51344-d9c1-439d-b6aa-6bfecd4b6f9b",
   "metadata": {},
   "outputs": [
    {
     "data": {
      "text/html": [
       "<div>\n",
       "<style scoped>\n",
       "    .dataframe tbody tr th:only-of-type {\n",
       "        vertical-align: middle;\n",
       "    }\n",
       "\n",
       "    .dataframe tbody tr th {\n",
       "        vertical-align: top;\n",
       "    }\n",
       "\n",
       "    .dataframe thead th {\n",
       "        text-align: right;\n",
       "    }\n",
       "</style>\n",
       "<table border=\"1\" class=\"dataframe\">\n",
       "  <thead>\n",
       "    <tr style=\"text-align: right;\">\n",
       "      <th></th>\n",
       "      <th></th>\n",
       "      <th>mean_flow_cfs</th>\n",
       "      <th>flow_class</th>\n",
       "      <th>week_index</th>\n",
       "    </tr>\n",
       "    <tr>\n",
       "      <th>year</th>\n",
       "      <th>week</th>\n",
       "      <th></th>\n",
       "      <th></th>\n",
       "      <th></th>\n",
       "    </tr>\n",
       "  </thead>\n",
       "  <tbody>\n",
       "    <tr>\n",
       "      <th rowspan=\"5\" valign=\"top\">2018</th>\n",
       "      <th>24</th>\n",
       "      <td>3.800000</td>\n",
       "      <td>low</td>\n",
       "      <td>0</td>\n",
       "    </tr>\n",
       "    <tr>\n",
       "      <th>25</th>\n",
       "      <td>3.633000</td>\n",
       "      <td>low</td>\n",
       "      <td>1</td>\n",
       "    </tr>\n",
       "    <tr>\n",
       "      <th>26</th>\n",
       "      <td>15.288000</td>\n",
       "      <td>med</td>\n",
       "      <td>2</td>\n",
       "    </tr>\n",
       "    <tr>\n",
       "      <th>27</th>\n",
       "      <td>11.696667</td>\n",
       "      <td>med</td>\n",
       "      <td>3</td>\n",
       "    </tr>\n",
       "    <tr>\n",
       "      <th>28</th>\n",
       "      <td>9.670000</td>\n",
       "      <td>med</td>\n",
       "      <td>4</td>\n",
       "    </tr>\n",
       "  </tbody>\n",
       "</table>\n",
       "</div>"
      ],
      "text/plain": [
       "           mean_flow_cfs flow_class  week_index\n",
       "year week                                      \n",
       "2018 24         3.800000        low           0\n",
       "     25         3.633000        low           1\n",
       "     26        15.288000        med           2\n",
       "     27        11.696667        med           3\n",
       "     28         9.670000        med           4"
      ]
     },
     "execution_count": 92,
     "metadata": {},
     "output_type": "execute_result"
    }
   ],
   "source": [
    "def classify(low_value, high_value, value):\n",
    "    if value <= low_value:\n",
    "        return 'low'\n",
    "    elif value >= high_value:\n",
    "        return 'high'\n",
    "    else:\n",
    "        return 'med'\n",
    "\n",
    "weekly_flow_means['flow_class'] = weekly_flow_means['mean_flow_cfs'].map(lambda x: classify(weekly_flow_quantiles[0], weekly_flow_quantiles[1], x))\n",
    "weekly_flow_means['week_index'] = range(len(weekly_flow_means.index))\n",
    "\n",
    "weekly_flow_means.head()"
   ]
  },
  {
   "cell_type": "code",
   "execution_count": 93,
   "id": "8add79c3-5b7d-4cd8-afaa-d0d5a62dd53b",
   "metadata": {},
   "outputs": [
    {
     "data": {
      "text/html": [
       "<div>\n",
       "<style scoped>\n",
       "    .dataframe tbody tr th:only-of-type {\n",
       "        vertical-align: middle;\n",
       "    }\n",
       "\n",
       "    .dataframe tbody tr th {\n",
       "        vertical-align: top;\n",
       "    }\n",
       "\n",
       "    .dataframe thead th {\n",
       "        text-align: right;\n",
       "    }\n",
       "</style>\n",
       "<table border=\"1\" class=\"dataframe\">\n",
       "  <thead>\n",
       "    <tr style=\"text-align: right;\">\n",
       "      <th></th>\n",
       "      <th>year</th>\n",
       "      <th>week</th>\n",
       "      <th>filename</th>\n",
       "      <th>timestamp</th>\n",
       "      <th>flow_cfs</th>\n",
       "      <th>mean_flow_cfs</th>\n",
       "      <th>flow_class</th>\n",
       "      <th>week_index</th>\n",
       "    </tr>\n",
       "  </thead>\n",
       "  <tbody>\n",
       "    <tr>\n",
       "      <th>0</th>\n",
       "      <td>2019</td>\n",
       "      <td>32</td>\n",
       "      <td>20190806_1300_ParkersBrook.jpg</td>\n",
       "      <td>2019-08-06 09:00:00-04:00</td>\n",
       "      <td>3.43</td>\n",
       "      <td>3.768000</td>\n",
       "      <td>low</td>\n",
       "      <td>60</td>\n",
       "    </tr>\n",
       "    <tr>\n",
       "      <th>1</th>\n",
       "      <td>2018</td>\n",
       "      <td>39</td>\n",
       "      <td>20180929_1300_ParkersBrook.JPG</td>\n",
       "      <td>2018-09-29 09:00:00-04:00</td>\n",
       "      <td>11.75</td>\n",
       "      <td>11.540000</td>\n",
       "      <td>med</td>\n",
       "      <td>15</td>\n",
       "    </tr>\n",
       "    <tr>\n",
       "      <th>2</th>\n",
       "      <td>2019</td>\n",
       "      <td>27</td>\n",
       "      <td>20190704_1500_ParkersBrook.jpg</td>\n",
       "      <td>2019-07-04 11:00:00-04:00</td>\n",
       "      <td>4.91</td>\n",
       "      <td>7.483750</td>\n",
       "      <td>med</td>\n",
       "      <td>55</td>\n",
       "    </tr>\n",
       "    <tr>\n",
       "      <th>3</th>\n",
       "      <td>2019</td>\n",
       "      <td>22</td>\n",
       "      <td>20190602_1300_ParkersBrook.jpg</td>\n",
       "      <td>2019-06-02 09:00:00-04:00</td>\n",
       "      <td>7.86</td>\n",
       "      <td>9.632500</td>\n",
       "      <td>med</td>\n",
       "      <td>50</td>\n",
       "    </tr>\n",
       "    <tr>\n",
       "      <th>4</th>\n",
       "      <td>2018</td>\n",
       "      <td>49</td>\n",
       "      <td>20181209_1000_ParkersBrook.JPG</td>\n",
       "      <td>2018-12-09 05:00:00-05:00</td>\n",
       "      <td>13.98</td>\n",
       "      <td>16.886000</td>\n",
       "      <td>high</td>\n",
       "      <td>25</td>\n",
       "    </tr>\n",
       "    <tr>\n",
       "      <th>...</th>\n",
       "      <td>...</td>\n",
       "      <td>...</td>\n",
       "      <td>...</td>\n",
       "      <td>...</td>\n",
       "      <td>...</td>\n",
       "      <td>...</td>\n",
       "      <td>...</td>\n",
       "      <td>...</td>\n",
       "    </tr>\n",
       "    <tr>\n",
       "      <th>495</th>\n",
       "      <td>2018</td>\n",
       "      <td>32</td>\n",
       "      <td>20180806_0800_ParkersBrook.JPG</td>\n",
       "      <td>2018-08-06 04:00:00-04:00</td>\n",
       "      <td>14.97</td>\n",
       "      <td>21.090000</td>\n",
       "      <td>high</td>\n",
       "      <td>8</td>\n",
       "    </tr>\n",
       "    <tr>\n",
       "      <th>496</th>\n",
       "      <td>2018</td>\n",
       "      <td>34</td>\n",
       "      <td>20180821_0700_ParkersBrook.JPG</td>\n",
       "      <td>2018-08-21 03:00:00-04:00</td>\n",
       "      <td>15.11</td>\n",
       "      <td>7.286000</td>\n",
       "      <td>med</td>\n",
       "      <td>10</td>\n",
       "    </tr>\n",
       "    <tr>\n",
       "      <th>497</th>\n",
       "      <td>2018</td>\n",
       "      <td>32</td>\n",
       "      <td>20180810_1400_ParkersBrook.JPG</td>\n",
       "      <td>2018-08-10 10:00:00-04:00</td>\n",
       "      <td>14.50</td>\n",
       "      <td>21.090000</td>\n",
       "      <td>high</td>\n",
       "      <td>8</td>\n",
       "    </tr>\n",
       "    <tr>\n",
       "      <th>498</th>\n",
       "      <td>2018</td>\n",
       "      <td>32</td>\n",
       "      <td>20180808_1100_ParkersBrook.JPG</td>\n",
       "      <td>2018-08-08 07:00:00-04:00</td>\n",
       "      <td>12.55</td>\n",
       "      <td>21.090000</td>\n",
       "      <td>high</td>\n",
       "      <td>8</td>\n",
       "    </tr>\n",
       "    <tr>\n",
       "      <th>499</th>\n",
       "      <td>2019</td>\n",
       "      <td>11</td>\n",
       "      <td>20190315_1600_ParkersBrook.jpg</td>\n",
       "      <td>2019-03-15 12:00:00-04:00</td>\n",
       "      <td>17.35</td>\n",
       "      <td>14.702857</td>\n",
       "      <td>med</td>\n",
       "      <td>39</td>\n",
       "    </tr>\n",
       "  </tbody>\n",
       "</table>\n",
       "<p>500 rows × 8 columns</p>\n",
       "</div>"
      ],
      "text/plain": [
       "     year  week                        filename                 timestamp  \\\n",
       "0    2019    32  20190806_1300_ParkersBrook.jpg 2019-08-06 09:00:00-04:00   \n",
       "1    2018    39  20180929_1300_ParkersBrook.JPG 2018-09-29 09:00:00-04:00   \n",
       "2    2019    27  20190704_1500_ParkersBrook.jpg 2019-07-04 11:00:00-04:00   \n",
       "3    2019    22  20190602_1300_ParkersBrook.jpg 2019-06-02 09:00:00-04:00   \n",
       "4    2018    49  20181209_1000_ParkersBrook.JPG 2018-12-09 05:00:00-05:00   \n",
       "..    ...   ...                             ...                       ...   \n",
       "495  2018    32  20180806_0800_ParkersBrook.JPG 2018-08-06 04:00:00-04:00   \n",
       "496  2018    34  20180821_0700_ParkersBrook.JPG 2018-08-21 03:00:00-04:00   \n",
       "497  2018    32  20180810_1400_ParkersBrook.JPG 2018-08-10 10:00:00-04:00   \n",
       "498  2018    32  20180808_1100_ParkersBrook.JPG 2018-08-08 07:00:00-04:00   \n",
       "499  2019    11  20190315_1600_ParkersBrook.jpg 2019-03-15 12:00:00-04:00   \n",
       "\n",
       "     flow_cfs  mean_flow_cfs flow_class  week_index  \n",
       "0        3.43       3.768000        low          60  \n",
       "1       11.75      11.540000        med          15  \n",
       "2        4.91       7.483750        med          55  \n",
       "3        7.86       9.632500        med          50  \n",
       "4       13.98      16.886000       high          25  \n",
       "..        ...            ...        ...         ...  \n",
       "495     14.97      21.090000       high           8  \n",
       "496     15.11       7.286000        med          10  \n",
       "497     14.50      21.090000       high           8  \n",
       "498     12.55      21.090000       high           8  \n",
       "499     17.35      14.702857        med          39  \n",
       "\n",
       "[500 rows x 8 columns]"
      ]
     },
     "execution_count": 93,
     "metadata": {},
     "output_type": "execute_result"
    }
   ],
   "source": [
    "df_week = df.set_index(['year', 'week']).join(weekly_flow_means, on=['year', 'week']).reset_index()\n",
    "df_week"
   ]
  },
  {
   "cell_type": "code",
   "execution_count": 94,
   "id": "4422ca56-aee4-4d72-91ae-41703174e8eb",
   "metadata": {},
   "outputs": [],
   "source": [
    "def image_resize(im, shape=None, scale=None): \n",
    "    if shape is None:\n",
    "        r,c = im.size\n",
    "        shape = (int(r*scale),int(c*scale))\n",
    "    resized = im.resize(shape)\n",
    "    return resized\n",
    "\n",
    "# n_images = 100\n",
    "# for filename in tqdm(df.head(n_images)['filename'], total=n_images):\n",
    "#     raw_path = os.path.join(images_dir, filename)\n",
    "#     new_path = os.path.join(resized_dir, filename)\n",
    "#     if not os.path.exists(new_path):\n",
    "#         image_resize(PILImage.open(raw_path), shape=(640,480)).save(new_path)"
   ]
  },
  {
   "cell_type": "code",
   "execution_count": 95,
   "id": "69a334e8-e965-4811-8f7d-955f3aa270e8",
   "metadata": {},
   "outputs": [],
   "source": [
    "# df_week['rgb_mean'] = [\n",
    "#     np.mean(PILImageStat.Stat(PILImage.open(os.path.join(images_dir, filename))).mean)\n",
    "#     for filename in tqdm(df_week['filename'].values)\n",
    "# ]\n",
    "# df_week['rgb_mean'].hist()"
   ]
  },
  {
   "cell_type": "code",
   "execution_count": 96,
   "id": "3c70f035-d446-4d87-8d03-64df0cfefaea",
   "metadata": {},
   "outputs": [
    {
     "data": {
      "text/plain": [
       "0.63"
      ]
     },
     "execution_count": 96,
     "metadata": {},
     "output_type": "execute_result"
    }
   ],
   "source": [
    "min_hour = 7\n",
    "max_hour = 18\n",
    "df_week_filter = df_week[df_week['timestamp'].dt.hour.between(min_hour, max_hour)]\n",
    "        \n",
    "min_month = 1\n",
    "max_month = 12\n",
    "df_week_filter = df_week_filter[df_week_filter['timestamp'].dt.month.between(min_month, max_month)]\n",
    "\n",
    "# min_rgb = 90\n",
    "# df_week_filter = df_week_filter[df_week_filter['rgb_mean'] >= min_rgb]\n",
    "\n",
    "len(df_week_filter) / len(df_week)"
   ]
  },
  {
   "cell_type": "code",
   "execution_count": 97,
   "id": "59b23c6e-53f7-4ec5-b6d9-f514740b9b44",
   "metadata": {},
   "outputs": [
    {
     "data": {
      "text/html": [
       "<div>\n",
       "<style scoped>\n",
       "    .dataframe tbody tr th:only-of-type {\n",
       "        vertical-align: middle;\n",
       "    }\n",
       "\n",
       "    .dataframe tbody tr th {\n",
       "        vertical-align: top;\n",
       "    }\n",
       "\n",
       "    .dataframe thead th {\n",
       "        text-align: right;\n",
       "    }\n",
       "</style>\n",
       "<table border=\"1\" class=\"dataframe\">\n",
       "  <thead>\n",
       "    <tr style=\"text-align: right;\">\n",
       "      <th></th>\n",
       "      <th>year</th>\n",
       "      <th>week</th>\n",
       "      <th>mean_flow_cfs</th>\n",
       "      <th>flow_class</th>\n",
       "      <th>week_index</th>\n",
       "      <th>split</th>\n",
       "    </tr>\n",
       "  </thead>\n",
       "  <tbody>\n",
       "    <tr>\n",
       "      <th>0</th>\n",
       "      <td>2018</td>\n",
       "      <td>24</td>\n",
       "      <td>3.800000</td>\n",
       "      <td>low</td>\n",
       "      <td>0</td>\n",
       "      <td>test</td>\n",
       "    </tr>\n",
       "    <tr>\n",
       "      <th>1</th>\n",
       "      <td>2018</td>\n",
       "      <td>25</td>\n",
       "      <td>3.633000</td>\n",
       "      <td>low</td>\n",
       "      <td>1</td>\n",
       "      <td>train</td>\n",
       "    </tr>\n",
       "    <tr>\n",
       "      <th>2</th>\n",
       "      <td>2018</td>\n",
       "      <td>26</td>\n",
       "      <td>15.288000</td>\n",
       "      <td>med</td>\n",
       "      <td>2</td>\n",
       "      <td>train</td>\n",
       "    </tr>\n",
       "    <tr>\n",
       "      <th>3</th>\n",
       "      <td>2018</td>\n",
       "      <td>27</td>\n",
       "      <td>11.696667</td>\n",
       "      <td>med</td>\n",
       "      <td>3</td>\n",
       "      <td>val</td>\n",
       "    </tr>\n",
       "    <tr>\n",
       "      <th>4</th>\n",
       "      <td>2018</td>\n",
       "      <td>28</td>\n",
       "      <td>9.670000</td>\n",
       "      <td>med</td>\n",
       "      <td>4</td>\n",
       "      <td>train</td>\n",
       "    </tr>\n",
       "    <tr>\n",
       "      <th>5</th>\n",
       "      <td>2018</td>\n",
       "      <td>29</td>\n",
       "      <td>15.221250</td>\n",
       "      <td>med</td>\n",
       "      <td>5</td>\n",
       "      <td>train</td>\n",
       "    </tr>\n",
       "    <tr>\n",
       "      <th>6</th>\n",
       "      <td>2018</td>\n",
       "      <td>30</td>\n",
       "      <td>18.490000</td>\n",
       "      <td>high</td>\n",
       "      <td>6</td>\n",
       "      <td>train</td>\n",
       "    </tr>\n",
       "    <tr>\n",
       "      <th>7</th>\n",
       "      <td>2018</td>\n",
       "      <td>31</td>\n",
       "      <td>16.830000</td>\n",
       "      <td>high</td>\n",
       "      <td>7</td>\n",
       "      <td>train</td>\n",
       "    </tr>\n",
       "    <tr>\n",
       "      <th>8</th>\n",
       "      <td>2018</td>\n",
       "      <td>32</td>\n",
       "      <td>21.090000</td>\n",
       "      <td>high</td>\n",
       "      <td>8</td>\n",
       "      <td>train</td>\n",
       "    </tr>\n",
       "    <tr>\n",
       "      <th>9</th>\n",
       "      <td>2018</td>\n",
       "      <td>33</td>\n",
       "      <td>18.945715</td>\n",
       "      <td>high</td>\n",
       "      <td>9</td>\n",
       "      <td>train</td>\n",
       "    </tr>\n",
       "  </tbody>\n",
       "</table>\n",
       "</div>"
      ],
      "text/plain": [
       "   year  week  mean_flow_cfs flow_class  week_index  split\n",
       "0  2018    24       3.800000        low           0   test\n",
       "1  2018    25       3.633000        low           1  train\n",
       "2  2018    26      15.288000        med           2  train\n",
       "3  2018    27      11.696667        med           3    val\n",
       "4  2018    28       9.670000        med           4  train\n",
       "5  2018    29      15.221250        med           5  train\n",
       "6  2018    30      18.490000       high           6  train\n",
       "7  2018    31      16.830000       high           7  train\n",
       "8  2018    32      21.090000       high           8  train\n",
       "9  2018    33      18.945715       high           9  train"
      ]
     },
     "execution_count": 97,
     "metadata": {},
     "output_type": "execute_result"
    }
   ],
   "source": [
    "# weeks = avery.table[['flow_class', 'year', 'week', 'week_index']].drop_duplicates()\n",
    "weeks = weekly_flow_means.reset_index()\n",
    "random_seed = 12\n",
    "test_ratio = 0.1\n",
    "val_ratio = 0.1\n",
    "\n",
    "X = weeks['week_index']\n",
    "y = weeks['flow_class']\n",
    "\n",
    "sss_test = StratifiedShuffleSplit(n_splits=1, test_size=test_ratio, random_state=random_seed)\n",
    "trainval_idx, test_idx = list(sss_test.split(X, y))[0]\n",
    "sss_val = StratifiedShuffleSplit(n_splits=1, test_size=val_ratio / (1 - test_ratio), random_state=random_seed)\n",
    "train_idx, val_idx = list(sss_test.split(trainval_idx, y[trainval_idx]))[0]\n",
    "\n",
    "weeks['split'] = weeks['week_index'].map(lambda x: 'train' if x in trainval_idx[train_idx] else 'val' if x in trainval_idx[val_idx] else 'test')\n",
    "weeks.head(10)"
   ]
  },
  {
   "cell_type": "code",
   "execution_count": 98,
   "id": "7aabf432-f8a5-46a1-9e8c-cdb29fcaad37",
   "metadata": {},
   "outputs": [
    {
     "data": {
      "text/plain": [
       "flow_class\n",
       "high    25.0\n",
       "low     25.0\n",
       "med     50.0\n",
       "dtype: float64"
      ]
     },
     "execution_count": 98,
     "metadata": {},
     "output_type": "execute_result"
    }
   ],
   "source": [
    "weeks.groupby(['flow_class']).size() / len(weeks.index) * 100"
   ]
  },
  {
   "cell_type": "code",
   "execution_count": 99,
   "id": "8028a00a-196c-49cb-af22-ff294fc9afdd",
   "metadata": {},
   "outputs": [
    {
     "data": {
      "text/plain": [
       "split  flow_class\n",
       "test   high           2\n",
       "       low            2\n",
       "       med            4\n",
       "train  high          14\n",
       "       low           14\n",
       "       med           29\n",
       "val    high           2\n",
       "       low            2\n",
       "       med            3\n",
       "dtype: int64"
      ]
     },
     "execution_count": 99,
     "metadata": {},
     "output_type": "execute_result"
    }
   ],
   "source": [
    "weeks.groupby(['split', 'flow_class']).size()"
   ]
  },
  {
   "cell_type": "code",
   "execution_count": 100,
   "id": "b9a019cd-6070-4674-8d2e-b84adf504bba",
   "metadata": {},
   "outputs": [
    {
     "data": {
      "text/plain": [
       "(245, 29, 41)"
      ]
     },
     "execution_count": 100,
     "metadata": {},
     "output_type": "execute_result"
    }
   ],
   "source": [
    "df_train = df_week_filter[df_week_filter['week_index'].isin(trainval_idx[train_idx])]\n",
    "df_val = df_week_filter[df_week_filter['week_index'].isin(trainval_idx[val_idx])]\n",
    "df_test = df_week_filter[df_week_filter['week_index'].isin(test_idx)]\n",
    "len(df_train), len(df_val), len(df_test)"
   ]
  },
  {
   "cell_type": "code",
   "execution_count": 101,
   "id": "ab309ffd-64b8-4dfc-9f47-d42ed86c8f92",
   "metadata": {},
   "outputs": [
    {
     "data": {
      "text/plain": [
       "flow_class\n",
       "high     56\n",
       "low      60\n",
       "med     129\n",
       "dtype: int64"
      ]
     },
     "execution_count": 101,
     "metadata": {},
     "output_type": "execute_result"
    }
   ],
   "source": [
    "df_train.groupby('flow_class').size()"
   ]
  },
  {
   "cell_type": "code",
   "execution_count": 102,
   "id": "75147658-e65f-46d8-9969-ffd4cfd732ab",
   "metadata": {},
   "outputs": [
    {
     "data": {
      "text/plain": [
       "flow_class\n",
       "high     8\n",
       "low      8\n",
       "med     25\n",
       "dtype: int64"
      ]
     },
     "execution_count": 102,
     "metadata": {},
     "output_type": "execute_result"
    }
   ],
   "source": [
    "df_test.groupby('flow_class').size()"
   ]
  },
  {
   "cell_type": "code",
   "execution_count": 103,
   "id": "b92e2aaa-a929-4e60-a5ca-eb6d852974f1",
   "metadata": {},
   "outputs": [
    {
     "data": {
      "text/plain": [
       "flow_class\n",
       "high     8\n",
       "low      5\n",
       "med     16\n",
       "dtype: int64"
      ]
     },
     "execution_count": 103,
     "metadata": {},
     "output_type": "execute_result"
    }
   ],
   "source": [
    "df_val.groupby('flow_class').size()"
   ]
  },
  {
   "cell_type": "code",
   "execution_count": 104,
   "id": "680bb1c9-0e50-4f77-ab1e-39767e989e9a",
   "metadata": {},
   "outputs": [],
   "source": [
    "class SiteDataset(Dataset):\n",
    "    def __init__(self, table, images_dir, resize_size=[480,640], crop_size=[384,512],\n",
    "                normalize=True, augment=True, training=True, means=None, stds=None, \n",
    "                crop_to_bbox=False, log_transform=False):\n",
    "        self.table = table\n",
    "        self.images_dir = images_dir\n",
    "        self.resize_size = resize_size\n",
    "        self.crop_size = crop_size\n",
    "        self.normalize = normalize\n",
    "        self.augment = augment\n",
    "        self.training = training\n",
    "        self.crop_to_bbox = crop_to_bbox\n",
    "        self.log_transform = log_transform\n",
    "    \n",
    "    def __len__(self):\n",
    "        return len(self.table)\n",
    "    \n",
    "    def get_image(self, index):\n",
    "        \"\"\"Loads image at given index\"\"\"\n",
    "        path = os.path.join(images_dir, self.table.iloc[index]['filename'])\n",
    "        return PILImage.open(path).convert('RGB')\n",
    "    \n",
    "    def compute_mean_std(self):\n",
    "        \"\"\"Compute RGB channel means and stds for image samples in the dataset.\"\"\"\n",
    "        means = np.zeros((3))\n",
    "        stds = np.zeros((3))\n",
    "        sample_size= min(len(self.table), 1000)\n",
    "        sample_indices = np.random.choice(len(self.table), size=sample_size, replace=False)\n",
    "        for idx in tqdm(sample_indices):\n",
    "            img = self.get_image(idx)\n",
    "            stat = PILImageStat.Stat(img)\n",
    "            means += np.array(stat.mean)/255.0\n",
    "            stds += np.array(stat.stddev)/255.0\n",
    "        means = means/sample_size\n",
    "        stds = stds/sample_size\n",
    "        return means, stds\n",
    "    \n",
    "    def set_mean_std(self, means, stds):\n",
    "        self.means = means\n",
    "        self.stds = stds\n",
    "    \n",
    "    def crop_images_to_bboxes(self, crop_bool):\n",
    "        self.crop_to_bbox = crop_bool\n",
    "    \n",
    "    def set_bbox_source(self, filename):\n",
    "        self.bbox_file = filename\n",
    "        with open(filename, 'rb') as handle:\n",
    "            self.bboxes = pickle.load(handle)\n",
    "    \n",
    "    def create_transforms(self):\n",
    "        \"\"\"Create transforms to apply during training and evaluation.\n",
    "        Transforms can involve data augmentation and/or normalization if desired.\n",
    "        Data augmentation should only be applied during training, not during evaluation.\n",
    "        \"\"\"\n",
    "        train_transforms = [Resize(self.resize_size)]\n",
    "        if self.augment:\n",
    "            train_transforms.append(RandomCrop(self.crop_size))\n",
    "            train_transforms.append(RandomHorizontalFlip())\n",
    "            train_transforms.append(RandomRotation(10))\n",
    "            train_transforms.append(ColorJitter())\n",
    "        else:\n",
    "            train_transforms.append(CenterCrop(self.crop_size))\n",
    "        train_transforms.append(ToTensor())\n",
    "        if self.normalize:\n",
    "            train_transforms.append(Normalize(self.means, self.stds))\n",
    "        self.train_transform = Compose(train_transforms)\n",
    "        \n",
    "        eval_transforms = [Resize(self.resize_size)]\n",
    "        eval_transforms.append(CenterCrop(self.crop_size))\n",
    "        eval_transforms.append(ToTensor())\n",
    "        if self.normalize:\n",
    "            eval_transforms.append(Normalize(self.means, self.stds))\n",
    "        self.eval_transform = Compose(eval_transforms)\n",
    "    \n",
    "    def train(self):\n",
    "        self.training = True\n",
    "    \n",
    "    def evaluate(self):\n",
    "        self.training = False\n",
    "    \n",
    "    def __getitem__(self, idx):\n",
    "        img = self.get_image(idx)\n",
    "        # crop image first\n",
    "        if self.crop_to_bbox:\n",
    "            image_table_index = self.table.index[idx]\n",
    "            topleft_x, topleft_y, width, height = self.bboxes[image_table_index]\n",
    "            bottomright_x = topleft_x + width\n",
    "            bottomright_y = topleft_y + height\n",
    "            img = img.crop((topleft_x, topleft_y, bottomright_x, bottomright_y))\n",
    "        \n",
    "        # apply transforms\n",
    "        if self.training:\n",
    "            sample = self.train_transform(img)\n",
    "        else:\n",
    "            sample = self.eval_transform(img)\n",
    "        if not self.log_transform:\n",
    "            label = self.table.iloc[idx]['flow_cfs']\n",
    "        else:\n",
    "            label = np.log(self.table.iloc[idx]['flow_cfs'])\n",
    "        return sample, label\n",
    "\n",
    "ds_train = SiteDataset(df_train, images_dir, training=True, normalize=True, augment=True, log_transform=True)\n",
    "ds_val = SiteDataset(df_val, images_dir, training=False, normalize=True, augment=True, log_transform=True)\n",
    "ds_test = SiteDataset(df_test, images_dir, training=False, normalize=True, augment=True, log_transform=True)"
   ]
  },
  {
   "cell_type": "code",
   "execution_count": 105,
   "id": "3a65c72b-c4a6-4902-816b-f6715c743dce",
   "metadata": {},
   "outputs": [
    {
     "data": {
      "application/vnd.jupyter.widget-view+json": {
       "model_id": "d47b2f6b00454c578e86538e634b0e05",
       "version_major": 2,
       "version_minor": 0
      },
      "text/plain": [
       "  0%|          | 0/245 [00:00<?, ?it/s]"
      ]
     },
     "metadata": {},
     "output_type": "display_data"
    }
   ],
   "source": [
    "def compute_mean_std(df):\n",
    "    \"\"\"Compute RGB channel means and stds for image samples in the dataset.\"\"\"\n",
    "    means = np.zeros((3))\n",
    "    stds = np.zeros((3))\n",
    "    sample_size= min(len(df), 1000)\n",
    "    sample_indices = np.random.choice(len(df), size=sample_size, replace=False)\n",
    "    for idx in tqdm(sample_indices):\n",
    "        path = os.path.join(images_dir, df.iloc[idx]['filename'])\n",
    "        img = PILImage.open(path).convert('RGB')\n",
    "        stat = PILImageStat.Stat(img)\n",
    "        means += np.array(stat.mean)/255.0\n",
    "        stds += np.array(stat.stddev)/255.0\n",
    "    means = means/sample_size\n",
    "    stds = stds/sample_size\n",
    "    return means, stds\n",
    "\n",
    "m,s = compute_mean_std(df_train)\n",
    "ds_train.set_mean_std(m, s)\n",
    "ds_val.set_mean_std(m, s)\n",
    "ds_test.set_mean_std(m, s)"
   ]
  },
  {
   "cell_type": "code",
   "execution_count": 106,
   "id": "8341ae68-dc45-4ead-b889-87211635539e",
   "metadata": {},
   "outputs": [],
   "source": [
    "ds_train.create_transforms()\n",
    "ds_val.create_transforms()\n",
    "ds_test.create_transforms()"
   ]
  },
  {
   "cell_type": "code",
   "execution_count": 107,
   "id": "95089f5d-5360-4eff-a8bc-c8b36297b3ed",
   "metadata": {},
   "outputs": [],
   "source": [
    "batch_size = 64\n",
    "num_workers = 0\n",
    "dl_train = DataLoader(ds_train, batch_size=batch_size, shuffle=True, num_workers=num_workers)\n",
    "dl_val = DataLoader(ds_val, batch_size=batch_size, shuffle=True, num_workers=num_workers)\n",
    "dl_test = DataLoader(ds_test, batch_size=batch_size, shuffle=True, num_workers=num_workers)"
   ]
  },
  {
   "cell_type": "code",
   "execution_count": 108,
   "id": "9f6c5be3-d218-4169-9dfc-bb1dceeacb00",
   "metadata": {},
   "outputs": [
    {
     "data": {
      "text/plain": [
       "device(type='cpu')"
      ]
     },
     "execution_count": 108,
     "metadata": {},
     "output_type": "execute_result"
    }
   ],
   "source": [
    "# if torch.backends.mps.is_available():\n",
    "#     device = torch.device(\"mps\")\n",
    "# else:\n",
    "#     device = torch.device(\"cpu\")\n",
    "device = torch.device(\"cpu\")\n",
    "device"
   ]
  },
  {
   "cell_type": "code",
   "execution_count": 109,
   "id": "45c18bf8-5c80-4e00-b965-8b89b953f960",
   "metadata": {},
   "outputs": [
    {
     "name": "stderr",
     "output_type": "stream",
     "text": [
      "/opt/homebrew/Caskroom/miniconda/base/envs/deepstreamflow/lib/python3.9/site-packages/torchvision/models/_utils.py:208: UserWarning: The parameter 'pretrained' is deprecated since 0.13 and will be removed in 0.15, please use 'weights' instead.\n",
      "  warnings.warn(\n",
      "/opt/homebrew/Caskroom/miniconda/base/envs/deepstreamflow/lib/python3.9/site-packages/torchvision/models/_utils.py:223: UserWarning: Arguments other than a weight enum or `None` for 'weights' are deprecated since 0.13 and will be removed in 0.15. The current behavior is equivalent to passing `weights=ResNet18_Weights.IMAGENET1K_V1`. You can also use `weights=ResNet18_Weights.DEFAULT` to get the most up-to-date weights.\n",
      "  warnings.warn(msg)\n"
     ]
    }
   ],
   "source": [
    "def get_output_shape(model, input_shape=(1,3,224,224)):\n",
    "    x = torch.randn(*input_shape)\n",
    "    out = model(x)\n",
    "    return out.shape\n",
    "\n",
    "class ResNet18(nn.Module):\n",
    "    \"\"\"PyTorch ResNet-18 architecture.\n",
    "    Attributes:\n",
    "        pretrained (bool): whether to use weights from network trained on ImageNet\n",
    "        truncate (int): how many layers to remove from the end of the network\n",
    "    \"\"\"\n",
    "    def __init__(self, pretrained=True, truncate=0):\n",
    "        super(ResNet18, self).__init__()\n",
    "        self.model = resnet18(pretrained=pretrained)\n",
    "        if truncate > 0:\n",
    "            self.model = nn.Sequential(*list(self.model.children())[:-truncate])\n",
    "\n",
    "        self.model.eval()\n",
    "\n",
    "    def forward(self, x):\n",
    "        x = self.model(x)\n",
    "        return x\n",
    "\n",
    "class ResNetRegressionNet(nn.Module):\n",
    "    def __init__(self, input_shape=(3, 384, 512), resnet_size=18, truncate=2, pretrained=True, num_hlayers=[256, 64]):\n",
    "        super(ResNetRegressionNet, self).__init__()\n",
    "        self.input_shape = input_shape\n",
    "        self.input_nchannels = input_shape[0]\n",
    "        self.input_height = input_shape[1]\n",
    "        self.input_width = input_shape[2]\n",
    "        \n",
    "        if resnet_size == 50:\n",
    "            self.resnetbody = ResNet50(pretrained=True, truncate=truncate)\n",
    "        elif resnet_size == 18:\n",
    "            self.resnetbody = ResNet18(pretrained=True, truncate=truncate)\n",
    "        else:\n",
    "            raise ValueError('Only resnet_size 50 or 18 are supported.')\n",
    "        num_filters = get_output_shape(self.resnetbody, input_shape=(1,*input_shape))[1]\n",
    "        self.avgpool = nn.AdaptiveAvgPool2d(output_size=(1,1))\n",
    "\n",
    "        self.fclayer_modules = [nn.Linear(num_filters, num_hlayers[0]), nn.ReLU()]\n",
    "        for i in range(1, len(num_hlayers)):\n",
    "            self.fclayer_modules.extend([nn.Linear(num_hlayers[i-1], num_hlayers[i]), nn.ReLU()])\n",
    "        self.fclayer_modules.extend([nn.Linear(num_hlayers[-1], 1)])\n",
    "        self.fclayers = nn.Sequential(*self.fclayer_modules)\n",
    "    \n",
    "    def forward(self, x):\n",
    "        x = self.resnetbody(x)\n",
    "        x = self.avgpool(x)\n",
    "        x = x.view(x.size(0), -1)\n",
    "        x = self.fclayers(x)\n",
    "        x = x.squeeze()\n",
    "        return x\n",
    "\n",
    "model = ResNetRegressionNet(input_shape=(3, 384, 512), resnet_size=18, truncate=2, pretrained=True)"
   ]
  },
  {
   "cell_type": "code",
   "execution_count": 110,
   "id": "6627e1e8-41e7-4cb1-bc5b-430fb2ab1422",
   "metadata": {},
   "outputs": [
    {
     "data": {
      "text/plain": [
       "ResNetRegressionNet(\n",
       "  (resnetbody): ResNet18(\n",
       "    (model): Sequential(\n",
       "      (0): Conv2d(3, 64, kernel_size=(7, 7), stride=(2, 2), padding=(3, 3), bias=False)\n",
       "      (1): BatchNorm2d(64, eps=1e-05, momentum=0.1, affine=True, track_running_stats=True)\n",
       "      (2): ReLU(inplace=True)\n",
       "      (3): MaxPool2d(kernel_size=3, stride=2, padding=1, dilation=1, ceil_mode=False)\n",
       "      (4): Sequential(\n",
       "        (0): BasicBlock(\n",
       "          (conv1): Conv2d(64, 64, kernel_size=(3, 3), stride=(1, 1), padding=(1, 1), bias=False)\n",
       "          (bn1): BatchNorm2d(64, eps=1e-05, momentum=0.1, affine=True, track_running_stats=True)\n",
       "          (relu): ReLU(inplace=True)\n",
       "          (conv2): Conv2d(64, 64, kernel_size=(3, 3), stride=(1, 1), padding=(1, 1), bias=False)\n",
       "          (bn2): BatchNorm2d(64, eps=1e-05, momentum=0.1, affine=True, track_running_stats=True)\n",
       "        )\n",
       "        (1): BasicBlock(\n",
       "          (conv1): Conv2d(64, 64, kernel_size=(3, 3), stride=(1, 1), padding=(1, 1), bias=False)\n",
       "          (bn1): BatchNorm2d(64, eps=1e-05, momentum=0.1, affine=True, track_running_stats=True)\n",
       "          (relu): ReLU(inplace=True)\n",
       "          (conv2): Conv2d(64, 64, kernel_size=(3, 3), stride=(1, 1), padding=(1, 1), bias=False)\n",
       "          (bn2): BatchNorm2d(64, eps=1e-05, momentum=0.1, affine=True, track_running_stats=True)\n",
       "        )\n",
       "      )\n",
       "      (5): Sequential(\n",
       "        (0): BasicBlock(\n",
       "          (conv1): Conv2d(64, 128, kernel_size=(3, 3), stride=(2, 2), padding=(1, 1), bias=False)\n",
       "          (bn1): BatchNorm2d(128, eps=1e-05, momentum=0.1, affine=True, track_running_stats=True)\n",
       "          (relu): ReLU(inplace=True)\n",
       "          (conv2): Conv2d(128, 128, kernel_size=(3, 3), stride=(1, 1), padding=(1, 1), bias=False)\n",
       "          (bn2): BatchNorm2d(128, eps=1e-05, momentum=0.1, affine=True, track_running_stats=True)\n",
       "          (downsample): Sequential(\n",
       "            (0): Conv2d(64, 128, kernel_size=(1, 1), stride=(2, 2), bias=False)\n",
       "            (1): BatchNorm2d(128, eps=1e-05, momentum=0.1, affine=True, track_running_stats=True)\n",
       "          )\n",
       "        )\n",
       "        (1): BasicBlock(\n",
       "          (conv1): Conv2d(128, 128, kernel_size=(3, 3), stride=(1, 1), padding=(1, 1), bias=False)\n",
       "          (bn1): BatchNorm2d(128, eps=1e-05, momentum=0.1, affine=True, track_running_stats=True)\n",
       "          (relu): ReLU(inplace=True)\n",
       "          (conv2): Conv2d(128, 128, kernel_size=(3, 3), stride=(1, 1), padding=(1, 1), bias=False)\n",
       "          (bn2): BatchNorm2d(128, eps=1e-05, momentum=0.1, affine=True, track_running_stats=True)\n",
       "        )\n",
       "      )\n",
       "      (6): Sequential(\n",
       "        (0): BasicBlock(\n",
       "          (conv1): Conv2d(128, 256, kernel_size=(3, 3), stride=(2, 2), padding=(1, 1), bias=False)\n",
       "          (bn1): BatchNorm2d(256, eps=1e-05, momentum=0.1, affine=True, track_running_stats=True)\n",
       "          (relu): ReLU(inplace=True)\n",
       "          (conv2): Conv2d(256, 256, kernel_size=(3, 3), stride=(1, 1), padding=(1, 1), bias=False)\n",
       "          (bn2): BatchNorm2d(256, eps=1e-05, momentum=0.1, affine=True, track_running_stats=True)\n",
       "          (downsample): Sequential(\n",
       "            (0): Conv2d(128, 256, kernel_size=(1, 1), stride=(2, 2), bias=False)\n",
       "            (1): BatchNorm2d(256, eps=1e-05, momentum=0.1, affine=True, track_running_stats=True)\n",
       "          )\n",
       "        )\n",
       "        (1): BasicBlock(\n",
       "          (conv1): Conv2d(256, 256, kernel_size=(3, 3), stride=(1, 1), padding=(1, 1), bias=False)\n",
       "          (bn1): BatchNorm2d(256, eps=1e-05, momentum=0.1, affine=True, track_running_stats=True)\n",
       "          (relu): ReLU(inplace=True)\n",
       "          (conv2): Conv2d(256, 256, kernel_size=(3, 3), stride=(1, 1), padding=(1, 1), bias=False)\n",
       "          (bn2): BatchNorm2d(256, eps=1e-05, momentum=0.1, affine=True, track_running_stats=True)\n",
       "        )\n",
       "      )\n",
       "      (7): Sequential(\n",
       "        (0): BasicBlock(\n",
       "          (conv1): Conv2d(256, 512, kernel_size=(3, 3), stride=(2, 2), padding=(1, 1), bias=False)\n",
       "          (bn1): BatchNorm2d(512, eps=1e-05, momentum=0.1, affine=True, track_running_stats=True)\n",
       "          (relu): ReLU(inplace=True)\n",
       "          (conv2): Conv2d(512, 512, kernel_size=(3, 3), stride=(1, 1), padding=(1, 1), bias=False)\n",
       "          (bn2): BatchNorm2d(512, eps=1e-05, momentum=0.1, affine=True, track_running_stats=True)\n",
       "          (downsample): Sequential(\n",
       "            (0): Conv2d(256, 512, kernel_size=(1, 1), stride=(2, 2), bias=False)\n",
       "            (1): BatchNorm2d(512, eps=1e-05, momentum=0.1, affine=True, track_running_stats=True)\n",
       "          )\n",
       "        )\n",
       "        (1): BasicBlock(\n",
       "          (conv1): Conv2d(512, 512, kernel_size=(3, 3), stride=(1, 1), padding=(1, 1), bias=False)\n",
       "          (bn1): BatchNorm2d(512, eps=1e-05, momentum=0.1, affine=True, track_running_stats=True)\n",
       "          (relu): ReLU(inplace=True)\n",
       "          (conv2): Conv2d(512, 512, kernel_size=(3, 3), stride=(1, 1), padding=(1, 1), bias=False)\n",
       "          (bn2): BatchNorm2d(512, eps=1e-05, momentum=0.1, affine=True, track_running_stats=True)\n",
       "        )\n",
       "      )\n",
       "    )\n",
       "  )\n",
       "  (avgpool): AdaptiveAvgPool2d(output_size=(1, 1))\n",
       "  (fclayers): Sequential(\n",
       "    (0): Linear(in_features=512, out_features=256, bias=True)\n",
       "    (1): ReLU()\n",
       "    (2): Linear(in_features=256, out_features=64, bias=True)\n",
       "    (3): ReLU()\n",
       "    (4): Linear(in_features=64, out_features=1, bias=True)\n",
       "  )\n",
       ")"
      ]
     },
     "execution_count": 110,
     "metadata": {},
     "output_type": "execute_result"
    }
   ],
   "source": [
    "for p in list(model.children())[0].parameters():\n",
    "    p.requires_grad = False\n",
    "unfreeze_after = 2\n",
    "model.to(device)"
   ]
  },
  {
   "cell_type": "code",
   "execution_count": 111,
   "id": "aaa057a7-c88f-443c-8104-2edefb420c6c",
   "metadata": {},
   "outputs": [],
   "source": [
    "class MSELoss(nn.Module):\n",
    "    def __init__(self):\n",
    "        super(MSELoss, self).__init__()\n",
    "        self.loss = nn.MSELoss()\n",
    "    \n",
    "    def forward(self, input, target):\n",
    "        output = self.loss(input, target)\n",
    "        return output\n",
    "\n",
    "class RankNetLoss(nn.Module):\n",
    "    def __init__(self):\n",
    "        super(RankNetLoss, self).__init__()\n",
    "    \n",
    "    def forward(self, inputs_i, inputs_j, targets):\n",
    "        oij = inputs_i - inputs_j\n",
    "        Pij = torch.sigmoid(oij)\n",
    "        target_probs = 0.5*(targets + 1)\n",
    "        bceloss = nn.BCELoss()\n",
    "        loss = bceloss(Pij, target_probs)\n",
    "        return loss\n",
    "    \n",
    "criterion = MSELoss()\n",
    "optimizer = torch.optim.SGD(model.parameters(), lr=0.001, momentum=0.9)\n",
    "scheduler = torch.optim.lr_scheduler.ReduceLROnPlateau(optimizer, 'min', patience=1, factor=0.5)"
   ]
  },
  {
   "cell_type": "code",
   "execution_count": 127,
   "id": "489d044e-3b73-4513-98f9-64bdede5fce0",
   "metadata": {},
   "outputs": [],
   "source": [
    "class PairwiseRankAccuracy(torch.nn.Module):\n",
    "    def __init__(self):\n",
    "        super(PairwiseRankAccuracy, self).__init__()\n",
    "    \n",
    "    def forward(self, outputs_i, outputs_j, targets, boundaries=[0.33, 0.66]):\n",
    "        oij = outputs_i - outputs_j\n",
    "        Pij = torch.sigmoid(oij)\n",
    "        preds = torch.zeros_like(targets)\n",
    "        preds = torch.where(Pij < boundaries[0], -1, preds)\n",
    "        preds = torch.where(Pij > boundaries[1], 1, preds)\n",
    "        # preds[(Pij>boundaries[1])] = 1\n",
    "        # preds[(Pij<boundaries[0])] = -1\n",
    "        total = targets.size(0)\n",
    "        # correct = (preds == targets).sum()\n",
    "        correct = torch.eq(preds, targets).sum()\n",
    "        return 100*correct/float(total)\n",
    "        # zeros = (Pij>=0.33).float()*(Pij<=0.66).float()\n",
    "        # target_probs = 0.5*(targets + 1)\n",
    "\n",
    "def fit(model, criterion, optimizer, train_dl, device, epoch_num=None, verbose=False):\n",
    "    \"\"\"Train model for one epoch.\n",
    "    \n",
    "    Args:\n",
    "        model (torch.nn.Module): network to train\n",
    "        criterion (torch.nn.Module): loss function(s) used to train network weights\n",
    "        optimizer (torch.optim.Optimizer): algorithm used to optimize network weights\n",
    "        train_dl (torch.utils.DataLoader): data loader for training set\n",
    "        epoch_num (int): epoch number for logging\n",
    "    \n",
    "    Returns:\n",
    "        batch_loss_logger.avg (float): average criterion loss per batch during training\n",
    "    \"\"\"\n",
    "    print('Training')\n",
    "    model.train() # ensure model is in train mode\n",
    "    train_dl.dataset.train() # ensure train transforms are applied\n",
    "    batch_loss_logger = MetricLogger()\n",
    "    batch_time_logger = MetricLogger()\n",
    "    \n",
    "    print('Starting for loop')\n",
    "    for bidx, batch in tqdm(enumerate(train_dl), total=len(train_dl)):\n",
    "        \n",
    "        batch_starttime = time.time()\n",
    "        \n",
    "        if isinstance(criterion, (torch.nn.MarginRankingLoss, RankNetLoss)):\n",
    "            # paired inputs ->[model]-> paired outputs ->[criterion]-> value\n",
    "            inputs1, inputs2, labels = batch\n",
    "            if next(model.parameters()).is_cuda:\n",
    "                inputs1 = inputs1.to(device)\n",
    "                inputs2 = inputs2.to(device)\n",
    "                labels = labels.to(device)\n",
    "            optimizer.zero_grad()\n",
    "            outputs1, outputs2 = model(inputs1, inputs2)\n",
    "            loss = criterion(outputs1, outputs2, labels)\n",
    "            batch_loss_logger.update(loss.item())\n",
    "            loss.backward()\n",
    "            optimizer.step()\n",
    "        else:\n",
    "            # inputs ->[model]-> outputs ->[criterion]-> value\n",
    "            inputs, labels = batch\n",
    "            if next(model.parameters()).is_cuda:\n",
    "                inputs = inputs.to(device)\n",
    "                labels = labels.to(device)\n",
    "            optimizer.zero_grad()\n",
    "            outputs = model(inputs)\n",
    "            loss = criterion(outputs, labels)\n",
    "            batch_loss_logger.update(loss.item())\n",
    "            loss.backward()\n",
    "            optimizer.step()\n",
    "        \n",
    "        batch_endtime = time.time()\n",
    "        batch_time_logger.update(batch_endtime-batch_starttime)\n",
    "        \n",
    "        if verbose and (bidx%10 == 9):\n",
    "            print(f\"[Epoch {epoch_num} Batch {bidx}]\\t{batch_time_logger.sum:.2f} s\\t{batch_loss_logger.avg:.4f}\")\n",
    "    \n",
    "    print(f\"[Epoch {epoch_num}]\\t{batch_time_logger.sum:.2f} s\\t{batch_loss_logger.avg:.4f}\")\n",
    "    \n",
    "    return batch_loss_logger.avg\n",
    "\n",
    "def validate(model, criterions, dl, device):\n",
    "    \"\"\"Calculate multiple criterion for a model on a dataset.\"\"\"\n",
    "    print('Validating')\n",
    "    model.eval()\n",
    "    dl.dataset.evaluate()\n",
    "    criterion_loggers = [MetricLogger() for i in range(len(criterions))]\n",
    "    with torch.no_grad(): # ensure no gradients are computed\n",
    "        for bidx, batch in tqdm(enumerate(dl), total=len(dl)):\n",
    "            model_outputs = {}\n",
    "            for i, c in enumerate(criterions):\n",
    "                # start_timer = time.time()\n",
    "                if isinstance(c, (torch.nn.MarginRankingLoss, RankNetLoss, PairwiseRankAccuracy)):\n",
    "                    # paired inputs ->[model]-> paired outputs ->[criterion]-> value\n",
    "                    if 'outputs1' not in model_outputs.keys():\n",
    "                        # store model outputs from forward pass in case another criterion needs the same\n",
    "                        inputs1, inputs2, labels = batch\n",
    "                        if next(model.parameters()).is_cuda:\n",
    "                            inputs1, inputs2, labels = inputs1.to(device), inputs2.to(device), labels.to(device)\n",
    "                        outputs1, outputs2 = model(inputs1, inputs2)\n",
    "                        model_outputs['outputs1'] = outputs1\n",
    "                        model_outputs['outputs2'] = outputs2\n",
    "                    else:\n",
    "                        # load previously computed model outputs from forward pass\n",
    "                        outputs1, outputs2 = model_outputs['outputs1'], model_outputs['outputs2']\n",
    "                    cval = c(outputs1, outputs2, labels)\n",
    "                else:\n",
    "                    # inputs ->[model]-> outputs ->[criterion]-> value\n",
    "                    if 'outputs' not in model_outputs.keys():\n",
    "                        # store model outputs from forward pass in case another criterion needs the same\n",
    "                        inputs, labels = batch\n",
    "                        if next(model.parameters()).is_cuda:\n",
    "                            inputs, labels = inputs.to(device), labels.to(device)\n",
    "                        outputs = model(inputs)\n",
    "                        model_outputs['outputs'] = outputs\n",
    "                    else:\n",
    "                        # load previously computed model outputs from forward pass\n",
    "                        outputs = model_outputs['outputs']\n",
    "                    cval = c(outputs, labels)\n",
    "                criterion_loggers[i].update(cval.item())\n",
    "    return [cl.avg for cl in criterion_loggers]\n",
    "\n",
    "class MetricLogger(object):\n",
    "    \"\"\"Computes and tracks the average and current value of a metric.\n",
    "    \n",
    "    Attributes:\n",
    "        val: current value\n",
    "        sum: sum of all logged values\n",
    "        count: number of logged values\n",
    "        avg: average of all logged values\n",
    "    \"\"\"\n",
    "    def __init__(self):\n",
    "        self.reset()\n",
    "\n",
    "    def reset(self):\n",
    "        self.val = 0\n",
    "        self.avg = 0\n",
    "        self.sum = 0\n",
    "        self.count = 0\n",
    "\n",
    "    def update(self, val, n=1):\n",
    "        self.val = val\n",
    "        self.count += n\n",
    "        self.sum += val * n\n",
    "        self.avg = self.sum / self.count\n"
   ]
  },
  {
   "cell_type": "code",
   "execution_count": 128,
   "id": "8e547145-07dd-4076-87a5-d4e59acf5d09",
   "metadata": {},
   "outputs": [
    {
     "name": "stdout",
     "output_type": "stream",
     "text": [
      "Training\n",
      "Starting for loop\n"
     ]
    },
    {
     "data": {
      "application/vnd.jupyter.widget-view+json": {
       "model_id": "a0ff78f88a3644af86915cd0a573752a",
       "version_major": 2,
       "version_minor": 0
      },
      "text/plain": [
       "  0%|          | 0/4 [00:00<?, ?it/s]"
      ]
     },
     "metadata": {},
     "output_type": "display_data"
    },
    {
     "name": "stdout",
     "output_type": "stream",
     "text": [
      "[Epoch 0]\t45.01 s\t0.6872\n",
      "training epoch took 56.5 s\n",
      "Validating\n"
     ]
    },
    {
     "data": {
      "application/vnd.jupyter.widget-view+json": {
       "model_id": "96d65ebda1a2495c80c9e7b35592bdc8",
       "version_major": 2,
       "version_minor": 0
      },
      "text/plain": [
       "  0%|          | 0/1 [00:00<?, ?it/s]"
      ]
     },
     "metadata": {},
     "output_type": "display_data"
    },
    {
     "name": "stdout",
     "output_type": "stream",
     "text": [
      "valset eval took 4.1 s\n",
      "Validating\n"
     ]
    },
    {
     "data": {
      "application/vnd.jupyter.widget-view+json": {
       "model_id": "945d9c43060d4a6c954fcc5c5e466e89",
       "version_major": 2,
       "version_minor": 0
      },
      "text/plain": [
       "  0%|          | 0/1 [00:00<?, ?it/s]"
      ]
     },
     "metadata": {},
     "output_type": "display_data"
    },
    {
     "name": "stdout",
     "output_type": "stream",
     "text": [
      "testset eval took 5.6 s\n",
      "Training\n",
      "Starting for loop\n"
     ]
    },
    {
     "data": {
      "application/vnd.jupyter.widget-view+json": {
       "model_id": "75b8349ebbec4cebbbe0d49edeb0ece5",
       "version_major": 2,
       "version_minor": 0
      },
      "text/plain": [
       "  0%|          | 0/4 [00:00<?, ?it/s]"
      ]
     },
     "metadata": {},
     "output_type": "display_data"
    },
    {
     "name": "stdout",
     "output_type": "stream",
     "text": [
      "[Epoch 1]\t45.45 s\t0.7717\n",
      "training epoch took 57.0 s\n",
      "Validating\n"
     ]
    },
    {
     "data": {
      "application/vnd.jupyter.widget-view+json": {
       "model_id": "4ebc51522de34ba98606643ad307ac5a",
       "version_major": 2,
       "version_minor": 0
      },
      "text/plain": [
       "  0%|          | 0/1 [00:00<?, ?it/s]"
      ]
     },
     "metadata": {},
     "output_type": "display_data"
    },
    {
     "name": "stdout",
     "output_type": "stream",
     "text": [
      "valset eval took 4.1 s\n",
      "Validating\n"
     ]
    },
    {
     "data": {
      "application/vnd.jupyter.widget-view+json": {
       "model_id": "ca6a5c70bbec4f10a489ff7869b59b45",
       "version_major": 2,
       "version_minor": 0
      },
      "text/plain": [
       "  0%|          | 0/1 [00:00<?, ?it/s]"
      ]
     },
     "metadata": {},
     "output_type": "display_data"
    },
    {
     "name": "stdout",
     "output_type": "stream",
     "text": [
      "testset eval took 5.5 s\n",
      "UNFREEZING CNN BODY\n",
      "Training\n",
      "Starting for loop\n"
     ]
    },
    {
     "data": {
      "application/vnd.jupyter.widget-view+json": {
       "model_id": "5568e6e315e545a08f47b2e0dfae06cf",
       "version_major": 2,
       "version_minor": 0
      },
      "text/plain": [
       "  0%|          | 0/4 [00:00<?, ?it/s]"
      ]
     },
     "metadata": {},
     "output_type": "display_data"
    },
    {
     "name": "stdout",
     "output_type": "stream",
     "text": [
      "[Epoch 2]\t44.94 s\t0.6041\n",
      "training epoch took 56.5 s\n",
      "Validating\n"
     ]
    },
    {
     "data": {
      "application/vnd.jupyter.widget-view+json": {
       "model_id": "42351c5e0cbf44a7a50ecc2d86ffa028",
       "version_major": 2,
       "version_minor": 0
      },
      "text/plain": [
       "  0%|          | 0/1 [00:00<?, ?it/s]"
      ]
     },
     "metadata": {},
     "output_type": "display_data"
    },
    {
     "name": "stdout",
     "output_type": "stream",
     "text": [
      "valset eval took 4.1 s\n",
      "Validating\n"
     ]
    },
    {
     "data": {
      "application/vnd.jupyter.widget-view+json": {
       "model_id": "93b73c99b62148ff88e7b92729925624",
       "version_major": 2,
       "version_minor": 0
      },
      "text/plain": [
       "  0%|          | 0/1 [00:00<?, ?it/s]"
      ]
     },
     "metadata": {},
     "output_type": "display_data"
    },
    {
     "name": "stdout",
     "output_type": "stream",
     "text": [
      "testset eval took 5.6 s\n",
      "Training\n",
      "Starting for loop\n"
     ]
    },
    {
     "data": {
      "application/vnd.jupyter.widget-view+json": {
       "model_id": "6ad56b17d8174d0e8e5a30695f4c3373",
       "version_major": 2,
       "version_minor": 0
      },
      "text/plain": [
       "  0%|          | 0/4 [00:00<?, ?it/s]"
      ]
     },
     "metadata": {},
     "output_type": "display_data"
    },
    {
     "name": "stdout",
     "output_type": "stream",
     "text": [
      "[Epoch 3]\t45.21 s\t0.3120\n",
      "training epoch took 56.7 s\n",
      "Validating\n"
     ]
    },
    {
     "data": {
      "application/vnd.jupyter.widget-view+json": {
       "model_id": "c66c1ecc7cf34da89b4403164b25f46f",
       "version_major": 2,
       "version_minor": 0
      },
      "text/plain": [
       "  0%|          | 0/1 [00:00<?, ?it/s]"
      ]
     },
     "metadata": {},
     "output_type": "display_data"
    },
    {
     "name": "stdout",
     "output_type": "stream",
     "text": [
      "valset eval took 4.1 s\n",
      "Validating\n"
     ]
    },
    {
     "data": {
      "application/vnd.jupyter.widget-view+json": {
       "model_id": "6246f04ddeda4060aa4330462fc3ccb3",
       "version_major": 2,
       "version_minor": 0
      },
      "text/plain": [
       "  0%|          | 0/1 [00:00<?, ?it/s]"
      ]
     },
     "metadata": {},
     "output_type": "display_data"
    },
    {
     "name": "stdout",
     "output_type": "stream",
     "text": [
      "testset eval took 5.5 s\n",
      "Training\n",
      "Starting for loop\n"
     ]
    },
    {
     "data": {
      "application/vnd.jupyter.widget-view+json": {
       "model_id": "6ddb4020c31e493195a735fe467e9b88",
       "version_major": 2,
       "version_minor": 0
      },
      "text/plain": [
       "  0%|          | 0/4 [00:00<?, ?it/s]"
      ]
     },
     "metadata": {},
     "output_type": "display_data"
    },
    {
     "name": "stdout",
     "output_type": "stream",
     "text": [
      "[Epoch 4]\t45.30 s\t0.3742\n",
      "training epoch took 56.8 s\n",
      "Validating\n"
     ]
    },
    {
     "data": {
      "application/vnd.jupyter.widget-view+json": {
       "model_id": "9ea770b237c94406aca99b8882f30024",
       "version_major": 2,
       "version_minor": 0
      },
      "text/plain": [
       "  0%|          | 0/1 [00:00<?, ?it/s]"
      ]
     },
     "metadata": {},
     "output_type": "display_data"
    },
    {
     "name": "stdout",
     "output_type": "stream",
     "text": [
      "valset eval took 4.1 s\n",
      "Validating\n"
     ]
    },
    {
     "data": {
      "application/vnd.jupyter.widget-view+json": {
       "model_id": "03db09f1df2e434882e748bbd91b6721",
       "version_major": 2,
       "version_minor": 0
      },
      "text/plain": [
       "  0%|          | 0/1 [00:00<?, ?it/s]"
      ]
     },
     "metadata": {},
     "output_type": "display_data"
    },
    {
     "name": "stdout",
     "output_type": "stream",
     "text": [
      "testset eval took 5.5 s\n",
      "Training\n",
      "Starting for loop\n"
     ]
    },
    {
     "data": {
      "application/vnd.jupyter.widget-view+json": {
       "model_id": "5f75a5ef7a614f4e9154de1738eff7db",
       "version_major": 2,
       "version_minor": 0
      },
      "text/plain": [
       "  0%|          | 0/4 [00:00<?, ?it/s]"
      ]
     },
     "metadata": {},
     "output_type": "display_data"
    },
    {
     "name": "stdout",
     "output_type": "stream",
     "text": [
      "[Epoch 5]\t45.20 s\t0.3311\n",
      "training epoch took 56.8 s\n",
      "Validating\n"
     ]
    },
    {
     "data": {
      "application/vnd.jupyter.widget-view+json": {
       "model_id": "ee73f53dcf0046108452c6cf4c914ecd",
       "version_major": 2,
       "version_minor": 0
      },
      "text/plain": [
       "  0%|          | 0/1 [00:00<?, ?it/s]"
      ]
     },
     "metadata": {},
     "output_type": "display_data"
    },
    {
     "name": "stdout",
     "output_type": "stream",
     "text": [
      "valset eval took 4.0 s\n",
      "Validating\n"
     ]
    },
    {
     "data": {
      "application/vnd.jupyter.widget-view+json": {
       "model_id": "3d90a562250e4b44bc47ff84541314ba",
       "version_major": 2,
       "version_minor": 0
      },
      "text/plain": [
       "  0%|          | 0/1 [00:00<?, ?it/s]"
      ]
     },
     "metadata": {},
     "output_type": "display_data"
    },
    {
     "name": "stdout",
     "output_type": "stream",
     "text": [
      "testset eval took 5.5 s\n",
      "Training\n",
      "Starting for loop\n"
     ]
    },
    {
     "data": {
      "application/vnd.jupyter.widget-view+json": {
       "model_id": "882aee6d1af845c4aeb104fbc4dceb4a",
       "version_major": 2,
       "version_minor": 0
      },
      "text/plain": [
       "  0%|          | 0/4 [00:00<?, ?it/s]"
      ]
     },
     "metadata": {},
     "output_type": "display_data"
    },
    {
     "name": "stdout",
     "output_type": "stream",
     "text": [
      "[Epoch 6]\t44.74 s\t0.2508\n",
      "training epoch took 56.2 s\n",
      "Validating\n"
     ]
    },
    {
     "data": {
      "application/vnd.jupyter.widget-view+json": {
       "model_id": "d7bb290a20524832b0932f0fe55247c0",
       "version_major": 2,
       "version_minor": 0
      },
      "text/plain": [
       "  0%|          | 0/1 [00:00<?, ?it/s]"
      ]
     },
     "metadata": {},
     "output_type": "display_data"
    },
    {
     "name": "stdout",
     "output_type": "stream",
     "text": [
      "valset eval took 4.1 s\n",
      "Validating\n"
     ]
    },
    {
     "data": {
      "application/vnd.jupyter.widget-view+json": {
       "model_id": "ef2fbe97aab2475fb8627ae4c2ef9d34",
       "version_major": 2,
       "version_minor": 0
      },
      "text/plain": [
       "  0%|          | 0/1 [00:00<?, ?it/s]"
      ]
     },
     "metadata": {},
     "output_type": "display_data"
    },
    {
     "name": "stdout",
     "output_type": "stream",
     "text": [
      "testset eval took 5.6 s\n",
      "Training\n",
      "Starting for loop\n"
     ]
    },
    {
     "data": {
      "application/vnd.jupyter.widget-view+json": {
       "model_id": "314cdec55a5a409d85d9ee12930d57fa",
       "version_major": 2,
       "version_minor": 0
      },
      "text/plain": [
       "  0%|          | 0/4 [00:00<?, ?it/s]"
      ]
     },
     "metadata": {},
     "output_type": "display_data"
    },
    {
     "name": "stdout",
     "output_type": "stream",
     "text": [
      "[Epoch 7]\t44.83 s\t0.2528\n",
      "training epoch took 56.3 s\n",
      "Validating\n"
     ]
    },
    {
     "data": {
      "application/vnd.jupyter.widget-view+json": {
       "model_id": "64f6cb3d52ba48e6bbb22a741bd5d294",
       "version_major": 2,
       "version_minor": 0
      },
      "text/plain": [
       "  0%|          | 0/1 [00:00<?, ?it/s]"
      ]
     },
     "metadata": {},
     "output_type": "display_data"
    },
    {
     "name": "stdout",
     "output_type": "stream",
     "text": [
      "valset eval took 4.0 s\n",
      "Validating\n"
     ]
    },
    {
     "data": {
      "application/vnd.jupyter.widget-view+json": {
       "model_id": "61f6bdf19dff45a185800fce56fb186a",
       "version_major": 2,
       "version_minor": 0
      },
      "text/plain": [
       "  0%|          | 0/1 [00:00<?, ?it/s]"
      ]
     },
     "metadata": {},
     "output_type": "display_data"
    },
    {
     "name": "stdout",
     "output_type": "stream",
     "text": [
      "testset eval took 5.5 s\n",
      "Training\n",
      "Starting for loop\n"
     ]
    },
    {
     "data": {
      "application/vnd.jupyter.widget-view+json": {
       "model_id": "97b5cf4da263481099038c8255a1e526",
       "version_major": 2,
       "version_minor": 0
      },
      "text/plain": [
       "  0%|          | 0/4 [00:00<?, ?it/s]"
      ]
     },
     "metadata": {},
     "output_type": "display_data"
    },
    {
     "name": "stdout",
     "output_type": "stream",
     "text": [
      "[Epoch 8]\t45.31 s\t0.2511\n",
      "training epoch took 56.8 s\n",
      "Validating\n"
     ]
    },
    {
     "data": {
      "application/vnd.jupyter.widget-view+json": {
       "model_id": "fd2170b899f94f5ead9e6bd8cffa1a85",
       "version_major": 2,
       "version_minor": 0
      },
      "text/plain": [
       "  0%|          | 0/1 [00:00<?, ?it/s]"
      ]
     },
     "metadata": {},
     "output_type": "display_data"
    },
    {
     "name": "stdout",
     "output_type": "stream",
     "text": [
      "valset eval took 4.0 s\n",
      "Validating\n"
     ]
    },
    {
     "data": {
      "application/vnd.jupyter.widget-view+json": {
       "model_id": "a6de14a7f46e420887c18fb3d0b69d1e",
       "version_major": 2,
       "version_minor": 0
      },
      "text/plain": [
       "  0%|          | 0/1 [00:00<?, ?it/s]"
      ]
     },
     "metadata": {},
     "output_type": "display_data"
    },
    {
     "name": "stdout",
     "output_type": "stream",
     "text": [
      "testset eval took 5.6 s\n",
      "Training\n",
      "Starting for loop\n"
     ]
    },
    {
     "data": {
      "application/vnd.jupyter.widget-view+json": {
       "model_id": "9d95c2cba56141f486cc8442670dd8b6",
       "version_major": 2,
       "version_minor": 0
      },
      "text/plain": [
       "  0%|          | 0/4 [00:00<?, ?it/s]"
      ]
     },
     "metadata": {},
     "output_type": "display_data"
    },
    {
     "name": "stdout",
     "output_type": "stream",
     "text": [
      "[Epoch 9]\t44.45 s\t0.2339\n",
      "training epoch took 55.9 s\n",
      "Validating\n"
     ]
    },
    {
     "data": {
      "application/vnd.jupyter.widget-view+json": {
       "model_id": "464a38534a164689971551d129ce1132",
       "version_major": 2,
       "version_minor": 0
      },
      "text/plain": [
       "  0%|          | 0/1 [00:00<?, ?it/s]"
      ]
     },
     "metadata": {},
     "output_type": "display_data"
    },
    {
     "name": "stdout",
     "output_type": "stream",
     "text": [
      "valset eval took 4.2 s\n",
      "Validating\n"
     ]
    },
    {
     "data": {
      "application/vnd.jupyter.widget-view+json": {
       "model_id": "346aa4d2b6064ca894d0502f105195f0",
       "version_major": 2,
       "version_minor": 0
      },
      "text/plain": [
       "  0%|          | 0/1 [00:00<?, ?it/s]"
      ]
     },
     "metadata": {},
     "output_type": "display_data"
    },
    {
     "name": "stdout",
     "output_type": "stream",
     "text": [
      "testset eval took 5.5 s\n",
      "Training\n",
      "Starting for loop\n"
     ]
    },
    {
     "data": {
      "application/vnd.jupyter.widget-view+json": {
       "model_id": "118a3dd4602946a182376032e986ac15",
       "version_major": 2,
       "version_minor": 0
      },
      "text/plain": [
       "  0%|          | 0/4 [00:00<?, ?it/s]"
      ]
     },
     "metadata": {},
     "output_type": "display_data"
    },
    {
     "name": "stdout",
     "output_type": "stream",
     "text": [
      "[Epoch 10]\t44.71 s\t0.2272\n",
      "training epoch took 56.2 s\n",
      "Validating\n"
     ]
    },
    {
     "data": {
      "application/vnd.jupyter.widget-view+json": {
       "model_id": "f624f5fe49e847b6a9df0c7a9350edd2",
       "version_major": 2,
       "version_minor": 0
      },
      "text/plain": [
       "  0%|          | 0/1 [00:00<?, ?it/s]"
      ]
     },
     "metadata": {},
     "output_type": "display_data"
    },
    {
     "name": "stdout",
     "output_type": "stream",
     "text": [
      "valset eval took 4.2 s\n",
      "Validating\n"
     ]
    },
    {
     "data": {
      "application/vnd.jupyter.widget-view+json": {
       "model_id": "519535fe810d462281cde1834eced8a0",
       "version_major": 2,
       "version_minor": 0
      },
      "text/plain": [
       "  0%|          | 0/1 [00:00<?, ?it/s]"
      ]
     },
     "metadata": {},
     "output_type": "display_data"
    },
    {
     "name": "stdout",
     "output_type": "stream",
     "text": [
      "testset eval took 5.7 s\n",
      "Training\n",
      "Starting for loop\n"
     ]
    },
    {
     "data": {
      "application/vnd.jupyter.widget-view+json": {
       "model_id": "dcad627959364c0cae89fa4235f27600",
       "version_major": 2,
       "version_minor": 0
      },
      "text/plain": [
       "  0%|          | 0/4 [00:00<?, ?it/s]"
      ]
     },
     "metadata": {},
     "output_type": "display_data"
    },
    {
     "name": "stdout",
     "output_type": "stream",
     "text": [
      "[Epoch 11]\t45.04 s\t0.2030\n",
      "training epoch took 56.5 s\n",
      "Validating\n"
     ]
    },
    {
     "data": {
      "application/vnd.jupyter.widget-view+json": {
       "model_id": "5e6e065ea8344898b6016fa4caf1cf82",
       "version_major": 2,
       "version_minor": 0
      },
      "text/plain": [
       "  0%|          | 0/1 [00:00<?, ?it/s]"
      ]
     },
     "metadata": {},
     "output_type": "display_data"
    },
    {
     "name": "stdout",
     "output_type": "stream",
     "text": [
      "valset eval took 4.1 s\n",
      "Validating\n"
     ]
    },
    {
     "data": {
      "application/vnd.jupyter.widget-view+json": {
       "model_id": "0e57755e429749ef892efeaace997839",
       "version_major": 2,
       "version_minor": 0
      },
      "text/plain": [
       "  0%|          | 0/1 [00:00<?, ?it/s]"
      ]
     },
     "metadata": {},
     "output_type": "display_data"
    },
    {
     "name": "stdout",
     "output_type": "stream",
     "text": [
      "testset eval took 5.5 s\n",
      "Training\n",
      "Starting for loop\n"
     ]
    },
    {
     "data": {
      "application/vnd.jupyter.widget-view+json": {
       "model_id": "71dfe258f8914f5fa36e309d8e83b342",
       "version_major": 2,
       "version_minor": 0
      },
      "text/plain": [
       "  0%|          | 0/4 [00:00<?, ?it/s]"
      ]
     },
     "metadata": {},
     "output_type": "display_data"
    },
    {
     "name": "stdout",
     "output_type": "stream",
     "text": [
      "[Epoch 12]\t44.67 s\t0.2005\n",
      "training epoch took 56.1 s\n",
      "Validating\n"
     ]
    },
    {
     "data": {
      "application/vnd.jupyter.widget-view+json": {
       "model_id": "536388430eca477dbf7286ba1b4da0cb",
       "version_major": 2,
       "version_minor": 0
      },
      "text/plain": [
       "  0%|          | 0/1 [00:00<?, ?it/s]"
      ]
     },
     "metadata": {},
     "output_type": "display_data"
    },
    {
     "name": "stdout",
     "output_type": "stream",
     "text": [
      "valset eval took 4.1 s\n",
      "Validating\n"
     ]
    },
    {
     "data": {
      "application/vnd.jupyter.widget-view+json": {
       "model_id": "d92abbc1df124246b70653015e006033",
       "version_major": 2,
       "version_minor": 0
      },
      "text/plain": [
       "  0%|          | 0/1 [00:00<?, ?it/s]"
      ]
     },
     "metadata": {},
     "output_type": "display_data"
    },
    {
     "name": "stdout",
     "output_type": "stream",
     "text": [
      "testset eval took 5.6 s\n",
      "Training\n",
      "Starting for loop\n"
     ]
    },
    {
     "data": {
      "application/vnd.jupyter.widget-view+json": {
       "model_id": "80ac32550f7f412b9718818df50f238e",
       "version_major": 2,
       "version_minor": 0
      },
      "text/plain": [
       "  0%|          | 0/4 [00:00<?, ?it/s]"
      ]
     },
     "metadata": {},
     "output_type": "display_data"
    },
    {
     "name": "stdout",
     "output_type": "stream",
     "text": [
      "[Epoch 13]\t44.81 s\t0.2030\n",
      "training epoch took 56.3 s\n",
      "Validating\n"
     ]
    },
    {
     "data": {
      "application/vnd.jupyter.widget-view+json": {
       "model_id": "61d1472a2cab4f2aac463c32fb2eb4cb",
       "version_major": 2,
       "version_minor": 0
      },
      "text/plain": [
       "  0%|          | 0/1 [00:00<?, ?it/s]"
      ]
     },
     "metadata": {},
     "output_type": "display_data"
    },
    {
     "name": "stdout",
     "output_type": "stream",
     "text": [
      "valset eval took 4.1 s\n",
      "Validating\n"
     ]
    },
    {
     "data": {
      "application/vnd.jupyter.widget-view+json": {
       "model_id": "c77a3a5327a14eea88961b4d9a1f573a",
       "version_major": 2,
       "version_minor": 0
      },
      "text/plain": [
       "  0%|          | 0/1 [00:00<?, ?it/s]"
      ]
     },
     "metadata": {},
     "output_type": "display_data"
    },
    {
     "name": "stdout",
     "output_type": "stream",
     "text": [
      "testset eval took 5.6 s\n",
      "Training\n",
      "Starting for loop\n"
     ]
    },
    {
     "data": {
      "application/vnd.jupyter.widget-view+json": {
       "model_id": "c11b504ada7642278335b6ddcfa7ed93",
       "version_major": 2,
       "version_minor": 0
      },
      "text/plain": [
       "  0%|          | 0/4 [00:00<?, ?it/s]"
      ]
     },
     "metadata": {},
     "output_type": "display_data"
    },
    {
     "name": "stdout",
     "output_type": "stream",
     "text": [
      "[Epoch 14]\t44.44 s\t0.1914\n",
      "training epoch took 55.9 s\n",
      "Validating\n"
     ]
    },
    {
     "data": {
      "application/vnd.jupyter.widget-view+json": {
       "model_id": "06b684609ca64a90b1bc4a44870d5824",
       "version_major": 2,
       "version_minor": 0
      },
      "text/plain": [
       "  0%|          | 0/1 [00:00<?, ?it/s]"
      ]
     },
     "metadata": {},
     "output_type": "display_data"
    },
    {
     "name": "stdout",
     "output_type": "stream",
     "text": [
      "valset eval took 4.1 s\n",
      "Validating\n"
     ]
    },
    {
     "data": {
      "application/vnd.jupyter.widget-view+json": {
       "model_id": "f0f977323be34926a2e7dbe8293295b2",
       "version_major": 2,
       "version_minor": 0
      },
      "text/plain": [
       "  0%|          | 0/1 [00:00<?, ?it/s]"
      ]
     },
     "metadata": {},
     "output_type": "display_data"
    },
    {
     "name": "stdout",
     "output_type": "stream",
     "text": [
      "testset eval took 5.5 s\n"
     ]
    }
   ],
   "source": [
    "metriclogs = {}\n",
    "metriclogs['training_loss'] = []\n",
    "metriclogs['val_loss'] = []\n",
    "metriclogs['test_loss'] = []\n",
    "\n",
    "paramstrings = []\n",
    "paramstrings.append('regression')\n",
    "paramstrings.append(name)\n",
    "paramstrings.append('augment')\n",
    "paramstrings.append('normalize')\n",
    "paramstr = '_'.join(paramstrings)\n",
    "\n",
    "n_epochs = 15\n",
    "for epoch in range(n_epochs):\n",
    "    # train\n",
    "    start_time = time.time()\n",
    "    avg_loss_training = fit(model, criterion, optimizer, dl_train, device, epoch_num=epoch)\n",
    "    stop_time = time.time()\n",
    "    print('training epoch took %0.1f s'%(stop_time-start_time))\n",
    "    metriclogs['training_loss'].append(avg_loss_training)\n",
    "\n",
    "    # validate on val set\n",
    "    start_time = time.time()\n",
    "    valset_eval = validate(model, [criterion], dl_val, device)\n",
    "    stop_time = time.time()\n",
    "    print('valset eval took %0.1f s'%(stop_time-start_time))\n",
    "    metriclogs['val_loss'].append(valset_eval[0])\n",
    "\n",
    "    # validate on test set (peeking)\n",
    "    start_time = time.time()\n",
    "    testset_eval = validate(model, [criterion], dl_test, device)\n",
    "    stop_time = time.time()\n",
    "    print('testset eval took %0.1f s'%(stop_time-start_time))\n",
    "    metriclogs['test_loss'].append(testset_eval[0])\n",
    "\n",
    "    # update lr scheduler\n",
    "    scheduler.step(valset_eval[0])\n",
    "\n",
    "    # periodically save model checkpoints\n",
    "    epoch_checkpoint_file = './epoch%d_'%epoch + '.ckpt'\n",
    "    epoch_checkpoint_save_path = os.path.join(model_dir, epoch_checkpoint_file)\n",
    "    torch.save({\n",
    "        'epoch': epoch,\n",
    "        'model_state_dict': model.state_dict(),\n",
    "        'optimizer_state_dict': optimizer.state_dict(),\n",
    "        'training_loss': avg_loss_training,\n",
    "        }, epoch_checkpoint_save_path)\n",
    "\n",
    "    #  after [unfreeze_after] epochs, unfreeze the pretrained body network parameters\n",
    "    if (epoch+1) == unfreeze_after:\n",
    "        print('UNFREEZING CNN BODY')\n",
    "        for p in list(model.children())[0].parameters():\n",
    "            p.requires_grad = True\n",
    "\n",
    "# save losses and any other metrics tracked during training\n",
    "metrics_file = 'metrics_per_epoch_'+ paramstr + '.pkl'\n",
    "metrics_save_path = os.path.join('.', metrics_file)\n",
    "with open(metrics_save_path, 'wb') as f:\n",
    "    pickle.dump(metriclogs, f, protocol=pickle.HIGHEST_PROTOCOL)"
   ]
  },
  {
   "cell_type": "code",
   "execution_count": 142,
   "id": "e042d3a1-2b7b-4922-ac5c-72a839fd538d",
   "metadata": {},
   "outputs": [
    {
     "data": {
      "text/html": [
       "<div>\n",
       "<style scoped>\n",
       "    .dataframe tbody tr th:only-of-type {\n",
       "        vertical-align: middle;\n",
       "    }\n",
       "\n",
       "    .dataframe tbody tr th {\n",
       "        vertical-align: top;\n",
       "    }\n",
       "\n",
       "    .dataframe thead th {\n",
       "        text-align: right;\n",
       "    }\n",
       "</style>\n",
       "<table border=\"1\" class=\"dataframe\">\n",
       "  <thead>\n",
       "    <tr style=\"text-align: right;\">\n",
       "      <th></th>\n",
       "      <th>training_loss</th>\n",
       "      <th>val_loss</th>\n",
       "      <th>test_loss</th>\n",
       "    </tr>\n",
       "    <tr>\n",
       "      <th>epoch</th>\n",
       "      <th></th>\n",
       "      <th></th>\n",
       "      <th></th>\n",
       "    </tr>\n",
       "  </thead>\n",
       "  <tbody>\n",
       "    <tr>\n",
       "      <th>0</th>\n",
       "      <td>0.687162</td>\n",
       "      <td>0.586665</td>\n",
       "      <td>0.483516</td>\n",
       "    </tr>\n",
       "    <tr>\n",
       "      <th>1</th>\n",
       "      <td>0.771719</td>\n",
       "      <td>0.625346</td>\n",
       "      <td>0.519164</td>\n",
       "    </tr>\n",
       "    <tr>\n",
       "      <th>2</th>\n",
       "      <td>0.604068</td>\n",
       "      <td>0.309595</td>\n",
       "      <td>0.214372</td>\n",
       "    </tr>\n",
       "    <tr>\n",
       "      <th>3</th>\n",
       "      <td>0.312005</td>\n",
       "      <td>0.351096</td>\n",
       "      <td>0.255385</td>\n",
       "    </tr>\n",
       "    <tr>\n",
       "      <th>4</th>\n",
       "      <td>0.374152</td>\n",
       "      <td>0.409360</td>\n",
       "      <td>0.309256</td>\n",
       "    </tr>\n",
       "    <tr>\n",
       "      <th>5</th>\n",
       "      <td>0.331122</td>\n",
       "      <td>0.317775</td>\n",
       "      <td>0.218138</td>\n",
       "    </tr>\n",
       "    <tr>\n",
       "      <th>6</th>\n",
       "      <td>0.250779</td>\n",
       "      <td>0.248382</td>\n",
       "      <td>0.147546</td>\n",
       "    </tr>\n",
       "    <tr>\n",
       "      <th>7</th>\n",
       "      <td>0.252793</td>\n",
       "      <td>0.238105</td>\n",
       "      <td>0.135416</td>\n",
       "    </tr>\n",
       "    <tr>\n",
       "      <th>8</th>\n",
       "      <td>0.251063</td>\n",
       "      <td>0.238422</td>\n",
       "      <td>0.134619</td>\n",
       "    </tr>\n",
       "    <tr>\n",
       "      <th>9</th>\n",
       "      <td>0.233938</td>\n",
       "      <td>0.234053</td>\n",
       "      <td>0.127538</td>\n",
       "    </tr>\n",
       "    <tr>\n",
       "      <th>10</th>\n",
       "      <td>0.227240</td>\n",
       "      <td>0.243308</td>\n",
       "      <td>0.132820</td>\n",
       "    </tr>\n",
       "    <tr>\n",
       "      <th>11</th>\n",
       "      <td>0.202973</td>\n",
       "      <td>0.258611</td>\n",
       "      <td>0.143053</td>\n",
       "    </tr>\n",
       "    <tr>\n",
       "      <th>12</th>\n",
       "      <td>0.200487</td>\n",
       "      <td>0.262250</td>\n",
       "      <td>0.144768</td>\n",
       "    </tr>\n",
       "    <tr>\n",
       "      <th>13</th>\n",
       "      <td>0.203005</td>\n",
       "      <td>0.261384</td>\n",
       "      <td>0.141986</td>\n",
       "    </tr>\n",
       "    <tr>\n",
       "      <th>14</th>\n",
       "      <td>0.191407</td>\n",
       "      <td>0.259190</td>\n",
       "      <td>0.139242</td>\n",
       "    </tr>\n",
       "  </tbody>\n",
       "</table>\n",
       "</div>"
      ],
      "text/plain": [
       "       training_loss  val_loss  test_loss\n",
       "epoch                                    \n",
       "0           0.687162  0.586665   0.483516\n",
       "1           0.771719  0.625346   0.519164\n",
       "2           0.604068  0.309595   0.214372\n",
       "3           0.312005  0.351096   0.255385\n",
       "4           0.374152  0.409360   0.309256\n",
       "5           0.331122  0.317775   0.218138\n",
       "6           0.250779  0.248382   0.147546\n",
       "7           0.252793  0.238105   0.135416\n",
       "8           0.251063  0.238422   0.134619\n",
       "9           0.233938  0.234053   0.127538\n",
       "10          0.227240  0.243308   0.132820\n",
       "11          0.202973  0.258611   0.143053\n",
       "12          0.200487  0.262250   0.144768\n",
       "13          0.203005  0.261384   0.141986\n",
       "14          0.191407  0.259190   0.139242"
      ]
     },
     "execution_count": 142,
     "metadata": {},
     "output_type": "execute_result"
    }
   ],
   "source": [
    "df_metrics = pd.DataFrame(data=metriclogs)\n",
    "df_metrics['epoch'] = df_metrics.index\n",
    "df_metrics = df_metrics.set_index('epoch')\n",
    "df_metrics"
   ]
  },
  {
   "cell_type": "code",
   "execution_count": 145,
   "id": "22b24620-5354-4d5a-8fab-c560d8644878",
   "metadata": {},
   "outputs": [
    {
     "data": {
      "text/plain": [
       "<AxesSubplot:xlabel='epoch'>"
      ]
     },
     "execution_count": 145,
     "metadata": {},
     "output_type": "execute_result"
    },
    {
     "data": {
      "image/png": "[encoded data removed]",
      "text/plain": [
       "<Figure size 432x288 with 1 Axes>"
      ]
     },
     "metadata": {
      "needs_background": "light"
     },
     "output_type": "display_data"
    }
   ],
   "source": [
    "sns.lineplot(data=df_metrics)"
   ]
  },
  {
   "cell_type": "code",
   "execution_count": 146,
   "id": "8ddd4dc7-cde0-40f6-9c23-efe1f11a5339",
   "metadata": {},
   "outputs": [],
   "source": [
    "dl_train2 = DataLoader(ds_train, batch_size=batch_size, shuffle=False, num_workers=0)\n",
    "dl_val2 = DataLoader(ds_val, batch_size=batch_size, shuffle=False, num_workers=0)\n",
    "dl_test2 = DataLoader(ds_test, batch_size=batch_size, shuffle=False, num_workers=0)"
   ]
  },
  {
   "cell_type": "code",
   "execution_count": 150,
   "id": "40482933-cc20-4cd9-989a-43cff35d4258",
   "metadata": {},
   "outputs": [
    {
     "data": {
      "text/plain": [
       "ResNetRegressionNet(\n",
       "  (resnetbody): ResNet18(\n",
       "    (model): Sequential(\n",
       "      (0): Conv2d(3, 64, kernel_size=(7, 7), stride=(2, 2), padding=(3, 3), bias=False)\n",
       "      (1): BatchNorm2d(64, eps=1e-05, momentum=0.1, affine=True, track_running_stats=True)\n",
       "      (2): ReLU(inplace=True)\n",
       "      (3): MaxPool2d(kernel_size=3, stride=2, padding=1, dilation=1, ceil_mode=False)\n",
       "      (4): Sequential(\n",
       "        (0): BasicBlock(\n",
       "          (conv1): Conv2d(64, 64, kernel_size=(3, 3), stride=(1, 1), padding=(1, 1), bias=False)\n",
       "          (bn1): BatchNorm2d(64, eps=1e-05, momentum=0.1, affine=True, track_running_stats=True)\n",
       "          (relu): ReLU(inplace=True)\n",
       "          (conv2): Conv2d(64, 64, kernel_size=(3, 3), stride=(1, 1), padding=(1, 1), bias=False)\n",
       "          (bn2): BatchNorm2d(64, eps=1e-05, momentum=0.1, affine=True, track_running_stats=True)\n",
       "        )\n",
       "        (1): BasicBlock(\n",
       "          (conv1): Conv2d(64, 64, kernel_size=(3, 3), stride=(1, 1), padding=(1, 1), bias=False)\n",
       "          (bn1): BatchNorm2d(64, eps=1e-05, momentum=0.1, affine=True, track_running_stats=True)\n",
       "          (relu): ReLU(inplace=True)\n",
       "          (conv2): Conv2d(64, 64, kernel_size=(3, 3), stride=(1, 1), padding=(1, 1), bias=False)\n",
       "          (bn2): BatchNorm2d(64, eps=1e-05, momentum=0.1, affine=True, track_running_stats=True)\n",
       "        )\n",
       "      )\n",
       "      (5): Sequential(\n",
       "        (0): BasicBlock(\n",
       "          (conv1): Conv2d(64, 128, kernel_size=(3, 3), stride=(2, 2), padding=(1, 1), bias=False)\n",
       "          (bn1): BatchNorm2d(128, eps=1e-05, momentum=0.1, affine=True, track_running_stats=True)\n",
       "          (relu): ReLU(inplace=True)\n",
       "          (conv2): Conv2d(128, 128, kernel_size=(3, 3), stride=(1, 1), padding=(1, 1), bias=False)\n",
       "          (bn2): BatchNorm2d(128, eps=1e-05, momentum=0.1, affine=True, track_running_stats=True)\n",
       "          (downsample): Sequential(\n",
       "            (0): Conv2d(64, 128, kernel_size=(1, 1), stride=(2, 2), bias=False)\n",
       "            (1): BatchNorm2d(128, eps=1e-05, momentum=0.1, affine=True, track_running_stats=True)\n",
       "          )\n",
       "        )\n",
       "        (1): BasicBlock(\n",
       "          (conv1): Conv2d(128, 128, kernel_size=(3, 3), stride=(1, 1), padding=(1, 1), bias=False)\n",
       "          (bn1): BatchNorm2d(128, eps=1e-05, momentum=0.1, affine=True, track_running_stats=True)\n",
       "          (relu): ReLU(inplace=True)\n",
       "          (conv2): Conv2d(128, 128, kernel_size=(3, 3), stride=(1, 1), padding=(1, 1), bias=False)\n",
       "          (bn2): BatchNorm2d(128, eps=1e-05, momentum=0.1, affine=True, track_running_stats=True)\n",
       "        )\n",
       "      )\n",
       "      (6): Sequential(\n",
       "        (0): BasicBlock(\n",
       "          (conv1): Conv2d(128, 256, kernel_size=(3, 3), stride=(2, 2), padding=(1, 1), bias=False)\n",
       "          (bn1): BatchNorm2d(256, eps=1e-05, momentum=0.1, affine=True, track_running_stats=True)\n",
       "          (relu): ReLU(inplace=True)\n",
       "          (conv2): Conv2d(256, 256, kernel_size=(3, 3), stride=(1, 1), padding=(1, 1), bias=False)\n",
       "          (bn2): BatchNorm2d(256, eps=1e-05, momentum=0.1, affine=True, track_running_stats=True)\n",
       "          (downsample): Sequential(\n",
       "            (0): Conv2d(128, 256, kernel_size=(1, 1), stride=(2, 2), bias=False)\n",
       "            (1): BatchNorm2d(256, eps=1e-05, momentum=0.1, affine=True, track_running_stats=True)\n",
       "          )\n",
       "        )\n",
       "        (1): BasicBlock(\n",
       "          (conv1): Conv2d(256, 256, kernel_size=(3, 3), stride=(1, 1), padding=(1, 1), bias=False)\n",
       "          (bn1): BatchNorm2d(256, eps=1e-05, momentum=0.1, affine=True, track_running_stats=True)\n",
       "          (relu): ReLU(inplace=True)\n",
       "          (conv2): Conv2d(256, 256, kernel_size=(3, 3), stride=(1, 1), padding=(1, 1), bias=False)\n",
       "          (bn2): BatchNorm2d(256, eps=1e-05, momentum=0.1, affine=True, track_running_stats=True)\n",
       "        )\n",
       "      )\n",
       "      (7): Sequential(\n",
       "        (0): BasicBlock(\n",
       "          (conv1): Conv2d(256, 512, kernel_size=(3, 3), stride=(2, 2), padding=(1, 1), bias=False)\n",
       "          (bn1): BatchNorm2d(512, eps=1e-05, momentum=0.1, affine=True, track_running_stats=True)\n",
       "          (relu): ReLU(inplace=True)\n",
       "          (conv2): Conv2d(512, 512, kernel_size=(3, 3), stride=(1, 1), padding=(1, 1), bias=False)\n",
       "          (bn2): BatchNorm2d(512, eps=1e-05, momentum=0.1, affine=True, track_running_stats=True)\n",
       "          (downsample): Sequential(\n",
       "            (0): Conv2d(256, 512, kernel_size=(1, 1), stride=(2, 2), bias=False)\n",
       "            (1): BatchNorm2d(512, eps=1e-05, momentum=0.1, affine=True, track_running_stats=True)\n",
       "          )\n",
       "        )\n",
       "        (1): BasicBlock(\n",
       "          (conv1): Conv2d(512, 512, kernel_size=(3, 3), stride=(1, 1), padding=(1, 1), bias=False)\n",
       "          (bn1): BatchNorm2d(512, eps=1e-05, momentum=0.1, affine=True, track_running_stats=True)\n",
       "          (relu): ReLU(inplace=True)\n",
       "          (conv2): Conv2d(512, 512, kernel_size=(3, 3), stride=(1, 1), padding=(1, 1), bias=False)\n",
       "          (bn2): BatchNorm2d(512, eps=1e-05, momentum=0.1, affine=True, track_running_stats=True)\n",
       "        )\n",
       "      )\n",
       "    )\n",
       "  )\n",
       "  (avgpool): AdaptiveAvgPool2d(output_size=(1, 1))\n",
       "  (fclayers): Sequential(\n",
       "    (0): Linear(in_features=512, out_features=256, bias=True)\n",
       "    (1): ReLU()\n",
       "    (2): Linear(in_features=256, out_features=64, bias=True)\n",
       "    (3): ReLU()\n",
       "    (4): Linear(in_features=64, out_features=1, bias=True)\n",
       "  )\n",
       ")"
      ]
     },
     "execution_count": 150,
     "metadata": {},
     "output_type": "execute_result"
    }
   ],
   "source": [
    "ckpt_path = os.path.join(model_dir, f'epoch{n_epochs - 1}_.ckpt')\n",
    "checkpoint = torch.load(ckpt_path)\n",
    "model.load_state_dict(checkpoint['model_state_dict'])\n",
    "model.eval()"
   ]
  },
  {
   "cell_type": "code",
   "execution_count": 166,
   "id": "f1a7472d-8373-4bde-8a63-72c6f38dc6ef",
   "metadata": {},
   "outputs": [
    {
     "data": {
      "application/vnd.jupyter.widget-view+json": {
       "model_id": "0f1f9634db21437ca09d6b42dc846448",
       "version_major": 2,
       "version_minor": 0
      },
      "text/plain": [
       "  0%|          | 0/4 [00:00<?, ?it/s]"
      ]
     },
     "metadata": {},
     "output_type": "display_data"
    },
    {
     "data": {
      "application/vnd.jupyter.widget-view+json": {
       "model_id": "5c86085494b44631840c0052a9d7319b",
       "version_major": 2,
       "version_minor": 0
      },
      "text/plain": [
       "  0%|          | 0/1 [00:00<?, ?it/s]"
      ]
     },
     "metadata": {},
     "output_type": "display_data"
    },
    {
     "data": {
      "application/vnd.jupyter.widget-view+json": {
       "model_id": "c662e480377f4a3a80125ebce20b807b",
       "version_major": 2,
       "version_minor": 0
      },
      "text/plain": [
       "  0%|          | 0/1 [00:00<?, ?it/s]"
      ]
     },
     "metadata": {},
     "output_type": "display_data"
    }
   ],
   "source": [
    "for dl in [dl_train2, dl_val2, dl_test2]:\n",
    "        dl.dataset.evaluate()\n",
    "        scores = np.empty((len(dl.dataset),))\n",
    "        sidx = 0\n",
    "        with torch.no_grad():\n",
    "            for bidx, batch in tqdm(enumerate(dl), total=len(dl)):\n",
    "                inputs, labels = batch\n",
    "                nsamples = labels.shape[0]\n",
    "                outputs = model(inputs.to(device))\n",
    "                scores[sidx:sidx+nsamples] = outputs.detach().cpu().numpy()\n",
    "                sidx += nsamples\n",
    "        dl.dataset.table.loc[:,'preds'] = np.exp(scores)"
   ]
  },
  {
   "cell_type": "code",
   "execution_count": 187,
   "id": "274aeacf-50d9-4cc9-b915-95f9c3707aa7",
   "metadata": {},
   "outputs": [],
   "source": [
    "train_pred_f = 'pred_train.csv'\n",
    "train_pred_save_path = os.path.join(pred_dir, train_pred_f)\n",
    "dl_train2.dataset.table.to_csv(train_pred_save_path)\n",
    "\n",
    "val_pred_f = 'pred_val.csv'\n",
    "val_pred_save_path = os.path.join(pred_dir, val_pred_f)\n",
    "dl_val2.dataset.table.to_csv(val_pred_save_path)\n",
    "\n",
    "test_pred_f = 'pred_test.csv'\n",
    "test_pred_save_path = os.path.join(pred_dir, test_pred_f)\n",
    "dl_test2.dataset.table.to_csv(test_pred_save_path)"
   ]
  },
  {
   "cell_type": "code",
   "execution_count": 188,
   "id": "4f201daa-3a93-48f0-ba03-d78bb7a03d58",
   "metadata": {},
   "outputs": [
    {
     "data": {
      "image/png": "[encoded data removed]",
      "text/plain": [
       "<Figure size 864x288 with 3 Axes>"
      ]
     },
     "metadata": {
      "needs_background": "light"
     },
     "output_type": "display_data"
    }
   ],
   "source": [
    "f, axs = plt.subplots(1, 3, figsize=(12, 4))\n",
    "sns.regplot(x=dl_train2.dataset.table.mean_flow_cfs, y=dl_train2.dataset.table.preds, ax=axs[0]).set(title=\"train\")\n",
    "sns.regplot(x=dl_val2.dataset.table.mean_flow_cfs, y=dl_val2.dataset.table.preds, ax=axs[1]).set(title=\"val\")\n",
    "sns.regplot(x=dl_test2.dataset.table.mean_flow_cfs, y=dl_test2.dataset.table.preds, ax=axs[2]).set(title=\"test\")\n",
    "f.tight_layout()"
   ]
  },
  {
   "cell_type": "code",
   "execution_count": 189,
   "id": "f07de7f2-95b1-4283-939a-79245623d6a2",
   "metadata": {},
   "outputs": [
    {
     "data": {
      "text/html": [
       "<div>\n",
       "<style scoped>\n",
       "    .dataframe tbody tr th:only-of-type {\n",
       "        vertical-align: middle;\n",
       "    }\n",
       "\n",
       "    .dataframe tbody tr th {\n",
       "        vertical-align: top;\n",
       "    }\n",
       "\n",
       "    .dataframe thead th {\n",
       "        text-align: right;\n",
       "    }\n",
       "</style>\n",
       "<table border=\"1\" class=\"dataframe\">\n",
       "  <thead>\n",
       "    <tr style=\"text-align: right;\">\n",
       "      <th></th>\n",
       "      <th>year</th>\n",
       "      <th>week</th>\n",
       "      <th>filename</th>\n",
       "      <th>timestamp</th>\n",
       "      <th>flow_cfs</th>\n",
       "      <th>mean_flow_cfs</th>\n",
       "      <th>flow_class</th>\n",
       "      <th>week_index</th>\n",
       "      <th>preds</th>\n",
       "    </tr>\n",
       "  </thead>\n",
       "  <tbody>\n",
       "    <tr>\n",
       "      <th>1</th>\n",
       "      <td>2018</td>\n",
       "      <td>39</td>\n",
       "      <td>20180929_1300_ParkersBrook.JPG</td>\n",
       "      <td>2018-09-29 09:00:00-04:00</td>\n",
       "      <td>11.750000</td>\n",
       "      <td>11.540000</td>\n",
       "      <td>med</td>\n",
       "      <td>15</td>\n",
       "      <td>11.383570</td>\n",
       "    </tr>\n",
       "    <tr>\n",
       "      <th>5</th>\n",
       "      <td>2019</td>\n",
       "      <td>42</td>\n",
       "      <td>20191015_1400_ParkersBrook.jpg</td>\n",
       "      <td>2019-10-15 10:00:00-04:00</td>\n",
       "      <td>6.220000</td>\n",
       "      <td>5.924000</td>\n",
       "      <td>low</td>\n",
       "      <td>70</td>\n",
       "      <td>8.280393</td>\n",
       "    </tr>\n",
       "    <tr>\n",
       "      <th>6</th>\n",
       "      <td>2018</td>\n",
       "      <td>29</td>\n",
       "      <td>20180717_1900_ParkersBrook.JPG</td>\n",
       "      <td>2018-07-17 15:00:00-04:00</td>\n",
       "      <td>45.389999</td>\n",
       "      <td>15.221250</td>\n",
       "      <td>med</td>\n",
       "      <td>5</td>\n",
       "      <td>21.587089</td>\n",
       "    </tr>\n",
       "    <tr>\n",
       "      <th>8</th>\n",
       "      <td>2019</td>\n",
       "      <td>19</td>\n",
       "      <td>20190510_1800_ParkersBrook.jpg</td>\n",
       "      <td>2019-05-10 14:00:00-04:00</td>\n",
       "      <td>15.110000</td>\n",
       "      <td>15.942500</td>\n",
       "      <td>med</td>\n",
       "      <td>47</td>\n",
       "      <td>19.374995</td>\n",
       "    </tr>\n",
       "    <tr>\n",
       "      <th>11</th>\n",
       "      <td>2018</td>\n",
       "      <td>36</td>\n",
       "      <td>20180909_1200_ParkersBrook.JPG</td>\n",
       "      <td>2018-09-09 08:00:00-04:00</td>\n",
       "      <td>2.880000</td>\n",
       "      <td>3.436250</td>\n",
       "      <td>low</td>\n",
       "      <td>12</td>\n",
       "      <td>7.153074</td>\n",
       "    </tr>\n",
       "    <tr>\n",
       "      <th>...</th>\n",
       "      <td>...</td>\n",
       "      <td>...</td>\n",
       "      <td>...</td>\n",
       "      <td>...</td>\n",
       "      <td>...</td>\n",
       "      <td>...</td>\n",
       "      <td>...</td>\n",
       "      <td>...</td>\n",
       "      <td>...</td>\n",
       "    </tr>\n",
       "    <tr>\n",
       "      <th>493</th>\n",
       "      <td>2018</td>\n",
       "      <td>25</td>\n",
       "      <td>20180621_1100_ParkersBrook.JPG</td>\n",
       "      <td>2018-06-21 07:00:00-04:00</td>\n",
       "      <td>3.160000</td>\n",
       "      <td>3.633000</td>\n",
       "      <td>low</td>\n",
       "      <td>1</td>\n",
       "      <td>6.847577</td>\n",
       "    </tr>\n",
       "    <tr>\n",
       "      <th>494</th>\n",
       "      <td>2019</td>\n",
       "      <td>13</td>\n",
       "      <td>20190331_1600_ParkersBrook.jpg</td>\n",
       "      <td>2019-03-31 12:00:00-04:00</td>\n",
       "      <td>22.590000</td>\n",
       "      <td>16.254000</td>\n",
       "      <td>med</td>\n",
       "      <td>41</td>\n",
       "      <td>23.447993</td>\n",
       "    </tr>\n",
       "    <tr>\n",
       "      <th>497</th>\n",
       "      <td>2018</td>\n",
       "      <td>32</td>\n",
       "      <td>20180810_1400_ParkersBrook.JPG</td>\n",
       "      <td>2018-08-10 10:00:00-04:00</td>\n",
       "      <td>14.500000</td>\n",
       "      <td>21.090000</td>\n",
       "      <td>high</td>\n",
       "      <td>8</td>\n",
       "      <td>13.785186</td>\n",
       "    </tr>\n",
       "    <tr>\n",
       "      <th>498</th>\n",
       "      <td>2018</td>\n",
       "      <td>32</td>\n",
       "      <td>20180808_1100_ParkersBrook.JPG</td>\n",
       "      <td>2018-08-08 07:00:00-04:00</td>\n",
       "      <td>12.550000</td>\n",
       "      <td>21.090000</td>\n",
       "      <td>high</td>\n",
       "      <td>8</td>\n",
       "      <td>16.593060</td>\n",
       "    </tr>\n",
       "    <tr>\n",
       "      <th>499</th>\n",
       "      <td>2019</td>\n",
       "      <td>11</td>\n",
       "      <td>20190315_1600_ParkersBrook.jpg</td>\n",
       "      <td>2019-03-15 12:00:00-04:00</td>\n",
       "      <td>17.350000</td>\n",
       "      <td>14.702857</td>\n",
       "      <td>med</td>\n",
       "      <td>39</td>\n",
       "      <td>14.918950</td>\n",
       "    </tr>\n",
       "  </tbody>\n",
       "</table>\n",
       "<p>245 rows × 9 columns</p>\n",
       "</div>"
      ],
      "text/plain": [
       "     year  week                        filename                 timestamp  \\\n",
       "1    2018    39  20180929_1300_ParkersBrook.JPG 2018-09-29 09:00:00-04:00   \n",
       "5    2019    42  20191015_1400_ParkersBrook.jpg 2019-10-15 10:00:00-04:00   \n",
       "6    2018    29  20180717_1900_ParkersBrook.JPG 2018-07-17 15:00:00-04:00   \n",
       "8    2019    19  20190510_1800_ParkersBrook.jpg 2019-05-10 14:00:00-04:00   \n",
       "11   2018    36  20180909_1200_ParkersBrook.JPG 2018-09-09 08:00:00-04:00   \n",
       "..    ...   ...                             ...                       ...   \n",
       "493  2018    25  20180621_1100_ParkersBrook.JPG 2018-06-21 07:00:00-04:00   \n",
       "494  2019    13  20190331_1600_ParkersBrook.jpg 2019-03-31 12:00:00-04:00   \n",
       "497  2018    32  20180810_1400_ParkersBrook.JPG 2018-08-10 10:00:00-04:00   \n",
       "498  2018    32  20180808_1100_ParkersBrook.JPG 2018-08-08 07:00:00-04:00   \n",
       "499  2019    11  20190315_1600_ParkersBrook.jpg 2019-03-15 12:00:00-04:00   \n",
       "\n",
       "      flow_cfs  mean_flow_cfs flow_class  week_index      preds  \n",
       "1    11.750000      11.540000        med          15  11.383570  \n",
       "5     6.220000       5.924000        low          70   8.280393  \n",
       "6    45.389999      15.221250        med           5  21.587089  \n",
       "8    15.110000      15.942500        med          47  19.374995  \n",
       "11    2.880000       3.436250        low          12   7.153074  \n",
       "..         ...            ...        ...         ...        ...  \n",
       "493   3.160000       3.633000        low           1   6.847577  \n",
       "494  22.590000      16.254000        med          41  23.447993  \n",
       "497  14.500000      21.090000       high           8  13.785186  \n",
       "498  12.550000      21.090000       high           8  16.593060  \n",
       "499  17.350000      14.702857        med          39  14.918950  \n",
       "\n",
       "[245 rows x 9 columns]"
      ]
     },
     "execution_count": 189,
     "metadata": {},
     "output_type": "execute_result"
    }
   ],
   "source": [
    "dl_train2.dataset.table"
   ]
  },
  {
   "cell_type": "code",
   "execution_count": 191,
   "id": "3ad991f9-da1d-4223-9ab1-72db5a7c67ca",
   "metadata": {},
   "outputs": [
    {
     "data": {
      "image/png": "[encoded data removed]",
      "text/plain": [
       "<Figure size 1440x288 with 3 Axes>"
      ]
     },
     "metadata": {
      "needs_background": "light"
     },
     "output_type": "display_data"
    }
   ],
   "source": [
    "f, axs = plt.subplots(1, 3, figsize=(20, 4))\n",
    "sns.lineplot(data=dl_train2.dataset.table.melt(id_vars=[\"timestamp\"], value_vars=[\"flow_cfs\",\"preds\"]), x=\"timestamp\", y=\"value\", hue=\"variable\", style=\"variable\", linestyle=\"\", ax=axs[0]).set(title=\"train\")\n",
    "sns.lineplot(data=dl_val2.dataset.table.melt(id_vars=[\"timestamp\"], value_vars=[\"flow_cfs\",\"preds\"]), x=\"timestamp\", y=\"value\", hue=\"variable\", style=\"variable\", linestyle=\"\", ax=axs[1]).set(title=\"val\")\n",
    "sns.lineplot(data=dl_test2.dataset.table.melt(id_vars=[\"timestamp\"], value_vars=[\"flow_cfs\",\"preds\"]), x=\"timestamp\", y=\"value\", hue=\"variable\", style=\"variable\", linestyle=\"\", ax=axs[2]).set(title=\"test\")\n",
    "f.tight_layout()"
   ]
  },
  {
   "cell_type": "code",
   "execution_count": null,
   "id": "6b2a2f8a-eb72-4143-8986-3921a55cd1ed",
   "metadata": {},
   "outputs": [],
   "source": []
  }
 ],
 "metadata": {
  "kernelspec": {
   "display_name": "Python 3",
   "language": "python",
   "name": "python3"
  },
  "language_info": {
   "codemirror_mode": {
    "name": "ipython",
    "version": 3
   },
   "file_extension": ".py",
   "mimetype": "text/x-python",
   "name": "python",
   "nbconvert_exporter": "python",
   "pygments_lexer": "ipython3",
   "version": "3.9.13"
  }
 },
 "nbformat": 4,
 "nbformat_minor": 5
}
