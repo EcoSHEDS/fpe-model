{
 "cells": [
  {
   "cell_type": "markdown",
   "id": "ee0705c7-8bce-42bd-be3e-687d1e5f5f3b",
   "metadata": {},
   "source": [
    "# Stratified Split"
   ]
  },
  {
   "cell_type": "code",
   "execution_count": 26,
   "id": "3cbafc85-09e8-4a88-8e5c-239c03256edc",
   "metadata": {},
   "outputs": [],
   "source": [
    "import os\n",
    "import numpy as np\n",
    "import pandas as pd\n",
    "import matplotlib.pyplot as plt\n",
    "import seaborn as sns\n",
    "from sklearn.model_selection import StratifiedShuffleSplit\n",
    "\n",
    "name = 'parkers_brook'\n",
    "data_dir = 'data'\n",
    "site_dir = os.path.join(data_dir, name)\n",
    "img_dir =  os.path.join(site_dir, 'images')"
   ]
  },
  {
   "cell_type": "code",
   "execution_count": 3,
   "id": "5bed298b-25fe-49fc-9b12-6d00d649a5db",
   "metadata": {},
   "outputs": [
    {
     "name": "stdout",
     "output_type": "stream",
     "text": [
      "rows: 5797\n"
     ]
    },
    {
     "data": {
      "text/html": [
       "<div>\n",
       "<style scoped>\n",
       "    .dataframe tbody tr th:only-of-type {\n",
       "        vertical-align: middle;\n",
       "    }\n",
       "\n",
       "    .dataframe tbody tr th {\n",
       "        vertical-align: top;\n",
       "    }\n",
       "\n",
       "    .dataframe thead th {\n",
       "        text-align: right;\n",
       "    }\n",
       "</style>\n",
       "<table border=\"1\" class=\"dataframe\">\n",
       "  <thead>\n",
       "    <tr style=\"text-align: right;\">\n",
       "      <th></th>\n",
       "      <th>filename</th>\n",
       "      <th>timestamp</th>\n",
       "      <th>flow_cfs</th>\n",
       "      <th>week</th>\n",
       "      <th>year</th>\n",
       "    </tr>\n",
       "  </thead>\n",
       "  <tbody>\n",
       "    <tr>\n",
       "      <th>0</th>\n",
       "      <td>20180613_1230_ParkersBrook.JPG</td>\n",
       "      <td>2018-06-13 08:30:00-04:00</td>\n",
       "      <td>3.35</td>\n",
       "      <td>24</td>\n",
       "      <td>2018</td>\n",
       "    </tr>\n",
       "    <tr>\n",
       "      <th>1</th>\n",
       "      <td>20180613_1330_ParkersBrook.JPG</td>\n",
       "      <td>2018-06-13 09:30:00-04:00</td>\n",
       "      <td>3.97</td>\n",
       "      <td>24</td>\n",
       "      <td>2018</td>\n",
       "    </tr>\n",
       "    <tr>\n",
       "      <th>2</th>\n",
       "      <td>20180613_1430_ParkersBrook.JPG</td>\n",
       "      <td>2018-06-13 10:30:00-04:00</td>\n",
       "      <td>3.76</td>\n",
       "      <td>24</td>\n",
       "      <td>2018</td>\n",
       "    </tr>\n",
       "    <tr>\n",
       "      <th>3</th>\n",
       "      <td>20180613_1530_ParkersBrook.JPG</td>\n",
       "      <td>2018-06-13 11:30:00-04:00</td>\n",
       "      <td>3.76</td>\n",
       "      <td>24</td>\n",
       "      <td>2018</td>\n",
       "    </tr>\n",
       "    <tr>\n",
       "      <th>4</th>\n",
       "      <td>20180613_1630_ParkersBrook.JPG</td>\n",
       "      <td>2018-06-13 12:30:00-04:00</td>\n",
       "      <td>3.76</td>\n",
       "      <td>24</td>\n",
       "      <td>2018</td>\n",
       "    </tr>\n",
       "  </tbody>\n",
       "</table>\n",
       "</div>"
      ],
      "text/plain": [
       "                         filename                 timestamp  flow_cfs  week  \\\n",
       "0  20180613_1230_ParkersBrook.JPG 2018-06-13 08:30:00-04:00      3.35    24   \n",
       "1  20180613_1330_ParkersBrook.JPG 2018-06-13 09:30:00-04:00      3.97    24   \n",
       "2  20180613_1430_ParkersBrook.JPG 2018-06-13 10:30:00-04:00      3.76    24   \n",
       "3  20180613_1530_ParkersBrook.JPG 2018-06-13 11:30:00-04:00      3.76    24   \n",
       "4  20180613_1630_ParkersBrook.JPG 2018-06-13 12:30:00-04:00      3.76    24   \n",
       "\n",
       "   year  \n",
       "0  2018  \n",
       "1  2018  \n",
       "2  2018  \n",
       "3  2018  \n",
       "4  2018  "
      ]
     },
     "execution_count": 3,
     "metadata": {},
     "output_type": "execute_result"
    }
   ],
   "source": [
    "annotations_file = os.path.join(site_dir, 'images.csv')\n",
    "df = pd.read_csv(annotations_file, dtype={'flow_cfs': np.float32})\n",
    "df['timestamp'] = pd.to_datetime(df['timestamp']).dt.tz_convert(tz='US/Eastern')\n",
    "df['week'] = df['timestamp'].dt.isocalendar().week\n",
    "df['year'] = df['timestamp'].dt.isocalendar().year\n",
    "df.sort_values(by='timestamp', inplace=True, ignore_index=True)\n",
    "\n",
    "print(f'rows: {len(df)}')\n",
    "df.head()"
   ]
  },
  {
   "cell_type": "code",
   "execution_count": 5,
   "id": "daadb6f0-9fa2-4a07-a128-d6dc2b3c0db7",
   "metadata": {},
   "outputs": [
    {
     "data": {
      "text/html": [
       "<div>\n",
       "<style scoped>\n",
       "    .dataframe tbody tr th:only-of-type {\n",
       "        vertical-align: middle;\n",
       "    }\n",
       "\n",
       "    .dataframe tbody tr th {\n",
       "        vertical-align: top;\n",
       "    }\n",
       "\n",
       "    .dataframe thead th {\n",
       "        text-align: right;\n",
       "    }\n",
       "</style>\n",
       "<table border=\"1\" class=\"dataframe\">\n",
       "  <thead>\n",
       "    <tr style=\"text-align: right;\">\n",
       "      <th></th>\n",
       "      <th></th>\n",
       "      <th>mean_flow_cfs</th>\n",
       "    </tr>\n",
       "    <tr>\n",
       "      <th>year</th>\n",
       "      <th>week</th>\n",
       "      <th></th>\n",
       "    </tr>\n",
       "  </thead>\n",
       "  <tbody>\n",
       "    <tr>\n",
       "      <th rowspan=\"5\" valign=\"top\">2018</th>\n",
       "      <th>24</th>\n",
       "      <td>3.848125</td>\n",
       "    </tr>\n",
       "    <tr>\n",
       "      <th>25</th>\n",
       "      <td>3.683163</td>\n",
       "    </tr>\n",
       "    <tr>\n",
       "      <th>26</th>\n",
       "      <td>15.810147</td>\n",
       "    </tr>\n",
       "    <tr>\n",
       "      <th>27</th>\n",
       "      <td>11.194694</td>\n",
       "    </tr>\n",
       "    <tr>\n",
       "      <th>28</th>\n",
       "      <td>9.438878</td>\n",
       "    </tr>\n",
       "  </tbody>\n",
       "</table>\n",
       "</div>"
      ],
      "text/plain": [
       "           mean_flow_cfs\n",
       "year week               \n",
       "2018 24         3.848125\n",
       "     25         3.683163\n",
       "     26        15.810147\n",
       "     27        11.194694\n",
       "     28         9.438878"
      ]
     },
     "execution_count": 5,
     "metadata": {},
     "output_type": "execute_result"
    }
   ],
   "source": [
    "weekly_flow_means = df[['flow_cfs', 'year', 'week']].groupby(['year', 'week']).mean().rename(columns={'flow_cfs': 'mean_flow_cfs'})\n",
    "weekly_flow_means.head()"
   ]
  },
  {
   "cell_type": "code",
   "execution_count": 6,
   "id": "f4ff73ab-784e-425a-83f0-c49a62ad6bb3",
   "metadata": {},
   "outputs": [
    {
     "data": {
      "text/plain": [
       "array([ 6.99216723, 16.00491786])"
      ]
     },
     "execution_count": 6,
     "metadata": {},
     "output_type": "execute_result"
    }
   ],
   "source": [
    "weekly_flow_quantiles = np.quantile(weekly_flow_means['mean_flow_cfs'].values, [.25, .75], axis=0)\n",
    "weekly_flow_quantiles"
   ]
  },
  {
   "cell_type": "code",
   "execution_count": 7,
   "id": "b97a7be4-01e8-4f11-bc60-2413226e8c10",
   "metadata": {},
   "outputs": [
    {
     "data": {
      "text/html": [
       "<div>\n",
       "<style scoped>\n",
       "    .dataframe tbody tr th:only-of-type {\n",
       "        vertical-align: middle;\n",
       "    }\n",
       "\n",
       "    .dataframe tbody tr th {\n",
       "        vertical-align: top;\n",
       "    }\n",
       "\n",
       "    .dataframe thead th {\n",
       "        text-align: right;\n",
       "    }\n",
       "</style>\n",
       "<table border=\"1\" class=\"dataframe\">\n",
       "  <thead>\n",
       "    <tr style=\"text-align: right;\">\n",
       "      <th></th>\n",
       "      <th></th>\n",
       "      <th>mean_flow_cfs</th>\n",
       "      <th>flow_class</th>\n",
       "      <th>week_index</th>\n",
       "    </tr>\n",
       "    <tr>\n",
       "      <th>year</th>\n",
       "      <th>week</th>\n",
       "      <th></th>\n",
       "      <th></th>\n",
       "      <th></th>\n",
       "    </tr>\n",
       "  </thead>\n",
       "  <tbody>\n",
       "    <tr>\n",
       "      <th rowspan=\"5\" valign=\"top\">2018</th>\n",
       "      <th>24</th>\n",
       "      <td>3.848125</td>\n",
       "      <td>low</td>\n",
       "      <td>0</td>\n",
       "    </tr>\n",
       "    <tr>\n",
       "      <th>25</th>\n",
       "      <td>3.683163</td>\n",
       "      <td>low</td>\n",
       "      <td>1</td>\n",
       "    </tr>\n",
       "    <tr>\n",
       "      <th>26</th>\n",
       "      <td>15.810147</td>\n",
       "      <td>med</td>\n",
       "      <td>2</td>\n",
       "    </tr>\n",
       "    <tr>\n",
       "      <th>27</th>\n",
       "      <td>11.194694</td>\n",
       "      <td>med</td>\n",
       "      <td>3</td>\n",
       "    </tr>\n",
       "    <tr>\n",
       "      <th>28</th>\n",
       "      <td>9.438878</td>\n",
       "      <td>med</td>\n",
       "      <td>4</td>\n",
       "    </tr>\n",
       "  </tbody>\n",
       "</table>\n",
       "</div>"
      ],
      "text/plain": [
       "           mean_flow_cfs flow_class  week_index\n",
       "year week                                      \n",
       "2018 24         3.848125        low           0\n",
       "     25         3.683163        low           1\n",
       "     26        15.810147        med           2\n",
       "     27        11.194694        med           3\n",
       "     28         9.438878        med           4"
      ]
     },
     "execution_count": 7,
     "metadata": {},
     "output_type": "execute_result"
    }
   ],
   "source": [
    "def classify(low_value, high_value, value):\n",
    "    if value <= low_value:\n",
    "        return 'low'\n",
    "    elif value >= high_value:\n",
    "        return 'high'\n",
    "    else:\n",
    "        return 'med'\n",
    "\n",
    "weekly_flow_means['flow_class'] = weekly_flow_means['mean_flow_cfs'].map(lambda x: classify(weekly_flow_quantiles[0], weekly_flow_quantiles[1], x))\n",
    "weekly_flow_means['week_index'] = range(len(weekly_flow_means.index))\n",
    "\n",
    "weekly_flow_means.head()"
   ]
  },
  {
   "cell_type": "code",
   "execution_count": 8,
   "id": "ebcfc710-35c4-4113-8322-dac82577f7d5",
   "metadata": {},
   "outputs": [
    {
     "data": {
      "text/html": [
       "<div>\n",
       "<style scoped>\n",
       "    .dataframe tbody tr th:only-of-type {\n",
       "        vertical-align: middle;\n",
       "    }\n",
       "\n",
       "    .dataframe tbody tr th {\n",
       "        vertical-align: top;\n",
       "    }\n",
       "\n",
       "    .dataframe thead th {\n",
       "        text-align: right;\n",
       "    }\n",
       "</style>\n",
       "<table border=\"1\" class=\"dataframe\">\n",
       "  <thead>\n",
       "    <tr style=\"text-align: right;\">\n",
       "      <th></th>\n",
       "      <th>year</th>\n",
       "      <th>week</th>\n",
       "      <th>filename</th>\n",
       "      <th>timestamp</th>\n",
       "      <th>flow_cfs</th>\n",
       "      <th>mean_flow_cfs</th>\n",
       "      <th>flow_class</th>\n",
       "      <th>week_index</th>\n",
       "    </tr>\n",
       "  </thead>\n",
       "  <tbody>\n",
       "    <tr>\n",
       "      <th>0</th>\n",
       "      <td>2018</td>\n",
       "      <td>24</td>\n",
       "      <td>20180613_1230_ParkersBrook.JPG</td>\n",
       "      <td>2018-06-13 08:30:00-04:00</td>\n",
       "      <td>3.35</td>\n",
       "      <td>3.848125</td>\n",
       "      <td>low</td>\n",
       "      <td>0</td>\n",
       "    </tr>\n",
       "    <tr>\n",
       "      <th>1</th>\n",
       "      <td>2018</td>\n",
       "      <td>24</td>\n",
       "      <td>20180613_1330_ParkersBrook.JPG</td>\n",
       "      <td>2018-06-13 09:30:00-04:00</td>\n",
       "      <td>3.97</td>\n",
       "      <td>3.848125</td>\n",
       "      <td>low</td>\n",
       "      <td>0</td>\n",
       "    </tr>\n",
       "    <tr>\n",
       "      <th>2</th>\n",
       "      <td>2018</td>\n",
       "      <td>24</td>\n",
       "      <td>20180613_1430_ParkersBrook.JPG</td>\n",
       "      <td>2018-06-13 10:30:00-04:00</td>\n",
       "      <td>3.76</td>\n",
       "      <td>3.848125</td>\n",
       "      <td>low</td>\n",
       "      <td>0</td>\n",
       "    </tr>\n",
       "    <tr>\n",
       "      <th>3</th>\n",
       "      <td>2018</td>\n",
       "      <td>24</td>\n",
       "      <td>20180613_1530_ParkersBrook.JPG</td>\n",
       "      <td>2018-06-13 11:30:00-04:00</td>\n",
       "      <td>3.76</td>\n",
       "      <td>3.848125</td>\n",
       "      <td>low</td>\n",
       "      <td>0</td>\n",
       "    </tr>\n",
       "    <tr>\n",
       "      <th>4</th>\n",
       "      <td>2018</td>\n",
       "      <td>24</td>\n",
       "      <td>20180613_1630_ParkersBrook.JPG</td>\n",
       "      <td>2018-06-13 12:30:00-04:00</td>\n",
       "      <td>3.76</td>\n",
       "      <td>3.848125</td>\n",
       "      <td>low</td>\n",
       "      <td>0</td>\n",
       "    </tr>\n",
       "    <tr>\n",
       "      <th>...</th>\n",
       "      <td>...</td>\n",
       "      <td>...</td>\n",
       "      <td>...</td>\n",
       "      <td>...</td>\n",
       "      <td>...</td>\n",
       "      <td>...</td>\n",
       "      <td>...</td>\n",
       "      <td>...</td>\n",
       "    </tr>\n",
       "    <tr>\n",
       "      <th>5792</th>\n",
       "      <td>2019</td>\n",
       "      <td>43</td>\n",
       "      <td>20191023_1400_ParkersBrook.jpg</td>\n",
       "      <td>2019-10-23 10:00:00-04:00</td>\n",
       "      <td>6.57</td>\n",
       "      <td>5.194828</td>\n",
       "      <td>low</td>\n",
       "      <td>71</td>\n",
       "    </tr>\n",
       "    <tr>\n",
       "      <th>5793</th>\n",
       "      <td>2019</td>\n",
       "      <td>43</td>\n",
       "      <td>20191023_1500_ParkersBrook.jpg</td>\n",
       "      <td>2019-10-23 11:00:00-04:00</td>\n",
       "      <td>6.57</td>\n",
       "      <td>5.194828</td>\n",
       "      <td>low</td>\n",
       "      <td>71</td>\n",
       "    </tr>\n",
       "    <tr>\n",
       "      <th>5794</th>\n",
       "      <td>2019</td>\n",
       "      <td>43</td>\n",
       "      <td>20191023_1600_ParkersBrook.jpg</td>\n",
       "      <td>2019-10-23 12:00:00-04:00</td>\n",
       "      <td>6.57</td>\n",
       "      <td>5.194828</td>\n",
       "      <td>low</td>\n",
       "      <td>71</td>\n",
       "    </tr>\n",
       "    <tr>\n",
       "      <th>5795</th>\n",
       "      <td>2019</td>\n",
       "      <td>43</td>\n",
       "      <td>20191024_0800_ParkersBrook.jpg</td>\n",
       "      <td>2019-10-24 04:00:00-04:00</td>\n",
       "      <td>5.17</td>\n",
       "      <td>5.194828</td>\n",
       "      <td>low</td>\n",
       "      <td>71</td>\n",
       "    </tr>\n",
       "    <tr>\n",
       "      <th>5796</th>\n",
       "      <td>2019</td>\n",
       "      <td>43</td>\n",
       "      <td>20191024_0900_ParkersBrook.jpg</td>\n",
       "      <td>2019-10-24 05:00:00-04:00</td>\n",
       "      <td>5.17</td>\n",
       "      <td>5.194828</td>\n",
       "      <td>low</td>\n",
       "      <td>71</td>\n",
       "    </tr>\n",
       "  </tbody>\n",
       "</table>\n",
       "<p>5797 rows × 8 columns</p>\n",
       "</div>"
      ],
      "text/plain": [
       "      year  week                        filename                 timestamp  \\\n",
       "0     2018    24  20180613_1230_ParkersBrook.JPG 2018-06-13 08:30:00-04:00   \n",
       "1     2018    24  20180613_1330_ParkersBrook.JPG 2018-06-13 09:30:00-04:00   \n",
       "2     2018    24  20180613_1430_ParkersBrook.JPG 2018-06-13 10:30:00-04:00   \n",
       "3     2018    24  20180613_1530_ParkersBrook.JPG 2018-06-13 11:30:00-04:00   \n",
       "4     2018    24  20180613_1630_ParkersBrook.JPG 2018-06-13 12:30:00-04:00   \n",
       "...    ...   ...                             ...                       ...   \n",
       "5792  2019    43  20191023_1400_ParkersBrook.jpg 2019-10-23 10:00:00-04:00   \n",
       "5793  2019    43  20191023_1500_ParkersBrook.jpg 2019-10-23 11:00:00-04:00   \n",
       "5794  2019    43  20191023_1600_ParkersBrook.jpg 2019-10-23 12:00:00-04:00   \n",
       "5795  2019    43  20191024_0800_ParkersBrook.jpg 2019-10-24 04:00:00-04:00   \n",
       "5796  2019    43  20191024_0900_ParkersBrook.jpg 2019-10-24 05:00:00-04:00   \n",
       "\n",
       "      flow_cfs  mean_flow_cfs flow_class  week_index  \n",
       "0         3.35       3.848125        low           0  \n",
       "1         3.97       3.848125        low           0  \n",
       "2         3.76       3.848125        low           0  \n",
       "3         3.76       3.848125        low           0  \n",
       "4         3.76       3.848125        low           0  \n",
       "...        ...            ...        ...         ...  \n",
       "5792      6.57       5.194828        low          71  \n",
       "5793      6.57       5.194828        low          71  \n",
       "5794      6.57       5.194828        low          71  \n",
       "5795      5.17       5.194828        low          71  \n",
       "5796      5.17       5.194828        low          71  \n",
       "\n",
       "[5797 rows x 8 columns]"
      ]
     },
     "execution_count": 8,
     "metadata": {},
     "output_type": "execute_result"
    }
   ],
   "source": [
    "df_week = df.set_index(['year', 'week']).join(weekly_flow_means, on=['year', 'week']).reset_index()\n",
    "df_week"
   ]
  },
  {
   "cell_type": "code",
   "execution_count": 14,
   "id": "813ba7e5-8ea6-42fb-a9f9-f33fa1f25b53",
   "metadata": {},
   "outputs": [
    {
     "data": {
      "text/plain": [
       "0.6284284974987062"
      ]
     },
     "execution_count": 14,
     "metadata": {},
     "output_type": "execute_result"
    }
   ],
   "source": [
    "min_hour = 7\n",
    "max_hour = 18\n",
    "df_week_filter = df_week[df_week['timestamp'].dt.hour.between(min_hour, max_hour)]\n",
    "        \n",
    "min_month = 1\n",
    "max_month = 12\n",
    "df_week_filter = df_week_filter[df_week_filter['timestamp'].dt.month.between(min_month, max_month)]\n",
    "\n",
    "len(df_week_filter) / len(df_week)"
   ]
  },
  {
   "cell_type": "code",
   "execution_count": 11,
   "id": "635ac3a3-3e45-4d67-ba88-6fde37396ce5",
   "metadata": {},
   "outputs": [
    {
     "data": {
      "text/html": [
       "<div>\n",
       "<style scoped>\n",
       "    .dataframe tbody tr th:only-of-type {\n",
       "        vertical-align: middle;\n",
       "    }\n",
       "\n",
       "    .dataframe tbody tr th {\n",
       "        vertical-align: top;\n",
       "    }\n",
       "\n",
       "    .dataframe thead th {\n",
       "        text-align: right;\n",
       "    }\n",
       "</style>\n",
       "<table border=\"1\" class=\"dataframe\">\n",
       "  <thead>\n",
       "    <tr style=\"text-align: right;\">\n",
       "      <th></th>\n",
       "      <th>year</th>\n",
       "      <th>week</th>\n",
       "      <th>mean_flow_cfs</th>\n",
       "      <th>flow_class</th>\n",
       "      <th>week_index</th>\n",
       "      <th>split</th>\n",
       "    </tr>\n",
       "  </thead>\n",
       "  <tbody>\n",
       "    <tr>\n",
       "      <th>0</th>\n",
       "      <td>2018</td>\n",
       "      <td>24</td>\n",
       "      <td>3.848125</td>\n",
       "      <td>low</td>\n",
       "      <td>0</td>\n",
       "      <td>train</td>\n",
       "    </tr>\n",
       "    <tr>\n",
       "      <th>1</th>\n",
       "      <td>2018</td>\n",
       "      <td>25</td>\n",
       "      <td>3.683163</td>\n",
       "      <td>low</td>\n",
       "      <td>1</td>\n",
       "      <td>train</td>\n",
       "    </tr>\n",
       "    <tr>\n",
       "      <th>2</th>\n",
       "      <td>2018</td>\n",
       "      <td>26</td>\n",
       "      <td>15.810147</td>\n",
       "      <td>med</td>\n",
       "      <td>2</td>\n",
       "      <td>test</td>\n",
       "    </tr>\n",
       "    <tr>\n",
       "      <th>3</th>\n",
       "      <td>2018</td>\n",
       "      <td>27</td>\n",
       "      <td>11.194694</td>\n",
       "      <td>med</td>\n",
       "      <td>3</td>\n",
       "      <td>test</td>\n",
       "    </tr>\n",
       "    <tr>\n",
       "      <th>4</th>\n",
       "      <td>2018</td>\n",
       "      <td>28</td>\n",
       "      <td>9.438878</td>\n",
       "      <td>med</td>\n",
       "      <td>4</td>\n",
       "      <td>train</td>\n",
       "    </tr>\n",
       "    <tr>\n",
       "      <th>5</th>\n",
       "      <td>2018</td>\n",
       "      <td>29</td>\n",
       "      <td>13.910516</td>\n",
       "      <td>med</td>\n",
       "      <td>5</td>\n",
       "      <td>train</td>\n",
       "    </tr>\n",
       "    <tr>\n",
       "      <th>6</th>\n",
       "      <td>2018</td>\n",
       "      <td>30</td>\n",
       "      <td>17.645834</td>\n",
       "      <td>high</td>\n",
       "      <td>6</td>\n",
       "      <td>train</td>\n",
       "    </tr>\n",
       "    <tr>\n",
       "      <th>7</th>\n",
       "      <td>2018</td>\n",
       "      <td>31</td>\n",
       "      <td>14.196154</td>\n",
       "      <td>med</td>\n",
       "      <td>7</td>\n",
       "      <td>train</td>\n",
       "    </tr>\n",
       "    <tr>\n",
       "      <th>8</th>\n",
       "      <td>2018</td>\n",
       "      <td>32</td>\n",
       "      <td>17.505934</td>\n",
       "      <td>high</td>\n",
       "      <td>8</td>\n",
       "      <td>train</td>\n",
       "    </tr>\n",
       "    <tr>\n",
       "      <th>9</th>\n",
       "      <td>2018</td>\n",
       "      <td>33</td>\n",
       "      <td>22.329214</td>\n",
       "      <td>high</td>\n",
       "      <td>9</td>\n",
       "      <td>train</td>\n",
       "    </tr>\n",
       "  </tbody>\n",
       "</table>\n",
       "</div>"
      ],
      "text/plain": [
       "   year  week  mean_flow_cfs flow_class  week_index  split\n",
       "0  2018    24       3.848125        low           0  train\n",
       "1  2018    25       3.683163        low           1  train\n",
       "2  2018    26      15.810147        med           2   test\n",
       "3  2018    27      11.194694        med           3   test\n",
       "4  2018    28       9.438878        med           4  train\n",
       "5  2018    29      13.910516        med           5  train\n",
       "6  2018    30      17.645834       high           6  train\n",
       "7  2018    31      14.196154        med           7  train\n",
       "8  2018    32      17.505934       high           8  train\n",
       "9  2018    33      22.329214       high           9  train"
      ]
     },
     "execution_count": 11,
     "metadata": {},
     "output_type": "execute_result"
    }
   ],
   "source": [
    "# weeks = avery.table[['flow_class', 'year', 'week', 'week_index']].drop_duplicates()\n",
    "weeks = weekly_flow_means.reset_index()\n",
    "seed = 1\n",
    "test_size = 0.2\n",
    "\n",
    "X = weeks['week_index']\n",
    "y = weeks['flow_class']\n",
    "\n",
    "sss = StratifiedShuffleSplit(n_splits=1, test_size=test_ratio, random_state=seed)\n",
    "idx_train, idx_test = list(sss_test.split(X, y))[0]\n",
    "\n",
    "weeks['split'] = weeks['week_index'].map(lambda x: 'train' if x in idx_train else 'test')\n",
    "weeks.head(10)"
   ]
  },
  {
   "cell_type": "code",
   "execution_count": 12,
   "id": "3a8a21ab-ae7e-4480-94b2-1b9186919669",
   "metadata": {},
   "outputs": [
    {
     "data": {
      "text/plain": [
       "flow_class\n",
       "high    25.0\n",
       "low     25.0\n",
       "med     50.0\n",
       "dtype: float64"
      ]
     },
     "execution_count": 12,
     "metadata": {},
     "output_type": "execute_result"
    }
   ],
   "source": [
    "weeks.groupby(['flow_class']).size() / len(weeks.index) * 100"
   ]
  },
  {
   "cell_type": "code",
   "execution_count": 13,
   "id": "e731e926-b20d-4912-bc50-84051f69caa6",
   "metadata": {},
   "outputs": [
    {
     "data": {
      "text/plain": [
       "split  flow_class\n",
       "test   high           2\n",
       "       low            2\n",
       "       med            4\n",
       "train  high          16\n",
       "       low           16\n",
       "       med           32\n",
       "dtype: int64"
      ]
     },
     "execution_count": 13,
     "metadata": {},
     "output_type": "execute_result"
    }
   ],
   "source": [
    "weeks.groupby(['split', 'flow_class']).size()"
   ]
  },
  {
   "cell_type": "code",
   "execution_count": 15,
   "id": "2c01d751-51ae-49b1-a9cf-b2d557434f5a",
   "metadata": {},
   "outputs": [
    {
     "data": {
      "text/plain": [
       "(2972, 398)"
      ]
     },
     "execution_count": 15,
     "metadata": {},
     "output_type": "execute_result"
    }
   ],
   "source": [
    "df_train = df_week_filter[df_week_filter['week_index'].isin(train_idx)]\n",
    "df_test = df_week_filter[df_week_filter['week_index'].isin(test_idx)]\n",
    "len(df_train), len(df_test)"
   ]
  },
  {
   "cell_type": "code",
   "execution_count": 16,
   "id": "e12338b9-b978-44e8-ba20-f9a8e343e58a",
   "metadata": {},
   "outputs": [
    {
     "data": {
      "text/plain": [
       "flow_class\n",
       "high     909\n",
       "low      499\n",
       "med     1564\n",
       "dtype: int64"
      ]
     },
     "execution_count": 16,
     "metadata": {},
     "output_type": "execute_result"
    }
   ],
   "source": [
    "df_train.groupby('flow_class').size()"
   ]
  },
  {
   "cell_type": "code",
   "execution_count": 17,
   "id": "3acdafcc-5780-486d-8e8e-9437b6f3a1b4",
   "metadata": {},
   "outputs": [
    {
     "data": {
      "text/plain": [
       "flow_class\n",
       "high     96\n",
       "low      98\n",
       "med     204\n",
       "dtype: int64"
      ]
     },
     "execution_count": 17,
     "metadata": {},
     "output_type": "execute_result"
    }
   ],
   "source": [
    "df_test.groupby('flow_class').size()"
   ]
  },
  {
   "cell_type": "code",
   "execution_count": 21,
   "id": "1b91b8fd-f4ab-4340-9a8b-2ceb09f6d2df",
   "metadata": {},
   "outputs": [],
   "source": [
    "df_week_filter['split'] = df_week_filter['week_index'].map(lambda x: 'train' if x in idx_train else 'test')"
   ]
  },
  {
   "cell_type": "code",
   "execution_count": 23,
   "id": "c2563863-5b30-47ca-b20f-03be2f827168",
   "metadata": {},
   "outputs": [
    {
     "data": {
      "text/plain": [
       "split  flow_class\n",
       "test   high            96\n",
       "       low             98\n",
       "       med            204\n",
       "train  high           813\n",
       "       low            735\n",
       "       med           1697\n",
       "dtype: int64"
      ]
     },
     "execution_count": 23,
     "metadata": {},
     "output_type": "execute_result"
    }
   ],
   "source": [
    "df_week_filter.groupby(['split', 'flow_class']).size()"
   ]
  },
  {
   "cell_type": "code",
   "execution_count": 24,
   "id": "54fb69e1-2177-487b-9a71-a5eb7fc49393",
   "metadata": {},
   "outputs": [
    {
     "data": {
      "text/html": [
       "<div>\n",
       "<style scoped>\n",
       "    .dataframe tbody tr th:only-of-type {\n",
       "        vertical-align: middle;\n",
       "    }\n",
       "\n",
       "    .dataframe tbody tr th {\n",
       "        vertical-align: top;\n",
       "    }\n",
       "\n",
       "    .dataframe thead th {\n",
       "        text-align: right;\n",
       "    }\n",
       "</style>\n",
       "<table border=\"1\" class=\"dataframe\">\n",
       "  <thead>\n",
       "    <tr style=\"text-align: right;\">\n",
       "      <th></th>\n",
       "      <th>year</th>\n",
       "      <th>week</th>\n",
       "      <th>filename</th>\n",
       "      <th>timestamp</th>\n",
       "      <th>flow_cfs</th>\n",
       "      <th>mean_flow_cfs</th>\n",
       "      <th>flow_class</th>\n",
       "      <th>week_index</th>\n",
       "      <th>split</th>\n",
       "    </tr>\n",
       "  </thead>\n",
       "  <tbody>\n",
       "    <tr>\n",
       "      <th>0</th>\n",
       "      <td>2018</td>\n",
       "      <td>24</td>\n",
       "      <td>20180613_1230_ParkersBrook.JPG</td>\n",
       "      <td>2018-06-13 08:30:00-04:00</td>\n",
       "      <td>3.35</td>\n",
       "      <td>3.848125</td>\n",
       "      <td>low</td>\n",
       "      <td>0</td>\n",
       "      <td>train</td>\n",
       "    </tr>\n",
       "    <tr>\n",
       "      <th>1</th>\n",
       "      <td>2018</td>\n",
       "      <td>24</td>\n",
       "      <td>20180613_1330_ParkersBrook.JPG</td>\n",
       "      <td>2018-06-13 09:30:00-04:00</td>\n",
       "      <td>3.97</td>\n",
       "      <td>3.848125</td>\n",
       "      <td>low</td>\n",
       "      <td>0</td>\n",
       "      <td>train</td>\n",
       "    </tr>\n",
       "    <tr>\n",
       "      <th>2</th>\n",
       "      <td>2018</td>\n",
       "      <td>24</td>\n",
       "      <td>20180613_1430_ParkersBrook.JPG</td>\n",
       "      <td>2018-06-13 10:30:00-04:00</td>\n",
       "      <td>3.76</td>\n",
       "      <td>3.848125</td>\n",
       "      <td>low</td>\n",
       "      <td>0</td>\n",
       "      <td>train</td>\n",
       "    </tr>\n",
       "    <tr>\n",
       "      <th>3</th>\n",
       "      <td>2018</td>\n",
       "      <td>24</td>\n",
       "      <td>20180613_1530_ParkersBrook.JPG</td>\n",
       "      <td>2018-06-13 11:30:00-04:00</td>\n",
       "      <td>3.76</td>\n",
       "      <td>3.848125</td>\n",
       "      <td>low</td>\n",
       "      <td>0</td>\n",
       "      <td>train</td>\n",
       "    </tr>\n",
       "    <tr>\n",
       "      <th>4</th>\n",
       "      <td>2018</td>\n",
       "      <td>24</td>\n",
       "      <td>20180613_1630_ParkersBrook.JPG</td>\n",
       "      <td>2018-06-13 12:30:00-04:00</td>\n",
       "      <td>3.76</td>\n",
       "      <td>3.848125</td>\n",
       "      <td>low</td>\n",
       "      <td>0</td>\n",
       "      <td>train</td>\n",
       "    </tr>\n",
       "    <tr>\n",
       "      <th>...</th>\n",
       "      <td>...</td>\n",
       "      <td>...</td>\n",
       "      <td>...</td>\n",
       "      <td>...</td>\n",
       "      <td>...</td>\n",
       "      <td>...</td>\n",
       "      <td>...</td>\n",
       "      <td>...</td>\n",
       "      <td>...</td>\n",
       "    </tr>\n",
       "    <tr>\n",
       "      <th>5790</th>\n",
       "      <td>2019</td>\n",
       "      <td>43</td>\n",
       "      <td>20191023_1200_ParkersBrook.jpg</td>\n",
       "      <td>2019-10-23 08:00:00-04:00</td>\n",
       "      <td>7.19</td>\n",
       "      <td>5.194828</td>\n",
       "      <td>low</td>\n",
       "      <td>71</td>\n",
       "      <td>train</td>\n",
       "    </tr>\n",
       "    <tr>\n",
       "      <th>5791</th>\n",
       "      <td>2019</td>\n",
       "      <td>43</td>\n",
       "      <td>20191023_1300_ParkersBrook.jpg</td>\n",
       "      <td>2019-10-23 09:00:00-04:00</td>\n",
       "      <td>7.19</td>\n",
       "      <td>5.194828</td>\n",
       "      <td>low</td>\n",
       "      <td>71</td>\n",
       "      <td>train</td>\n",
       "    </tr>\n",
       "    <tr>\n",
       "      <th>5792</th>\n",
       "      <td>2019</td>\n",
       "      <td>43</td>\n",
       "      <td>20191023_1400_ParkersBrook.jpg</td>\n",
       "      <td>2019-10-23 10:00:00-04:00</td>\n",
       "      <td>6.57</td>\n",
       "      <td>5.194828</td>\n",
       "      <td>low</td>\n",
       "      <td>71</td>\n",
       "      <td>train</td>\n",
       "    </tr>\n",
       "    <tr>\n",
       "      <th>5793</th>\n",
       "      <td>2019</td>\n",
       "      <td>43</td>\n",
       "      <td>20191023_1500_ParkersBrook.jpg</td>\n",
       "      <td>2019-10-23 11:00:00-04:00</td>\n",
       "      <td>6.57</td>\n",
       "      <td>5.194828</td>\n",
       "      <td>low</td>\n",
       "      <td>71</td>\n",
       "      <td>train</td>\n",
       "    </tr>\n",
       "    <tr>\n",
       "      <th>5794</th>\n",
       "      <td>2019</td>\n",
       "      <td>43</td>\n",
       "      <td>20191023_1600_ParkersBrook.jpg</td>\n",
       "      <td>2019-10-23 12:00:00-04:00</td>\n",
       "      <td>6.57</td>\n",
       "      <td>5.194828</td>\n",
       "      <td>low</td>\n",
       "      <td>71</td>\n",
       "      <td>train</td>\n",
       "    </tr>\n",
       "  </tbody>\n",
       "</table>\n",
       "<p>3643 rows × 9 columns</p>\n",
       "</div>"
      ],
      "text/plain": [
       "      year  week                        filename                 timestamp  \\\n",
       "0     2018    24  20180613_1230_ParkersBrook.JPG 2018-06-13 08:30:00-04:00   \n",
       "1     2018    24  20180613_1330_ParkersBrook.JPG 2018-06-13 09:30:00-04:00   \n",
       "2     2018    24  20180613_1430_ParkersBrook.JPG 2018-06-13 10:30:00-04:00   \n",
       "3     2018    24  20180613_1530_ParkersBrook.JPG 2018-06-13 11:30:00-04:00   \n",
       "4     2018    24  20180613_1630_ParkersBrook.JPG 2018-06-13 12:30:00-04:00   \n",
       "...    ...   ...                             ...                       ...   \n",
       "5790  2019    43  20191023_1200_ParkersBrook.jpg 2019-10-23 08:00:00-04:00   \n",
       "5791  2019    43  20191023_1300_ParkersBrook.jpg 2019-10-23 09:00:00-04:00   \n",
       "5792  2019    43  20191023_1400_ParkersBrook.jpg 2019-10-23 10:00:00-04:00   \n",
       "5793  2019    43  20191023_1500_ParkersBrook.jpg 2019-10-23 11:00:00-04:00   \n",
       "5794  2019    43  20191023_1600_ParkersBrook.jpg 2019-10-23 12:00:00-04:00   \n",
       "\n",
       "      flow_cfs  mean_flow_cfs flow_class  week_index  split  \n",
       "0         3.35       3.848125        low           0  train  \n",
       "1         3.97       3.848125        low           0  train  \n",
       "2         3.76       3.848125        low           0  train  \n",
       "3         3.76       3.848125        low           0  train  \n",
       "4         3.76       3.848125        low           0  train  \n",
       "...        ...            ...        ...         ...    ...  \n",
       "5790      7.19       5.194828        low          71  train  \n",
       "5791      7.19       5.194828        low          71  train  \n",
       "5792      6.57       5.194828        low          71  train  \n",
       "5793      6.57       5.194828        low          71  train  \n",
       "5794      6.57       5.194828        low          71  train  \n",
       "\n",
       "[3643 rows x 9 columns]"
      ]
     },
     "execution_count": 24,
     "metadata": {},
     "output_type": "execute_result"
    }
   ],
   "source": [
    "df_week_filter"
   ]
  },
  {
   "cell_type": "code",
   "execution_count": 31,
   "id": "ba4ebd2a-6626-4f65-bbf0-c1d2c51fe6c1",
   "metadata": {},
   "outputs": [
    {
     "data": {
      "text/plain": [
       "<AxesSubplot:xlabel='timestamp', ylabel='flow_cfs'>"
      ]
     },
     "execution_count": 31,
     "metadata": {},
     "output_type": "execute_result"
    },
    {
     "data": {
      "image/png": "[encoded data removed]",
      "text/plain": [
       "<Figure size 432x288 with 1 Axes>"
      ]
     },
     "metadata": {
      "needs_background": "light"
     },
     "output_type": "display_data"
    }
   ],
   "source": [
    "sns.scatterplot(data=df_week_filter, x=\"timestamp\", y=\"flow_cfs\", hue=\"split\")"
   ]
  },
  {
   "cell_type": "code",
   "execution_count": 33,
   "id": "0b935c8a-19c4-49ce-a488-ab37268d1829",
   "metadata": {},
   "outputs": [],
   "source": [
    "def classify3(low_value, high_value, value):\n",
    "    if value <= low_value:\n",
    "        return 'low'\n",
    "    elif value >= high_value:\n",
    "        return 'high'\n",
    "    else:\n",
    "        return 'med'\n",
    "\n",
    "def split_weekly_flow(x, test_size=0.2, seed=1):\n",
    "    df = x.copy()\n",
    "    df['week'] = df['timestamp'].dt.isocalendar().week\n",
    "    df['year'] = df['timestamp'].dt.isocalendar().year\n",
    "    df.sort_values(by='timestamp', inplace=True, ignore_index=True)\n",
    "    \n",
    "    weekly_flow_means = df[['flow_cfs', 'year', 'week']].groupby(['year', 'week']).mean().rename(columns={'flow_cfs': 'mean_flow_cfs'})\n",
    "    weekly_flow_quantiles = np.quantile(weekly_flow_means['mean_flow_cfs'].values, [.25, .75], axis=0)\n",
    "    \n",
    "    weekly_flow_means['flow_class'] = weekly_flow_means['mean_flow_cfs'].map(lambda x: classify3(weekly_flow_quantiles[0], weekly_flow_quantiles[1], x))\n",
    "    weekly_flow_means['week_index'] = range(len(weekly_flow_means.index))\n",
    "\n",
    "    df = df.set_index(['year', 'week']).join(weekly_flow_means, on=['year', 'week']).reset_index()\n",
    "    \n",
    "    weeks = weekly_flow_means.reset_index()\n",
    "\n",
    "    X = weeks['week_index']\n",
    "    y = weeks['flow_class']\n",
    "\n",
    "    sss = StratifiedShuffleSplit(n_splits=1, test_size=test_size, random_state=seed)\n",
    "    week_idx_train, week_idx_test = list(sss_test.split(X, y))[0]\n",
    "\n",
    "    weeks['split'] = weeks['week_index'].map(lambda x: 'train' if x in week_idx_train else 'test')\n",
    "    df['split'] = df['week_index'].map(lambda x: 'train' if x in week_idx_train else 'test')\n",
    "    \n",
    "    return df[df['split'] == 'train'], df[df['split'] == 'test']"
   ]
  },
  {
   "cell_type": "code",
   "execution_count": 49,
   "id": "dbd18506-fe4e-4862-afb3-66d837ff9352",
   "metadata": {},
   "outputs": [],
   "source": [
    "df = pd.read_csv(annotations_file, dtype={'flow_cfs': np.float32})\n",
    "df['timestamp'] = pd.to_datetime(df['timestamp']).dt.tz_convert(tz='US/Eastern')\n",
    "\n",
    "# filter by hour\n",
    "min_hour = 7\n",
    "max_hour = 18\n",
    "df = df[df['timestamp'].dt.hour.between(min_hour, max_hour)]\n",
    "        \n",
    "min_month = 5\n",
    "max_month = 10\n",
    "df = df[df['timestamp'].dt.month.between(min_month, max_month)]\n",
    "\n",
    "train_df, test_df = split_week_flow(df)"
   ]
  },
  {
   "cell_type": "code",
   "execution_count": 57,
   "id": "0c60d623-bb9a-4d33-bea4-883aaf9bafbb",
   "metadata": {},
   "outputs": [
    {
     "data": {
      "text/plain": [
       "<AxesSubplot:xlabel='timestamp', ylabel='flow_cfs'>"
      ]
     },
     "execution_count": 57,
     "metadata": {},
     "output_type": "execute_result"
    },
    {
     "data": {
      "image/png": "[encoded data removed]",
      "text/plain": [
       "<Figure size 432x288 with 1 Axes>"
      ]
     },
     "metadata": {
      "needs_background": "light"
     },
     "output_type": "display_data"
    }
   ],
   "source": [
    "df_split = pd.concat([train_df, test_df])\n",
    "df_split.sort_values(by='timestamp', inplace=True, ignore_index=True)\n",
    "sns.scatterplot(data=df_split, x=\"timestamp\", y=\"flow_cfs\", hue=\"split\", style=\"split\")"
   ]
  },
  {
   "cell_type": "code",
   "execution_count": 58,
   "id": "bdce2f8a-75db-4a6a-9c54-349d9ea6bca1",
   "metadata": {},
   "outputs": [
    {
     "data": {
      "text/plain": [
       "split  flow_class\n",
       "test   high            56\n",
       "       low             42\n",
       "       med            154\n",
       "train  high           621\n",
       "       low            527\n",
       "       med           1008\n",
       "dtype: int64"
      ]
     },
     "execution_count": 58,
     "metadata": {},
     "output_type": "execute_result"
    }
   ],
   "source": [
    "df_split.groupby(['split', 'flow_class']).size()"
   ]
  },
  {
   "cell_type": "code",
   "execution_count": null,
   "id": "1160ad3f-de76-4504-98ab-c55bbabe02b7",
   "metadata": {},
   "outputs": [],
   "source": []
  }
 ],
 "metadata": {
  "kernelspec": {
   "display_name": "Python 3",
   "language": "python",
   "name": "python3"
  },
  "language_info": {
   "codemirror_mode": {
    "name": "ipython",
    "version": 3
   },
   "file_extension": ".py",
   "mimetype": "text/x-python",
   "name": "python",
   "nbconvert_exporter": "python",
   "pygments_lexer": "ipython3",
   "version": "3.9.13"
  }
 },
 "nbformat": 4,
 "nbformat_minor": 5
}
