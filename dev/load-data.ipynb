{
 "cells": [
  {
   "cell_type": "code",
   "execution_count": 1,
   "metadata": {},
   "outputs": [],
   "source": [
    "import os\n",
    "import numpy as np\n",
    "import pandas as pd\n",
    "import urllib.request\n",
    "import requests\n",
    "from requests.utils import requote_uri\n",
    "\n",
    "site = 'avery'\n",
    "site_dir = f'data/sites/{site}'"
   ]
  },
  {
   "cell_type": "code",
   "execution_count": 2,
   "metadata": {},
   "outputs": [
    {
     "data": {
      "text/html": [
       "<div>\n",
       "<style scoped>\n",
       "    .dataframe tbody tr th:only-of-type {\n",
       "        vertical-align: middle;\n",
       "    }\n",
       "\n",
       "    .dataframe tbody tr th {\n",
       "        vertical-align: top;\n",
       "    }\n",
       "\n",
       "    .dataframe thead th {\n",
       "        text-align: right;\n",
       "    }\n",
       "</style>\n",
       "<table border=\"1\" class=\"dataframe\">\n",
       "  <thead>\n",
       "    <tr style=\"text-align: right;\">\n",
       "      <th></th>\n",
       "      <th>station_name</th>\n",
       "      <th>station_id</th>\n",
       "      <th>imageset_id</th>\n",
       "      <th>image_id</th>\n",
       "      <th>timestamp</th>\n",
       "      <th>filename</th>\n",
       "      <th>url</th>\n",
       "      <th>flow_cfs</th>\n",
       "    </tr>\n",
       "  </thead>\n",
       "  <tbody>\n",
       "    <tr>\n",
       "      <th>0</th>\n",
       "      <td>Avery Brook_Bridge_01171000</td>\n",
       "      <td>12</td>\n",
       "      <td>95</td>\n",
       "      <td>153582</td>\n",
       "      <td>2021-03-10 16:01:17+00:00</td>\n",
       "      <td>Avery Bridge Downstream__2021-03-10__11-01-17(...</td>\n",
       "      <td>https://usgs-chs-conte-prod-fpe-storage.s3.ama...</td>\n",
       "      <td>3.390105</td>\n",
       "    </tr>\n",
       "    <tr>\n",
       "      <th>1</th>\n",
       "      <td>Avery Brook_Bridge_01171000</td>\n",
       "      <td>12</td>\n",
       "      <td>95</td>\n",
       "      <td>153583</td>\n",
       "      <td>2021-03-10 16:02:24+00:00</td>\n",
       "      <td>Avery Bridge Downstream__2021-03-10__11-02-24(...</td>\n",
       "      <td>https://usgs-chs-conte-prod-fpe-storage.s3.ama...</td>\n",
       "      <td>3.390203</td>\n",
       "    </tr>\n",
       "    <tr>\n",
       "      <th>2</th>\n",
       "      <td>Avery Brook_Bridge_01171000</td>\n",
       "      <td>12</td>\n",
       "      <td>95</td>\n",
       "      <td>153584</td>\n",
       "      <td>2021-03-10 16:16:18+00:00</td>\n",
       "      <td>Avery Bridge Downstream__2021-03-10__11-16-18(...</td>\n",
       "      <td>https://usgs-chs-conte-prod-fpe-storage.s3.ama...</td>\n",
       "      <td>3.391420</td>\n",
       "    </tr>\n",
       "    <tr>\n",
       "      <th>3</th>\n",
       "      <td>Avery Brook_Bridge_01171000</td>\n",
       "      <td>12</td>\n",
       "      <td>95</td>\n",
       "      <td>153585</td>\n",
       "      <td>2021-03-10 16:31:18+00:00</td>\n",
       "      <td>Avery Bridge Downstream__2021-03-10__11-31-18(...</td>\n",
       "      <td>https://usgs-chs-conte-prod-fpe-storage.s3.ama...</td>\n",
       "      <td>3.392734</td>\n",
       "    </tr>\n",
       "    <tr>\n",
       "      <th>4</th>\n",
       "      <td>Avery Brook_Bridge_01171000</td>\n",
       "      <td>12</td>\n",
       "      <td>95</td>\n",
       "      <td>153586</td>\n",
       "      <td>2021-03-10 16:46:18+00:00</td>\n",
       "      <td>Avery Bridge Downstream__2021-03-10__11-46-18(...</td>\n",
       "      <td>https://usgs-chs-conte-prod-fpe-storage.s3.ama...</td>\n",
       "      <td>3.394048</td>\n",
       "    </tr>\n",
       "  </tbody>\n",
       "</table>\n",
       "</div>"
      ],
      "text/plain": [
       "                  station_name  station_id  imageset_id  image_id  \\\n",
       "0  Avery Brook_Bridge_01171000          12           95    153582   \n",
       "1  Avery Brook_Bridge_01171000          12           95    153583   \n",
       "2  Avery Brook_Bridge_01171000          12           95    153584   \n",
       "3  Avery Brook_Bridge_01171000          12           95    153585   \n",
       "4  Avery Brook_Bridge_01171000          12           95    153586   \n",
       "\n",
       "                  timestamp  \\\n",
       "0 2021-03-10 16:01:17+00:00   \n",
       "1 2021-03-10 16:02:24+00:00   \n",
       "2 2021-03-10 16:16:18+00:00   \n",
       "3 2021-03-10 16:31:18+00:00   \n",
       "4 2021-03-10 16:46:18+00:00   \n",
       "\n",
       "                                            filename  \\\n",
       "0  Avery Bridge Downstream__2021-03-10__11-01-17(...   \n",
       "1  Avery Bridge Downstream__2021-03-10__11-02-24(...   \n",
       "2  Avery Bridge Downstream__2021-03-10__11-16-18(...   \n",
       "3  Avery Bridge Downstream__2021-03-10__11-31-18(...   \n",
       "4  Avery Bridge Downstream__2021-03-10__11-46-18(...   \n",
       "\n",
       "                                                 url  flow_cfs  \n",
       "0  https://usgs-chs-conte-prod-fpe-storage.s3.ama...  3.390105  \n",
       "1  https://usgs-chs-conte-prod-fpe-storage.s3.ama...  3.390203  \n",
       "2  https://usgs-chs-conte-prod-fpe-storage.s3.ama...  3.391420  \n",
       "3  https://usgs-chs-conte-prod-fpe-storage.s3.ama...  3.392734  \n",
       "4  https://usgs-chs-conte-prod-fpe-storage.s3.ama...  3.394048  "
      ]
     },
     "execution_count": 2,
     "metadata": {},
     "output_type": "execute_result"
    }
   ],
   "source": [
    "df = pd.read_csv(os.path.join(site_dir, 'flow-images.csv'))\n",
    "df['timestamp'] = pd.to_datetime(df['timestamp'])\n",
    "df = df.head()\n",
    "df"
   ]
  },
  {
   "cell_type": "code",
   "execution_count": 3,
   "metadata": {},
   "outputs": [
    {
     "data": {
      "text/plain": [
       "station_name                 object\n",
       "station_id                    int64\n",
       "imageset_id                   int64\n",
       "image_id                      int64\n",
       "timestamp       datetime64[ns, UTC]\n",
       "filename                     object\n",
       "url                          object\n",
       "flow_cfs                    float64\n",
       "dtype: object"
      ]
     },
     "execution_count": 3,
     "metadata": {},
     "output_type": "execute_result"
    }
   ],
   "source": [
    "df.dtypes"
   ]
  },
  {
   "cell_type": "code",
   "execution_count": 4,
   "metadata": {},
   "outputs": [
    {
     "data": {
      "text/plain": [
       "5"
      ]
     },
     "execution_count": 4,
     "metadata": {},
     "output_type": "execute_result"
    }
   ],
   "source": [
    "n_images = df.shape[0]\n",
    "n_images"
   ]
  },
  {
   "cell_type": "code",
   "execution_count": null,
   "metadata": {},
   "outputs": [],
   "source": []
  }
 ],
 "metadata": {
  "kernelspec": {
   "display_name": "Python 3 (ipykernel)",
   "language": "python",
   "name": "python3"
  },
  "language_info": {
   "codemirror_mode": {
    "name": "ipython",
    "version": 3
   },
   "file_extension": ".py",
   "mimetype": "text/x-python",
   "name": "python",
   "nbconvert_exporter": "python",
   "pygments_lexer": "ipython3",
   "version": "3.10.6"
  }
 },
 "nbformat": 4,
 "nbformat_minor": 4
}
