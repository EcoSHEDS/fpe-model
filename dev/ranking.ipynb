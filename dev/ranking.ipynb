{
 "cells": [
  {
   "cell_type": "code",
   "execution_count": 19,
   "id": "1fa016e2-0fe9-4c3c-9f6e-4578c91b0a22",
   "metadata": {},
   "outputs": [],
   "source": [
    "import os\n",
    "import pickle\n",
    "import time\n",
    "from itertools import repeat, combinations\n",
    "from tqdm.notebook import tqdm\n",
    "\n",
    "import torch\n",
    "import torch.nn as nn\n",
    "from torch.utils.data import Dataset, DataLoader\n",
    "from torchvision.transforms import Resize, RandomCrop, RandomHorizontalFlip, RandomRotation, ColorJitter, CenterCrop, ToTensor, Normalize, Compose\n",
    "from torchvision.models import resnet18, resnet50\n",
    "\n",
    "import pandas as pd\n",
    "import numpy as np\n",
    "from sklearn.model_selection import StratifiedShuffleSplit\n",
    "import seaborn as sns\n",
    "import matplotlib.pyplot as plt\n",
    "\n",
    "from PIL import Image as PILImage\n",
    "from PIL import ImageStat as PILImageStat\n",
    "\n",
    "pd.options.mode.chained_assignment = None\n",
    "\n",
    "name = 'parkers_brook'\n",
    "data_dir = 'data'\n",
    "\n",
    "site_dir = os.path.join(data_dir, name)\n",
    "images_dir =  os.path.join(site_dir, 'images')\n",
    "model_dir =  os.path.join(site_dir, 'model')\n",
    "pred_dir =  os.path.join(site_dir, 'pred')\n",
    "\n",
    "os.makedirs(model_dir, exist_ok=True)\n",
    "os.makedirs(pred_dir, exist_ok=True)"
   ]
  },
  {
   "cell_type": "code",
   "execution_count": 2,
   "id": "2ff36b06-66a1-46dc-8a23-b1c5bc93e8db",
   "metadata": {},
   "outputs": [
    {
     "data": {
      "text/html": [
       "<div>\n",
       "<style scoped>\n",
       "    .dataframe tbody tr th:only-of-type {\n",
       "        vertical-align: middle;\n",
       "    }\n",
       "\n",
       "    .dataframe tbody tr th {\n",
       "        vertical-align: top;\n",
       "    }\n",
       "\n",
       "    .dataframe thead th {\n",
       "        text-align: right;\n",
       "    }\n",
       "</style>\n",
       "<table border=\"1\" class=\"dataframe\">\n",
       "  <thead>\n",
       "    <tr style=\"text-align: right;\">\n",
       "      <th></th>\n",
       "      <th>filename</th>\n",
       "      <th>timestamp</th>\n",
       "      <th>flow_cfs</th>\n",
       "      <th>week</th>\n",
       "      <th>year</th>\n",
       "    </tr>\n",
       "  </thead>\n",
       "  <tbody>\n",
       "    <tr>\n",
       "      <th>5434</th>\n",
       "      <td>20190913_1600_ParkersBrook.jpg</td>\n",
       "      <td>2019-09-13 12:00:00-04:00</td>\n",
       "      <td>4.710000</td>\n",
       "      <td>37</td>\n",
       "      <td>2019</td>\n",
       "    </tr>\n",
       "    <tr>\n",
       "      <th>2290</th>\n",
       "      <td>20181213_1600_ParkersBrook.JPG</td>\n",
       "      <td>2018-12-13 11:00:00-05:00</td>\n",
       "      <td>13.550000</td>\n",
       "      <td>50</td>\n",
       "      <td>2018</td>\n",
       "    </tr>\n",
       "    <tr>\n",
       "      <th>5182</th>\n",
       "      <td>20190816_1600_ParkersBrook.jpg</td>\n",
       "      <td>2019-08-16 12:00:00-04:00</td>\n",
       "      <td>3.280000</td>\n",
       "      <td>33</td>\n",
       "      <td>2019</td>\n",
       "    </tr>\n",
       "    <tr>\n",
       "      <th>4654</th>\n",
       "      <td>20190627_1300_ParkersBrook.jpg</td>\n",
       "      <td>2019-06-27 09:00:00-04:00</td>\n",
       "      <td>7.200000</td>\n",
       "      <td>26</td>\n",
       "      <td>2019</td>\n",
       "    </tr>\n",
       "    <tr>\n",
       "      <th>4890</th>\n",
       "      <td>20190715_1500_ParkersBrook.jpg</td>\n",
       "      <td>2019-07-15 11:00:00-04:00</td>\n",
       "      <td>4.190000</td>\n",
       "      <td>29</td>\n",
       "      <td>2019</td>\n",
       "    </tr>\n",
       "    <tr>\n",
       "      <th>...</th>\n",
       "      <td>...</td>\n",
       "      <td>...</td>\n",
       "      <td>...</td>\n",
       "      <td>...</td>\n",
       "      <td>...</td>\n",
       "    </tr>\n",
       "    <tr>\n",
       "      <th>1938</th>\n",
       "      <td>20181111_0700_ParkersBrook.JPG</td>\n",
       "      <td>2018-11-11 02:00:00-05:00</td>\n",
       "      <td>22.120001</td>\n",
       "      <td>45</td>\n",
       "      <td>2018</td>\n",
       "    </tr>\n",
       "    <tr>\n",
       "      <th>3696</th>\n",
       "      <td>20190414_1700_ParkersBrook.jpg</td>\n",
       "      <td>2019-04-14 13:00:00-04:00</td>\n",
       "      <td>18.430000</td>\n",
       "      <td>15</td>\n",
       "      <td>2019</td>\n",
       "    </tr>\n",
       "    <tr>\n",
       "      <th>2166</th>\n",
       "      <td>20181201_1200_ParkersBrook.JPG</td>\n",
       "      <td>2018-12-01 07:00:00-05:00</td>\n",
       "      <td>19.770000</td>\n",
       "      <td>48</td>\n",
       "      <td>2018</td>\n",
       "    </tr>\n",
       "    <tr>\n",
       "      <th>218</th>\n",
       "      <td>20180701_0800_ParkersBrook.JPG</td>\n",
       "      <td>2018-07-01 04:00:00-04:00</td>\n",
       "      <td>14.140000</td>\n",
       "      <td>26</td>\n",
       "      <td>2018</td>\n",
       "    </tr>\n",
       "    <tr>\n",
       "      <th>2088</th>\n",
       "      <td>20181123_1400_ParkersBrook.JPG</td>\n",
       "      <td>2018-11-23 09:00:00-05:00</td>\n",
       "      <td>16.340000</td>\n",
       "      <td>47</td>\n",
       "      <td>2018</td>\n",
       "    </tr>\n",
       "  </tbody>\n",
       "</table>\n",
       "<p>500 rows × 5 columns</p>\n",
       "</div>"
      ],
      "text/plain": [
       "                            filename                 timestamp   flow_cfs  \\\n",
       "5434  20190913_1600_ParkersBrook.jpg 2019-09-13 12:00:00-04:00   4.710000   \n",
       "2290  20181213_1600_ParkersBrook.JPG 2018-12-13 11:00:00-05:00  13.550000   \n",
       "5182  20190816_1600_ParkersBrook.jpg 2019-08-16 12:00:00-04:00   3.280000   \n",
       "4654  20190627_1300_ParkersBrook.jpg 2019-06-27 09:00:00-04:00   7.200000   \n",
       "4890  20190715_1500_ParkersBrook.jpg 2019-07-15 11:00:00-04:00   4.190000   \n",
       "...                              ...                       ...        ...   \n",
       "1938  20181111_0700_ParkersBrook.JPG 2018-11-11 02:00:00-05:00  22.120001   \n",
       "3696  20190414_1700_ParkersBrook.jpg 2019-04-14 13:00:00-04:00  18.430000   \n",
       "2166  20181201_1200_ParkersBrook.JPG 2018-12-01 07:00:00-05:00  19.770000   \n",
       "218   20180701_0800_ParkersBrook.JPG 2018-07-01 04:00:00-04:00  14.140000   \n",
       "2088  20181123_1400_ParkersBrook.JPG 2018-11-23 09:00:00-05:00  16.340000   \n",
       "\n",
       "      week  year  \n",
       "5434    37  2019  \n",
       "2290    50  2018  \n",
       "5182    33  2019  \n",
       "4654    26  2019  \n",
       "4890    29  2019  \n",
       "...    ...   ...  \n",
       "1938    45  2018  \n",
       "3696    15  2019  \n",
       "2166    48  2018  \n",
       "218     26  2018  \n",
       "2088    47  2018  \n",
       "\n",
       "[500 rows x 5 columns]"
      ]
     },
     "execution_count": 2,
     "metadata": {},
     "output_type": "execute_result"
    }
   ],
   "source": [
    "df = pd.read_csv(os.path.join(site_dir, 'images.csv'), dtype={'flow_cfs': np.float32})\n",
    "df['timestamp'] = pd.to_datetime(df['timestamp']).dt.tz_convert(tz='US/Eastern')\n",
    "df['week'] = df['timestamp'].dt.isocalendar().week\n",
    "df['year'] = df['timestamp'].dt.isocalendar().year\n",
    "df.sort_values(by='timestamp', inplace=True, ignore_index=True)\n",
    "df = df.sample(500, replace=False)\n",
    "df"
   ]
  },
  {
   "cell_type": "code",
   "execution_count": 3,
   "id": "31225331-78f8-4bf1-99a0-dbff50e63d41",
   "metadata": {},
   "outputs": [
    {
     "data": {
      "text/plain": [
       "filename                         object\n",
       "timestamp    datetime64[ns, US/Eastern]\n",
       "flow_cfs                        float32\n",
       "week                             UInt32\n",
       "year                             UInt32\n",
       "dtype: object"
      ]
     },
     "execution_count": 3,
     "metadata": {},
     "output_type": "execute_result"
    }
   ],
   "source": [
    "df.dtypes"
   ]
  },
  {
   "cell_type": "code",
   "execution_count": 4,
   "id": "e31f6aef-80ae-4140-94c9-438ed1ab981b",
   "metadata": {},
   "outputs": [
    {
     "data": {
      "text/html": [
       "<div>\n",
       "<style scoped>\n",
       "    .dataframe tbody tr th:only-of-type {\n",
       "        vertical-align: middle;\n",
       "    }\n",
       "\n",
       "    .dataframe tbody tr th {\n",
       "        vertical-align: top;\n",
       "    }\n",
       "\n",
       "    .dataframe thead th {\n",
       "        text-align: right;\n",
       "    }\n",
       "</style>\n",
       "<table border=\"1\" class=\"dataframe\">\n",
       "  <thead>\n",
       "    <tr style=\"text-align: right;\">\n",
       "      <th></th>\n",
       "      <th></th>\n",
       "      <th>mean_flow_cfs</th>\n",
       "    </tr>\n",
       "    <tr>\n",
       "      <th>year</th>\n",
       "      <th>week</th>\n",
       "      <th></th>\n",
       "    </tr>\n",
       "  </thead>\n",
       "  <tbody>\n",
       "    <tr>\n",
       "      <th rowspan=\"5\" valign=\"top\">2018</th>\n",
       "      <th>24</th>\n",
       "      <td>3.912857</td>\n",
       "    </tr>\n",
       "    <tr>\n",
       "      <th>25</th>\n",
       "      <td>4.093846</td>\n",
       "    </tr>\n",
       "    <tr>\n",
       "      <th>26</th>\n",
       "      <td>19.062500</td>\n",
       "    </tr>\n",
       "    <tr>\n",
       "      <th>27</th>\n",
       "      <td>11.727500</td>\n",
       "    </tr>\n",
       "    <tr>\n",
       "      <th>28</th>\n",
       "      <td>9.454000</td>\n",
       "    </tr>\n",
       "  </tbody>\n",
       "</table>\n",
       "</div>"
      ],
      "text/plain": [
       "           mean_flow_cfs\n",
       "year week               \n",
       "2018 24         3.912857\n",
       "     25         4.093846\n",
       "     26        19.062500\n",
       "     27        11.727500\n",
       "     28         9.454000"
      ]
     },
     "execution_count": 4,
     "metadata": {},
     "output_type": "execute_result"
    }
   ],
   "source": [
    "weekly_flow_means = df[['flow_cfs', 'year', 'week']].groupby(['year', 'week']).mean().rename(columns={'flow_cfs': 'mean_flow_cfs'})\n",
    "weekly_flow_means.head()"
   ]
  },
  {
   "cell_type": "code",
   "execution_count": 5,
   "id": "710d4dd0-2ce6-49a1-921c-b56df32d43b9",
   "metadata": {},
   "outputs": [
    {
     "data": {
      "text/plain": [
       "array([ 6.52437484, 16.4937501 ])"
      ]
     },
     "execution_count": 5,
     "metadata": {},
     "output_type": "execute_result"
    }
   ],
   "source": [
    "weekly_flow_quantiles = np.quantile(weekly_flow_means['mean_flow_cfs'].values, [.25, .75], axis=0)\n",
    "weekly_flow_quantiles"
   ]
  },
  {
   "cell_type": "code",
   "execution_count": 6,
   "id": "b5e51344-d9c1-439d-b6aa-6bfecd4b6f9b",
   "metadata": {},
   "outputs": [
    {
     "data": {
      "text/html": [
       "<div>\n",
       "<style scoped>\n",
       "    .dataframe tbody tr th:only-of-type {\n",
       "        vertical-align: middle;\n",
       "    }\n",
       "\n",
       "    .dataframe tbody tr th {\n",
       "        vertical-align: top;\n",
       "    }\n",
       "\n",
       "    .dataframe thead th {\n",
       "        text-align: right;\n",
       "    }\n",
       "</style>\n",
       "<table border=\"1\" class=\"dataframe\">\n",
       "  <thead>\n",
       "    <tr style=\"text-align: right;\">\n",
       "      <th></th>\n",
       "      <th></th>\n",
       "      <th>mean_flow_cfs</th>\n",
       "      <th>flow_class</th>\n",
       "      <th>week_index</th>\n",
       "    </tr>\n",
       "    <tr>\n",
       "      <th>year</th>\n",
       "      <th>week</th>\n",
       "      <th></th>\n",
       "      <th></th>\n",
       "      <th></th>\n",
       "    </tr>\n",
       "  </thead>\n",
       "  <tbody>\n",
       "    <tr>\n",
       "      <th rowspan=\"5\" valign=\"top\">2018</th>\n",
       "      <th>24</th>\n",
       "      <td>3.912857</td>\n",
       "      <td>low</td>\n",
       "      <td>0</td>\n",
       "    </tr>\n",
       "    <tr>\n",
       "      <th>25</th>\n",
       "      <td>4.093846</td>\n",
       "      <td>low</td>\n",
       "      <td>1</td>\n",
       "    </tr>\n",
       "    <tr>\n",
       "      <th>26</th>\n",
       "      <td>19.062500</td>\n",
       "      <td>high</td>\n",
       "      <td>2</td>\n",
       "    </tr>\n",
       "    <tr>\n",
       "      <th>27</th>\n",
       "      <td>11.727500</td>\n",
       "      <td>med</td>\n",
       "      <td>3</td>\n",
       "    </tr>\n",
       "    <tr>\n",
       "      <th>28</th>\n",
       "      <td>9.454000</td>\n",
       "      <td>med</td>\n",
       "      <td>4</td>\n",
       "    </tr>\n",
       "  </tbody>\n",
       "</table>\n",
       "</div>"
      ],
      "text/plain": [
       "           mean_flow_cfs flow_class  week_index\n",
       "year week                                      \n",
       "2018 24         3.912857        low           0\n",
       "     25         4.093846        low           1\n",
       "     26        19.062500       high           2\n",
       "     27        11.727500        med           3\n",
       "     28         9.454000        med           4"
      ]
     },
     "execution_count": 6,
     "metadata": {},
     "output_type": "execute_result"
    }
   ],
   "source": [
    "def classify(low_value, high_value, value):\n",
    "    if value <= low_value:\n",
    "        return 'low'\n",
    "    elif value >= high_value:\n",
    "        return 'high'\n",
    "    else:\n",
    "        return 'med'\n",
    "\n",
    "weekly_flow_means['flow_class'] = weekly_flow_means['mean_flow_cfs'].map(lambda x: classify(weekly_flow_quantiles[0], weekly_flow_quantiles[1], x))\n",
    "weekly_flow_means['week_index'] = range(len(weekly_flow_means.index))\n",
    "\n",
    "weekly_flow_means.head()"
   ]
  },
  {
   "cell_type": "code",
   "execution_count": 7,
   "id": "8add79c3-5b7d-4cd8-afaa-d0d5a62dd53b",
   "metadata": {},
   "outputs": [
    {
     "data": {
      "text/html": [
       "<div>\n",
       "<style scoped>\n",
       "    .dataframe tbody tr th:only-of-type {\n",
       "        vertical-align: middle;\n",
       "    }\n",
       "\n",
       "    .dataframe tbody tr th {\n",
       "        vertical-align: top;\n",
       "    }\n",
       "\n",
       "    .dataframe thead th {\n",
       "        text-align: right;\n",
       "    }\n",
       "</style>\n",
       "<table border=\"1\" class=\"dataframe\">\n",
       "  <thead>\n",
       "    <tr style=\"text-align: right;\">\n",
       "      <th></th>\n",
       "      <th>year</th>\n",
       "      <th>week</th>\n",
       "      <th>filename</th>\n",
       "      <th>timestamp</th>\n",
       "      <th>flow_cfs</th>\n",
       "      <th>mean_flow_cfs</th>\n",
       "      <th>flow_class</th>\n",
       "      <th>week_index</th>\n",
       "    </tr>\n",
       "  </thead>\n",
       "  <tbody>\n",
       "    <tr>\n",
       "      <th>0</th>\n",
       "      <td>2019</td>\n",
       "      <td>37</td>\n",
       "      <td>20190913_1600_ParkersBrook.jpg</td>\n",
       "      <td>2019-09-13 12:00:00-04:00</td>\n",
       "      <td>4.710000</td>\n",
       "      <td>4.861000</td>\n",
       "      <td>low</td>\n",
       "      <td>65</td>\n",
       "    </tr>\n",
       "    <tr>\n",
       "      <th>1</th>\n",
       "      <td>2018</td>\n",
       "      <td>50</td>\n",
       "      <td>20181213_1600_ParkersBrook.JPG</td>\n",
       "      <td>2018-12-13 11:00:00-05:00</td>\n",
       "      <td>13.550000</td>\n",
       "      <td>13.664445</td>\n",
       "      <td>med</td>\n",
       "      <td>26</td>\n",
       "    </tr>\n",
       "    <tr>\n",
       "      <th>2</th>\n",
       "      <td>2019</td>\n",
       "      <td>33</td>\n",
       "      <td>20190816_1600_ParkersBrook.jpg</td>\n",
       "      <td>2019-08-16 12:00:00-04:00</td>\n",
       "      <td>3.280000</td>\n",
       "      <td>3.316154</td>\n",
       "      <td>low</td>\n",
       "      <td>61</td>\n",
       "    </tr>\n",
       "    <tr>\n",
       "      <th>3</th>\n",
       "      <td>2019</td>\n",
       "      <td>26</td>\n",
       "      <td>20190627_1300_ParkersBrook.jpg</td>\n",
       "      <td>2019-06-27 09:00:00-04:00</td>\n",
       "      <td>7.200000</td>\n",
       "      <td>7.444286</td>\n",
       "      <td>med</td>\n",
       "      <td>54</td>\n",
       "    </tr>\n",
       "    <tr>\n",
       "      <th>4</th>\n",
       "      <td>2019</td>\n",
       "      <td>29</td>\n",
       "      <td>20190715_1500_ParkersBrook.jpg</td>\n",
       "      <td>2019-07-15 11:00:00-04:00</td>\n",
       "      <td>4.190000</td>\n",
       "      <td>5.205000</td>\n",
       "      <td>low</td>\n",
       "      <td>57</td>\n",
       "    </tr>\n",
       "    <tr>\n",
       "      <th>...</th>\n",
       "      <td>...</td>\n",
       "      <td>...</td>\n",
       "      <td>...</td>\n",
       "      <td>...</td>\n",
       "      <td>...</td>\n",
       "      <td>...</td>\n",
       "      <td>...</td>\n",
       "      <td>...</td>\n",
       "    </tr>\n",
       "    <tr>\n",
       "      <th>495</th>\n",
       "      <td>2018</td>\n",
       "      <td>45</td>\n",
       "      <td>20181111_0700_ParkersBrook.JPG</td>\n",
       "      <td>2018-11-11 02:00:00-05:00</td>\n",
       "      <td>22.120001</td>\n",
       "      <td>21.025000</td>\n",
       "      <td>high</td>\n",
       "      <td>21</td>\n",
       "    </tr>\n",
       "    <tr>\n",
       "      <th>496</th>\n",
       "      <td>2019</td>\n",
       "      <td>15</td>\n",
       "      <td>20190414_1700_ParkersBrook.jpg</td>\n",
       "      <td>2019-04-14 13:00:00-04:00</td>\n",
       "      <td>18.430000</td>\n",
       "      <td>17.440001</td>\n",
       "      <td>high</td>\n",
       "      <td>43</td>\n",
       "    </tr>\n",
       "    <tr>\n",
       "      <th>497</th>\n",
       "      <td>2018</td>\n",
       "      <td>48</td>\n",
       "      <td>20181201_1200_ParkersBrook.JPG</td>\n",
       "      <td>2018-12-01 07:00:00-05:00</td>\n",
       "      <td>19.770000</td>\n",
       "      <td>23.534286</td>\n",
       "      <td>high</td>\n",
       "      <td>24</td>\n",
       "    </tr>\n",
       "    <tr>\n",
       "      <th>498</th>\n",
       "      <td>2018</td>\n",
       "      <td>26</td>\n",
       "      <td>20180701_0800_ParkersBrook.JPG</td>\n",
       "      <td>2018-07-01 04:00:00-04:00</td>\n",
       "      <td>14.140000</td>\n",
       "      <td>19.062500</td>\n",
       "      <td>high</td>\n",
       "      <td>2</td>\n",
       "    </tr>\n",
       "    <tr>\n",
       "      <th>499</th>\n",
       "      <td>2018</td>\n",
       "      <td>47</td>\n",
       "      <td>20181123_1400_ParkersBrook.JPG</td>\n",
       "      <td>2018-11-23 09:00:00-05:00</td>\n",
       "      <td>16.340000</td>\n",
       "      <td>20.309999</td>\n",
       "      <td>high</td>\n",
       "      <td>23</td>\n",
       "    </tr>\n",
       "  </tbody>\n",
       "</table>\n",
       "<p>500 rows × 8 columns</p>\n",
       "</div>"
      ],
      "text/plain": [
       "     year  week                        filename                 timestamp  \\\n",
       "0    2019    37  20190913_1600_ParkersBrook.jpg 2019-09-13 12:00:00-04:00   \n",
       "1    2018    50  20181213_1600_ParkersBrook.JPG 2018-12-13 11:00:00-05:00   \n",
       "2    2019    33  20190816_1600_ParkersBrook.jpg 2019-08-16 12:00:00-04:00   \n",
       "3    2019    26  20190627_1300_ParkersBrook.jpg 2019-06-27 09:00:00-04:00   \n",
       "4    2019    29  20190715_1500_ParkersBrook.jpg 2019-07-15 11:00:00-04:00   \n",
       "..    ...   ...                             ...                       ...   \n",
       "495  2018    45  20181111_0700_ParkersBrook.JPG 2018-11-11 02:00:00-05:00   \n",
       "496  2019    15  20190414_1700_ParkersBrook.jpg 2019-04-14 13:00:00-04:00   \n",
       "497  2018    48  20181201_1200_ParkersBrook.JPG 2018-12-01 07:00:00-05:00   \n",
       "498  2018    26  20180701_0800_ParkersBrook.JPG 2018-07-01 04:00:00-04:00   \n",
       "499  2018    47  20181123_1400_ParkersBrook.JPG 2018-11-23 09:00:00-05:00   \n",
       "\n",
       "      flow_cfs  mean_flow_cfs flow_class  week_index  \n",
       "0     4.710000       4.861000        low          65  \n",
       "1    13.550000      13.664445        med          26  \n",
       "2     3.280000       3.316154        low          61  \n",
       "3     7.200000       7.444286        med          54  \n",
       "4     4.190000       5.205000        low          57  \n",
       "..         ...            ...        ...         ...  \n",
       "495  22.120001      21.025000       high          21  \n",
       "496  18.430000      17.440001       high          43  \n",
       "497  19.770000      23.534286       high          24  \n",
       "498  14.140000      19.062500       high           2  \n",
       "499  16.340000      20.309999       high          23  \n",
       "\n",
       "[500 rows x 8 columns]"
      ]
     },
     "execution_count": 7,
     "metadata": {},
     "output_type": "execute_result"
    }
   ],
   "source": [
    "df_week = df.set_index(['year', 'week']).join(weekly_flow_means, on=['year', 'week']).reset_index()\n",
    "df_week"
   ]
  },
  {
   "cell_type": "code",
   "execution_count": 8,
   "id": "4422ca56-aee4-4d72-91ae-41703174e8eb",
   "metadata": {},
   "outputs": [],
   "source": [
    "def image_resize(im, shape=None, scale=None): \n",
    "    if shape is None:\n",
    "        r,c = im.size\n",
    "        shape = (int(r*scale),int(c*scale))\n",
    "    resized = im.resize(shape)\n",
    "    return resized\n",
    "\n",
    "# n_images = 100\n",
    "# for filename in tqdm(df.head(n_images)['filename'], total=n_images):\n",
    "#     raw_path = os.path.join(images_dir, filename)\n",
    "#     new_path = os.path.join(resized_dir, filename)\n",
    "#     if not os.path.exists(new_path):\n",
    "#         image_resize(PILImage.open(raw_path), shape=(640,480)).save(new_path)"
   ]
  },
  {
   "cell_type": "code",
   "execution_count": 9,
   "id": "69a334e8-e965-4811-8f7d-955f3aa270e8",
   "metadata": {},
   "outputs": [],
   "source": [
    "# df_week['rgb_mean'] = [\n",
    "#     np.mean(PILImageStat.Stat(PILImage.open(os.path.join(images_dir, filename))).mean)\n",
    "#     for filename in tqdm(df_week['filename'].values)\n",
    "# ]\n",
    "# df_week['rgb_mean'].hist()"
   ]
  },
  {
   "cell_type": "code",
   "execution_count": 10,
   "id": "3c70f035-d446-4d87-8d03-64df0cfefaea",
   "metadata": {},
   "outputs": [
    {
     "data": {
      "text/plain": [
       "0.628"
      ]
     },
     "execution_count": 10,
     "metadata": {},
     "output_type": "execute_result"
    }
   ],
   "source": [
    "min_hour = 7\n",
    "max_hour = 18\n",
    "df_week_filter = df_week[df_week['timestamp'].dt.hour.between(min_hour, max_hour)]\n",
    "        \n",
    "min_month = 1\n",
    "max_month = 12\n",
    "df_week_filter = df_week_filter[df_week_filter['timestamp'].dt.month.between(min_month, max_month)]\n",
    "\n",
    "# min_rgb = 90\n",
    "# df_week_filter = df_week_filter[df_week_filter['rgb_mean'] >= min_rgb]\n",
    "\n",
    "len(df_week_filter) / len(df_week)"
   ]
  },
  {
   "cell_type": "code",
   "execution_count": 11,
   "id": "59b23c6e-53f7-4ec5-b6d9-f514740b9b44",
   "metadata": {},
   "outputs": [
    {
     "data": {
      "text/html": [
       "<div>\n",
       "<style scoped>\n",
       "    .dataframe tbody tr th:only-of-type {\n",
       "        vertical-align: middle;\n",
       "    }\n",
       "\n",
       "    .dataframe tbody tr th {\n",
       "        vertical-align: top;\n",
       "    }\n",
       "\n",
       "    .dataframe thead th {\n",
       "        text-align: right;\n",
       "    }\n",
       "</style>\n",
       "<table border=\"1\" class=\"dataframe\">\n",
       "  <thead>\n",
       "    <tr style=\"text-align: right;\">\n",
       "      <th></th>\n",
       "      <th>year</th>\n",
       "      <th>week</th>\n",
       "      <th>mean_flow_cfs</th>\n",
       "      <th>flow_class</th>\n",
       "      <th>week_index</th>\n",
       "      <th>split</th>\n",
       "    </tr>\n",
       "  </thead>\n",
       "  <tbody>\n",
       "    <tr>\n",
       "      <th>0</th>\n",
       "      <td>2018</td>\n",
       "      <td>24</td>\n",
       "      <td>3.912857</td>\n",
       "      <td>low</td>\n",
       "      <td>0</td>\n",
       "      <td>test</td>\n",
       "    </tr>\n",
       "    <tr>\n",
       "      <th>1</th>\n",
       "      <td>2018</td>\n",
       "      <td>25</td>\n",
       "      <td>4.093846</td>\n",
       "      <td>low</td>\n",
       "      <td>1</td>\n",
       "      <td>train</td>\n",
       "    </tr>\n",
       "    <tr>\n",
       "      <th>2</th>\n",
       "      <td>2018</td>\n",
       "      <td>26</td>\n",
       "      <td>19.062500</td>\n",
       "      <td>high</td>\n",
       "      <td>2</td>\n",
       "      <td>train</td>\n",
       "    </tr>\n",
       "    <tr>\n",
       "      <th>3</th>\n",
       "      <td>2018</td>\n",
       "      <td>27</td>\n",
       "      <td>11.727500</td>\n",
       "      <td>med</td>\n",
       "      <td>3</td>\n",
       "      <td>train</td>\n",
       "    </tr>\n",
       "    <tr>\n",
       "      <th>4</th>\n",
       "      <td>2018</td>\n",
       "      <td>28</td>\n",
       "      <td>9.454000</td>\n",
       "      <td>med</td>\n",
       "      <td>4</td>\n",
       "      <td>val</td>\n",
       "    </tr>\n",
       "    <tr>\n",
       "      <th>5</th>\n",
       "      <td>2018</td>\n",
       "      <td>29</td>\n",
       "      <td>11.035556</td>\n",
       "      <td>med</td>\n",
       "      <td>5</td>\n",
       "      <td>train</td>\n",
       "    </tr>\n",
       "    <tr>\n",
       "      <th>6</th>\n",
       "      <td>2018</td>\n",
       "      <td>30</td>\n",
       "      <td>15.983750</td>\n",
       "      <td>med</td>\n",
       "      <td>6</td>\n",
       "      <td>train</td>\n",
       "    </tr>\n",
       "    <tr>\n",
       "      <th>7</th>\n",
       "      <td>2018</td>\n",
       "      <td>31</td>\n",
       "      <td>13.425000</td>\n",
       "      <td>med</td>\n",
       "      <td>7</td>\n",
       "      <td>val</td>\n",
       "    </tr>\n",
       "    <tr>\n",
       "      <th>8</th>\n",
       "      <td>2018</td>\n",
       "      <td>32</td>\n",
       "      <td>14.254286</td>\n",
       "      <td>med</td>\n",
       "      <td>8</td>\n",
       "      <td>train</td>\n",
       "    </tr>\n",
       "    <tr>\n",
       "      <th>9</th>\n",
       "      <td>2018</td>\n",
       "      <td>33</td>\n",
       "      <td>23.967142</td>\n",
       "      <td>high</td>\n",
       "      <td>9</td>\n",
       "      <td>train</td>\n",
       "    </tr>\n",
       "  </tbody>\n",
       "</table>\n",
       "</div>"
      ],
      "text/plain": [
       "   year  week  mean_flow_cfs flow_class  week_index  split\n",
       "0  2018    24       3.912857        low           0   test\n",
       "1  2018    25       4.093846        low           1  train\n",
       "2  2018    26      19.062500       high           2  train\n",
       "3  2018    27      11.727500        med           3  train\n",
       "4  2018    28       9.454000        med           4    val\n",
       "5  2018    29      11.035556        med           5  train\n",
       "6  2018    30      15.983750        med           6  train\n",
       "7  2018    31      13.425000        med           7    val\n",
       "8  2018    32      14.254286        med           8  train\n",
       "9  2018    33      23.967142       high           9  train"
      ]
     },
     "execution_count": 11,
     "metadata": {},
     "output_type": "execute_result"
    }
   ],
   "source": [
    "# weeks = avery.table[['flow_class', 'year', 'week', 'week_index']].drop_duplicates()\n",
    "weeks = weekly_flow_means.reset_index()\n",
    "random_seed = 12\n",
    "test_ratio = 0.1\n",
    "val_ratio = 0.1\n",
    "\n",
    "X = weeks['week_index']\n",
    "y = weeks['flow_class']\n",
    "\n",
    "sss_test = StratifiedShuffleSplit(n_splits=1, test_size=test_ratio, random_state=random_seed)\n",
    "trainval_idx, test_idx = list(sss_test.split(X, y))[0]\n",
    "sss_val = StratifiedShuffleSplit(n_splits=1, test_size=val_ratio / (1 - test_ratio), random_state=random_seed)\n",
    "train_idx, val_idx = list(sss_test.split(trainval_idx, y[trainval_idx]))[0]\n",
    "\n",
    "weeks['split'] = weeks['week_index'].map(lambda x: 'train' if x in trainval_idx[train_idx] else 'val' if x in trainval_idx[val_idx] else 'test')\n",
    "weeks.head(10)"
   ]
  },
  {
   "cell_type": "code",
   "execution_count": 12,
   "id": "7aabf432-f8a5-46a1-9e8c-cdb29fcaad37",
   "metadata": {},
   "outputs": [
    {
     "data": {
      "text/plain": [
       "flow_class\n",
       "high    25.0\n",
       "low     25.0\n",
       "med     50.0\n",
       "dtype: float64"
      ]
     },
     "execution_count": 12,
     "metadata": {},
     "output_type": "execute_result"
    }
   ],
   "source": [
    "weeks.groupby(['flow_class']).size() / len(weeks.index) * 100"
   ]
  },
  {
   "cell_type": "code",
   "execution_count": 13,
   "id": "8028a00a-196c-49cb-af22-ff294fc9afdd",
   "metadata": {},
   "outputs": [
    {
     "data": {
      "text/plain": [
       "split  flow_class\n",
       "test   high           2\n",
       "       low            2\n",
       "       med            4\n",
       "train  high          14\n",
       "       low           14\n",
       "       med           29\n",
       "val    high           2\n",
       "       low            2\n",
       "       med            3\n",
       "dtype: int64"
      ]
     },
     "execution_count": 13,
     "metadata": {},
     "output_type": "execute_result"
    }
   ],
   "source": [
    "weeks.groupby(['split', 'flow_class']).size()"
   ]
  },
  {
   "cell_type": "code",
   "execution_count": 14,
   "id": "b9a019cd-6070-4674-8d2e-b84adf504bba",
   "metadata": {},
   "outputs": [
    {
     "data": {
      "text/plain": [
       "(244, 38, 32)"
      ]
     },
     "execution_count": 14,
     "metadata": {},
     "output_type": "execute_result"
    }
   ],
   "source": [
    "df_train = df_week_filter[df_week_filter['week_index'].isin(trainval_idx[train_idx])]\n",
    "df_val = df_week_filter[df_week_filter['week_index'].isin(trainval_idx[val_idx])]\n",
    "df_test = df_week_filter[df_week_filter['week_index'].isin(test_idx)]\n",
    "len(df_train), len(df_val), len(df_test)"
   ]
  },
  {
   "cell_type": "code",
   "execution_count": 15,
   "id": "ab309ffd-64b8-4dfc-9f47-d42ed86c8f92",
   "metadata": {},
   "outputs": [
    {
     "data": {
      "text/plain": [
       "flow_class\n",
       "high     54\n",
       "low      61\n",
       "med     129\n",
       "dtype: int64"
      ]
     },
     "execution_count": 15,
     "metadata": {},
     "output_type": "execute_result"
    }
   ],
   "source": [
    "df_train.groupby('flow_class').size()"
   ]
  },
  {
   "cell_type": "code",
   "execution_count": 16,
   "id": "75147658-e65f-46d8-9969-ffd4cfd732ab",
   "metadata": {},
   "outputs": [
    {
     "data": {
      "text/plain": [
       "flow_class\n",
       "high     8\n",
       "low      6\n",
       "med     18\n",
       "dtype: int64"
      ]
     },
     "execution_count": 16,
     "metadata": {},
     "output_type": "execute_result"
    }
   ],
   "source": [
    "df_test.groupby('flow_class').size()"
   ]
  },
  {
   "cell_type": "code",
   "execution_count": 17,
   "id": "b92e2aaa-a929-4e60-a5ca-eb6d852974f1",
   "metadata": {},
   "outputs": [
    {
     "data": {
      "text/plain": [
       "flow_class\n",
       "high    10\n",
       "low     12\n",
       "med     16\n",
       "dtype: int64"
      ]
     },
     "execution_count": 17,
     "metadata": {},
     "output_type": "execute_result"
    }
   ],
   "source": [
    "f_val.groupby('flow_class').size()"
   ]
  },
  {
   "cell_type": "code",
   "execution_count": 50,
   "id": "680bb1c9-0e50-4f77-ab1e-39767e989e9a",
   "metadata": {},
   "outputs": [],
   "source": [
    "class ImagePairSampler:\n",
    "    \"\"\"Sampling methods for pairs of streamflow images.\"\"\"\n",
    "    def __init__(self, table, sampling_fn):\n",
    "        self.table = table\n",
    "        self.pair_sampling_fn = sampling_fn\n",
    "    \n",
    "    def get_pairs(self, num_pairs):\n",
    "        return self.pair_sampling_fn(self.table, num_pairs)\n",
    "\n",
    "def random_pairs(table, num_pairs):\n",
    "    # each image is paired with another image at random\n",
    "    all_img_idx_combinations = list(combinations(range(len(table)), 2))\n",
    "    num_combinations = len(all_img_idx_combinations)\n",
    "    if len(all_img_idx_combinations) < num_pairs:\n",
    "        combinations_sample = [all_img_idx_combinations[i] for i in np.random.choice(range(num_combinations), num_pairs, replace=True)]\n",
    "    else:\n",
    "        combinations_sample = [all_img_idx_combinations[i] for i in np.random.choice(range(num_combinations), num_pairs, replace=False)]\n",
    "    return combinations_sample\n",
    "\n",
    "class SiteDataset(Dataset):\n",
    "    def __init__(self, table, images_dir, resize_size=[480,640], crop_size=[384,512],\n",
    "                normalize=True, augment=True, training=True, means=None, stds=None, \n",
    "                crop_to_bbox=False, log_transform=False):\n",
    "        self.table = table\n",
    "        self.images_dir = images_dir\n",
    "        self.resize_size = resize_size\n",
    "        self.crop_size = crop_size\n",
    "        self.normalize = normalize\n",
    "        self.augment = augment\n",
    "        self.training = training\n",
    "        self.crop_to_bbox = crop_to_bbox\n",
    "        self.log_transform = log_transform\n",
    "        self.image_pair_sampler = None\n",
    "        self.ranked_image_pairs = []\n",
    "    \n",
    "    def __len__(self):\n",
    "        return len(self.ranked_image_pairs)\n",
    "    \n",
    "    def get_image(self, index):\n",
    "        \"\"\"Loads image at given index\"\"\"\n",
    "        path = os.path.join(images_dir, self.table.iloc[index]['filename'])\n",
    "        return PILImage.open(path).convert('RGB')\n",
    "    \n",
    "    def compute_mean_std(self):\n",
    "        \"\"\"Compute RGB channel means and stds for image samples in the dataset.\"\"\"\n",
    "        means = np.zeros((3))\n",
    "        stds = np.zeros((3))\n",
    "        sample_size= min(len(self.table), 1000)\n",
    "        sample_indices = np.random.choice(len(self.table), size=sample_size, replace=False)\n",
    "        for idx in tqdm(sample_indices):\n",
    "            img = self.get_image(idx)\n",
    "            stat = PILImageStat.Stat(img)\n",
    "            means += np.array(stat.mean)/255.0\n",
    "            stds += np.array(stat.stddev)/255.0\n",
    "        means = means/sample_size\n",
    "        stds = stds/sample_size\n",
    "        return means, stds\n",
    "    \n",
    "    def set_mean_std(self, means, stds):\n",
    "        self.means = means\n",
    "        self.stds = stds\n",
    "    \n",
    "    def crop_images_to_bboxes(self, crop_bool):\n",
    "        self.crop_to_bbox = crop_bool\n",
    "    \n",
    "    def set_bbox_source(self, filename):\n",
    "        self.bbox_file = filename\n",
    "        with open(filename, 'rb') as handle:\n",
    "            self.bboxes = pickle.load(handle)\n",
    "    \n",
    "    def create_transforms(self):\n",
    "        \"\"\"Create transforms to apply during training and evaluation.\n",
    "        Transforms can involve data augmentation and/or normalization if desired.\n",
    "        Data augmentation should only be applied during training, not during evaluation.\n",
    "        \"\"\"\n",
    "        train_transforms = [Resize(self.resize_size)]\n",
    "        if self.augment:\n",
    "            train_transforms.append(RandomCrop(self.crop_size))\n",
    "            train_transforms.append(RandomHorizontalFlip())\n",
    "            train_transforms.append(RandomRotation(10))\n",
    "            train_transforms.append(ColorJitter())\n",
    "        else:\n",
    "            train_transforms.append(CenterCrop(self.crop_size))\n",
    "        train_transforms.append(ToTensor())\n",
    "        if self.normalize:\n",
    "            train_transforms.append(Normalize(self.means, self.stds))\n",
    "        self.train_transform = Compose(train_transforms)\n",
    "        \n",
    "        eval_transforms = [Resize(self.resize_size)]\n",
    "        eval_transforms.append(CenterCrop(self.crop_size))\n",
    "        eval_transforms.append(ToTensor())\n",
    "        if self.normalize:\n",
    "            eval_transforms.append(Normalize(self.means, self.stds))\n",
    "        self.eval_transform = Compose(eval_transforms)\n",
    "    \n",
    "    def train(self):\n",
    "        self.training = True\n",
    "    \n",
    "    def evaluate(self):\n",
    "        self.training = False\n",
    "\n",
    "    def rank_image_pairs(self, pair_sampling_fn, num_pairs, margin=0):\n",
    "        self.image_pair_sampler = ImagePairSampler(self.table, pair_sampling_fn)\n",
    "        self.sampled_image_pairs = self.image_pair_sampler.get_pairs(num_pairs)\n",
    "        labeled_sampled_image_pairs = self.label_image_pairs(self.sampled_image_pairs, margin=margin)\n",
    "        self.ranked_image_pairs.extend(labeled_sampled_image_pairs)\n",
    "        \n",
    "    def label_image_pairs(self, image_pairs, margin, mode='relative'):\n",
    "        labeled_ranked_image_pairs = []\n",
    "        for i in range(len(image_pairs)):\n",
    "            idx1 = image_pairs[i][0]\n",
    "            idx2 = image_pairs[i][1]\n",
    "            if mode == 'absolute':\n",
    "                if (self.table['flow_cfs'].iloc[idx1] - self.table['flow_cfs'].iloc[idx2]) > margin:\n",
    "                    # first idx has higher discharge\n",
    "                    label = 1\n",
    "                elif (self.table['flow_cfs'].iloc[idx1] - self.table['flow_cfs'].iloc[idx2]) < -margin:\n",
    "                    # first idx has lower discharge\n",
    "                    label = -1\n",
    "                else:\n",
    "                    # both indices have similar discharge\n",
    "                    label = 0\n",
    "            elif mode == 'relative':\n",
    "                left_disch = self.table['flow_cfs'].iloc[idx1]\n",
    "                right_dishc = self.table['flow_cfs'].iloc[idx2]\n",
    "                min_disch = min(left_disch, right_dishc)\n",
    "                if (left_disch - right_dishc)/min_disch > margin:\n",
    "                    # first idx has higher discharge\n",
    "                    label = 1\n",
    "                elif (left_disch - right_dishc)/min_disch < -margin:\n",
    "                    # first idx has lower discharge\n",
    "                    label = -1\n",
    "                else:\n",
    "                    # both indices have similar discharge\n",
    "                    label = 0\n",
    "            labeled_ranked_image_pairs.extend([(idx1, idx2, label), (idx2, idx1, -1*label)])\n",
    "        return labeled_ranked_image_pairs\n",
    "    \n",
    "    def __getitem__(self, idx):\n",
    "        idx1, idx2, label = self.ranked_image_pairs[idx]\n",
    "        img1 = self.get_image(idx1)\n",
    "        img2 = self.get_image(idx2)\n",
    "\n",
    "        # crop images first\n",
    "        if self.crop_to_bbox:\n",
    "            image1_table_index = self.table.index[idx1]\n",
    "            topleft_x_1, topleft_y_1, width_1, height_1 = self.bboxes[image1_table_index]\n",
    "            bottomright_x_1 = topleft_x_1 + width_1\n",
    "            bottomright_y_1 = topleft_y_1 + height_1\n",
    "            img1 = img1.crop((topleft_x_1, topleft_y_1, bottomright_x_1, bottomright_y_1))\n",
    "\n",
    "            image2_table_index = self.table.index[idx2]\n",
    "            topleft_x_2, topleft_y_2, width_2, height_2 = self.bboxes[image2_table_index]\n",
    "            bottomright_x_2 = topleft_x_2 + width_2\n",
    "            bottomright_y_2 = topleft_y_2 + height_2\n",
    "            img2 = img2.crop((topleft_x_2, topleft_y_2, bottomright_x_2, bottomright_y_2))\n",
    "\n",
    "        # apply transforms\n",
    "        if self.training:\n",
    "            img1 = self.train_transform(img1)\n",
    "            img2 = self.train_transform(img2)\n",
    "        else:\n",
    "            img1 = self.eval_transform(img1)\n",
    "            img2 = self.eval_transform(img2)\n",
    "        \n",
    "        return img1, img2, label\n",
    "\n",
    "# num_train_pairs = 5000\n",
    "num_train_pairs = 1000\n",
    "margin=0.1\n",
    "ds_train = SiteDataset(df_train, images_dir, training=True, normalize=True, augment=True, log_transform=True)\n",
    "ds_train.rank_image_pairs(random_pairs, num_pairs=num_train_pairs, margin=0.1)\n",
    "ds_val = SiteDataset(df_val, images_dir, training=False, normalize=True, augment=True, log_transform=True)\n",
    "ds_val.rank_image_pairs(random_pairs, num_pairs=num_train_pairs, margin=0.1)\n",
    "ds_test = SiteDataset(df_test, images_dir, training=False, normalize=True, augment=True, log_transform=True)\n",
    "ds_test.rank_image_pairs(random_pairs, num_pairs=num_train_pairs, margin=0.1)"
   ]
  },
  {
   "cell_type": "code",
   "execution_count": 51,
   "id": "3a65c72b-c4a6-4902-816b-f6715c743dce",
   "metadata": {},
   "outputs": [
    {
     "data": {
      "application/vnd.jupyter.widget-view+json": {
       "model_id": "6a06729376494e28999f8379c35c6c0c",
       "version_major": 2,
       "version_minor": 0
      },
      "text/plain": [
       "  0%|          | 0/244 [00:00<?, ?it/s]"
      ]
     },
     "metadata": {},
     "output_type": "display_data"
    }
   ],
   "source": [
    "def compute_mean_std(df):\n",
    "    \"\"\"Compute RGB channel means and stds for image samples in the dataset.\"\"\"\n",
    "    means = np.zeros((3))\n",
    "    stds = np.zeros((3))\n",
    "    sample_size= min(len(df), 1000)\n",
    "    sample_indices = np.random.choice(len(df), size=sample_size, replace=False)\n",
    "    for idx in tqdm(sample_indices):\n",
    "        path = os.path.join(images_dir, df.iloc[idx]['filename'])\n",
    "        img = PILImage.open(path).convert('RGB')\n",
    "        stat = PILImageStat.Stat(img)\n",
    "        means += np.array(stat.mean)/255.0\n",
    "        stds += np.array(stat.stddev)/255.0\n",
    "    means = means/sample_size\n",
    "    stds = stds/sample_size\n",
    "    return means, stds\n",
    "\n",
    "m,s = compute_mean_std(df_train)\n",
    "ds_train.set_mean_std(m, s)\n",
    "ds_val.set_mean_std(m, s)\n",
    "ds_test.set_mean_std(m, s)"
   ]
  },
  {
   "cell_type": "code",
   "execution_count": 52,
   "id": "8341ae68-dc45-4ead-b889-87211635539e",
   "metadata": {},
   "outputs": [],
   "source": [
    "ds_train.create_transforms()\n",
    "ds_val.create_transforms()\n",
    "ds_test.create_transforms()"
   ]
  },
  {
   "cell_type": "code",
   "execution_count": 53,
   "id": "95089f5d-5360-4eff-a8bc-c8b36297b3ed",
   "metadata": {},
   "outputs": [],
   "source": [
    "batch_size = 64\n",
    "num_workers = 0\n",
    "dl_train = DataLoader(ds_train, batch_size=batch_size, shuffle=True, num_workers=num_workers)\n",
    "dl_val = DataLoader(ds_val, batch_size=batch_size, shuffle=False, num_workers=num_workers)\n",
    "dl_test = DataLoader(ds_test, batch_size=batch_size, shuffle=False, num_workers=num_workers)"
   ]
  },
  {
   "cell_type": "code",
   "execution_count": 54,
   "id": "9f6c5be3-d218-4169-9dfc-bb1dceeacb00",
   "metadata": {},
   "outputs": [
    {
     "data": {
      "text/plain": [
       "device(type='cpu')"
      ]
     },
     "execution_count": 54,
     "metadata": {},
     "output_type": "execute_result"
    }
   ],
   "source": [
    "# if torch.backends.mps.is_available():\n",
    "#     device = torch.device(\"mps\")\n",
    "# else:\n",
    "#     device = torch.device(\"cpu\")\n",
    "device = torch.device(\"cpu\")\n",
    "device"
   ]
  },
  {
   "cell_type": "code",
   "execution_count": 55,
   "id": "45c18bf8-5c80-4e00-b965-8b89b953f960",
   "metadata": {},
   "outputs": [
    {
     "name": "stderr",
     "output_type": "stream",
     "text": [
      "/opt/homebrew/Caskroom/miniconda/base/envs/deepstreamflow/lib/python3.9/site-packages/torchvision/models/_utils.py:208: UserWarning: The parameter 'pretrained' is deprecated since 0.13 and will be removed in 0.15, please use 'weights' instead.\n",
      "  warnings.warn(\n",
      "/opt/homebrew/Caskroom/miniconda/base/envs/deepstreamflow/lib/python3.9/site-packages/torchvision/models/_utils.py:223: UserWarning: Arguments other than a weight enum or `None` for 'weights' are deprecated since 0.13 and will be removed in 0.15. The current behavior is equivalent to passing `weights=ResNet18_Weights.IMAGENET1K_V1`. You can also use `weights=ResNet18_Weights.DEFAULT` to get the most up-to-date weights.\n",
      "  warnings.warn(msg)\n"
     ]
    }
   ],
   "source": [
    "def get_output_shape(model, input_shape=(1,3,224,224)):\n",
    "    x = torch.randn(*input_shape)\n",
    "    out = model(x)\n",
    "    return out.shape\n",
    "\n",
    "class ResNet18(nn.Module):\n",
    "    \"\"\"PyTorch ResNet-18 architecture.\n",
    "    Attributes:\n",
    "        pretrained (bool): whether to use weights from network trained on ImageNet\n",
    "        truncate (int): how many layers to remove from the end of the network\n",
    "    \"\"\"\n",
    "    def __init__(self, pretrained=True, truncate=0):\n",
    "        super(ResNet18, self).__init__()\n",
    "        self.model = resnet18(pretrained=pretrained)\n",
    "        if truncate > 0:\n",
    "            self.model = nn.Sequential(*list(self.model.children())[:-truncate])\n",
    "\n",
    "        self.model.eval()\n",
    "\n",
    "    def forward(self, x):\n",
    "        x = self.model(x)\n",
    "        return x\n",
    "\n",
    "class ResNetRankNet(ResNetRegressionNet):\n",
    "    \"\"\"TODO:\n",
    "        - Add docstrings\n",
    "    \"\"\"\n",
    "    def __init__(self, input_shape=(3, 384, 512), resnet_size=50, truncate=2, pretrained=True, num_hlayers=[256, 64]):\n",
    "        super().__init__(\n",
    "            input_shape=input_shape,\n",
    "            resnet_size=resnet_size,\n",
    "            truncate=truncate,\n",
    "            pretrained=pretrained,\n",
    "            num_hlayers=num_hlayers\n",
    "        )\n",
    "    \n",
    "    def forward_single(self, x):\n",
    "        x = self.resnetbody(x)\n",
    "        x = self.avgpool(x)\n",
    "        x = x.view(x.size(0), -1)\n",
    "        x = self.fclayers(x)\n",
    "        x = x.squeeze()\n",
    "        return x\n",
    "    \n",
    "    def forward(self, input1, input2):\n",
    "        # forward pass of input 1\n",
    "        output1 = self.forward_single(input1)\n",
    "        # forward pass of input 2\n",
    "        output2 = self.forward_single(input2)\n",
    "        # return the predicted feature vectors of both inputs\n",
    "        return output1, output2\n",
    "\n",
    "\n",
    "model = ResNetRankNet(input_shape=(3, 384, 512), resnet_size=18, truncate=2, pretrained=True)"
   ]
  },
  {
   "cell_type": "code",
   "execution_count": 56,
   "id": "6627e1e8-41e7-4cb1-bc5b-430fb2ab1422",
   "metadata": {},
   "outputs": [
    {
     "data": {
      "text/plain": [
       "ResNetRankNet(\n",
       "  (resnetbody): ResNet18(\n",
       "    (model): Sequential(\n",
       "      (0): Conv2d(3, 64, kernel_size=(7, 7), stride=(2, 2), padding=(3, 3), bias=False)\n",
       "      (1): BatchNorm2d(64, eps=1e-05, momentum=0.1, affine=True, track_running_stats=True)\n",
       "      (2): ReLU(inplace=True)\n",
       "      (3): MaxPool2d(kernel_size=3, stride=2, padding=1, dilation=1, ceil_mode=False)\n",
       "      (4): Sequential(\n",
       "        (0): BasicBlock(\n",
       "          (conv1): Conv2d(64, 64, kernel_size=(3, 3), stride=(1, 1), padding=(1, 1), bias=False)\n",
       "          (bn1): BatchNorm2d(64, eps=1e-05, momentum=0.1, affine=True, track_running_stats=True)\n",
       "          (relu): ReLU(inplace=True)\n",
       "          (conv2): Conv2d(64, 64, kernel_size=(3, 3), stride=(1, 1), padding=(1, 1), bias=False)\n",
       "          (bn2): BatchNorm2d(64, eps=1e-05, momentum=0.1, affine=True, track_running_stats=True)\n",
       "        )\n",
       "        (1): BasicBlock(\n",
       "          (conv1): Conv2d(64, 64, kernel_size=(3, 3), stride=(1, 1), padding=(1, 1), bias=False)\n",
       "          (bn1): BatchNorm2d(64, eps=1e-05, momentum=0.1, affine=True, track_running_stats=True)\n",
       "          (relu): ReLU(inplace=True)\n",
       "          (conv2): Conv2d(64, 64, kernel_size=(3, 3), stride=(1, 1), padding=(1, 1), bias=False)\n",
       "          (bn2): BatchNorm2d(64, eps=1e-05, momentum=0.1, affine=True, track_running_stats=True)\n",
       "        )\n",
       "      )\n",
       "      (5): Sequential(\n",
       "        (0): BasicBlock(\n",
       "          (conv1): Conv2d(64, 128, kernel_size=(3, 3), stride=(2, 2), padding=(1, 1), bias=False)\n",
       "          (bn1): BatchNorm2d(128, eps=1e-05, momentum=0.1, affine=True, track_running_stats=True)\n",
       "          (relu): ReLU(inplace=True)\n",
       "          (conv2): Conv2d(128, 128, kernel_size=(3, 3), stride=(1, 1), padding=(1, 1), bias=False)\n",
       "          (bn2): BatchNorm2d(128, eps=1e-05, momentum=0.1, affine=True, track_running_stats=True)\n",
       "          (downsample): Sequential(\n",
       "            (0): Conv2d(64, 128, kernel_size=(1, 1), stride=(2, 2), bias=False)\n",
       "            (1): BatchNorm2d(128, eps=1e-05, momentum=0.1, affine=True, track_running_stats=True)\n",
       "          )\n",
       "        )\n",
       "        (1): BasicBlock(\n",
       "          (conv1): Conv2d(128, 128, kernel_size=(3, 3), stride=(1, 1), padding=(1, 1), bias=False)\n",
       "          (bn1): BatchNorm2d(128, eps=1e-05, momentum=0.1, affine=True, track_running_stats=True)\n",
       "          (relu): ReLU(inplace=True)\n",
       "          (conv2): Conv2d(128, 128, kernel_size=(3, 3), stride=(1, 1), padding=(1, 1), bias=False)\n",
       "          (bn2): BatchNorm2d(128, eps=1e-05, momentum=0.1, affine=True, track_running_stats=True)\n",
       "        )\n",
       "      )\n",
       "      (6): Sequential(\n",
       "        (0): BasicBlock(\n",
       "          (conv1): Conv2d(128, 256, kernel_size=(3, 3), stride=(2, 2), padding=(1, 1), bias=False)\n",
       "          (bn1): BatchNorm2d(256, eps=1e-05, momentum=0.1, affine=True, track_running_stats=True)\n",
       "          (relu): ReLU(inplace=True)\n",
       "          (conv2): Conv2d(256, 256, kernel_size=(3, 3), stride=(1, 1), padding=(1, 1), bias=False)\n",
       "          (bn2): BatchNorm2d(256, eps=1e-05, momentum=0.1, affine=True, track_running_stats=True)\n",
       "          (downsample): Sequential(\n",
       "            (0): Conv2d(128, 256, kernel_size=(1, 1), stride=(2, 2), bias=False)\n",
       "            (1): BatchNorm2d(256, eps=1e-05, momentum=0.1, affine=True, track_running_stats=True)\n",
       "          )\n",
       "        )\n",
       "        (1): BasicBlock(\n",
       "          (conv1): Conv2d(256, 256, kernel_size=(3, 3), stride=(1, 1), padding=(1, 1), bias=False)\n",
       "          (bn1): BatchNorm2d(256, eps=1e-05, momentum=0.1, affine=True, track_running_stats=True)\n",
       "          (relu): ReLU(inplace=True)\n",
       "          (conv2): Conv2d(256, 256, kernel_size=(3, 3), stride=(1, 1), padding=(1, 1), bias=False)\n",
       "          (bn2): BatchNorm2d(256, eps=1e-05, momentum=0.1, affine=True, track_running_stats=True)\n",
       "        )\n",
       "      )\n",
       "      (7): Sequential(\n",
       "        (0): BasicBlock(\n",
       "          (conv1): Conv2d(256, 512, kernel_size=(3, 3), stride=(2, 2), padding=(1, 1), bias=False)\n",
       "          (bn1): BatchNorm2d(512, eps=1e-05, momentum=0.1, affine=True, track_running_stats=True)\n",
       "          (relu): ReLU(inplace=True)\n",
       "          (conv2): Conv2d(512, 512, kernel_size=(3, 3), stride=(1, 1), padding=(1, 1), bias=False)\n",
       "          (bn2): BatchNorm2d(512, eps=1e-05, momentum=0.1, affine=True, track_running_stats=True)\n",
       "          (downsample): Sequential(\n",
       "            (0): Conv2d(256, 512, kernel_size=(1, 1), stride=(2, 2), bias=False)\n",
       "            (1): BatchNorm2d(512, eps=1e-05, momentum=0.1, affine=True, track_running_stats=True)\n",
       "          )\n",
       "        )\n",
       "        (1): BasicBlock(\n",
       "          (conv1): Conv2d(512, 512, kernel_size=(3, 3), stride=(1, 1), padding=(1, 1), bias=False)\n",
       "          (bn1): BatchNorm2d(512, eps=1e-05, momentum=0.1, affine=True, track_running_stats=True)\n",
       "          (relu): ReLU(inplace=True)\n",
       "          (conv2): Conv2d(512, 512, kernel_size=(3, 3), stride=(1, 1), padding=(1, 1), bias=False)\n",
       "          (bn2): BatchNorm2d(512, eps=1e-05, momentum=0.1, affine=True, track_running_stats=True)\n",
       "        )\n",
       "      )\n",
       "    )\n",
       "  )\n",
       "  (avgpool): AdaptiveAvgPool2d(output_size=(1, 1))\n",
       "  (fclayers): Sequential(\n",
       "    (0): Linear(in_features=512, out_features=256, bias=True)\n",
       "    (1): ReLU()\n",
       "    (2): Linear(in_features=256, out_features=64, bias=True)\n",
       "    (3): ReLU()\n",
       "    (4): Linear(in_features=64, out_features=1, bias=True)\n",
       "  )\n",
       ")"
      ]
     },
     "execution_count": 56,
     "metadata": {},
     "output_type": "execute_result"
    }
   ],
   "source": [
    "for p in list(model.children())[0].parameters():\n",
    "    p.requires_grad = False\n",
    "unfreeze_after = 2\n",
    "# model = torch.nn.DataParallel(model)\n",
    "model.to(device)"
   ]
  },
  {
   "cell_type": "code",
   "execution_count": 57,
   "id": "aaa057a7-c88f-443c-8104-2edefb420c6c",
   "metadata": {},
   "outputs": [],
   "source": [
    "class MSELoss(nn.Module):\n",
    "    def __init__(self):\n",
    "        super(MSELoss, self).__init__()\n",
    "        self.loss = nn.MSELoss()\n",
    "    \n",
    "    def forward(self, input, target):\n",
    "        output = self.loss(input, target)\n",
    "        return output\n",
    "\n",
    "class RankNetLoss(nn.Module):\n",
    "    def __init__(self):\n",
    "        super(RankNetLoss, self).__init__()\n",
    "    \n",
    "    def forward(self, inputs_i, inputs_j, targets):\n",
    "        oij = inputs_i - inputs_j\n",
    "        Pij = torch.sigmoid(oij)\n",
    "        target_probs = 0.5*(targets + 1)\n",
    "        bceloss = nn.BCELoss()\n",
    "        loss = bceloss(Pij, target_probs)\n",
    "        return loss\n",
    "    \n",
    "criterion = RankNetLoss()\n",
    "optimizer = torch.optim.SGD(model.parameters(), lr=0.001, momentum=0.9)\n",
    "scheduler = torch.optim.lr_scheduler.ReduceLROnPlateau(optimizer, 'min', patience=1, factor=0.5)"
   ]
  },
  {
   "cell_type": "code",
   "execution_count": 58,
   "id": "489d044e-3b73-4513-98f9-64bdede5fce0",
   "metadata": {},
   "outputs": [],
   "source": [
    "class PairwiseRankAccuracy(torch.nn.Module):\n",
    "    def __init__(self):\n",
    "        super(PairwiseRankAccuracy, self).__init__()\n",
    "    \n",
    "    def forward(self, outputs_i, outputs_j, targets, boundaries=[0.33, 0.66]):\n",
    "        oij = outputs_i - outputs_j\n",
    "        Pij = torch.sigmoid(oij)\n",
    "        preds = torch.zeros_like(targets)\n",
    "        preds = torch.where(Pij < boundaries[0], -1, preds)\n",
    "        preds = torch.where(Pij > boundaries[1], 1, preds)\n",
    "        # preds[(Pij>boundaries[1])] = 1\n",
    "        # preds[(Pij<boundaries[0])] = -1\n",
    "        total = targets.size(0)\n",
    "        # correct = (preds == targets).sum()\n",
    "        correct = torch.eq(preds, targets).sum()\n",
    "        return 100*correct/float(total)\n",
    "        # zeros = (Pij>=0.33).float()*(Pij<=0.66).float()\n",
    "        # target_probs = 0.5*(targets + 1)\n",
    "\n",
    "def fit(model, criterion, optimizer, train_dl, device, epoch_num=None, verbose=False):\n",
    "    \"\"\"Train model for one epoch.\n",
    "    \n",
    "    Args:\n",
    "        model (torch.nn.Module): network to train\n",
    "        criterion (torch.nn.Module): loss function(s) used to train network weights\n",
    "        optimizer (torch.optim.Optimizer): algorithm used to optimize network weights\n",
    "        train_dl (torch.utils.DataLoader): data loader for training set\n",
    "        epoch_num (int): epoch number for logging\n",
    "    \n",
    "    Returns:\n",
    "        batch_loss_logger.avg (float): average criterion loss per batch during training\n",
    "    \"\"\"\n",
    "    print('Training')\n",
    "    model.train() # ensure model is in train mode\n",
    "    train_dl.dataset.train() # ensure train transforms are applied\n",
    "    batch_loss_logger = MetricLogger()\n",
    "    batch_time_logger = MetricLogger()\n",
    "    \n",
    "    for bidx, batch in tqdm(enumerate(train_dl), total=len(train_dl)):\n",
    "        \n",
    "        batch_starttime = time.time()\n",
    "        \n",
    "        if isinstance(criterion, (torch.nn.MarginRankingLoss, RankNetLoss)):\n",
    "            # paired inputs ->[model]-> paired outputs ->[criterion]-> value\n",
    "            inputs1, inputs2, labels = batch\n",
    "            if next(model.parameters()).is_cuda:\n",
    "                inputs1 = inputs1.to(device)\n",
    "                inputs2 = inputs2.to(device)\n",
    "                labels = labels.to(device)\n",
    "            optimizer.zero_grad()\n",
    "            outputs1, outputs2 = model(inputs1, inputs2)\n",
    "            loss = criterion(outputs1, outputs2, labels)\n",
    "            batch_loss_logger.update(loss.item())\n",
    "            loss.backward()\n",
    "            optimizer.step()\n",
    "        else:\n",
    "            # inputs ->[model]-> outputs ->[criterion]-> value\n",
    "            inputs, labels = batch\n",
    "            if next(model.parameters()).is_cuda:\n",
    "                inputs = inputs.to(device)\n",
    "                labels = labels.to(device)\n",
    "            optimizer.zero_grad()\n",
    "            outputs = model(inputs)\n",
    "            loss = criterion(outputs, labels)\n",
    "            batch_loss_logger.update(loss.item())\n",
    "            loss.backward()\n",
    "            optimizer.step()\n",
    "        \n",
    "        batch_endtime = time.time()\n",
    "        batch_time_logger.update(batch_endtime-batch_starttime)\n",
    "        \n",
    "        if verbose and (bidx%10 == 9):\n",
    "            print(f\"[Epoch {epoch_num} Batch {bidx}]\\t{batch_time_logger.sum:.2f} s\\t{batch_loss_logger.avg:.4f}\")\n",
    "    \n",
    "    print(f\"[Epoch {epoch_num}]\\t{batch_time_logger.sum:.2f} s\\t{batch_loss_logger.avg:.4f}\")\n",
    "    \n",
    "    return batch_loss_logger.avg\n",
    "\n",
    "def validate(model, criterions, dl, device):\n",
    "    \"\"\"Calculate multiple criterion for a model on a dataset.\"\"\"\n",
    "    print('Validating')\n",
    "    model.eval()\n",
    "    dl.dataset.evaluate()\n",
    "    criterion_loggers = [MetricLogger() for i in range(len(criterions))]\n",
    "    with torch.no_grad(): # ensure no gradients are computed\n",
    "        for bidx, batch in tqdm(enumerate(dl), total=len(dl)):\n",
    "            model_outputs = {}\n",
    "            for i, c in enumerate(criterions):\n",
    "                # start_timer = time.time()\n",
    "                if isinstance(c, (torch.nn.MarginRankingLoss, RankNetLoss, PairwiseRankAccuracy)):\n",
    "                    # paired inputs ->[model]-> paired outputs ->[criterion]-> value\n",
    "                    if 'outputs1' not in model_outputs.keys():\n",
    "                        # store model outputs from forward pass in case another criterion needs the same\n",
    "                        inputs1, inputs2, labels = batch\n",
    "                        if next(model.parameters()).is_cuda:\n",
    "                            inputs1, inputs2, labels = inputs1.to(device), inputs2.to(device), labels.to(device)\n",
    "                        outputs1, outputs2 = model(inputs1, inputs2)\n",
    "                        model_outputs['outputs1'] = outputs1\n",
    "                        model_outputs['outputs2'] = outputs2\n",
    "                    else:\n",
    "                        # load previously computed model outputs from forward pass\n",
    "                        outputs1, outputs2 = model_outputs['outputs1'], model_outputs['outputs2']\n",
    "                    cval = c(outputs1, outputs2, labels)\n",
    "                else:\n",
    "                    # inputs ->[model]-> outputs ->[criterion]-> value\n",
    "                    if 'outputs' not in model_outputs.keys():\n",
    "                        # store model outputs from forward pass in case another criterion needs the same\n",
    "                        inputs, labels = batch\n",
    "                        if next(model.parameters()).is_cuda:\n",
    "                            inputs, labels = inputs.to(device), labels.to(device)\n",
    "                        outputs = model(inputs)\n",
    "                        model_outputs['outputs'] = outputs\n",
    "                    else:\n",
    "                        # load previously computed model outputs from forward pass\n",
    "                        outputs = model_outputs['outputs']\n",
    "                    cval = c(outputs, labels)\n",
    "                criterion_loggers[i].update(cval.item())\n",
    "    return [cl.avg for cl in criterion_loggers]\n",
    "\n",
    "class MetricLogger(object):\n",
    "    \"\"\"Computes and tracks the average and current value of a metric.\n",
    "    \n",
    "    Attributes:\n",
    "        val: current value\n",
    "        sum: sum of all logged values\n",
    "        count: number of logged values\n",
    "        avg: average of all logged values\n",
    "    \"\"\"\n",
    "    def __init__(self):\n",
    "        self.reset()\n",
    "\n",
    "    def reset(self):\n",
    "        self.val = 0\n",
    "        self.avg = 0\n",
    "        self.sum = 0\n",
    "        self.count = 0\n",
    "\n",
    "    def update(self, val, n=1):\n",
    "        self.val = val\n",
    "        self.count += n\n",
    "        self.sum += val * n\n",
    "        self.avg = self.sum / self.count\n"
   ]
  },
  {
   "cell_type": "code",
   "execution_count": 59,
   "id": "8e547145-07dd-4076-87a5-d4e59acf5d09",
   "metadata": {},
   "outputs": [
    {
     "name": "stdout",
     "output_type": "stream",
     "text": [
      "Training\n"
     ]
    },
    {
     "data": {
      "application/vnd.jupyter.widget-view+json": {
       "model_id": "1619b326c325462f8e1c35f6999560f5",
       "version_major": 2,
       "version_minor": 0
      },
      "text/plain": [
       "  0%|          | 0/32 [00:00<?, ?it/s]"
      ]
     },
     "metadata": {},
     "output_type": "display_data"
    },
    {
     "name": "stdout",
     "output_type": "stream",
     "text": [
      "[Epoch 0]\t648.01 s\t0.6897\n",
      "training epoch took 833.6 s\n",
      "Validating\n"
     ]
    },
    {
     "data": {
      "application/vnd.jupyter.widget-view+json": {
       "model_id": "d7c030b6c4724159920b1a3c8b23c349",
       "version_major": 2,
       "version_minor": 0
      },
      "text/plain": [
       "  0%|          | 0/32 [00:00<?, ?it/s]"
      ]
     },
     "metadata": {},
     "output_type": "display_data"
    },
    {
     "name": "stdout",
     "output_type": "stream",
     "text": [
      "valset eval took 2665.7 s\n",
      "Validating\n"
     ]
    },
    {
     "data": {
      "application/vnd.jupyter.widget-view+json": {
       "model_id": "784e6099b1144aaaa61447a8b684f3a9",
       "version_major": 2,
       "version_minor": 0
      },
      "text/plain": [
       "  0%|          | 0/32 [00:00<?, ?it/s]"
      ]
     },
     "metadata": {},
     "output_type": "display_data"
    },
    {
     "name": "stdout",
     "output_type": "stream",
     "text": [
      "testset eval took 1806.5 s\n",
      "Training\n"
     ]
    },
    {
     "data": {
      "application/vnd.jupyter.widget-view+json": {
       "model_id": "5e3059ed377545d6b25a3f36e2600828",
       "version_major": 2,
       "version_minor": 0
      },
      "text/plain": [
       "  0%|          | 0/32 [00:00<?, ?it/s]"
      ]
     },
     "metadata": {},
     "output_type": "display_data"
    },
    {
     "name": "stdout",
     "output_type": "stream",
     "text": [
      "[Epoch 1]\t646.34 s\t0.6757\n",
      "training epoch took 831.8 s\n",
      "Validating\n"
     ]
    },
    {
     "data": {
      "application/vnd.jupyter.widget-view+json": {
       "model_id": "d83ba8bc4fbe495b9081761032604454",
       "version_major": 2,
       "version_minor": 0
      },
      "text/plain": [
       "  0%|          | 0/32 [00:00<?, ?it/s]"
      ]
     },
     "metadata": {},
     "output_type": "display_data"
    },
    {
     "name": "stdout",
     "output_type": "stream",
     "text": [
      "valset eval took 818.2 s\n",
      "Validating\n"
     ]
    },
    {
     "data": {
      "application/vnd.jupyter.widget-view+json": {
       "model_id": "4b6a225fdec04aae96c24c5d5a8815ae",
       "version_major": 2,
       "version_minor": 0
      },
      "text/plain": [
       "  0%|          | 0/32 [00:00<?, ?it/s]"
      ]
     },
     "metadata": {},
     "output_type": "display_data"
    },
    {
     "name": "stdout",
     "output_type": "stream",
     "text": [
      "testset eval took 819.0 s\n",
      "UNFREEZING CNN BODY\n",
      "Training\n"
     ]
    },
    {
     "data": {
      "application/vnd.jupyter.widget-view+json": {
       "model_id": "70ab1d9ec10a405ea1bf85f63783d448",
       "version_major": 2,
       "version_minor": 0
      },
      "text/plain": [
       "  0%|          | 0/32 [00:00<?, ?it/s]"
      ]
     },
     "metadata": {},
     "output_type": "display_data"
    },
    {
     "name": "stdout",
     "output_type": "stream",
     "text": [
      "[Epoch 2]\t2133.29 s\t0.6538\n",
      "training epoch took 2323.5 s\n",
      "Validating\n"
     ]
    },
    {
     "data": {
      "application/vnd.jupyter.widget-view+json": {
       "model_id": "f2ec510574234b66a7d87ded76302fe5",
       "version_major": 2,
       "version_minor": 0
      },
      "text/plain": [
       "  0%|          | 0/32 [00:00<?, ?it/s]"
      ]
     },
     "metadata": {},
     "output_type": "display_data"
    },
    {
     "name": "stdout",
     "output_type": "stream",
     "text": [
      "valset eval took 1827.9 s\n",
      "Validating\n"
     ]
    },
    {
     "data": {
      "application/vnd.jupyter.widget-view+json": {
       "model_id": "ab235f79e7ed4b4a90fa7cea5cf26ad3",
       "version_major": 2,
       "version_minor": 0
      },
      "text/plain": [
       "  0%|          | 0/32 [00:00<?, ?it/s]"
      ]
     },
     "metadata": {},
     "output_type": "display_data"
    },
    {
     "name": "stdout",
     "output_type": "stream",
     "text": [
      "testset eval took 817.6 s\n",
      "Training\n"
     ]
    },
    {
     "data": {
      "application/vnd.jupyter.widget-view+json": {
       "model_id": "c8090d0f727b43b9823878dea5004e49",
       "version_major": 2,
       "version_minor": 0
      },
      "text/plain": [
       "  0%|          | 0/32 [00:00<?, ?it/s]"
      ]
     },
     "metadata": {},
     "output_type": "display_data"
    },
    {
     "name": "stdout",
     "output_type": "stream",
     "text": [
      "[Epoch 3]\t1120.77 s\t0.6072\n",
      "training epoch took 1310.3 s\n",
      "Validating\n"
     ]
    },
    {
     "data": {
      "application/vnd.jupyter.widget-view+json": {
       "model_id": "fa01e59225bc4f4d883871f298e31f4d",
       "version_major": 2,
       "version_minor": 0
      },
      "text/plain": [
       "  0%|          | 0/32 [00:00<?, ?it/s]"
      ]
     },
     "metadata": {},
     "output_type": "display_data"
    },
    {
     "name": "stdout",
     "output_type": "stream",
     "text": [
      "valset eval took 819.4 s\n",
      "Validating\n"
     ]
    },
    {
     "data": {
      "application/vnd.jupyter.widget-view+json": {
       "model_id": "510c4d3471ac43c8b671d2dab6cfb061",
       "version_major": 2,
       "version_minor": 0
      },
      "text/plain": [
       "  0%|          | 0/32 [00:00<?, ?it/s]"
      ]
     },
     "metadata": {},
     "output_type": "display_data"
    },
    {
     "name": "stdout",
     "output_type": "stream",
     "text": [
      "testset eval took 3775.9 s\n",
      "Training\n"
     ]
    },
    {
     "data": {
      "application/vnd.jupyter.widget-view+json": {
       "model_id": "86e75efe9aca4dd98f43e4b4e2caf65e",
       "version_major": 2,
       "version_minor": 0
      },
      "text/plain": [
       "  0%|          | 0/32 [00:00<?, ?it/s]"
      ]
     },
     "metadata": {},
     "output_type": "display_data"
    },
    {
     "name": "stdout",
     "output_type": "stream",
     "text": [
      "[Epoch 4]\t1117.74 s\t0.5334\n",
      "training epoch took 1306.2 s\n",
      "Validating\n"
     ]
    },
    {
     "data": {
      "application/vnd.jupyter.widget-view+json": {
       "model_id": "e717c32122674406a9e8f33e33423b9e",
       "version_major": 2,
       "version_minor": 0
      },
      "text/plain": [
       "  0%|          | 0/32 [00:00<?, ?it/s]"
      ]
     },
     "metadata": {},
     "output_type": "display_data"
    },
    {
     "name": "stdout",
     "output_type": "stream",
     "text": [
      "valset eval took 819.8 s\n",
      "Validating\n"
     ]
    },
    {
     "data": {
      "application/vnd.jupyter.widget-view+json": {
       "model_id": "1e258dd1d8d2403299becf7dbbbf550d",
       "version_major": 2,
       "version_minor": 0
      },
      "text/plain": [
       "  0%|          | 0/32 [00:00<?, ?it/s]"
      ]
     },
     "metadata": {},
     "output_type": "display_data"
    },
    {
     "name": "stdout",
     "output_type": "stream",
     "text": [
      "testset eval took 822.0 s\n",
      "Training\n"
     ]
    },
    {
     "data": {
      "application/vnd.jupyter.widget-view+json": {
       "model_id": "ef684a4401e4468ea2b58d6fac0cf3e4",
       "version_major": 2,
       "version_minor": 0
      },
      "text/plain": [
       "  0%|          | 0/32 [00:00<?, ?it/s]"
      ]
     },
     "metadata": {},
     "output_type": "display_data"
    },
    {
     "name": "stdout",
     "output_type": "stream",
     "text": [
      "[Epoch 5]\t3119.73 s\t0.4552\n",
      "training epoch took 4228.2 s\n",
      "Validating\n"
     ]
    },
    {
     "data": {
      "application/vnd.jupyter.widget-view+json": {
       "model_id": "83d72c208a56448a947428917c1b0381",
       "version_major": 2,
       "version_minor": 0
      },
      "text/plain": [
       "  0%|          | 0/32 [00:00<?, ?it/s]"
      ]
     },
     "metadata": {},
     "output_type": "display_data"
    },
    {
     "name": "stdout",
     "output_type": "stream",
     "text": [
      "valset eval took 821.0 s\n",
      "Validating\n"
     ]
    },
    {
     "data": {
      "application/vnd.jupyter.widget-view+json": {
       "model_id": "d54ec10dc0a1496f98b4eda5c171be17",
       "version_major": 2,
       "version_minor": 0
      },
      "text/plain": [
       "  0%|          | 0/32 [00:00<?, ?it/s]"
      ]
     },
     "metadata": {},
     "output_type": "display_data"
    },
    {
     "name": "stdout",
     "output_type": "stream",
     "text": [
      "testset eval took 820.4 s\n",
      "Training\n"
     ]
    },
    {
     "data": {
      "application/vnd.jupyter.widget-view+json": {
       "model_id": "183aed16f758493091531b5a42f66f08",
       "version_major": 2,
       "version_minor": 0
      },
      "text/plain": [
       "  0%|          | 0/32 [00:00<?, ?it/s]"
      ]
     },
     "metadata": {},
     "output_type": "display_data"
    },
    {
     "name": "stdout",
     "output_type": "stream",
     "text": [
      "[Epoch 6]\t1122.37 s\t0.3785\n",
      "training epoch took 1311.7 s\n",
      "Validating\n"
     ]
    },
    {
     "data": {
      "application/vnd.jupyter.widget-view+json": {
       "model_id": "acd45a8ffd00451394ff38d480e740b8",
       "version_major": 2,
       "version_minor": 0
      },
      "text/plain": [
       "  0%|          | 0/32 [00:00<?, ?it/s]"
      ]
     },
     "metadata": {},
     "output_type": "display_data"
    },
    {
     "name": "stdout",
     "output_type": "stream",
     "text": [
      "valset eval took 1835.7 s\n",
      "Validating\n"
     ]
    },
    {
     "data": {
      "application/vnd.jupyter.widget-view+json": {
       "model_id": "6c814dbe1fba42a09e0d17c8820674d4",
       "version_major": 2,
       "version_minor": 0
      },
      "text/plain": [
       "  0%|          | 0/32 [00:00<?, ?it/s]"
      ]
     },
     "metadata": {},
     "output_type": "display_data"
    },
    {
     "name": "stdout",
     "output_type": "stream",
     "text": [
      "testset eval took 823.7 s\n",
      "Training\n"
     ]
    },
    {
     "data": {
      "application/vnd.jupyter.widget-view+json": {
       "model_id": "2707f83622644c5eaff4549bbdb9aa1f",
       "version_major": 2,
       "version_minor": 0
      },
      "text/plain": [
       "  0%|          | 0/32 [00:00<?, ?it/s]"
      ]
     },
     "metadata": {},
     "output_type": "display_data"
    },
    {
     "name": "stdout",
     "output_type": "stream",
     "text": [
      "[Epoch 7]\t1122.92 s\t0.3159\n",
      "training epoch took 1312.3 s\n",
      "Validating\n"
     ]
    },
    {
     "data": {
      "application/vnd.jupyter.widget-view+json": {
       "model_id": "05481af7f16c4c648f63cf15d0e3652e",
       "version_major": 2,
       "version_minor": 0
      },
      "text/plain": [
       "  0%|          | 0/32 [00:00<?, ?it/s]"
      ]
     },
     "metadata": {},
     "output_type": "display_data"
    },
    {
     "name": "stdout",
     "output_type": "stream",
     "text": [
      "valset eval took 827.1 s\n",
      "Validating\n"
     ]
    },
    {
     "data": {
      "application/vnd.jupyter.widget-view+json": {
       "model_id": "9c3b97d37f5249e2beb8dabd48071f3d",
       "version_major": 2,
       "version_minor": 0
      },
      "text/plain": [
       "  0%|          | 0/32 [00:00<?, ?it/s]"
      ]
     },
     "metadata": {},
     "output_type": "display_data"
    },
    {
     "name": "stdout",
     "output_type": "stream",
     "text": [
      "testset eval took 825.4 s\n",
      "Training\n"
     ]
    },
    {
     "data": {
      "application/vnd.jupyter.widget-view+json": {
       "model_id": "6b2d59c56203494f8c1f3d673c88d74d",
       "version_major": 2,
       "version_minor": 0
      },
      "text/plain": [
       "  0%|          | 0/32 [00:00<?, ?it/s]"
      ]
     },
     "metadata": {},
     "output_type": "display_data"
    },
    {
     "name": "stdout",
     "output_type": "stream",
     "text": [
      "[Epoch 8]\t2109.68 s\t0.2690\n",
      "training epoch took 3280.7 s\n",
      "Validating\n"
     ]
    },
    {
     "data": {
      "application/vnd.jupyter.widget-view+json": {
       "model_id": "4ce8baadfcf340c9b2cdad428861cd36",
       "version_major": 2,
       "version_minor": 0
      },
      "text/plain": [
       "  0%|          | 0/32 [00:00<?, ?it/s]"
      ]
     },
     "metadata": {},
     "output_type": "display_data"
    },
    {
     "name": "stdout",
     "output_type": "stream",
     "text": [
      "valset eval took 823.5 s\n",
      "Validating\n"
     ]
    },
    {
     "data": {
      "application/vnd.jupyter.widget-view+json": {
       "model_id": "badfe01661244b02bc8a4212398b4ee3",
       "version_major": 2,
       "version_minor": 0
      },
      "text/plain": [
       "  0%|          | 0/32 [00:00<?, ?it/s]"
      ]
     },
     "metadata": {},
     "output_type": "display_data"
    },
    {
     "name": "stdout",
     "output_type": "stream",
     "text": [
      "testset eval took 824.1 s\n",
      "Training\n"
     ]
    },
    {
     "data": {
      "application/vnd.jupyter.widget-view+json": {
       "model_id": "8b2e34b40f894f37aee3f03d18ab42b3",
       "version_major": 2,
       "version_minor": 0
      },
      "text/plain": [
       "  0%|          | 0/32 [00:00<?, ?it/s]"
      ]
     },
     "metadata": {},
     "output_type": "display_data"
    },
    {
     "name": "stdout",
     "output_type": "stream",
     "text": [
      "[Epoch 9]\t1125.38 s\t0.2407\n",
      "training epoch took 1314.8 s\n",
      "Validating\n"
     ]
    },
    {
     "data": {
      "application/vnd.jupyter.widget-view+json": {
       "model_id": "1befa8cb90054473a6191a05c99ca7a6",
       "version_major": 2,
       "version_minor": 0
      },
      "text/plain": [
       "  0%|          | 0/32 [00:00<?, ?it/s]"
      ]
     },
     "metadata": {},
     "output_type": "display_data"
    },
    {
     "name": "stdout",
     "output_type": "stream",
     "text": [
      "valset eval took 1112.6 s\n",
      "Validating\n"
     ]
    },
    {
     "data": {
      "application/vnd.jupyter.widget-view+json": {
       "model_id": "63b43094cada4ed59c979bfb292f0c91",
       "version_major": 2,
       "version_minor": 0
      },
      "text/plain": [
       "  0%|          | 0/32 [00:00<?, ?it/s]"
      ]
     },
     "metadata": {},
     "output_type": "display_data"
    },
    {
     "name": "stdout",
     "output_type": "stream",
     "text": [
      "testset eval took 1741.2 s\n"
     ]
    }
   ],
   "source": [
    "metriclogs = {}\n",
    "metriclogs['training_loss'] = []\n",
    "metriclogs['val_loss'] = []\n",
    "metriclogs['test_loss'] = []\n",
    "\n",
    "paramstrings = []\n",
    "paramstrings.append('ranking')\n",
    "paramstrings.append(name)\n",
    "paramstrings.append('augment')\n",
    "paramstrings.append('normalize')\n",
    "paramstr = '_'.join(paramstrings)\n",
    "\n",
    "n_epochs = 10\n",
    "for epoch in range(n_epochs):\n",
    "    # train\n",
    "    start_time = time.time()\n",
    "    avg_loss_training = fit(model, criterion, optimizer, dl_train, device, epoch_num=epoch)\n",
    "    stop_time = time.time()\n",
    "    print('training epoch took %0.1f s'%(stop_time-start_time))\n",
    "    metriclogs['training_loss'].append(avg_loss_training)\n",
    "\n",
    "    # validate on val set\n",
    "    start_time = time.time()\n",
    "    valset_eval = validate(model, [criterion], dl_val, device)\n",
    "    stop_time = time.time()\n",
    "    print('valset eval took %0.1f s'%(stop_time-start_time))\n",
    "    metriclogs['val_loss'].append(valset_eval[0])\n",
    "\n",
    "    # validate on test set (peeking)\n",
    "    start_time = time.time()\n",
    "    testset_eval = validate(model, [criterion], dl_test, device)\n",
    "    stop_time = time.time()\n",
    "    print('testset eval took %0.1f s'%(stop_time-start_time))\n",
    "    metriclogs['test_loss'].append(testset_eval[0])\n",
    "\n",
    "    # update lr scheduler\n",
    "    scheduler.step(valset_eval[0])\n",
    "\n",
    "    # periodically save model checkpoints\n",
    "    epoch_checkpoint_file = './epoch%d_'%epoch + paramstr + '.ckpt'\n",
    "    epoch_checkpoint_save_path = os.path.join(model_dir, epoch_checkpoint_file)\n",
    "    torch.save({\n",
    "        'epoch': epoch,\n",
    "        'model_state_dict': model.state_dict(),\n",
    "        'optimizer_state_dict': optimizer.state_dict(),\n",
    "        'training_loss': avg_loss_training,\n",
    "        }, epoch_checkpoint_save_path)\n",
    "\n",
    "    #  after [unfreeze_after] epochs, unfreeze the pretrained body network parameters\n",
    "    if (epoch+1) == unfreeze_after:\n",
    "        print('UNFREEZING CNN BODY')\n",
    "        for p in list(model.children())[0].parameters():\n",
    "            p.requires_grad = True\n",
    "\n",
    "# save losses and any other metrics tracked during training\n",
    "metrics_file = 'metrics_per_epoch_'+ paramstr + '.pkl'\n",
    "metrics_save_path = os.path.join('.', metrics_file)\n",
    "with open(metrics_save_path, 'wb') as f:\n",
    "    pickle.dump(metriclogs, f, protocol=pickle.HIGHEST_PROTOCOL)"
   ]
  },
  {
   "cell_type": "code",
   "execution_count": 62,
   "id": "e042d3a1-2b7b-4922-ac5c-72a839fd538d",
   "metadata": {},
   "outputs": [
    {
     "data": {
      "text/html": [
       "<div>\n",
       "<style scoped>\n",
       "    .dataframe tbody tr th:only-of-type {\n",
       "        vertical-align: middle;\n",
       "    }\n",
       "\n",
       "    .dataframe tbody tr th {\n",
       "        vertical-align: top;\n",
       "    }\n",
       "\n",
       "    .dataframe thead th {\n",
       "        text-align: right;\n",
       "    }\n",
       "</style>\n",
       "<table border=\"1\" class=\"dataframe\">\n",
       "  <thead>\n",
       "    <tr style=\"text-align: right;\">\n",
       "      <th></th>\n",
       "      <th>training_loss</th>\n",
       "      <th>val_loss</th>\n",
       "      <th>test_loss</th>\n",
       "    </tr>\n",
       "    <tr>\n",
       "      <th>epoch</th>\n",
       "      <th></th>\n",
       "      <th></th>\n",
       "      <th></th>\n",
       "    </tr>\n",
       "  </thead>\n",
       "  <tbody>\n",
       "    <tr>\n",
       "      <th>0</th>\n",
       "      <td>0.689715</td>\n",
       "      <td>0.668377</td>\n",
       "      <td>0.676488</td>\n",
       "    </tr>\n",
       "    <tr>\n",
       "      <th>1</th>\n",
       "      <td>0.675683</td>\n",
       "      <td>0.639295</td>\n",
       "      <td>0.656151</td>\n",
       "    </tr>\n",
       "    <tr>\n",
       "      <th>2</th>\n",
       "      <td>0.653818</td>\n",
       "      <td>0.585750</td>\n",
       "      <td>0.618089</td>\n",
       "    </tr>\n",
       "    <tr>\n",
       "      <th>3</th>\n",
       "      <td>0.607151</td>\n",
       "      <td>0.512037</td>\n",
       "      <td>0.564023</td>\n",
       "    </tr>\n",
       "    <tr>\n",
       "      <th>4</th>\n",
       "      <td>0.533419</td>\n",
       "      <td>0.418085</td>\n",
       "      <td>0.492503</td>\n",
       "    </tr>\n",
       "    <tr>\n",
       "      <th>5</th>\n",
       "      <td>0.455228</td>\n",
       "      <td>0.337901</td>\n",
       "      <td>0.430797</td>\n",
       "    </tr>\n",
       "    <tr>\n",
       "      <th>6</th>\n",
       "      <td>0.378504</td>\n",
       "      <td>0.275959</td>\n",
       "      <td>0.383033</td>\n",
       "    </tr>\n",
       "    <tr>\n",
       "      <th>7</th>\n",
       "      <td>0.315896</td>\n",
       "      <td>0.237928</td>\n",
       "      <td>0.348559</td>\n",
       "    </tr>\n",
       "    <tr>\n",
       "      <th>8</th>\n",
       "      <td>0.269022</td>\n",
       "      <td>0.222659</td>\n",
       "      <td>0.320246</td>\n",
       "    </tr>\n",
       "    <tr>\n",
       "      <th>9</th>\n",
       "      <td>0.240741</td>\n",
       "      <td>0.205202</td>\n",
       "      <td>0.302059</td>\n",
       "    </tr>\n",
       "  </tbody>\n",
       "</table>\n",
       "</div>"
      ],
      "text/plain": [
       "       training_loss  val_loss  test_loss\n",
       "epoch                                    \n",
       "0           0.689715  0.668377   0.676488\n",
       "1           0.675683  0.639295   0.656151\n",
       "2           0.653818  0.585750   0.618089\n",
       "3           0.607151  0.512037   0.564023\n",
       "4           0.533419  0.418085   0.492503\n",
       "5           0.455228  0.337901   0.430797\n",
       "6           0.378504  0.275959   0.383033\n",
       "7           0.315896  0.237928   0.348559\n",
       "8           0.269022  0.222659   0.320246\n",
       "9           0.240741  0.205202   0.302059"
      ]
     },
     "execution_count": 62,
     "metadata": {},
     "output_type": "execute_result"
    }
   ],
   "source": [
    "df_metrics = pd.DataFrame(data=metriclogs)\n",
    "df_metrics['epoch'] = df_metrics.index\n",
    "df_metrics = df_metrics.set_index('epoch')\n",
    "df_metrics"
   ]
  },
  {
   "cell_type": "code",
   "execution_count": 63,
   "id": "22b24620-5354-4d5a-8fab-c560d8644878",
   "metadata": {},
   "outputs": [
    {
     "data": {
      "text/plain": [
       "<AxesSubplot:xlabel='epoch'>"
      ]
     },
     "execution_count": 63,
     "metadata": {},
     "output_type": "execute_result"
    },
    {
     "data": {
      "image/png": "[encoded data removed]",
      "text/plain": [
       "<Figure size 432x288 with 1 Axes>"
      ]
     },
     "metadata": {
      "needs_background": "light"
     },
     "output_type": "display_data"
    }
   ],
   "source": [
    "sns.lineplot(data=df_metrics)"
   ]
  },
  {
   "cell_type": "code",
   "execution_count": 71,
   "id": "44e75f71-8ab5-4568-a662-38bceff437df",
   "metadata": {},
   "outputs": [
    {
     "data": {
      "application/vnd.jupyter.widget-view+json": {
       "model_id": "92495c9145e846c2b4ea006ec5dc38e9",
       "version_major": 2,
       "version_minor": 0
      },
      "text/plain": [
       "  0%|          | 0/244 [00:00<?, ?it/s]"
      ]
     },
     "metadata": {},
     "output_type": "display_data"
    }
   ],
   "source": [
    "class SiteDataset2(Dataset):\n",
    "    def __init__(self, table, images_dir, resize_size=[480,640], crop_size=[384,512],\n",
    "                normalize=True, augment=True, training=True, means=None, stds=None, \n",
    "                crop_to_bbox=False, log_transform=False):\n",
    "        self.table = table\n",
    "        self.images_dir = images_dir\n",
    "        self.resize_size = resize_size\n",
    "        self.crop_size = crop_size\n",
    "        self.normalize = normalize\n",
    "        self.augment = augment\n",
    "        self.training = training\n",
    "        self.crop_to_bbox = crop_to_bbox\n",
    "        self.log_transform = log_transform\n",
    "    \n",
    "    def __len__(self):\n",
    "        return len(self.table)\n",
    "    \n",
    "    def get_image(self, index):\n",
    "        \"\"\"Loads image at given index\"\"\"\n",
    "        path = os.path.join(images_dir, self.table.iloc[index]['filename'])\n",
    "        return PILImage.open(path).convert('RGB')\n",
    "    \n",
    "    def compute_mean_std(self):\n",
    "        \"\"\"Compute RGB channel means and stds for image samples in the dataset.\"\"\"\n",
    "        means = np.zeros((3))\n",
    "        stds = np.zeros((3))\n",
    "        sample_size= min(len(self.table), 1000)\n",
    "        sample_indices = np.random.choice(len(self.table), size=sample_size, replace=False)\n",
    "        for idx in tqdm(sample_indices):\n",
    "            img = self.get_image(idx)\n",
    "            stat = PILImageStat.Stat(img)\n",
    "            means += np.array(stat.mean)/255.0\n",
    "            stds += np.array(stat.stddev)/255.0\n",
    "        means = means/sample_size\n",
    "        stds = stds/sample_size\n",
    "        return means, stds\n",
    "    \n",
    "    def set_mean_std(self, means, stds):\n",
    "        self.means = means\n",
    "        self.stds = stds\n",
    "    \n",
    "    def crop_images_to_bboxes(self, crop_bool):\n",
    "        self.crop_to_bbox = crop_bool\n",
    "    \n",
    "    def set_bbox_source(self, filename):\n",
    "        self.bbox_file = filename\n",
    "        with open(filename, 'rb') as handle:\n",
    "            self.bboxes = pickle.load(handle)\n",
    "    \n",
    "    def create_transforms(self):\n",
    "        \"\"\"Create transforms to apply during training and evaluation.\n",
    "        Transforms can involve data augmentation and/or normalization if desired.\n",
    "        Data augmentation should only be applied during training, not during evaluation.\n",
    "        \"\"\"\n",
    "        train_transforms = [Resize(self.resize_size)]\n",
    "        if self.augment:\n",
    "            train_transforms.append(RandomCrop(self.crop_size))\n",
    "            train_transforms.append(RandomHorizontalFlip())\n",
    "            train_transforms.append(RandomRotation(10))\n",
    "            train_transforms.append(ColorJitter())\n",
    "        else:\n",
    "            train_transforms.append(CenterCrop(self.crop_size))\n",
    "        train_transforms.append(ToTensor())\n",
    "        if self.normalize:\n",
    "            train_transforms.append(Normalize(self.means, self.stds))\n",
    "        self.train_transform = Compose(train_transforms)\n",
    "        \n",
    "        eval_transforms = [Resize(self.resize_size)]\n",
    "        eval_transforms.append(CenterCrop(self.crop_size))\n",
    "        eval_transforms.append(ToTensor())\n",
    "        if self.normalize:\n",
    "            eval_transforms.append(Normalize(self.means, self.stds))\n",
    "        self.eval_transform = Compose(eval_transforms)\n",
    "    \n",
    "    def train(self):\n",
    "        self.training = True\n",
    "    \n",
    "    def evaluate(self):\n",
    "        self.training = False\n",
    "    \n",
    "    def __getitem__(self, idx):\n",
    "        img = self.get_image(idx)\n",
    "        # crop image first\n",
    "        if self.crop_to_bbox:\n",
    "            image_table_index = self.table.index[idx]\n",
    "            topleft_x, topleft_y, width, height = self.bboxes[image_table_index]\n",
    "            bottomright_x = topleft_x + width\n",
    "            bottomright_y = topleft_y + height\n",
    "            img = img.crop((topleft_x, topleft_y, bottomright_x, bottomright_y))\n",
    "        \n",
    "        # apply transforms\n",
    "        if self.training:\n",
    "            sample = self.train_transform(img)\n",
    "        else:\n",
    "            sample = self.eval_transform(img)\n",
    "        if not self.log_transform:\n",
    "            label = self.table.iloc[idx]['flow_cfs']\n",
    "        else:\n",
    "            label = np.log(self.table.iloc[idx]['flow_cfs'])\n",
    "        return sample, label\n",
    "\n",
    "ds_train2 = SiteDataset2(df_train, images_dir, training=False, normalize=True, augment=True, log_transform=True)\n",
    "ds_val2 = SiteDataset2(df_val, images_dir, training=False, normalize=True, augment=True, log_transform=True)\n",
    "ds_test2 = SiteDataset2(df_test, images_dir, training=False, normalize=True, augment=True, log_transform=True)\n",
    "\n",
    "m,s = ds_train2.compute_mean_std()\n",
    "ds_train2.set_mean_std(m, s)\n",
    "ds_val2.set_mean_std(m, s)\n",
    "ds_test2.set_mean_std(m, s)\n",
    "\n",
    "ds_train2.create_transforms()\n",
    "ds_val2.create_transforms()\n",
    "ds_test2.create_transforms()"
   ]
  },
  {
   "cell_type": "code",
   "execution_count": 72,
   "id": "8ddd4dc7-cde0-40f6-9c23-efe1f11a5339",
   "metadata": {},
   "outputs": [],
   "source": [
    "dl_train2 = DataLoader(ds_train2, batch_size=batch_size, shuffle=False, num_workers=0)\n",
    "dl_val2 = DataLoader(ds_val2, batch_size=batch_size, shuffle=False, num_workers=0)\n",
    "dl_test2 = DataLoader(ds_test2, batch_size=batch_size, shuffle=False, num_workers=0)"
   ]
  },
  {
   "cell_type": "code",
   "execution_count": 77,
   "id": "40482933-cc20-4cd9-989a-43cff35d4258",
   "metadata": {},
   "outputs": [
    {
     "name": "stderr",
     "output_type": "stream",
     "text": [
      "/opt/homebrew/Caskroom/miniconda/base/envs/deepstreamflow/lib/python3.9/site-packages/torchvision/models/_utils.py:208: UserWarning: The parameter 'pretrained' is deprecated since 0.13 and will be removed in 0.15, please use 'weights' instead.\n",
      "  warnings.warn(\n",
      "/opt/homebrew/Caskroom/miniconda/base/envs/deepstreamflow/lib/python3.9/site-packages/torchvision/models/_utils.py:223: UserWarning: Arguments other than a weight enum or `None` for 'weights' are deprecated since 0.13 and will be removed in 0.15. The current behavior is equivalent to passing `weights=ResNet18_Weights.IMAGENET1K_V1`. You can also use `weights=ResNet18_Weights.DEFAULT` to get the most up-to-date weights.\n",
      "  warnings.warn(msg)\n"
     ]
    },
    {
     "data": {
      "text/plain": [
       "ResNetRankNet(\n",
       "  (resnetbody): ResNet18(\n",
       "    (model): Sequential(\n",
       "      (0): Conv2d(3, 64, kernel_size=(7, 7), stride=(2, 2), padding=(3, 3), bias=False)\n",
       "      (1): BatchNorm2d(64, eps=1e-05, momentum=0.1, affine=True, track_running_stats=True)\n",
       "      (2): ReLU(inplace=True)\n",
       "      (3): MaxPool2d(kernel_size=3, stride=2, padding=1, dilation=1, ceil_mode=False)\n",
       "      (4): Sequential(\n",
       "        (0): BasicBlock(\n",
       "          (conv1): Conv2d(64, 64, kernel_size=(3, 3), stride=(1, 1), padding=(1, 1), bias=False)\n",
       "          (bn1): BatchNorm2d(64, eps=1e-05, momentum=0.1, affine=True, track_running_stats=True)\n",
       "          (relu): ReLU(inplace=True)\n",
       "          (conv2): Conv2d(64, 64, kernel_size=(3, 3), stride=(1, 1), padding=(1, 1), bias=False)\n",
       "          (bn2): BatchNorm2d(64, eps=1e-05, momentum=0.1, affine=True, track_running_stats=True)\n",
       "        )\n",
       "        (1): BasicBlock(\n",
       "          (conv1): Conv2d(64, 64, kernel_size=(3, 3), stride=(1, 1), padding=(1, 1), bias=False)\n",
       "          (bn1): BatchNorm2d(64, eps=1e-05, momentum=0.1, affine=True, track_running_stats=True)\n",
       "          (relu): ReLU(inplace=True)\n",
       "          (conv2): Conv2d(64, 64, kernel_size=(3, 3), stride=(1, 1), padding=(1, 1), bias=False)\n",
       "          (bn2): BatchNorm2d(64, eps=1e-05, momentum=0.1, affine=True, track_running_stats=True)\n",
       "        )\n",
       "      )\n",
       "      (5): Sequential(\n",
       "        (0): BasicBlock(\n",
       "          (conv1): Conv2d(64, 128, kernel_size=(3, 3), stride=(2, 2), padding=(1, 1), bias=False)\n",
       "          (bn1): BatchNorm2d(128, eps=1e-05, momentum=0.1, affine=True, track_running_stats=True)\n",
       "          (relu): ReLU(inplace=True)\n",
       "          (conv2): Conv2d(128, 128, kernel_size=(3, 3), stride=(1, 1), padding=(1, 1), bias=False)\n",
       "          (bn2): BatchNorm2d(128, eps=1e-05, momentum=0.1, affine=True, track_running_stats=True)\n",
       "          (downsample): Sequential(\n",
       "            (0): Conv2d(64, 128, kernel_size=(1, 1), stride=(2, 2), bias=False)\n",
       "            (1): BatchNorm2d(128, eps=1e-05, momentum=0.1, affine=True, track_running_stats=True)\n",
       "          )\n",
       "        )\n",
       "        (1): BasicBlock(\n",
       "          (conv1): Conv2d(128, 128, kernel_size=(3, 3), stride=(1, 1), padding=(1, 1), bias=False)\n",
       "          (bn1): BatchNorm2d(128, eps=1e-05, momentum=0.1, affine=True, track_running_stats=True)\n",
       "          (relu): ReLU(inplace=True)\n",
       "          (conv2): Conv2d(128, 128, kernel_size=(3, 3), stride=(1, 1), padding=(1, 1), bias=False)\n",
       "          (bn2): BatchNorm2d(128, eps=1e-05, momentum=0.1, affine=True, track_running_stats=True)\n",
       "        )\n",
       "      )\n",
       "      (6): Sequential(\n",
       "        (0): BasicBlock(\n",
       "          (conv1): Conv2d(128, 256, kernel_size=(3, 3), stride=(2, 2), padding=(1, 1), bias=False)\n",
       "          (bn1): BatchNorm2d(256, eps=1e-05, momentum=0.1, affine=True, track_running_stats=True)\n",
       "          (relu): ReLU(inplace=True)\n",
       "          (conv2): Conv2d(256, 256, kernel_size=(3, 3), stride=(1, 1), padding=(1, 1), bias=False)\n",
       "          (bn2): BatchNorm2d(256, eps=1e-05, momentum=0.1, affine=True, track_running_stats=True)\n",
       "          (downsample): Sequential(\n",
       "            (0): Conv2d(128, 256, kernel_size=(1, 1), stride=(2, 2), bias=False)\n",
       "            (1): BatchNorm2d(256, eps=1e-05, momentum=0.1, affine=True, track_running_stats=True)\n",
       "          )\n",
       "        )\n",
       "        (1): BasicBlock(\n",
       "          (conv1): Conv2d(256, 256, kernel_size=(3, 3), stride=(1, 1), padding=(1, 1), bias=False)\n",
       "          (bn1): BatchNorm2d(256, eps=1e-05, momentum=0.1, affine=True, track_running_stats=True)\n",
       "          (relu): ReLU(inplace=True)\n",
       "          (conv2): Conv2d(256, 256, kernel_size=(3, 3), stride=(1, 1), padding=(1, 1), bias=False)\n",
       "          (bn2): BatchNorm2d(256, eps=1e-05, momentum=0.1, affine=True, track_running_stats=True)\n",
       "        )\n",
       "      )\n",
       "      (7): Sequential(\n",
       "        (0): BasicBlock(\n",
       "          (conv1): Conv2d(256, 512, kernel_size=(3, 3), stride=(2, 2), padding=(1, 1), bias=False)\n",
       "          (bn1): BatchNorm2d(512, eps=1e-05, momentum=0.1, affine=True, track_running_stats=True)\n",
       "          (relu): ReLU(inplace=True)\n",
       "          (conv2): Conv2d(512, 512, kernel_size=(3, 3), stride=(1, 1), padding=(1, 1), bias=False)\n",
       "          (bn2): BatchNorm2d(512, eps=1e-05, momentum=0.1, affine=True, track_running_stats=True)\n",
       "          (downsample): Sequential(\n",
       "            (0): Conv2d(256, 512, kernel_size=(1, 1), stride=(2, 2), bias=False)\n",
       "            (1): BatchNorm2d(512, eps=1e-05, momentum=0.1, affine=True, track_running_stats=True)\n",
       "          )\n",
       "        )\n",
       "        (1): BasicBlock(\n",
       "          (conv1): Conv2d(512, 512, kernel_size=(3, 3), stride=(1, 1), padding=(1, 1), bias=False)\n",
       "          (bn1): BatchNorm2d(512, eps=1e-05, momentum=0.1, affine=True, track_running_stats=True)\n",
       "          (relu): ReLU(inplace=True)\n",
       "          (conv2): Conv2d(512, 512, kernel_size=(3, 3), stride=(1, 1), padding=(1, 1), bias=False)\n",
       "          (bn2): BatchNorm2d(512, eps=1e-05, momentum=0.1, affine=True, track_running_stats=True)\n",
       "        )\n",
       "      )\n",
       "      (8): AdaptiveAvgPool2d(output_size=(1, 1))\n",
       "    )\n",
       "  )\n",
       "  (avgpool): AdaptiveAvgPool2d(output_size=(1, 1))\n",
       "  (fclayers): Sequential(\n",
       "    (0): Linear(in_features=512, out_features=256, bias=True)\n",
       "    (1): ReLU()\n",
       "    (2): Linear(in_features=256, out_features=64, bias=True)\n",
       "    (3): ReLU()\n",
       "    (4): Linear(in_features=64, out_features=1, bias=True)\n",
       "  )\n",
       ")"
      ]
     },
     "execution_count": 77,
     "metadata": {},
     "output_type": "execute_result"
    }
   ],
   "source": [
    "model = ResNetRankNet(input_shape=(3, 384, 512), resnet_size=18, truncate=True, pretrained=True)\n",
    "model.to(device)\n",
    "ckpt_path = os.path.join(model_dir, f'epoch{n_epochs - 1}_.ckpt')\n",
    "checkpoint = torch.load(ckpt_path)\n",
    "model.load_state_dict(checkpoint['model_state_dict'])\n",
    "model.eval()"
   ]
  },
  {
   "cell_type": "code",
   "execution_count": 83,
   "id": "f1a7472d-8373-4bde-8a63-72c6f38dc6ef",
   "metadata": {},
   "outputs": [
    {
     "data": {
      "application/vnd.jupyter.widget-view+json": {
       "model_id": "7e4de343652c48c3bd3a5c02c8595e34",
       "version_major": 2,
       "version_minor": 0
      },
      "text/plain": [
       "  0%|          | 0/4 [00:00<?, ?it/s]"
      ]
     },
     "metadata": {},
     "output_type": "display_data"
    },
    {
     "data": {
      "application/vnd.jupyter.widget-view+json": {
       "model_id": "df398fc1d0d9435cb02f120aabf9b6b1",
       "version_major": 2,
       "version_minor": 0
      },
      "text/plain": [
       "  0%|          | 0/1 [00:00<?, ?it/s]"
      ]
     },
     "metadata": {},
     "output_type": "display_data"
    },
    {
     "data": {
      "application/vnd.jupyter.widget-view+json": {
       "model_id": "1d4618b09cab4116b5fc0cd3577d087a",
       "version_major": 2,
       "version_minor": 0
      },
      "text/plain": [
       "  0%|          | 0/1 [00:00<?, ?it/s]"
      ]
     },
     "metadata": {},
     "output_type": "display_data"
    }
   ],
   "source": [
    "for dl in [dl_train2, dl_val2, dl_test2]:\n",
    "        dl.dataset.evaluate()\n",
    "        scores = np.empty((len(dl.dataset),))\n",
    "        sidx = 0\n",
    "        with torch.no_grad():\n",
    "            for bidx, batch in tqdm(enumerate(dl), total=len(dl)):\n",
    "                inputs, labels = batch\n",
    "                nsamples = labels.shape[0]\n",
    "                outputs = model.forward_single(inputs.to(device))\n",
    "                scores[sidx:sidx+nsamples] = outputs.detach().cpu().numpy()\n",
    "                sidx += nsamples\n",
    "        dl.dataset.table.loc[:,'scores'] = scores"
   ]
  },
  {
   "cell_type": "code",
   "execution_count": 84,
   "id": "274aeacf-50d9-4cc9-b915-95f9c3707aa7",
   "metadata": {},
   "outputs": [],
   "source": [
    "train_pred_f = 'rank_pred_train.csv'\n",
    "train_pred_save_path = os.path.join(pred_dir, train_pred_f)\n",
    "dl_train2.dataset.table.to_csv(train_pred_save_path)\n",
    "\n",
    "val_pred_f = 'rank_pred_val.csv'\n",
    "val_pred_save_path = os.path.join(pred_dir, val_pred_f)\n",
    "dl_val2.dataset.table.to_csv(val_pred_save_path)\n",
    "\n",
    "test_pred_f = 'rank_pred_test.csv'\n",
    "test_pred_save_path = os.path.join(pred_dir, test_pred_f)\n",
    "dl_test2.dataset.table.to_csv(test_pred_save_path)"
   ]
  },
  {
   "cell_type": "code",
   "execution_count": 85,
   "id": "4f201daa-3a93-48f0-ba03-d78bb7a03d58",
   "metadata": {},
   "outputs": [
    {
     "data": {
      "image/png": "[encoded data removed]",
      "text/plain": [
       "<Figure size 864x288 with 3 Axes>"
      ]
     },
     "metadata": {
      "needs_background": "light"
     },
     "output_type": "display_data"
    }
   ],
   "source": [
    "f, axs = plt.subplots(1, 3, figsize=(12, 4))\n",
    "sns.regplot(x=dl_train2.dataset.table.mean_flow_cfs, y=dl_train2.dataset.table.scores, ax=axs[0]).set(title=\"train\")\n",
    "sns.regplot(x=dl_val2.dataset.table.mean_flow_cfs, y=dl_val2.dataset.table.scores, ax=axs[1]).set(title=\"val\")\n",
    "sns.regplot(x=dl_test2.dataset.table.mean_flow_cfs, y=dl_test2.dataset.table.scores, ax=axs[2]).set(title=\"test\")\n",
    "f.tight_layout()"
   ]
  },
  {
   "cell_type": "code",
   "execution_count": 86,
   "id": "f07de7f2-95b1-4283-939a-79245623d6a2",
   "metadata": {},
   "outputs": [
    {
     "data": {
      "text/html": [
       "<div>\n",
       "<style scoped>\n",
       "    .dataframe tbody tr th:only-of-type {\n",
       "        vertical-align: middle;\n",
       "    }\n",
       "\n",
       "    .dataframe tbody tr th {\n",
       "        vertical-align: top;\n",
       "    }\n",
       "\n",
       "    .dataframe thead th {\n",
       "        text-align: right;\n",
       "    }\n",
       "</style>\n",
       "<table border=\"1\" class=\"dataframe\">\n",
       "  <thead>\n",
       "    <tr style=\"text-align: right;\">\n",
       "      <th></th>\n",
       "      <th>year</th>\n",
       "      <th>week</th>\n",
       "      <th>filename</th>\n",
       "      <th>timestamp</th>\n",
       "      <th>flow_cfs</th>\n",
       "      <th>mean_flow_cfs</th>\n",
       "      <th>flow_class</th>\n",
       "      <th>week_index</th>\n",
       "      <th>preds</th>\n",
       "      <th>scores</th>\n",
       "    </tr>\n",
       "  </thead>\n",
       "  <tbody>\n",
       "    <tr>\n",
       "      <th>0</th>\n",
       "      <td>2019</td>\n",
       "      <td>37</td>\n",
       "      <td>20190913_1600_ParkersBrook.jpg</td>\n",
       "      <td>2019-09-13 12:00:00-04:00</td>\n",
       "      <td>4.71</td>\n",
       "      <td>4.861000</td>\n",
       "      <td>low</td>\n",
       "      <td>65</td>\n",
       "      <td>5.981685</td>\n",
       "      <td>1.788702</td>\n",
       "    </tr>\n",
       "    <tr>\n",
       "      <th>1</th>\n",
       "      <td>2018</td>\n",
       "      <td>50</td>\n",
       "      <td>20181213_1600_ParkersBrook.JPG</td>\n",
       "      <td>2018-12-13 11:00:00-05:00</td>\n",
       "      <td>13.55</td>\n",
       "      <td>13.664445</td>\n",
       "      <td>med</td>\n",
       "      <td>26</td>\n",
       "      <td>14.109397</td>\n",
       "      <td>2.646841</td>\n",
       "    </tr>\n",
       "    <tr>\n",
       "      <th>4</th>\n",
       "      <td>2019</td>\n",
       "      <td>29</td>\n",
       "      <td>20190715_1500_ParkersBrook.jpg</td>\n",
       "      <td>2019-07-15 11:00:00-04:00</td>\n",
       "      <td>4.19</td>\n",
       "      <td>5.205000</td>\n",
       "      <td>low</td>\n",
       "      <td>57</td>\n",
       "      <td>4.721005</td>\n",
       "      <td>1.552022</td>\n",
       "    </tr>\n",
       "    <tr>\n",
       "      <th>6</th>\n",
       "      <td>2019</td>\n",
       "      <td>12</td>\n",
       "      <td>20190318_1500_ParkersBrook.jpg</td>\n",
       "      <td>2019-03-18 11:00:00-04:00</td>\n",
       "      <td>13.47</td>\n",
       "      <td>16.500000</td>\n",
       "      <td>high</td>\n",
       "      <td>40</td>\n",
       "      <td>9.960950</td>\n",
       "      <td>2.298672</td>\n",
       "    </tr>\n",
       "    <tr>\n",
       "      <th>8</th>\n",
       "      <td>2019</td>\n",
       "      <td>13</td>\n",
       "      <td>20190327_1200_ParkersBrook.jpg</td>\n",
       "      <td>2019-03-27 08:00:00-04:00</td>\n",
       "      <td>12.18</td>\n",
       "      <td>14.991428</td>\n",
       "      <td>med</td>\n",
       "      <td>41</td>\n",
       "      <td>11.971056</td>\n",
       "      <td>2.482492</td>\n",
       "    </tr>\n",
       "    <tr>\n",
       "      <th>...</th>\n",
       "      <td>...</td>\n",
       "      <td>...</td>\n",
       "      <td>...</td>\n",
       "      <td>...</td>\n",
       "      <td>...</td>\n",
       "      <td>...</td>\n",
       "      <td>...</td>\n",
       "      <td>...</td>\n",
       "      <td>...</td>\n",
       "      <td>...</td>\n",
       "    </tr>\n",
       "    <tr>\n",
       "      <th>484</th>\n",
       "      <td>2019</td>\n",
       "      <td>32</td>\n",
       "      <td>20190810_1600_ParkersBrook.jpg</td>\n",
       "      <td>2019-08-10 12:00:00-04:00</td>\n",
       "      <td>3.25</td>\n",
       "      <td>3.954286</td>\n",
       "      <td>low</td>\n",
       "      <td>60</td>\n",
       "      <td>6.807398</td>\n",
       "      <td>1.918010</td>\n",
       "    </tr>\n",
       "    <tr>\n",
       "      <th>487</th>\n",
       "      <td>2019</td>\n",
       "      <td>42</td>\n",
       "      <td>20191019_1600_ParkersBrook.jpg</td>\n",
       "      <td>2019-10-19 12:00:00-04:00</td>\n",
       "      <td>5.14</td>\n",
       "      <td>8.661250</td>\n",
       "      <td>med</td>\n",
       "      <td>70</td>\n",
       "      <td>10.832361</td>\n",
       "      <td>2.382538</td>\n",
       "    </tr>\n",
       "    <tr>\n",
       "      <th>491</th>\n",
       "      <td>2019</td>\n",
       "      <td>43</td>\n",
       "      <td>20191021_1200_ParkersBrook.jpg</td>\n",
       "      <td>2019-10-21 08:00:00-04:00</td>\n",
       "      <td>4.65</td>\n",
       "      <td>4.417500</td>\n",
       "      <td>low</td>\n",
       "      <td>71</td>\n",
       "      <td>9.403910</td>\n",
       "      <td>2.241126</td>\n",
       "    </tr>\n",
       "    <tr>\n",
       "      <th>496</th>\n",
       "      <td>2019</td>\n",
       "      <td>15</td>\n",
       "      <td>20190414_1700_ParkersBrook.jpg</td>\n",
       "      <td>2019-04-14 13:00:00-04:00</td>\n",
       "      <td>18.43</td>\n",
       "      <td>17.440001</td>\n",
       "      <td>high</td>\n",
       "      <td>43</td>\n",
       "      <td>19.686080</td>\n",
       "      <td>2.979912</td>\n",
       "    </tr>\n",
       "    <tr>\n",
       "      <th>497</th>\n",
       "      <td>2018</td>\n",
       "      <td>48</td>\n",
       "      <td>20181201_1200_ParkersBrook.JPG</td>\n",
       "      <td>2018-12-01 07:00:00-05:00</td>\n",
       "      <td>19.77</td>\n",
       "      <td>23.534286</td>\n",
       "      <td>high</td>\n",
       "      <td>24</td>\n",
       "      <td>17.153769</td>\n",
       "      <td>2.842218</td>\n",
       "    </tr>\n",
       "  </tbody>\n",
       "</table>\n",
       "<p>244 rows × 10 columns</p>\n",
       "</div>"
      ],
      "text/plain": [
       "     year  week                        filename                 timestamp  \\\n",
       "0    2019    37  20190913_1600_ParkersBrook.jpg 2019-09-13 12:00:00-04:00   \n",
       "1    2018    50  20181213_1600_ParkersBrook.JPG 2018-12-13 11:00:00-05:00   \n",
       "4    2019    29  20190715_1500_ParkersBrook.jpg 2019-07-15 11:00:00-04:00   \n",
       "6    2019    12  20190318_1500_ParkersBrook.jpg 2019-03-18 11:00:00-04:00   \n",
       "8    2019    13  20190327_1200_ParkersBrook.jpg 2019-03-27 08:00:00-04:00   \n",
       "..    ...   ...                             ...                       ...   \n",
       "484  2019    32  20190810_1600_ParkersBrook.jpg 2019-08-10 12:00:00-04:00   \n",
       "487  2019    42  20191019_1600_ParkersBrook.jpg 2019-10-19 12:00:00-04:00   \n",
       "491  2019    43  20191021_1200_ParkersBrook.jpg 2019-10-21 08:00:00-04:00   \n",
       "496  2019    15  20190414_1700_ParkersBrook.jpg 2019-04-14 13:00:00-04:00   \n",
       "497  2018    48  20181201_1200_ParkersBrook.JPG 2018-12-01 07:00:00-05:00   \n",
       "\n",
       "     flow_cfs  mean_flow_cfs flow_class  week_index      preds    scores  \n",
       "0        4.71       4.861000        low          65   5.981685  1.788702  \n",
       "1       13.55      13.664445        med          26  14.109397  2.646841  \n",
       "4        4.19       5.205000        low          57   4.721005  1.552022  \n",
       "6       13.47      16.500000       high          40   9.960950  2.298672  \n",
       "8       12.18      14.991428        med          41  11.971056  2.482492  \n",
       "..        ...            ...        ...         ...        ...       ...  \n",
       "484      3.25       3.954286        low          60   6.807398  1.918010  \n",
       "487      5.14       8.661250        med          70  10.832361  2.382538  \n",
       "491      4.65       4.417500        low          71   9.403910  2.241126  \n",
       "496     18.43      17.440001       high          43  19.686080  2.979912  \n",
       "497     19.77      23.534286       high          24  17.153769  2.842218  \n",
       "\n",
       "[244 rows x 10 columns]"
      ]
     },
     "execution_count": 86,
     "metadata": {},
     "output_type": "execute_result"
    }
   ],
   "source": [
    "dl_train2.dataset.table"
   ]
  },
  {
   "cell_type": "code",
   "execution_count": 90,
   "id": "3ad991f9-da1d-4223-9ab1-72db5a7c67ca",
   "metadata": {},
   "outputs": [
    {
     "data": {
      "image/png": "[encoded data removed]",
      "text/plain": [
       "<Figure size 1440x288 with 3 Axes>"
      ]
     },
     "metadata": {
      "needs_background": "light"
     },
     "output_type": "display_data"
    }
   ],
   "source": [
    "f, axs = plt.subplots(1, 3, figsize=(20, 4))\n",
    "sns.lineplot(data=dl_train2.dataset.table.melt(id_vars=[\"timestamp\"], value_vars=[\"flow_cfs\",\"preds\"]), x=\"timestamp\", y=\"value\", hue=\"variable\", style=\"variable\", linestyle=\"\", ax=axs[0]).set(title=\"train\")\n",
    "sns.lineplot(data=dl_val2.dataset.table.melt(id_vars=[\"timestamp\"], value_vars=[\"flow_cfs\",\"preds\"]), x=\"timestamp\", y=\"value\", hue=\"variable\", style=\"variable\", linestyle=\"\", ax=axs[1]).set(title=\"val\")\n",
    "sns.lineplot(data=dl_test2.dataset.table.melt(id_vars=[\"timestamp\"], value_vars=[\"flow_cfs\",\"preds\"]), x=\"timestamp\", y=\"value\", hue=\"variable\", style=\"variable\", linestyle=\"\", ax=axs[2]).set(title=\"test\")\n",
    "f.tight_layout()"
   ]
  },
  {
   "cell_type": "code",
   "execution_count": null,
   "id": "6b2a2f8a-eb72-4143-8986-3921a55cd1ed",
   "metadata": {},
   "outputs": [],
   "source": []
  }
 ],
 "metadata": {
  "kernelspec": {
   "display_name": "Python 3",
   "language": "python",
   "name": "python3"
  },
  "language_info": {
   "codemirror_mode": {
    "name": "ipython",
    "version": 3
   },
   "file_extension": ".py",
   "mimetype": "text/x-python",
   "name": "python",
   "nbconvert_exporter": "python",
   "pygments_lexer": "ipython3",
   "version": "3.9.13"
  }
 },
 "nbformat": 4,
 "nbformat_minor": 5
}
