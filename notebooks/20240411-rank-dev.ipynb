{
 "cells": [
  {
   "cell_type": "markdown",
   "id": "61634f46-4d19-436c-9cb5-becc5b8111ff",
   "metadata": {},
   "source": [
    "# FPE Rank Model"
   ]
  },
  {
   "cell_type": "markdown",
   "id": "8a121bcb",
   "metadata": {},
   "source": [
    "## Set Up"
   ]
  },
  {
   "cell_type": "code",
   "execution_count": 8,
   "id": "790783ad",
   "metadata": {},
   "outputs": [],
   "source": [
    "import boto3\n",
    "import time\n",
    "import json\n",
    "import os\n",
    "import pandas as pd\n",
    "import sagemaker\n",
    "from sagemaker.pytorch import PyTorch\n",
    "from sagemaker.inputs import TrainingInput\n",
    "from io import StringIO\n",
    "\n",
    "# job parameters\n",
    "root_dir = f\"/mnt/d/fpe/rank\"\n",
    "station_id = 29\n",
    "#dataset = \"FLOW-20240327\"\n",
    "model = \"RANK-FLOW-20240402\"\n",
    "\n",
    "# aws parameters\n",
    "AWS_PROFILE=\"conte-prod\"\n",
    "AWS_REGION=\"us-west-2\"\n",
    "JOB_ROLE_ARN=\"arn:aws:iam::694155575325:role/fpe-prod-sagemaker-execution-role\""
   ]
  },
  {
   "cell_type": "code",
   "execution_count": 9,
   "id": "25f6568d",
   "metadata": {},
   "outputs": [
    {
     "name": "stdout",
     "output_type": "stream",
     "text": [
      "sagemaker.config INFO - Not applying SDK defaults from location: /etc/xdg/sagemaker/config.yaml\n",
      "sagemaker.config INFO - Not applying SDK defaults from location: /home/jdwalker/.config/sagemaker/config.yaml\n"
     ]
    }
   ],
   "source": [
    "# create sessions\n",
    "\n",
    "def timestamp():\n",
    "    return time.strftime(\"%Y%m%d-%H%M%S\")\n",
    "\n",
    "def get_batch_creds(session, role_arn):\n",
    "    sts = session.client(\"sts\")\n",
    "    response = sts.assume_role(\n",
    "        RoleArn=role_arn,\n",
    "        RoleSessionName=f\"fpe-sagemaker-session--{timestamp()}\"\n",
    "    )\n",
    "    return response['Credentials']\n",
    "\n",
    "session = boto3.Session(profile_name=AWS_PROFILE, region_name=AWS_REGION)\n",
    "s3 = session.client(\"s3\")\n",
    "\n",
    "creds = get_batch_creds(session, JOB_ROLE_ARN)\n",
    "sm_boto_session = boto3.Session(\n",
    "    aws_access_key_id=creds['AccessKeyId'],\n",
    "    aws_secret_access_key=creds['SecretAccessKey'],\n",
    "    aws_session_token=creds['SessionToken'],\n",
    "    region_name=AWS_REGION\n",
    ")\n",
    "\n",
    "sm_session = sagemaker.Session(boto_session = sm_boto_session)"
   ]
  },
  {
   "cell_type": "code",
   "execution_count": 10,
   "id": "feeae8a4",
   "metadata": {},
   "outputs": [
    {
     "data": {
      "text/plain": [
       "('fpe-rank-29-RANK-FLOW-20240328-20240402-085814',\n",
       " 's3://usgs-chs-conte-prod-fpe-models/rank/29/models/RANK-FLOW-20240328/input',\n",
       " 's3://usgs-chs-conte-prod-fpe-models/rank/29/models/RANK-FLOW-20240328/jobs',\n",
       " 's3://usgs-chs-conte-prod-fpe-models/rank/29/models/RANK-FLOW-20240328/checkpoints',\n",
       " 's3://usgs-chs-conte-prod-fpe-models/rank/29/models/RANK-FLOW-20240328/transform')"
      ]
     },
     "execution_count": 10,
     "metadata": {},
     "output_type": "execute_result"
    }
   ],
   "source": [
    "# create paths and keys\n",
    "\n",
    "job_name = f\"fpe-rank-{station_id}-{model}-{timestamp()}\"\n",
    "\n",
    "# local paths\n",
    "#dataset_dir = f\"{root_dir}/{station_name}/{variable}/{dataset_version}\"\n",
    "model_dir = f\"{root_dir}/{station_id}/models/{model}\"\n",
    "if not os.path.exists(model_dir):\n",
    "    raise Exception(f\"model_dir not found ({model_dir})\")\n",
    "\n",
    "model_bucket = \"usgs-chs-conte-prod-fpe-models\"\n",
    "storage_bucket = \"usgs-chs-conte-prod-fpe-storage\"\n",
    "\n",
    "model_key = f\"rank/{station_id}/models/{model}\"\n",
    "input_key = f\"{model_key}/input\"\n",
    "jobs_key = f\"{model_key}/jobs\"\n",
    "checkpoints_key = f\"{model_key}/checkpoints\"\n",
    "transform_key = f\"{model_key}/transform\"\n",
    "\n",
    "s3_input_path = f\"s3://{model_bucket}/{input_key}\"\n",
    "s3_output_path = f\"s3://{model_bucket}/{jobs_key}\"\n",
    "s3_checkpoint_path = f\"s3://{model_bucket}/{checkpoints_key}\"\n",
    "s3_transform_path = f\"s3://{model_bucket}/{transform_key}\"\n",
    "(job_name, s3_input_path, s3_output_path, s3_checkpoint_path, s3_transform_path)"
   ]
  },
  {
   "cell_type": "markdown",
   "id": "cff73c2c",
   "metadata": {},
   "source": [
    "## Upload Input to S3"
   ]
  },
  {
   "cell_type": "code",
   "execution_count": 12,
   "id": "2cf3830e",
   "metadata": {},
   "outputs": [
    {
     "name": "stdout",
     "output_type": "stream",
     "text": [
      "uploading: annotations.csv -> rank/29/models/RANK-FLOW-20240328/input/annotations.csv\n",
      "uploading: images-months.png -> rank/29/models/RANK-FLOW-20240328/input/images-months.png\n",
      "uploading: images-ts.png -> rank/29/models/RANK-FLOW-20240328/input/images-ts.png\n",
      "uploading: images-values-cfd.png -> rank/29/models/RANK-FLOW-20240328/input/images-values-cfd.png\n",
      "uploading: images-values-hist.png -> rank/29/models/RANK-FLOW-20240328/input/images-values-hist.png\n",
      "uploading: images-values-ts.png -> rank/29/models/RANK-FLOW-20240328/input/images-values-ts.png\n",
      "uploading: images.csv -> rank/29/models/RANK-FLOW-20240328/input/images.csv\n",
      "uploading: manifest.json -> rank/29/models/RANK-FLOW-20240328/input/manifest.json\n",
      "uploading: pairs-timestamps.png -> rank/29/models/RANK-FLOW-20240328/input/pairs-timestamps.png\n",
      "uploading: pairs-values-delta.png -> rank/29/models/RANK-FLOW-20240328/input/pairs-values-delta.png\n",
      "uploading: pairs-values.png -> rank/29/models/RANK-FLOW-20240328/input/pairs-values.png\n",
      "uploading: pairs.csv -> rank/29/models/RANK-FLOW-20240328/input/pairs.csv\n",
      "uploading: rank-input.json -> rank/29/models/RANK-FLOW-20240328/input/rank-input.json\n"
     ]
    }
   ],
   "source": [
    "# upload input files to s3\n",
    "\n",
    "for subdir, dirs, files in os.walk(f\"{model_dir}/input\"):\n",
    "    for file in files:\n",
    "        s3_key = f\"{input_key}/{file}\"\n",
    "        print(f\"uploading: {file} -> {s3_key}\")\n",
    "        s3.upload_file(Filename=os.path.join(subdir, file), Bucket=model_bucket, Key=s3_key)"
   ]
  },
  {
   "cell_type": "markdown",
   "id": "7e903ac6",
   "metadata": {},
   "source": [
    "## Train Model"
   ]
  },
  {
   "cell_type": "markdown",
   "id": "f2e4ee2d",
   "metadata": {},
   "source": [
    "### Run Training Job"
   ]
  },
  {
   "cell_type": "code",
   "execution_count": 9,
   "id": "b6d650da-67eb-49dd-81bc-07ee38ff59a2",
   "metadata": {},
   "outputs": [],
   "source": [
    "estimator = PyTorch(\n",
    "    entry_point=\"train.py\",\n",
    "    source_dir=\"src\",\n",
    "    py_version=\"py39\",\n",
    "    framework_version=\"1.13.1\",\n",
    "    role=\"arn:aws:iam::694155575325:role/fpe-prod-sagemaker-execution-role\",\n",
    "    instance_count=1,\n",
    "    instance_type=\"ml.p3.2xlarge\",\n",
    "    volume_size=100,\n",
    "    hyperparameters={\n",
    "        \"epochs\": 20\n",
    "    },\n",
    "    output_path=s3_output_path,\n",
    "    checkpoint_s3_uri=s3_checkpoint_path,\n",
    "    code_location=s3_output_path,\n",
    "    disable_output_compression=False,\n",
    "    sagemaker_session=sm_session\n",
    ")"
   ]
  },
  {
   "cell_type": "code",
   "execution_count": 13,
   "id": "8b76c344-025b-42e8-b606-34c4f93f43ad",
   "metadata": {},
   "outputs": [
    {
     "data": {
      "text/plain": [
       "'s3://usgs-chs-conte-prod-fpe-models/rank/29/models/RANK-FLOW-20240328/input/manifest.json'"
      ]
     },
     "execution_count": 13,
     "metadata": {},
     "output_type": "execute_result"
    }
   ],
   "source": [
    "input_images = TrainingInput(\n",
    "    s3_data = f\"{s3_input_path}/manifest.json\",\n",
    "    s3_data_type = \"ManifestFile\",\n",
    "    input_mode = \"File\"\n",
    ")\n",
    "f\"{s3_input_path}/manifest.json\""
   ]
  },
  {
   "cell_type": "code",
   "execution_count": 16,
   "id": "bd8dd95e-9915-4e4e-9824-7a15d2f13281",
   "metadata": {},
   "outputs": [
    {
     "name": "stdout",
     "output_type": "stream",
     "text": [
      "Using provided s3_resource\n"
     ]
    },
    {
     "name": "stderr",
     "output_type": "stream",
     "text": [
      "INFO:sagemaker.image_uris:image_uri is not presented, retrieving image_uri based on instance_type, framework etc.\n",
      "INFO:sagemaker:Creating training-job with name: fpe-rank-WESTB0-20240328-215259\n"
     ]
    }
   ],
   "source": [
    "estimator.fit({ \"images\": input_images, \"values\": s3_input_path }, job_name=job_name, wait=False)"
   ]
  },
  {
   "cell_type": "markdown",
   "id": "9308ed4f",
   "metadata": {},
   "source": [
    "### Stop Training Job"
   ]
  },
  {
   "cell_type": "code",
   "execution_count": 13,
   "id": "62693c29",
   "metadata": {},
   "outputs": [],
   "source": [
    "# sm_session.stop_training_job(\"pytorch-training-2024-03-29-01-49-35-117\")"
   ]
  },
  {
   "cell_type": "markdown",
   "id": "14f08cb5",
   "metadata": {},
   "source": [
    "### Download Training Job Output"
   ]
  },
  {
   "cell_type": "code",
   "execution_count": 33,
   "id": "b860a6b0",
   "metadata": {},
   "outputs": [
    {
     "name": "stdout",
     "output_type": "stream",
     "text": [
      "job: fpe-rank-WESTB0-20240328-215259\n",
      "downloading: s3://usgs-chs-conte-prod-fpe-models/rank/WESTB0/FLOW_CFS/20240327/models/20240328/jobs/fpe-rank-WESTB0-20240328-215259/output/output.tar.gz -> /mnt/d/fpe/rank/West Brook 0_01171100/FLOW_CFS/20240327/models/20240328/output/output.tar.gz\n",
      "extracting: /mnt/d/fpe/rank/West Brook 0_01171100/FLOW_CFS/20240327/models/20240328/output/output.tar.gz -> /mnt/d/fpe/rank/West Brook 0_01171100/FLOW_CFS/20240327/models/20240328/output\n",
      "tar: Ignoring unknown extended header keyword 'LIBARCHIVE.creationtime'\n",
      "args.json\n",
      "tar: Ignoring unknown extended header keyword 'LIBARCHIVE.creationtime'\n",
      "metrics.csv\n"
     ]
    },
    {
     "data": {
      "text/plain": [
       "'/mnt/d/fpe/rank/West Brook 0_01171100/FLOW_CFS/20240327/models/20240328/output/output.tar.gz'"
      ]
     },
     "execution_count": 33,
     "metadata": {},
     "output_type": "execute_result"
    }
   ],
   "source": [
    "print(f\"job: {job_name}\")\n",
    "\n",
    "output_dir = f\"{model_dir}/output\"\n",
    "if not os.path.exists(output_dir):\n",
    "    os.makedirs(output_dir)\n",
    "output_file = f\"{output_dir}/output.tar.gz\"\n",
    "\n",
    "output_key = f\"{jobs_key}/{job_name}/output/output.tar.gz\"\n",
    "print(f\"downloading: s3://{model_bucket}/{output_key} -> {output_file}\")\n",
    "s3.download_file(Bucket=model_bucket, Key=output_key, Filename=output_file)\n",
    "\n",
    "print(f\"extracting: {output_file} -> {output_dir}\")\n",
    "!tar -xzvf \"{output_file}\" -C \"{output_dir}\"\n",
    "output_file"
   ]
  },
  {
   "cell_type": "markdown",
   "id": "ff74e6da",
   "metadata": {},
   "source": [
    "## Batch Transform"
   ]
  },
  {
   "cell_type": "code",
   "execution_count": 14,
   "id": "a9feef7c",
   "metadata": {},
   "outputs": [
    {
     "name": "stdout",
     "output_type": "stream",
     "text": [
      "# images: 30565\n"
     ]
    }
   ],
   "source": [
    "transform_images_file = f\"{model_dir}/input/images.csv\"\n",
    "transform_images = pd.read_csv(transform_images_file)\n",
    "print(f\"# images: {len(transform_images)}\")"
   ]
  },
  {
   "cell_type": "code",
   "execution_count": 15,
   "id": "a3dfbd3e",
   "metadata": {},
   "outputs": [
    {
     "name": "stdout",
     "output_type": "stream",
     "text": [
      "uploading: /mnt/d/fpe/rank/29/models/RANK-FLOW-20240328/input/images.csv -> rank/29/models/RANK-FLOW-20240328/transform/images.csv\n"
     ]
    }
   ],
   "source": [
    "transform_images_key = f\"{transform_key}/images.csv\"\n",
    "print(f\"uploading: {transform_images_file} -> {transform_images_key}\")\n",
    "s3.upload_file(Filename=transform_images_file, Bucket=model_bucket, Key=transform_images_key)"
   ]
  },
  {
   "cell_type": "code",
   "execution_count": 16,
   "id": "f2239dac",
   "metadata": {},
   "outputs": [
    {
     "data": {
      "text/html": [
       "<div>\n",
       "<style scoped>\n",
       "    .dataframe tbody tr th:only-of-type {\n",
       "        vertical-align: middle;\n",
       "    }\n",
       "\n",
       "    .dataframe tbody tr th {\n",
       "        vertical-align: top;\n",
       "    }\n",
       "\n",
       "    .dataframe thead th {\n",
       "        text-align: right;\n",
       "    }\n",
       "</style>\n",
       "<table border=\"1\" class=\"dataframe\">\n",
       "  <thead>\n",
       "    <tr style=\"text-align: right;\">\n",
       "      <th></th>\n",
       "      <th>split</th>\n",
       "      <th>image_id</th>\n",
       "      <th>timestamp</th>\n",
       "      <th>filename</th>\n",
       "      <th>url</th>\n",
       "      <th>value</th>\n",
       "    </tr>\n",
       "  </thead>\n",
       "  <tbody>\n",
       "    <tr>\n",
       "      <th>0</th>\n",
       "      <td>test-in</td>\n",
       "      <td>441411</td>\n",
       "      <td>2022-02-01T18:00:00Z</td>\n",
       "      <td>imagesets/e8d465f6-5784-4231-967f-9000428e9748...</td>\n",
       "      <td>https://usgs-chs-conte-prod-fpe-storage.s3.ama...</td>\n",
       "      <td>4.71</td>\n",
       "    </tr>\n",
       "    <tr>\n",
       "      <th>1</th>\n",
       "      <td>test-in</td>\n",
       "      <td>441412</td>\n",
       "      <td>2022-02-01T18:15:00Z</td>\n",
       "      <td>imagesets/e8d465f6-5784-4231-967f-9000428e9748...</td>\n",
       "      <td>https://usgs-chs-conte-prod-fpe-storage.s3.ama...</td>\n",
       "      <td>4.71</td>\n",
       "    </tr>\n",
       "    <tr>\n",
       "      <th>2</th>\n",
       "      <td>train</td>\n",
       "      <td>441413</td>\n",
       "      <td>2022-02-01T18:30:00Z</td>\n",
       "      <td>imagesets/e8d465f6-5784-4231-967f-9000428e9748...</td>\n",
       "      <td>https://usgs-chs-conte-prod-fpe-storage.s3.ama...</td>\n",
       "      <td>4.71</td>\n",
       "    </tr>\n",
       "    <tr>\n",
       "      <th>3</th>\n",
       "      <td>test-in</td>\n",
       "      <td>441414</td>\n",
       "      <td>2022-02-01T18:45:00Z</td>\n",
       "      <td>imagesets/e8d465f6-5784-4231-967f-9000428e9748...</td>\n",
       "      <td>https://usgs-chs-conte-prod-fpe-storage.s3.ama...</td>\n",
       "      <td>4.71</td>\n",
       "    </tr>\n",
       "    <tr>\n",
       "      <th>4</th>\n",
       "      <td>train</td>\n",
       "      <td>441415</td>\n",
       "      <td>2022-02-01T18:59:59Z</td>\n",
       "      <td>imagesets/e8d465f6-5784-4231-967f-9000428e9748...</td>\n",
       "      <td>https://usgs-chs-conte-prod-fpe-storage.s3.ama...</td>\n",
       "      <td>4.71</td>\n",
       "    </tr>\n",
       "    <tr>\n",
       "      <th>...</th>\n",
       "      <td>...</td>\n",
       "      <td>...</td>\n",
       "      <td>...</td>\n",
       "      <td>...</td>\n",
       "      <td>...</td>\n",
       "      <td>...</td>\n",
       "    </tr>\n",
       "    <tr>\n",
       "      <th>30560</th>\n",
       "      <td>test-out</td>\n",
       "      <td>4532559</td>\n",
       "      <td>2024-03-07T16:00:00Z</td>\n",
       "      <td>imagesets/4cafbbd0-66b4-49da-a5b3-ff0d8e93e4cf...</td>\n",
       "      <td>https://usgs-chs-conte-prod-fpe-storage.s3.ama...</td>\n",
       "      <td>208.00</td>\n",
       "    </tr>\n",
       "    <tr>\n",
       "      <th>30561</th>\n",
       "      <td>test-out</td>\n",
       "      <td>4532560</td>\n",
       "      <td>2024-03-07T16:15:00Z</td>\n",
       "      <td>imagesets/4cafbbd0-66b4-49da-a5b3-ff0d8e93e4cf...</td>\n",
       "      <td>https://usgs-chs-conte-prod-fpe-storage.s3.ama...</td>\n",
       "      <td>204.00</td>\n",
       "    </tr>\n",
       "    <tr>\n",
       "      <th>30562</th>\n",
       "      <td>test-out</td>\n",
       "      <td>4532561</td>\n",
       "      <td>2024-03-07T16:30:00Z</td>\n",
       "      <td>imagesets/4cafbbd0-66b4-49da-a5b3-ff0d8e93e4cf...</td>\n",
       "      <td>https://usgs-chs-conte-prod-fpe-storage.s3.ama...</td>\n",
       "      <td>204.00</td>\n",
       "    </tr>\n",
       "    <tr>\n",
       "      <th>30563</th>\n",
       "      <td>test-out</td>\n",
       "      <td>4532562</td>\n",
       "      <td>2024-03-07T16:45:00Z</td>\n",
       "      <td>imagesets/4cafbbd0-66b4-49da-a5b3-ff0d8e93e4cf...</td>\n",
       "      <td>https://usgs-chs-conte-prod-fpe-storage.s3.ama...</td>\n",
       "      <td>197.00</td>\n",
       "    </tr>\n",
       "    <tr>\n",
       "      <th>30564</th>\n",
       "      <td>test-out</td>\n",
       "      <td>4532563</td>\n",
       "      <td>2024-03-07T17:00:00Z</td>\n",
       "      <td>imagesets/4cafbbd0-66b4-49da-a5b3-ff0d8e93e4cf...</td>\n",
       "      <td>https://usgs-chs-conte-prod-fpe-storage.s3.ama...</td>\n",
       "      <td>190.00</td>\n",
       "    </tr>\n",
       "  </tbody>\n",
       "</table>\n",
       "<p>30565 rows × 6 columns</p>\n",
       "</div>"
      ],
      "text/plain": [
       "          split  image_id             timestamp  \\\n",
       "0       test-in    441411  2022-02-01T18:00:00Z   \n",
       "1       test-in    441412  2022-02-01T18:15:00Z   \n",
       "2         train    441413  2022-02-01T18:30:00Z   \n",
       "3       test-in    441414  2022-02-01T18:45:00Z   \n",
       "4         train    441415  2022-02-01T18:59:59Z   \n",
       "...         ...       ...                   ...   \n",
       "30560  test-out   4532559  2024-03-07T16:00:00Z   \n",
       "30561  test-out   4532560  2024-03-07T16:15:00Z   \n",
       "30562  test-out   4532561  2024-03-07T16:30:00Z   \n",
       "30563  test-out   4532562  2024-03-07T16:45:00Z   \n",
       "30564  test-out   4532563  2024-03-07T17:00:00Z   \n",
       "\n",
       "                                                filename  \\\n",
       "0      imagesets/e8d465f6-5784-4231-967f-9000428e9748...   \n",
       "1      imagesets/e8d465f6-5784-4231-967f-9000428e9748...   \n",
       "2      imagesets/e8d465f6-5784-4231-967f-9000428e9748...   \n",
       "3      imagesets/e8d465f6-5784-4231-967f-9000428e9748...   \n",
       "4      imagesets/e8d465f6-5784-4231-967f-9000428e9748...   \n",
       "...                                                  ...   \n",
       "30560  imagesets/4cafbbd0-66b4-49da-a5b3-ff0d8e93e4cf...   \n",
       "30561  imagesets/4cafbbd0-66b4-49da-a5b3-ff0d8e93e4cf...   \n",
       "30562  imagesets/4cafbbd0-66b4-49da-a5b3-ff0d8e93e4cf...   \n",
       "30563  imagesets/4cafbbd0-66b4-49da-a5b3-ff0d8e93e4cf...   \n",
       "30564  imagesets/4cafbbd0-66b4-49da-a5b3-ff0d8e93e4cf...   \n",
       "\n",
       "                                                     url   value  \n",
       "0      https://usgs-chs-conte-prod-fpe-storage.s3.ama...    4.71  \n",
       "1      https://usgs-chs-conte-prod-fpe-storage.s3.ama...    4.71  \n",
       "2      https://usgs-chs-conte-prod-fpe-storage.s3.ama...    4.71  \n",
       "3      https://usgs-chs-conte-prod-fpe-storage.s3.ama...    4.71  \n",
       "4      https://usgs-chs-conte-prod-fpe-storage.s3.ama...    4.71  \n",
       "...                                                  ...     ...  \n",
       "30560  https://usgs-chs-conte-prod-fpe-storage.s3.ama...  208.00  \n",
       "30561  https://usgs-chs-conte-prod-fpe-storage.s3.ama...  204.00  \n",
       "30562  https://usgs-chs-conte-prod-fpe-storage.s3.ama...  204.00  \n",
       "30563  https://usgs-chs-conte-prod-fpe-storage.s3.ama...  197.00  \n",
       "30564  https://usgs-chs-conte-prod-fpe-storage.s3.ama...  190.00  \n",
       "\n",
       "[30565 rows x 6 columns]"
      ]
     },
     "execution_count": 16,
     "metadata": {},
     "output_type": "execute_result"
    }
   ],
   "source": [
    "transform_images"
   ]
  },
  {
   "cell_type": "code",
   "execution_count": 17,
   "id": "393cafc5",
   "metadata": {},
   "outputs": [
    {
     "name": "stdout",
     "output_type": "stream",
     "text": [
      "uploading transform manifest: rank/29/models/RANK-FLOW-20240328/transform/manifest.json (n = 30565)\n"
     ]
    },
    {
     "data": {
      "text/plain": [
       "{'ResponseMetadata': {'RequestId': 'KZXTZF070Z7DZERK',\n",
       "  'HostId': 'V0CQt82tSxb1rpqgvzQ06DDStcMCuM37M2HjKLeU8ASshm2u+SHzA71BFVOkZLgrXf/uAWeaZnU=',\n",
       "  'HTTPStatusCode': 200,\n",
       "  'HTTPHeaders': {'x-amz-id-2': 'V0CQt82tSxb1rpqgvzQ06DDStcMCuM37M2HjKLeU8ASshm2u+SHzA71BFVOkZLgrXf/uAWeaZnU=',\n",
       "   'x-amz-request-id': 'KZXTZF070Z7DZERK',\n",
       "   'date': 'Tue, 02 Apr 2024 13:02:43 GMT',\n",
       "   'x-amz-server-side-encryption': 'AES256',\n",
       "   'etag': '\"92a5c7a56257809a321e90dbb4d8adc3\"',\n",
       "   'server': 'AmazonS3',\n",
       "   'content-length': '0'},\n",
       "  'RetryAttempts': 0},\n",
       " 'ETag': '\"92a5c7a56257809a321e90dbb4d8adc3\"',\n",
       " 'ServerSideEncryption': 'AES256'}"
      ]
     },
     "execution_count": 17,
     "metadata": {},
     "output_type": "execute_result"
    }
   ],
   "source": [
    "manifest = transform_images['filename'].to_list()\n",
    "manifest.insert(0, {\"prefix\": f\"s3://{storage_bucket}/\"})\n",
    "\n",
    "manifest_key = f\"{transform_key}/manifest.json\"\n",
    "body = json.dumps(manifest)\n",
    "print(f\"uploading transform manifest: {manifest_key} (n = {len(manifest) - 1})\")\n",
    "s3.put_object(Bucket=model_bucket, Key=manifest_key, Body=body)"
   ]
  },
  {
   "cell_type": "code",
   "execution_count": 18,
   "id": "69b826e5",
   "metadata": {},
   "outputs": [
    {
     "data": {
      "text/plain": [
       "'s3://usgs-chs-conte-prod-fpe-models/rank/29/models/RANK-FLOW-20240328/jobs/fpe-rank-29-RANK-FLOW-20240328-20240402-085814/output/model.tar.gz'"
      ]
     },
     "execution_count": 18,
     "metadata": {},
     "output_type": "execute_result"
    }
   ],
   "source": [
    "model_path = f\"{s3_output_path}/{job_name}/output/model.tar.gz\"\n",
    "model_path"
   ]
  },
  {
   "cell_type": "code",
   "execution_count": 47,
   "id": "2eb28f08",
   "metadata": {},
   "outputs": [],
   "source": [
    "from sagemaker.pytorch.model import PyTorchModel\n",
    "\n",
    "pytorch_model = PyTorchModel(\n",
    "    model_data=model_path,\n",
    "    role=\"arn:aws:iam::694155575325:role/fpe-prod-sagemaker-execution-role\",\n",
    "    py_version=\"py38\",\n",
    "    framework_version=\"1.12\",\n",
    "    source_dir=\"src/\",\n",
    "    entry_point=\"transform.py\",\n",
    "    sagemaker_session = sm_session\n",
    ")"
   ]
  },
  {
   "cell_type": "code",
   "execution_count": 48,
   "id": "ffbb72cc",
   "metadata": {},
   "outputs": [
    {
     "name": "stderr",
     "output_type": "stream",
     "text": [
      "INFO:sagemaker:Repacking model artifact (s3://usgs-chs-conte-prod-fpe-models/rank/WESTB0/FLOW_CFS/20240327/models/20240328/jobs/fpe-rank-WESTB0-20240328-215259/output/model.tar.gz), script artifact (src/), and dependencies ([]) into single tar.gz file located at s3://sagemaker-us-west-2-694155575325/pytorch-inference-2024-03-29-13-32-49-601/model.tar.gz. This may take some time depending on model size...\n",
      "INFO:sagemaker:Creating model with name: pytorch-inference-2024-03-29-13-33-43-682\n"
     ]
    },
    {
     "data": {
      "text/plain": [
       "'s3://usgs-chs-conte-prod-fpe-models/rank/WESTB0/FLOW_CFS/20240327/models/20240328/transform'"
      ]
     },
     "execution_count": 48,
     "metadata": {},
     "output_type": "execute_result"
    }
   ],
   "source": [
    "transformer = pytorch_model.transformer(\n",
    "    instance_count=1,\n",
    "    instance_type=\"ml.c5.xlarge\",\n",
    "    output_path=s3_transform_path\n",
    ")\n",
    "(s3_transform_path)"
   ]
  },
  {
   "cell_type": "code",
   "execution_count": 50,
   "id": "9479ade3",
   "metadata": {},
   "outputs": [
    {
     "name": "stderr",
     "output_type": "stream",
     "text": [
      "INFO:sagemaker:Creating transform job with name: fpe-rank-WESTB0-20240328-215259-transform\n"
     ]
    }
   ],
   "source": [
    "transformer.transform(\n",
    "    data=f\"{s3_transform_path}/manifest.json\",\n",
    "    data_type=\"ManifestFile\",\n",
    "    content_type=\"image/jpg\",\n",
    "    job_name=job_name,\n",
    "    wait=False,\n",
    ")"
   ]
  },
  {
   "cell_type": "code",
   "execution_count": 132,
   "id": "6c6ce644",
   "metadata": {},
   "outputs": [
    {
     "name": "stderr",
     "output_type": "stream",
     "text": [
      "INFO:sagemaker:Stopping transform job: pytorch-inference-2023-09-29-00-44-57-671\n"
     ]
    }
   ],
   "source": [
    "sm_session.stop_transform_job(f\"{job_name}\")"
   ]
  },
  {
   "cell_type": "markdown",
   "id": "1e5cdd03",
   "metadata": {},
   "source": [
    "### Post-process Batch Transform"
   ]
  },
  {
   "cell_type": "code",
   "execution_count": 64,
   "id": "89f7fe5d",
   "metadata": {},
   "outputs": [
    {
     "data": {
      "text/plain": [
       "Session(region_name=None)"
      ]
     },
     "execution_count": 64,
     "metadata": {},
     "output_type": "execute_result"
    }
   ],
   "source": [
    "session"
   ]
  },
  {
   "cell_type": "code",
   "execution_count": 62,
   "id": "0939b456",
   "metadata": {},
   "outputs": [],
   "source": [
    "def process_transform_output (session, transform_key, images_file, images_key, job_size = 5000):\n",
    "    lambda_client = session.client(\"lambda\")\n",
    "    df = pd.read_csv(images_file)\n",
    "    skip = 0\n",
    "    while skip < len(df):\n",
    "        payload = {\n",
    "            \"action\": \"process_transform_output\",\n",
    "            \"bucket_name\": model_bucket,\n",
    "            \"data_file\": images_key,\n",
    "            \"data_prefix\": transform_key,\n",
    "            \"output_prefix\": transform_key,\n",
    "            \"n\": job_size,\n",
    "            \"skip\": skip\n",
    "        }\n",
    "        print(f\"invoke: skip={skip}, n={job_size} ({skip} to {skip + job_size - 1})\")\n",
    "        lambda_client.invoke(\n",
    "            FunctionName=\"fpe-prod-lambda-models\",\n",
    "            InvocationType=\"Event\",\n",
    "            Payload=json.dumps(payload)\n",
    "        )\n",
    "        skip += job_size\n",
    "    return df"
   ]
  },
  {
   "cell_type": "code",
   "execution_count": 70,
   "id": "8e277212",
   "metadata": {},
   "outputs": [
    {
     "data": {
      "text/plain": [
       "('rank/WESTB0/FLOW_CFS/20240327/models/20240328/transform',\n",
       " '/mnt/d/fpe/rank/West Brook 0_01171100/FLOW_CFS/20240327/models/20240328/input/images.csv',\n",
       " 'rank/WESTB0/FLOW_CFS/20240327/models/20240328/transform/images.csv')"
      ]
     },
     "execution_count": 70,
     "metadata": {},
     "output_type": "execute_result"
    }
   ],
   "source": [
    "(transform_key, transform_images_file, transform_images_key)"
   ]
  },
  {
   "cell_type": "code",
   "execution_count": 71,
   "id": "14825b5d",
   "metadata": {},
   "outputs": [
    {
     "name": "stdout",
     "output_type": "stream",
     "text": [
      "invoke: skip=0, n=5000 (0 to 4999)\n",
      "invoke: skip=5000, n=5000 (5000 to 9999)\n",
      "invoke: skip=10000, n=5000 (10000 to 14999)\n",
      "invoke: skip=15000, n=5000 (15000 to 19999)\n",
      "invoke: skip=20000, n=5000 (20000 to 24999)\n",
      "invoke: skip=25000, n=5000 (25000 to 29999)\n",
      "invoke: skip=30000, n=5000 (30000 to 34999)\n"
     ]
    },
    {
     "data": {
      "text/html": [
       "<div>\n",
       "<style scoped>\n",
       "    .dataframe tbody tr th:only-of-type {\n",
       "        vertical-align: middle;\n",
       "    }\n",
       "\n",
       "    .dataframe tbody tr th {\n",
       "        vertical-align: top;\n",
       "    }\n",
       "\n",
       "    .dataframe thead th {\n",
       "        text-align: right;\n",
       "    }\n",
       "</style>\n",
       "<table border=\"1\" class=\"dataframe\">\n",
       "  <thead>\n",
       "    <tr style=\"text-align: right;\">\n",
       "      <th></th>\n",
       "      <th>split</th>\n",
       "      <th>image_id</th>\n",
       "      <th>timestamp</th>\n",
       "      <th>filename</th>\n",
       "      <th>url</th>\n",
       "      <th>value</th>\n",
       "    </tr>\n",
       "  </thead>\n",
       "  <tbody>\n",
       "    <tr>\n",
       "      <th>0</th>\n",
       "      <td>test-in</td>\n",
       "      <td>441411</td>\n",
       "      <td>2022-02-01T18:00:00Z</td>\n",
       "      <td>imagesets/e8d465f6-5784-4231-967f-9000428e9748...</td>\n",
       "      <td>https://usgs-chs-conte-prod-fpe-storage.s3.ama...</td>\n",
       "      <td>4.71</td>\n",
       "    </tr>\n",
       "    <tr>\n",
       "      <th>1</th>\n",
       "      <td>test-in</td>\n",
       "      <td>441412</td>\n",
       "      <td>2022-02-01T18:15:00Z</td>\n",
       "      <td>imagesets/e8d465f6-5784-4231-967f-9000428e9748...</td>\n",
       "      <td>https://usgs-chs-conte-prod-fpe-storage.s3.ama...</td>\n",
       "      <td>4.71</td>\n",
       "    </tr>\n",
       "    <tr>\n",
       "      <th>2</th>\n",
       "      <td>train</td>\n",
       "      <td>441413</td>\n",
       "      <td>2022-02-01T18:30:00Z</td>\n",
       "      <td>imagesets/e8d465f6-5784-4231-967f-9000428e9748...</td>\n",
       "      <td>https://usgs-chs-conte-prod-fpe-storage.s3.ama...</td>\n",
       "      <td>4.71</td>\n",
       "    </tr>\n",
       "    <tr>\n",
       "      <th>3</th>\n",
       "      <td>test-in</td>\n",
       "      <td>441414</td>\n",
       "      <td>2022-02-01T18:45:00Z</td>\n",
       "      <td>imagesets/e8d465f6-5784-4231-967f-9000428e9748...</td>\n",
       "      <td>https://usgs-chs-conte-prod-fpe-storage.s3.ama...</td>\n",
       "      <td>4.71</td>\n",
       "    </tr>\n",
       "    <tr>\n",
       "      <th>4</th>\n",
       "      <td>train</td>\n",
       "      <td>441415</td>\n",
       "      <td>2022-02-01T18:59:59Z</td>\n",
       "      <td>imagesets/e8d465f6-5784-4231-967f-9000428e9748...</td>\n",
       "      <td>https://usgs-chs-conte-prod-fpe-storage.s3.ama...</td>\n",
       "      <td>4.71</td>\n",
       "    </tr>\n",
       "    <tr>\n",
       "      <th>...</th>\n",
       "      <td>...</td>\n",
       "      <td>...</td>\n",
       "      <td>...</td>\n",
       "      <td>...</td>\n",
       "      <td>...</td>\n",
       "      <td>...</td>\n",
       "    </tr>\n",
       "    <tr>\n",
       "      <th>30560</th>\n",
       "      <td>test-out</td>\n",
       "      <td>4532559</td>\n",
       "      <td>2024-03-07T16:00:00Z</td>\n",
       "      <td>imagesets/4cafbbd0-66b4-49da-a5b3-ff0d8e93e4cf...</td>\n",
       "      <td>https://usgs-chs-conte-prod-fpe-storage.s3.ama...</td>\n",
       "      <td>208.00</td>\n",
       "    </tr>\n",
       "    <tr>\n",
       "      <th>30561</th>\n",
       "      <td>test-out</td>\n",
       "      <td>4532560</td>\n",
       "      <td>2024-03-07T16:15:00Z</td>\n",
       "      <td>imagesets/4cafbbd0-66b4-49da-a5b3-ff0d8e93e4cf...</td>\n",
       "      <td>https://usgs-chs-conte-prod-fpe-storage.s3.ama...</td>\n",
       "      <td>204.00</td>\n",
       "    </tr>\n",
       "    <tr>\n",
       "      <th>30562</th>\n",
       "      <td>test-out</td>\n",
       "      <td>4532561</td>\n",
       "      <td>2024-03-07T16:30:00Z</td>\n",
       "      <td>imagesets/4cafbbd0-66b4-49da-a5b3-ff0d8e93e4cf...</td>\n",
       "      <td>https://usgs-chs-conte-prod-fpe-storage.s3.ama...</td>\n",
       "      <td>204.00</td>\n",
       "    </tr>\n",
       "    <tr>\n",
       "      <th>30563</th>\n",
       "      <td>test-out</td>\n",
       "      <td>4532562</td>\n",
       "      <td>2024-03-07T16:45:00Z</td>\n",
       "      <td>imagesets/4cafbbd0-66b4-49da-a5b3-ff0d8e93e4cf...</td>\n",
       "      <td>https://usgs-chs-conte-prod-fpe-storage.s3.ama...</td>\n",
       "      <td>197.00</td>\n",
       "    </tr>\n",
       "    <tr>\n",
       "      <th>30564</th>\n",
       "      <td>test-out</td>\n",
       "      <td>4532563</td>\n",
       "      <td>2024-03-07T17:00:00Z</td>\n",
       "      <td>imagesets/4cafbbd0-66b4-49da-a5b3-ff0d8e93e4cf...</td>\n",
       "      <td>https://usgs-chs-conte-prod-fpe-storage.s3.ama...</td>\n",
       "      <td>190.00</td>\n",
       "    </tr>\n",
       "  </tbody>\n",
       "</table>\n",
       "<p>30565 rows × 6 columns</p>\n",
       "</div>"
      ],
      "text/plain": [
       "          split  image_id             timestamp  \\\n",
       "0       test-in    441411  2022-02-01T18:00:00Z   \n",
       "1       test-in    441412  2022-02-01T18:15:00Z   \n",
       "2         train    441413  2022-02-01T18:30:00Z   \n",
       "3       test-in    441414  2022-02-01T18:45:00Z   \n",
       "4         train    441415  2022-02-01T18:59:59Z   \n",
       "...         ...       ...                   ...   \n",
       "30560  test-out   4532559  2024-03-07T16:00:00Z   \n",
       "30561  test-out   4532560  2024-03-07T16:15:00Z   \n",
       "30562  test-out   4532561  2024-03-07T16:30:00Z   \n",
       "30563  test-out   4532562  2024-03-07T16:45:00Z   \n",
       "30564  test-out   4532563  2024-03-07T17:00:00Z   \n",
       "\n",
       "                                                filename  \\\n",
       "0      imagesets/e8d465f6-5784-4231-967f-9000428e9748...   \n",
       "1      imagesets/e8d465f6-5784-4231-967f-9000428e9748...   \n",
       "2      imagesets/e8d465f6-5784-4231-967f-9000428e9748...   \n",
       "3      imagesets/e8d465f6-5784-4231-967f-9000428e9748...   \n",
       "4      imagesets/e8d465f6-5784-4231-967f-9000428e9748...   \n",
       "...                                                  ...   \n",
       "30560  imagesets/4cafbbd0-66b4-49da-a5b3-ff0d8e93e4cf...   \n",
       "30561  imagesets/4cafbbd0-66b4-49da-a5b3-ff0d8e93e4cf...   \n",
       "30562  imagesets/4cafbbd0-66b4-49da-a5b3-ff0d8e93e4cf...   \n",
       "30563  imagesets/4cafbbd0-66b4-49da-a5b3-ff0d8e93e4cf...   \n",
       "30564  imagesets/4cafbbd0-66b4-49da-a5b3-ff0d8e93e4cf...   \n",
       "\n",
       "                                                     url   value  \n",
       "0      https://usgs-chs-conte-prod-fpe-storage.s3.ama...    4.71  \n",
       "1      https://usgs-chs-conte-prod-fpe-storage.s3.ama...    4.71  \n",
       "2      https://usgs-chs-conte-prod-fpe-storage.s3.ama...    4.71  \n",
       "3      https://usgs-chs-conte-prod-fpe-storage.s3.ama...    4.71  \n",
       "4      https://usgs-chs-conte-prod-fpe-storage.s3.ama...    4.71  \n",
       "...                                                  ...     ...  \n",
       "30560  https://usgs-chs-conte-prod-fpe-storage.s3.ama...  208.00  \n",
       "30561  https://usgs-chs-conte-prod-fpe-storage.s3.ama...  204.00  \n",
       "30562  https://usgs-chs-conte-prod-fpe-storage.s3.ama...  204.00  \n",
       "30563  https://usgs-chs-conte-prod-fpe-storage.s3.ama...  197.00  \n",
       "30564  https://usgs-chs-conte-prod-fpe-storage.s3.ama...  190.00  \n",
       "\n",
       "[30565 rows x 6 columns]"
      ]
     },
     "execution_count": 71,
     "metadata": {},
     "output_type": "execute_result"
    }
   ],
   "source": [
    "process_transform_output(session, transform_key, transform_images_file, transform_images_key)"
   ]
  },
  {
   "cell_type": "code",
   "execution_count": 75,
   "id": "6fc52115",
   "metadata": {},
   "outputs": [],
   "source": [
    "def combine_predictions (session, transform_key, images_file, transform_path, job_size = 5000):\n",
    "    s3 = session.client(\"s3\")\n",
    "    df = pd.read_csv(images_file)\n",
    "    keys = [f\"{transform_key}/predictions-{skip:05d}-{(skip + job_size - 1):05d}.csv\" for skip in range(0, len(df), job_size)]\n",
    "\n",
    "    dfs = []\n",
    "    for key in keys:\n",
    "        print(key)\n",
    "        csv_obj = s3.get_object(Bucket=model_bucket, Key=key)\n",
    "        csv_data = csv_obj['Body'].read().decode('utf-8')\n",
    "        dfs.append(pd.read_csv(StringIO(csv_data)))\n",
    "\n",
    "    df = pd.concat(dfs, ignore_index=True)\n",
    "\n",
    "    csv_buffer = StringIO()\n",
    "    df.to_csv(csv_buffer, index=False)\n",
    "    output_key = f\"{transform_key}/predictions.csv\"\n",
    "    s3.put_object(Body=csv_buffer.getvalue(), Bucket=model_bucket, Key=output_key)\n",
    "    if not os.path.exists(transform_path):\n",
    "        os.makedirs(transform_path)\n",
    "    df.to_csv(f\"{transform_path}/predictions.csv\", index=False)\n",
    "    df\n"
   ]
  },
  {
   "cell_type": "code",
   "execution_count": 78,
   "id": "c7b0066a",
   "metadata": {},
   "outputs": [
    {
     "data": {
      "text/plain": [
       "('rank/WESTB0/FLOW_CFS/20240327/models/20240328/transform',\n",
       " '/mnt/d/fpe/rank/West Brook 0_01171100/FLOW_CFS/20240327/models/20240328/input/images.csv',\n",
       " 's3://usgs-chs-conte-prod-fpe-models/rank/WESTB0/FLOW_CFS/20240327/models/20240328/transform')"
      ]
     },
     "execution_count": 78,
     "metadata": {},
     "output_type": "execute_result"
    }
   ],
   "source": [
    "(transform_key, transform_images_file, transform_path)"
   ]
  },
  {
   "cell_type": "code",
   "execution_count": 79,
   "id": "054a3d08",
   "metadata": {},
   "outputs": [
    {
     "name": "stdout",
     "output_type": "stream",
     "text": [
      "rank/WESTB0/FLOW_CFS/20240327/models/20240328/transform/predictions-00000-04999.csv\n",
      "rank/WESTB0/FLOW_CFS/20240327/models/20240328/transform/predictions-05000-09999.csv\n",
      "rank/WESTB0/FLOW_CFS/20240327/models/20240328/transform/predictions-10000-14999.csv\n",
      "rank/WESTB0/FLOW_CFS/20240327/models/20240328/transform/predictions-15000-19999.csv\n",
      "rank/WESTB0/FLOW_CFS/20240327/models/20240328/transform/predictions-20000-24999.csv\n",
      "rank/WESTB0/FLOW_CFS/20240327/models/20240328/transform/predictions-25000-29999.csv\n",
      "rank/WESTB0/FLOW_CFS/20240327/models/20240328/transform/predictions-30000-34999.csv\n"
     ]
    }
   ],
   "source": [
    "combine_predictions(session, transform_key, transform_images_file, f\"{model_dir}/transform\")"
   ]
  }
 ],
 "metadata": {
  "kernelspec": {
   "display_name": "Python 3 (ipykernel)",
   "language": "python",
   "name": "python3"
  },
  "language_info": {
   "codemirror_mode": {
    "name": "ipython",
    "version": 3
   },
   "file_extension": ".py",
   "mimetype": "text/x-python",
   "name": "python",
   "nbconvert_exporter": "python",
   "pygments_lexer": "ipython3",
   "version": "3.11.10"
  }
 },
 "nbformat": 4,
 "nbformat_minor": 5
}
