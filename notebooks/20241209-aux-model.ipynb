{
 "cells": [
  {
   "cell_type": "code",
   "execution_count": 157,
   "metadata": {},
   "outputs": [],
   "source": [
    "import sys\n",
    "import os\n",
    "sys.path.append(os.path.abspath(os.path.join(os.getcwd(), '../src')))"
   ]
  },
  {
   "cell_type": "code",
   "execution_count": 158,
   "metadata": {},
   "outputs": [],
   "source": [
    "import pandas as pd\n",
    "import numpy as np\n",
    "from pathlib import Path\n",
    "import shutil\n",
    "import time\n",
    "from tqdm import tqdm\n",
    "import torch\n",
    "from torch.utils.data import DataLoader\n",
    "import torch.nn as nn\n",
    "from torch.optim import SGD\n",
    "from torch.optim.lr_scheduler import ReduceLROnPlateau\n",
    "import yaml\n",
    "from types import SimpleNamespace\n",
    "\n",
    "from train import create_image_transforms\n",
    "from modules import ResNetRegressionNet\n",
    "from datasets import FlowPhotoDataset\n",
    "from losses import MSELoss\n",
    "from utils import load_pairs_from_csv, fit, validate, MetricLogger"
   ]
  },
  {
   "cell_type": "code",
   "execution_count": 164,
   "metadata": {},
   "outputs": [],
   "source": [
    "root_dir = '/home/jeff/data/fpe/experiments/20241209-WB0-aux'\n",
    "data_dir = Path(root_dir) / 'data'"
   ]
  },
  {
   "cell_type": "code",
   "execution_count": 165,
   "metadata": {},
   "outputs": [
    {
     "data": {
      "text/plain": [
       "namespace(epochs=30,\n",
       "          lr=0.001,\n",
       "          unfreeze_after=2,\n",
       "          batch_size=64,\n",
       "          eval_batch_size=None,\n",
       "          momentum=0.9,\n",
       "          scheduler_patience=1,\n",
       "          scheduler_factor=0.5,\n",
       "          resnet_size=18,\n",
       "          truncate=2,\n",
       "          dropout_rate=0.0,\n",
       "          use_batch_norm=False,\n",
       "          weight_init='none',\n",
       "          input_size=480,\n",
       "          crop_ratio=0.8,\n",
       "          transform_grayscale=False,\n",
       "          transform_normalize=True,\n",
       "          transform_normalize_n=1000,\n",
       "          transform_random_crop=True,\n",
       "          transform_flip=False,\n",
       "          transform_rotate=True,\n",
       "          transform_rotate_degrees=10,\n",
       "          transform_color_jitter=False,\n",
       "          transform_color_jitter_brightness=0.2,\n",
       "          transform_color_jitter_contrast=0.2,\n",
       "          transform_color_jitter_saturation=0.2,\n",
       "          transform_color_jitter_hue=0.1,\n",
       "          transform_perspective=False,\n",
       "          transform_perspective_distortion=0.2,\n",
       "          transform_auto_contrast=False,\n",
       "          transform_equalize=False,\n",
       "          transform_gamma=False,\n",
       "          transform_gamma_min=0.8,\n",
       "          transform_gamma_max=1.2,\n",
       "          transform_gaussian_blur=False,\n",
       "          transform_blur_kernel=3,\n",
       "          num_workers=4,\n",
       "          data_file='train-pairs.csv',\n",
       "          save_frequency=1,\n",
       "          keep_n_checkpoints=-1,\n",
       "          early_stopping_patience=5,\n",
       "          early_stopping_min_delta=0.0001,\n",
       "          deterministic=False,\n",
       "          random_seed=1691,\n",
       "          images_dir='/home/jeff/data/fpe/images',\n",
       "          gpu=0)"
      ]
     },
     "execution_count": 165,
     "metadata": {},
     "output_type": "execute_result"
    }
   ],
   "source": [
    "# load args from config/default.yml\n",
    "with open('../configs/default.yml', 'r') as f:\n",
    "    args = yaml.safe_load(f)\n",
    "args = SimpleNamespace(**args)\n",
    "args.images_dir = '/home/jeff/data/fpe/images'\n",
    "args.gpu = 0\n",
    "args"
   ]
  },
  {
   "cell_type": "markdown",
   "metadata": {},
   "source": [
    "## Dataset"
   ]
  },
  {
   "cell_type": "code",
   "execution_count": 172,
   "metadata": {},
   "outputs": [
    {
     "data": {
      "text/html": [
       "<div>\n",
       "<style scoped>\n",
       "    .dataframe tbody tr th:only-of-type {\n",
       "        vertical-align: middle;\n",
       "    }\n",
       "\n",
       "    .dataframe tbody tr th {\n",
       "        vertical-align: top;\n",
       "    }\n",
       "\n",
       "    .dataframe thead th {\n",
       "        text-align: right;\n",
       "    }\n",
       "</style>\n",
       "<table border=\"1\" class=\"dataframe\">\n",
       "  <thead>\n",
       "    <tr style=\"text-align: right;\">\n",
       "      <th></th>\n",
       "      <th>split</th>\n",
       "      <th>image_id</th>\n",
       "      <th>timestamp</th>\n",
       "      <th>filename</th>\n",
       "      <th>url</th>\n",
       "      <th>value</th>\n",
       "      <th>date</th>\n",
       "      <th>daymet_1d_dayl</th>\n",
       "      <th>daymet_1d_prcp</th>\n",
       "      <th>daymet_1d_srad</th>\n",
       "      <th>...</th>\n",
       "      <th>daymet_30d_srad_z</th>\n",
       "      <th>daymet_30d_swe_z</th>\n",
       "      <th>daymet_30d_tmax_z</th>\n",
       "      <th>daymet_30d_tmin_z</th>\n",
       "      <th>daymet_30d_tavg_z</th>\n",
       "      <th>daymet_30d_vp_z</th>\n",
       "      <th>jday_z</th>\n",
       "      <th>dhour_z</th>\n",
       "      <th>obs_z</th>\n",
       "      <th>rand_z</th>\n",
       "    </tr>\n",
       "  </thead>\n",
       "  <tbody>\n",
       "    <tr>\n",
       "      <th>0</th>\n",
       "      <td>train</td>\n",
       "      <td>1395116</td>\n",
       "      <td>2022-12-11T20:45:01Z</td>\n",
       "      <td>imagesets/e2a3b2b6-d391-481a-9814-dc61cf83a990...</td>\n",
       "      <td>https://usgs-chs-conte-prod-fpe-storage.s3.ama...</td>\n",
       "      <td>1.041393</td>\n",
       "      <td>2022-12-11</td>\n",
       "      <td>32176.84</td>\n",
       "      <td>10.19</td>\n",
       "      <td>55.57</td>\n",
       "      <td>...</td>\n",
       "      <td>0.067646</td>\n",
       "      <td>0.076576</td>\n",
       "      <td>0.267308</td>\n",
       "      <td>0.336293</td>\n",
       "      <td>0.302538</td>\n",
       "      <td>0.153402</td>\n",
       "      <td>0.945055</td>\n",
       "      <td>0.729207</td>\n",
       "      <td>0.486206</td>\n",
       "      <td>0.424416</td>\n",
       "    </tr>\n",
       "    <tr>\n",
       "      <th>1</th>\n",
       "      <td>train</td>\n",
       "      <td>2083970</td>\n",
       "      <td>2023-04-13T13:00:00Z</td>\n",
       "      <td>imagesets/e33129ab-64df-48f7-9380-1be3258b577f...</td>\n",
       "      <td>https://usgs-chs-conte-prod-fpe-storage.s3.ama...</td>\n",
       "      <td>1.220108</td>\n",
       "      <td>2023-04-13</td>\n",
       "      <td>47044.64</td>\n",
       "      <td>0.00</td>\n",
       "      <td>482.76</td>\n",
       "      <td>...</td>\n",
       "      <td>0.875086</td>\n",
       "      <td>0.008082</td>\n",
       "      <td>0.421171</td>\n",
       "      <td>0.367216</td>\n",
       "      <td>0.396876</td>\n",
       "      <td>0.170685</td>\n",
       "      <td>0.280220</td>\n",
       "      <td>0.166671</td>\n",
       "      <td>0.526842</td>\n",
       "      <td>0.204199</td>\n",
       "    </tr>\n",
       "    <tr>\n",
       "      <th>2</th>\n",
       "      <td>train</td>\n",
       "      <td>1647520</td>\n",
       "      <td>2023-01-25T20:15:00Z</td>\n",
       "      <td>imagesets/265292ae-007e-4a94-a86c-e01028d85c1f...</td>\n",
       "      <td>https://usgs-chs-conte-prod-fpe-storage.s3.ama...</td>\n",
       "      <td>1.466868</td>\n",
       "      <td>2023-01-25</td>\n",
       "      <td>34259.98</td>\n",
       "      <td>36.06</td>\n",
       "      <td>160.78</td>\n",
       "      <td>...</td>\n",
       "      <td>0.064178</td>\n",
       "      <td>0.186383</td>\n",
       "      <td>0.165141</td>\n",
       "      <td>0.319461</td>\n",
       "      <td>0.241741</td>\n",
       "      <td>0.138325</td>\n",
       "      <td>0.065934</td>\n",
       "      <td>0.687516</td>\n",
       "      <td>0.582950</td>\n",
       "      <td>0.168821</td>\n",
       "    </tr>\n",
       "    <tr>\n",
       "      <th>3</th>\n",
       "      <td>train</td>\n",
       "      <td>624015</td>\n",
       "      <td>2022-05-22T14:42:37Z</td>\n",
       "      <td>imagesets/33c0736b-f5fb-4da6-91b0-83a72c285382...</td>\n",
       "      <td>https://usgs-chs-conte-prod-fpe-storage.s3.ama...</td>\n",
       "      <td>0.824776</td>\n",
       "      <td>2022-05-22</td>\n",
       "      <td>52705.60</td>\n",
       "      <td>7.45</td>\n",
       "      <td>359.83</td>\n",
       "      <td>...</td>\n",
       "      <td>0.805446</td>\n",
       "      <td>0.000000</td>\n",
       "      <td>0.648967</td>\n",
       "      <td>0.636904</td>\n",
       "      <td>0.648051</td>\n",
       "      <td>0.431605</td>\n",
       "      <td>0.387363</td>\n",
       "      <td>0.309197</td>\n",
       "      <td>0.436951</td>\n",
       "      <td>0.671610</td>\n",
       "    </tr>\n",
       "    <tr>\n",
       "      <th>4</th>\n",
       "      <td>train</td>\n",
       "      <td>802594</td>\n",
       "      <td>2022-07-24T19:09:06Z</td>\n",
       "      <td>imagesets/a7918a28-258e-40a7-bf79-8aa1895d4c65...</td>\n",
       "      <td>https://usgs-chs-conte-prod-fpe-storage.s3.ama...</td>\n",
       "      <td>-0.327902</td>\n",
       "      <td>2022-07-24</td>\n",
       "      <td>52431.34</td>\n",
       "      <td>1.67</td>\n",
       "      <td>418.20</td>\n",
       "      <td>...</td>\n",
       "      <td>0.854803</td>\n",
       "      <td>0.000000</td>\n",
       "      <td>0.953107</td>\n",
       "      <td>0.905435</td>\n",
       "      <td>0.937817</td>\n",
       "      <td>0.787435</td>\n",
       "      <td>0.560440</td>\n",
       "      <td>0.679321</td>\n",
       "      <td>0.174856</td>\n",
       "      <td>0.176717</td>\n",
       "    </tr>\n",
       "  </tbody>\n",
       "</table>\n",
       "<p>5 rows × 64 columns</p>\n",
       "</div>"
      ],
      "text/plain": [
       "   split  image_id             timestamp  \\\n",
       "0  train   1395116  2022-12-11T20:45:01Z   \n",
       "1  train   2083970  2023-04-13T13:00:00Z   \n",
       "2  train   1647520  2023-01-25T20:15:00Z   \n",
       "3  train    624015  2022-05-22T14:42:37Z   \n",
       "4  train    802594  2022-07-24T19:09:06Z   \n",
       "\n",
       "                                            filename  \\\n",
       "0  imagesets/e2a3b2b6-d391-481a-9814-dc61cf83a990...   \n",
       "1  imagesets/e33129ab-64df-48f7-9380-1be3258b577f...   \n",
       "2  imagesets/265292ae-007e-4a94-a86c-e01028d85c1f...   \n",
       "3  imagesets/33c0736b-f5fb-4da6-91b0-83a72c285382...   \n",
       "4  imagesets/a7918a28-258e-40a7-bf79-8aa1895d4c65...   \n",
       "\n",
       "                                                 url     value        date  \\\n",
       "0  https://usgs-chs-conte-prod-fpe-storage.s3.ama...  1.041393  2022-12-11   \n",
       "1  https://usgs-chs-conte-prod-fpe-storage.s3.ama...  1.220108  2023-04-13   \n",
       "2  https://usgs-chs-conte-prod-fpe-storage.s3.ama...  1.466868  2023-01-25   \n",
       "3  https://usgs-chs-conte-prod-fpe-storage.s3.ama...  0.824776  2022-05-22   \n",
       "4  https://usgs-chs-conte-prod-fpe-storage.s3.ama... -0.327902  2022-07-24   \n",
       "\n",
       "   daymet_1d_dayl  daymet_1d_prcp  daymet_1d_srad  ...  daymet_30d_srad_z  \\\n",
       "0        32176.84           10.19           55.57  ...           0.067646   \n",
       "1        47044.64            0.00          482.76  ...           0.875086   \n",
       "2        34259.98           36.06          160.78  ...           0.064178   \n",
       "3        52705.60            7.45          359.83  ...           0.805446   \n",
       "4        52431.34            1.67          418.20  ...           0.854803   \n",
       "\n",
       "   daymet_30d_swe_z  daymet_30d_tmax_z  daymet_30d_tmin_z  daymet_30d_tavg_z  \\\n",
       "0          0.076576           0.267308           0.336293           0.302538   \n",
       "1          0.008082           0.421171           0.367216           0.396876   \n",
       "2          0.186383           0.165141           0.319461           0.241741   \n",
       "3          0.000000           0.648967           0.636904           0.648051   \n",
       "4          0.000000           0.953107           0.905435           0.937817   \n",
       "\n",
       "   daymet_30d_vp_z    jday_z   dhour_z     obs_z    rand_z  \n",
       "0         0.153402  0.945055  0.729207  0.486206  0.424416  \n",
       "1         0.170685  0.280220  0.166671  0.526842  0.204199  \n",
       "2         0.138325  0.065934  0.687516  0.582950  0.168821  \n",
       "3         0.431605  0.387363  0.309197  0.436951  0.671610  \n",
       "4         0.787435  0.560440  0.679321  0.174856  0.176717  \n",
       "\n",
       "[5 rows x 64 columns]"
      ]
     },
     "execution_count": 172,
     "metadata": {},
     "output_type": "execute_result"
    }
   ],
   "source": [
    "images_df = pd.read_csv(Path(data_dir) / 'images-split.csv')\n",
    "images_df.head()"
   ]
  },
  {
   "cell_type": "code",
   "execution_count": 174,
   "metadata": {},
   "outputs": [
    {
     "name": "stdout",
     "output_type": "stream",
     "text": [
      "1000 200 1603 995\n"
     ]
    }
   ],
   "source": [
    "train_images_df = images_df[images_df['split'] == 'train']\n",
    "val_images_df = images_df[images_df['split'] == 'val']\n",
    "test_in_images_df = images_df[images_df['split'] == 'test-in']\n",
    "test_out_images_df = images_df[images_df['split'] == 'test-out']\n",
    "print(len(train_images_df), len(val_images_df), len(test_in_images_df), len(test_out_images_df))"
   ]
  },
  {
   "cell_type": "markdown",
   "metadata": {},
   "source": [
    "## Experiments\n",
    "\n",
    "### Run 01: Regression Model Using Only Images\n",
    "\n",
    "Regression model using only images."
   ]
  },
  {
   "cell_type": "code",
   "execution_count": 106,
   "metadata": {},
   "outputs": [],
   "source": [
    "\n",
    "run_dir = Path(root_dir) / 'runs' / 'run-01'\n",
    "run_model_dir = Path(run_dir) / 'model'\n",
    "run_output_dir = Path(run_dir) / 'output'\n",
    "run_checkpoint_dir = Path(run_dir) / 'checkpoints'"
   ]
  },
  {
   "cell_type": "code",
   "execution_count": 176,
   "metadata": {},
   "outputs": [
    {
     "data": {
      "image/png": "[encoded data removed]",
      "text/plain": [
       "<Figure size 640x480 with 1 Axes>"
      ]
     },
     "metadata": {},
     "output_type": "display_data"
    }
   ],
   "source": [
    "# plot images_df['value']\n",
    "import matplotlib.pyplot as plt\n",
    "plt.hist(images_df['value'], bins=100)\n",
    "plt.show()"
   ]
  },
  {
   "cell_type": "code",
   "execution_count": 177,
   "metadata": {},
   "outputs": [],
   "source": [
    "train_ds = FlowPhotoDataset(train_images_df, args.images_dir)"
   ]
  },
  {
   "cell_type": "code",
   "execution_count": 178,
   "metadata": {},
   "outputs": [
    {
     "name": "stderr",
     "output_type": "stream",
     "text": [
      "100%|██████████| 1000/1000 [00:35<00:00, 28.23it/s]"
     ]
    },
    {
     "name": "stdout",
     "output_type": "stream",
     "text": [
      "Image statistics - Mean: %s, Std: %s [0.42330913 0.42318689 0.38943786] [0.29321355 0.29218129 0.28678856]\n"
     ]
    },
    {
     "name": "stderr",
     "output_type": "stream",
     "text": [
      "\n"
     ]
    }
   ],
   "source": [
    "img_mean, img_std = train_ds.compute_mean_std(args.transform_normalize_n)\n",
    "print(\"Image statistics - Mean: %s, Std: %s\", img_mean, img_std)"
   ]
  },
  {
   "cell_type": "code",
   "execution_count": 179,
   "metadata": {},
   "outputs": [
    {
     "name": "stdout",
     "output_type": "stream",
     "text": [
      "[384, 512] [480, 640]\n"
     ]
    }
   ],
   "source": [
    "image = train_ds.get_image(0)\n",
    "aspect = image.shape[2] / image.shape[1]\n",
    "image_shape = image.shape\n",
    "resize_shape = [args.input_size, int(args.input_size * aspect)]\n",
    "input_shape = [\n",
    "    int(args.input_size * args.crop_ratio), \n",
    "    int(args.input_size * args.crop_ratio * aspect)\n",
    "]\n",
    "print(input_shape, resize_shape)"
   ]
  },
  {
   "cell_type": "code",
   "execution_count": 180,
   "metadata": {},
   "outputs": [],
   "source": [
    "transforms = create_image_transforms(\n",
    "  resize_shape=resize_shape,\n",
    "  input_shape=input_shape,\n",
    "  transform_grayscale=args.transform_grayscale,\n",
    "  transform_random_crop=args.transform_random_crop,\n",
    "  transform_flip=args.transform_flip,\n",
    "  transform_rotate=args.transform_rotate,\n",
    "  transform_rotate_degrees=args.transform_rotate_degrees,\n",
    "  transform_color_jitter=args.transform_color_jitter,\n",
    "  transform_color_jitter_brightness=args.transform_color_jitter_brightness,\n",
    "  transform_color_jitter_contrast=args.transform_color_jitter_contrast,\n",
    "  transform_color_jitter_saturation=args.transform_color_jitter_saturation,\n",
    "  transform_color_jitter_hue=args.transform_color_jitter_hue,\n",
    "  transform_normalize=args.transform_normalize,\n",
    "  channel_mean=img_mean,\n",
    "  channel_stdev=img_std,\n",
    "  transform_perspective=args.transform_perspective,\n",
    "  transform_perspective_distortion=args.transform_perspective_distortion,\n",
    "  transform_auto_contrast=args.transform_auto_contrast,\n",
    "  transform_equalize=args.transform_equalize,\n",
    "  transform_gamma=args.transform_gamma,\n",
    "  transform_gamma_min=args.transform_gamma_min,\n",
    "  transform_gamma_max=args.transform_gamma_max,\n",
    "  transform_gaussian_blur=args.transform_gaussian_blur,\n",
    "  transform_blur_kernel=args.transform_blur_kernel,\n",
    ")"
   ]
  },
  {
   "cell_type": "code",
   "execution_count": 182,
   "metadata": {},
   "outputs": [],
   "source": [
    "train_ds.transform = transforms[\"train\"]\n",
    "val_ds = FlowPhotoDataset(\n",
    "    val_images_df,\n",
    "    args.images_dir,\n",
    "    transform=transforms[\"eval\"]\n",
    ")"
   ]
  },
  {
   "cell_type": "code",
   "execution_count": 183,
   "metadata": {},
   "outputs": [],
   "source": [
    "train_dl = DataLoader(\n",
    "    train_ds,\n",
    "    batch_size=args.batch_size,\n",
    "    shuffle=True,\n",
    "    num_workers=args.num_workers,\n",
    "    pin_memory=True,\n",
    ")\n",
    "eval_batch_size = args.eval_batch_size or args.batch_size\n",
    "val_dl = DataLoader(\n",
    "    val_ds,\n",
    "    batch_size=eval_batch_size,\n",
    "    shuffle=False,\n",
    "    num_workers=args.num_workers\n",
    ")"
   ]
  },
  {
   "cell_type": "code",
   "execution_count": 184,
   "metadata": {},
   "outputs": [
    {
     "name": "stdout",
     "output_type": "stream",
     "text": [
      "cuda\n"
     ]
    }
   ],
   "source": [
    "device = torch.device(\"cuda\" if torch.cuda.is_available() else \"cpu\")\n",
    "print(device)"
   ]
  },
  {
   "cell_type": "code",
   "execution_count": 185,
   "metadata": {},
   "outputs": [],
   "source": [
    "def fit(model, criterion, optimizer, train_dl, device, epoch_num=None, verbose=False):\n",
    "    \"\"\"Train model for one epoch.\n",
    "\n",
    "    Args:\n",
    "        model (torch.nn.Module): network to train\n",
    "        criterion (torch.nn.Module): loss function(s) used to train network weights\n",
    "        optimizer (torch.optim.Optimizer): algorithm used to optimize network weights\n",
    "        train_dl (torch.utils.DataLoader): data loader for training set\n",
    "    Returns:\n",
    "        batch_loss_logger.avg (float): average criterion loss per batch during training\n",
    "    \"\"\"\n",
    "    model.train()  # ensure model is in train mode\n",
    "    # train_dl.dataset.train()  # ensure train transforms are applied\n",
    "    batch_loss_logger = MetricLogger()\n",
    "    batch_time_logger = MetricLogger()\n",
    "\n",
    "    for bidx, batch in tqdm(enumerate(train_dl), total=len(train_dl)):\n",
    "        batch_starttime = time.time()\n",
    "\n",
    "        inputs, labels = batch\n",
    "        if next(model.parameters()).is_cuda:\n",
    "            inputs = inputs.float().to(device)\n",
    "            labels = labels.float().to(device)\n",
    "        optimizer.zero_grad()\n",
    "        outputs = model(inputs)\n",
    "        loss = criterion(outputs, labels)\n",
    "        batch_loss_logger.update(loss.item())\n",
    "        loss.backward()\n",
    "        optimizer.step()\n",
    "\n",
    "        batch_endtime = time.time()\n",
    "        batch_time_logger.update(batch_endtime - batch_starttime)\n",
    "    return batch_loss_logger.avg\n",
    "\n",
    "def validate(model, criterions, dl, device):\n",
    "    model.eval()\n",
    "    criterion_loggers = [MetricLogger() for i in range(len(criterions))]\n",
    "    with torch.no_grad():  # ensure no gradients are computed\n",
    "        for bidx, batch in tqdm(enumerate(dl), total=len(dl)):\n",
    "            model_outputs = {}\n",
    "            for i, c in enumerate(criterions):\n",
    "                # inputs ->[model]-> outputs ->[criterion]-> value\n",
    "                if \"outputs\" not in model_outputs.keys():\n",
    "                    # store model outputs from forward pass in case another criterion needs the same\n",
    "                    inputs, labels = batch\n",
    "                    if next(model.parameters()).is_cuda:\n",
    "                        inputs = inputs.float().to(device)\n",
    "                        labels = labels.float().to(device)\n",
    "                    outputs = model(inputs)\n",
    "                    model_outputs[\"outputs\"] = outputs\n",
    "                else:\n",
    "                    # load previously computed model outputs from forward pass\n",
    "                    outputs = model_outputs[\"outputs\"]\n",
    "                cval = c(outputs, labels)\n",
    "                criterion_loggers[i].update(cval.item())\n",
    "    return [cl.avg for cl in criterion_loggers]\n",
    "\n",
    "from train import save_checkpoint"
   ]
  },
  {
   "cell_type": "code",
   "execution_count": 186,
   "metadata": {},
   "outputs": [
    {
     "name": "stdout",
     "output_type": "stream",
     "text": [
      "{'total_parameters': 11324353, 'trainable_parameters': 147841, 'frozen_parameters': 11176512, 'resnet_size': 'Sequential', 'fc_layers': [256, 64, 1], 'input_shape': (3, 384, 512)}\n"
     ]
    }
   ],
   "source": [
    "# set up model\n",
    "model = ResNetRegressionNet(\n",
    "    input_shape=(3, input_shape[0], input_shape[1]),\n",
    "    transforms=transforms,\n",
    "    resnet_size=args.resnet_size,\n",
    "    truncate=args.truncate,\n",
    "    dropout_rate=args.dropout_rate,\n",
    "    use_batch_norm=args.use_batch_norm\n",
    ")\n",
    "\n",
    "# Freeze resnet backbone initially\n",
    "for p in list(model.children())[0].parameters():\n",
    "    p.requires_grad = False\n",
    "\n",
    "model = nn.DataParallel(model, device_ids=[args.gpu])\n",
    "model = model.to(device)\n",
    "print(model.module.get_model_summary())\n",
    "\n",
    "optimizer = SGD(model.parameters(), lr=args.lr, momentum=args.momentum)\n",
    "criterion = MSELoss()\n",
    "scheduler = ReduceLROnPlateau(\n",
    "    optimizer, \"min\", \n",
    "    patience=args.scheduler_patience, \n",
    "    factor=args.scheduler_factor\n",
    ")"
   ]
  },
  {
   "cell_type": "code",
   "execution_count": 187,
   "metadata": {},
   "outputs": [
    {
     "name": "stdout",
     "output_type": "stream",
     "text": [
      "Epoch 1/30\n"
     ]
    },
    {
     "name": "stderr",
     "output_type": "stream",
     "text": [
      "  0%|          | 0/16 [00:03<?, ?it/s]\n"
     ]
    },
    {
     "ename": "OutOfMemoryError",
     "evalue": "CUDA out of memory. Tried to allocate 768.00 MiB. GPU 0 has a total capacity of 15.69 GiB of which 131.75 MiB is free. Including non-PyTorch memory, this process has 15.54 GiB memory in use. Of the allocated memory 14.37 GiB is allocated by PyTorch, and 904.06 MiB is reserved by PyTorch but unallocated. If reserved but unallocated memory is large try setting PYTORCH_CUDA_ALLOC_CONF=expandable_segments:True to avoid fragmentation.  See documentation for Memory Management  (https://pytorch.org/docs/stable/notes/cuda.html#environment-variables)",
     "output_type": "error",
     "traceback": [
      "\u001b[0;31m---------------------------------------------------------------------------\u001b[0m",
      "\u001b[0;31mOutOfMemoryError\u001b[0m                          Traceback (most recent call last)",
      "Cell \u001b[0;32mIn[187], line 15\u001b[0m\n\u001b[1;32m     13\u001b[0m \u001b[38;5;66;03m# Train\u001b[39;00m\n\u001b[1;32m     14\u001b[0m start_time \u001b[38;5;241m=\u001b[39m time\u001b[38;5;241m.\u001b[39mtime()\n\u001b[0;32m---> 15\u001b[0m train_loss \u001b[38;5;241m=\u001b[39m \u001b[43mfit\u001b[49m\u001b[43m(\u001b[49m\u001b[43mmodel\u001b[49m\u001b[43m,\u001b[49m\u001b[43m \u001b[49m\u001b[43mcriterion\u001b[49m\u001b[43m,\u001b[49m\u001b[43m \u001b[49m\u001b[43moptimizer\u001b[49m\u001b[43m,\u001b[49m\u001b[43m \u001b[49m\u001b[43mtrain_dl\u001b[49m\u001b[43m,\u001b[49m\u001b[43m \u001b[49m\u001b[43mdevice\u001b[49m\u001b[43m,\u001b[49m\u001b[43m \u001b[49m\u001b[43mepoch\u001b[49m\u001b[43m)\u001b[49m\n\u001b[1;32m     16\u001b[0m train_time \u001b[38;5;241m=\u001b[39m time\u001b[38;5;241m.\u001b[39mtime() \u001b[38;5;241m-\u001b[39m start_time\n\u001b[1;32m     17\u001b[0m \u001b[38;5;28mprint\u001b[39m(\u001b[38;5;124mf\u001b[39m\u001b[38;5;124m\"\u001b[39m\u001b[38;5;124mTraining - Loss: \u001b[39m\u001b[38;5;132;01m{\u001b[39;00mtrain_loss\u001b[38;5;132;01m:\u001b[39;00m\u001b[38;5;124m.4f\u001b[39m\u001b[38;5;132;01m}\u001b[39;00m\u001b[38;5;124m (\u001b[39m\u001b[38;5;132;01m{\u001b[39;00mtrain_time\u001b[38;5;132;01m:\u001b[39;00m\u001b[38;5;124m.1f\u001b[39m\u001b[38;5;132;01m}\u001b[39;00m\u001b[38;5;124m s)\u001b[39m\u001b[38;5;124m\"\u001b[39m)\n",
      "Cell \u001b[0;32mIn[185], line 25\u001b[0m, in \u001b[0;36mfit\u001b[0;34m(model, criterion, optimizer, train_dl, device, epoch_num, verbose)\u001b[0m\n\u001b[1;32m     23\u001b[0m     labels \u001b[38;5;241m=\u001b[39m labels\u001b[38;5;241m.\u001b[39mfloat()\u001b[38;5;241m.\u001b[39mto(device)\n\u001b[1;32m     24\u001b[0m optimizer\u001b[38;5;241m.\u001b[39mzero_grad()\n\u001b[0;32m---> 25\u001b[0m outputs \u001b[38;5;241m=\u001b[39m \u001b[43mmodel\u001b[49m\u001b[43m(\u001b[49m\u001b[43minputs\u001b[49m\u001b[43m)\u001b[49m\n\u001b[1;32m     26\u001b[0m loss \u001b[38;5;241m=\u001b[39m criterion(outputs, labels)\n\u001b[1;32m     27\u001b[0m batch_loss_logger\u001b[38;5;241m.\u001b[39mupdate(loss\u001b[38;5;241m.\u001b[39mitem())\n",
      "File \u001b[0;32m~/miniconda3/envs/fpe-rank/lib/python3.11/site-packages/torch/nn/modules/module.py:1553\u001b[0m, in \u001b[0;36mModule._wrapped_call_impl\u001b[0;34m(self, *args, **kwargs)\u001b[0m\n\u001b[1;32m   1551\u001b[0m     \u001b[38;5;28;01mreturn\u001b[39;00m \u001b[38;5;28mself\u001b[39m\u001b[38;5;241m.\u001b[39m_compiled_call_impl(\u001b[38;5;241m*\u001b[39margs, \u001b[38;5;241m*\u001b[39m\u001b[38;5;241m*\u001b[39mkwargs)  \u001b[38;5;66;03m# type: ignore[misc]\u001b[39;00m\n\u001b[1;32m   1552\u001b[0m \u001b[38;5;28;01melse\u001b[39;00m:\n\u001b[0;32m-> 1553\u001b[0m     \u001b[38;5;28;01mreturn\u001b[39;00m \u001b[38;5;28;43mself\u001b[39;49m\u001b[38;5;241;43m.\u001b[39;49m\u001b[43m_call_impl\u001b[49m\u001b[43m(\u001b[49m\u001b[38;5;241;43m*\u001b[39;49m\u001b[43margs\u001b[49m\u001b[43m,\u001b[49m\u001b[43m \u001b[49m\u001b[38;5;241;43m*\u001b[39;49m\u001b[38;5;241;43m*\u001b[39;49m\u001b[43mkwargs\u001b[49m\u001b[43m)\u001b[49m\n",
      "File \u001b[0;32m~/miniconda3/envs/fpe-rank/lib/python3.11/site-packages/torch/nn/modules/module.py:1562\u001b[0m, in \u001b[0;36mModule._call_impl\u001b[0;34m(self, *args, **kwargs)\u001b[0m\n\u001b[1;32m   1557\u001b[0m \u001b[38;5;66;03m# If we don't have any hooks, we want to skip the rest of the logic in\u001b[39;00m\n\u001b[1;32m   1558\u001b[0m \u001b[38;5;66;03m# this function, and just call forward.\u001b[39;00m\n\u001b[1;32m   1559\u001b[0m \u001b[38;5;28;01mif\u001b[39;00m \u001b[38;5;129;01mnot\u001b[39;00m (\u001b[38;5;28mself\u001b[39m\u001b[38;5;241m.\u001b[39m_backward_hooks \u001b[38;5;129;01mor\u001b[39;00m \u001b[38;5;28mself\u001b[39m\u001b[38;5;241m.\u001b[39m_backward_pre_hooks \u001b[38;5;129;01mor\u001b[39;00m \u001b[38;5;28mself\u001b[39m\u001b[38;5;241m.\u001b[39m_forward_hooks \u001b[38;5;129;01mor\u001b[39;00m \u001b[38;5;28mself\u001b[39m\u001b[38;5;241m.\u001b[39m_forward_pre_hooks\n\u001b[1;32m   1560\u001b[0m         \u001b[38;5;129;01mor\u001b[39;00m _global_backward_pre_hooks \u001b[38;5;129;01mor\u001b[39;00m _global_backward_hooks\n\u001b[1;32m   1561\u001b[0m         \u001b[38;5;129;01mor\u001b[39;00m _global_forward_hooks \u001b[38;5;129;01mor\u001b[39;00m _global_forward_pre_hooks):\n\u001b[0;32m-> 1562\u001b[0m     \u001b[38;5;28;01mreturn\u001b[39;00m \u001b[43mforward_call\u001b[49m\u001b[43m(\u001b[49m\u001b[38;5;241;43m*\u001b[39;49m\u001b[43margs\u001b[49m\u001b[43m,\u001b[49m\u001b[43m \u001b[49m\u001b[38;5;241;43m*\u001b[39;49m\u001b[38;5;241;43m*\u001b[39;49m\u001b[43mkwargs\u001b[49m\u001b[43m)\u001b[49m\n\u001b[1;32m   1564\u001b[0m \u001b[38;5;28;01mtry\u001b[39;00m:\n\u001b[1;32m   1565\u001b[0m     result \u001b[38;5;241m=\u001b[39m \u001b[38;5;28;01mNone\u001b[39;00m\n",
      "File \u001b[0;32m~/miniconda3/envs/fpe-rank/lib/python3.11/site-packages/torch/nn/parallel/data_parallel.py:184\u001b[0m, in \u001b[0;36mDataParallel.forward\u001b[0;34m(self, *inputs, **kwargs)\u001b[0m\n\u001b[1;32m    181\u001b[0m     module_kwargs \u001b[38;5;241m=\u001b[39m ({},)\n\u001b[1;32m    183\u001b[0m \u001b[38;5;28;01mif\u001b[39;00m \u001b[38;5;28mlen\u001b[39m(\u001b[38;5;28mself\u001b[39m\u001b[38;5;241m.\u001b[39mdevice_ids) \u001b[38;5;241m==\u001b[39m \u001b[38;5;241m1\u001b[39m:\n\u001b[0;32m--> 184\u001b[0m     \u001b[38;5;28;01mreturn\u001b[39;00m \u001b[38;5;28;43mself\u001b[39;49m\u001b[38;5;241;43m.\u001b[39;49m\u001b[43mmodule\u001b[49m\u001b[43m(\u001b[49m\u001b[38;5;241;43m*\u001b[39;49m\u001b[43minputs\u001b[49m\u001b[43m[\u001b[49m\u001b[38;5;241;43m0\u001b[39;49m\u001b[43m]\u001b[49m\u001b[43m,\u001b[49m\u001b[43m \u001b[49m\u001b[38;5;241;43m*\u001b[39;49m\u001b[38;5;241;43m*\u001b[39;49m\u001b[43mmodule_kwargs\u001b[49m\u001b[43m[\u001b[49m\u001b[38;5;241;43m0\u001b[39;49m\u001b[43m]\u001b[49m\u001b[43m)\u001b[49m\n\u001b[1;32m    185\u001b[0m replicas \u001b[38;5;241m=\u001b[39m \u001b[38;5;28mself\u001b[39m\u001b[38;5;241m.\u001b[39mreplicate(\u001b[38;5;28mself\u001b[39m\u001b[38;5;241m.\u001b[39mmodule, \u001b[38;5;28mself\u001b[39m\u001b[38;5;241m.\u001b[39mdevice_ids[:\u001b[38;5;28mlen\u001b[39m(inputs)])\n\u001b[1;32m    186\u001b[0m outputs \u001b[38;5;241m=\u001b[39m \u001b[38;5;28mself\u001b[39m\u001b[38;5;241m.\u001b[39mparallel_apply(replicas, inputs, module_kwargs)\n",
      "File \u001b[0;32m~/miniconda3/envs/fpe-rank/lib/python3.11/site-packages/torch/nn/modules/module.py:1553\u001b[0m, in \u001b[0;36mModule._wrapped_call_impl\u001b[0;34m(self, *args, **kwargs)\u001b[0m\n\u001b[1;32m   1551\u001b[0m     \u001b[38;5;28;01mreturn\u001b[39;00m \u001b[38;5;28mself\u001b[39m\u001b[38;5;241m.\u001b[39m_compiled_call_impl(\u001b[38;5;241m*\u001b[39margs, \u001b[38;5;241m*\u001b[39m\u001b[38;5;241m*\u001b[39mkwargs)  \u001b[38;5;66;03m# type: ignore[misc]\u001b[39;00m\n\u001b[1;32m   1552\u001b[0m \u001b[38;5;28;01melse\u001b[39;00m:\n\u001b[0;32m-> 1553\u001b[0m     \u001b[38;5;28;01mreturn\u001b[39;00m \u001b[38;5;28;43mself\u001b[39;49m\u001b[38;5;241;43m.\u001b[39;49m\u001b[43m_call_impl\u001b[49m\u001b[43m(\u001b[49m\u001b[38;5;241;43m*\u001b[39;49m\u001b[43margs\u001b[49m\u001b[43m,\u001b[49m\u001b[43m \u001b[49m\u001b[38;5;241;43m*\u001b[39;49m\u001b[38;5;241;43m*\u001b[39;49m\u001b[43mkwargs\u001b[49m\u001b[43m)\u001b[49m\n",
      "File \u001b[0;32m~/miniconda3/envs/fpe-rank/lib/python3.11/site-packages/torch/nn/modules/module.py:1562\u001b[0m, in \u001b[0;36mModule._call_impl\u001b[0;34m(self, *args, **kwargs)\u001b[0m\n\u001b[1;32m   1557\u001b[0m \u001b[38;5;66;03m# If we don't have any hooks, we want to skip the rest of the logic in\u001b[39;00m\n\u001b[1;32m   1558\u001b[0m \u001b[38;5;66;03m# this function, and just call forward.\u001b[39;00m\n\u001b[1;32m   1559\u001b[0m \u001b[38;5;28;01mif\u001b[39;00m \u001b[38;5;129;01mnot\u001b[39;00m (\u001b[38;5;28mself\u001b[39m\u001b[38;5;241m.\u001b[39m_backward_hooks \u001b[38;5;129;01mor\u001b[39;00m \u001b[38;5;28mself\u001b[39m\u001b[38;5;241m.\u001b[39m_backward_pre_hooks \u001b[38;5;129;01mor\u001b[39;00m \u001b[38;5;28mself\u001b[39m\u001b[38;5;241m.\u001b[39m_forward_hooks \u001b[38;5;129;01mor\u001b[39;00m \u001b[38;5;28mself\u001b[39m\u001b[38;5;241m.\u001b[39m_forward_pre_hooks\n\u001b[1;32m   1560\u001b[0m         \u001b[38;5;129;01mor\u001b[39;00m _global_backward_pre_hooks \u001b[38;5;129;01mor\u001b[39;00m _global_backward_hooks\n\u001b[1;32m   1561\u001b[0m         \u001b[38;5;129;01mor\u001b[39;00m _global_forward_hooks \u001b[38;5;129;01mor\u001b[39;00m _global_forward_pre_hooks):\n\u001b[0;32m-> 1562\u001b[0m     \u001b[38;5;28;01mreturn\u001b[39;00m \u001b[43mforward_call\u001b[49m\u001b[43m(\u001b[49m\u001b[38;5;241;43m*\u001b[39;49m\u001b[43margs\u001b[49m\u001b[43m,\u001b[49m\u001b[43m \u001b[49m\u001b[38;5;241;43m*\u001b[39;49m\u001b[38;5;241;43m*\u001b[39;49m\u001b[43mkwargs\u001b[49m\u001b[43m)\u001b[49m\n\u001b[1;32m   1564\u001b[0m \u001b[38;5;28;01mtry\u001b[39;00m:\n\u001b[1;32m   1565\u001b[0m     result \u001b[38;5;241m=\u001b[39m \u001b[38;5;28;01mNone\u001b[39;00m\n",
      "File \u001b[0;32m~/git/fpe-model/src/modules.py:152\u001b[0m, in \u001b[0;36mResNetRegressionNet.forward\u001b[0;34m(self, x)\u001b[0m\n\u001b[1;32m    143\u001b[0m \u001b[38;5;28;01mdef\u001b[39;00m \u001b[38;5;21mforward\u001b[39m(\u001b[38;5;28mself\u001b[39m, x):\n\u001b[1;32m    144\u001b[0m \u001b[38;5;250m    \u001b[39m\u001b[38;5;124;03m\"\"\"Forward pass through the network.\u001b[39;00m\n\u001b[1;32m    145\u001b[0m \u001b[38;5;124;03m    \u001b[39;00m\n\u001b[1;32m    146\u001b[0m \u001b[38;5;124;03m    Args:\u001b[39;00m\n\u001b[0;32m   (...)\u001b[0m\n\u001b[1;32m    150\u001b[0m \u001b[38;5;124;03m        torch.Tensor: Predicted scalar value for each input in the batch\u001b[39;00m\n\u001b[1;32m    151\u001b[0m \u001b[38;5;124;03m    \"\"\"\u001b[39;00m\n\u001b[0;32m--> 152\u001b[0m     x \u001b[38;5;241m=\u001b[39m \u001b[38;5;28;43mself\u001b[39;49m\u001b[38;5;241;43m.\u001b[39;49m\u001b[43mresnetbody\u001b[49m\u001b[43m(\u001b[49m\u001b[43mx\u001b[49m\u001b[43m)\u001b[49m\n\u001b[1;32m    153\u001b[0m     x \u001b[38;5;241m=\u001b[39m \u001b[38;5;28mself\u001b[39m\u001b[38;5;241m.\u001b[39mavgpool(x)\n\u001b[1;32m    154\u001b[0m     x \u001b[38;5;241m=\u001b[39m x\u001b[38;5;241m.\u001b[39mview(x\u001b[38;5;241m.\u001b[39msize(\u001b[38;5;241m0\u001b[39m), \u001b[38;5;241m-\u001b[39m\u001b[38;5;241m1\u001b[39m)\n",
      "File \u001b[0;32m~/miniconda3/envs/fpe-rank/lib/python3.11/site-packages/torch/nn/modules/module.py:1553\u001b[0m, in \u001b[0;36mModule._wrapped_call_impl\u001b[0;34m(self, *args, **kwargs)\u001b[0m\n\u001b[1;32m   1551\u001b[0m     \u001b[38;5;28;01mreturn\u001b[39;00m \u001b[38;5;28mself\u001b[39m\u001b[38;5;241m.\u001b[39m_compiled_call_impl(\u001b[38;5;241m*\u001b[39margs, \u001b[38;5;241m*\u001b[39m\u001b[38;5;241m*\u001b[39mkwargs)  \u001b[38;5;66;03m# type: ignore[misc]\u001b[39;00m\n\u001b[1;32m   1552\u001b[0m \u001b[38;5;28;01melse\u001b[39;00m:\n\u001b[0;32m-> 1553\u001b[0m     \u001b[38;5;28;01mreturn\u001b[39;00m \u001b[38;5;28;43mself\u001b[39;49m\u001b[38;5;241;43m.\u001b[39;49m\u001b[43m_call_impl\u001b[49m\u001b[43m(\u001b[49m\u001b[38;5;241;43m*\u001b[39;49m\u001b[43margs\u001b[49m\u001b[43m,\u001b[49m\u001b[43m \u001b[49m\u001b[38;5;241;43m*\u001b[39;49m\u001b[38;5;241;43m*\u001b[39;49m\u001b[43mkwargs\u001b[49m\u001b[43m)\u001b[49m\n",
      "File \u001b[0;32m~/miniconda3/envs/fpe-rank/lib/python3.11/site-packages/torch/nn/modules/module.py:1562\u001b[0m, in \u001b[0;36mModule._call_impl\u001b[0;34m(self, *args, **kwargs)\u001b[0m\n\u001b[1;32m   1557\u001b[0m \u001b[38;5;66;03m# If we don't have any hooks, we want to skip the rest of the logic in\u001b[39;00m\n\u001b[1;32m   1558\u001b[0m \u001b[38;5;66;03m# this function, and just call forward.\u001b[39;00m\n\u001b[1;32m   1559\u001b[0m \u001b[38;5;28;01mif\u001b[39;00m \u001b[38;5;129;01mnot\u001b[39;00m (\u001b[38;5;28mself\u001b[39m\u001b[38;5;241m.\u001b[39m_backward_hooks \u001b[38;5;129;01mor\u001b[39;00m \u001b[38;5;28mself\u001b[39m\u001b[38;5;241m.\u001b[39m_backward_pre_hooks \u001b[38;5;129;01mor\u001b[39;00m \u001b[38;5;28mself\u001b[39m\u001b[38;5;241m.\u001b[39m_forward_hooks \u001b[38;5;129;01mor\u001b[39;00m \u001b[38;5;28mself\u001b[39m\u001b[38;5;241m.\u001b[39m_forward_pre_hooks\n\u001b[1;32m   1560\u001b[0m         \u001b[38;5;129;01mor\u001b[39;00m _global_backward_pre_hooks \u001b[38;5;129;01mor\u001b[39;00m _global_backward_hooks\n\u001b[1;32m   1561\u001b[0m         \u001b[38;5;129;01mor\u001b[39;00m _global_forward_hooks \u001b[38;5;129;01mor\u001b[39;00m _global_forward_pre_hooks):\n\u001b[0;32m-> 1562\u001b[0m     \u001b[38;5;28;01mreturn\u001b[39;00m \u001b[43mforward_call\u001b[49m\u001b[43m(\u001b[49m\u001b[38;5;241;43m*\u001b[39;49m\u001b[43margs\u001b[49m\u001b[43m,\u001b[49m\u001b[43m \u001b[49m\u001b[38;5;241;43m*\u001b[39;49m\u001b[38;5;241;43m*\u001b[39;49m\u001b[43mkwargs\u001b[49m\u001b[43m)\u001b[49m\n\u001b[1;32m   1564\u001b[0m \u001b[38;5;28;01mtry\u001b[39;00m:\n\u001b[1;32m   1565\u001b[0m     result \u001b[38;5;241m=\u001b[39m \u001b[38;5;28;01mNone\u001b[39;00m\n",
      "File \u001b[0;32m~/git/fpe-model/src/modules.py:62\u001b[0m, in \u001b[0;36mResNet.forward\u001b[0;34m(self, x)\u001b[0m\n\u001b[1;32m     60\u001b[0m \u001b[38;5;28;01mdef\u001b[39;00m \u001b[38;5;21mforward\u001b[39m(\u001b[38;5;28mself\u001b[39m, x):\n\u001b[1;32m     61\u001b[0m \u001b[38;5;250m    \u001b[39m\u001b[38;5;124;03m\"\"\"Forward pass through the network.\"\"\"\u001b[39;00m\n\u001b[0;32m---> 62\u001b[0m     \u001b[38;5;28;01mreturn\u001b[39;00m \u001b[38;5;28;43mself\u001b[39;49m\u001b[38;5;241;43m.\u001b[39;49m\u001b[43mmodel\u001b[49m\u001b[43m(\u001b[49m\u001b[43mx\u001b[49m\u001b[43m)\u001b[49m\n",
      "File \u001b[0;32m~/miniconda3/envs/fpe-rank/lib/python3.11/site-packages/torch/nn/modules/module.py:1553\u001b[0m, in \u001b[0;36mModule._wrapped_call_impl\u001b[0;34m(self, *args, **kwargs)\u001b[0m\n\u001b[1;32m   1551\u001b[0m     \u001b[38;5;28;01mreturn\u001b[39;00m \u001b[38;5;28mself\u001b[39m\u001b[38;5;241m.\u001b[39m_compiled_call_impl(\u001b[38;5;241m*\u001b[39margs, \u001b[38;5;241m*\u001b[39m\u001b[38;5;241m*\u001b[39mkwargs)  \u001b[38;5;66;03m# type: ignore[misc]\u001b[39;00m\n\u001b[1;32m   1552\u001b[0m \u001b[38;5;28;01melse\u001b[39;00m:\n\u001b[0;32m-> 1553\u001b[0m     \u001b[38;5;28;01mreturn\u001b[39;00m \u001b[38;5;28;43mself\u001b[39;49m\u001b[38;5;241;43m.\u001b[39;49m\u001b[43m_call_impl\u001b[49m\u001b[43m(\u001b[49m\u001b[38;5;241;43m*\u001b[39;49m\u001b[43margs\u001b[49m\u001b[43m,\u001b[49m\u001b[43m \u001b[49m\u001b[38;5;241;43m*\u001b[39;49m\u001b[38;5;241;43m*\u001b[39;49m\u001b[43mkwargs\u001b[49m\u001b[43m)\u001b[49m\n",
      "File \u001b[0;32m~/miniconda3/envs/fpe-rank/lib/python3.11/site-packages/torch/nn/modules/module.py:1562\u001b[0m, in \u001b[0;36mModule._call_impl\u001b[0;34m(self, *args, **kwargs)\u001b[0m\n\u001b[1;32m   1557\u001b[0m \u001b[38;5;66;03m# If we don't have any hooks, we want to skip the rest of the logic in\u001b[39;00m\n\u001b[1;32m   1558\u001b[0m \u001b[38;5;66;03m# this function, and just call forward.\u001b[39;00m\n\u001b[1;32m   1559\u001b[0m \u001b[38;5;28;01mif\u001b[39;00m \u001b[38;5;129;01mnot\u001b[39;00m (\u001b[38;5;28mself\u001b[39m\u001b[38;5;241m.\u001b[39m_backward_hooks \u001b[38;5;129;01mor\u001b[39;00m \u001b[38;5;28mself\u001b[39m\u001b[38;5;241m.\u001b[39m_backward_pre_hooks \u001b[38;5;129;01mor\u001b[39;00m \u001b[38;5;28mself\u001b[39m\u001b[38;5;241m.\u001b[39m_forward_hooks \u001b[38;5;129;01mor\u001b[39;00m \u001b[38;5;28mself\u001b[39m\u001b[38;5;241m.\u001b[39m_forward_pre_hooks\n\u001b[1;32m   1560\u001b[0m         \u001b[38;5;129;01mor\u001b[39;00m _global_backward_pre_hooks \u001b[38;5;129;01mor\u001b[39;00m _global_backward_hooks\n\u001b[1;32m   1561\u001b[0m         \u001b[38;5;129;01mor\u001b[39;00m _global_forward_hooks \u001b[38;5;129;01mor\u001b[39;00m _global_forward_pre_hooks):\n\u001b[0;32m-> 1562\u001b[0m     \u001b[38;5;28;01mreturn\u001b[39;00m \u001b[43mforward_call\u001b[49m\u001b[43m(\u001b[49m\u001b[38;5;241;43m*\u001b[39;49m\u001b[43margs\u001b[49m\u001b[43m,\u001b[49m\u001b[43m \u001b[49m\u001b[38;5;241;43m*\u001b[39;49m\u001b[38;5;241;43m*\u001b[39;49m\u001b[43mkwargs\u001b[49m\u001b[43m)\u001b[49m\n\u001b[1;32m   1564\u001b[0m \u001b[38;5;28;01mtry\u001b[39;00m:\n\u001b[1;32m   1565\u001b[0m     result \u001b[38;5;241m=\u001b[39m \u001b[38;5;28;01mNone\u001b[39;00m\n",
      "File \u001b[0;32m~/miniconda3/envs/fpe-rank/lib/python3.11/site-packages/torch/nn/modules/container.py:219\u001b[0m, in \u001b[0;36mSequential.forward\u001b[0;34m(self, input)\u001b[0m\n\u001b[1;32m    217\u001b[0m \u001b[38;5;28;01mdef\u001b[39;00m \u001b[38;5;21mforward\u001b[39m(\u001b[38;5;28mself\u001b[39m, \u001b[38;5;28minput\u001b[39m):\n\u001b[1;32m    218\u001b[0m     \u001b[38;5;28;01mfor\u001b[39;00m module \u001b[38;5;129;01min\u001b[39;00m \u001b[38;5;28mself\u001b[39m:\n\u001b[0;32m--> 219\u001b[0m         \u001b[38;5;28minput\u001b[39m \u001b[38;5;241m=\u001b[39m \u001b[43mmodule\u001b[49m\u001b[43m(\u001b[49m\u001b[38;5;28;43minput\u001b[39;49m\u001b[43m)\u001b[49m\n\u001b[1;32m    220\u001b[0m     \u001b[38;5;28;01mreturn\u001b[39;00m \u001b[38;5;28minput\u001b[39m\n",
      "File \u001b[0;32m~/miniconda3/envs/fpe-rank/lib/python3.11/site-packages/torch/nn/modules/module.py:1553\u001b[0m, in \u001b[0;36mModule._wrapped_call_impl\u001b[0;34m(self, *args, **kwargs)\u001b[0m\n\u001b[1;32m   1551\u001b[0m     \u001b[38;5;28;01mreturn\u001b[39;00m \u001b[38;5;28mself\u001b[39m\u001b[38;5;241m.\u001b[39m_compiled_call_impl(\u001b[38;5;241m*\u001b[39margs, \u001b[38;5;241m*\u001b[39m\u001b[38;5;241m*\u001b[39mkwargs)  \u001b[38;5;66;03m# type: ignore[misc]\u001b[39;00m\n\u001b[1;32m   1552\u001b[0m \u001b[38;5;28;01melse\u001b[39;00m:\n\u001b[0;32m-> 1553\u001b[0m     \u001b[38;5;28;01mreturn\u001b[39;00m \u001b[38;5;28;43mself\u001b[39;49m\u001b[38;5;241;43m.\u001b[39;49m\u001b[43m_call_impl\u001b[49m\u001b[43m(\u001b[49m\u001b[38;5;241;43m*\u001b[39;49m\u001b[43margs\u001b[49m\u001b[43m,\u001b[49m\u001b[43m \u001b[49m\u001b[38;5;241;43m*\u001b[39;49m\u001b[38;5;241;43m*\u001b[39;49m\u001b[43mkwargs\u001b[49m\u001b[43m)\u001b[49m\n",
      "File \u001b[0;32m~/miniconda3/envs/fpe-rank/lib/python3.11/site-packages/torch/nn/modules/module.py:1562\u001b[0m, in \u001b[0;36mModule._call_impl\u001b[0;34m(self, *args, **kwargs)\u001b[0m\n\u001b[1;32m   1557\u001b[0m \u001b[38;5;66;03m# If we don't have any hooks, we want to skip the rest of the logic in\u001b[39;00m\n\u001b[1;32m   1558\u001b[0m \u001b[38;5;66;03m# this function, and just call forward.\u001b[39;00m\n\u001b[1;32m   1559\u001b[0m \u001b[38;5;28;01mif\u001b[39;00m \u001b[38;5;129;01mnot\u001b[39;00m (\u001b[38;5;28mself\u001b[39m\u001b[38;5;241m.\u001b[39m_backward_hooks \u001b[38;5;129;01mor\u001b[39;00m \u001b[38;5;28mself\u001b[39m\u001b[38;5;241m.\u001b[39m_backward_pre_hooks \u001b[38;5;129;01mor\u001b[39;00m \u001b[38;5;28mself\u001b[39m\u001b[38;5;241m.\u001b[39m_forward_hooks \u001b[38;5;129;01mor\u001b[39;00m \u001b[38;5;28mself\u001b[39m\u001b[38;5;241m.\u001b[39m_forward_pre_hooks\n\u001b[1;32m   1560\u001b[0m         \u001b[38;5;129;01mor\u001b[39;00m _global_backward_pre_hooks \u001b[38;5;129;01mor\u001b[39;00m _global_backward_hooks\n\u001b[1;32m   1561\u001b[0m         \u001b[38;5;129;01mor\u001b[39;00m _global_forward_hooks \u001b[38;5;129;01mor\u001b[39;00m _global_forward_pre_hooks):\n\u001b[0;32m-> 1562\u001b[0m     \u001b[38;5;28;01mreturn\u001b[39;00m \u001b[43mforward_call\u001b[49m\u001b[43m(\u001b[49m\u001b[38;5;241;43m*\u001b[39;49m\u001b[43margs\u001b[49m\u001b[43m,\u001b[49m\u001b[43m \u001b[49m\u001b[38;5;241;43m*\u001b[39;49m\u001b[38;5;241;43m*\u001b[39;49m\u001b[43mkwargs\u001b[49m\u001b[43m)\u001b[49m\n\u001b[1;32m   1564\u001b[0m \u001b[38;5;28;01mtry\u001b[39;00m:\n\u001b[1;32m   1565\u001b[0m     result \u001b[38;5;241m=\u001b[39m \u001b[38;5;28;01mNone\u001b[39;00m\n",
      "File \u001b[0;32m~/miniconda3/envs/fpe-rank/lib/python3.11/site-packages/torch/nn/modules/conv.py:458\u001b[0m, in \u001b[0;36mConv2d.forward\u001b[0;34m(self, input)\u001b[0m\n\u001b[1;32m    457\u001b[0m \u001b[38;5;28;01mdef\u001b[39;00m \u001b[38;5;21mforward\u001b[39m(\u001b[38;5;28mself\u001b[39m, \u001b[38;5;28minput\u001b[39m: Tensor) \u001b[38;5;241m-\u001b[39m\u001b[38;5;241m>\u001b[39m Tensor:\n\u001b[0;32m--> 458\u001b[0m     \u001b[38;5;28;01mreturn\u001b[39;00m \u001b[38;5;28;43mself\u001b[39;49m\u001b[38;5;241;43m.\u001b[39;49m\u001b[43m_conv_forward\u001b[49m\u001b[43m(\u001b[49m\u001b[38;5;28;43minput\u001b[39;49m\u001b[43m,\u001b[49m\u001b[43m \u001b[49m\u001b[38;5;28;43mself\u001b[39;49m\u001b[38;5;241;43m.\u001b[39;49m\u001b[43mweight\u001b[49m\u001b[43m,\u001b[49m\u001b[43m \u001b[49m\u001b[38;5;28;43mself\u001b[39;49m\u001b[38;5;241;43m.\u001b[39;49m\u001b[43mbias\u001b[49m\u001b[43m)\u001b[49m\n",
      "File \u001b[0;32m~/miniconda3/envs/fpe-rank/lib/python3.11/site-packages/torch/nn/modules/conv.py:454\u001b[0m, in \u001b[0;36mConv2d._conv_forward\u001b[0;34m(self, input, weight, bias)\u001b[0m\n\u001b[1;32m    450\u001b[0m \u001b[38;5;28;01mif\u001b[39;00m \u001b[38;5;28mself\u001b[39m\u001b[38;5;241m.\u001b[39mpadding_mode \u001b[38;5;241m!=\u001b[39m \u001b[38;5;124m'\u001b[39m\u001b[38;5;124mzeros\u001b[39m\u001b[38;5;124m'\u001b[39m:\n\u001b[1;32m    451\u001b[0m     \u001b[38;5;28;01mreturn\u001b[39;00m F\u001b[38;5;241m.\u001b[39mconv2d(F\u001b[38;5;241m.\u001b[39mpad(\u001b[38;5;28minput\u001b[39m, \u001b[38;5;28mself\u001b[39m\u001b[38;5;241m.\u001b[39m_reversed_padding_repeated_twice, mode\u001b[38;5;241m=\u001b[39m\u001b[38;5;28mself\u001b[39m\u001b[38;5;241m.\u001b[39mpadding_mode),\n\u001b[1;32m    452\u001b[0m                     weight, bias, \u001b[38;5;28mself\u001b[39m\u001b[38;5;241m.\u001b[39mstride,\n\u001b[1;32m    453\u001b[0m                     _pair(\u001b[38;5;241m0\u001b[39m), \u001b[38;5;28mself\u001b[39m\u001b[38;5;241m.\u001b[39mdilation, \u001b[38;5;28mself\u001b[39m\u001b[38;5;241m.\u001b[39mgroups)\n\u001b[0;32m--> 454\u001b[0m \u001b[38;5;28;01mreturn\u001b[39;00m \u001b[43mF\u001b[49m\u001b[38;5;241;43m.\u001b[39;49m\u001b[43mconv2d\u001b[49m\u001b[43m(\u001b[49m\u001b[38;5;28;43minput\u001b[39;49m\u001b[43m,\u001b[49m\u001b[43m \u001b[49m\u001b[43mweight\u001b[49m\u001b[43m,\u001b[49m\u001b[43m \u001b[49m\u001b[43mbias\u001b[49m\u001b[43m,\u001b[49m\u001b[43m \u001b[49m\u001b[38;5;28;43mself\u001b[39;49m\u001b[38;5;241;43m.\u001b[39;49m\u001b[43mstride\u001b[49m\u001b[43m,\u001b[49m\n\u001b[1;32m    455\u001b[0m \u001b[43m                \u001b[49m\u001b[38;5;28;43mself\u001b[39;49m\u001b[38;5;241;43m.\u001b[39;49m\u001b[43mpadding\u001b[49m\u001b[43m,\u001b[49m\u001b[43m \u001b[49m\u001b[38;5;28;43mself\u001b[39;49m\u001b[38;5;241;43m.\u001b[39;49m\u001b[43mdilation\u001b[49m\u001b[43m,\u001b[49m\u001b[43m \u001b[49m\u001b[38;5;28;43mself\u001b[39;49m\u001b[38;5;241;43m.\u001b[39;49m\u001b[43mgroups\u001b[49m\u001b[43m)\u001b[49m\n",
      "\u001b[0;31mOutOfMemoryError\u001b[0m: CUDA out of memory. Tried to allocate 768.00 MiB. GPU 0 has a total capacity of 15.69 GiB of which 131.75 MiB is free. Including non-PyTorch memory, this process has 15.54 GiB memory in use. Of the allocated memory 14.37 GiB is allocated by PyTorch, and 904.06 MiB is reserved by PyTorch but unallocated. If reserved but unallocated memory is large try setting PYTORCH_CUDA_ALLOC_CONF=expandable_segments:True to avoid fragmentation.  See documentation for Memory Management  (https://pytorch.org/docs/stable/notes/cuda.html#environment-variables)"
     ]
    }
   ],
   "source": [
    "metrics = {\"epoch\": [], \"train_loss\": [], \"val_loss\": []}\n",
    "min_val_loss = float('inf')\n",
    "best_epoch = None\n",
    "total_train_time = 0\n",
    "epoch_times = []\n",
    "patience_counter = 0\n",
    "start_epoch = 0\n",
    "args.epochs = 30\n",
    "for epoch in range(start_epoch, args.epochs):\n",
    "    epoch_start_time = time.time()\n",
    "    print(f\"Epoch {epoch + 1}/{args.epochs}\")\n",
    "\n",
    "    # Train\n",
    "    start_time = time.time()\n",
    "    train_loss = fit(model, criterion, optimizer, train_dl, device, epoch)\n",
    "    train_time = time.time() - start_time\n",
    "    print(f\"Training - Loss: {train_loss:.4f} ({train_time:.1f} s)\")\n",
    "    metrics[\"train_loss\"].append(train_loss)\n",
    "    metrics[\"epoch\"].append(epoch)\n",
    "\n",
    "    # Validate\n",
    "    start_time = time.time()\n",
    "    val_loss = validate(model, [criterion], val_dl, device)[0]\n",
    "    val_time = time.time() - start_time\n",
    "    print(f\"Validation - Loss: {val_loss:.4f} ({val_time:.1f} s)\")\n",
    "    metrics[\"val_loss\"].append(val_loss)\n",
    "\n",
    "    # Timing\n",
    "    epoch_time = time.time() - epoch_start_time\n",
    "    epoch_times.append(epoch_time)\n",
    "    total_train_time += epoch_time\n",
    "\n",
    "    # Learning rate update\n",
    "    old_lr = optimizer.param_groups[0]['lr']\n",
    "    scheduler.step(val_loss)\n",
    "    new_lr = optimizer.param_groups[0]['lr']\n",
    "    if old_lr != new_lr:\n",
    "      print(f\"Learning rate adjusted: {old_lr:.6f} -> {new_lr:.6f}\")\n",
    "\n",
    "    # Save checkpoint\n",
    "    checkpoint_path = Path(checkpoint_dir) / f\"epoch_{epoch:02d}.pth\"\n",
    "    save_checkpoint(\n",
    "        checkpoint_path, epoch, model, optimizer, train_loss,\n",
    "        transforms,\n",
    "        {\n",
    "            \"aspect\": aspect,\n",
    "            \"input_shape\": input_shape,\n",
    "            \"img_sample_mean\": img_mean,\n",
    "            \"img_sample_std\": img_std,\n",
    "            \"args\": args.__dict__\n",
    "        }\n",
    "    )\n",
    "\n",
    "    # Check for improvement\n",
    "    if val_loss < (min_val_loss - args.early_stopping_min_delta):\n",
    "        improvement = min_val_loss - val_loss\n",
    "        if epoch == 0:\n",
    "            print(\"Initial checkpoint - Saving\")\n",
    "        else:\n",
    "            print(f\"Model validation loss improved by {improvement:.4f} - Saving checkpoint as best model\")\n",
    "        best_model_path = Path(model_dir) / \"model.pth\"\n",
    "        shutil.copy(checkpoint_path, best_model_path)\n",
    "        min_val_loss = val_loss\n",
    "        best_epoch = epoch\n",
    "        patience_counter = 0\n",
    "    else:\n",
    "        patience_counter += 1\n",
    "        print(f\"No improvement in validation loss for {patience_counter} epochs\")\n",
    "        \n",
    "        if patience_counter >= args.early_stopping_patience:\n",
    "            print(f\"Early stopping triggered - No improvement for {args.early_stopping_patience} epochs\")\n",
    "            break\n",
    "\n",
    "    # Save metrics\n",
    "    pd.DataFrame(metrics).to_csv(Path(output_dir) / \"metrics.csv\", index=False)\n",
    "\n",
    "    # Backbone unfreezing\n",
    "    if (epoch + 1) == args.unfreeze_after:\n",
    "        print(f\"Unfreezing CNN backbone at epoch {epoch + 1}\")\n",
    "        for p in list(model.children())[0].parameters():\n",
    "            p.requires_grad = True\n",
    "\n",
    "    # Checkpoint management based on save frequency and keep limit\n",
    "    if epoch % args.save_frequency == 0:\n",
    "        checkpoint_path = Path(checkpoint_dir) / f\"epoch_{epoch:02d}.pth\"\n",
    "        save_checkpoint(\n",
    "            checkpoint_path, epoch, model, optimizer, train_loss,\n",
    "            transforms,\n",
    "            {\n",
    "                \"aspect\": aspect,\n",
    "                \"input_shape\": input_shape,\n",
    "                \"img_sample_mean\": img_mean,\n",
    "                \"img_sample_std\": img_std,\n",
    "                \"args\": args.__dict__\n",
    "            }\n",
    "        )\n",
    "\n",
    "        # Remove old checkpoints if needed\n",
    "        if args.keep_n_checkpoints > 0:\n",
    "            checkpoints = sorted(Path(checkpoint_dir).glob(\"epoch_*.pth\"))\n",
    "            if len(checkpoints) > args.keep_n_checkpoints:\n",
    "                for checkpoint in checkpoints[:-args.keep_n_checkpoints]:\n",
    "                    checkpoint.unlink()\n",
    "\n",
    "    # Update completion message\n",
    "    final_epoch = epoch + 1\n",
    "    if patience_counter >= args.early_stopping_patience:\n",
    "        print(f\"Training stopped early at epoch {final_epoch}/{args.epochs}\")\n",
    "    else:\n",
    "        print(f\"Training completed all {args.epochs} epochs\")\n",
    "\n",
    "    print(f\"Total training time: {total_train_time:.1f} s\")\n",
    "    print(f\"Average epoch time: {sum(epoch_times) / len(epoch_times):.1f} s\")\n",
    "metrics\n"
   ]
  },
  {
   "cell_type": "code",
   "execution_count": 152,
   "metadata": {},
   "outputs": [
    {
     "data": {
      "image/png": "[encoded data removed]",
      "text/plain": [
       "<Figure size 640x480 with 1 Axes>"
      ]
     },
     "metadata": {},
     "output_type": "display_data"
    }
   ],
   "source": [
    "# plot train/val loss\n",
    "plt.plot(metrics['epoch'], metrics['train_loss'], label='Train loss')\n",
    "plt.plot(metrics['epoch'], metrics['val_loss'], label='Validation loss')\n",
    "plt.legend()\n",
    "plt.show()"
   ]
  },
  {
   "cell_type": "code",
   "execution_count": 150,
   "metadata": {},
   "outputs": [],
   "source": [
    "def predict_batch(\n",
    "    model: nn.Module,\n",
    "    dataset: FlowPhotoDataset,\n",
    "    device: torch.device\n",
    ") -> np.ndarray:\n",
    "    \"\"\"Generate predictions for a dataset.\n",
    "    \n",
    "    Args:\n",
    "        model: Loaded model\n",
    "        dataset: Dataset to predict\n",
    "        device: Target device\n",
    "        \n",
    "    Returns:\n",
    "        Array of predictions\n",
    "    \"\"\"\n",
    "    predictions = []\n",
    "    \n",
    "    with torch.no_grad():\n",
    "        for image, _ in tqdm(dataset, desc=\"Generating predictions\"):\n",
    "            # Move image to device and get prediction\n",
    "            image = image.to(device)\n",
    "            transformed = model.module.transforms['eval'](image)\n",
    "            output = model.module.forward(transformed.unsqueeze(0))\n",
    "            score = output.detach().cpu().numpy().item()\n",
    "            predictions.append(score)\n",
    "            \n",
    "    return np.array(predictions)\n"
   ]
  },
  {
   "cell_type": "code",
   "execution_count": 151,
   "metadata": {},
   "outputs": [
    {
     "name": "stderr",
     "output_type": "stream",
     "text": [
      "Generating predictions:   0%|          | 0/16518 [00:00<?, ?it/s]"
     ]
    },
    {
     "name": "stderr",
     "output_type": "stream",
     "text": [
      "Generating predictions: 100%|██████████| 16518/16518 [05:27<00:00, 50.36it/s]\n"
     ]
    }
   ],
   "source": [
    "# load images with split=test-out\n",
    "test_df = images_df[images_df['split'] == 'test-out'].copy()\n",
    "test_ds = FlowPhotoDataset(test_df, args.images_dir)\n",
    "\n",
    "scores = predict_batch(model, test_ds, device)\n",
    "test_df['score'] = scores\n",
    "test_df.to_csv(Path(output_dir) / \"test-images.csv\", index=False)"
   ]
  },
  {
   "cell_type": "code",
   "execution_count": 153,
   "metadata": {},
   "outputs": [
    {
     "name": "stdout",
     "output_type": "stream",
     "text": [
      "Kendall tau: 0.8531, Spearman rho: 0.9670, RMSE: 0.2329\n"
     ]
    }
   ],
   "source": [
    "from scipy import stats\n",
    "tau = stats.kendalltau(scores, test_df['value'])[0]\n",
    "rho = stats.spearmanr(scores, test_df['value'])[0]\n",
    "rmse = np.sqrt(np.mean((scores - test_df['value'])**2))\n",
    "print(f\"Kendall tau: {tau:.4f}, Spearman rho: {rho:.4f}, RMSE: {rmse:.4f}\")"
   ]
  },
  {
   "cell_type": "code",
   "execution_count": 155,
   "metadata": {},
   "outputs": [
    {
     "data": {
      "image/png": "[encoded data removed]",
      "text/plain": [
       "<Figure size 640x480 with 1 Axes>"
      ]
     },
     "metadata": {},
     "output_type": "display_data"
    }
   ],
   "source": [
    "# plot scores vs values\n",
    "plt.scatter(scores, test_df['value'])\n",
    "plt.plot([scores.min(), scores.max()], [scores.min(), scores.max()], color='red')\n",
    "plt.xlabel('Predicted score')\n",
    "plt.ylabel('True value')\n",
    "plt.title('Predicted vs True values')\n",
    "plt.show()\n"
   ]
  },
  {
   "cell_type": "markdown",
   "metadata": {},
   "source": [
    "## Experiment 2: Regression model using auxiliary data."
   ]
  },
  {
   "cell_type": "code",
   "execution_count": null,
   "metadata": {},
   "outputs": [],
   "source": []
  }
 ],
 "metadata": {
  "kernelspec": {
   "display_name": "fpe-rank",
   "language": "python",
   "name": "python3"
  },
  "language_info": {
   "codemirror_mode": {
    "name": "ipython",
    "version": 3
   },
   "file_extension": ".py",
   "mimetype": "text/x-python",
   "name": "python",
   "nbconvert_exporter": "python",
   "pygments_lexer": "ipython3",
   "version": "3.11.6"
  }
 },
 "nbformat": 4,
 "nbformat_minor": 2
}
