{
 "cells": [
  {
   "cell_type": "code",
   "execution_count": 1,
   "metadata": {},
   "outputs": [],
   "source": [
    "import os\n",
    "import requests\n",
    "import tarfile"
   ]
  },
  {
   "cell_type": "code",
   "execution_count": 2,
   "metadata": {},
   "outputs": [],
   "source": [
    "dataset_urls = {\n",
    "    'AVERYBB': 'https://ecosheds.s3.amazonaws.com/fpe/rank-model/sites/AVERYBB-20230803.tar.gz',\n",
    "    # 'FOXRC': 'https://ecosheds.s3.amazonaws.com/fpe/rank-model/sites/FOXRC-20230803.tar.gz',\n",
    "    'GREENR': 'https://ecosheds.s3.amazonaws.com/fpe/rank-model/sites/GREENR-20230803.tar.gz',\n",
    "    # 'LANESV': 'https://ecosheds.s3.amazonaws.com/fpe/rank-model/sites/LANESV-20230803.tar.gz',\n",
    "    # 'VLYB': 'https://ecosheds.s3.amazonaws.com/fpe/rank-model/sites/VLYB-20230804.tar.gz',\n",
    "    'WESTB0': 'https://ecosheds.s3.amazonaws.com/fpe/rank-model/sites/WESTB0-20230803.tar.gz',\n",
    "    # 'WESTKILL': 'https://ecosheds.s3.amazonaws.com/fpe/rank-model/sites/WESTKILL-20230804.tar.gz'\n",
    "}\n"
   ]
  },
  {
   "cell_type": "code",
   "execution_count": 3,
   "metadata": {},
   "outputs": [],
   "source": [
    "def download_dataset(dataset_name, save_dir):\n",
    "    url = dataset_urls[dataset_name]\n",
    "    r = requests.get(url, stream=True)\n",
    "    if r.status_code == 200:\n",
    "        print(f\"Downloading {dataset_name} dataset...\")\n",
    "        target_file = os.path.join(save_dir, url.split('/')[-1])\n",
    "        with open(target_file, 'wb') as f:\n",
    "            f.write(r.raw.read())\n",
    "        print(f\"Done. Saved to {target_file}\")\n",
    "        return target_file\n",
    "    else:\n",
    "        raise Exception(f\"Dataset couldn't be retrieved from URL: \\n\\t{url}\")\n",
    "\n",
    "def extract_tar_gz(tar_file, target_dir):\n",
    "    print(f\"Extracting {tar_file}...\")\n",
    "    with tarfile.open(tar_file, \"r:gz\") as tar:\n",
    "        tar.extractall(target_dir)\n",
    "    print(\"Done.\")"
   ]
  },
  {
   "cell_type": "code",
   "execution_count": 8,
   "metadata": {},
   "outputs": [
    {
     "name": "stdout",
     "output_type": "stream",
     "text": [
      "Downloading GREENR dataset...\n",
      "Done. Saved to ../../../data/Streamflow/GREENR-20230803.tar.gz\n",
      "Extracting ../../../data/Streamflow/GREENR-20230803.tar.gz...\n",
      "Done.\n"
     ]
    }
   ],
   "source": [
    "dataset_tarfile = download_dataset('GREENR', '../../../data/Streamflow/')\n",
    "dataset_target_dir = dataset_tarfile.replace('.tar.gz', '')\n",
    "extract_tar_gz(dataset_tarfile, dataset_target_dir)"
   ]
  },
  {
   "cell_type": "code",
   "execution_count": 17,
   "metadata": {},
   "outputs": [],
   "source": [
    "# import pandas as pd\n",
    "flowimg_df = pd.read_csv(\n",
    "    '../../../data/Streamflow/GREENR-20230803/GREENR/data/flow-images.csv',\n",
    ")\n",
    "annot_df = pd.read_csv(\n",
    "    '../../../data/Streamflow/GREENR-20230803/GREENR/data/annotations.csv'\n",
    ")\n",
    "for _, ann in annot_df.iterrows():\n",
    "    left_url = ann['left.url']\n",
    "    right_url = ann['right.url']\n",
    "    if left_url not in flowimg_df['url'].values:\n",
    "        print(f\"Missing {left_url}\")\n",
    "    if right_url not in flowimg_df['url'].values:\n",
    "        print(f\"Missing {right_url}\")\n",
    "    # break"
   ]
  },
  {
   "cell_type": "code",
   "execution_count": null,
   "metadata": {},
   "outputs": [],
   "source": []
  }
 ],
 "metadata": {
  "kernelspec": {
   "display_name": "streamflow",
   "language": "python",
   "name": "python3"
  },
  "language_info": {
   "codemirror_mode": {
    "name": "ipython",
    "version": 3
   },
   "file_extension": ".py",
   "mimetype": "text/x-python",
   "name": "python",
   "nbconvert_exporter": "python",
   "pygments_lexer": "ipython3",
   "version": "3.9.16"
  },
  "orig_nbformat": 4
 },
 "nbformat": 4,
 "nbformat_minor": 2
}
