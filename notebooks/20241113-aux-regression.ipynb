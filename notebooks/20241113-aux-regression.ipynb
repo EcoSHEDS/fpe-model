{
 "cells": [
  {
   "cell_type": "code",
   "execution_count": 2,
   "metadata": {},
   "outputs": [],
   "source": [
    "import sys\n",
    "import os\n",
    "sys.path.append(os.path.abspath(os.path.join(os.getcwd(), '../src')))"
   ]
  },
  {
   "cell_type": "code",
   "execution_count": 3,
   "metadata": {},
   "outputs": [
    {
     "name": "stderr",
     "output_type": "stream",
     "text": [
      "/home/jeff/miniconda3/envs/fpe-rank/lib/python3.11/site-packages/tqdm/auto.py:21: TqdmWarning: IProgress not found. Please update jupyter and ipywidgets. See https://ipywidgets.readthedocs.io/en/stable/user_install.html\n",
      "  from .autonotebook import tqdm as notebook_tqdm\n"
     ]
    }
   ],
   "source": [
    "import shap\n",
    "import torch\n",
    "import shutil\n",
    "import numpy as np\n",
    "import pandas as pd\n",
    "import torch.nn as nn\n",
    "from torch.utils.data import DataLoader\n",
    "from tqdm import tqdm\n",
    "import matplotlib.pyplot as plt\n",
    "from torch.optim import SGD\n",
    "from torch.optim.lr_scheduler import ReduceLROnPlateau\n",
    "import random\n",
    "\n",
    "from losses import MSELoss\n",
    "from utils import load_pairs_from_csv, MetricLogger\n",
    "from train import create_image_transforms, save_checkpoint\n",
    "from modules import ResNetRegressionNet, ResNetRegressionNetWithAuxiliary\n",
    "from datasets import FlowPhotoDataset, FlowPhotoDatasetWithAuxiliary, FlowPhotoRankingPairsDatasetWithAuxiliary\n",
    "\n",
    "seed = 507"
   ]
  },
  {
   "cell_type": "code",
   "execution_count": 4,
   "metadata": {},
   "outputs": [
    {
     "name": "stdout",
     "output_type": "stream",
     "text": [
      "Using device: cuda\n"
     ]
    }
   ],
   "source": [
    "device = torch.device(\"cuda\" if torch.cuda.is_available() else \"cpu\")\n",
    "print(f\"Using device: {device}\")"
   ]
  },
  {
   "cell_type": "code",
   "execution_count": 5,
   "metadata": {},
   "outputs": [
    {
     "data": {
      "text/html": [
       "<div>\n",
       "<style scoped>\n",
       "    .dataframe tbody tr th:only-of-type {\n",
       "        vertical-align: middle;\n",
       "    }\n",
       "\n",
       "    .dataframe tbody tr th {\n",
       "        vertical-align: top;\n",
       "    }\n",
       "\n",
       "    .dataframe thead th {\n",
       "        text-align: right;\n",
       "    }\n",
       "</style>\n",
       "<table border=\"1\" class=\"dataframe\">\n",
       "  <thead>\n",
       "    <tr style=\"text-align: right;\">\n",
       "      <th></th>\n",
       "      <th>split</th>\n",
       "      <th>pair</th>\n",
       "      <th>image_id_1</th>\n",
       "      <th>timestamp_1</th>\n",
       "      <th>filename_1</th>\n",
       "      <th>image_id_2</th>\n",
       "      <th>timestamp_2</th>\n",
       "      <th>filename_2</th>\n",
       "      <th>label</th>\n",
       "      <th>obs_1</th>\n",
       "      <th>...</th>\n",
       "      <th>obs_2</th>\n",
       "      <th>prcp_2</th>\n",
       "      <th>jday_2</th>\n",
       "      <th>dhour_2</th>\n",
       "      <th>zero_2</th>\n",
       "      <th>rand_2</th>\n",
       "      <th>obs_z_2</th>\n",
       "      <th>prcp_z_2</th>\n",
       "      <th>jday_z_2</th>\n",
       "      <th>dhour_z_2</th>\n",
       "    </tr>\n",
       "  </thead>\n",
       "  <tbody>\n",
       "    <tr>\n",
       "      <th>0</th>\n",
       "      <td>train</td>\n",
       "      <td>18</td>\n",
       "      <td>664978</td>\n",
       "      <td>2022-07-13 20:45:01</td>\n",
       "      <td>imagesets/6cd6870a-0260-4687-840d-1ac4ac2794e4...</td>\n",
       "      <td>442036</td>\n",
       "      <td>2022-02-08 18:00:00</td>\n",
       "      <td>imagesets/e8d465f6-5784-4231-967f-9000428e9748...</td>\n",
       "      <td>-1</td>\n",
       "      <td>-0.065502</td>\n",
       "      <td>...</td>\n",
       "      <td>1.139879</td>\n",
       "      <td>0.00</td>\n",
       "      <td>39</td>\n",
       "      <td>13.000000</td>\n",
       "      <td>0</td>\n",
       "      <td>0.553448</td>\n",
       "      <td>0.508599</td>\n",
       "      <td>0.000000</td>\n",
       "      <td>0.104396</td>\n",
       "      <td>0.500012</td>\n",
       "    </tr>\n",
       "    <tr>\n",
       "      <th>1</th>\n",
       "      <td>train</td>\n",
       "      <td>18</td>\n",
       "      <td>442036</td>\n",
       "      <td>2022-02-08 18:00:00</td>\n",
       "      <td>imagesets/e8d465f6-5784-4231-967f-9000428e9748...</td>\n",
       "      <td>664978</td>\n",
       "      <td>2022-07-13 20:45:01</td>\n",
       "      <td>imagesets/6cd6870a-0260-4687-840d-1ac4ac2794e4...</td>\n",
       "      <td>1</td>\n",
       "      <td>1.139879</td>\n",
       "      <td>...</td>\n",
       "      <td>-0.065502</td>\n",
       "      <td>11.81</td>\n",
       "      <td>194</td>\n",
       "      <td>16.750278</td>\n",
       "      <td>0</td>\n",
       "      <td>0.452459</td>\n",
       "      <td>0.234521</td>\n",
       "      <td>0.179429</td>\n",
       "      <td>0.530220</td>\n",
       "      <td>0.812542</td>\n",
       "    </tr>\n",
       "    <tr>\n",
       "      <th>2</th>\n",
       "      <td>train</td>\n",
       "      <td>30</td>\n",
       "      <td>2018327</td>\n",
       "      <td>2023-03-07 22:30:01</td>\n",
       "      <td>imagesets/27aae6d9-9417-4b53-bf6a-cd2ce8139ba1...</td>\n",
       "      <td>660978</td>\n",
       "      <td>2022-06-06 21:15:01</td>\n",
       "      <td>imagesets/cb2b67b0-0f07-4351-b96d-2659d5b56c9f...</td>\n",
       "      <td>1</td>\n",
       "      <td>1.152288</td>\n",
       "      <td>...</td>\n",
       "      <td>0.553859</td>\n",
       "      <td>0.00</td>\n",
       "      <td>157</td>\n",
       "      <td>17.250278</td>\n",
       "      <td>0</td>\n",
       "      <td>0.429406</td>\n",
       "      <td>0.375350</td>\n",
       "      <td>0.000000</td>\n",
       "      <td>0.428571</td>\n",
       "      <td>0.854210</td>\n",
       "    </tr>\n",
       "    <tr>\n",
       "      <th>3</th>\n",
       "      <td>train</td>\n",
       "      <td>30</td>\n",
       "      <td>660978</td>\n",
       "      <td>2022-06-06 21:15:01</td>\n",
       "      <td>imagesets/cb2b67b0-0f07-4351-b96d-2659d5b56c9f...</td>\n",
       "      <td>2018327</td>\n",
       "      <td>2023-03-07 22:30:01</td>\n",
       "      <td>imagesets/27aae6d9-9417-4b53-bf6a-cd2ce8139ba1...</td>\n",
       "      <td>-1</td>\n",
       "      <td>0.553859</td>\n",
       "      <td>...</td>\n",
       "      <td>1.152288</td>\n",
       "      <td>0.00</td>\n",
       "      <td>66</td>\n",
       "      <td>17.500278</td>\n",
       "      <td>0</td>\n",
       "      <td>0.692919</td>\n",
       "      <td>0.511421</td>\n",
       "      <td>0.000000</td>\n",
       "      <td>0.178571</td>\n",
       "      <td>0.875043</td>\n",
       "    </tr>\n",
       "    <tr>\n",
       "      <th>4</th>\n",
       "      <td>train</td>\n",
       "      <td>33</td>\n",
       "      <td>1645271</td>\n",
       "      <td>2023-01-01 22:29:59</td>\n",
       "      <td>imagesets/265292ae-007e-4a94-a86c-e01028d85c1f...</td>\n",
       "      <td>2084157</td>\n",
       "      <td>2023-04-15 12:15:01</td>\n",
       "      <td>imagesets/e33129ab-64df-48f7-9380-1be3258b577f...</td>\n",
       "      <td>0</td>\n",
       "      <td>1.260087</td>\n",
       "      <td>...</td>\n",
       "      <td>1.170242</td>\n",
       "      <td>4.66</td>\n",
       "      <td>105</td>\n",
       "      <td>8.250278</td>\n",
       "      <td>0</td>\n",
       "      <td>0.821098</td>\n",
       "      <td>0.515503</td>\n",
       "      <td>0.070799</td>\n",
       "      <td>0.285714</td>\n",
       "      <td>0.104192</td>\n",
       "    </tr>\n",
       "  </tbody>\n",
       "</table>\n",
       "<p>5 rows × 29 columns</p>\n",
       "</div>"
      ],
      "text/plain": [
       "   split  pair  image_id_1         timestamp_1  \\\n",
       "0  train    18      664978 2022-07-13 20:45:01   \n",
       "1  train    18      442036 2022-02-08 18:00:00   \n",
       "2  train    30     2018327 2023-03-07 22:30:01   \n",
       "3  train    30      660978 2022-06-06 21:15:01   \n",
       "4  train    33     1645271 2023-01-01 22:29:59   \n",
       "\n",
       "                                          filename_1  image_id_2  \\\n",
       "0  imagesets/6cd6870a-0260-4687-840d-1ac4ac2794e4...      442036   \n",
       "1  imagesets/e8d465f6-5784-4231-967f-9000428e9748...      664978   \n",
       "2  imagesets/27aae6d9-9417-4b53-bf6a-cd2ce8139ba1...      660978   \n",
       "3  imagesets/cb2b67b0-0f07-4351-b96d-2659d5b56c9f...     2018327   \n",
       "4  imagesets/265292ae-007e-4a94-a86c-e01028d85c1f...     2084157   \n",
       "\n",
       "          timestamp_2                                         filename_2  \\\n",
       "0 2022-02-08 18:00:00  imagesets/e8d465f6-5784-4231-967f-9000428e9748...   \n",
       "1 2022-07-13 20:45:01  imagesets/6cd6870a-0260-4687-840d-1ac4ac2794e4...   \n",
       "2 2022-06-06 21:15:01  imagesets/cb2b67b0-0f07-4351-b96d-2659d5b56c9f...   \n",
       "3 2023-03-07 22:30:01  imagesets/27aae6d9-9417-4b53-bf6a-cd2ce8139ba1...   \n",
       "4 2023-04-15 12:15:01  imagesets/e33129ab-64df-48f7-9380-1be3258b577f...   \n",
       "\n",
       "   label     obs_1  ...     obs_2  prcp_2  jday_2    dhour_2  zero_2  \\\n",
       "0     -1 -0.065502  ...  1.139879    0.00      39  13.000000       0   \n",
       "1      1  1.139879  ... -0.065502   11.81     194  16.750278       0   \n",
       "2      1  1.152288  ...  0.553859    0.00     157  17.250278       0   \n",
       "3     -1  0.553859  ...  1.152288    0.00      66  17.500278       0   \n",
       "4      0  1.260087  ...  1.170242    4.66     105   8.250278       0   \n",
       "\n",
       "     rand_2   obs_z_2  prcp_z_2  jday_z_2  dhour_z_2  \n",
       "0  0.553448  0.508599  0.000000  0.104396   0.500012  \n",
       "1  0.452459  0.234521  0.179429  0.530220   0.812542  \n",
       "2  0.429406  0.375350  0.000000  0.428571   0.854210  \n",
       "3  0.692919  0.511421  0.000000  0.178571   0.875043  \n",
       "4  0.821098  0.515503  0.070799  0.285714   0.104192  \n",
       "\n",
       "[5 rows x 29 columns]"
      ]
     },
     "execution_count": 5,
     "metadata": {},
     "output_type": "execute_result"
    }
   ],
   "source": [
    "from pathlib import Path\n",
    "\n",
    "run_dir = Path(\"/home/jeff/data/fpe/experiments/20241113-WB0-aux-reg/runs/aux_reg_01\")\n",
    "data_dir = run_dir / \"input\"\n",
    "output_dir = run_dir / \"output\"\n",
    "model_dir = run_dir / \"model\"\n",
    "checkpoint_dir = run_dir / \"checkpoints\"\n",
    "\n",
    "images_dir = Path(\"/home/jeff/data/fpe/images\")\n",
    "auxiliary_features = [\"obs_z\"]\n",
    "\n",
    "# Load and split data\n",
    "pairs_df = load_pairs_from_csv(data_dir / \"train-pairs.csv\")\n",
    "pairs_df.head()\n"
   ]
  },
  {
   "cell_type": "code",
   "execution_count": 6,
   "metadata": {},
   "outputs": [
    {
     "name": "stderr",
     "output_type": "stream",
     "text": [
      "100%|██████████| 500/500 [00:17<00:00, 28.84it/s]"
     ]
    },
    {
     "name": "stdout",
     "output_type": "stream",
     "text": [
      "Image mean: [0.40918706 0.41736542 0.37527723], std: [0.27850742 0.28033317 0.27329798]\n"
     ]
    },
    {
     "name": "stderr",
     "output_type": "stream",
     "text": [
      "\n"
     ]
    }
   ],
   "source": [
    "train_df = pairs_df[pairs_df['split'] == \"train\"]\n",
    "val_df = pairs_df[pairs_df['split'] == \"val\"]\n",
    "\n",
    "train_ds = FlowPhotoDataset(train_df, images_dir, col_image_id=\"image_id_1\", col_timestamp=\"timestamp_1\", col_filename=\"filename_1\", col_label=\"obs_1\")\n",
    "img_mean, img_std = train_ds.compute_mean_std(1000)\n",
    "print(f\"Image mean: {img_mean}, std: {img_std}\")"
   ]
  },
  {
   "cell_type": "code",
   "execution_count": 7,
   "metadata": {},
   "outputs": [
    {
     "name": "stdout",
     "output_type": "stream",
     "text": [
      "Image shape: torch.Size([3, 1536, 2048])\n"
     ]
    }
   ],
   "source": [
    "# Calculate shapes using crop_ratio\n",
    "input_size = 480\n",
    "crop_ratio = 0.8\n",
    "decolorize = False\n",
    "augment = True\n",
    "normalize = True\n",
    "rotation_degrees = 10\n",
    "\n",
    "img, label = train_ds[0]\n",
    "print(f\"Image shape: {img.shape}\")"
   ]
  },
  {
   "cell_type": "code",
   "execution_count": 8,
   "metadata": {},
   "outputs": [
    {
     "data": {
      "image/png": "[encoded data removed]",
      "text/plain": [
       "<Figure size 640x480 with 1 Axes>"
      ]
     },
     "metadata": {},
     "output_type": "display_data"
    }
   ],
   "source": [
    "image = train_ds.get_image(0)\n",
    "plt.imshow(image.permute(1, 2, 0).numpy())\n",
    "plt.title(f\"Label: {label}\")\n",
    "plt.show()"
   ]
  },
  {
   "cell_type": "code",
   "execution_count": 9,
   "metadata": {},
   "outputs": [
    {
     "name": "stdout",
     "output_type": "stream",
     "text": [
      "Resize shape: [480, 640], input shape: [384, 512]\n"
     ]
    }
   ],
   "source": [
    "aspect = image.shape[2] / image.shape[1]\n",
    "image_shape = image.shape\n",
    "resize_shape = [input_size, int(input_size * aspect)]\n",
    "input_shape = [\n",
    "    int(input_size * crop_ratio), \n",
    "    int(input_size * crop_ratio * aspect)\n",
    "]\n",
    "print(f\"Resize shape: {resize_shape}, input shape: {input_shape}\")\n"
   ]
  },
  {
   "cell_type": "code",
   "execution_count": 10,
   "metadata": {},
   "outputs": [],
   "source": [
    "# Create transforms with rotation parameter\n",
    "transforms = create_image_transforms(\n",
    "    resize_shape, input_shape,\n",
    "    means=img_mean, stds=img_std,\n",
    "    decolorize=decolorize,\n",
    "    augmentation=augment,\n",
    "    normalization=normalize,\n",
    "    rotation_degrees=rotation_degrees\n",
    ")\n",
    "\n",
    "train_ds.transform = transforms[\"train\"]\n",
    "val_ds = FlowPhotoDataset(\n",
    "    val_df,\n",
    "    images_dir,\n",
    "    col_image_id=\"image_id_1\",\n",
    "    col_timestamp=\"timestamp_1\",\n",
    "    col_filename=\"filename_1\",\n",
    "    col_label=\"obs_1\",\n",
    "    transform=transforms[\"eval\"]\n",
    ")"
   ]
  },
  {
   "cell_type": "code",
   "execution_count": 11,
   "metadata": {},
   "outputs": [],
   "source": [
    "# Create dataloaders\n",
    "batch_size = 64\n",
    "num_workers = 4\n",
    "\n",
    "train_dl = DataLoader(\n",
    "    train_ds,\n",
    "    batch_size=batch_size,\n",
    "    shuffle=True,\n",
    "    num_workers=num_workers\n",
    ")\n",
    "val_dl = DataLoader(\n",
    "    val_ds,\n",
    "    batch_size=batch_size,\n",
    "    shuffle=False,\n",
    "    num_workers=num_workers\n",
    ")"
   ]
  },
  {
   "cell_type": "code",
   "execution_count": 12,
   "metadata": {},
   "outputs": [
    {
     "data": {
      "text/plain": [
       "[384, 512]"
      ]
     },
     "execution_count": 12,
     "metadata": {},
     "output_type": "execute_result"
    }
   ],
   "source": [
    "input_shape"
   ]
  },
  {
   "cell_type": "code",
   "execution_count": 13,
   "metadata": {},
   "outputs": [
    {
     "data": {
      "text/plain": [
       "ResNetRegressionNet(\n",
       "  (resnetbody): ResNet18(\n",
       "    (model): Sequential(\n",
       "      (0): Conv2d(3, 64, kernel_size=(7, 7), stride=(2, 2), padding=(3, 3), bias=False)\n",
       "      (1): BatchNorm2d(64, eps=1e-05, momentum=0.1, affine=True, track_running_stats=True)\n",
       "      (2): ReLU(inplace=True)\n",
       "      (3): MaxPool2d(kernel_size=3, stride=2, padding=1, dilation=1, ceil_mode=False)\n",
       "      (4): Sequential(\n",
       "        (0): BasicBlock(\n",
       "          (conv1): Conv2d(64, 64, kernel_size=(3, 3), stride=(1, 1), padding=(1, 1), bias=False)\n",
       "          (bn1): BatchNorm2d(64, eps=1e-05, momentum=0.1, affine=True, track_running_stats=True)\n",
       "          (relu): ReLU(inplace=True)\n",
       "          (conv2): Conv2d(64, 64, kernel_size=(3, 3), stride=(1, 1), padding=(1, 1), bias=False)\n",
       "          (bn2): BatchNorm2d(64, eps=1e-05, momentum=0.1, affine=True, track_running_stats=True)\n",
       "        )\n",
       "        (1): BasicBlock(\n",
       "          (conv1): Conv2d(64, 64, kernel_size=(3, 3), stride=(1, 1), padding=(1, 1), bias=False)\n",
       "          (bn1): BatchNorm2d(64, eps=1e-05, momentum=0.1, affine=True, track_running_stats=True)\n",
       "          (relu): ReLU(inplace=True)\n",
       "          (conv2): Conv2d(64, 64, kernel_size=(3, 3), stride=(1, 1), padding=(1, 1), bias=False)\n",
       "          (bn2): BatchNorm2d(64, eps=1e-05, momentum=0.1, affine=True, track_running_stats=True)\n",
       "        )\n",
       "      )\n",
       "      (5): Sequential(\n",
       "        (0): BasicBlock(\n",
       "          (conv1): Conv2d(64, 128, kernel_size=(3, 3), stride=(2, 2), padding=(1, 1), bias=False)\n",
       "          (bn1): BatchNorm2d(128, eps=1e-05, momentum=0.1, affine=True, track_running_stats=True)\n",
       "          (relu): ReLU(inplace=True)\n",
       "          (conv2): Conv2d(128, 128, kernel_size=(3, 3), stride=(1, 1), padding=(1, 1), bias=False)\n",
       "          (bn2): BatchNorm2d(128, eps=1e-05, momentum=0.1, affine=True, track_running_stats=True)\n",
       "          (downsample): Sequential(\n",
       "            (0): Conv2d(64, 128, kernel_size=(1, 1), stride=(2, 2), bias=False)\n",
       "            (1): BatchNorm2d(128, eps=1e-05, momentum=0.1, affine=True, track_running_stats=True)\n",
       "          )\n",
       "        )\n",
       "        (1): BasicBlock(\n",
       "          (conv1): Conv2d(128, 128, kernel_size=(3, 3), stride=(1, 1), padding=(1, 1), bias=False)\n",
       "          (bn1): BatchNorm2d(128, eps=1e-05, momentum=0.1, affine=True, track_running_stats=True)\n",
       "          (relu): ReLU(inplace=True)\n",
       "          (conv2): Conv2d(128, 128, kernel_size=(3, 3), stride=(1, 1), padding=(1, 1), bias=False)\n",
       "          (bn2): BatchNorm2d(128, eps=1e-05, momentum=0.1, affine=True, track_running_stats=True)\n",
       "        )\n",
       "      )\n",
       "      (6): Sequential(\n",
       "        (0): BasicBlock(\n",
       "          (conv1): Conv2d(128, 256, kernel_size=(3, 3), stride=(2, 2), padding=(1, 1), bias=False)\n",
       "          (bn1): BatchNorm2d(256, eps=1e-05, momentum=0.1, affine=True, track_running_stats=True)\n",
       "          (relu): ReLU(inplace=True)\n",
       "          (conv2): Conv2d(256, 256, kernel_size=(3, 3), stride=(1, 1), padding=(1, 1), bias=False)\n",
       "          (bn2): BatchNorm2d(256, eps=1e-05, momentum=0.1, affine=True, track_running_stats=True)\n",
       "          (downsample): Sequential(\n",
       "            (0): Conv2d(128, 256, kernel_size=(1, 1), stride=(2, 2), bias=False)\n",
       "            (1): BatchNorm2d(256, eps=1e-05, momentum=0.1, affine=True, track_running_stats=True)\n",
       "          )\n",
       "        )\n",
       "        (1): BasicBlock(\n",
       "          (conv1): Conv2d(256, 256, kernel_size=(3, 3), stride=(1, 1), padding=(1, 1), bias=False)\n",
       "          (bn1): BatchNorm2d(256, eps=1e-05, momentum=0.1, affine=True, track_running_stats=True)\n",
       "          (relu): ReLU(inplace=True)\n",
       "          (conv2): Conv2d(256, 256, kernel_size=(3, 3), stride=(1, 1), padding=(1, 1), bias=False)\n",
       "          (bn2): BatchNorm2d(256, eps=1e-05, momentum=0.1, affine=True, track_running_stats=True)\n",
       "        )\n",
       "      )\n",
       "      (7): Sequential(\n",
       "        (0): BasicBlock(\n",
       "          (conv1): Conv2d(256, 512, kernel_size=(3, 3), stride=(2, 2), padding=(1, 1), bias=False)\n",
       "          (bn1): BatchNorm2d(512, eps=1e-05, momentum=0.1, affine=True, track_running_stats=True)\n",
       "          (relu): ReLU(inplace=True)\n",
       "          (conv2): Conv2d(512, 512, kernel_size=(3, 3), stride=(1, 1), padding=(1, 1), bias=False)\n",
       "          (bn2): BatchNorm2d(512, eps=1e-05, momentum=0.1, affine=True, track_running_stats=True)\n",
       "          (downsample): Sequential(\n",
       "            (0): Conv2d(256, 512, kernel_size=(1, 1), stride=(2, 2), bias=False)\n",
       "            (1): BatchNorm2d(512, eps=1e-05, momentum=0.1, affine=True, track_running_stats=True)\n",
       "          )\n",
       "        )\n",
       "        (1): BasicBlock(\n",
       "          (conv1): Conv2d(512, 512, kernel_size=(3, 3), stride=(1, 1), padding=(1, 1), bias=False)\n",
       "          (bn1): BatchNorm2d(512, eps=1e-05, momentum=0.1, affine=True, track_running_stats=True)\n",
       "          (relu): ReLU(inplace=True)\n",
       "          (conv2): Conv2d(512, 512, kernel_size=(3, 3), stride=(1, 1), padding=(1, 1), bias=False)\n",
       "          (bn2): BatchNorm2d(512, eps=1e-05, momentum=0.1, affine=True, track_running_stats=True)\n",
       "        )\n",
       "      )\n",
       "    )\n",
       "  )\n",
       "  (avgpool): AdaptiveAvgPool2d(output_size=(1, 1))\n",
       "  (fclayers): Sequential(\n",
       "    (0): Linear(in_features=512, out_features=256, bias=True)\n",
       "    (1): ReLU()\n",
       "    (2): Linear(in_features=256, out_features=64, bias=True)\n",
       "    (3): ReLU()\n",
       "    (4): Linear(in_features=64, out_features=1, bias=True)\n",
       "  )\n",
       ")"
      ]
     },
     "execution_count": 13,
     "metadata": {},
     "output_type": "execute_result"
    }
   ],
   "source": [
    "model = ResNetRegressionNet(\n",
    "    input_shape=(3, input_shape[0], input_shape[1]),\n",
    "    transforms=transforms,\n",
    "    resnet_size=18,\n",
    "    truncate=2\n",
    ")\n",
    "\n",
    "# Freeze resnet backbone initially\n",
    "for p in list(model.children())[0].parameters():\n",
    "    p.requires_grad = False\n",
    "\n",
    "# model = nn.DataParallel(model, device_ids=[0])\n",
    "model = model.to(device)\n",
    "model"
   ]
  },
  {
   "cell_type": "code",
   "execution_count": 14,
   "metadata": {},
   "outputs": [],
   "source": [
    "lr = 0.001\n",
    "momentum = 0.9\n",
    "scheduler_patience = 1\n",
    "scheduler_factor = 0.5\n",
    "criterion = nn.MSELoss()\n",
    "optimizer = SGD(model.parameters(), lr=lr, momentum=momentum)\n",
    "scheduler = ReduceLROnPlateau(optimizer, \"min\", patience=scheduler_patience, factor=scheduler_factor)"
   ]
  },
  {
   "cell_type": "code",
   "execution_count": 15,
   "metadata": {},
   "outputs": [],
   "source": [
    "def fit(model, criterion, optimizer, train_dl, device, epoch_num=None, verbose=False):\n",
    "    \"\"\"Train model for one epoch.\n",
    "\n",
    "    Args:\n",
    "        model (torch.nn.Module): network to train\n",
    "        criterion (torch.nn.Module): loss function(s) used to train network weights\n",
    "        optimizer (torch.optim.Optimizer): algorithm used to optimize network weights\n",
    "        train_dl (torch.utils.DataLoader): data loader for training set\n",
    "    Returns:\n",
    "        batch_loss_logger.avg (float): average criterion loss per batch during training\n",
    "    \"\"\"\n",
    "    model.train()  # ensure model is in train mode\n",
    "    # train_dl.dataset.train()  # ensure train transforms are applied\n",
    "    batch_loss_logger = MetricLogger()\n",
    "\n",
    "    for bidx, batch in tqdm(enumerate(train_dl), total=len(train_dl)):\n",
    "        inputs, labels = batch\n",
    "        labels = labels.float()\n",
    "        if next(model.parameters()).is_cuda:\n",
    "            inputs = inputs.to(device)\n",
    "            labels = labels.to(device)\n",
    "        optimizer.zero_grad()\n",
    "        outputs = model(inputs)\n",
    "        loss = criterion(outputs, labels)\n",
    "        batch_loss_logger.update(loss.item())\n",
    "        loss.backward()\n",
    "        optimizer.step()\n",
    "\n",
    "    return batch_loss_logger.avg\n",
    "\n",
    "def validate(model, criterions, dl, device):\n",
    "    \"\"\"Calculate multiple criterion for a model on a dataset.\"\"\"\n",
    "    \n",
    "    model.eval()\n",
    "    criterion_loggers = [MetricLogger() for i in range(len(criterions))]\n",
    "    with torch.no_grad():  # ensure no gradients are computed\n",
    "        for bidx, batch in tqdm(enumerate(dl), total=len(dl)):\n",
    "            model_outputs = {}\n",
    "            for i, c in enumerate(criterions):\n",
    "                if \"outputs\" not in model_outputs.keys():\n",
    "                    # store model outputs from forward pass in case another criterion needs the same\n",
    "                    inputs, labels = batch\n",
    "                    if next(model.parameters()).is_cuda:\n",
    "                        inputs, labels = inputs.to(device), labels.to(device)\n",
    "                    outputs = model(inputs)\n",
    "                    model_outputs[\"outputs\"] = outputs\n",
    "                else:\n",
    "                    # load previously computed model outputs from forward pass\n",
    "                    outputs = model_outputs[\"outputs\"]\n",
    "                cval = c(outputs, labels)\n",
    "                criterion_loggers[i].update(cval.item())\n",
    "    return [cl.avg for cl in criterion_loggers]\n"
   ]
  },
  {
   "cell_type": "code",
   "execution_count": 16,
   "metadata": {},
   "outputs": [
    {
     "data": {
      "text/plain": [
       "ResNetRegressionNet(\n",
       "  (resnetbody): ResNet18(\n",
       "    (model): Sequential(\n",
       "      (0): Conv2d(3, 64, kernel_size=(7, 7), stride=(2, 2), padding=(3, 3), bias=False)\n",
       "      (1): BatchNorm2d(64, eps=1e-05, momentum=0.1, affine=True, track_running_stats=True)\n",
       "      (2): ReLU(inplace=True)\n",
       "      (3): MaxPool2d(kernel_size=3, stride=2, padding=1, dilation=1, ceil_mode=False)\n",
       "      (4): Sequential(\n",
       "        (0): BasicBlock(\n",
       "          (conv1): Conv2d(64, 64, kernel_size=(3, 3), stride=(1, 1), padding=(1, 1), bias=False)\n",
       "          (bn1): BatchNorm2d(64, eps=1e-05, momentum=0.1, affine=True, track_running_stats=True)\n",
       "          (relu): ReLU(inplace=True)\n",
       "          (conv2): Conv2d(64, 64, kernel_size=(3, 3), stride=(1, 1), padding=(1, 1), bias=False)\n",
       "          (bn2): BatchNorm2d(64, eps=1e-05, momentum=0.1, affine=True, track_running_stats=True)\n",
       "        )\n",
       "        (1): BasicBlock(\n",
       "          (conv1): Conv2d(64, 64, kernel_size=(3, 3), stride=(1, 1), padding=(1, 1), bias=False)\n",
       "          (bn1): BatchNorm2d(64, eps=1e-05, momentum=0.1, affine=True, track_running_stats=True)\n",
       "          (relu): ReLU(inplace=True)\n",
       "          (conv2): Conv2d(64, 64, kernel_size=(3, 3), stride=(1, 1), padding=(1, 1), bias=False)\n",
       "          (bn2): BatchNorm2d(64, eps=1e-05, momentum=0.1, affine=True, track_running_stats=True)\n",
       "        )\n",
       "      )\n",
       "      (5): Sequential(\n",
       "        (0): BasicBlock(\n",
       "          (conv1): Conv2d(64, 128, kernel_size=(3, 3), stride=(2, 2), padding=(1, 1), bias=False)\n",
       "          (bn1): BatchNorm2d(128, eps=1e-05, momentum=0.1, affine=True, track_running_stats=True)\n",
       "          (relu): ReLU(inplace=True)\n",
       "          (conv2): Conv2d(128, 128, kernel_size=(3, 3), stride=(1, 1), padding=(1, 1), bias=False)\n",
       "          (bn2): BatchNorm2d(128, eps=1e-05, momentum=0.1, affine=True, track_running_stats=True)\n",
       "          (downsample): Sequential(\n",
       "            (0): Conv2d(64, 128, kernel_size=(1, 1), stride=(2, 2), bias=False)\n",
       "            (1): BatchNorm2d(128, eps=1e-05, momentum=0.1, affine=True, track_running_stats=True)\n",
       "          )\n",
       "        )\n",
       "        (1): BasicBlock(\n",
       "          (conv1): Conv2d(128, 128, kernel_size=(3, 3), stride=(1, 1), padding=(1, 1), bias=False)\n",
       "          (bn1): BatchNorm2d(128, eps=1e-05, momentum=0.1, affine=True, track_running_stats=True)\n",
       "          (relu): ReLU(inplace=True)\n",
       "          (conv2): Conv2d(128, 128, kernel_size=(3, 3), stride=(1, 1), padding=(1, 1), bias=False)\n",
       "          (bn2): BatchNorm2d(128, eps=1e-05, momentum=0.1, affine=True, track_running_stats=True)\n",
       "        )\n",
       "      )\n",
       "      (6): Sequential(\n",
       "        (0): BasicBlock(\n",
       "          (conv1): Conv2d(128, 256, kernel_size=(3, 3), stride=(2, 2), padding=(1, 1), bias=False)\n",
       "          (bn1): BatchNorm2d(256, eps=1e-05, momentum=0.1, affine=True, track_running_stats=True)\n",
       "          (relu): ReLU(inplace=True)\n",
       "          (conv2): Conv2d(256, 256, kernel_size=(3, 3), stride=(1, 1), padding=(1, 1), bias=False)\n",
       "          (bn2): BatchNorm2d(256, eps=1e-05, momentum=0.1, affine=True, track_running_stats=True)\n",
       "          (downsample): Sequential(\n",
       "            (0): Conv2d(128, 256, kernel_size=(1, 1), stride=(2, 2), bias=False)\n",
       "            (1): BatchNorm2d(256, eps=1e-05, momentum=0.1, affine=True, track_running_stats=True)\n",
       "          )\n",
       "        )\n",
       "        (1): BasicBlock(\n",
       "          (conv1): Conv2d(256, 256, kernel_size=(3, 3), stride=(1, 1), padding=(1, 1), bias=False)\n",
       "          (bn1): BatchNorm2d(256, eps=1e-05, momentum=0.1, affine=True, track_running_stats=True)\n",
       "          (relu): ReLU(inplace=True)\n",
       "          (conv2): Conv2d(256, 256, kernel_size=(3, 3), stride=(1, 1), padding=(1, 1), bias=False)\n",
       "          (bn2): BatchNorm2d(256, eps=1e-05, momentum=0.1, affine=True, track_running_stats=True)\n",
       "        )\n",
       "      )\n",
       "      (7): Sequential(\n",
       "        (0): BasicBlock(\n",
       "          (conv1): Conv2d(256, 512, kernel_size=(3, 3), stride=(2, 2), padding=(1, 1), bias=False)\n",
       "          (bn1): BatchNorm2d(512, eps=1e-05, momentum=0.1, affine=True, track_running_stats=True)\n",
       "          (relu): ReLU(inplace=True)\n",
       "          (conv2): Conv2d(512, 512, kernel_size=(3, 3), stride=(1, 1), padding=(1, 1), bias=False)\n",
       "          (bn2): BatchNorm2d(512, eps=1e-05, momentum=0.1, affine=True, track_running_stats=True)\n",
       "          (downsample): Sequential(\n",
       "            (0): Conv2d(256, 512, kernel_size=(1, 1), stride=(2, 2), bias=False)\n",
       "            (1): BatchNorm2d(512, eps=1e-05, momentum=0.1, affine=True, track_running_stats=True)\n",
       "          )\n",
       "        )\n",
       "        (1): BasicBlock(\n",
       "          (conv1): Conv2d(512, 512, kernel_size=(3, 3), stride=(1, 1), padding=(1, 1), bias=False)\n",
       "          (bn1): BatchNorm2d(512, eps=1e-05, momentum=0.1, affine=True, track_running_stats=True)\n",
       "          (relu): ReLU(inplace=True)\n",
       "          (conv2): Conv2d(512, 512, kernel_size=(3, 3), stride=(1, 1), padding=(1, 1), bias=False)\n",
       "          (bn2): BatchNorm2d(512, eps=1e-05, momentum=0.1, affine=True, track_running_stats=True)\n",
       "        )\n",
       "      )\n",
       "    )\n",
       "  )\n",
       "  (avgpool): AdaptiveAvgPool2d(output_size=(1, 1))\n",
       "  (fclayers): Sequential(\n",
       "    (0): Linear(in_features=512, out_features=256, bias=True)\n",
       "    (1): ReLU()\n",
       "    (2): Linear(in_features=256, out_features=64, bias=True)\n",
       "    (3): ReLU()\n",
       "    (4): Linear(in_features=64, out_features=1, bias=True)\n",
       "  )\n",
       ")"
      ]
     },
     "execution_count": 16,
     "metadata": {},
     "output_type": "execute_result"
    }
   ],
   "source": [
    "epochs = 30\n",
    "unfreeze_after = 2\n",
    "metrics = {\"epoch\": [], \"train_loss\": [], \"val_loss\": []}\n",
    "min_val_loss = float('inf')\n",
    "best_epoch = None\n",
    "total_train_time = 0\n",
    "epoch_times = []\n",
    "\n",
    "model.train()  # ensure model is in train mode\n",
    "\n",
    "# batch = next(iter(train_dl))\n",
    "# inputs, labels = batch\n",
    "# inputs = inputs.float()\n",
    "# labels = labels.float()\n",
    "# if next(model.parameters()).is_cuda:\n",
    "#     inputs = inputs.to(device)\n",
    "#     labels = labels.to(device)\n",
    "# optimizer.zero_grad()\n",
    "# outputs = model(inputs)\n",
    "# outputs"
   ]
  },
  {
   "cell_type": "code",
   "execution_count": 17,
   "metadata": {},
   "outputs": [],
   "source": [
    "# inputs.dtype, labels.dtype"
   ]
  },
  {
   "cell_type": "code",
   "execution_count": 18,
   "metadata": {},
   "outputs": [],
   "source": [
    "# outputs.shape, labels.shape"
   ]
  },
  {
   "cell_type": "code",
   "execution_count": 19,
   "metadata": {},
   "outputs": [],
   "source": [
    "# loss = criterion(outputs, labels)\n",
    "# loss.item()"
   ]
  },
  {
   "cell_type": "code",
   "execution_count": 20,
   "metadata": {},
   "outputs": [],
   "source": [
    "# loss.backward()\n",
    "# optimizer.step()"
   ]
  },
  {
   "cell_type": "code",
   "execution_count": 21,
   "metadata": {},
   "outputs": [
    {
     "name": "stdout",
     "output_type": "stream",
     "text": [
      "Epoch 1/30\n",
      "fit\n"
     ]
    },
    {
     "name": "stderr",
     "output_type": "stream",
     "text": [
      "100%|██████████| 8/8 [00:07<00:00,  1.14it/s]"
     ]
    },
    {
     "name": "stdout",
     "output_type": "stream",
     "text": [
      "Train loss: 1.1159679591655731\n",
      "validate\n"
     ]
    },
    {
     "name": "stderr",
     "output_type": "stream",
     "text": [
      "\n",
      "100%|██████████| 2/2 [00:02<00:00,  1.30s/it]"
     ]
    },
    {
     "name": "stdout",
     "output_type": "stream",
     "text": [
      "Validation loss: 0.5821012483911401\n",
      "Initial checkpoint - Saving\n",
      "Epoch 2/30\n",
      "fit\n"
     ]
    },
    {
     "name": "stderr",
     "output_type": "stream",
     "text": [
      "\n",
      "100%|██████████| 8/8 [00:06<00:00,  1.16it/s]"
     ]
    },
    {
     "name": "stdout",
     "output_type": "stream",
     "text": [
      "Train loss: 0.49454010650515556\n",
      "validate\n"
     ]
    },
    {
     "name": "stderr",
     "output_type": "stream",
     "text": [
      "\n",
      "100%|██████████| 2/2 [00:02<00:00,  1.29s/it]"
     ]
    },
    {
     "name": "stdout",
     "output_type": "stream",
     "text": [
      "Validation loss: 0.718942431222353\n",
      "Model validation loss improved by inf - Saving checkpoint\n",
      "Unfreezing CNN backbone at epoch 2\n",
      "Epoch 3/30\n",
      "fit\n"
     ]
    },
    {
     "name": "stderr",
     "output_type": "stream",
     "text": [
      "\n",
      "100%|██████████| 8/8 [00:07<00:00,  1.14it/s]\n"
     ]
    },
    {
     "name": "stdout",
     "output_type": "stream",
     "text": [
      "Train loss: 0.45775051042437553\n",
      "validate\n"
     ]
    },
    {
     "name": "stderr",
     "output_type": "stream",
     "text": [
      "100%|██████████| 2/2 [00:02<00:00,  1.30s/it]\n"
     ]
    },
    {
     "name": "stdout",
     "output_type": "stream",
     "text": [
      "Validation loss: 0.456496431071753\n",
      "Model validation loss improved by 0.2624 - Saving checkpoint\n",
      "Epoch 4/30\n",
      "fit\n"
     ]
    },
    {
     "name": "stderr",
     "output_type": "stream",
     "text": [
      "100%|██████████| 8/8 [00:07<00:00,  1.12it/s]\n"
     ]
    },
    {
     "name": "stdout",
     "output_type": "stream",
     "text": [
      "Train loss: 0.3756626732647419\n",
      "validate\n"
     ]
    },
    {
     "name": "stderr",
     "output_type": "stream",
     "text": [
      "100%|██████████| 2/2 [00:02<00:00,  1.28s/it]\n"
     ]
    },
    {
     "name": "stdout",
     "output_type": "stream",
     "text": [
      "Validation loss: 0.3809367183745561\n",
      "Model validation loss improved by 0.0756 - Saving checkpoint\n",
      "Epoch 5/30\n",
      "fit\n"
     ]
    },
    {
     "name": "stderr",
     "output_type": "stream",
     "text": [
      "100%|██████████| 8/8 [00:07<00:00,  1.13it/s]\n"
     ]
    },
    {
     "name": "stdout",
     "output_type": "stream",
     "text": [
      "Train loss: 0.2812213860452175\n",
      "validate\n"
     ]
    },
    {
     "name": "stderr",
     "output_type": "stream",
     "text": [
      "100%|██████████| 2/2 [00:02<00:00,  1.31s/it]\n"
     ]
    },
    {
     "name": "stdout",
     "output_type": "stream",
     "text": [
      "Validation loss: 0.31770494101273355\n",
      "Model validation loss improved by 0.0632 - Saving checkpoint\n",
      "Epoch 6/30\n",
      "fit\n"
     ]
    },
    {
     "name": "stderr",
     "output_type": "stream",
     "text": [
      "100%|██████████| 8/8 [00:07<00:00,  1.13it/s]"
     ]
    },
    {
     "name": "stdout",
     "output_type": "stream",
     "text": [
      "Train loss: 0.22558217588812113\n",
      "validate\n"
     ]
    },
    {
     "name": "stderr",
     "output_type": "stream",
     "text": [
      "\n",
      "100%|██████████| 2/2 [00:02<00:00,  1.29s/it]\n"
     ]
    },
    {
     "name": "stdout",
     "output_type": "stream",
     "text": [
      "Validation loss: 0.23938937820395353\n",
      "Model validation loss improved by 0.0783 - Saving checkpoint\n",
      "Epoch 7/30\n",
      "fit\n"
     ]
    },
    {
     "name": "stderr",
     "output_type": "stream",
     "text": [
      "100%|██████████| 8/8 [00:07<00:00,  1.12it/s]\n"
     ]
    },
    {
     "name": "stdout",
     "output_type": "stream",
     "text": [
      "Train loss: 0.16713195946067572\n",
      "validate\n"
     ]
    },
    {
     "name": "stderr",
     "output_type": "stream",
     "text": [
      "100%|██████████| 2/2 [00:02<00:00,  1.31s/it]\n"
     ]
    },
    {
     "name": "stdout",
     "output_type": "stream",
     "text": [
      "Validation loss: 0.1901848438468353\n",
      "Model validation loss improved by 0.0492 - Saving checkpoint\n",
      "Epoch 8/30\n",
      "fit\n"
     ]
    },
    {
     "name": "stderr",
     "output_type": "stream",
     "text": [
      "100%|██████████| 8/8 [00:07<00:00,  1.12it/s]\n"
     ]
    },
    {
     "name": "stdout",
     "output_type": "stream",
     "text": [
      "Train loss: 0.13206092454493046\n",
      "validate\n"
     ]
    },
    {
     "name": "stderr",
     "output_type": "stream",
     "text": [
      "100%|██████████| 2/2 [00:02<00:00,  1.32s/it]\n"
     ]
    },
    {
     "name": "stdout",
     "output_type": "stream",
     "text": [
      "Validation loss: 0.15966397709660898\n",
      "Model validation loss improved by 0.0305 - Saving checkpoint\n",
      "Epoch 9/30\n",
      "fit\n"
     ]
    },
    {
     "name": "stderr",
     "output_type": "stream",
     "text": [
      "100%|██████████| 8/8 [00:07<00:00,  1.13it/s]\n"
     ]
    },
    {
     "name": "stdout",
     "output_type": "stream",
     "text": [
      "Train loss: 0.11658508516848087\n",
      "validate\n"
     ]
    },
    {
     "name": "stderr",
     "output_type": "stream",
     "text": [
      "100%|██████████| 2/2 [00:02<00:00,  1.29s/it]\n"
     ]
    },
    {
     "name": "stdout",
     "output_type": "stream",
     "text": [
      "Validation loss: 0.14631011338388986\n",
      "Model validation loss improved by 0.0134 - Saving checkpoint\n",
      "Epoch 10/30\n",
      "fit\n"
     ]
    },
    {
     "name": "stderr",
     "output_type": "stream",
     "text": [
      "100%|██████████| 8/8 [00:07<00:00,  1.12it/s]\n"
     ]
    },
    {
     "name": "stdout",
     "output_type": "stream",
     "text": [
      "Train loss: 0.0963926687836647\n",
      "validate\n"
     ]
    },
    {
     "name": "stderr",
     "output_type": "stream",
     "text": [
      "100%|██████████| 2/2 [00:02<00:00,  1.30s/it]\n"
     ]
    },
    {
     "name": "stdout",
     "output_type": "stream",
     "text": [
      "Validation loss: 0.13634009082587678\n",
      "Model validation loss improved by 0.0100 - Saving checkpoint\n",
      "Epoch 11/30\n",
      "fit\n"
     ]
    },
    {
     "name": "stderr",
     "output_type": "stream",
     "text": [
      "100%|██████████| 8/8 [00:07<00:00,  1.13it/s]\n"
     ]
    },
    {
     "name": "stdout",
     "output_type": "stream",
     "text": [
      "Train loss: 0.08767505642026663\n",
      "validate\n"
     ]
    },
    {
     "name": "stderr",
     "output_type": "stream",
     "text": [
      "100%|██████████| 2/2 [00:02<00:00,  1.32s/it]\n"
     ]
    },
    {
     "name": "stdout",
     "output_type": "stream",
     "text": [
      "Validation loss: 0.13371739163681512\n",
      "Model validation loss improved by 0.0026 - Saving checkpoint\n",
      "Epoch 12/30\n",
      "fit\n"
     ]
    },
    {
     "name": "stderr",
     "output_type": "stream",
     "text": [
      "100%|██████████| 8/8 [00:07<00:00,  1.13it/s]\n"
     ]
    },
    {
     "name": "stdout",
     "output_type": "stream",
     "text": [
      "Train loss: 0.08505113795399666\n",
      "validate\n"
     ]
    },
    {
     "name": "stderr",
     "output_type": "stream",
     "text": [
      "100%|██████████| 2/2 [00:02<00:00,  1.29s/it]\n"
     ]
    },
    {
     "name": "stdout",
     "output_type": "stream",
     "text": [
      "Validation loss: 0.13165293363522618\n",
      "Model validation loss improved by 0.0021 - Saving checkpoint\n",
      "Epoch 13/30\n",
      "fit\n"
     ]
    },
    {
     "name": "stderr",
     "output_type": "stream",
     "text": [
      "100%|██████████| 8/8 [00:07<00:00,  1.12it/s]\n"
     ]
    },
    {
     "name": "stdout",
     "output_type": "stream",
     "text": [
      "Train loss: 0.08238154510036111\n",
      "validate\n"
     ]
    },
    {
     "name": "stderr",
     "output_type": "stream",
     "text": [
      "100%|██████████| 2/2 [00:02<00:00,  1.30s/it]\n"
     ]
    },
    {
     "name": "stdout",
     "output_type": "stream",
     "text": [
      "Validation loss: 0.12009970483223917\n",
      "Model validation loss improved by 0.0116 - Saving checkpoint\n",
      "Epoch 14/30\n",
      "fit\n"
     ]
    },
    {
     "name": "stderr",
     "output_type": "stream",
     "text": [
      "100%|██████████| 8/8 [00:07<00:00,  1.12it/s]\n"
     ]
    },
    {
     "name": "stdout",
     "output_type": "stream",
     "text": [
      "Train loss: 0.07349149603396654\n",
      "validate\n"
     ]
    },
    {
     "name": "stderr",
     "output_type": "stream",
     "text": [
      "100%|██████████| 2/2 [00:02<00:00,  1.33s/it]"
     ]
    },
    {
     "name": "stdout",
     "output_type": "stream",
     "text": [
      "Validation loss: 0.12565850617320545\n",
      "Epoch 15/30\n",
      "fit\n"
     ]
    },
    {
     "name": "stderr",
     "output_type": "stream",
     "text": [
      "\n",
      "100%|██████████| 8/8 [00:07<00:00,  1.13it/s]\n"
     ]
    },
    {
     "name": "stdout",
     "output_type": "stream",
     "text": [
      "Train loss: 0.07425476470962167\n",
      "validate\n"
     ]
    },
    {
     "name": "stderr",
     "output_type": "stream",
     "text": [
      "100%|██████████| 2/2 [00:02<00:00,  1.30s/it]\n"
     ]
    },
    {
     "name": "stdout",
     "output_type": "stream",
     "text": [
      "Validation loss: 0.11372880069902293\n",
      "Model validation loss improved by 0.0064 - Saving checkpoint\n",
      "Epoch 16/30\n",
      "fit\n"
     ]
    },
    {
     "name": "stderr",
     "output_type": "stream",
     "text": [
      "100%|██████████| 8/8 [00:07<00:00,  1.12it/s]\n"
     ]
    },
    {
     "name": "stdout",
     "output_type": "stream",
     "text": [
      "Train loss: 0.06995045579969883\n",
      "validate\n"
     ]
    },
    {
     "name": "stderr",
     "output_type": "stream",
     "text": [
      "100%|██████████| 2/2 [00:02<00:00,  1.29s/it]\n"
     ]
    },
    {
     "name": "stdout",
     "output_type": "stream",
     "text": [
      "Validation loss: 0.10404570975603002\n",
      "Model validation loss improved by 0.0097 - Saving checkpoint\n",
      "Epoch 17/30\n",
      "fit\n"
     ]
    },
    {
     "name": "stderr",
     "output_type": "stream",
     "text": [
      "100%|██████████| 8/8 [00:07<00:00,  1.12it/s]\n"
     ]
    },
    {
     "name": "stdout",
     "output_type": "stream",
     "text": [
      "Train loss: 0.07162295607849956\n",
      "validate\n"
     ]
    },
    {
     "name": "stderr",
     "output_type": "stream",
     "text": [
      "100%|██████████| 2/2 [00:02<00:00,  1.32s/it]"
     ]
    },
    {
     "name": "stdout",
     "output_type": "stream",
     "text": [
      "Validation loss: 0.11006916641293404\n",
      "Epoch 18/30\n",
      "fit\n"
     ]
    },
    {
     "name": "stderr",
     "output_type": "stream",
     "text": [
      "\n",
      "100%|██████████| 8/8 [00:07<00:00,  1.12it/s]\n"
     ]
    },
    {
     "name": "stdout",
     "output_type": "stream",
     "text": [
      "Train loss: 0.06180483940988779\n",
      "validate\n"
     ]
    },
    {
     "name": "stderr",
     "output_type": "stream",
     "text": [
      "100%|██████████| 2/2 [00:02<00:00,  1.30s/it]\n"
     ]
    },
    {
     "name": "stdout",
     "output_type": "stream",
     "text": [
      "Validation loss: 0.09500680582864829\n",
      "Model validation loss improved by 0.0090 - Saving checkpoint\n",
      "Epoch 19/30\n",
      "fit\n"
     ]
    },
    {
     "name": "stderr",
     "output_type": "stream",
     "text": [
      "100%|██████████| 8/8 [00:07<00:00,  1.12it/s]\n"
     ]
    },
    {
     "name": "stdout",
     "output_type": "stream",
     "text": [
      "Train loss: 0.05657887179404497\n",
      "validate\n"
     ]
    },
    {
     "name": "stderr",
     "output_type": "stream",
     "text": [
      "100%|██████████| 2/2 [00:02<00:00,  1.29s/it]"
     ]
    },
    {
     "name": "stdout",
     "output_type": "stream",
     "text": [
      "Validation loss: 0.09680714348496758\n",
      "Epoch 20/30\n",
      "fit\n"
     ]
    },
    {
     "name": "stderr",
     "output_type": "stream",
     "text": [
      "\n",
      "100%|██████████| 8/8 [00:07<00:00,  1.12it/s]\n"
     ]
    },
    {
     "name": "stdout",
     "output_type": "stream",
     "text": [
      "Train loss: 0.05977287469431758\n",
      "validate\n"
     ]
    },
    {
     "name": "stderr",
     "output_type": "stream",
     "text": [
      "100%|██████████| 2/2 [00:02<00:00,  1.31s/it]\n"
     ]
    },
    {
     "name": "stdout",
     "output_type": "stream",
     "text": [
      "Validation loss: 0.09131326758172971\n",
      "Model validation loss improved by 0.0037 - Saving checkpoint\n",
      "Epoch 21/30\n",
      "fit\n"
     ]
    },
    {
     "name": "stderr",
     "output_type": "stream",
     "text": [
      "100%|██████████| 8/8 [00:07<00:00,  1.13it/s]\n"
     ]
    },
    {
     "name": "stdout",
     "output_type": "stream",
     "text": [
      "Train loss: 0.049860048573464155\n",
      "validate\n"
     ]
    },
    {
     "name": "stderr",
     "output_type": "stream",
     "text": [
      "100%|██████████| 2/2 [00:02<00:00,  1.30s/it]\n"
     ]
    },
    {
     "name": "stdout",
     "output_type": "stream",
     "text": [
      "Validation loss: 0.08534980796098116\n",
      "Model validation loss improved by 0.0060 - Saving checkpoint\n",
      "Epoch 22/30\n",
      "fit\n"
     ]
    },
    {
     "name": "stderr",
     "output_type": "stream",
     "text": [
      "100%|██████████| 8/8 [00:07<00:00,  1.12it/s]\n"
     ]
    },
    {
     "name": "stdout",
     "output_type": "stream",
     "text": [
      "Train loss: 0.05402238434180617\n",
      "validate\n"
     ]
    },
    {
     "name": "stderr",
     "output_type": "stream",
     "text": [
      "100%|██████████| 2/2 [00:02<00:00,  1.30s/it]"
     ]
    },
    {
     "name": "stdout",
     "output_type": "stream",
     "text": [
      "Validation loss: 0.08641662262899849\n",
      "Epoch 23/30\n",
      "fit\n"
     ]
    },
    {
     "name": "stderr",
     "output_type": "stream",
     "text": [
      "\n",
      "100%|██████████| 8/8 [00:07<00:00,  1.12it/s]\n"
     ]
    },
    {
     "name": "stdout",
     "output_type": "stream",
     "text": [
      "Train loss: 0.04902795236557722\n",
      "validate\n"
     ]
    },
    {
     "name": "stderr",
     "output_type": "stream",
     "text": [
      "100%|██████████| 2/2 [00:02<00:00,  1.32s/it]\n"
     ]
    },
    {
     "name": "stdout",
     "output_type": "stream",
     "text": [
      "Validation loss: 0.08006945046631282\n",
      "Model validation loss improved by 0.0053 - Saving checkpoint\n",
      "Epoch 24/30\n",
      "fit\n"
     ]
    },
    {
     "name": "stderr",
     "output_type": "stream",
     "text": [
      "100%|██████████| 8/8 [00:07<00:00,  1.11it/s]\n"
     ]
    },
    {
     "name": "stdout",
     "output_type": "stream",
     "text": [
      "Train loss: 0.04964812332764268\n",
      "validate\n"
     ]
    },
    {
     "name": "stderr",
     "output_type": "stream",
     "text": [
      "100%|██████████| 2/2 [00:02<00:00,  1.29s/it]\n"
     ]
    },
    {
     "name": "stdout",
     "output_type": "stream",
     "text": [
      "Validation loss: 0.0779273531707372\n",
      "Model validation loss improved by 0.0021 - Saving checkpoint\n",
      "Epoch 25/30\n",
      "fit\n"
     ]
    },
    {
     "name": "stderr",
     "output_type": "stream",
     "text": [
      "100%|██████████| 8/8 [00:07<00:00,  1.11it/s]\n"
     ]
    },
    {
     "name": "stdout",
     "output_type": "stream",
     "text": [
      "Train loss: 0.050418224185705185\n",
      "validate\n"
     ]
    },
    {
     "name": "stderr",
     "output_type": "stream",
     "text": [
      "100%|██████████| 2/2 [00:02<00:00,  1.30s/it]\n"
     ]
    },
    {
     "name": "stdout",
     "output_type": "stream",
     "text": [
      "Validation loss: 0.0725115135736191\n",
      "Model validation loss improved by 0.0054 - Saving checkpoint\n",
      "Epoch 26/30\n",
      "fit\n"
     ]
    },
    {
     "name": "stderr",
     "output_type": "stream",
     "text": [
      "100%|██████████| 8/8 [00:07<00:00,  1.11it/s]\n"
     ]
    },
    {
     "name": "stdout",
     "output_type": "stream",
     "text": [
      "Train loss: 0.04469008184969425\n",
      "validate\n"
     ]
    },
    {
     "name": "stderr",
     "output_type": "stream",
     "text": [
      "100%|██████████| 2/2 [00:02<00:00,  1.40s/it]\n"
     ]
    },
    {
     "name": "stdout",
     "output_type": "stream",
     "text": [
      "Validation loss: 0.07222994875293647\n",
      "Model validation loss improved by 0.0003 - Saving checkpoint\n",
      "Epoch 27/30\n",
      "fit\n"
     ]
    },
    {
     "name": "stderr",
     "output_type": "stream",
     "text": [
      "100%|██████████| 8/8 [00:07<00:00,  1.09it/s]\n"
     ]
    },
    {
     "name": "stdout",
     "output_type": "stream",
     "text": [
      "Train loss: 0.04334917454980314\n",
      "validate\n"
     ]
    },
    {
     "name": "stderr",
     "output_type": "stream",
     "text": [
      "100%|██████████| 2/2 [00:02<00:00,  1.37s/it]\n"
     ]
    },
    {
     "name": "stdout",
     "output_type": "stream",
     "text": [
      "Validation loss: 0.06721710554438096\n",
      "Model validation loss improved by 0.0050 - Saving checkpoint\n",
      "Epoch 28/30\n",
      "fit\n"
     ]
    },
    {
     "name": "stderr",
     "output_type": "stream",
     "text": [
      "100%|██████████| 8/8 [00:07<00:00,  1.07it/s]\n"
     ]
    },
    {
     "name": "stdout",
     "output_type": "stream",
     "text": [
      "Train loss: 0.047427001409232616\n",
      "validate\n"
     ]
    },
    {
     "name": "stderr",
     "output_type": "stream",
     "text": [
      "100%|██████████| 2/2 [00:02<00:00,  1.36s/it]"
     ]
    },
    {
     "name": "stdout",
     "output_type": "stream",
     "text": [
      "Validation loss: 0.06782849693310364\n",
      "Epoch 29/30\n",
      "fit\n"
     ]
    },
    {
     "name": "stderr",
     "output_type": "stream",
     "text": [
      "\n",
      "100%|██████████| 8/8 [00:07<00:00,  1.08it/s]\n"
     ]
    },
    {
     "name": "stdout",
     "output_type": "stream",
     "text": [
      "Train loss: 0.04245323035866022\n",
      "validate\n"
     ]
    },
    {
     "name": "stderr",
     "output_type": "stream",
     "text": [
      "100%|██████████| 2/2 [00:02<00:00,  1.36s/it]\n"
     ]
    },
    {
     "name": "stdout",
     "output_type": "stream",
     "text": [
      "Validation loss: 0.0634400129631344\n",
      "Model validation loss improved by 0.0038 - Saving checkpoint\n",
      "Epoch 30/30\n",
      "fit\n"
     ]
    },
    {
     "name": "stderr",
     "output_type": "stream",
     "text": [
      "100%|██████████| 8/8 [00:07<00:00,  1.09it/s]\n"
     ]
    },
    {
     "name": "stdout",
     "output_type": "stream",
     "text": [
      "Train loss: 0.039519104175269604\n",
      "validate\n"
     ]
    },
    {
     "name": "stderr",
     "output_type": "stream",
     "text": [
      "100%|██████████| 2/2 [00:02<00:00,  1.34s/it]\n"
     ]
    },
    {
     "name": "stdout",
     "output_type": "stream",
     "text": [
      "Validation loss: 0.060611644665999664\n",
      "Model validation loss improved by 0.0028 - Saving checkpoint\n"
     ]
    }
   ],
   "source": [
    "epochs = 30\n",
    "unfreeze_after = 2\n",
    "metrics = {\"epoch\": [], \"train_loss\": [], \"val_loss\": []}\n",
    "min_val_loss = float('inf')\n",
    "best_epoch = None\n",
    "total_train_time = 0\n",
    "epoch_times = []\n",
    "\n",
    "# Set seeds for reproducibility\n",
    "torch.manual_seed(seed)\n",
    "torch.cuda.manual_seed(seed)\n",
    "np.random.seed(seed)\n",
    "random.seed(seed)\n",
    "torch.backends.cudnn.deterministic = True\n",
    "torch.backends.cudnn.benchmark = False\n",
    "\n",
    "for epoch in range(epochs):\n",
    "    print(f\"Epoch {epoch + 1}/{epochs}\")\n",
    "\n",
    "    print(\"fit\")\n",
    "    train_loss = fit(model, criterion, optimizer, train_dl, device, epoch)\n",
    "    metrics[\"train_loss\"].append(train_loss)\n",
    "    metrics[\"epoch\"].append(epoch)\n",
    "    print(f\"Train loss: {train_loss}\")\n",
    "\n",
    "    print(\"validate\")\n",
    "    val_loss = validate(model, [criterion], val_dl, device)[0]\n",
    "    metrics[\"val_loss\"].append(val_loss)\n",
    "    print(f\"Validation loss: {val_loss}\")\n",
    "\n",
    "    # Learning rate update\n",
    "    old_lr = optimizer.param_groups[0]['lr']\n",
    "    scheduler.step(val_loss)\n",
    "    new_lr = optimizer.param_groups[0]['lr']\n",
    "    if old_lr != new_lr:\n",
    "        print(f\"Learning rate adjusted: {old_lr:.6f} -> {new_lr:.6f}\")\n",
    "\n",
    "    # Model saving\n",
    "    checkpoint_path = checkpoint_dir / f\"epoch_{epoch:02d}.pth\"\n",
    "    save_checkpoint(\n",
    "        checkpoint_path, epoch, model, optimizer, train_loss,\n",
    "        transforms,\n",
    "        {\n",
    "            \"aspect\": aspect,\n",
    "            \"input_shape\": input_shape,\n",
    "            \"img_sample_mean\": img_mean,\n",
    "            \"img_sample_std\": img_std\n",
    "        }\n",
    "    )\n",
    "\n",
    "    # Check for improvement\n",
    "    if epoch == 0:\n",
    "        print(\"Initial checkpoint - Saving\")\n",
    "    elif val_loss < min_val_loss:\n",
    "        improvement = min_val_loss - val_loss\n",
    "        print(f\"Model validation loss improved by {improvement:.4f} - Saving checkpoint\")\n",
    "        best_model_path = model_dir / \"model.pth\"\n",
    "        shutil.copy(checkpoint_path, best_model_path)\n",
    "        min_val_loss = val_loss\n",
    "        best_epoch = epoch\n",
    "\n",
    "    # Save metrics\n",
    "    pd.DataFrame(metrics).to_csv(output_dir / \"train\" / \"metrics.csv\", index=False)\n",
    "\n",
    "    # Backbone unfreezing\n",
    "    if (epoch + 1) == unfreeze_after:\n",
    "        print(f\"Unfreezing CNN backbone at epoch {epoch + 1}\")\n",
    "        for p in list(model.children())[0].parameters():\n",
    "            p.requires_grad = True"
   ]
  },
  {
   "cell_type": "code",
   "execution_count": 31,
   "metadata": {},
   "outputs": [
    {
     "data": {
      "image/png": "[encoded data removed]",
      "text/plain": [
       "<Figure size 640x480 with 1 Axes>"
      ]
     },
     "metadata": {},
     "output_type": "display_data"
    }
   ],
   "source": [
    "# plot metrics\n",
    "plt.plot(metrics[\"epoch\"], metrics[\"train_loss\"], label=\"Train Loss\")\n",
    "plt.plot(metrics[\"epoch\"], metrics[\"val_loss\"], label=\"Validation Loss\")\n",
    "plt.legend()\n",
    "plt.show()"
   ]
  },
  {
   "cell_type": "markdown",
   "metadata": {},
   "source": [
    "## Test Images"
   ]
  },
  {
   "cell_type": "code",
   "execution_count": 32,
   "metadata": {},
   "outputs": [
    {
     "data": {
      "text/html": [
       "<div>\n",
       "<style scoped>\n",
       "    .dataframe tbody tr th:only-of-type {\n",
       "        vertical-align: middle;\n",
       "    }\n",
       "\n",
       "    .dataframe tbody tr th {\n",
       "        vertical-align: top;\n",
       "    }\n",
       "\n",
       "    .dataframe thead th {\n",
       "        text-align: right;\n",
       "    }\n",
       "</style>\n",
       "<table border=\"1\" class=\"dataframe\">\n",
       "  <thead>\n",
       "    <tr style=\"text-align: right;\">\n",
       "      <th></th>\n",
       "      <th>split</th>\n",
       "      <th>image_id</th>\n",
       "      <th>timestamp</th>\n",
       "      <th>filename</th>\n",
       "      <th>url</th>\n",
       "      <th>value</th>\n",
       "      <th>date</th>\n",
       "      <th>prcp</th>\n",
       "      <th>jday</th>\n",
       "      <th>dhour</th>\n",
       "      <th>obs</th>\n",
       "      <th>zero</th>\n",
       "      <th>rand</th>\n",
       "      <th>obs_z</th>\n",
       "      <th>prcp_z</th>\n",
       "      <th>jday_z</th>\n",
       "      <th>dhour_z</th>\n",
       "    </tr>\n",
       "  </thead>\n",
       "  <tbody>\n",
       "    <tr>\n",
       "      <th>0</th>\n",
       "      <td>test-in</td>\n",
       "      <td>624034</td>\n",
       "      <td>2022-05-22 20:00:00</td>\n",
       "      <td>imagesets/33c0736b-f5fb-4da6-91b0-83a72c285382...</td>\n",
       "      <td>https://usgs-chs-conte-prod-fpe-storage.s3.ama...</td>\n",
       "      <td>6.680000</td>\n",
       "      <td>2022-05-22</td>\n",
       "      <td>7.45</td>\n",
       "      <td>142</td>\n",
       "      <td>16.000000</td>\n",
       "      <td>0.824776</td>\n",
       "      <td>0</td>\n",
       "      <td>0.112478</td>\n",
       "      <td>0.436951</td>\n",
       "      <td>0.113187</td>\n",
       "      <td>0.387363</td>\n",
       "      <td>0.750017</td>\n",
       "    </tr>\n",
       "    <tr>\n",
       "      <th>1</th>\n",
       "      <td>test-in</td>\n",
       "      <td>661236</td>\n",
       "      <td>2022-06-09 15:15:01</td>\n",
       "      <td>imagesets/cb2b67b0-0f07-4351-b96d-2659d5b56c9f...</td>\n",
       "      <td>https://usgs-chs-conte-prod-fpe-storage.s3.ama...</td>\n",
       "      <td>31.799000</td>\n",
       "      <td>2022-06-09</td>\n",
       "      <td>7.42</td>\n",
       "      <td>160</td>\n",
       "      <td>11.250278</td>\n",
       "      <td>1.502413</td>\n",
       "      <td>0</td>\n",
       "      <td>0.219296</td>\n",
       "      <td>0.591032</td>\n",
       "      <td>0.112732</td>\n",
       "      <td>0.436813</td>\n",
       "      <td>0.354198</td>\n",
       "    </tr>\n",
       "    <tr>\n",
       "      <th>2</th>\n",
       "      <td>test-in</td>\n",
       "      <td>3524434</td>\n",
       "      <td>2023-09-14 11:30:00</td>\n",
       "      <td>imagesets/28817548-7828-4365-9263-af78ce15b503...</td>\n",
       "      <td>https://usgs-chs-conte-prod-fpe-storage.s3.ama...</td>\n",
       "      <td>13.300000</td>\n",
       "      <td>2023-09-14</td>\n",
       "      <td>0.00</td>\n",
       "      <td>257</td>\n",
       "      <td>7.500000</td>\n",
       "      <td>1.123852</td>\n",
       "      <td>0</td>\n",
       "      <td>0.224699</td>\n",
       "      <td>0.504955</td>\n",
       "      <td>0.000000</td>\n",
       "      <td>0.703297</td>\n",
       "      <td>0.041668</td>\n",
       "    </tr>\n",
       "    <tr>\n",
       "      <th>3</th>\n",
       "      <td>test-in</td>\n",
       "      <td>1390235</td>\n",
       "      <td>2022-11-15 15:00:00</td>\n",
       "      <td>imagesets/e2a3b2b6-d391-481a-9814-dc61cf83a990...</td>\n",
       "      <td>https://usgs-chs-conte-prod-fpe-storage.s3.ama...</td>\n",
       "      <td>4.100000</td>\n",
       "      <td>2022-11-15</td>\n",
       "      <td>19.14</td>\n",
       "      <td>319</td>\n",
       "      <td>10.000000</td>\n",
       "      <td>0.612784</td>\n",
       "      <td>0</td>\n",
       "      <td>0.835279</td>\n",
       "      <td>0.388749</td>\n",
       "      <td>0.290793</td>\n",
       "      <td>0.873626</td>\n",
       "      <td>0.250006</td>\n",
       "    </tr>\n",
       "    <tr>\n",
       "      <th>4</th>\n",
       "      <td>test-in</td>\n",
       "      <td>2019452</td>\n",
       "      <td>2023-03-19 20:15:01</td>\n",
       "      <td>imagesets/27aae6d9-9417-4b53-bf6a-cd2ce8139ba1...</td>\n",
       "      <td>https://usgs-chs-conte-prod-fpe-storage.s3.ama...</td>\n",
       "      <td>29.201111</td>\n",
       "      <td>2023-03-19</td>\n",
       "      <td>0.00</td>\n",
       "      <td>78</td>\n",
       "      <td>16.250278</td>\n",
       "      <td>1.465399</td>\n",
       "      <td>0</td>\n",
       "      <td>0.853963</td>\n",
       "      <td>0.582616</td>\n",
       "      <td>0.000000</td>\n",
       "      <td>0.211538</td>\n",
       "      <td>0.770874</td>\n",
       "    </tr>\n",
       "  </tbody>\n",
       "</table>\n",
       "</div>"
      ],
      "text/plain": [
       "     split  image_id            timestamp  \\\n",
       "0  test-in    624034  2022-05-22 20:00:00   \n",
       "1  test-in    661236  2022-06-09 15:15:01   \n",
       "2  test-in   3524434  2023-09-14 11:30:00   \n",
       "3  test-in   1390235  2022-11-15 15:00:00   \n",
       "4  test-in   2019452  2023-03-19 20:15:01   \n",
       "\n",
       "                                            filename  \\\n",
       "0  imagesets/33c0736b-f5fb-4da6-91b0-83a72c285382...   \n",
       "1  imagesets/cb2b67b0-0f07-4351-b96d-2659d5b56c9f...   \n",
       "2  imagesets/28817548-7828-4365-9263-af78ce15b503...   \n",
       "3  imagesets/e2a3b2b6-d391-481a-9814-dc61cf83a990...   \n",
       "4  imagesets/27aae6d9-9417-4b53-bf6a-cd2ce8139ba1...   \n",
       "\n",
       "                                                 url      value        date  \\\n",
       "0  https://usgs-chs-conte-prod-fpe-storage.s3.ama...   6.680000  2022-05-22   \n",
       "1  https://usgs-chs-conte-prod-fpe-storage.s3.ama...  31.799000  2022-06-09   \n",
       "2  https://usgs-chs-conte-prod-fpe-storage.s3.ama...  13.300000  2023-09-14   \n",
       "3  https://usgs-chs-conte-prod-fpe-storage.s3.ama...   4.100000  2022-11-15   \n",
       "4  https://usgs-chs-conte-prod-fpe-storage.s3.ama...  29.201111  2023-03-19   \n",
       "\n",
       "    prcp  jday      dhour       obs  zero      rand     obs_z    prcp_z  \\\n",
       "0   7.45   142  16.000000  0.824776     0  0.112478  0.436951  0.113187   \n",
       "1   7.42   160  11.250278  1.502413     0  0.219296  0.591032  0.112732   \n",
       "2   0.00   257   7.500000  1.123852     0  0.224699  0.504955  0.000000   \n",
       "3  19.14   319  10.000000  0.612784     0  0.835279  0.388749  0.290793   \n",
       "4   0.00    78  16.250278  1.465399     0  0.853963  0.582616  0.000000   \n",
       "\n",
       "     jday_z   dhour_z  \n",
       "0  0.387363  0.750017  \n",
       "1  0.436813  0.354198  \n",
       "2  0.703297  0.041668  \n",
       "3  0.873626  0.250006  \n",
       "4  0.211538  0.770874  "
      ]
     },
     "execution_count": 32,
     "metadata": {},
     "output_type": "execute_result"
    }
   ],
   "source": [
    "test_df = pd.read_csv(data_dir / \"test-images.csv\")\n",
    "test_df.head()\n"
   ]
  },
  {
   "cell_type": "code",
   "execution_count": 33,
   "metadata": {},
   "outputs": [
    {
     "data": {
      "text/plain": [
       "(tensor([[[0.3176, 0.3176, 0.3255,  ..., 0.9922, 0.9843, 0.9843],\n",
       "          [0.3216, 0.3255, 0.3294,  ..., 0.9922, 0.9843, 0.9843],\n",
       "          [0.3137, 0.3176, 0.3333,  ..., 0.9961, 0.9961, 0.9961],\n",
       "          ...,\n",
       "          [0.9961, 0.9961, 0.9961,  ..., 0.9961, 0.9961, 0.9961],\n",
       "          [0.9961, 0.9961, 0.9961,  ..., 0.9961, 0.9961, 0.9961],\n",
       "          [0.9961, 0.9961, 0.9961,  ..., 0.9961, 0.9961, 0.9961]],\n",
       " \n",
       "         [[0.3804, 0.3804, 0.3843,  ..., 0.9961, 1.0000, 1.0000],\n",
       "          [0.3765, 0.3804, 0.3843,  ..., 0.9961, 1.0000, 1.0000],\n",
       "          [0.3647, 0.3725, 0.3765,  ..., 1.0000, 1.0000, 1.0000],\n",
       "          ...,\n",
       "          [1.0000, 1.0000, 1.0000,  ..., 1.0000, 1.0000, 1.0000],\n",
       "          [1.0000, 1.0000, 1.0000,  ..., 1.0000, 1.0000, 1.0000],\n",
       "          [1.0000, 1.0000, 1.0000,  ..., 1.0000, 1.0000, 1.0000]],\n",
       " \n",
       "         [[0.2392, 0.2353, 0.2314,  ..., 0.7608, 0.7686, 0.7686],\n",
       "          [0.2471, 0.2431, 0.2431,  ..., 0.7686, 0.7686, 0.7686],\n",
       "          [0.2471, 0.2431, 0.2431,  ..., 0.7765, 0.7725, 0.7725],\n",
       "          ...,\n",
       "          [0.9922, 0.9922, 0.9922,  ..., 0.9922, 0.9922, 0.9922],\n",
       "          [0.9922, 0.9922, 0.9922,  ..., 0.9922, 0.9922, 0.9922],\n",
       "          [0.9922, 0.9922, 0.9922,  ..., 0.9922, 0.9922, 0.9922]]]),\n",
       " 6.68)"
      ]
     },
     "execution_count": 33,
     "metadata": {},
     "output_type": "execute_result"
    }
   ],
   "source": [
    "# Create dataset\n",
    "dataset = FlowPhotoDataset(test_df, images_dir)\n",
    "dataset[0]"
   ]
  },
  {
   "cell_type": "code",
   "execution_count": 34,
   "metadata": {},
   "outputs": [
    {
     "data": {
      "text/html": [
       "<div>\n",
       "<style scoped>\n",
       "    .dataframe tbody tr th:only-of-type {\n",
       "        vertical-align: middle;\n",
       "    }\n",
       "\n",
       "    .dataframe tbody tr th {\n",
       "        vertical-align: top;\n",
       "    }\n",
       "\n",
       "    .dataframe thead th {\n",
       "        text-align: right;\n",
       "    }\n",
       "</style>\n",
       "<table border=\"1\" class=\"dataframe\">\n",
       "  <thead>\n",
       "    <tr style=\"text-align: right;\">\n",
       "      <th></th>\n",
       "      <th>image_id</th>\n",
       "      <th>value</th>\n",
       "      <th>prcp</th>\n",
       "      <th>jday</th>\n",
       "      <th>dhour</th>\n",
       "      <th>obs</th>\n",
       "      <th>zero</th>\n",
       "      <th>rand</th>\n",
       "      <th>obs_z</th>\n",
       "      <th>prcp_z</th>\n",
       "      <th>jday_z</th>\n",
       "      <th>dhour_z</th>\n",
       "    </tr>\n",
       "  </thead>\n",
       "  <tbody>\n",
       "    <tr>\n",
       "      <th>count</th>\n",
       "      <td>1.000000e+03</td>\n",
       "      <td>1000.000000</td>\n",
       "      <td>1000.000000</td>\n",
       "      <td>1000.000000</td>\n",
       "      <td>1000.000000</td>\n",
       "      <td>1000.000000</td>\n",
       "      <td>1000.0</td>\n",
       "      <td>1000.000000</td>\n",
       "      <td>1000.000000</td>\n",
       "      <td>1000.000000</td>\n",
       "      <td>1000.000000</td>\n",
       "      <td>1000.000000</td>\n",
       "    </tr>\n",
       "    <tr>\n",
       "      <th>mean</th>\n",
       "      <td>1.664340e+06</td>\n",
       "      <td>19.232092</td>\n",
       "      <td>4.663630</td>\n",
       "      <td>178.155000</td>\n",
       "      <td>12.862627</td>\n",
       "      <td>0.894935</td>\n",
       "      <td>0.0</td>\n",
       "      <td>0.507283</td>\n",
       "      <td>0.452904</td>\n",
       "      <td>0.070854</td>\n",
       "      <td>0.486690</td>\n",
       "      <td>0.488564</td>\n",
       "    </tr>\n",
       "    <tr>\n",
       "      <th>std</th>\n",
       "      <td>1.015261e+06</td>\n",
       "      <td>30.322921</td>\n",
       "      <td>9.029596</td>\n",
       "      <td>86.554773</td>\n",
       "      <td>3.439631</td>\n",
       "      <td>0.704506</td>\n",
       "      <td>0.0</td>\n",
       "      <td>0.281779</td>\n",
       "      <td>0.160190</td>\n",
       "      <td>0.137186</td>\n",
       "      <td>0.237788</td>\n",
       "      <td>0.286643</td>\n",
       "    </tr>\n",
       "    <tr>\n",
       "      <th>min</th>\n",
       "      <td>4.414980e+05</td>\n",
       "      <td>0.090000</td>\n",
       "      <td>0.000000</td>\n",
       "      <td>1.000000</td>\n",
       "      <td>7.000000</td>\n",
       "      <td>-1.045757</td>\n",
       "      <td>0.0</td>\n",
       "      <td>0.000334</td>\n",
       "      <td>0.011631</td>\n",
       "      <td>0.000000</td>\n",
       "      <td>0.000000</td>\n",
       "      <td>0.000000</td>\n",
       "    </tr>\n",
       "    <tr>\n",
       "      <th>25%</th>\n",
       "      <td>6.642732e+05</td>\n",
       "      <td>3.810000</td>\n",
       "      <td>0.000000</td>\n",
       "      <td>105.000000</td>\n",
       "      <td>9.750278</td>\n",
       "      <td>0.580920</td>\n",
       "      <td>0.0</td>\n",
       "      <td>0.266060</td>\n",
       "      <td>0.381504</td>\n",
       "      <td>0.000000</td>\n",
       "      <td>0.285714</td>\n",
       "      <td>0.229195</td>\n",
       "    </tr>\n",
       "    <tr>\n",
       "      <th>50%</th>\n",
       "      <td>1.644311e+06</td>\n",
       "      <td>11.000000</td>\n",
       "      <td>0.000000</td>\n",
       "      <td>186.000000</td>\n",
       "      <td>12.749722</td>\n",
       "      <td>1.041393</td>\n",
       "      <td>0.0</td>\n",
       "      <td>0.506959</td>\n",
       "      <td>0.486206</td>\n",
       "      <td>0.000000</td>\n",
       "      <td>0.508242</td>\n",
       "      <td>0.479155</td>\n",
       "    </tr>\n",
       "    <tr>\n",
       "      <th>75%</th>\n",
       "      <td>2.461374e+06</td>\n",
       "      <td>25.400000</td>\n",
       "      <td>5.660000</td>\n",
       "      <td>241.000000</td>\n",
       "      <td>16.000000</td>\n",
       "      <td>1.404834</td>\n",
       "      <td>0.0</td>\n",
       "      <td>0.759049</td>\n",
       "      <td>0.568844</td>\n",
       "      <td>0.085992</td>\n",
       "      <td>0.659341</td>\n",
       "      <td>0.750017</td>\n",
       "    </tr>\n",
       "    <tr>\n",
       "      <th>max</th>\n",
       "      <td>3.526010e+06</td>\n",
       "      <td>393.000000</td>\n",
       "      <td>65.820000</td>\n",
       "      <td>364.000000</td>\n",
       "      <td>18.999722</td>\n",
       "      <td>2.594393</td>\n",
       "      <td>0.0</td>\n",
       "      <td>0.996617</td>\n",
       "      <td>0.839325</td>\n",
       "      <td>1.000000</td>\n",
       "      <td>0.997253</td>\n",
       "      <td>1.000000</td>\n",
       "    </tr>\n",
       "  </tbody>\n",
       "</table>\n",
       "</div>"
      ],
      "text/plain": [
       "           image_id        value         prcp         jday        dhour  \\\n",
       "count  1.000000e+03  1000.000000  1000.000000  1000.000000  1000.000000   \n",
       "mean   1.664340e+06    19.232092     4.663630   178.155000    12.862627   \n",
       "std    1.015261e+06    30.322921     9.029596    86.554773     3.439631   \n",
       "min    4.414980e+05     0.090000     0.000000     1.000000     7.000000   \n",
       "25%    6.642732e+05     3.810000     0.000000   105.000000     9.750278   \n",
       "50%    1.644311e+06    11.000000     0.000000   186.000000    12.749722   \n",
       "75%    2.461374e+06    25.400000     5.660000   241.000000    16.000000   \n",
       "max    3.526010e+06   393.000000    65.820000   364.000000    18.999722   \n",
       "\n",
       "               obs    zero         rand        obs_z       prcp_z  \\\n",
       "count  1000.000000  1000.0  1000.000000  1000.000000  1000.000000   \n",
       "mean      0.894935     0.0     0.507283     0.452904     0.070854   \n",
       "std       0.704506     0.0     0.281779     0.160190     0.137186   \n",
       "min      -1.045757     0.0     0.000334     0.011631     0.000000   \n",
       "25%       0.580920     0.0     0.266060     0.381504     0.000000   \n",
       "50%       1.041393     0.0     0.506959     0.486206     0.000000   \n",
       "75%       1.404834     0.0     0.759049     0.568844     0.085992   \n",
       "max       2.594393     0.0     0.996617     0.839325     1.000000   \n",
       "\n",
       "            jday_z      dhour_z  \n",
       "count  1000.000000  1000.000000  \n",
       "mean      0.486690     0.488564  \n",
       "std       0.237788     0.286643  \n",
       "min       0.000000     0.000000  \n",
       "25%       0.285714     0.229195  \n",
       "50%       0.508242     0.479155  \n",
       "75%       0.659341     0.750017  \n",
       "max       0.997253     1.000000  "
      ]
     },
     "execution_count": 34,
     "metadata": {},
     "output_type": "execute_result"
    }
   ],
   "source": [
    "dataset.table.describe()"
   ]
  },
  {
   "cell_type": "code",
   "execution_count": 35,
   "metadata": {},
   "outputs": [
    {
     "name": "stderr",
     "output_type": "stream",
     "text": [
      "/tmp/ipykernel_2170826/261073641.py:3: FutureWarning: You are using `torch.load` with `weights_only=False` (the current default value), which uses the default pickle module implicitly. It is possible to construct malicious pickle data which will execute arbitrary code during unpickling (See https://github.com/pytorch/pytorch/blob/main/SECURITY.md#untrusted-models for more details). In a future release, the default value for `weights_only` will be flipped to `True`. This limits the functions that could be executed during unpickling. Arbitrary objects will no longer be allowed to be loaded via this mode unless they are explicitly allowlisted by the user via `torch.serialization.add_safe_globals`. We recommend you start setting `weights_only=True` for any use case where you don't have full control of the loaded file. Please open an issue on GitHub for any issues related to this experimental feature.\n",
      "  checkpoint = torch.load(model_path, map_location=device)\n"
     ]
    },
    {
     "data": {
      "text/plain": [
       "ResNetRegressionNet(\n",
       "  (resnetbody): ResNet18(\n",
       "    (model): Sequential(\n",
       "      (0): Conv2d(3, 64, kernel_size=(7, 7), stride=(2, 2), padding=(3, 3), bias=False)\n",
       "      (1): BatchNorm2d(64, eps=1e-05, momentum=0.1, affine=True, track_running_stats=True)\n",
       "      (2): ReLU(inplace=True)\n",
       "      (3): MaxPool2d(kernel_size=3, stride=2, padding=1, dilation=1, ceil_mode=False)\n",
       "      (4): Sequential(\n",
       "        (0): BasicBlock(\n",
       "          (conv1): Conv2d(64, 64, kernel_size=(3, 3), stride=(1, 1), padding=(1, 1), bias=False)\n",
       "          (bn1): BatchNorm2d(64, eps=1e-05, momentum=0.1, affine=True, track_running_stats=True)\n",
       "          (relu): ReLU(inplace=True)\n",
       "          (conv2): Conv2d(64, 64, kernel_size=(3, 3), stride=(1, 1), padding=(1, 1), bias=False)\n",
       "          (bn2): BatchNorm2d(64, eps=1e-05, momentum=0.1, affine=True, track_running_stats=True)\n",
       "        )\n",
       "        (1): BasicBlock(\n",
       "          (conv1): Conv2d(64, 64, kernel_size=(3, 3), stride=(1, 1), padding=(1, 1), bias=False)\n",
       "          (bn1): BatchNorm2d(64, eps=1e-05, momentum=0.1, affine=True, track_running_stats=True)\n",
       "          (relu): ReLU(inplace=True)\n",
       "          (conv2): Conv2d(64, 64, kernel_size=(3, 3), stride=(1, 1), padding=(1, 1), bias=False)\n",
       "          (bn2): BatchNorm2d(64, eps=1e-05, momentum=0.1, affine=True, track_running_stats=True)\n",
       "        )\n",
       "      )\n",
       "      (5): Sequential(\n",
       "        (0): BasicBlock(\n",
       "          (conv1): Conv2d(64, 128, kernel_size=(3, 3), stride=(2, 2), padding=(1, 1), bias=False)\n",
       "          (bn1): BatchNorm2d(128, eps=1e-05, momentum=0.1, affine=True, track_running_stats=True)\n",
       "          (relu): ReLU(inplace=True)\n",
       "          (conv2): Conv2d(128, 128, kernel_size=(3, 3), stride=(1, 1), padding=(1, 1), bias=False)\n",
       "          (bn2): BatchNorm2d(128, eps=1e-05, momentum=0.1, affine=True, track_running_stats=True)\n",
       "          (downsample): Sequential(\n",
       "            (0): Conv2d(64, 128, kernel_size=(1, 1), stride=(2, 2), bias=False)\n",
       "            (1): BatchNorm2d(128, eps=1e-05, momentum=0.1, affine=True, track_running_stats=True)\n",
       "          )\n",
       "        )\n",
       "        (1): BasicBlock(\n",
       "          (conv1): Conv2d(128, 128, kernel_size=(3, 3), stride=(1, 1), padding=(1, 1), bias=False)\n",
       "          (bn1): BatchNorm2d(128, eps=1e-05, momentum=0.1, affine=True, track_running_stats=True)\n",
       "          (relu): ReLU(inplace=True)\n",
       "          (conv2): Conv2d(128, 128, kernel_size=(3, 3), stride=(1, 1), padding=(1, 1), bias=False)\n",
       "          (bn2): BatchNorm2d(128, eps=1e-05, momentum=0.1, affine=True, track_running_stats=True)\n",
       "        )\n",
       "      )\n",
       "      (6): Sequential(\n",
       "        (0): BasicBlock(\n",
       "          (conv1): Conv2d(128, 256, kernel_size=(3, 3), stride=(2, 2), padding=(1, 1), bias=False)\n",
       "          (bn1): BatchNorm2d(256, eps=1e-05, momentum=0.1, affine=True, track_running_stats=True)\n",
       "          (relu): ReLU(inplace=True)\n",
       "          (conv2): Conv2d(256, 256, kernel_size=(3, 3), stride=(1, 1), padding=(1, 1), bias=False)\n",
       "          (bn2): BatchNorm2d(256, eps=1e-05, momentum=0.1, affine=True, track_running_stats=True)\n",
       "          (downsample): Sequential(\n",
       "            (0): Conv2d(128, 256, kernel_size=(1, 1), stride=(2, 2), bias=False)\n",
       "            (1): BatchNorm2d(256, eps=1e-05, momentum=0.1, affine=True, track_running_stats=True)\n",
       "          )\n",
       "        )\n",
       "        (1): BasicBlock(\n",
       "          (conv1): Conv2d(256, 256, kernel_size=(3, 3), stride=(1, 1), padding=(1, 1), bias=False)\n",
       "          (bn1): BatchNorm2d(256, eps=1e-05, momentum=0.1, affine=True, track_running_stats=True)\n",
       "          (relu): ReLU(inplace=True)\n",
       "          (conv2): Conv2d(256, 256, kernel_size=(3, 3), stride=(1, 1), padding=(1, 1), bias=False)\n",
       "          (bn2): BatchNorm2d(256, eps=1e-05, momentum=0.1, affine=True, track_running_stats=True)\n",
       "        )\n",
       "      )\n",
       "      (7): Sequential(\n",
       "        (0): BasicBlock(\n",
       "          (conv1): Conv2d(256, 512, kernel_size=(3, 3), stride=(2, 2), padding=(1, 1), bias=False)\n",
       "          (bn1): BatchNorm2d(512, eps=1e-05, momentum=0.1, affine=True, track_running_stats=True)\n",
       "          (relu): ReLU(inplace=True)\n",
       "          (conv2): Conv2d(512, 512, kernel_size=(3, 3), stride=(1, 1), padding=(1, 1), bias=False)\n",
       "          (bn2): BatchNorm2d(512, eps=1e-05, momentum=0.1, affine=True, track_running_stats=True)\n",
       "          (downsample): Sequential(\n",
       "            (0): Conv2d(256, 512, kernel_size=(1, 1), stride=(2, 2), bias=False)\n",
       "            (1): BatchNorm2d(512, eps=1e-05, momentum=0.1, affine=True, track_running_stats=True)\n",
       "          )\n",
       "        )\n",
       "        (1): BasicBlock(\n",
       "          (conv1): Conv2d(512, 512, kernel_size=(3, 3), stride=(1, 1), padding=(1, 1), bias=False)\n",
       "          (bn1): BatchNorm2d(512, eps=1e-05, momentum=0.1, affine=True, track_running_stats=True)\n",
       "          (relu): ReLU(inplace=True)\n",
       "          (conv2): Conv2d(512, 512, kernel_size=(3, 3), stride=(1, 1), padding=(1, 1), bias=False)\n",
       "          (bn2): BatchNorm2d(512, eps=1e-05, momentum=0.1, affine=True, track_running_stats=True)\n",
       "        )\n",
       "      )\n",
       "    )\n",
       "  )\n",
       "  (avgpool): AdaptiveAvgPool2d(output_size=(1, 1))\n",
       "  (fclayers): Sequential(\n",
       "    (0): Linear(in_features=512, out_features=256, bias=True)\n",
       "    (1): ReLU()\n",
       "    (2): Linear(in_features=256, out_features=64, bias=True)\n",
       "    (3): ReLU()\n",
       "    (4): Linear(in_features=64, out_features=1, bias=True)\n",
       "  )\n",
       ")"
      ]
     },
     "execution_count": 35,
     "metadata": {},
     "output_type": "execute_result"
    }
   ],
   "source": [
    "# Load model\n",
    "model_path = model_dir / \"model.pth\"\n",
    "checkpoint = torch.load(model_path, map_location=device)\n",
    "params = checkpoint[\"params\"]\n",
    "\n",
    "model = ResNetRegressionNet(\n",
    "    input_shape=(3, params[\"input_shape\"][0], params[\"input_shape\"][1]),\n",
    "    transforms=checkpoint[\"transforms\"],\n",
    "    resnet_size=18,\n",
    "    truncate=2,\n",
    ")\n",
    "\n",
    "#model = nn.DataParallel(model, device_ids=None)\n",
    "model.load_state_dict(checkpoint[\"model_state_dict\"])\n",
    "\n",
    "model = model.to(device).eval()\n",
    "model"
   ]
  },
  {
   "cell_type": "code",
   "execution_count": 36,
   "metadata": {},
   "outputs": [
    {
     "name": "stderr",
     "output_type": "stream",
     "text": [
      "Generating predictions: 100%|██████████| 1000/1000 [00:21<00:00, 45.77it/s]\n"
     ]
    }
   ],
   "source": [
    "# Generate predictions\n",
    "scores = []\n",
    "with torch.no_grad():\n",
    "    for image, _ in tqdm(dataset, desc=\"Generating predictions\"):\n",
    "        # Move image to device and get prediction\n",
    "        image = image.to(device)\n",
    "        transformed = model.transforms['eval'](image)\n",
    "        output = model.forward(transformed.unsqueeze(0))\n",
    "        score = output.detach().cpu().numpy().item()\n",
    "        scores.append(score)\n",
    "scores = np.array(scores)"
   ]
  },
  {
   "cell_type": "code",
   "execution_count": 38,
   "metadata": {},
   "outputs": [
    {
     "data": {
      "text/html": [
       "<div>\n",
       "<style scoped>\n",
       "    .dataframe tbody tr th:only-of-type {\n",
       "        vertical-align: middle;\n",
       "    }\n",
       "\n",
       "    .dataframe tbody tr th {\n",
       "        vertical-align: top;\n",
       "    }\n",
       "\n",
       "    .dataframe thead th {\n",
       "        text-align: right;\n",
       "    }\n",
       "</style>\n",
       "<table border=\"1\" class=\"dataframe\">\n",
       "  <thead>\n",
       "    <tr style=\"text-align: right;\">\n",
       "      <th></th>\n",
       "      <th>image_id</th>\n",
       "      <th>value</th>\n",
       "      <th>prcp</th>\n",
       "      <th>jday</th>\n",
       "      <th>dhour</th>\n",
       "      <th>obs</th>\n",
       "      <th>zero</th>\n",
       "      <th>rand</th>\n",
       "      <th>obs_z</th>\n",
       "      <th>prcp_z</th>\n",
       "      <th>jday_z</th>\n",
       "      <th>dhour_z</th>\n",
       "      <th>score</th>\n",
       "    </tr>\n",
       "  </thead>\n",
       "  <tbody>\n",
       "    <tr>\n",
       "      <th>count</th>\n",
       "      <td>1.000000e+03</td>\n",
       "      <td>1000.000000</td>\n",
       "      <td>1000.000000</td>\n",
       "      <td>1000.000000</td>\n",
       "      <td>1000.000000</td>\n",
       "      <td>1000.000000</td>\n",
       "      <td>1000.0</td>\n",
       "      <td>1000.000000</td>\n",
       "      <td>1000.000000</td>\n",
       "      <td>1000.000000</td>\n",
       "      <td>1000.000000</td>\n",
       "      <td>1000.000000</td>\n",
       "      <td>1000.000000</td>\n",
       "    </tr>\n",
       "    <tr>\n",
       "      <th>mean</th>\n",
       "      <td>1.664340e+06</td>\n",
       "      <td>19.232092</td>\n",
       "      <td>4.663630</td>\n",
       "      <td>178.155000</td>\n",
       "      <td>12.862627</td>\n",
       "      <td>0.894935</td>\n",
       "      <td>0.0</td>\n",
       "      <td>0.507283</td>\n",
       "      <td>0.452904</td>\n",
       "      <td>0.070854</td>\n",
       "      <td>0.486690</td>\n",
       "      <td>0.488564</td>\n",
       "      <td>0.918453</td>\n",
       "    </tr>\n",
       "    <tr>\n",
       "      <th>std</th>\n",
       "      <td>1.015261e+06</td>\n",
       "      <td>30.322921</td>\n",
       "      <td>9.029596</td>\n",
       "      <td>86.554773</td>\n",
       "      <td>3.439631</td>\n",
       "      <td>0.704506</td>\n",
       "      <td>0.0</td>\n",
       "      <td>0.281779</td>\n",
       "      <td>0.160190</td>\n",
       "      <td>0.137186</td>\n",
       "      <td>0.237788</td>\n",
       "      <td>0.286643</td>\n",
       "      <td>0.677612</td>\n",
       "    </tr>\n",
       "    <tr>\n",
       "      <th>min</th>\n",
       "      <td>4.414980e+05</td>\n",
       "      <td>0.090000</td>\n",
       "      <td>0.000000</td>\n",
       "      <td>1.000000</td>\n",
       "      <td>7.000000</td>\n",
       "      <td>-1.045757</td>\n",
       "      <td>0.0</td>\n",
       "      <td>0.000334</td>\n",
       "      <td>0.011631</td>\n",
       "      <td>0.000000</td>\n",
       "      <td>0.000000</td>\n",
       "      <td>0.000000</td>\n",
       "      <td>-0.381456</td>\n",
       "    </tr>\n",
       "    <tr>\n",
       "      <th>25%</th>\n",
       "      <td>6.642732e+05</td>\n",
       "      <td>3.810000</td>\n",
       "      <td>0.000000</td>\n",
       "      <td>105.000000</td>\n",
       "      <td>9.750278</td>\n",
       "      <td>0.580920</td>\n",
       "      <td>0.0</td>\n",
       "      <td>0.266060</td>\n",
       "      <td>0.381504</td>\n",
       "      <td>0.000000</td>\n",
       "      <td>0.285714</td>\n",
       "      <td>0.229195</td>\n",
       "      <td>0.498996</td>\n",
       "    </tr>\n",
       "    <tr>\n",
       "      <th>50%</th>\n",
       "      <td>1.644311e+06</td>\n",
       "      <td>11.000000</td>\n",
       "      <td>0.000000</td>\n",
       "      <td>186.000000</td>\n",
       "      <td>12.749722</td>\n",
       "      <td>1.041393</td>\n",
       "      <td>0.0</td>\n",
       "      <td>0.506959</td>\n",
       "      <td>0.486206</td>\n",
       "      <td>0.000000</td>\n",
       "      <td>0.508242</td>\n",
       "      <td>0.479155</td>\n",
       "      <td>1.077653</td>\n",
       "    </tr>\n",
       "    <tr>\n",
       "      <th>75%</th>\n",
       "      <td>2.461374e+06</td>\n",
       "      <td>25.400000</td>\n",
       "      <td>5.660000</td>\n",
       "      <td>241.000000</td>\n",
       "      <td>16.000000</td>\n",
       "      <td>1.404834</td>\n",
       "      <td>0.0</td>\n",
       "      <td>0.759049</td>\n",
       "      <td>0.568844</td>\n",
       "      <td>0.085992</td>\n",
       "      <td>0.659341</td>\n",
       "      <td>0.750017</td>\n",
       "      <td>1.455812</td>\n",
       "    </tr>\n",
       "    <tr>\n",
       "      <th>max</th>\n",
       "      <td>3.526010e+06</td>\n",
       "      <td>393.000000</td>\n",
       "      <td>65.820000</td>\n",
       "      <td>364.000000</td>\n",
       "      <td>18.999722</td>\n",
       "      <td>2.594393</td>\n",
       "      <td>0.0</td>\n",
       "      <td>0.996617</td>\n",
       "      <td>0.839325</td>\n",
       "      <td>1.000000</td>\n",
       "      <td>0.997253</td>\n",
       "      <td>1.000000</td>\n",
       "      <td>2.300018</td>\n",
       "    </tr>\n",
       "  </tbody>\n",
       "</table>\n",
       "</div>"
      ],
      "text/plain": [
       "           image_id        value         prcp         jday        dhour  \\\n",
       "count  1.000000e+03  1000.000000  1000.000000  1000.000000  1000.000000   \n",
       "mean   1.664340e+06    19.232092     4.663630   178.155000    12.862627   \n",
       "std    1.015261e+06    30.322921     9.029596    86.554773     3.439631   \n",
       "min    4.414980e+05     0.090000     0.000000     1.000000     7.000000   \n",
       "25%    6.642732e+05     3.810000     0.000000   105.000000     9.750278   \n",
       "50%    1.644311e+06    11.000000     0.000000   186.000000    12.749722   \n",
       "75%    2.461374e+06    25.400000     5.660000   241.000000    16.000000   \n",
       "max    3.526010e+06   393.000000    65.820000   364.000000    18.999722   \n",
       "\n",
       "               obs    zero         rand        obs_z       prcp_z  \\\n",
       "count  1000.000000  1000.0  1000.000000  1000.000000  1000.000000   \n",
       "mean      0.894935     0.0     0.507283     0.452904     0.070854   \n",
       "std       0.704506     0.0     0.281779     0.160190     0.137186   \n",
       "min      -1.045757     0.0     0.000334     0.011631     0.000000   \n",
       "25%       0.580920     0.0     0.266060     0.381504     0.000000   \n",
       "50%       1.041393     0.0     0.506959     0.486206     0.000000   \n",
       "75%       1.404834     0.0     0.759049     0.568844     0.085992   \n",
       "max       2.594393     0.0     0.996617     0.839325     1.000000   \n",
       "\n",
       "            jday_z      dhour_z        score  \n",
       "count  1000.000000  1000.000000  1000.000000  \n",
       "mean      0.486690     0.488564     0.918453  \n",
       "std       0.237788     0.286643     0.677612  \n",
       "min       0.000000     0.000000    -0.381456  \n",
       "25%       0.285714     0.229195     0.498996  \n",
       "50%       0.508242     0.479155     1.077653  \n",
       "75%       0.659341     0.750017     1.455812  \n",
       "max       0.997253     1.000000     2.300018  "
      ]
     },
     "execution_count": 38,
     "metadata": {},
     "output_type": "execute_result"
    }
   ],
   "source": [
    "test_df['score'] = scores\n",
    "test_df.describe()"
   ]
  },
  {
   "cell_type": "code",
   "execution_count": 40,
   "metadata": {},
   "outputs": [
    {
     "data": {
      "image/png": "[encoded data removed]",
      "text/plain": [
       "<Figure size 640x480 with 1 Axes>"
      ]
     },
     "metadata": {},
     "output_type": "display_data"
    }
   ],
   "source": [
    "# plot score vs obs\n",
    "plt.scatter(test_df['score'], test_df['obs'])\n",
    "plt.xlabel('Score')\n",
    "plt.ylabel('Obs')\n",
    "plt.show()"
   ]
  },
  {
   "cell_type": "code",
   "execution_count": 41,
   "metadata": {},
   "outputs": [
    {
     "name": "stdout",
     "output_type": "stream",
     "text": [
      "Mean error: -0.023518412548860092, std error: 0.20661574987188086\n",
      "Kendall's tau: 0.8459112082044867, Spearman's rho: 0.9597310106688599\n",
      "RMSE: 0.2079499550948209\n"
     ]
    },
    {
     "data": {
      "text/plain": [
       "{'rmse': 0.2079499550948209,\n",
       " 'kendall_tau': 0.8459112082044867,\n",
       " 'spearman_rho': 0.9597310106688599}"
      ]
     },
     "execution_count": 41,
     "metadata": {},
     "output_type": "execute_result"
    }
   ],
   "source": [
    "# calculate error stats between obs and score\n",
    "values = test_df['obs'].values\n",
    "error = values - scores\n",
    "print(f\"Mean error: {error.mean()}, std error: {error.std()}\")\n",
    "\n",
    "import scipy.stats as stats\n",
    "kendall_tau = stats.kendalltau(scores, values)[0]\n",
    "spearman_rho = stats.spearmanr(scores, values)[0]\n",
    "print(f\"Kendall's tau: {kendall_tau}, Spearman's rho: {spearman_rho}\")\n",
    "\n",
    "# compute rmse\n",
    "rmse = np.sqrt(np.mean(error**2))\n",
    "print(f\"RMSE: {rmse}\")\n",
    "\n",
    "test_stats = {\n",
    "    \"rmse\": rmse,\n",
    "    \"kendall_tau\": kendall_tau,\n",
    "    \"spearman_rho\": spearman_rho\n",
    "}\n",
    "test_stats"
   ]
  },
  {
   "cell_type": "markdown",
   "metadata": {},
   "source": [
    "## Auxiliary Features"
   ]
  },
  {
   "cell_type": "code",
   "execution_count": 42,
   "metadata": {},
   "outputs": [],
   "source": [
    "auxiliary_features = [\"obs_z_1\"]\n",
    "auxiliary_encoding_size = 32\n",
    "\n",
    "run_dir = Path(\"/home/jeff/data/fpe/experiments/20241113-WB0-aux-reg/runs/aux_reg_02\")\n",
    "data_dir = run_dir / \"input\"\n",
    "output_dir = run_dir / \"output\"\n",
    "model_dir = run_dir / \"model\"\n",
    "checkpoint_dir = run_dir / \"checkpoints\""
   ]
  },
  {
   "cell_type": "code",
   "execution_count": 43,
   "metadata": {},
   "outputs": [
    {
     "data": {
      "image/png": "[encoded data removed]",
      "text/plain": [
       "<Figure size 640x480 with 1 Axes>"
      ]
     },
     "metadata": {},
     "output_type": "display_data"
    }
   ],
   "source": [
    "# plot obs vs obs_z\n",
    "plt.scatter(train_df['obs_1'], train_df['obs_z_1'])\n",
    "plt.xlabel('Obs')\n",
    "plt.ylabel('Obs_z')\n",
    "plt.show()"
   ]
  },
  {
   "cell_type": "code",
   "execution_count": 44,
   "metadata": {},
   "outputs": [
    {
     "data": {
      "text/html": [
       "<div>\n",
       "<style scoped>\n",
       "    .dataframe tbody tr th:only-of-type {\n",
       "        vertical-align: middle;\n",
       "    }\n",
       "\n",
       "    .dataframe tbody tr th {\n",
       "        vertical-align: top;\n",
       "    }\n",
       "\n",
       "    .dataframe thead th {\n",
       "        text-align: right;\n",
       "    }\n",
       "</style>\n",
       "<table border=\"1\" class=\"dataframe\">\n",
       "  <thead>\n",
       "    <tr style=\"text-align: right;\">\n",
       "      <th></th>\n",
       "      <th>pair</th>\n",
       "      <th>image_id_1</th>\n",
       "      <th>timestamp_1</th>\n",
       "      <th>image_id_2</th>\n",
       "      <th>timestamp_2</th>\n",
       "      <th>label</th>\n",
       "      <th>obs_1</th>\n",
       "      <th>prcp_1</th>\n",
       "      <th>jday_1</th>\n",
       "      <th>dhour_1</th>\n",
       "      <th>...</th>\n",
       "      <th>obs_2</th>\n",
       "      <th>prcp_2</th>\n",
       "      <th>jday_2</th>\n",
       "      <th>dhour_2</th>\n",
       "      <th>zero_2</th>\n",
       "      <th>rand_2</th>\n",
       "      <th>obs_z_2</th>\n",
       "      <th>prcp_z_2</th>\n",
       "      <th>jday_z_2</th>\n",
       "      <th>dhour_z_2</th>\n",
       "    </tr>\n",
       "  </thead>\n",
       "  <tbody>\n",
       "    <tr>\n",
       "      <th>count</th>\n",
       "      <td>500.000000</td>\n",
       "      <td>5.000000e+02</td>\n",
       "      <td>500</td>\n",
       "      <td>5.000000e+02</td>\n",
       "      <td>500</td>\n",
       "      <td>500.000000</td>\n",
       "      <td>500.000000</td>\n",
       "      <td>500.00000</td>\n",
       "      <td>500.000000</td>\n",
       "      <td>500.000000</td>\n",
       "      <td>...</td>\n",
       "      <td>500.000000</td>\n",
       "      <td>500.00000</td>\n",
       "      <td>500.000000</td>\n",
       "      <td>500.000000</td>\n",
       "      <td>500.0</td>\n",
       "      <td>500.000000</td>\n",
       "      <td>500.000000</td>\n",
       "      <td>500.000000</td>\n",
       "      <td>500.000000</td>\n",
       "      <td>500.000000</td>\n",
       "    </tr>\n",
       "    <tr>\n",
       "      <th>mean</th>\n",
       "      <td>3900.924000</td>\n",
       "      <td>1.455590e+06</td>\n",
       "      <td>2022-11-22 11:13:20.394000128</td>\n",
       "      <td>1.455590e+06</td>\n",
       "      <td>2022-11-22 11:13:20.394000128</td>\n",
       "      <td>0.000000</td>\n",
       "      <td>0.927080</td>\n",
       "      <td>4.32392</td>\n",
       "      <td>172.454000</td>\n",
       "      <td>12.882332</td>\n",
       "      <td>...</td>\n",
       "      <td>0.927080</td>\n",
       "      <td>4.32392</td>\n",
       "      <td>172.454000</td>\n",
       "      <td>12.882332</td>\n",
       "      <td>0.0</td>\n",
       "      <td>0.492142</td>\n",
       "      <td>0.460213</td>\n",
       "      <td>0.065693</td>\n",
       "      <td>0.471027</td>\n",
       "      <td>0.490206</td>\n",
       "    </tr>\n",
       "    <tr>\n",
       "      <th>min</th>\n",
       "      <td>18.000000</td>\n",
       "      <td>4.415210e+05</td>\n",
       "      <td>2022-02-02 23:00:00</td>\n",
       "      <td>4.415210e+05</td>\n",
       "      <td>2022-02-02 23:00:00</td>\n",
       "      <td>-1.000000</td>\n",
       "      <td>-1.045757</td>\n",
       "      <td>0.00000</td>\n",
       "      <td>1.000000</td>\n",
       "      <td>7.000000</td>\n",
       "      <td>...</td>\n",
       "      <td>-1.045757</td>\n",
       "      <td>0.00000</td>\n",
       "      <td>1.000000</td>\n",
       "      <td>7.000000</td>\n",
       "      <td>0.0</td>\n",
       "      <td>0.000544</td>\n",
       "      <td>0.011631</td>\n",
       "      <td>0.000000</td>\n",
       "      <td>0.000000</td>\n",
       "      <td>0.000000</td>\n",
       "    </tr>\n",
       "    <tr>\n",
       "      <th>25%</th>\n",
       "      <td>1840.000000</td>\n",
       "      <td>6.620900e+05</td>\n",
       "      <td>2022-06-18 16:15:00</td>\n",
       "      <td>6.620900e+05</td>\n",
       "      <td>2022-06-18 16:15:00</td>\n",
       "      <td>-1.000000</td>\n",
       "      <td>0.559907</td>\n",
       "      <td>0.00000</td>\n",
       "      <td>98.750000</td>\n",
       "      <td>9.750278</td>\n",
       "      <td>...</td>\n",
       "      <td>0.559907</td>\n",
       "      <td>0.00000</td>\n",
       "      <td>98.750000</td>\n",
       "      <td>9.750278</td>\n",
       "      <td>0.0</td>\n",
       "      <td>0.259022</td>\n",
       "      <td>0.376726</td>\n",
       "      <td>0.000000</td>\n",
       "      <td>0.268544</td>\n",
       "      <td>0.229195</td>\n",
       "    </tr>\n",
       "    <tr>\n",
       "      <th>50%</th>\n",
       "      <td>3635.500000</td>\n",
       "      <td>1.391296e+06</td>\n",
       "      <td>2022-11-21 09:52:30</td>\n",
       "      <td>1.391296e+06</td>\n",
       "      <td>2022-11-21 09:52:30</td>\n",
       "      <td>0.000000</td>\n",
       "      <td>1.079166</td>\n",
       "      <td>0.00000</td>\n",
       "      <td>171.000000</td>\n",
       "      <td>12.750417</td>\n",
       "      <td>...</td>\n",
       "      <td>1.079166</td>\n",
       "      <td>0.00000</td>\n",
       "      <td>171.000000</td>\n",
       "      <td>12.750417</td>\n",
       "      <td>0.0</td>\n",
       "      <td>0.486948</td>\n",
       "      <td>0.494794</td>\n",
       "      <td>0.000000</td>\n",
       "      <td>0.467033</td>\n",
       "      <td>0.479212</td>\n",
       "    </tr>\n",
       "    <tr>\n",
       "      <th>75%</th>\n",
       "      <td>6174.000000</td>\n",
       "      <td>2.036689e+06</td>\n",
       "      <td>2023-04-06 17:07:30</td>\n",
       "      <td>2.036689e+06</td>\n",
       "      <td>2023-04-06 17:07:30</td>\n",
       "      <td>1.000000</td>\n",
       "      <td>1.425709</td>\n",
       "      <td>4.66000</td>\n",
       "      <td>237.250000</td>\n",
       "      <td>16.000000</td>\n",
       "      <td>...</td>\n",
       "      <td>1.425709</td>\n",
       "      <td>4.66000</td>\n",
       "      <td>237.250000</td>\n",
       "      <td>16.000000</td>\n",
       "      <td>0.0</td>\n",
       "      <td>0.726971</td>\n",
       "      <td>0.573591</td>\n",
       "      <td>0.070799</td>\n",
       "      <td>0.649038</td>\n",
       "      <td>0.750017</td>\n",
       "    </tr>\n",
       "    <tr>\n",
       "      <th>max</th>\n",
       "      <td>8157.000000</td>\n",
       "      <td>3.525782e+06</td>\n",
       "      <td>2023-09-28 12:30:00</td>\n",
       "      <td>3.525782e+06</td>\n",
       "      <td>2023-09-28 12:30:00</td>\n",
       "      <td>1.000000</td>\n",
       "      <td>2.569431</td>\n",
       "      <td>55.12000</td>\n",
       "      <td>365.000000</td>\n",
       "      <td>18.999722</td>\n",
       "      <td>...</td>\n",
       "      <td>2.569431</td>\n",
       "      <td>55.12000</td>\n",
       "      <td>365.000000</td>\n",
       "      <td>18.999722</td>\n",
       "      <td>0.0</td>\n",
       "      <td>0.999180</td>\n",
       "      <td>0.833650</td>\n",
       "      <td>0.837435</td>\n",
       "      <td>1.000000</td>\n",
       "      <td>1.000000</td>\n",
       "    </tr>\n",
       "    <tr>\n",
       "      <th>std</th>\n",
       "      <td>2437.878055</td>\n",
       "      <td>8.535688e+05</td>\n",
       "      <td>NaN</td>\n",
       "      <td>8.535688e+05</td>\n",
       "      <td>NaN</td>\n",
       "      <td>0.941154</td>\n",
       "      <td>0.686382</td>\n",
       "      <td>8.64055</td>\n",
       "      <td>91.514598</td>\n",
       "      <td>3.515008</td>\n",
       "      <td>...</td>\n",
       "      <td>0.686382</td>\n",
       "      <td>8.64055</td>\n",
       "      <td>91.514598</td>\n",
       "      <td>3.515008</td>\n",
       "      <td>0.0</td>\n",
       "      <td>0.284643</td>\n",
       "      <td>0.156069</td>\n",
       "      <td>0.131275</td>\n",
       "      <td>0.251414</td>\n",
       "      <td>0.292924</td>\n",
       "    </tr>\n",
       "  </tbody>\n",
       "</table>\n",
       "<p>8 rows × 26 columns</p>\n",
       "</div>"
      ],
      "text/plain": [
       "              pair    image_id_1                    timestamp_1    image_id_2  \\\n",
       "count   500.000000  5.000000e+02                            500  5.000000e+02   \n",
       "mean   3900.924000  1.455590e+06  2022-11-22 11:13:20.394000128  1.455590e+06   \n",
       "min      18.000000  4.415210e+05            2022-02-02 23:00:00  4.415210e+05   \n",
       "25%    1840.000000  6.620900e+05            2022-06-18 16:15:00  6.620900e+05   \n",
       "50%    3635.500000  1.391296e+06            2022-11-21 09:52:30  1.391296e+06   \n",
       "75%    6174.000000  2.036689e+06            2023-04-06 17:07:30  2.036689e+06   \n",
       "max    8157.000000  3.525782e+06            2023-09-28 12:30:00  3.525782e+06   \n",
       "std    2437.878055  8.535688e+05                            NaN  8.535688e+05   \n",
       "\n",
       "                         timestamp_2       label       obs_1     prcp_1  \\\n",
       "count                            500  500.000000  500.000000  500.00000   \n",
       "mean   2022-11-22 11:13:20.394000128    0.000000    0.927080    4.32392   \n",
       "min              2022-02-02 23:00:00   -1.000000   -1.045757    0.00000   \n",
       "25%              2022-06-18 16:15:00   -1.000000    0.559907    0.00000   \n",
       "50%              2022-11-21 09:52:30    0.000000    1.079166    0.00000   \n",
       "75%              2023-04-06 17:07:30    1.000000    1.425709    4.66000   \n",
       "max              2023-09-28 12:30:00    1.000000    2.569431   55.12000   \n",
       "std                              NaN    0.941154    0.686382    8.64055   \n",
       "\n",
       "           jday_1     dhour_1  ...       obs_2     prcp_2      jday_2  \\\n",
       "count  500.000000  500.000000  ...  500.000000  500.00000  500.000000   \n",
       "mean   172.454000   12.882332  ...    0.927080    4.32392  172.454000   \n",
       "min      1.000000    7.000000  ...   -1.045757    0.00000    1.000000   \n",
       "25%     98.750000    9.750278  ...    0.559907    0.00000   98.750000   \n",
       "50%    171.000000   12.750417  ...    1.079166    0.00000  171.000000   \n",
       "75%    237.250000   16.000000  ...    1.425709    4.66000  237.250000   \n",
       "max    365.000000   18.999722  ...    2.569431   55.12000  365.000000   \n",
       "std     91.514598    3.515008  ...    0.686382    8.64055   91.514598   \n",
       "\n",
       "          dhour_2  zero_2      rand_2     obs_z_2    prcp_z_2    jday_z_2  \\\n",
       "count  500.000000   500.0  500.000000  500.000000  500.000000  500.000000   \n",
       "mean    12.882332     0.0    0.492142    0.460213    0.065693    0.471027   \n",
       "min      7.000000     0.0    0.000544    0.011631    0.000000    0.000000   \n",
       "25%      9.750278     0.0    0.259022    0.376726    0.000000    0.268544   \n",
       "50%     12.750417     0.0    0.486948    0.494794    0.000000    0.467033   \n",
       "75%     16.000000     0.0    0.726971    0.573591    0.070799    0.649038   \n",
       "max     18.999722     0.0    0.999180    0.833650    0.837435    1.000000   \n",
       "std      3.515008     0.0    0.284643    0.156069    0.131275    0.251414   \n",
       "\n",
       "        dhour_z_2  \n",
       "count  500.000000  \n",
       "mean     0.490206  \n",
       "min      0.000000  \n",
       "25%      0.229195  \n",
       "50%      0.479212  \n",
       "75%      0.750017  \n",
       "max      1.000000  \n",
       "std      0.292924  \n",
       "\n",
       "[8 rows x 26 columns]"
      ]
     },
     "execution_count": 44,
     "metadata": {},
     "output_type": "execute_result"
    }
   ],
   "source": [
    "aux_train_ds = FlowPhotoDatasetWithAuxiliary(train_df, images_dir, auxiliary_features=auxiliary_features, col_image_id=\"image_id_1\", col_timestamp=\"timestamp_1\", col_filename=\"filename_1\", col_label=\"obs_1\")\n",
    "aux_train_ds.table.describe()"
   ]
  },
  {
   "cell_type": "code",
   "execution_count": 47,
   "metadata": {},
   "outputs": [],
   "source": [
    "aux_train_ds.transform = transforms[\"train\"]\n",
    "aux_val_ds = FlowPhotoDatasetWithAuxiliary(\n",
    "    val_df,\n",
    "    images_dir,\n",
    "    auxiliary_features=auxiliary_features,\n",
    "    col_image_id=\"image_id_1\",\n",
    "    col_timestamp=\"timestamp_1\",\n",
    "    col_filename=\"filename_1\",\n",
    "    col_label=\"obs_1\",\n",
    "    transform=transforms[\"eval\"]\n",
    ")"
   ]
  },
  {
   "cell_type": "code",
   "execution_count": 48,
   "metadata": {},
   "outputs": [],
   "source": [
    "batch_size = 64\n",
    "num_workers = 4\n",
    "\n",
    "aux_train_dl = DataLoader(\n",
    "    aux_train_ds,\n",
    "    batch_size=batch_size,\n",
    "    shuffle=True,\n",
    "    num_workers=num_workers\n",
    ")\n",
    "aux_val_dl = DataLoader(\n",
    "    aux_val_ds,\n",
    "    batch_size=batch_size,\n",
    "    shuffle=False,\n",
    "    num_workers=num_workers\n",
    ")"
   ]
  },
  {
   "cell_type": "code",
   "execution_count": 49,
   "metadata": {},
   "outputs": [
    {
     "data": {
      "text/plain": [
       "ResNetRegressionNetWithAuxiliary(\n",
       "  (resnetbody): ResNet18(\n",
       "    (model): Sequential(\n",
       "      (0): Conv2d(3, 64, kernel_size=(7, 7), stride=(2, 2), padding=(3, 3), bias=False)\n",
       "      (1): BatchNorm2d(64, eps=1e-05, momentum=0.1, affine=True, track_running_stats=True)\n",
       "      (2): ReLU(inplace=True)\n",
       "      (3): MaxPool2d(kernel_size=3, stride=2, padding=1, dilation=1, ceil_mode=False)\n",
       "      (4): Sequential(\n",
       "        (0): BasicBlock(\n",
       "          (conv1): Conv2d(64, 64, kernel_size=(3, 3), stride=(1, 1), padding=(1, 1), bias=False)\n",
       "          (bn1): BatchNorm2d(64, eps=1e-05, momentum=0.1, affine=True, track_running_stats=True)\n",
       "          (relu): ReLU(inplace=True)\n",
       "          (conv2): Conv2d(64, 64, kernel_size=(3, 3), stride=(1, 1), padding=(1, 1), bias=False)\n",
       "          (bn2): BatchNorm2d(64, eps=1e-05, momentum=0.1, affine=True, track_running_stats=True)\n",
       "        )\n",
       "        (1): BasicBlock(\n",
       "          (conv1): Conv2d(64, 64, kernel_size=(3, 3), stride=(1, 1), padding=(1, 1), bias=False)\n",
       "          (bn1): BatchNorm2d(64, eps=1e-05, momentum=0.1, affine=True, track_running_stats=True)\n",
       "          (relu): ReLU(inplace=True)\n",
       "          (conv2): Conv2d(64, 64, kernel_size=(3, 3), stride=(1, 1), padding=(1, 1), bias=False)\n",
       "          (bn2): BatchNorm2d(64, eps=1e-05, momentum=0.1, affine=True, track_running_stats=True)\n",
       "        )\n",
       "      )\n",
       "      (5): Sequential(\n",
       "        (0): BasicBlock(\n",
       "          (conv1): Conv2d(64, 128, kernel_size=(3, 3), stride=(2, 2), padding=(1, 1), bias=False)\n",
       "          (bn1): BatchNorm2d(128, eps=1e-05, momentum=0.1, affine=True, track_running_stats=True)\n",
       "          (relu): ReLU(inplace=True)\n",
       "          (conv2): Conv2d(128, 128, kernel_size=(3, 3), stride=(1, 1), padding=(1, 1), bias=False)\n",
       "          (bn2): BatchNorm2d(128, eps=1e-05, momentum=0.1, affine=True, track_running_stats=True)\n",
       "          (downsample): Sequential(\n",
       "            (0): Conv2d(64, 128, kernel_size=(1, 1), stride=(2, 2), bias=False)\n",
       "            (1): BatchNorm2d(128, eps=1e-05, momentum=0.1, affine=True, track_running_stats=True)\n",
       "          )\n",
       "        )\n",
       "        (1): BasicBlock(\n",
       "          (conv1): Conv2d(128, 128, kernel_size=(3, 3), stride=(1, 1), padding=(1, 1), bias=False)\n",
       "          (bn1): BatchNorm2d(128, eps=1e-05, momentum=0.1, affine=True, track_running_stats=True)\n",
       "          (relu): ReLU(inplace=True)\n",
       "          (conv2): Conv2d(128, 128, kernel_size=(3, 3), stride=(1, 1), padding=(1, 1), bias=False)\n",
       "          (bn2): BatchNorm2d(128, eps=1e-05, momentum=0.1, affine=True, track_running_stats=True)\n",
       "        )\n",
       "      )\n",
       "      (6): Sequential(\n",
       "        (0): BasicBlock(\n",
       "          (conv1): Conv2d(128, 256, kernel_size=(3, 3), stride=(2, 2), padding=(1, 1), bias=False)\n",
       "          (bn1): BatchNorm2d(256, eps=1e-05, momentum=0.1, affine=True, track_running_stats=True)\n",
       "          (relu): ReLU(inplace=True)\n",
       "          (conv2): Conv2d(256, 256, kernel_size=(3, 3), stride=(1, 1), padding=(1, 1), bias=False)\n",
       "          (bn2): BatchNorm2d(256, eps=1e-05, momentum=0.1, affine=True, track_running_stats=True)\n",
       "          (downsample): Sequential(\n",
       "            (0): Conv2d(128, 256, kernel_size=(1, 1), stride=(2, 2), bias=False)\n",
       "            (1): BatchNorm2d(256, eps=1e-05, momentum=0.1, affine=True, track_running_stats=True)\n",
       "          )\n",
       "        )\n",
       "        (1): BasicBlock(\n",
       "          (conv1): Conv2d(256, 256, kernel_size=(3, 3), stride=(1, 1), padding=(1, 1), bias=False)\n",
       "          (bn1): BatchNorm2d(256, eps=1e-05, momentum=0.1, affine=True, track_running_stats=True)\n",
       "          (relu): ReLU(inplace=True)\n",
       "          (conv2): Conv2d(256, 256, kernel_size=(3, 3), stride=(1, 1), padding=(1, 1), bias=False)\n",
       "          (bn2): BatchNorm2d(256, eps=1e-05, momentum=0.1, affine=True, track_running_stats=True)\n",
       "        )\n",
       "      )\n",
       "      (7): Sequential(\n",
       "        (0): BasicBlock(\n",
       "          (conv1): Conv2d(256, 512, kernel_size=(3, 3), stride=(2, 2), padding=(1, 1), bias=False)\n",
       "          (bn1): BatchNorm2d(512, eps=1e-05, momentum=0.1, affine=True, track_running_stats=True)\n",
       "          (relu): ReLU(inplace=True)\n",
       "          (conv2): Conv2d(512, 512, kernel_size=(3, 3), stride=(1, 1), padding=(1, 1), bias=False)\n",
       "          (bn2): BatchNorm2d(512, eps=1e-05, momentum=0.1, affine=True, track_running_stats=True)\n",
       "          (downsample): Sequential(\n",
       "            (0): Conv2d(256, 512, kernel_size=(1, 1), stride=(2, 2), bias=False)\n",
       "            (1): BatchNorm2d(512, eps=1e-05, momentum=0.1, affine=True, track_running_stats=True)\n",
       "          )\n",
       "        )\n",
       "        (1): BasicBlock(\n",
       "          (conv1): Conv2d(512, 512, kernel_size=(3, 3), stride=(1, 1), padding=(1, 1), bias=False)\n",
       "          (bn1): BatchNorm2d(512, eps=1e-05, momentum=0.1, affine=True, track_running_stats=True)\n",
       "          (relu): ReLU(inplace=True)\n",
       "          (conv2): Conv2d(512, 512, kernel_size=(3, 3), stride=(1, 1), padding=(1, 1), bias=False)\n",
       "          (bn2): BatchNorm2d(512, eps=1e-05, momentum=0.1, affine=True, track_running_stats=True)\n",
       "        )\n",
       "      )\n",
       "    )\n",
       "  )\n",
       "  (avgpool): AdaptiveAvgPool2d(output_size=(1, 1))\n",
       "  (fclayers): Sequential(\n",
       "    (0): Linear(in_features=544, out_features=256, bias=True)\n",
       "    (1): ReLU()\n",
       "    (2): Linear(in_features=256, out_features=64, bias=True)\n",
       "    (3): ReLU()\n",
       "    (4): Linear(in_features=64, out_features=1, bias=True)\n",
       "  )\n",
       "  (auxiliary_encoder): Sequential(\n",
       "    (0): Linear(in_features=1, out_features=32, bias=True)\n",
       "    (1): ReLU()\n",
       "    (2): Linear(in_features=32, out_features=32, bias=True)\n",
       "    (3): ReLU()\n",
       "  )\n",
       ")"
      ]
     },
     "execution_count": 49,
     "metadata": {},
     "output_type": "execute_result"
    }
   ],
   "source": [
    "aux_model = ResNetRegressionNetWithAuxiliary(\n",
    "    input_shape=(3, input_shape[0], input_shape[1]),\n",
    "    transforms=transforms,\n",
    "    resnet_size=18,\n",
    "    truncate=2,\n",
    "    auxiliary_size=len(auxiliary_features),\n",
    "    auxiliary_encoding_size=auxiliary_encoding_size\n",
    ")\n",
    "aux_model"
   ]
  },
  {
   "cell_type": "code",
   "execution_count": 50,
   "metadata": {},
   "outputs": [
    {
     "data": {
      "text/plain": [
       "(3, 4)"
      ]
     },
     "execution_count": 50,
     "metadata": {},
     "output_type": "execute_result"
    }
   ],
   "source": [
    "len(list(model.children())), len(list(aux_model.children()))"
   ]
  },
  {
   "cell_type": "code",
   "execution_count": 51,
   "metadata": {},
   "outputs": [
    {
     "data": {
      "text/plain": [
       "(66, 70)"
      ]
     },
     "execution_count": 51,
     "metadata": {},
     "output_type": "execute_result"
    }
   ],
   "source": [
    "len(list(model.parameters())), len(list(aux_model.parameters()))\n"
   ]
  },
  {
   "cell_type": "code",
   "execution_count": 52,
   "metadata": {},
   "outputs": [
    {
     "data": {
      "text/plain": [
       "ResNetRegressionNetWithAuxiliary(\n",
       "  (resnetbody): ResNet18(\n",
       "    (model): Sequential(\n",
       "      (0): Conv2d(3, 64, kernel_size=(7, 7), stride=(2, 2), padding=(3, 3), bias=False)\n",
       "      (1): BatchNorm2d(64, eps=1e-05, momentum=0.1, affine=True, track_running_stats=True)\n",
       "      (2): ReLU(inplace=True)\n",
       "      (3): MaxPool2d(kernel_size=3, stride=2, padding=1, dilation=1, ceil_mode=False)\n",
       "      (4): Sequential(\n",
       "        (0): BasicBlock(\n",
       "          (conv1): Conv2d(64, 64, kernel_size=(3, 3), stride=(1, 1), padding=(1, 1), bias=False)\n",
       "          (bn1): BatchNorm2d(64, eps=1e-05, momentum=0.1, affine=True, track_running_stats=True)\n",
       "          (relu): ReLU(inplace=True)\n",
       "          (conv2): Conv2d(64, 64, kernel_size=(3, 3), stride=(1, 1), padding=(1, 1), bias=False)\n",
       "          (bn2): BatchNorm2d(64, eps=1e-05, momentum=0.1, affine=True, track_running_stats=True)\n",
       "        )\n",
       "        (1): BasicBlock(\n",
       "          (conv1): Conv2d(64, 64, kernel_size=(3, 3), stride=(1, 1), padding=(1, 1), bias=False)\n",
       "          (bn1): BatchNorm2d(64, eps=1e-05, momentum=0.1, affine=True, track_running_stats=True)\n",
       "          (relu): ReLU(inplace=True)\n",
       "          (conv2): Conv2d(64, 64, kernel_size=(3, 3), stride=(1, 1), padding=(1, 1), bias=False)\n",
       "          (bn2): BatchNorm2d(64, eps=1e-05, momentum=0.1, affine=True, track_running_stats=True)\n",
       "        )\n",
       "      )\n",
       "      (5): Sequential(\n",
       "        (0): BasicBlock(\n",
       "          (conv1): Conv2d(64, 128, kernel_size=(3, 3), stride=(2, 2), padding=(1, 1), bias=False)\n",
       "          (bn1): BatchNorm2d(128, eps=1e-05, momentum=0.1, affine=True, track_running_stats=True)\n",
       "          (relu): ReLU(inplace=True)\n",
       "          (conv2): Conv2d(128, 128, kernel_size=(3, 3), stride=(1, 1), padding=(1, 1), bias=False)\n",
       "          (bn2): BatchNorm2d(128, eps=1e-05, momentum=0.1, affine=True, track_running_stats=True)\n",
       "          (downsample): Sequential(\n",
       "            (0): Conv2d(64, 128, kernel_size=(1, 1), stride=(2, 2), bias=False)\n",
       "            (1): BatchNorm2d(128, eps=1e-05, momentum=0.1, affine=True, track_running_stats=True)\n",
       "          )\n",
       "        )\n",
       "        (1): BasicBlock(\n",
       "          (conv1): Conv2d(128, 128, kernel_size=(3, 3), stride=(1, 1), padding=(1, 1), bias=False)\n",
       "          (bn1): BatchNorm2d(128, eps=1e-05, momentum=0.1, affine=True, track_running_stats=True)\n",
       "          (relu): ReLU(inplace=True)\n",
       "          (conv2): Conv2d(128, 128, kernel_size=(3, 3), stride=(1, 1), padding=(1, 1), bias=False)\n",
       "          (bn2): BatchNorm2d(128, eps=1e-05, momentum=0.1, affine=True, track_running_stats=True)\n",
       "        )\n",
       "      )\n",
       "      (6): Sequential(\n",
       "        (0): BasicBlock(\n",
       "          (conv1): Conv2d(128, 256, kernel_size=(3, 3), stride=(2, 2), padding=(1, 1), bias=False)\n",
       "          (bn1): BatchNorm2d(256, eps=1e-05, momentum=0.1, affine=True, track_running_stats=True)\n",
       "          (relu): ReLU(inplace=True)\n",
       "          (conv2): Conv2d(256, 256, kernel_size=(3, 3), stride=(1, 1), padding=(1, 1), bias=False)\n",
       "          (bn2): BatchNorm2d(256, eps=1e-05, momentum=0.1, affine=True, track_running_stats=True)\n",
       "          (downsample): Sequential(\n",
       "            (0): Conv2d(128, 256, kernel_size=(1, 1), stride=(2, 2), bias=False)\n",
       "            (1): BatchNorm2d(256, eps=1e-05, momentum=0.1, affine=True, track_running_stats=True)\n",
       "          )\n",
       "        )\n",
       "        (1): BasicBlock(\n",
       "          (conv1): Conv2d(256, 256, kernel_size=(3, 3), stride=(1, 1), padding=(1, 1), bias=False)\n",
       "          (bn1): BatchNorm2d(256, eps=1e-05, momentum=0.1, affine=True, track_running_stats=True)\n",
       "          (relu): ReLU(inplace=True)\n",
       "          (conv2): Conv2d(256, 256, kernel_size=(3, 3), stride=(1, 1), padding=(1, 1), bias=False)\n",
       "          (bn2): BatchNorm2d(256, eps=1e-05, momentum=0.1, affine=True, track_running_stats=True)\n",
       "        )\n",
       "      )\n",
       "      (7): Sequential(\n",
       "        (0): BasicBlock(\n",
       "          (conv1): Conv2d(256, 512, kernel_size=(3, 3), stride=(2, 2), padding=(1, 1), bias=False)\n",
       "          (bn1): BatchNorm2d(512, eps=1e-05, momentum=0.1, affine=True, track_running_stats=True)\n",
       "          (relu): ReLU(inplace=True)\n",
       "          (conv2): Conv2d(512, 512, kernel_size=(3, 3), stride=(1, 1), padding=(1, 1), bias=False)\n",
       "          (bn2): BatchNorm2d(512, eps=1e-05, momentum=0.1, affine=True, track_running_stats=True)\n",
       "          (downsample): Sequential(\n",
       "            (0): Conv2d(256, 512, kernel_size=(1, 1), stride=(2, 2), bias=False)\n",
       "            (1): BatchNorm2d(512, eps=1e-05, momentum=0.1, affine=True, track_running_stats=True)\n",
       "          )\n",
       "        )\n",
       "        (1): BasicBlock(\n",
       "          (conv1): Conv2d(512, 512, kernel_size=(3, 3), stride=(1, 1), padding=(1, 1), bias=False)\n",
       "          (bn1): BatchNorm2d(512, eps=1e-05, momentum=0.1, affine=True, track_running_stats=True)\n",
       "          (relu): ReLU(inplace=True)\n",
       "          (conv2): Conv2d(512, 512, kernel_size=(3, 3), stride=(1, 1), padding=(1, 1), bias=False)\n",
       "          (bn2): BatchNorm2d(512, eps=1e-05, momentum=0.1, affine=True, track_running_stats=True)\n",
       "        )\n",
       "      )\n",
       "    )\n",
       "  )\n",
       "  (avgpool): AdaptiveAvgPool2d(output_size=(1, 1))\n",
       "  (fclayers): Sequential(\n",
       "    (0): Linear(in_features=544, out_features=256, bias=True)\n",
       "    (1): ReLU()\n",
       "    (2): Linear(in_features=256, out_features=64, bias=True)\n",
       "    (3): ReLU()\n",
       "    (4): Linear(in_features=64, out_features=1, bias=True)\n",
       "  )\n",
       "  (auxiliary_encoder): Sequential(\n",
       "    (0): Linear(in_features=1, out_features=32, bias=True)\n",
       "    (1): ReLU()\n",
       "    (2): Linear(in_features=32, out_features=32, bias=True)\n",
       "    (3): ReLU()\n",
       "  )\n",
       ")"
      ]
     },
     "execution_count": 52,
     "metadata": {},
     "output_type": "execute_result"
    }
   ],
   "source": [
    "# Freeze resnet backbone initially\n",
    "for p in list(aux_model.children())[0].parameters():\n",
    "    p.requires_grad = False\n",
    "\n",
    "# model = nn.DataParallel(model, device_ids=[0])\n",
    "aux_model = aux_model.to(device)\n",
    "aux_model"
   ]
  },
  {
   "cell_type": "code",
   "execution_count": 53,
   "metadata": {},
   "outputs": [],
   "source": [
    "lr = 0.001\n",
    "momentum = 0.9\n",
    "scheduler_patience = 1\n",
    "scheduler_factor = 0.5\n",
    "criterion = nn.MSELoss()\n",
    "optimizer = SGD(aux_model.parameters(), lr=lr, momentum=momentum)\n",
    "scheduler = ReduceLROnPlateau(optimizer, \"min\", patience=scheduler_patience, factor=scheduler_factor)"
   ]
  },
  {
   "cell_type": "code",
   "execution_count": 54,
   "metadata": {},
   "outputs": [],
   "source": [
    "\n",
    "def aux_fit(model, criterion, optimizer, train_dl, device, epoch_num=None, verbose=False):\n",
    "    \"\"\"Train model for one epoch.\n",
    "\n",
    "    Args:\n",
    "        model (torch.nn.Module): network to train\n",
    "        criterion (torch.nn.Module): loss function(s) used to train network weights\n",
    "        optimizer (torch.optim.Optimizer): algorithm used to optimize network weights\n",
    "        train_dl (torch.utils.DataLoader): data loader for training set\n",
    "    Returns:\n",
    "        batch_loss_logger.avg (float): average criterion loss per batch during training\n",
    "    \"\"\"\n",
    "    model.train()  # ensure model is in train mode\n",
    "    # train_dl.dataset.train()  # ensure train transforms are applied\n",
    "    batch_loss_logger = MetricLogger()\n",
    "\n",
    "    for bidx, batch in tqdm(enumerate(train_dl), total=len(train_dl)):\n",
    "        img, aux, label = batch\n",
    "        label = label.float()\n",
    "        if next(aux_model.parameters()).is_cuda:\n",
    "            img, aux, label = img.to(device), aux.to(device), label.to(device)\n",
    "        optimizer.zero_grad()\n",
    "        outputs = aux_model(img, aux)\n",
    "        loss = criterion(outputs, label)\n",
    "        batch_loss_logger.update(loss.item())\n",
    "        loss.backward()\n",
    "        optimizer.step()\n",
    "\n",
    "    return batch_loss_logger.avg\n",
    "\n",
    "def aux_validate(model, criterions, dl, device):\n",
    "    \"\"\"Calculate multiple criterion for a model on a dataset.\"\"\"\n",
    "    \n",
    "    model.eval()\n",
    "    criterion_loggers = [MetricLogger() for i in range(len(criterions))]\n",
    "    with torch.no_grad():  # ensure no gradients are computed\n",
    "        for bidx, batch in tqdm(enumerate(dl), total=len(dl)):\n",
    "            model_outputs = {}\n",
    "            for i, c in enumerate(criterions):\n",
    "                if \"outputs\" not in model_outputs.keys():\n",
    "                    # store model outputs from forward pass in case another criterion needs the same\n",
    "                    img, aux, label = batch\n",
    "                    if next(aux_model.parameters()).is_cuda:\n",
    "                        img, aux, label = img.to(device), aux.to(device), label.to(device)\n",
    "                    outputs = aux_model(img, aux)\n",
    "                    model_outputs[\"outputs\"] = outputs\n",
    "                else:\n",
    "                    # load previously computed model outputs from forward pass\n",
    "                    outputs = model_outputs[\"outputs\"]\n",
    "                cval = c(outputs, label)\n",
    "                criterion_loggers[i].update(cval.item())\n",
    "    return [cl.avg for cl in criterion_loggers]"
   ]
  },
  {
   "cell_type": "code",
   "execution_count": 55,
   "metadata": {},
   "outputs": [],
   "source": [
    "# epochs = 30\n",
    "# unfreeze_after = 2\n",
    "# metrics = {\"epoch\": [], \"train_loss\": [], \"val_loss\": []}\n",
    "# min_val_loss = float('inf')\n",
    "# best_epoch = None\n",
    "# total_train_time = 0\n",
    "# epoch_times = []\n",
    "\n",
    "# aux_model.train()  # ensure model is in train mode\n",
    "\n",
    "# batch = next(iter(aux_train_dl))\n",
    "# img, aux, label = batch\n",
    "# img = img.float()\n",
    "# aux = aux.float()\n",
    "# label = label.float()\n",
    "# if next(aux_model.parameters()).is_cuda:\n",
    "#     img, aux, label = img.to(device), aux.to(device), label.to(device)\n",
    "# optimizer.zero_grad()\n",
    "# outputs = aux_model(img, aux)\n",
    "# outputs"
   ]
  },
  {
   "cell_type": "code",
   "execution_count": 56,
   "metadata": {},
   "outputs": [
    {
     "name": "stdout",
     "output_type": "stream",
     "text": [
      "Epoch 1/30\n",
      "fit\n"
     ]
    },
    {
     "name": "stderr",
     "output_type": "stream",
     "text": [
      "100%|██████████| 8/8 [00:07<00:00,  1.14it/s]"
     ]
    },
    {
     "name": "stdout",
     "output_type": "stream",
     "text": [
      "Train loss: 1.1315887570381165\n",
      "validate\n"
     ]
    },
    {
     "name": "stderr",
     "output_type": "stream",
     "text": [
      "\n",
      "100%|██████████| 2/2 [00:02<00:00,  1.37s/it]"
     ]
    },
    {
     "name": "stdout",
     "output_type": "stream",
     "text": [
      "Validation loss: 0.6058172424934123\n",
      "Initial checkpoint - Saving\n",
      "Epoch 2/30\n",
      "fit\n"
     ]
    },
    {
     "name": "stderr",
     "output_type": "stream",
     "text": [
      "\n",
      "100%|██████████| 8/8 [00:07<00:00,  1.14it/s]"
     ]
    },
    {
     "name": "stdout",
     "output_type": "stream",
     "text": [
      "Train loss: 0.5063234940171242\n",
      "validate\n"
     ]
    },
    {
     "name": "stderr",
     "output_type": "stream",
     "text": [
      "\n",
      "100%|██████████| 2/2 [00:02<00:00,  1.37s/it]"
     ]
    },
    {
     "name": "stdout",
     "output_type": "stream",
     "text": [
      "Validation loss: 0.7760310169255829\n",
      "Model validation loss improved by inf - Saving checkpoint\n",
      "Unfreezing CNN backbone at epoch 2\n",
      "Epoch 3/30\n",
      "fit\n"
     ]
    },
    {
     "name": "stderr",
     "output_type": "stream",
     "text": [
      "\n",
      "100%|██████████| 8/8 [00:07<00:00,  1.11it/s]\n"
     ]
    },
    {
     "name": "stdout",
     "output_type": "stream",
     "text": [
      "Train loss: 0.4948195703327656\n",
      "validate\n"
     ]
    },
    {
     "name": "stderr",
     "output_type": "stream",
     "text": [
      "100%|██████████| 2/2 [00:02<00:00,  1.39s/it]\n"
     ]
    },
    {
     "name": "stdout",
     "output_type": "stream",
     "text": [
      "Validation loss: 0.5441332153048521\n",
      "Model validation loss improved by 0.2319 - Saving checkpoint\n",
      "Epoch 4/30\n",
      "fit\n"
     ]
    },
    {
     "name": "stderr",
     "output_type": "stream",
     "text": [
      "100%|██████████| 8/8 [00:07<00:00,  1.10it/s]\n"
     ]
    },
    {
     "name": "stdout",
     "output_type": "stream",
     "text": [
      "Train loss: 0.3862658180296421\n",
      "validate\n"
     ]
    },
    {
     "name": "stderr",
     "output_type": "stream",
     "text": [
      "100%|██████████| 2/2 [00:02<00:00,  1.35s/it]\n"
     ]
    },
    {
     "name": "stdout",
     "output_type": "stream",
     "text": [
      "Validation loss: 0.42113130392955767\n",
      "Model validation loss improved by 0.1230 - Saving checkpoint\n",
      "Epoch 5/30\n",
      "fit\n"
     ]
    },
    {
     "name": "stderr",
     "output_type": "stream",
     "text": [
      "100%|██████████| 8/8 [00:07<00:00,  1.11it/s]\n"
     ]
    },
    {
     "name": "stdout",
     "output_type": "stream",
     "text": [
      "Train loss: 0.31640976667404175\n",
      "validate\n"
     ]
    },
    {
     "name": "stderr",
     "output_type": "stream",
     "text": [
      "100%|██████████| 2/2 [00:02<00:00,  1.35s/it]\n"
     ]
    },
    {
     "name": "stdout",
     "output_type": "stream",
     "text": [
      "Validation loss: 0.3669216616999649\n",
      "Model validation loss improved by 0.0542 - Saving checkpoint\n",
      "Epoch 6/30\n",
      "fit\n"
     ]
    },
    {
     "name": "stderr",
     "output_type": "stream",
     "text": [
      "100%|██████████| 8/8 [00:07<00:00,  1.10it/s]\n"
     ]
    },
    {
     "name": "stdout",
     "output_type": "stream",
     "text": [
      "Train loss: 0.2522374913096428\n",
      "validate\n"
     ]
    },
    {
     "name": "stderr",
     "output_type": "stream",
     "text": [
      "100%|██████████| 2/2 [00:02<00:00,  1.40s/it]\n"
     ]
    },
    {
     "name": "stdout",
     "output_type": "stream",
     "text": [
      "Validation loss: 0.30617136168044734\n",
      "Model validation loss improved by 0.0608 - Saving checkpoint\n",
      "Epoch 7/30\n",
      "fit\n"
     ]
    },
    {
     "name": "stderr",
     "output_type": "stream",
     "text": [
      "100%|██████████| 8/8 [00:07<00:00,  1.10it/s]\n"
     ]
    },
    {
     "name": "stdout",
     "output_type": "stream",
     "text": [
      "Train loss: 0.19867453910410404\n",
      "validate\n"
     ]
    },
    {
     "name": "stderr",
     "output_type": "stream",
     "text": [
      "100%|██████████| 2/2 [00:02<00:00,  1.36s/it]\n"
     ]
    },
    {
     "name": "stdout",
     "output_type": "stream",
     "text": [
      "Validation loss: 0.23581071628368247\n",
      "Model validation loss improved by 0.0704 - Saving checkpoint\n",
      "Epoch 8/30\n",
      "fit\n"
     ]
    },
    {
     "name": "stderr",
     "output_type": "stream",
     "text": [
      "100%|██████████| 8/8 [00:07<00:00,  1.09it/s]\n"
     ]
    },
    {
     "name": "stdout",
     "output_type": "stream",
     "text": [
      "Train loss: 0.15881984494626522\n",
      "validate\n"
     ]
    },
    {
     "name": "stderr",
     "output_type": "stream",
     "text": [
      "100%|██████████| 2/2 [00:02<00:00,  1.36s/it]\n"
     ]
    },
    {
     "name": "stdout",
     "output_type": "stream",
     "text": [
      "Validation loss: 0.19425754141177975\n",
      "Model validation loss improved by 0.0416 - Saving checkpoint\n",
      "Epoch 9/30\n",
      "fit\n"
     ]
    },
    {
     "name": "stderr",
     "output_type": "stream",
     "text": [
      "100%|██████████| 8/8 [00:07<00:00,  1.08it/s]\n"
     ]
    },
    {
     "name": "stdout",
     "output_type": "stream",
     "text": [
      "Train loss: 0.13551817275583744\n",
      "validate\n"
     ]
    },
    {
     "name": "stderr",
     "output_type": "stream",
     "text": [
      "100%|██████████| 2/2 [00:02<00:00,  1.36s/it]\n"
     ]
    },
    {
     "name": "stdout",
     "output_type": "stream",
     "text": [
      "Validation loss: 0.17919918356501657\n",
      "Model validation loss improved by 0.0151 - Saving checkpoint\n",
      "Epoch 10/30\n",
      "fit\n"
     ]
    },
    {
     "name": "stderr",
     "output_type": "stream",
     "text": [
      "100%|██████████| 8/8 [00:07<00:00,  1.11it/s]\n"
     ]
    },
    {
     "name": "stdout",
     "output_type": "stream",
     "text": [
      "Train loss: 0.10795548744499683\n",
      "validate\n"
     ]
    },
    {
     "name": "stderr",
     "output_type": "stream",
     "text": [
      "100%|██████████| 2/2 [00:02<00:00,  1.36s/it]\n"
     ]
    },
    {
     "name": "stdout",
     "output_type": "stream",
     "text": [
      "Validation loss: 0.15478527418373278\n",
      "Model validation loss improved by 0.0244 - Saving checkpoint\n",
      "Epoch 11/30\n",
      "fit\n"
     ]
    },
    {
     "name": "stderr",
     "output_type": "stream",
     "text": [
      "100%|██████████| 8/8 [00:07<00:00,  1.09it/s]\n"
     ]
    },
    {
     "name": "stdout",
     "output_type": "stream",
     "text": [
      "Train loss: 0.09603710565716028\n",
      "validate\n"
     ]
    },
    {
     "name": "stderr",
     "output_type": "stream",
     "text": [
      "100%|██████████| 2/2 [00:02<00:00,  1.36s/it]\n"
     ]
    },
    {
     "name": "stdout",
     "output_type": "stream",
     "text": [
      "Validation loss: 0.14862956339036276\n",
      "Model validation loss improved by 0.0062 - Saving checkpoint\n",
      "Epoch 12/30\n",
      "fit\n"
     ]
    },
    {
     "name": "stderr",
     "output_type": "stream",
     "text": [
      "100%|██████████| 8/8 [00:07<00:00,  1.09it/s]\n"
     ]
    },
    {
     "name": "stdout",
     "output_type": "stream",
     "text": [
      "Train loss: 0.09417573874816298\n",
      "validate\n"
     ]
    },
    {
     "name": "stderr",
     "output_type": "stream",
     "text": [
      "100%|██████████| 2/2 [00:02<00:00,  1.36s/it]\n"
     ]
    },
    {
     "name": "stdout",
     "output_type": "stream",
     "text": [
      "Validation loss: 0.14691664474024102\n",
      "Model validation loss improved by 0.0017 - Saving checkpoint\n",
      "Epoch 13/30\n",
      "fit\n"
     ]
    },
    {
     "name": "stderr",
     "output_type": "stream",
     "text": [
      "100%|██████████| 8/8 [00:07<00:00,  1.11it/s]\n"
     ]
    },
    {
     "name": "stdout",
     "output_type": "stream",
     "text": [
      "Train loss: 0.08599973376840353\n",
      "validate\n"
     ]
    },
    {
     "name": "stderr",
     "output_type": "stream",
     "text": [
      "100%|██████████| 2/2 [00:02<00:00,  1.40s/it]\n"
     ]
    },
    {
     "name": "stdout",
     "output_type": "stream",
     "text": [
      "Validation loss: 0.13078470845375278\n",
      "Model validation loss improved by 0.0161 - Saving checkpoint\n",
      "Epoch 14/30\n",
      "fit\n"
     ]
    },
    {
     "name": "stderr",
     "output_type": "stream",
     "text": [
      "100%|██████████| 8/8 [00:07<00:00,  1.11it/s]\n"
     ]
    },
    {
     "name": "stdout",
     "output_type": "stream",
     "text": [
      "Train loss: 0.07754530245438218\n",
      "validate\n"
     ]
    },
    {
     "name": "stderr",
     "output_type": "stream",
     "text": [
      "100%|██████████| 2/2 [00:02<00:00,  1.37s/it]"
     ]
    },
    {
     "name": "stdout",
     "output_type": "stream",
     "text": [
      "Validation loss: 0.13993513054731327\n",
      "Epoch 15/30\n",
      "fit\n"
     ]
    },
    {
     "name": "stderr",
     "output_type": "stream",
     "text": [
      "\n",
      "100%|██████████| 8/8 [00:07<00:00,  1.09it/s]\n"
     ]
    },
    {
     "name": "stdout",
     "output_type": "stream",
     "text": [
      "Train loss: 0.0794237251393497\n",
      "validate\n"
     ]
    },
    {
     "name": "stderr",
     "output_type": "stream",
     "text": [
      "100%|██████████| 2/2 [00:02<00:00,  1.38s/it]\n"
     ]
    },
    {
     "name": "stdout",
     "output_type": "stream",
     "text": [
      "Validation loss: 0.12498142493654116\n",
      "Model validation loss improved by 0.0058 - Saving checkpoint\n",
      "Epoch 16/30\n",
      "fit\n"
     ]
    },
    {
     "name": "stderr",
     "output_type": "stream",
     "text": [
      "100%|██████████| 8/8 [00:07<00:00,  1.13it/s]\n"
     ]
    },
    {
     "name": "stdout",
     "output_type": "stream",
     "text": [
      "Train loss: 0.07455358887091279\n",
      "validate\n"
     ]
    },
    {
     "name": "stderr",
     "output_type": "stream",
     "text": [
      "100%|██████████| 2/2 [00:02<00:00,  1.39s/it]\n"
     ]
    },
    {
     "name": "stdout",
     "output_type": "stream",
     "text": [
      "Validation loss: 0.11278724569262488\n",
      "Model validation loss improved by 0.0122 - Saving checkpoint\n",
      "Epoch 17/30\n",
      "fit\n"
     ]
    },
    {
     "name": "stderr",
     "output_type": "stream",
     "text": [
      "100%|██████████| 8/8 [00:07<00:00,  1.10it/s]\n"
     ]
    },
    {
     "name": "stdout",
     "output_type": "stream",
     "text": [
      "Train loss: 0.07526949513703585\n",
      "validate\n"
     ]
    },
    {
     "name": "stderr",
     "output_type": "stream",
     "text": [
      "100%|██████████| 2/2 [00:02<00:00,  1.37s/it]"
     ]
    },
    {
     "name": "stdout",
     "output_type": "stream",
     "text": [
      "Validation loss: 0.12134718037401065\n",
      "Epoch 18/30\n",
      "fit\n"
     ]
    },
    {
     "name": "stderr",
     "output_type": "stream",
     "text": [
      "\n",
      "100%|██████████| 8/8 [00:07<00:00,  1.10it/s]\n"
     ]
    },
    {
     "name": "stdout",
     "output_type": "stream",
     "text": [
      "Train loss: 0.06523900129832327\n",
      "validate\n"
     ]
    },
    {
     "name": "stderr",
     "output_type": "stream",
     "text": [
      "100%|██████████| 2/2 [00:02<00:00,  1.35s/it]\n"
     ]
    },
    {
     "name": "stdout",
     "output_type": "stream",
     "text": [
      "Validation loss: 0.10193232437655916\n",
      "Model validation loss improved by 0.0109 - Saving checkpoint\n",
      "Epoch 19/30\n",
      "fit\n"
     ]
    },
    {
     "name": "stderr",
     "output_type": "stream",
     "text": [
      "100%|██████████| 8/8 [00:07<00:00,  1.10it/s]\n"
     ]
    },
    {
     "name": "stdout",
     "output_type": "stream",
     "text": [
      "Train loss: 0.060438170563429594\n",
      "validate\n"
     ]
    },
    {
     "name": "stderr",
     "output_type": "stream",
     "text": [
      "100%|██████████| 2/2 [00:02<00:00,  1.39s/it]\n"
     ]
    },
    {
     "name": "stdout",
     "output_type": "stream",
     "text": [
      "Validation loss: 0.10521815686078712\n",
      "Epoch 20/30\n",
      "fit\n"
     ]
    },
    {
     "name": "stderr",
     "output_type": "stream",
     "text": [
      "100%|██████████| 8/8 [00:07<00:00,  1.10it/s]\n"
     ]
    },
    {
     "name": "stdout",
     "output_type": "stream",
     "text": [
      "Train loss: 0.06222789455205202\n",
      "validate\n"
     ]
    },
    {
     "name": "stderr",
     "output_type": "stream",
     "text": [
      "100%|██████████| 2/2 [00:02<00:00,  1.36s/it]\n"
     ]
    },
    {
     "name": "stdout",
     "output_type": "stream",
     "text": [
      "Validation loss: 0.097174199228037\n",
      "Model validation loss improved by 0.0048 - Saving checkpoint\n",
      "Epoch 21/30\n",
      "fit\n"
     ]
    },
    {
     "name": "stderr",
     "output_type": "stream",
     "text": [
      "100%|██████████| 8/8 [00:07<00:00,  1.10it/s]\n"
     ]
    },
    {
     "name": "stdout",
     "output_type": "stream",
     "text": [
      "Train loss: 0.0520995226688683\n",
      "validate\n"
     ]
    },
    {
     "name": "stderr",
     "output_type": "stream",
     "text": [
      "100%|██████████| 2/2 [00:02<00:00,  1.37s/it]\n"
     ]
    },
    {
     "name": "stdout",
     "output_type": "stream",
     "text": [
      "Validation loss: 0.08950058786891286\n",
      "Model validation loss improved by 0.0077 - Saving checkpoint\n",
      "Epoch 22/30\n",
      "fit\n"
     ]
    },
    {
     "name": "stderr",
     "output_type": "stream",
     "text": [
      "100%|██████████| 8/8 [00:07<00:00,  1.09it/s]"
     ]
    },
    {
     "name": "stdout",
     "output_type": "stream",
     "text": [
      "Train loss: 0.05619337456300855\n",
      "validate\n"
     ]
    },
    {
     "name": "stderr",
     "output_type": "stream",
     "text": [
      "\n",
      "100%|██████████| 2/2 [00:02<00:00,  1.36s/it]"
     ]
    },
    {
     "name": "stdout",
     "output_type": "stream",
     "text": [
      "Validation loss: 0.09076751394591892\n",
      "Epoch 23/30\n",
      "fit\n"
     ]
    },
    {
     "name": "stderr",
     "output_type": "stream",
     "text": [
      "\n",
      "100%|██████████| 8/8 [00:07<00:00,  1.10it/s]\n"
     ]
    },
    {
     "name": "stdout",
     "output_type": "stream",
     "text": [
      "Train loss: 0.05165650160051882\n",
      "validate\n"
     ]
    },
    {
     "name": "stderr",
     "output_type": "stream",
     "text": [
      "100%|██████████| 2/2 [00:02<00:00,  1.36s/it]\n"
     ]
    },
    {
     "name": "stdout",
     "output_type": "stream",
     "text": [
      "Validation loss: 0.08255651645663131\n",
      "Model validation loss improved by 0.0069 - Saving checkpoint\n",
      "Epoch 24/30\n",
      "fit\n"
     ]
    },
    {
     "name": "stderr",
     "output_type": "stream",
     "text": [
      "100%|██████████| 8/8 [00:07<00:00,  1.10it/s]\n"
     ]
    },
    {
     "name": "stdout",
     "output_type": "stream",
     "text": [
      "Train loss: 0.05142858158797026\n",
      "validate\n"
     ]
    },
    {
     "name": "stderr",
     "output_type": "stream",
     "text": [
      "100%|██████████| 2/2 [00:02<00:00,  1.36s/it]\n"
     ]
    },
    {
     "name": "stdout",
     "output_type": "stream",
     "text": [
      "Validation loss: 0.08064210520936302\n",
      "Model validation loss improved by 0.0019 - Saving checkpoint\n",
      "Epoch 25/30\n",
      "fit\n"
     ]
    },
    {
     "name": "stderr",
     "output_type": "stream",
     "text": [
      "100%|██████████| 8/8 [00:07<00:00,  1.09it/s]\n"
     ]
    },
    {
     "name": "stdout",
     "output_type": "stream",
     "text": [
      "Train loss: 0.050110381562262774\n",
      "validate\n"
     ]
    },
    {
     "name": "stderr",
     "output_type": "stream",
     "text": [
      "100%|██████████| 2/2 [00:02<00:00,  1.38s/it]\n"
     ]
    },
    {
     "name": "stdout",
     "output_type": "stream",
     "text": [
      "Validation loss: 0.07265083615993706\n",
      "Model validation loss improved by 0.0080 - Saving checkpoint\n",
      "Epoch 26/30\n",
      "fit\n"
     ]
    },
    {
     "name": "stderr",
     "output_type": "stream",
     "text": [
      "100%|██████████| 8/8 [00:07<00:00,  1.10it/s]\n"
     ]
    },
    {
     "name": "stdout",
     "output_type": "stream",
     "text": [
      "Train loss: 0.04439612105488777\n",
      "validate\n"
     ]
    },
    {
     "name": "stderr",
     "output_type": "stream",
     "text": [
      "100%|██████████| 2/2 [00:02<00:00,  1.36s/it]"
     ]
    },
    {
     "name": "stdout",
     "output_type": "stream",
     "text": [
      "Validation loss: 0.07304181012138225\n",
      "Epoch 27/30\n",
      "fit\n"
     ]
    },
    {
     "name": "stderr",
     "output_type": "stream",
     "text": [
      "\n",
      "100%|██████████| 8/8 [00:07<00:00,  1.08it/s]\n"
     ]
    },
    {
     "name": "stdout",
     "output_type": "stream",
     "text": [
      "Train loss: 0.04313091072253883\n",
      "validate\n"
     ]
    },
    {
     "name": "stderr",
     "output_type": "stream",
     "text": [
      "100%|██████████| 2/2 [00:02<00:00,  1.36s/it]\n"
     ]
    },
    {
     "name": "stdout",
     "output_type": "stream",
     "text": [
      "Validation loss: 0.06536954205679271\n",
      "Model validation loss improved by 0.0073 - Saving checkpoint\n",
      "Epoch 28/30\n",
      "fit\n"
     ]
    },
    {
     "name": "stderr",
     "output_type": "stream",
     "text": [
      "100%|██████████| 8/8 [00:07<00:00,  1.08it/s]\n"
     ]
    },
    {
     "name": "stdout",
     "output_type": "stream",
     "text": [
      "Train loss: 0.048082994762808084\n",
      "validate\n"
     ]
    },
    {
     "name": "stderr",
     "output_type": "stream",
     "text": [
      "100%|██████████| 2/2 [00:02<00:00,  1.35s/it]"
     ]
    },
    {
     "name": "stdout",
     "output_type": "stream",
     "text": [
      "Validation loss: 0.06628462585501557\n",
      "Epoch 29/30\n",
      "fit\n"
     ]
    },
    {
     "name": "stderr",
     "output_type": "stream",
     "text": [
      "\n",
      "100%|██████████| 8/8 [00:07<00:00,  1.09it/s]\n"
     ]
    },
    {
     "name": "stdout",
     "output_type": "stream",
     "text": [
      "Train loss: 0.042003815760836005\n",
      "validate\n"
     ]
    },
    {
     "name": "stderr",
     "output_type": "stream",
     "text": [
      "100%|██████████| 2/2 [00:02<00:00,  1.38s/it]\n"
     ]
    },
    {
     "name": "stdout",
     "output_type": "stream",
     "text": [
      "Validation loss: 0.060246570817122556\n",
      "Model validation loss improved by 0.0051 - Saving checkpoint\n",
      "Epoch 30/30\n",
      "fit\n"
     ]
    },
    {
     "name": "stderr",
     "output_type": "stream",
     "text": [
      "100%|██████████| 8/8 [00:07<00:00,  1.09it/s]\n"
     ]
    },
    {
     "name": "stdout",
     "output_type": "stream",
     "text": [
      "Train loss: 0.03787365322932601\n",
      "validate\n"
     ]
    },
    {
     "name": "stderr",
     "output_type": "stream",
     "text": [
      "100%|██████████| 2/2 [00:02<00:00,  1.35s/it]\n"
     ]
    },
    {
     "name": "stdout",
     "output_type": "stream",
     "text": [
      "Validation loss: 0.05721707879584411\n",
      "Model validation loss improved by 0.0030 - Saving checkpoint\n"
     ]
    }
   ],
   "source": [
    "epochs = 30\n",
    "unfreeze_after = 2\n",
    "aux_metrics = {\"epoch\": [], \"train_loss\": [], \"val_loss\": []}\n",
    "min_val_loss = float('inf')\n",
    "best_epoch = None\n",
    "total_train_time = 0\n",
    "epoch_times = []\n",
    "aux_model.train()\n",
    "\n",
    "# Set seeds for reproducibility\n",
    "torch.manual_seed(seed)\n",
    "torch.cuda.manual_seed(seed)\n",
    "np.random.seed(seed)\n",
    "random.seed(seed)\n",
    "torch.backends.cudnn.deterministic = True\n",
    "torch.backends.cudnn.benchmark = False\n",
    "\n",
    "for epoch in range(epochs):\n",
    "    print(f\"Epoch {epoch + 1}/{epochs}\")\n",
    "\n",
    "    print(\"fit\")\n",
    "    train_loss = aux_fit(aux_model, criterion, optimizer, aux_train_dl, device, epoch)\n",
    "    aux_metrics[\"train_loss\"].append(train_loss)\n",
    "    aux_metrics[\"epoch\"].append(epoch)\n",
    "    print(f\"Train loss: {train_loss}\")\n",
    "\n",
    "    print(\"validate\")\n",
    "    val_loss = aux_validate(aux_model, [criterion], aux_val_dl, device)[0]\n",
    "    aux_metrics[\"val_loss\"].append(val_loss)\n",
    "    print(f\"Validation loss: {val_loss}\")\n",
    "\n",
    "    # Learning rate update\n",
    "    old_lr = optimizer.param_groups[0]['lr']\n",
    "    scheduler.step(val_loss)\n",
    "    new_lr = optimizer.param_groups[0]['lr']\n",
    "    if old_lr != new_lr:\n",
    "        print(f\"Learning rate adjusted: {old_lr:.6f} -> {new_lr:.6f}\")\n",
    "\n",
    "    # Model saving\n",
    "    checkpoint_path = checkpoint_dir / f\"epoch_{epoch:02d}.pth\"\n",
    "    save_checkpoint(\n",
    "        checkpoint_path, epoch, aux_model, optimizer, train_loss,\n",
    "        transforms,\n",
    "        {\n",
    "            \"aspect\": aspect,\n",
    "            \"input_shape\": input_shape,\n",
    "            \"img_sample_mean\": img_mean,\n",
    "            \"img_sample_std\": img_std\n",
    "        }\n",
    "    )\n",
    "\n",
    "    # Check for improvement\n",
    "    if epoch == 0:\n",
    "        print(\"Initial checkpoint - Saving\")\n",
    "    elif val_loss < min_val_loss:\n",
    "        improvement = min_val_loss - val_loss\n",
    "        print(f\"Model validation loss improved by {improvement:.4f} - Saving checkpoint\")\n",
    "        best_model_path = model_dir / \"model.pth\"\n",
    "        shutil.copy(checkpoint_path, best_model_path)\n",
    "        min_val_loss = val_loss\n",
    "        best_epoch = epoch\n",
    "\n",
    "    # Save metrics\n",
    "    pd.DataFrame(aux_metrics).to_csv(output_dir / \"train\" / \"metrics.csv\", index=False)\n",
    "\n",
    "    # Backbone unfreezing\n",
    "    if (epoch + 1) == unfreeze_after:\n",
    "        print(f\"Unfreezing CNN backbone at epoch {epoch + 1}\")\n",
    "        for p in list(aux_model.children())[0].parameters():\n",
    "            p.requires_grad = True"
   ]
  },
  {
   "cell_type": "markdown",
   "metadata": {},
   "source": [
    "### Test Images"
   ]
  },
  {
   "cell_type": "code",
   "execution_count": 62,
   "metadata": {},
   "outputs": [
    {
     "data": {
      "text/html": [
       "<div>\n",
       "<style scoped>\n",
       "    .dataframe tbody tr th:only-of-type {\n",
       "        vertical-align: middle;\n",
       "    }\n",
       "\n",
       "    .dataframe tbody tr th {\n",
       "        vertical-align: top;\n",
       "    }\n",
       "\n",
       "    .dataframe thead th {\n",
       "        text-align: right;\n",
       "    }\n",
       "</style>\n",
       "<table border=\"1\" class=\"dataframe\">\n",
       "  <thead>\n",
       "    <tr style=\"text-align: right;\">\n",
       "      <th></th>\n",
       "      <th>split</th>\n",
       "      <th>image_id</th>\n",
       "      <th>timestamp</th>\n",
       "      <th>filename</th>\n",
       "      <th>url</th>\n",
       "      <th>value</th>\n",
       "      <th>date</th>\n",
       "      <th>prcp</th>\n",
       "      <th>jday</th>\n",
       "      <th>dhour</th>\n",
       "      <th>obs</th>\n",
       "      <th>zero</th>\n",
       "      <th>rand</th>\n",
       "      <th>obs_z</th>\n",
       "      <th>prcp_z</th>\n",
       "      <th>jday_z</th>\n",
       "      <th>dhour_z</th>\n",
       "    </tr>\n",
       "  </thead>\n",
       "  <tbody>\n",
       "    <tr>\n",
       "      <th>0</th>\n",
       "      <td>test-in</td>\n",
       "      <td>624034</td>\n",
       "      <td>2022-05-22 20:00:00</td>\n",
       "      <td>imagesets/33c0736b-f5fb-4da6-91b0-83a72c285382...</td>\n",
       "      <td>https://usgs-chs-conte-prod-fpe-storage.s3.ama...</td>\n",
       "      <td>6.680000</td>\n",
       "      <td>2022-05-22</td>\n",
       "      <td>7.45</td>\n",
       "      <td>142</td>\n",
       "      <td>16.000000</td>\n",
       "      <td>0.824776</td>\n",
       "      <td>0</td>\n",
       "      <td>0.112478</td>\n",
       "      <td>0.436951</td>\n",
       "      <td>0.113187</td>\n",
       "      <td>0.387363</td>\n",
       "      <td>0.750017</td>\n",
       "    </tr>\n",
       "    <tr>\n",
       "      <th>1</th>\n",
       "      <td>test-in</td>\n",
       "      <td>661236</td>\n",
       "      <td>2022-06-09 15:15:01</td>\n",
       "      <td>imagesets/cb2b67b0-0f07-4351-b96d-2659d5b56c9f...</td>\n",
       "      <td>https://usgs-chs-conte-prod-fpe-storage.s3.ama...</td>\n",
       "      <td>31.799000</td>\n",
       "      <td>2022-06-09</td>\n",
       "      <td>7.42</td>\n",
       "      <td>160</td>\n",
       "      <td>11.250278</td>\n",
       "      <td>1.502413</td>\n",
       "      <td>0</td>\n",
       "      <td>0.219296</td>\n",
       "      <td>0.591032</td>\n",
       "      <td>0.112732</td>\n",
       "      <td>0.436813</td>\n",
       "      <td>0.354198</td>\n",
       "    </tr>\n",
       "    <tr>\n",
       "      <th>2</th>\n",
       "      <td>test-in</td>\n",
       "      <td>3524434</td>\n",
       "      <td>2023-09-14 11:30:00</td>\n",
       "      <td>imagesets/28817548-7828-4365-9263-af78ce15b503...</td>\n",
       "      <td>https://usgs-chs-conte-prod-fpe-storage.s3.ama...</td>\n",
       "      <td>13.300000</td>\n",
       "      <td>2023-09-14</td>\n",
       "      <td>0.00</td>\n",
       "      <td>257</td>\n",
       "      <td>7.500000</td>\n",
       "      <td>1.123852</td>\n",
       "      <td>0</td>\n",
       "      <td>0.224699</td>\n",
       "      <td>0.504955</td>\n",
       "      <td>0.000000</td>\n",
       "      <td>0.703297</td>\n",
       "      <td>0.041668</td>\n",
       "    </tr>\n",
       "    <tr>\n",
       "      <th>3</th>\n",
       "      <td>test-in</td>\n",
       "      <td>1390235</td>\n",
       "      <td>2022-11-15 15:00:00</td>\n",
       "      <td>imagesets/e2a3b2b6-d391-481a-9814-dc61cf83a990...</td>\n",
       "      <td>https://usgs-chs-conte-prod-fpe-storage.s3.ama...</td>\n",
       "      <td>4.100000</td>\n",
       "      <td>2022-11-15</td>\n",
       "      <td>19.14</td>\n",
       "      <td>319</td>\n",
       "      <td>10.000000</td>\n",
       "      <td>0.612784</td>\n",
       "      <td>0</td>\n",
       "      <td>0.835279</td>\n",
       "      <td>0.388749</td>\n",
       "      <td>0.290793</td>\n",
       "      <td>0.873626</td>\n",
       "      <td>0.250006</td>\n",
       "    </tr>\n",
       "    <tr>\n",
       "      <th>4</th>\n",
       "      <td>test-in</td>\n",
       "      <td>2019452</td>\n",
       "      <td>2023-03-19 20:15:01</td>\n",
       "      <td>imagesets/27aae6d9-9417-4b53-bf6a-cd2ce8139ba1...</td>\n",
       "      <td>https://usgs-chs-conte-prod-fpe-storage.s3.ama...</td>\n",
       "      <td>29.201111</td>\n",
       "      <td>2023-03-19</td>\n",
       "      <td>0.00</td>\n",
       "      <td>78</td>\n",
       "      <td>16.250278</td>\n",
       "      <td>1.465399</td>\n",
       "      <td>0</td>\n",
       "      <td>0.853963</td>\n",
       "      <td>0.582616</td>\n",
       "      <td>0.000000</td>\n",
       "      <td>0.211538</td>\n",
       "      <td>0.770874</td>\n",
       "    </tr>\n",
       "  </tbody>\n",
       "</table>\n",
       "</div>"
      ],
      "text/plain": [
       "     split  image_id            timestamp  \\\n",
       "0  test-in    624034  2022-05-22 20:00:00   \n",
       "1  test-in    661236  2022-06-09 15:15:01   \n",
       "2  test-in   3524434  2023-09-14 11:30:00   \n",
       "3  test-in   1390235  2022-11-15 15:00:00   \n",
       "4  test-in   2019452  2023-03-19 20:15:01   \n",
       "\n",
       "                                            filename  \\\n",
       "0  imagesets/33c0736b-f5fb-4da6-91b0-83a72c285382...   \n",
       "1  imagesets/cb2b67b0-0f07-4351-b96d-2659d5b56c9f...   \n",
       "2  imagesets/28817548-7828-4365-9263-af78ce15b503...   \n",
       "3  imagesets/e2a3b2b6-d391-481a-9814-dc61cf83a990...   \n",
       "4  imagesets/27aae6d9-9417-4b53-bf6a-cd2ce8139ba1...   \n",
       "\n",
       "                                                 url      value        date  \\\n",
       "0  https://usgs-chs-conte-prod-fpe-storage.s3.ama...   6.680000  2022-05-22   \n",
       "1  https://usgs-chs-conte-prod-fpe-storage.s3.ama...  31.799000  2022-06-09   \n",
       "2  https://usgs-chs-conte-prod-fpe-storage.s3.ama...  13.300000  2023-09-14   \n",
       "3  https://usgs-chs-conte-prod-fpe-storage.s3.ama...   4.100000  2022-11-15   \n",
       "4  https://usgs-chs-conte-prod-fpe-storage.s3.ama...  29.201111  2023-03-19   \n",
       "\n",
       "    prcp  jday      dhour       obs  zero      rand     obs_z    prcp_z  \\\n",
       "0   7.45   142  16.000000  0.824776     0  0.112478  0.436951  0.113187   \n",
       "1   7.42   160  11.250278  1.502413     0  0.219296  0.591032  0.112732   \n",
       "2   0.00   257   7.500000  1.123852     0  0.224699  0.504955  0.000000   \n",
       "3  19.14   319  10.000000  0.612784     0  0.835279  0.388749  0.290793   \n",
       "4   0.00    78  16.250278  1.465399     0  0.853963  0.582616  0.000000   \n",
       "\n",
       "     jday_z   dhour_z  \n",
       "0  0.387363  0.750017  \n",
       "1  0.436813  0.354198  \n",
       "2  0.703297  0.041668  \n",
       "3  0.873626  0.250006  \n",
       "4  0.211538  0.770874  "
      ]
     },
     "execution_count": 62,
     "metadata": {},
     "output_type": "execute_result"
    }
   ],
   "source": [
    "aux_test_df = pd.read_csv(data_dir / \"test-images.csv\")\n",
    "aux_test_df.head()"
   ]
  },
  {
   "cell_type": "code",
   "execution_count": 63,
   "metadata": {},
   "outputs": [
    {
     "data": {
      "text/plain": [
       "(tensor([[[0.3176, 0.3176, 0.3255,  ..., 0.9922, 0.9843, 0.9843],\n",
       "          [0.3216, 0.3255, 0.3294,  ..., 0.9922, 0.9843, 0.9843],\n",
       "          [0.3137, 0.3176, 0.3333,  ..., 0.9961, 0.9961, 0.9961],\n",
       "          ...,\n",
       "          [0.9961, 0.9961, 0.9961,  ..., 0.9961, 0.9961, 0.9961],\n",
       "          [0.9961, 0.9961, 0.9961,  ..., 0.9961, 0.9961, 0.9961],\n",
       "          [0.9961, 0.9961, 0.9961,  ..., 0.9961, 0.9961, 0.9961]],\n",
       " \n",
       "         [[0.3804, 0.3804, 0.3843,  ..., 0.9961, 1.0000, 1.0000],\n",
       "          [0.3765, 0.3804, 0.3843,  ..., 0.9961, 1.0000, 1.0000],\n",
       "          [0.3647, 0.3725, 0.3765,  ..., 1.0000, 1.0000, 1.0000],\n",
       "          ...,\n",
       "          [1.0000, 1.0000, 1.0000,  ..., 1.0000, 1.0000, 1.0000],\n",
       "          [1.0000, 1.0000, 1.0000,  ..., 1.0000, 1.0000, 1.0000],\n",
       "          [1.0000, 1.0000, 1.0000,  ..., 1.0000, 1.0000, 1.0000]],\n",
       " \n",
       "         [[0.2392, 0.2353, 0.2314,  ..., 0.7608, 0.7686, 0.7686],\n",
       "          [0.2471, 0.2431, 0.2431,  ..., 0.7686, 0.7686, 0.7686],\n",
       "          [0.2471, 0.2431, 0.2431,  ..., 0.7765, 0.7725, 0.7725],\n",
       "          ...,\n",
       "          [0.9922, 0.9922, 0.9922,  ..., 0.9922, 0.9922, 0.9922],\n",
       "          [0.9922, 0.9922, 0.9922,  ..., 0.9922, 0.9922, 0.9922],\n",
       "          [0.9922, 0.9922, 0.9922,  ..., 0.9922, 0.9922, 0.9922]]]),\n",
       " tensor([0.4370]),\n",
       " 0.8247764624755457)"
      ]
     },
     "execution_count": 63,
     "metadata": {},
     "output_type": "execute_result"
    }
   ],
   "source": [
    "# Create dataset\n",
    "aux_dataset = FlowPhotoDatasetWithAuxiliary(aux_test_df, images_dir, auxiliary_features=['obs_z'], col_image_id=\"image_id\", col_timestamp=\"timestamp\", col_filename=\"filename\", col_label=\"obs\")\n",
    "aux_dataset[0]"
   ]
  },
  {
   "cell_type": "code",
   "execution_count": 64,
   "metadata": {},
   "outputs": [
    {
     "name": "stderr",
     "output_type": "stream",
     "text": [
      "/tmp/ipykernel_2170826/2794913697.py:3: FutureWarning: You are using `torch.load` with `weights_only=False` (the current default value), which uses the default pickle module implicitly. It is possible to construct malicious pickle data which will execute arbitrary code during unpickling (See https://github.com/pytorch/pytorch/blob/main/SECURITY.md#untrusted-models for more details). In a future release, the default value for `weights_only` will be flipped to `True`. This limits the functions that could be executed during unpickling. Arbitrary objects will no longer be allowed to be loaded via this mode unless they are explicitly allowlisted by the user via `torch.serialization.add_safe_globals`. We recommend you start setting `weights_only=True` for any use case where you don't have full control of the loaded file. Please open an issue on GitHub for any issues related to this experimental feature.\n",
      "  checkpoint = torch.load(model_path, map_location=device)\n"
     ]
    },
    {
     "data": {
      "text/plain": [
       "ResNetRegressionNetWithAuxiliary(\n",
       "  (resnetbody): ResNet18(\n",
       "    (model): Sequential(\n",
       "      (0): Conv2d(3, 64, kernel_size=(7, 7), stride=(2, 2), padding=(3, 3), bias=False)\n",
       "      (1): BatchNorm2d(64, eps=1e-05, momentum=0.1, affine=True, track_running_stats=True)\n",
       "      (2): ReLU(inplace=True)\n",
       "      (3): MaxPool2d(kernel_size=3, stride=2, padding=1, dilation=1, ceil_mode=False)\n",
       "      (4): Sequential(\n",
       "        (0): BasicBlock(\n",
       "          (conv1): Conv2d(64, 64, kernel_size=(3, 3), stride=(1, 1), padding=(1, 1), bias=False)\n",
       "          (bn1): BatchNorm2d(64, eps=1e-05, momentum=0.1, affine=True, track_running_stats=True)\n",
       "          (relu): ReLU(inplace=True)\n",
       "          (conv2): Conv2d(64, 64, kernel_size=(3, 3), stride=(1, 1), padding=(1, 1), bias=False)\n",
       "          (bn2): BatchNorm2d(64, eps=1e-05, momentum=0.1, affine=True, track_running_stats=True)\n",
       "        )\n",
       "        (1): BasicBlock(\n",
       "          (conv1): Conv2d(64, 64, kernel_size=(3, 3), stride=(1, 1), padding=(1, 1), bias=False)\n",
       "          (bn1): BatchNorm2d(64, eps=1e-05, momentum=0.1, affine=True, track_running_stats=True)\n",
       "          (relu): ReLU(inplace=True)\n",
       "          (conv2): Conv2d(64, 64, kernel_size=(3, 3), stride=(1, 1), padding=(1, 1), bias=False)\n",
       "          (bn2): BatchNorm2d(64, eps=1e-05, momentum=0.1, affine=True, track_running_stats=True)\n",
       "        )\n",
       "      )\n",
       "      (5): Sequential(\n",
       "        (0): BasicBlock(\n",
       "          (conv1): Conv2d(64, 128, kernel_size=(3, 3), stride=(2, 2), padding=(1, 1), bias=False)\n",
       "          (bn1): BatchNorm2d(128, eps=1e-05, momentum=0.1, affine=True, track_running_stats=True)\n",
       "          (relu): ReLU(inplace=True)\n",
       "          (conv2): Conv2d(128, 128, kernel_size=(3, 3), stride=(1, 1), padding=(1, 1), bias=False)\n",
       "          (bn2): BatchNorm2d(128, eps=1e-05, momentum=0.1, affine=True, track_running_stats=True)\n",
       "          (downsample): Sequential(\n",
       "            (0): Conv2d(64, 128, kernel_size=(1, 1), stride=(2, 2), bias=False)\n",
       "            (1): BatchNorm2d(128, eps=1e-05, momentum=0.1, affine=True, track_running_stats=True)\n",
       "          )\n",
       "        )\n",
       "        (1): BasicBlock(\n",
       "          (conv1): Conv2d(128, 128, kernel_size=(3, 3), stride=(1, 1), padding=(1, 1), bias=False)\n",
       "          (bn1): BatchNorm2d(128, eps=1e-05, momentum=0.1, affine=True, track_running_stats=True)\n",
       "          (relu): ReLU(inplace=True)\n",
       "          (conv2): Conv2d(128, 128, kernel_size=(3, 3), stride=(1, 1), padding=(1, 1), bias=False)\n",
       "          (bn2): BatchNorm2d(128, eps=1e-05, momentum=0.1, affine=True, track_running_stats=True)\n",
       "        )\n",
       "      )\n",
       "      (6): Sequential(\n",
       "        (0): BasicBlock(\n",
       "          (conv1): Conv2d(128, 256, kernel_size=(3, 3), stride=(2, 2), padding=(1, 1), bias=False)\n",
       "          (bn1): BatchNorm2d(256, eps=1e-05, momentum=0.1, affine=True, track_running_stats=True)\n",
       "          (relu): ReLU(inplace=True)\n",
       "          (conv2): Conv2d(256, 256, kernel_size=(3, 3), stride=(1, 1), padding=(1, 1), bias=False)\n",
       "          (bn2): BatchNorm2d(256, eps=1e-05, momentum=0.1, affine=True, track_running_stats=True)\n",
       "          (downsample): Sequential(\n",
       "            (0): Conv2d(128, 256, kernel_size=(1, 1), stride=(2, 2), bias=False)\n",
       "            (1): BatchNorm2d(256, eps=1e-05, momentum=0.1, affine=True, track_running_stats=True)\n",
       "          )\n",
       "        )\n",
       "        (1): BasicBlock(\n",
       "          (conv1): Conv2d(256, 256, kernel_size=(3, 3), stride=(1, 1), padding=(1, 1), bias=False)\n",
       "          (bn1): BatchNorm2d(256, eps=1e-05, momentum=0.1, affine=True, track_running_stats=True)\n",
       "          (relu): ReLU(inplace=True)\n",
       "          (conv2): Conv2d(256, 256, kernel_size=(3, 3), stride=(1, 1), padding=(1, 1), bias=False)\n",
       "          (bn2): BatchNorm2d(256, eps=1e-05, momentum=0.1, affine=True, track_running_stats=True)\n",
       "        )\n",
       "      )\n",
       "      (7): Sequential(\n",
       "        (0): BasicBlock(\n",
       "          (conv1): Conv2d(256, 512, kernel_size=(3, 3), stride=(2, 2), padding=(1, 1), bias=False)\n",
       "          (bn1): BatchNorm2d(512, eps=1e-05, momentum=0.1, affine=True, track_running_stats=True)\n",
       "          (relu): ReLU(inplace=True)\n",
       "          (conv2): Conv2d(512, 512, kernel_size=(3, 3), stride=(1, 1), padding=(1, 1), bias=False)\n",
       "          (bn2): BatchNorm2d(512, eps=1e-05, momentum=0.1, affine=True, track_running_stats=True)\n",
       "          (downsample): Sequential(\n",
       "            (0): Conv2d(256, 512, kernel_size=(1, 1), stride=(2, 2), bias=False)\n",
       "            (1): BatchNorm2d(512, eps=1e-05, momentum=0.1, affine=True, track_running_stats=True)\n",
       "          )\n",
       "        )\n",
       "        (1): BasicBlock(\n",
       "          (conv1): Conv2d(512, 512, kernel_size=(3, 3), stride=(1, 1), padding=(1, 1), bias=False)\n",
       "          (bn1): BatchNorm2d(512, eps=1e-05, momentum=0.1, affine=True, track_running_stats=True)\n",
       "          (relu): ReLU(inplace=True)\n",
       "          (conv2): Conv2d(512, 512, kernel_size=(3, 3), stride=(1, 1), padding=(1, 1), bias=False)\n",
       "          (bn2): BatchNorm2d(512, eps=1e-05, momentum=0.1, affine=True, track_running_stats=True)\n",
       "        )\n",
       "      )\n",
       "    )\n",
       "  )\n",
       "  (avgpool): AdaptiveAvgPool2d(output_size=(1, 1))\n",
       "  (fclayers): Sequential(\n",
       "    (0): Linear(in_features=544, out_features=256, bias=True)\n",
       "    (1): ReLU()\n",
       "    (2): Linear(in_features=256, out_features=64, bias=True)\n",
       "    (3): ReLU()\n",
       "    (4): Linear(in_features=64, out_features=1, bias=True)\n",
       "  )\n",
       "  (auxiliary_encoder): Sequential(\n",
       "    (0): Linear(in_features=1, out_features=32, bias=True)\n",
       "    (1): ReLU()\n",
       "    (2): Linear(in_features=32, out_features=32, bias=True)\n",
       "    (3): ReLU()\n",
       "  )\n",
       ")"
      ]
     },
     "execution_count": 64,
     "metadata": {},
     "output_type": "execute_result"
    }
   ],
   "source": [
    "# Load model\n",
    "model_path = model_dir / \"model.pth\"\n",
    "checkpoint = torch.load(model_path, map_location=device)\n",
    "params = checkpoint[\"params\"]\n",
    "\n",
    "aux_model = ResNetRegressionNetWithAuxiliary(\n",
    "    input_shape=(3, params[\"input_shape\"][0], params[\"input_shape\"][1]),\n",
    "    transforms=checkpoint[\"transforms\"],\n",
    "    resnet_size=18,\n",
    "    truncate=2,\n",
    "    auxiliary_size=len(auxiliary_features),\n",
    "    auxiliary_encoding_size=auxiliary_encoding_size\n",
    ")\n",
    "\n",
    "aux_model.load_state_dict(checkpoint[\"model_state_dict\"])\n",
    "\n",
    "aux_model = aux_model.to(device).eval()\n",
    "aux_model"
   ]
  },
  {
   "cell_type": "code",
   "execution_count": 65,
   "metadata": {},
   "outputs": [
    {
     "name": "stderr",
     "output_type": "stream",
     "text": [
      "Generating predictions: 100%|██████████| 1000/1000 [00:21<00:00, 46.79it/s]\n"
     ]
    }
   ],
   "source": [
    "# Generate predictions\n",
    "scores = []\n",
    "with torch.no_grad():\n",
    "    for image, aux, _ in tqdm(aux_dataset, desc=\"Generating predictions\"):\n",
    "        # Move image to device and get prediction\n",
    "        image = image.to(device)\n",
    "        aux = aux.to(device)\n",
    "        transformed = aux_model.transforms['eval'](image)\n",
    "        output = aux_model.forward(transformed.unsqueeze(0), aux.unsqueeze(0))\n",
    "        score = output.detach().cpu().numpy().item()\n",
    "        scores.append(score)\n",
    "scores = np.array(scores)"
   ]
  },
  {
   "cell_type": "code",
   "execution_count": 66,
   "metadata": {},
   "outputs": [
    {
     "name": "stdout",
     "output_type": "stream",
     "text": [
      "Mean error: -0.038823968330209624, std error: 0.20398216347989706\n",
      "Kendall's tau: 0.8439627876166736, Spearman's rho: 0.9596616137927196\n",
      "RMSE: 0.20764398265985115\n"
     ]
    },
    {
     "data": {
      "image/png": "[encoded data removed]",
      "text/plain": [
       "<Figure size 640x480 with 1 Axes>"
      ]
     },
     "metadata": {},
     "output_type": "display_data"
    }
   ],
   "source": [
    "aux_test_df['score'] = scores\n",
    "aux_test_df.describe()\n",
    "\n",
    "# calculate error stats between obs and score\n",
    "values = aux_test_df['obs'].values\n",
    "error = values - scores\n",
    "print(f\"Mean error: {error.mean()}, std error: {error.std()}\")\n",
    "\n",
    "import scipy.stats as stats\n",
    "kendall_tau = stats.kendalltau(scores, values)[0]\n",
    "spearman_rho = stats.spearmanr(scores, values)[0]\n",
    "print(f\"Kendall's tau: {kendall_tau}, Spearman's rho: {spearman_rho}\")\n",
    "\n",
    "# compute rmse\n",
    "rmse = np.sqrt(np.mean(error**2))\n",
    "print(f\"RMSE: {rmse}\")\n",
    "\n",
    "# plot score vs obs\n",
    "plt.scatter(aux_test_df['score'], aux_test_df['obs'])\n",
    "plt.xlabel('Score')\n",
    "plt.ylabel('Obs')\n",
    "plt.show()"
   ]
  },
  {
   "cell_type": "code",
   "execution_count": null,
   "metadata": {},
   "outputs": [],
   "source": []
  }
 ],
 "metadata": {
  "kernelspec": {
   "display_name": "fpe-rank",
   "language": "python",
   "name": "python3"
  },
  "language_info": {
   "codemirror_mode": {
    "name": "ipython",
    "version": 3
   },
   "file_extension": ".py",
   "mimetype": "text/x-python",
   "name": "python",
   "nbconvert_exporter": "python",
   "pygments_lexer": "ipython3",
   "version": "3.11.10"
  }
 },
 "nbformat": 4,
 "nbformat_minor": 2
}
