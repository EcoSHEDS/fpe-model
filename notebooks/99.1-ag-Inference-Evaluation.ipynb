{
 "cells": [
  {
   "cell_type": "code",
   "execution_count": 4,
   "metadata": {},
   "outputs": [],
   "source": [
    "import os\n",
    "import sys\n",
    "import glob\n",
    "import pickle\n",
    "import numpy as np\n",
    "import pandas as pd\n",
    "from types import SimpleNamespace\n",
    "import torch\n",
    "import scipy\n",
    "\n",
    "PROJECT_ROOT = os.path.abspath(os.path.join(sys.path[0], os.pardir))\n",
    "sys.path.append(PROJECT_ROOT)\n",
    "\n",
    "from src.utils import log\n",
    "from scripts.inference_ranking_model import inference_ranking_model\n"
   ]
  },
  {
   "cell_type": "code",
   "execution_count": 2,
   "metadata": {},
   "outputs": [
    {
     "data": {
      "text/plain": [
       "False"
      ]
     },
     "execution_count": 2,
     "metadata": {},
     "output_type": "execute_result"
    }
   ],
   "source": [
    "torch.cuda.is_available()"
   ]
  },
  {
   "cell_type": "code",
   "execution_count": 3,
   "metadata": {},
   "outputs": [
    {
     "name": "stderr",
     "output_type": "stream",
     "text": [
      "INFO Run parameters saved to /home/amritagupta/ssdprivate/repos/fpe-model/results/vary_annot_frac/train_ranking_model_AVERY_BROOK_SIDE_1/inference_ranking_model_AVERY_BROOK_SIDE_1/params.pkl\n"
     ]
    },
    {
     "name": "stdout",
     "output_type": "stream",
     "text": [
      "Running inference for train_ranking_model_AVERY_BROOK_SIDE_1\n",
      "Using CPU for inference¬.\n"
     ]
    },
    {
     "name": "stderr",
     "output_type": "stream",
     "text": [
      "/opt/conda/envs/streamflow/lib/python3.9/site-packages/torchvision/models/_utils.py:208: UserWarning: The parameter 'pretrained' is deprecated since 0.13 and will be removed in 0.15, please use 'weights' instead.\n",
      "  warnings.warn(\n",
      "/opt/conda/envs/streamflow/lib/python3.9/site-packages/torchvision/models/_utils.py:223: UserWarning: Arguments other than a weight enum or `None` for 'weights' are deprecated since 0.13 and will be removed in 0.15. The current behavior is equivalent to passing `weights=ResNet18_Weights.IMAGENET1K_V1`. You can also use `weights=ResNet18_Weights.DEFAULT` to get the most up-to-date weights.\n",
      "  warnings.warn(msg)\n"
     ]
    },
    {
     "name": "stdout",
     "output_type": "stream",
     "text": [
      "Loaded model from checkpoint.\n"
     ]
    },
    {
     "name": "stderr",
     "output_type": "stream",
     "text": [
      "  0%|          | 0/1103 [00:13<?, ?it/s]\n"
     ]
    },
    {
     "ename": "KeyboardInterrupt",
     "evalue": "",
     "output_type": "error",
     "traceback": [
      "\u001b[0;31m---------------------------------------------------------------------------\u001b[0m",
      "\u001b[0;31mKeyboardInterrupt\u001b[0m                         Traceback (most recent call last)",
      "Cell \u001b[0;32mIn[3], line 66\u001b[0m\n\u001b[1;32m     61\u001b[0m         \u001b[38;5;28;01mif\u001b[39;00m \u001b[38;5;124m\"\u001b[39m\u001b[38;5;124mComputed image channelwise stdevs\u001b[39m\u001b[38;5;124m\"\u001b[39m \u001b[38;5;129;01min\u001b[39;00m line:\n\u001b[1;32m     62\u001b[0m             args\u001b[38;5;241m.\u001b[39mimg_sample_std \u001b[38;5;241m=\u001b[39m np\u001b[38;5;241m.\u001b[39marray(\n\u001b[1;32m     63\u001b[0m                 [\u001b[38;5;28mfloat\u001b[39m(x) \u001b[38;5;28;01mfor\u001b[39;00m x \u001b[38;5;129;01min\u001b[39;00m line\u001b[38;5;241m.\u001b[39msplit(\u001b[38;5;124m\"\u001b[39m\u001b[38;5;124m:\u001b[39m\u001b[38;5;124m\"\u001b[39m)[\u001b[38;5;241m-\u001b[39m\u001b[38;5;241m1\u001b[39m]\u001b[38;5;241m.\u001b[39mstrip()[\u001b[38;5;241m1\u001b[39m:\u001b[38;5;241m-\u001b[39m\u001b[38;5;241m1\u001b[39m]\u001b[38;5;241m.\u001b[39msplit()]\n\u001b[1;32m     64\u001b[0m             )\n\u001b[0;32m---> 66\u001b[0m \u001b[43minference_ranking_model\u001b[49m\u001b[43m(\u001b[49m\u001b[43margs\u001b[49m\u001b[43m)\u001b[49m\n\u001b[1;32m     68\u001b[0m \u001b[38;5;28;01mbreak\u001b[39;00m\n",
      "File \u001b[0;32m~/ssdprivate/repos/fpe-model/scripts/inference_ranking_model.py:185\u001b[0m, in \u001b[0;36minference_ranking_model\u001b[0;34m(args)\u001b[0m\n\u001b[1;32m    183\u001b[0m sidx \u001b[38;5;241m=\u001b[39m \u001b[38;5;241m0\u001b[39m\n\u001b[1;32m    184\u001b[0m \u001b[38;5;28;01mwith\u001b[39;00m torch\u001b[38;5;241m.\u001b[39mno_grad():\n\u001b[0;32m--> 185\u001b[0m     \u001b[38;5;28;01mfor\u001b[39;00m bidx, batch \u001b[38;5;129;01min\u001b[39;00m tqdm(\u001b[38;5;28menumerate\u001b[39m(dl), total\u001b[38;5;241m=\u001b[39m\u001b[38;5;28mlen\u001b[39m(dl)):\n\u001b[1;32m    186\u001b[0m         inputs, labels \u001b[38;5;241m=\u001b[39m batch\n\u001b[1;32m    187\u001b[0m         nsamples \u001b[38;5;241m=\u001b[39m labels\u001b[38;5;241m.\u001b[39mshape[\u001b[38;5;241m0\u001b[39m]\n",
      "File \u001b[0;32m/opt/conda/envs/streamflow/lib/python3.9/site-packages/tqdm/std.py:1182\u001b[0m, in \u001b[0;36mtqdm.__iter__\u001b[0;34m(self)\u001b[0m\n\u001b[1;32m   1179\u001b[0m time \u001b[38;5;241m=\u001b[39m \u001b[38;5;28mself\u001b[39m\u001b[38;5;241m.\u001b[39m_time\n\u001b[1;32m   1181\u001b[0m \u001b[38;5;28;01mtry\u001b[39;00m:\n\u001b[0;32m-> 1182\u001b[0m     \u001b[38;5;28;01mfor\u001b[39;00m obj \u001b[38;5;129;01min\u001b[39;00m iterable:\n\u001b[1;32m   1183\u001b[0m         \u001b[38;5;28;01myield\u001b[39;00m obj\n\u001b[1;32m   1184\u001b[0m         \u001b[38;5;66;03m# Update and possibly print the progressbar.\u001b[39;00m\n\u001b[1;32m   1185\u001b[0m         \u001b[38;5;66;03m# Note: does not call self.update(1) for speed optimisation.\u001b[39;00m\n",
      "File \u001b[0;32m/opt/conda/envs/streamflow/lib/python3.9/site-packages/torch/utils/data/dataloader.py:681\u001b[0m, in \u001b[0;36m_BaseDataLoaderIter.__next__\u001b[0;34m(self)\u001b[0m\n\u001b[1;32m    678\u001b[0m \u001b[38;5;28;01mif\u001b[39;00m \u001b[38;5;28mself\u001b[39m\u001b[38;5;241m.\u001b[39m_sampler_iter \u001b[38;5;129;01mis\u001b[39;00m \u001b[38;5;28;01mNone\u001b[39;00m:\n\u001b[1;32m    679\u001b[0m     \u001b[38;5;66;03m# TODO(https://github.com/pytorch/pytorch/issues/76750)\u001b[39;00m\n\u001b[1;32m    680\u001b[0m     \u001b[38;5;28mself\u001b[39m\u001b[38;5;241m.\u001b[39m_reset()  \u001b[38;5;66;03m# type: ignore[call-arg]\u001b[39;00m\n\u001b[0;32m--> 681\u001b[0m data \u001b[38;5;241m=\u001b[39m \u001b[38;5;28;43mself\u001b[39;49m\u001b[38;5;241;43m.\u001b[39;49m\u001b[43m_next_data\u001b[49m\u001b[43m(\u001b[49m\u001b[43m)\u001b[49m\n\u001b[1;32m    682\u001b[0m \u001b[38;5;28mself\u001b[39m\u001b[38;5;241m.\u001b[39m_num_yielded \u001b[38;5;241m+\u001b[39m\u001b[38;5;241m=\u001b[39m \u001b[38;5;241m1\u001b[39m\n\u001b[1;32m    683\u001b[0m \u001b[38;5;28;01mif\u001b[39;00m \u001b[38;5;28mself\u001b[39m\u001b[38;5;241m.\u001b[39m_dataset_kind \u001b[38;5;241m==\u001b[39m _DatasetKind\u001b[38;5;241m.\u001b[39mIterable \u001b[38;5;129;01mand\u001b[39;00m \\\n\u001b[1;32m    684\u001b[0m         \u001b[38;5;28mself\u001b[39m\u001b[38;5;241m.\u001b[39m_IterableDataset_len_called \u001b[38;5;129;01mis\u001b[39;00m \u001b[38;5;129;01mnot\u001b[39;00m \u001b[38;5;28;01mNone\u001b[39;00m \u001b[38;5;129;01mand\u001b[39;00m \\\n\u001b[1;32m    685\u001b[0m         \u001b[38;5;28mself\u001b[39m\u001b[38;5;241m.\u001b[39m_num_yielded \u001b[38;5;241m>\u001b[39m \u001b[38;5;28mself\u001b[39m\u001b[38;5;241m.\u001b[39m_IterableDataset_len_called:\n",
      "File \u001b[0;32m/opt/conda/envs/streamflow/lib/python3.9/site-packages/torch/utils/data/dataloader.py:1359\u001b[0m, in \u001b[0;36m_MultiProcessingDataLoaderIter._next_data\u001b[0;34m(self)\u001b[0m\n\u001b[1;32m   1356\u001b[0m     \u001b[38;5;28;01mreturn\u001b[39;00m \u001b[38;5;28mself\u001b[39m\u001b[38;5;241m.\u001b[39m_process_data(data)\n\u001b[1;32m   1358\u001b[0m \u001b[38;5;28;01massert\u001b[39;00m \u001b[38;5;129;01mnot\u001b[39;00m \u001b[38;5;28mself\u001b[39m\u001b[38;5;241m.\u001b[39m_shutdown \u001b[38;5;129;01mand\u001b[39;00m \u001b[38;5;28mself\u001b[39m\u001b[38;5;241m.\u001b[39m_tasks_outstanding \u001b[38;5;241m>\u001b[39m \u001b[38;5;241m0\u001b[39m\n\u001b[0;32m-> 1359\u001b[0m idx, data \u001b[38;5;241m=\u001b[39m \u001b[38;5;28;43mself\u001b[39;49m\u001b[38;5;241;43m.\u001b[39;49m\u001b[43m_get_data\u001b[49m\u001b[43m(\u001b[49m\u001b[43m)\u001b[49m\n\u001b[1;32m   1360\u001b[0m \u001b[38;5;28mself\u001b[39m\u001b[38;5;241m.\u001b[39m_tasks_outstanding \u001b[38;5;241m-\u001b[39m\u001b[38;5;241m=\u001b[39m \u001b[38;5;241m1\u001b[39m\n\u001b[1;32m   1361\u001b[0m \u001b[38;5;28;01mif\u001b[39;00m \u001b[38;5;28mself\u001b[39m\u001b[38;5;241m.\u001b[39m_dataset_kind \u001b[38;5;241m==\u001b[39m _DatasetKind\u001b[38;5;241m.\u001b[39mIterable:\n\u001b[1;32m   1362\u001b[0m     \u001b[38;5;66;03m# Check for _IterableDatasetStopIteration\u001b[39;00m\n",
      "File \u001b[0;32m/opt/conda/envs/streamflow/lib/python3.9/site-packages/torch/utils/data/dataloader.py:1325\u001b[0m, in \u001b[0;36m_MultiProcessingDataLoaderIter._get_data\u001b[0;34m(self)\u001b[0m\n\u001b[1;32m   1321\u001b[0m     \u001b[38;5;66;03m# In this case, `self._data_queue` is a `queue.Queue`,. But we don't\u001b[39;00m\n\u001b[1;32m   1322\u001b[0m     \u001b[38;5;66;03m# need to call `.task_done()` because we don't use `.join()`.\u001b[39;00m\n\u001b[1;32m   1323\u001b[0m \u001b[38;5;28;01melse\u001b[39;00m:\n\u001b[1;32m   1324\u001b[0m     \u001b[38;5;28;01mwhile\u001b[39;00m \u001b[38;5;28;01mTrue\u001b[39;00m:\n\u001b[0;32m-> 1325\u001b[0m         success, data \u001b[38;5;241m=\u001b[39m \u001b[38;5;28;43mself\u001b[39;49m\u001b[38;5;241;43m.\u001b[39;49m\u001b[43m_try_get_data\u001b[49m\u001b[43m(\u001b[49m\u001b[43m)\u001b[49m\n\u001b[1;32m   1326\u001b[0m         \u001b[38;5;28;01mif\u001b[39;00m success:\n\u001b[1;32m   1327\u001b[0m             \u001b[38;5;28;01mreturn\u001b[39;00m data\n",
      "File \u001b[0;32m/opt/conda/envs/streamflow/lib/python3.9/site-packages/torch/utils/data/dataloader.py:1163\u001b[0m, in \u001b[0;36m_MultiProcessingDataLoaderIter._try_get_data\u001b[0;34m(self, timeout)\u001b[0m\n\u001b[1;32m   1150\u001b[0m \u001b[38;5;28;01mdef\u001b[39;00m \u001b[38;5;21m_try_get_data\u001b[39m(\u001b[38;5;28mself\u001b[39m, timeout\u001b[38;5;241m=\u001b[39m_utils\u001b[38;5;241m.\u001b[39mMP_STATUS_CHECK_INTERVAL):\n\u001b[1;32m   1151\u001b[0m     \u001b[38;5;66;03m# Tries to fetch data from `self._data_queue` once for a given timeout.\u001b[39;00m\n\u001b[1;32m   1152\u001b[0m     \u001b[38;5;66;03m# This can also be used as inner loop of fetching without timeout, with\u001b[39;00m\n\u001b[0;32m   (...)\u001b[0m\n\u001b[1;32m   1160\u001b[0m     \u001b[38;5;66;03m# Returns a 2-tuple:\u001b[39;00m\n\u001b[1;32m   1161\u001b[0m     \u001b[38;5;66;03m#   (bool: whether successfully get data, any: data if successful else None)\u001b[39;00m\n\u001b[1;32m   1162\u001b[0m     \u001b[38;5;28;01mtry\u001b[39;00m:\n\u001b[0;32m-> 1163\u001b[0m         data \u001b[38;5;241m=\u001b[39m \u001b[38;5;28;43mself\u001b[39;49m\u001b[38;5;241;43m.\u001b[39;49m\u001b[43m_data_queue\u001b[49m\u001b[38;5;241;43m.\u001b[39;49m\u001b[43mget\u001b[49m\u001b[43m(\u001b[49m\u001b[43mtimeout\u001b[49m\u001b[38;5;241;43m=\u001b[39;49m\u001b[43mtimeout\u001b[49m\u001b[43m)\u001b[49m\n\u001b[1;32m   1164\u001b[0m         \u001b[38;5;28;01mreturn\u001b[39;00m (\u001b[38;5;28;01mTrue\u001b[39;00m, data)\n\u001b[1;32m   1165\u001b[0m     \u001b[38;5;28;01mexcept\u001b[39;00m \u001b[38;5;167;01mException\u001b[39;00m \u001b[38;5;28;01mas\u001b[39;00m e:\n\u001b[1;32m   1166\u001b[0m         \u001b[38;5;66;03m# At timeout and error, we manually check whether any worker has\u001b[39;00m\n\u001b[1;32m   1167\u001b[0m         \u001b[38;5;66;03m# failed. Note that this is the only mechanism for Windows to detect\u001b[39;00m\n\u001b[1;32m   1168\u001b[0m         \u001b[38;5;66;03m# worker failures.\u001b[39;00m\n",
      "File \u001b[0;32m/opt/conda/envs/streamflow/lib/python3.9/multiprocessing/queues.py:113\u001b[0m, in \u001b[0;36mQueue.get\u001b[0;34m(self, block, timeout)\u001b[0m\n\u001b[1;32m    111\u001b[0m \u001b[38;5;28;01mif\u001b[39;00m block:\n\u001b[1;32m    112\u001b[0m     timeout \u001b[38;5;241m=\u001b[39m deadline \u001b[38;5;241m-\u001b[39m time\u001b[38;5;241m.\u001b[39mmonotonic()\n\u001b[0;32m--> 113\u001b[0m     \u001b[38;5;28;01mif\u001b[39;00m \u001b[38;5;129;01mnot\u001b[39;00m \u001b[38;5;28;43mself\u001b[39;49m\u001b[38;5;241;43m.\u001b[39;49m\u001b[43m_poll\u001b[49m\u001b[43m(\u001b[49m\u001b[43mtimeout\u001b[49m\u001b[43m)\u001b[49m:\n\u001b[1;32m    114\u001b[0m         \u001b[38;5;28;01mraise\u001b[39;00m Empty\n\u001b[1;32m    115\u001b[0m \u001b[38;5;28;01melif\u001b[39;00m \u001b[38;5;129;01mnot\u001b[39;00m \u001b[38;5;28mself\u001b[39m\u001b[38;5;241m.\u001b[39m_poll():\n",
      "File \u001b[0;32m/opt/conda/envs/streamflow/lib/python3.9/multiprocessing/connection.py:257\u001b[0m, in \u001b[0;36m_ConnectionBase.poll\u001b[0;34m(self, timeout)\u001b[0m\n\u001b[1;32m    255\u001b[0m \u001b[38;5;28mself\u001b[39m\u001b[38;5;241m.\u001b[39m_check_closed()\n\u001b[1;32m    256\u001b[0m \u001b[38;5;28mself\u001b[39m\u001b[38;5;241m.\u001b[39m_check_readable()\n\u001b[0;32m--> 257\u001b[0m \u001b[38;5;28;01mreturn\u001b[39;00m \u001b[38;5;28;43mself\u001b[39;49m\u001b[38;5;241;43m.\u001b[39;49m\u001b[43m_poll\u001b[49m\u001b[43m(\u001b[49m\u001b[43mtimeout\u001b[49m\u001b[43m)\u001b[49m\n",
      "File \u001b[0;32m/opt/conda/envs/streamflow/lib/python3.9/multiprocessing/connection.py:424\u001b[0m, in \u001b[0;36mConnection._poll\u001b[0;34m(self, timeout)\u001b[0m\n\u001b[1;32m    423\u001b[0m \u001b[38;5;28;01mdef\u001b[39;00m \u001b[38;5;21m_poll\u001b[39m(\u001b[38;5;28mself\u001b[39m, timeout):\n\u001b[0;32m--> 424\u001b[0m     r \u001b[38;5;241m=\u001b[39m \u001b[43mwait\u001b[49m\u001b[43m(\u001b[49m\u001b[43m[\u001b[49m\u001b[38;5;28;43mself\u001b[39;49m\u001b[43m]\u001b[49m\u001b[43m,\u001b[49m\u001b[43m \u001b[49m\u001b[43mtimeout\u001b[49m\u001b[43m)\u001b[49m\n\u001b[1;32m    425\u001b[0m     \u001b[38;5;28;01mreturn\u001b[39;00m \u001b[38;5;28mbool\u001b[39m(r)\n",
      "File \u001b[0;32m/opt/conda/envs/streamflow/lib/python3.9/multiprocessing/connection.py:931\u001b[0m, in \u001b[0;36mwait\u001b[0;34m(object_list, timeout)\u001b[0m\n\u001b[1;32m    928\u001b[0m     deadline \u001b[38;5;241m=\u001b[39m time\u001b[38;5;241m.\u001b[39mmonotonic() \u001b[38;5;241m+\u001b[39m timeout\n\u001b[1;32m    930\u001b[0m \u001b[38;5;28;01mwhile\u001b[39;00m \u001b[38;5;28;01mTrue\u001b[39;00m:\n\u001b[0;32m--> 931\u001b[0m     ready \u001b[38;5;241m=\u001b[39m \u001b[43mselector\u001b[49m\u001b[38;5;241;43m.\u001b[39;49m\u001b[43mselect\u001b[49m\u001b[43m(\u001b[49m\u001b[43mtimeout\u001b[49m\u001b[43m)\u001b[49m\n\u001b[1;32m    932\u001b[0m     \u001b[38;5;28;01mif\u001b[39;00m ready:\n\u001b[1;32m    933\u001b[0m         \u001b[38;5;28;01mreturn\u001b[39;00m [key\u001b[38;5;241m.\u001b[39mfileobj \u001b[38;5;28;01mfor\u001b[39;00m (key, events) \u001b[38;5;129;01min\u001b[39;00m ready]\n",
      "File \u001b[0;32m/opt/conda/envs/streamflow/lib/python3.9/selectors.py:416\u001b[0m, in \u001b[0;36m_PollLikeSelector.select\u001b[0;34m(self, timeout)\u001b[0m\n\u001b[1;32m    414\u001b[0m ready \u001b[38;5;241m=\u001b[39m []\n\u001b[1;32m    415\u001b[0m \u001b[38;5;28;01mtry\u001b[39;00m:\n\u001b[0;32m--> 416\u001b[0m     fd_event_list \u001b[38;5;241m=\u001b[39m \u001b[38;5;28;43mself\u001b[39;49m\u001b[38;5;241;43m.\u001b[39;49m\u001b[43m_selector\u001b[49m\u001b[38;5;241;43m.\u001b[39;49m\u001b[43mpoll\u001b[49m\u001b[43m(\u001b[49m\u001b[43mtimeout\u001b[49m\u001b[43m)\u001b[49m\n\u001b[1;32m    417\u001b[0m \u001b[38;5;28;01mexcept\u001b[39;00m \u001b[38;5;167;01mInterruptedError\u001b[39;00m:\n\u001b[1;32m    418\u001b[0m     \u001b[38;5;28;01mreturn\u001b[39;00m ready\n",
      "\u001b[0;31mKeyboardInterrupt\u001b[0m: "
     ]
    }
   ],
   "source": [
    "# Avery Brook Side\n",
    "runs = [f for f in os.listdir(os.path.join(PROJECT_ROOT, 'results', 'vary_annot_frac')) if 'AVERY_BROOK_SIDE' in f]\n",
    "for run in runs:\n",
    "    # Get # annotations\n",
    "    params_f_pattern = os.path.join(PROJECT_ROOT, 'results', 'vary_annot_frac', run, 'params.txt')\n",
    "    params_f = glob.glob(params_f_pattern)[0]\n",
    "    with open(params_f, 'r') as f:\n",
    "        line = f.readline()\n",
    "        # get arg after --train-data-file in the line\n",
    "        train_pairs_f = line.split('--train-data-file')[1].split('--')[0].strip()\n",
    "        num_annot = len(pd.read_csv(train_pairs_f))\n",
    "        test_pairs_f = line.split('--test-data-file')[1].split('--')[0].strip()\n",
    "        test_pairs = pd.read_csv(test_pairs_f)\n",
    "        test_pairs['timestamp_1'] = pd.to_datetime(test_pairs['timestamp_1'])\n",
    "        test_pairs['timestamp_2'] = pd.to_datetime(test_pairs['timestamp_2'])\n",
    "        earliest_test_ts = min(test_pairs['timestamp_1'].min(), test_pairs['timestamp_2'].min())\n",
    "        \n",
    "    # Get best epoch\n",
    "    params_f_pattern = os.path.join(PROJECT_ROOT, 'results', 'vary_annot_frac', run, 'params.txt')\n",
    "    params_f = glob.glob(params_f_pattern)[0]\n",
    "    with open(params_f, 'r') as f:\n",
    "        for line in f:\n",
    "            if 'num_annot' in line:\n",
    "                num_annot = int(line.split('=')[1])\n",
    "                break\n",
    "    metrics_f_pattern = os.path.join(PROJECT_ROOT, 'results', 'vary_annot_frac', run, 'metrics_per_epoch*.pkl')\n",
    "    metrics_f = glob.glob(metrics_f_pattern)[0]\n",
    "    metrics = pickle.load(open(metrics_f, 'rb'))\n",
    "    best_epoch = np.argmin(metrics['val_loss'])\n",
    "    best_ckpt_pattern = os.path.join(PROJECT_ROOT, 'results', 'vary_annot_frac', run, 'checkpoints', 'epoch{}_*.ckpt'.format(best_epoch))\n",
    "    best_ckpt = glob.glob(best_ckpt_pattern)[0]\n",
    "\n",
    "    # Run inference\n",
    "    print('Running inference for {}'.format(run))\n",
    "    # make parent dir if not exists\n",
    "    os.makedirs(os.path.join(PROJECT_ROOT, 'results', 'vary_annot_frac', run, run.replace('train', 'inference'), f'epoch{best_epoch}_inference'), exist_ok=True)\n",
    "    args = SimpleNamespace(\n",
    "        exp_dir=os.path.join(PROJECT_ROOT, 'results', 'vary_annot_frac', run, run.replace('train', 'inference')),\n",
    "        inference_data_file='../../../data/Streamflow/fpe_stations/Avery Brook_Side_01171000/FLOW_CFS/images.csv',\n",
    "        inference_image_root_dir='../../../data/Streamflow/fpe_stations/Avery Brook_Side_01171000/FLOW_CFS',\n",
    "        output_dir=os.path.join(PROJECT_ROOT, 'results', 'vary_annot_frac', run, run.replace('train', 'inference'), f'epoch{best_epoch}_inference'),\n",
    "        train_output_dir=os.path.join(PROJECT_ROOT, 'results', 'vary_annot_frac', run),\n",
    "        batch_size=64,\n",
    "        augment=True,\n",
    "        normalize=True,\n",
    "        gpu=2,\n",
    "        ckpt_path=best_ckpt,\n",
    "        col_label=\"value\"\n",
    "    )\n",
    "    args.logger = log(log_file=os.path.join(args.exp_dir, \"run.logs\"))\n",
    "\n",
    "    # get image sample mean and std from training experiment logs\n",
    "    exp_log_file = os.path.join(args.train_output_dir, \"run.logs\")\n",
    "    with open(exp_log_file, \"r\") as f:\n",
    "        lines = f.read().splitlines()\n",
    "        for line in lines:\n",
    "            if \"Computed image channelwise means\" in line:\n",
    "                args.img_sample_mean = np.array(\n",
    "                    [float(x) for x in line.split(\":\")[-1].strip()[1:-1].split()]\n",
    "                )\n",
    "            if \"Computed image channelwise stdevs\" in line:\n",
    "                args.img_sample_std = np.array(\n",
    "                    [float(x) for x in line.split(\":\")[-1].strip()[1:-1].split()]\n",
    "                )\n",
    "\n",
    "    inference_ranking_model(args)\n",
    "\n",
    "    # Compute Kendall's tau on test time period only\n",
    "    inference_results_f = os.path.join(\n",
    "        args.exp_dir,\n",
    "        \"inference_results_\" + os.path.basename(args.inference_data_file),\n",
    "    )\n",
    "    inference_results = pd.read_csv(inference_results_f)\n",
    "    inference_results['timestamp'] = pd.to_datetime(inference_results['timestamp'])\n",
    "    inference_results = inference_results[inference_results['timestamp'] >= earliest_test_ts]\n",
    "    inference_results = inference_results.sort_values(by=['timestamp'])\n",
    "    true_value = inference_results['value'].values\n",
    "    pred_value = inference_results['scores'].values\n",
    "    tau, _ = scipy.stats.kendalltau(true_value, pred_value)\n",
    "    break\n"
   ]
  },
  {
   "cell_type": "code",
   "execution_count": 11,
   "metadata": {},
   "outputs": [],
   "source": [
    "inference_results_f = os.path.join(\n",
    "        args.exp_dir,\n",
    "        \"inference_results_\" + os.path.basename(args.inference_data_file),\n",
    "    )\n",
    "inference_results = pd.read_csv(inference_results_f)\n",
    "inference_results['timestamp'] = pd.to_datetime(inference_results['timestamp'])\n",
    "inference_results = inference_results[inference_results['timestamp'] >= earliest_test_ts]\n",
    "inference_results = inference_results.sort_values(by=['timestamp'])\n",
    "# drop nan values in value column\n",
    "inference_results = inference_results.dropna(subset=['value'])\n",
    "true_value = inference_results['value'].values\n",
    "pred_value = inference_results['scores'].values\n",
    "tau, pvalue = scipy.stats.kendalltau(true_value, pred_value)\n",
    "print('Kendall\\'s tau for {} with {} annotations is {} (p={})'.format(run, num_annot, tau, pvalue))"
   ]
  },
  {
   "cell_type": "code",
   "execution_count": 19,
   "metadata": {},
   "outputs": [
    {
     "name": "stdout",
     "output_type": "stream",
     "text": [
      "2022-02-22 14:43:58+00:00\n",
      "0\n",
      "0\n",
      "Kendall's tau for train_ranking_model_AVERY_BROOK_SIDE_1 with 918 annotations is nan (p=nan)\n"
     ]
    }
   ],
   "source": [
    "inference_results_f = '../results/vary_annot_frac/train_ranking_model_WEST_BROOK_UPPER_1/inference_ranking_model_WEST_BROOK_UPPER_1/inference_results_images.csv'\n",
    "inference_results = pd.read_csv(inference_results_f)\n",
    "inference_results['timestamp'] = pd.to_datetime(inference_results['timestamp'])\n",
    "inference_results = inference_results[inference_results['timestamp'] >= earliest_test_ts]\n",
    "inference_results = inference_results.sort_values(by=['timestamp'])\n",
    "\n",
    "test_pairs_f = '../data/processed/West Brook Upper_01171030/FLOW_CFS/temporal_test.vary_n_train_annot/pairs-test.csv'\n",
    "test_pairs = pd.read_csv(test_pairs_f)\n",
    "test_pairs['timestamp_1'] = pd.to_datetime(test_pairs['timestamp_1'])\n",
    "test_pairs['timestamp_2'] = pd.to_datetime(test_pairs['timestamp_2'])\n",
    "earliest_test_ts = min(test_pairs['timestamp_1'].min(), test_pairs['timestamp_2'].min())\n",
    "print(earliest_test_ts)\n",
    "\n",
    "# count nan values\n",
    "print(inference_results['value'].isna().sum())\n",
    "print(inference_results['scores'].isna().sum())\n",
    "\n",
    "# drop nan values in value column\n",
    "inference_results = inference_results.dropna(subset=['value'])\n",
    "true_value = inference_results['value'].values\n",
    "pred_value = inference_results['scores'].values\n",
    "tau, pvalue = scipy.stats.kendalltau(true_value, pred_value)\n",
    "print('Kendall\\'s tau for {} with {} annotations is {} (p={})'.format(run, num_annot, tau, pvalue))"
   ]
  },
  {
   "cell_type": "code",
   "execution_count": null,
   "metadata": {},
   "outputs": [],
   "source": []
  }
 ],
 "metadata": {
  "kernelspec": {
   "display_name": "streamflow",
   "language": "python",
   "name": "python3"
  },
  "language_info": {
   "codemirror_mode": {
    "name": "ipython",
    "version": 3
   },
   "file_extension": ".py",
   "mimetype": "text/x-python",
   "name": "python",
   "nbconvert_exporter": "python",
   "pygments_lexer": "ipython3",
   "version": "3.9.18"
  }
 },
 "nbformat": 4,
 "nbformat_minor": 2
}
