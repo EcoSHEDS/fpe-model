{
 "cells": [
  {
   "cell_type": "code",
   "execution_count": 16,
   "metadata": {},
   "outputs": [],
   "source": [
    "import os\n",
    "import pathlib\n",
    "import pandas as pd\n",
    "import requests\n",
    "from tqdm import tqdm\n",
    "from multiprocessing.pool import ThreadPool"
   ]
  },
  {
   "cell_type": "code",
   "execution_count": 17,
   "metadata": {},
   "outputs": [],
   "source": [
    "dataset_root = '../../../data/Streamflow/'\n",
    "dataset_dirs = {\n",
    "    'FOXRC': 'fpe_stations/FOXRC/FOXRC-20230829',\n",
    "    'GREENR': 'fpe_stations/GREENR/GREENR-20230829',\n",
    "    'LANESV': 'fpe_stations/LANESV/LANESV-20230829',\n",
    "    'VLYB': 'fpe_stations/VLYB/VLYB-20230829',\n",
    "    'WESTKILL': 'fpe_stations/WESTKILL/WESTKILL-20230829',\n",
    "}"
   ]
  },
  {
   "cell_type": "code",
   "execution_count": 18,
   "metadata": {},
   "outputs": [
    {
     "name": "stderr",
     "output_type": "stream",
     "text": [
      "100%|██████████| 5/5 [00:01<00:00,  3.74it/s]\n"
     ]
    }
   ],
   "source": [
    "site_data = dict()\n",
    "for site_name, dataset_dir in tqdm(dataset_dirs.items()):\n",
    "    full_df = pd.read_csv(os.path.join(dataset_root, dataset_dir, 'data', 'flow-images.csv'))\n",
    "    full_df['timestamp'] = pd.to_datetime(full_df['timestamp'])\n",
    "    train_df = pd.read_csv(os.path.join(dataset_root, dataset_dir, 'data', 'flow-images-train.csv'))\n",
    "    train_df['timestamp'] = pd.to_datetime(train_df['timestamp'])\n",
    "    ann_df = pd.read_csv(os.path.join(dataset_root, dataset_dir, 'data', 'annotations.csv'))\n",
    "    train_ann_df = pd.read_csv(os.path.join(dataset_root, dataset_dir, 'data', 'annotations-train.csv'))\n",
    "    site_data[site_name] = {\n",
    "        'flow-images': full_df,\n",
    "        'flow-images-train': train_df,\n",
    "        'annotations': ann_df,\n",
    "        'annotations-train': train_ann_df,\n",
    "    }\n"
   ]
  },
  {
   "cell_type": "markdown",
   "metadata": {},
   "source": [
    "# Check that all images are downloaded"
   ]
  },
  {
   "cell_type": "code",
   "execution_count": 19,
   "metadata": {},
   "outputs": [],
   "source": [
    "def download_image_from_url(entry):\n",
    "    \"\"\"Download image from url and save to path.\n",
    "\n",
    "    Args:\n",
    "        entry (tuple): (url, path)\n",
    "\n",
    "    Returns:\n",
    "        path: path to saved image\n",
    "    \"\"\"\n",
    "    url, path = entry\n",
    "    response = requests.get(url)\n",
    "    os.makedirs(os.path.dirname(path), exist_ok=True)\n",
    "    with open(path, 'wb') as f:\n",
    "        f.write(response.content)\n",
    "    return path\n"
   ]
  },
  {
   "cell_type": "code",
   "execution_count": 20,
   "metadata": {},
   "outputs": [
    {
     "name": "stdout",
     "output_type": "stream",
     "text": [
      "FOXRC: 3513 images\n"
     ]
    },
    {
     "name": "stderr",
     "output_type": "stream",
     "text": [
      "100%|██████████| 3513/3513 [00:00<00:00, 15794.22it/s]\n"
     ]
    },
    {
     "name": "stdout",
     "output_type": "stream",
     "text": [
      "0 images missing for FOXRC\n",
      "GREENR: 29333 images\n"
     ]
    },
    {
     "name": "stderr",
     "output_type": "stream",
     "text": [
      "100%|██████████| 29333/29333 [00:01<00:00, 16476.35it/s]\n"
     ]
    },
    {
     "name": "stdout",
     "output_type": "stream",
     "text": [
      "0 images missing for GREENR\n",
      "LANESV: 5536 images\n"
     ]
    },
    {
     "name": "stderr",
     "output_type": "stream",
     "text": [
      "100%|██████████| 5536/5536 [00:00<00:00, 16462.28it/s]\n"
     ]
    },
    {
     "name": "stdout",
     "output_type": "stream",
     "text": [
      "0 images missing for LANESV\n",
      "VLYB: 27758 images\n"
     ]
    },
    {
     "name": "stderr",
     "output_type": "stream",
     "text": [
      "100%|██████████| 27758/27758 [00:01<00:00, 16726.44it/s]\n"
     ]
    },
    {
     "name": "stdout",
     "output_type": "stream",
     "text": [
      "0 images missing for VLYB\n",
      "WESTKILL: 20837 images\n"
     ]
    },
    {
     "name": "stderr",
     "output_type": "stream",
     "text": [
      "100%|██████████| 20837/20837 [00:01<00:00, 16764.00it/s]"
     ]
    },
    {
     "name": "stdout",
     "output_type": "stream",
     "text": [
      "0 images missing for WESTKILL\n"
     ]
    },
    {
     "name": "stderr",
     "output_type": "stream",
     "text": [
      "\n"
     ]
    }
   ],
   "source": [
    "for site_name in site_data:\n",
    "    # find the expected number of images\n",
    "    n_images = len(site_data[site_name]['flow-images'])\n",
    "    print(f'{site_name}: {n_images} images')\n",
    "\n",
    "    # find the missing images\n",
    "    image_root = pathlib.Path(\n",
    "        os.path.join(dataset_root, dataset_dirs[site_name])\n",
    "    ).parent\n",
    "    missing = []\n",
    "    for _, row in tqdm(site_data[site_name]['flow-images'].iterrows(), total=len(site_data[site_name]['flow-images'])):\n",
    "        file = row['filename']\n",
    "        image_path = image_root / file\n",
    "        if not image_path.exists():\n",
    "            missing.append((row['url'], image_path))\n",
    "    print(f'{len(missing)} images missing for {site_name}')\n",
    "\n",
    "    # download any missing images\n",
    "    if len(missing) == 0:\n",
    "        continue\n",
    "    ## https://www.markhneedham.com/blog/2018/07/15/python-parallel-download-files-requests/\n",
    "    print('Downloading missing images...')\n",
    "    results = ThreadPool(8).imap_unordered(download_image_from_url, missing)\n",
    "    downloaded_results = []\n",
    "    for path in tqdm(results, total=len(missing)):\n",
    "        downloaded_results.append(path)\n",
    "    print('Done.\\n'+('-'*40))\n",
    "\n",
    "\n"
   ]
  },
  {
   "cell_type": "markdown",
   "metadata": {},
   "source": [
    "# Check for duplicate entries"
   ]
  },
  {
   "cell_type": "code",
   "execution_count": 40,
   "metadata": {},
   "outputs": [],
   "source": [
    "for site_name in site_data:\n",
    "    n_rows = len(site_data[site_name]['flow-images'])\n",
    "    n_unique_urls = site_data[site_name]['flow-images']['url'].nunique()\n",
    "    n_unique_filenames = site_data[site_name]['flow-images']['filename'].nunique()\n",
    "    n_unique_ids = site_data[site_name]['flow-images']['image_id'].nunique()\n",
    "    assert n_rows == n_unique_urls == n_unique_filenames == n_unique_ids, f'{site_name}: {n_rows} rows, {n_unique_urls} unique urls, {n_unique_filenames} unique filenames, {n_unique_ids} unique ids'"
   ]
  },
  {
   "cell_type": "markdown",
   "metadata": {},
   "source": [
    "# Timespan and # observations for each site"
   ]
  },
  {
   "cell_type": "code",
   "execution_count": 21,
   "metadata": {},
   "outputs": [
    {
     "data": {
      "text/html": [
       "<div>\n",
       "<style scoped>\n",
       "    .dataframe tbody tr th:only-of-type {\n",
       "        vertical-align: middle;\n",
       "    }\n",
       "\n",
       "    .dataframe tbody tr th {\n",
       "        vertical-align: top;\n",
       "    }\n",
       "\n",
       "    .dataframe thead th {\n",
       "        text-align: right;\n",
       "    }\n",
       "</style>\n",
       "<table border=\"1\" class=\"dataframe\">\n",
       "  <thead>\n",
       "    <tr style=\"text-align: right;\">\n",
       "      <th></th>\n",
       "      <th>site</th>\n",
       "      <th>start_date</th>\n",
       "      <th>end_date</th>\n",
       "      <th>n_obs</th>\n",
       "      <th>n_ann</th>\n",
       "    </tr>\n",
       "  </thead>\n",
       "  <tbody>\n",
       "    <tr>\n",
       "      <th>0</th>\n",
       "      <td>FOXRC</td>\n",
       "      <td>2023-06-14</td>\n",
       "      <td>2023-07-20</td>\n",
       "      <td>3513</td>\n",
       "      <td>3022</td>\n",
       "    </tr>\n",
       "    <tr>\n",
       "      <th>1</th>\n",
       "      <td>GREENR</td>\n",
       "      <td>2022-09-29</td>\n",
       "      <td>2023-08-10</td>\n",
       "      <td>29333</td>\n",
       "      <td>13426</td>\n",
       "    </tr>\n",
       "    <tr>\n",
       "      <th>2</th>\n",
       "      <td>LANESV</td>\n",
       "      <td>2022-10-05</td>\n",
       "      <td>2023-05-24</td>\n",
       "      <td>5536</td>\n",
       "      <td>9079</td>\n",
       "    </tr>\n",
       "    <tr>\n",
       "      <th>3</th>\n",
       "      <td>VLYB</td>\n",
       "      <td>2022-10-12</td>\n",
       "      <td>2023-07-28</td>\n",
       "      <td>27758</td>\n",
       "      <td>8776</td>\n",
       "    </tr>\n",
       "    <tr>\n",
       "      <th>4</th>\n",
       "      <td>WESTKILL</td>\n",
       "      <td>2022-10-13</td>\n",
       "      <td>2023-06-28</td>\n",
       "      <td>20837</td>\n",
       "      <td>9184</td>\n",
       "    </tr>\n",
       "  </tbody>\n",
       "</table>\n",
       "</div>"
      ],
      "text/plain": [
       "       site  start_date    end_date  n_obs  n_ann\n",
       "0     FOXRC  2023-06-14  2023-07-20   3513   3022\n",
       "1    GREENR  2022-09-29  2023-08-10  29333  13426\n",
       "2    LANESV  2022-10-05  2023-05-24   5536   9079\n",
       "3      VLYB  2022-10-12  2023-07-28  27758   8776\n",
       "4  WESTKILL  2022-10-13  2023-06-28  20837   9184"
      ]
     },
     "execution_count": 21,
     "metadata": {},
     "output_type": "execute_result"
    }
   ],
   "source": [
    "data = []\n",
    "for site_name in site_data:\n",
    "    n_obs = len(site_data[site_name]['flow-images'])\n",
    "    data_start = site_data[site_name]['flow-images']['timestamp'].min().date()\n",
    "    data_end = site_data[site_name]['flow-images']['timestamp'].max().date()\n",
    "    n_ann = len(site_data[site_name]['annotations'])\n",
    "    data.append({'site': site_name, 'start_date': data_start, 'end_date': data_end, 'n_obs': n_obs, 'n_ann': n_ann})\n",
    "pd.DataFrame(data)\n"
   ]
  },
  {
   "cell_type": "markdown",
   "metadata": {},
   "source": [
    "# Check for NaN values"
   ]
  },
  {
   "cell_type": "code",
   "execution_count": 26,
   "metadata": {},
   "outputs": [
    {
     "name": "stdout",
     "output_type": "stream",
     "text": [
      "FOXRC, flow-images: ['flow_cfs']\n",
      "FOXRC, flow-images-train: ['flow_cfs']\n",
      "FOXRC, annotations: ['comment', 'left.attributes', 'right.attributes', 'left.flow_cfs', 'right.flow_cfs', 'delta_flow_cfs', 'avg_flow_cfs', 'rel_delta_flow_cfs', 'true_rank']\n",
      "FOXRC, annotations-train: ['comment', 'left.attributes', 'right.attributes', 'left.flow_cfs', 'right.flow_cfs', 'delta_flow_cfs', 'avg_flow_cfs', 'rel_delta_flow_cfs', 'true_rank']\n",
      "GREENR, annotations: ['comment', 'left.attributes', 'right.attributes']\n",
      "GREENR, annotations-train: ['comment', 'left.attributes', 'right.attributes']\n",
      "LANESV, annotations: ['comment', 'left.attributes', 'right.attributes']\n",
      "LANESV, annotations-train: ['comment', 'left.attributes', 'right.attributes']\n",
      "VLYB, flow-images: ['flow_cfs']\n",
      "VLYB, flow-images-train: ['flow_cfs']\n",
      "VLYB, annotations: ['comment', 'left.attributes', 'right.attributes', 'left.flow_cfs', 'left.url', 'left.filename', 'right.flow_cfs', 'right.url', 'right.filename', 'delta_flow_cfs', 'avg_flow_cfs', 'rel_delta_flow_cfs', 'true_rank']\n",
      "VLYB, annotations-train: ['comment', 'left.attributes', 'right.attributes', 'left.flow_cfs', 'right.flow_cfs', 'delta_flow_cfs', 'avg_flow_cfs', 'rel_delta_flow_cfs', 'true_rank']\n",
      "WESTKILL, annotations: ['comment', 'left.attributes', 'right.attributes']\n",
      "WESTKILL, annotations-train: ['comment', 'left.attributes', 'right.attributes']\n"
     ]
    }
   ],
   "source": [
    "for site_name in site_data:\n",
    "    for table in ['flow-images', 'flow-images-train', 'annotations', 'annotations-train']:\n",
    "        site_table = site_data[site_name][table]\n",
    "        site_table_nan_cols = site_table.columns[site_table.isna().any()].tolist()\n",
    "        if len(site_table_nan_cols) > 0:\n",
    "            print(f'{site_name}, {table}: {site_table_nan_cols}')\n",
    "    \n",
    "    "
   ]
  },
  {
   "cell_type": "markdown",
   "metadata": {},
   "source": [
    "# Check that annotations can be matched back to images"
   ]
  },
  {
   "cell_type": "code",
   "execution_count": 67,
   "metadata": {},
   "outputs": [
    {
     "name": "stdout",
     "output_type": "stream",
     "text": [
      "FOXRC, annotations:\n",
      "\t0 image ids not in flow-images\n",
      "\t0 urls not in flow-images\n",
      "\t0 filenames not in flow-images\n",
      "GREENR, annotations:\n",
      "\t0 image ids not in flow-images\n",
      "\t0 urls not in flow-images\n",
      "\t0 filenames not in flow-images\n",
      "LANESV, annotations:\n",
      "\t0 image ids not in flow-images\n",
      "\t0 urls not in flow-images\n",
      "\t0 filenames not in flow-images\n",
      "VLYB, annotations:\n",
      "\t68 image ids not in flow-images\n",
      "\t1 urls not in flow-images\n",
      "\t1 filenames not in flow-images\n",
      "WESTKILL, annotations:\n",
      "\t0 image ids not in flow-images\n",
      "\t0 urls not in flow-images\n",
      "\t0 filenames not in flow-images\n"
     ]
    }
   ],
   "source": [
    "for site_name in site_data:\n",
    "    annotations = site_data[site_name]['annotations']\n",
    "    images = site_data[site_name]['flow-images']\n",
    "    unmatched_ids = []\n",
    "    unmatched_urls = []\n",
    "    unmatched_filenames = []\n",
    "    for _, ann in annotations.iterrows():\n",
    "        # try matching on image_id\n",
    "        if ann['left.imageId'] not in images['image_id'].values:\n",
    "            unmatched_ids.append(ann['left.imageId'])\n",
    "        if ann['right.imageId'] not in images['image_id'].values:\n",
    "            unmatched_ids.append(ann['right.imageId'])\n",
    "        # try matching on url\n",
    "        if ann['left.url'] not in images['url'].values:\n",
    "            unmatched_urls.append(ann['left.url'])\n",
    "        if ann['right.url'] not in images['url'].values:\n",
    "            unmatched_urls.append(ann['right.url'])\n",
    "        # try matching on filename\n",
    "        if ann['left.filename'] not in images['filename'].values:\n",
    "            unmatched_filenames.append(ann['left.filename'])\n",
    "        if ann['right.filename'] not in images['filename'].values:\n",
    "            unmatched_filenames.append(ann['right.filename'])\n",
    "    print(f'{site_name}, annotations:')\n",
    "    print(f'\\t{len(set(unmatched_ids))} image ids not in flow-images')\n",
    "    print(f'\\t{len(set(unmatched_urls))} urls not in flow-images')\n",
    "    print(f'\\t{len(set(unmatched_filenames))} filenames not in flow-images')\n",
    "    # if len(set(unmatched)) > 0:\n",
    "    #     print(set(unmatched))\n"
   ]
  },
  {
   "cell_type": "code",
   "execution_count": 83,
   "metadata": {},
   "outputs": [
    {
     "name": "stdout",
     "output_type": "stream",
     "text": [
      "68\n"
     ]
    }
   ],
   "source": [
    "vlyb = pd.read_csv('../../../data/Streamflow/fpe_stations/VLYB/VLYB-20230829/data/flow-images.csv')\n",
    "vlyb_ann = pd.read_csv('../../../data/Streamflow/fpe_stations/VLYB/VLYB-20230829/data/annotations.csv')\n",
    "rid = vlyb_ann[~vlyb_ann['right.imageId'].isin(vlyb['image_id'].values)]['right.imageId'].values\n",
    "lid = vlyb_ann[~vlyb_ann['left.imageId'].isin(vlyb['image_id'].values)]['left.imageId'].values\n",
    "print(len(set(rid).union(set(lid))))"
   ]
  },
  {
   "cell_type": "markdown",
   "metadata": {},
   "source": [
    "# Check that the \"train\" files are strict subsets of the non-\"train\" files"
   ]
  },
  {
   "cell_type": "code",
   "execution_count": 25,
   "metadata": {},
   "outputs": [],
   "source": [
    "for site in site_data:\n",
    "    all_images = site_data[site]['flow-images']['image_id']\n",
    "    assert len(all_images) == len(set(all_images)), f'{site} has duplicate image_ids in flow-images'\n",
    "    train_images = site_data[site]['flow-images-train']['image_id']\n",
    "    assert len(train_images) == len(set(train_images)), f'{site} has duplicate train image_ids in flow-images-train'\n",
    "    assert set(train_images).issubset(set(all_images)), f'{site} has images in flow-images-train that are absent from flow-images'"
   ]
  },
  {
   "cell_type": "code",
   "execution_count": 2,
   "metadata": {},
   "outputs": [],
   "source": [
    "# dataset_dir = '../../../data/Streamflow/WESTKILL-20230804/WESTKILL'\n",
    "dataset_dir = '../../../data/Streamflow/FOXRC-20230803/FOXRC'\n"
   ]
  },
  {
   "cell_type": "code",
   "execution_count": 3,
   "metadata": {},
   "outputs": [
    {
     "name": "stdout",
     "output_type": "stream",
     "text": [
      "3058 1554\n"
     ]
    }
   ],
   "source": [
    "flow_img = pd.read_csv(os.path.join(dataset_dir, 'data', 'flow-images.csv'))\n",
    "flow_img['timestamp'] = pd.to_datetime(flow_img['timestamp'])\n",
    "flow_img_train = pd.read_csv(os.path.join(dataset_dir, 'data', 'flow-images-train.csv'))\n",
    "flow_img_train['timestamp'] = pd.to_datetime(flow_img_train['timestamp'])\n",
    "\n",
    "print(len(flow_img), len(flow_img_train))"
   ]
  },
  {
   "cell_type": "code",
   "execution_count": 6,
   "metadata": {},
   "outputs": [
    {
     "data": {
      "text/html": [
       "<div>\n",
       "<style scoped>\n",
       "    .dataframe tbody tr th:only-of-type {\n",
       "        vertical-align: middle;\n",
       "    }\n",
       "\n",
       "    .dataframe tbody tr th {\n",
       "        vertical-align: top;\n",
       "    }\n",
       "\n",
       "    .dataframe thead th {\n",
       "        text-align: right;\n",
       "    }\n",
       "</style>\n",
       "<table border=\"1\" class=\"dataframe\">\n",
       "  <thead>\n",
       "    <tr style=\"text-align: right;\">\n",
       "      <th></th>\n",
       "      <th>station_name</th>\n",
       "      <th>station_id</th>\n",
       "      <th>imageset_id</th>\n",
       "      <th>image_id</th>\n",
       "      <th>timestamp</th>\n",
       "      <th>filename</th>\n",
       "      <th>url</th>\n",
       "      <th>flow_cfs</th>\n",
       "    </tr>\n",
       "  </thead>\n",
       "  <tbody>\n",
       "    <tr>\n",
       "      <th>0</th>\n",
       "      <td>Fox River above Cedars Dam</td>\n",
       "      <td>182</td>\n",
       "      <td>1932</td>\n",
       "      <td>2673121</td>\n",
       "      <td>2023-06-14 15:30:00+00:00</td>\n",
       "      <td>imagesets/5d05c303-6d30-4966-a25d-48a95e1ae447...</td>\n",
       "      <td>https://usgs-chs-conte-prod-fpe-storage.s3.ama...</td>\n",
       "      <td>NaN</td>\n",
       "    </tr>\n",
       "    <tr>\n",
       "      <th>1</th>\n",
       "      <td>Fox River above Cedars Dam</td>\n",
       "      <td>182</td>\n",
       "      <td>1932</td>\n",
       "      <td>2673122</td>\n",
       "      <td>2023-06-14 15:45:00+00:00</td>\n",
       "      <td>imagesets/5d05c303-6d30-4966-a25d-48a95e1ae447...</td>\n",
       "      <td>https://usgs-chs-conte-prod-fpe-storage.s3.ama...</td>\n",
       "      <td>NaN</td>\n",
       "    </tr>\n",
       "    <tr>\n",
       "      <th>2</th>\n",
       "      <td>Fox River above Cedars Dam</td>\n",
       "      <td>182</td>\n",
       "      <td>1932</td>\n",
       "      <td>2673123</td>\n",
       "      <td>2023-06-14 16:00:00+00:00</td>\n",
       "      <td>imagesets/5d05c303-6d30-4966-a25d-48a95e1ae447...</td>\n",
       "      <td>https://usgs-chs-conte-prod-fpe-storage.s3.ama...</td>\n",
       "      <td>NaN</td>\n",
       "    </tr>\n",
       "  </tbody>\n",
       "</table>\n",
       "</div>"
      ],
      "text/plain": [
       "                 station_name  station_id  imageset_id  image_id  \\\n",
       "0  Fox River above Cedars Dam         182         1932   2673121   \n",
       "1  Fox River above Cedars Dam         182         1932   2673122   \n",
       "2  Fox River above Cedars Dam         182         1932   2673123   \n",
       "\n",
       "                  timestamp  \\\n",
       "0 2023-06-14 15:30:00+00:00   \n",
       "1 2023-06-14 15:45:00+00:00   \n",
       "2 2023-06-14 16:00:00+00:00   \n",
       "\n",
       "                                            filename  \\\n",
       "0  imagesets/5d05c303-6d30-4966-a25d-48a95e1ae447...   \n",
       "1  imagesets/5d05c303-6d30-4966-a25d-48a95e1ae447...   \n",
       "2  imagesets/5d05c303-6d30-4966-a25d-48a95e1ae447...   \n",
       "\n",
       "                                                 url  flow_cfs  \n",
       "0  https://usgs-chs-conte-prod-fpe-storage.s3.ama...       NaN  \n",
       "1  https://usgs-chs-conte-prod-fpe-storage.s3.ama...       NaN  \n",
       "2  https://usgs-chs-conte-prod-fpe-storage.s3.ama...       NaN  "
      ]
     },
     "metadata": {},
     "output_type": "display_data"
    },
    {
     "data": {
      "text/plain": [
       "(Timestamp('2023-06-14 15:30:00+0000', tz='UTC'),\n",
       " Timestamp('2023-07-16 03:45:00+0000', tz='UTC'))"
      ]
     },
     "execution_count": 6,
     "metadata": {},
     "output_type": "execute_result"
    }
   ],
   "source": [
    "display(flow_img.head(3))\n",
    "flow_img['timestamp'].min(), flow_img['timestamp'].max()"
   ]
  },
  {
   "cell_type": "code",
   "execution_count": 24,
   "metadata": {},
   "outputs": [
    {
     "data": {
      "text/html": [
       "<div>\n",
       "<style scoped>\n",
       "    .dataframe tbody tr th:only-of-type {\n",
       "        vertical-align: middle;\n",
       "    }\n",
       "\n",
       "    .dataframe tbody tr th {\n",
       "        vertical-align: top;\n",
       "    }\n",
       "\n",
       "    .dataframe thead th {\n",
       "        text-align: right;\n",
       "    }\n",
       "</style>\n",
       "<table border=\"1\" class=\"dataframe\">\n",
       "  <thead>\n",
       "    <tr style=\"text-align: right;\">\n",
       "      <th></th>\n",
       "      <th>station_name</th>\n",
       "      <th>station_id</th>\n",
       "      <th>imageset_id</th>\n",
       "      <th>image_id</th>\n",
       "      <th>timestamp</th>\n",
       "      <th>filename</th>\n",
       "      <th>url</th>\n",
       "      <th>flow_cfs</th>\n",
       "    </tr>\n",
       "  </thead>\n",
       "  <tbody>\n",
       "  </tbody>\n",
       "</table>\n",
       "</div>"
      ],
      "text/plain": [
       "Empty DataFrame\n",
       "Columns: [station_name, station_id, imageset_id, image_id, timestamp, filename, url, flow_cfs]\n",
       "Index: []"
      ]
     },
     "execution_count": 24,
     "metadata": {},
     "output_type": "execute_result"
    }
   ],
   "source": [
    "flow_img[flow_img['image_id']==2677862]"
   ]
  },
  {
   "cell_type": "code",
   "execution_count": 8,
   "metadata": {},
   "outputs": [
    {
     "name": "stdout",
     "output_type": "stream",
     "text": [
      "1300 999\n"
     ]
    }
   ],
   "source": [
    "annotations = pd.read_csv(os.path.join(dataset_dir, 'data', 'annotations.csv'))\n",
    "annotations_train = pd.read_csv(os.path.join(dataset_dir, 'data', 'annotations-train.csv'))\n",
    "\n",
    "print(len(annotations), len(annotations_train))"
   ]
  },
  {
   "cell_type": "code",
   "execution_count": 22,
   "metadata": {},
   "outputs": [
    {
     "data": {
      "text/html": [
       "<div>\n",
       "<style scoped>\n",
       "    .dataframe tbody tr th:only-of-type {\n",
       "        vertical-align: middle;\n",
       "    }\n",
       "\n",
       "    .dataframe tbody tr th {\n",
       "        vertical-align: top;\n",
       "    }\n",
       "\n",
       "    .dataframe thead th {\n",
       "        text-align: right;\n",
       "    }\n",
       "</style>\n",
       "<table border=\"1\" class=\"dataframe\">\n",
       "  <thead>\n",
       "    <tr style=\"text-align: right;\">\n",
       "      <th></th>\n",
       "      <th>annotation_id</th>\n",
       "      <th>user_id</th>\n",
       "      <th>station_id</th>\n",
       "      <th>station_name</th>\n",
       "      <th>duration_sec</th>\n",
       "      <th>n</th>\n",
       "      <th>url</th>\n",
       "      <th>rank</th>\n",
       "      <th>comment</th>\n",
       "      <th>left.imageId</th>\n",
       "      <th>...</th>\n",
       "      <th>left.flow_cfs</th>\n",
       "      <th>left.url</th>\n",
       "      <th>left.filename</th>\n",
       "      <th>right.flow_cfs</th>\n",
       "      <th>right.url</th>\n",
       "      <th>right.filename</th>\n",
       "      <th>delta_flow_cfs</th>\n",
       "      <th>avg_flow_cfs</th>\n",
       "      <th>rel_delta_flow_cfs</th>\n",
       "      <th>true_rank</th>\n",
       "    </tr>\n",
       "  </thead>\n",
       "  <tbody>\n",
       "    <tr>\n",
       "      <th>0</th>\n",
       "      <td>641</td>\n",
       "      <td>532fe3b5-dfd7-4235-b2c8-1739e6221cd1</td>\n",
       "      <td>182</td>\n",
       "      <td>Fox River above Cedars Dam</td>\n",
       "      <td>334.004</td>\n",
       "      <td>20</td>\n",
       "      <td>https://usgs-chs-conte-prod-fpe-storage.s3.ama...</td>\n",
       "      <td>RIGHT</td>\n",
       "      <td>NaN</td>\n",
       "      <td>2673134</td>\n",
       "      <td>...</td>\n",
       "      <td>NaN</td>\n",
       "      <td>https://usgs-chs-conte-prod-fpe-storage.s3.ama...</td>\n",
       "      <td>imagesets/5d05c303-6d30-4966-a25d-48a95e1ae447...</td>\n",
       "      <td>NaN</td>\n",
       "      <td>https://usgs-chs-conte-prod-fpe-storage.s3.ama...</td>\n",
       "      <td>imagesets/5d05c303-6d30-4966-a25d-48a95e1ae447...</td>\n",
       "      <td>NaN</td>\n",
       "      <td>NaN</td>\n",
       "      <td>NaN</td>\n",
       "      <td>NaN</td>\n",
       "    </tr>\n",
       "    <tr>\n",
       "      <th>1</th>\n",
       "      <td>641</td>\n",
       "      <td>532fe3b5-dfd7-4235-b2c8-1739e6221cd1</td>\n",
       "      <td>182</td>\n",
       "      <td>Fox River above Cedars Dam</td>\n",
       "      <td>334.004</td>\n",
       "      <td>20</td>\n",
       "      <td>https://usgs-chs-conte-prod-fpe-storage.s3.ama...</td>\n",
       "      <td>SAME</td>\n",
       "      <td>NaN</td>\n",
       "      <td>2677403</td>\n",
       "      <td>...</td>\n",
       "      <td>NaN</td>\n",
       "      <td>https://usgs-chs-conte-prod-fpe-storage.s3.ama...</td>\n",
       "      <td>imagesets/5d05c303-6d30-4966-a25d-48a95e1ae447...</td>\n",
       "      <td>NaN</td>\n",
       "      <td>NaN</td>\n",
       "      <td>NaN</td>\n",
       "      <td>NaN</td>\n",
       "      <td>NaN</td>\n",
       "      <td>NaN</td>\n",
       "      <td>NaN</td>\n",
       "    </tr>\n",
       "    <tr>\n",
       "      <th>2</th>\n",
       "      <td>641</td>\n",
       "      <td>532fe3b5-dfd7-4235-b2c8-1739e6221cd1</td>\n",
       "      <td>182</td>\n",
       "      <td>Fox River above Cedars Dam</td>\n",
       "      <td>334.004</td>\n",
       "      <td>20</td>\n",
       "      <td>https://usgs-chs-conte-prod-fpe-storage.s3.ama...</td>\n",
       "      <td>RIGHT</td>\n",
       "      <td>NaN</td>\n",
       "      <td>2678094</td>\n",
       "      <td>...</td>\n",
       "      <td>NaN</td>\n",
       "      <td>NaN</td>\n",
       "      <td>NaN</td>\n",
       "      <td>NaN</td>\n",
       "      <td>NaN</td>\n",
       "      <td>NaN</td>\n",
       "      <td>NaN</td>\n",
       "      <td>NaN</td>\n",
       "      <td>NaN</td>\n",
       "      <td>NaN</td>\n",
       "    </tr>\n",
       "  </tbody>\n",
       "</table>\n",
       "<p>3 rows × 24 columns</p>\n",
       "</div>"
      ],
      "text/plain": [
       "   annotation_id                               user_id  station_id  \\\n",
       "0            641  532fe3b5-dfd7-4235-b2c8-1739e6221cd1         182   \n",
       "1            641  532fe3b5-dfd7-4235-b2c8-1739e6221cd1         182   \n",
       "2            641  532fe3b5-dfd7-4235-b2c8-1739e6221cd1         182   \n",
       "\n",
       "                 station_name  duration_sec   n  \\\n",
       "0  Fox River above Cedars Dam       334.004  20   \n",
       "1  Fox River above Cedars Dam       334.004  20   \n",
       "2  Fox River above Cedars Dam       334.004  20   \n",
       "\n",
       "                                                 url   rank comment  \\\n",
       "0  https://usgs-chs-conte-prod-fpe-storage.s3.ama...  RIGHT     NaN   \n",
       "1  https://usgs-chs-conte-prod-fpe-storage.s3.ama...   SAME     NaN   \n",
       "2  https://usgs-chs-conte-prod-fpe-storage.s3.ama...  RIGHT     NaN   \n",
       "\n",
       "   left.imageId  ... left.flow_cfs  \\\n",
       "0       2673134  ...           NaN   \n",
       "1       2677403  ...           NaN   \n",
       "2       2678094  ...           NaN   \n",
       "\n",
       "                                            left.url  \\\n",
       "0  https://usgs-chs-conte-prod-fpe-storage.s3.ama...   \n",
       "1  https://usgs-chs-conte-prod-fpe-storage.s3.ama...   \n",
       "2                                                NaN   \n",
       "\n",
       "                                       left.filename  right.flow_cfs  \\\n",
       "0  imagesets/5d05c303-6d30-4966-a25d-48a95e1ae447...             NaN   \n",
       "1  imagesets/5d05c303-6d30-4966-a25d-48a95e1ae447...             NaN   \n",
       "2                                                NaN             NaN   \n",
       "\n",
       "                                           right.url  \\\n",
       "0  https://usgs-chs-conte-prod-fpe-storage.s3.ama...   \n",
       "1                                                NaN   \n",
       "2                                                NaN   \n",
       "\n",
       "                                      right.filename delta_flow_cfs  \\\n",
       "0  imagesets/5d05c303-6d30-4966-a25d-48a95e1ae447...            NaN   \n",
       "1                                                NaN            NaN   \n",
       "2                                                NaN            NaN   \n",
       "\n",
       "   avg_flow_cfs rel_delta_flow_cfs true_rank  \n",
       "0           NaN                NaN       NaN  \n",
       "1           NaN                NaN       NaN  \n",
       "2           NaN                NaN       NaN  \n",
       "\n",
       "[3 rows x 24 columns]"
      ]
     },
     "metadata": {},
     "output_type": "display_data"
    },
    {
     "name": "stdout",
     "output_type": "stream",
     "text": [
      "1076\n"
     ]
    },
    {
     "data": {
      "text/html": [
       "<div>\n",
       "<style scoped>\n",
       "    .dataframe tbody tr th:only-of-type {\n",
       "        vertical-align: middle;\n",
       "    }\n",
       "\n",
       "    .dataframe tbody tr th {\n",
       "        vertical-align: top;\n",
       "    }\n",
       "\n",
       "    .dataframe thead th {\n",
       "        text-align: right;\n",
       "    }\n",
       "</style>\n",
       "<table border=\"1\" class=\"dataframe\">\n",
       "  <thead>\n",
       "    <tr style=\"text-align: right;\">\n",
       "      <th></th>\n",
       "      <th>annotation_id</th>\n",
       "      <th>user_id</th>\n",
       "      <th>station_id</th>\n",
       "      <th>station_name</th>\n",
       "      <th>duration_sec</th>\n",
       "      <th>n</th>\n",
       "      <th>url</th>\n",
       "      <th>rank</th>\n",
       "      <th>comment</th>\n",
       "      <th>left.imageId</th>\n",
       "      <th>...</th>\n",
       "      <th>left.flow_cfs</th>\n",
       "      <th>left.url</th>\n",
       "      <th>left.filename</th>\n",
       "      <th>right.flow_cfs</th>\n",
       "      <th>right.url</th>\n",
       "      <th>right.filename</th>\n",
       "      <th>delta_flow_cfs</th>\n",
       "      <th>avg_flow_cfs</th>\n",
       "      <th>rel_delta_flow_cfs</th>\n",
       "      <th>true_rank</th>\n",
       "    </tr>\n",
       "  </thead>\n",
       "  <tbody>\n",
       "    <tr>\n",
       "      <th>1016</th>\n",
       "      <td>628</td>\n",
       "      <td>532fe3b5-dfd7-4235-b2c8-1739e6221cd1</td>\n",
       "      <td>182</td>\n",
       "      <td>Fox River above Cedars Dam</td>\n",
       "      <td>1058.536</td>\n",
       "      <td>100</td>\n",
       "      <td>https://usgs-chs-conte-prod-fpe-storage.s3.ama...</td>\n",
       "      <td>LEFT</td>\n",
       "      <td>NaN</td>\n",
       "      <td>2677862</td>\n",
       "      <td>...</td>\n",
       "      <td>NaN</td>\n",
       "      <td>NaN</td>\n",
       "      <td>NaN</td>\n",
       "      <td>NaN</td>\n",
       "      <td>https://usgs-chs-conte-prod-fpe-storage.s3.ama...</td>\n",
       "      <td>imagesets/5d05c303-6d30-4966-a25d-48a95e1ae447...</td>\n",
       "      <td>NaN</td>\n",
       "      <td>NaN</td>\n",
       "      <td>NaN</td>\n",
       "      <td>NaN</td>\n",
       "    </tr>\n",
       "    <tr>\n",
       "      <th>466</th>\n",
       "      <td>650</td>\n",
       "      <td>532fe3b5-dfd7-4235-b2c8-1739e6221cd1</td>\n",
       "      <td>182</td>\n",
       "      <td>Fox River above Cedars Dam</td>\n",
       "      <td>379.934</td>\n",
       "      <td>100</td>\n",
       "      <td>https://usgs-chs-conte-prod-fpe-storage.s3.ama...</td>\n",
       "      <td>SAME</td>\n",
       "      <td>NaN</td>\n",
       "      <td>2677865</td>\n",
       "      <td>...</td>\n",
       "      <td>NaN</td>\n",
       "      <td>NaN</td>\n",
       "      <td>NaN</td>\n",
       "      <td>NaN</td>\n",
       "      <td>https://usgs-chs-conte-prod-fpe-storage.s3.ama...</td>\n",
       "      <td>imagesets/5d05c303-6d30-4966-a25d-48a95e1ae447...</td>\n",
       "      <td>NaN</td>\n",
       "      <td>NaN</td>\n",
       "      <td>NaN</td>\n",
       "      <td>NaN</td>\n",
       "    </tr>\n",
       "    <tr>\n",
       "      <th>341</th>\n",
       "      <td>649</td>\n",
       "      <td>532fe3b5-dfd7-4235-b2c8-1739e6221cd1</td>\n",
       "      <td>182</td>\n",
       "      <td>Fox River above Cedars Dam</td>\n",
       "      <td>923.837</td>\n",
       "      <td>100</td>\n",
       "      <td>https://usgs-chs-conte-prod-fpe-storage.s3.ama...</td>\n",
       "      <td>LEFT</td>\n",
       "      <td>NaN</td>\n",
       "      <td>2677865</td>\n",
       "      <td>...</td>\n",
       "      <td>NaN</td>\n",
       "      <td>NaN</td>\n",
       "      <td>NaN</td>\n",
       "      <td>NaN</td>\n",
       "      <td>https://usgs-chs-conte-prod-fpe-storage.s3.ama...</td>\n",
       "      <td>imagesets/5d05c303-6d30-4966-a25d-48a95e1ae447...</td>\n",
       "      <td>NaN</td>\n",
       "      <td>NaN</td>\n",
       "      <td>NaN</td>\n",
       "      <td>NaN</td>\n",
       "    </tr>\n",
       "    <tr>\n",
       "      <th>614</th>\n",
       "      <td>651</td>\n",
       "      <td>532fe3b5-dfd7-4235-b2c8-1739e6221cd1</td>\n",
       "      <td>182</td>\n",
       "      <td>Fox River above Cedars Dam</td>\n",
       "      <td>391.035</td>\n",
       "      <td>100</td>\n",
       "      <td>https://usgs-chs-conte-prod-fpe-storage.s3.ama...</td>\n",
       "      <td>LEFT</td>\n",
       "      <td>NaN</td>\n",
       "      <td>2677867</td>\n",
       "      <td>...</td>\n",
       "      <td>NaN</td>\n",
       "      <td>NaN</td>\n",
       "      <td>NaN</td>\n",
       "      <td>NaN</td>\n",
       "      <td>https://usgs-chs-conte-prod-fpe-storage.s3.ama...</td>\n",
       "      <td>imagesets/5d05c303-6d30-4966-a25d-48a95e1ae447...</td>\n",
       "      <td>NaN</td>\n",
       "      <td>NaN</td>\n",
       "      <td>NaN</td>\n",
       "      <td>NaN</td>\n",
       "    </tr>\n",
       "    <tr>\n",
       "      <th>647</th>\n",
       "      <td>651</td>\n",
       "      <td>532fe3b5-dfd7-4235-b2c8-1739e6221cd1</td>\n",
       "      <td>182</td>\n",
       "      <td>Fox River above Cedars Dam</td>\n",
       "      <td>391.035</td>\n",
       "      <td>100</td>\n",
       "      <td>https://usgs-chs-conte-prod-fpe-storage.s3.ama...</td>\n",
       "      <td>LEFT</td>\n",
       "      <td>NaN</td>\n",
       "      <td>2677875</td>\n",
       "      <td>...</td>\n",
       "      <td>NaN</td>\n",
       "      <td>NaN</td>\n",
       "      <td>NaN</td>\n",
       "      <td>NaN</td>\n",
       "      <td>https://usgs-chs-conte-prod-fpe-storage.s3.ama...</td>\n",
       "      <td>imagesets/5d05c303-6d30-4966-a25d-48a95e1ae447...</td>\n",
       "      <td>NaN</td>\n",
       "      <td>NaN</td>\n",
       "      <td>NaN</td>\n",
       "      <td>NaN</td>\n",
       "    </tr>\n",
       "    <tr>\n",
       "      <th>...</th>\n",
       "      <td>...</td>\n",
       "      <td>...</td>\n",
       "      <td>...</td>\n",
       "      <td>...</td>\n",
       "      <td>...</td>\n",
       "      <td>...</td>\n",
       "      <td>...</td>\n",
       "      <td>...</td>\n",
       "      <td>...</td>\n",
       "      <td>...</td>\n",
       "      <td>...</td>\n",
       "      <td>...</td>\n",
       "      <td>...</td>\n",
       "      <td>...</td>\n",
       "      <td>...</td>\n",
       "      <td>...</td>\n",
       "      <td>...</td>\n",
       "      <td>...</td>\n",
       "      <td>...</td>\n",
       "      <td>...</td>\n",
       "      <td>...</td>\n",
       "    </tr>\n",
       "    <tr>\n",
       "      <th>488</th>\n",
       "      <td>650</td>\n",
       "      <td>532fe3b5-dfd7-4235-b2c8-1739e6221cd1</td>\n",
       "      <td>182</td>\n",
       "      <td>Fox River above Cedars Dam</td>\n",
       "      <td>379.934</td>\n",
       "      <td>100</td>\n",
       "      <td>https://usgs-chs-conte-prod-fpe-storage.s3.ama...</td>\n",
       "      <td>SAME</td>\n",
       "      <td>NaN</td>\n",
       "      <td>2678531</td>\n",
       "      <td>...</td>\n",
       "      <td>NaN</td>\n",
       "      <td>NaN</td>\n",
       "      <td>NaN</td>\n",
       "      <td>NaN</td>\n",
       "      <td>https://usgs-chs-conte-prod-fpe-storage.s3.ama...</td>\n",
       "      <td>imagesets/5d05c303-6d30-4966-a25d-48a95e1ae447...</td>\n",
       "      <td>NaN</td>\n",
       "      <td>NaN</td>\n",
       "      <td>NaN</td>\n",
       "      <td>NaN</td>\n",
       "    </tr>\n",
       "    <tr>\n",
       "      <th>22</th>\n",
       "      <td>642</td>\n",
       "      <td>532fe3b5-dfd7-4235-b2c8-1739e6221cd1</td>\n",
       "      <td>182</td>\n",
       "      <td>Fox River above Cedars Dam</td>\n",
       "      <td>227.132</td>\n",
       "      <td>20</td>\n",
       "      <td>https://usgs-chs-conte-prod-fpe-storage.s3.ama...</td>\n",
       "      <td>SAME</td>\n",
       "      <td>NaN</td>\n",
       "      <td>2678536</td>\n",
       "      <td>...</td>\n",
       "      <td>NaN</td>\n",
       "      <td>NaN</td>\n",
       "      <td>NaN</td>\n",
       "      <td>NaN</td>\n",
       "      <td>https://usgs-chs-conte-prod-fpe-storage.s3.ama...</td>\n",
       "      <td>imagesets/5d05c303-6d30-4966-a25d-48a95e1ae447...</td>\n",
       "      <td>NaN</td>\n",
       "      <td>NaN</td>\n",
       "      <td>NaN</td>\n",
       "      <td>NaN</td>\n",
       "    </tr>\n",
       "    <tr>\n",
       "      <th>1261</th>\n",
       "      <td>638</td>\n",
       "      <td>532fe3b5-dfd7-4235-b2c8-1739e6221cd1</td>\n",
       "      <td>182</td>\n",
       "      <td>Fox River above Cedars Dam</td>\n",
       "      <td>181.651</td>\n",
       "      <td>50</td>\n",
       "      <td>https://usgs-chs-conte-prod-fpe-storage.s3.ama...</td>\n",
       "      <td>UNKNOWN</td>\n",
       "      <td>NaN</td>\n",
       "      <td>2678539</td>\n",
       "      <td>...</td>\n",
       "      <td>NaN</td>\n",
       "      <td>NaN</td>\n",
       "      <td>NaN</td>\n",
       "      <td>NaN</td>\n",
       "      <td>https://usgs-chs-conte-prod-fpe-storage.s3.ama...</td>\n",
       "      <td>imagesets/5d05c303-6d30-4966-a25d-48a95e1ae447...</td>\n",
       "      <td>NaN</td>\n",
       "      <td>NaN</td>\n",
       "      <td>NaN</td>\n",
       "      <td>NaN</td>\n",
       "    </tr>\n",
       "    <tr>\n",
       "      <th>870</th>\n",
       "      <td>653</td>\n",
       "      <td>532fe3b5-dfd7-4235-b2c8-1739e6221cd1</td>\n",
       "      <td>182</td>\n",
       "      <td>Fox River above Cedars Dam</td>\n",
       "      <td>386.635</td>\n",
       "      <td>100</td>\n",
       "      <td>https://usgs-chs-conte-prod-fpe-storage.s3.ama...</td>\n",
       "      <td>RIGHT</td>\n",
       "      <td>NaN</td>\n",
       "      <td>2678539</td>\n",
       "      <td>...</td>\n",
       "      <td>NaN</td>\n",
       "      <td>NaN</td>\n",
       "      <td>NaN</td>\n",
       "      <td>NaN</td>\n",
       "      <td>https://usgs-chs-conte-prod-fpe-storage.s3.ama...</td>\n",
       "      <td>imagesets/5d05c303-6d30-4966-a25d-48a95e1ae447...</td>\n",
       "      <td>NaN</td>\n",
       "      <td>NaN</td>\n",
       "      <td>NaN</td>\n",
       "      <td>NaN</td>\n",
       "    </tr>\n",
       "    <tr>\n",
       "      <th>67</th>\n",
       "      <td>643</td>\n",
       "      <td>532fe3b5-dfd7-4235-b2c8-1739e6221cd1</td>\n",
       "      <td>182</td>\n",
       "      <td>Fox River above Cedars Dam</td>\n",
       "      <td>406.906</td>\n",
       "      <td>40</td>\n",
       "      <td>https://usgs-chs-conte-prod-fpe-storage.s3.ama...</td>\n",
       "      <td>RIGHT</td>\n",
       "      <td>NaN</td>\n",
       "      <td>2678539</td>\n",
       "      <td>...</td>\n",
       "      <td>NaN</td>\n",
       "      <td>NaN</td>\n",
       "      <td>NaN</td>\n",
       "      <td>NaN</td>\n",
       "      <td>https://usgs-chs-conte-prod-fpe-storage.s3.ama...</td>\n",
       "      <td>imagesets/5d05c303-6d30-4966-a25d-48a95e1ae447...</td>\n",
       "      <td>NaN</td>\n",
       "      <td>NaN</td>\n",
       "      <td>NaN</td>\n",
       "      <td>NaN</td>\n",
       "    </tr>\n",
       "  </tbody>\n",
       "</table>\n",
       "<p>163 rows × 24 columns</p>\n",
       "</div>"
      ],
      "text/plain": [
       "      annotation_id                               user_id  station_id  \\\n",
       "1016            628  532fe3b5-dfd7-4235-b2c8-1739e6221cd1         182   \n",
       "466             650  532fe3b5-dfd7-4235-b2c8-1739e6221cd1         182   \n",
       "341             649  532fe3b5-dfd7-4235-b2c8-1739e6221cd1         182   \n",
       "614             651  532fe3b5-dfd7-4235-b2c8-1739e6221cd1         182   \n",
       "647             651  532fe3b5-dfd7-4235-b2c8-1739e6221cd1         182   \n",
       "...             ...                                   ...         ...   \n",
       "488             650  532fe3b5-dfd7-4235-b2c8-1739e6221cd1         182   \n",
       "22              642  532fe3b5-dfd7-4235-b2c8-1739e6221cd1         182   \n",
       "1261            638  532fe3b5-dfd7-4235-b2c8-1739e6221cd1         182   \n",
       "870             653  532fe3b5-dfd7-4235-b2c8-1739e6221cd1         182   \n",
       "67              643  532fe3b5-dfd7-4235-b2c8-1739e6221cd1         182   \n",
       "\n",
       "                    station_name  duration_sec    n  \\\n",
       "1016  Fox River above Cedars Dam      1058.536  100   \n",
       "466   Fox River above Cedars Dam       379.934  100   \n",
       "341   Fox River above Cedars Dam       923.837  100   \n",
       "614   Fox River above Cedars Dam       391.035  100   \n",
       "647   Fox River above Cedars Dam       391.035  100   \n",
       "...                          ...           ...  ...   \n",
       "488   Fox River above Cedars Dam       379.934  100   \n",
       "22    Fox River above Cedars Dam       227.132   20   \n",
       "1261  Fox River above Cedars Dam       181.651   50   \n",
       "870   Fox River above Cedars Dam       386.635  100   \n",
       "67    Fox River above Cedars Dam       406.906   40   \n",
       "\n",
       "                                                    url     rank comment  \\\n",
       "1016  https://usgs-chs-conte-prod-fpe-storage.s3.ama...     LEFT     NaN   \n",
       "466   https://usgs-chs-conte-prod-fpe-storage.s3.ama...     SAME     NaN   \n",
       "341   https://usgs-chs-conte-prod-fpe-storage.s3.ama...     LEFT     NaN   \n",
       "614   https://usgs-chs-conte-prod-fpe-storage.s3.ama...     LEFT     NaN   \n",
       "647   https://usgs-chs-conte-prod-fpe-storage.s3.ama...     LEFT     NaN   \n",
       "...                                                 ...      ...     ...   \n",
       "488   https://usgs-chs-conte-prod-fpe-storage.s3.ama...     SAME     NaN   \n",
       "22    https://usgs-chs-conte-prod-fpe-storage.s3.ama...     SAME     NaN   \n",
       "1261  https://usgs-chs-conte-prod-fpe-storage.s3.ama...  UNKNOWN     NaN   \n",
       "870   https://usgs-chs-conte-prod-fpe-storage.s3.ama...    RIGHT     NaN   \n",
       "67    https://usgs-chs-conte-prod-fpe-storage.s3.ama...    RIGHT     NaN   \n",
       "\n",
       "      left.imageId  ... left.flow_cfs  left.url left.filename  right.flow_cfs  \\\n",
       "1016       2677862  ...           NaN       NaN           NaN             NaN   \n",
       "466        2677865  ...           NaN       NaN           NaN             NaN   \n",
       "341        2677865  ...           NaN       NaN           NaN             NaN   \n",
       "614        2677867  ...           NaN       NaN           NaN             NaN   \n",
       "647        2677875  ...           NaN       NaN           NaN             NaN   \n",
       "...            ...  ...           ...       ...           ...             ...   \n",
       "488        2678531  ...           NaN       NaN           NaN             NaN   \n",
       "22         2678536  ...           NaN       NaN           NaN             NaN   \n",
       "1261       2678539  ...           NaN       NaN           NaN             NaN   \n",
       "870        2678539  ...           NaN       NaN           NaN             NaN   \n",
       "67         2678539  ...           NaN       NaN           NaN             NaN   \n",
       "\n",
       "                                              right.url  \\\n",
       "1016  https://usgs-chs-conte-prod-fpe-storage.s3.ama...   \n",
       "466   https://usgs-chs-conte-prod-fpe-storage.s3.ama...   \n",
       "341   https://usgs-chs-conte-prod-fpe-storage.s3.ama...   \n",
       "614   https://usgs-chs-conte-prod-fpe-storage.s3.ama...   \n",
       "647   https://usgs-chs-conte-prod-fpe-storage.s3.ama...   \n",
       "...                                                 ...   \n",
       "488   https://usgs-chs-conte-prod-fpe-storage.s3.ama...   \n",
       "22    https://usgs-chs-conte-prod-fpe-storage.s3.ama...   \n",
       "1261  https://usgs-chs-conte-prod-fpe-storage.s3.ama...   \n",
       "870   https://usgs-chs-conte-prod-fpe-storage.s3.ama...   \n",
       "67    https://usgs-chs-conte-prod-fpe-storage.s3.ama...   \n",
       "\n",
       "                                         right.filename delta_flow_cfs  \\\n",
       "1016  imagesets/5d05c303-6d30-4966-a25d-48a95e1ae447...            NaN   \n",
       "466   imagesets/5d05c303-6d30-4966-a25d-48a95e1ae447...            NaN   \n",
       "341   imagesets/5d05c303-6d30-4966-a25d-48a95e1ae447...            NaN   \n",
       "614   imagesets/5d05c303-6d30-4966-a25d-48a95e1ae447...            NaN   \n",
       "647   imagesets/5d05c303-6d30-4966-a25d-48a95e1ae447...            NaN   \n",
       "...                                                 ...            ...   \n",
       "488   imagesets/5d05c303-6d30-4966-a25d-48a95e1ae447...            NaN   \n",
       "22    imagesets/5d05c303-6d30-4966-a25d-48a95e1ae447...            NaN   \n",
       "1261  imagesets/5d05c303-6d30-4966-a25d-48a95e1ae447...            NaN   \n",
       "870   imagesets/5d05c303-6d30-4966-a25d-48a95e1ae447...            NaN   \n",
       "67    imagesets/5d05c303-6d30-4966-a25d-48a95e1ae447...            NaN   \n",
       "\n",
       "      avg_flow_cfs rel_delta_flow_cfs true_rank  \n",
       "1016           NaN                NaN       NaN  \n",
       "466            NaN                NaN       NaN  \n",
       "341            NaN                NaN       NaN  \n",
       "614            NaN                NaN       NaN  \n",
       "647            NaN                NaN       NaN  \n",
       "...            ...                ...       ...  \n",
       "488            NaN                NaN       NaN  \n",
       "22             NaN                NaN       NaN  \n",
       "1261           NaN                NaN       NaN  \n",
       "870            NaN                NaN       NaN  \n",
       "67             NaN                NaN       NaN  \n",
       "\n",
       "[163 rows x 24 columns]"
      ]
     },
     "execution_count": 22,
     "metadata": {},
     "output_type": "execute_result"
    }
   ],
   "source": [
    "display(annotations.head(3))\n",
    "print(len(annotations[annotations[\"rank\"].isin([\"SAME\", \"LEFT\", \"RIGHT\"])]))\n",
    "# annotations['left.url'].isna().sum(), annotations['right.url'].isna().sum()\n",
    "annotations[annotations['left.url'].isna()].sort_values(by='left.imageId')\n"
   ]
  },
  {
   "cell_type": "code",
   "execution_count": 85,
   "metadata": {},
   "outputs": [
    {
     "data": {
      "text/plain": [
       "258"
      ]
     },
     "execution_count": 85,
     "metadata": {},
     "output_type": "execute_result"
    }
   ],
   "source": [
    "(\n",
    "    annotations['left.filename'].isin(flow_img_train['filename']) &\n",
    "    annotations['right.filename'].isin(flow_img_train['filename'])\n",
    ").sum()"
   ]
  },
  {
   "cell_type": "code",
   "execution_count": 45,
   "metadata": {},
   "outputs": [],
   "source": [
    "no_flags = annotations.loc[\n",
    "    annotations['left.attributes'].isna() & \n",
    "    annotations['right.attributes'].isna()\n",
    "]"
   ]
  },
  {
   "cell_type": "code",
   "execution_count": 68,
   "metadata": {},
   "outputs": [],
   "source": [
    "left_right = no_flags[['left.imageId','right.imageId']]\n",
    "for idx, row in left_right.iterrows():\n",
    "    left = row['left.imageId']\n",
    "    right = row['right.imageId']\n",
    "    if left == right:\n",
    "        print('Left and right image have the same id')\n",
    "    else:\n",
    "        # check for reversed order\n",
    "        left_on_right = left_right[left_right['right.imageId'] == left]\n",
    "        if len(left_on_right) > 0:\n",
    "            right_on_left = left_on_right[left_on_right['left.imageId'] == right]\n",
    "            if len(right_on_left) > 0:\n",
    "                print('Left and right image are reversed in another pair')"
   ]
  },
  {
   "cell_type": "code",
   "execution_count": 70,
   "metadata": {},
   "outputs": [
    {
     "name": "stdout",
     "output_type": "stream",
     "text": [
      "7842\n",
      "7842\n"
     ]
    }
   ],
   "source": [
    "print(len(no_flags))\n",
    "print(len(left_right.drop_duplicates()))"
   ]
  },
  {
   "cell_type": "code",
   "execution_count": 79,
   "metadata": {},
   "outputs": [
    {
     "data": {
      "text/plain": [
       "'https://usgs-chs-conte-prod-fpe-storage.s3.amazonaws.com/imagesets/fad43511-aa8f-4569-a513-7cbc36bfdba8/images/RCNX0714.JPG'"
      ]
     },
     "execution_count": 79,
     "metadata": {},
     "output_type": "execute_result"
    }
   ],
   "source": [
    "no_flags[no_flags['rank']=='UNKNOWN'].iloc[0]['right.url']#.value_counts(dropna=False)"
   ]
  },
  {
   "cell_type": "code",
   "execution_count": 110,
   "metadata": {},
   "outputs": [],
   "source": [
    "missing = []\n",
    "for i in range(len(flow_img)):\n",
    "    path = os.path.join(\n",
    "        dataset_dir,\n",
    "        flow_img.iloc[i]['filename']\n",
    "    )\n",
    "    if not os.path.exists(path):\n",
    "        missing.append(path)\n"
   ]
  },
  {
   "cell_type": "code",
   "execution_count": 105,
   "metadata": {},
   "outputs": [],
   "source": [
    "def download_image_from_url(url, path):\n",
    "    response = requests.get(url)\n",
    "    with open(path, 'wb') as f:\n",
    "        f.write(response.content)\n",
    "\n",
    "for i, m in enumerate(missing):\n",
    "    base_url = 'https://usgs-chs-conte-prod-fpe-storage.s3.amazonaws.com/'\n",
    "    m_path = m.split('WESTKILL/')[1]\n",
    "    url = base_url + m_path\n",
    "    if not os.path.exists(m):\n",
    "        download_image_from_url(url, m)\n"
   ]
  },
  {
   "cell_type": "code",
   "execution_count": 113,
   "metadata": {},
   "outputs": [
    {
     "name": "stdout",
     "output_type": "stream",
     "text": [
      "https://usgs-chs-conte-prod-fpe-storage.s3.amazonaws.com/imagesets/fad43511-aa8f-4569-a513-7cbc36bfdba8/images/RCNX0399.JPG\n"
     ]
    },
    {
     "data": {
      "text/plain": [
       "6872"
      ]
     },
     "execution_count": 113,
     "metadata": {},
     "output_type": "execute_result"
    }
   ],
   "source": [
    "left_id = annotations.iloc[0]['left.url']\n",
    "print(left_id)\n",
    "right_id = annotations.iloc[0]['right.url']\n",
    "left = flow_img[flow_img['url'] == left_id].index[0]\n",
    "left"
   ]
  },
  {
   "cell_type": "code",
   "execution_count": 114,
   "metadata": {},
   "outputs": [
    {
     "data": {
      "text/plain": [
       "'https://usgs-chs-conte-prod-fpe-storage.s3.amazonaws.com/imagesets/fad43511-aa8f-4569-a513-7cbc36bfdba8/images/RCNX0399.JPG'"
      ]
     },
     "execution_count": 114,
     "metadata": {},
     "output_type": "execute_result"
    }
   ],
   "source": [
    "flow_img.iloc[left]['url']"
   ]
  },
  {
   "cell_type": "code",
   "execution_count": 116,
   "metadata": {},
   "outputs": [
    {
     "data": {
      "text/plain": [
       "'https://usgs-chs-conte-prod-fpe-storage.s3.amazonaws.com/imagesets/fad43511-aa8f-4569-a513-7cbc36bfdba8/images/RCNX0399.JPG'"
      ]
     },
     "execution_count": 116,
     "metadata": {},
     "output_type": "execute_result"
    }
   ],
   "source": [
    "flow_img.loc[left]['url']"
   ]
  },
  {
   "cell_type": "code",
   "execution_count": null,
   "metadata": {},
   "outputs": [],
   "source": []
  }
 ],
 "metadata": {
  "kernelspec": {
   "display_name": "streamflow",
   "language": "python",
   "name": "python3"
  },
  "language_info": {
   "codemirror_mode": {
    "name": "ipython",
    "version": 3
   },
   "file_extension": ".py",
   "mimetype": "text/x-python",
   "name": "python",
   "nbconvert_exporter": "python",
   "pygments_lexer": "ipython3",
   "version": "3.9.16"
  },
  "orig_nbformat": 4
 },
 "nbformat": 4,
 "nbformat_minor": 2
}
