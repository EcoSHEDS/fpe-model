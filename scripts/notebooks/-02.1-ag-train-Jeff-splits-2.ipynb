{
 "cells": [
  {
   "cell_type": "code",
   "execution_count": 1,
   "metadata": {},
   "outputs": [],
   "source": [
    "import numpy as np\n",
    "import pandas as pd\n",
    "import subprocess\n",
    "from pathlib import Path\n"
   ]
  },
  {
   "cell_type": "code",
   "execution_count": 4,
   "metadata": {},
   "outputs": [
    {
     "name": "stdout",
     "output_type": "stream",
     "text": [
      "['10-West Brook Lower_01171090', '12-Avery Brook_Bridge_01171000', '13-Avery Brook_Side_01171000', '14-Avery Brook_River Right_01171000', '15-Avery Brook_River Left_01171000', '16-West Brook Reservoir_01171020', '17-West Whately_01171005', '18-Obear Brook Lower_01171070', '29-West Brook 0_01171100', '65-Green River_01170100', '68-West Branch Swift River_01174565', '9-Sanderson Brook_01171010']\n"
     ]
    }
   ],
   "source": [
    "jeff_data_dir = Path('../../../../data/Streamflow/Jeff_data/stations').resolve()\n",
    "jeff_station_dirs = sorted([x.name for x in jeff_data_dir.iterdir() if x.is_dir()])\n",
    "print(jeff_station_dirs)\n",
    "\n",
    "fpe_data_dir = Path('../../../../data/Streamflow/fpe_stations/').resolve()\n",
    "\n",
    "random_seeds = [4275, 3274, 1632, 8436, 2927]\n",
    "random_seed = random_seeds[0]"
   ]
  },
  {
   "cell_type": "code",
   "execution_count": 3,
   "metadata": {},
   "outputs": [
    {
     "name": "stdout",
     "output_type": "stream",
     "text": [
      "python ../train.py --augment --normalize --images-dir \"/home/amritagupta/ssdprivate/data/Streamflow/fpe_stations/Avery Brook_River Left_01171000/FLOW_CFS\" --pairs-file \"/home/amritagupta/ssdprivate/data/Streamflow/Jeff_data/stations/15-Avery Brook_River Left_01171000/input_4275/pairs_500.csv\" --output-dir \"/home/amritagupta/ssdprivate/repos/fpe-model/results/vary_annot_frac.jeff_data/Avery Brook_River Left_01171000/input_4275/pairs_500\" --model-dir \"/home/amritagupta/ssdprivate/repos/fpe-model/results/vary_annot_frac.jeff_data/Avery Brook_River Left_01171000/input_4275/pairs_500\" --gpu 1\n",
      "Namespace(images_dir='/home/amritagupta/ssdprivate/data/Streamflow/fpe_stations/Avery Brook_River Left_01171000/FLOW_CFS', pairs_file='/home/amritagupta/ssdprivate/data/Streamflow/Jeff_data/stations/15-Avery Brook_River Left_01171000/input_4275/pairs_500.csv', output_dir='/home/amritagupta/ssdprivate/repos/fpe-model/results/vary_annot_frac.jeff_data/Avery Brook_River Left_01171000/input_4275/pairs_500', model_dir='/home/amritagupta/ssdprivate/repos/fpe-model/results/vary_annot_frac.jeff_data/Avery Brook_River Left_01171000/input_4275/pairs_500', gpu=1, num_workers=12, local=False, epochs=25, batch_size=64, lr=0.001, random_seed=1691, unfreeze_after=2, num_image_stats=1000, input_size=480, decolorize=False, augment=True, normalize=True)\n",
      "train()\n",
      "args:\n",
      "{'images_dir': '/home/amritagupta/ssdprivate/data/Streamflow/fpe_stations/Avery Brook_River Left_01171000/FLOW_CFS', 'pairs_file': '/home/amritagupta/ssdprivate/data/Streamflow/Jeff_data/stations/15-Avery Brook_River Left_01171000/input_4275/pairs_500.csv', 'output_dir': '/home/amritagupta/ssdprivate/repos/fpe-model/results/vary_annot_frac.jeff_data/Avery Brook_River Left_01171000/input_4275/pairs_500', 'model_dir': '/home/amritagupta/ssdprivate/repos/fpe-model/results/vary_annot_frac.jeff_data/Avery Brook_River Left_01171000/input_4275/pairs_500', 'gpu': 1, 'num_workers': 12, 'local': False, 'epochs': 25, 'batch_size': 64, 'lr': 0.001, 'random_seed': 1691, 'unfreeze_after': 2, 'num_image_stats': 1000, 'input_size': 480, 'decolorize': False, 'augment': True, 'normalize': True}\n",
      "device: cuda:1\n",
      "output_dir: /home/amritagupta/ssdprivate/repos/fpe-model/results/vary_annot_frac.jeff_data/Avery Brook_River Left_01171000/input_4275/pairs_500\n",
      "saved args: /home/amritagupta/ssdprivate/repos/fpe-model/results/vary_annot_frac.jeff_data/Avery Brook_River Left_01171000/input_4275/pairs_500/args.json\n",
      "model_dir: /home/amritagupta/ssdprivate/repos/fpe-model/results/vary_annot_frac.jeff_data/Avery Brook_River Left_01171000/input_4275/pairs_500\n",
      "set seeds (1691)\n"
     ]
    },
    {
     "name": "stderr",
     "output_type": "stream",
     "text": [
      "100%|██████████| 985/985 [01:31<00:00, 10.74it/s]\n"
     ]
    },
    {
     "name": "stdout",
     "output_type": "stream",
     "text": [
      "resize_shape: [480, 682]\n",
      "input_shape: [384, 546]\n",
      "creating train dataset\n",
      "creating val datasets\n",
      "val ds: 920\n",
      "creating data loaders\n",
      "initializing model\n",
      "start training\n",
      "start training (epoch=0)\n"
     ]
    },
    {
     "name": "stderr",
     "output_type": "stream",
     "text": [
      "Epoch 0: 100%|██████████| 16/16 [00:22<00:00,  1.38s/it]\n"
     ]
    },
    {
     "name": "stdout",
     "output_type": "stream",
     "text": [
      "train step took 22.5 s\n",
      "train loss = 0.70\n"
     ]
    },
    {
     "name": "stderr",
     "output_type": "stream",
     "text": [
      "Validation 0: 100%|██████████| 15/15 [00:19<00:00,  1.30s/it]\n"
     ]
    },
    {
     "name": "stdout",
     "output_type": "stream",
     "text": [
      "val step took 19.9 s\n",
      "val loss = 0.69\n",
      "[Epoch 0|val]\t19.92 s\t0.6923\n",
      "start training (epoch=1)\n"
     ]
    },
    {
     "name": "stderr",
     "output_type": "stream",
     "text": [
      "Epoch 1: 100%|██████████| 16/16 [00:23<00:00,  1.46s/it]\n"
     ]
    },
    {
     "name": "stdout",
     "output_type": "stream",
     "text": [
      "train step took 24.0 s\n",
      "train loss = 0.69\n"
     ]
    },
    {
     "name": "stderr",
     "output_type": "stream",
     "text": [
      "Validation 1: 100%|██████████| 15/15 [00:18<00:00,  1.21s/it]\n"
     ]
    },
    {
     "name": "stdout",
     "output_type": "stream",
     "text": [
      "val step took 18.7 s\n",
      "val loss = 0.69\n",
      "[Epoch 1|val]\t18.67 s\t0.6852\n",
      "unfreezing cnn body after epoch=1\n",
      "start training (epoch=2)\n"
     ]
    },
    {
     "name": "stderr",
     "output_type": "stream",
     "text": [
      "Epoch 2: 100%|██████████| 16/16 [00:23<00:00,  1.45s/it]\n"
     ]
    },
    {
     "name": "stdout",
     "output_type": "stream",
     "text": [
      "train step took 23.8 s\n",
      "train loss = 0.68\n"
     ]
    },
    {
     "name": "stderr",
     "output_type": "stream",
     "text": [
      "Validation 2: 100%|██████████| 15/15 [00:16<00:00,  1.13s/it]\n"
     ]
    },
    {
     "name": "stdout",
     "output_type": "stream",
     "text": [
      "val step took 17.5 s\n",
      "val loss = 0.68\n",
      "[Epoch 2|val]\t17.53 s\t0.6777\n",
      "start training (epoch=3)\n"
     ]
    },
    {
     "name": "stderr",
     "output_type": "stream",
     "text": [
      "Epoch 3: 100%|██████████| 16/16 [00:24<00:00,  1.52s/it]\n"
     ]
    },
    {
     "name": "stdout",
     "output_type": "stream",
     "text": [
      "train step took 24.9 s\n",
      "train loss = 0.67\n"
     ]
    },
    {
     "name": "stderr",
     "output_type": "stream",
     "text": [
      "Validation 3: 100%|██████████| 15/15 [00:18<00:00,  1.26s/it]\n"
     ]
    },
    {
     "name": "stdout",
     "output_type": "stream",
     "text": [
      "val step took 19.4 s\n",
      "val loss = 0.67\n",
      "[Epoch 3|val]\t19.43 s\t0.6658\n",
      "start training (epoch=4)\n"
     ]
    },
    {
     "name": "stderr",
     "output_type": "stream",
     "text": [
      "Epoch 4: 100%|██████████| 16/16 [00:26<00:00,  1.64s/it]\n"
     ]
    },
    {
     "name": "stdout",
     "output_type": "stream",
     "text": [
      "train step took 26.9 s\n",
      "train loss = 0.66\n"
     ]
    },
    {
     "name": "stderr",
     "output_type": "stream",
     "text": [
      "Validation 4: 100%|██████████| 15/15 [00:20<00:00,  1.34s/it]\n"
     ]
    },
    {
     "name": "stdout",
     "output_type": "stream",
     "text": [
      "val step took 20.7 s\n",
      "val loss = 0.65\n",
      "[Epoch 4|val]\t20.75 s\t0.6508\n",
      "start training (epoch=5)\n"
     ]
    },
    {
     "name": "stderr",
     "output_type": "stream",
     "text": [
      "Epoch 5: 100%|██████████| 16/16 [00:23<00:00,  1.49s/it]\n"
     ]
    },
    {
     "name": "stdout",
     "output_type": "stream",
     "text": [
      "train step took 24.5 s\n",
      "train loss = 0.65\n"
     ]
    },
    {
     "name": "stderr",
     "output_type": "stream",
     "text": [
      "Validation 5: 100%|██████████| 15/15 [00:21<00:00,  1.44s/it]\n"
     ]
    },
    {
     "name": "stdout",
     "output_type": "stream",
     "text": [
      "val step took 22.1 s\n",
      "val loss = 0.63\n",
      "[Epoch 5|val]\t22.09 s\t0.6300\n",
      "start training (epoch=6)\n"
     ]
    },
    {
     "name": "stderr",
     "output_type": "stream",
     "text": [
      "Epoch 6: 100%|██████████| 16/16 [00:24<00:00,  1.52s/it]\n"
     ]
    },
    {
     "name": "stdout",
     "output_type": "stream",
     "text": [
      "train step took 25.0 s\n",
      "train loss = 0.62\n"
     ]
    },
    {
     "name": "stderr",
     "output_type": "stream",
     "text": [
      "Validation 6: 100%|██████████| 15/15 [00:18<00:00,  1.22s/it]\n"
     ]
    },
    {
     "name": "stdout",
     "output_type": "stream",
     "text": [
      "val step took 18.8 s\n",
      "val loss = 0.60\n",
      "[Epoch 6|val]\t18.81 s\t0.6028\n",
      "start training (epoch=7)\n"
     ]
    },
    {
     "name": "stderr",
     "output_type": "stream",
     "text": [
      "Epoch 7: 100%|██████████| 16/16 [00:24<00:00,  1.55s/it]\n"
     ]
    },
    {
     "name": "stdout",
     "output_type": "stream",
     "text": [
      "train step took 25.6 s\n",
      "train loss = 0.59\n"
     ]
    },
    {
     "name": "stderr",
     "output_type": "stream",
     "text": [
      "Validation 7: 100%|██████████| 15/15 [00:17<00:00,  1.14s/it]\n"
     ]
    },
    {
     "name": "stdout",
     "output_type": "stream",
     "text": [
      "val step took 17.7 s\n",
      "val loss = 0.57\n",
      "[Epoch 7|val]\t17.67 s\t0.5674\n",
      "start training (epoch=8)\n"
     ]
    },
    {
     "name": "stderr",
     "output_type": "stream",
     "text": [
      "Epoch 8: 100%|██████████| 16/16 [00:25<00:00,  1.59s/it]\n"
     ]
    },
    {
     "name": "stdout",
     "output_type": "stream",
     "text": [
      "train step took 26.0 s\n",
      "train loss = 0.56\n"
     ]
    },
    {
     "name": "stderr",
     "output_type": "stream",
     "text": [
      "Validation 8: 100%|██████████| 15/15 [00:22<00:00,  1.53s/it]\n"
     ]
    },
    {
     "name": "stdout",
     "output_type": "stream",
     "text": [
      "val step took 23.5 s\n",
      "val loss = 0.52\n",
      "[Epoch 8|val]\t23.47 s\t0.5193\n",
      "start training (epoch=9)\n"
     ]
    },
    {
     "name": "stderr",
     "output_type": "stream",
     "text": [
      "Epoch 9: 100%|██████████| 16/16 [00:25<00:00,  1.62s/it]\n"
     ]
    },
    {
     "name": "stdout",
     "output_type": "stream",
     "text": [
      "train step took 26.5 s\n",
      "train loss = 0.51\n"
     ]
    },
    {
     "name": "stderr",
     "output_type": "stream",
     "text": [
      "Validation 9: 100%|██████████| 15/15 [00:20<00:00,  1.37s/it]\n"
     ]
    },
    {
     "name": "stdout",
     "output_type": "stream",
     "text": [
      "val step took 21.1 s\n",
      "val loss = 0.46\n",
      "[Epoch 9|val]\t21.14 s\t0.4625\n",
      "start training (epoch=10)\n"
     ]
    },
    {
     "name": "stderr",
     "output_type": "stream",
     "text": [
      "Epoch 10: 100%|██████████| 16/16 [00:25<00:00,  1.58s/it]\n"
     ]
    },
    {
     "name": "stdout",
     "output_type": "stream",
     "text": [
      "train step took 25.8 s\n",
      "train loss = 0.45\n"
     ]
    },
    {
     "name": "stderr",
     "output_type": "stream",
     "text": [
      "Validation 10: 100%|██████████| 15/15 [00:22<00:00,  1.48s/it]\n"
     ]
    },
    {
     "name": "stdout",
     "output_type": "stream",
     "text": [
      "val step took 22.8 s\n",
      "val loss = 0.40\n",
      "[Epoch 10|val]\t22.77 s\t0.4029\n",
      "start training (epoch=11)\n"
     ]
    },
    {
     "name": "stderr",
     "output_type": "stream",
     "text": [
      "Epoch 11: 100%|██████████| 16/16 [00:30<00:00,  1.92s/it]\n"
     ]
    },
    {
     "name": "stdout",
     "output_type": "stream",
     "text": [
      "train step took 31.3 s\n",
      "train loss = 0.40\n"
     ]
    },
    {
     "name": "stderr",
     "output_type": "stream",
     "text": [
      "Validation 11: 100%|██████████| 15/15 [00:24<00:00,  1.61s/it]\n"
     ]
    },
    {
     "name": "stdout",
     "output_type": "stream",
     "text": [
      "val step took 24.7 s\n",
      "val loss = 0.36\n",
      "[Epoch 11|val]\t24.65 s\t0.3596\n",
      "start training (epoch=12)\n"
     ]
    },
    {
     "name": "stderr",
     "output_type": "stream",
     "text": [
      "Epoch 12: 100%|██████████| 16/16 [00:32<00:00,  2.02s/it]\n"
     ]
    },
    {
     "name": "stdout",
     "output_type": "stream",
     "text": [
      "train step took 32.9 s\n",
      "train loss = 0.35\n"
     ]
    },
    {
     "name": "stderr",
     "output_type": "stream",
     "text": [
      "Validation 12: 100%|██████████| 15/15 [00:23<00:00,  1.56s/it]\n"
     ]
    },
    {
     "name": "stdout",
     "output_type": "stream",
     "text": [
      "val step took 24.0 s\n",
      "val loss = 0.33\n",
      "[Epoch 12|val]\t24.01 s\t0.3319\n",
      "start training (epoch=13)\n"
     ]
    },
    {
     "name": "stderr",
     "output_type": "stream",
     "text": [
      "Epoch 13: 100%|██████████| 16/16 [00:28<00:00,  1.77s/it]\n"
     ]
    },
    {
     "name": "stdout",
     "output_type": "stream",
     "text": [
      "train step took 29.2 s\n",
      "train loss = 0.31\n"
     ]
    },
    {
     "name": "stderr",
     "output_type": "stream",
     "text": [
      "Validation 13: 100%|██████████| 15/15 [00:27<00:00,  1.85s/it]\n"
     ]
    },
    {
     "name": "stdout",
     "output_type": "stream",
     "text": [
      "val step took 28.3 s\n",
      "val loss = 0.32\n",
      "[Epoch 13|val]\t28.30 s\t0.3151\n",
      "start training (epoch=14)\n"
     ]
    },
    {
     "name": "stderr",
     "output_type": "stream",
     "text": [
      "Epoch 14: 100%|██████████| 16/16 [00:28<00:00,  1.79s/it]\n"
     ]
    },
    {
     "name": "stdout",
     "output_type": "stream",
     "text": [
      "train step took 29.3 s\n",
      "train loss = 0.29\n"
     ]
    },
    {
     "name": "stderr",
     "output_type": "stream",
     "text": [
      "Validation 14: 100%|██████████| 15/15 [00:24<00:00,  1.62s/it]\n"
     ]
    },
    {
     "name": "stdout",
     "output_type": "stream",
     "text": [
      "val step took 25.0 s\n",
      "val loss = 0.30\n",
      "[Epoch 14|val]\t25.00 s\t0.3037\n",
      "start training (epoch=15)\n"
     ]
    },
    {
     "name": "stderr",
     "output_type": "stream",
     "text": [
      "Epoch 15: 100%|██████████| 16/16 [00:31<00:00,  1.98s/it]\n"
     ]
    },
    {
     "name": "stdout",
     "output_type": "stream",
     "text": [
      "train step took 32.3 s\n",
      "train loss = 0.27\n"
     ]
    },
    {
     "name": "stderr",
     "output_type": "stream",
     "text": [
      "Validation 15: 100%|██████████| 15/15 [00:24<00:00,  1.65s/it]\n"
     ]
    },
    {
     "name": "stdout",
     "output_type": "stream",
     "text": [
      "val step took 25.3 s\n",
      "val loss = 0.29\n",
      "[Epoch 15|val]\t25.33 s\t0.2938\n",
      "start training (epoch=16)\n"
     ]
    },
    {
     "name": "stderr",
     "output_type": "stream",
     "text": [
      "Epoch 16: 100%|██████████| 16/16 [00:35<00:00,  2.20s/it]\n"
     ]
    },
    {
     "name": "stdout",
     "output_type": "stream",
     "text": [
      "train step took 35.9 s\n",
      "train loss = 0.26\n"
     ]
    },
    {
     "name": "stderr",
     "output_type": "stream",
     "text": [
      "Validation 16: 100%|██████████| 15/15 [00:20<00:00,  1.39s/it]\n"
     ]
    },
    {
     "name": "stdout",
     "output_type": "stream",
     "text": [
      "val step took 21.8 s\n",
      "val loss = 0.30\n",
      "[Epoch 16|val]\t21.78 s\t0.2989\n",
      "start training (epoch=17)\n"
     ]
    },
    {
     "name": "stderr",
     "output_type": "stream",
     "text": [
      "Epoch 17: 100%|██████████| 16/16 [00:31<00:00,  1.95s/it]\n"
     ]
    },
    {
     "name": "stdout",
     "output_type": "stream",
     "text": [
      "train step took 31.8 s\n",
      "train loss = 0.24\n"
     ]
    },
    {
     "name": "stderr",
     "output_type": "stream",
     "text": [
      "Validation 17: 100%|██████████| 15/15 [00:27<00:00,  1.86s/it]\n"
     ]
    },
    {
     "name": "stdout",
     "output_type": "stream",
     "text": [
      "val step took 28.7 s\n",
      "val loss = 0.29\n",
      "[Epoch 17|val]\t28.68 s\t0.2870\n",
      "start training (epoch=18)\n"
     ]
    },
    {
     "name": "stderr",
     "output_type": "stream",
     "text": [
      "Epoch 18: 100%|██████████| 16/16 [00:28<00:00,  1.77s/it]\n"
     ]
    },
    {
     "name": "stdout",
     "output_type": "stream",
     "text": [
      "train step took 29.0 s\n",
      "train loss = 0.24\n"
     ]
    },
    {
     "name": "stderr",
     "output_type": "stream",
     "text": [
      "Validation 18: 100%|██████████| 15/15 [00:21<00:00,  1.45s/it]\n"
     ]
    },
    {
     "name": "stdout",
     "output_type": "stream",
     "text": [
      "val step took 22.5 s\n",
      "val loss = 0.30\n",
      "[Epoch 18|val]\t22.48 s\t0.2955\n",
      "start training (epoch=19)\n"
     ]
    },
    {
     "name": "stderr",
     "output_type": "stream",
     "text": [
      "Epoch 19: 100%|██████████| 16/16 [00:32<00:00,  2.06s/it]\n"
     ]
    },
    {
     "name": "stdout",
     "output_type": "stream",
     "text": [
      "train step took 33.9 s\n",
      "train loss = 0.23\n"
     ]
    },
    {
     "name": "stderr",
     "output_type": "stream",
     "text": [
      "Validation 19: 100%|██████████| 15/15 [00:21<00:00,  1.44s/it]\n"
     ]
    },
    {
     "name": "stdout",
     "output_type": "stream",
     "text": [
      "val step took 22.1 s\n",
      "val loss = 0.28\n",
      "[Epoch 19|val]\t22.09 s\t0.2794\n",
      "start training (epoch=20)\n"
     ]
    },
    {
     "name": "stderr",
     "output_type": "stream",
     "text": [
      "Epoch 20: 100%|██████████| 16/16 [00:35<00:00,  2.22s/it]\n"
     ]
    },
    {
     "name": "stdout",
     "output_type": "stream",
     "text": [
      "train step took 36.3 s\n",
      "train loss = 0.22\n"
     ]
    },
    {
     "name": "stderr",
     "output_type": "stream",
     "text": [
      "Validation 20: 100%|██████████| 15/15 [00:27<00:00,  1.80s/it]\n"
     ]
    },
    {
     "name": "stdout",
     "output_type": "stream",
     "text": [
      "val step took 27.7 s\n",
      "val loss = 0.29\n",
      "[Epoch 20|val]\t27.71 s\t0.2888\n",
      "start training (epoch=21)\n"
     ]
    },
    {
     "name": "stderr",
     "output_type": "stream",
     "text": [
      "Epoch 21: 100%|██████████| 16/16 [00:28<00:00,  1.77s/it]\n"
     ]
    },
    {
     "name": "stdout",
     "output_type": "stream",
     "text": [
      "train step took 29.1 s\n",
      "train loss = 0.22\n"
     ]
    },
    {
     "name": "stderr",
     "output_type": "stream",
     "text": [
      "Validation 21: 100%|██████████| 15/15 [00:24<00:00,  1.63s/it]\n"
     ]
    },
    {
     "name": "stdout",
     "output_type": "stream",
     "text": [
      "val step took 25.3 s\n",
      "val loss = 0.29\n",
      "[Epoch 21|val]\t25.28 s\t0.2884\n",
      "start training (epoch=22)\n"
     ]
    },
    {
     "name": "stderr",
     "output_type": "stream",
     "text": [
      "Epoch 22: 100%|██████████| 16/16 [00:26<00:00,  1.68s/it]\n"
     ]
    },
    {
     "name": "stdout",
     "output_type": "stream",
     "text": [
      "train step took 27.7 s\n",
      "train loss = 0.21\n"
     ]
    },
    {
     "name": "stderr",
     "output_type": "stream",
     "text": [
      "Validation 22: 100%|██████████| 15/15 [00:21<00:00,  1.45s/it]\n"
     ]
    },
    {
     "name": "stdout",
     "output_type": "stream",
     "text": [
      "val step took 22.3 s\n",
      "val loss = 0.28\n",
      "[Epoch 22|val]\t22.32 s\t0.2802\n",
      "start training (epoch=23)\n"
     ]
    },
    {
     "name": "stderr",
     "output_type": "stream",
     "text": [
      "Epoch 23: 100%|██████████| 16/16 [00:27<00:00,  1.71s/it]\n"
     ]
    },
    {
     "name": "stdout",
     "output_type": "stream",
     "text": [
      "train step took 27.9 s\n",
      "train loss = 0.20\n"
     ]
    },
    {
     "name": "stderr",
     "output_type": "stream",
     "text": [
      "Validation 23: 100%|██████████| 15/15 [00:22<00:00,  1.49s/it]\n"
     ]
    },
    {
     "name": "stdout",
     "output_type": "stream",
     "text": [
      "val step took 22.9 s\n",
      "val loss = 0.28\n",
      "[Epoch 23|val]\t22.94 s\t0.2812\n",
      "start training (epoch=24)\n"
     ]
    },
    {
     "name": "stderr",
     "output_type": "stream",
     "text": [
      "Epoch 24: 100%|██████████| 16/16 [00:37<00:00,  2.34s/it]\n"
     ]
    },
    {
     "name": "stdout",
     "output_type": "stream",
     "text": [
      "train step took 38.1 s\n",
      "train loss = 0.19\n"
     ]
    },
    {
     "name": "stderr",
     "output_type": "stream",
     "text": [
      "Validation 24: 100%|██████████| 15/15 [00:26<00:00,  1.75s/it]\n"
     ]
    },
    {
     "name": "stdout",
     "output_type": "stream",
     "text": [
      "val step took 26.9 s\n",
      "val loss = 0.29\n",
      "[Epoch 24|val]\t26.91 s\t0.2897\n",
      "finished\n",
      "python ../train.py --augment --normalize --images-dir \"/home/amritagupta/ssdprivate/data/Streamflow/fpe_stations/Avery Brook_River Left_01171000/FLOW_CFS\" --pairs-file \"/home/amritagupta/ssdprivate/data/Streamflow/Jeff_data/stations/15-Avery Brook_River Left_01171000/input_4275/pairs_1000.csv\" --output-dir \"/home/amritagupta/ssdprivate/repos/fpe-model/results/vary_annot_frac.jeff_data/Avery Brook_River Left_01171000/input_4275/pairs_1000\" --model-dir \"/home/amritagupta/ssdprivate/repos/fpe-model/results/vary_annot_frac.jeff_data/Avery Brook_River Left_01171000/input_4275/pairs_1000\" --gpu 1\n",
      "Namespace(images_dir='/home/amritagupta/ssdprivate/data/Streamflow/fpe_stations/Avery Brook_River Left_01171000/FLOW_CFS', pairs_file='/home/amritagupta/ssdprivate/data/Streamflow/Jeff_data/stations/15-Avery Brook_River Left_01171000/input_4275/pairs_1000.csv', output_dir='/home/amritagupta/ssdprivate/repos/fpe-model/results/vary_annot_frac.jeff_data/Avery Brook_River Left_01171000/input_4275/pairs_1000', model_dir='/home/amritagupta/ssdprivate/repos/fpe-model/results/vary_annot_frac.jeff_data/Avery Brook_River Left_01171000/input_4275/pairs_1000', gpu=1, num_workers=12, local=False, epochs=25, batch_size=64, lr=0.001, random_seed=1691, unfreeze_after=2, num_image_stats=1000, input_size=480, decolorize=False, augment=True, normalize=True)\n",
      "train()\n",
      "args:\n",
      "{'images_dir': '/home/amritagupta/ssdprivate/data/Streamflow/fpe_stations/Avery Brook_River Left_01171000/FLOW_CFS', 'pairs_file': '/home/amritagupta/ssdprivate/data/Streamflow/Jeff_data/stations/15-Avery Brook_River Left_01171000/input_4275/pairs_1000.csv', 'output_dir': '/home/amritagupta/ssdprivate/repos/fpe-model/results/vary_annot_frac.jeff_data/Avery Brook_River Left_01171000/input_4275/pairs_1000', 'model_dir': '/home/amritagupta/ssdprivate/repos/fpe-model/results/vary_annot_frac.jeff_data/Avery Brook_River Left_01171000/input_4275/pairs_1000', 'gpu': 1, 'num_workers': 12, 'local': False, 'epochs': 25, 'batch_size': 64, 'lr': 0.001, 'random_seed': 1691, 'unfreeze_after': 2, 'num_image_stats': 1000, 'input_size': 480, 'decolorize': False, 'augment': True, 'normalize': True}\n",
      "device: cuda:1\n",
      "output_dir: /home/amritagupta/ssdprivate/repos/fpe-model/results/vary_annot_frac.jeff_data/Avery Brook_River Left_01171000/input_4275/pairs_1000\n",
      "saved args: /home/amritagupta/ssdprivate/repos/fpe-model/results/vary_annot_frac.jeff_data/Avery Brook_River Left_01171000/input_4275/pairs_1000/args.json\n",
      "model_dir: /home/amritagupta/ssdprivate/repos/fpe-model/results/vary_annot_frac.jeff_data/Avery Brook_River Left_01171000/input_4275/pairs_1000\n",
      "set seeds (1691)\n"
     ]
    },
    {
     "name": "stderr",
     "output_type": "stream",
     "text": [
      "100%|██████████| 1000/1000 [01:58<00:00,  8.46it/s]\n"
     ]
    },
    {
     "name": "stdout",
     "output_type": "stream",
     "text": [
      "resize_shape: [480, 682]\n",
      "input_shape: [384, 546]\n",
      "creating train dataset\n",
      "creating val datasets\n",
      "val ds: 920\n",
      "creating data loaders\n",
      "initializing model\n",
      "start training\n",
      "start training (epoch=0)\n"
     ]
    },
    {
     "name": "stderr",
     "output_type": "stream",
     "text": [
      "Epoch 0: 100%|██████████| 32/32 [00:47<00:00,  1.48s/it]\n"
     ]
    },
    {
     "name": "stdout",
     "output_type": "stream",
     "text": [
      "train step took 47.8 s\n",
      "train loss = 0.69\n"
     ]
    },
    {
     "name": "stderr",
     "output_type": "stream",
     "text": [
      "Validation 0: 100%|██████████| 15/15 [00:24<00:00,  1.64s/it]\n"
     ]
    },
    {
     "name": "stdout",
     "output_type": "stream",
     "text": [
      "val step took 25.5 s\n",
      "val loss = 0.68\n",
      "[Epoch 0|val]\t25.51 s\t0.6774\n",
      "start training (epoch=1)\n"
     ]
    },
    {
     "name": "stderr",
     "output_type": "stream",
     "text": [
      "Epoch 1: 100%|██████████| 32/32 [00:39<00:00,  1.23s/it]\n"
     ]
    },
    {
     "name": "stdout",
     "output_type": "stream",
     "text": [
      "train step took 40.2 s\n",
      "train loss = 0.67\n"
     ]
    },
    {
     "name": "stderr",
     "output_type": "stream",
     "text": [
      "Validation 1: 100%|██████████| 15/15 [00:31<00:00,  2.07s/it]\n"
     ]
    },
    {
     "name": "stdout",
     "output_type": "stream",
     "text": [
      "val step took 32.2 s\n",
      "val loss = 0.66\n",
      "[Epoch 1|val]\t32.23 s\t0.6586\n",
      "unfreezing cnn body after epoch=1\n",
      "start training (epoch=2)\n"
     ]
    },
    {
     "name": "stderr",
     "output_type": "stream",
     "text": [
      "Epoch 2: 100%|██████████| 32/32 [00:49<00:00,  1.54s/it]\n"
     ]
    },
    {
     "name": "stdout",
     "output_type": "stream",
     "text": [
      "train step took 50.4 s\n",
      "train loss = 0.65\n"
     ]
    },
    {
     "name": "stderr",
     "output_type": "stream",
     "text": [
      "Validation 2: 100%|██████████| 15/15 [00:28<00:00,  1.91s/it]\n"
     ]
    },
    {
     "name": "stdout",
     "output_type": "stream",
     "text": [
      "val step took 29.7 s\n",
      "val loss = 0.63\n",
      "[Epoch 2|val]\t29.71 s\t0.6273\n",
      "start training (epoch=3)\n"
     ]
    },
    {
     "name": "stderr",
     "output_type": "stream",
     "text": [
      "Epoch 3: 100%|██████████| 32/32 [00:54<00:00,  1.70s/it]\n"
     ]
    },
    {
     "name": "stdout",
     "output_type": "stream",
     "text": [
      "train step took 55.2 s\n",
      "train loss = 0.61\n"
     ]
    },
    {
     "name": "stderr",
     "output_type": "stream",
     "text": [
      "Validation 3: 100%|██████████| 15/15 [00:30<00:00,  2.00s/it]\n"
     ]
    },
    {
     "name": "stdout",
     "output_type": "stream",
     "text": [
      "val step took 31.2 s\n",
      "val loss = 0.56\n",
      "[Epoch 3|val]\t31.17 s\t0.5647\n",
      "start training (epoch=4)\n"
     ]
    },
    {
     "name": "stderr",
     "output_type": "stream",
     "text": [
      "Epoch 4: 100%|██████████| 32/32 [00:51<00:00,  1.60s/it]\n"
     ]
    },
    {
     "name": "stdout",
     "output_type": "stream",
     "text": [
      "train step took 52.0 s\n",
      "train loss = 0.54\n"
     ]
    },
    {
     "name": "stderr",
     "output_type": "stream",
     "text": [
      "Validation 4: 100%|██████████| 15/15 [00:30<00:00,  2.02s/it]\n"
     ]
    },
    {
     "name": "stdout",
     "output_type": "stream",
     "text": [
      "val step took 31.1 s\n",
      "val loss = 0.47\n",
      "[Epoch 4|val]\t31.15 s\t0.4693\n",
      "start training (epoch=5)\n"
     ]
    },
    {
     "name": "stderr",
     "output_type": "stream",
     "text": [
      "Epoch 5: 100%|██████████| 32/32 [00:53<00:00,  1.67s/it]\n"
     ]
    },
    {
     "name": "stdout",
     "output_type": "stream",
     "text": [
      "train step took 54.4 s\n",
      "train loss = 0.44\n"
     ]
    },
    {
     "name": "stderr",
     "output_type": "stream",
     "text": [
      "Validation 5: 100%|██████████| 15/15 [00:27<00:00,  1.85s/it]\n"
     ]
    },
    {
     "name": "stdout",
     "output_type": "stream",
     "text": [
      "val step took 28.5 s\n",
      "val loss = 0.38\n",
      "[Epoch 5|val]\t28.49 s\t0.3777\n",
      "start training (epoch=6)\n"
     ]
    },
    {
     "name": "stderr",
     "output_type": "stream",
     "text": [
      "Epoch 6: 100%|██████████| 32/32 [00:49<00:00,  1.55s/it]\n"
     ]
    },
    {
     "name": "stdout",
     "output_type": "stream",
     "text": [
      "train step took 50.8 s\n",
      "train loss = 0.35\n"
     ]
    },
    {
     "name": "stderr",
     "output_type": "stream",
     "text": [
      "Validation 6: 100%|██████████| 15/15 [00:28<00:00,  1.88s/it]\n"
     ]
    },
    {
     "name": "stdout",
     "output_type": "stream",
     "text": [
      "val step took 29.1 s\n",
      "val loss = 0.32\n",
      "[Epoch 6|val]\t29.11 s\t0.3228\n",
      "start training (epoch=7)\n"
     ]
    },
    {
     "name": "stderr",
     "output_type": "stream",
     "text": [
      "Epoch 7: 100%|██████████| 32/32 [00:50<00:00,  1.57s/it]\n"
     ]
    },
    {
     "name": "stdout",
     "output_type": "stream",
     "text": [
      "train step took 51.5 s\n",
      "train loss = 0.30\n"
     ]
    },
    {
     "name": "stderr",
     "output_type": "stream",
     "text": [
      "Validation 7: 100%|██████████| 15/15 [00:29<00:00,  1.96s/it]\n"
     ]
    },
    {
     "name": "stdout",
     "output_type": "stream",
     "text": [
      "val step took 30.2 s\n",
      "val loss = 0.29\n",
      "[Epoch 7|val]\t30.17 s\t0.2922\n",
      "start training (epoch=8)\n"
     ]
    },
    {
     "name": "stderr",
     "output_type": "stream",
     "text": [
      "Epoch 8: 100%|██████████| 32/32 [00:56<00:00,  1.77s/it]\n"
     ]
    },
    {
     "name": "stdout",
     "output_type": "stream",
     "text": [
      "train step took 58.1 s\n",
      "train loss = 0.27\n"
     ]
    },
    {
     "name": "stderr",
     "output_type": "stream",
     "text": [
      "Validation 8: 100%|██████████| 15/15 [00:24<00:00,  1.62s/it]\n"
     ]
    },
    {
     "name": "stdout",
     "output_type": "stream",
     "text": [
      "val step took 25.0 s\n",
      "val loss = 0.28\n",
      "[Epoch 8|val]\t25.04 s\t0.2810\n",
      "start training (epoch=9)\n"
     ]
    },
    {
     "name": "stderr",
     "output_type": "stream",
     "text": [
      "Epoch 9: 100%|██████████| 32/32 [00:58<00:00,  1.82s/it]\n"
     ]
    },
    {
     "name": "stdout",
     "output_type": "stream",
     "text": [
      "train step took 59.1 s\n",
      "train loss = 0.25\n"
     ]
    },
    {
     "name": "stderr",
     "output_type": "stream",
     "text": [
      "Validation 9: 100%|██████████| 15/15 [00:26<00:00,  1.80s/it]\n"
     ]
    },
    {
     "name": "stdout",
     "output_type": "stream",
     "text": [
      "val step took 28.1 s\n",
      "val loss = 0.27\n",
      "[Epoch 9|val]\t28.13 s\t0.2742\n",
      "start training (epoch=10)\n"
     ]
    },
    {
     "name": "stderr",
     "output_type": "stream",
     "text": [
      "Epoch 10: 100%|██████████| 32/32 [00:54<00:00,  1.69s/it]\n"
     ]
    },
    {
     "name": "stdout",
     "output_type": "stream",
     "text": [
      "train step took 55.0 s\n",
      "train loss = 0.24\n"
     ]
    },
    {
     "name": "stderr",
     "output_type": "stream",
     "text": [
      "Validation 10: 100%|██████████| 15/15 [00:25<00:00,  1.71s/it]\n"
     ]
    },
    {
     "name": "stdout",
     "output_type": "stream",
     "text": [
      "val step took 26.6 s\n",
      "val loss = 0.26\n",
      "[Epoch 10|val]\t26.60 s\t0.2613\n",
      "start training (epoch=11)\n"
     ]
    },
    {
     "name": "stderr",
     "output_type": "stream",
     "text": [
      "Epoch 11: 100%|██████████| 32/32 [00:58<00:00,  1.84s/it]\n"
     ]
    },
    {
     "name": "stdout",
     "output_type": "stream",
     "text": [
      "train step took 59.9 s\n",
      "train loss = 0.22\n"
     ]
    },
    {
     "name": "stderr",
     "output_type": "stream",
     "text": [
      "Validation 11: 100%|██████████| 15/15 [00:22<00:00,  1.49s/it]\n"
     ]
    },
    {
     "name": "stdout",
     "output_type": "stream",
     "text": [
      "val step took 23.2 s\n",
      "val loss = 0.26\n",
      "[Epoch 11|val]\t23.19 s\t0.2610\n",
      "start training (epoch=12)\n"
     ]
    },
    {
     "name": "stderr",
     "output_type": "stream",
     "text": [
      "Epoch 12: 100%|██████████| 32/32 [00:57<00:00,  1.79s/it]\n"
     ]
    },
    {
     "name": "stdout",
     "output_type": "stream",
     "text": [
      "train step took 58.3 s\n",
      "train loss = 0.22\n"
     ]
    },
    {
     "name": "stderr",
     "output_type": "stream",
     "text": [
      "Validation 12: 100%|██████████| 15/15 [00:22<00:00,  1.48s/it]\n"
     ]
    },
    {
     "name": "stdout",
     "output_type": "stream",
     "text": [
      "val step took 23.4 s\n",
      "val loss = 0.26\n",
      "[Epoch 12|val]\t23.38 s\t0.2577\n",
      "start training (epoch=13)\n"
     ]
    },
    {
     "name": "stderr",
     "output_type": "stream",
     "text": [
      "Epoch 13: 100%|██████████| 32/32 [00:49<00:00,  1.56s/it]\n"
     ]
    },
    {
     "name": "stdout",
     "output_type": "stream",
     "text": [
      "train step took 50.7 s\n",
      "train loss = 0.21\n"
     ]
    },
    {
     "name": "stderr",
     "output_type": "stream",
     "text": [
      "Validation 13: 100%|██████████| 15/15 [00:29<00:00,  1.95s/it]\n"
     ]
    },
    {
     "name": "stdout",
     "output_type": "stream",
     "text": [
      "val step took 30.3 s\n",
      "val loss = 0.27\n",
      "[Epoch 13|val]\t30.26 s\t0.2672\n",
      "start training (epoch=14)\n"
     ]
    },
    {
     "name": "stderr",
     "output_type": "stream",
     "text": [
      "Epoch 14: 100%|██████████| 32/32 [00:42<00:00,  1.33s/it]\n"
     ]
    },
    {
     "name": "stdout",
     "output_type": "stream",
     "text": [
      "train step took 43.5 s\n",
      "train loss = 0.19\n"
     ]
    },
    {
     "name": "stderr",
     "output_type": "stream",
     "text": [
      "Validation 14: 100%|██████████| 15/15 [00:19<00:00,  1.30s/it]\n"
     ]
    },
    {
     "name": "stdout",
     "output_type": "stream",
     "text": [
      "val step took 20.4 s\n",
      "val loss = 0.26\n",
      "[Epoch 14|val]\t20.42 s\t0.2637\n",
      "start training (epoch=15)\n"
     ]
    },
    {
     "name": "stderr",
     "output_type": "stream",
     "text": [
      "Epoch 15: 100%|██████████| 32/32 [00:45<00:00,  1.43s/it]\n"
     ]
    },
    {
     "name": "stdout",
     "output_type": "stream",
     "text": [
      "train step took 46.6 s\n",
      "train loss = 0.19\n"
     ]
    },
    {
     "name": "stderr",
     "output_type": "stream",
     "text": [
      "Validation 15: 100%|██████████| 15/15 [00:22<00:00,  1.52s/it]\n"
     ]
    },
    {
     "name": "stdout",
     "output_type": "stream",
     "text": [
      "val step took 23.8 s\n",
      "val loss = 0.26\n",
      "[Epoch 15|val]\t23.79 s\t0.2604\n",
      "start training (epoch=16)\n"
     ]
    },
    {
     "name": "stderr",
     "output_type": "stream",
     "text": [
      "Epoch 16: 100%|██████████| 32/32 [00:48<00:00,  1.51s/it]\n"
     ]
    },
    {
     "name": "stdout",
     "output_type": "stream",
     "text": [
      "train step took 49.3 s\n",
      "train loss = 0.19\n"
     ]
    },
    {
     "name": "stderr",
     "output_type": "stream",
     "text": [
      "Validation 16: 100%|██████████| 15/15 [00:29<00:00,  1.97s/it]\n"
     ]
    },
    {
     "name": "stdout",
     "output_type": "stream",
     "text": [
      "val step took 30.6 s\n",
      "val loss = 0.26\n",
      "[Epoch 16|val]\t30.63 s\t0.2593\n",
      "start training (epoch=17)\n"
     ]
    },
    {
     "name": "stderr",
     "output_type": "stream",
     "text": [
      "Epoch 17: 100%|██████████| 32/32 [00:49<00:00,  1.56s/it]\n"
     ]
    },
    {
     "name": "stdout",
     "output_type": "stream",
     "text": [
      "train step took 51.3 s\n",
      "train loss = 0.19\n"
     ]
    },
    {
     "name": "stderr",
     "output_type": "stream",
     "text": [
      "Validation 17: 100%|██████████| 15/15 [00:23<00:00,  1.54s/it]\n"
     ]
    },
    {
     "name": "stdout",
     "output_type": "stream",
     "text": [
      "val step took 24.1 s\n",
      "val loss = 0.26\n",
      "[Epoch 17|val]\t24.09 s\t0.2610\n",
      "start training (epoch=18)\n"
     ]
    },
    {
     "name": "stderr",
     "output_type": "stream",
     "text": [
      "Epoch 18: 100%|██████████| 32/32 [01:05<00:00,  2.04s/it]\n"
     ]
    },
    {
     "name": "stdout",
     "output_type": "stream",
     "text": [
      "train step took 66.5 s\n",
      "train loss = 0.18\n"
     ]
    },
    {
     "name": "stderr",
     "output_type": "stream",
     "text": [
      "Validation 18: 100%|██████████| 15/15 [00:27<00:00,  1.86s/it]\n"
     ]
    },
    {
     "name": "stdout",
     "output_type": "stream",
     "text": [
      "val step took 28.8 s\n",
      "val loss = 0.26\n",
      "[Epoch 18|val]\t28.79 s\t0.2614\n",
      "start training (epoch=19)\n"
     ]
    },
    {
     "name": "stderr",
     "output_type": "stream",
     "text": [
      "Epoch 19: 100%|██████████| 32/32 [00:51<00:00,  1.60s/it]\n"
     ]
    },
    {
     "name": "stdout",
     "output_type": "stream",
     "text": [
      "train step took 52.5 s\n",
      "train loss = 0.19\n"
     ]
    },
    {
     "name": "stderr",
     "output_type": "stream",
     "text": [
      "Validation 19: 100%|██████████| 15/15 [00:21<00:00,  1.43s/it]\n"
     ]
    },
    {
     "name": "stdout",
     "output_type": "stream",
     "text": [
      "val step took 22.4 s\n",
      "val loss = 0.26\n",
      "[Epoch 19|val]\t22.40 s\t0.2613\n",
      "start training (epoch=20)\n"
     ]
    },
    {
     "name": "stderr",
     "output_type": "stream",
     "text": [
      "Epoch 20: 100%|██████████| 32/32 [00:42<00:00,  1.34s/it]\n"
     ]
    },
    {
     "name": "stdout",
     "output_type": "stream",
     "text": [
      "train step took 43.9 s\n",
      "train loss = 0.17\n"
     ]
    },
    {
     "name": "stderr",
     "output_type": "stream",
     "text": [
      "Validation 20: 100%|██████████| 15/15 [00:20<00:00,  1.37s/it]\n"
     ]
    },
    {
     "name": "stdout",
     "output_type": "stream",
     "text": [
      "val step took 21.4 s\n",
      "val loss = 0.26\n",
      "[Epoch 20|val]\t21.42 s\t0.2571\n",
      "start training (epoch=21)\n"
     ]
    },
    {
     "name": "stderr",
     "output_type": "stream",
     "text": [
      "Epoch 21: 100%|██████████| 32/32 [00:55<00:00,  1.73s/it]\n"
     ]
    },
    {
     "name": "stdout",
     "output_type": "stream",
     "text": [
      "train step took 56.5 s\n",
      "train loss = 0.18\n"
     ]
    },
    {
     "name": "stderr",
     "output_type": "stream",
     "text": [
      "Validation 21: 100%|██████████| 15/15 [00:28<00:00,  1.91s/it]\n"
     ]
    },
    {
     "name": "stdout",
     "output_type": "stream",
     "text": [
      "val step took 29.6 s\n",
      "val loss = 0.26\n",
      "[Epoch 21|val]\t29.61 s\t0.2612\n",
      "start training (epoch=22)\n"
     ]
    },
    {
     "name": "stderr",
     "output_type": "stream",
     "text": [
      "Epoch 22: 100%|██████████| 32/32 [00:54<00:00,  1.72s/it]\n"
     ]
    },
    {
     "name": "stdout",
     "output_type": "stream",
     "text": [
      "train step took 56.3 s\n",
      "train loss = 0.18\n"
     ]
    },
    {
     "name": "stderr",
     "output_type": "stream",
     "text": [
      "Validation 22: 100%|██████████| 15/15 [00:31<00:00,  2.08s/it]\n"
     ]
    },
    {
     "name": "stdout",
     "output_type": "stream",
     "text": [
      "val step took 32.4 s\n",
      "val loss = 0.26\n",
      "[Epoch 22|val]\t32.38 s\t0.2592\n",
      "start training (epoch=23)\n"
     ]
    },
    {
     "name": "stderr",
     "output_type": "stream",
     "text": [
      "Epoch 23: 100%|██████████| 32/32 [00:55<00:00,  1.74s/it]\n"
     ]
    },
    {
     "name": "stdout",
     "output_type": "stream",
     "text": [
      "train step took 56.7 s\n",
      "train loss = 0.18\n"
     ]
    },
    {
     "name": "stderr",
     "output_type": "stream",
     "text": [
      "Validation 23: 100%|██████████| 15/15 [00:29<00:00,  1.98s/it]\n"
     ]
    },
    {
     "name": "stdout",
     "output_type": "stream",
     "text": [
      "val step took 30.7 s\n",
      "val loss = 0.26\n",
      "[Epoch 23|val]\t30.67 s\t0.2599\n",
      "start training (epoch=24)\n"
     ]
    },
    {
     "name": "stderr",
     "output_type": "stream",
     "text": [
      "Epoch 24: 100%|██████████| 32/32 [00:55<00:00,  1.72s/it]\n"
     ]
    },
    {
     "name": "stdout",
     "output_type": "stream",
     "text": [
      "train step took 56.5 s\n",
      "train loss = 0.18\n"
     ]
    },
    {
     "name": "stderr",
     "output_type": "stream",
     "text": [
      "Validation 24: 100%|██████████| 15/15 [00:32<00:00,  2.19s/it]\n"
     ]
    },
    {
     "name": "stdout",
     "output_type": "stream",
     "text": [
      "val step took 33.6 s\n",
      "val loss = 0.26\n",
      "[Epoch 24|val]\t33.65 s\t0.2596\n",
      "finished\n",
      "python ../train.py --augment --normalize --images-dir \"/home/amritagupta/ssdprivate/data/Streamflow/fpe_stations/Avery Brook_River Left_01171000/FLOW_CFS\" --pairs-file \"/home/amritagupta/ssdprivate/data/Streamflow/Jeff_data/stations/15-Avery Brook_River Left_01171000/input_4275/pairs_1500.csv\" --output-dir \"/home/amritagupta/ssdprivate/repos/fpe-model/results/vary_annot_frac.jeff_data/Avery Brook_River Left_01171000/input_4275/pairs_1500\" --model-dir \"/home/amritagupta/ssdprivate/repos/fpe-model/results/vary_annot_frac.jeff_data/Avery Brook_River Left_01171000/input_4275/pairs_1500\" --gpu 1\n",
      "Namespace(images_dir='/home/amritagupta/ssdprivate/data/Streamflow/fpe_stations/Avery Brook_River Left_01171000/FLOW_CFS', pairs_file='/home/amritagupta/ssdprivate/data/Streamflow/Jeff_data/stations/15-Avery Brook_River Left_01171000/input_4275/pairs_1500.csv', output_dir='/home/amritagupta/ssdprivate/repos/fpe-model/results/vary_annot_frac.jeff_data/Avery Brook_River Left_01171000/input_4275/pairs_1500', model_dir='/home/amritagupta/ssdprivate/repos/fpe-model/results/vary_annot_frac.jeff_data/Avery Brook_River Left_01171000/input_4275/pairs_1500', gpu=1, num_workers=12, local=False, epochs=25, batch_size=64, lr=0.001, random_seed=1691, unfreeze_after=2, num_image_stats=1000, input_size=480, decolorize=False, augment=True, normalize=True)\n",
      "train()\n",
      "args:\n",
      "{'images_dir': '/home/amritagupta/ssdprivate/data/Streamflow/fpe_stations/Avery Brook_River Left_01171000/FLOW_CFS', 'pairs_file': '/home/amritagupta/ssdprivate/data/Streamflow/Jeff_data/stations/15-Avery Brook_River Left_01171000/input_4275/pairs_1500.csv', 'output_dir': '/home/amritagupta/ssdprivate/repos/fpe-model/results/vary_annot_frac.jeff_data/Avery Brook_River Left_01171000/input_4275/pairs_1500', 'model_dir': '/home/amritagupta/ssdprivate/repos/fpe-model/results/vary_annot_frac.jeff_data/Avery Brook_River Left_01171000/input_4275/pairs_1500', 'gpu': 1, 'num_workers': 12, 'local': False, 'epochs': 25, 'batch_size': 64, 'lr': 0.001, 'random_seed': 1691, 'unfreeze_after': 2, 'num_image_stats': 1000, 'input_size': 480, 'decolorize': False, 'augment': True, 'normalize': True}\n",
      "device: cuda:1\n",
      "output_dir: /home/amritagupta/ssdprivate/repos/fpe-model/results/vary_annot_frac.jeff_data/Avery Brook_River Left_01171000/input_4275/pairs_1500\n",
      "saved args: /home/amritagupta/ssdprivate/repos/fpe-model/results/vary_annot_frac.jeff_data/Avery Brook_River Left_01171000/input_4275/pairs_1500/args.json\n",
      "model_dir: /home/amritagupta/ssdprivate/repos/fpe-model/results/vary_annot_frac.jeff_data/Avery Brook_River Left_01171000/input_4275/pairs_1500\n",
      "set seeds (1691)\n"
     ]
    },
    {
     "name": "stderr",
     "output_type": "stream",
     "text": [
      "100%|██████████| 1000/1000 [01:55<00:00,  8.69it/s]\n"
     ]
    },
    {
     "name": "stdout",
     "output_type": "stream",
     "text": [
      "resize_shape: [480, 682]\n",
      "input_shape: [384, 546]\n",
      "creating train dataset\n",
      "creating val datasets\n",
      "val ds: 920\n",
      "creating data loaders\n",
      "initializing model\n",
      "start training\n",
      "start training (epoch=0)\n"
     ]
    },
    {
     "name": "stderr",
     "output_type": "stream",
     "text": [
      "Epoch 0: 100%|██████████| 47/47 [01:30<00:00,  1.93s/it]\n"
     ]
    },
    {
     "name": "stdout",
     "output_type": "stream",
     "text": [
      "train step took 91.4 s\n",
      "train loss = 0.69\n"
     ]
    },
    {
     "name": "stderr",
     "output_type": "stream",
     "text": [
      "Validation 0: 100%|██████████| 15/15 [00:31<00:00,  2.09s/it]\n"
     ]
    },
    {
     "name": "stdout",
     "output_type": "stream",
     "text": [
      "val step took 32.2 s\n",
      "val loss = 0.68\n",
      "[Epoch 0|val]\t32.25 s\t0.6827\n",
      "start training (epoch=1)\n"
     ]
    },
    {
     "name": "stderr",
     "output_type": "stream",
     "text": [
      "Epoch 1: 100%|██████████| 47/47 [01:33<00:00,  1.99s/it]\n"
     ]
    },
    {
     "name": "stdout",
     "output_type": "stream",
     "text": [
      "train step took 94.6 s\n",
      "train loss = 0.68\n"
     ]
    },
    {
     "name": "stderr",
     "output_type": "stream",
     "text": [
      "Validation 1: 100%|██████████| 15/15 [00:28<00:00,  1.89s/it]\n"
     ]
    },
    {
     "name": "stdout",
     "output_type": "stream",
     "text": [
      "val step took 29.3 s\n",
      "val loss = 0.67\n",
      "[Epoch 1|val]\t29.34 s\t0.6667\n",
      "unfreezing cnn body after epoch=1\n",
      "start training (epoch=2)\n"
     ]
    },
    {
     "name": "stderr",
     "output_type": "stream",
     "text": [
      "Epoch 2: 100%|██████████| 47/47 [01:30<00:00,  1.92s/it]\n"
     ]
    },
    {
     "name": "stdout",
     "output_type": "stream",
     "text": [
      "train step took 91.6 s\n",
      "train loss = 0.66\n"
     ]
    },
    {
     "name": "stderr",
     "output_type": "stream",
     "text": [
      "Validation 2: 100%|██████████| 15/15 [00:33<00:00,  2.25s/it]\n"
     ]
    },
    {
     "name": "stdout",
     "output_type": "stream",
     "text": [
      "val step took 34.7 s\n",
      "val loss = 0.63\n",
      "[Epoch 2|val]\t34.69 s\t0.6326\n",
      "start training (epoch=3)\n"
     ]
    },
    {
     "name": "stderr",
     "output_type": "stream",
     "text": [
      "Epoch 3: 100%|██████████| 47/47 [01:25<00:00,  1.81s/it]\n"
     ]
    },
    {
     "name": "stdout",
     "output_type": "stream",
     "text": [
      "train step took 86.1 s\n",
      "train loss = 0.61\n"
     ]
    },
    {
     "name": "stderr",
     "output_type": "stream",
     "text": [
      "Validation 3: 100%|██████████| 15/15 [00:35<00:00,  2.38s/it]\n"
     ]
    },
    {
     "name": "stdout",
     "output_type": "stream",
     "text": [
      "val step took 36.8 s\n",
      "val loss = 0.55\n",
      "[Epoch 3|val]\t36.79 s\t0.5488\n",
      "start training (epoch=4)\n"
     ]
    },
    {
     "name": "stderr",
     "output_type": "stream",
     "text": [
      "Epoch 4: 100%|██████████| 47/47 [01:22<00:00,  1.76s/it]\n"
     ]
    },
    {
     "name": "stdout",
     "output_type": "stream",
     "text": [
      "train step took 84.1 s\n",
      "train loss = 0.51\n"
     ]
    },
    {
     "name": "stderr",
     "output_type": "stream",
     "text": [
      "Validation 4: 100%|██████████| 15/15 [00:34<00:00,  2.29s/it]\n"
     ]
    },
    {
     "name": "stdout",
     "output_type": "stream",
     "text": [
      "val step took 35.3 s\n",
      "val loss = 0.41\n",
      "[Epoch 4|val]\t35.26 s\t0.4072\n",
      "start training (epoch=5)\n"
     ]
    },
    {
     "name": "stderr",
     "output_type": "stream",
     "text": [
      "Epoch 5: 100%|██████████| 47/47 [01:16<00:00,  1.63s/it]\n"
     ]
    },
    {
     "name": "stdout",
     "output_type": "stream",
     "text": [
      "train step took 78.1 s\n",
      "train loss = 0.38\n"
     ]
    },
    {
     "name": "stderr",
     "output_type": "stream",
     "text": [
      "Validation 5: 100%|██████████| 15/15 [00:30<00:00,  2.03s/it]\n"
     ]
    },
    {
     "name": "stdout",
     "output_type": "stream",
     "text": [
      "val step took 31.8 s\n",
      "val loss = 0.32\n",
      "[Epoch 5|val]\t31.81 s\t0.3178\n",
      "start training (epoch=6)\n"
     ]
    },
    {
     "name": "stderr",
     "output_type": "stream",
     "text": [
      "Epoch 6: 100%|██████████| 47/47 [01:19<00:00,  1.70s/it]\n"
     ]
    },
    {
     "name": "stdout",
     "output_type": "stream",
     "text": [
      "train step took 80.7 s\n",
      "train loss = 0.32\n"
     ]
    },
    {
     "name": "stderr",
     "output_type": "stream",
     "text": [
      "Validation 6: 100%|██████████| 15/15 [00:26<00:00,  1.80s/it]\n"
     ]
    },
    {
     "name": "stdout",
     "output_type": "stream",
     "text": [
      "val step took 28.4 s\n",
      "val loss = 0.28\n",
      "[Epoch 6|val]\t28.41 s\t0.2850\n",
      "start training (epoch=7)\n"
     ]
    },
    {
     "name": "stderr",
     "output_type": "stream",
     "text": [
      "Epoch 7: 100%|██████████| 47/47 [01:23<00:00,  1.78s/it]\n"
     ]
    },
    {
     "name": "stdout",
     "output_type": "stream",
     "text": [
      "train step took 84.5 s\n",
      "train loss = 0.28\n"
     ]
    },
    {
     "name": "stderr",
     "output_type": "stream",
     "text": [
      "Validation 7: 100%|██████████| 15/15 [00:27<00:00,  1.82s/it]\n"
     ]
    },
    {
     "name": "stdout",
     "output_type": "stream",
     "text": [
      "val step took 28.4 s\n",
      "val loss = 0.26\n",
      "[Epoch 7|val]\t28.37 s\t0.2584\n",
      "start training (epoch=8)\n"
     ]
    },
    {
     "name": "stderr",
     "output_type": "stream",
     "text": [
      "Epoch 8: 100%|██████████| 47/47 [01:23<00:00,  1.78s/it]\n"
     ]
    },
    {
     "name": "stdout",
     "output_type": "stream",
     "text": [
      "train step took 85.4 s\n",
      "train loss = 0.24\n"
     ]
    },
    {
     "name": "stderr",
     "output_type": "stream",
     "text": [
      "Validation 8: 100%|██████████| 15/15 [00:29<00:00,  1.99s/it]\n"
     ]
    },
    {
     "name": "stdout",
     "output_type": "stream",
     "text": [
      "val step took 30.8 s\n",
      "val loss = 0.25\n",
      "[Epoch 8|val]\t30.81 s\t0.2459\n",
      "start training (epoch=9)\n"
     ]
    },
    {
     "name": "stderr",
     "output_type": "stream",
     "text": [
      "Epoch 9: 100%|██████████| 47/47 [01:12<00:00,  1.54s/it]\n"
     ]
    },
    {
     "name": "stdout",
     "output_type": "stream",
     "text": [
      "train step took 73.6 s\n",
      "train loss = 0.24\n"
     ]
    },
    {
     "name": "stderr",
     "output_type": "stream",
     "text": [
      "Validation 9: 100%|██████████| 15/15 [00:19<00:00,  1.27s/it]\n"
     ]
    },
    {
     "name": "stdout",
     "output_type": "stream",
     "text": [
      "val step took 19.9 s\n",
      "val loss = 0.24\n",
      "[Epoch 9|val]\t19.87 s\t0.2416\n",
      "start training (epoch=10)\n"
     ]
    },
    {
     "name": "stderr",
     "output_type": "stream",
     "text": [
      "Epoch 10: 100%|██████████| 47/47 [01:00<00:00,  1.29s/it]\n"
     ]
    },
    {
     "name": "stdout",
     "output_type": "stream",
     "text": [
      "train step took 61.9 s\n",
      "train loss = 0.23\n"
     ]
    },
    {
     "name": "stderr",
     "output_type": "stream",
     "text": [
      "Validation 10: 100%|██████████| 15/15 [00:20<00:00,  1.36s/it]\n"
     ]
    },
    {
     "name": "stdout",
     "output_type": "stream",
     "text": [
      "val step took 21.2 s\n",
      "val loss = 0.24\n",
      "[Epoch 10|val]\t21.22 s\t0.2367\n",
      "start training (epoch=11)\n"
     ]
    },
    {
     "name": "stderr",
     "output_type": "stream",
     "text": [
      "Epoch 11: 100%|██████████| 47/47 [01:39<00:00,  2.12s/it]\n"
     ]
    },
    {
     "name": "stdout",
     "output_type": "stream",
     "text": [
      "train step took 100.9 s\n",
      "train loss = 0.22\n"
     ]
    },
    {
     "name": "stderr",
     "output_type": "stream",
     "text": [
      "Validation 11: 100%|██████████| 15/15 [00:23<00:00,  1.58s/it]\n"
     ]
    },
    {
     "name": "stdout",
     "output_type": "stream",
     "text": [
      "val step took 24.6 s\n",
      "val loss = 0.24\n",
      "[Epoch 11|val]\t24.65 s\t0.2443\n",
      "start training (epoch=12)\n"
     ]
    },
    {
     "name": "stderr",
     "output_type": "stream",
     "text": [
      "Epoch 12: 100%|██████████| 47/47 [01:34<00:00,  2.01s/it]\n"
     ]
    },
    {
     "name": "stdout",
     "output_type": "stream",
     "text": [
      "train step took 95.4 s\n",
      "train loss = 0.21\n"
     ]
    },
    {
     "name": "stderr",
     "output_type": "stream",
     "text": [
      "Validation 12: 100%|██████████| 15/15 [00:30<00:00,  2.01s/it]\n"
     ]
    },
    {
     "name": "stdout",
     "output_type": "stream",
     "text": [
      "val step took 31.1 s\n",
      "val loss = 0.25\n",
      "[Epoch 12|val]\t31.10 s\t0.2480\n",
      "start training (epoch=13)\n"
     ]
    },
    {
     "name": "stderr",
     "output_type": "stream",
     "text": [
      "Epoch 13: 100%|██████████| 47/47 [01:30<00:00,  1.92s/it]\n"
     ]
    },
    {
     "name": "stdout",
     "output_type": "stream",
     "text": [
      "train step took 91.0 s\n",
      "train loss = 0.21\n"
     ]
    },
    {
     "name": "stderr",
     "output_type": "stream",
     "text": [
      "Validation 13: 100%|██████████| 15/15 [00:29<00:00,  1.95s/it]\n"
     ]
    },
    {
     "name": "stdout",
     "output_type": "stream",
     "text": [
      "val step took 30.4 s\n",
      "val loss = 0.24\n",
      "[Epoch 13|val]\t30.43 s\t0.2368\n",
      "start training (epoch=14)\n"
     ]
    },
    {
     "name": "stderr",
     "output_type": "stream",
     "text": [
      "Epoch 14: 100%|██████████| 47/47 [01:33<00:00,  1.99s/it]\n"
     ]
    },
    {
     "name": "stdout",
     "output_type": "stream",
     "text": [
      "train step took 94.8 s\n",
      "train loss = 0.20\n"
     ]
    },
    {
     "name": "stderr",
     "output_type": "stream",
     "text": [
      "Validation 14: 100%|██████████| 15/15 [00:27<00:00,  1.82s/it]\n"
     ]
    },
    {
     "name": "stdout",
     "output_type": "stream",
     "text": [
      "val step took 28.1 s\n",
      "val loss = 0.23\n",
      "[Epoch 14|val]\t28.12 s\t0.2335\n",
      "start training (epoch=15)\n"
     ]
    },
    {
     "name": "stderr",
     "output_type": "stream",
     "text": [
      "Epoch 15: 100%|██████████| 47/47 [01:38<00:00,  2.09s/it]\n"
     ]
    },
    {
     "name": "stdout",
     "output_type": "stream",
     "text": [
      "train step took 99.2 s\n",
      "train loss = 0.20\n"
     ]
    },
    {
     "name": "stderr",
     "output_type": "stream",
     "text": [
      "Validation 15: 100%|██████████| 15/15 [00:31<00:00,  2.10s/it]\n"
     ]
    },
    {
     "name": "stdout",
     "output_type": "stream",
     "text": [
      "val step took 32.5 s\n",
      "val loss = 0.24\n",
      "[Epoch 15|val]\t32.47 s\t0.2368\n",
      "start training (epoch=16)\n"
     ]
    },
    {
     "name": "stderr",
     "output_type": "stream",
     "text": [
      "Epoch 16: 100%|██████████| 47/47 [01:18<00:00,  1.68s/it]\n"
     ]
    },
    {
     "name": "stdout",
     "output_type": "stream",
     "text": [
      "train step took 80.1 s\n",
      "train loss = 0.19\n"
     ]
    },
    {
     "name": "stderr",
     "output_type": "stream",
     "text": [
      "Validation 16: 100%|██████████| 15/15 [00:30<00:00,  2.02s/it]\n"
     ]
    },
    {
     "name": "stdout",
     "output_type": "stream",
     "text": [
      "val step took 31.6 s\n",
      "val loss = 0.24\n",
      "[Epoch 16|val]\t31.59 s\t0.2378\n",
      "start training (epoch=17)\n"
     ]
    },
    {
     "name": "stderr",
     "output_type": "stream",
     "text": [
      "Epoch 17: 100%|██████████| 47/47 [01:17<00:00,  1.65s/it]\n"
     ]
    },
    {
     "name": "stdout",
     "output_type": "stream",
     "text": [
      "train step took 79.2 s\n",
      "train loss = 0.20\n"
     ]
    },
    {
     "name": "stderr",
     "output_type": "stream",
     "text": [
      "Validation 17: 100%|██████████| 15/15 [00:31<00:00,  2.09s/it]\n"
     ]
    },
    {
     "name": "stdout",
     "output_type": "stream",
     "text": [
      "val step took 32.5 s\n",
      "val loss = 0.24\n",
      "[Epoch 17|val]\t32.53 s\t0.2374\n",
      "start training (epoch=18)\n"
     ]
    },
    {
     "name": "stderr",
     "output_type": "stream",
     "text": [
      "Epoch 18: 100%|██████████| 47/47 [01:07<00:00,  1.45s/it]\n"
     ]
    },
    {
     "name": "stdout",
     "output_type": "stream",
     "text": [
      "train step took 69.1 s\n",
      "train loss = 0.18\n"
     ]
    },
    {
     "name": "stderr",
     "output_type": "stream",
     "text": [
      "Validation 18: 100%|██████████| 15/15 [00:20<00:00,  1.39s/it]\n"
     ]
    },
    {
     "name": "stdout",
     "output_type": "stream",
     "text": [
      "val step took 21.7 s\n",
      "val loss = 0.23\n",
      "[Epoch 18|val]\t21.68 s\t0.2340\n",
      "start training (epoch=19)\n"
     ]
    },
    {
     "name": "stderr",
     "output_type": "stream",
     "text": [
      "Epoch 19: 100%|██████████| 47/47 [00:55<00:00,  1.19s/it]\n"
     ]
    },
    {
     "name": "stdout",
     "output_type": "stream",
     "text": [
      "train step took 56.5 s\n",
      "train loss = 0.18\n"
     ]
    },
    {
     "name": "stderr",
     "output_type": "stream",
     "text": [
      "Validation 19: 100%|██████████| 15/15 [00:23<00:00,  1.59s/it]\n"
     ]
    },
    {
     "name": "stdout",
     "output_type": "stream",
     "text": [
      "val step took 24.9 s\n",
      "val loss = 0.23\n",
      "[Epoch 19|val]\t24.87 s\t0.2316\n",
      "start training (epoch=20)\n"
     ]
    },
    {
     "name": "stderr",
     "output_type": "stream",
     "text": [
      "Epoch 20: 100%|██████████| 47/47 [01:32<00:00,  1.97s/it]\n"
     ]
    },
    {
     "name": "stdout",
     "output_type": "stream",
     "text": [
      "train step took 93.8 s\n",
      "train loss = 0.19\n"
     ]
    },
    {
     "name": "stderr",
     "output_type": "stream",
     "text": [
      "Validation 20: 100%|██████████| 15/15 [00:24<00:00,  1.66s/it]\n"
     ]
    },
    {
     "name": "stdout",
     "output_type": "stream",
     "text": [
      "val step took 26.0 s\n",
      "val loss = 0.23\n",
      "[Epoch 20|val]\t25.97 s\t0.2324\n",
      "start training (epoch=21)\n"
     ]
    },
    {
     "name": "stderr",
     "output_type": "stream",
     "text": [
      "Epoch 21: 100%|██████████| 47/47 [01:39<00:00,  2.11s/it]\n"
     ]
    },
    {
     "name": "stdout",
     "output_type": "stream",
     "text": [
      "train step took 100.5 s\n",
      "train loss = 0.18\n"
     ]
    },
    {
     "name": "stderr",
     "output_type": "stream",
     "text": [
      "Validation 21: 100%|██████████| 15/15 [00:32<00:00,  2.15s/it]\n"
     ]
    },
    {
     "name": "stdout",
     "output_type": "stream",
     "text": [
      "val step took 33.6 s\n",
      "val loss = 0.23\n",
      "[Epoch 21|val]\t33.59 s\t0.2321\n",
      "start training (epoch=22)\n"
     ]
    },
    {
     "name": "stderr",
     "output_type": "stream",
     "text": [
      "Epoch 22: 100%|██████████| 47/47 [01:34<00:00,  2.02s/it]\n"
     ]
    },
    {
     "name": "stdout",
     "output_type": "stream",
     "text": [
      "train step took 95.8 s\n",
      "train loss = 0.19\n"
     ]
    },
    {
     "name": "stderr",
     "output_type": "stream",
     "text": [
      "Validation 22: 100%|██████████| 15/15 [00:30<00:00,  2.07s/it]\n"
     ]
    },
    {
     "name": "stdout",
     "output_type": "stream",
     "text": [
      "val step took 32.4 s\n",
      "val loss = 0.23\n",
      "[Epoch 22|val]\t32.38 s\t0.2328\n",
      "start training (epoch=23)\n"
     ]
    },
    {
     "name": "stderr",
     "output_type": "stream",
     "text": [
      "Epoch 23: 100%|██████████| 47/47 [01:21<00:00,  1.74s/it]\n"
     ]
    },
    {
     "name": "stdout",
     "output_type": "stream",
     "text": [
      "train step took 83.0 s\n",
      "train loss = 0.19\n"
     ]
    },
    {
     "name": "stderr",
     "output_type": "stream",
     "text": [
      "Validation 23: 100%|██████████| 15/15 [00:38<00:00,  2.54s/it]\n"
     ]
    },
    {
     "name": "stdout",
     "output_type": "stream",
     "text": [
      "val step took 39.4 s\n",
      "val loss = 0.23\n",
      "[Epoch 23|val]\t39.38 s\t0.2329\n",
      "start training (epoch=24)\n"
     ]
    },
    {
     "name": "stderr",
     "output_type": "stream",
     "text": [
      "Epoch 24: 100%|██████████| 47/47 [01:27<00:00,  1.86s/it]\n"
     ]
    },
    {
     "name": "stdout",
     "output_type": "stream",
     "text": [
      "train step took 88.8 s\n",
      "train loss = 0.18\n"
     ]
    },
    {
     "name": "stderr",
     "output_type": "stream",
     "text": [
      "Validation 24: 100%|██████████| 15/15 [00:30<00:00,  2.00s/it]\n"
     ]
    },
    {
     "name": "stdout",
     "output_type": "stream",
     "text": [
      "val step took 30.8 s\n",
      "val loss = 0.23\n",
      "[Epoch 24|val]\t30.85 s\t0.2334\n",
      "finished\n",
      "python ../train.py --augment --normalize --images-dir \"/home/amritagupta/ssdprivate/data/Streamflow/fpe_stations/West Brook Reservoir_01171020/FLOW_CFS\" --pairs-file \"/home/amritagupta/ssdprivate/data/Streamflow/Jeff_data/stations/16-West Brook Reservoir_01171020/input_4275/pairs_500.csv\" --output-dir \"/home/amritagupta/ssdprivate/repos/fpe-model/results/vary_annot_frac.jeff_data/West Brook Reservoir_01171020/input_4275/pairs_500\" --model-dir \"/home/amritagupta/ssdprivate/repos/fpe-model/results/vary_annot_frac.jeff_data/West Brook Reservoir_01171020/input_4275/pairs_500\" --gpu 1\n",
      "Namespace(images_dir='/home/amritagupta/ssdprivate/data/Streamflow/fpe_stations/West Brook Reservoir_01171020/FLOW_CFS', pairs_file='/home/amritagupta/ssdprivate/data/Streamflow/Jeff_data/stations/16-West Brook Reservoir_01171020/input_4275/pairs_500.csv', output_dir='/home/amritagupta/ssdprivate/repos/fpe-model/results/vary_annot_frac.jeff_data/West Brook Reservoir_01171020/input_4275/pairs_500', model_dir='/home/amritagupta/ssdprivate/repos/fpe-model/results/vary_annot_frac.jeff_data/West Brook Reservoir_01171020/input_4275/pairs_500', gpu=1, num_workers=12, local=False, epochs=25, batch_size=64, lr=0.001, random_seed=1691, unfreeze_after=2, num_image_stats=1000, input_size=480, decolorize=False, augment=True, normalize=True)\n",
      "train()\n",
      "args:\n",
      "{'images_dir': '/home/amritagupta/ssdprivate/data/Streamflow/fpe_stations/West Brook Reservoir_01171020/FLOW_CFS', 'pairs_file': '/home/amritagupta/ssdprivate/data/Streamflow/Jeff_data/stations/16-West Brook Reservoir_01171020/input_4275/pairs_500.csv', 'output_dir': '/home/amritagupta/ssdprivate/repos/fpe-model/results/vary_annot_frac.jeff_data/West Brook Reservoir_01171020/input_4275/pairs_500', 'model_dir': '/home/amritagupta/ssdprivate/repos/fpe-model/results/vary_annot_frac.jeff_data/West Brook Reservoir_01171020/input_4275/pairs_500', 'gpu': 1, 'num_workers': 12, 'local': False, 'epochs': 25, 'batch_size': 64, 'lr': 0.001, 'random_seed': 1691, 'unfreeze_after': 2, 'num_image_stats': 1000, 'input_size': 480, 'decolorize': False, 'augment': True, 'normalize': True}\n",
      "device: cuda:1\n",
      "output_dir: /home/amritagupta/ssdprivate/repos/fpe-model/results/vary_annot_frac.jeff_data/West Brook Reservoir_01171020/input_4275/pairs_500\n",
      "saved args: /home/amritagupta/ssdprivate/repos/fpe-model/results/vary_annot_frac.jeff_data/West Brook Reservoir_01171020/input_4275/pairs_500/args.json\n",
      "model_dir: /home/amritagupta/ssdprivate/repos/fpe-model/results/vary_annot_frac.jeff_data/West Brook Reservoir_01171020/input_4275/pairs_500\n",
      "set seeds (1691)\n"
     ]
    },
    {
     "name": "stderr",
     "output_type": "stream",
     "text": [
      "100%|██████████| 991/991 [01:51<00:00,  8.92it/s]\n"
     ]
    },
    {
     "name": "stdout",
     "output_type": "stream",
     "text": [
      "resize_shape: [480, 682]\n",
      "input_shape: [384, 546]\n",
      "creating train dataset\n",
      "creating val datasets\n",
      "val ds: 926\n",
      "creating data loaders\n",
      "initializing model\n",
      "start training\n",
      "start training (epoch=0)\n"
     ]
    },
    {
     "name": "stderr",
     "output_type": "stream",
     "text": [
      "Epoch 0: 100%|██████████| 16/16 [00:41<00:00,  2.58s/it]\n"
     ]
    },
    {
     "name": "stdout",
     "output_type": "stream",
     "text": [
      "train step took 42.3 s\n",
      "train loss = 0.69\n"
     ]
    },
    {
     "name": "stderr",
     "output_type": "stream",
     "text": [
      "Validation 0: 100%|██████████| 15/15 [00:28<00:00,  1.90s/it]\n"
     ]
    },
    {
     "name": "stdout",
     "output_type": "stream",
     "text": [
      "val step took 30.2 s\n",
      "val loss = 0.68\n",
      "[Epoch 0|val]\t30.21 s\t0.6813\n",
      "start training (epoch=1)\n"
     ]
    },
    {
     "name": "stderr",
     "output_type": "stream",
     "text": [
      "Epoch 1: 100%|██████████| 16/16 [00:44<00:00,  2.80s/it]\n"
     ]
    },
    {
     "name": "stdout",
     "output_type": "stream",
     "text": [
      "train step took 46.1 s\n",
      "train loss = 0.68\n"
     ]
    },
    {
     "name": "stderr",
     "output_type": "stream",
     "text": [
      "Validation 1: 100%|██████████| 15/15 [00:26<00:00,  1.77s/it]\n"
     ]
    },
    {
     "name": "stdout",
     "output_type": "stream",
     "text": [
      "val step took 28.2 s\n",
      "val loss = 0.67\n",
      "[Epoch 1|val]\t28.17 s\t0.6717\n",
      "unfreezing cnn body after epoch=1\n",
      "start training (epoch=2)\n"
     ]
    },
    {
     "name": "stderr",
     "output_type": "stream",
     "text": [
      "Epoch 2: 100%|██████████| 16/16 [00:42<00:00,  2.63s/it]\n"
     ]
    },
    {
     "name": "stdout",
     "output_type": "stream",
     "text": [
      "train step took 43.1 s\n",
      "train loss = 0.67\n"
     ]
    },
    {
     "name": "stderr",
     "output_type": "stream",
     "text": [
      "Validation 2: 100%|██████████| 15/15 [00:22<00:00,  1.52s/it]\n"
     ]
    },
    {
     "name": "stdout",
     "output_type": "stream",
     "text": [
      "val step took 24.1 s\n",
      "val loss = 0.66\n",
      "[Epoch 2|val]\t24.10 s\t0.6630\n",
      "start training (epoch=3)\n"
     ]
    },
    {
     "name": "stderr",
     "output_type": "stream",
     "text": [
      "Epoch 3: 100%|██████████| 16/16 [00:36<00:00,  2.28s/it]\n"
     ]
    },
    {
     "name": "stdout",
     "output_type": "stream",
     "text": [
      "train step took 37.8 s\n",
      "train loss = 0.66\n"
     ]
    },
    {
     "name": "stderr",
     "output_type": "stream",
     "text": [
      "Validation 3: 100%|██████████| 15/15 [00:35<00:00,  2.36s/it]\n"
     ]
    },
    {
     "name": "stdout",
     "output_type": "stream",
     "text": [
      "val step took 37.1 s\n",
      "val loss = 0.65\n",
      "[Epoch 3|val]\t37.08 s\t0.6470\n",
      "start training (epoch=4)\n"
     ]
    },
    {
     "name": "stderr",
     "output_type": "stream",
     "text": [
      "Epoch 4: 100%|██████████| 16/16 [00:37<00:00,  2.32s/it]\n"
     ]
    },
    {
     "name": "stdout",
     "output_type": "stream",
     "text": [
      "train step took 39.1 s\n",
      "train loss = 0.64\n"
     ]
    },
    {
     "name": "stderr",
     "output_type": "stream",
     "text": [
      "Validation 4: 100%|██████████| 15/15 [00:23<00:00,  1.58s/it]\n"
     ]
    },
    {
     "name": "stdout",
     "output_type": "stream",
     "text": [
      "val step took 24.9 s\n",
      "val loss = 0.63\n",
      "[Epoch 4|val]\t24.92 s\t0.6259\n",
      "start training (epoch=5)\n"
     ]
    },
    {
     "name": "stderr",
     "output_type": "stream",
     "text": [
      "Epoch 5: 100%|██████████| 16/16 [00:33<00:00,  2.08s/it]\n"
     ]
    },
    {
     "name": "stdout",
     "output_type": "stream",
     "text": [
      "train step took 34.6 s\n",
      "train loss = 0.62\n"
     ]
    },
    {
     "name": "stderr",
     "output_type": "stream",
     "text": [
      "Validation 5: 100%|██████████| 15/15 [00:30<00:00,  2.00s/it]\n"
     ]
    },
    {
     "name": "stdout",
     "output_type": "stream",
     "text": [
      "val step took 31.0 s\n",
      "val loss = 0.60\n",
      "[Epoch 5|val]\t30.95 s\t0.5978\n",
      "start training (epoch=6)\n"
     ]
    },
    {
     "name": "stderr",
     "output_type": "stream",
     "text": [
      "Epoch 6: 100%|██████████| 16/16 [00:48<00:00,  3.06s/it]\n"
     ]
    },
    {
     "name": "stdout",
     "output_type": "stream",
     "text": [
      "train step took 50.9 s\n",
      "train loss = 0.58\n"
     ]
    },
    {
     "name": "stderr",
     "output_type": "stream",
     "text": [
      "Validation 6: 100%|██████████| 15/15 [00:31<00:00,  2.11s/it]\n"
     ]
    },
    {
     "name": "stdout",
     "output_type": "stream",
     "text": [
      "val step took 32.8 s\n",
      "val loss = 0.56\n",
      "[Epoch 6|val]\t32.80 s\t0.5618\n",
      "start training (epoch=7)\n"
     ]
    },
    {
     "name": "stderr",
     "output_type": "stream",
     "text": [
      "Epoch 7: 100%|██████████| 16/16 [00:35<00:00,  2.24s/it]\n"
     ]
    },
    {
     "name": "stdout",
     "output_type": "stream",
     "text": [
      "train step took 36.9 s\n",
      "train loss = 0.54\n"
     ]
    },
    {
     "name": "stderr",
     "output_type": "stream",
     "text": [
      "Validation 7: 100%|██████████| 15/15 [00:23<00:00,  1.57s/it]\n"
     ]
    },
    {
     "name": "stdout",
     "output_type": "stream",
     "text": [
      "val step took 24.4 s\n",
      "val loss = 0.52\n",
      "[Epoch 7|val]\t24.38 s\t0.5177\n",
      "start training (epoch=8)\n"
     ]
    },
    {
     "name": "stderr",
     "output_type": "stream",
     "text": [
      "Epoch 8: 100%|██████████| 16/16 [00:48<00:00,  3.04s/it]\n"
     ]
    },
    {
     "name": "stdout",
     "output_type": "stream",
     "text": [
      "train step took 50.3 s\n",
      "train loss = 0.49\n"
     ]
    },
    {
     "name": "stderr",
     "output_type": "stream",
     "text": [
      "Validation 8: 100%|██████████| 15/15 [00:26<00:00,  1.75s/it]\n"
     ]
    },
    {
     "name": "stdout",
     "output_type": "stream",
     "text": [
      "val step took 27.6 s\n",
      "val loss = 0.47\n",
      "[Epoch 8|val]\t27.61 s\t0.4680\n",
      "start training (epoch=9)\n"
     ]
    },
    {
     "name": "stderr",
     "output_type": "stream",
     "text": [
      "Epoch 9: 100%|██████████| 16/16 [00:39<00:00,  2.48s/it]\n"
     ]
    },
    {
     "name": "stdout",
     "output_type": "stream",
     "text": [
      "train step took 41.1 s\n",
      "train loss = 0.44\n"
     ]
    },
    {
     "name": "stderr",
     "output_type": "stream",
     "text": [
      "Validation 9: 100%|██████████| 15/15 [00:22<00:00,  1.49s/it]\n"
     ]
    },
    {
     "name": "stdout",
     "output_type": "stream",
     "text": [
      "val step took 23.3 s\n",
      "val loss = 0.42\n",
      "[Epoch 9|val]\t23.27 s\t0.4218\n",
      "start training (epoch=10)\n"
     ]
    },
    {
     "name": "stderr",
     "output_type": "stream",
     "text": [
      "Epoch 10: 100%|██████████| 16/16 [00:43<00:00,  2.74s/it]\n"
     ]
    },
    {
     "name": "stdout",
     "output_type": "stream",
     "text": [
      "train step took 45.2 s\n",
      "train loss = 0.39\n"
     ]
    },
    {
     "name": "stderr",
     "output_type": "stream",
     "text": [
      "Validation 10: 100%|██████████| 15/15 [00:31<00:00,  2.11s/it]\n"
     ]
    },
    {
     "name": "stdout",
     "output_type": "stream",
     "text": [
      "val step took 33.3 s\n",
      "val loss = 0.38\n",
      "[Epoch 10|val]\t33.34 s\t0.3833\n",
      "start training (epoch=11)\n"
     ]
    },
    {
     "name": "stderr",
     "output_type": "stream",
     "text": [
      "Epoch 11: 100%|██████████| 16/16 [00:39<00:00,  2.46s/it]\n"
     ]
    },
    {
     "name": "stdout",
     "output_type": "stream",
     "text": [
      "train step took 40.3 s\n",
      "train loss = 0.35\n"
     ]
    },
    {
     "name": "stderr",
     "output_type": "stream",
     "text": [
      "Validation 11: 100%|██████████| 15/15 [00:29<00:00,  1.96s/it]\n"
     ]
    },
    {
     "name": "stdout",
     "output_type": "stream",
     "text": [
      "val step took 30.5 s\n",
      "val loss = 0.35\n",
      "[Epoch 11|val]\t30.54 s\t0.3545\n",
      "start training (epoch=12)\n"
     ]
    },
    {
     "name": "stderr",
     "output_type": "stream",
     "text": [
      "Epoch 12: 100%|██████████| 16/16 [00:38<00:00,  2.42s/it]\n"
     ]
    },
    {
     "name": "stdout",
     "output_type": "stream",
     "text": [
      "train step took 40.3 s\n",
      "train loss = 0.32\n"
     ]
    },
    {
     "name": "stderr",
     "output_type": "stream",
     "text": [
      "Validation 12: 100%|██████████| 15/15 [00:29<00:00,  1.95s/it]\n"
     ]
    },
    {
     "name": "stdout",
     "output_type": "stream",
     "text": [
      "val step took 30.9 s\n",
      "val loss = 0.33\n",
      "[Epoch 12|val]\t30.90 s\t0.3334\n",
      "start training (epoch=13)\n"
     ]
    },
    {
     "name": "stderr",
     "output_type": "stream",
     "text": [
      "Epoch 13: 100%|██████████| 16/16 [00:34<00:00,  2.17s/it]\n"
     ]
    },
    {
     "name": "stdout",
     "output_type": "stream",
     "text": [
      "train step took 36.0 s\n",
      "train loss = 0.29\n"
     ]
    },
    {
     "name": "stderr",
     "output_type": "stream",
     "text": [
      "Validation 13: 100%|██████████| 15/15 [00:32<00:00,  2.17s/it]\n"
     ]
    },
    {
     "name": "stdout",
     "output_type": "stream",
     "text": [
      "val step took 34.2 s\n",
      "val loss = 0.31\n",
      "[Epoch 13|val]\t34.21 s\t0.3143\n",
      "start training (epoch=14)\n"
     ]
    },
    {
     "name": "stderr",
     "output_type": "stream",
     "text": [
      "Epoch 14: 100%|██████████| 16/16 [00:44<00:00,  2.79s/it]\n"
     ]
    },
    {
     "name": "stdout",
     "output_type": "stream",
     "text": [
      "train step took 46.5 s\n",
      "train loss = 0.28\n"
     ]
    },
    {
     "name": "stderr",
     "output_type": "stream",
     "text": [
      "Validation 14: 100%|██████████| 15/15 [00:22<00:00,  1.53s/it]\n"
     ]
    },
    {
     "name": "stdout",
     "output_type": "stream",
     "text": [
      "val step took 23.9 s\n",
      "val loss = 0.30\n",
      "[Epoch 14|val]\t23.89 s\t0.3025\n",
      "start training (epoch=15)\n"
     ]
    },
    {
     "name": "stderr",
     "output_type": "stream",
     "text": [
      "Epoch 15: 100%|██████████| 16/16 [00:38<00:00,  2.38s/it]\n"
     ]
    },
    {
     "name": "stdout",
     "output_type": "stream",
     "text": [
      "train step took 39.2 s\n",
      "train loss = 0.27\n"
     ]
    },
    {
     "name": "stderr",
     "output_type": "stream",
     "text": [
      "Validation 15: 100%|██████████| 15/15 [00:26<00:00,  1.76s/it]\n"
     ]
    },
    {
     "name": "stdout",
     "output_type": "stream",
     "text": [
      "val step took 27.4 s\n",
      "val loss = 0.29\n",
      "[Epoch 15|val]\t27.41 s\t0.2932\n",
      "start training (epoch=16)\n"
     ]
    },
    {
     "name": "stderr",
     "output_type": "stream",
     "text": [
      "Epoch 16: 100%|██████████| 16/16 [00:49<00:00,  3.08s/it]\n"
     ]
    },
    {
     "name": "stdout",
     "output_type": "stream",
     "text": [
      "train step took 51.1 s\n",
      "train loss = 0.25\n"
     ]
    },
    {
     "name": "stderr",
     "output_type": "stream",
     "text": [
      "Validation 16: 100%|██████████| 15/15 [00:26<00:00,  1.79s/it]\n"
     ]
    },
    {
     "name": "stdout",
     "output_type": "stream",
     "text": [
      "val step took 28.8 s\n",
      "val loss = 0.28\n",
      "[Epoch 16|val]\t28.77 s\t0.2844\n",
      "start training (epoch=17)\n"
     ]
    },
    {
     "name": "stderr",
     "output_type": "stream",
     "text": [
      "Epoch 17: 100%|██████████| 16/16 [00:37<00:00,  2.37s/it]\n"
     ]
    },
    {
     "name": "stdout",
     "output_type": "stream",
     "text": [
      "train step took 38.9 s\n",
      "train loss = 0.23\n"
     ]
    },
    {
     "name": "stderr",
     "output_type": "stream",
     "text": [
      "Validation 17: 100%|██████████| 15/15 [00:32<00:00,  2.19s/it]\n"
     ]
    },
    {
     "name": "stdout",
     "output_type": "stream",
     "text": [
      "val step took 34.0 s\n",
      "val loss = 0.28\n",
      "[Epoch 17|val]\t33.99 s\t0.2787\n",
      "start training (epoch=18)\n"
     ]
    },
    {
     "name": "stderr",
     "output_type": "stream",
     "text": [
      "Epoch 18: 100%|██████████| 16/16 [00:44<00:00,  2.81s/it]\n"
     ]
    },
    {
     "name": "stdout",
     "output_type": "stream",
     "text": [
      "train step took 46.1 s\n",
      "train loss = 0.23\n"
     ]
    },
    {
     "name": "stderr",
     "output_type": "stream",
     "text": [
      "Validation 18: 100%|██████████| 15/15 [00:27<00:00,  1.83s/it]\n"
     ]
    },
    {
     "name": "stdout",
     "output_type": "stream",
     "text": [
      "val step took 29.0 s\n",
      "val loss = 0.27\n",
      "[Epoch 18|val]\t29.01 s\t0.2726\n",
      "start training (epoch=19)\n"
     ]
    },
    {
     "name": "stderr",
     "output_type": "stream",
     "text": [
      "Epoch 19: 100%|██████████| 16/16 [00:30<00:00,  1.89s/it]\n"
     ]
    },
    {
     "name": "stdout",
     "output_type": "stream",
     "text": [
      "train step took 31.6 s\n",
      "train loss = 0.22\n"
     ]
    },
    {
     "name": "stderr",
     "output_type": "stream",
     "text": [
      "Validation 19: 100%|██████████| 15/15 [00:27<00:00,  1.85s/it]\n"
     ]
    },
    {
     "name": "stdout",
     "output_type": "stream",
     "text": [
      "val step took 28.6 s\n",
      "val loss = 0.27\n",
      "[Epoch 19|val]\t28.57 s\t0.2666\n",
      "start training (epoch=20)\n"
     ]
    },
    {
     "name": "stderr",
     "output_type": "stream",
     "text": [
      "Epoch 20: 100%|██████████| 16/16 [00:38<00:00,  2.42s/it]\n"
     ]
    },
    {
     "name": "stdout",
     "output_type": "stream",
     "text": [
      "train step took 40.7 s\n",
      "train loss = 0.20\n"
     ]
    },
    {
     "name": "stderr",
     "output_type": "stream",
     "text": [
      "Validation 20: 100%|██████████| 15/15 [00:31<00:00,  2.10s/it]\n"
     ]
    },
    {
     "name": "stdout",
     "output_type": "stream",
     "text": [
      "val step took 33.3 s\n",
      "val loss = 0.27\n",
      "[Epoch 20|val]\t33.26 s\t0.2654\n",
      "start training (epoch=21)\n"
     ]
    },
    {
     "name": "stderr",
     "output_type": "stream",
     "text": [
      "Epoch 21: 100%|██████████| 16/16 [00:43<00:00,  2.71s/it]\n"
     ]
    },
    {
     "name": "stdout",
     "output_type": "stream",
     "text": [
      "train step took 44.8 s\n",
      "train loss = 0.20\n"
     ]
    },
    {
     "name": "stderr",
     "output_type": "stream",
     "text": [
      "Validation 21: 100%|██████████| 15/15 [00:26<00:00,  1.74s/it]\n"
     ]
    },
    {
     "name": "stdout",
     "output_type": "stream",
     "text": [
      "val step took 27.0 s\n",
      "val loss = 0.26\n",
      "[Epoch 21|val]\t26.97 s\t0.2588\n",
      "start training (epoch=22)\n"
     ]
    },
    {
     "name": "stderr",
     "output_type": "stream",
     "text": [
      "Epoch 22: 100%|██████████| 16/16 [00:45<00:00,  2.83s/it]\n"
     ]
    },
    {
     "name": "stdout",
     "output_type": "stream",
     "text": [
      "train step took 46.9 s\n",
      "train loss = 0.20\n"
     ]
    },
    {
     "name": "stderr",
     "output_type": "stream",
     "text": [
      "Validation 22: 100%|██████████| 15/15 [00:26<00:00,  1.74s/it]\n"
     ]
    },
    {
     "name": "stdout",
     "output_type": "stream",
     "text": [
      "val step took 26.9 s\n",
      "val loss = 0.26\n",
      "[Epoch 22|val]\t26.94 s\t0.2624\n",
      "start training (epoch=23)\n"
     ]
    },
    {
     "name": "stderr",
     "output_type": "stream",
     "text": [
      "Epoch 23: 100%|██████████| 16/16 [00:41<00:00,  2.57s/it]\n"
     ]
    },
    {
     "name": "stdout",
     "output_type": "stream",
     "text": [
      "train step took 42.4 s\n",
      "train loss = 0.19\n"
     ]
    },
    {
     "name": "stderr",
     "output_type": "stream",
     "text": [
      "Validation 23: 100%|██████████| 15/15 [00:22<00:00,  1.52s/it]\n"
     ]
    },
    {
     "name": "stdout",
     "output_type": "stream",
     "text": [
      "val step took 24.0 s\n",
      "val loss = 0.25\n",
      "[Epoch 23|val]\t23.99 s\t0.2541\n",
      "start training (epoch=24)\n"
     ]
    },
    {
     "name": "stderr",
     "output_type": "stream",
     "text": [
      "Epoch 24: 100%|██████████| 16/16 [00:47<00:00,  2.97s/it]\n"
     ]
    },
    {
     "name": "stdout",
     "output_type": "stream",
     "text": [
      "train step took 49.2 s\n",
      "train loss = 0.18\n"
     ]
    },
    {
     "name": "stderr",
     "output_type": "stream",
     "text": [
      "Validation 24: 100%|██████████| 15/15 [00:26<00:00,  1.77s/it]\n"
     ]
    },
    {
     "name": "stdout",
     "output_type": "stream",
     "text": [
      "val step took 27.7 s\n",
      "val loss = 0.26\n",
      "[Epoch 24|val]\t27.74 s\t0.2589\n",
      "finished\n",
      "python ../train.py --augment --normalize --images-dir \"/home/amritagupta/ssdprivate/data/Streamflow/fpe_stations/West Brook Reservoir_01171020/FLOW_CFS\" --pairs-file \"/home/amritagupta/ssdprivate/data/Streamflow/Jeff_data/stations/16-West Brook Reservoir_01171020/input_4275/pairs_1000.csv\" --output-dir \"/home/amritagupta/ssdprivate/repos/fpe-model/results/vary_annot_frac.jeff_data/West Brook Reservoir_01171020/input_4275/pairs_1000\" --model-dir \"/home/amritagupta/ssdprivate/repos/fpe-model/results/vary_annot_frac.jeff_data/West Brook Reservoir_01171020/input_4275/pairs_1000\" --gpu 1\n",
      "Namespace(images_dir='/home/amritagupta/ssdprivate/data/Streamflow/fpe_stations/West Brook Reservoir_01171020/FLOW_CFS', pairs_file='/home/amritagupta/ssdprivate/data/Streamflow/Jeff_data/stations/16-West Brook Reservoir_01171020/input_4275/pairs_1000.csv', output_dir='/home/amritagupta/ssdprivate/repos/fpe-model/results/vary_annot_frac.jeff_data/West Brook Reservoir_01171020/input_4275/pairs_1000', model_dir='/home/amritagupta/ssdprivate/repos/fpe-model/results/vary_annot_frac.jeff_data/West Brook Reservoir_01171020/input_4275/pairs_1000', gpu=1, num_workers=12, local=False, epochs=25, batch_size=64, lr=0.001, random_seed=1691, unfreeze_after=2, num_image_stats=1000, input_size=480, decolorize=False, augment=True, normalize=True)\n",
      "train()\n",
      "args:\n",
      "{'images_dir': '/home/amritagupta/ssdprivate/data/Streamflow/fpe_stations/West Brook Reservoir_01171020/FLOW_CFS', 'pairs_file': '/home/amritagupta/ssdprivate/data/Streamflow/Jeff_data/stations/16-West Brook Reservoir_01171020/input_4275/pairs_1000.csv', 'output_dir': '/home/amritagupta/ssdprivate/repos/fpe-model/results/vary_annot_frac.jeff_data/West Brook Reservoir_01171020/input_4275/pairs_1000', 'model_dir': '/home/amritagupta/ssdprivate/repos/fpe-model/results/vary_annot_frac.jeff_data/West Brook Reservoir_01171020/input_4275/pairs_1000', 'gpu': 1, 'num_workers': 12, 'local': False, 'epochs': 25, 'batch_size': 64, 'lr': 0.001, 'random_seed': 1691, 'unfreeze_after': 2, 'num_image_stats': 1000, 'input_size': 480, 'decolorize': False, 'augment': True, 'normalize': True}\n",
      "device: cuda:1\n",
      "output_dir: /home/amritagupta/ssdprivate/repos/fpe-model/results/vary_annot_frac.jeff_data/West Brook Reservoir_01171020/input_4275/pairs_1000\n",
      "saved args: /home/amritagupta/ssdprivate/repos/fpe-model/results/vary_annot_frac.jeff_data/West Brook Reservoir_01171020/input_4275/pairs_1000/args.json\n",
      "model_dir: /home/amritagupta/ssdprivate/repos/fpe-model/results/vary_annot_frac.jeff_data/West Brook Reservoir_01171020/input_4275/pairs_1000\n",
      "set seeds (1691)\n"
     ]
    },
    {
     "name": "stderr",
     "output_type": "stream",
     "text": [
      "100%|██████████| 1000/1000 [01:56<00:00,  8.60it/s]\n"
     ]
    },
    {
     "name": "stdout",
     "output_type": "stream",
     "text": [
      "resize_shape: [480, 682]\n",
      "input_shape: [384, 546]\n",
      "creating train dataset\n",
      "creating val datasets\n",
      "val ds: 926\n",
      "creating data loaders\n",
      "initializing model\n",
      "start training\n",
      "start training (epoch=0)\n"
     ]
    },
    {
     "name": "stderr",
     "output_type": "stream",
     "text": [
      "Epoch 0: 100%|██████████| 32/32 [01:01<00:00,  1.92s/it]\n"
     ]
    },
    {
     "name": "stdout",
     "output_type": "stream",
     "text": [
      "train step took 62.1 s\n",
      "train loss = 0.68\n"
     ]
    },
    {
     "name": "stderr",
     "output_type": "stream",
     "text": [
      "Validation 0: 100%|██████████| 15/15 [00:32<00:00,  2.14s/it]\n"
     ]
    },
    {
     "name": "stdout",
     "output_type": "stream",
     "text": [
      "val step took 33.5 s\n",
      "val loss = 0.67\n",
      "[Epoch 0|val]\t33.55 s\t0.6731\n",
      "start training (epoch=1)\n"
     ]
    },
    {
     "name": "stderr",
     "output_type": "stream",
     "text": [
      "Epoch 1: 100%|██████████| 32/32 [01:13<00:00,  2.31s/it]\n"
     ]
    },
    {
     "name": "stdout",
     "output_type": "stream",
     "text": [
      "train step took 75.0 s\n",
      "train loss = 0.67\n"
     ]
    },
    {
     "name": "stderr",
     "output_type": "stream",
     "text": [
      "Validation 1: 100%|██████████| 15/15 [00:19<00:00,  1.30s/it]\n"
     ]
    },
    {
     "name": "stdout",
     "output_type": "stream",
     "text": [
      "val step took 20.5 s\n",
      "val loss = 0.65\n",
      "[Epoch 1|val]\t20.47 s\t0.6535\n",
      "unfreezing cnn body after epoch=1\n",
      "start training (epoch=2)\n"
     ]
    },
    {
     "name": "stderr",
     "output_type": "stream",
     "text": [
      "Epoch 2: 100%|██████████| 32/32 [01:11<00:00,  2.23s/it]\n"
     ]
    },
    {
     "name": "stdout",
     "output_type": "stream",
     "text": [
      "train step took 72.3 s\n",
      "train loss = 0.64\n"
     ]
    },
    {
     "name": "stderr",
     "output_type": "stream",
     "text": [
      "Validation 2: 100%|██████████| 15/15 [00:31<00:00,  2.07s/it]\n"
     ]
    },
    {
     "name": "stdout",
     "output_type": "stream",
     "text": [
      "val step took 32.1 s\n",
      "val loss = 0.61\n",
      "[Epoch 2|val]\t32.05 s\t0.6108\n",
      "start training (epoch=3)\n"
     ]
    },
    {
     "name": "stderr",
     "output_type": "stream",
     "text": [
      "Epoch 3: 100%|██████████| 32/32 [01:08<00:00,  2.14s/it]\n"
     ]
    },
    {
     "name": "stdout",
     "output_type": "stream",
     "text": [
      "train step took 69.8 s\n",
      "train loss = 0.57\n"
     ]
    },
    {
     "name": "stderr",
     "output_type": "stream",
     "text": [
      "Validation 3: 100%|██████████| 15/15 [00:31<00:00,  2.10s/it]\n"
     ]
    },
    {
     "name": "stdout",
     "output_type": "stream",
     "text": [
      "val step took 32.8 s\n",
      "val loss = 0.53\n",
      "[Epoch 3|val]\t32.78 s\t0.5268\n",
      "start training (epoch=4)\n"
     ]
    },
    {
     "name": "stderr",
     "output_type": "stream",
     "text": [
      "Epoch 4: 100%|██████████| 32/32 [01:02<00:00,  1.95s/it]\n"
     ]
    },
    {
     "name": "stdout",
     "output_type": "stream",
     "text": [
      "train step took 64.2 s\n",
      "train loss = 0.47\n"
     ]
    },
    {
     "name": "stderr",
     "output_type": "stream",
     "text": [
      "Validation 4: 100%|██████████| 15/15 [00:29<00:00,  2.00s/it]\n"
     ]
    },
    {
     "name": "stdout",
     "output_type": "stream",
     "text": [
      "val step took 31.4 s\n",
      "val loss = 0.43\n",
      "[Epoch 4|val]\t31.40 s\t0.4264\n",
      "start training (epoch=5)\n"
     ]
    },
    {
     "name": "stderr",
     "output_type": "stream",
     "text": [
      "Epoch 5: 100%|██████████| 32/32 [01:11<00:00,  2.23s/it]\n"
     ]
    },
    {
     "name": "stdout",
     "output_type": "stream",
     "text": [
      "train step took 72.5 s\n",
      "train loss = 0.38\n"
     ]
    },
    {
     "name": "stderr",
     "output_type": "stream",
     "text": [
      "Validation 5: 100%|██████████| 15/15 [00:30<00:00,  2.01s/it]\n"
     ]
    },
    {
     "name": "stdout",
     "output_type": "stream",
     "text": [
      "val step took 31.4 s\n",
      "val loss = 0.36\n",
      "[Epoch 5|val]\t31.36 s\t0.3558\n",
      "start training (epoch=6)\n"
     ]
    },
    {
     "name": "stderr",
     "output_type": "stream",
     "text": [
      "Epoch 6: 100%|██████████| 32/32 [00:43<00:00,  1.36s/it]\n"
     ]
    },
    {
     "name": "stdout",
     "output_type": "stream",
     "text": [
      "train step took 44.8 s\n",
      "train loss = 0.31\n"
     ]
    },
    {
     "name": "stderr",
     "output_type": "stream",
     "text": [
      "Validation 6: 100%|██████████| 15/15 [00:20<00:00,  1.36s/it]\n"
     ]
    },
    {
     "name": "stdout",
     "output_type": "stream",
     "text": [
      "val step took 21.4 s\n",
      "val loss = 0.32\n",
      "[Epoch 6|val]\t21.39 s\t0.3172\n",
      "start training (epoch=7)\n"
     ]
    },
    {
     "name": "stderr",
     "output_type": "stream",
     "text": [
      "Epoch 7: 100%|██████████| 32/32 [00:54<00:00,  1.69s/it]\n"
     ]
    },
    {
     "name": "stdout",
     "output_type": "stream",
     "text": [
      "train step took 55.0 s\n",
      "train loss = 0.27\n"
     ]
    },
    {
     "name": "stderr",
     "output_type": "stream",
     "text": [
      "Validation 7: 100%|██████████| 15/15 [00:16<00:00,  1.12s/it]\n"
     ]
    },
    {
     "name": "stdout",
     "output_type": "stream",
     "text": [
      "val step took 17.7 s\n",
      "val loss = 0.29\n",
      "[Epoch 7|val]\t17.67 s\t0.2914\n",
      "start training (epoch=8)\n"
     ]
    },
    {
     "name": "stderr",
     "output_type": "stream",
     "text": [
      "Epoch 8: 100%|██████████| 32/32 [01:02<00:00,  1.97s/it]\n"
     ]
    },
    {
     "name": "stdout",
     "output_type": "stream",
     "text": [
      "train step took 63.9 s\n",
      "train loss = 0.25\n"
     ]
    },
    {
     "name": "stderr",
     "output_type": "stream",
     "text": [
      "Validation 8: 100%|██████████| 15/15 [00:25<00:00,  1.70s/it]\n"
     ]
    },
    {
     "name": "stdout",
     "output_type": "stream",
     "text": [
      "val step took 26.4 s\n",
      "val loss = 0.28\n",
      "[Epoch 8|val]\t26.42 s\t0.2773\n",
      "start training (epoch=9)\n"
     ]
    },
    {
     "name": "stderr",
     "output_type": "stream",
     "text": [
      "Epoch 9: 100%|██████████| 32/32 [00:53<00:00,  1.66s/it]\n"
     ]
    },
    {
     "name": "stdout",
     "output_type": "stream",
     "text": [
      "train step took 54.3 s\n",
      "train loss = 0.25\n"
     ]
    },
    {
     "name": "stderr",
     "output_type": "stream",
     "text": [
      "Validation 9: 100%|██████████| 15/15 [00:15<00:00,  1.03s/it]\n"
     ]
    },
    {
     "name": "stdout",
     "output_type": "stream",
     "text": [
      "val step took 16.3 s\n",
      "val loss = 0.26\n",
      "[Epoch 9|val]\t16.32 s\t0.2633\n",
      "start training (epoch=10)\n"
     ]
    },
    {
     "name": "stderr",
     "output_type": "stream",
     "text": [
      "Epoch 10: 100%|██████████| 32/32 [00:43<00:00,  1.36s/it]\n"
     ]
    },
    {
     "name": "stdout",
     "output_type": "stream",
     "text": [
      "train step took 44.5 s\n",
      "train loss = 0.23\n"
     ]
    },
    {
     "name": "stderr",
     "output_type": "stream",
     "text": [
      "Validation 10: 100%|██████████| 15/15 [00:17<00:00,  1.16s/it]\n"
     ]
    },
    {
     "name": "stdout",
     "output_type": "stream",
     "text": [
      "val step took 18.4 s\n",
      "val loss = 0.25\n",
      "[Epoch 10|val]\t18.36 s\t0.2518\n",
      "start training (epoch=11)\n"
     ]
    },
    {
     "name": "stderr",
     "output_type": "stream",
     "text": [
      "Epoch 11: 100%|██████████| 32/32 [00:44<00:00,  1.38s/it]\n"
     ]
    },
    {
     "name": "stdout",
     "output_type": "stream",
     "text": [
      "train step took 45.1 s\n",
      "train loss = 0.22\n"
     ]
    },
    {
     "name": "stderr",
     "output_type": "stream",
     "text": [
      "Validation 11: 100%|██████████| 15/15 [00:17<00:00,  1.19s/it]\n"
     ]
    },
    {
     "name": "stdout",
     "output_type": "stream",
     "text": [
      "val step took 18.7 s\n",
      "val loss = 0.24\n",
      "[Epoch 11|val]\t18.66 s\t0.2430\n",
      "start training (epoch=12)\n"
     ]
    },
    {
     "name": "stderr",
     "output_type": "stream",
     "text": [
      "Epoch 12: 100%|██████████| 32/32 [00:46<00:00,  1.46s/it]\n"
     ]
    },
    {
     "name": "stdout",
     "output_type": "stream",
     "text": [
      "train step took 47.7 s\n",
      "train loss = 0.20\n"
     ]
    },
    {
     "name": "stderr",
     "output_type": "stream",
     "text": [
      "Validation 12: 100%|██████████| 15/15 [00:20<00:00,  1.34s/it]\n"
     ]
    },
    {
     "name": "stdout",
     "output_type": "stream",
     "text": [
      "val step took 20.9 s\n",
      "val loss = 0.24\n",
      "[Epoch 12|val]\t20.90 s\t0.2419\n",
      "start training (epoch=13)\n"
     ]
    },
    {
     "name": "stderr",
     "output_type": "stream",
     "text": [
      "Epoch 13: 100%|██████████| 32/32 [00:39<00:00,  1.23s/it]\n"
     ]
    },
    {
     "name": "stdout",
     "output_type": "stream",
     "text": [
      "train step took 40.4 s\n",
      "train loss = 0.20\n"
     ]
    },
    {
     "name": "stderr",
     "output_type": "stream",
     "text": [
      "Validation 13: 100%|██████████| 15/15 [00:20<00:00,  1.36s/it]\n"
     ]
    },
    {
     "name": "stdout",
     "output_type": "stream",
     "text": [
      "val step took 21.2 s\n",
      "val loss = 0.24\n",
      "[Epoch 13|val]\t21.24 s\t0.2395\n",
      "start training (epoch=14)\n"
     ]
    },
    {
     "name": "stderr",
     "output_type": "stream",
     "text": [
      "Epoch 14: 100%|██████████| 32/32 [00:32<00:00,  1.02s/it]\n"
     ]
    },
    {
     "name": "stdout",
     "output_type": "stream",
     "text": [
      "train step took 33.7 s\n",
      "train loss = 0.19\n"
     ]
    },
    {
     "name": "stderr",
     "output_type": "stream",
     "text": [
      "Validation 14: 100%|██████████| 15/15 [00:13<00:00,  1.08it/s]\n"
     ]
    },
    {
     "name": "stdout",
     "output_type": "stream",
     "text": [
      "val step took 14.7 s\n",
      "val loss = 0.23\n",
      "[Epoch 14|val]\t14.66 s\t0.2314\n",
      "start training (epoch=15)\n"
     ]
    },
    {
     "name": "stderr",
     "output_type": "stream",
     "text": [
      "Epoch 15: 100%|██████████| 32/32 [00:31<00:00,  1.01it/s]\n"
     ]
    },
    {
     "name": "stdout",
     "output_type": "stream",
     "text": [
      "train step took 32.5 s\n",
      "train loss = 0.18\n"
     ]
    },
    {
     "name": "stderr",
     "output_type": "stream",
     "text": [
      "Validation 15: 100%|██████████| 15/15 [00:15<00:00,  1.03s/it]\n"
     ]
    },
    {
     "name": "stdout",
     "output_type": "stream",
     "text": [
      "val step took 16.2 s\n",
      "val loss = 0.23\n",
      "[Epoch 15|val]\t16.19 s\t0.2276\n",
      "start training (epoch=16)\n"
     ]
    },
    {
     "name": "stderr",
     "output_type": "stream",
     "text": [
      "Epoch 16: 100%|██████████| 32/32 [00:43<00:00,  1.37s/it]\n"
     ]
    },
    {
     "name": "stdout",
     "output_type": "stream",
     "text": [
      "train step took 44.8 s\n",
      "train loss = 0.19\n"
     ]
    },
    {
     "name": "stderr",
     "output_type": "stream",
     "text": [
      "Validation 16: 100%|██████████| 15/15 [00:18<00:00,  1.22s/it]\n"
     ]
    },
    {
     "name": "stdout",
     "output_type": "stream",
     "text": [
      "val step took 19.1 s\n",
      "val loss = 0.23\n",
      "[Epoch 16|val]\t19.13 s\t0.2263\n",
      "start training (epoch=17)\n"
     ]
    },
    {
     "name": "stderr",
     "output_type": "stream",
     "text": [
      "Epoch 17: 100%|██████████| 32/32 [00:41<00:00,  1.31s/it]\n"
     ]
    },
    {
     "name": "stdout",
     "output_type": "stream",
     "text": [
      "train step took 43.0 s\n",
      "train loss = 0.19\n"
     ]
    },
    {
     "name": "stderr",
     "output_type": "stream",
     "text": [
      "Validation 17: 100%|██████████| 15/15 [00:24<00:00,  1.66s/it]\n"
     ]
    },
    {
     "name": "stdout",
     "output_type": "stream",
     "text": [
      "val step took 25.7 s\n",
      "val loss = 0.23\n",
      "[Epoch 17|val]\t25.72 s\t0.2251\n",
      "start training (epoch=18)\n"
     ]
    },
    {
     "name": "stderr",
     "output_type": "stream",
     "text": [
      "Epoch 18: 100%|██████████| 32/32 [00:45<00:00,  1.43s/it]\n"
     ]
    },
    {
     "name": "stdout",
     "output_type": "stream",
     "text": [
      "train step took 46.7 s\n",
      "train loss = 0.19\n"
     ]
    },
    {
     "name": "stderr",
     "output_type": "stream",
     "text": [
      "Validation 18: 100%|██████████| 15/15 [00:19<00:00,  1.28s/it]\n"
     ]
    },
    {
     "name": "stdout",
     "output_type": "stream",
     "text": [
      "val step took 20.0 s\n",
      "val loss = 0.23\n",
      "[Epoch 18|val]\t20.04 s\t0.2332\n",
      "start training (epoch=19)\n"
     ]
    },
    {
     "name": "stderr",
     "output_type": "stream",
     "text": [
      "Epoch 19: 100%|██████████| 32/32 [00:43<00:00,  1.35s/it]\n"
     ]
    },
    {
     "name": "stdout",
     "output_type": "stream",
     "text": [
      "train step took 44.3 s\n",
      "train loss = 0.18\n"
     ]
    },
    {
     "name": "stderr",
     "output_type": "stream",
     "text": [
      "Validation 19: 100%|██████████| 15/15 [00:24<00:00,  1.62s/it]\n"
     ]
    },
    {
     "name": "stdout",
     "output_type": "stream",
     "text": [
      "val step took 25.2 s\n",
      "val loss = 0.23\n",
      "[Epoch 19|val]\t25.23 s\t0.2316\n",
      "start training (epoch=20)\n"
     ]
    },
    {
     "name": "stderr",
     "output_type": "stream",
     "text": [
      "Epoch 20: 100%|██████████| 32/32 [00:43<00:00,  1.37s/it]\n"
     ]
    },
    {
     "name": "stdout",
     "output_type": "stream",
     "text": [
      "train step took 44.9 s\n",
      "train loss = 0.17\n"
     ]
    },
    {
     "name": "stderr",
     "output_type": "stream",
     "text": [
      "Validation 20: 100%|██████████| 15/15 [00:20<00:00,  1.39s/it]\n"
     ]
    },
    {
     "name": "stdout",
     "output_type": "stream",
     "text": [
      "val step took 21.8 s\n",
      "val loss = 0.23\n",
      "[Epoch 20|val]\t21.78 s\t0.2305\n",
      "start training (epoch=21)\n"
     ]
    },
    {
     "name": "stderr",
     "output_type": "stream",
     "text": [
      "Epoch 21: 100%|██████████| 32/32 [00:45<00:00,  1.41s/it]\n"
     ]
    },
    {
     "name": "stdout",
     "output_type": "stream",
     "text": [
      "train step took 46.0 s\n",
      "train loss = 0.17\n"
     ]
    },
    {
     "name": "stderr",
     "output_type": "stream",
     "text": [
      "Validation 21: 100%|██████████| 15/15 [00:20<00:00,  1.37s/it]\n"
     ]
    },
    {
     "name": "stdout",
     "output_type": "stream",
     "text": [
      "val step took 21.4 s\n",
      "val loss = 0.23\n",
      "[Epoch 21|val]\t21.35 s\t0.2255\n",
      "start training (epoch=22)\n"
     ]
    },
    {
     "name": "stderr",
     "output_type": "stream",
     "text": [
      "Epoch 22: 100%|██████████| 32/32 [00:40<00:00,  1.25s/it]\n"
     ]
    },
    {
     "name": "stdout",
     "output_type": "stream",
     "text": [
      "train step took 41.0 s\n",
      "train loss = 0.17\n"
     ]
    },
    {
     "name": "stderr",
     "output_type": "stream",
     "text": [
      "Validation 22: 100%|██████████| 15/15 [00:24<00:00,  1.66s/it]\n"
     ]
    },
    {
     "name": "stdout",
     "output_type": "stream",
     "text": [
      "val step took 25.7 s\n",
      "val loss = 0.23\n",
      "[Epoch 22|val]\t25.65 s\t0.2264\n",
      "start training (epoch=23)\n"
     ]
    },
    {
     "name": "stderr",
     "output_type": "stream",
     "text": [
      "Epoch 23: 100%|██████████| 32/32 [00:47<00:00,  1.49s/it]\n"
     ]
    },
    {
     "name": "stdout",
     "output_type": "stream",
     "text": [
      "train step took 48.6 s\n",
      "train loss = 0.17\n"
     ]
    },
    {
     "name": "stderr",
     "output_type": "stream",
     "text": [
      "Validation 23: 100%|██████████| 15/15 [00:24<00:00,  1.60s/it]\n"
     ]
    },
    {
     "name": "stdout",
     "output_type": "stream",
     "text": [
      "val step took 24.9 s\n",
      "val loss = 0.23\n",
      "[Epoch 23|val]\t24.88 s\t0.2276\n",
      "start training (epoch=24)\n"
     ]
    },
    {
     "name": "stderr",
     "output_type": "stream",
     "text": [
      "Epoch 24: 100%|██████████| 32/32 [00:40<00:00,  1.25s/it]\n"
     ]
    },
    {
     "name": "stdout",
     "output_type": "stream",
     "text": [
      "train step took 40.9 s\n",
      "train loss = 0.16\n"
     ]
    },
    {
     "name": "stderr",
     "output_type": "stream",
     "text": [
      "Validation 24: 100%|██████████| 15/15 [00:22<00:00,  1.52s/it]\n"
     ]
    },
    {
     "name": "stdout",
     "output_type": "stream",
     "text": [
      "val step took 23.8 s\n",
      "val loss = 0.23\n",
      "[Epoch 24|val]\t23.80 s\t0.2275\n",
      "finished\n",
      "python ../train.py --augment --normalize --images-dir \"/home/amritagupta/ssdprivate/data/Streamflow/fpe_stations/West Brook Reservoir_01171020/FLOW_CFS\" --pairs-file \"/home/amritagupta/ssdprivate/data/Streamflow/Jeff_data/stations/16-West Brook Reservoir_01171020/input_4275/pairs_1500.csv\" --output-dir \"/home/amritagupta/ssdprivate/repos/fpe-model/results/vary_annot_frac.jeff_data/West Brook Reservoir_01171020/input_4275/pairs_1500\" --model-dir \"/home/amritagupta/ssdprivate/repos/fpe-model/results/vary_annot_frac.jeff_data/West Brook Reservoir_01171020/input_4275/pairs_1500\" --gpu 1\n",
      "Namespace(images_dir='/home/amritagupta/ssdprivate/data/Streamflow/fpe_stations/West Brook Reservoir_01171020/FLOW_CFS', pairs_file='/home/amritagupta/ssdprivate/data/Streamflow/Jeff_data/stations/16-West Brook Reservoir_01171020/input_4275/pairs_1500.csv', output_dir='/home/amritagupta/ssdprivate/repos/fpe-model/results/vary_annot_frac.jeff_data/West Brook Reservoir_01171020/input_4275/pairs_1500', model_dir='/home/amritagupta/ssdprivate/repos/fpe-model/results/vary_annot_frac.jeff_data/West Brook Reservoir_01171020/input_4275/pairs_1500', gpu=1, num_workers=12, local=False, epochs=25, batch_size=64, lr=0.001, random_seed=1691, unfreeze_after=2, num_image_stats=1000, input_size=480, decolorize=False, augment=True, normalize=True)\n",
      "train()\n",
      "args:\n",
      "{'images_dir': '/home/amritagupta/ssdprivate/data/Streamflow/fpe_stations/West Brook Reservoir_01171020/FLOW_CFS', 'pairs_file': '/home/amritagupta/ssdprivate/data/Streamflow/Jeff_data/stations/16-West Brook Reservoir_01171020/input_4275/pairs_1500.csv', 'output_dir': '/home/amritagupta/ssdprivate/repos/fpe-model/results/vary_annot_frac.jeff_data/West Brook Reservoir_01171020/input_4275/pairs_1500', 'model_dir': '/home/amritagupta/ssdprivate/repos/fpe-model/results/vary_annot_frac.jeff_data/West Brook Reservoir_01171020/input_4275/pairs_1500', 'gpu': 1, 'num_workers': 12, 'local': False, 'epochs': 25, 'batch_size': 64, 'lr': 0.001, 'random_seed': 1691, 'unfreeze_after': 2, 'num_image_stats': 1000, 'input_size': 480, 'decolorize': False, 'augment': True, 'normalize': True}\n",
      "device: cuda:1\n",
      "output_dir: /home/amritagupta/ssdprivate/repos/fpe-model/results/vary_annot_frac.jeff_data/West Brook Reservoir_01171020/input_4275/pairs_1500\n",
      "saved args: /home/amritagupta/ssdprivate/repos/fpe-model/results/vary_annot_frac.jeff_data/West Brook Reservoir_01171020/input_4275/pairs_1500/args.json\n",
      "model_dir: /home/amritagupta/ssdprivate/repos/fpe-model/results/vary_annot_frac.jeff_data/West Brook Reservoir_01171020/input_4275/pairs_1500\n",
      "set seeds (1691)\n"
     ]
    },
    {
     "name": "stderr",
     "output_type": "stream",
     "text": [
      "100%|██████████| 1000/1000 [01:16<00:00, 13.06it/s]\n"
     ]
    },
    {
     "name": "stdout",
     "output_type": "stream",
     "text": [
      "resize_shape: [480, 682]\n",
      "input_shape: [384, 546]\n",
      "creating train dataset\n",
      "creating val datasets\n",
      "val ds: 926\n",
      "creating data loaders\n",
      "initializing model\n",
      "start training\n",
      "start training (epoch=0)\n"
     ]
    },
    {
     "name": "stderr",
     "output_type": "stream",
     "text": [
      "Epoch 0: 100%|██████████| 47/47 [01:05<00:00,  1.40s/it]\n"
     ]
    },
    {
     "name": "stdout",
     "output_type": "stream",
     "text": [
      "train step took 66.0 s\n",
      "train loss = 0.69\n"
     ]
    },
    {
     "name": "stderr",
     "output_type": "stream",
     "text": [
      "Validation 0: 100%|██████████| 15/15 [00:17<00:00,  1.17s/it]\n"
     ]
    },
    {
     "name": "stdout",
     "output_type": "stream",
     "text": [
      "val step took 18.2 s\n",
      "val loss = 0.68\n",
      "[Epoch 0|val]\t18.20 s\t0.6789\n",
      "start training (epoch=1)\n"
     ]
    },
    {
     "name": "stderr",
     "output_type": "stream",
     "text": [
      "Epoch 1: 100%|██████████| 47/47 [01:00<00:00,  1.28s/it]\n"
     ]
    },
    {
     "name": "stdout",
     "output_type": "stream",
     "text": [
      "train step took 61.3 s\n",
      "train loss = 0.67\n"
     ]
    },
    {
     "name": "stderr",
     "output_type": "stream",
     "text": [
      "Validation 1: 100%|██████████| 15/15 [00:23<00:00,  1.57s/it]\n"
     ]
    },
    {
     "name": "stdout",
     "output_type": "stream",
     "text": [
      "val step took 24.4 s\n",
      "val loss = 0.66\n",
      "[Epoch 1|val]\t24.41 s\t0.6606\n",
      "unfreezing cnn body after epoch=1\n",
      "start training (epoch=2)\n"
     ]
    },
    {
     "name": "stderr",
     "output_type": "stream",
     "text": [
      "Epoch 2: 100%|██████████| 47/47 [01:04<00:00,  1.38s/it]\n"
     ]
    },
    {
     "name": "stdout",
     "output_type": "stream",
     "text": [
      "train step took 65.5 s\n",
      "train loss = 0.65\n"
     ]
    },
    {
     "name": "stderr",
     "output_type": "stream",
     "text": [
      "Validation 2: 100%|██████████| 15/15 [00:17<00:00,  1.16s/it]\n"
     ]
    },
    {
     "name": "stdout",
     "output_type": "stream",
     "text": [
      "val step took 18.2 s\n",
      "val loss = 0.61\n",
      "[Epoch 2|val]\t18.22 s\t0.6101\n",
      "start training (epoch=3)\n"
     ]
    },
    {
     "name": "stderr",
     "output_type": "stream",
     "text": [
      "Epoch 3: 100%|██████████| 47/47 [00:50<00:00,  1.08s/it]\n"
     ]
    },
    {
     "name": "stdout",
     "output_type": "stream",
     "text": [
      "train step took 51.7 s\n",
      "train loss = 0.56\n"
     ]
    },
    {
     "name": "stderr",
     "output_type": "stream",
     "text": [
      "Validation 3: 100%|██████████| 15/15 [00:17<00:00,  1.17s/it]\n"
     ]
    },
    {
     "name": "stdout",
     "output_type": "stream",
     "text": [
      "val step took 18.2 s\n",
      "val loss = 0.49\n",
      "[Epoch 3|val]\t18.21 s\t0.4895\n",
      "start training (epoch=4)\n"
     ]
    },
    {
     "name": "stderr",
     "output_type": "stream",
     "text": [
      "Epoch 4: 100%|██████████| 47/47 [01:11<00:00,  1.51s/it]\n"
     ]
    },
    {
     "name": "stdout",
     "output_type": "stream",
     "text": [
      "train step took 71.9 s\n",
      "train loss = 0.43\n"
     ]
    },
    {
     "name": "stderr",
     "output_type": "stream",
     "text": [
      "Validation 4: 100%|██████████| 15/15 [00:20<00:00,  1.38s/it]\n"
     ]
    },
    {
     "name": "stdout",
     "output_type": "stream",
     "text": [
      "val step took 21.5 s\n",
      "val loss = 0.37\n",
      "[Epoch 4|val]\t21.46 s\t0.3670\n",
      "start training (epoch=5)\n"
     ]
    },
    {
     "name": "stderr",
     "output_type": "stream",
     "text": [
      "Epoch 5: 100%|██████████| 47/47 [01:08<00:00,  1.45s/it]\n"
     ]
    },
    {
     "name": "stdout",
     "output_type": "stream",
     "text": [
      "train step took 68.9 s\n",
      "train loss = 0.33\n"
     ]
    },
    {
     "name": "stderr",
     "output_type": "stream",
     "text": [
      "Validation 5: 100%|██████████| 15/15 [00:23<00:00,  1.58s/it]\n"
     ]
    },
    {
     "name": "stdout",
     "output_type": "stream",
     "text": [
      "val step took 24.6 s\n",
      "val loss = 0.31\n",
      "[Epoch 5|val]\t24.59 s\t0.3055\n",
      "start training (epoch=6)\n"
     ]
    },
    {
     "name": "stderr",
     "output_type": "stream",
     "text": [
      "Epoch 6: 100%|██████████| 47/47 [01:04<00:00,  1.38s/it]\n"
     ]
    },
    {
     "name": "stdout",
     "output_type": "stream",
     "text": [
      "train step took 65.7 s\n",
      "train loss = 0.29\n"
     ]
    },
    {
     "name": "stderr",
     "output_type": "stream",
     "text": [
      "Validation 6: 100%|██████████| 15/15 [00:20<00:00,  1.40s/it]\n"
     ]
    },
    {
     "name": "stdout",
     "output_type": "stream",
     "text": [
      "val step took 21.8 s\n",
      "val loss = 0.28\n",
      "[Epoch 6|val]\t21.83 s\t0.2779\n",
      "start training (epoch=7)\n"
     ]
    },
    {
     "name": "stderr",
     "output_type": "stream",
     "text": [
      "Epoch 7: 100%|██████████| 47/47 [00:59<00:00,  1.27s/it]\n"
     ]
    },
    {
     "name": "stdout",
     "output_type": "stream",
     "text": [
      "train step took 60.8 s\n",
      "train loss = 0.25\n"
     ]
    },
    {
     "name": "stderr",
     "output_type": "stream",
     "text": [
      "Validation 7: 100%|██████████| 15/15 [00:20<00:00,  1.39s/it]\n"
     ]
    },
    {
     "name": "stdout",
     "output_type": "stream",
     "text": [
      "val step took 21.8 s\n",
      "val loss = 0.26\n",
      "[Epoch 7|val]\t21.85 s\t0.2599\n",
      "start training (epoch=8)\n"
     ]
    },
    {
     "name": "stderr",
     "output_type": "stream",
     "text": [
      "Epoch 8: 100%|██████████| 47/47 [01:11<00:00,  1.52s/it]\n"
     ]
    },
    {
     "name": "stdout",
     "output_type": "stream",
     "text": [
      "train step took 72.3 s\n",
      "train loss = 0.24\n"
     ]
    },
    {
     "name": "stderr",
     "output_type": "stream",
     "text": [
      "Validation 8: 100%|██████████| 15/15 [00:22<00:00,  1.51s/it]\n"
     ]
    },
    {
     "name": "stdout",
     "output_type": "stream",
     "text": [
      "val step took 23.5 s\n",
      "val loss = 0.25\n",
      "[Epoch 8|val]\t23.52 s\t0.2486\n",
      "start training (epoch=9)\n"
     ]
    },
    {
     "name": "stderr",
     "output_type": "stream",
     "text": [
      "Epoch 9: 100%|██████████| 47/47 [01:08<00:00,  1.46s/it]\n"
     ]
    },
    {
     "name": "stdout",
     "output_type": "stream",
     "text": [
      "train step took 69.6 s\n",
      "train loss = 0.23\n"
     ]
    },
    {
     "name": "stderr",
     "output_type": "stream",
     "text": [
      "Validation 9: 100%|██████████| 15/15 [00:21<00:00,  1.45s/it]\n"
     ]
    },
    {
     "name": "stdout",
     "output_type": "stream",
     "text": [
      "val step took 22.5 s\n",
      "val loss = 0.24\n",
      "[Epoch 9|val]\t22.47 s\t0.2391\n",
      "start training (epoch=10)\n"
     ]
    },
    {
     "name": "stderr",
     "output_type": "stream",
     "text": [
      "Epoch 10: 100%|██████████| 47/47 [01:35<00:00,  2.03s/it]\n"
     ]
    },
    {
     "name": "stdout",
     "output_type": "stream",
     "text": [
      "train step took 96.7 s\n",
      "train loss = 0.22\n"
     ]
    },
    {
     "name": "stderr",
     "output_type": "stream",
     "text": [
      "Validation 10: 100%|██████████| 15/15 [00:26<00:00,  1.74s/it]\n"
     ]
    },
    {
     "name": "stdout",
     "output_type": "stream",
     "text": [
      "val step took 26.9 s\n",
      "val loss = 0.23\n",
      "[Epoch 10|val]\t26.90 s\t0.2327\n",
      "start training (epoch=11)\n"
     ]
    },
    {
     "name": "stderr",
     "output_type": "stream",
     "text": [
      "Epoch 11: 100%|██████████| 47/47 [01:21<00:00,  1.74s/it]\n"
     ]
    },
    {
     "name": "stdout",
     "output_type": "stream",
     "text": [
      "train step took 82.6 s\n",
      "train loss = 0.22\n"
     ]
    },
    {
     "name": "stderr",
     "output_type": "stream",
     "text": [
      "Validation 11: 100%|██████████| 15/15 [00:28<00:00,  1.93s/it]\n"
     ]
    },
    {
     "name": "stdout",
     "output_type": "stream",
     "text": [
      "val step took 30.1 s\n",
      "val loss = 0.23\n",
      "[Epoch 11|val]\t30.08 s\t0.2291\n",
      "start training (epoch=12)\n"
     ]
    },
    {
     "name": "stderr",
     "output_type": "stream",
     "text": [
      "Epoch 12: 100%|██████████| 47/47 [01:25<00:00,  1.82s/it]\n"
     ]
    },
    {
     "name": "stdout",
     "output_type": "stream",
     "text": [
      "train step took 86.5 s\n",
      "train loss = 0.21\n"
     ]
    },
    {
     "name": "stderr",
     "output_type": "stream",
     "text": [
      "Validation 12: 100%|██████████| 15/15 [00:29<00:00,  1.96s/it]\n"
     ]
    },
    {
     "name": "stdout",
     "output_type": "stream",
     "text": [
      "val step took 30.3 s\n",
      "val loss = 0.23\n",
      "[Epoch 12|val]\t30.28 s\t0.2262\n",
      "start training (epoch=13)\n"
     ]
    },
    {
     "name": "stderr",
     "output_type": "stream",
     "text": [
      "Epoch 13: 100%|██████████| 47/47 [01:27<00:00,  1.87s/it]\n"
     ]
    },
    {
     "name": "stdout",
     "output_type": "stream",
     "text": [
      "train step took 89.1 s\n",
      "train loss = 0.21\n"
     ]
    },
    {
     "name": "stderr",
     "output_type": "stream",
     "text": [
      "Validation 13: 100%|██████████| 15/15 [00:31<00:00,  2.10s/it]\n"
     ]
    },
    {
     "name": "stdout",
     "output_type": "stream",
     "text": [
      "val step took 32.4 s\n",
      "val loss = 0.22\n",
      "[Epoch 13|val]\t32.35 s\t0.2225\n",
      "start training (epoch=14)\n"
     ]
    },
    {
     "name": "stderr",
     "output_type": "stream",
     "text": [
      "Epoch 14: 100%|██████████| 47/47 [01:27<00:00,  1.87s/it]\n"
     ]
    },
    {
     "name": "stdout",
     "output_type": "stream",
     "text": [
      "train step took 88.9 s\n",
      "train loss = 0.20\n"
     ]
    },
    {
     "name": "stderr",
     "output_type": "stream",
     "text": [
      "Validation 14: 100%|██████████| 15/15 [00:21<00:00,  1.43s/it]\n"
     ]
    },
    {
     "name": "stdout",
     "output_type": "stream",
     "text": [
      "val step took 22.5 s\n",
      "val loss = 0.22\n",
      "[Epoch 14|val]\t22.55 s\t0.2185\n",
      "start training (epoch=15)\n"
     ]
    },
    {
     "name": "stderr",
     "output_type": "stream",
     "text": [
      "Epoch 15: 100%|██████████| 47/47 [01:31<00:00,  1.95s/it]\n"
     ]
    },
    {
     "name": "stdout",
     "output_type": "stream",
     "text": [
      "train step took 92.6 s\n",
      "train loss = 0.20\n"
     ]
    },
    {
     "name": "stderr",
     "output_type": "stream",
     "text": [
      "Validation 15: 100%|██████████| 15/15 [00:20<00:00,  1.36s/it]\n"
     ]
    },
    {
     "name": "stdout",
     "output_type": "stream",
     "text": [
      "val step took 21.4 s\n",
      "val loss = 0.22\n",
      "[Epoch 15|val]\t21.40 s\t0.2187\n",
      "start training (epoch=16)\n"
     ]
    },
    {
     "name": "stderr",
     "output_type": "stream",
     "text": [
      "Epoch 16: 100%|██████████| 47/47 [01:28<00:00,  1.88s/it]\n"
     ]
    },
    {
     "name": "stdout",
     "output_type": "stream",
     "text": [
      "train step took 89.0 s\n",
      "train loss = 0.20\n"
     ]
    },
    {
     "name": "stderr",
     "output_type": "stream",
     "text": [
      "Validation 16: 100%|██████████| 15/15 [00:31<00:00,  2.08s/it]\n"
     ]
    },
    {
     "name": "stdout",
     "output_type": "stream",
     "text": [
      "val step took 32.1 s\n",
      "val loss = 0.22\n",
      "[Epoch 16|val]\t32.06 s\t0.2169\n",
      "start training (epoch=17)\n"
     ]
    },
    {
     "name": "stderr",
     "output_type": "stream",
     "text": [
      "Epoch 17: 100%|██████████| 47/47 [01:33<00:00,  1.99s/it]\n"
     ]
    },
    {
     "name": "stdout",
     "output_type": "stream",
     "text": [
      "train step took 94.3 s\n",
      "train loss = 0.20\n"
     ]
    },
    {
     "name": "stderr",
     "output_type": "stream",
     "text": [
      "Validation 17: 100%|██████████| 15/15 [00:21<00:00,  1.42s/it]\n"
     ]
    },
    {
     "name": "stdout",
     "output_type": "stream",
     "text": [
      "val step took 22.1 s\n",
      "val loss = 0.22\n",
      "[Epoch 17|val]\t22.11 s\t0.2183\n",
      "start training (epoch=18)\n"
     ]
    },
    {
     "name": "stderr",
     "output_type": "stream",
     "text": [
      "Epoch 18: 100%|██████████| 47/47 [01:32<00:00,  1.97s/it]\n"
     ]
    },
    {
     "name": "stdout",
     "output_type": "stream",
     "text": [
      "train step took 93.6 s\n",
      "train loss = 0.19\n"
     ]
    },
    {
     "name": "stderr",
     "output_type": "stream",
     "text": [
      "Validation 18: 100%|██████████| 15/15 [00:33<00:00,  2.27s/it]\n"
     ]
    },
    {
     "name": "stdout",
     "output_type": "stream",
     "text": [
      "val step took 34.9 s\n",
      "val loss = 0.21\n",
      "[Epoch 18|val]\t34.93 s\t0.2138\n",
      "start training (epoch=19)\n"
     ]
    },
    {
     "name": "stderr",
     "output_type": "stream",
     "text": [
      "Epoch 19: 100%|██████████| 47/47 [01:23<00:00,  1.77s/it]\n"
     ]
    },
    {
     "name": "stdout",
     "output_type": "stream",
     "text": [
      "train step took 84.2 s\n",
      "train loss = 0.19\n"
     ]
    },
    {
     "name": "stderr",
     "output_type": "stream",
     "text": [
      "Validation 19: 100%|██████████| 15/15 [00:26<00:00,  1.80s/it]\n"
     ]
    },
    {
     "name": "stdout",
     "output_type": "stream",
     "text": [
      "val step took 28.0 s\n",
      "val loss = 0.21\n",
      "[Epoch 19|val]\t27.96 s\t0.2131\n",
      "start training (epoch=20)\n"
     ]
    },
    {
     "name": "stderr",
     "output_type": "stream",
     "text": [
      "Epoch 20: 100%|██████████| 47/47 [01:31<00:00,  1.95s/it]\n"
     ]
    },
    {
     "name": "stdout",
     "output_type": "stream",
     "text": [
      "train step took 92.6 s\n",
      "train loss = 0.19\n"
     ]
    },
    {
     "name": "stderr",
     "output_type": "stream",
     "text": [
      "Validation 20: 100%|██████████| 15/15 [00:30<00:00,  2.02s/it]\n"
     ]
    },
    {
     "name": "stdout",
     "output_type": "stream",
     "text": [
      "val step took 31.3 s\n",
      "val loss = 0.22\n",
      "[Epoch 20|val]\t31.32 s\t0.2194\n",
      "start training (epoch=21)\n"
     ]
    },
    {
     "name": "stderr",
     "output_type": "stream",
     "text": [
      "Epoch 21: 100%|██████████| 47/47 [01:18<00:00,  1.67s/it]\n"
     ]
    },
    {
     "name": "stdout",
     "output_type": "stream",
     "text": [
      "train step took 79.3 s\n",
      "train loss = 0.19\n"
     ]
    },
    {
     "name": "stderr",
     "output_type": "stream",
     "text": [
      "Validation 21: 100%|██████████| 15/15 [00:29<00:00,  1.96s/it]\n"
     ]
    },
    {
     "name": "stdout",
     "output_type": "stream",
     "text": [
      "val step took 30.3 s\n",
      "val loss = 0.21\n",
      "[Epoch 21|val]\t30.33 s\t0.2146\n",
      "start training (epoch=22)\n"
     ]
    },
    {
     "name": "stderr",
     "output_type": "stream",
     "text": [
      "Epoch 22: 100%|██████████| 47/47 [01:26<00:00,  1.84s/it]\n"
     ]
    },
    {
     "name": "stdout",
     "output_type": "stream",
     "text": [
      "train step took 87.4 s\n",
      "train loss = 0.18\n"
     ]
    },
    {
     "name": "stderr",
     "output_type": "stream",
     "text": [
      "Validation 22: 100%|██████████| 15/15 [00:24<00:00,  1.64s/it]\n"
     ]
    },
    {
     "name": "stdout",
     "output_type": "stream",
     "text": [
      "val step took 25.5 s\n",
      "val loss = 0.21\n",
      "[Epoch 22|val]\t25.52 s\t0.2143\n",
      "start training (epoch=23)\n"
     ]
    },
    {
     "name": "stderr",
     "output_type": "stream",
     "text": [
      "Epoch 23: 100%|██████████| 47/47 [01:34<00:00,  2.00s/it]\n"
     ]
    },
    {
     "name": "stdout",
     "output_type": "stream",
     "text": [
      "train step took 95.0 s\n",
      "train loss = 0.18\n"
     ]
    },
    {
     "name": "stderr",
     "output_type": "stream",
     "text": [
      "Validation 23: 100%|██████████| 15/15 [00:26<00:00,  1.78s/it]\n"
     ]
    },
    {
     "name": "stdout",
     "output_type": "stream",
     "text": [
      "val step took 27.7 s\n",
      "val loss = 0.21\n",
      "[Epoch 23|val]\t27.68 s\t0.2143\n",
      "start training (epoch=24)\n"
     ]
    },
    {
     "name": "stderr",
     "output_type": "stream",
     "text": [
      "Epoch 24: 100%|██████████| 47/47 [01:20<00:00,  1.71s/it]\n"
     ]
    },
    {
     "name": "stdout",
     "output_type": "stream",
     "text": [
      "train step took 81.3 s\n",
      "train loss = 0.18\n"
     ]
    },
    {
     "name": "stderr",
     "output_type": "stream",
     "text": [
      "Validation 24: 100%|██████████| 15/15 [00:30<00:00,  2.04s/it]\n"
     ]
    },
    {
     "name": "stdout",
     "output_type": "stream",
     "text": [
      "val step took 31.6 s\n",
      "val loss = 0.22\n",
      "[Epoch 24|val]\t31.61 s\t0.2153\n",
      "finished\n"
     ]
    }
   ],
   "source": [
    "for jeff_station in jeff_station_dirs[4:6]:\n",
    "    station = '-'.join(jeff_station.split('-')[1:])\n",
    "    station_data_dir = fpe_data_dir / station / 'FLOW_CFS'\n",
    "    # check it exists\n",
    "    if not station_data_dir.exists():\n",
    "        print(f'{station} does not exist')\n",
    "        continue\n",
    "    \n",
    "    pairs_files = list((jeff_data_dir / jeff_station / f'input_{random_seed}').glob('*.csv'))\n",
    "    for pair_file in pairs_files:\n",
    "        output_dir = Path(f'../../results/vary_annot_frac.jeff_data/{station}/input_{random_seed}/{pair_file.stem}').resolve()\n",
    "        output_dir.mkdir(parents=True, exist_ok=True)\n",
    "\n",
    "        command = f'python ../train.py --augment --normalize --images-dir \"{station_data_dir}\" --pairs-file \"{pair_file}\" --output-dir \"{output_dir}\" --model-dir \"{output_dir}\" --gpu 1'\n",
    "        print(command)\n",
    "        subprocess.run(command, shell=True)\n"
   ]
  },
  {
   "cell_type": "code",
   "execution_count": null,
   "metadata": {},
   "outputs": [],
   "source": []
  }
 ],
 "metadata": {
  "kernelspec": {
   "display_name": "fpe-model.dev-amrita",
   "language": "python",
   "name": "python3"
  },
  "language_info": {
   "codemirror_mode": {
    "name": "ipython",
    "version": 3
   },
   "file_extension": ".py",
   "mimetype": "text/x-python",
   "name": "python",
   "nbconvert_exporter": "python",
   "pygments_lexer": "ipython3",
   "version": "3.9.16"
  }
 },
 "nbformat": 4,
 "nbformat_minor": 2
}
