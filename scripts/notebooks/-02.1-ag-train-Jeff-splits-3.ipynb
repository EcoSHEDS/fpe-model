{
 "cells": [
  {
   "cell_type": "code",
   "execution_count": 1,
   "metadata": {},
   "outputs": [],
   "source": [
    "import numpy as np\n",
    "import pandas as pd\n",
    "import subprocess\n",
    "from pathlib import Path\n"
   ]
  },
  {
   "cell_type": "code",
   "execution_count": 2,
   "metadata": {},
   "outputs": [],
   "source": [
    "jeff_data_dir = Path('../../../../data/Streamflow/Jeff_data/stations').resolve()\n",
    "jeff_station_dirs = sorted([x.name for x in jeff_data_dir.iterdir() if x.is_dir()])\n",
    "\n",
    "fpe_data_dir = Path('../../../../data/Streamflow/fpe_stations/').resolve()\n",
    "\n",
    "random_seeds = [4275, 3274, 1632, 8436, 2927]\n",
    "random_seed = random_seeds[0]"
   ]
  },
  {
   "cell_type": "code",
   "execution_count": 4,
   "metadata": {},
   "outputs": [
    {
     "name": "stdout",
     "output_type": "stream",
     "text": [
      "python ../train.py --augment --normalize --images-dir \"/home/amritagupta/ssdprivate/data/Streamflow/fpe_stations/West Branch Swift River_01174565/FLOW_CFS\" --pairs-file \"/home/amritagupta/ssdprivate/data/Streamflow/Jeff_data/stations/68-West Branch Swift River_01174565/input_4275/pairs_500.csv\" --output-dir \"/home/amritagupta/ssdprivate/repos/fpe-model/results/vary_annot_frac.jeff_data/West Branch Swift River_01174565/input_4275/pairs_500\" --model-dir \"/home/amritagupta/ssdprivate/repos/fpe-model/results/vary_annot_frac.jeff_data/West Branch Swift River_01174565/input_4275/pairs_500\" --gpu 2\n",
      "Namespace(images_dir='/home/amritagupta/ssdprivate/data/Streamflow/fpe_stations/West Branch Swift River_01174565/FLOW_CFS', pairs_file='/home/amritagupta/ssdprivate/data/Streamflow/Jeff_data/stations/68-West Branch Swift River_01174565/input_4275/pairs_500.csv', output_dir='/home/amritagupta/ssdprivate/repos/fpe-model/results/vary_annot_frac.jeff_data/West Branch Swift River_01174565/input_4275/pairs_500', model_dir='/home/amritagupta/ssdprivate/repos/fpe-model/results/vary_annot_frac.jeff_data/West Branch Swift River_01174565/input_4275/pairs_500', gpu=2, num_workers=12, local=False, epochs=25, batch_size=64, lr=0.001, random_seed=1691, unfreeze_after=2, num_image_stats=1000, input_size=480, decolorize=False, augment=True, normalize=True)\n",
      "train()\n",
      "args:\n",
      "{'images_dir': '/home/amritagupta/ssdprivate/data/Streamflow/fpe_stations/West Branch Swift River_01174565/FLOW_CFS', 'pairs_file': '/home/amritagupta/ssdprivate/data/Streamflow/Jeff_data/stations/68-West Branch Swift River_01174565/input_4275/pairs_500.csv', 'output_dir': '/home/amritagupta/ssdprivate/repos/fpe-model/results/vary_annot_frac.jeff_data/West Branch Swift River_01174565/input_4275/pairs_500', 'model_dir': '/home/amritagupta/ssdprivate/repos/fpe-model/results/vary_annot_frac.jeff_data/West Branch Swift River_01174565/input_4275/pairs_500', 'gpu': 2, 'num_workers': 12, 'local': False, 'epochs': 25, 'batch_size': 64, 'lr': 0.001, 'random_seed': 1691, 'unfreeze_after': 2, 'num_image_stats': 1000, 'input_size': 480, 'decolorize': False, 'augment': True, 'normalize': True}\n",
      "device: cuda:2\n",
      "output_dir: /home/amritagupta/ssdprivate/repos/fpe-model/results/vary_annot_frac.jeff_data/West Branch Swift River_01174565/input_4275/pairs_500\n",
      "saved args: /home/amritagupta/ssdprivate/repos/fpe-model/results/vary_annot_frac.jeff_data/West Branch Swift River_01174565/input_4275/pairs_500/args.json\n",
      "model_dir: /home/amritagupta/ssdprivate/repos/fpe-model/results/vary_annot_frac.jeff_data/West Branch Swift River_01174565/input_4275/pairs_500\n",
      "set seeds (1691)\n"
     ]
    },
    {
     "name": "stderr",
     "output_type": "stream",
     "text": [
      "100%|██████████| 963/963 [02:41<00:00,  5.98it/s]\n"
     ]
    },
    {
     "name": "stdout",
     "output_type": "stream",
     "text": [
      "resize_shape: [480, 640]\n",
      "input_shape: [384, 512]\n",
      "creating train dataset\n",
      "creating val datasets\n",
      "val ds: 1430\n",
      "creating data loaders\n",
      "initializing model\n",
      "start training\n",
      "start training (epoch=0)\n"
     ]
    },
    {
     "name": "stderr",
     "output_type": "stream",
     "text": [
      "Epoch 0: 100%|██████████| 16/16 [00:57<00:00,  3.62s/it]\n"
     ]
    },
    {
     "name": "stdout",
     "output_type": "stream",
     "text": [
      "train step took 58.9 s\n",
      "train loss = 0.69\n"
     ]
    },
    {
     "name": "stderr",
     "output_type": "stream",
     "text": [
      "Validation 0: 100%|██████████| 23/23 [00:49<00:00,  2.17s/it]\n"
     ]
    },
    {
     "name": "stdout",
     "output_type": "stream",
     "text": [
      "val step took 51.6 s\n",
      "val loss = 0.69\n",
      "[Epoch 0|val]\t51.63 s\t0.6912\n",
      "start training (epoch=1)\n"
     ]
    },
    {
     "name": "stderr",
     "output_type": "stream",
     "text": [
      "Epoch 1: 100%|██████████| 16/16 [00:47<00:00,  2.99s/it]\n"
     ]
    },
    {
     "name": "stdout",
     "output_type": "stream",
     "text": [
      "train step took 48.7 s\n",
      "train loss = 0.69\n"
     ]
    },
    {
     "name": "stderr",
     "output_type": "stream",
     "text": [
      "Validation 1: 100%|██████████| 23/23 [00:46<00:00,  2.04s/it]\n"
     ]
    },
    {
     "name": "stdout",
     "output_type": "stream",
     "text": [
      "val step took 48.7 s\n",
      "val loss = 0.68\n",
      "[Epoch 1|val]\t48.71 s\t0.6829\n",
      "unfreezing cnn body after epoch=1\n",
      "start training (epoch=2)\n"
     ]
    },
    {
     "name": "stderr",
     "output_type": "stream",
     "text": [
      "Epoch 2: 100%|██████████| 16/16 [00:47<00:00,  2.98s/it]\n"
     ]
    },
    {
     "name": "stdout",
     "output_type": "stream",
     "text": [
      "train step took 48.6 s\n",
      "train loss = 0.68\n"
     ]
    },
    {
     "name": "stderr",
     "output_type": "stream",
     "text": [
      "Validation 2: 100%|██████████| 23/23 [00:50<00:00,  2.21s/it]\n"
     ]
    },
    {
     "name": "stdout",
     "output_type": "stream",
     "text": [
      "val step took 52.8 s\n",
      "val loss = 0.68\n",
      "[Epoch 2|val]\t52.76 s\t0.6758\n",
      "start training (epoch=3)\n"
     ]
    },
    {
     "name": "stderr",
     "output_type": "stream",
     "text": [
      "Epoch 3: 100%|██████████| 16/16 [00:47<00:00,  2.99s/it]\n"
     ]
    },
    {
     "name": "stdout",
     "output_type": "stream",
     "text": [
      "train step took 49.8 s\n",
      "train loss = 0.67\n"
     ]
    },
    {
     "name": "stderr",
     "output_type": "stream",
     "text": [
      "Validation 3: 100%|██████████| 23/23 [00:46<00:00,  2.03s/it]\n"
     ]
    },
    {
     "name": "stdout",
     "output_type": "stream",
     "text": [
      "val step took 48.3 s\n",
      "val loss = 0.66\n",
      "[Epoch 3|val]\t48.30 s\t0.6622\n",
      "start training (epoch=4)\n"
     ]
    },
    {
     "name": "stderr",
     "output_type": "stream",
     "text": [
      "Epoch 4: 100%|██████████| 16/16 [00:52<00:00,  3.25s/it]\n"
     ]
    },
    {
     "name": "stdout",
     "output_type": "stream",
     "text": [
      "train step took 53.5 s\n",
      "train loss = 0.66\n"
     ]
    },
    {
     "name": "stderr",
     "output_type": "stream",
     "text": [
      "Validation 4: 100%|██████████| 23/23 [00:43<00:00,  1.88s/it]\n"
     ]
    },
    {
     "name": "stdout",
     "output_type": "stream",
     "text": [
      "val step took 45.2 s\n",
      "val loss = 0.64\n",
      "[Epoch 4|val]\t45.22 s\t0.6444\n",
      "start training (epoch=5)\n"
     ]
    },
    {
     "name": "stderr",
     "output_type": "stream",
     "text": [
      "Epoch 5: 100%|██████████| 16/16 [00:52<00:00,  3.29s/it]\n"
     ]
    },
    {
     "name": "stdout",
     "output_type": "stream",
     "text": [
      "train step took 54.4 s\n",
      "train loss = 0.64\n"
     ]
    },
    {
     "name": "stderr",
     "output_type": "stream",
     "text": [
      "Validation 5: 100%|██████████| 23/23 [00:38<00:00,  1.66s/it]\n"
     ]
    },
    {
     "name": "stdout",
     "output_type": "stream",
     "text": [
      "val step took 40.1 s\n",
      "val loss = 0.62\n",
      "[Epoch 5|val]\t40.09 s\t0.6213\n",
      "start training (epoch=6)\n"
     ]
    },
    {
     "name": "stderr",
     "output_type": "stream",
     "text": [
      "Epoch 6: 100%|██████████| 16/16 [00:59<00:00,  3.70s/it]\n"
     ]
    },
    {
     "name": "stdout",
     "output_type": "stream",
     "text": [
      "train step took 60.4 s\n",
      "train loss = 0.62\n"
     ]
    },
    {
     "name": "stderr",
     "output_type": "stream",
     "text": [
      "Validation 6: 100%|██████████| 23/23 [00:43<00:00,  1.87s/it]\n"
     ]
    },
    {
     "name": "stdout",
     "output_type": "stream",
     "text": [
      "val step took 45.1 s\n",
      "val loss = 0.59\n",
      "[Epoch 6|val]\t45.13 s\t0.5916\n",
      "start training (epoch=7)\n"
     ]
    },
    {
     "name": "stderr",
     "output_type": "stream",
     "text": [
      "Epoch 7: 100%|██████████| 16/16 [00:45<00:00,  2.84s/it]\n"
     ]
    },
    {
     "name": "stdout",
     "output_type": "stream",
     "text": [
      "train step took 47.2 s\n",
      "train loss = 0.59\n"
     ]
    },
    {
     "name": "stderr",
     "output_type": "stream",
     "text": [
      "Validation 7: 100%|██████████| 23/23 [00:47<00:00,  2.06s/it]\n"
     ]
    },
    {
     "name": "stdout",
     "output_type": "stream",
     "text": [
      "val step took 49.9 s\n",
      "val loss = 0.55\n",
      "[Epoch 7|val]\t49.88 s\t0.5515\n",
      "start training (epoch=8)\n"
     ]
    },
    {
     "name": "stderr",
     "output_type": "stream",
     "text": [
      "Epoch 8: 100%|██████████| 16/16 [00:41<00:00,  2.60s/it]\n"
     ]
    },
    {
     "name": "stdout",
     "output_type": "stream",
     "text": [
      "train step took 42.4 s\n",
      "train loss = 0.55\n"
     ]
    },
    {
     "name": "stderr",
     "output_type": "stream",
     "text": [
      "Validation 8: 100%|██████████| 23/23 [00:55<00:00,  2.42s/it]\n"
     ]
    },
    {
     "name": "stdout",
     "output_type": "stream",
     "text": [
      "val step took 57.7 s\n",
      "val loss = 0.50\n",
      "[Epoch 8|val]\t57.68 s\t0.5033\n",
      "start training (epoch=9)\n"
     ]
    },
    {
     "name": "stderr",
     "output_type": "stream",
     "text": [
      "Epoch 9: 100%|██████████| 16/16 [00:36<00:00,  2.29s/it]\n"
     ]
    },
    {
     "name": "stdout",
     "output_type": "stream",
     "text": [
      "train step took 38.6 s\n",
      "train loss = 0.51\n"
     ]
    },
    {
     "name": "stderr",
     "output_type": "stream",
     "text": [
      "Validation 9: 100%|██████████| 23/23 [00:54<00:00,  2.38s/it]\n"
     ]
    },
    {
     "name": "stdout",
     "output_type": "stream",
     "text": [
      "val step took 55.7 s\n",
      "val loss = 0.45\n",
      "[Epoch 9|val]\t55.69 s\t0.4535\n",
      "start training (epoch=10)\n"
     ]
    },
    {
     "name": "stderr",
     "output_type": "stream",
     "text": [
      "Epoch 10: 100%|██████████| 16/16 [00:46<00:00,  2.88s/it]\n"
     ]
    },
    {
     "name": "stdout",
     "output_type": "stream",
     "text": [
      "train step took 47.9 s\n",
      "train loss = 0.47\n"
     ]
    },
    {
     "name": "stderr",
     "output_type": "stream",
     "text": [
      "Validation 10: 100%|██████████| 23/23 [00:47<00:00,  2.06s/it]\n"
     ]
    },
    {
     "name": "stdout",
     "output_type": "stream",
     "text": [
      "val step took 48.5 s\n",
      "val loss = 0.41\n",
      "[Epoch 10|val]\t48.52 s\t0.4133\n",
      "start training (epoch=11)\n"
     ]
    },
    {
     "name": "stderr",
     "output_type": "stream",
     "text": [
      "Epoch 11: 100%|██████████| 16/16 [00:49<00:00,  3.12s/it]\n"
     ]
    },
    {
     "name": "stdout",
     "output_type": "stream",
     "text": [
      "train step took 52.3 s\n",
      "train loss = 0.43\n"
     ]
    },
    {
     "name": "stderr",
     "output_type": "stream",
     "text": [
      "Validation 11: 100%|██████████| 23/23 [00:39<00:00,  1.72s/it]\n"
     ]
    },
    {
     "name": "stdout",
     "output_type": "stream",
     "text": [
      "val step took 41.6 s\n",
      "val loss = 0.38\n",
      "[Epoch 11|val]\t41.56 s\t0.3824\n",
      "start training (epoch=12)\n"
     ]
    },
    {
     "name": "stderr",
     "output_type": "stream",
     "text": [
      "Epoch 12: 100%|██████████| 16/16 [00:53<00:00,  3.34s/it]\n"
     ]
    },
    {
     "name": "stdout",
     "output_type": "stream",
     "text": [
      "train step took 54.6 s\n",
      "train loss = 0.41\n"
     ]
    },
    {
     "name": "stderr",
     "output_type": "stream",
     "text": [
      "Validation 12: 100%|██████████| 23/23 [00:41<00:00,  1.82s/it]\n"
     ]
    },
    {
     "name": "stdout",
     "output_type": "stream",
     "text": [
      "val step took 43.8 s\n",
      "val loss = 0.36\n",
      "[Epoch 12|val]\t43.81 s\t0.3629\n",
      "start training (epoch=13)\n"
     ]
    },
    {
     "name": "stderr",
     "output_type": "stream",
     "text": [
      "Epoch 13: 100%|██████████| 16/16 [00:43<00:00,  2.74s/it]\n"
     ]
    },
    {
     "name": "stdout",
     "output_type": "stream",
     "text": [
      "train step took 45.9 s\n",
      "train loss = 0.38\n"
     ]
    },
    {
     "name": "stderr",
     "output_type": "stream",
     "text": [
      "Validation 13: 100%|██████████| 23/23 [00:55<00:00,  2.39s/it]\n"
     ]
    },
    {
     "name": "stdout",
     "output_type": "stream",
     "text": [
      "val step took 56.6 s\n",
      "val loss = 0.35\n",
      "[Epoch 13|val]\t56.56 s\t0.3511\n",
      "start training (epoch=14)\n"
     ]
    },
    {
     "name": "stderr",
     "output_type": "stream",
     "text": [
      "Epoch 14: 100%|██████████| 16/16 [00:45<00:00,  2.85s/it]\n"
     ]
    },
    {
     "name": "stdout",
     "output_type": "stream",
     "text": [
      "train step took 46.7 s\n",
      "train loss = 0.37\n"
     ]
    },
    {
     "name": "stderr",
     "output_type": "stream",
     "text": [
      "Validation 14: 100%|██████████| 23/23 [00:51<00:00,  2.24s/it]\n"
     ]
    },
    {
     "name": "stdout",
     "output_type": "stream",
     "text": [
      "val step took 53.0 s\n",
      "val loss = 0.34\n",
      "[Epoch 14|val]\t52.99 s\t0.3438\n",
      "start training (epoch=15)\n"
     ]
    },
    {
     "name": "stderr",
     "output_type": "stream",
     "text": [
      "Epoch 15: 100%|██████████| 16/16 [00:49<00:00,  3.09s/it]\n"
     ]
    },
    {
     "name": "stdout",
     "output_type": "stream",
     "text": [
      "train step took 51.1 s\n",
      "train loss = 0.35\n"
     ]
    },
    {
     "name": "stderr",
     "output_type": "stream",
     "text": [
      "Validation 15: 100%|██████████| 23/23 [00:50<00:00,  2.18s/it]\n"
     ]
    },
    {
     "name": "stdout",
     "output_type": "stream",
     "text": [
      "val step took 51.7 s\n",
      "val loss = 0.34\n",
      "[Epoch 15|val]\t51.71 s\t0.3367\n",
      "start training (epoch=16)\n"
     ]
    },
    {
     "name": "stderr",
     "output_type": "stream",
     "text": [
      "Epoch 16: 100%|██████████| 16/16 [00:48<00:00,  3.02s/it]\n"
     ]
    },
    {
     "name": "stdout",
     "output_type": "stream",
     "text": [
      "train step took 49.9 s\n",
      "train loss = 0.36\n"
     ]
    },
    {
     "name": "stderr",
     "output_type": "stream",
     "text": [
      "Validation 16: 100%|██████████| 23/23 [00:43<00:00,  1.91s/it]\n"
     ]
    },
    {
     "name": "stdout",
     "output_type": "stream",
     "text": [
      "val step took 46.0 s\n",
      "val loss = 0.33\n",
      "[Epoch 16|val]\t45.97 s\t0.3343\n",
      "start training (epoch=17)\n"
     ]
    },
    {
     "name": "stderr",
     "output_type": "stream",
     "text": [
      "Epoch 17: 100%|██████████| 16/16 [00:47<00:00,  2.98s/it]\n"
     ]
    },
    {
     "name": "stdout",
     "output_type": "stream",
     "text": [
      "train step took 49.5 s\n",
      "train loss = 0.35\n"
     ]
    },
    {
     "name": "stderr",
     "output_type": "stream",
     "text": [
      "Validation 17: 100%|██████████| 23/23 [00:39<00:00,  1.72s/it]\n"
     ]
    },
    {
     "name": "stdout",
     "output_type": "stream",
     "text": [
      "val step took 41.0 s\n",
      "val loss = 0.33\n",
      "[Epoch 17|val]\t41.01 s\t0.3308\n",
      "start training (epoch=18)\n"
     ]
    },
    {
     "name": "stderr",
     "output_type": "stream",
     "text": [
      "Epoch 18: 100%|██████████| 16/16 [00:35<00:00,  2.21s/it]\n"
     ]
    },
    {
     "name": "stdout",
     "output_type": "stream",
     "text": [
      "train step took 36.4 s\n",
      "train loss = 0.34\n"
     ]
    },
    {
     "name": "stderr",
     "output_type": "stream",
     "text": [
      "Validation 18: 100%|██████████| 23/23 [00:36<00:00,  1.59s/it]\n"
     ]
    },
    {
     "name": "stdout",
     "output_type": "stream",
     "text": [
      "val step took 38.0 s\n",
      "val loss = 0.33\n",
      "[Epoch 18|val]\t37.97 s\t0.3285\n",
      "start training (epoch=19)\n"
     ]
    },
    {
     "name": "stderr",
     "output_type": "stream",
     "text": [
      "Epoch 19: 100%|██████████| 16/16 [00:29<00:00,  1.86s/it]\n"
     ]
    },
    {
     "name": "stdout",
     "output_type": "stream",
     "text": [
      "train step took 30.7 s\n",
      "train loss = 0.34\n"
     ]
    },
    {
     "name": "stderr",
     "output_type": "stream",
     "text": [
      "Validation 19: 100%|██████████| 23/23 [00:35<00:00,  1.53s/it]\n"
     ]
    },
    {
     "name": "stdout",
     "output_type": "stream",
     "text": [
      "val step took 36.4 s\n",
      "val loss = 0.33\n",
      "[Epoch 19|val]\t36.45 s\t0.3254\n",
      "start training (epoch=20)\n"
     ]
    },
    {
     "name": "stderr",
     "output_type": "stream",
     "text": [
      "Epoch 20: 100%|██████████| 16/16 [00:37<00:00,  2.34s/it]\n"
     ]
    },
    {
     "name": "stdout",
     "output_type": "stream",
     "text": [
      "train step took 38.5 s\n",
      "train loss = 0.32\n"
     ]
    },
    {
     "name": "stderr",
     "output_type": "stream",
     "text": [
      "Validation 20: 100%|██████████| 23/23 [00:22<00:00,  1.01it/s]\n"
     ]
    },
    {
     "name": "stdout",
     "output_type": "stream",
     "text": [
      "val step took 23.7 s\n",
      "val loss = 0.32\n",
      "[Epoch 20|val]\t23.71 s\t0.3231\n",
      "start training (epoch=21)\n"
     ]
    },
    {
     "name": "stderr",
     "output_type": "stream",
     "text": [
      "Epoch 21: 100%|██████████| 16/16 [00:26<00:00,  1.66s/it]\n"
     ]
    },
    {
     "name": "stdout",
     "output_type": "stream",
     "text": [
      "train step took 27.3 s\n",
      "train loss = 0.32\n"
     ]
    },
    {
     "name": "stderr",
     "output_type": "stream",
     "text": [
      "Validation 21: 100%|██████████| 23/23 [00:25<00:00,  1.10s/it]\n"
     ]
    },
    {
     "name": "stdout",
     "output_type": "stream",
     "text": [
      "val step took 26.3 s\n",
      "val loss = 0.32\n",
      "[Epoch 21|val]\t26.26 s\t0.3191\n",
      "start training (epoch=22)\n"
     ]
    },
    {
     "name": "stderr",
     "output_type": "stream",
     "text": [
      "Epoch 22: 100%|██████████| 16/16 [00:30<00:00,  1.88s/it]\n"
     ]
    },
    {
     "name": "stdout",
     "output_type": "stream",
     "text": [
      "train step took 31.1 s\n",
      "train loss = 0.31\n"
     ]
    },
    {
     "name": "stderr",
     "output_type": "stream",
     "text": [
      "Validation 22: 100%|██████████| 23/23 [00:34<00:00,  1.49s/it]\n"
     ]
    },
    {
     "name": "stdout",
     "output_type": "stream",
     "text": [
      "val step took 35.4 s\n",
      "val loss = 0.32\n",
      "[Epoch 22|val]\t35.43 s\t0.3172\n",
      "start training (epoch=23)\n"
     ]
    },
    {
     "name": "stderr",
     "output_type": "stream",
     "text": [
      "Epoch 23: 100%|██████████| 16/16 [00:32<00:00,  2.01s/it]\n"
     ]
    },
    {
     "name": "stdout",
     "output_type": "stream",
     "text": [
      "train step took 33.2 s\n",
      "train loss = 0.30\n"
     ]
    },
    {
     "name": "stderr",
     "output_type": "stream",
     "text": [
      "Validation 23: 100%|██████████| 23/23 [00:28<00:00,  1.25s/it]\n"
     ]
    },
    {
     "name": "stdout",
     "output_type": "stream",
     "text": [
      "val step took 29.8 s\n",
      "val loss = 0.32\n",
      "[Epoch 23|val]\t29.85 s\t0.3158\n",
      "start training (epoch=24)\n"
     ]
    },
    {
     "name": "stderr",
     "output_type": "stream",
     "text": [
      "Epoch 24: 100%|██████████| 16/16 [00:40<00:00,  2.54s/it]\n"
     ]
    },
    {
     "name": "stdout",
     "output_type": "stream",
     "text": [
      "train step took 41.8 s\n",
      "train loss = 0.29\n"
     ]
    },
    {
     "name": "stderr",
     "output_type": "stream",
     "text": [
      "Validation 24: 100%|██████████| 23/23 [00:31<00:00,  1.38s/it]\n"
     ]
    },
    {
     "name": "stdout",
     "output_type": "stream",
     "text": [
      "val step took 32.8 s\n",
      "val loss = 0.31\n",
      "[Epoch 24|val]\t32.81 s\t0.3143\n",
      "finished\n",
      "python ../train.py --augment --normalize --images-dir \"/home/amritagupta/ssdprivate/data/Streamflow/fpe_stations/West Branch Swift River_01174565/FLOW_CFS\" --pairs-file \"/home/amritagupta/ssdprivate/data/Streamflow/Jeff_data/stations/68-West Branch Swift River_01174565/input_4275/pairs_1000.csv\" --output-dir \"/home/amritagupta/ssdprivate/repos/fpe-model/results/vary_annot_frac.jeff_data/West Branch Swift River_01174565/input_4275/pairs_1000\" --model-dir \"/home/amritagupta/ssdprivate/repos/fpe-model/results/vary_annot_frac.jeff_data/West Branch Swift River_01174565/input_4275/pairs_1000\" --gpu 2\n",
      "Namespace(images_dir='/home/amritagupta/ssdprivate/data/Streamflow/fpe_stations/West Branch Swift River_01174565/FLOW_CFS', pairs_file='/home/amritagupta/ssdprivate/data/Streamflow/Jeff_data/stations/68-West Branch Swift River_01174565/input_4275/pairs_1000.csv', output_dir='/home/amritagupta/ssdprivate/repos/fpe-model/results/vary_annot_frac.jeff_data/West Branch Swift River_01174565/input_4275/pairs_1000', model_dir='/home/amritagupta/ssdprivate/repos/fpe-model/results/vary_annot_frac.jeff_data/West Branch Swift River_01174565/input_4275/pairs_1000', gpu=2, num_workers=12, local=False, epochs=25, batch_size=64, lr=0.001, random_seed=1691, unfreeze_after=2, num_image_stats=1000, input_size=480, decolorize=False, augment=True, normalize=True)\n",
      "train()\n",
      "args:\n",
      "{'images_dir': '/home/amritagupta/ssdprivate/data/Streamflow/fpe_stations/West Branch Swift River_01174565/FLOW_CFS', 'pairs_file': '/home/amritagupta/ssdprivate/data/Streamflow/Jeff_data/stations/68-West Branch Swift River_01174565/input_4275/pairs_1000.csv', 'output_dir': '/home/amritagupta/ssdprivate/repos/fpe-model/results/vary_annot_frac.jeff_data/West Branch Swift River_01174565/input_4275/pairs_1000', 'model_dir': '/home/amritagupta/ssdprivate/repos/fpe-model/results/vary_annot_frac.jeff_data/West Branch Swift River_01174565/input_4275/pairs_1000', 'gpu': 2, 'num_workers': 12, 'local': False, 'epochs': 25, 'batch_size': 64, 'lr': 0.001, 'random_seed': 1691, 'unfreeze_after': 2, 'num_image_stats': 1000, 'input_size': 480, 'decolorize': False, 'augment': True, 'normalize': True}\n",
      "device: cuda:2\n",
      "output_dir: /home/amritagupta/ssdprivate/repos/fpe-model/results/vary_annot_frac.jeff_data/West Branch Swift River_01174565/input_4275/pairs_1000\n",
      "saved args: /home/amritagupta/ssdprivate/repos/fpe-model/results/vary_annot_frac.jeff_data/West Branch Swift River_01174565/input_4275/pairs_1000/args.json\n",
      "model_dir: /home/amritagupta/ssdprivate/repos/fpe-model/results/vary_annot_frac.jeff_data/West Branch Swift River_01174565/input_4275/pairs_1000\n",
      "set seeds (1691)\n"
     ]
    },
    {
     "name": "stderr",
     "output_type": "stream",
     "text": [
      "100%|██████████| 1000/1000 [01:50<00:00,  9.06it/s]\n"
     ]
    },
    {
     "name": "stdout",
     "output_type": "stream",
     "text": [
      "resize_shape: [480, 640]\n",
      "input_shape: [384, 512]\n",
      "creating train dataset\n",
      "creating val datasets\n",
      "val ds: 1430\n",
      "creating data loaders\n",
      "initializing model\n",
      "start training\n",
      "start training (epoch=0)\n"
     ]
    },
    {
     "name": "stderr",
     "output_type": "stream",
     "text": [
      "Epoch 0: 100%|██████████| 32/32 [00:56<00:00,  1.77s/it]\n"
     ]
    },
    {
     "name": "stdout",
     "output_type": "stream",
     "text": [
      "train step took 57.5 s\n",
      "train loss = 0.69\n"
     ]
    },
    {
     "name": "stderr",
     "output_type": "stream",
     "text": [
      "Validation 0: 100%|██████████| 23/23 [00:28<00:00,  1.25s/it]\n"
     ]
    },
    {
     "name": "stdout",
     "output_type": "stream",
     "text": [
      "val step took 29.7 s\n",
      "val loss = 0.68\n",
      "[Epoch 0|val]\t29.68 s\t0.6762\n",
      "start training (epoch=1)\n"
     ]
    },
    {
     "name": "stderr",
     "output_type": "stream",
     "text": [
      "Epoch 1: 100%|██████████| 32/32 [00:36<00:00,  1.16s/it]\n"
     ]
    },
    {
     "name": "stdout",
     "output_type": "stream",
     "text": [
      "train step took 38.0 s\n",
      "train loss = 0.67\n"
     ]
    },
    {
     "name": "stderr",
     "output_type": "stream",
     "text": [
      "Validation 1: 100%|██████████| 23/23 [00:27<00:00,  1.18s/it]\n"
     ]
    },
    {
     "name": "stdout",
     "output_type": "stream",
     "text": [
      "val step took 27.9 s\n",
      "val loss = 0.65\n",
      "[Epoch 1|val]\t27.94 s\t0.6540\n",
      "unfreezing cnn body after epoch=1\n",
      "start training (epoch=2)\n"
     ]
    },
    {
     "name": "stderr",
     "output_type": "stream",
     "text": [
      "Epoch 2: 100%|██████████| 32/32 [00:53<00:00,  1.66s/it]\n"
     ]
    },
    {
     "name": "stdout",
     "output_type": "stream",
     "text": [
      "train step took 54.2 s\n",
      "train loss = 0.65\n"
     ]
    },
    {
     "name": "stderr",
     "output_type": "stream",
     "text": [
      "Validation 2: 100%|██████████| 23/23 [00:42<00:00,  1.86s/it]\n"
     ]
    },
    {
     "name": "stdout",
     "output_type": "stream",
     "text": [
      "val step took 43.8 s\n",
      "val loss = 0.61\n",
      "[Epoch 2|val]\t43.81 s\t0.6129\n",
      "start training (epoch=3)\n"
     ]
    },
    {
     "name": "stderr",
     "output_type": "stream",
     "text": [
      "Epoch 3: 100%|██████████| 32/32 [00:56<00:00,  1.77s/it]\n"
     ]
    },
    {
     "name": "stdout",
     "output_type": "stream",
     "text": [
      "train step took 57.7 s\n",
      "train loss = 0.59\n"
     ]
    },
    {
     "name": "stderr",
     "output_type": "stream",
     "text": [
      "Validation 3: 100%|██████████| 23/23 [00:39<00:00,  1.71s/it]\n"
     ]
    },
    {
     "name": "stdout",
     "output_type": "stream",
     "text": [
      "val step took 40.6 s\n",
      "val loss = 0.52\n",
      "[Epoch 3|val]\t40.58 s\t0.5249\n",
      "start training (epoch=4)\n"
     ]
    },
    {
     "name": "stderr",
     "output_type": "stream",
     "text": [
      "Epoch 4: 100%|██████████| 32/32 [01:02<00:00,  1.95s/it]\n"
     ]
    },
    {
     "name": "stdout",
     "output_type": "stream",
     "text": [
      "train step took 63.3 s\n",
      "train loss = 0.51\n"
     ]
    },
    {
     "name": "stderr",
     "output_type": "stream",
     "text": [
      "Validation 4: 100%|██████████| 23/23 [00:36<00:00,  1.60s/it]\n"
     ]
    },
    {
     "name": "stdout",
     "output_type": "stream",
     "text": [
      "val step took 38.0 s\n",
      "val loss = 0.42\n",
      "[Epoch 4|val]\t38.04 s\t0.4245\n",
      "start training (epoch=5)\n"
     ]
    },
    {
     "name": "stderr",
     "output_type": "stream",
     "text": [
      "Epoch 5: 100%|██████████| 32/32 [00:57<00:00,  1.79s/it]\n"
     ]
    },
    {
     "name": "stdout",
     "output_type": "stream",
     "text": [
      "train step took 58.3 s\n",
      "train loss = 0.43\n"
     ]
    },
    {
     "name": "stderr",
     "output_type": "stream",
     "text": [
      "Validation 5: 100%|██████████| 23/23 [00:41<00:00,  1.81s/it]\n"
     ]
    },
    {
     "name": "stdout",
     "output_type": "stream",
     "text": [
      "val step took 42.6 s\n",
      "val loss = 0.37\n",
      "[Epoch 5|val]\t42.55 s\t0.3704\n",
      "start training (epoch=6)\n"
     ]
    },
    {
     "name": "stderr",
     "output_type": "stream",
     "text": [
      "Epoch 6: 100%|██████████| 32/32 [00:56<00:00,  1.75s/it]\n"
     ]
    },
    {
     "name": "stdout",
     "output_type": "stream",
     "text": [
      "train step took 57.1 s\n",
      "train loss = 0.40\n"
     ]
    },
    {
     "name": "stderr",
     "output_type": "stream",
     "text": [
      "Validation 6: 100%|██████████| 23/23 [00:36<00:00,  1.58s/it]\n"
     ]
    },
    {
     "name": "stdout",
     "output_type": "stream",
     "text": [
      "val step took 37.5 s\n",
      "val loss = 0.35\n",
      "[Epoch 6|val]\t37.48 s\t0.3466\n",
      "start training (epoch=7)\n"
     ]
    },
    {
     "name": "stderr",
     "output_type": "stream",
     "text": [
      "Epoch 7: 100%|██████████| 32/32 [01:01<00:00,  1.92s/it]\n"
     ]
    },
    {
     "name": "stdout",
     "output_type": "stream",
     "text": [
      "train step took 62.4 s\n",
      "train loss = 0.38\n"
     ]
    },
    {
     "name": "stderr",
     "output_type": "stream",
     "text": [
      "Validation 7: 100%|██████████| 23/23 [00:41<00:00,  1.81s/it]\n"
     ]
    },
    {
     "name": "stdout",
     "output_type": "stream",
     "text": [
      "val step took 42.9 s\n",
      "val loss = 0.34\n",
      "[Epoch 7|val]\t42.92 s\t0.3368\n",
      "start training (epoch=8)\n"
     ]
    },
    {
     "name": "stderr",
     "output_type": "stream",
     "text": [
      "Epoch 8: 100%|██████████| 32/32 [00:56<00:00,  1.77s/it]\n"
     ]
    },
    {
     "name": "stdout",
     "output_type": "stream",
     "text": [
      "train step took 57.6 s\n",
      "train loss = 0.37\n"
     ]
    },
    {
     "name": "stderr",
     "output_type": "stream",
     "text": [
      "Validation 8: 100%|██████████| 23/23 [00:42<00:00,  1.83s/it]\n"
     ]
    },
    {
     "name": "stdout",
     "output_type": "stream",
     "text": [
      "val step took 43.3 s\n",
      "val loss = 0.33\n",
      "[Epoch 8|val]\t43.33 s\t0.3316\n",
      "start training (epoch=9)\n"
     ]
    },
    {
     "name": "stderr",
     "output_type": "stream",
     "text": [
      "Epoch 9: 100%|██████████| 32/32 [00:51<00:00,  1.61s/it]\n"
     ]
    },
    {
     "name": "stdout",
     "output_type": "stream",
     "text": [
      "train step took 52.3 s\n",
      "train loss = 0.35\n"
     ]
    },
    {
     "name": "stderr",
     "output_type": "stream",
     "text": [
      "Validation 9: 100%|██████████| 23/23 [00:41<00:00,  1.79s/it]\n"
     ]
    },
    {
     "name": "stdout",
     "output_type": "stream",
     "text": [
      "val step took 42.4 s\n",
      "val loss = 0.32\n",
      "[Epoch 9|val]\t42.40 s\t0.3236\n",
      "start training (epoch=10)\n"
     ]
    },
    {
     "name": "stderr",
     "output_type": "stream",
     "text": [
      "Epoch 10: 100%|██████████| 32/32 [00:51<00:00,  1.62s/it]\n"
     ]
    },
    {
     "name": "stdout",
     "output_type": "stream",
     "text": [
      "train step took 53.0 s\n",
      "train loss = 0.34\n"
     ]
    },
    {
     "name": "stderr",
     "output_type": "stream",
     "text": [
      "Validation 10: 100%|██████████| 23/23 [00:37<00:00,  1.64s/it]\n"
     ]
    },
    {
     "name": "stdout",
     "output_type": "stream",
     "text": [
      "val step took 38.9 s\n",
      "val loss = 0.32\n",
      "[Epoch 10|val]\t38.93 s\t0.3199\n",
      "start training (epoch=11)\n"
     ]
    },
    {
     "name": "stderr",
     "output_type": "stream",
     "text": [
      "Epoch 11: 100%|██████████| 32/32 [00:58<00:00,  1.83s/it]\n"
     ]
    },
    {
     "name": "stdout",
     "output_type": "stream",
     "text": [
      "train step took 59.6 s\n",
      "train loss = 0.35\n"
     ]
    },
    {
     "name": "stderr",
     "output_type": "stream",
     "text": [
      "Validation 11: 100%|██████████| 23/23 [00:38<00:00,  1.68s/it]\n"
     ]
    },
    {
     "name": "stdout",
     "output_type": "stream",
     "text": [
      "val step took 39.8 s\n",
      "val loss = 0.32\n",
      "[Epoch 11|val]\t39.84 s\t0.3173\n",
      "start training (epoch=12)\n"
     ]
    },
    {
     "name": "stderr",
     "output_type": "stream",
     "text": [
      "Epoch 12: 100%|██████████| 32/32 [00:59<00:00,  1.85s/it]\n"
     ]
    },
    {
     "name": "stdout",
     "output_type": "stream",
     "text": [
      "train step took 60.2 s\n",
      "train loss = 0.32\n"
     ]
    },
    {
     "name": "stderr",
     "output_type": "stream",
     "text": [
      "Validation 12: 100%|██████████| 23/23 [00:42<00:00,  1.85s/it]\n"
     ]
    },
    {
     "name": "stdout",
     "output_type": "stream",
     "text": [
      "val step took 43.4 s\n",
      "val loss = 0.31\n",
      "[Epoch 12|val]\t43.42 s\t0.3129\n",
      "start training (epoch=13)\n"
     ]
    },
    {
     "name": "stderr",
     "output_type": "stream",
     "text": [
      "Epoch 13: 100%|██████████| 32/32 [01:09<00:00,  2.18s/it]\n"
     ]
    },
    {
     "name": "stdout",
     "output_type": "stream",
     "text": [
      "train step took 70.9 s\n",
      "train loss = 0.32\n"
     ]
    },
    {
     "name": "stderr",
     "output_type": "stream",
     "text": [
      "Validation 13: 100%|██████████| 23/23 [00:29<00:00,  1.30s/it]\n"
     ]
    },
    {
     "name": "stdout",
     "output_type": "stream",
     "text": [
      "val step took 30.9 s\n",
      "val loss = 0.31\n",
      "[Epoch 13|val]\t30.86 s\t0.3108\n",
      "start training (epoch=14)\n"
     ]
    },
    {
     "name": "stderr",
     "output_type": "stream",
     "text": [
      "Epoch 14: 100%|██████████| 32/32 [00:59<00:00,  1.86s/it]\n"
     ]
    },
    {
     "name": "stdout",
     "output_type": "stream",
     "text": [
      "train step took 60.9 s\n",
      "train loss = 0.31\n"
     ]
    },
    {
     "name": "stderr",
     "output_type": "stream",
     "text": [
      "Validation 14: 100%|██████████| 23/23 [00:35<00:00,  1.56s/it]\n"
     ]
    },
    {
     "name": "stdout",
     "output_type": "stream",
     "text": [
      "val step took 37.0 s\n",
      "val loss = 0.31\n",
      "[Epoch 14|val]\t37.03 s\t0.3099\n",
      "start training (epoch=15)\n"
     ]
    },
    {
     "name": "stderr",
     "output_type": "stream",
     "text": [
      "Epoch 15: 100%|██████████| 32/32 [01:02<00:00,  1.94s/it]\n"
     ]
    },
    {
     "name": "stdout",
     "output_type": "stream",
     "text": [
      "train step took 63.5 s\n",
      "train loss = 0.30\n"
     ]
    },
    {
     "name": "stderr",
     "output_type": "stream",
     "text": [
      "Validation 15: 100%|██████████| 23/23 [00:36<00:00,  1.59s/it]\n"
     ]
    },
    {
     "name": "stdout",
     "output_type": "stream",
     "text": [
      "val step took 37.8 s\n",
      "val loss = 0.31\n",
      "[Epoch 15|val]\t37.82 s\t0.3098\n",
      "start training (epoch=16)\n"
     ]
    },
    {
     "name": "stderr",
     "output_type": "stream",
     "text": [
      "Epoch 16: 100%|██████████| 32/32 [01:06<00:00,  2.07s/it]\n"
     ]
    },
    {
     "name": "stdout",
     "output_type": "stream",
     "text": [
      "train step took 67.2 s\n",
      "train loss = 0.30\n"
     ]
    },
    {
     "name": "stderr",
     "output_type": "stream",
     "text": [
      "Validation 16: 100%|██████████| 23/23 [00:28<00:00,  1.23s/it]\n"
     ]
    },
    {
     "name": "stdout",
     "output_type": "stream",
     "text": [
      "val step took 29.4 s\n",
      "val loss = 0.31\n",
      "[Epoch 16|val]\t29.41 s\t0.3054\n",
      "start training (epoch=17)\n"
     ]
    },
    {
     "name": "stderr",
     "output_type": "stream",
     "text": [
      "Epoch 17: 100%|██████████| 32/32 [01:00<00:00,  1.90s/it]\n"
     ]
    },
    {
     "name": "stdout",
     "output_type": "stream",
     "text": [
      "train step took 61.9 s\n",
      "train loss = 0.28\n"
     ]
    },
    {
     "name": "stderr",
     "output_type": "stream",
     "text": [
      "Validation 17: 100%|██████████| 23/23 [00:26<00:00,  1.16s/it]\n"
     ]
    },
    {
     "name": "stdout",
     "output_type": "stream",
     "text": [
      "val step took 28.0 s\n",
      "val loss = 0.30\n",
      "[Epoch 17|val]\t27.96 s\t0.3041\n",
      "start training (epoch=18)\n"
     ]
    },
    {
     "name": "stderr",
     "output_type": "stream",
     "text": [
      "Epoch 18: 100%|██████████| 32/32 [01:06<00:00,  2.09s/it]\n"
     ]
    },
    {
     "name": "stdout",
     "output_type": "stream",
     "text": [
      "train step took 67.9 s\n",
      "train loss = 0.28\n"
     ]
    },
    {
     "name": "stderr",
     "output_type": "stream",
     "text": [
      "Validation 18: 100%|██████████| 23/23 [00:31<00:00,  1.37s/it]\n"
     ]
    },
    {
     "name": "stdout",
     "output_type": "stream",
     "text": [
      "val step took 32.9 s\n",
      "val loss = 0.30\n",
      "[Epoch 18|val]\t32.87 s\t0.3022\n",
      "start training (epoch=19)\n"
     ]
    },
    {
     "name": "stderr",
     "output_type": "stream",
     "text": [
      "Epoch 19: 100%|██████████| 32/32 [01:01<00:00,  1.93s/it]\n"
     ]
    },
    {
     "name": "stdout",
     "output_type": "stream",
     "text": [
      "train step took 62.7 s\n",
      "train loss = 0.27\n"
     ]
    },
    {
     "name": "stderr",
     "output_type": "stream",
     "text": [
      "Validation 19: 100%|██████████| 23/23 [00:40<00:00,  1.77s/it]\n"
     ]
    },
    {
     "name": "stdout",
     "output_type": "stream",
     "text": [
      "val step took 41.9 s\n",
      "val loss = 0.30\n",
      "[Epoch 19|val]\t41.92 s\t0.3021\n",
      "start training (epoch=20)\n"
     ]
    },
    {
     "name": "stderr",
     "output_type": "stream",
     "text": [
      "Epoch 20: 100%|██████████| 32/32 [00:59<00:00,  1.85s/it]\n"
     ]
    },
    {
     "name": "stdout",
     "output_type": "stream",
     "text": [
      "train step took 60.3 s\n",
      "train loss = 0.27\n"
     ]
    },
    {
     "name": "stderr",
     "output_type": "stream",
     "text": [
      "Validation 20: 100%|██████████| 23/23 [00:40<00:00,  1.77s/it]\n"
     ]
    },
    {
     "name": "stdout",
     "output_type": "stream",
     "text": [
      "val step took 41.9 s\n",
      "val loss = 0.30\n",
      "[Epoch 20|val]\t41.88 s\t0.3008\n",
      "start training (epoch=21)\n"
     ]
    },
    {
     "name": "stderr",
     "output_type": "stream",
     "text": [
      "Epoch 21: 100%|██████████| 32/32 [00:44<00:00,  1.40s/it]\n"
     ]
    },
    {
     "name": "stdout",
     "output_type": "stream",
     "text": [
      "train step took 45.8 s\n",
      "train loss = 0.26\n"
     ]
    },
    {
     "name": "stderr",
     "output_type": "stream",
     "text": [
      "Validation 21: 100%|██████████| 23/23 [00:27<00:00,  1.18s/it]\n"
     ]
    },
    {
     "name": "stdout",
     "output_type": "stream",
     "text": [
      "val step took 28.2 s\n",
      "val loss = 0.31\n",
      "[Epoch 21|val]\t28.16 s\t0.3108\n",
      "start training (epoch=22)\n"
     ]
    },
    {
     "name": "stderr",
     "output_type": "stream",
     "text": [
      "Epoch 22: 100%|██████████| 32/32 [00:39<00:00,  1.24s/it]\n"
     ]
    },
    {
     "name": "stdout",
     "output_type": "stream",
     "text": [
      "train step took 40.4 s\n",
      "train loss = 0.24\n"
     ]
    },
    {
     "name": "stderr",
     "output_type": "stream",
     "text": [
      "Validation 22: 100%|██████████| 23/23 [00:33<00:00,  1.47s/it]\n"
     ]
    },
    {
     "name": "stdout",
     "output_type": "stream",
     "text": [
      "val step took 34.7 s\n",
      "val loss = 0.30\n",
      "[Epoch 22|val]\t34.71 s\t0.3022\n",
      "start training (epoch=23)\n"
     ]
    },
    {
     "name": "stderr",
     "output_type": "stream",
     "text": [
      "Epoch 23: 100%|██████████| 32/32 [00:58<00:00,  1.83s/it]\n"
     ]
    },
    {
     "name": "stdout",
     "output_type": "stream",
     "text": [
      "train step took 59.7 s\n",
      "train loss = 0.23\n"
     ]
    },
    {
     "name": "stderr",
     "output_type": "stream",
     "text": [
      "Validation 23: 100%|██████████| 23/23 [00:32<00:00,  1.39s/it]\n"
     ]
    },
    {
     "name": "stdout",
     "output_type": "stream",
     "text": [
      "val step took 33.1 s\n",
      "val loss = 0.30\n",
      "[Epoch 23|val]\t33.08 s\t0.3015\n",
      "start training (epoch=24)\n"
     ]
    },
    {
     "name": "stderr",
     "output_type": "stream",
     "text": [
      "Epoch 24: 100%|██████████| 32/32 [00:50<00:00,  1.58s/it]\n"
     ]
    },
    {
     "name": "stdout",
     "output_type": "stream",
     "text": [
      "train step took 51.7 s\n",
      "train loss = 0.24\n"
     ]
    },
    {
     "name": "stderr",
     "output_type": "stream",
     "text": [
      "Validation 24: 100%|██████████| 23/23 [00:30<00:00,  1.34s/it]\n"
     ]
    },
    {
     "name": "stdout",
     "output_type": "stream",
     "text": [
      "val step took 32.1 s\n",
      "val loss = 0.30\n",
      "[Epoch 24|val]\t32.07 s\t0.3042\n",
      "finished\n",
      "python ../train.py --augment --normalize --images-dir \"/home/amritagupta/ssdprivate/data/Streamflow/fpe_stations/West Branch Swift River_01174565/FLOW_CFS\" --pairs-file \"/home/amritagupta/ssdprivate/data/Streamflow/Jeff_data/stations/68-West Branch Swift River_01174565/input_4275/pairs_1500.csv\" --output-dir \"/home/amritagupta/ssdprivate/repos/fpe-model/results/vary_annot_frac.jeff_data/West Branch Swift River_01174565/input_4275/pairs_1500\" --model-dir \"/home/amritagupta/ssdprivate/repos/fpe-model/results/vary_annot_frac.jeff_data/West Branch Swift River_01174565/input_4275/pairs_1500\" --gpu 2\n",
      "Namespace(images_dir='/home/amritagupta/ssdprivate/data/Streamflow/fpe_stations/West Branch Swift River_01174565/FLOW_CFS', pairs_file='/home/amritagupta/ssdprivate/data/Streamflow/Jeff_data/stations/68-West Branch Swift River_01174565/input_4275/pairs_1500.csv', output_dir='/home/amritagupta/ssdprivate/repos/fpe-model/results/vary_annot_frac.jeff_data/West Branch Swift River_01174565/input_4275/pairs_1500', model_dir='/home/amritagupta/ssdprivate/repos/fpe-model/results/vary_annot_frac.jeff_data/West Branch Swift River_01174565/input_4275/pairs_1500', gpu=2, num_workers=12, local=False, epochs=25, batch_size=64, lr=0.001, random_seed=1691, unfreeze_after=2, num_image_stats=1000, input_size=480, decolorize=False, augment=True, normalize=True)\n",
      "train()\n",
      "args:\n",
      "{'images_dir': '/home/amritagupta/ssdprivate/data/Streamflow/fpe_stations/West Branch Swift River_01174565/FLOW_CFS', 'pairs_file': '/home/amritagupta/ssdprivate/data/Streamflow/Jeff_data/stations/68-West Branch Swift River_01174565/input_4275/pairs_1500.csv', 'output_dir': '/home/amritagupta/ssdprivate/repos/fpe-model/results/vary_annot_frac.jeff_data/West Branch Swift River_01174565/input_4275/pairs_1500', 'model_dir': '/home/amritagupta/ssdprivate/repos/fpe-model/results/vary_annot_frac.jeff_data/West Branch Swift River_01174565/input_4275/pairs_1500', 'gpu': 2, 'num_workers': 12, 'local': False, 'epochs': 25, 'batch_size': 64, 'lr': 0.001, 'random_seed': 1691, 'unfreeze_after': 2, 'num_image_stats': 1000, 'input_size': 480, 'decolorize': False, 'augment': True, 'normalize': True}\n",
      "device: cuda:2\n",
      "output_dir: /home/amritagupta/ssdprivate/repos/fpe-model/results/vary_annot_frac.jeff_data/West Branch Swift River_01174565/input_4275/pairs_1500\n",
      "saved args: /home/amritagupta/ssdprivate/repos/fpe-model/results/vary_annot_frac.jeff_data/West Branch Swift River_01174565/input_4275/pairs_1500/args.json\n",
      "model_dir: /home/amritagupta/ssdprivate/repos/fpe-model/results/vary_annot_frac.jeff_data/West Branch Swift River_01174565/input_4275/pairs_1500\n",
      "set seeds (1691)\n"
     ]
    },
    {
     "name": "stderr",
     "output_type": "stream",
     "text": [
      "100%|██████████| 1000/1000 [01:46<00:00,  9.37it/s]\n"
     ]
    },
    {
     "name": "stdout",
     "output_type": "stream",
     "text": [
      "resize_shape: [480, 640]\n",
      "input_shape: [384, 512]\n",
      "creating train dataset\n",
      "creating val datasets\n",
      "val ds: 1430\n",
      "creating data loaders\n",
      "initializing model\n",
      "start training\n",
      "start training (epoch=0)\n"
     ]
    },
    {
     "name": "stderr",
     "output_type": "stream",
     "text": [
      "Epoch 0: 100%|██████████| 47/47 [01:24<00:00,  1.79s/it]\n"
     ]
    },
    {
     "name": "stdout",
     "output_type": "stream",
     "text": [
      "train step took 84.8 s\n",
      "train loss = 0.68\n"
     ]
    },
    {
     "name": "stderr",
     "output_type": "stream",
     "text": [
      "Validation 0: 100%|██████████| 23/23 [00:31<00:00,  1.38s/it]\n"
     ]
    },
    {
     "name": "stdout",
     "output_type": "stream",
     "text": [
      "val step took 32.8 s\n",
      "val loss = 0.67\n",
      "[Epoch 0|val]\t32.80 s\t0.6712\n",
      "start training (epoch=1)\n"
     ]
    },
    {
     "name": "stderr",
     "output_type": "stream",
     "text": [
      "Epoch 1: 100%|██████████| 47/47 [01:15<00:00,  1.61s/it]\n"
     ]
    },
    {
     "name": "stdout",
     "output_type": "stream",
     "text": [
      "train step took 76.8 s\n",
      "train loss = 0.67\n"
     ]
    },
    {
     "name": "stderr",
     "output_type": "stream",
     "text": [
      "Validation 1: 100%|██████████| 23/23 [00:39<00:00,  1.74s/it]\n"
     ]
    },
    {
     "name": "stdout",
     "output_type": "stream",
     "text": [
      "val step took 40.8 s\n",
      "val loss = 0.64\n",
      "[Epoch 1|val]\t40.82 s\t0.6449\n",
      "unfreezing cnn body after epoch=1\n",
      "start training (epoch=2)\n"
     ]
    },
    {
     "name": "stderr",
     "output_type": "stream",
     "text": [
      "Epoch 2: 100%|██████████| 47/47 [01:25<00:00,  1.82s/it]\n"
     ]
    },
    {
     "name": "stdout",
     "output_type": "stream",
     "text": [
      "train step took 86.9 s\n",
      "train loss = 0.63\n"
     ]
    },
    {
     "name": "stderr",
     "output_type": "stream",
     "text": [
      "Validation 2: 100%|██████████| 23/23 [00:42<00:00,  1.85s/it]\n"
     ]
    },
    {
     "name": "stdout",
     "output_type": "stream",
     "text": [
      "val step took 43.6 s\n",
      "val loss = 0.56\n",
      "[Epoch 2|val]\t43.59 s\t0.5642\n",
      "start training (epoch=3)\n"
     ]
    },
    {
     "name": "stderr",
     "output_type": "stream",
     "text": [
      "Epoch 3: 100%|██████████| 47/47 [01:27<00:00,  1.87s/it]\n"
     ]
    },
    {
     "name": "stdout",
     "output_type": "stream",
     "text": [
      "train step took 88.7 s\n",
      "train loss = 0.53\n"
     ]
    },
    {
     "name": "stderr",
     "output_type": "stream",
     "text": [
      "Validation 3: 100%|██████████| 23/23 [00:35<00:00,  1.55s/it]\n"
     ]
    },
    {
     "name": "stdout",
     "output_type": "stream",
     "text": [
      "val step took 36.8 s\n",
      "val loss = 0.42\n",
      "[Epoch 3|val]\t36.75 s\t0.4228\n",
      "start training (epoch=4)\n"
     ]
    },
    {
     "name": "stderr",
     "output_type": "stream",
     "text": [
      "Epoch 4: 100%|██████████| 47/47 [01:30<00:00,  1.92s/it]\n"
     ]
    },
    {
     "name": "stdout",
     "output_type": "stream",
     "text": [
      "train step took 91.6 s\n",
      "train loss = 0.42\n"
     ]
    },
    {
     "name": "stderr",
     "output_type": "stream",
     "text": [
      "Validation 4: 100%|██████████| 23/23 [00:38<00:00,  1.66s/it]\n"
     ]
    },
    {
     "name": "stdout",
     "output_type": "stream",
     "text": [
      "val step took 39.4 s\n",
      "val loss = 0.36\n",
      "[Epoch 4|val]\t39.40 s\t0.3559\n",
      "start training (epoch=5)\n"
     ]
    },
    {
     "name": "stderr",
     "output_type": "stream",
     "text": [
      "Epoch 5: 100%|██████████| 47/47 [01:24<00:00,  1.79s/it]\n"
     ]
    },
    {
     "name": "stdout",
     "output_type": "stream",
     "text": [
      "train step took 85.1 s\n",
      "train loss = 0.38\n"
     ]
    },
    {
     "name": "stderr",
     "output_type": "stream",
     "text": [
      "Validation 5: 100%|██████████| 23/23 [00:37<00:00,  1.63s/it]\n"
     ]
    },
    {
     "name": "stdout",
     "output_type": "stream",
     "text": [
      "val step took 38.5 s\n",
      "val loss = 0.34\n",
      "[Epoch 5|val]\t38.47 s\t0.3373\n",
      "start training (epoch=6)\n"
     ]
    },
    {
     "name": "stderr",
     "output_type": "stream",
     "text": [
      "Epoch 6: 100%|██████████| 47/47 [01:22<00:00,  1.75s/it]\n"
     ]
    },
    {
     "name": "stdout",
     "output_type": "stream",
     "text": [
      "train step took 83.5 s\n",
      "train loss = 0.36\n"
     ]
    },
    {
     "name": "stderr",
     "output_type": "stream",
     "text": [
      "Validation 6: 100%|██████████| 23/23 [00:41<00:00,  1.82s/it]\n"
     ]
    },
    {
     "name": "stdout",
     "output_type": "stream",
     "text": [
      "val step took 42.8 s\n",
      "val loss = 0.33\n",
      "[Epoch 6|val]\t42.76 s\t0.3253\n",
      "start training (epoch=7)\n"
     ]
    },
    {
     "name": "stderr",
     "output_type": "stream",
     "text": [
      "Epoch 7: 100%|██████████| 47/47 [01:22<00:00,  1.76s/it]\n"
     ]
    },
    {
     "name": "stdout",
     "output_type": "stream",
     "text": [
      "train step took 83.8 s\n",
      "train loss = 0.35\n"
     ]
    },
    {
     "name": "stderr",
     "output_type": "stream",
     "text": [
      "Validation 7: 100%|██████████| 23/23 [00:33<00:00,  1.45s/it]\n"
     ]
    },
    {
     "name": "stdout",
     "output_type": "stream",
     "text": [
      "val step took 34.5 s\n",
      "val loss = 0.32\n",
      "[Epoch 7|val]\t34.55 s\t0.3182\n",
      "start training (epoch=8)\n"
     ]
    },
    {
     "name": "stderr",
     "output_type": "stream",
     "text": [
      "Epoch 8: 100%|██████████| 47/47 [01:17<00:00,  1.65s/it]\n"
     ]
    },
    {
     "name": "stdout",
     "output_type": "stream",
     "text": [
      "train step took 78.4 s\n",
      "train loss = 0.33\n"
     ]
    },
    {
     "name": "stderr",
     "output_type": "stream",
     "text": [
      "Validation 8: 100%|██████████| 23/23 [00:30<00:00,  1.34s/it]\n"
     ]
    },
    {
     "name": "stdout",
     "output_type": "stream",
     "text": [
      "val step took 31.7 s\n",
      "val loss = 0.31\n",
      "[Epoch 8|val]\t31.66 s\t0.3112\n",
      "start training (epoch=9)\n"
     ]
    },
    {
     "name": "stderr",
     "output_type": "stream",
     "text": [
      "Epoch 9: 100%|██████████| 47/47 [01:05<00:00,  1.38s/it]\n"
     ]
    },
    {
     "name": "stdout",
     "output_type": "stream",
     "text": [
      "train step took 66.3 s\n",
      "train loss = 0.32\n"
     ]
    },
    {
     "name": "stderr",
     "output_type": "stream",
     "text": [
      "Validation 9: 100%|██████████| 23/23 [00:23<00:00,  1.00s/it]\n"
     ]
    },
    {
     "name": "stdout",
     "output_type": "stream",
     "text": [
      "val step took 23.9 s\n",
      "val loss = 0.31\n",
      "[Epoch 9|val]\t23.85 s\t0.3096\n",
      "start training (epoch=10)\n"
     ]
    },
    {
     "name": "stderr",
     "output_type": "stream",
     "text": [
      "Epoch 10: 100%|██████████| 47/47 [01:06<00:00,  1.42s/it]\n"
     ]
    },
    {
     "name": "stdout",
     "output_type": "stream",
     "text": [
      "train step took 67.8 s\n",
      "train loss = 0.32\n"
     ]
    },
    {
     "name": "stderr",
     "output_type": "stream",
     "text": [
      "Validation 10: 100%|██████████| 23/23 [00:36<00:00,  1.61s/it]\n"
     ]
    },
    {
     "name": "stdout",
     "output_type": "stream",
     "text": [
      "val step took 38.2 s\n",
      "val loss = 0.30\n",
      "[Epoch 10|val]\t38.17 s\t0.3044\n",
      "start training (epoch=11)\n"
     ]
    },
    {
     "name": "stderr",
     "output_type": "stream",
     "text": [
      "Epoch 11: 100%|██████████| 47/47 [01:19<00:00,  1.69s/it]\n"
     ]
    },
    {
     "name": "stdout",
     "output_type": "stream",
     "text": [
      "train step took 80.5 s\n",
      "train loss = 0.31\n"
     ]
    },
    {
     "name": "stderr",
     "output_type": "stream",
     "text": [
      "Validation 11: 100%|██████████| 23/23 [00:33<00:00,  1.44s/it]\n"
     ]
    },
    {
     "name": "stdout",
     "output_type": "stream",
     "text": [
      "val step took 34.1 s\n",
      "val loss = 0.30\n",
      "[Epoch 11|val]\t34.14 s\t0.3011\n",
      "start training (epoch=12)\n"
     ]
    },
    {
     "name": "stderr",
     "output_type": "stream",
     "text": [
      "Epoch 12: 100%|██████████| 47/47 [01:15<00:00,  1.60s/it]\n"
     ]
    },
    {
     "name": "stdout",
     "output_type": "stream",
     "text": [
      "train step took 76.5 s\n",
      "train loss = 0.29\n"
     ]
    },
    {
     "name": "stderr",
     "output_type": "stream",
     "text": [
      "Validation 12: 100%|██████████| 23/23 [00:32<00:00,  1.43s/it]\n"
     ]
    },
    {
     "name": "stdout",
     "output_type": "stream",
     "text": [
      "val step took 33.9 s\n",
      "val loss = 0.30\n",
      "[Epoch 12|val]\t33.90 s\t0.2998\n",
      "start training (epoch=13)\n"
     ]
    },
    {
     "name": "stderr",
     "output_type": "stream",
     "text": [
      "Epoch 13: 100%|██████████| 47/47 [01:24<00:00,  1.80s/it]\n"
     ]
    },
    {
     "name": "stdout",
     "output_type": "stream",
     "text": [
      "train step took 85.4 s\n",
      "train loss = 0.29\n"
     ]
    },
    {
     "name": "stderr",
     "output_type": "stream",
     "text": [
      "Validation 13: 100%|██████████| 23/23 [00:34<00:00,  1.52s/it]\n"
     ]
    },
    {
     "name": "stdout",
     "output_type": "stream",
     "text": [
      "val step took 36.2 s\n",
      "val loss = 0.30\n",
      "[Epoch 13|val]\t36.18 s\t0.2974\n",
      "start training (epoch=14)\n"
     ]
    },
    {
     "name": "stderr",
     "output_type": "stream",
     "text": [
      "Epoch 14: 100%|██████████| 47/47 [01:18<00:00,  1.67s/it]\n"
     ]
    },
    {
     "name": "stdout",
     "output_type": "stream",
     "text": [
      "train step took 79.8 s\n",
      "train loss = 0.28\n"
     ]
    },
    {
     "name": "stderr",
     "output_type": "stream",
     "text": [
      "Validation 14: 100%|██████████| 23/23 [00:34<00:00,  1.50s/it]\n"
     ]
    },
    {
     "name": "stdout",
     "output_type": "stream",
     "text": [
      "val step took 35.5 s\n",
      "val loss = 0.30\n",
      "[Epoch 14|val]\t35.51 s\t0.2960\n",
      "start training (epoch=15)\n"
     ]
    },
    {
     "name": "stderr",
     "output_type": "stream",
     "text": [
      "Epoch 15: 100%|██████████| 47/47 [01:21<00:00,  1.73s/it]\n"
     ]
    },
    {
     "name": "stdout",
     "output_type": "stream",
     "text": [
      "train step took 82.5 s\n",
      "train loss = 0.27\n"
     ]
    },
    {
     "name": "stderr",
     "output_type": "stream",
     "text": [
      "Validation 15: 100%|██████████| 23/23 [00:39<00:00,  1.72s/it]\n"
     ]
    },
    {
     "name": "stdout",
     "output_type": "stream",
     "text": [
      "val step took 40.5 s\n",
      "val loss = 0.30\n",
      "[Epoch 15|val]\t40.54 s\t0.2979\n",
      "start training (epoch=16)\n"
     ]
    },
    {
     "name": "stderr",
     "output_type": "stream",
     "text": [
      "Epoch 16: 100%|██████████| 47/47 [00:56<00:00,  1.21s/it]\n"
     ]
    },
    {
     "name": "stdout",
     "output_type": "stream",
     "text": [
      "train step took 57.8 s\n",
      "train loss = 0.27\n"
     ]
    },
    {
     "name": "stderr",
     "output_type": "stream",
     "text": [
      "Validation 16: 100%|██████████| 23/23 [00:25<00:00,  1.09s/it]\n"
     ]
    },
    {
     "name": "stdout",
     "output_type": "stream",
     "text": [
      "val step took 26.0 s\n",
      "val loss = 0.29\n",
      "[Epoch 16|val]\t26.01 s\t0.2949\n",
      "start training (epoch=17)\n"
     ]
    },
    {
     "name": "stderr",
     "output_type": "stream",
     "text": [
      "Epoch 17: 100%|██████████| 47/47 [01:14<00:00,  1.58s/it]\n"
     ]
    },
    {
     "name": "stdout",
     "output_type": "stream",
     "text": [
      "train step took 74.8 s\n",
      "train loss = 0.26\n"
     ]
    },
    {
     "name": "stderr",
     "output_type": "stream",
     "text": [
      "Validation 17: 100%|██████████| 23/23 [00:31<00:00,  1.38s/it]\n"
     ]
    },
    {
     "name": "stdout",
     "output_type": "stream",
     "text": [
      "val step took 32.7 s\n",
      "val loss = 0.30\n",
      "[Epoch 17|val]\t32.70 s\t0.2964\n",
      "start training (epoch=18)\n"
     ]
    },
    {
     "name": "stderr",
     "output_type": "stream",
     "text": [
      "Epoch 18: 100%|██████████| 47/47 [01:13<00:00,  1.57s/it]\n"
     ]
    },
    {
     "name": "stdout",
     "output_type": "stream",
     "text": [
      "train step took 74.7 s\n",
      "train loss = 0.25\n"
     ]
    },
    {
     "name": "stderr",
     "output_type": "stream",
     "text": [
      "Validation 18: 100%|██████████| 23/23 [00:33<00:00,  1.47s/it]\n"
     ]
    },
    {
     "name": "stdout",
     "output_type": "stream",
     "text": [
      "val step took 34.8 s\n",
      "val loss = 0.29\n",
      "[Epoch 18|val]\t34.80 s\t0.2921\n",
      "start training (epoch=19)\n"
     ]
    },
    {
     "name": "stderr",
     "output_type": "stream",
     "text": [
      "Epoch 19: 100%|██████████| 47/47 [01:24<00:00,  1.81s/it]\n"
     ]
    },
    {
     "name": "stdout",
     "output_type": "stream",
     "text": [
      "train step took 86.1 s\n",
      "train loss = 0.25\n"
     ]
    },
    {
     "name": "stderr",
     "output_type": "stream",
     "text": [
      "Validation 19: 100%|██████████| 23/23 [00:31<00:00,  1.35s/it]\n"
     ]
    },
    {
     "name": "stdout",
     "output_type": "stream",
     "text": [
      "val step took 32.2 s\n",
      "val loss = 0.30\n",
      "[Epoch 19|val]\t32.22 s\t0.2951\n",
      "start training (epoch=20)\n"
     ]
    },
    {
     "name": "stderr",
     "output_type": "stream",
     "text": [
      "Epoch 20: 100%|██████████| 47/47 [01:18<00:00,  1.68s/it]\n"
     ]
    },
    {
     "name": "stdout",
     "output_type": "stream",
     "text": [
      "train step took 79.7 s\n",
      "train loss = 0.24\n"
     ]
    },
    {
     "name": "stderr",
     "output_type": "stream",
     "text": [
      "Validation 20: 100%|██████████| 23/23 [00:41<00:00,  1.79s/it]\n"
     ]
    },
    {
     "name": "stdout",
     "output_type": "stream",
     "text": [
      "val step took 42.2 s\n",
      "val loss = 0.30\n",
      "[Epoch 20|val]\t42.20 s\t0.3007\n",
      "start training (epoch=21)\n"
     ]
    },
    {
     "name": "stderr",
     "output_type": "stream",
     "text": [
      "Epoch 21: 100%|██████████| 47/47 [01:21<00:00,  1.73s/it]\n"
     ]
    },
    {
     "name": "stdout",
     "output_type": "stream",
     "text": [
      "train step took 82.3 s\n",
      "train loss = 0.24\n"
     ]
    },
    {
     "name": "stderr",
     "output_type": "stream",
     "text": [
      "Validation 21: 100%|██████████| 23/23 [00:30<00:00,  1.32s/it]\n"
     ]
    },
    {
     "name": "stdout",
     "output_type": "stream",
     "text": [
      "val step took 31.3 s\n",
      "val loss = 0.30\n",
      "[Epoch 21|val]\t31.35 s\t0.2981\n",
      "start training (epoch=22)\n"
     ]
    },
    {
     "name": "stderr",
     "output_type": "stream",
     "text": [
      "Epoch 22: 100%|██████████| 47/47 [01:25<00:00,  1.83s/it]\n"
     ]
    },
    {
     "name": "stdout",
     "output_type": "stream",
     "text": [
      "train step took 86.9 s\n",
      "train loss = 0.23\n"
     ]
    },
    {
     "name": "stderr",
     "output_type": "stream",
     "text": [
      "Validation 22: 100%|██████████| 23/23 [00:41<00:00,  1.78s/it]\n"
     ]
    },
    {
     "name": "stdout",
     "output_type": "stream",
     "text": [
      "val step took 42.1 s\n",
      "val loss = 0.30\n",
      "[Epoch 22|val]\t42.14 s\t0.2991\n",
      "start training (epoch=23)\n"
     ]
    },
    {
     "name": "stderr",
     "output_type": "stream",
     "text": [
      "Epoch 23: 100%|██████████| 47/47 [01:15<00:00,  1.61s/it]\n"
     ]
    },
    {
     "name": "stdout",
     "output_type": "stream",
     "text": [
      "train step took 76.7 s\n",
      "train loss = 0.23\n"
     ]
    },
    {
     "name": "stderr",
     "output_type": "stream",
     "text": [
      "Validation 23: 100%|██████████| 23/23 [00:29<00:00,  1.29s/it]\n"
     ]
    },
    {
     "name": "stdout",
     "output_type": "stream",
     "text": [
      "val step took 30.4 s\n",
      "val loss = 0.30\n",
      "[Epoch 23|val]\t30.44 s\t0.2988\n",
      "start training (epoch=24)\n"
     ]
    },
    {
     "name": "stderr",
     "output_type": "stream",
     "text": [
      "Epoch 24: 100%|██████████| 47/47 [01:28<00:00,  1.88s/it]\n"
     ]
    },
    {
     "name": "stdout",
     "output_type": "stream",
     "text": [
      "train step took 89.4 s\n",
      "train loss = 0.23\n"
     ]
    },
    {
     "name": "stderr",
     "output_type": "stream",
     "text": [
      "Validation 24: 100%|██████████| 23/23 [00:33<00:00,  1.46s/it]\n"
     ]
    },
    {
     "name": "stdout",
     "output_type": "stream",
     "text": [
      "val step took 34.6 s\n",
      "val loss = 0.29\n",
      "[Epoch 24|val]\t34.56 s\t0.2949\n",
      "finished\n",
      "python ../train.py --augment --normalize --images-dir \"/home/amritagupta/ssdprivate/data/Streamflow/fpe_stations/West Branch Swift River_01174565/FLOW_CFS\" --pairs-file \"/home/amritagupta/ssdprivate/data/Streamflow/Jeff_data/stations/68-West Branch Swift River_01174565/input_4275/pairs_2000.csv\" --output-dir \"/home/amritagupta/ssdprivate/repos/fpe-model/results/vary_annot_frac.jeff_data/West Branch Swift River_01174565/input_4275/pairs_2000\" --model-dir \"/home/amritagupta/ssdprivate/repos/fpe-model/results/vary_annot_frac.jeff_data/West Branch Swift River_01174565/input_4275/pairs_2000\" --gpu 2\n",
      "Namespace(images_dir='/home/amritagupta/ssdprivate/data/Streamflow/fpe_stations/West Branch Swift River_01174565/FLOW_CFS', pairs_file='/home/amritagupta/ssdprivate/data/Streamflow/Jeff_data/stations/68-West Branch Swift River_01174565/input_4275/pairs_2000.csv', output_dir='/home/amritagupta/ssdprivate/repos/fpe-model/results/vary_annot_frac.jeff_data/West Branch Swift River_01174565/input_4275/pairs_2000', model_dir='/home/amritagupta/ssdprivate/repos/fpe-model/results/vary_annot_frac.jeff_data/West Branch Swift River_01174565/input_4275/pairs_2000', gpu=2, num_workers=12, local=False, epochs=25, batch_size=64, lr=0.001, random_seed=1691, unfreeze_after=2, num_image_stats=1000, input_size=480, decolorize=False, augment=True, normalize=True)\n",
      "train()\n",
      "args:\n",
      "{'images_dir': '/home/amritagupta/ssdprivate/data/Streamflow/fpe_stations/West Branch Swift River_01174565/FLOW_CFS', 'pairs_file': '/home/amritagupta/ssdprivate/data/Streamflow/Jeff_data/stations/68-West Branch Swift River_01174565/input_4275/pairs_2000.csv', 'output_dir': '/home/amritagupta/ssdprivate/repos/fpe-model/results/vary_annot_frac.jeff_data/West Branch Swift River_01174565/input_4275/pairs_2000', 'model_dir': '/home/amritagupta/ssdprivate/repos/fpe-model/results/vary_annot_frac.jeff_data/West Branch Swift River_01174565/input_4275/pairs_2000', 'gpu': 2, 'num_workers': 12, 'local': False, 'epochs': 25, 'batch_size': 64, 'lr': 0.001, 'random_seed': 1691, 'unfreeze_after': 2, 'num_image_stats': 1000, 'input_size': 480, 'decolorize': False, 'augment': True, 'normalize': True}\n",
      "device: cuda:2\n",
      "output_dir: /home/amritagupta/ssdprivate/repos/fpe-model/results/vary_annot_frac.jeff_data/West Branch Swift River_01174565/input_4275/pairs_2000\n",
      "saved args: /home/amritagupta/ssdprivate/repos/fpe-model/results/vary_annot_frac.jeff_data/West Branch Swift River_01174565/input_4275/pairs_2000/args.json\n",
      "model_dir: /home/amritagupta/ssdprivate/repos/fpe-model/results/vary_annot_frac.jeff_data/West Branch Swift River_01174565/input_4275/pairs_2000\n",
      "set seeds (1691)\n"
     ]
    },
    {
     "name": "stderr",
     "output_type": "stream",
     "text": [
      "100%|██████████| 1000/1000 [01:54<00:00,  8.72it/s]\n"
     ]
    },
    {
     "name": "stdout",
     "output_type": "stream",
     "text": [
      "resize_shape: [480, 640]\n",
      "input_shape: [384, 512]\n",
      "creating train dataset\n",
      "creating val datasets\n",
      "val ds: 1430\n",
      "creating data loaders\n",
      "initializing model\n",
      "start training\n",
      "start training (epoch=0)\n"
     ]
    },
    {
     "name": "stderr",
     "output_type": "stream",
     "text": [
      "Epoch 0: 100%|██████████| 63/63 [01:55<00:00,  1.83s/it]\n"
     ]
    },
    {
     "name": "stdout",
     "output_type": "stream",
     "text": [
      "train step took 115.7 s\n",
      "train loss = 0.69\n"
     ]
    },
    {
     "name": "stderr",
     "output_type": "stream",
     "text": [
      "Validation 0: 100%|██████████| 23/23 [00:27<00:00,  1.20s/it]\n"
     ]
    },
    {
     "name": "stdout",
     "output_type": "stream",
     "text": [
      "val step took 28.5 s\n",
      "val loss = 0.67\n",
      "[Epoch 0|val]\t28.51 s\t0.6716\n",
      "start training (epoch=1)\n"
     ]
    },
    {
     "name": "stderr",
     "output_type": "stream",
     "text": [
      "Epoch 1: 100%|██████████| 63/63 [01:19<00:00,  1.26s/it]\n"
     ]
    },
    {
     "name": "stdout",
     "output_type": "stream",
     "text": [
      "train step took 80.3 s\n",
      "train loss = 0.66\n"
     ]
    },
    {
     "name": "stderr",
     "output_type": "stream",
     "text": [
      "Validation 1: 100%|██████████| 23/23 [00:39<00:00,  1.71s/it]\n"
     ]
    },
    {
     "name": "stdout",
     "output_type": "stream",
     "text": [
      "val step took 40.2 s\n",
      "val loss = 0.63\n",
      "[Epoch 1|val]\t40.24 s\t0.6328\n",
      "unfreezing cnn body after epoch=1\n",
      "start training (epoch=2)\n"
     ]
    },
    {
     "name": "stderr",
     "output_type": "stream",
     "text": [
      "Epoch 2: 100%|██████████| 63/63 [01:55<00:00,  1.83s/it]\n"
     ]
    },
    {
     "name": "stdout",
     "output_type": "stream",
     "text": [
      "train step took 116.2 s\n",
      "train loss = 0.59\n"
     ]
    },
    {
     "name": "stderr",
     "output_type": "stream",
     "text": [
      "Validation 2: 100%|██████████| 23/23 [00:31<00:00,  1.36s/it]\n"
     ]
    },
    {
     "name": "stdout",
     "output_type": "stream",
     "text": [
      "val step took 32.5 s\n",
      "val loss = 0.48\n",
      "[Epoch 2|val]\t32.45 s\t0.4844\n",
      "start training (epoch=3)\n"
     ]
    },
    {
     "name": "stderr",
     "output_type": "stream",
     "text": [
      "Epoch 3: 100%|██████████| 63/63 [01:56<00:00,  1.85s/it]\n"
     ]
    },
    {
     "name": "stdout",
     "output_type": "stream",
     "text": [
      "train step took 117.7 s\n",
      "train loss = 0.44\n"
     ]
    },
    {
     "name": "stderr",
     "output_type": "stream",
     "text": [
      "Validation 3: 100%|██████████| 23/23 [00:36<00:00,  1.58s/it]\n"
     ]
    },
    {
     "name": "stdout",
     "output_type": "stream",
     "text": [
      "val step took 37.3 s\n",
      "val loss = 0.35\n",
      "[Epoch 3|val]\t37.28 s\t0.3529\n",
      "start training (epoch=4)\n"
     ]
    },
    {
     "name": "stderr",
     "output_type": "stream",
     "text": [
      "Epoch 4: 100%|██████████| 63/63 [01:37<00:00,  1.55s/it]\n"
     ]
    },
    {
     "name": "stdout",
     "output_type": "stream",
     "text": [
      "train step took 99.3 s\n",
      "train loss = 0.38\n"
     ]
    },
    {
     "name": "stderr",
     "output_type": "stream",
     "text": [
      "Validation 4: 100%|██████████| 23/23 [00:32<00:00,  1.39s/it]\n"
     ]
    },
    {
     "name": "stdout",
     "output_type": "stream",
     "text": [
      "val step took 33.2 s\n",
      "val loss = 0.33\n",
      "[Epoch 4|val]\t33.21 s\t0.3313\n",
      "start training (epoch=5)\n"
     ]
    },
    {
     "name": "stderr",
     "output_type": "stream",
     "text": [
      "Epoch 5: 100%|██████████| 63/63 [01:38<00:00,  1.57s/it]\n"
     ]
    },
    {
     "name": "stdout",
     "output_type": "stream",
     "text": [
      "train step took 100.2 s\n",
      "train loss = 0.36\n"
     ]
    },
    {
     "name": "stderr",
     "output_type": "stream",
     "text": [
      "Validation 5: 100%|██████████| 23/23 [00:36<00:00,  1.58s/it]\n"
     ]
    },
    {
     "name": "stdout",
     "output_type": "stream",
     "text": [
      "val step took 37.5 s\n",
      "val loss = 0.32\n",
      "[Epoch 5|val]\t37.50 s\t0.3196\n",
      "start training (epoch=6)\n"
     ]
    },
    {
     "name": "stderr",
     "output_type": "stream",
     "text": [
      "Epoch 6: 100%|██████████| 63/63 [01:51<00:00,  1.77s/it]\n"
     ]
    },
    {
     "name": "stdout",
     "output_type": "stream",
     "text": [
      "train step took 112.8 s\n",
      "train loss = 0.34\n"
     ]
    },
    {
     "name": "stderr",
     "output_type": "stream",
     "text": [
      "Validation 6: 100%|██████████| 23/23 [00:30<00:00,  1.33s/it]\n"
     ]
    },
    {
     "name": "stdout",
     "output_type": "stream",
     "text": [
      "val step took 31.9 s\n",
      "val loss = 0.31\n",
      "[Epoch 6|val]\t31.88 s\t0.3123\n",
      "start training (epoch=7)\n"
     ]
    },
    {
     "name": "stderr",
     "output_type": "stream",
     "text": [
      "Epoch 7: 100%|██████████| 63/63 [01:46<00:00,  1.69s/it]\n"
     ]
    },
    {
     "name": "stdout",
     "output_type": "stream",
     "text": [
      "train step took 107.5 s\n",
      "train loss = 0.33\n"
     ]
    },
    {
     "name": "stderr",
     "output_type": "stream",
     "text": [
      "Validation 7: 100%|██████████| 23/23 [00:27<00:00,  1.18s/it]\n"
     ]
    },
    {
     "name": "stdout",
     "output_type": "stream",
     "text": [
      "val step took 28.0 s\n",
      "val loss = 0.31\n",
      "[Epoch 7|val]\t27.97 s\t0.3071\n",
      "start training (epoch=8)\n"
     ]
    },
    {
     "name": "stderr",
     "output_type": "stream",
     "text": [
      "Epoch 8: 100%|██████████| 63/63 [01:41<00:00,  1.61s/it]\n"
     ]
    },
    {
     "name": "stdout",
     "output_type": "stream",
     "text": [
      "train step took 102.5 s\n",
      "train loss = 0.32\n"
     ]
    },
    {
     "name": "stderr",
     "output_type": "stream",
     "text": [
      "Validation 8: 100%|██████████| 23/23 [00:38<00:00,  1.65s/it]\n"
     ]
    },
    {
     "name": "stdout",
     "output_type": "stream",
     "text": [
      "val step took 39.1 s\n",
      "val loss = 0.30\n",
      "[Epoch 8|val]\t39.12 s\t0.2990\n",
      "start training (epoch=9)\n"
     ]
    },
    {
     "name": "stderr",
     "output_type": "stream",
     "text": [
      "Epoch 9: 100%|██████████| 63/63 [01:41<00:00,  1.61s/it]\n"
     ]
    },
    {
     "name": "stdout",
     "output_type": "stream",
     "text": [
      "train step took 102.6 s\n",
      "train loss = 0.31\n"
     ]
    },
    {
     "name": "stderr",
     "output_type": "stream",
     "text": [
      "Validation 9: 100%|██████████| 23/23 [00:32<00:00,  1.40s/it]\n"
     ]
    },
    {
     "name": "stdout",
     "output_type": "stream",
     "text": [
      "val step took 33.0 s\n",
      "val loss = 0.30\n",
      "[Epoch 9|val]\t33.04 s\t0.2973\n",
      "start training (epoch=10)\n"
     ]
    },
    {
     "name": "stderr",
     "output_type": "stream",
     "text": [
      "Epoch 10: 100%|██████████| 63/63 [01:42<00:00,  1.63s/it]\n"
     ]
    },
    {
     "name": "stdout",
     "output_type": "stream",
     "text": [
      "train step took 103.5 s\n",
      "train loss = 0.30\n"
     ]
    },
    {
     "name": "stderr",
     "output_type": "stream",
     "text": [
      "Validation 10: 100%|██████████| 23/23 [00:36<00:00,  1.57s/it]\n"
     ]
    },
    {
     "name": "stdout",
     "output_type": "stream",
     "text": [
      "val step took 36.9 s\n",
      "val loss = 0.30\n",
      "[Epoch 10|val]\t36.87 s\t0.2980\n",
      "start training (epoch=11)\n"
     ]
    },
    {
     "name": "stderr",
     "output_type": "stream",
     "text": [
      "Epoch 11: 100%|██████████| 63/63 [01:43<00:00,  1.65s/it]\n"
     ]
    },
    {
     "name": "stdout",
     "output_type": "stream",
     "text": [
      "train step took 104.8 s\n",
      "train loss = 0.28\n"
     ]
    },
    {
     "name": "stderr",
     "output_type": "stream",
     "text": [
      "Validation 11: 100%|██████████| 23/23 [00:33<00:00,  1.46s/it]\n"
     ]
    },
    {
     "name": "stdout",
     "output_type": "stream",
     "text": [
      "val step took 34.5 s\n",
      "val loss = 0.29\n",
      "[Epoch 11|val]\t34.48 s\t0.2928\n",
      "start training (epoch=12)\n"
     ]
    },
    {
     "name": "stderr",
     "output_type": "stream",
     "text": [
      "Epoch 12: 100%|██████████| 63/63 [01:48<00:00,  1.72s/it]\n"
     ]
    },
    {
     "name": "stdout",
     "output_type": "stream",
     "text": [
      "train step took 109.2 s\n",
      "train loss = 0.28\n"
     ]
    },
    {
     "name": "stderr",
     "output_type": "stream",
     "text": [
      "Validation 12: 100%|██████████| 23/23 [00:32<00:00,  1.41s/it]\n"
     ]
    },
    {
     "name": "stdout",
     "output_type": "stream",
     "text": [
      "val step took 33.5 s\n",
      "val loss = 0.29\n",
      "[Epoch 12|val]\t33.51 s\t0.2865\n",
      "start training (epoch=13)\n"
     ]
    },
    {
     "name": "stderr",
     "output_type": "stream",
     "text": [
      "Epoch 13: 100%|██████████| 63/63 [01:32<00:00,  1.46s/it]\n"
     ]
    },
    {
     "name": "stdout",
     "output_type": "stream",
     "text": [
      "train step took 93.2 s\n",
      "train loss = 0.27\n"
     ]
    },
    {
     "name": "stderr",
     "output_type": "stream",
     "text": [
      "Validation 13: 100%|██████████| 23/23 [00:31<00:00,  1.38s/it]\n"
     ]
    },
    {
     "name": "stdout",
     "output_type": "stream",
     "text": [
      "val step took 32.9 s\n",
      "val loss = 0.29\n",
      "[Epoch 13|val]\t32.90 s\t0.2942\n",
      "start training (epoch=14)\n"
     ]
    },
    {
     "name": "stderr",
     "output_type": "stream",
     "text": [
      "Epoch 14: 100%|██████████| 63/63 [01:48<00:00,  1.72s/it]\n"
     ]
    },
    {
     "name": "stdout",
     "output_type": "stream",
     "text": [
      "train step took 109.3 s\n",
      "train loss = 0.27\n"
     ]
    },
    {
     "name": "stderr",
     "output_type": "stream",
     "text": [
      "Validation 14: 100%|██████████| 23/23 [00:33<00:00,  1.48s/it]\n"
     ]
    },
    {
     "name": "stdout",
     "output_type": "stream",
     "text": [
      "val step took 34.7 s\n",
      "val loss = 0.29\n",
      "[Epoch 14|val]\t34.70 s\t0.2880\n",
      "start training (epoch=15)\n"
     ]
    },
    {
     "name": "stderr",
     "output_type": "stream",
     "text": [
      "Epoch 15: 100%|██████████| 63/63 [01:41<00:00,  1.61s/it]\n"
     ]
    },
    {
     "name": "stdout",
     "output_type": "stream",
     "text": [
      "train step took 102.7 s\n",
      "train loss = 0.26\n"
     ]
    },
    {
     "name": "stderr",
     "output_type": "stream",
     "text": [
      "Validation 15: 100%|██████████| 23/23 [00:33<00:00,  1.46s/it]\n"
     ]
    },
    {
     "name": "stdout",
     "output_type": "stream",
     "text": [
      "val step took 34.5 s\n",
      "val loss = 0.29\n",
      "[Epoch 15|val]\t34.53 s\t0.2871\n",
      "start training (epoch=16)\n"
     ]
    },
    {
     "name": "stderr",
     "output_type": "stream",
     "text": [
      "Epoch 16: 100%|██████████| 63/63 [01:48<00:00,  1.72s/it]\n"
     ]
    },
    {
     "name": "stdout",
     "output_type": "stream",
     "text": [
      "train step took 109.1 s\n",
      "train loss = 0.24\n"
     ]
    },
    {
     "name": "stderr",
     "output_type": "stream",
     "text": [
      "Validation 16: 100%|██████████| 23/23 [00:34<00:00,  1.48s/it]\n"
     ]
    },
    {
     "name": "stdout",
     "output_type": "stream",
     "text": [
      "val step took 35.2 s\n",
      "val loss = 0.29\n",
      "[Epoch 16|val]\t35.18 s\t0.2892\n",
      "start training (epoch=17)\n"
     ]
    },
    {
     "name": "stderr",
     "output_type": "stream",
     "text": [
      "Epoch 17: 100%|██████████| 63/63 [01:43<00:00,  1.65s/it]\n"
     ]
    },
    {
     "name": "stdout",
     "output_type": "stream",
     "text": [
      "train step took 104.8 s\n",
      "train loss = 0.25\n"
     ]
    },
    {
     "name": "stderr",
     "output_type": "stream",
     "text": [
      "Validation 17: 100%|██████████| 23/23 [00:30<00:00,  1.34s/it]\n"
     ]
    },
    {
     "name": "stdout",
     "output_type": "stream",
     "text": [
      "val step took 31.7 s\n",
      "val loss = 0.29\n",
      "[Epoch 17|val]\t31.73 s\t0.2857\n",
      "start training (epoch=18)\n"
     ]
    },
    {
     "name": "stderr",
     "output_type": "stream",
     "text": [
      "Epoch 18: 100%|██████████| 63/63 [01:24<00:00,  1.34s/it]\n"
     ]
    },
    {
     "name": "stdout",
     "output_type": "stream",
     "text": [
      "train step took 85.3 s\n",
      "train loss = 0.25\n"
     ]
    },
    {
     "name": "stderr",
     "output_type": "stream",
     "text": [
      "Validation 18: 100%|██████████| 23/23 [00:24<00:00,  1.08s/it]\n"
     ]
    },
    {
     "name": "stdout",
     "output_type": "stream",
     "text": [
      "val step took 25.7 s\n",
      "val loss = 0.29\n",
      "[Epoch 18|val]\t25.69 s\t0.2858\n",
      "start training (epoch=19)\n"
     ]
    },
    {
     "name": "stderr",
     "output_type": "stream",
     "text": [
      "Epoch 19: 100%|██████████| 63/63 [01:14<00:00,  1.19s/it]\n"
     ]
    },
    {
     "name": "stdout",
     "output_type": "stream",
     "text": [
      "train step took 75.4 s\n",
      "train loss = 0.24\n"
     ]
    },
    {
     "name": "stderr",
     "output_type": "stream",
     "text": [
      "Validation 19: 100%|██████████| 23/23 [00:23<00:00,  1.02s/it]\n"
     ]
    },
    {
     "name": "stdout",
     "output_type": "stream",
     "text": [
      "val step took 24.2 s\n",
      "val loss = 0.29\n",
      "[Epoch 19|val]\t24.23 s\t0.2869\n",
      "start training (epoch=20)\n"
     ]
    },
    {
     "name": "stderr",
     "output_type": "stream",
     "text": [
      "Epoch 20: 100%|██████████| 63/63 [01:07<00:00,  1.08s/it]\n"
     ]
    },
    {
     "name": "stdout",
     "output_type": "stream",
     "text": [
      "train step took 68.7 s\n",
      "train loss = 0.25\n"
     ]
    },
    {
     "name": "stderr",
     "output_type": "stream",
     "text": [
      "Validation 20: 100%|██████████| 23/23 [00:22<00:00,  1.03it/s]\n"
     ]
    },
    {
     "name": "stdout",
     "output_type": "stream",
     "text": [
      "val step took 23.1 s\n",
      "val loss = 0.29\n",
      "[Epoch 20|val]\t23.08 s\t0.2887\n",
      "start training (epoch=21)\n"
     ]
    },
    {
     "name": "stderr",
     "output_type": "stream",
     "text": [
      "Epoch 21:   0%|          | 0/63 [00:00<?, ?it/s]"
     ]
    }
   ],
   "source": [
    "for jeff_station in jeff_station_dirs[10:]:\n",
    "    station = '-'.join(jeff_station.split('-')[1:])\n",
    "    station_data_dir = fpe_data_dir / station / 'FLOW_CFS'\n",
    "    # check it exists\n",
    "    if not station_data_dir.exists():\n",
    "        print(f'{station} does not exist')\n",
    "        continue\n",
    "    \n",
    "    pairs_files = list((jeff_data_dir / jeff_station / f'input_{random_seed}').glob('*.csv'))\n",
    "    for pair_file in pairs_files:\n",
    "        output_dir = Path(f'../../results/vary_annot_frac.jeff_data/{station}/input_{random_seed}/{pair_file.stem}').resolve()\n",
    "        output_dir.mkdir(parents=True, exist_ok=True)\n",
    "\n",
    "        command = f'python ../train.py --augment --normalize --images-dir \"{station_data_dir}\" --pairs-file \"{pair_file}\" --output-dir \"{output_dir}\" --model-dir \"{output_dir}\" --gpu 2'\n",
    "        print(command)\n",
    "        subprocess.run(command, shell=True)\n"
   ]
  },
  {
   "cell_type": "code",
   "execution_count": null,
   "metadata": {},
   "outputs": [],
   "source": []
  }
 ],
 "metadata": {
  "kernelspec": {
   "display_name": "fpe-model.dev-amrita",
   "language": "python",
   "name": "python3"
  },
  "language_info": {
   "codemirror_mode": {
    "name": "ipython",
    "version": 3
   },
   "file_extension": ".py",
   "mimetype": "text/x-python",
   "name": "python",
   "nbconvert_exporter": "python",
   "pygments_lexer": "ipython3",
   "version": "3.9.16"
  }
 },
 "nbformat": 4,
 "nbformat_minor": 2
}
