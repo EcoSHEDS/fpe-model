{
 "cells": [
  {
   "cell_type": "code",
   "execution_count": 1,
   "metadata": {},
   "outputs": [],
   "source": [
    "import numpy as np\n",
    "import pandas as pd\n",
    "import subprocess\n",
    "from pathlib import Path\n"
   ]
  },
  {
   "cell_type": "code",
   "execution_count": 2,
   "metadata": {},
   "outputs": [],
   "source": [
    "jeff_data_dir = Path('../../../../data/Streamflow/Jeff_data/stations').resolve()\n",
    "jeff_station_dirs = sorted([x.name for x in jeff_data_dir.iterdir() if x.is_dir()])\n",
    "\n",
    "fpe_data_dir = Path('../../../../data/Streamflow/fpe_stations/').resolve()\n",
    "\n",
    "random_seeds = [4275, 3274, 1632, 8436, 2927]\n",
    "random_seed = random_seeds[0]"
   ]
  },
  {
   "cell_type": "code",
   "execution_count": 3,
   "metadata": {},
   "outputs": [
    {
     "name": "stdout",
     "output_type": "stream",
     "text": [
      "python ../train.py --augment --normalize --images-dir \"/home/amritagupta/ssdprivate/data/Streamflow/fpe_stations/West Brook Lower_01171090/FLOW_CFS\" --pairs-file \"/home/amritagupta/ssdprivate/data/Streamflow/Jeff_data/stations/10-West Brook Lower_01171090/input_4275/pairs_500.csv\" --output-dir \"/home/amritagupta/ssdprivate/repos/fpe-model/results/vary_annot_frac.jeff_data/West Brook Lower_01171090/input_4275/pairs_500\" --model-dir \"/home/amritagupta/ssdprivate/repos/fpe-model/results/vary_annot_frac.jeff_data/West Brook Lower_01171090/input_4275/pairs_500\"\n",
      "Namespace(images_dir='/home/amritagupta/ssdprivate/data/Streamflow/fpe_stations/West Brook Lower_01171090/FLOW_CFS', pairs_file='/home/amritagupta/ssdprivate/data/Streamflow/Jeff_data/stations/10-West Brook Lower_01171090/input_4275/pairs_500.csv', output_dir='/home/amritagupta/ssdprivate/repos/fpe-model/results/vary_annot_frac.jeff_data/West Brook Lower_01171090/input_4275/pairs_500', model_dir='/home/amritagupta/ssdprivate/repos/fpe-model/results/vary_annot_frac.jeff_data/West Brook Lower_01171090/input_4275/pairs_500', gpu=0, num_workers=12, local=False, epochs=25, batch_size=64, lr=0.001, random_seed=1691, unfreeze_after=2, num_image_stats=1000, input_size=480, decolorize=False, augment=True, normalize=True)\n",
      "train()\n",
      "args:\n",
      "{'images_dir': '/home/amritagupta/ssdprivate/data/Streamflow/fpe_stations/West Brook Lower_01171090/FLOW_CFS', 'pairs_file': '/home/amritagupta/ssdprivate/data/Streamflow/Jeff_data/stations/10-West Brook Lower_01171090/input_4275/pairs_500.csv', 'output_dir': '/home/amritagupta/ssdprivate/repos/fpe-model/results/vary_annot_frac.jeff_data/West Brook Lower_01171090/input_4275/pairs_500', 'model_dir': '/home/amritagupta/ssdprivate/repos/fpe-model/results/vary_annot_frac.jeff_data/West Brook Lower_01171090/input_4275/pairs_500', 'gpu': 0, 'num_workers': 12, 'local': False, 'epochs': 25, 'batch_size': 64, 'lr': 0.001, 'random_seed': 1691, 'unfreeze_after': 2, 'num_image_stats': 1000, 'input_size': 480, 'decolorize': False, 'augment': True, 'normalize': True}\n",
      "device: cuda:0\n",
      "output_dir: /home/amritagupta/ssdprivate/repos/fpe-model/results/vary_annot_frac.jeff_data/West Brook Lower_01171090/input_4275/pairs_500\n",
      "saved args: /home/amritagupta/ssdprivate/repos/fpe-model/results/vary_annot_frac.jeff_data/West Brook Lower_01171090/input_4275/pairs_500/args.json\n",
      "model_dir: /home/amritagupta/ssdprivate/repos/fpe-model/results/vary_annot_frac.jeff_data/West Brook Lower_01171090/input_4275/pairs_500\n",
      "set seeds (1691)\n"
     ]
    },
    {
     "name": "stderr",
     "output_type": "stream",
     "text": [
      "100%|██████████| 985/985 [00:47<00:00, 20.71it/s]\n"
     ]
    },
    {
     "name": "stdout",
     "output_type": "stream",
     "text": [
      "resize_shape: [480, 640]\n",
      "input_shape: [384, 512]\n",
      "creating train dataset\n",
      "creating val datasets\n",
      "val ds: 894\n",
      "creating data loaders\n",
      "initializing model\n",
      "start training\n",
      "start training (epoch=0)\n"
     ]
    },
    {
     "name": "stderr",
     "output_type": "stream",
     "text": [
      "Epoch 0: 100%|██████████| 16/16 [00:16<00:00,  1.06s/it]\n"
     ]
    },
    {
     "name": "stdout",
     "output_type": "stream",
     "text": [
      "train step took 17.3 s\n",
      "train loss = 0.69\n"
     ]
    },
    {
     "name": "stderr",
     "output_type": "stream",
     "text": [
      "Validation 0: 100%|██████████| 14/14 [00:11<00:00,  1.22it/s]\n"
     ]
    },
    {
     "name": "stdout",
     "output_type": "stream",
     "text": [
      "val step took 11.9 s\n",
      "val loss = 0.68\n",
      "[Epoch 0|val]\t11.92 s\t0.6817\n",
      "start training (epoch=1)\n"
     ]
    },
    {
     "name": "stderr",
     "output_type": "stream",
     "text": [
      "Epoch 1: 100%|██████████| 16/16 [00:17<00:00,  1.08s/it]\n"
     ]
    },
    {
     "name": "stdout",
     "output_type": "stream",
     "text": [
      "train step took 17.7 s\n",
      "train loss = 0.68\n"
     ]
    },
    {
     "name": "stderr",
     "output_type": "stream",
     "text": [
      "Validation 1: 100%|██████████| 14/14 [00:11<00:00,  1.23it/s]\n"
     ]
    },
    {
     "name": "stdout",
     "output_type": "stream",
     "text": [
      "val step took 11.8 s\n",
      "val loss = 0.67\n",
      "[Epoch 1|val]\t11.84 s\t0.6684\n",
      "unfreezing cnn body after epoch=1\n",
      "start training (epoch=2)\n"
     ]
    },
    {
     "name": "stderr",
     "output_type": "stream",
     "text": [
      "Epoch 2: 100%|██████████| 16/16 [00:18<00:00,  1.17s/it]\n"
     ]
    },
    {
     "name": "stdout",
     "output_type": "stream",
     "text": [
      "train step took 19.1 s\n",
      "train loss = 0.67\n"
     ]
    },
    {
     "name": "stderr",
     "output_type": "stream",
     "text": [
      "Validation 2: 100%|██████████| 14/14 [00:12<00:00,  1.16it/s]\n"
     ]
    },
    {
     "name": "stdout",
     "output_type": "stream",
     "text": [
      "val step took 12.6 s\n",
      "val loss = 0.65\n",
      "[Epoch 2|val]\t12.60 s\t0.6543\n",
      "start training (epoch=3)\n"
     ]
    },
    {
     "name": "stderr",
     "output_type": "stream",
     "text": [
      "Epoch 3: 100%|██████████| 16/16 [00:18<00:00,  1.14s/it]\n"
     ]
    },
    {
     "name": "stdout",
     "output_type": "stream",
     "text": [
      "train step took 18.9 s\n",
      "train loss = 0.65\n"
     ]
    },
    {
     "name": "stderr",
     "output_type": "stream",
     "text": [
      "Validation 3: 100%|██████████| 14/14 [00:11<00:00,  1.23it/s]\n"
     ]
    },
    {
     "name": "stdout",
     "output_type": "stream",
     "text": [
      "val step took 11.9 s\n",
      "val loss = 0.63\n",
      "[Epoch 3|val]\t11.92 s\t0.6264\n",
      "start training (epoch=4)\n"
     ]
    },
    {
     "name": "stderr",
     "output_type": "stream",
     "text": [
      "Epoch 4: 100%|██████████| 16/16 [00:18<00:00,  1.13s/it]\n"
     ]
    },
    {
     "name": "stdout",
     "output_type": "stream",
     "text": [
      "train step took 18.7 s\n",
      "train loss = 0.62\n"
     ]
    },
    {
     "name": "stderr",
     "output_type": "stream",
     "text": [
      "Validation 4: 100%|██████████| 14/14 [00:11<00:00,  1.22it/s]\n"
     ]
    },
    {
     "name": "stdout",
     "output_type": "stream",
     "text": [
      "val step took 12.0 s\n",
      "val loss = 0.59\n",
      "[Epoch 4|val]\t12.03 s\t0.5890\n",
      "start training (epoch=5)\n"
     ]
    },
    {
     "name": "stderr",
     "output_type": "stream",
     "text": [
      "Epoch 5: 100%|██████████| 16/16 [00:18<00:00,  1.17s/it]\n"
     ]
    },
    {
     "name": "stdout",
     "output_type": "stream",
     "text": [
      "train step took 19.3 s\n",
      "train loss = 0.58\n"
     ]
    },
    {
     "name": "stderr",
     "output_type": "stream",
     "text": [
      "Validation 5: 100%|██████████| 14/14 [00:11<00:00,  1.21it/s]\n"
     ]
    },
    {
     "name": "stdout",
     "output_type": "stream",
     "text": [
      "val step took 12.1 s\n",
      "val loss = 0.54\n",
      "[Epoch 5|val]\t12.12 s\t0.5444\n",
      "start training (epoch=6)\n"
     ]
    },
    {
     "name": "stderr",
     "output_type": "stream",
     "text": [
      "Epoch 6: 100%|██████████| 16/16 [00:18<00:00,  1.18s/it]\n"
     ]
    },
    {
     "name": "stdout",
     "output_type": "stream",
     "text": [
      "train step took 19.4 s\n",
      "train loss = 0.53\n"
     ]
    },
    {
     "name": "stderr",
     "output_type": "stream",
     "text": [
      "Validation 6: 100%|██████████| 14/14 [00:11<00:00,  1.21it/s]\n"
     ]
    },
    {
     "name": "stdout",
     "output_type": "stream",
     "text": [
      "val step took 12.1 s\n",
      "val loss = 0.49\n",
      "[Epoch 6|val]\t12.13 s\t0.4905\n",
      "start training (epoch=7)\n"
     ]
    },
    {
     "name": "stderr",
     "output_type": "stream",
     "text": [
      "Epoch 7: 100%|██████████| 16/16 [00:18<00:00,  1.14s/it]\n"
     ]
    },
    {
     "name": "stdout",
     "output_type": "stream",
     "text": [
      "train step took 18.8 s\n",
      "train loss = 0.48\n"
     ]
    },
    {
     "name": "stderr",
     "output_type": "stream",
     "text": [
      "Validation 7: 100%|██████████| 14/14 [00:11<00:00,  1.22it/s]\n"
     ]
    },
    {
     "name": "stdout",
     "output_type": "stream",
     "text": [
      "val step took 12.1 s\n",
      "val loss = 0.44\n",
      "[Epoch 7|val]\t12.10 s\t0.4353\n",
      "start training (epoch=8)\n"
     ]
    },
    {
     "name": "stderr",
     "output_type": "stream",
     "text": [
      "Epoch 8: 100%|██████████| 16/16 [00:18<00:00,  1.17s/it]\n"
     ]
    },
    {
     "name": "stdout",
     "output_type": "stream",
     "text": [
      "train step took 19.3 s\n",
      "train loss = 0.41\n"
     ]
    },
    {
     "name": "stderr",
     "output_type": "stream",
     "text": [
      "Validation 8: 100%|██████████| 14/14 [00:11<00:00,  1.20it/s]\n"
     ]
    },
    {
     "name": "stdout",
     "output_type": "stream",
     "text": [
      "val step took 12.2 s\n",
      "val loss = 0.38\n",
      "[Epoch 8|val]\t12.16 s\t0.3810\n",
      "start training (epoch=9)\n"
     ]
    },
    {
     "name": "stderr",
     "output_type": "stream",
     "text": [
      "Epoch 9: 100%|██████████| 16/16 [00:18<00:00,  1.17s/it]\n"
     ]
    },
    {
     "name": "stdout",
     "output_type": "stream",
     "text": [
      "train step took 19.3 s\n",
      "train loss = 0.36\n"
     ]
    },
    {
     "name": "stderr",
     "output_type": "stream",
     "text": [
      "Validation 9: 100%|██████████| 14/14 [00:11<00:00,  1.24it/s]\n"
     ]
    },
    {
     "name": "stdout",
     "output_type": "stream",
     "text": [
      "val step took 11.9 s\n",
      "val loss = 0.34\n",
      "[Epoch 9|val]\t11.86 s\t0.3361\n",
      "start training (epoch=10)\n"
     ]
    },
    {
     "name": "stderr",
     "output_type": "stream",
     "text": [
      "Epoch 10: 100%|██████████| 16/16 [00:18<00:00,  1.15s/it]\n"
     ]
    },
    {
     "name": "stdout",
     "output_type": "stream",
     "text": [
      "train step took 19.0 s\n",
      "train loss = 0.32\n"
     ]
    },
    {
     "name": "stderr",
     "output_type": "stream",
     "text": [
      "Validation 10: 100%|██████████| 14/14 [00:11<00:00,  1.23it/s]\n"
     ]
    },
    {
     "name": "stdout",
     "output_type": "stream",
     "text": [
      "val step took 11.9 s\n",
      "val loss = 0.30\n",
      "[Epoch 10|val]\t11.93 s\t0.2995\n",
      "start training (epoch=11)\n"
     ]
    },
    {
     "name": "stderr",
     "output_type": "stream",
     "text": [
      "Epoch 11: 100%|██████████| 16/16 [00:18<00:00,  1.16s/it]\n"
     ]
    },
    {
     "name": "stdout",
     "output_type": "stream",
     "text": [
      "train step took 19.1 s\n",
      "train loss = 0.28\n"
     ]
    },
    {
     "name": "stderr",
     "output_type": "stream",
     "text": [
      "Validation 11: 100%|██████████| 14/14 [00:11<00:00,  1.21it/s]\n"
     ]
    },
    {
     "name": "stdout",
     "output_type": "stream",
     "text": [
      "val step took 12.1 s\n",
      "val loss = 0.27\n",
      "[Epoch 11|val]\t12.07 s\t0.2718\n",
      "start training (epoch=12)\n"
     ]
    },
    {
     "name": "stderr",
     "output_type": "stream",
     "text": [
      "Epoch 12: 100%|██████████| 16/16 [00:18<00:00,  1.13s/it]\n"
     ]
    },
    {
     "name": "stdout",
     "output_type": "stream",
     "text": [
      "train step took 18.6 s\n",
      "train loss = 0.27\n"
     ]
    },
    {
     "name": "stderr",
     "output_type": "stream",
     "text": [
      "Validation 12: 100%|██████████| 14/14 [00:11<00:00,  1.18it/s]\n"
     ]
    },
    {
     "name": "stdout",
     "output_type": "stream",
     "text": [
      "val step took 12.4 s\n",
      "val loss = 0.26\n",
      "[Epoch 12|val]\t12.43 s\t0.2611\n",
      "start training (epoch=13)\n"
     ]
    },
    {
     "name": "stderr",
     "output_type": "stream",
     "text": [
      "Epoch 13: 100%|██████████| 16/16 [00:18<00:00,  1.13s/it]\n"
     ]
    },
    {
     "name": "stdout",
     "output_type": "stream",
     "text": [
      "train step took 18.6 s\n",
      "train loss = 0.23\n"
     ]
    },
    {
     "name": "stderr",
     "output_type": "stream",
     "text": [
      "Validation 13: 100%|██████████| 14/14 [00:11<00:00,  1.21it/s]\n"
     ]
    },
    {
     "name": "stdout",
     "output_type": "stream",
     "text": [
      "val step took 12.0 s\n",
      "val loss = 0.24\n",
      "[Epoch 13|val]\t12.03 s\t0.2408\n",
      "start training (epoch=14)\n"
     ]
    },
    {
     "name": "stderr",
     "output_type": "stream",
     "text": [
      "Epoch 14: 100%|██████████| 16/16 [00:18<00:00,  1.14s/it]\n"
     ]
    },
    {
     "name": "stdout",
     "output_type": "stream",
     "text": [
      "train step took 18.7 s\n",
      "train loss = 0.22\n"
     ]
    },
    {
     "name": "stderr",
     "output_type": "stream",
     "text": [
      "Validation 14: 100%|██████████| 14/14 [00:11<00:00,  1.22it/s]\n"
     ]
    },
    {
     "name": "stdout",
     "output_type": "stream",
     "text": [
      "val step took 12.0 s\n",
      "val loss = 0.23\n",
      "[Epoch 14|val]\t11.99 s\t0.2303\n",
      "start training (epoch=15)\n"
     ]
    },
    {
     "name": "stderr",
     "output_type": "stream",
     "text": [
      "Epoch 15: 100%|██████████| 16/16 [00:18<00:00,  1.14s/it]\n"
     ]
    },
    {
     "name": "stdout",
     "output_type": "stream",
     "text": [
      "train step took 18.9 s\n",
      "train loss = 0.21\n"
     ]
    },
    {
     "name": "stderr",
     "output_type": "stream",
     "text": [
      "Validation 15: 100%|██████████| 14/14 [00:11<00:00,  1.19it/s]\n"
     ]
    },
    {
     "name": "stdout",
     "output_type": "stream",
     "text": [
      "val step took 12.3 s\n",
      "val loss = 0.23\n",
      "[Epoch 15|val]\t12.28 s\t0.2284\n",
      "start training (epoch=16)\n"
     ]
    },
    {
     "name": "stderr",
     "output_type": "stream",
     "text": [
      "Epoch 16: 100%|██████████| 16/16 [00:18<00:00,  1.15s/it]\n"
     ]
    },
    {
     "name": "stdout",
     "output_type": "stream",
     "text": [
      "train step took 19.0 s\n",
      "train loss = 0.20\n"
     ]
    },
    {
     "name": "stderr",
     "output_type": "stream",
     "text": [
      "Validation 16: 100%|██████████| 14/14 [00:11<00:00,  1.23it/s]\n"
     ]
    },
    {
     "name": "stdout",
     "output_type": "stream",
     "text": [
      "val step took 11.9 s\n",
      "val loss = 0.23\n",
      "[Epoch 16|val]\t11.92 s\t0.2258\n",
      "start training (epoch=17)\n"
     ]
    },
    {
     "name": "stderr",
     "output_type": "stream",
     "text": [
      "Epoch 17: 100%|██████████| 16/16 [00:18<00:00,  1.14s/it]\n"
     ]
    },
    {
     "name": "stdout",
     "output_type": "stream",
     "text": [
      "train step took 18.9 s\n",
      "train loss = 0.19\n"
     ]
    },
    {
     "name": "stderr",
     "output_type": "stream",
     "text": [
      "Validation 17: 100%|██████████| 14/14 [00:11<00:00,  1.20it/s]\n"
     ]
    },
    {
     "name": "stdout",
     "output_type": "stream",
     "text": [
      "val step took 12.2 s\n",
      "val loss = 0.23\n",
      "[Epoch 17|val]\t12.22 s\t0.2260\n",
      "start training (epoch=18)\n"
     ]
    },
    {
     "name": "stderr",
     "output_type": "stream",
     "text": [
      "Epoch 18: 100%|██████████| 16/16 [00:18<00:00,  1.14s/it]\n"
     ]
    },
    {
     "name": "stdout",
     "output_type": "stream",
     "text": [
      "train step took 18.9 s\n",
      "train loss = 0.18\n"
     ]
    },
    {
     "name": "stderr",
     "output_type": "stream",
     "text": [
      "Validation 18: 100%|██████████| 14/14 [00:11<00:00,  1.19it/s]\n"
     ]
    },
    {
     "name": "stdout",
     "output_type": "stream",
     "text": [
      "val step took 12.3 s\n",
      "val loss = 0.22\n",
      "[Epoch 18|val]\t12.29 s\t0.2217\n",
      "start training (epoch=19)\n"
     ]
    },
    {
     "name": "stderr",
     "output_type": "stream",
     "text": [
      "Epoch 19: 100%|██████████| 16/16 [00:18<00:00,  1.14s/it]\n"
     ]
    },
    {
     "name": "stdout",
     "output_type": "stream",
     "text": [
      "train step took 18.9 s\n",
      "train loss = 0.17\n"
     ]
    },
    {
     "name": "stderr",
     "output_type": "stream",
     "text": [
      "Validation 19: 100%|██████████| 14/14 [00:11<00:00,  1.23it/s]\n"
     ]
    },
    {
     "name": "stdout",
     "output_type": "stream",
     "text": [
      "val step took 11.9 s\n",
      "val loss = 0.23\n",
      "[Epoch 19|val]\t11.92 s\t0.2299\n",
      "start training (epoch=20)\n"
     ]
    },
    {
     "name": "stderr",
     "output_type": "stream",
     "text": [
      "Epoch 20: 100%|██████████| 16/16 [00:18<00:00,  1.14s/it]\n"
     ]
    },
    {
     "name": "stdout",
     "output_type": "stream",
     "text": [
      "train step took 19.0 s\n",
      "train loss = 0.15\n"
     ]
    },
    {
     "name": "stderr",
     "output_type": "stream",
     "text": [
      "Validation 20: 100%|██████████| 14/14 [00:11<00:00,  1.23it/s]\n"
     ]
    },
    {
     "name": "stdout",
     "output_type": "stream",
     "text": [
      "val step took 12.0 s\n",
      "val loss = 0.22\n",
      "[Epoch 20|val]\t11.98 s\t0.2245\n",
      "start training (epoch=21)\n"
     ]
    },
    {
     "name": "stderr",
     "output_type": "stream",
     "text": [
      "Epoch 21: 100%|██████████| 16/16 [00:17<00:00,  1.12s/it]\n"
     ]
    },
    {
     "name": "stdout",
     "output_type": "stream",
     "text": [
      "train step took 18.4 s\n",
      "train loss = 0.16\n"
     ]
    },
    {
     "name": "stderr",
     "output_type": "stream",
     "text": [
      "Validation 21: 100%|██████████| 14/14 [00:11<00:00,  1.20it/s]\n"
     ]
    },
    {
     "name": "stdout",
     "output_type": "stream",
     "text": [
      "val step took 12.3 s\n",
      "val loss = 0.22\n",
      "[Epoch 21|val]\t12.26 s\t0.2229\n",
      "start training (epoch=22)\n"
     ]
    },
    {
     "name": "stderr",
     "output_type": "stream",
     "text": [
      "Epoch 22: 100%|██████████| 16/16 [00:18<00:00,  1.13s/it]\n"
     ]
    },
    {
     "name": "stdout",
     "output_type": "stream",
     "text": [
      "train step took 18.7 s\n",
      "train loss = 0.15\n"
     ]
    },
    {
     "name": "stderr",
     "output_type": "stream",
     "text": [
      "Validation 22: 100%|██████████| 14/14 [00:11<00:00,  1.21it/s]\n"
     ]
    },
    {
     "name": "stdout",
     "output_type": "stream",
     "text": [
      "val step took 12.1 s\n",
      "val loss = 0.23\n",
      "[Epoch 22|val]\t12.14 s\t0.2255\n",
      "start training (epoch=23)\n"
     ]
    },
    {
     "name": "stderr",
     "output_type": "stream",
     "text": [
      "Epoch 23: 100%|██████████| 16/16 [00:18<00:00,  1.15s/it]\n"
     ]
    },
    {
     "name": "stdout",
     "output_type": "stream",
     "text": [
      "train step took 18.9 s\n",
      "train loss = 0.14\n"
     ]
    },
    {
     "name": "stderr",
     "output_type": "stream",
     "text": [
      "Validation 23: 100%|██████████| 14/14 [00:11<00:00,  1.22it/s]\n"
     ]
    },
    {
     "name": "stdout",
     "output_type": "stream",
     "text": [
      "val step took 12.0 s\n",
      "val loss = 0.22\n",
      "[Epoch 23|val]\t12.04 s\t0.2239\n",
      "start training (epoch=24)\n"
     ]
    },
    {
     "name": "stderr",
     "output_type": "stream",
     "text": [
      "Epoch 24: 100%|██████████| 16/16 [00:18<00:00,  1.13s/it]\n"
     ]
    },
    {
     "name": "stdout",
     "output_type": "stream",
     "text": [
      "train step took 18.6 s\n",
      "train loss = 0.13\n"
     ]
    },
    {
     "name": "stderr",
     "output_type": "stream",
     "text": [
      "Validation 24: 100%|██████████| 14/14 [00:11<00:00,  1.20it/s]\n"
     ]
    },
    {
     "name": "stdout",
     "output_type": "stream",
     "text": [
      "val step took 12.2 s\n",
      "val loss = 0.22\n",
      "[Epoch 24|val]\t12.21 s\t0.2199\n",
      "finished\n",
      "python ../train.py --augment --normalize --images-dir \"/home/amritagupta/ssdprivate/data/Streamflow/fpe_stations/West Brook Lower_01171090/FLOW_CFS\" --pairs-file \"/home/amritagupta/ssdprivate/data/Streamflow/Jeff_data/stations/10-West Brook Lower_01171090/input_4275/pairs_1000.csv\" --output-dir \"/home/amritagupta/ssdprivate/repos/fpe-model/results/vary_annot_frac.jeff_data/West Brook Lower_01171090/input_4275/pairs_1000\" --model-dir \"/home/amritagupta/ssdprivate/repos/fpe-model/results/vary_annot_frac.jeff_data/West Brook Lower_01171090/input_4275/pairs_1000\"\n",
      "Namespace(images_dir='/home/amritagupta/ssdprivate/data/Streamflow/fpe_stations/West Brook Lower_01171090/FLOW_CFS', pairs_file='/home/amritagupta/ssdprivate/data/Streamflow/Jeff_data/stations/10-West Brook Lower_01171090/input_4275/pairs_1000.csv', output_dir='/home/amritagupta/ssdprivate/repos/fpe-model/results/vary_annot_frac.jeff_data/West Brook Lower_01171090/input_4275/pairs_1000', model_dir='/home/amritagupta/ssdprivate/repos/fpe-model/results/vary_annot_frac.jeff_data/West Brook Lower_01171090/input_4275/pairs_1000', gpu=0, num_workers=12, local=False, epochs=25, batch_size=64, lr=0.001, random_seed=1691, unfreeze_after=2, num_image_stats=1000, input_size=480, decolorize=False, augment=True, normalize=True)\n",
      "train()\n",
      "args:\n",
      "{'images_dir': '/home/amritagupta/ssdprivate/data/Streamflow/fpe_stations/West Brook Lower_01171090/FLOW_CFS', 'pairs_file': '/home/amritagupta/ssdprivate/data/Streamflow/Jeff_data/stations/10-West Brook Lower_01171090/input_4275/pairs_1000.csv', 'output_dir': '/home/amritagupta/ssdprivate/repos/fpe-model/results/vary_annot_frac.jeff_data/West Brook Lower_01171090/input_4275/pairs_1000', 'model_dir': '/home/amritagupta/ssdprivate/repos/fpe-model/results/vary_annot_frac.jeff_data/West Brook Lower_01171090/input_4275/pairs_1000', 'gpu': 0, 'num_workers': 12, 'local': False, 'epochs': 25, 'batch_size': 64, 'lr': 0.001, 'random_seed': 1691, 'unfreeze_after': 2, 'num_image_stats': 1000, 'input_size': 480, 'decolorize': False, 'augment': True, 'normalize': True}\n",
      "device: cuda:0\n",
      "output_dir: /home/amritagupta/ssdprivate/repos/fpe-model/results/vary_annot_frac.jeff_data/West Brook Lower_01171090/input_4275/pairs_1000\n",
      "saved args: /home/amritagupta/ssdprivate/repos/fpe-model/results/vary_annot_frac.jeff_data/West Brook Lower_01171090/input_4275/pairs_1000/args.json\n",
      "model_dir: /home/amritagupta/ssdprivate/repos/fpe-model/results/vary_annot_frac.jeff_data/West Brook Lower_01171090/input_4275/pairs_1000\n",
      "set seeds (1691)\n"
     ]
    },
    {
     "name": "stderr",
     "output_type": "stream",
     "text": [
      "100%|██████████| 1000/1000 [01:39<00:00, 10.08it/s]\n"
     ]
    },
    {
     "name": "stdout",
     "output_type": "stream",
     "text": [
      "resize_shape: [480, 640]\n",
      "input_shape: [384, 512]\n",
      "creating train dataset\n",
      "creating val datasets\n",
      "val ds: 894\n",
      "creating data loaders\n",
      "initializing model\n",
      "start training\n",
      "start training (epoch=0)\n"
     ]
    },
    {
     "name": "stderr",
     "output_type": "stream",
     "text": [
      "Epoch 0: 100%|██████████| 32/32 [00:26<00:00,  1.19it/s]\n"
     ]
    },
    {
     "name": "stdout",
     "output_type": "stream",
     "text": [
      "train step took 27.2 s\n",
      "train loss = 0.69\n"
     ]
    },
    {
     "name": "stderr",
     "output_type": "stream",
     "text": [
      "Validation 0: 100%|██████████| 14/14 [00:11<00:00,  1.20it/s]\n"
     ]
    },
    {
     "name": "stdout",
     "output_type": "stream",
     "text": [
      "val step took 12.2 s\n",
      "val loss = 0.68\n",
      "[Epoch 0|val]\t12.23 s\t0.6769\n",
      "start training (epoch=1)\n"
     ]
    },
    {
     "name": "stderr",
     "output_type": "stream",
     "text": [
      "Epoch 1: 100%|██████████| 32/32 [00:27<00:00,  1.16it/s]\n"
     ]
    },
    {
     "name": "stdout",
     "output_type": "stream",
     "text": [
      "train step took 28.1 s\n",
      "train loss = 0.67\n"
     ]
    },
    {
     "name": "stderr",
     "output_type": "stream",
     "text": [
      "Validation 1: 100%|██████████| 14/14 [00:11<00:00,  1.21it/s]\n"
     ]
    },
    {
     "name": "stdout",
     "output_type": "stream",
     "text": [
      "val step took 12.1 s\n",
      "val loss = 0.65\n",
      "[Epoch 1|val]\t12.08 s\t0.6526\n",
      "unfreezing cnn body after epoch=1\n",
      "start training (epoch=2)\n"
     ]
    },
    {
     "name": "stderr",
     "output_type": "stream",
     "text": [
      "Epoch 2: 100%|██████████| 32/32 [00:28<00:00,  1.13it/s]\n"
     ]
    },
    {
     "name": "stdout",
     "output_type": "stream",
     "text": [
      "train step took 29.0 s\n",
      "train loss = 0.64\n"
     ]
    },
    {
     "name": "stderr",
     "output_type": "stream",
     "text": [
      "Validation 2: 100%|██████████| 14/14 [00:11<00:00,  1.19it/s]\n"
     ]
    },
    {
     "name": "stdout",
     "output_type": "stream",
     "text": [
      "val step took 12.3 s\n",
      "val loss = 0.61\n",
      "[Epoch 2|val]\t12.26 s\t0.6138\n",
      "start training (epoch=3)\n"
     ]
    },
    {
     "name": "stderr",
     "output_type": "stream",
     "text": [
      "Epoch 3: 100%|██████████| 32/32 [00:28<00:00,  1.13it/s]\n"
     ]
    },
    {
     "name": "stdout",
     "output_type": "stream",
     "text": [
      "train step took 28.9 s\n",
      "train loss = 0.59\n"
     ]
    },
    {
     "name": "stderr",
     "output_type": "stream",
     "text": [
      "Validation 3: 100%|██████████| 14/14 [00:12<00:00,  1.13it/s]\n"
     ]
    },
    {
     "name": "stdout",
     "output_type": "stream",
     "text": [
      "val step took 12.9 s\n",
      "val loss = 0.54\n",
      "[Epoch 3|val]\t12.92 s\t0.5383\n",
      "start training (epoch=4)\n"
     ]
    },
    {
     "name": "stderr",
     "output_type": "stream",
     "text": [
      "Epoch 4: 100%|██████████| 32/32 [00:27<00:00,  1.16it/s]\n"
     ]
    },
    {
     "name": "stdout",
     "output_type": "stream",
     "text": [
      "train step took 28.3 s\n",
      "train loss = 0.51\n"
     ]
    },
    {
     "name": "stderr",
     "output_type": "stream",
     "text": [
      "Validation 4: 100%|██████████| 14/14 [00:11<00:00,  1.20it/s]\n"
     ]
    },
    {
     "name": "stdout",
     "output_type": "stream",
     "text": [
      "val step took 12.2 s\n",
      "val loss = 0.44\n",
      "[Epoch 4|val]\t12.24 s\t0.4416\n",
      "start training (epoch=5)\n"
     ]
    },
    {
     "name": "stderr",
     "output_type": "stream",
     "text": [
      "Epoch 5: 100%|██████████| 32/32 [00:27<00:00,  1.15it/s]\n"
     ]
    },
    {
     "name": "stdout",
     "output_type": "stream",
     "text": [
      "train step took 28.3 s\n",
      "train loss = 0.41\n"
     ]
    },
    {
     "name": "stderr",
     "output_type": "stream",
     "text": [
      "Validation 5: 100%|██████████| 14/14 [00:11<00:00,  1.21it/s]\n"
     ]
    },
    {
     "name": "stdout",
     "output_type": "stream",
     "text": [
      "val step took 12.1 s\n",
      "val loss = 0.36\n",
      "[Epoch 5|val]\t12.15 s\t0.3552\n",
      "start training (epoch=6)\n"
     ]
    },
    {
     "name": "stderr",
     "output_type": "stream",
     "text": [
      "Epoch 6: 100%|██████████| 32/32 [00:27<00:00,  1.14it/s]\n"
     ]
    },
    {
     "name": "stdout",
     "output_type": "stream",
     "text": [
      "train step took 28.4 s\n",
      "train loss = 0.34\n"
     ]
    },
    {
     "name": "stderr",
     "output_type": "stream",
     "text": [
      "Validation 6: 100%|██████████| 14/14 [00:11<00:00,  1.19it/s]\n"
     ]
    },
    {
     "name": "stdout",
     "output_type": "stream",
     "text": [
      "val step took 12.3 s\n",
      "val loss = 0.29\n",
      "[Epoch 6|val]\t12.27 s\t0.2929\n",
      "start training (epoch=7)\n"
     ]
    },
    {
     "name": "stderr",
     "output_type": "stream",
     "text": [
      "Epoch 7: 100%|██████████| 32/32 [00:27<00:00,  1.15it/s]\n"
     ]
    },
    {
     "name": "stdout",
     "output_type": "stream",
     "text": [
      "train step took 28.3 s\n",
      "train loss = 0.29\n"
     ]
    },
    {
     "name": "stderr",
     "output_type": "stream",
     "text": [
      "Validation 7: 100%|██████████| 14/14 [00:11<00:00,  1.23it/s]\n"
     ]
    },
    {
     "name": "stdout",
     "output_type": "stream",
     "text": [
      "val step took 11.9 s\n",
      "val loss = 0.25\n",
      "[Epoch 7|val]\t11.90 s\t0.2538\n",
      "start training (epoch=8)\n"
     ]
    },
    {
     "name": "stderr",
     "output_type": "stream",
     "text": [
      "Epoch 8: 100%|██████████| 32/32 [00:28<00:00,  1.14it/s]\n"
     ]
    },
    {
     "name": "stdout",
     "output_type": "stream",
     "text": [
      "train step took 28.6 s\n",
      "train loss = 0.25\n"
     ]
    },
    {
     "name": "stderr",
     "output_type": "stream",
     "text": [
      "Validation 8: 100%|██████████| 14/14 [00:12<00:00,  1.16it/s]\n"
     ]
    },
    {
     "name": "stdout",
     "output_type": "stream",
     "text": [
      "val step took 12.6 s\n",
      "val loss = 0.23\n",
      "[Epoch 8|val]\t12.59 s\t0.2342\n",
      "start training (epoch=9)\n"
     ]
    },
    {
     "name": "stderr",
     "output_type": "stream",
     "text": [
      "Epoch 9: 100%|██████████| 32/32 [00:28<00:00,  1.12it/s]\n"
     ]
    },
    {
     "name": "stdout",
     "output_type": "stream",
     "text": [
      "train step took 29.0 s\n",
      "train loss = 0.23\n"
     ]
    },
    {
     "name": "stderr",
     "output_type": "stream",
     "text": [
      "Validation 9: 100%|██████████| 14/14 [00:11<00:00,  1.18it/s]\n"
     ]
    },
    {
     "name": "stdout",
     "output_type": "stream",
     "text": [
      "val step took 12.4 s\n",
      "val loss = 0.23\n",
      "[Epoch 9|val]\t12.38 s\t0.2272\n",
      "start training (epoch=10)\n"
     ]
    },
    {
     "name": "stderr",
     "output_type": "stream",
     "text": [
      "Epoch 10: 100%|██████████| 32/32 [00:28<00:00,  1.13it/s]\n"
     ]
    },
    {
     "name": "stdout",
     "output_type": "stream",
     "text": [
      "train step took 29.0 s\n",
      "train loss = 0.21\n"
     ]
    },
    {
     "name": "stderr",
     "output_type": "stream",
     "text": [
      "Validation 10: 100%|██████████| 14/14 [00:11<00:00,  1.22it/s]\n"
     ]
    },
    {
     "name": "stdout",
     "output_type": "stream",
     "text": [
      "val step took 12.1 s\n",
      "val loss = 0.21\n",
      "[Epoch 10|val]\t12.05 s\t0.2134\n",
      "start training (epoch=11)\n"
     ]
    },
    {
     "name": "stderr",
     "output_type": "stream",
     "text": [
      "Epoch 11: 100%|██████████| 32/32 [00:28<00:00,  1.12it/s]\n"
     ]
    },
    {
     "name": "stdout",
     "output_type": "stream",
     "text": [
      "train step took 29.0 s\n",
      "train loss = 0.21\n"
     ]
    },
    {
     "name": "stderr",
     "output_type": "stream",
     "text": [
      "Validation 11: 100%|██████████| 14/14 [00:11<00:00,  1.22it/s]\n"
     ]
    },
    {
     "name": "stdout",
     "output_type": "stream",
     "text": [
      "val step took 12.1 s\n",
      "val loss = 0.22\n",
      "[Epoch 11|val]\t12.07 s\t0.2160\n",
      "start training (epoch=12)\n"
     ]
    },
    {
     "name": "stderr",
     "output_type": "stream",
     "text": [
      "Epoch 12: 100%|██████████| 32/32 [00:27<00:00,  1.15it/s]\n"
     ]
    },
    {
     "name": "stdout",
     "output_type": "stream",
     "text": [
      "train step took 28.4 s\n",
      "train loss = 0.19\n"
     ]
    },
    {
     "name": "stderr",
     "output_type": "stream",
     "text": [
      "Validation 12: 100%|██████████| 14/14 [00:11<00:00,  1.19it/s]\n"
     ]
    },
    {
     "name": "stdout",
     "output_type": "stream",
     "text": [
      "val step took 12.3 s\n",
      "val loss = 0.21\n",
      "[Epoch 12|val]\t12.33 s\t0.2053\n",
      "start training (epoch=13)\n"
     ]
    },
    {
     "name": "stderr",
     "output_type": "stream",
     "text": [
      "Epoch 13: 100%|██████████| 32/32 [00:28<00:00,  1.12it/s]\n"
     ]
    },
    {
     "name": "stdout",
     "output_type": "stream",
     "text": [
      "train step took 29.0 s\n",
      "train loss = 0.18\n"
     ]
    },
    {
     "name": "stderr",
     "output_type": "stream",
     "text": [
      "Validation 13: 100%|██████████| 14/14 [00:11<00:00,  1.23it/s]\n"
     ]
    },
    {
     "name": "stdout",
     "output_type": "stream",
     "text": [
      "val step took 11.8 s\n",
      "val loss = 0.21\n",
      "[Epoch 13|val]\t11.80 s\t0.2059\n",
      "start training (epoch=14)\n"
     ]
    },
    {
     "name": "stderr",
     "output_type": "stream",
     "text": [
      "Epoch 14: 100%|██████████| 32/32 [00:27<00:00,  1.17it/s]\n"
     ]
    },
    {
     "name": "stdout",
     "output_type": "stream",
     "text": [
      "train step took 27.8 s\n",
      "train loss = 0.18\n"
     ]
    },
    {
     "name": "stderr",
     "output_type": "stream",
     "text": [
      "Validation 14: 100%|██████████| 14/14 [00:12<00:00,  1.14it/s]\n"
     ]
    },
    {
     "name": "stdout",
     "output_type": "stream",
     "text": [
      "val step took 12.8 s\n",
      "val loss = 0.20\n",
      "[Epoch 14|val]\t12.83 s\t0.1973\n",
      "start training (epoch=15)\n"
     ]
    },
    {
     "name": "stderr",
     "output_type": "stream",
     "text": [
      "Epoch 15: 100%|██████████| 32/32 [00:27<00:00,  1.15it/s]\n"
     ]
    },
    {
     "name": "stdout",
     "output_type": "stream",
     "text": [
      "train step took 28.5 s\n",
      "train loss = 0.17\n"
     ]
    },
    {
     "name": "stderr",
     "output_type": "stream",
     "text": [
      "Validation 15: 100%|██████████| 14/14 [00:11<00:00,  1.19it/s]\n"
     ]
    },
    {
     "name": "stdout",
     "output_type": "stream",
     "text": [
      "val step took 12.4 s\n",
      "val loss = 0.20\n",
      "[Epoch 15|val]\t12.35 s\t0.2002\n",
      "start training (epoch=16)\n"
     ]
    },
    {
     "name": "stderr",
     "output_type": "stream",
     "text": [
      "Epoch 16: 100%|██████████| 32/32 [00:27<00:00,  1.18it/s]\n"
     ]
    },
    {
     "name": "stdout",
     "output_type": "stream",
     "text": [
      "train step took 27.7 s\n",
      "train loss = 0.18\n"
     ]
    },
    {
     "name": "stderr",
     "output_type": "stream",
     "text": [
      "Validation 16: 100%|██████████| 14/14 [00:11<00:00,  1.18it/s]\n"
     ]
    },
    {
     "name": "stdout",
     "output_type": "stream",
     "text": [
      "val step took 12.4 s\n",
      "val loss = 0.19\n",
      "[Epoch 16|val]\t12.39 s\t0.1919\n",
      "start training (epoch=17)\n"
     ]
    },
    {
     "name": "stderr",
     "output_type": "stream",
     "text": [
      "Epoch 17: 100%|██████████| 32/32 [00:28<00:00,  1.13it/s]\n"
     ]
    },
    {
     "name": "stdout",
     "output_type": "stream",
     "text": [
      "train step took 29.0 s\n",
      "train loss = 0.16\n"
     ]
    },
    {
     "name": "stderr",
     "output_type": "stream",
     "text": [
      "Validation 17: 100%|██████████| 14/14 [00:12<00:00,  1.16it/s]\n"
     ]
    },
    {
     "name": "stdout",
     "output_type": "stream",
     "text": [
      "val step took 12.7 s\n",
      "val loss = 0.21\n",
      "[Epoch 17|val]\t12.70 s\t0.2050\n",
      "start training (epoch=18)\n"
     ]
    },
    {
     "name": "stderr",
     "output_type": "stream",
     "text": [
      "Epoch 18: 100%|██████████| 32/32 [00:28<00:00,  1.14it/s]\n"
     ]
    },
    {
     "name": "stdout",
     "output_type": "stream",
     "text": [
      "train step took 28.8 s\n",
      "train loss = 0.16\n"
     ]
    },
    {
     "name": "stderr",
     "output_type": "stream",
     "text": [
      "Validation 18: 100%|██████████| 14/14 [00:11<00:00,  1.18it/s]\n"
     ]
    },
    {
     "name": "stdout",
     "output_type": "stream",
     "text": [
      "val step took 12.4 s\n",
      "val loss = 0.21\n",
      "[Epoch 18|val]\t12.43 s\t0.2094\n",
      "start training (epoch=19)\n"
     ]
    },
    {
     "name": "stderr",
     "output_type": "stream",
     "text": [
      "Epoch 19: 100%|██████████| 32/32 [00:28<00:00,  1.12it/s]\n"
     ]
    },
    {
     "name": "stdout",
     "output_type": "stream",
     "text": [
      "train step took 29.1 s\n",
      "train loss = 0.15\n"
     ]
    },
    {
     "name": "stderr",
     "output_type": "stream",
     "text": [
      "Validation 19: 100%|██████████| 14/14 [00:11<00:00,  1.18it/s]\n"
     ]
    },
    {
     "name": "stdout",
     "output_type": "stream",
     "text": [
      "val step took 12.5 s\n",
      "val loss = 0.20\n",
      "[Epoch 19|val]\t12.50 s\t0.1982\n",
      "start training (epoch=20)\n"
     ]
    },
    {
     "name": "stderr",
     "output_type": "stream",
     "text": [
      "Epoch 20: 100%|██████████| 32/32 [00:29<00:00,  1.08it/s]\n"
     ]
    },
    {
     "name": "stdout",
     "output_type": "stream",
     "text": [
      "train step took 30.1 s\n",
      "train loss = 0.13\n"
     ]
    },
    {
     "name": "stderr",
     "output_type": "stream",
     "text": [
      "Validation 20: 100%|██████████| 14/14 [00:11<00:00,  1.22it/s]\n"
     ]
    },
    {
     "name": "stdout",
     "output_type": "stream",
     "text": [
      "val step took 12.1 s\n",
      "val loss = 0.20\n",
      "[Epoch 20|val]\t12.08 s\t0.1966\n",
      "start training (epoch=21)\n"
     ]
    },
    {
     "name": "stderr",
     "output_type": "stream",
     "text": [
      "Epoch 21: 100%|██████████| 32/32 [00:27<00:00,  1.15it/s]\n"
     ]
    },
    {
     "name": "stdout",
     "output_type": "stream",
     "text": [
      "train step took 28.4 s\n",
      "train loss = 0.13\n"
     ]
    },
    {
     "name": "stderr",
     "output_type": "stream",
     "text": [
      "Validation 21: 100%|██████████| 14/14 [00:11<00:00,  1.17it/s]\n"
     ]
    },
    {
     "name": "stdout",
     "output_type": "stream",
     "text": [
      "val step took 12.6 s\n",
      "val loss = 0.20\n",
      "[Epoch 21|val]\t12.55 s\t0.1968\n",
      "start training (epoch=22)\n"
     ]
    },
    {
     "name": "stderr",
     "output_type": "stream",
     "text": [
      "Epoch 22: 100%|██████████| 32/32 [00:27<00:00,  1.18it/s]\n"
     ]
    },
    {
     "name": "stdout",
     "output_type": "stream",
     "text": [
      "train step took 27.6 s\n",
      "train loss = 0.14\n"
     ]
    },
    {
     "name": "stderr",
     "output_type": "stream",
     "text": [
      "Validation 22: 100%|██████████| 14/14 [00:11<00:00,  1.24it/s]\n"
     ]
    },
    {
     "name": "stdout",
     "output_type": "stream",
     "text": [
      "val step took 11.9 s\n",
      "val loss = 0.20\n",
      "[Epoch 22|val]\t11.90 s\t0.1997\n",
      "start training (epoch=23)\n"
     ]
    },
    {
     "name": "stderr",
     "output_type": "stream",
     "text": [
      "Epoch 23: 100%|██████████| 32/32 [00:27<00:00,  1.16it/s]\n"
     ]
    },
    {
     "name": "stdout",
     "output_type": "stream",
     "text": [
      "train step took 28.3 s\n",
      "train loss = 0.14\n"
     ]
    },
    {
     "name": "stderr",
     "output_type": "stream",
     "text": [
      "Validation 23: 100%|██████████| 14/14 [00:11<00:00,  1.21it/s]\n"
     ]
    },
    {
     "name": "stdout",
     "output_type": "stream",
     "text": [
      "val step took 12.1 s\n",
      "val loss = 0.20\n",
      "[Epoch 23|val]\t12.15 s\t0.1998\n",
      "start training (epoch=24)\n"
     ]
    },
    {
     "name": "stderr",
     "output_type": "stream",
     "text": [
      "Epoch 24: 100%|██████████| 32/32 [00:27<00:00,  1.15it/s]\n"
     ]
    },
    {
     "name": "stdout",
     "output_type": "stream",
     "text": [
      "train step took 28.4 s\n",
      "train loss = 0.14\n"
     ]
    },
    {
     "name": "stderr",
     "output_type": "stream",
     "text": [
      "Validation 24: 100%|██████████| 14/14 [00:11<00:00,  1.21it/s]\n"
     ]
    },
    {
     "name": "stdout",
     "output_type": "stream",
     "text": [
      "val step took 12.2 s\n",
      "val loss = 0.20\n",
      "[Epoch 24|val]\t12.21 s\t0.2001\n",
      "finished\n",
      "python ../train.py --augment --normalize --images-dir \"/home/amritagupta/ssdprivate/data/Streamflow/fpe_stations/West Brook Lower_01171090/FLOW_CFS\" --pairs-file \"/home/amritagupta/ssdprivate/data/Streamflow/Jeff_data/stations/10-West Brook Lower_01171090/input_4275/pairs_1500.csv\" --output-dir \"/home/amritagupta/ssdprivate/repos/fpe-model/results/vary_annot_frac.jeff_data/West Brook Lower_01171090/input_4275/pairs_1500\" --model-dir \"/home/amritagupta/ssdprivate/repos/fpe-model/results/vary_annot_frac.jeff_data/West Brook Lower_01171090/input_4275/pairs_1500\"\n",
      "Namespace(images_dir='/home/amritagupta/ssdprivate/data/Streamflow/fpe_stations/West Brook Lower_01171090/FLOW_CFS', pairs_file='/home/amritagupta/ssdprivate/data/Streamflow/Jeff_data/stations/10-West Brook Lower_01171090/input_4275/pairs_1500.csv', output_dir='/home/amritagupta/ssdprivate/repos/fpe-model/results/vary_annot_frac.jeff_data/West Brook Lower_01171090/input_4275/pairs_1500', model_dir='/home/amritagupta/ssdprivate/repos/fpe-model/results/vary_annot_frac.jeff_data/West Brook Lower_01171090/input_4275/pairs_1500', gpu=0, num_workers=12, local=False, epochs=25, batch_size=64, lr=0.001, random_seed=1691, unfreeze_after=2, num_image_stats=1000, input_size=480, decolorize=False, augment=True, normalize=True)\n",
      "train()\n",
      "args:\n",
      "{'images_dir': '/home/amritagupta/ssdprivate/data/Streamflow/fpe_stations/West Brook Lower_01171090/FLOW_CFS', 'pairs_file': '/home/amritagupta/ssdprivate/data/Streamflow/Jeff_data/stations/10-West Brook Lower_01171090/input_4275/pairs_1500.csv', 'output_dir': '/home/amritagupta/ssdprivate/repos/fpe-model/results/vary_annot_frac.jeff_data/West Brook Lower_01171090/input_4275/pairs_1500', 'model_dir': '/home/amritagupta/ssdprivate/repos/fpe-model/results/vary_annot_frac.jeff_data/West Brook Lower_01171090/input_4275/pairs_1500', 'gpu': 0, 'num_workers': 12, 'local': False, 'epochs': 25, 'batch_size': 64, 'lr': 0.001, 'random_seed': 1691, 'unfreeze_after': 2, 'num_image_stats': 1000, 'input_size': 480, 'decolorize': False, 'augment': True, 'normalize': True}\n",
      "device: cuda:0\n",
      "output_dir: /home/amritagupta/ssdprivate/repos/fpe-model/results/vary_annot_frac.jeff_data/West Brook Lower_01171090/input_4275/pairs_1500\n",
      "saved args: /home/amritagupta/ssdprivate/repos/fpe-model/results/vary_annot_frac.jeff_data/West Brook Lower_01171090/input_4275/pairs_1500/args.json\n",
      "model_dir: /home/amritagupta/ssdprivate/repos/fpe-model/results/vary_annot_frac.jeff_data/West Brook Lower_01171090/input_4275/pairs_1500\n",
      "set seeds (1691)\n"
     ]
    },
    {
     "name": "stderr",
     "output_type": "stream",
     "text": [
      "100%|██████████| 1000/1000 [01:41<00:00,  9.82it/s]\n"
     ]
    },
    {
     "name": "stdout",
     "output_type": "stream",
     "text": [
      "resize_shape: [480, 640]\n",
      "input_shape: [384, 512]\n",
      "creating train dataset\n",
      "creating val datasets\n",
      "val ds: 894\n",
      "creating data loaders\n",
      "initializing model\n",
      "start training\n",
      "start training (epoch=0)\n"
     ]
    },
    {
     "name": "stderr",
     "output_type": "stream",
     "text": [
      "Epoch 0: 100%|██████████| 47/47 [00:34<00:00,  1.38it/s]\n"
     ]
    },
    {
     "name": "stdout",
     "output_type": "stream",
     "text": [
      "train step took 34.5 s\n",
      "train loss = 0.68\n"
     ]
    },
    {
     "name": "stderr",
     "output_type": "stream",
     "text": [
      "Validation 0: 100%|██████████| 14/14 [00:11<00:00,  1.18it/s]\n"
     ]
    },
    {
     "name": "stdout",
     "output_type": "stream",
     "text": [
      "val step took 12.5 s\n",
      "val loss = 0.66\n",
      "[Epoch 0|val]\t12.51 s\t0.6575\n",
      "start training (epoch=1)\n"
     ]
    },
    {
     "name": "stderr",
     "output_type": "stream",
     "text": [
      "Epoch 1: 100%|██████████| 47/47 [00:35<00:00,  1.32it/s]\n"
     ]
    },
    {
     "name": "stdout",
     "output_type": "stream",
     "text": [
      "train step took 36.2 s\n",
      "train loss = 0.64\n"
     ]
    },
    {
     "name": "stderr",
     "output_type": "stream",
     "text": [
      "Validation 1: 100%|██████████| 14/14 [00:11<00:00,  1.19it/s]\n"
     ]
    },
    {
     "name": "stdout",
     "output_type": "stream",
     "text": [
      "val step took 12.5 s\n",
      "val loss = 0.61\n",
      "[Epoch 1|val]\t12.47 s\t0.6116\n",
      "unfreezing cnn body after epoch=1\n",
      "start training (epoch=2)\n"
     ]
    },
    {
     "name": "stderr",
     "output_type": "stream",
     "text": [
      "Epoch 2: 100%|██████████| 47/47 [00:38<00:00,  1.21it/s]\n"
     ]
    },
    {
     "name": "stdout",
     "output_type": "stream",
     "text": [
      "train step took 39.2 s\n",
      "train loss = 0.58\n"
     ]
    },
    {
     "name": "stderr",
     "output_type": "stream",
     "text": [
      "Validation 2: 100%|██████████| 14/14 [00:11<00:00,  1.19it/s]\n"
     ]
    },
    {
     "name": "stdout",
     "output_type": "stream",
     "text": [
      "val step took 12.3 s\n",
      "val loss = 0.50\n",
      "[Epoch 2|val]\t12.33 s\t0.4988\n",
      "start training (epoch=3)\n"
     ]
    },
    {
     "name": "stderr",
     "output_type": "stream",
     "text": [
      "Epoch 3: 100%|██████████| 47/47 [00:38<00:00,  1.22it/s]\n"
     ]
    },
    {
     "name": "stdout",
     "output_type": "stream",
     "text": [
      "train step took 39.2 s\n",
      "train loss = 0.44\n"
     ]
    },
    {
     "name": "stderr",
     "output_type": "stream",
     "text": [
      "Validation 3: 100%|██████████| 14/14 [00:11<00:00,  1.19it/s]\n"
     ]
    },
    {
     "name": "stdout",
     "output_type": "stream",
     "text": [
      "val step took 12.3 s\n",
      "val loss = 0.36\n",
      "[Epoch 3|val]\t12.35 s\t0.3601\n",
      "start training (epoch=4)\n"
     ]
    },
    {
     "name": "stderr",
     "output_type": "stream",
     "text": [
      "Epoch 4: 100%|██████████| 47/47 [00:38<00:00,  1.23it/s]\n"
     ]
    },
    {
     "name": "stdout",
     "output_type": "stream",
     "text": [
      "train step took 38.7 s\n",
      "train loss = 0.32\n"
     ]
    },
    {
     "name": "stderr",
     "output_type": "stream",
     "text": [
      "Validation 4: 100%|██████████| 14/14 [00:11<00:00,  1.20it/s]\n"
     ]
    },
    {
     "name": "stdout",
     "output_type": "stream",
     "text": [
      "val step took 12.3 s\n",
      "val loss = 0.27\n",
      "[Epoch 4|val]\t12.31 s\t0.2734\n",
      "start training (epoch=5)\n"
     ]
    },
    {
     "name": "stderr",
     "output_type": "stream",
     "text": [
      "Epoch 5: 100%|██████████| 47/47 [00:38<00:00,  1.22it/s]\n"
     ]
    },
    {
     "name": "stdout",
     "output_type": "stream",
     "text": [
      "train step took 39.1 s\n",
      "train loss = 0.26\n"
     ]
    },
    {
     "name": "stderr",
     "output_type": "stream",
     "text": [
      "Validation 5: 100%|██████████| 14/14 [00:11<00:00,  1.23it/s]\n"
     ]
    },
    {
     "name": "stdout",
     "output_type": "stream",
     "text": [
      "val step took 12.1 s\n",
      "val loss = 0.24\n",
      "[Epoch 5|val]\t12.09 s\t0.2383\n",
      "start training (epoch=6)\n"
     ]
    },
    {
     "name": "stderr",
     "output_type": "stream",
     "text": [
      "Epoch 6: 100%|██████████| 47/47 [00:38<00:00,  1.22it/s]\n"
     ]
    },
    {
     "name": "stdout",
     "output_type": "stream",
     "text": [
      "train step took 39.0 s\n",
      "train loss = 0.22\n"
     ]
    },
    {
     "name": "stderr",
     "output_type": "stream",
     "text": [
      "Validation 6: 100%|██████████| 14/14 [00:11<00:00,  1.24it/s]\n"
     ]
    },
    {
     "name": "stdout",
     "output_type": "stream",
     "text": [
      "val step took 12.0 s\n",
      "val loss = 0.22\n",
      "[Epoch 6|val]\t11.98 s\t0.2183\n",
      "start training (epoch=7)\n"
     ]
    },
    {
     "name": "stderr",
     "output_type": "stream",
     "text": [
      "Epoch 7: 100%|██████████| 47/47 [00:38<00:00,  1.22it/s]\n"
     ]
    },
    {
     "name": "stdout",
     "output_type": "stream",
     "text": [
      "train step took 39.2 s\n",
      "train loss = 0.22\n"
     ]
    },
    {
     "name": "stderr",
     "output_type": "stream",
     "text": [
      "Validation 7: 100%|██████████| 14/14 [00:12<00:00,  1.16it/s]\n"
     ]
    },
    {
     "name": "stdout",
     "output_type": "stream",
     "text": [
      "val step took 12.7 s\n",
      "val loss = 0.21\n",
      "[Epoch 7|val]\t12.68 s\t0.2062\n",
      "start training (epoch=8)\n"
     ]
    },
    {
     "name": "stderr",
     "output_type": "stream",
     "text": [
      "Epoch 8: 100%|██████████| 47/47 [00:38<00:00,  1.22it/s]\n"
     ]
    },
    {
     "name": "stdout",
     "output_type": "stream",
     "text": [
      "train step took 39.2 s\n",
      "train loss = 0.21\n"
     ]
    },
    {
     "name": "stderr",
     "output_type": "stream",
     "text": [
      "Validation 8: 100%|██████████| 14/14 [00:11<00:00,  1.21it/s]\n"
     ]
    },
    {
     "name": "stdout",
     "output_type": "stream",
     "text": [
      "val step took 12.2 s\n",
      "val loss = 0.21\n",
      "[Epoch 8|val]\t12.21 s\t0.2110\n",
      "start training (epoch=9)\n"
     ]
    },
    {
     "name": "stderr",
     "output_type": "stream",
     "text": [
      "Epoch 9: 100%|██████████| 47/47 [00:37<00:00,  1.24it/s]\n"
     ]
    },
    {
     "name": "stdout",
     "output_type": "stream",
     "text": [
      "train step took 38.3 s\n",
      "train loss = 0.19\n"
     ]
    },
    {
     "name": "stderr",
     "output_type": "stream",
     "text": [
      "Validation 9: 100%|██████████| 14/14 [00:11<00:00,  1.20it/s]\n"
     ]
    },
    {
     "name": "stdout",
     "output_type": "stream",
     "text": [
      "val step took 12.2 s\n",
      "val loss = 0.20\n",
      "[Epoch 9|val]\t12.22 s\t0.2045\n",
      "start training (epoch=10)\n"
     ]
    },
    {
     "name": "stderr",
     "output_type": "stream",
     "text": [
      "Epoch 10: 100%|██████████| 47/47 [00:38<00:00,  1.23it/s]\n"
     ]
    },
    {
     "name": "stdout",
     "output_type": "stream",
     "text": [
      "train step took 38.9 s\n",
      "train loss = 0.17\n"
     ]
    },
    {
     "name": "stderr",
     "output_type": "stream",
     "text": [
      "Validation 10: 100%|██████████| 14/14 [00:11<00:00,  1.21it/s]\n"
     ]
    },
    {
     "name": "stdout",
     "output_type": "stream",
     "text": [
      "val step took 12.2 s\n",
      "val loss = 0.20\n",
      "[Epoch 10|val]\t12.21 s\t0.2016\n",
      "start training (epoch=11)\n"
     ]
    },
    {
     "name": "stderr",
     "output_type": "stream",
     "text": [
      "Epoch 11: 100%|██████████| 47/47 [00:38<00:00,  1.21it/s]\n"
     ]
    },
    {
     "name": "stdout",
     "output_type": "stream",
     "text": [
      "train step took 39.3 s\n",
      "train loss = 0.17\n"
     ]
    },
    {
     "name": "stderr",
     "output_type": "stream",
     "text": [
      "Validation 11: 100%|██████████| 14/14 [00:11<00:00,  1.23it/s]\n"
     ]
    },
    {
     "name": "stdout",
     "output_type": "stream",
     "text": [
      "val step took 12.0 s\n",
      "val loss = 0.21\n",
      "[Epoch 11|val]\t12.02 s\t0.2094\n",
      "start training (epoch=12)\n"
     ]
    },
    {
     "name": "stderr",
     "output_type": "stream",
     "text": [
      "Epoch 12: 100%|██████████| 47/47 [00:38<00:00,  1.22it/s]\n"
     ]
    },
    {
     "name": "stdout",
     "output_type": "stream",
     "text": [
      "train step took 39.1 s\n",
      "train loss = 0.17\n"
     ]
    },
    {
     "name": "stderr",
     "output_type": "stream",
     "text": [
      "Validation 12: 100%|██████████| 14/14 [00:11<00:00,  1.21it/s]\n"
     ]
    },
    {
     "name": "stdout",
     "output_type": "stream",
     "text": [
      "val step took 12.1 s\n",
      "val loss = 0.21\n",
      "[Epoch 12|val]\t12.10 s\t0.2082\n",
      "start training (epoch=13)\n"
     ]
    },
    {
     "name": "stderr",
     "output_type": "stream",
     "text": [
      "Epoch 13: 100%|██████████| 47/47 [00:38<00:00,  1.21it/s]\n"
     ]
    },
    {
     "name": "stdout",
     "output_type": "stream",
     "text": [
      "train step took 39.4 s\n",
      "train loss = 0.15\n"
     ]
    },
    {
     "name": "stderr",
     "output_type": "stream",
     "text": [
      "Validation 13: 100%|██████████| 14/14 [00:11<00:00,  1.21it/s]\n"
     ]
    },
    {
     "name": "stdout",
     "output_type": "stream",
     "text": [
      "val step took 12.2 s\n",
      "val loss = 0.20\n",
      "[Epoch 13|val]\t12.16 s\t0.1980\n",
      "start training (epoch=14)\n"
     ]
    },
    {
     "name": "stderr",
     "output_type": "stream",
     "text": [
      "Epoch 14: 100%|██████████| 47/47 [00:38<00:00,  1.22it/s]\n"
     ]
    },
    {
     "name": "stdout",
     "output_type": "stream",
     "text": [
      "train step took 39.2 s\n",
      "train loss = 0.15\n"
     ]
    },
    {
     "name": "stderr",
     "output_type": "stream",
     "text": [
      "Validation 14: 100%|██████████| 14/14 [00:11<00:00,  1.19it/s]\n"
     ]
    },
    {
     "name": "stdout",
     "output_type": "stream",
     "text": [
      "val step took 12.4 s\n",
      "val loss = 0.20\n",
      "[Epoch 14|val]\t12.37 s\t0.2032\n",
      "start training (epoch=15)\n"
     ]
    },
    {
     "name": "stderr",
     "output_type": "stream",
     "text": [
      "Epoch 15: 100%|██████████| 47/47 [00:38<00:00,  1.21it/s]\n"
     ]
    },
    {
     "name": "stdout",
     "output_type": "stream",
     "text": [
      "train step took 39.3 s\n",
      "train loss = 0.16\n"
     ]
    },
    {
     "name": "stderr",
     "output_type": "stream",
     "text": [
      "Validation 15: 100%|██████████| 14/14 [00:11<00:00,  1.20it/s]\n"
     ]
    },
    {
     "name": "stdout",
     "output_type": "stream",
     "text": [
      "val step took 12.3 s\n",
      "val loss = 0.21\n",
      "[Epoch 15|val]\t12.27 s\t0.2051\n",
      "start training (epoch=16)\n"
     ]
    },
    {
     "name": "stderr",
     "output_type": "stream",
     "text": [
      "Epoch 16: 100%|██████████| 47/47 [00:38<00:00,  1.21it/s]\n"
     ]
    },
    {
     "name": "stdout",
     "output_type": "stream",
     "text": [
      "train step took 39.5 s\n",
      "train loss = 0.16\n"
     ]
    },
    {
     "name": "stderr",
     "output_type": "stream",
     "text": [
      "Validation 16: 100%|██████████| 14/14 [00:11<00:00,  1.18it/s]\n"
     ]
    },
    {
     "name": "stdout",
     "output_type": "stream",
     "text": [
      "val step took 12.5 s\n",
      "val loss = 0.20\n",
      "[Epoch 16|val]\t12.50 s\t0.2018\n",
      "start training (epoch=17)\n"
     ]
    },
    {
     "name": "stderr",
     "output_type": "stream",
     "text": [
      "Epoch 17: 100%|██████████| 47/47 [00:38<00:00,  1.23it/s]\n"
     ]
    },
    {
     "name": "stdout",
     "output_type": "stream",
     "text": [
      "train step took 38.9 s\n",
      "train loss = 0.15\n"
     ]
    },
    {
     "name": "stderr",
     "output_type": "stream",
     "text": [
      "Validation 17: 100%|██████████| 14/14 [00:11<00:00,  1.19it/s]\n"
     ]
    },
    {
     "name": "stdout",
     "output_type": "stream",
     "text": [
      "val step took 12.4 s\n",
      "val loss = 0.21\n",
      "[Epoch 17|val]\t12.41 s\t0.2051\n",
      "start training (epoch=18)\n"
     ]
    },
    {
     "name": "stderr",
     "output_type": "stream",
     "text": [
      "Epoch 18: 100%|██████████| 47/47 [00:38<00:00,  1.23it/s]\n"
     ]
    },
    {
     "name": "stdout",
     "output_type": "stream",
     "text": [
      "train step took 38.8 s\n",
      "train loss = 0.15\n"
     ]
    },
    {
     "name": "stderr",
     "output_type": "stream",
     "text": [
      "Validation 18: 100%|██████████| 14/14 [00:11<00:00,  1.22it/s]\n"
     ]
    },
    {
     "name": "stdout",
     "output_type": "stream",
     "text": [
      "val step took 12.2 s\n",
      "val loss = 0.20\n",
      "[Epoch 18|val]\t12.16 s\t0.2026\n",
      "start training (epoch=19)\n"
     ]
    },
    {
     "name": "stderr",
     "output_type": "stream",
     "text": [
      "Epoch 19: 100%|██████████| 47/47 [00:38<00:00,  1.22it/s]\n"
     ]
    },
    {
     "name": "stdout",
     "output_type": "stream",
     "text": [
      "train step took 39.2 s\n",
      "train loss = 0.15\n"
     ]
    },
    {
     "name": "stderr",
     "output_type": "stream",
     "text": [
      "Validation 19: 100%|██████████| 14/14 [00:11<00:00,  1.20it/s]\n"
     ]
    },
    {
     "name": "stdout",
     "output_type": "stream",
     "text": [
      "val step took 12.2 s\n",
      "val loss = 0.20\n",
      "[Epoch 19|val]\t12.22 s\t0.2034\n",
      "start training (epoch=20)\n"
     ]
    },
    {
     "name": "stderr",
     "output_type": "stream",
     "text": [
      "Epoch 20: 100%|██████████| 47/47 [00:38<00:00,  1.21it/s]\n"
     ]
    },
    {
     "name": "stdout",
     "output_type": "stream",
     "text": [
      "train step took 39.5 s\n",
      "train loss = 0.14\n"
     ]
    },
    {
     "name": "stderr",
     "output_type": "stream",
     "text": [
      "Validation 20: 100%|██████████| 14/14 [00:11<00:00,  1.23it/s]\n"
     ]
    },
    {
     "name": "stdout",
     "output_type": "stream",
     "text": [
      "val step took 12.0 s\n",
      "val loss = 0.20\n",
      "[Epoch 20|val]\t12.01 s\t0.2031\n",
      "start training (epoch=21)\n"
     ]
    },
    {
     "name": "stderr",
     "output_type": "stream",
     "text": [
      "Epoch 21: 100%|██████████| 47/47 [00:38<00:00,  1.22it/s]\n"
     ]
    },
    {
     "name": "stdout",
     "output_type": "stream",
     "text": [
      "train step took 39.0 s\n",
      "train loss = 0.14\n"
     ]
    },
    {
     "name": "stderr",
     "output_type": "stream",
     "text": [
      "Validation 21: 100%|██████████| 14/14 [00:11<00:00,  1.17it/s]\n"
     ]
    },
    {
     "name": "stdout",
     "output_type": "stream",
     "text": [
      "val step took 12.6 s\n",
      "val loss = 0.20\n",
      "[Epoch 21|val]\t12.60 s\t0.2035\n",
      "start training (epoch=22)\n"
     ]
    },
    {
     "name": "stderr",
     "output_type": "stream",
     "text": [
      "Epoch 22: 100%|██████████| 47/47 [00:38<00:00,  1.22it/s]\n"
     ]
    },
    {
     "name": "stdout",
     "output_type": "stream",
     "text": [
      "train step took 39.1 s\n",
      "train loss = 0.15\n"
     ]
    },
    {
     "name": "stderr",
     "output_type": "stream",
     "text": [
      "Validation 22: 100%|██████████| 14/14 [00:11<00:00,  1.21it/s]\n"
     ]
    },
    {
     "name": "stdout",
     "output_type": "stream",
     "text": [
      "val step took 12.3 s\n",
      "val loss = 0.20\n",
      "[Epoch 22|val]\t12.33 s\t0.2022\n",
      "start training (epoch=23)\n"
     ]
    },
    {
     "name": "stderr",
     "output_type": "stream",
     "text": [
      "Epoch 23: 100%|██████████| 47/47 [00:38<00:00,  1.22it/s]\n"
     ]
    },
    {
     "name": "stdout",
     "output_type": "stream",
     "text": [
      "train step took 39.0 s\n",
      "train loss = 0.14\n"
     ]
    },
    {
     "name": "stderr",
     "output_type": "stream",
     "text": [
      "Validation 23: 100%|██████████| 14/14 [00:11<00:00,  1.20it/s]\n"
     ]
    },
    {
     "name": "stdout",
     "output_type": "stream",
     "text": [
      "val step took 12.2 s\n",
      "val loss = 0.20\n",
      "[Epoch 23|val]\t12.21 s\t0.2029\n",
      "start training (epoch=24)\n"
     ]
    },
    {
     "name": "stderr",
     "output_type": "stream",
     "text": [
      "Epoch 24: 100%|██████████| 47/47 [00:39<00:00,  1.20it/s]\n"
     ]
    },
    {
     "name": "stdout",
     "output_type": "stream",
     "text": [
      "train step took 39.7 s\n",
      "train loss = 0.14\n"
     ]
    },
    {
     "name": "stderr",
     "output_type": "stream",
     "text": [
      "Validation 24: 100%|██████████| 14/14 [00:11<00:00,  1.18it/s]\n"
     ]
    },
    {
     "name": "stdout",
     "output_type": "stream",
     "text": [
      "val step took 12.4 s\n",
      "val loss = 0.20\n",
      "[Epoch 24|val]\t12.40 s\t0.2035\n",
      "finished\n",
      "python ../train.py --augment --normalize --images-dir \"/home/amritagupta/ssdprivate/data/Streamflow/fpe_stations/Avery Brook_Bridge_01171000/FLOW_CFS\" --pairs-file \"/home/amritagupta/ssdprivate/data/Streamflow/Jeff_data/stations/12-Avery Brook_Bridge_01171000/input_4275/pairs_500.csv\" --output-dir \"/home/amritagupta/ssdprivate/repos/fpe-model/results/vary_annot_frac.jeff_data/Avery Brook_Bridge_01171000/input_4275/pairs_500\" --model-dir \"/home/amritagupta/ssdprivate/repos/fpe-model/results/vary_annot_frac.jeff_data/Avery Brook_Bridge_01171000/input_4275/pairs_500\"\n",
      "Namespace(images_dir='/home/amritagupta/ssdprivate/data/Streamflow/fpe_stations/Avery Brook_Bridge_01171000/FLOW_CFS', pairs_file='/home/amritagupta/ssdprivate/data/Streamflow/Jeff_data/stations/12-Avery Brook_Bridge_01171000/input_4275/pairs_500.csv', output_dir='/home/amritagupta/ssdprivate/repos/fpe-model/results/vary_annot_frac.jeff_data/Avery Brook_Bridge_01171000/input_4275/pairs_500', model_dir='/home/amritagupta/ssdprivate/repos/fpe-model/results/vary_annot_frac.jeff_data/Avery Brook_Bridge_01171000/input_4275/pairs_500', gpu=0, num_workers=12, local=False, epochs=25, batch_size=64, lr=0.001, random_seed=1691, unfreeze_after=2, num_image_stats=1000, input_size=480, decolorize=False, augment=True, normalize=True)\n",
      "train()\n",
      "args:\n",
      "{'images_dir': '/home/amritagupta/ssdprivate/data/Streamflow/fpe_stations/Avery Brook_Bridge_01171000/FLOW_CFS', 'pairs_file': '/home/amritagupta/ssdprivate/data/Streamflow/Jeff_data/stations/12-Avery Brook_Bridge_01171000/input_4275/pairs_500.csv', 'output_dir': '/home/amritagupta/ssdprivate/repos/fpe-model/results/vary_annot_frac.jeff_data/Avery Brook_Bridge_01171000/input_4275/pairs_500', 'model_dir': '/home/amritagupta/ssdprivate/repos/fpe-model/results/vary_annot_frac.jeff_data/Avery Brook_Bridge_01171000/input_4275/pairs_500', 'gpu': 0, 'num_workers': 12, 'local': False, 'epochs': 25, 'batch_size': 64, 'lr': 0.001, 'random_seed': 1691, 'unfreeze_after': 2, 'num_image_stats': 1000, 'input_size': 480, 'decolorize': False, 'augment': True, 'normalize': True}\n",
      "device: cuda:0\n",
      "output_dir: /home/amritagupta/ssdprivate/repos/fpe-model/results/vary_annot_frac.jeff_data/Avery Brook_Bridge_01171000/input_4275/pairs_500\n",
      "saved args: /home/amritagupta/ssdprivate/repos/fpe-model/results/vary_annot_frac.jeff_data/Avery Brook_Bridge_01171000/input_4275/pairs_500/args.json\n",
      "model_dir: /home/amritagupta/ssdprivate/repos/fpe-model/results/vary_annot_frac.jeff_data/Avery Brook_Bridge_01171000/input_4275/pairs_500\n",
      "set seeds (1691)\n"
     ]
    },
    {
     "name": "stderr",
     "output_type": "stream",
     "text": [
      "100%|██████████| 983/983 [01:48<00:00,  9.04it/s]\n"
     ]
    },
    {
     "name": "stdout",
     "output_type": "stream",
     "text": [
      "resize_shape: [480, 640]\n",
      "input_shape: [384, 512]\n",
      "creating train dataset\n",
      "creating val datasets\n",
      "val ds: 1270\n",
      "creating data loaders\n",
      "initializing model\n",
      "start training\n",
      "start training (epoch=0)\n"
     ]
    },
    {
     "name": "stderr",
     "output_type": "stream",
     "text": [
      "Epoch 0: 100%|██████████| 16/16 [00:20<00:00,  1.29s/it]\n"
     ]
    },
    {
     "name": "stdout",
     "output_type": "stream",
     "text": [
      "train step took 21.1 s\n",
      "train loss = 0.70\n"
     ]
    },
    {
     "name": "stderr",
     "output_type": "stream",
     "text": [
      "Validation 0: 100%|██████████| 20/20 [00:17<00:00,  1.16it/s]\n"
     ]
    },
    {
     "name": "stdout",
     "output_type": "stream",
     "text": [
      "val step took 17.9 s\n",
      "val loss = 0.69\n",
      "[Epoch 0|val]\t17.92 s\t0.6938\n",
      "start training (epoch=1)\n"
     ]
    },
    {
     "name": "stderr",
     "output_type": "stream",
     "text": [
      "Epoch 1: 100%|██████████| 16/16 [00:20<00:00,  1.27s/it]\n"
     ]
    },
    {
     "name": "stdout",
     "output_type": "stream",
     "text": [
      "train step took 20.8 s\n",
      "train loss = 0.69\n"
     ]
    },
    {
     "name": "stderr",
     "output_type": "stream",
     "text": [
      "Validation 1: 100%|██████████| 20/20 [00:17<00:00,  1.14it/s]\n"
     ]
    },
    {
     "name": "stdout",
     "output_type": "stream",
     "text": [
      "val step took 18.2 s\n",
      "val loss = 0.69\n",
      "[Epoch 1|val]\t18.19 s\t0.6893\n",
      "unfreezing cnn body after epoch=1\n",
      "start training (epoch=2)\n"
     ]
    },
    {
     "name": "stderr",
     "output_type": "stream",
     "text": [
      "Epoch 2: 100%|██████████| 16/16 [00:21<00:00,  1.36s/it]\n"
     ]
    },
    {
     "name": "stdout",
     "output_type": "stream",
     "text": [
      "train step took 22.4 s\n",
      "train loss = 0.69\n"
     ]
    },
    {
     "name": "stderr",
     "output_type": "stream",
     "text": [
      "Validation 2: 100%|██████████| 20/20 [00:17<00:00,  1.17it/s]\n"
     ]
    },
    {
     "name": "stdout",
     "output_type": "stream",
     "text": [
      "val step took 17.6 s\n",
      "val loss = 0.68\n",
      "[Epoch 2|val]\t17.65 s\t0.6845\n",
      "start training (epoch=3)\n"
     ]
    },
    {
     "name": "stderr",
     "output_type": "stream",
     "text": [
      "Epoch 3: 100%|██████████| 16/16 [00:21<00:00,  1.33s/it]\n"
     ]
    },
    {
     "name": "stdout",
     "output_type": "stream",
     "text": [
      "train step took 21.8 s\n",
      "train loss = 0.68\n"
     ]
    },
    {
     "name": "stderr",
     "output_type": "stream",
     "text": [
      "Validation 3: 100%|██████████| 20/20 [00:17<00:00,  1.15it/s]\n"
     ]
    },
    {
     "name": "stdout",
     "output_type": "stream",
     "text": [
      "val step took 18.0 s\n",
      "val loss = 0.68\n",
      "[Epoch 3|val]\t18.03 s\t0.6755\n",
      "start training (epoch=4)\n"
     ]
    },
    {
     "name": "stderr",
     "output_type": "stream",
     "text": [
      "Epoch 4: 100%|██████████| 16/16 [00:20<00:00,  1.31s/it]\n"
     ]
    },
    {
     "name": "stdout",
     "output_type": "stream",
     "text": [
      "train step took 21.6 s\n",
      "train loss = 0.67\n"
     ]
    },
    {
     "name": "stderr",
     "output_type": "stream",
     "text": [
      "Validation 4: 100%|██████████| 20/20 [00:17<00:00,  1.15it/s]\n"
     ]
    },
    {
     "name": "stdout",
     "output_type": "stream",
     "text": [
      "val step took 18.2 s\n",
      "val loss = 0.66\n",
      "[Epoch 4|val]\t18.17 s\t0.6648\n",
      "start training (epoch=5)\n"
     ]
    },
    {
     "name": "stderr",
     "output_type": "stream",
     "text": [
      "Epoch 5: 100%|██████████| 16/16 [00:21<00:00,  1.33s/it]\n"
     ]
    },
    {
     "name": "stdout",
     "output_type": "stream",
     "text": [
      "train step took 22.0 s\n",
      "train loss = 0.66\n"
     ]
    },
    {
     "name": "stderr",
     "output_type": "stream",
     "text": [
      "Validation 5: 100%|██████████| 20/20 [00:17<00:00,  1.14it/s]\n"
     ]
    },
    {
     "name": "stdout",
     "output_type": "stream",
     "text": [
      "val step took 18.2 s\n",
      "val loss = 0.65\n",
      "[Epoch 5|val]\t18.19 s\t0.6522\n",
      "start training (epoch=6)\n"
     ]
    },
    {
     "name": "stderr",
     "output_type": "stream",
     "text": [
      "Epoch 6: 100%|██████████| 16/16 [00:21<00:00,  1.34s/it]\n"
     ]
    },
    {
     "name": "stdout",
     "output_type": "stream",
     "text": [
      "train step took 22.0 s\n",
      "train loss = 0.64\n"
     ]
    },
    {
     "name": "stderr",
     "output_type": "stream",
     "text": [
      "Validation 6: 100%|██████████| 20/20 [00:17<00:00,  1.15it/s]\n"
     ]
    },
    {
     "name": "stdout",
     "output_type": "stream",
     "text": [
      "val step took 17.9 s\n",
      "val loss = 0.64\n",
      "[Epoch 6|val]\t17.92 s\t0.6357\n",
      "start training (epoch=7)\n"
     ]
    },
    {
     "name": "stderr",
     "output_type": "stream",
     "text": [
      "Epoch 7: 100%|██████████| 16/16 [00:21<00:00,  1.35s/it]\n"
     ]
    },
    {
     "name": "stdout",
     "output_type": "stream",
     "text": [
      "train step took 22.2 s\n",
      "train loss = 0.62\n"
     ]
    },
    {
     "name": "stderr",
     "output_type": "stream",
     "text": [
      "Validation 7: 100%|██████████| 20/20 [00:17<00:00,  1.15it/s]\n"
     ]
    },
    {
     "name": "stdout",
     "output_type": "stream",
     "text": [
      "val step took 18.0 s\n",
      "val loss = 0.61\n",
      "[Epoch 7|val]\t18.02 s\t0.6145\n",
      "start training (epoch=8)\n"
     ]
    },
    {
     "name": "stderr",
     "output_type": "stream",
     "text": [
      "Epoch 8: 100%|██████████| 16/16 [00:20<00:00,  1.31s/it]\n"
     ]
    },
    {
     "name": "stdout",
     "output_type": "stream",
     "text": [
      "train step took 21.6 s\n",
      "train loss = 0.59\n"
     ]
    },
    {
     "name": "stderr",
     "output_type": "stream",
     "text": [
      "Validation 8: 100%|██████████| 20/20 [00:17<00:00,  1.14it/s]\n"
     ]
    },
    {
     "name": "stdout",
     "output_type": "stream",
     "text": [
      "val step took 18.1 s\n",
      "val loss = 0.59\n",
      "[Epoch 8|val]\t18.07 s\t0.5893\n",
      "start training (epoch=9)\n"
     ]
    },
    {
     "name": "stderr",
     "output_type": "stream",
     "text": [
      "Epoch 9: 100%|██████████| 16/16 [00:21<00:00,  1.36s/it]\n"
     ]
    },
    {
     "name": "stdout",
     "output_type": "stream",
     "text": [
      "train step took 22.3 s\n",
      "train loss = 0.56\n"
     ]
    },
    {
     "name": "stderr",
     "output_type": "stream",
     "text": [
      "Validation 9: 100%|██████████| 20/20 [00:17<00:00,  1.13it/s]\n"
     ]
    },
    {
     "name": "stdout",
     "output_type": "stream",
     "text": [
      "val step took 18.3 s\n",
      "val loss = 0.56\n",
      "[Epoch 9|val]\t18.29 s\t0.5603\n",
      "start training (epoch=10)\n"
     ]
    },
    {
     "name": "stderr",
     "output_type": "stream",
     "text": [
      "Epoch 10: 100%|██████████| 16/16 [00:21<00:00,  1.31s/it]\n"
     ]
    },
    {
     "name": "stdout",
     "output_type": "stream",
     "text": [
      "train step took 21.6 s\n",
      "train loss = 0.52\n"
     ]
    },
    {
     "name": "stderr",
     "output_type": "stream",
     "text": [
      "Validation 10: 100%|██████████| 20/20 [00:17<00:00,  1.16it/s]\n"
     ]
    },
    {
     "name": "stdout",
     "output_type": "stream",
     "text": [
      "val step took 17.9 s\n",
      "val loss = 0.53\n",
      "[Epoch 10|val]\t17.94 s\t0.5308\n",
      "start training (epoch=11)\n"
     ]
    },
    {
     "name": "stderr",
     "output_type": "stream",
     "text": [
      "Epoch 11: 100%|██████████| 16/16 [00:22<00:00,  1.38s/it]\n"
     ]
    },
    {
     "name": "stdout",
     "output_type": "stream",
     "text": [
      "train step took 22.6 s\n",
      "train loss = 0.48\n"
     ]
    },
    {
     "name": "stderr",
     "output_type": "stream",
     "text": [
      "Validation 11: 100%|██████████| 20/20 [00:17<00:00,  1.14it/s]\n"
     ]
    },
    {
     "name": "stdout",
     "output_type": "stream",
     "text": [
      "val step took 18.2 s\n",
      "val loss = 0.50\n",
      "[Epoch 11|val]\t18.20 s\t0.5026\n",
      "start training (epoch=12)\n"
     ]
    },
    {
     "name": "stderr",
     "output_type": "stream",
     "text": [
      "Epoch 12: 100%|██████████| 16/16 [00:21<00:00,  1.32s/it]\n"
     ]
    },
    {
     "name": "stdout",
     "output_type": "stream",
     "text": [
      "train step took 21.8 s\n",
      "train loss = 0.45\n"
     ]
    },
    {
     "name": "stderr",
     "output_type": "stream",
     "text": [
      "Validation 12: 100%|██████████| 20/20 [00:17<00:00,  1.14it/s]\n"
     ]
    },
    {
     "name": "stdout",
     "output_type": "stream",
     "text": [
      "val step took 18.2 s\n",
      "val loss = 0.48\n",
      "[Epoch 12|val]\t18.24 s\t0.4815\n",
      "start training (epoch=13)\n"
     ]
    },
    {
     "name": "stderr",
     "output_type": "stream",
     "text": [
      "Epoch 13: 100%|██████████| 16/16 [00:20<00:00,  1.30s/it]\n"
     ]
    },
    {
     "name": "stdout",
     "output_type": "stream",
     "text": [
      "train step took 21.5 s\n",
      "train loss = 0.42\n"
     ]
    },
    {
     "name": "stderr",
     "output_type": "stream",
     "text": [
      "Validation 13: 100%|██████████| 20/20 [00:17<00:00,  1.14it/s]\n"
     ]
    },
    {
     "name": "stdout",
     "output_type": "stream",
     "text": [
      "val step took 18.2 s\n",
      "val loss = 0.46\n",
      "[Epoch 13|val]\t18.19 s\t0.4614\n",
      "start training (epoch=14)\n"
     ]
    },
    {
     "name": "stderr",
     "output_type": "stream",
     "text": [
      "Epoch 14: 100%|██████████| 16/16 [00:21<00:00,  1.33s/it]\n"
     ]
    },
    {
     "name": "stdout",
     "output_type": "stream",
     "text": [
      "train step took 21.9 s\n",
      "train loss = 0.39\n"
     ]
    },
    {
     "name": "stderr",
     "output_type": "stream",
     "text": [
      "Validation 14: 100%|██████████| 20/20 [00:17<00:00,  1.15it/s]\n"
     ]
    },
    {
     "name": "stdout",
     "output_type": "stream",
     "text": [
      "val step took 18.0 s\n",
      "val loss = 0.45\n",
      "[Epoch 14|val]\t18.01 s\t0.4498\n",
      "start training (epoch=15)\n"
     ]
    },
    {
     "name": "stderr",
     "output_type": "stream",
     "text": [
      "Epoch 15: 100%|██████████| 16/16 [00:21<00:00,  1.31s/it]\n"
     ]
    },
    {
     "name": "stdout",
     "output_type": "stream",
     "text": [
      "train step took 21.7 s\n",
      "train loss = 0.38\n"
     ]
    },
    {
     "name": "stderr",
     "output_type": "stream",
     "text": [
      "Validation 15: 100%|██████████| 20/20 [00:17<00:00,  1.16it/s]\n"
     ]
    },
    {
     "name": "stdout",
     "output_type": "stream",
     "text": [
      "val step took 17.9 s\n",
      "val loss = 0.44\n",
      "[Epoch 15|val]\t17.90 s\t0.4363\n",
      "start training (epoch=16)\n"
     ]
    },
    {
     "name": "stderr",
     "output_type": "stream",
     "text": [
      "Epoch 16: 100%|██████████| 16/16 [00:21<00:00,  1.34s/it]\n"
     ]
    },
    {
     "name": "stdout",
     "output_type": "stream",
     "text": [
      "train step took 22.0 s\n",
      "train loss = 0.36\n"
     ]
    },
    {
     "name": "stderr",
     "output_type": "stream",
     "text": [
      "Validation 16: 100%|██████████| 20/20 [00:17<00:00,  1.15it/s]\n"
     ]
    },
    {
     "name": "stdout",
     "output_type": "stream",
     "text": [
      "val step took 17.9 s\n",
      "val loss = 0.42\n",
      "[Epoch 16|val]\t17.85 s\t0.4225\n",
      "start training (epoch=17)\n"
     ]
    },
    {
     "name": "stderr",
     "output_type": "stream",
     "text": [
      "Epoch 17: 100%|██████████| 16/16 [00:21<00:00,  1.34s/it]\n"
     ]
    },
    {
     "name": "stdout",
     "output_type": "stream",
     "text": [
      "train step took 22.0 s\n",
      "train loss = 0.34\n"
     ]
    },
    {
     "name": "stderr",
     "output_type": "stream",
     "text": [
      "Validation 17: 100%|██████████| 20/20 [00:17<00:00,  1.13it/s]\n"
     ]
    },
    {
     "name": "stdout",
     "output_type": "stream",
     "text": [
      "val step took 18.2 s\n",
      "val loss = 0.41\n",
      "[Epoch 17|val]\t18.24 s\t0.4140\n",
      "start training (epoch=18)\n"
     ]
    },
    {
     "name": "stderr",
     "output_type": "stream",
     "text": [
      "Epoch 18: 100%|██████████| 16/16 [00:21<00:00,  1.34s/it]\n"
     ]
    },
    {
     "name": "stdout",
     "output_type": "stream",
     "text": [
      "train step took 22.1 s\n",
      "train loss = 0.34\n"
     ]
    },
    {
     "name": "stderr",
     "output_type": "stream",
     "text": [
      "Validation 18: 100%|██████████| 20/20 [00:17<00:00,  1.15it/s]\n"
     ]
    },
    {
     "name": "stdout",
     "output_type": "stream",
     "text": [
      "val step took 17.9 s\n",
      "val loss = 0.41\n",
      "[Epoch 18|val]\t17.93 s\t0.4054\n",
      "start training (epoch=19)\n"
     ]
    },
    {
     "name": "stderr",
     "output_type": "stream",
     "text": [
      "Epoch 19: 100%|██████████| 16/16 [00:21<00:00,  1.35s/it]\n"
     ]
    },
    {
     "name": "stdout",
     "output_type": "stream",
     "text": [
      "train step took 22.2 s\n",
      "train loss = 0.32\n"
     ]
    },
    {
     "name": "stderr",
     "output_type": "stream",
     "text": [
      "Validation 19: 100%|██████████| 20/20 [00:17<00:00,  1.17it/s]\n"
     ]
    },
    {
     "name": "stdout",
     "output_type": "stream",
     "text": [
      "val step took 17.7 s\n",
      "val loss = 0.40\n",
      "[Epoch 19|val]\t17.73 s\t0.3957\n",
      "start training (epoch=20)\n"
     ]
    },
    {
     "name": "stderr",
     "output_type": "stream",
     "text": [
      "Epoch 20: 100%|██████████| 16/16 [00:21<00:00,  1.33s/it]\n"
     ]
    },
    {
     "name": "stdout",
     "output_type": "stream",
     "text": [
      "train step took 21.9 s\n",
      "train loss = 0.31\n"
     ]
    },
    {
     "name": "stderr",
     "output_type": "stream",
     "text": [
      "Validation 20: 100%|██████████| 20/20 [00:17<00:00,  1.17it/s]\n"
     ]
    },
    {
     "name": "stdout",
     "output_type": "stream",
     "text": [
      "val step took 17.6 s\n",
      "val loss = 0.39\n",
      "[Epoch 20|val]\t17.58 s\t0.3945\n",
      "start training (epoch=21)\n"
     ]
    },
    {
     "name": "stderr",
     "output_type": "stream",
     "text": [
      "Epoch 21: 100%|██████████| 16/16 [00:21<00:00,  1.32s/it]\n"
     ]
    },
    {
     "name": "stdout",
     "output_type": "stream",
     "text": [
      "train step took 21.7 s\n",
      "train loss = 0.30\n"
     ]
    },
    {
     "name": "stderr",
     "output_type": "stream",
     "text": [
      "Validation 21: 100%|██████████| 20/20 [00:17<00:00,  1.14it/s]\n"
     ]
    },
    {
     "name": "stdout",
     "output_type": "stream",
     "text": [
      "val step took 18.1 s\n",
      "val loss = 0.39\n",
      "[Epoch 21|val]\t18.13 s\t0.3886\n",
      "start training (epoch=22)\n"
     ]
    },
    {
     "name": "stderr",
     "output_type": "stream",
     "text": [
      "Epoch 22: 100%|██████████| 16/16 [00:21<00:00,  1.33s/it]\n"
     ]
    },
    {
     "name": "stdout",
     "output_type": "stream",
     "text": [
      "train step took 21.8 s\n",
      "train loss = 0.29\n"
     ]
    },
    {
     "name": "stderr",
     "output_type": "stream",
     "text": [
      "Validation 22: 100%|██████████| 20/20 [00:17<00:00,  1.17it/s]\n"
     ]
    },
    {
     "name": "stdout",
     "output_type": "stream",
     "text": [
      "val step took 17.7 s\n",
      "val loss = 0.38\n",
      "[Epoch 22|val]\t17.73 s\t0.3823\n",
      "start training (epoch=23)\n"
     ]
    },
    {
     "name": "stderr",
     "output_type": "stream",
     "text": [
      "Epoch 23: 100%|██████████| 16/16 [00:20<00:00,  1.31s/it]\n"
     ]
    },
    {
     "name": "stdout",
     "output_type": "stream",
     "text": [
      "train step took 21.4 s\n",
      "train loss = 0.29\n"
     ]
    },
    {
     "name": "stderr",
     "output_type": "stream",
     "text": [
      "Validation 23: 100%|██████████| 20/20 [00:16<00:00,  1.18it/s]\n"
     ]
    },
    {
     "name": "stdout",
     "output_type": "stream",
     "text": [
      "val step took 17.4 s\n",
      "val loss = 0.38\n",
      "[Epoch 23|val]\t17.42 s\t0.3785\n",
      "start training (epoch=24)\n"
     ]
    },
    {
     "name": "stderr",
     "output_type": "stream",
     "text": [
      "Epoch 24: 100%|██████████| 16/16 [00:20<00:00,  1.31s/it]\n"
     ]
    },
    {
     "name": "stdout",
     "output_type": "stream",
     "text": [
      "train step took 21.4 s\n",
      "train loss = 0.28\n"
     ]
    },
    {
     "name": "stderr",
     "output_type": "stream",
     "text": [
      "Validation 24: 100%|██████████| 20/20 [00:17<00:00,  1.14it/s]\n"
     ]
    },
    {
     "name": "stdout",
     "output_type": "stream",
     "text": [
      "val step took 18.0 s\n",
      "val loss = 0.38\n",
      "[Epoch 24|val]\t17.98 s\t0.3812\n",
      "finished\n",
      "python ../train.py --augment --normalize --images-dir \"/home/amritagupta/ssdprivate/data/Streamflow/fpe_stations/Avery Brook_Bridge_01171000/FLOW_CFS\" --pairs-file \"/home/amritagupta/ssdprivate/data/Streamflow/Jeff_data/stations/12-Avery Brook_Bridge_01171000/input_4275/pairs_1000.csv\" --output-dir \"/home/amritagupta/ssdprivate/repos/fpe-model/results/vary_annot_frac.jeff_data/Avery Brook_Bridge_01171000/input_4275/pairs_1000\" --model-dir \"/home/amritagupta/ssdprivate/repos/fpe-model/results/vary_annot_frac.jeff_data/Avery Brook_Bridge_01171000/input_4275/pairs_1000\"\n",
      "Namespace(images_dir='/home/amritagupta/ssdprivate/data/Streamflow/fpe_stations/Avery Brook_Bridge_01171000/FLOW_CFS', pairs_file='/home/amritagupta/ssdprivate/data/Streamflow/Jeff_data/stations/12-Avery Brook_Bridge_01171000/input_4275/pairs_1000.csv', output_dir='/home/amritagupta/ssdprivate/repos/fpe-model/results/vary_annot_frac.jeff_data/Avery Brook_Bridge_01171000/input_4275/pairs_1000', model_dir='/home/amritagupta/ssdprivate/repos/fpe-model/results/vary_annot_frac.jeff_data/Avery Brook_Bridge_01171000/input_4275/pairs_1000', gpu=0, num_workers=12, local=False, epochs=25, batch_size=64, lr=0.001, random_seed=1691, unfreeze_after=2, num_image_stats=1000, input_size=480, decolorize=False, augment=True, normalize=True)\n",
      "train()\n",
      "args:\n",
      "{'images_dir': '/home/amritagupta/ssdprivate/data/Streamflow/fpe_stations/Avery Brook_Bridge_01171000/FLOW_CFS', 'pairs_file': '/home/amritagupta/ssdprivate/data/Streamflow/Jeff_data/stations/12-Avery Brook_Bridge_01171000/input_4275/pairs_1000.csv', 'output_dir': '/home/amritagupta/ssdprivate/repos/fpe-model/results/vary_annot_frac.jeff_data/Avery Brook_Bridge_01171000/input_4275/pairs_1000', 'model_dir': '/home/amritagupta/ssdprivate/repos/fpe-model/results/vary_annot_frac.jeff_data/Avery Brook_Bridge_01171000/input_4275/pairs_1000', 'gpu': 0, 'num_workers': 12, 'local': False, 'epochs': 25, 'batch_size': 64, 'lr': 0.001, 'random_seed': 1691, 'unfreeze_after': 2, 'num_image_stats': 1000, 'input_size': 480, 'decolorize': False, 'augment': True, 'normalize': True}\n",
      "device: cuda:0\n",
      "output_dir: /home/amritagupta/ssdprivate/repos/fpe-model/results/vary_annot_frac.jeff_data/Avery Brook_Bridge_01171000/input_4275/pairs_1000\n",
      "saved args: /home/amritagupta/ssdprivate/repos/fpe-model/results/vary_annot_frac.jeff_data/Avery Brook_Bridge_01171000/input_4275/pairs_1000/args.json\n",
      "model_dir: /home/amritagupta/ssdprivate/repos/fpe-model/results/vary_annot_frac.jeff_data/Avery Brook_Bridge_01171000/input_4275/pairs_1000\n",
      "set seeds (1691)\n"
     ]
    },
    {
     "name": "stderr",
     "output_type": "stream",
     "text": [
      "100%|██████████| 1000/1000 [01:08<00:00, 14.52it/s]\n"
     ]
    },
    {
     "name": "stdout",
     "output_type": "stream",
     "text": [
      "resize_shape: [480, 640]\n",
      "input_shape: [384, 512]\n",
      "creating train dataset\n",
      "creating val datasets\n",
      "val ds: 1270\n",
      "creating data loaders\n",
      "initializing model\n",
      "start training\n",
      "start training (epoch=0)\n"
     ]
    },
    {
     "name": "stderr",
     "output_type": "stream",
     "text": [
      "Epoch 0: 100%|██████████| 32/32 [00:31<00:00,  1.00it/s]\n"
     ]
    },
    {
     "name": "stdout",
     "output_type": "stream",
     "text": [
      "train step took 32.2 s\n",
      "train loss = 0.69\n"
     ]
    },
    {
     "name": "stderr",
     "output_type": "stream",
     "text": [
      "Validation 0: 100%|██████████| 20/20 [00:17<00:00,  1.16it/s]\n"
     ]
    },
    {
     "name": "stdout",
     "output_type": "stream",
     "text": [
      "val step took 17.8 s\n",
      "val loss = 0.68\n",
      "[Epoch 0|val]\t17.81 s\t0.6815\n",
      "start training (epoch=1)\n"
     ]
    },
    {
     "name": "stderr",
     "output_type": "stream",
     "text": [
      "Epoch 1: 100%|██████████| 32/32 [00:31<00:00,  1.02it/s]\n"
     ]
    },
    {
     "name": "stdout",
     "output_type": "stream",
     "text": [
      "train step took 31.8 s\n",
      "train loss = 0.67\n"
     ]
    },
    {
     "name": "stderr",
     "output_type": "stream",
     "text": [
      "Validation 1: 100%|██████████| 20/20 [00:17<00:00,  1.16it/s]\n"
     ]
    },
    {
     "name": "stdout",
     "output_type": "stream",
     "text": [
      "val step took 17.8 s\n",
      "val loss = 0.67\n",
      "[Epoch 1|val]\t17.80 s\t0.6651\n",
      "unfreezing cnn body after epoch=1\n",
      "start training (epoch=2)\n"
     ]
    },
    {
     "name": "stderr",
     "output_type": "stream",
     "text": [
      "Epoch 2: 100%|██████████| 32/32 [00:31<00:00,  1.00it/s]\n"
     ]
    },
    {
     "name": "stdout",
     "output_type": "stream",
     "text": [
      "train step took 32.4 s\n",
      "train loss = 0.66\n"
     ]
    },
    {
     "name": "stderr",
     "output_type": "stream",
     "text": [
      "Validation 2: 100%|██████████| 20/20 [00:17<00:00,  1.18it/s]\n"
     ]
    },
    {
     "name": "stdout",
     "output_type": "stream",
     "text": [
      "val step took 17.6 s\n",
      "val loss = 0.64\n",
      "[Epoch 2|val]\t17.57 s\t0.6403\n",
      "start training (epoch=3)\n"
     ]
    },
    {
     "name": "stderr",
     "output_type": "stream",
     "text": [
      "Epoch 3: 100%|██████████| 32/32 [00:30<00:00,  1.04it/s]\n"
     ]
    },
    {
     "name": "stdout",
     "output_type": "stream",
     "text": [
      "train step took 31.3 s\n",
      "train loss = 0.62\n"
     ]
    },
    {
     "name": "stderr",
     "output_type": "stream",
     "text": [
      "Validation 3: 100%|██████████| 20/20 [00:16<00:00,  1.18it/s]\n"
     ]
    },
    {
     "name": "stdout",
     "output_type": "stream",
     "text": [
      "val step took 17.5 s\n",
      "val loss = 0.59\n",
      "[Epoch 3|val]\t17.46 s\t0.5941\n",
      "start training (epoch=4)\n"
     ]
    },
    {
     "name": "stderr",
     "output_type": "stream",
     "text": [
      "Epoch 4: 100%|██████████| 32/32 [00:31<00:00,  1.03it/s]\n"
     ]
    },
    {
     "name": "stdout",
     "output_type": "stream",
     "text": [
      "train step took 31.7 s\n",
      "train loss = 0.56\n"
     ]
    },
    {
     "name": "stderr",
     "output_type": "stream",
     "text": [
      "Validation 4: 100%|██████████| 20/20 [00:16<00:00,  1.23it/s]\n"
     ]
    },
    {
     "name": "stdout",
     "output_type": "stream",
     "text": [
      "val step took 16.9 s\n",
      "val loss = 0.53\n",
      "[Epoch 4|val]\t16.94 s\t0.5340\n",
      "start training (epoch=5)\n"
     ]
    },
    {
     "name": "stderr",
     "output_type": "stream",
     "text": [
      "Epoch 5: 100%|██████████| 32/32 [00:31<00:00,  1.02it/s]\n"
     ]
    },
    {
     "name": "stdout",
     "output_type": "stream",
     "text": [
      "train step took 32.1 s\n",
      "train loss = 0.48\n"
     ]
    },
    {
     "name": "stderr",
     "output_type": "stream",
     "text": [
      "Validation 5: 100%|██████████| 20/20 [00:16<00:00,  1.21it/s]\n"
     ]
    },
    {
     "name": "stdout",
     "output_type": "stream",
     "text": [
      "val step took 17.0 s\n",
      "val loss = 0.48\n",
      "[Epoch 5|val]\t17.03 s\t0.4767\n",
      "start training (epoch=6)\n"
     ]
    },
    {
     "name": "stderr",
     "output_type": "stream",
     "text": [
      "Epoch 6: 100%|██████████| 32/32 [00:31<00:00,  1.02it/s]\n"
     ]
    },
    {
     "name": "stdout",
     "output_type": "stream",
     "text": [
      "train step took 31.9 s\n",
      "train loss = 0.42\n"
     ]
    },
    {
     "name": "stderr",
     "output_type": "stream",
     "text": [
      "Validation 6: 100%|██████████| 20/20 [00:16<00:00,  1.18it/s]\n"
     ]
    },
    {
     "name": "stdout",
     "output_type": "stream",
     "text": [
      "val step took 17.5 s\n",
      "val loss = 0.44\n",
      "[Epoch 6|val]\t17.48 s\t0.4430\n",
      "start training (epoch=7)\n"
     ]
    },
    {
     "name": "stderr",
     "output_type": "stream",
     "text": [
      "Epoch 7: 100%|██████████| 32/32 [00:31<00:00,  1.02it/s]\n"
     ]
    },
    {
     "name": "stdout",
     "output_type": "stream",
     "text": [
      "train step took 31.8 s\n",
      "train loss = 0.39\n"
     ]
    },
    {
     "name": "stderr",
     "output_type": "stream",
     "text": [
      "Validation 7: 100%|██████████| 20/20 [00:16<00:00,  1.21it/s]\n"
     ]
    },
    {
     "name": "stdout",
     "output_type": "stream",
     "text": [
      "val step took 17.1 s\n",
      "val loss = 0.42\n",
      "[Epoch 7|val]\t17.12 s\t0.4237\n",
      "start training (epoch=8)\n"
     ]
    },
    {
     "name": "stderr",
     "output_type": "stream",
     "text": [
      "Epoch 8: 100%|██████████| 32/32 [00:30<00:00,  1.03it/s]\n"
     ]
    },
    {
     "name": "stdout",
     "output_type": "stream",
     "text": [
      "train step took 31.5 s\n",
      "train loss = 0.37\n"
     ]
    },
    {
     "name": "stderr",
     "output_type": "stream",
     "text": [
      "Validation 8: 100%|██████████| 20/20 [00:16<00:00,  1.20it/s]\n"
     ]
    },
    {
     "name": "stdout",
     "output_type": "stream",
     "text": [
      "val step took 17.2 s\n",
      "val loss = 0.41\n",
      "[Epoch 8|val]\t17.17 s\t0.4075\n",
      "start training (epoch=9)\n"
     ]
    },
    {
     "name": "stderr",
     "output_type": "stream",
     "text": [
      "Epoch 9: 100%|██████████| 32/32 [00:30<00:00,  1.04it/s]\n"
     ]
    },
    {
     "name": "stdout",
     "output_type": "stream",
     "text": [
      "train step took 31.4 s\n",
      "train loss = 0.35\n"
     ]
    },
    {
     "name": "stderr",
     "output_type": "stream",
     "text": [
      "Validation 9: 100%|██████████| 20/20 [00:16<00:00,  1.22it/s]\n"
     ]
    },
    {
     "name": "stdout",
     "output_type": "stream",
     "text": [
      "val step took 17.0 s\n",
      "val loss = 0.39\n",
      "[Epoch 9|val]\t16.96 s\t0.3944\n",
      "start training (epoch=10)\n"
     ]
    },
    {
     "name": "stderr",
     "output_type": "stream",
     "text": [
      "Epoch 10: 100%|██████████| 32/32 [00:31<00:00,  1.03it/s]\n"
     ]
    },
    {
     "name": "stdout",
     "output_type": "stream",
     "text": [
      "train step took 31.8 s\n",
      "train loss = 0.33\n"
     ]
    },
    {
     "name": "stderr",
     "output_type": "stream",
     "text": [
      "Validation 10: 100%|██████████| 20/20 [00:16<00:00,  1.20it/s]\n"
     ]
    },
    {
     "name": "stdout",
     "output_type": "stream",
     "text": [
      "val step took 17.3 s\n",
      "val loss = 0.39\n",
      "[Epoch 10|val]\t17.26 s\t0.3863\n",
      "start training (epoch=11)\n"
     ]
    },
    {
     "name": "stderr",
     "output_type": "stream",
     "text": [
      "Epoch 11: 100%|██████████| 32/32 [00:30<00:00,  1.05it/s]\n"
     ]
    },
    {
     "name": "stdout",
     "output_type": "stream",
     "text": [
      "train step took 31.1 s\n",
      "train loss = 0.32\n"
     ]
    },
    {
     "name": "stderr",
     "output_type": "stream",
     "text": [
      "Validation 11: 100%|██████████| 20/20 [00:16<00:00,  1.22it/s]\n"
     ]
    },
    {
     "name": "stdout",
     "output_type": "stream",
     "text": [
      "val step took 17.0 s\n",
      "val loss = 0.39\n",
      "[Epoch 11|val]\t17.00 s\t0.3863\n",
      "start training (epoch=12)\n"
     ]
    },
    {
     "name": "stderr",
     "output_type": "stream",
     "text": [
      "Epoch 12: 100%|██████████| 32/32 [00:31<00:00,  1.02it/s]\n"
     ]
    },
    {
     "name": "stdout",
     "output_type": "stream",
     "text": [
      "train step took 31.9 s\n",
      "train loss = 0.30\n"
     ]
    },
    {
     "name": "stderr",
     "output_type": "stream",
     "text": [
      "Validation 12: 100%|██████████| 20/20 [00:16<00:00,  1.20it/s]\n"
     ]
    },
    {
     "name": "stdout",
     "output_type": "stream",
     "text": [
      "val step took 17.3 s\n",
      "val loss = 0.37\n",
      "[Epoch 12|val]\t17.29 s\t0.3748\n",
      "start training (epoch=13)\n"
     ]
    },
    {
     "name": "stderr",
     "output_type": "stream",
     "text": [
      "Epoch 13: 100%|██████████| 32/32 [00:31<00:00,  1.03it/s]\n"
     ]
    },
    {
     "name": "stdout",
     "output_type": "stream",
     "text": [
      "train step took 31.6 s\n",
      "train loss = 0.29\n"
     ]
    },
    {
     "name": "stderr",
     "output_type": "stream",
     "text": [
      "Validation 13: 100%|██████████| 20/20 [00:16<00:00,  1.22it/s]\n"
     ]
    },
    {
     "name": "stdout",
     "output_type": "stream",
     "text": [
      "val step took 17.0 s\n",
      "val loss = 0.38\n",
      "[Epoch 13|val]\t16.96 s\t0.3778\n",
      "start training (epoch=14)\n"
     ]
    },
    {
     "name": "stderr",
     "output_type": "stream",
     "text": [
      "Epoch 14: 100%|██████████| 32/32 [00:31<00:00,  1.03it/s]\n"
     ]
    },
    {
     "name": "stdout",
     "output_type": "stream",
     "text": [
      "train step took 31.6 s\n",
      "train loss = 0.28\n"
     ]
    },
    {
     "name": "stderr",
     "output_type": "stream",
     "text": [
      "Validation 14: 100%|██████████| 20/20 [00:16<00:00,  1.21it/s]\n"
     ]
    },
    {
     "name": "stdout",
     "output_type": "stream",
     "text": [
      "val step took 17.1 s\n",
      "val loss = 0.37\n",
      "[Epoch 14|val]\t17.13 s\t0.3694\n",
      "start training (epoch=15)\n"
     ]
    },
    {
     "name": "stderr",
     "output_type": "stream",
     "text": [
      "Epoch 15: 100%|██████████| 32/32 [00:31<00:00,  1.03it/s]\n"
     ]
    },
    {
     "name": "stdout",
     "output_type": "stream",
     "text": [
      "train step took 31.6 s\n",
      "train loss = 0.28\n"
     ]
    },
    {
     "name": "stderr",
     "output_type": "stream",
     "text": [
      "Validation 15: 100%|██████████| 20/20 [00:16<00:00,  1.20it/s]\n"
     ]
    },
    {
     "name": "stdout",
     "output_type": "stream",
     "text": [
      "val step took 17.2 s\n",
      "val loss = 0.37\n",
      "[Epoch 15|val]\t17.19 s\t0.3670\n",
      "start training (epoch=16)\n"
     ]
    },
    {
     "name": "stderr",
     "output_type": "stream",
     "text": [
      "Epoch 16: 100%|██████████| 32/32 [00:31<00:00,  1.02it/s]\n"
     ]
    },
    {
     "name": "stdout",
     "output_type": "stream",
     "text": [
      "train step took 31.9 s\n",
      "train loss = 0.27\n"
     ]
    },
    {
     "name": "stderr",
     "output_type": "stream",
     "text": [
      "Validation 16: 100%|██████████| 20/20 [00:17<00:00,  1.17it/s]\n"
     ]
    },
    {
     "name": "stdout",
     "output_type": "stream",
     "text": [
      "val step took 17.8 s\n",
      "val loss = 0.37\n",
      "[Epoch 16|val]\t17.77 s\t0.3679\n",
      "start training (epoch=17)\n"
     ]
    },
    {
     "name": "stderr",
     "output_type": "stream",
     "text": [
      "Epoch 17: 100%|██████████| 32/32 [00:31<00:00,  1.03it/s]\n"
     ]
    },
    {
     "name": "stdout",
     "output_type": "stream",
     "text": [
      "train step took 31.6 s\n",
      "train loss = 0.26\n"
     ]
    },
    {
     "name": "stderr",
     "output_type": "stream",
     "text": [
      "Validation 17: 100%|██████████| 20/20 [00:16<00:00,  1.21it/s]\n"
     ]
    },
    {
     "name": "stdout",
     "output_type": "stream",
     "text": [
      "val step took 17.1 s\n",
      "val loss = 0.36\n",
      "[Epoch 17|val]\t17.13 s\t0.3643\n",
      "start training (epoch=18)\n"
     ]
    },
    {
     "name": "stderr",
     "output_type": "stream",
     "text": [
      "Epoch 18: 100%|██████████| 32/32 [00:31<00:00,  1.01it/s]\n"
     ]
    },
    {
     "name": "stdout",
     "output_type": "stream",
     "text": [
      "train step took 32.2 s\n",
      "train loss = 0.25\n"
     ]
    },
    {
     "name": "stderr",
     "output_type": "stream",
     "text": [
      "Validation 18: 100%|██████████| 20/20 [00:16<00:00,  1.20it/s]\n"
     ]
    },
    {
     "name": "stdout",
     "output_type": "stream",
     "text": [
      "val step took 17.2 s\n",
      "val loss = 0.36\n",
      "[Epoch 18|val]\t17.15 s\t0.3636\n",
      "start training (epoch=19)\n"
     ]
    },
    {
     "name": "stderr",
     "output_type": "stream",
     "text": [
      "Epoch 19: 100%|██████████| 32/32 [00:31<00:00,  1.02it/s]\n"
     ]
    },
    {
     "name": "stdout",
     "output_type": "stream",
     "text": [
      "train step took 31.8 s\n",
      "train loss = 0.26\n"
     ]
    },
    {
     "name": "stderr",
     "output_type": "stream",
     "text": [
      "Validation 19: 100%|██████████| 20/20 [00:16<00:00,  1.21it/s]\n"
     ]
    },
    {
     "name": "stdout",
     "output_type": "stream",
     "text": [
      "val step took 17.0 s\n",
      "val loss = 0.37\n",
      "[Epoch 19|val]\t17.02 s\t0.3710\n",
      "start training (epoch=20)\n"
     ]
    },
    {
     "name": "stderr",
     "output_type": "stream",
     "text": [
      "Epoch 20: 100%|██████████| 32/32 [00:30<00:00,  1.04it/s]\n"
     ]
    },
    {
     "name": "stdout",
     "output_type": "stream",
     "text": [
      "train step took 31.3 s\n",
      "train loss = 0.25\n"
     ]
    },
    {
     "name": "stderr",
     "output_type": "stream",
     "text": [
      "Validation 20: 100%|██████████| 20/20 [00:16<00:00,  1.21it/s]\n"
     ]
    },
    {
     "name": "stdout",
     "output_type": "stream",
     "text": [
      "val step took 17.1 s\n",
      "val loss = 0.36\n",
      "[Epoch 20|val]\t17.14 s\t0.3601\n",
      "start training (epoch=21)\n"
     ]
    },
    {
     "name": "stderr",
     "output_type": "stream",
     "text": [
      "Epoch 21: 100%|██████████| 32/32 [00:31<00:00,  1.03it/s]\n"
     ]
    },
    {
     "name": "stdout",
     "output_type": "stream",
     "text": [
      "train step took 31.6 s\n",
      "train loss = 0.23\n"
     ]
    },
    {
     "name": "stderr",
     "output_type": "stream",
     "text": [
      "Validation 21: 100%|██████████| 20/20 [00:16<00:00,  1.20it/s]\n"
     ]
    },
    {
     "name": "stdout",
     "output_type": "stream",
     "text": [
      "val step took 17.2 s\n",
      "val loss = 0.37\n",
      "[Epoch 21|val]\t17.20 s\t0.3676\n",
      "start training (epoch=22)\n"
     ]
    },
    {
     "name": "stderr",
     "output_type": "stream",
     "text": [
      "Epoch 22: 100%|██████████| 32/32 [00:31<00:00,  1.03it/s]\n"
     ]
    },
    {
     "name": "stdout",
     "output_type": "stream",
     "text": [
      "train step took 31.7 s\n",
      "train loss = 0.25\n"
     ]
    },
    {
     "name": "stderr",
     "output_type": "stream",
     "text": [
      "Validation 22: 100%|██████████| 20/20 [00:16<00:00,  1.22it/s]\n"
     ]
    },
    {
     "name": "stdout",
     "output_type": "stream",
     "text": [
      "val step took 17.0 s\n",
      "val loss = 0.36\n",
      "[Epoch 22|val]\t16.99 s\t0.3639\n",
      "start training (epoch=23)\n"
     ]
    },
    {
     "name": "stderr",
     "output_type": "stream",
     "text": [
      "Epoch 23: 100%|██████████| 32/32 [00:31<00:00,  1.02it/s]\n"
     ]
    },
    {
     "name": "stdout",
     "output_type": "stream",
     "text": [
      "train step took 31.9 s\n",
      "train loss = 0.24\n"
     ]
    },
    {
     "name": "stderr",
     "output_type": "stream",
     "text": [
      "Validation 23: 100%|██████████| 20/20 [00:16<00:00,  1.20it/s]\n"
     ]
    },
    {
     "name": "stdout",
     "output_type": "stream",
     "text": [
      "val step took 17.2 s\n",
      "val loss = 0.36\n",
      "[Epoch 23|val]\t17.18 s\t0.3637\n",
      "start training (epoch=24)\n"
     ]
    },
    {
     "name": "stderr",
     "output_type": "stream",
     "text": [
      "Epoch 24: 100%|██████████| 32/32 [00:31<00:00,  1.03it/s]\n"
     ]
    },
    {
     "name": "stdout",
     "output_type": "stream",
     "text": [
      "train step took 31.7 s\n",
      "train loss = 0.22\n"
     ]
    },
    {
     "name": "stderr",
     "output_type": "stream",
     "text": [
      "Validation 24: 100%|██████████| 20/20 [00:16<00:00,  1.18it/s]\n"
     ]
    },
    {
     "name": "stdout",
     "output_type": "stream",
     "text": [
      "val step took 17.4 s\n",
      "val loss = 0.37\n",
      "[Epoch 24|val]\t17.43 s\t0.3725\n",
      "finished\n",
      "python ../train.py --augment --normalize --images-dir \"/home/amritagupta/ssdprivate/data/Streamflow/fpe_stations/Avery Brook_Bridge_01171000/FLOW_CFS\" --pairs-file \"/home/amritagupta/ssdprivate/data/Streamflow/Jeff_data/stations/12-Avery Brook_Bridge_01171000/input_4275/pairs_1500.csv\" --output-dir \"/home/amritagupta/ssdprivate/repos/fpe-model/results/vary_annot_frac.jeff_data/Avery Brook_Bridge_01171000/input_4275/pairs_1500\" --model-dir \"/home/amritagupta/ssdprivate/repos/fpe-model/results/vary_annot_frac.jeff_data/Avery Brook_Bridge_01171000/input_4275/pairs_1500\"\n",
      "Namespace(images_dir='/home/amritagupta/ssdprivate/data/Streamflow/fpe_stations/Avery Brook_Bridge_01171000/FLOW_CFS', pairs_file='/home/amritagupta/ssdprivate/data/Streamflow/Jeff_data/stations/12-Avery Brook_Bridge_01171000/input_4275/pairs_1500.csv', output_dir='/home/amritagupta/ssdprivate/repos/fpe-model/results/vary_annot_frac.jeff_data/Avery Brook_Bridge_01171000/input_4275/pairs_1500', model_dir='/home/amritagupta/ssdprivate/repos/fpe-model/results/vary_annot_frac.jeff_data/Avery Brook_Bridge_01171000/input_4275/pairs_1500', gpu=0, num_workers=12, local=False, epochs=25, batch_size=64, lr=0.001, random_seed=1691, unfreeze_after=2, num_image_stats=1000, input_size=480, decolorize=False, augment=True, normalize=True)\n",
      "train()\n",
      "args:\n",
      "{'images_dir': '/home/amritagupta/ssdprivate/data/Streamflow/fpe_stations/Avery Brook_Bridge_01171000/FLOW_CFS', 'pairs_file': '/home/amritagupta/ssdprivate/data/Streamflow/Jeff_data/stations/12-Avery Brook_Bridge_01171000/input_4275/pairs_1500.csv', 'output_dir': '/home/amritagupta/ssdprivate/repos/fpe-model/results/vary_annot_frac.jeff_data/Avery Brook_Bridge_01171000/input_4275/pairs_1500', 'model_dir': '/home/amritagupta/ssdprivate/repos/fpe-model/results/vary_annot_frac.jeff_data/Avery Brook_Bridge_01171000/input_4275/pairs_1500', 'gpu': 0, 'num_workers': 12, 'local': False, 'epochs': 25, 'batch_size': 64, 'lr': 0.001, 'random_seed': 1691, 'unfreeze_after': 2, 'num_image_stats': 1000, 'input_size': 480, 'decolorize': False, 'augment': True, 'normalize': True}\n",
      "device: cuda:0\n",
      "output_dir: /home/amritagupta/ssdprivate/repos/fpe-model/results/vary_annot_frac.jeff_data/Avery Brook_Bridge_01171000/input_4275/pairs_1500\n",
      "saved args: /home/amritagupta/ssdprivate/repos/fpe-model/results/vary_annot_frac.jeff_data/Avery Brook_Bridge_01171000/input_4275/pairs_1500/args.json\n",
      "model_dir: /home/amritagupta/ssdprivate/repos/fpe-model/results/vary_annot_frac.jeff_data/Avery Brook_Bridge_01171000/input_4275/pairs_1500\n",
      "set seeds (1691)\n"
     ]
    },
    {
     "name": "stderr",
     "output_type": "stream",
     "text": [
      "100%|██████████| 1000/1000 [00:57<00:00, 17.29it/s]\n"
     ]
    },
    {
     "name": "stdout",
     "output_type": "stream",
     "text": [
      "resize_shape: [480, 640]\n",
      "input_shape: [384, 512]\n",
      "creating train dataset\n",
      "creating val datasets\n",
      "val ds: 1270\n",
      "creating data loaders\n",
      "initializing model\n",
      "start training\n",
      "start training (epoch=0)\n"
     ]
    },
    {
     "name": "stderr",
     "output_type": "stream",
     "text": [
      "Epoch 0: 100%|██████████| 47/47 [00:42<00:00,  1.10it/s]\n"
     ]
    },
    {
     "name": "stdout",
     "output_type": "stream",
     "text": [
      "train step took 42.9 s\n",
      "train loss = 0.69\n"
     ]
    },
    {
     "name": "stderr",
     "output_type": "stream",
     "text": [
      "Validation 0: 100%|██████████| 20/20 [00:16<00:00,  1.22it/s]\n"
     ]
    },
    {
     "name": "stdout",
     "output_type": "stream",
     "text": [
      "val step took 16.9 s\n",
      "val loss = 0.68\n",
      "[Epoch 0|val]\t16.86 s\t0.6776\n",
      "start training (epoch=1)\n"
     ]
    },
    {
     "name": "stderr",
     "output_type": "stream",
     "text": [
      "Epoch 1: 100%|██████████| 47/47 [00:39<00:00,  1.19it/s]\n"
     ]
    },
    {
     "name": "stdout",
     "output_type": "stream",
     "text": [
      "train step took 40.0 s\n",
      "train loss = 0.66\n"
     ]
    },
    {
     "name": "stderr",
     "output_type": "stream",
     "text": [
      "Validation 1: 100%|██████████| 20/20 [00:16<00:00,  1.20it/s]\n"
     ]
    },
    {
     "name": "stdout",
     "output_type": "stream",
     "text": [
      "val step took 17.1 s\n",
      "val loss = 0.65\n",
      "[Epoch 1|val]\t17.10 s\t0.6495\n",
      "unfreezing cnn body after epoch=1\n",
      "start training (epoch=2)\n"
     ]
    },
    {
     "name": "stderr",
     "output_type": "stream",
     "text": [
      "Epoch 2: 100%|██████████| 47/47 [00:44<00:00,  1.06it/s]\n"
     ]
    },
    {
     "name": "stdout",
     "output_type": "stream",
     "text": [
      "train step took 44.7 s\n",
      "train loss = 0.62\n"
     ]
    },
    {
     "name": "stderr",
     "output_type": "stream",
     "text": [
      "Validation 2: 100%|██████████| 20/20 [00:16<00:00,  1.21it/s]\n"
     ]
    },
    {
     "name": "stdout",
     "output_type": "stream",
     "text": [
      "val step took 17.0 s\n",
      "val loss = 0.59\n",
      "[Epoch 2|val]\t17.01 s\t0.5916\n",
      "start training (epoch=3)\n"
     ]
    },
    {
     "name": "stderr",
     "output_type": "stream",
     "text": [
      "Epoch 3: 100%|██████████| 47/47 [00:41<00:00,  1.14it/s]\n"
     ]
    },
    {
     "name": "stdout",
     "output_type": "stream",
     "text": [
      "train step took 41.7 s\n",
      "train loss = 0.53\n"
     ]
    },
    {
     "name": "stderr",
     "output_type": "stream",
     "text": [
      "Validation 3: 100%|██████████| 20/20 [00:16<00:00,  1.21it/s]\n"
     ]
    },
    {
     "name": "stdout",
     "output_type": "stream",
     "text": [
      "val step took 17.0 s\n",
      "val loss = 0.50\n",
      "[Epoch 3|val]\t17.03 s\t0.4993\n",
      "start training (epoch=4)\n"
     ]
    },
    {
     "name": "stderr",
     "output_type": "stream",
     "text": [
      "Epoch 4: 100%|██████████| 47/47 [00:41<00:00,  1.14it/s]\n"
     ]
    },
    {
     "name": "stdout",
     "output_type": "stream",
     "text": [
      "train step took 41.8 s\n",
      "train loss = 0.43\n"
     ]
    },
    {
     "name": "stderr",
     "output_type": "stream",
     "text": [
      "Validation 4: 100%|██████████| 20/20 [00:16<00:00,  1.21it/s]\n"
     ]
    },
    {
     "name": "stdout",
     "output_type": "stream",
     "text": [
      "val step took 16.9 s\n",
      "val loss = 0.44\n",
      "[Epoch 4|val]\t16.93 s\t0.4435\n",
      "start training (epoch=5)\n"
     ]
    },
    {
     "name": "stderr",
     "output_type": "stream",
     "text": [
      "Epoch 5: 100%|██████████| 47/47 [00:42<00:00,  1.10it/s]\n"
     ]
    },
    {
     "name": "stdout",
     "output_type": "stream",
     "text": [
      "train step took 43.0 s\n",
      "train loss = 0.38\n"
     ]
    },
    {
     "name": "stderr",
     "output_type": "stream",
     "text": [
      "Validation 5: 100%|██████████| 20/20 [00:16<00:00,  1.19it/s]\n"
     ]
    },
    {
     "name": "stdout",
     "output_type": "stream",
     "text": [
      "val step took 17.3 s\n",
      "val loss = 0.42\n",
      "[Epoch 5|val]\t17.26 s\t0.4166\n",
      "start training (epoch=6)\n"
     ]
    },
    {
     "name": "stderr",
     "output_type": "stream",
     "text": [
      "Epoch 6: 100%|██████████| 47/47 [00:42<00:00,  1.10it/s]\n"
     ]
    },
    {
     "name": "stdout",
     "output_type": "stream",
     "text": [
      "train step took 43.2 s\n",
      "train loss = 0.35\n"
     ]
    },
    {
     "name": "stderr",
     "output_type": "stream",
     "text": [
      "Validation 6: 100%|██████████| 20/20 [00:17<00:00,  1.11it/s]\n"
     ]
    },
    {
     "name": "stdout",
     "output_type": "stream",
     "text": [
      "val step took 18.4 s\n",
      "val loss = 0.40\n",
      "[Epoch 6|val]\t18.40 s\t0.3981\n",
      "start training (epoch=7)\n"
     ]
    },
    {
     "name": "stderr",
     "output_type": "stream",
     "text": [
      "Epoch 7: 100%|██████████| 47/47 [00:44<00:00,  1.05it/s]\n"
     ]
    },
    {
     "name": "stdout",
     "output_type": "stream",
     "text": [
      "train step took 45.4 s\n",
      "train loss = 0.33\n"
     ]
    },
    {
     "name": "stderr",
     "output_type": "stream",
     "text": [
      "Validation 7: 100%|██████████| 20/20 [00:18<00:00,  1.06it/s]\n"
     ]
    },
    {
     "name": "stdout",
     "output_type": "stream",
     "text": [
      "val step took 19.4 s\n",
      "val loss = 0.39\n",
      "[Epoch 7|val]\t19.37 s\t0.3861\n",
      "start training (epoch=8)\n"
     ]
    },
    {
     "name": "stderr",
     "output_type": "stream",
     "text": [
      "Epoch 8: 100%|██████████| 47/47 [00:45<00:00,  1.03it/s]\n"
     ]
    },
    {
     "name": "stdout",
     "output_type": "stream",
     "text": [
      "train step took 46.3 s\n",
      "train loss = 0.32\n"
     ]
    },
    {
     "name": "stderr",
     "output_type": "stream",
     "text": [
      "Validation 8: 100%|██████████| 20/20 [00:19<00:00,  1.02it/s]\n"
     ]
    },
    {
     "name": "stdout",
     "output_type": "stream",
     "text": [
      "val step took 20.1 s\n",
      "val loss = 0.38\n",
      "[Epoch 8|val]\t20.12 s\t0.3783\n",
      "start training (epoch=9)\n"
     ]
    },
    {
     "name": "stderr",
     "output_type": "stream",
     "text": [
      "Epoch 9: 100%|██████████| 47/47 [00:46<00:00,  1.00it/s]\n"
     ]
    },
    {
     "name": "stdout",
     "output_type": "stream",
     "text": [
      "train step took 47.3 s\n",
      "train loss = 0.30\n"
     ]
    },
    {
     "name": "stderr",
     "output_type": "stream",
     "text": [
      "Validation 9: 100%|██████████| 20/20 [00:19<00:00,  1.02it/s]\n"
     ]
    },
    {
     "name": "stdout",
     "output_type": "stream",
     "text": [
      "val step took 20.1 s\n",
      "val loss = 0.37\n",
      "[Epoch 9|val]\t20.15 s\t0.3705\n",
      "start training (epoch=10)\n"
     ]
    },
    {
     "name": "stderr",
     "output_type": "stream",
     "text": [
      "Epoch 10: 100%|██████████| 47/47 [00:47<00:00,  1.00s/it]\n"
     ]
    },
    {
     "name": "stdout",
     "output_type": "stream",
     "text": [
      "train step took 47.6 s\n",
      "train loss = 0.30\n"
     ]
    },
    {
     "name": "stderr",
     "output_type": "stream",
     "text": [
      "Validation 10: 100%|██████████| 20/20 [00:21<00:00,  1.07s/it]\n"
     ]
    },
    {
     "name": "stdout",
     "output_type": "stream",
     "text": [
      "val step took 21.9 s\n",
      "val loss = 0.37\n",
      "[Epoch 10|val]\t21.92 s\t0.3695\n",
      "start training (epoch=11)\n"
     ]
    },
    {
     "name": "stderr",
     "output_type": "stream",
     "text": [
      "Epoch 11: 100%|██████████| 47/47 [00:48<00:00,  1.03s/it]\n"
     ]
    },
    {
     "name": "stdout",
     "output_type": "stream",
     "text": [
      "train step took 48.9 s\n",
      "train loss = 0.29\n"
     ]
    },
    {
     "name": "stderr",
     "output_type": "stream",
     "text": [
      "Validation 11: 100%|██████████| 20/20 [00:20<00:00,  1.03s/it]\n"
     ]
    },
    {
     "name": "stdout",
     "output_type": "stream",
     "text": [
      "val step took 21.0 s\n",
      "val loss = 0.37\n",
      "[Epoch 11|val]\t21.02 s\t0.3668\n",
      "start training (epoch=12)\n"
     ]
    },
    {
     "name": "stderr",
     "output_type": "stream",
     "text": [
      "Epoch 12: 100%|██████████| 47/47 [00:49<00:00,  1.04s/it]\n"
     ]
    },
    {
     "name": "stdout",
     "output_type": "stream",
     "text": [
      "train step took 49.5 s\n",
      "train loss = 0.28\n"
     ]
    },
    {
     "name": "stderr",
     "output_type": "stream",
     "text": [
      "Validation 12: 100%|██████████| 20/20 [00:22<00:00,  1.11s/it]\n"
     ]
    },
    {
     "name": "stdout",
     "output_type": "stream",
     "text": [
      "val step took 22.9 s\n",
      "val loss = 0.36\n",
      "[Epoch 12|val]\t22.95 s\t0.3591\n",
      "start training (epoch=13)\n"
     ]
    },
    {
     "name": "stderr",
     "output_type": "stream",
     "text": [
      "Epoch 13: 100%|██████████| 47/47 [00:52<00:00,  1.13s/it]\n"
     ]
    },
    {
     "name": "stdout",
     "output_type": "stream",
     "text": [
      "train step took 53.3 s\n",
      "train loss = 0.27\n"
     ]
    },
    {
     "name": "stderr",
     "output_type": "stream",
     "text": [
      "Validation 13: 100%|██████████| 20/20 [00:21<00:00,  1.06s/it]\n"
     ]
    },
    {
     "name": "stdout",
     "output_type": "stream",
     "text": [
      "val step took 21.8 s\n",
      "val loss = 0.36\n",
      "[Epoch 13|val]\t21.82 s\t0.3607\n",
      "start training (epoch=14)\n"
     ]
    },
    {
     "name": "stderr",
     "output_type": "stream",
     "text": [
      "Epoch 14: 100%|██████████| 47/47 [00:58<00:00,  1.24s/it]\n"
     ]
    },
    {
     "name": "stdout",
     "output_type": "stream",
     "text": [
      "train step took 58.7 s\n",
      "train loss = 0.27\n"
     ]
    },
    {
     "name": "stderr",
     "output_type": "stream",
     "text": [
      "Validation 14: 100%|██████████| 20/20 [00:26<00:00,  1.33s/it]\n"
     ]
    },
    {
     "name": "stdout",
     "output_type": "stream",
     "text": [
      "val step took 27.4 s\n",
      "val loss = 0.36\n",
      "[Epoch 14|val]\t27.40 s\t0.3593\n",
      "start training (epoch=15)\n"
     ]
    },
    {
     "name": "stderr",
     "output_type": "stream",
     "text": [
      "Epoch 15: 100%|██████████| 47/47 [00:53<00:00,  1.13s/it]\n"
     ]
    },
    {
     "name": "stdout",
     "output_type": "stream",
     "text": [
      "train step took 53.5 s\n",
      "train loss = 0.26\n"
     ]
    },
    {
     "name": "stderr",
     "output_type": "stream",
     "text": [
      "Validation 15: 100%|██████████| 20/20 [00:26<00:00,  1.33s/it]\n"
     ]
    },
    {
     "name": "stdout",
     "output_type": "stream",
     "text": [
      "val step took 27.0 s\n",
      "val loss = 0.36\n",
      "[Epoch 15|val]\t27.03 s\t0.3616\n",
      "start training (epoch=16)\n"
     ]
    },
    {
     "name": "stderr",
     "output_type": "stream",
     "text": [
      "Epoch 16: 100%|██████████| 47/47 [00:53<00:00,  1.14s/it]\n"
     ]
    },
    {
     "name": "stdout",
     "output_type": "stream",
     "text": [
      "train step took 54.0 s\n",
      "train loss = 0.25\n"
     ]
    },
    {
     "name": "stderr",
     "output_type": "stream",
     "text": [
      "Validation 16: 100%|██████████| 20/20 [00:27<00:00,  1.37s/it]\n"
     ]
    },
    {
     "name": "stdout",
     "output_type": "stream",
     "text": [
      "val step took 28.0 s\n",
      "val loss = 0.36\n",
      "[Epoch 16|val]\t28.02 s\t0.3617\n",
      "start training (epoch=17)\n"
     ]
    },
    {
     "name": "stderr",
     "output_type": "stream",
     "text": [
      "Epoch 17: 100%|██████████| 47/47 [01:04<00:00,  1.37s/it]\n"
     ]
    },
    {
     "name": "stdout",
     "output_type": "stream",
     "text": [
      "train step took 64.9 s\n",
      "train loss = 0.26\n"
     ]
    },
    {
     "name": "stderr",
     "output_type": "stream",
     "text": [
      "Validation 17: 100%|██████████| 20/20 [00:25<00:00,  1.25s/it]\n"
     ]
    },
    {
     "name": "stdout",
     "output_type": "stream",
     "text": [
      "val step took 25.6 s\n",
      "val loss = 0.36\n",
      "[Epoch 17|val]\t25.58 s\t0.3591\n",
      "start training (epoch=18)\n"
     ]
    },
    {
     "name": "stderr",
     "output_type": "stream",
     "text": [
      "Epoch 18: 100%|██████████| 47/47 [00:59<00:00,  1.27s/it]\n"
     ]
    },
    {
     "name": "stdout",
     "output_type": "stream",
     "text": [
      "train step took 60.5 s\n",
      "train loss = 0.25\n"
     ]
    },
    {
     "name": "stderr",
     "output_type": "stream",
     "text": [
      "Validation 18: 100%|██████████| 20/20 [00:22<00:00,  1.13s/it]\n"
     ]
    },
    {
     "name": "stdout",
     "output_type": "stream",
     "text": [
      "val step took 23.2 s\n",
      "val loss = 0.36\n",
      "[Epoch 18|val]\t23.24 s\t0.3589\n",
      "start training (epoch=19)\n"
     ]
    },
    {
     "name": "stderr",
     "output_type": "stream",
     "text": [
      "Epoch 19: 100%|██████████| 47/47 [00:57<00:00,  1.22s/it]\n"
     ]
    },
    {
     "name": "stdout",
     "output_type": "stream",
     "text": [
      "train step took 57.8 s\n",
      "train loss = 0.26\n"
     ]
    },
    {
     "name": "stderr",
     "output_type": "stream",
     "text": [
      "Validation 19: 100%|██████████| 20/20 [00:22<00:00,  1.13s/it]\n"
     ]
    },
    {
     "name": "stdout",
     "output_type": "stream",
     "text": [
      "val step took 23.2 s\n",
      "val loss = 0.36\n",
      "[Epoch 19|val]\t23.17 s\t0.3574\n",
      "start training (epoch=20)\n"
     ]
    },
    {
     "name": "stderr",
     "output_type": "stream",
     "text": [
      "Epoch 20: 100%|██████████| 47/47 [01:06<00:00,  1.41s/it]\n"
     ]
    },
    {
     "name": "stdout",
     "output_type": "stream",
     "text": [
      "train step took 66.6 s\n",
      "train loss = 0.25\n"
     ]
    },
    {
     "name": "stderr",
     "output_type": "stream",
     "text": [
      "Validation 20: 100%|██████████| 20/20 [00:25<00:00,  1.26s/it]\n"
     ]
    },
    {
     "name": "stdout",
     "output_type": "stream",
     "text": [
      "val step took 25.8 s\n",
      "val loss = 0.36\n",
      "[Epoch 20|val]\t25.84 s\t0.3583\n",
      "start training (epoch=21)\n"
     ]
    },
    {
     "name": "stderr",
     "output_type": "stream",
     "text": [
      "Epoch 21: 100%|██████████| 47/47 [00:53<00:00,  1.15s/it]\n"
     ]
    },
    {
     "name": "stdout",
     "output_type": "stream",
     "text": [
      "train step took 54.3 s\n",
      "train loss = 0.24\n"
     ]
    },
    {
     "name": "stderr",
     "output_type": "stream",
     "text": [
      "Validation 21: 100%|██████████| 20/20 [00:22<00:00,  1.14s/it]\n"
     ]
    },
    {
     "name": "stdout",
     "output_type": "stream",
     "text": [
      "val step took 23.3 s\n",
      "val loss = 0.36\n",
      "[Epoch 21|val]\t23.34 s\t0.3591\n",
      "start training (epoch=22)\n"
     ]
    },
    {
     "name": "stderr",
     "output_type": "stream",
     "text": [
      "Epoch 22: 100%|██████████| 47/47 [00:52<00:00,  1.11s/it]\n"
     ]
    },
    {
     "name": "stdout",
     "output_type": "stream",
     "text": [
      "train step took 52.6 s\n",
      "train loss = 0.24\n"
     ]
    },
    {
     "name": "stderr",
     "output_type": "stream",
     "text": [
      "Validation 22: 100%|██████████| 20/20 [00:32<00:00,  1.61s/it]\n"
     ]
    },
    {
     "name": "stdout",
     "output_type": "stream",
     "text": [
      "val step took 32.8 s\n",
      "val loss = 0.36\n",
      "[Epoch 22|val]\t32.76 s\t0.3594\n",
      "start training (epoch=23)\n"
     ]
    },
    {
     "name": "stderr",
     "output_type": "stream",
     "text": [
      "Epoch 23: 100%|██████████| 47/47 [00:56<00:00,  1.21s/it]\n"
     ]
    },
    {
     "name": "stdout",
     "output_type": "stream",
     "text": [
      "train step took 57.3 s\n",
      "train loss = 0.25\n"
     ]
    },
    {
     "name": "stderr",
     "output_type": "stream",
     "text": [
      "Validation 23: 100%|██████████| 20/20 [00:24<00:00,  1.20s/it]\n"
     ]
    },
    {
     "name": "stdout",
     "output_type": "stream",
     "text": [
      "val step took 24.7 s\n",
      "val loss = 0.36\n",
      "[Epoch 23|val]\t24.69 s\t0.3604\n",
      "start training (epoch=24)\n"
     ]
    },
    {
     "name": "stderr",
     "output_type": "stream",
     "text": [
      "Epoch 24: 100%|██████████| 47/47 [00:51<00:00,  1.09s/it]\n"
     ]
    },
    {
     "name": "stdout",
     "output_type": "stream",
     "text": [
      "train step took 51.8 s\n",
      "train loss = 0.25\n"
     ]
    },
    {
     "name": "stderr",
     "output_type": "stream",
     "text": [
      "Validation 24: 100%|██████████| 20/20 [00:24<00:00,  1.21s/it]\n"
     ]
    },
    {
     "name": "stdout",
     "output_type": "stream",
     "text": [
      "val step took 24.7 s\n",
      "val loss = 0.36\n",
      "[Epoch 24|val]\t24.71 s\t0.3611\n",
      "finished\n",
      "python ../train.py --augment --normalize --images-dir \"/home/amritagupta/ssdprivate/data/Streamflow/fpe_stations/Avery Brook_Bridge_01171000/FLOW_CFS\" --pairs-file \"/home/amritagupta/ssdprivate/data/Streamflow/Jeff_data/stations/12-Avery Brook_Bridge_01171000/input_4275/pairs_2000.csv\" --output-dir \"/home/amritagupta/ssdprivate/repos/fpe-model/results/vary_annot_frac.jeff_data/Avery Brook_Bridge_01171000/input_4275/pairs_2000\" --model-dir \"/home/amritagupta/ssdprivate/repos/fpe-model/results/vary_annot_frac.jeff_data/Avery Brook_Bridge_01171000/input_4275/pairs_2000\"\n",
      "Namespace(images_dir='/home/amritagupta/ssdprivate/data/Streamflow/fpe_stations/Avery Brook_Bridge_01171000/FLOW_CFS', pairs_file='/home/amritagupta/ssdprivate/data/Streamflow/Jeff_data/stations/12-Avery Brook_Bridge_01171000/input_4275/pairs_2000.csv', output_dir='/home/amritagupta/ssdprivate/repos/fpe-model/results/vary_annot_frac.jeff_data/Avery Brook_Bridge_01171000/input_4275/pairs_2000', model_dir='/home/amritagupta/ssdprivate/repos/fpe-model/results/vary_annot_frac.jeff_data/Avery Brook_Bridge_01171000/input_4275/pairs_2000', gpu=0, num_workers=12, local=False, epochs=25, batch_size=64, lr=0.001, random_seed=1691, unfreeze_after=2, num_image_stats=1000, input_size=480, decolorize=False, augment=True, normalize=True)\n",
      "train()\n",
      "args:\n",
      "{'images_dir': '/home/amritagupta/ssdprivate/data/Streamflow/fpe_stations/Avery Brook_Bridge_01171000/FLOW_CFS', 'pairs_file': '/home/amritagupta/ssdprivate/data/Streamflow/Jeff_data/stations/12-Avery Brook_Bridge_01171000/input_4275/pairs_2000.csv', 'output_dir': '/home/amritagupta/ssdprivate/repos/fpe-model/results/vary_annot_frac.jeff_data/Avery Brook_Bridge_01171000/input_4275/pairs_2000', 'model_dir': '/home/amritagupta/ssdprivate/repos/fpe-model/results/vary_annot_frac.jeff_data/Avery Brook_Bridge_01171000/input_4275/pairs_2000', 'gpu': 0, 'num_workers': 12, 'local': False, 'epochs': 25, 'batch_size': 64, 'lr': 0.001, 'random_seed': 1691, 'unfreeze_after': 2, 'num_image_stats': 1000, 'input_size': 480, 'decolorize': False, 'augment': True, 'normalize': True}\n",
      "device: cuda:0\n",
      "output_dir: /home/amritagupta/ssdprivate/repos/fpe-model/results/vary_annot_frac.jeff_data/Avery Brook_Bridge_01171000/input_4275/pairs_2000\n",
      "saved args: /home/amritagupta/ssdprivate/repos/fpe-model/results/vary_annot_frac.jeff_data/Avery Brook_Bridge_01171000/input_4275/pairs_2000/args.json\n",
      "model_dir: /home/amritagupta/ssdprivate/repos/fpe-model/results/vary_annot_frac.jeff_data/Avery Brook_Bridge_01171000/input_4275/pairs_2000\n",
      "set seeds (1691)\n"
     ]
    },
    {
     "name": "stderr",
     "output_type": "stream",
     "text": [
      "100%|██████████| 1000/1000 [01:41<00:00,  9.83it/s]\n"
     ]
    },
    {
     "name": "stdout",
     "output_type": "stream",
     "text": [
      "resize_shape: [480, 640]\n",
      "input_shape: [384, 512]\n",
      "creating train dataset\n",
      "creating val datasets\n",
      "val ds: 1270\n",
      "creating data loaders\n",
      "initializing model\n",
      "start training\n",
      "start training (epoch=0)\n"
     ]
    },
    {
     "name": "stderr",
     "output_type": "stream",
     "text": [
      "Epoch 0: 100%|██████████| 63/63 [01:29<00:00,  1.42s/it]\n"
     ]
    },
    {
     "name": "stdout",
     "output_type": "stream",
     "text": [
      "train step took 90.5 s\n",
      "train loss = 0.68\n"
     ]
    },
    {
     "name": "stderr",
     "output_type": "stream",
     "text": [
      "Validation 0: 100%|██████████| 20/20 [00:28<00:00,  1.42s/it]\n"
     ]
    },
    {
     "name": "stdout",
     "output_type": "stream",
     "text": [
      "val step took 29.9 s\n",
      "val loss = 0.66\n",
      "[Epoch 0|val]\t29.86 s\t0.6644\n",
      "start training (epoch=1)\n"
     ]
    },
    {
     "name": "stderr",
     "output_type": "stream",
     "text": [
      "Epoch 1: 100%|██████████| 63/63 [01:36<00:00,  1.53s/it]\n"
     ]
    },
    {
     "name": "stdout",
     "output_type": "stream",
     "text": [
      "train step took 97.5 s\n",
      "train loss = 0.65\n"
     ]
    },
    {
     "name": "stderr",
     "output_type": "stream",
     "text": [
      "Validation 1: 100%|██████████| 20/20 [00:28<00:00,  1.41s/it]\n"
     ]
    },
    {
     "name": "stdout",
     "output_type": "stream",
     "text": [
      "val step took 29.4 s\n",
      "val loss = 0.63\n",
      "[Epoch 1|val]\t29.41 s\t0.6273\n",
      "unfreezing cnn body after epoch=1\n",
      "start training (epoch=2)\n"
     ]
    },
    {
     "name": "stderr",
     "output_type": "stream",
     "text": [
      "Epoch 2: 100%|██████████| 63/63 [01:39<00:00,  1.57s/it]\n"
     ]
    },
    {
     "name": "stdout",
     "output_type": "stream",
     "text": [
      "train step took 100.0 s\n",
      "train loss = 0.58\n"
     ]
    },
    {
     "name": "stderr",
     "output_type": "stream",
     "text": [
      "Validation 2: 100%|██████████| 20/20 [00:28<00:00,  1.42s/it]\n"
     ]
    },
    {
     "name": "stdout",
     "output_type": "stream",
     "text": [
      "val step took 29.7 s\n",
      "val loss = 0.53\n",
      "[Epoch 2|val]\t29.72 s\t0.5259\n",
      "start training (epoch=3)\n"
     ]
    },
    {
     "name": "stderr",
     "output_type": "stream",
     "text": [
      "Epoch 3: 100%|██████████| 63/63 [01:31<00:00,  1.45s/it]\n"
     ]
    },
    {
     "name": "stdout",
     "output_type": "stream",
     "text": [
      "train step took 92.7 s\n",
      "train loss = 0.45\n"
     ]
    },
    {
     "name": "stderr",
     "output_type": "stream",
     "text": [
      "Validation 3: 100%|██████████| 20/20 [00:24<00:00,  1.24s/it]\n"
     ]
    },
    {
     "name": "stdout",
     "output_type": "stream",
     "text": [
      "val step took 26.0 s\n",
      "val loss = 0.44\n",
      "[Epoch 3|val]\t25.96 s\t0.4444\n",
      "start training (epoch=4)\n"
     ]
    },
    {
     "name": "stderr",
     "output_type": "stream",
     "text": [
      "Epoch 4: 100%|██████████| 63/63 [01:33<00:00,  1.49s/it]\n"
     ]
    },
    {
     "name": "stdout",
     "output_type": "stream",
     "text": [
      "train step took 94.7 s\n",
      "train loss = 0.37\n"
     ]
    },
    {
     "name": "stderr",
     "output_type": "stream",
     "text": [
      "Validation 4: 100%|██████████| 20/20 [00:24<00:00,  1.22s/it]\n"
     ]
    },
    {
     "name": "stdout",
     "output_type": "stream",
     "text": [
      "val step took 25.4 s\n",
      "val loss = 0.41\n",
      "[Epoch 4|val]\t25.40 s\t0.4122\n",
      "start training (epoch=5)\n"
     ]
    },
    {
     "name": "stderr",
     "output_type": "stream",
     "text": [
      "Epoch 5: 100%|██████████| 63/63 [01:34<00:00,  1.51s/it]\n"
     ]
    },
    {
     "name": "stdout",
     "output_type": "stream",
     "text": [
      "train step took 95.9 s\n",
      "train loss = 0.34\n"
     ]
    },
    {
     "name": "stderr",
     "output_type": "stream",
     "text": [
      "Validation 5: 100%|██████████| 20/20 [00:31<00:00,  1.56s/it]\n"
     ]
    },
    {
     "name": "stdout",
     "output_type": "stream",
     "text": [
      "val step took 32.7 s\n",
      "val loss = 0.39\n",
      "[Epoch 5|val]\t32.72 s\t0.3869\n",
      "start training (epoch=6)\n"
     ]
    },
    {
     "name": "stderr",
     "output_type": "stream",
     "text": [
      "Epoch 6: 100%|██████████| 63/63 [01:30<00:00,  1.44s/it]\n"
     ]
    },
    {
     "name": "stdout",
     "output_type": "stream",
     "text": [
      "train step took 91.7 s\n",
      "train loss = 0.32\n"
     ]
    },
    {
     "name": "stderr",
     "output_type": "stream",
     "text": [
      "Validation 6: 100%|██████████| 20/20 [00:21<00:00,  1.08s/it]\n"
     ]
    },
    {
     "name": "stdout",
     "output_type": "stream",
     "text": [
      "val step took 22.6 s\n",
      "val loss = 0.38\n",
      "[Epoch 6|val]\t22.62 s\t0.3755\n",
      "start training (epoch=7)\n"
     ]
    },
    {
     "name": "stderr",
     "output_type": "stream",
     "text": [
      "Epoch 7: 100%|██████████| 63/63 [01:30<00:00,  1.44s/it]\n"
     ]
    },
    {
     "name": "stdout",
     "output_type": "stream",
     "text": [
      "train step took 91.8 s\n",
      "train loss = 0.30\n"
     ]
    },
    {
     "name": "stderr",
     "output_type": "stream",
     "text": [
      "Validation 7: 100%|██████████| 20/20 [00:28<00:00,  1.43s/it]\n"
     ]
    },
    {
     "name": "stdout",
     "output_type": "stream",
     "text": [
      "val step took 29.7 s\n",
      "val loss = 0.37\n",
      "[Epoch 7|val]\t29.67 s\t0.3661\n",
      "start training (epoch=8)\n"
     ]
    },
    {
     "name": "stderr",
     "output_type": "stream",
     "text": [
      "Epoch 8: 100%|██████████| 63/63 [01:27<00:00,  1.39s/it]\n"
     ]
    },
    {
     "name": "stdout",
     "output_type": "stream",
     "text": [
      "train step took 88.5 s\n",
      "train loss = 0.29\n"
     ]
    },
    {
     "name": "stderr",
     "output_type": "stream",
     "text": [
      "Validation 8: 100%|██████████| 20/20 [00:19<00:00,  1.02it/s]\n"
     ]
    },
    {
     "name": "stdout",
     "output_type": "stream",
     "text": [
      "val step took 20.4 s\n",
      "val loss = 0.36\n",
      "[Epoch 8|val]\t20.42 s\t0.3619\n",
      "start training (epoch=9)\n"
     ]
    },
    {
     "name": "stderr",
     "output_type": "stream",
     "text": [
      "Epoch 9: 100%|██████████| 63/63 [01:07<00:00,  1.07s/it]\n"
     ]
    },
    {
     "name": "stdout",
     "output_type": "stream",
     "text": [
      "train step took 68.3 s\n",
      "train loss = 0.28\n"
     ]
    },
    {
     "name": "stderr",
     "output_type": "stream",
     "text": [
      "Validation 9: 100%|██████████| 20/20 [00:34<00:00,  1.71s/it]\n"
     ]
    },
    {
     "name": "stdout",
     "output_type": "stream",
     "text": [
      "val step took 35.3 s\n",
      "val loss = 0.37\n",
      "[Epoch 9|val]\t35.29 s\t0.3682\n",
      "start training (epoch=10)\n"
     ]
    },
    {
     "name": "stderr",
     "output_type": "stream",
     "text": [
      "Epoch 10: 100%|██████████| 63/63 [01:30<00:00,  1.43s/it]\n"
     ]
    },
    {
     "name": "stdout",
     "output_type": "stream",
     "text": [
      "train step took 91.1 s\n",
      "train loss = 0.27\n"
     ]
    },
    {
     "name": "stderr",
     "output_type": "stream",
     "text": [
      "Validation 10: 100%|██████████| 20/20 [00:27<00:00,  1.39s/it]\n"
     ]
    },
    {
     "name": "stdout",
     "output_type": "stream",
     "text": [
      "val step took 28.9 s\n",
      "val loss = 0.35\n",
      "[Epoch 10|val]\t28.95 s\t0.3525\n",
      "start training (epoch=11)\n"
     ]
    },
    {
     "name": "stderr",
     "output_type": "stream",
     "text": [
      "Epoch 11: 100%|██████████| 63/63 [01:33<00:00,  1.48s/it]\n"
     ]
    },
    {
     "name": "stdout",
     "output_type": "stream",
     "text": [
      "train step took 94.1 s\n",
      "train loss = 0.28\n"
     ]
    },
    {
     "name": "stderr",
     "output_type": "stream",
     "text": [
      "Validation 11: 100%|██████████| 20/20 [00:28<00:00,  1.41s/it]\n"
     ]
    },
    {
     "name": "stdout",
     "output_type": "stream",
     "text": [
      "val step took 29.3 s\n",
      "val loss = 0.36\n",
      "[Epoch 11|val]\t29.27 s\t0.3564\n",
      "start training (epoch=12)\n"
     ]
    },
    {
     "name": "stderr",
     "output_type": "stream",
     "text": [
      "Epoch 12: 100%|██████████| 63/63 [01:19<00:00,  1.26s/it]\n"
     ]
    },
    {
     "name": "stdout",
     "output_type": "stream",
     "text": [
      "train step took 80.3 s\n",
      "train loss = 0.27\n"
     ]
    },
    {
     "name": "stderr",
     "output_type": "stream",
     "text": [
      "Validation 12: 100%|██████████| 20/20 [00:22<00:00,  1.11s/it]\n"
     ]
    },
    {
     "name": "stdout",
     "output_type": "stream",
     "text": [
      "val step took 23.2 s\n",
      "val loss = 0.35\n",
      "[Epoch 12|val]\t23.23 s\t0.3479\n",
      "start training (epoch=13)\n"
     ]
    },
    {
     "name": "stderr",
     "output_type": "stream",
     "text": [
      "Epoch 13: 100%|██████████| 63/63 [01:25<00:00,  1.35s/it]\n"
     ]
    },
    {
     "name": "stdout",
     "output_type": "stream",
     "text": [
      "train step took 86.3 s\n",
      "train loss = 0.26\n"
     ]
    },
    {
     "name": "stderr",
     "output_type": "stream",
     "text": [
      "Validation 13: 100%|██████████| 20/20 [00:28<00:00,  1.45s/it]\n"
     ]
    },
    {
     "name": "stdout",
     "output_type": "stream",
     "text": [
      "val step took 30.2 s\n",
      "val loss = 0.35\n",
      "[Epoch 13|val]\t30.18 s\t0.3527\n",
      "start training (epoch=14)\n"
     ]
    },
    {
     "name": "stderr",
     "output_type": "stream",
     "text": [
      "Epoch 14: 100%|██████████| 63/63 [01:32<00:00,  1.46s/it]\n"
     ]
    },
    {
     "name": "stdout",
     "output_type": "stream",
     "text": [
      "train step took 93.7 s\n",
      "train loss = 0.26\n"
     ]
    },
    {
     "name": "stderr",
     "output_type": "stream",
     "text": [
      "Validation 14: 100%|██████████| 20/20 [00:30<00:00,  1.53s/it]\n"
     ]
    },
    {
     "name": "stdout",
     "output_type": "stream",
     "text": [
      "val step took 31.8 s\n",
      "val loss = 0.35\n",
      "[Epoch 14|val]\t31.85 s\t0.3500\n",
      "start training (epoch=15)\n"
     ]
    },
    {
     "name": "stderr",
     "output_type": "stream",
     "text": [
      "Epoch 15: 100%|██████████| 63/63 [01:42<00:00,  1.62s/it]\n"
     ]
    },
    {
     "name": "stdout",
     "output_type": "stream",
     "text": [
      "train step took 103.4 s\n",
      "train loss = 0.25\n"
     ]
    },
    {
     "name": "stderr",
     "output_type": "stream",
     "text": [
      "Validation 15: 100%|██████████| 20/20 [00:28<00:00,  1.40s/it]\n"
     ]
    },
    {
     "name": "stdout",
     "output_type": "stream",
     "text": [
      "val step took 29.7 s\n",
      "val loss = 0.35\n",
      "[Epoch 15|val]\t29.66 s\t0.3485\n",
      "start training (epoch=16)\n"
     ]
    },
    {
     "name": "stderr",
     "output_type": "stream",
     "text": [
      "Epoch 16: 100%|██████████| 63/63 [01:16<00:00,  1.21s/it]\n"
     ]
    },
    {
     "name": "stdout",
     "output_type": "stream",
     "text": [
      "train step took 77.3 s\n",
      "train loss = 0.25\n"
     ]
    },
    {
     "name": "stderr",
     "output_type": "stream",
     "text": [
      "Validation 16: 100%|██████████| 20/20 [00:23<00:00,  1.16s/it]\n"
     ]
    },
    {
     "name": "stdout",
     "output_type": "stream",
     "text": [
      "val step took 24.5 s\n",
      "val loss = 0.35\n",
      "[Epoch 16|val]\t24.46 s\t0.3530\n",
      "start training (epoch=17)\n"
     ]
    },
    {
     "name": "stderr",
     "output_type": "stream",
     "text": [
      "Epoch 17: 100%|██████████| 63/63 [01:41<00:00,  1.61s/it]\n"
     ]
    },
    {
     "name": "stdout",
     "output_type": "stream",
     "text": [
      "train step took 102.5 s\n",
      "train loss = 0.25\n"
     ]
    },
    {
     "name": "stderr",
     "output_type": "stream",
     "text": [
      "Validation 17: 100%|██████████| 20/20 [00:30<00:00,  1.54s/it]\n"
     ]
    },
    {
     "name": "stdout",
     "output_type": "stream",
     "text": [
      "val step took 31.7 s\n",
      "val loss = 0.35\n",
      "[Epoch 17|val]\t31.70 s\t0.3502\n",
      "start training (epoch=18)\n"
     ]
    },
    {
     "name": "stderr",
     "output_type": "stream",
     "text": [
      "Epoch 18: 100%|██████████| 63/63 [01:54<00:00,  1.82s/it]\n"
     ]
    },
    {
     "name": "stdout",
     "output_type": "stream",
     "text": [
      "train step took 115.6 s\n",
      "train loss = 0.24\n"
     ]
    },
    {
     "name": "stderr",
     "output_type": "stream",
     "text": [
      "Validation 18: 100%|██████████| 20/20 [00:29<00:00,  1.45s/it]\n"
     ]
    },
    {
     "name": "stdout",
     "output_type": "stream",
     "text": [
      "val step took 30.1 s\n",
      "val loss = 0.35\n",
      "[Epoch 18|val]\t30.06 s\t0.3514\n",
      "start training (epoch=19)\n"
     ]
    },
    {
     "name": "stderr",
     "output_type": "stream",
     "text": [
      "Epoch 19: 100%|██████████| 63/63 [01:49<00:00,  1.74s/it]\n"
     ]
    },
    {
     "name": "stdout",
     "output_type": "stream",
     "text": [
      "train step took 111.0 s\n",
      "train loss = 0.25\n"
     ]
    },
    {
     "name": "stderr",
     "output_type": "stream",
     "text": [
      "Validation 19: 100%|██████████| 20/20 [00:34<00:00,  1.74s/it]\n"
     ]
    },
    {
     "name": "stdout",
     "output_type": "stream",
     "text": [
      "val step took 35.9 s\n",
      "val loss = 0.35\n",
      "[Epoch 19|val]\t35.93 s\t0.3503\n",
      "start training (epoch=20)\n"
     ]
    },
    {
     "name": "stderr",
     "output_type": "stream",
     "text": [
      "Epoch 20: 100%|██████████| 63/63 [01:39<00:00,  1.58s/it]\n"
     ]
    },
    {
     "name": "stdout",
     "output_type": "stream",
     "text": [
      "train step took 100.5 s\n",
      "train loss = 0.24\n"
     ]
    },
    {
     "name": "stderr",
     "output_type": "stream",
     "text": [
      "Validation 20: 100%|██████████| 20/20 [00:31<00:00,  1.57s/it]\n"
     ]
    },
    {
     "name": "stdout",
     "output_type": "stream",
     "text": [
      "val step took 32.4 s\n",
      "val loss = 0.35\n",
      "[Epoch 20|val]\t32.42 s\t0.3485\n",
      "start training (epoch=21)\n"
     ]
    },
    {
     "name": "stderr",
     "output_type": "stream",
     "text": [
      "Epoch 21: 100%|██████████| 63/63 [01:46<00:00,  1.70s/it]\n"
     ]
    },
    {
     "name": "stdout",
     "output_type": "stream",
     "text": [
      "train step took 108.0 s\n",
      "train loss = 0.24\n"
     ]
    },
    {
     "name": "stderr",
     "output_type": "stream",
     "text": [
      "Validation 21: 100%|██████████| 20/20 [00:35<00:00,  1.78s/it]\n"
     ]
    },
    {
     "name": "stdout",
     "output_type": "stream",
     "text": [
      "val step took 36.9 s\n",
      "val loss = 0.35\n",
      "[Epoch 21|val]\t36.91 s\t0.3493\n",
      "start training (epoch=22)\n"
     ]
    },
    {
     "name": "stderr",
     "output_type": "stream",
     "text": [
      "Epoch 22: 100%|██████████| 63/63 [01:45<00:00,  1.67s/it]\n"
     ]
    },
    {
     "name": "stdout",
     "output_type": "stream",
     "text": [
      "train step took 106.2 s\n",
      "train loss = 0.24\n"
     ]
    },
    {
     "name": "stderr",
     "output_type": "stream",
     "text": [
      "Validation 22: 100%|██████████| 20/20 [00:34<00:00,  1.74s/it]\n"
     ]
    },
    {
     "name": "stdout",
     "output_type": "stream",
     "text": [
      "val step took 36.1 s\n",
      "val loss = 0.35\n",
      "[Epoch 22|val]\t36.12 s\t0.3521\n",
      "start training (epoch=23)\n"
     ]
    },
    {
     "name": "stderr",
     "output_type": "stream",
     "text": [
      "Epoch 23: 100%|██████████| 63/63 [01:46<00:00,  1.70s/it]\n"
     ]
    },
    {
     "name": "stdout",
     "output_type": "stream",
     "text": [
      "train step took 107.7 s\n",
      "train loss = 0.24\n"
     ]
    },
    {
     "name": "stderr",
     "output_type": "stream",
     "text": [
      "Validation 23: 100%|██████████| 20/20 [00:29<00:00,  1.45s/it]\n"
     ]
    },
    {
     "name": "stdout",
     "output_type": "stream",
     "text": [
      "val step took 30.0 s\n",
      "val loss = 0.35\n",
      "[Epoch 23|val]\t30.03 s\t0.3498\n",
      "start training (epoch=24)\n"
     ]
    },
    {
     "name": "stderr",
     "output_type": "stream",
     "text": [
      "Epoch 24: 100%|██████████| 63/63 [01:51<00:00,  1.77s/it]\n"
     ]
    },
    {
     "name": "stdout",
     "output_type": "stream",
     "text": [
      "train step took 112.4 s\n",
      "train loss = 0.24\n"
     ]
    },
    {
     "name": "stderr",
     "output_type": "stream",
     "text": [
      "Validation 24: 100%|██████████| 20/20 [00:32<00:00,  1.62s/it]\n"
     ]
    },
    {
     "name": "stdout",
     "output_type": "stream",
     "text": [
      "val step took 33.4 s\n",
      "val loss = 0.35\n",
      "[Epoch 24|val]\t33.44 s\t0.3507\n",
      "finished\n",
      "python ../train.py --augment --normalize --images-dir \"/home/amritagupta/ssdprivate/data/Streamflow/fpe_stations/Avery Brook_Bridge_01171000/FLOW_CFS\" --pairs-file \"/home/amritagupta/ssdprivate/data/Streamflow/Jeff_data/stations/12-Avery Brook_Bridge_01171000/input_4275/pairs_2500.csv\" --output-dir \"/home/amritagupta/ssdprivate/repos/fpe-model/results/vary_annot_frac.jeff_data/Avery Brook_Bridge_01171000/input_4275/pairs_2500\" --model-dir \"/home/amritagupta/ssdprivate/repos/fpe-model/results/vary_annot_frac.jeff_data/Avery Brook_Bridge_01171000/input_4275/pairs_2500\"\n",
      "Namespace(images_dir='/home/amritagupta/ssdprivate/data/Streamflow/fpe_stations/Avery Brook_Bridge_01171000/FLOW_CFS', pairs_file='/home/amritagupta/ssdprivate/data/Streamflow/Jeff_data/stations/12-Avery Brook_Bridge_01171000/input_4275/pairs_2500.csv', output_dir='/home/amritagupta/ssdprivate/repos/fpe-model/results/vary_annot_frac.jeff_data/Avery Brook_Bridge_01171000/input_4275/pairs_2500', model_dir='/home/amritagupta/ssdprivate/repos/fpe-model/results/vary_annot_frac.jeff_data/Avery Brook_Bridge_01171000/input_4275/pairs_2500', gpu=0, num_workers=12, local=False, epochs=25, batch_size=64, lr=0.001, random_seed=1691, unfreeze_after=2, num_image_stats=1000, input_size=480, decolorize=False, augment=True, normalize=True)\n",
      "train()\n",
      "args:\n",
      "{'images_dir': '/home/amritagupta/ssdprivate/data/Streamflow/fpe_stations/Avery Brook_Bridge_01171000/FLOW_CFS', 'pairs_file': '/home/amritagupta/ssdprivate/data/Streamflow/Jeff_data/stations/12-Avery Brook_Bridge_01171000/input_4275/pairs_2500.csv', 'output_dir': '/home/amritagupta/ssdprivate/repos/fpe-model/results/vary_annot_frac.jeff_data/Avery Brook_Bridge_01171000/input_4275/pairs_2500', 'model_dir': '/home/amritagupta/ssdprivate/repos/fpe-model/results/vary_annot_frac.jeff_data/Avery Brook_Bridge_01171000/input_4275/pairs_2500', 'gpu': 0, 'num_workers': 12, 'local': False, 'epochs': 25, 'batch_size': 64, 'lr': 0.001, 'random_seed': 1691, 'unfreeze_after': 2, 'num_image_stats': 1000, 'input_size': 480, 'decolorize': False, 'augment': True, 'normalize': True}\n",
      "device: cuda:0\n",
      "output_dir: /home/amritagupta/ssdprivate/repos/fpe-model/results/vary_annot_frac.jeff_data/Avery Brook_Bridge_01171000/input_4275/pairs_2500\n",
      "saved args: /home/amritagupta/ssdprivate/repos/fpe-model/results/vary_annot_frac.jeff_data/Avery Brook_Bridge_01171000/input_4275/pairs_2500/args.json\n",
      "model_dir: /home/amritagupta/ssdprivate/repos/fpe-model/results/vary_annot_frac.jeff_data/Avery Brook_Bridge_01171000/input_4275/pairs_2500\n",
      "set seeds (1691)\n"
     ]
    },
    {
     "name": "stderr",
     "output_type": "stream",
     "text": [
      "100%|██████████| 1000/1000 [01:49<00:00,  9.17it/s]\n"
     ]
    },
    {
     "name": "stdout",
     "output_type": "stream",
     "text": [
      "resize_shape: [480, 640]\n",
      "input_shape: [384, 512]\n",
      "creating train dataset\n",
      "creating val datasets\n",
      "val ds: 1270\n",
      "creating data loaders\n",
      "initializing model\n",
      "start training\n",
      "start training (epoch=0)\n"
     ]
    },
    {
     "name": "stderr",
     "output_type": "stream",
     "text": [
      "Epoch 0: 100%|██████████| 79/79 [02:14<00:00,  1.71s/it]\n"
     ]
    },
    {
     "name": "stdout",
     "output_type": "stream",
     "text": [
      "train step took 135.4 s\n",
      "train loss = 0.68\n"
     ]
    },
    {
     "name": "stderr",
     "output_type": "stream",
     "text": [
      "Validation 0: 100%|██████████| 20/20 [00:35<00:00,  1.76s/it]\n"
     ]
    },
    {
     "name": "stdout",
     "output_type": "stream",
     "text": [
      "val step took 36.0 s\n",
      "val loss = 0.66\n",
      "[Epoch 0|val]\t35.98 s\t0.6575\n",
      "start training (epoch=1)\n"
     ]
    },
    {
     "name": "stderr",
     "output_type": "stream",
     "text": [
      "Epoch 1: 100%|██████████| 79/79 [02:08<00:00,  1.63s/it]\n"
     ]
    },
    {
     "name": "stdout",
     "output_type": "stream",
     "text": [
      "train step took 129.8 s\n",
      "train loss = 0.63\n"
     ]
    },
    {
     "name": "stderr",
     "output_type": "stream",
     "text": [
      "Validation 1: 100%|██████████| 20/20 [00:41<00:00,  2.05s/it]\n"
     ]
    },
    {
     "name": "stdout",
     "output_type": "stream",
     "text": [
      "val step took 42.2 s\n",
      "val loss = 0.61\n",
      "[Epoch 1|val]\t42.19 s\t0.6051\n",
      "unfreezing cnn body after epoch=1\n",
      "start training (epoch=2)\n"
     ]
    },
    {
     "name": "stderr",
     "output_type": "stream",
     "text": [
      "Epoch 2: 100%|██████████| 79/79 [02:12<00:00,  1.68s/it]\n"
     ]
    },
    {
     "name": "stdout",
     "output_type": "stream",
     "text": [
      "train step took 133.4 s\n",
      "train loss = 0.53\n"
     ]
    },
    {
     "name": "stderr",
     "output_type": "stream",
     "text": [
      "Validation 2: 100%|██████████| 20/20 [00:31<00:00,  1.56s/it]\n"
     ]
    },
    {
     "name": "stdout",
     "output_type": "stream",
     "text": [
      "val step took 32.0 s\n",
      "val loss = 0.47\n",
      "[Epoch 2|val]\t31.98 s\t0.4715\n",
      "start training (epoch=3)\n"
     ]
    },
    {
     "name": "stderr",
     "output_type": "stream",
     "text": [
      "Epoch 3: 100%|██████████| 79/79 [02:25<00:00,  1.84s/it]\n"
     ]
    },
    {
     "name": "stdout",
     "output_type": "stream",
     "text": [
      "train step took 146.5 s\n",
      "train loss = 0.40\n"
     ]
    },
    {
     "name": "stderr",
     "output_type": "stream",
     "text": [
      "Validation 3: 100%|██████████| 20/20 [00:26<00:00,  1.33s/it]\n"
     ]
    },
    {
     "name": "stdout",
     "output_type": "stream",
     "text": [
      "val step took 27.8 s\n",
      "val loss = 0.41\n",
      "[Epoch 3|val]\t27.82 s\t0.4123\n",
      "start training (epoch=4)\n"
     ]
    },
    {
     "name": "stderr",
     "output_type": "stream",
     "text": [
      "Epoch 4: 100%|██████████| 79/79 [02:14<00:00,  1.70s/it]\n"
     ]
    },
    {
     "name": "stdout",
     "output_type": "stream",
     "text": [
      "train step took 135.8 s\n",
      "train loss = 0.35\n"
     ]
    },
    {
     "name": "stderr",
     "output_type": "stream",
     "text": [
      "Validation 4: 100%|██████████| 20/20 [00:35<00:00,  1.77s/it]\n"
     ]
    },
    {
     "name": "stdout",
     "output_type": "stream",
     "text": [
      "val step took 36.4 s\n",
      "val loss = 0.38\n",
      "[Epoch 4|val]\t36.38 s\t0.3807\n",
      "start training (epoch=5)\n"
     ]
    },
    {
     "name": "stderr",
     "output_type": "stream",
     "text": [
      "Epoch 5: 100%|██████████| 79/79 [01:30<00:00,  1.15s/it]\n"
     ]
    },
    {
     "name": "stdout",
     "output_type": "stream",
     "text": [
      "train step took 91.6 s\n",
      "train loss = 0.33\n"
     ]
    },
    {
     "name": "stderr",
     "output_type": "stream",
     "text": [
      "Validation 5: 100%|██████████| 20/20 [00:22<00:00,  1.14s/it]\n"
     ]
    },
    {
     "name": "stdout",
     "output_type": "stream",
     "text": [
      "val step took 23.8 s\n",
      "val loss = 0.36\n",
      "[Epoch 5|val]\t23.77 s\t0.3648\n",
      "start training (epoch=6)\n"
     ]
    },
    {
     "name": "stderr",
     "output_type": "stream",
     "text": [
      "Epoch 6: 100%|██████████| 79/79 [01:51<00:00,  1.41s/it]\n"
     ]
    },
    {
     "name": "stdout",
     "output_type": "stream",
     "text": [
      "train step took 112.2 s\n",
      "train loss = 0.31\n"
     ]
    },
    {
     "name": "stderr",
     "output_type": "stream",
     "text": [
      "Validation 6: 100%|██████████| 20/20 [00:39<00:00,  1.96s/it]\n"
     ]
    },
    {
     "name": "stdout",
     "output_type": "stream",
     "text": [
      "val step took 40.7 s\n",
      "val loss = 0.37\n",
      "[Epoch 6|val]\t40.66 s\t0.3703\n",
      "start training (epoch=7)\n"
     ]
    },
    {
     "name": "stderr",
     "output_type": "stream",
     "text": [
      "Epoch 7: 100%|██████████| 79/79 [02:05<00:00,  1.59s/it]\n"
     ]
    },
    {
     "name": "stdout",
     "output_type": "stream",
     "text": [
      "train step took 126.3 s\n",
      "train loss = 0.31\n"
     ]
    },
    {
     "name": "stderr",
     "output_type": "stream",
     "text": [
      "Validation 7: 100%|██████████| 20/20 [00:37<00:00,  1.90s/it]\n"
     ]
    },
    {
     "name": "stdout",
     "output_type": "stream",
     "text": [
      "val step took 38.9 s\n",
      "val loss = 0.36\n",
      "[Epoch 7|val]\t38.94 s\t0.3589\n",
      "start training (epoch=8)\n"
     ]
    },
    {
     "name": "stderr",
     "output_type": "stream",
     "text": [
      "Epoch 8: 100%|██████████| 79/79 [02:19<00:00,  1.77s/it]\n"
     ]
    },
    {
     "name": "stdout",
     "output_type": "stream",
     "text": [
      "train step took 140.4 s\n",
      "train loss = 0.30\n"
     ]
    },
    {
     "name": "stderr",
     "output_type": "stream",
     "text": [
      "Validation 8: 100%|██████████| 20/20 [00:34<00:00,  1.75s/it]\n"
     ]
    },
    {
     "name": "stdout",
     "output_type": "stream",
     "text": [
      "val step took 36.3 s\n",
      "val loss = 0.35\n",
      "[Epoch 8|val]\t36.26 s\t0.3508\n",
      "start training (epoch=9)\n"
     ]
    },
    {
     "name": "stderr",
     "output_type": "stream",
     "text": [
      "Epoch 9: 100%|██████████| 79/79 [02:31<00:00,  1.92s/it]\n"
     ]
    },
    {
     "name": "stdout",
     "output_type": "stream",
     "text": [
      "train step took 152.9 s\n",
      "train loss = 0.29\n"
     ]
    },
    {
     "name": "stderr",
     "output_type": "stream",
     "text": [
      "Validation 9: 100%|██████████| 20/20 [00:29<00:00,  1.50s/it]\n"
     ]
    },
    {
     "name": "stdout",
     "output_type": "stream",
     "text": [
      "val step took 31.1 s\n",
      "val loss = 0.35\n",
      "[Epoch 9|val]\t31.11 s\t0.3531\n",
      "start training (epoch=10)\n"
     ]
    },
    {
     "name": "stderr",
     "output_type": "stream",
     "text": [
      "Epoch 10: 100%|██████████| 79/79 [01:47<00:00,  1.37s/it]\n"
     ]
    },
    {
     "name": "stdout",
     "output_type": "stream",
     "text": [
      "train step took 108.9 s\n",
      "train loss = 0.28\n"
     ]
    },
    {
     "name": "stderr",
     "output_type": "stream",
     "text": [
      "Validation 10: 100%|██████████| 20/20 [00:35<00:00,  1.80s/it]\n"
     ]
    },
    {
     "name": "stdout",
     "output_type": "stream",
     "text": [
      "val step took 36.8 s\n",
      "val loss = 0.35\n",
      "[Epoch 10|val]\t36.84 s\t0.3517\n",
      "start training (epoch=11)\n"
     ]
    },
    {
     "name": "stderr",
     "output_type": "stream",
     "text": [
      "Epoch 11: 100%|██████████| 79/79 [02:18<00:00,  1.76s/it]\n"
     ]
    },
    {
     "name": "stdout",
     "output_type": "stream",
     "text": [
      "train step took 140.4 s\n",
      "train loss = 0.28\n"
     ]
    },
    {
     "name": "stderr",
     "output_type": "stream",
     "text": [
      "Validation 11: 100%|██████████| 20/20 [00:40<00:00,  2.05s/it]\n"
     ]
    },
    {
     "name": "stdout",
     "output_type": "stream",
     "text": [
      "val step took 42.4 s\n",
      "val loss = 0.35\n",
      "[Epoch 11|val]\t42.39 s\t0.3512\n",
      "start training (epoch=12)\n"
     ]
    },
    {
     "name": "stderr",
     "output_type": "stream",
     "text": [
      "Epoch 12: 100%|██████████| 79/79 [02:18<00:00,  1.76s/it]\n"
     ]
    },
    {
     "name": "stdout",
     "output_type": "stream",
     "text": [
      "train step took 140.2 s\n",
      "train loss = 0.27\n"
     ]
    },
    {
     "name": "stderr",
     "output_type": "stream",
     "text": [
      "Validation 12: 100%|██████████| 20/20 [00:30<00:00,  1.54s/it]\n"
     ]
    },
    {
     "name": "stdout",
     "output_type": "stream",
     "text": [
      "val step took 32.2 s\n",
      "val loss = 0.35\n",
      "[Epoch 12|val]\t32.24 s\t0.3498\n",
      "start training (epoch=13)\n"
     ]
    },
    {
     "name": "stderr",
     "output_type": "stream",
     "text": [
      "Epoch 13: 100%|██████████| 79/79 [02:25<00:00,  1.84s/it]\n"
     ]
    },
    {
     "name": "stdout",
     "output_type": "stream",
     "text": [
      "train step took 146.4 s\n",
      "train loss = 0.27\n"
     ]
    },
    {
     "name": "stderr",
     "output_type": "stream",
     "text": [
      "Validation 13: 100%|██████████| 20/20 [00:29<00:00,  1.46s/it]\n"
     ]
    },
    {
     "name": "stdout",
     "output_type": "stream",
     "text": [
      "val step took 30.3 s\n",
      "val loss = 0.35\n",
      "[Epoch 13|val]\t30.28 s\t0.3502\n",
      "start training (epoch=14)\n"
     ]
    },
    {
     "name": "stderr",
     "output_type": "stream",
     "text": [
      "Epoch 14: 100%|██████████| 79/79 [02:26<00:00,  1.85s/it]\n"
     ]
    },
    {
     "name": "stdout",
     "output_type": "stream",
     "text": [
      "train step took 147.5 s\n",
      "train loss = 0.26\n"
     ]
    },
    {
     "name": "stderr",
     "output_type": "stream",
     "text": [
      "Validation 14: 100%|██████████| 20/20 [00:33<00:00,  1.69s/it]\n"
     ]
    },
    {
     "name": "stdout",
     "output_type": "stream",
     "text": [
      "val step took 35.2 s\n",
      "val loss = 0.35\n",
      "[Epoch 14|val]\t35.20 s\t0.3509\n",
      "start training (epoch=15)\n"
     ]
    },
    {
     "name": "stderr",
     "output_type": "stream",
     "text": [
      "Epoch 15: 100%|██████████| 79/79 [02:25<00:00,  1.84s/it]\n"
     ]
    },
    {
     "name": "stdout",
     "output_type": "stream",
     "text": [
      "train step took 146.6 s\n",
      "train loss = 0.26\n"
     ]
    },
    {
     "name": "stderr",
     "output_type": "stream",
     "text": [
      "Validation 15: 100%|██████████| 20/20 [00:36<00:00,  1.80s/it]\n"
     ]
    },
    {
     "name": "stdout",
     "output_type": "stream",
     "text": [
      "val step took 37.0 s\n",
      "val loss = 0.35\n",
      "[Epoch 15|val]\t37.03 s\t0.3520\n",
      "start training (epoch=16)\n"
     ]
    },
    {
     "name": "stderr",
     "output_type": "stream",
     "text": [
      "Epoch 16: 100%|██████████| 79/79 [02:16<00:00,  1.73s/it]\n"
     ]
    },
    {
     "name": "stdout",
     "output_type": "stream",
     "text": [
      "train step took 138.0 s\n",
      "train loss = 0.27\n"
     ]
    },
    {
     "name": "stderr",
     "output_type": "stream",
     "text": [
      "Validation 16: 100%|██████████| 20/20 [00:27<00:00,  1.37s/it]\n"
     ]
    },
    {
     "name": "stdout",
     "output_type": "stream",
     "text": [
      "val step took 28.5 s\n",
      "val loss = 0.35\n",
      "[Epoch 16|val]\t28.47 s\t0.3509\n",
      "start training (epoch=17)\n"
     ]
    },
    {
     "name": "stderr",
     "output_type": "stream",
     "text": [
      "Epoch 17: 100%|██████████| 79/79 [02:25<00:00,  1.84s/it]\n"
     ]
    },
    {
     "name": "stdout",
     "output_type": "stream",
     "text": [
      "train step took 146.3 s\n",
      "train loss = 0.26\n"
     ]
    },
    {
     "name": "stderr",
     "output_type": "stream",
     "text": [
      "Validation 17: 100%|██████████| 20/20 [00:33<00:00,  1.67s/it]\n"
     ]
    },
    {
     "name": "stdout",
     "output_type": "stream",
     "text": [
      "val step took 34.2 s\n",
      "val loss = 0.35\n",
      "[Epoch 17|val]\t34.24 s\t0.3489\n",
      "start training (epoch=18)\n"
     ]
    },
    {
     "name": "stderr",
     "output_type": "stream",
     "text": [
      "Epoch 18: 100%|██████████| 79/79 [02:23<00:00,  1.82s/it]\n"
     ]
    },
    {
     "name": "stdout",
     "output_type": "stream",
     "text": [
      "train step took 145.0 s\n",
      "train loss = 0.26\n"
     ]
    },
    {
     "name": "stderr",
     "output_type": "stream",
     "text": [
      "Validation 18: 100%|██████████| 20/20 [00:42<00:00,  2.12s/it]\n"
     ]
    },
    {
     "name": "stdout",
     "output_type": "stream",
     "text": [
      "val step took 43.8 s\n",
      "val loss = 0.35\n",
      "[Epoch 18|val]\t43.79 s\t0.3527\n",
      "start training (epoch=19)\n"
     ]
    },
    {
     "name": "stderr",
     "output_type": "stream",
     "text": [
      "Epoch 19: 100%|██████████| 79/79 [02:22<00:00,  1.80s/it]\n"
     ]
    },
    {
     "name": "stdout",
     "output_type": "stream",
     "text": [
      "train step took 144.0 s\n",
      "train loss = 0.26\n"
     ]
    },
    {
     "name": "stderr",
     "output_type": "stream",
     "text": [
      "Validation 19: 100%|██████████| 20/20 [00:32<00:00,  1.62s/it]\n"
     ]
    },
    {
     "name": "stdout",
     "output_type": "stream",
     "text": [
      "val step took 33.9 s\n",
      "val loss = 0.35\n",
      "[Epoch 19|val]\t33.95 s\t0.3515\n",
      "start training (epoch=20)\n"
     ]
    },
    {
     "name": "stderr",
     "output_type": "stream",
     "text": [
      "Epoch 20: 100%|██████████| 79/79 [02:21<00:00,  1.79s/it]\n"
     ]
    },
    {
     "name": "stdout",
     "output_type": "stream",
     "text": [
      "train step took 143.0 s\n",
      "train loss = 0.25\n"
     ]
    },
    {
     "name": "stderr",
     "output_type": "stream",
     "text": [
      "Validation 20: 100%|██████████| 20/20 [00:28<00:00,  1.42s/it]\n"
     ]
    },
    {
     "name": "stdout",
     "output_type": "stream",
     "text": [
      "val step took 29.9 s\n",
      "val loss = 0.35\n",
      "[Epoch 20|val]\t29.92 s\t0.3523\n",
      "start training (epoch=21)\n"
     ]
    },
    {
     "name": "stderr",
     "output_type": "stream",
     "text": [
      "Epoch 21: 100%|██████████| 79/79 [01:55<00:00,  1.47s/it]\n"
     ]
    },
    {
     "name": "stdout",
     "output_type": "stream",
     "text": [
      "train step took 116.7 s\n",
      "train loss = 0.26\n"
     ]
    },
    {
     "name": "stderr",
     "output_type": "stream",
     "text": [
      "Validation 21: 100%|██████████| 20/20 [00:34<00:00,  1.74s/it]\n"
     ]
    },
    {
     "name": "stdout",
     "output_type": "stream",
     "text": [
      "val step took 35.7 s\n",
      "val loss = 0.35\n",
      "[Epoch 21|val]\t35.71 s\t0.3493\n",
      "start training (epoch=22)\n"
     ]
    },
    {
     "name": "stderr",
     "output_type": "stream",
     "text": [
      "Epoch 22: 100%|██████████| 79/79 [02:38<00:00,  2.01s/it]\n"
     ]
    },
    {
     "name": "stdout",
     "output_type": "stream",
     "text": [
      "train step took 160.0 s\n",
      "train loss = 0.26\n"
     ]
    },
    {
     "name": "stderr",
     "output_type": "stream",
     "text": [
      "Validation 22: 100%|██████████| 20/20 [00:46<00:00,  2.31s/it]\n"
     ]
    },
    {
     "name": "stdout",
     "output_type": "stream",
     "text": [
      "val step took 47.7 s\n",
      "val loss = 0.35\n",
      "[Epoch 22|val]\t47.66 s\t0.3513\n",
      "start training (epoch=23)\n"
     ]
    },
    {
     "name": "stderr",
     "output_type": "stream",
     "text": [
      "Epoch 23: 100%|██████████| 79/79 [02:22<00:00,  1.80s/it]\n"
     ]
    },
    {
     "name": "stdout",
     "output_type": "stream",
     "text": [
      "train step took 143.4 s\n",
      "train loss = 0.26\n"
     ]
    },
    {
     "name": "stderr",
     "output_type": "stream",
     "text": [
      "Validation 23: 100%|██████████| 20/20 [00:41<00:00,  2.06s/it]\n"
     ]
    },
    {
     "name": "stdout",
     "output_type": "stream",
     "text": [
      "val step took 42.3 s\n",
      "val loss = 0.35\n",
      "[Epoch 23|val]\t42.30 s\t0.3493\n",
      "start training (epoch=24)\n"
     ]
    },
    {
     "name": "stderr",
     "output_type": "stream",
     "text": [
      "Epoch 24: 100%|██████████| 79/79 [02:30<00:00,  1.90s/it]\n"
     ]
    },
    {
     "name": "stdout",
     "output_type": "stream",
     "text": [
      "train step took 151.3 s\n",
      "train loss = 0.26\n"
     ]
    },
    {
     "name": "stderr",
     "output_type": "stream",
     "text": [
      "Validation 24: 100%|██████████| 20/20 [00:28<00:00,  1.44s/it]\n"
     ]
    },
    {
     "name": "stdout",
     "output_type": "stream",
     "text": [
      "val step took 30.2 s\n",
      "val loss = 0.35\n",
      "[Epoch 24|val]\t30.20 s\t0.3501\n",
      "finished\n",
      "python ../train.py --augment --normalize --images-dir \"/home/amritagupta/ssdprivate/data/Streamflow/fpe_stations/Avery Brook_Side_01171000/FLOW_CFS\" --pairs-file \"/home/amritagupta/ssdprivate/data/Streamflow/Jeff_data/stations/13-Avery Brook_Side_01171000/input_4275/pairs_500.csv\" --output-dir \"/home/amritagupta/ssdprivate/repos/fpe-model/results/vary_annot_frac.jeff_data/Avery Brook_Side_01171000/input_4275/pairs_500\" --model-dir \"/home/amritagupta/ssdprivate/repos/fpe-model/results/vary_annot_frac.jeff_data/Avery Brook_Side_01171000/input_4275/pairs_500\"\n",
      "Namespace(images_dir='/home/amritagupta/ssdprivate/data/Streamflow/fpe_stations/Avery Brook_Side_01171000/FLOW_CFS', pairs_file='/home/amritagupta/ssdprivate/data/Streamflow/Jeff_data/stations/13-Avery Brook_Side_01171000/input_4275/pairs_500.csv', output_dir='/home/amritagupta/ssdprivate/repos/fpe-model/results/vary_annot_frac.jeff_data/Avery Brook_Side_01171000/input_4275/pairs_500', model_dir='/home/amritagupta/ssdprivate/repos/fpe-model/results/vary_annot_frac.jeff_data/Avery Brook_Side_01171000/input_4275/pairs_500', gpu=0, num_workers=12, local=False, epochs=25, batch_size=64, lr=0.001, random_seed=1691, unfreeze_after=2, num_image_stats=1000, input_size=480, decolorize=False, augment=True, normalize=True)\n",
      "train()\n",
      "args:\n",
      "{'images_dir': '/home/amritagupta/ssdprivate/data/Streamflow/fpe_stations/Avery Brook_Side_01171000/FLOW_CFS', 'pairs_file': '/home/amritagupta/ssdprivate/data/Streamflow/Jeff_data/stations/13-Avery Brook_Side_01171000/input_4275/pairs_500.csv', 'output_dir': '/home/amritagupta/ssdprivate/repos/fpe-model/results/vary_annot_frac.jeff_data/Avery Brook_Side_01171000/input_4275/pairs_500', 'model_dir': '/home/amritagupta/ssdprivate/repos/fpe-model/results/vary_annot_frac.jeff_data/Avery Brook_Side_01171000/input_4275/pairs_500', 'gpu': 0, 'num_workers': 12, 'local': False, 'epochs': 25, 'batch_size': 64, 'lr': 0.001, 'random_seed': 1691, 'unfreeze_after': 2, 'num_image_stats': 1000, 'input_size': 480, 'decolorize': False, 'augment': True, 'normalize': True}\n",
      "device: cuda:0\n",
      "output_dir: /home/amritagupta/ssdprivate/repos/fpe-model/results/vary_annot_frac.jeff_data/Avery Brook_Side_01171000/input_4275/pairs_500\n",
      "saved args: /home/amritagupta/ssdprivate/repos/fpe-model/results/vary_annot_frac.jeff_data/Avery Brook_Side_01171000/input_4275/pairs_500/args.json\n",
      "model_dir: /home/amritagupta/ssdprivate/repos/fpe-model/results/vary_annot_frac.jeff_data/Avery Brook_Side_01171000/input_4275/pairs_500\n",
      "set seeds (1691)\n"
     ]
    },
    {
     "name": "stderr",
     "output_type": "stream",
     "text": [
      "100%|██████████| 978/978 [02:07<00:00,  7.69it/s]\n"
     ]
    },
    {
     "name": "stdout",
     "output_type": "stream",
     "text": [
      "resize_shape: [480, 640]\n",
      "input_shape: [384, 512]\n",
      "creating train dataset\n",
      "creating val datasets\n",
      "val ds: 972\n",
      "creating data loaders\n",
      "initializing model\n",
      "start training\n",
      "start training (epoch=0)\n"
     ]
    },
    {
     "name": "stderr",
     "output_type": "stream",
     "text": [
      "Epoch 0: 100%|██████████| 16/16 [00:50<00:00,  3.19s/it]\n"
     ]
    },
    {
     "name": "stdout",
     "output_type": "stream",
     "text": [
      "train step took 52.3 s\n",
      "train loss = 0.69\n"
     ]
    },
    {
     "name": "stderr",
     "output_type": "stream",
     "text": [
      "Validation 0: 100%|██████████| 16/16 [00:30<00:00,  1.89s/it]\n"
     ]
    },
    {
     "name": "stdout",
     "output_type": "stream",
     "text": [
      "val step took 31.2 s\n",
      "val loss = 0.69\n",
      "[Epoch 0|val]\t31.25 s\t0.6868\n",
      "start training (epoch=1)\n"
     ]
    },
    {
     "name": "stderr",
     "output_type": "stream",
     "text": [
      "Epoch 1: 100%|██████████| 16/16 [00:41<00:00,  2.57s/it]\n"
     ]
    },
    {
     "name": "stdout",
     "output_type": "stream",
     "text": [
      "train step took 42.8 s\n",
      "train loss = 0.69\n"
     ]
    },
    {
     "name": "stderr",
     "output_type": "stream",
     "text": [
      "Validation 1: 100%|██████████| 16/16 [00:21<00:00,  1.32s/it]\n"
     ]
    },
    {
     "name": "stdout",
     "output_type": "stream",
     "text": [
      "val step took 22.6 s\n",
      "val loss = 0.68\n",
      "[Epoch 1|val]\t22.63 s\t0.6803\n",
      "unfreezing cnn body after epoch=1\n",
      "start training (epoch=2)\n"
     ]
    },
    {
     "name": "stderr",
     "output_type": "stream",
     "text": [
      "Epoch 2: 100%|██████████| 16/16 [00:38<00:00,  2.43s/it]\n"
     ]
    },
    {
     "name": "stdout",
     "output_type": "stream",
     "text": [
      "train step took 39.9 s\n",
      "train loss = 0.68\n"
     ]
    },
    {
     "name": "stderr",
     "output_type": "stream",
     "text": [
      "Validation 2: 100%|██████████| 16/16 [00:21<00:00,  1.37s/it]\n"
     ]
    },
    {
     "name": "stdout",
     "output_type": "stream",
     "text": [
      "val step took 22.8 s\n",
      "val loss = 0.67\n",
      "[Epoch 2|val]\t22.84 s\t0.6725\n",
      "start training (epoch=3)\n"
     ]
    },
    {
     "name": "stderr",
     "output_type": "stream",
     "text": [
      "Epoch 3: 100%|██████████| 16/16 [00:38<00:00,  2.40s/it]\n"
     ]
    },
    {
     "name": "stdout",
     "output_type": "stream",
     "text": [
      "train step took 39.5 s\n",
      "train loss = 0.67\n"
     ]
    },
    {
     "name": "stderr",
     "output_type": "stream",
     "text": [
      "Validation 3: 100%|██████████| 16/16 [00:23<00:00,  1.48s/it]\n"
     ]
    },
    {
     "name": "stdout",
     "output_type": "stream",
     "text": [
      "val step took 24.7 s\n",
      "val loss = 0.66\n",
      "[Epoch 3|val]\t24.67 s\t0.6577\n",
      "start training (epoch=4)\n"
     ]
    },
    {
     "name": "stderr",
     "output_type": "stream",
     "text": [
      "Epoch 4: 100%|██████████| 16/16 [00:37<00:00,  2.32s/it]\n"
     ]
    },
    {
     "name": "stdout",
     "output_type": "stream",
     "text": [
      "train step took 38.2 s\n",
      "train loss = 0.66\n"
     ]
    },
    {
     "name": "stderr",
     "output_type": "stream",
     "text": [
      "Validation 4: 100%|██████████| 16/16 [00:18<00:00,  1.16s/it]\n"
     ]
    },
    {
     "name": "stdout",
     "output_type": "stream",
     "text": [
      "val step took 19.4 s\n",
      "val loss = 0.64\n",
      "[Epoch 4|val]\t19.43 s\t0.6376\n",
      "start training (epoch=5)\n"
     ]
    },
    {
     "name": "stderr",
     "output_type": "stream",
     "text": [
      "Epoch 5: 100%|██████████| 16/16 [00:28<00:00,  1.76s/it]\n"
     ]
    },
    {
     "name": "stdout",
     "output_type": "stream",
     "text": [
      "train step took 29.5 s\n",
      "train loss = 0.64\n"
     ]
    },
    {
     "name": "stderr",
     "output_type": "stream",
     "text": [
      "Validation 5: 100%|██████████| 16/16 [00:21<00:00,  1.36s/it]\n"
     ]
    },
    {
     "name": "stdout",
     "output_type": "stream",
     "text": [
      "val step took 22.8 s\n",
      "val loss = 0.61\n",
      "[Epoch 5|val]\t22.79 s\t0.6106\n",
      "start training (epoch=6)\n"
     ]
    },
    {
     "name": "stderr",
     "output_type": "stream",
     "text": [
      "Epoch 6: 100%|██████████| 16/16 [00:34<00:00,  2.16s/it]\n"
     ]
    },
    {
     "name": "stdout",
     "output_type": "stream",
     "text": [
      "train step took 35.5 s\n",
      "train loss = 0.61\n"
     ]
    },
    {
     "name": "stderr",
     "output_type": "stream",
     "text": [
      "Validation 6: 100%|██████████| 16/16 [00:19<00:00,  1.19s/it]\n"
     ]
    },
    {
     "name": "stdout",
     "output_type": "stream",
     "text": [
      "val step took 20.1 s\n",
      "val loss = 0.57\n",
      "[Epoch 6|val]\t20.09 s\t0.5748\n",
      "start training (epoch=7)\n"
     ]
    },
    {
     "name": "stderr",
     "output_type": "stream",
     "text": [
      "Epoch 7: 100%|██████████| 16/16 [00:24<00:00,  1.50s/it]\n"
     ]
    },
    {
     "name": "stdout",
     "output_type": "stream",
     "text": [
      "train step took 25.0 s\n",
      "train loss = 0.58\n"
     ]
    },
    {
     "name": "stderr",
     "output_type": "stream",
     "text": [
      "Validation 7: 100%|██████████| 16/16 [00:20<00:00,  1.26s/it]\n"
     ]
    },
    {
     "name": "stdout",
     "output_type": "stream",
     "text": [
      "val step took 21.2 s\n",
      "val loss = 0.53\n",
      "[Epoch 7|val]\t21.20 s\t0.5287\n",
      "start training (epoch=8)\n"
     ]
    },
    {
     "name": "stderr",
     "output_type": "stream",
     "text": [
      "Epoch 8: 100%|██████████| 16/16 [00:24<00:00,  1.55s/it]\n"
     ]
    },
    {
     "name": "stdout",
     "output_type": "stream",
     "text": [
      "train step took 25.6 s\n",
      "train loss = 0.53\n"
     ]
    },
    {
     "name": "stderr",
     "output_type": "stream",
     "text": [
      "Validation 8: 100%|██████████| 16/16 [00:25<00:00,  1.60s/it]\n"
     ]
    },
    {
     "name": "stdout",
     "output_type": "stream",
     "text": [
      "val step took 26.8 s\n",
      "val loss = 0.47\n",
      "[Epoch 8|val]\t26.81 s\t0.4739\n",
      "start training (epoch=9)\n"
     ]
    },
    {
     "name": "stderr",
     "output_type": "stream",
     "text": [
      "Epoch 9: 100%|██████████| 16/16 [00:27<00:00,  1.75s/it]\n"
     ]
    },
    {
     "name": "stdout",
     "output_type": "stream",
     "text": [
      "train step took 29.0 s\n",
      "train loss = 0.48\n"
     ]
    },
    {
     "name": "stderr",
     "output_type": "stream",
     "text": [
      "Validation 9: 100%|██████████| 16/16 [00:21<00:00,  1.32s/it]\n"
     ]
    },
    {
     "name": "stdout",
     "output_type": "stream",
     "text": [
      "val step took 22.2 s\n",
      "val loss = 0.42\n",
      "[Epoch 9|val]\t22.20 s\t0.4193\n",
      "start training (epoch=10)\n"
     ]
    },
    {
     "name": "stderr",
     "output_type": "stream",
     "text": [
      "Epoch 10: 100%|██████████| 16/16 [00:26<00:00,  1.66s/it]\n"
     ]
    },
    {
     "name": "stdout",
     "output_type": "stream",
     "text": [
      "train step took 27.7 s\n",
      "train loss = 0.43\n"
     ]
    },
    {
     "name": "stderr",
     "output_type": "stream",
     "text": [
      "Validation 10: 100%|██████████| 16/16 [00:22<00:00,  1.43s/it]\n"
     ]
    },
    {
     "name": "stdout",
     "output_type": "stream",
     "text": [
      "val step took 24.2 s\n",
      "val loss = 0.37\n",
      "[Epoch 10|val]\t24.23 s\t0.3735\n",
      "start training (epoch=11)\n"
     ]
    },
    {
     "name": "stderr",
     "output_type": "stream",
     "text": [
      "Epoch 11: 100%|██████████| 16/16 [00:29<00:00,  1.82s/it]\n"
     ]
    },
    {
     "name": "stdout",
     "output_type": "stream",
     "text": [
      "train step took 30.1 s\n",
      "train loss = 0.39\n"
     ]
    },
    {
     "name": "stderr",
     "output_type": "stream",
     "text": [
      "Validation 11: 100%|██████████| 16/16 [00:23<00:00,  1.49s/it]\n"
     ]
    },
    {
     "name": "stdout",
     "output_type": "stream",
     "text": [
      "val step took 24.9 s\n",
      "val loss = 0.34\n",
      "[Epoch 11|val]\t24.93 s\t0.3375\n",
      "start training (epoch=12)\n"
     ]
    },
    {
     "name": "stderr",
     "output_type": "stream",
     "text": [
      "Epoch 12: 100%|██████████| 16/16 [00:27<00:00,  1.73s/it]\n"
     ]
    },
    {
     "name": "stdout",
     "output_type": "stream",
     "text": [
      "train step took 28.7 s\n",
      "train loss = 0.36\n"
     ]
    },
    {
     "name": "stderr",
     "output_type": "stream",
     "text": [
      "Validation 12: 100%|██████████| 16/16 [00:20<00:00,  1.28s/it]\n"
     ]
    },
    {
     "name": "stdout",
     "output_type": "stream",
     "text": [
      "val step took 21.6 s\n",
      "val loss = 0.32\n",
      "[Epoch 12|val]\t21.55 s\t0.3162\n",
      "start training (epoch=13)\n"
     ]
    },
    {
     "name": "stderr",
     "output_type": "stream",
     "text": [
      "Epoch 13: 100%|██████████| 16/16 [00:31<00:00,  1.96s/it]\n"
     ]
    },
    {
     "name": "stdout",
     "output_type": "stream",
     "text": [
      "train step took 32.3 s\n",
      "train loss = 0.33\n"
     ]
    },
    {
     "name": "stderr",
     "output_type": "stream",
     "text": [
      "Validation 13: 100%|██████████| 16/16 [00:27<00:00,  1.71s/it]\n"
     ]
    },
    {
     "name": "stdout",
     "output_type": "stream",
     "text": [
      "val step took 28.3 s\n",
      "val loss = 0.30\n",
      "[Epoch 13|val]\t28.30 s\t0.3017\n",
      "start training (epoch=14)\n"
     ]
    },
    {
     "name": "stderr",
     "output_type": "stream",
     "text": [
      "Epoch 14: 100%|██████████| 16/16 [00:30<00:00,  1.91s/it]\n"
     ]
    },
    {
     "name": "stdout",
     "output_type": "stream",
     "text": [
      "train step took 31.7 s\n",
      "train loss = 0.32\n"
     ]
    },
    {
     "name": "stderr",
     "output_type": "stream",
     "text": [
      "Validation 14: 100%|██████████| 16/16 [00:23<00:00,  1.48s/it]\n"
     ]
    },
    {
     "name": "stdout",
     "output_type": "stream",
     "text": [
      "val step took 24.8 s\n",
      "val loss = 0.29\n",
      "[Epoch 14|val]\t24.81 s\t0.2914\n",
      "start training (epoch=15)\n"
     ]
    },
    {
     "name": "stderr",
     "output_type": "stream",
     "text": [
      "Epoch 15: 100%|██████████| 16/16 [00:26<00:00,  1.64s/it]\n"
     ]
    },
    {
     "name": "stdout",
     "output_type": "stream",
     "text": [
      "train step took 27.3 s\n",
      "train loss = 0.31\n"
     ]
    },
    {
     "name": "stderr",
     "output_type": "stream",
     "text": [
      "Validation 15: 100%|██████████| 16/16 [00:22<00:00,  1.38s/it]\n"
     ]
    },
    {
     "name": "stdout",
     "output_type": "stream",
     "text": [
      "val step took 23.5 s\n",
      "val loss = 0.29\n",
      "[Epoch 15|val]\t23.54 s\t0.2859\n",
      "start training (epoch=16)\n"
     ]
    },
    {
     "name": "stderr",
     "output_type": "stream",
     "text": [
      "Epoch 16: 100%|██████████| 16/16 [00:31<00:00,  1.95s/it]\n"
     ]
    },
    {
     "name": "stdout",
     "output_type": "stream",
     "text": [
      "train step took 32.2 s\n",
      "train loss = 0.29\n"
     ]
    },
    {
     "name": "stderr",
     "output_type": "stream",
     "text": [
      "Validation 16: 100%|██████████| 16/16 [00:24<00:00,  1.56s/it]\n"
     ]
    },
    {
     "name": "stdout",
     "output_type": "stream",
     "text": [
      "val step took 26.0 s\n",
      "val loss = 0.28\n",
      "[Epoch 16|val]\t26.05 s\t0.2825\n",
      "start training (epoch=17)\n"
     ]
    },
    {
     "name": "stderr",
     "output_type": "stream",
     "text": [
      "Epoch 17: 100%|██████████| 16/16 [00:29<00:00,  1.84s/it]\n"
     ]
    },
    {
     "name": "stdout",
     "output_type": "stream",
     "text": [
      "train step took 30.5 s\n",
      "train loss = 0.28\n"
     ]
    },
    {
     "name": "stderr",
     "output_type": "stream",
     "text": [
      "Validation 17: 100%|██████████| 16/16 [00:19<00:00,  1.22s/it]\n"
     ]
    },
    {
     "name": "stdout",
     "output_type": "stream",
     "text": [
      "val step took 20.6 s\n",
      "val loss = 0.27\n",
      "[Epoch 17|val]\t20.59 s\t0.2708\n",
      "start training (epoch=18)\n"
     ]
    },
    {
     "name": "stderr",
     "output_type": "stream",
     "text": [
      "Epoch 18: 100%|██████████| 16/16 [00:28<00:00,  1.77s/it]\n"
     ]
    },
    {
     "name": "stdout",
     "output_type": "stream",
     "text": [
      "train step took 29.6 s\n",
      "train loss = 0.27\n"
     ]
    },
    {
     "name": "stderr",
     "output_type": "stream",
     "text": [
      "Validation 18: 100%|██████████| 16/16 [00:25<00:00,  1.59s/it]\n"
     ]
    },
    {
     "name": "stdout",
     "output_type": "stream",
     "text": [
      "val step took 26.5 s\n",
      "val loss = 0.28\n",
      "[Epoch 18|val]\t26.50 s\t0.2778\n",
      "start training (epoch=19)\n"
     ]
    },
    {
     "name": "stderr",
     "output_type": "stream",
     "text": [
      "Epoch 19: 100%|██████████| 16/16 [00:29<00:00,  1.83s/it]\n"
     ]
    },
    {
     "name": "stdout",
     "output_type": "stream",
     "text": [
      "train step took 30.3 s\n",
      "train loss = 0.26\n"
     ]
    },
    {
     "name": "stderr",
     "output_type": "stream",
     "text": [
      "Validation 19: 100%|██████████| 16/16 [00:18<00:00,  1.14s/it]\n"
     ]
    },
    {
     "name": "stdout",
     "output_type": "stream",
     "text": [
      "val step took 19.2 s\n",
      "val loss = 0.28\n",
      "[Epoch 19|val]\t19.19 s\t0.2778\n",
      "start training (epoch=20)\n"
     ]
    },
    {
     "name": "stderr",
     "output_type": "stream",
     "text": [
      "Epoch 20: 100%|██████████| 16/16 [00:22<00:00,  1.38s/it]\n"
     ]
    },
    {
     "name": "stdout",
     "output_type": "stream",
     "text": [
      "train step took 23.0 s\n",
      "train loss = 0.26\n"
     ]
    },
    {
     "name": "stderr",
     "output_type": "stream",
     "text": [
      "Validation 20: 100%|██████████| 16/16 [00:19<00:00,  1.23s/it]\n"
     ]
    },
    {
     "name": "stdout",
     "output_type": "stream",
     "text": [
      "val step took 20.7 s\n",
      "val loss = 0.27\n",
      "[Epoch 20|val]\t20.71 s\t0.2748\n",
      "start training (epoch=21)\n"
     ]
    },
    {
     "name": "stderr",
     "output_type": "stream",
     "text": [
      "Epoch 21: 100%|██████████| 16/16 [00:24<00:00,  1.53s/it]\n"
     ]
    },
    {
     "name": "stdout",
     "output_type": "stream",
     "text": [
      "train step took 25.5 s\n",
      "train loss = 0.24\n"
     ]
    },
    {
     "name": "stderr",
     "output_type": "stream",
     "text": [
      "Validation 21: 100%|██████████| 16/16 [00:31<00:00,  1.96s/it]\n"
     ]
    },
    {
     "name": "stdout",
     "output_type": "stream",
     "text": [
      "val step took 32.6 s\n",
      "val loss = 0.27\n",
      "[Epoch 21|val]\t32.57 s\t0.2726\n",
      "start training (epoch=22)\n"
     ]
    },
    {
     "name": "stderr",
     "output_type": "stream",
     "text": [
      "Epoch 22: 100%|██████████| 16/16 [00:30<00:00,  1.90s/it]\n"
     ]
    },
    {
     "name": "stdout",
     "output_type": "stream",
     "text": [
      "train step took 31.7 s\n",
      "train loss = 0.25\n"
     ]
    },
    {
     "name": "stderr",
     "output_type": "stream",
     "text": [
      "Validation 22: 100%|██████████| 16/16 [00:29<00:00,  1.82s/it]\n"
     ]
    },
    {
     "name": "stdout",
     "output_type": "stream",
     "text": [
      "val step took 30.4 s\n",
      "val loss = 0.27\n",
      "[Epoch 22|val]\t30.37 s\t0.2718\n",
      "start training (epoch=23)\n"
     ]
    },
    {
     "name": "stderr",
     "output_type": "stream",
     "text": [
      "Epoch 23: 100%|██████████| 16/16 [00:37<00:00,  2.32s/it]\n"
     ]
    },
    {
     "name": "stdout",
     "output_type": "stream",
     "text": [
      "train step took 38.7 s\n",
      "train loss = 0.24\n"
     ]
    },
    {
     "name": "stderr",
     "output_type": "stream",
     "text": [
      "Validation 23: 100%|██████████| 16/16 [00:28<00:00,  1.76s/it]\n"
     ]
    },
    {
     "name": "stdout",
     "output_type": "stream",
     "text": [
      "val step took 29.3 s\n",
      "val loss = 0.27\n",
      "[Epoch 23|val]\t29.27 s\t0.2746\n",
      "start training (epoch=24)\n"
     ]
    },
    {
     "name": "stderr",
     "output_type": "stream",
     "text": [
      "Epoch 24: 100%|██████████| 16/16 [00:36<00:00,  2.28s/it]\n"
     ]
    },
    {
     "name": "stdout",
     "output_type": "stream",
     "text": [
      "train step took 37.6 s\n",
      "train loss = 0.24\n"
     ]
    },
    {
     "name": "stderr",
     "output_type": "stream",
     "text": [
      "Validation 24: 100%|██████████| 16/16 [00:29<00:00,  1.87s/it]\n"
     ]
    },
    {
     "name": "stdout",
     "output_type": "stream",
     "text": [
      "val step took 30.9 s\n",
      "val loss = 0.27\n",
      "[Epoch 24|val]\t30.94 s\t0.2724\n",
      "finished\n",
      "python ../train.py --augment --normalize --images-dir \"/home/amritagupta/ssdprivate/data/Streamflow/fpe_stations/Avery Brook_Side_01171000/FLOW_CFS\" --pairs-file \"/home/amritagupta/ssdprivate/data/Streamflow/Jeff_data/stations/13-Avery Brook_Side_01171000/input_4275/pairs_1000.csv\" --output-dir \"/home/amritagupta/ssdprivate/repos/fpe-model/results/vary_annot_frac.jeff_data/Avery Brook_Side_01171000/input_4275/pairs_1000\" --model-dir \"/home/amritagupta/ssdprivate/repos/fpe-model/results/vary_annot_frac.jeff_data/Avery Brook_Side_01171000/input_4275/pairs_1000\"\n",
      "Namespace(images_dir='/home/amritagupta/ssdprivate/data/Streamflow/fpe_stations/Avery Brook_Side_01171000/FLOW_CFS', pairs_file='/home/amritagupta/ssdprivate/data/Streamflow/Jeff_data/stations/13-Avery Brook_Side_01171000/input_4275/pairs_1000.csv', output_dir='/home/amritagupta/ssdprivate/repos/fpe-model/results/vary_annot_frac.jeff_data/Avery Brook_Side_01171000/input_4275/pairs_1000', model_dir='/home/amritagupta/ssdprivate/repos/fpe-model/results/vary_annot_frac.jeff_data/Avery Brook_Side_01171000/input_4275/pairs_1000', gpu=0, num_workers=12, local=False, epochs=25, batch_size=64, lr=0.001, random_seed=1691, unfreeze_after=2, num_image_stats=1000, input_size=480, decolorize=False, augment=True, normalize=True)\n",
      "train()\n",
      "args:\n",
      "{'images_dir': '/home/amritagupta/ssdprivate/data/Streamflow/fpe_stations/Avery Brook_Side_01171000/FLOW_CFS', 'pairs_file': '/home/amritagupta/ssdprivate/data/Streamflow/Jeff_data/stations/13-Avery Brook_Side_01171000/input_4275/pairs_1000.csv', 'output_dir': '/home/amritagupta/ssdprivate/repos/fpe-model/results/vary_annot_frac.jeff_data/Avery Brook_Side_01171000/input_4275/pairs_1000', 'model_dir': '/home/amritagupta/ssdprivate/repos/fpe-model/results/vary_annot_frac.jeff_data/Avery Brook_Side_01171000/input_4275/pairs_1000', 'gpu': 0, 'num_workers': 12, 'local': False, 'epochs': 25, 'batch_size': 64, 'lr': 0.001, 'random_seed': 1691, 'unfreeze_after': 2, 'num_image_stats': 1000, 'input_size': 480, 'decolorize': False, 'augment': True, 'normalize': True}\n",
      "device: cuda:0\n",
      "output_dir: /home/amritagupta/ssdprivate/repos/fpe-model/results/vary_annot_frac.jeff_data/Avery Brook_Side_01171000/input_4275/pairs_1000\n",
      "saved args: /home/amritagupta/ssdprivate/repos/fpe-model/results/vary_annot_frac.jeff_data/Avery Brook_Side_01171000/input_4275/pairs_1000/args.json\n",
      "model_dir: /home/amritagupta/ssdprivate/repos/fpe-model/results/vary_annot_frac.jeff_data/Avery Brook_Side_01171000/input_4275/pairs_1000\n",
      "set seeds (1691)\n"
     ]
    },
    {
     "name": "stderr",
     "output_type": "stream",
     "text": [
      "100%|██████████| 1000/1000 [01:32<00:00, 10.87it/s]\n"
     ]
    },
    {
     "name": "stdout",
     "output_type": "stream",
     "text": [
      "resize_shape: [480, 640]\n",
      "input_shape: [384, 512]\n",
      "creating train dataset\n",
      "creating val datasets\n",
      "val ds: 972\n",
      "creating data loaders\n",
      "initializing model\n",
      "start training\n",
      "start training (epoch=0)\n"
     ]
    },
    {
     "name": "stderr",
     "output_type": "stream",
     "text": [
      "Epoch 0: 100%|██████████| 32/32 [01:04<00:00,  2.03s/it]\n"
     ]
    },
    {
     "name": "stdout",
     "output_type": "stream",
     "text": [
      "train step took 65.9 s\n",
      "train loss = 0.69\n"
     ]
    },
    {
     "name": "stderr",
     "output_type": "stream",
     "text": [
      "Validation 0: 100%|██████████| 16/16 [00:27<00:00,  1.71s/it]\n"
     ]
    },
    {
     "name": "stdout",
     "output_type": "stream",
     "text": [
      "val step took 28.7 s\n",
      "val loss = 0.68\n",
      "[Epoch 0|val]\t28.73 s\t0.6756\n",
      "start training (epoch=1)\n"
     ]
    },
    {
     "name": "stderr",
     "output_type": "stream",
     "text": [
      "Epoch 1: 100%|██████████| 32/32 [00:50<00:00,  1.57s/it]\n"
     ]
    },
    {
     "name": "stdout",
     "output_type": "stream",
     "text": [
      "train step took 51.5 s\n",
      "train loss = 0.67\n"
     ]
    },
    {
     "name": "stderr",
     "output_type": "stream",
     "text": [
      "Validation 1: 100%|██████████| 16/16 [00:30<00:00,  1.89s/it]\n"
     ]
    },
    {
     "name": "stdout",
     "output_type": "stream",
     "text": [
      "val step took 31.3 s\n",
      "val loss = 0.66\n",
      "[Epoch 1|val]\t31.32 s\t0.6594\n",
      "unfreezing cnn body after epoch=1\n",
      "start training (epoch=2)\n"
     ]
    },
    {
     "name": "stderr",
     "output_type": "stream",
     "text": [
      "Epoch 2: 100%|██████████| 32/32 [00:54<00:00,  1.72s/it]\n"
     ]
    },
    {
     "name": "stdout",
     "output_type": "stream",
     "text": [
      "train step took 56.3 s\n",
      "train loss = 0.66\n"
     ]
    },
    {
     "name": "stderr",
     "output_type": "stream",
     "text": [
      "Validation 2: 100%|██████████| 16/16 [00:25<00:00,  1.60s/it]\n"
     ]
    },
    {
     "name": "stdout",
     "output_type": "stream",
     "text": [
      "val step took 26.8 s\n",
      "val loss = 0.63\n",
      "[Epoch 2|val]\t26.76 s\t0.6275\n",
      "start training (epoch=3)\n"
     ]
    },
    {
     "name": "stderr",
     "output_type": "stream",
     "text": [
      "Epoch 3: 100%|██████████| 32/32 [00:56<00:00,  1.78s/it]\n"
     ]
    },
    {
     "name": "stdout",
     "output_type": "stream",
     "text": [
      "train step took 58.1 s\n",
      "train loss = 0.62\n"
     ]
    },
    {
     "name": "stderr",
     "output_type": "stream",
     "text": [
      "Validation 3: 100%|██████████| 16/16 [00:28<00:00,  1.80s/it]\n"
     ]
    },
    {
     "name": "stdout",
     "output_type": "stream",
     "text": [
      "val step took 29.9 s\n",
      "val loss = 0.56\n",
      "[Epoch 3|val]\t29.88 s\t0.5636\n",
      "start training (epoch=4)\n"
     ]
    },
    {
     "name": "stderr",
     "output_type": "stream",
     "text": [
      "Epoch 4: 100%|██████████| 32/32 [01:03<00:00,  1.99s/it]\n"
     ]
    },
    {
     "name": "stdout",
     "output_type": "stream",
     "text": [
      "train step took 65.1 s\n",
      "train loss = 0.55\n"
     ]
    },
    {
     "name": "stderr",
     "output_type": "stream",
     "text": [
      "Validation 4: 100%|██████████| 16/16 [00:24<00:00,  1.56s/it]\n"
     ]
    },
    {
     "name": "stdout",
     "output_type": "stream",
     "text": [
      "val step took 26.0 s\n",
      "val loss = 0.46\n",
      "[Epoch 4|val]\t25.96 s\t0.4639\n",
      "start training (epoch=5)\n"
     ]
    },
    {
     "name": "stderr",
     "output_type": "stream",
     "text": [
      "Epoch 5: 100%|██████████| 32/32 [00:59<00:00,  1.87s/it]\n"
     ]
    },
    {
     "name": "stdout",
     "output_type": "stream",
     "text": [
      "train step took 60.6 s\n",
      "train loss = 0.46\n"
     ]
    },
    {
     "name": "stderr",
     "output_type": "stream",
     "text": [
      "Validation 5: 100%|██████████| 16/16 [00:23<00:00,  1.49s/it]\n"
     ]
    },
    {
     "name": "stdout",
     "output_type": "stream",
     "text": [
      "val step took 25.0 s\n",
      "val loss = 0.37\n",
      "[Epoch 5|val]\t25.02 s\t0.3714\n",
      "start training (epoch=6)\n"
     ]
    },
    {
     "name": "stderr",
     "output_type": "stream",
     "text": [
      "Epoch 6: 100%|██████████| 32/32 [01:14<00:00,  2.32s/it]\n"
     ]
    },
    {
     "name": "stdout",
     "output_type": "stream",
     "text": [
      "train step took 75.8 s\n",
      "train loss = 0.39\n"
     ]
    },
    {
     "name": "stderr",
     "output_type": "stream",
     "text": [
      "Validation 6: 100%|██████████| 16/16 [00:28<00:00,  1.76s/it]\n"
     ]
    },
    {
     "name": "stdout",
     "output_type": "stream",
     "text": [
      "val step took 30.4 s\n",
      "val loss = 0.32\n",
      "[Epoch 6|val]\t30.39 s\t0.3164\n",
      "start training (epoch=7)\n"
     ]
    },
    {
     "name": "stderr",
     "output_type": "stream",
     "text": [
      "Epoch 7: 100%|██████████| 32/32 [01:09<00:00,  2.17s/it]\n"
     ]
    },
    {
     "name": "stdout",
     "output_type": "stream",
     "text": [
      "train step took 71.1 s\n",
      "train loss = 0.35\n"
     ]
    },
    {
     "name": "stderr",
     "output_type": "stream",
     "text": [
      "Validation 7: 100%|██████████| 16/16 [00:26<00:00,  1.66s/it]\n"
     ]
    },
    {
     "name": "stdout",
     "output_type": "stream",
     "text": [
      "val step took 28.5 s\n",
      "val loss = 0.29\n",
      "[Epoch 7|val]\t28.52 s\t0.2881\n",
      "start training (epoch=8)\n"
     ]
    },
    {
     "name": "stderr",
     "output_type": "stream",
     "text": [
      "Epoch 8: 100%|██████████| 32/32 [01:16<00:00,  2.39s/it]\n"
     ]
    },
    {
     "name": "stdout",
     "output_type": "stream",
     "text": [
      "train step took 77.8 s\n",
      "train loss = 0.33\n"
     ]
    },
    {
     "name": "stderr",
     "output_type": "stream",
     "text": [
      "Validation 8: 100%|██████████| 16/16 [00:30<00:00,  1.89s/it]\n"
     ]
    },
    {
     "name": "stdout",
     "output_type": "stream",
     "text": [
      "val step took 32.2 s\n",
      "val loss = 0.27\n",
      "[Epoch 8|val]\t32.24 s\t0.2743\n",
      "start training (epoch=9)\n"
     ]
    },
    {
     "name": "stderr",
     "output_type": "stream",
     "text": [
      "Epoch 9: 100%|██████████| 32/32 [00:53<00:00,  1.66s/it]\n"
     ]
    },
    {
     "name": "stdout",
     "output_type": "stream",
     "text": [
      "train step took 54.3 s\n",
      "train loss = 0.31\n"
     ]
    },
    {
     "name": "stderr",
     "output_type": "stream",
     "text": [
      "Validation 9: 100%|██████████| 16/16 [00:33<00:00,  2.06s/it]\n"
     ]
    },
    {
     "name": "stdout",
     "output_type": "stream",
     "text": [
      "val step took 35.1 s\n",
      "val loss = 0.27\n",
      "[Epoch 9|val]\t35.08 s\t0.2715\n",
      "start training (epoch=10)\n"
     ]
    },
    {
     "name": "stderr",
     "output_type": "stream",
     "text": [
      "Epoch 10: 100%|██████████| 32/32 [01:08<00:00,  2.14s/it]\n"
     ]
    },
    {
     "name": "stdout",
     "output_type": "stream",
     "text": [
      "train step took 70.6 s\n",
      "train loss = 0.30\n"
     ]
    },
    {
     "name": "stderr",
     "output_type": "stream",
     "text": [
      "Validation 10: 100%|██████████| 16/16 [00:33<00:00,  2.09s/it]\n"
     ]
    },
    {
     "name": "stdout",
     "output_type": "stream",
     "text": [
      "val step took 35.0 s\n",
      "val loss = 0.27\n",
      "[Epoch 10|val]\t35.01 s\t0.2659\n",
      "start training (epoch=11)\n"
     ]
    },
    {
     "name": "stderr",
     "output_type": "stream",
     "text": [
      "Epoch 11: 100%|██████████| 32/32 [01:08<00:00,  2.14s/it]\n"
     ]
    },
    {
     "name": "stdout",
     "output_type": "stream",
     "text": [
      "train step took 70.1 s\n",
      "train loss = 0.29\n"
     ]
    },
    {
     "name": "stderr",
     "output_type": "stream",
     "text": [
      "Validation 11: 100%|██████████| 16/16 [00:31<00:00,  1.94s/it]\n"
     ]
    },
    {
     "name": "stdout",
     "output_type": "stream",
     "text": [
      "val step took 32.7 s\n",
      "val loss = 0.26\n",
      "[Epoch 11|val]\t32.71 s\t0.2623\n",
      "start training (epoch=12)\n"
     ]
    },
    {
     "name": "stderr",
     "output_type": "stream",
     "text": [
      "Epoch 12: 100%|██████████| 32/32 [01:11<00:00,  2.24s/it]\n"
     ]
    },
    {
     "name": "stdout",
     "output_type": "stream",
     "text": [
      "train step took 73.8 s\n",
      "train loss = 0.29\n"
     ]
    },
    {
     "name": "stderr",
     "output_type": "stream",
     "text": [
      "Validation 12: 100%|██████████| 16/16 [00:24<00:00,  1.54s/it]\n"
     ]
    },
    {
     "name": "stdout",
     "output_type": "stream",
     "text": [
      "val step took 26.4 s\n",
      "val loss = 0.26\n",
      "[Epoch 12|val]\t26.39 s\t0.2620\n",
      "start training (epoch=13)\n"
     ]
    },
    {
     "name": "stderr",
     "output_type": "stream",
     "text": [
      "Epoch 13: 100%|██████████| 32/32 [01:18<00:00,  2.47s/it]\n"
     ]
    },
    {
     "name": "stdout",
     "output_type": "stream",
     "text": [
      "train step took 80.1 s\n",
      "train loss = 0.27\n"
     ]
    },
    {
     "name": "stderr",
     "output_type": "stream",
     "text": [
      "Validation 13: 100%|██████████| 16/16 [00:35<00:00,  2.20s/it]\n"
     ]
    },
    {
     "name": "stdout",
     "output_type": "stream",
     "text": [
      "val step took 36.2 s\n",
      "val loss = 0.26\n",
      "[Epoch 13|val]\t36.24 s\t0.2631\n",
      "start training (epoch=14)\n"
     ]
    },
    {
     "name": "stderr",
     "output_type": "stream",
     "text": [
      "Epoch 14: 100%|██████████| 32/32 [01:21<00:00,  2.54s/it]\n"
     ]
    },
    {
     "name": "stdout",
     "output_type": "stream",
     "text": [
      "train step took 82.8 s\n",
      "train loss = 0.26\n"
     ]
    },
    {
     "name": "stderr",
     "output_type": "stream",
     "text": [
      "Validation 14: 100%|██████████| 16/16 [00:23<00:00,  1.47s/it]\n"
     ]
    },
    {
     "name": "stdout",
     "output_type": "stream",
     "text": [
      "val step took 24.6 s\n",
      "val loss = 0.26\n",
      "[Epoch 14|val]\t24.61 s\t0.2620\n",
      "start training (epoch=15)\n"
     ]
    },
    {
     "name": "stderr",
     "output_type": "stream",
     "text": [
      "Epoch 15: 100%|██████████| 32/32 [01:17<00:00,  2.44s/it]\n"
     ]
    },
    {
     "name": "stdout",
     "output_type": "stream",
     "text": [
      "train step took 79.5 s\n",
      "train loss = 0.26\n"
     ]
    },
    {
     "name": "stderr",
     "output_type": "stream",
     "text": [
      "Validation 15: 100%|██████████| 16/16 [00:31<00:00,  1.94s/it]\n"
     ]
    },
    {
     "name": "stdout",
     "output_type": "stream",
     "text": [
      "val step took 33.0 s\n",
      "val loss = 0.26\n",
      "[Epoch 15|val]\t32.98 s\t0.2622\n",
      "start training (epoch=16)\n"
     ]
    },
    {
     "name": "stderr",
     "output_type": "stream",
     "text": [
      "Epoch 16: 100%|██████████| 32/32 [01:11<00:00,  2.23s/it]\n"
     ]
    },
    {
     "name": "stdout",
     "output_type": "stream",
     "text": [
      "train step took 73.3 s\n",
      "train loss = 0.25\n"
     ]
    },
    {
     "name": "stderr",
     "output_type": "stream",
     "text": [
      "Validation 16: 100%|██████████| 16/16 [00:40<00:00,  2.50s/it]\n"
     ]
    },
    {
     "name": "stdout",
     "output_type": "stream",
     "text": [
      "val step took 41.7 s\n",
      "val loss = 0.27\n",
      "[Epoch 16|val]\t41.69 s\t0.2658\n",
      "start training (epoch=17)\n"
     ]
    },
    {
     "name": "stderr",
     "output_type": "stream",
     "text": [
      "Epoch 17: 100%|██████████| 32/32 [00:59<00:00,  1.85s/it]\n"
     ]
    },
    {
     "name": "stdout",
     "output_type": "stream",
     "text": [
      "train step took 61.3 s\n",
      "train loss = 0.26\n"
     ]
    },
    {
     "name": "stderr",
     "output_type": "stream",
     "text": [
      "Validation 17: 100%|██████████| 16/16 [00:43<00:00,  2.71s/it]\n"
     ]
    },
    {
     "name": "stdout",
     "output_type": "stream",
     "text": [
      "val step took 45.0 s\n",
      "val loss = 0.27\n",
      "[Epoch 17|val]\t45.02 s\t0.2656\n",
      "start training (epoch=18)\n"
     ]
    },
    {
     "name": "stderr",
     "output_type": "stream",
     "text": [
      "Epoch 18: 100%|██████████| 32/32 [00:58<00:00,  1.84s/it]\n"
     ]
    },
    {
     "name": "stdout",
     "output_type": "stream",
     "text": [
      "train step took 60.0 s\n",
      "train loss = 0.26\n"
     ]
    },
    {
     "name": "stderr",
     "output_type": "stream",
     "text": [
      "Validation 18: 100%|██████████| 16/16 [00:42<00:00,  2.63s/it]\n"
     ]
    },
    {
     "name": "stdout",
     "output_type": "stream",
     "text": [
      "val step took 44.4 s\n",
      "val loss = 0.26\n",
      "[Epoch 18|val]\t44.39 s\t0.2623\n",
      "start training (epoch=19)\n"
     ]
    },
    {
     "name": "stderr",
     "output_type": "stream",
     "text": [
      "Epoch 19: 100%|██████████| 32/32 [00:59<00:00,  1.85s/it]\n"
     ]
    },
    {
     "name": "stdout",
     "output_type": "stream",
     "text": [
      "train step took 60.7 s\n",
      "train loss = 0.25\n"
     ]
    },
    {
     "name": "stderr",
     "output_type": "stream",
     "text": [
      "Validation 19: 100%|██████████| 16/16 [00:45<00:00,  2.85s/it]\n"
     ]
    },
    {
     "name": "stdout",
     "output_type": "stream",
     "text": [
      "val step took 48.0 s\n",
      "val loss = 0.26\n",
      "[Epoch 19|val]\t47.95 s\t0.2648\n",
      "start training (epoch=20)\n"
     ]
    },
    {
     "name": "stderr",
     "output_type": "stream",
     "text": [
      "Epoch 20: 100%|██████████| 32/32 [01:02<00:00,  1.95s/it]\n"
     ]
    },
    {
     "name": "stdout",
     "output_type": "stream",
     "text": [
      "train step took 64.6 s\n",
      "train loss = 0.25\n"
     ]
    },
    {
     "name": "stderr",
     "output_type": "stream",
     "text": [
      "Validation 20: 100%|██████████| 16/16 [00:37<00:00,  2.33s/it]\n"
     ]
    },
    {
     "name": "stdout",
     "output_type": "stream",
     "text": [
      "val step took 39.5 s\n",
      "val loss = 0.27\n",
      "[Epoch 20|val]\t39.53 s\t0.2660\n",
      "start training (epoch=21)\n"
     ]
    },
    {
     "name": "stderr",
     "output_type": "stream",
     "text": [
      "Epoch 21: 100%|██████████| 32/32 [01:09<00:00,  2.16s/it]\n"
     ]
    },
    {
     "name": "stdout",
     "output_type": "stream",
     "text": [
      "train step took 71.2 s\n",
      "train loss = 0.25\n"
     ]
    },
    {
     "name": "stderr",
     "output_type": "stream",
     "text": [
      "Validation 21: 100%|██████████| 16/16 [00:31<00:00,  1.95s/it]\n"
     ]
    },
    {
     "name": "stdout",
     "output_type": "stream",
     "text": [
      "val step took 33.3 s\n",
      "val loss = 0.27\n",
      "[Epoch 21|val]\t33.31 s\t0.2674\n",
      "start training (epoch=22)\n"
     ]
    },
    {
     "name": "stderr",
     "output_type": "stream",
     "text": [
      "Epoch 22: 100%|██████████| 32/32 [01:12<00:00,  2.27s/it]\n"
     ]
    },
    {
     "name": "stdout",
     "output_type": "stream",
     "text": [
      "train step took 74.4 s\n",
      "train loss = 0.24\n"
     ]
    },
    {
     "name": "stderr",
     "output_type": "stream",
     "text": [
      "Validation 22: 100%|██████████| 16/16 [00:21<00:00,  1.33s/it]\n"
     ]
    },
    {
     "name": "stdout",
     "output_type": "stream",
     "text": [
      "val step took 22.2 s\n",
      "val loss = 0.27\n",
      "[Epoch 22|val]\t22.23 s\t0.2658\n",
      "start training (epoch=23)\n"
     ]
    },
    {
     "name": "stderr",
     "output_type": "stream",
     "text": [
      "Epoch 23: 100%|██████████| 32/32 [00:52<00:00,  1.63s/it]\n"
     ]
    },
    {
     "name": "stdout",
     "output_type": "stream",
     "text": [
      "train step took 53.4 s\n",
      "train loss = 0.24\n"
     ]
    },
    {
     "name": "stderr",
     "output_type": "stream",
     "text": [
      "Validation 23: 100%|██████████| 16/16 [00:24<00:00,  1.51s/it]\n"
     ]
    },
    {
     "name": "stdout",
     "output_type": "stream",
     "text": [
      "val step took 25.1 s\n",
      "val loss = 0.27\n",
      "[Epoch 23|val]\t25.14 s\t0.2664\n",
      "start training (epoch=24)\n"
     ]
    },
    {
     "name": "stderr",
     "output_type": "stream",
     "text": [
      "Epoch 24: 100%|██████████| 32/32 [00:50<00:00,  1.58s/it]\n"
     ]
    },
    {
     "name": "stdout",
     "output_type": "stream",
     "text": [
      "train step took 51.8 s\n",
      "train loss = 0.25\n"
     ]
    },
    {
     "name": "stderr",
     "output_type": "stream",
     "text": [
      "Validation 24: 100%|██████████| 16/16 [00:28<00:00,  1.76s/it]\n"
     ]
    },
    {
     "name": "stdout",
     "output_type": "stream",
     "text": [
      "val step took 29.5 s\n",
      "val loss = 0.27\n",
      "[Epoch 24|val]\t29.45 s\t0.2669\n",
      "finished\n",
      "python ../train.py --augment --normalize --images-dir \"/home/amritagupta/ssdprivate/data/Streamflow/fpe_stations/Avery Brook_Side_01171000/FLOW_CFS\" --pairs-file \"/home/amritagupta/ssdprivate/data/Streamflow/Jeff_data/stations/13-Avery Brook_Side_01171000/input_4275/pairs_1500.csv\" --output-dir \"/home/amritagupta/ssdprivate/repos/fpe-model/results/vary_annot_frac.jeff_data/Avery Brook_Side_01171000/input_4275/pairs_1500\" --model-dir \"/home/amritagupta/ssdprivate/repos/fpe-model/results/vary_annot_frac.jeff_data/Avery Brook_Side_01171000/input_4275/pairs_1500\"\n",
      "Namespace(images_dir='/home/amritagupta/ssdprivate/data/Streamflow/fpe_stations/Avery Brook_Side_01171000/FLOW_CFS', pairs_file='/home/amritagupta/ssdprivate/data/Streamflow/Jeff_data/stations/13-Avery Brook_Side_01171000/input_4275/pairs_1500.csv', output_dir='/home/amritagupta/ssdprivate/repos/fpe-model/results/vary_annot_frac.jeff_data/Avery Brook_Side_01171000/input_4275/pairs_1500', model_dir='/home/amritagupta/ssdprivate/repos/fpe-model/results/vary_annot_frac.jeff_data/Avery Brook_Side_01171000/input_4275/pairs_1500', gpu=0, num_workers=12, local=False, epochs=25, batch_size=64, lr=0.001, random_seed=1691, unfreeze_after=2, num_image_stats=1000, input_size=480, decolorize=False, augment=True, normalize=True)\n",
      "train()\n",
      "args:\n",
      "{'images_dir': '/home/amritagupta/ssdprivate/data/Streamflow/fpe_stations/Avery Brook_Side_01171000/FLOW_CFS', 'pairs_file': '/home/amritagupta/ssdprivate/data/Streamflow/Jeff_data/stations/13-Avery Brook_Side_01171000/input_4275/pairs_1500.csv', 'output_dir': '/home/amritagupta/ssdprivate/repos/fpe-model/results/vary_annot_frac.jeff_data/Avery Brook_Side_01171000/input_4275/pairs_1500', 'model_dir': '/home/amritagupta/ssdprivate/repos/fpe-model/results/vary_annot_frac.jeff_data/Avery Brook_Side_01171000/input_4275/pairs_1500', 'gpu': 0, 'num_workers': 12, 'local': False, 'epochs': 25, 'batch_size': 64, 'lr': 0.001, 'random_seed': 1691, 'unfreeze_after': 2, 'num_image_stats': 1000, 'input_size': 480, 'decolorize': False, 'augment': True, 'normalize': True}\n",
      "device: cuda:0\n",
      "output_dir: /home/amritagupta/ssdprivate/repos/fpe-model/results/vary_annot_frac.jeff_data/Avery Brook_Side_01171000/input_4275/pairs_1500\n",
      "saved args: /home/amritagupta/ssdprivate/repos/fpe-model/results/vary_annot_frac.jeff_data/Avery Brook_Side_01171000/input_4275/pairs_1500/args.json\n",
      "model_dir: /home/amritagupta/ssdprivate/repos/fpe-model/results/vary_annot_frac.jeff_data/Avery Brook_Side_01171000/input_4275/pairs_1500\n",
      "set seeds (1691)\n"
     ]
    },
    {
     "name": "stderr",
     "output_type": "stream",
     "text": [
      "100%|██████████| 1000/1000 [01:27<00:00, 11.48it/s]\n"
     ]
    },
    {
     "name": "stdout",
     "output_type": "stream",
     "text": [
      "resize_shape: [480, 640]\n",
      "input_shape: [384, 512]\n",
      "creating train dataset\n",
      "creating val datasets\n",
      "val ds: 972\n",
      "creating data loaders\n",
      "initializing model\n",
      "start training\n",
      "start training (epoch=0)\n"
     ]
    },
    {
     "name": "stderr",
     "output_type": "stream",
     "text": [
      "Epoch 0: 100%|██████████| 47/47 [01:11<00:00,  1.51s/it]\n"
     ]
    },
    {
     "name": "stdout",
     "output_type": "stream",
     "text": [
      "train step took 72.0 s\n",
      "train loss = 0.68\n"
     ]
    },
    {
     "name": "stderr",
     "output_type": "stream",
     "text": [
      "Validation 0: 100%|██████████| 16/16 [00:24<00:00,  1.55s/it]\n"
     ]
    },
    {
     "name": "stdout",
     "output_type": "stream",
     "text": [
      "val step took 25.9 s\n",
      "val loss = 0.66\n",
      "[Epoch 0|val]\t25.93 s\t0.6617\n",
      "start training (epoch=1)\n"
     ]
    },
    {
     "name": "stderr",
     "output_type": "stream",
     "text": [
      "Epoch 1: 100%|██████████| 47/47 [01:09<00:00,  1.47s/it]\n"
     ]
    },
    {
     "name": "stdout",
     "output_type": "stream",
     "text": [
      "train step took 70.0 s\n",
      "train loss = 0.65\n"
     ]
    },
    {
     "name": "stderr",
     "output_type": "stream",
     "text": [
      "Validation 1: 100%|██████████| 16/16 [00:26<00:00,  1.63s/it]\n"
     ]
    },
    {
     "name": "stdout",
     "output_type": "stream",
     "text": [
      "val step took 27.3 s\n",
      "val loss = 0.62\n",
      "[Epoch 1|val]\t27.25 s\t0.6236\n",
      "unfreezing cnn body after epoch=1\n",
      "start training (epoch=2)\n"
     ]
    },
    {
     "name": "stderr",
     "output_type": "stream",
     "text": [
      "Epoch 2: 100%|██████████| 47/47 [00:52<00:00,  1.12s/it]\n"
     ]
    },
    {
     "name": "stdout",
     "output_type": "stream",
     "text": [
      "train step took 53.7 s\n",
      "train loss = 0.60\n"
     ]
    },
    {
     "name": "stderr",
     "output_type": "stream",
     "text": [
      "Validation 2: 100%|██████████| 16/16 [00:18<00:00,  1.14s/it]\n"
     ]
    },
    {
     "name": "stdout",
     "output_type": "stream",
     "text": [
      "val step took 19.3 s\n",
      "val loss = 0.52\n",
      "[Epoch 2|val]\t19.32 s\t0.5168\n",
      "start training (epoch=3)\n"
     ]
    },
    {
     "name": "stderr",
     "output_type": "stream",
     "text": [
      "Epoch 3: 100%|██████████| 47/47 [00:52<00:00,  1.12s/it]\n"
     ]
    },
    {
     "name": "stdout",
     "output_type": "stream",
     "text": [
      "train step took 53.6 s\n",
      "train loss = 0.48\n"
     ]
    },
    {
     "name": "stderr",
     "output_type": "stream",
     "text": [
      "Validation 3: 100%|██████████| 16/16 [00:30<00:00,  1.88s/it]\n"
     ]
    },
    {
     "name": "stdout",
     "output_type": "stream",
     "text": [
      "val step took 31.3 s\n",
      "val loss = 0.36\n",
      "[Epoch 3|val]\t31.30 s\t0.3631\n",
      "start training (epoch=4)\n"
     ]
    },
    {
     "name": "stderr",
     "output_type": "stream",
     "text": [
      "Epoch 4: 100%|██████████| 47/47 [00:56<00:00,  1.19s/it]\n"
     ]
    },
    {
     "name": "stdout",
     "output_type": "stream",
     "text": [
      "train step took 57.1 s\n",
      "train loss = 0.38\n"
     ]
    },
    {
     "name": "stderr",
     "output_type": "stream",
     "text": [
      "Validation 4: 100%|██████████| 16/16 [00:17<00:00,  1.10s/it]\n"
     ]
    },
    {
     "name": "stdout",
     "output_type": "stream",
     "text": [
      "val step took 18.6 s\n",
      "val loss = 0.30\n",
      "[Epoch 4|val]\t18.58 s\t0.2970\n",
      "start training (epoch=5)\n"
     ]
    },
    {
     "name": "stderr",
     "output_type": "stream",
     "text": [
      "Epoch 5: 100%|██████████| 47/47 [00:52<00:00,  1.13s/it]\n"
     ]
    },
    {
     "name": "stdout",
     "output_type": "stream",
     "text": [
      "train step took 53.8 s\n",
      "train loss = 0.34\n"
     ]
    },
    {
     "name": "stderr",
     "output_type": "stream",
     "text": [
      "Validation 5: 100%|██████████| 16/16 [00:26<00:00,  1.66s/it]\n"
     ]
    },
    {
     "name": "stdout",
     "output_type": "stream",
     "text": [
      "val step took 27.8 s\n",
      "val loss = 0.27\n",
      "[Epoch 5|val]\t27.79 s\t0.2678\n",
      "start training (epoch=6)\n"
     ]
    },
    {
     "name": "stderr",
     "output_type": "stream",
     "text": [
      "Epoch 6: 100%|██████████| 47/47 [01:06<00:00,  1.40s/it]\n"
     ]
    },
    {
     "name": "stdout",
     "output_type": "stream",
     "text": [
      "train step took 66.9 s\n",
      "train loss = 0.31\n"
     ]
    },
    {
     "name": "stderr",
     "output_type": "stream",
     "text": [
      "Validation 6: 100%|██████████| 16/16 [00:22<00:00,  1.42s/it]\n"
     ]
    },
    {
     "name": "stdout",
     "output_type": "stream",
     "text": [
      "val step took 23.7 s\n",
      "val loss = 0.26\n",
      "[Epoch 6|val]\t23.74 s\t0.2648\n",
      "start training (epoch=7)\n"
     ]
    },
    {
     "name": "stderr",
     "output_type": "stream",
     "text": [
      "Epoch 7: 100%|██████████| 47/47 [01:00<00:00,  1.29s/it]\n"
     ]
    },
    {
     "name": "stdout",
     "output_type": "stream",
     "text": [
      "train step took 61.5 s\n",
      "train loss = 0.29\n"
     ]
    },
    {
     "name": "stderr",
     "output_type": "stream",
     "text": [
      "Validation 7: 100%|██████████| 16/16 [00:32<00:00,  2.03s/it]\n"
     ]
    },
    {
     "name": "stdout",
     "output_type": "stream",
     "text": [
      "val step took 33.8 s\n",
      "val loss = 0.25\n",
      "[Epoch 7|val]\t33.76 s\t0.2511\n",
      "start training (epoch=8)\n"
     ]
    },
    {
     "name": "stderr",
     "output_type": "stream",
     "text": [
      "Epoch 8: 100%|██████████| 47/47 [01:08<00:00,  1.46s/it]\n"
     ]
    },
    {
     "name": "stdout",
     "output_type": "stream",
     "text": [
      "train step took 69.9 s\n",
      "train loss = 0.28\n"
     ]
    },
    {
     "name": "stderr",
     "output_type": "stream",
     "text": [
      "Validation 8: 100%|██████████| 16/16 [00:30<00:00,  1.91s/it]\n"
     ]
    },
    {
     "name": "stdout",
     "output_type": "stream",
     "text": [
      "val step took 31.7 s\n",
      "val loss = 0.25\n",
      "[Epoch 8|val]\t31.70 s\t0.2507\n",
      "start training (epoch=9)\n"
     ]
    },
    {
     "name": "stderr",
     "output_type": "stream",
     "text": [
      "Epoch 9: 100%|██████████| 47/47 [01:04<00:00,  1.38s/it]\n"
     ]
    },
    {
     "name": "stdout",
     "output_type": "stream",
     "text": [
      "train step took 65.8 s\n",
      "train loss = 0.27\n"
     ]
    },
    {
     "name": "stderr",
     "output_type": "stream",
     "text": [
      "Validation 9: 100%|██████████| 16/16 [00:32<00:00,  2.06s/it]\n"
     ]
    },
    {
     "name": "stdout",
     "output_type": "stream",
     "text": [
      "val step took 34.2 s\n",
      "val loss = 0.25\n",
      "[Epoch 9|val]\t34.16 s\t0.2468\n",
      "start training (epoch=10)\n"
     ]
    },
    {
     "name": "stderr",
     "output_type": "stream",
     "text": [
      "Epoch 10: 100%|██████████| 47/47 [01:05<00:00,  1.39s/it]\n"
     ]
    },
    {
     "name": "stdout",
     "output_type": "stream",
     "text": [
      "train step took 66.7 s\n",
      "train loss = 0.27\n"
     ]
    },
    {
     "name": "stderr",
     "output_type": "stream",
     "text": [
      "Validation 10: 100%|██████████| 16/16 [00:26<00:00,  1.67s/it]\n"
     ]
    },
    {
     "name": "stdout",
     "output_type": "stream",
     "text": [
      "val step took 28.1 s\n",
      "val loss = 0.25\n",
      "[Epoch 10|val]\t28.11 s\t0.2474\n",
      "start training (epoch=11)\n"
     ]
    },
    {
     "name": "stderr",
     "output_type": "stream",
     "text": [
      "Epoch 11: 100%|██████████| 47/47 [01:08<00:00,  1.45s/it]\n"
     ]
    },
    {
     "name": "stdout",
     "output_type": "stream",
     "text": [
      "train step took 69.2 s\n",
      "train loss = 0.25\n"
     ]
    },
    {
     "name": "stderr",
     "output_type": "stream",
     "text": [
      "Validation 11: 100%|██████████| 16/16 [00:28<00:00,  1.81s/it]\n"
     ]
    },
    {
     "name": "stdout",
     "output_type": "stream",
     "text": [
      "val step took 30.3 s\n",
      "val loss = 0.24\n",
      "[Epoch 11|val]\t30.29 s\t0.2428\n",
      "start training (epoch=12)\n"
     ]
    },
    {
     "name": "stderr",
     "output_type": "stream",
     "text": [
      "Epoch 12: 100%|██████████| 47/47 [01:08<00:00,  1.46s/it]\n"
     ]
    },
    {
     "name": "stdout",
     "output_type": "stream",
     "text": [
      "train step took 69.8 s\n",
      "train loss = 0.25\n"
     ]
    },
    {
     "name": "stderr",
     "output_type": "stream",
     "text": [
      "Validation 12: 100%|██████████| 16/16 [00:23<00:00,  1.49s/it]\n"
     ]
    },
    {
     "name": "stdout",
     "output_type": "stream",
     "text": [
      "val step took 24.7 s\n",
      "val loss = 0.25\n",
      "[Epoch 12|val]\t24.69 s\t0.2488\n",
      "start training (epoch=13)\n"
     ]
    },
    {
     "name": "stderr",
     "output_type": "stream",
     "text": [
      "Epoch 13: 100%|██████████| 47/47 [01:15<00:00,  1.61s/it]\n"
     ]
    },
    {
     "name": "stdout",
     "output_type": "stream",
     "text": [
      "train step took 76.6 s\n",
      "train loss = 0.24\n"
     ]
    },
    {
     "name": "stderr",
     "output_type": "stream",
     "text": [
      "Validation 13: 100%|██████████| 16/16 [00:24<00:00,  1.52s/it]\n"
     ]
    },
    {
     "name": "stdout",
     "output_type": "stream",
     "text": [
      "val step took 25.6 s\n",
      "val loss = 0.25\n",
      "[Epoch 13|val]\t25.60 s\t0.2460\n",
      "start training (epoch=14)\n"
     ]
    },
    {
     "name": "stderr",
     "output_type": "stream",
     "text": [
      "Epoch 14: 100%|██████████| 47/47 [01:05<00:00,  1.39s/it]\n"
     ]
    },
    {
     "name": "stdout",
     "output_type": "stream",
     "text": [
      "train step took 66.6 s\n",
      "train loss = 0.24\n"
     ]
    },
    {
     "name": "stderr",
     "output_type": "stream",
     "text": [
      "Validation 14: 100%|██████████| 16/16 [00:29<00:00,  1.84s/it]\n"
     ]
    },
    {
     "name": "stdout",
     "output_type": "stream",
     "text": [
      "val step took 30.7 s\n",
      "val loss = 0.24\n",
      "[Epoch 14|val]\t30.73 s\t0.2425\n",
      "start training (epoch=15)\n"
     ]
    },
    {
     "name": "stderr",
     "output_type": "stream",
     "text": [
      "Epoch 15: 100%|██████████| 47/47 [01:07<00:00,  1.44s/it]\n"
     ]
    },
    {
     "name": "stdout",
     "output_type": "stream",
     "text": [
      "train step took 68.7 s\n",
      "train loss = 0.23\n"
     ]
    },
    {
     "name": "stderr",
     "output_type": "stream",
     "text": [
      "Validation 15: 100%|██████████| 16/16 [00:29<00:00,  1.87s/it]\n"
     ]
    },
    {
     "name": "stdout",
     "output_type": "stream",
     "text": [
      "val step took 31.1 s\n",
      "val loss = 0.25\n",
      "[Epoch 15|val]\t31.09 s\t0.2491\n",
      "start training (epoch=16)\n"
     ]
    },
    {
     "name": "stderr",
     "output_type": "stream",
     "text": [
      "Epoch 16: 100%|██████████| 47/47 [01:02<00:00,  1.32s/it]\n"
     ]
    },
    {
     "name": "stdout",
     "output_type": "stream",
     "text": [
      "train step took 63.5 s\n",
      "train loss = 0.23\n"
     ]
    },
    {
     "name": "stderr",
     "output_type": "stream",
     "text": [
      "Validation 16: 100%|██████████| 16/16 [00:25<00:00,  1.59s/it]\n"
     ]
    },
    {
     "name": "stdout",
     "output_type": "stream",
     "text": [
      "val step took 26.7 s\n",
      "val loss = 0.25\n",
      "[Epoch 16|val]\t26.67 s\t0.2460\n",
      "start training (epoch=17)\n"
     ]
    },
    {
     "name": "stderr",
     "output_type": "stream",
     "text": [
      "Epoch 17: 100%|██████████| 47/47 [01:08<00:00,  1.47s/it]\n"
     ]
    },
    {
     "name": "stdout",
     "output_type": "stream",
     "text": [
      "train step took 70.4 s\n",
      "train loss = 0.23\n"
     ]
    },
    {
     "name": "stderr",
     "output_type": "stream",
     "text": [
      "Validation 17: 100%|██████████| 16/16 [00:25<00:00,  1.61s/it]\n"
     ]
    },
    {
     "name": "stdout",
     "output_type": "stream",
     "text": [
      "val step took 26.8 s\n",
      "val loss = 0.24\n",
      "[Epoch 17|val]\t26.77 s\t0.2442\n",
      "start training (epoch=18)\n"
     ]
    },
    {
     "name": "stderr",
     "output_type": "stream",
     "text": [
      "Epoch 18: 100%|██████████| 47/47 [01:09<00:00,  1.49s/it]\n"
     ]
    },
    {
     "name": "stdout",
     "output_type": "stream",
     "text": [
      "train step took 71.0 s\n",
      "train loss = 0.22\n"
     ]
    },
    {
     "name": "stderr",
     "output_type": "stream",
     "text": [
      "Validation 18: 100%|██████████| 16/16 [00:25<00:00,  1.60s/it]\n"
     ]
    },
    {
     "name": "stdout",
     "output_type": "stream",
     "text": [
      "val step took 26.5 s\n",
      "val loss = 0.25\n",
      "[Epoch 18|val]\t26.50 s\t0.2486\n",
      "start training (epoch=19)\n"
     ]
    },
    {
     "name": "stderr",
     "output_type": "stream",
     "text": [
      "Epoch 19: 100%|██████████| 47/47 [01:04<00:00,  1.37s/it]\n"
     ]
    },
    {
     "name": "stdout",
     "output_type": "stream",
     "text": [
      "train step took 65.5 s\n",
      "train loss = 0.22\n"
     ]
    },
    {
     "name": "stderr",
     "output_type": "stream",
     "text": [
      "Validation 19: 100%|██████████| 16/16 [00:21<00:00,  1.32s/it]\n"
     ]
    },
    {
     "name": "stdout",
     "output_type": "stream",
     "text": [
      "val step took 22.4 s\n",
      "val loss = 0.24\n",
      "[Epoch 19|val]\t22.38 s\t0.2449\n",
      "start training (epoch=20)\n"
     ]
    },
    {
     "name": "stderr",
     "output_type": "stream",
     "text": [
      "Epoch 20: 100%|██████████| 47/47 [01:12<00:00,  1.55s/it]\n"
     ]
    },
    {
     "name": "stdout",
     "output_type": "stream",
     "text": [
      "train step took 74.1 s\n",
      "train loss = 0.23\n"
     ]
    },
    {
     "name": "stderr",
     "output_type": "stream",
     "text": [
      "Validation 20: 100%|██████████| 16/16 [00:23<00:00,  1.48s/it]\n"
     ]
    },
    {
     "name": "stdout",
     "output_type": "stream",
     "text": [
      "val step took 25.1 s\n",
      "val loss = 0.24\n",
      "[Epoch 20|val]\t25.12 s\t0.2445\n",
      "start training (epoch=21)\n"
     ]
    },
    {
     "name": "stderr",
     "output_type": "stream",
     "text": [
      "Epoch 21: 100%|██████████| 47/47 [01:16<00:00,  1.63s/it]\n"
     ]
    },
    {
     "name": "stdout",
     "output_type": "stream",
     "text": [
      "train step took 77.4 s\n",
      "train loss = 0.22\n"
     ]
    },
    {
     "name": "stderr",
     "output_type": "stream",
     "text": [
      "Validation 21: 100%|██████████| 16/16 [00:33<00:00,  2.08s/it]\n"
     ]
    },
    {
     "name": "stdout",
     "output_type": "stream",
     "text": [
      "val step took 34.2 s\n",
      "val loss = 0.25\n",
      "[Epoch 21|val]\t34.23 s\t0.2453\n",
      "start training (epoch=22)\n"
     ]
    },
    {
     "name": "stderr",
     "output_type": "stream",
     "text": [
      "Epoch 22: 100%|██████████| 47/47 [01:07<00:00,  1.44s/it]\n"
     ]
    },
    {
     "name": "stdout",
     "output_type": "stream",
     "text": [
      "train step took 68.9 s\n",
      "train loss = 0.22\n"
     ]
    },
    {
     "name": "stderr",
     "output_type": "stream",
     "text": [
      "Validation 22: 100%|██████████| 16/16 [00:32<00:00,  2.06s/it]\n"
     ]
    },
    {
     "name": "stdout",
     "output_type": "stream",
     "text": [
      "val step took 34.1 s\n",
      "val loss = 0.24\n",
      "[Epoch 22|val]\t34.06 s\t0.2448\n",
      "start training (epoch=23)\n"
     ]
    },
    {
     "name": "stderr",
     "output_type": "stream",
     "text": [
      "Epoch 23: 100%|██████████| 47/47 [01:05<00:00,  1.40s/it]\n"
     ]
    },
    {
     "name": "stdout",
     "output_type": "stream",
     "text": [
      "train step took 67.1 s\n",
      "train loss = 0.22\n"
     ]
    },
    {
     "name": "stderr",
     "output_type": "stream",
     "text": [
      "Validation 23: 100%|██████████| 16/16 [00:28<00:00,  1.75s/it]\n"
     ]
    },
    {
     "name": "stdout",
     "output_type": "stream",
     "text": [
      "val step took 29.1 s\n",
      "val loss = 0.24\n",
      "[Epoch 23|val]\t29.15 s\t0.2442\n",
      "start training (epoch=24)\n"
     ]
    },
    {
     "name": "stderr",
     "output_type": "stream",
     "text": [
      "Epoch 24: 100%|██████████| 47/47 [01:08<00:00,  1.46s/it]\n"
     ]
    },
    {
     "name": "stdout",
     "output_type": "stream",
     "text": [
      "train step took 70.1 s\n",
      "train loss = 0.23\n"
     ]
    },
    {
     "name": "stderr",
     "output_type": "stream",
     "text": [
      "Validation 24: 100%|██████████| 16/16 [00:19<00:00,  1.19s/it]\n"
     ]
    },
    {
     "name": "stdout",
     "output_type": "stream",
     "text": [
      "val step took 20.1 s\n",
      "val loss = 0.25\n",
      "[Epoch 24|val]\t20.06 s\t0.2457\n",
      "finished\n",
      "python ../train.py --augment --normalize --images-dir \"/home/amritagupta/ssdprivate/data/Streamflow/fpe_stations/Avery Brook_River Right_01171000/FLOW_CFS\" --pairs-file \"/home/amritagupta/ssdprivate/data/Streamflow/Jeff_data/stations/14-Avery Brook_River Right_01171000/input_4275/pairs_500.csv\" --output-dir \"/home/amritagupta/ssdprivate/repos/fpe-model/results/vary_annot_frac.jeff_data/Avery Brook_River Right_01171000/input_4275/pairs_500\" --model-dir \"/home/amritagupta/ssdprivate/repos/fpe-model/results/vary_annot_frac.jeff_data/Avery Brook_River Right_01171000/input_4275/pairs_500\"\n",
      "Namespace(images_dir='/home/amritagupta/ssdprivate/data/Streamflow/fpe_stations/Avery Brook_River Right_01171000/FLOW_CFS', pairs_file='/home/amritagupta/ssdprivate/data/Streamflow/Jeff_data/stations/14-Avery Brook_River Right_01171000/input_4275/pairs_500.csv', output_dir='/home/amritagupta/ssdprivate/repos/fpe-model/results/vary_annot_frac.jeff_data/Avery Brook_River Right_01171000/input_4275/pairs_500', model_dir='/home/amritagupta/ssdprivate/repos/fpe-model/results/vary_annot_frac.jeff_data/Avery Brook_River Right_01171000/input_4275/pairs_500', gpu=0, num_workers=12, local=False, epochs=25, batch_size=64, lr=0.001, random_seed=1691, unfreeze_after=2, num_image_stats=1000, input_size=480, decolorize=False, augment=True, normalize=True)\n",
      "train()\n",
      "args:\n",
      "{'images_dir': '/home/amritagupta/ssdprivate/data/Streamflow/fpe_stations/Avery Brook_River Right_01171000/FLOW_CFS', 'pairs_file': '/home/amritagupta/ssdprivate/data/Streamflow/Jeff_data/stations/14-Avery Brook_River Right_01171000/input_4275/pairs_500.csv', 'output_dir': '/home/amritagupta/ssdprivate/repos/fpe-model/results/vary_annot_frac.jeff_data/Avery Brook_River Right_01171000/input_4275/pairs_500', 'model_dir': '/home/amritagupta/ssdprivate/repos/fpe-model/results/vary_annot_frac.jeff_data/Avery Brook_River Right_01171000/input_4275/pairs_500', 'gpu': 0, 'num_workers': 12, 'local': False, 'epochs': 25, 'batch_size': 64, 'lr': 0.001, 'random_seed': 1691, 'unfreeze_after': 2, 'num_image_stats': 1000, 'input_size': 480, 'decolorize': False, 'augment': True, 'normalize': True}\n",
      "device: cuda:0\n",
      "output_dir: /home/amritagupta/ssdprivate/repos/fpe-model/results/vary_annot_frac.jeff_data/Avery Brook_River Right_01171000/input_4275/pairs_500\n",
      "saved args: /home/amritagupta/ssdprivate/repos/fpe-model/results/vary_annot_frac.jeff_data/Avery Brook_River Right_01171000/input_4275/pairs_500/args.json\n",
      "model_dir: /home/amritagupta/ssdprivate/repos/fpe-model/results/vary_annot_frac.jeff_data/Avery Brook_River Right_01171000/input_4275/pairs_500\n",
      "set seeds (1691)\n"
     ]
    },
    {
     "name": "stderr",
     "output_type": "stream",
     "text": [
      "100%|██████████| 984/984 [01:47<00:00,  9.16it/s]\n"
     ]
    },
    {
     "name": "stdout",
     "output_type": "stream",
     "text": [
      "resize_shape: [480, 640]\n",
      "input_shape: [384, 512]\n",
      "creating train dataset\n",
      "creating val datasets\n",
      "val ds: 882\n",
      "creating data loaders\n",
      "initializing model\n",
      "start training\n",
      "start training (epoch=0)\n"
     ]
    },
    {
     "name": "stderr",
     "output_type": "stream",
     "text": [
      "Epoch 0: 100%|██████████| 16/16 [00:32<00:00,  2.04s/it]\n"
     ]
    },
    {
     "name": "stdout",
     "output_type": "stream",
     "text": [
      "train step took 33.6 s\n",
      "train loss = 0.70\n"
     ]
    },
    {
     "name": "stderr",
     "output_type": "stream",
     "text": [
      "Validation 0: 100%|██████████| 14/14 [00:30<00:00,  2.16s/it]\n"
     ]
    },
    {
     "name": "stdout",
     "output_type": "stream",
     "text": [
      "val step took 31.4 s\n",
      "val loss = 0.69\n",
      "[Epoch 0|val]\t31.42 s\t0.6922\n",
      "start training (epoch=1)\n"
     ]
    },
    {
     "name": "stderr",
     "output_type": "stream",
     "text": [
      "Epoch 1: 100%|██████████| 16/16 [00:33<00:00,  2.12s/it]\n"
     ]
    },
    {
     "name": "stdout",
     "output_type": "stream",
     "text": [
      "train step took 35.2 s\n",
      "train loss = 0.69\n"
     ]
    },
    {
     "name": "stderr",
     "output_type": "stream",
     "text": [
      "Validation 1: 100%|██████████| 14/14 [00:20<00:00,  1.45s/it]\n"
     ]
    },
    {
     "name": "stdout",
     "output_type": "stream",
     "text": [
      "val step took 21.7 s\n",
      "val loss = 0.69\n",
      "[Epoch 1|val]\t21.74 s\t0.6859\n",
      "unfreezing cnn body after epoch=1\n",
      "start training (epoch=2)\n"
     ]
    },
    {
     "name": "stderr",
     "output_type": "stream",
     "text": [
      "Epoch 2: 100%|██████████| 16/16 [00:33<00:00,  2.10s/it]\n"
     ]
    },
    {
     "name": "stdout",
     "output_type": "stream",
     "text": [
      "train step took 34.6 s\n",
      "train loss = 0.68\n"
     ]
    },
    {
     "name": "stderr",
     "output_type": "stream",
     "text": [
      "Validation 2: 100%|██████████| 14/14 [00:24<00:00,  1.76s/it]\n"
     ]
    },
    {
     "name": "stdout",
     "output_type": "stream",
     "text": [
      "val step took 25.6 s\n",
      "val loss = 0.68\n",
      "[Epoch 2|val]\t25.64 s\t0.6803\n",
      "start training (epoch=3)\n"
     ]
    },
    {
     "name": "stderr",
     "output_type": "stream",
     "text": [
      "Epoch 3: 100%|██████████| 16/16 [00:26<00:00,  1.64s/it]\n"
     ]
    },
    {
     "name": "stdout",
     "output_type": "stream",
     "text": [
      "train step took 27.4 s\n",
      "train loss = 0.68\n"
     ]
    },
    {
     "name": "stderr",
     "output_type": "stream",
     "text": [
      "Validation 3: 100%|██████████| 14/14 [00:19<00:00,  1.41s/it]\n"
     ]
    },
    {
     "name": "stdout",
     "output_type": "stream",
     "text": [
      "val step took 20.7 s\n",
      "val loss = 0.67\n",
      "[Epoch 3|val]\t20.71 s\t0.6700\n",
      "start training (epoch=4)\n"
     ]
    },
    {
     "name": "stderr",
     "output_type": "stream",
     "text": [
      "Epoch 4: 100%|██████████| 16/16 [00:27<00:00,  1.71s/it]\n"
     ]
    },
    {
     "name": "stdout",
     "output_type": "stream",
     "text": [
      "train step took 28.4 s\n",
      "train loss = 0.67\n"
     ]
    },
    {
     "name": "stderr",
     "output_type": "stream",
     "text": [
      "Validation 4: 100%|██████████| 14/14 [00:15<00:00,  1.13s/it]\n"
     ]
    },
    {
     "name": "stdout",
     "output_type": "stream",
     "text": [
      "val step took 16.8 s\n",
      "val loss = 0.66\n",
      "[Epoch 4|val]\t16.80 s\t0.6574\n",
      "start training (epoch=5)\n"
     ]
    },
    {
     "name": "stderr",
     "output_type": "stream",
     "text": [
      "Epoch 5: 100%|██████████| 16/16 [00:27<00:00,  1.74s/it]\n"
     ]
    },
    {
     "name": "stdout",
     "output_type": "stream",
     "text": [
      "train step took 28.9 s\n",
      "train loss = 0.65\n"
     ]
    },
    {
     "name": "stderr",
     "output_type": "stream",
     "text": [
      "Validation 5: 100%|██████████| 14/14 [00:17<00:00,  1.26s/it]\n"
     ]
    },
    {
     "name": "stdout",
     "output_type": "stream",
     "text": [
      "val step took 18.5 s\n",
      "val loss = 0.64\n",
      "[Epoch 5|val]\t18.46 s\t0.6417\n",
      "start training (epoch=6)\n"
     ]
    },
    {
     "name": "stderr",
     "output_type": "stream",
     "text": [
      "Epoch 6: 100%|██████████| 16/16 [00:40<00:00,  2.50s/it]\n"
     ]
    },
    {
     "name": "stdout",
     "output_type": "stream",
     "text": [
      "train step took 41.3 s\n",
      "train loss = 0.64\n"
     ]
    },
    {
     "name": "stderr",
     "output_type": "stream",
     "text": [
      "Validation 6: 100%|██████████| 14/14 [00:22<00:00,  1.62s/it]\n"
     ]
    },
    {
     "name": "stdout",
     "output_type": "stream",
     "text": [
      "val step took 23.9 s\n",
      "val loss = 0.62\n",
      "[Epoch 6|val]\t23.89 s\t0.6232\n",
      "start training (epoch=7)\n"
     ]
    },
    {
     "name": "stderr",
     "output_type": "stream",
     "text": [
      "Epoch 7: 100%|██████████| 16/16 [00:33<00:00,  2.12s/it]\n"
     ]
    },
    {
     "name": "stdout",
     "output_type": "stream",
     "text": [
      "train step took 35.0 s\n",
      "train loss = 0.62\n"
     ]
    },
    {
     "name": "stderr",
     "output_type": "stream",
     "text": [
      "Validation 7: 100%|██████████| 14/14 [00:19<00:00,  1.40s/it]\n"
     ]
    },
    {
     "name": "stdout",
     "output_type": "stream",
     "text": [
      "val step took 20.6 s\n",
      "val loss = 0.60\n",
      "[Epoch 7|val]\t20.58 s\t0.5999\n",
      "start training (epoch=8)\n"
     ]
    },
    {
     "name": "stderr",
     "output_type": "stream",
     "text": [
      "Epoch 8: 100%|██████████| 16/16 [00:36<00:00,  2.29s/it]\n"
     ]
    },
    {
     "name": "stdout",
     "output_type": "stream",
     "text": [
      "train step took 38.0 s\n",
      "train loss = 0.59\n"
     ]
    },
    {
     "name": "stderr",
     "output_type": "stream",
     "text": [
      "Validation 8: 100%|██████████| 14/14 [00:20<00:00,  1.47s/it]\n"
     ]
    },
    {
     "name": "stdout",
     "output_type": "stream",
     "text": [
      "val step took 22.2 s\n",
      "val loss = 0.57\n",
      "[Epoch 8|val]\t22.17 s\t0.5702\n",
      "start training (epoch=9)\n"
     ]
    },
    {
     "name": "stderr",
     "output_type": "stream",
     "text": [
      "Epoch 9: 100%|██████████| 16/16 [00:31<00:00,  1.95s/it]\n"
     ]
    },
    {
     "name": "stdout",
     "output_type": "stream",
     "text": [
      "train step took 32.2 s\n",
      "train loss = 0.57\n"
     ]
    },
    {
     "name": "stderr",
     "output_type": "stream",
     "text": [
      "Validation 9: 100%|██████████| 14/14 [00:25<00:00,  1.79s/it]\n"
     ]
    },
    {
     "name": "stdout",
     "output_type": "stream",
     "text": [
      "val step took 26.2 s\n",
      "val loss = 0.53\n",
      "[Epoch 9|val]\t26.21 s\t0.5345\n",
      "start training (epoch=10)\n"
     ]
    },
    {
     "name": "stderr",
     "output_type": "stream",
     "text": [
      "Epoch 10: 100%|██████████| 16/16 [00:35<00:00,  2.22s/it]\n"
     ]
    },
    {
     "name": "stdout",
     "output_type": "stream",
     "text": [
      "train step took 36.9 s\n",
      "train loss = 0.53\n"
     ]
    },
    {
     "name": "stderr",
     "output_type": "stream",
     "text": [
      "Validation 10: 100%|██████████| 14/14 [00:18<00:00,  1.36s/it]\n"
     ]
    },
    {
     "name": "stdout",
     "output_type": "stream",
     "text": [
      "val step took 20.2 s\n",
      "val loss = 0.49\n",
      "[Epoch 10|val]\t20.21 s\t0.4931\n",
      "start training (epoch=11)\n"
     ]
    },
    {
     "name": "stderr",
     "output_type": "stream",
     "text": [
      "Epoch 11: 100%|██████████| 16/16 [00:27<00:00,  1.69s/it]\n"
     ]
    },
    {
     "name": "stdout",
     "output_type": "stream",
     "text": [
      "train step took 28.0 s\n",
      "train loss = 0.49\n"
     ]
    },
    {
     "name": "stderr",
     "output_type": "stream",
     "text": [
      "Validation 11: 100%|██████████| 14/14 [00:24<00:00,  1.74s/it]\n"
     ]
    },
    {
     "name": "stdout",
     "output_type": "stream",
     "text": [
      "val step took 25.7 s\n",
      "val loss = 0.46\n",
      "[Epoch 11|val]\t25.66 s\t0.4562\n",
      "start training (epoch=12)\n"
     ]
    },
    {
     "name": "stderr",
     "output_type": "stream",
     "text": [
      "Epoch 12: 100%|██████████| 16/16 [00:32<00:00,  2.05s/it]\n"
     ]
    },
    {
     "name": "stdout",
     "output_type": "stream",
     "text": [
      "train step took 33.7 s\n",
      "train loss = 0.45\n"
     ]
    },
    {
     "name": "stderr",
     "output_type": "stream",
     "text": [
      "Validation 12: 100%|██████████| 14/14 [00:27<00:00,  1.95s/it]\n"
     ]
    },
    {
     "name": "stdout",
     "output_type": "stream",
     "text": [
      "val step took 28.7 s\n",
      "val loss = 0.42\n",
      "[Epoch 12|val]\t28.74 s\t0.4178\n",
      "start training (epoch=13)\n"
     ]
    },
    {
     "name": "stderr",
     "output_type": "stream",
     "text": [
      "Epoch 13: 100%|██████████| 16/16 [00:26<00:00,  1.65s/it]\n"
     ]
    },
    {
     "name": "stdout",
     "output_type": "stream",
     "text": [
      "train step took 27.8 s\n",
      "train loss = 0.42\n"
     ]
    },
    {
     "name": "stderr",
     "output_type": "stream",
     "text": [
      "Validation 13: 100%|██████████| 14/14 [00:20<00:00,  1.47s/it]\n"
     ]
    },
    {
     "name": "stdout",
     "output_type": "stream",
     "text": [
      "val step took 21.9 s\n",
      "val loss = 0.39\n",
      "[Epoch 13|val]\t21.89 s\t0.3868\n",
      "start training (epoch=14)\n"
     ]
    },
    {
     "name": "stderr",
     "output_type": "stream",
     "text": [
      "Epoch 14: 100%|██████████| 16/16 [00:27<00:00,  1.73s/it]\n"
     ]
    },
    {
     "name": "stdout",
     "output_type": "stream",
     "text": [
      "train step took 28.8 s\n",
      "train loss = 0.39\n"
     ]
    },
    {
     "name": "stderr",
     "output_type": "stream",
     "text": [
      "Validation 14: 100%|██████████| 14/14 [00:26<00:00,  1.91s/it]\n"
     ]
    },
    {
     "name": "stdout",
     "output_type": "stream",
     "text": [
      "val step took 28.1 s\n",
      "val loss = 0.36\n",
      "[Epoch 14|val]\t28.10 s\t0.3603\n",
      "start training (epoch=15)\n"
     ]
    },
    {
     "name": "stderr",
     "output_type": "stream",
     "text": [
      "Epoch 15: 100%|██████████| 16/16 [00:28<00:00,  1.80s/it]\n"
     ]
    },
    {
     "name": "stdout",
     "output_type": "stream",
     "text": [
      "train step took 29.9 s\n",
      "train loss = 0.35\n"
     ]
    },
    {
     "name": "stderr",
     "output_type": "stream",
     "text": [
      "Validation 15: 100%|██████████| 14/14 [00:22<00:00,  1.62s/it]\n"
     ]
    },
    {
     "name": "stdout",
     "output_type": "stream",
     "text": [
      "val step took 23.7 s\n",
      "val loss = 0.34\n",
      "[Epoch 15|val]\t23.75 s\t0.3372\n",
      "start training (epoch=16)\n"
     ]
    },
    {
     "name": "stderr",
     "output_type": "stream",
     "text": [
      "Epoch 16: 100%|██████████| 16/16 [00:33<00:00,  2.12s/it]\n"
     ]
    },
    {
     "name": "stdout",
     "output_type": "stream",
     "text": [
      "train step took 35.3 s\n",
      "train loss = 0.34\n"
     ]
    },
    {
     "name": "stderr",
     "output_type": "stream",
     "text": [
      "Validation 16: 100%|██████████| 14/14 [00:26<00:00,  1.86s/it]\n"
     ]
    },
    {
     "name": "stdout",
     "output_type": "stream",
     "text": [
      "val step took 27.3 s\n",
      "val loss = 0.32\n",
      "[Epoch 16|val]\t27.26 s\t0.3207\n",
      "start training (epoch=17)\n"
     ]
    },
    {
     "name": "stderr",
     "output_type": "stream",
     "text": [
      "Epoch 17: 100%|██████████| 16/16 [00:33<00:00,  2.12s/it]\n"
     ]
    },
    {
     "name": "stdout",
     "output_type": "stream",
     "text": [
      "train step took 35.0 s\n",
      "train loss = 0.30\n"
     ]
    },
    {
     "name": "stderr",
     "output_type": "stream",
     "text": [
      "Validation 17: 100%|██████████| 14/14 [00:20<00:00,  1.48s/it]\n"
     ]
    },
    {
     "name": "stdout",
     "output_type": "stream",
     "text": [
      "val step took 21.8 s\n",
      "val loss = 0.31\n",
      "[Epoch 17|val]\t21.84 s\t0.3123\n",
      "start training (epoch=18)\n"
     ]
    },
    {
     "name": "stderr",
     "output_type": "stream",
     "text": [
      "Epoch 18: 100%|██████████| 16/16 [00:34<00:00,  2.17s/it]\n"
     ]
    },
    {
     "name": "stdout",
     "output_type": "stream",
     "text": [
      "train step took 35.8 s\n",
      "train loss = 0.30\n"
     ]
    },
    {
     "name": "stderr",
     "output_type": "stream",
     "text": [
      "Validation 18: 100%|██████████| 14/14 [00:31<00:00,  2.24s/it]\n"
     ]
    },
    {
     "name": "stdout",
     "output_type": "stream",
     "text": [
      "val step took 32.8 s\n",
      "val loss = 0.31\n",
      "[Epoch 18|val]\t32.76 s\t0.3083\n",
      "start training (epoch=19)\n"
     ]
    },
    {
     "name": "stderr",
     "output_type": "stream",
     "text": [
      "Epoch 19: 100%|██████████| 16/16 [00:34<00:00,  2.14s/it]\n"
     ]
    },
    {
     "name": "stdout",
     "output_type": "stream",
     "text": [
      "train step took 35.6 s\n",
      "train loss = 0.27\n"
     ]
    },
    {
     "name": "stderr",
     "output_type": "stream",
     "text": [
      "Validation 19: 100%|██████████| 14/14 [00:19<00:00,  1.41s/it]\n"
     ]
    },
    {
     "name": "stdout",
     "output_type": "stream",
     "text": [
      "val step took 20.6 s\n",
      "val loss = 0.30\n",
      "[Epoch 19|val]\t20.61 s\t0.3030\n",
      "start training (epoch=20)\n"
     ]
    },
    {
     "name": "stderr",
     "output_type": "stream",
     "text": [
      "Epoch 20: 100%|██████████| 16/16 [00:33<00:00,  2.06s/it]\n"
     ]
    },
    {
     "name": "stdout",
     "output_type": "stream",
     "text": [
      "train step took 34.3 s\n",
      "train loss = 0.26\n"
     ]
    },
    {
     "name": "stderr",
     "output_type": "stream",
     "text": [
      "Validation 20: 100%|██████████| 14/14 [00:17<00:00,  1.26s/it]\n"
     ]
    },
    {
     "name": "stdout",
     "output_type": "stream",
     "text": [
      "val step took 18.6 s\n",
      "val loss = 0.30\n",
      "[Epoch 20|val]\t18.57 s\t0.2953\n",
      "start training (epoch=21)\n"
     ]
    },
    {
     "name": "stderr",
     "output_type": "stream",
     "text": [
      "Epoch 21: 100%|██████████| 16/16 [00:37<00:00,  2.33s/it]\n"
     ]
    },
    {
     "name": "stdout",
     "output_type": "stream",
     "text": [
      "train step took 38.3 s\n",
      "train loss = 0.26\n"
     ]
    },
    {
     "name": "stderr",
     "output_type": "stream",
     "text": [
      "Validation 21: 100%|██████████| 14/14 [00:19<00:00,  1.43s/it]\n"
     ]
    },
    {
     "name": "stdout",
     "output_type": "stream",
     "text": [
      "val step took 21.3 s\n",
      "val loss = 0.29\n",
      "[Epoch 21|val]\t21.31 s\t0.2908\n",
      "start training (epoch=22)\n"
     ]
    },
    {
     "name": "stderr",
     "output_type": "stream",
     "text": [
      "Epoch 22: 100%|██████████| 16/16 [00:32<00:00,  2.03s/it]\n"
     ]
    },
    {
     "name": "stdout",
     "output_type": "stream",
     "text": [
      "train step took 33.5 s\n",
      "train loss = 0.24\n"
     ]
    },
    {
     "name": "stderr",
     "output_type": "stream",
     "text": [
      "Validation 22: 100%|██████████| 14/14 [00:19<00:00,  1.36s/it]\n"
     ]
    },
    {
     "name": "stdout",
     "output_type": "stream",
     "text": [
      "val step took 20.1 s\n",
      "val loss = 0.29\n",
      "[Epoch 22|val]\t20.14 s\t0.2892\n",
      "start training (epoch=23)\n"
     ]
    },
    {
     "name": "stderr",
     "output_type": "stream",
     "text": [
      "Epoch 23: 100%|██████████| 16/16 [00:36<00:00,  2.27s/it]\n"
     ]
    },
    {
     "name": "stdout",
     "output_type": "stream",
     "text": [
      "train step took 37.5 s\n",
      "train loss = 0.24\n"
     ]
    },
    {
     "name": "stderr",
     "output_type": "stream",
     "text": [
      "Validation 23: 100%|██████████| 14/14 [00:21<00:00,  1.50s/it]\n"
     ]
    },
    {
     "name": "stdout",
     "output_type": "stream",
     "text": [
      "val step took 22.5 s\n",
      "val loss = 0.29\n",
      "[Epoch 23|val]\t22.51 s\t0.2886\n",
      "start training (epoch=24)\n"
     ]
    },
    {
     "name": "stderr",
     "output_type": "stream",
     "text": [
      "Epoch 24: 100%|██████████| 16/16 [00:27<00:00,  1.74s/it]\n"
     ]
    },
    {
     "name": "stdout",
     "output_type": "stream",
     "text": [
      "train step took 28.8 s\n",
      "train loss = 0.22\n"
     ]
    },
    {
     "name": "stderr",
     "output_type": "stream",
     "text": [
      "Validation 24: 100%|██████████| 14/14 [00:21<00:00,  1.56s/it]\n"
     ]
    },
    {
     "name": "stdout",
     "output_type": "stream",
     "text": [
      "val step took 23.0 s\n",
      "val loss = 0.29\n",
      "[Epoch 24|val]\t23.04 s\t0.2857\n",
      "finished\n",
      "python ../train.py --augment --normalize --images-dir \"/home/amritagupta/ssdprivate/data/Streamflow/fpe_stations/Avery Brook_River Right_01171000/FLOW_CFS\" --pairs-file \"/home/amritagupta/ssdprivate/data/Streamflow/Jeff_data/stations/14-Avery Brook_River Right_01171000/input_4275/pairs_1000.csv\" --output-dir \"/home/amritagupta/ssdprivate/repos/fpe-model/results/vary_annot_frac.jeff_data/Avery Brook_River Right_01171000/input_4275/pairs_1000\" --model-dir \"/home/amritagupta/ssdprivate/repos/fpe-model/results/vary_annot_frac.jeff_data/Avery Brook_River Right_01171000/input_4275/pairs_1000\"\n",
      "Namespace(images_dir='/home/amritagupta/ssdprivate/data/Streamflow/fpe_stations/Avery Brook_River Right_01171000/FLOW_CFS', pairs_file='/home/amritagupta/ssdprivate/data/Streamflow/Jeff_data/stations/14-Avery Brook_River Right_01171000/input_4275/pairs_1000.csv', output_dir='/home/amritagupta/ssdprivate/repos/fpe-model/results/vary_annot_frac.jeff_data/Avery Brook_River Right_01171000/input_4275/pairs_1000', model_dir='/home/amritagupta/ssdprivate/repos/fpe-model/results/vary_annot_frac.jeff_data/Avery Brook_River Right_01171000/input_4275/pairs_1000', gpu=0, num_workers=12, local=False, epochs=25, batch_size=64, lr=0.001, random_seed=1691, unfreeze_after=2, num_image_stats=1000, input_size=480, decolorize=False, augment=True, normalize=True)\n",
      "train()\n",
      "args:\n",
      "{'images_dir': '/home/amritagupta/ssdprivate/data/Streamflow/fpe_stations/Avery Brook_River Right_01171000/FLOW_CFS', 'pairs_file': '/home/amritagupta/ssdprivate/data/Streamflow/Jeff_data/stations/14-Avery Brook_River Right_01171000/input_4275/pairs_1000.csv', 'output_dir': '/home/amritagupta/ssdprivate/repos/fpe-model/results/vary_annot_frac.jeff_data/Avery Brook_River Right_01171000/input_4275/pairs_1000', 'model_dir': '/home/amritagupta/ssdprivate/repos/fpe-model/results/vary_annot_frac.jeff_data/Avery Brook_River Right_01171000/input_4275/pairs_1000', 'gpu': 0, 'num_workers': 12, 'local': False, 'epochs': 25, 'batch_size': 64, 'lr': 0.001, 'random_seed': 1691, 'unfreeze_after': 2, 'num_image_stats': 1000, 'input_size': 480, 'decolorize': False, 'augment': True, 'normalize': True}\n",
      "device: cuda:0\n",
      "output_dir: /home/amritagupta/ssdprivate/repos/fpe-model/results/vary_annot_frac.jeff_data/Avery Brook_River Right_01171000/input_4275/pairs_1000\n",
      "saved args: /home/amritagupta/ssdprivate/repos/fpe-model/results/vary_annot_frac.jeff_data/Avery Brook_River Right_01171000/input_4275/pairs_1000/args.json\n",
      "model_dir: /home/amritagupta/ssdprivate/repos/fpe-model/results/vary_annot_frac.jeff_data/Avery Brook_River Right_01171000/input_4275/pairs_1000\n",
      "set seeds (1691)\n"
     ]
    },
    {
     "name": "stderr",
     "output_type": "stream",
     "text": [
      "100%|██████████| 1000/1000 [01:39<00:00, 10.09it/s]\n"
     ]
    },
    {
     "name": "stdout",
     "output_type": "stream",
     "text": [
      "resize_shape: [480, 640]\n",
      "input_shape: [384, 512]\n",
      "creating train dataset\n",
      "creating val datasets\n",
      "val ds: 882\n",
      "creating data loaders\n",
      "initializing model\n",
      "start training\n",
      "start training (epoch=0)\n"
     ]
    },
    {
     "name": "stderr",
     "output_type": "stream",
     "text": [
      "Epoch 0: 100%|██████████| 32/32 [01:06<00:00,  2.08s/it]\n"
     ]
    },
    {
     "name": "stdout",
     "output_type": "stream",
     "text": [
      "train step took 67.5 s\n",
      "train loss = 0.70\n"
     ]
    },
    {
     "name": "stderr",
     "output_type": "stream",
     "text": [
      "Validation 0: 100%|██████████| 14/14 [00:22<00:00,  1.59s/it]\n"
     ]
    },
    {
     "name": "stdout",
     "output_type": "stream",
     "text": [
      "val step took 23.3 s\n",
      "val loss = 0.69\n",
      "[Epoch 0|val]\t23.31 s\t0.6871\n",
      "start training (epoch=1)\n"
     ]
    },
    {
     "name": "stderr",
     "output_type": "stream",
     "text": [
      "Epoch 1: 100%|██████████| 32/32 [00:55<00:00,  1.73s/it]\n"
     ]
    },
    {
     "name": "stdout",
     "output_type": "stream",
     "text": [
      "train step took 56.5 s\n",
      "train loss = 0.68\n"
     ]
    },
    {
     "name": "stderr",
     "output_type": "stream",
     "text": [
      "Validation 1: 100%|██████████| 14/14 [00:18<00:00,  1.30s/it]\n"
     ]
    },
    {
     "name": "stdout",
     "output_type": "stream",
     "text": [
      "val step took 19.2 s\n",
      "val loss = 0.67\n",
      "[Epoch 1|val]\t19.17 s\t0.6740\n",
      "unfreezing cnn body after epoch=1\n",
      "start training (epoch=2)\n"
     ]
    },
    {
     "name": "stderr",
     "output_type": "stream",
     "text": [
      "Epoch 2: 100%|██████████| 32/32 [00:59<00:00,  1.87s/it]\n"
     ]
    },
    {
     "name": "stdout",
     "output_type": "stream",
     "text": [
      "train step took 60.9 s\n",
      "train loss = 0.67\n"
     ]
    },
    {
     "name": "stderr",
     "output_type": "stream",
     "text": [
      "Validation 2: 100%|██████████| 14/14 [00:24<00:00,  1.75s/it]\n"
     ]
    },
    {
     "name": "stdout",
     "output_type": "stream",
     "text": [
      "val step took 25.9 s\n",
      "val loss = 0.65\n",
      "[Epoch 2|val]\t25.92 s\t0.6529\n",
      "start training (epoch=3)\n"
     ]
    },
    {
     "name": "stderr",
     "output_type": "stream",
     "text": [
      "Epoch 3: 100%|██████████| 32/32 [00:42<00:00,  1.33s/it]\n"
     ]
    },
    {
     "name": "stdout",
     "output_type": "stream",
     "text": [
      "train step took 43.8 s\n",
      "train loss = 0.64\n"
     ]
    },
    {
     "name": "stderr",
     "output_type": "stream",
     "text": [
      "Validation 3: 100%|██████████| 14/14 [00:30<00:00,  2.16s/it]\n"
     ]
    },
    {
     "name": "stdout",
     "output_type": "stream",
     "text": [
      "val step took 31.3 s\n",
      "val loss = 0.61\n",
      "[Epoch 3|val]\t31.26 s\t0.6113\n",
      "start training (epoch=4)\n"
     ]
    },
    {
     "name": "stderr",
     "output_type": "stream",
     "text": [
      "Epoch 4: 100%|██████████| 32/32 [00:54<00:00,  1.70s/it]\n"
     ]
    },
    {
     "name": "stdout",
     "output_type": "stream",
     "text": [
      "train step took 55.3 s\n",
      "train loss = 0.59\n"
     ]
    },
    {
     "name": "stderr",
     "output_type": "stream",
     "text": [
      "Validation 4: 100%|██████████| 14/14 [00:29<00:00,  2.08s/it]\n"
     ]
    },
    {
     "name": "stdout",
     "output_type": "stream",
     "text": [
      "val step took 30.2 s\n",
      "val loss = 0.54\n",
      "[Epoch 4|val]\t30.15 s\t0.5425\n",
      "start training (epoch=5)\n"
     ]
    },
    {
     "name": "stderr",
     "output_type": "stream",
     "text": [
      "Epoch 5: 100%|██████████| 32/32 [00:47<00:00,  1.48s/it]\n"
     ]
    },
    {
     "name": "stdout",
     "output_type": "stream",
     "text": [
      "train step took 48.4 s\n",
      "train loss = 0.52\n"
     ]
    },
    {
     "name": "stderr",
     "output_type": "stream",
     "text": [
      "Validation 5: 100%|██████████| 14/14 [00:26<00:00,  1.87s/it]\n"
     ]
    },
    {
     "name": "stdout",
     "output_type": "stream",
     "text": [
      "val step took 27.6 s\n",
      "val loss = 0.46\n",
      "[Epoch 5|val]\t27.63 s\t0.4564\n",
      "start training (epoch=6)\n"
     ]
    },
    {
     "name": "stderr",
     "output_type": "stream",
     "text": [
      "Epoch 6: 100%|██████████| 32/32 [00:46<00:00,  1.46s/it]\n"
     ]
    },
    {
     "name": "stdout",
     "output_type": "stream",
     "text": [
      "train step took 47.8 s\n",
      "train loss = 0.44\n"
     ]
    },
    {
     "name": "stderr",
     "output_type": "stream",
     "text": [
      "Validation 6: 100%|██████████| 14/14 [00:27<00:00,  1.98s/it]\n"
     ]
    },
    {
     "name": "stdout",
     "output_type": "stream",
     "text": [
      "val step took 29.0 s\n",
      "val loss = 0.39\n",
      "[Epoch 6|val]\t28.98 s\t0.3873\n",
      "start training (epoch=7)\n"
     ]
    },
    {
     "name": "stderr",
     "output_type": "stream",
     "text": [
      "Epoch 7: 100%|██████████| 32/32 [00:47<00:00,  1.49s/it]\n"
     ]
    },
    {
     "name": "stdout",
     "output_type": "stream",
     "text": [
      "train step took 49.2 s\n",
      "train loss = 0.39\n"
     ]
    },
    {
     "name": "stderr",
     "output_type": "stream",
     "text": [
      "Validation 7: 100%|██████████| 14/14 [00:28<00:00,  2.04s/it]\n"
     ]
    },
    {
     "name": "stdout",
     "output_type": "stream",
     "text": [
      "val step took 29.5 s\n",
      "val loss = 0.34\n",
      "[Epoch 7|val]\t29.51 s\t0.3394\n",
      "start training (epoch=8)\n"
     ]
    },
    {
     "name": "stderr",
     "output_type": "stream",
     "text": [
      "Epoch 8: 100%|██████████| 32/32 [00:39<00:00,  1.23s/it]\n"
     ]
    },
    {
     "name": "stdout",
     "output_type": "stream",
     "text": [
      "train step took 40.6 s\n",
      "train loss = 0.35\n"
     ]
    },
    {
     "name": "stderr",
     "output_type": "stream",
     "text": [
      "Validation 8: 100%|██████████| 14/14 [00:19<00:00,  1.36s/it]\n"
     ]
    },
    {
     "name": "stdout",
     "output_type": "stream",
     "text": [
      "val step took 20.1 s\n",
      "val loss = 0.32\n",
      "[Epoch 8|val]\t20.08 s\t0.3154\n",
      "start training (epoch=9)\n"
     ]
    },
    {
     "name": "stderr",
     "output_type": "stream",
     "text": [
      "Epoch 9: 100%|██████████| 32/32 [00:36<00:00,  1.13s/it]\n"
     ]
    },
    {
     "name": "stdout",
     "output_type": "stream",
     "text": [
      "train step took 37.1 s\n",
      "train loss = 0.33\n"
     ]
    },
    {
     "name": "stderr",
     "output_type": "stream",
     "text": [
      "Validation 9: 100%|██████████| 14/14 [00:19<00:00,  1.40s/it]\n"
     ]
    },
    {
     "name": "stdout",
     "output_type": "stream",
     "text": [
      "val step took 20.5 s\n",
      "val loss = 0.30\n",
      "[Epoch 9|val]\t20.54 s\t0.2964\n",
      "start training (epoch=10)\n"
     ]
    },
    {
     "name": "stderr",
     "output_type": "stream",
     "text": [
      "Epoch 10: 100%|██████████| 32/32 [00:55<00:00,  1.73s/it]\n"
     ]
    },
    {
     "name": "stdout",
     "output_type": "stream",
     "text": [
      "train step took 56.6 s\n",
      "train loss = 0.31\n"
     ]
    },
    {
     "name": "stderr",
     "output_type": "stream",
     "text": [
      "Validation 10: 100%|██████████| 14/14 [00:24<00:00,  1.79s/it]\n"
     ]
    },
    {
     "name": "stdout",
     "output_type": "stream",
     "text": [
      "val step took 26.3 s\n",
      "val loss = 0.29\n",
      "[Epoch 10|val]\t26.25 s\t0.2923\n",
      "start training (epoch=11)\n"
     ]
    },
    {
     "name": "stderr",
     "output_type": "stream",
     "text": [
      "Epoch 11: 100%|██████████| 32/32 [00:52<00:00,  1.63s/it]\n"
     ]
    },
    {
     "name": "stdout",
     "output_type": "stream",
     "text": [
      "train step took 53.2 s\n",
      "train loss = 0.30\n"
     ]
    },
    {
     "name": "stderr",
     "output_type": "stream",
     "text": [
      "Validation 11: 100%|██████████| 14/14 [00:21<00:00,  1.56s/it]\n"
     ]
    },
    {
     "name": "stdout",
     "output_type": "stream",
     "text": [
      "val step took 23.0 s\n",
      "val loss = 0.28\n",
      "[Epoch 11|val]\t22.98 s\t0.2784\n",
      "start training (epoch=12)\n"
     ]
    },
    {
     "name": "stderr",
     "output_type": "stream",
     "text": [
      "Epoch 12: 100%|██████████| 32/32 [00:48<00:00,  1.52s/it]\n"
     ]
    },
    {
     "name": "stdout",
     "output_type": "stream",
     "text": [
      "train step took 49.7 s\n",
      "train loss = 0.27\n"
     ]
    },
    {
     "name": "stderr",
     "output_type": "stream",
     "text": [
      "Validation 12: 100%|██████████| 14/14 [00:29<00:00,  2.11s/it]\n"
     ]
    },
    {
     "name": "stdout",
     "output_type": "stream",
     "text": [
      "val step took 30.9 s\n",
      "val loss = 0.27\n",
      "[Epoch 12|val]\t30.88 s\t0.2712\n",
      "start training (epoch=13)\n"
     ]
    },
    {
     "name": "stderr",
     "output_type": "stream",
     "text": [
      "Epoch 13: 100%|██████████| 32/32 [00:47<00:00,  1.48s/it]\n"
     ]
    },
    {
     "name": "stdout",
     "output_type": "stream",
     "text": [
      "train step took 48.7 s\n",
      "train loss = 0.26\n"
     ]
    },
    {
     "name": "stderr",
     "output_type": "stream",
     "text": [
      "Validation 13: 100%|██████████| 14/14 [00:24<00:00,  1.78s/it]\n"
     ]
    },
    {
     "name": "stdout",
     "output_type": "stream",
     "text": [
      "val step took 26.3 s\n",
      "val loss = 0.26\n",
      "[Epoch 13|val]\t26.30 s\t0.2627\n",
      "start training (epoch=14)\n"
     ]
    },
    {
     "name": "stderr",
     "output_type": "stream",
     "text": [
      "Epoch 14: 100%|██████████| 32/32 [00:59<00:00,  1.86s/it]\n"
     ]
    },
    {
     "name": "stdout",
     "output_type": "stream",
     "text": [
      "train step took 60.4 s\n",
      "train loss = 0.25\n"
     ]
    },
    {
     "name": "stderr",
     "output_type": "stream",
     "text": [
      "Validation 14: 100%|██████████| 14/14 [00:18<00:00,  1.30s/it]\n"
     ]
    },
    {
     "name": "stdout",
     "output_type": "stream",
     "text": [
      "val step took 19.3 s\n",
      "val loss = 0.27\n",
      "[Epoch 14|val]\t19.30 s\t0.2697\n",
      "start training (epoch=15)\n"
     ]
    },
    {
     "name": "stderr",
     "output_type": "stream",
     "text": [
      "Epoch 15: 100%|██████████| 32/32 [00:58<00:00,  1.84s/it]\n"
     ]
    },
    {
     "name": "stdout",
     "output_type": "stream",
     "text": [
      "train step took 60.0 s\n",
      "train loss = 0.24\n"
     ]
    },
    {
     "name": "stderr",
     "output_type": "stream",
     "text": [
      "Validation 15: 100%|██████████| 14/14 [00:24<00:00,  1.77s/it]\n"
     ]
    },
    {
     "name": "stdout",
     "output_type": "stream",
     "text": [
      "val step took 26.1 s\n",
      "val loss = 0.26\n",
      "[Epoch 15|val]\t26.10 s\t0.2635\n",
      "start training (epoch=16)\n"
     ]
    },
    {
     "name": "stderr",
     "output_type": "stream",
     "text": [
      "Epoch 16: 100%|██████████| 32/32 [00:42<00:00,  1.33s/it]\n"
     ]
    },
    {
     "name": "stdout",
     "output_type": "stream",
     "text": [
      "train step took 44.0 s\n",
      "train loss = 0.23\n"
     ]
    },
    {
     "name": "stderr",
     "output_type": "stream",
     "text": [
      "Validation 16: 100%|██████████| 14/14 [00:21<00:00,  1.57s/it]\n"
     ]
    },
    {
     "name": "stdout",
     "output_type": "stream",
     "text": [
      "val step took 22.9 s\n",
      "val loss = 0.25\n",
      "[Epoch 16|val]\t22.90 s\t0.2543\n",
      "start training (epoch=17)\n"
     ]
    },
    {
     "name": "stderr",
     "output_type": "stream",
     "text": [
      "Epoch 17: 100%|██████████| 32/32 [01:00<00:00,  1.90s/it]\n"
     ]
    },
    {
     "name": "stdout",
     "output_type": "stream",
     "text": [
      "train step took 62.0 s\n",
      "train loss = 0.23\n"
     ]
    },
    {
     "name": "stderr",
     "output_type": "stream",
     "text": [
      "Validation 17: 100%|██████████| 14/14 [00:19<00:00,  1.39s/it]\n"
     ]
    },
    {
     "name": "stdout",
     "output_type": "stream",
     "text": [
      "val step took 20.7 s\n",
      "val loss = 0.26\n",
      "[Epoch 17|val]\t20.65 s\t0.2629\n",
      "start training (epoch=18)\n"
     ]
    },
    {
     "name": "stderr",
     "output_type": "stream",
     "text": [
      "Epoch 18: 100%|██████████| 32/32 [00:54<00:00,  1.71s/it]\n"
     ]
    },
    {
     "name": "stdout",
     "output_type": "stream",
     "text": [
      "train step took 55.6 s\n",
      "train loss = 0.23\n"
     ]
    },
    {
     "name": "stderr",
     "output_type": "stream",
     "text": [
      "Validation 18: 100%|██████████| 14/14 [00:23<00:00,  1.65s/it]\n"
     ]
    },
    {
     "name": "stdout",
     "output_type": "stream",
     "text": [
      "val step took 24.3 s\n",
      "val loss = 0.25\n",
      "[Epoch 18|val]\t24.26 s\t0.2514\n",
      "start training (epoch=19)\n"
     ]
    },
    {
     "name": "stderr",
     "output_type": "stream",
     "text": [
      "Epoch 19: 100%|██████████| 32/32 [00:50<00:00,  1.57s/it]\n"
     ]
    },
    {
     "name": "stdout",
     "output_type": "stream",
     "text": [
      "train step took 51.4 s\n",
      "train loss = 0.22\n"
     ]
    },
    {
     "name": "stderr",
     "output_type": "stream",
     "text": [
      "Validation 19: 100%|██████████| 14/14 [00:26<00:00,  1.87s/it]\n"
     ]
    },
    {
     "name": "stdout",
     "output_type": "stream",
     "text": [
      "val step took 27.2 s\n",
      "val loss = 0.25\n",
      "[Epoch 19|val]\t27.18 s\t0.2537\n",
      "start training (epoch=20)\n"
     ]
    },
    {
     "name": "stderr",
     "output_type": "stream",
     "text": [
      "Epoch 20: 100%|██████████| 32/32 [00:59<00:00,  1.87s/it]\n"
     ]
    },
    {
     "name": "stdout",
     "output_type": "stream",
     "text": [
      "train step took 61.1 s\n",
      "train loss = 0.22\n"
     ]
    },
    {
     "name": "stderr",
     "output_type": "stream",
     "text": [
      "Validation 20: 100%|██████████| 14/14 [00:18<00:00,  1.35s/it]\n"
     ]
    },
    {
     "name": "stdout",
     "output_type": "stream",
     "text": [
      "val step took 20.2 s\n",
      "val loss = 0.26\n",
      "[Epoch 20|val]\t20.23 s\t0.2567\n",
      "start training (epoch=21)\n"
     ]
    },
    {
     "name": "stderr",
     "output_type": "stream",
     "text": [
      "Epoch 21: 100%|██████████| 32/32 [00:42<00:00,  1.34s/it]\n"
     ]
    },
    {
     "name": "stdout",
     "output_type": "stream",
     "text": [
      "train step took 43.9 s\n",
      "train loss = 0.20\n"
     ]
    },
    {
     "name": "stderr",
     "output_type": "stream",
     "text": [
      "Validation 21: 100%|██████████| 14/14 [00:18<00:00,  1.35s/it]\n"
     ]
    },
    {
     "name": "stdout",
     "output_type": "stream",
     "text": [
      "val step took 19.9 s\n",
      "val loss = 0.25\n",
      "[Epoch 21|val]\t19.94 s\t0.2546\n",
      "start training (epoch=22)\n"
     ]
    },
    {
     "name": "stderr",
     "output_type": "stream",
     "text": [
      "Epoch 22: 100%|██████████| 32/32 [00:40<00:00,  1.27s/it]\n"
     ]
    },
    {
     "name": "stdout",
     "output_type": "stream",
     "text": [
      "train step took 41.5 s\n",
      "train loss = 0.20\n"
     ]
    },
    {
     "name": "stderr",
     "output_type": "stream",
     "text": [
      "Validation 22: 100%|██████████| 14/14 [00:19<00:00,  1.36s/it]\n"
     ]
    },
    {
     "name": "stdout",
     "output_type": "stream",
     "text": [
      "val step took 20.1 s\n",
      "val loss = 0.26\n",
      "[Epoch 22|val]\t20.08 s\t0.2561\n",
      "start training (epoch=23)\n"
     ]
    },
    {
     "name": "stderr",
     "output_type": "stream",
     "text": [
      "Epoch 23: 100%|██████████| 32/32 [00:37<00:00,  1.18s/it]\n"
     ]
    },
    {
     "name": "stdout",
     "output_type": "stream",
     "text": [
      "train step took 38.7 s\n",
      "train loss = 0.20\n"
     ]
    },
    {
     "name": "stderr",
     "output_type": "stream",
     "text": [
      "Validation 23: 100%|██████████| 14/14 [00:27<00:00,  1.95s/it]\n"
     ]
    },
    {
     "name": "stdout",
     "output_type": "stream",
     "text": [
      "val step took 28.3 s\n",
      "val loss = 0.26\n",
      "[Epoch 23|val]\t28.33 s\t0.2592\n",
      "start training (epoch=24)\n"
     ]
    },
    {
     "name": "stderr",
     "output_type": "stream",
     "text": [
      "Epoch 24: 100%|██████████| 32/32 [00:54<00:00,  1.71s/it]\n"
     ]
    },
    {
     "name": "stdout",
     "output_type": "stream",
     "text": [
      "train step took 56.0 s\n",
      "train loss = 0.21\n"
     ]
    },
    {
     "name": "stderr",
     "output_type": "stream",
     "text": [
      "Validation 24: 100%|██████████| 14/14 [00:23<00:00,  1.66s/it]\n"
     ]
    },
    {
     "name": "stdout",
     "output_type": "stream",
     "text": [
      "val step took 24.3 s\n",
      "val loss = 0.25\n",
      "[Epoch 24|val]\t24.28 s\t0.2544\n",
      "finished\n",
      "python ../train.py --augment --normalize --images-dir \"/home/amritagupta/ssdprivate/data/Streamflow/fpe_stations/Avery Brook_River Right_01171000/FLOW_CFS\" --pairs-file \"/home/amritagupta/ssdprivate/data/Streamflow/Jeff_data/stations/14-Avery Brook_River Right_01171000/input_4275/pairs_1500.csv\" --output-dir \"/home/amritagupta/ssdprivate/repos/fpe-model/results/vary_annot_frac.jeff_data/Avery Brook_River Right_01171000/input_4275/pairs_1500\" --model-dir \"/home/amritagupta/ssdprivate/repos/fpe-model/results/vary_annot_frac.jeff_data/Avery Brook_River Right_01171000/input_4275/pairs_1500\"\n",
      "Namespace(images_dir='/home/amritagupta/ssdprivate/data/Streamflow/fpe_stations/Avery Brook_River Right_01171000/FLOW_CFS', pairs_file='/home/amritagupta/ssdprivate/data/Streamflow/Jeff_data/stations/14-Avery Brook_River Right_01171000/input_4275/pairs_1500.csv', output_dir='/home/amritagupta/ssdprivate/repos/fpe-model/results/vary_annot_frac.jeff_data/Avery Brook_River Right_01171000/input_4275/pairs_1500', model_dir='/home/amritagupta/ssdprivate/repos/fpe-model/results/vary_annot_frac.jeff_data/Avery Brook_River Right_01171000/input_4275/pairs_1500', gpu=0, num_workers=12, local=False, epochs=25, batch_size=64, lr=0.001, random_seed=1691, unfreeze_after=2, num_image_stats=1000, input_size=480, decolorize=False, augment=True, normalize=True)\n",
      "train()\n",
      "args:\n",
      "{'images_dir': '/home/amritagupta/ssdprivate/data/Streamflow/fpe_stations/Avery Brook_River Right_01171000/FLOW_CFS', 'pairs_file': '/home/amritagupta/ssdprivate/data/Streamflow/Jeff_data/stations/14-Avery Brook_River Right_01171000/input_4275/pairs_1500.csv', 'output_dir': '/home/amritagupta/ssdprivate/repos/fpe-model/results/vary_annot_frac.jeff_data/Avery Brook_River Right_01171000/input_4275/pairs_1500', 'model_dir': '/home/amritagupta/ssdprivate/repos/fpe-model/results/vary_annot_frac.jeff_data/Avery Brook_River Right_01171000/input_4275/pairs_1500', 'gpu': 0, 'num_workers': 12, 'local': False, 'epochs': 25, 'batch_size': 64, 'lr': 0.001, 'random_seed': 1691, 'unfreeze_after': 2, 'num_image_stats': 1000, 'input_size': 480, 'decolorize': False, 'augment': True, 'normalize': True}\n",
      "device: cuda:0\n",
      "output_dir: /home/amritagupta/ssdprivate/repos/fpe-model/results/vary_annot_frac.jeff_data/Avery Brook_River Right_01171000/input_4275/pairs_1500\n",
      "saved args: /home/amritagupta/ssdprivate/repos/fpe-model/results/vary_annot_frac.jeff_data/Avery Brook_River Right_01171000/input_4275/pairs_1500/args.json\n",
      "model_dir: /home/amritagupta/ssdprivate/repos/fpe-model/results/vary_annot_frac.jeff_data/Avery Brook_River Right_01171000/input_4275/pairs_1500\n",
      "set seeds (1691)\n"
     ]
    },
    {
     "name": "stderr",
     "output_type": "stream",
     "text": [
      "100%|██████████| 1000/1000 [01:42<00:00,  9.78it/s]\n"
     ]
    },
    {
     "name": "stdout",
     "output_type": "stream",
     "text": [
      "resize_shape: [480, 640]\n",
      "input_shape: [384, 512]\n",
      "creating train dataset\n",
      "creating val datasets\n",
      "val ds: 882\n",
      "creating data loaders\n",
      "initializing model\n",
      "start training\n",
      "start training (epoch=0)\n"
     ]
    },
    {
     "name": "stderr",
     "output_type": "stream",
     "text": [
      "Epoch 0: 100%|██████████| 47/47 [01:20<00:00,  1.71s/it]\n"
     ]
    },
    {
     "name": "stdout",
     "output_type": "stream",
     "text": [
      "train step took 80.8 s\n",
      "train loss = 0.69\n"
     ]
    },
    {
     "name": "stderr",
     "output_type": "stream",
     "text": [
      "Validation 0: 100%|██████████| 14/14 [00:25<00:00,  1.85s/it]\n"
     ]
    },
    {
     "name": "stdout",
     "output_type": "stream",
     "text": [
      "val step took 27.0 s\n",
      "val loss = 0.68\n",
      "[Epoch 0|val]\t26.98 s\t0.6818\n",
      "start training (epoch=1)\n"
     ]
    },
    {
     "name": "stderr",
     "output_type": "stream",
     "text": [
      "Epoch 1: 100%|██████████| 47/47 [00:57<00:00,  1.23s/it]\n"
     ]
    },
    {
     "name": "stdout",
     "output_type": "stream",
     "text": [
      "train step took 58.6 s\n",
      "train loss = 0.67\n"
     ]
    },
    {
     "name": "stderr",
     "output_type": "stream",
     "text": [
      "Validation 1: 100%|██████████| 14/14 [00:22<00:00,  1.63s/it]\n"
     ]
    },
    {
     "name": "stdout",
     "output_type": "stream",
     "text": [
      "val step took 24.0 s\n",
      "val loss = 0.66\n",
      "[Epoch 1|val]\t23.97 s\t0.6635\n",
      "unfreezing cnn body after epoch=1\n",
      "start training (epoch=2)\n"
     ]
    },
    {
     "name": "stderr",
     "output_type": "stream",
     "text": [
      "Epoch 2: 100%|██████████| 47/47 [01:29<00:00,  1.90s/it]\n"
     ]
    },
    {
     "name": "stdout",
     "output_type": "stream",
     "text": [
      "train step took 90.1 s\n",
      "train loss = 0.65\n"
     ]
    },
    {
     "name": "stderr",
     "output_type": "stream",
     "text": [
      "Validation 2: 100%|██████████| 14/14 [00:22<00:00,  1.60s/it]\n"
     ]
    },
    {
     "name": "stdout",
     "output_type": "stream",
     "text": [
      "val step took 23.5 s\n",
      "val loss = 0.62\n",
      "[Epoch 2|val]\t23.55 s\t0.6171\n",
      "start training (epoch=3)\n"
     ]
    },
    {
     "name": "stderr",
     "output_type": "stream",
     "text": [
      "Epoch 3: 100%|██████████| 47/47 [01:05<00:00,  1.40s/it]\n"
     ]
    },
    {
     "name": "stdout",
     "output_type": "stream",
     "text": [
      "train step took 66.4 s\n",
      "train loss = 0.58\n"
     ]
    },
    {
     "name": "stderr",
     "output_type": "stream",
     "text": [
      "Validation 3: 100%|██████████| 14/14 [00:23<00:00,  1.67s/it]\n"
     ]
    },
    {
     "name": "stdout",
     "output_type": "stream",
     "text": [
      "val step took 24.3 s\n",
      "val loss = 0.52\n",
      "[Epoch 3|val]\t24.35 s\t0.5166\n",
      "start training (epoch=4)\n"
     ]
    },
    {
     "name": "stderr",
     "output_type": "stream",
     "text": [
      "Epoch 4: 100%|██████████| 47/47 [01:13<00:00,  1.56s/it]\n"
     ]
    },
    {
     "name": "stdout",
     "output_type": "stream",
     "text": [
      "train step took 74.1 s\n",
      "train loss = 0.47\n"
     ]
    },
    {
     "name": "stderr",
     "output_type": "stream",
     "text": [
      "Validation 4: 100%|██████████| 14/14 [00:24<00:00,  1.78s/it]\n"
     ]
    },
    {
     "name": "stdout",
     "output_type": "stream",
     "text": [
      "val step took 26.0 s\n",
      "val loss = 0.41\n",
      "[Epoch 4|val]\t25.99 s\t0.4075\n",
      "start training (epoch=5)\n"
     ]
    },
    {
     "name": "stderr",
     "output_type": "stream",
     "text": [
      "Epoch 5: 100%|██████████| 47/47 [01:15<00:00,  1.61s/it]\n"
     ]
    },
    {
     "name": "stdout",
     "output_type": "stream",
     "text": [
      "train step took 76.8 s\n",
      "train loss = 0.38\n"
     ]
    },
    {
     "name": "stderr",
     "output_type": "stream",
     "text": [
      "Validation 5: 100%|██████████| 14/14 [00:23<00:00,  1.70s/it]\n"
     ]
    },
    {
     "name": "stdout",
     "output_type": "stream",
     "text": [
      "val step took 24.6 s\n",
      "val loss = 0.34\n",
      "[Epoch 5|val]\t24.61 s\t0.3383\n",
      "start training (epoch=6)\n"
     ]
    },
    {
     "name": "stderr",
     "output_type": "stream",
     "text": [
      "Epoch 6: 100%|██████████| 47/47 [01:14<00:00,  1.59s/it]\n"
     ]
    },
    {
     "name": "stdout",
     "output_type": "stream",
     "text": [
      "train step took 75.9 s\n",
      "train loss = 0.33\n"
     ]
    },
    {
     "name": "stderr",
     "output_type": "stream",
     "text": [
      "Validation 6: 100%|██████████| 14/14 [00:24<00:00,  1.78s/it]\n"
     ]
    },
    {
     "name": "stdout",
     "output_type": "stream",
     "text": [
      "val step took 26.0 s\n",
      "val loss = 0.31\n",
      "[Epoch 6|val]\t25.95 s\t0.3051\n",
      "start training (epoch=7)\n"
     ]
    },
    {
     "name": "stderr",
     "output_type": "stream",
     "text": [
      "Epoch 7: 100%|██████████| 47/47 [01:04<00:00,  1.37s/it]\n"
     ]
    },
    {
     "name": "stdout",
     "output_type": "stream",
     "text": [
      "train step took 64.9 s\n",
      "train loss = 0.31\n"
     ]
    },
    {
     "name": "stderr",
     "output_type": "stream",
     "text": [
      "Validation 7: 100%|██████████| 14/14 [00:25<00:00,  1.82s/it]\n"
     ]
    },
    {
     "name": "stdout",
     "output_type": "stream",
     "text": [
      "val step took 26.5 s\n",
      "val loss = 0.29\n",
      "[Epoch 7|val]\t26.50 s\t0.2903\n",
      "start training (epoch=8)\n"
     ]
    },
    {
     "name": "stderr",
     "output_type": "stream",
     "text": [
      "Epoch 8: 100%|██████████| 47/47 [01:13<00:00,  1.56s/it]\n"
     ]
    },
    {
     "name": "stdout",
     "output_type": "stream",
     "text": [
      "train step took 74.2 s\n",
      "train loss = 0.29\n"
     ]
    },
    {
     "name": "stderr",
     "output_type": "stream",
     "text": [
      "Validation 8: 100%|██████████| 14/14 [00:22<00:00,  1.64s/it]\n"
     ]
    },
    {
     "name": "stdout",
     "output_type": "stream",
     "text": [
      "val step took 23.8 s\n",
      "val loss = 0.28\n",
      "[Epoch 8|val]\t23.81 s\t0.2801\n",
      "start training (epoch=9)\n"
     ]
    },
    {
     "name": "stderr",
     "output_type": "stream",
     "text": [
      "Epoch 9: 100%|██████████| 47/47 [01:13<00:00,  1.57s/it]\n"
     ]
    },
    {
     "name": "stdout",
     "output_type": "stream",
     "text": [
      "train step took 74.7 s\n",
      "train loss = 0.27\n"
     ]
    },
    {
     "name": "stderr",
     "output_type": "stream",
     "text": [
      "Validation 9: 100%|██████████| 14/14 [00:24<00:00,  1.77s/it]\n"
     ]
    },
    {
     "name": "stdout",
     "output_type": "stream",
     "text": [
      "val step took 25.8 s\n",
      "val loss = 0.27\n",
      "[Epoch 9|val]\t25.80 s\t0.2696\n",
      "start training (epoch=10)\n"
     ]
    },
    {
     "name": "stderr",
     "output_type": "stream",
     "text": [
      "Epoch 10: 100%|██████████| 47/47 [01:06<00:00,  1.40s/it]\n"
     ]
    },
    {
     "name": "stdout",
     "output_type": "stream",
     "text": [
      "train step took 66.9 s\n",
      "train loss = 0.26\n"
     ]
    },
    {
     "name": "stderr",
     "output_type": "stream",
     "text": [
      "Validation 10: 100%|██████████| 14/14 [00:25<00:00,  1.85s/it]\n"
     ]
    },
    {
     "name": "stdout",
     "output_type": "stream",
     "text": [
      "val step took 27.0 s\n",
      "val loss = 0.27\n",
      "[Epoch 10|val]\t27.03 s\t0.2733\n",
      "start training (epoch=11)\n"
     ]
    },
    {
     "name": "stderr",
     "output_type": "stream",
     "text": [
      "Epoch 11: 100%|██████████| 47/47 [01:01<00:00,  1.31s/it]\n"
     ]
    },
    {
     "name": "stdout",
     "output_type": "stream",
     "text": [
      "train step took 62.7 s\n",
      "train loss = 0.25\n"
     ]
    },
    {
     "name": "stderr",
     "output_type": "stream",
     "text": [
      "Validation 11: 100%|██████████| 14/14 [00:24<00:00,  1.74s/it]\n"
     ]
    },
    {
     "name": "stdout",
     "output_type": "stream",
     "text": [
      "val step took 25.5 s\n",
      "val loss = 0.27\n",
      "[Epoch 11|val]\t25.47 s\t0.2728\n",
      "start training (epoch=12)\n"
     ]
    },
    {
     "name": "stderr",
     "output_type": "stream",
     "text": [
      "Epoch 12: 100%|██████████| 47/47 [01:16<00:00,  1.63s/it]\n"
     ]
    },
    {
     "name": "stdout",
     "output_type": "stream",
     "text": [
      "train step took 77.3 s\n",
      "train loss = 0.24\n"
     ]
    },
    {
     "name": "stderr",
     "output_type": "stream",
     "text": [
      "Validation 12: 100%|██████████| 14/14 [00:20<00:00,  1.49s/it]\n"
     ]
    },
    {
     "name": "stdout",
     "output_type": "stream",
     "text": [
      "val step took 22.0 s\n",
      "val loss = 0.27\n",
      "[Epoch 12|val]\t22.04 s\t0.2717\n",
      "start training (epoch=13)\n"
     ]
    },
    {
     "name": "stderr",
     "output_type": "stream",
     "text": [
      "Epoch 13: 100%|██████████| 47/47 [01:11<00:00,  1.51s/it]\n"
     ]
    },
    {
     "name": "stdout",
     "output_type": "stream",
     "text": [
      "train step took 72.0 s\n",
      "train loss = 0.24\n"
     ]
    },
    {
     "name": "stderr",
     "output_type": "stream",
     "text": [
      "Validation 13: 100%|██████████| 14/14 [00:26<00:00,  1.89s/it]\n"
     ]
    },
    {
     "name": "stdout",
     "output_type": "stream",
     "text": [
      "val step took 27.7 s\n",
      "val loss = 0.26\n",
      "[Epoch 13|val]\t27.66 s\t0.2632\n",
      "start training (epoch=14)\n"
     ]
    },
    {
     "name": "stderr",
     "output_type": "stream",
     "text": [
      "Epoch 14: 100%|██████████| 47/47 [00:59<00:00,  1.27s/it]\n"
     ]
    },
    {
     "name": "stdout",
     "output_type": "stream",
     "text": [
      "train step took 60.6 s\n",
      "train loss = 0.23\n"
     ]
    },
    {
     "name": "stderr",
     "output_type": "stream",
     "text": [
      "Validation 14: 100%|██████████| 14/14 [00:23<00:00,  1.68s/it]\n"
     ]
    },
    {
     "name": "stdout",
     "output_type": "stream",
     "text": [
      "val step took 24.6 s\n",
      "val loss = 0.27\n",
      "[Epoch 14|val]\t24.64 s\t0.2657\n",
      "start training (epoch=15)\n"
     ]
    },
    {
     "name": "stderr",
     "output_type": "stream",
     "text": [
      "Epoch 15: 100%|██████████| 47/47 [01:17<00:00,  1.66s/it]\n"
     ]
    },
    {
     "name": "stdout",
     "output_type": "stream",
     "text": [
      "train step took 78.9 s\n",
      "train loss = 0.23\n"
     ]
    },
    {
     "name": "stderr",
     "output_type": "stream",
     "text": [
      "Validation 15: 100%|██████████| 14/14 [00:19<00:00,  1.38s/it]\n"
     ]
    },
    {
     "name": "stdout",
     "output_type": "stream",
     "text": [
      "val step took 20.3 s\n",
      "val loss = 0.27\n",
      "[Epoch 15|val]\t20.27 s\t0.2693\n",
      "start training (epoch=16)\n"
     ]
    },
    {
     "name": "stderr",
     "output_type": "stream",
     "text": [
      "Epoch 16: 100%|██████████| 47/47 [01:05<00:00,  1.39s/it]\n"
     ]
    },
    {
     "name": "stdout",
     "output_type": "stream",
     "text": [
      "train step took 66.1 s\n",
      "train loss = 0.21\n"
     ]
    },
    {
     "name": "stderr",
     "output_type": "stream",
     "text": [
      "Validation 16: 100%|██████████| 14/14 [00:27<00:00,  1.98s/it]\n"
     ]
    },
    {
     "name": "stdout",
     "output_type": "stream",
     "text": [
      "val step took 28.8 s\n",
      "val loss = 0.26\n",
      "[Epoch 16|val]\t28.79 s\t0.2644\n",
      "start training (epoch=17)\n"
     ]
    },
    {
     "name": "stderr",
     "output_type": "stream",
     "text": [
      "Epoch 17: 100%|██████████| 47/47 [01:03<00:00,  1.34s/it]\n"
     ]
    },
    {
     "name": "stdout",
     "output_type": "stream",
     "text": [
      "train step took 64.3 s\n",
      "train loss = 0.22\n"
     ]
    },
    {
     "name": "stderr",
     "output_type": "stream",
     "text": [
      "Validation 17: 100%|██████████| 14/14 [00:21<00:00,  1.52s/it]\n"
     ]
    },
    {
     "name": "stdout",
     "output_type": "stream",
     "text": [
      "val step took 22.2 s\n",
      "val loss = 0.26\n",
      "[Epoch 17|val]\t22.18 s\t0.2599\n",
      "start training (epoch=18)\n"
     ]
    },
    {
     "name": "stderr",
     "output_type": "stream",
     "text": [
      "Epoch 18: 100%|██████████| 47/47 [01:08<00:00,  1.45s/it]\n"
     ]
    },
    {
     "name": "stdout",
     "output_type": "stream",
     "text": [
      "train step took 69.2 s\n",
      "train loss = 0.22\n"
     ]
    },
    {
     "name": "stderr",
     "output_type": "stream",
     "text": [
      "Validation 18: 100%|██████████| 14/14 [00:19<00:00,  1.38s/it]\n"
     ]
    },
    {
     "name": "stdout",
     "output_type": "stream",
     "text": [
      "val step took 20.2 s\n",
      "val loss = 0.26\n",
      "[Epoch 18|val]\t20.25 s\t0.2624\n",
      "start training (epoch=19)\n"
     ]
    },
    {
     "name": "stderr",
     "output_type": "stream",
     "text": [
      "Epoch 19: 100%|██████████| 47/47 [01:08<00:00,  1.47s/it]\n"
     ]
    },
    {
     "name": "stdout",
     "output_type": "stream",
     "text": [
      "train step took 69.7 s\n",
      "train loss = 0.21\n"
     ]
    },
    {
     "name": "stderr",
     "output_type": "stream",
     "text": [
      "Validation 19: 100%|██████████| 14/14 [00:25<00:00,  1.80s/it]\n"
     ]
    },
    {
     "name": "stdout",
     "output_type": "stream",
     "text": [
      "val step took 26.2 s\n",
      "val loss = 0.26\n",
      "[Epoch 19|val]\t26.21 s\t0.2575\n",
      "start training (epoch=20)\n"
     ]
    },
    {
     "name": "stderr",
     "output_type": "stream",
     "text": [
      "Epoch 20: 100%|██████████| 47/47 [01:00<00:00,  1.29s/it]\n"
     ]
    },
    {
     "name": "stdout",
     "output_type": "stream",
     "text": [
      "train step took 61.5 s\n",
      "train loss = 0.21\n"
     ]
    },
    {
     "name": "stderr",
     "output_type": "stream",
     "text": [
      "Validation 20: 100%|██████████| 14/14 [00:22<00:00,  1.63s/it]\n"
     ]
    },
    {
     "name": "stdout",
     "output_type": "stream",
     "text": [
      "val step took 23.9 s\n",
      "val loss = 0.26\n",
      "[Epoch 20|val]\t23.92 s\t0.2632\n",
      "start training (epoch=21)\n"
     ]
    },
    {
     "name": "stderr",
     "output_type": "stream",
     "text": [
      "Epoch 21: 100%|██████████| 47/47 [01:17<00:00,  1.64s/it]\n"
     ]
    },
    {
     "name": "stdout",
     "output_type": "stream",
     "text": [
      "train step took 77.8 s\n",
      "train loss = 0.21\n"
     ]
    },
    {
     "name": "stderr",
     "output_type": "stream",
     "text": [
      "Validation 21: 100%|██████████| 14/14 [00:19<00:00,  1.37s/it]\n"
     ]
    },
    {
     "name": "stdout",
     "output_type": "stream",
     "text": [
      "val step took 20.2 s\n",
      "val loss = 0.27\n",
      "[Epoch 21|val]\t20.21 s\t0.2694\n",
      "start training (epoch=22)\n"
     ]
    },
    {
     "name": "stderr",
     "output_type": "stream",
     "text": [
      "Epoch 22: 100%|██████████| 47/47 [00:58<00:00,  1.24s/it]\n"
     ]
    },
    {
     "name": "stdout",
     "output_type": "stream",
     "text": [
      "train step took 59.0 s\n",
      "train loss = 0.21\n"
     ]
    },
    {
     "name": "stderr",
     "output_type": "stream",
     "text": [
      "Validation 22: 100%|██████████| 14/14 [00:22<00:00,  1.60s/it]\n"
     ]
    },
    {
     "name": "stdout",
     "output_type": "stream",
     "text": [
      "val step took 23.5 s\n",
      "val loss = 0.26\n",
      "[Epoch 22|val]\t23.45 s\t0.2624\n",
      "start training (epoch=23)\n"
     ]
    },
    {
     "name": "stderr",
     "output_type": "stream",
     "text": [
      "Epoch 23: 100%|██████████| 47/47 [01:07<00:00,  1.43s/it]\n"
     ]
    },
    {
     "name": "stdout",
     "output_type": "stream",
     "text": [
      "train step took 68.0 s\n",
      "train loss = 0.20\n"
     ]
    },
    {
     "name": "stderr",
     "output_type": "stream",
     "text": [
      "Validation 23: 100%|██████████| 14/14 [00:23<00:00,  1.65s/it]\n"
     ]
    },
    {
     "name": "stdout",
     "output_type": "stream",
     "text": [
      "val step took 24.3 s\n",
      "val loss = 0.27\n",
      "[Epoch 23|val]\t24.27 s\t0.2664\n",
      "start training (epoch=24)\n"
     ]
    },
    {
     "name": "stderr",
     "output_type": "stream",
     "text": [
      "Epoch 24: 100%|██████████| 47/47 [01:01<00:00,  1.30s/it]\n"
     ]
    },
    {
     "name": "stdout",
     "output_type": "stream",
     "text": [
      "train step took 61.9 s\n",
      "train loss = 0.20\n"
     ]
    },
    {
     "name": "stderr",
     "output_type": "stream",
     "text": [
      "Validation 24: 100%|██████████| 14/14 [00:20<00:00,  1.46s/it]\n"
     ]
    },
    {
     "name": "stdout",
     "output_type": "stream",
     "text": [
      "val step took 21.6 s\n",
      "val loss = 0.27\n",
      "[Epoch 24|val]\t21.57 s\t0.2656\n",
      "finished\n"
     ]
    }
   ],
   "source": [
    "for jeff_station in jeff_station_dirs[:4]:\n",
    "    station = '-'.join(jeff_station.split('-')[1:])\n",
    "    station_data_dir = fpe_data_dir / station / 'FLOW_CFS'\n",
    "    # check it exists\n",
    "    if not station_data_dir.exists():\n",
    "        print(f'{station} does not exist')\n",
    "        continue\n",
    "    \n",
    "    pairs_files = list((jeff_data_dir / jeff_station / f'input_{random_seed}').glob('*.csv'))\n",
    "    for pair_file in pairs_files:\n",
    "        output_dir = Path(f'../../results/vary_annot_frac.jeff_data/{station}/input_{random_seed}/{pair_file.stem}').resolve()\n",
    "        output_dir.mkdir(parents=True, exist_ok=True)\n",
    "\n",
    "        command = f'python ../train.py --augment --normalize --images-dir \"{station_data_dir}\" --pairs-file \"{pair_file}\" --output-dir \"{output_dir}\" --model-dir \"{output_dir}\"'\n",
    "        print(command)\n",
    "        subprocess.run(command, shell=True)\n"
   ]
  },
  {
   "cell_type": "code",
   "execution_count": null,
   "metadata": {},
   "outputs": [],
   "source": []
  },
  {
   "cell_type": "code",
   "execution_count": null,
   "metadata": {},
   "outputs": [],
   "source": []
  }
 ],
 "metadata": {
  "kernelspec": {
   "display_name": "fpe-model.dev-amrita",
   "language": "python",
   "name": "python3"
  },
  "language_info": {
   "codemirror_mode": {
    "name": "ipython",
    "version": 3
   },
   "file_extension": ".py",
   "mimetype": "text/x-python",
   "name": "python",
   "nbconvert_exporter": "python",
   "pygments_lexer": "ipython3",
   "version": "3.9.16"
  }
 },
 "nbformat": 4,
 "nbformat_minor": 2
}
