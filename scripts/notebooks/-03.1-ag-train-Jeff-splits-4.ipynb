{
 "cells": [
  {
   "cell_type": "code",
   "execution_count": 1,
   "metadata": {},
   "outputs": [],
   "source": [
    "import numpy as np\n",
    "import pandas as pd\n",
    "import subprocess\n",
    "from pathlib import Path\n"
   ]
  },
  {
   "cell_type": "code",
   "execution_count": 2,
   "metadata": {},
   "outputs": [],
   "source": [
    "jeff_data_dir = Path('../../../../data/Streamflow/Jeff_data/stations').resolve()\n",
    "jeff_station_dirs = sorted([x.name for x in jeff_data_dir.iterdir() if x.is_dir()])\n",
    "\n",
    "fpe_data_dir = Path('../../../../data/Streamflow/fpe_stations/').resolve()\n",
    "\n",
    "random_seeds = [4275, 3274, 1632, 8436, 2927]\n",
    "random_seed = random_seeds[0]"
   ]
  },
  {
   "cell_type": "code",
   "execution_count": 3,
   "metadata": {},
   "outputs": [
    {
     "name": "stdout",
     "output_type": "stream",
     "text": [
      "python ../train.py --augment --normalize --images-dir \"/home/amritagupta/ssdprivate/data/Streamflow/fpe_stations/West Brook 0_01171100/FLOW_CFS\" --pairs-file \"/home/amritagupta/ssdprivate/data/Streamflow/Jeff_data/stations/29-West Brook 0_01171100/input_4275/pairs_500.csv\" --output-dir \"/home/amritagupta/ssdprivate/repos/fpe-model/results/vary_annot_frac.jeff_data/West Brook 0_01171100/input_4275/pairs_500\" --model-dir \"/home/amritagupta/ssdprivate/repos/fpe-model/results/vary_annot_frac.jeff_data/West Brook 0_01171100/input_4275/pairs_500\" --gpu 3\n",
      "Namespace(images_dir='/home/amritagupta/ssdprivate/data/Streamflow/fpe_stations/West Brook 0_01171100/FLOW_CFS', pairs_file='/home/amritagupta/ssdprivate/data/Streamflow/Jeff_data/stations/29-West Brook 0_01171100/input_4275/pairs_500.csv', output_dir='/home/amritagupta/ssdprivate/repos/fpe-model/results/vary_annot_frac.jeff_data/West Brook 0_01171100/input_4275/pairs_500', model_dir='/home/amritagupta/ssdprivate/repos/fpe-model/results/vary_annot_frac.jeff_data/West Brook 0_01171100/input_4275/pairs_500', gpu=3, num_workers=12, local=False, epochs=25, batch_size=64, lr=0.001, random_seed=1691, unfreeze_after=2, num_image_stats=1000, input_size=480, decolorize=False, augment=True, normalize=True)\n",
      "train()\n",
      "args:\n",
      "{'images_dir': '/home/amritagupta/ssdprivate/data/Streamflow/fpe_stations/West Brook 0_01171100/FLOW_CFS', 'pairs_file': '/home/amritagupta/ssdprivate/data/Streamflow/Jeff_data/stations/29-West Brook 0_01171100/input_4275/pairs_500.csv', 'output_dir': '/home/amritagupta/ssdprivate/repos/fpe-model/results/vary_annot_frac.jeff_data/West Brook 0_01171100/input_4275/pairs_500', 'model_dir': '/home/amritagupta/ssdprivate/repos/fpe-model/results/vary_annot_frac.jeff_data/West Brook 0_01171100/input_4275/pairs_500', 'gpu': 3, 'num_workers': 12, 'local': False, 'epochs': 25, 'batch_size': 64, 'lr': 0.001, 'random_seed': 1691, 'unfreeze_after': 2, 'num_image_stats': 1000, 'input_size': 480, 'decolorize': False, 'augment': True, 'normalize': True}\n",
      "device: cuda:3\n",
      "output_dir: /home/amritagupta/ssdprivate/repos/fpe-model/results/vary_annot_frac.jeff_data/West Brook 0_01171100/input_4275/pairs_500\n",
      "saved args: /home/amritagupta/ssdprivate/repos/fpe-model/results/vary_annot_frac.jeff_data/West Brook 0_01171100/input_4275/pairs_500/args.json\n",
      "model_dir: /home/amritagupta/ssdprivate/repos/fpe-model/results/vary_annot_frac.jeff_data/West Brook 0_01171100/input_4275/pairs_500\n",
      "set seeds (1691)\n"
     ]
    },
    {
     "name": "stderr",
     "output_type": "stream",
     "text": [
      "100%|██████████| 972/972 [01:28<00:00, 10.97it/s]\n"
     ]
    },
    {
     "name": "stdout",
     "output_type": "stream",
     "text": [
      "resize_shape: [480, 640]\n",
      "input_shape: [384, 512]\n",
      "creating train dataset\n",
      "creating val datasets\n",
      "val ds: 3176\n",
      "creating data loaders\n",
      "initializing model\n",
      "start training\n",
      "start training (epoch=0)\n"
     ]
    },
    {
     "name": "stderr",
     "output_type": "stream",
     "text": [
      "Epoch 0: 100%|██████████| 16/16 [00:26<00:00,  1.63s/it]\n"
     ]
    },
    {
     "name": "stdout",
     "output_type": "stream",
     "text": [
      "train step took 26.8 s\n",
      "train loss = 0.69\n"
     ]
    },
    {
     "name": "stderr",
     "output_type": "stream",
     "text": [
      "Validation 0: 100%|██████████| 50/50 [01:03<00:00,  1.26s/it]\n"
     ]
    },
    {
     "name": "stdout",
     "output_type": "stream",
     "text": [
      "val step took 63.9 s\n",
      "val loss = 0.68\n",
      "[Epoch 0|val]\t63.89 s\t0.6836\n",
      "start training (epoch=1)\n"
     ]
    },
    {
     "name": "stderr",
     "output_type": "stream",
     "text": [
      "Epoch 1: 100%|██████████| 16/16 [00:27<00:00,  1.69s/it]\n"
     ]
    },
    {
     "name": "stdout",
     "output_type": "stream",
     "text": [
      "train step took 27.7 s\n",
      "train loss = 0.68\n"
     ]
    },
    {
     "name": "stderr",
     "output_type": "stream",
     "text": [
      "Validation 1: 100%|██████████| 50/50 [00:53<00:00,  1.07s/it]\n"
     ]
    },
    {
     "name": "stdout",
     "output_type": "stream",
     "text": [
      "val step took 54.3 s\n",
      "val loss = 0.67\n",
      "[Epoch 1|val]\t54.35 s\t0.6712\n",
      "unfreezing cnn body after epoch=1\n",
      "start training (epoch=2)\n"
     ]
    },
    {
     "name": "stderr",
     "output_type": "stream",
     "text": [
      "Epoch 2: 100%|██████████| 16/16 [00:25<00:00,  1.59s/it]\n"
     ]
    },
    {
     "name": "stdout",
     "output_type": "stream",
     "text": [
      "train step took 26.4 s\n",
      "train loss = 0.67\n"
     ]
    },
    {
     "name": "stderr",
     "output_type": "stream",
     "text": [
      "Validation 2: 100%|██████████| 50/50 [00:46<00:00,  1.06it/s]\n"
     ]
    },
    {
     "name": "stdout",
     "output_type": "stream",
     "text": [
      "val step took 47.8 s\n",
      "val loss = 0.66\n",
      "[Epoch 2|val]\t47.80 s\t0.6579\n",
      "start training (epoch=3)\n"
     ]
    },
    {
     "name": "stderr",
     "output_type": "stream",
     "text": [
      "Epoch 3: 100%|██████████| 16/16 [00:29<00:00,  1.81s/it]\n"
     ]
    },
    {
     "name": "stdout",
     "output_type": "stream",
     "text": [
      "train step took 29.7 s\n",
      "train loss = 0.65\n"
     ]
    },
    {
     "name": "stderr",
     "output_type": "stream",
     "text": [
      "Validation 3: 100%|██████████| 50/50 [00:53<00:00,  1.08s/it]\n"
     ]
    },
    {
     "name": "stdout",
     "output_type": "stream",
     "text": [
      "val step took 54.6 s\n",
      "val loss = 0.63\n",
      "[Epoch 3|val]\t54.65 s\t0.6323\n",
      "start training (epoch=4)\n"
     ]
    },
    {
     "name": "stderr",
     "output_type": "stream",
     "text": [
      "Epoch 4: 100%|██████████| 16/16 [00:25<00:00,  1.59s/it]\n"
     ]
    },
    {
     "name": "stdout",
     "output_type": "stream",
     "text": [
      "train step took 26.4 s\n",
      "train loss = 0.62\n"
     ]
    },
    {
     "name": "stderr",
     "output_type": "stream",
     "text": [
      "Validation 4: 100%|██████████| 50/50 [00:44<00:00,  1.13it/s]\n"
     ]
    },
    {
     "name": "stdout",
     "output_type": "stream",
     "text": [
      "val step took 45.3 s\n",
      "val loss = 0.60\n",
      "[Epoch 4|val]\t45.33 s\t0.5964\n",
      "start training (epoch=5)\n"
     ]
    },
    {
     "name": "stderr",
     "output_type": "stream",
     "text": [
      "Epoch 5: 100%|██████████| 16/16 [00:27<00:00,  1.71s/it]\n"
     ]
    },
    {
     "name": "stdout",
     "output_type": "stream",
     "text": [
      "train step took 28.5 s\n",
      "train loss = 0.59\n"
     ]
    },
    {
     "name": "stderr",
     "output_type": "stream",
     "text": [
      "Validation 5: 100%|██████████| 50/50 [00:49<00:00,  1.01it/s]\n"
     ]
    },
    {
     "name": "stdout",
     "output_type": "stream",
     "text": [
      "val step took 50.3 s\n",
      "val loss = 0.55\n",
      "[Epoch 5|val]\t50.28 s\t0.5477\n",
      "start training (epoch=6)\n"
     ]
    },
    {
     "name": "stderr",
     "output_type": "stream",
     "text": [
      "Epoch 6: 100%|██████████| 16/16 [00:25<00:00,  1.62s/it]\n"
     ]
    },
    {
     "name": "stdout",
     "output_type": "stream",
     "text": [
      "train step took 26.9 s\n",
      "train loss = 0.53\n"
     ]
    },
    {
     "name": "stderr",
     "output_type": "stream",
     "text": [
      "Validation 6: 100%|██████████| 50/50 [00:47<00:00,  1.04it/s]\n"
     ]
    },
    {
     "name": "stdout",
     "output_type": "stream",
     "text": [
      "val step took 49.0 s\n",
      "val loss = 0.49\n",
      "[Epoch 6|val]\t48.95 s\t0.4893\n",
      "start training (epoch=7)\n"
     ]
    },
    {
     "name": "stderr",
     "output_type": "stream",
     "text": [
      "Epoch 7: 100%|██████████| 16/16 [00:30<00:00,  1.92s/it]\n"
     ]
    },
    {
     "name": "stdout",
     "output_type": "stream",
     "text": [
      "train step took 31.4 s\n",
      "train loss = 0.48\n"
     ]
    },
    {
     "name": "stderr",
     "output_type": "stream",
     "text": [
      "Validation 7: 100%|██████████| 50/50 [00:44<00:00,  1.13it/s]\n"
     ]
    },
    {
     "name": "stdout",
     "output_type": "stream",
     "text": [
      "val step took 44.9 s\n",
      "val loss = 0.43\n",
      "[Epoch 7|val]\t44.88 s\t0.4275\n",
      "start training (epoch=8)\n"
     ]
    },
    {
     "name": "stderr",
     "output_type": "stream",
     "text": [
      "Epoch 8: 100%|██████████| 16/16 [00:21<00:00,  1.33s/it]\n"
     ]
    },
    {
     "name": "stdout",
     "output_type": "stream",
     "text": [
      "train step took 22.0 s\n",
      "train loss = 0.43\n"
     ]
    },
    {
     "name": "stderr",
     "output_type": "stream",
     "text": [
      "Validation 8: 100%|██████████| 50/50 [00:38<00:00,  1.29it/s]\n"
     ]
    },
    {
     "name": "stdout",
     "output_type": "stream",
     "text": [
      "val step took 39.4 s\n",
      "val loss = 0.38\n",
      "[Epoch 8|val]\t39.40 s\t0.3780\n",
      "start training (epoch=9)\n"
     ]
    },
    {
     "name": "stderr",
     "output_type": "stream",
     "text": [
      "Epoch 9: 100%|██████████| 16/16 [00:23<00:00,  1.47s/it]\n"
     ]
    },
    {
     "name": "stdout",
     "output_type": "stream",
     "text": [
      "train step took 24.3 s\n",
      "train loss = 0.38\n"
     ]
    },
    {
     "name": "stderr",
     "output_type": "stream",
     "text": [
      "Validation 9: 100%|██████████| 50/50 [00:57<00:00,  1.15s/it]\n"
     ]
    },
    {
     "name": "stdout",
     "output_type": "stream",
     "text": [
      "val step took 58.2 s\n",
      "val loss = 0.34\n",
      "[Epoch 9|val]\t58.18 s\t0.3397\n",
      "start training (epoch=10)\n"
     ]
    },
    {
     "name": "stderr",
     "output_type": "stream",
     "text": [
      "Epoch 10: 100%|██████████| 16/16 [00:24<00:00,  1.52s/it]\n"
     ]
    },
    {
     "name": "stdout",
     "output_type": "stream",
     "text": [
      "train step took 25.1 s\n",
      "train loss = 0.34\n"
     ]
    },
    {
     "name": "stderr",
     "output_type": "stream",
     "text": [
      "Validation 10: 100%|██████████| 50/50 [00:39<00:00,  1.25it/s]\n"
     ]
    },
    {
     "name": "stdout",
     "output_type": "stream",
     "text": [
      "val step took 40.5 s\n",
      "val loss = 0.31\n",
      "[Epoch 10|val]\t40.53 s\t0.3107\n",
      "start training (epoch=11)\n"
     ]
    },
    {
     "name": "stderr",
     "output_type": "stream",
     "text": [
      "Epoch 11: 100%|██████████| 16/16 [00:29<00:00,  1.82s/it]\n"
     ]
    },
    {
     "name": "stdout",
     "output_type": "stream",
     "text": [
      "train step took 29.8 s\n",
      "train loss = 0.30\n"
     ]
    },
    {
     "name": "stderr",
     "output_type": "stream",
     "text": [
      "Validation 11: 100%|██████████| 50/50 [00:42<00:00,  1.18it/s]\n"
     ]
    },
    {
     "name": "stdout",
     "output_type": "stream",
     "text": [
      "val step took 43.3 s\n",
      "val loss = 0.29\n",
      "[Epoch 11|val]\t43.30 s\t0.2882\n",
      "start training (epoch=12)\n"
     ]
    },
    {
     "name": "stderr",
     "output_type": "stream",
     "text": [
      "Epoch 12: 100%|██████████| 16/16 [00:25<00:00,  1.58s/it]\n"
     ]
    },
    {
     "name": "stdout",
     "output_type": "stream",
     "text": [
      "train step took 25.9 s\n",
      "train loss = 0.29\n"
     ]
    },
    {
     "name": "stderr",
     "output_type": "stream",
     "text": [
      "Validation 12: 100%|██████████| 50/50 [00:40<00:00,  1.23it/s]\n"
     ]
    },
    {
     "name": "stdout",
     "output_type": "stream",
     "text": [
      "val step took 41.4 s\n",
      "val loss = 0.27\n",
      "[Epoch 12|val]\t41.40 s\t0.2702\n",
      "start training (epoch=13)\n"
     ]
    },
    {
     "name": "stderr",
     "output_type": "stream",
     "text": [
      "Epoch 13: 100%|██████████| 16/16 [00:22<00:00,  1.39s/it]\n"
     ]
    },
    {
     "name": "stdout",
     "output_type": "stream",
     "text": [
      "train step took 23.0 s\n",
      "train loss = 0.27\n"
     ]
    },
    {
     "name": "stderr",
     "output_type": "stream",
     "text": [
      "Validation 13: 100%|██████████| 50/50 [00:47<00:00,  1.05it/s]\n"
     ]
    },
    {
     "name": "stdout",
     "output_type": "stream",
     "text": [
      "val step took 48.1 s\n",
      "val loss = 0.26\n",
      "[Epoch 13|val]\t48.09 s\t0.2563\n",
      "start training (epoch=14)\n"
     ]
    },
    {
     "name": "stderr",
     "output_type": "stream",
     "text": [
      "Epoch 14: 100%|██████████| 16/16 [00:29<00:00,  1.85s/it]\n"
     ]
    },
    {
     "name": "stdout",
     "output_type": "stream",
     "text": [
      "train step took 30.4 s\n",
      "train loss = 0.25\n"
     ]
    },
    {
     "name": "stderr",
     "output_type": "stream",
     "text": [
      "Validation 14: 100%|██████████| 50/50 [00:52<00:00,  1.05s/it]\n"
     ]
    },
    {
     "name": "stdout",
     "output_type": "stream",
     "text": [
      "val step took 53.4 s\n",
      "val loss = 0.25\n",
      "[Epoch 14|val]\t53.39 s\t0.2466\n",
      "start training (epoch=15)\n"
     ]
    },
    {
     "name": "stderr",
     "output_type": "stream",
     "text": [
      "Epoch 15: 100%|██████████| 16/16 [00:32<00:00,  2.06s/it]\n"
     ]
    },
    {
     "name": "stdout",
     "output_type": "stream",
     "text": [
      "train step took 33.8 s\n",
      "train loss = 0.24\n"
     ]
    },
    {
     "name": "stderr",
     "output_type": "stream",
     "text": [
      "Validation 15: 100%|██████████| 50/50 [00:53<00:00,  1.07s/it]\n"
     ]
    },
    {
     "name": "stdout",
     "output_type": "stream",
     "text": [
      "val step took 54.5 s\n",
      "val loss = 0.24\n",
      "[Epoch 15|val]\t54.46 s\t0.2376\n",
      "start training (epoch=16)\n"
     ]
    },
    {
     "name": "stderr",
     "output_type": "stream",
     "text": [
      "Epoch 16: 100%|██████████| 16/16 [00:34<00:00,  2.14s/it]\n"
     ]
    },
    {
     "name": "stdout",
     "output_type": "stream",
     "text": [
      "train step took 35.0 s\n",
      "train loss = 0.22\n"
     ]
    },
    {
     "name": "stderr",
     "output_type": "stream",
     "text": [
      "Validation 16: 100%|██████████| 50/50 [00:55<00:00,  1.11s/it]\n"
     ]
    },
    {
     "name": "stdout",
     "output_type": "stream",
     "text": [
      "val step took 56.4 s\n",
      "val loss = 0.23\n",
      "[Epoch 16|val]\t56.37 s\t0.2315\n",
      "start training (epoch=17)\n"
     ]
    },
    {
     "name": "stderr",
     "output_type": "stream",
     "text": [
      "Epoch 17: 100%|██████████| 16/16 [00:35<00:00,  2.23s/it]\n"
     ]
    },
    {
     "name": "stdout",
     "output_type": "stream",
     "text": [
      "train step took 37.0 s\n",
      "train loss = 0.22\n"
     ]
    },
    {
     "name": "stderr",
     "output_type": "stream",
     "text": [
      "Validation 17: 100%|██████████| 50/50 [00:51<00:00,  1.03s/it]\n"
     ]
    },
    {
     "name": "stdout",
     "output_type": "stream",
     "text": [
      "val step took 52.0 s\n",
      "val loss = 0.23\n",
      "[Epoch 17|val]\t51.97 s\t0.2262\n",
      "start training (epoch=18)\n"
     ]
    },
    {
     "name": "stderr",
     "output_type": "stream",
     "text": [
      "Epoch 18: 100%|██████████| 16/16 [00:29<00:00,  1.87s/it]\n"
     ]
    },
    {
     "name": "stdout",
     "output_type": "stream",
     "text": [
      "train step took 31.1 s\n",
      "train loss = 0.22\n"
     ]
    },
    {
     "name": "stderr",
     "output_type": "stream",
     "text": [
      "Validation 18: 100%|██████████| 50/50 [00:55<00:00,  1.12s/it]\n"
     ]
    },
    {
     "name": "stdout",
     "output_type": "stream",
     "text": [
      "val step took 57.1 s\n",
      "val loss = 0.22\n",
      "[Epoch 18|val]\t57.11 s\t0.2228\n",
      "start training (epoch=19)\n"
     ]
    },
    {
     "name": "stderr",
     "output_type": "stream",
     "text": [
      "Epoch 19: 100%|██████████| 16/16 [00:26<00:00,  1.67s/it]\n"
     ]
    },
    {
     "name": "stdout",
     "output_type": "stream",
     "text": [
      "train step took 27.8 s\n",
      "train loss = 0.21\n"
     ]
    },
    {
     "name": "stderr",
     "output_type": "stream",
     "text": [
      "Validation 19: 100%|██████████| 50/50 [01:05<00:00,  1.30s/it]\n"
     ]
    },
    {
     "name": "stdout",
     "output_type": "stream",
     "text": [
      "val step took 66.1 s\n",
      "val loss = 0.22\n",
      "[Epoch 19|val]\t66.05 s\t0.2192\n",
      "start training (epoch=20)\n"
     ]
    },
    {
     "name": "stderr",
     "output_type": "stream",
     "text": [
      "Epoch 20: 100%|██████████| 16/16 [00:27<00:00,  1.74s/it]\n"
     ]
    },
    {
     "name": "stdout",
     "output_type": "stream",
     "text": [
      "train step took 28.9 s\n",
      "train loss = 0.18\n"
     ]
    },
    {
     "name": "stderr",
     "output_type": "stream",
     "text": [
      "Validation 20: 100%|██████████| 50/50 [01:00<00:00,  1.22s/it]\n"
     ]
    },
    {
     "name": "stdout",
     "output_type": "stream",
     "text": [
      "val step took 61.9 s\n",
      "val loss = 0.22\n",
      "[Epoch 20|val]\t61.94 s\t0.2181\n",
      "start training (epoch=21)\n"
     ]
    },
    {
     "name": "stderr",
     "output_type": "stream",
     "text": [
      "Epoch 21: 100%|██████████| 16/16 [00:34<00:00,  2.18s/it]\n"
     ]
    },
    {
     "name": "stdout",
     "output_type": "stream",
     "text": [
      "train step took 35.8 s\n",
      "train loss = 0.18\n"
     ]
    },
    {
     "name": "stderr",
     "output_type": "stream",
     "text": [
      "Validation 21: 100%|██████████| 50/50 [00:54<00:00,  1.09s/it]\n"
     ]
    },
    {
     "name": "stdout",
     "output_type": "stream",
     "text": [
      "val step took 55.2 s\n",
      "val loss = 0.22\n",
      "[Epoch 21|val]\t55.16 s\t0.2165\n",
      "start training (epoch=22)\n"
     ]
    },
    {
     "name": "stderr",
     "output_type": "stream",
     "text": [
      "Epoch 22: 100%|██████████| 16/16 [00:30<00:00,  1.94s/it]\n"
     ]
    },
    {
     "name": "stdout",
     "output_type": "stream",
     "text": [
      "train step took 32.1 s\n",
      "train loss = 0.18\n"
     ]
    },
    {
     "name": "stderr",
     "output_type": "stream",
     "text": [
      "Validation 22: 100%|██████████| 50/50 [01:02<00:00,  1.24s/it]\n"
     ]
    },
    {
     "name": "stdout",
     "output_type": "stream",
     "text": [
      "val step took 63.2 s\n",
      "val loss = 0.21\n",
      "[Epoch 22|val]\t63.20 s\t0.2138\n",
      "start training (epoch=23)\n"
     ]
    },
    {
     "name": "stderr",
     "output_type": "stream",
     "text": [
      "Epoch 23: 100%|██████████| 16/16 [00:26<00:00,  1.68s/it]\n"
     ]
    },
    {
     "name": "stdout",
     "output_type": "stream",
     "text": [
      "train step took 27.7 s\n",
      "train loss = 0.18\n"
     ]
    },
    {
     "name": "stderr",
     "output_type": "stream",
     "text": [
      "Validation 23: 100%|██████████| 50/50 [01:01<00:00,  1.24s/it]\n"
     ]
    },
    {
     "name": "stdout",
     "output_type": "stream",
     "text": [
      "val step took 63.2 s\n",
      "val loss = 0.21\n",
      "[Epoch 23|val]\t63.22 s\t0.2119\n",
      "start training (epoch=24)\n"
     ]
    },
    {
     "name": "stderr",
     "output_type": "stream",
     "text": [
      "Epoch 24: 100%|██████████| 16/16 [00:30<00:00,  1.93s/it]\n"
     ]
    },
    {
     "name": "stdout",
     "output_type": "stream",
     "text": [
      "train step took 31.6 s\n",
      "train loss = 0.17\n"
     ]
    },
    {
     "name": "stderr",
     "output_type": "stream",
     "text": [
      "Validation 24: 100%|██████████| 50/50 [00:54<00:00,  1.09s/it]\n"
     ]
    },
    {
     "name": "stdout",
     "output_type": "stream",
     "text": [
      "val step took 55.2 s\n",
      "val loss = 0.21\n",
      "[Epoch 24|val]\t55.21 s\t0.2108\n",
      "finished\n",
      "python ../train.py --augment --normalize --images-dir \"/home/amritagupta/ssdprivate/data/Streamflow/fpe_stations/West Brook 0_01171100/FLOW_CFS\" --pairs-file \"/home/amritagupta/ssdprivate/data/Streamflow/Jeff_data/stations/29-West Brook 0_01171100/input_4275/pairs_1000.csv\" --output-dir \"/home/amritagupta/ssdprivate/repos/fpe-model/results/vary_annot_frac.jeff_data/West Brook 0_01171100/input_4275/pairs_1000\" --model-dir \"/home/amritagupta/ssdprivate/repos/fpe-model/results/vary_annot_frac.jeff_data/West Brook 0_01171100/input_4275/pairs_1000\" --gpu 3\n",
      "Namespace(images_dir='/home/amritagupta/ssdprivate/data/Streamflow/fpe_stations/West Brook 0_01171100/FLOW_CFS', pairs_file='/home/amritagupta/ssdprivate/data/Streamflow/Jeff_data/stations/29-West Brook 0_01171100/input_4275/pairs_1000.csv', output_dir='/home/amritagupta/ssdprivate/repos/fpe-model/results/vary_annot_frac.jeff_data/West Brook 0_01171100/input_4275/pairs_1000', model_dir='/home/amritagupta/ssdprivate/repos/fpe-model/results/vary_annot_frac.jeff_data/West Brook 0_01171100/input_4275/pairs_1000', gpu=3, num_workers=12, local=False, epochs=25, batch_size=64, lr=0.001, random_seed=1691, unfreeze_after=2, num_image_stats=1000, input_size=480, decolorize=False, augment=True, normalize=True)\n",
      "train()\n",
      "args:\n",
      "{'images_dir': '/home/amritagupta/ssdprivate/data/Streamflow/fpe_stations/West Brook 0_01171100/FLOW_CFS', 'pairs_file': '/home/amritagupta/ssdprivate/data/Streamflow/Jeff_data/stations/29-West Brook 0_01171100/input_4275/pairs_1000.csv', 'output_dir': '/home/amritagupta/ssdprivate/repos/fpe-model/results/vary_annot_frac.jeff_data/West Brook 0_01171100/input_4275/pairs_1000', 'model_dir': '/home/amritagupta/ssdprivate/repos/fpe-model/results/vary_annot_frac.jeff_data/West Brook 0_01171100/input_4275/pairs_1000', 'gpu': 3, 'num_workers': 12, 'local': False, 'epochs': 25, 'batch_size': 64, 'lr': 0.001, 'random_seed': 1691, 'unfreeze_after': 2, 'num_image_stats': 1000, 'input_size': 480, 'decolorize': False, 'augment': True, 'normalize': True}\n",
      "device: cuda:3\n",
      "output_dir: /home/amritagupta/ssdprivate/repos/fpe-model/results/vary_annot_frac.jeff_data/West Brook 0_01171100/input_4275/pairs_1000\n",
      "saved args: /home/amritagupta/ssdprivate/repos/fpe-model/results/vary_annot_frac.jeff_data/West Brook 0_01171100/input_4275/pairs_1000/args.json\n",
      "model_dir: /home/amritagupta/ssdprivate/repos/fpe-model/results/vary_annot_frac.jeff_data/West Brook 0_01171100/input_4275/pairs_1000\n",
      "set seeds (1691)\n"
     ]
    },
    {
     "name": "stderr",
     "output_type": "stream",
     "text": [
      "100%|██████████| 1000/1000 [01:52<00:00,  8.90it/s]\n"
     ]
    },
    {
     "name": "stdout",
     "output_type": "stream",
     "text": [
      "resize_shape: [480, 640]\n",
      "input_shape: [384, 512]\n",
      "creating train dataset\n",
      "creating val datasets\n",
      "val ds: 3176\n",
      "creating data loaders\n",
      "initializing model\n",
      "start training\n",
      "start training (epoch=0)\n"
     ]
    },
    {
     "name": "stderr",
     "output_type": "stream",
     "text": [
      "Epoch 0: 100%|██████████| 32/32 [00:53<00:00,  1.69s/it]\n"
     ]
    },
    {
     "name": "stdout",
     "output_type": "stream",
     "text": [
      "train step took 54.5 s\n",
      "train loss = 0.68\n"
     ]
    },
    {
     "name": "stderr",
     "output_type": "stream",
     "text": [
      "Validation 0: 100%|██████████| 50/50 [01:08<00:00,  1.36s/it]\n"
     ]
    },
    {
     "name": "stdout",
     "output_type": "stream",
     "text": [
      "val step took 69.1 s\n",
      "val loss = 0.66\n",
      "[Epoch 0|val]\t69.06 s\t0.6592\n",
      "start training (epoch=1)\n"
     ]
    },
    {
     "name": "stderr",
     "output_type": "stream",
     "text": [
      "Epoch 1: 100%|██████████| 32/32 [00:42<00:00,  1.33s/it]\n"
     ]
    },
    {
     "name": "stdout",
     "output_type": "stream",
     "text": [
      "train step took 43.5 s\n",
      "train loss = 0.65\n"
     ]
    },
    {
     "name": "stderr",
     "output_type": "stream",
     "text": [
      "Validation 1: 100%|██████████| 50/50 [01:07<00:00,  1.34s/it]\n"
     ]
    },
    {
     "name": "stdout",
     "output_type": "stream",
     "text": [
      "val step took 68.0 s\n",
      "val loss = 0.63\n",
      "[Epoch 1|val]\t68.00 s\t0.6258\n",
      "unfreezing cnn body after epoch=1\n",
      "start training (epoch=2)\n"
     ]
    },
    {
     "name": "stderr",
     "output_type": "stream",
     "text": [
      "Epoch 2: 100%|██████████| 32/32 [00:47<00:00,  1.48s/it]\n"
     ]
    },
    {
     "name": "stdout",
     "output_type": "stream",
     "text": [
      "train step took 48.4 s\n",
      "train loss = 0.61\n"
     ]
    },
    {
     "name": "stderr",
     "output_type": "stream",
     "text": [
      "Validation 2: 100%|██████████| 50/50 [00:49<00:00,  1.01it/s]\n"
     ]
    },
    {
     "name": "stdout",
     "output_type": "stream",
     "text": [
      "val step took 50.4 s\n",
      "val loss = 0.54\n",
      "[Epoch 2|val]\t50.45 s\t0.5440\n",
      "start training (epoch=3)\n"
     ]
    },
    {
     "name": "stderr",
     "output_type": "stream",
     "text": [
      "Epoch 3: 100%|██████████| 32/32 [00:43<00:00,  1.35s/it]\n"
     ]
    },
    {
     "name": "stdout",
     "output_type": "stream",
     "text": [
      "train step took 44.0 s\n",
      "train loss = 0.50\n"
     ]
    },
    {
     "name": "stderr",
     "output_type": "stream",
     "text": [
      "Validation 3: 100%|██████████| 50/50 [00:41<00:00,  1.22it/s]\n"
     ]
    },
    {
     "name": "stdout",
     "output_type": "stream",
     "text": [
      "val step took 42.0 s\n",
      "val loss = 0.40\n",
      "[Epoch 3|val]\t41.96 s\t0.4037\n",
      "start training (epoch=4)\n"
     ]
    },
    {
     "name": "stderr",
     "output_type": "stream",
     "text": [
      "Epoch 4: 100%|██████████| 32/32 [00:51<00:00,  1.61s/it]\n"
     ]
    },
    {
     "name": "stdout",
     "output_type": "stream",
     "text": [
      "train step took 52.9 s\n",
      "train loss = 0.38\n"
     ]
    },
    {
     "name": "stderr",
     "output_type": "stream",
     "text": [
      "Validation 4: 100%|██████████| 50/50 [00:56<00:00,  1.13s/it]\n"
     ]
    },
    {
     "name": "stdout",
     "output_type": "stream",
     "text": [
      "val step took 57.4 s\n",
      "val loss = 0.32\n",
      "[Epoch 4|val]\t57.36 s\t0.3218\n",
      "start training (epoch=5)\n"
     ]
    },
    {
     "name": "stderr",
     "output_type": "stream",
     "text": [
      "Epoch 5: 100%|██████████| 32/32 [01:00<00:00,  1.88s/it]\n"
     ]
    },
    {
     "name": "stdout",
     "output_type": "stream",
     "text": [
      "train step took 61.5 s\n",
      "train loss = 0.31\n"
     ]
    },
    {
     "name": "stderr",
     "output_type": "stream",
     "text": [
      "Validation 5: 100%|██████████| 50/50 [00:56<00:00,  1.13s/it]\n"
     ]
    },
    {
     "name": "stdout",
     "output_type": "stream",
     "text": [
      "val step took 57.6 s\n",
      "val loss = 0.28\n",
      "[Epoch 5|val]\t57.61 s\t0.2826\n",
      "start training (epoch=6)\n"
     ]
    },
    {
     "name": "stderr",
     "output_type": "stream",
     "text": [
      "Epoch 6: 100%|██████████| 32/32 [00:58<00:00,  1.82s/it]\n"
     ]
    },
    {
     "name": "stdout",
     "output_type": "stream",
     "text": [
      "train step took 59.5 s\n",
      "train loss = 0.27\n"
     ]
    },
    {
     "name": "stderr",
     "output_type": "stream",
     "text": [
      "Validation 6: 100%|██████████| 50/50 [00:55<00:00,  1.12s/it]\n"
     ]
    },
    {
     "name": "stdout",
     "output_type": "stream",
     "text": [
      "val step took 56.9 s\n",
      "val loss = 0.25\n",
      "[Epoch 6|val]\t56.93 s\t0.2538\n",
      "start training (epoch=7)\n"
     ]
    },
    {
     "name": "stderr",
     "output_type": "stream",
     "text": [
      "Epoch 7: 100%|██████████| 32/32 [00:41<00:00,  1.29s/it]\n"
     ]
    },
    {
     "name": "stdout",
     "output_type": "stream",
     "text": [
      "train step took 42.1 s\n",
      "train loss = 0.25\n"
     ]
    },
    {
     "name": "stderr",
     "output_type": "stream",
     "text": [
      "Validation 7: 100%|██████████| 50/50 [00:45<00:00,  1.11it/s]\n"
     ]
    },
    {
     "name": "stdout",
     "output_type": "stream",
     "text": [
      "val step took 46.1 s\n",
      "val loss = 0.23\n",
      "[Epoch 7|val]\t46.08 s\t0.2320\n",
      "start training (epoch=8)\n"
     ]
    },
    {
     "name": "stderr",
     "output_type": "stream",
     "text": [
      "Epoch 8: 100%|██████████| 32/32 [00:41<00:00,  1.29s/it]\n"
     ]
    },
    {
     "name": "stdout",
     "output_type": "stream",
     "text": [
      "train step took 42.2 s\n",
      "train loss = 0.22\n"
     ]
    },
    {
     "name": "stderr",
     "output_type": "stream",
     "text": [
      "Validation 8: 100%|██████████| 50/50 [01:09<00:00,  1.40s/it]\n"
     ]
    },
    {
     "name": "stdout",
     "output_type": "stream",
     "text": [
      "val step took 71.2 s\n",
      "val loss = 0.22\n",
      "[Epoch 8|val]\t71.20 s\t0.2228\n",
      "start training (epoch=9)\n"
     ]
    },
    {
     "name": "stderr",
     "output_type": "stream",
     "text": [
      "Epoch 9: 100%|██████████| 32/32 [00:49<00:00,  1.54s/it]\n"
     ]
    },
    {
     "name": "stdout",
     "output_type": "stream",
     "text": [
      "train step took 50.3 s\n",
      "train loss = 0.22\n"
     ]
    },
    {
     "name": "stderr",
     "output_type": "stream",
     "text": [
      "Validation 9: 100%|██████████| 50/50 [01:13<00:00,  1.46s/it]\n"
     ]
    },
    {
     "name": "stdout",
     "output_type": "stream",
     "text": [
      "val step took 74.4 s\n",
      "val loss = 0.22\n",
      "[Epoch 9|val]\t74.37 s\t0.2168\n",
      "start training (epoch=10)\n"
     ]
    },
    {
     "name": "stderr",
     "output_type": "stream",
     "text": [
      "Epoch 10: 100%|██████████| 32/32 [00:46<00:00,  1.46s/it]\n"
     ]
    },
    {
     "name": "stdout",
     "output_type": "stream",
     "text": [
      "train step took 47.5 s\n",
      "train loss = 0.20\n"
     ]
    },
    {
     "name": "stderr",
     "output_type": "stream",
     "text": [
      "Validation 10: 100%|██████████| 50/50 [01:13<00:00,  1.46s/it]\n"
     ]
    },
    {
     "name": "stdout",
     "output_type": "stream",
     "text": [
      "val step took 74.4 s\n",
      "val loss = 0.21\n",
      "[Epoch 10|val]\t74.38 s\t0.2144\n",
      "start training (epoch=11)\n"
     ]
    },
    {
     "name": "stderr",
     "output_type": "stream",
     "text": [
      "Epoch 11: 100%|██████████| 32/32 [00:50<00:00,  1.57s/it]\n"
     ]
    },
    {
     "name": "stdout",
     "output_type": "stream",
     "text": [
      "train step took 51.3 s\n",
      "train loss = 0.19\n"
     ]
    },
    {
     "name": "stderr",
     "output_type": "stream",
     "text": [
      "Validation 11: 100%|██████████| 50/50 [01:10<00:00,  1.42s/it]\n"
     ]
    },
    {
     "name": "stdout",
     "output_type": "stream",
     "text": [
      "val step took 72.3 s\n",
      "val loss = 0.21\n",
      "[Epoch 11|val]\t72.27 s\t0.2143\n",
      "start training (epoch=12)\n"
     ]
    },
    {
     "name": "stderr",
     "output_type": "stream",
     "text": [
      "Epoch 12: 100%|██████████| 32/32 [00:56<00:00,  1.78s/it]\n"
     ]
    },
    {
     "name": "stdout",
     "output_type": "stream",
     "text": [
      "train step took 58.0 s\n",
      "train loss = 0.19\n"
     ]
    },
    {
     "name": "stderr",
     "output_type": "stream",
     "text": [
      "Validation 12: 100%|██████████| 50/50 [01:04<00:00,  1.29s/it]\n"
     ]
    },
    {
     "name": "stdout",
     "output_type": "stream",
     "text": [
      "val step took 65.3 s\n",
      "val loss = 0.21\n",
      "[Epoch 12|val]\t65.29 s\t0.2124\n",
      "start training (epoch=13)\n"
     ]
    },
    {
     "name": "stderr",
     "output_type": "stream",
     "text": [
      "Epoch 13: 100%|██████████| 32/32 [01:02<00:00,  1.96s/it]\n"
     ]
    },
    {
     "name": "stdout",
     "output_type": "stream",
     "text": [
      "train step took 63.9 s\n",
      "train loss = 0.18\n"
     ]
    },
    {
     "name": "stderr",
     "output_type": "stream",
     "text": [
      "Validation 13: 100%|██████████| 50/50 [01:01<00:00,  1.24s/it]\n"
     ]
    },
    {
     "name": "stdout",
     "output_type": "stream",
     "text": [
      "val step took 62.9 s\n",
      "val loss = 0.21\n",
      "[Epoch 13|val]\t62.94 s\t0.2134\n",
      "start training (epoch=14)\n"
     ]
    },
    {
     "name": "stderr",
     "output_type": "stream",
     "text": [
      "Epoch 14: 100%|██████████| 32/32 [00:58<00:00,  1.83s/it]\n"
     ]
    },
    {
     "name": "stdout",
     "output_type": "stream",
     "text": [
      "train step took 59.7 s\n",
      "train loss = 0.18\n"
     ]
    },
    {
     "name": "stderr",
     "output_type": "stream",
     "text": [
      "Validation 14: 100%|██████████| 50/50 [01:12<00:00,  1.46s/it]\n"
     ]
    },
    {
     "name": "stdout",
     "output_type": "stream",
     "text": [
      "val step took 74.3 s\n",
      "val loss = 0.21\n",
      "[Epoch 14|val]\t74.27 s\t0.2134\n",
      "start training (epoch=15)\n"
     ]
    },
    {
     "name": "stderr",
     "output_type": "stream",
     "text": [
      "Epoch 15: 100%|██████████| 32/32 [01:07<00:00,  2.11s/it]\n"
     ]
    },
    {
     "name": "stdout",
     "output_type": "stream",
     "text": [
      "train step took 68.6 s\n",
      "train loss = 0.17\n"
     ]
    },
    {
     "name": "stderr",
     "output_type": "stream",
     "text": [
      "Validation 15: 100%|██████████| 50/50 [00:59<00:00,  1.19s/it]\n"
     ]
    },
    {
     "name": "stdout",
     "output_type": "stream",
     "text": [
      "val step took 60.5 s\n",
      "val loss = 0.21\n",
      "[Epoch 15|val]\t60.49 s\t0.2103\n",
      "start training (epoch=16)\n"
     ]
    },
    {
     "name": "stderr",
     "output_type": "stream",
     "text": [
      "Epoch 16: 100%|██████████| 32/32 [01:03<00:00,  1.99s/it]\n"
     ]
    },
    {
     "name": "stdout",
     "output_type": "stream",
     "text": [
      "train step took 64.7 s\n",
      "train loss = 0.17\n"
     ]
    },
    {
     "name": "stderr",
     "output_type": "stream",
     "text": [
      "Validation 16: 100%|██████████| 50/50 [01:02<00:00,  1.24s/it]\n"
     ]
    },
    {
     "name": "stdout",
     "output_type": "stream",
     "text": [
      "val step took 63.4 s\n",
      "val loss = 0.21\n",
      "[Epoch 16|val]\t63.37 s\t0.2094\n",
      "start training (epoch=17)\n"
     ]
    },
    {
     "name": "stderr",
     "output_type": "stream",
     "text": [
      "Epoch 17: 100%|██████████| 32/32 [00:44<00:00,  1.41s/it]\n"
     ]
    },
    {
     "name": "stdout",
     "output_type": "stream",
     "text": [
      "train step took 46.4 s\n",
      "train loss = 0.17\n"
     ]
    },
    {
     "name": "stderr",
     "output_type": "stream",
     "text": [
      "Validation 17: 100%|██████████| 50/50 [00:46<00:00,  1.07it/s]\n"
     ]
    },
    {
     "name": "stdout",
     "output_type": "stream",
     "text": [
      "val step took 47.8 s\n",
      "val loss = 0.21\n",
      "[Epoch 17|val]\t47.78 s\t0.2132\n",
      "start training (epoch=18)\n"
     ]
    },
    {
     "name": "stderr",
     "output_type": "stream",
     "text": [
      "Epoch 18: 100%|██████████| 32/32 [00:44<00:00,  1.38s/it]\n"
     ]
    },
    {
     "name": "stdout",
     "output_type": "stream",
     "text": [
      "train step took 45.2 s\n",
      "train loss = 0.16\n"
     ]
    },
    {
     "name": "stderr",
     "output_type": "stream",
     "text": [
      "Validation 18: 100%|██████████| 50/50 [01:15<00:00,  1.51s/it]\n"
     ]
    },
    {
     "name": "stdout",
     "output_type": "stream",
     "text": [
      "val step took 76.3 s\n",
      "val loss = 0.21\n",
      "[Epoch 18|val]\t76.28 s\t0.2127\n",
      "start training (epoch=19)\n"
     ]
    },
    {
     "name": "stderr",
     "output_type": "stream",
     "text": [
      "Epoch 19: 100%|██████████| 32/32 [00:52<00:00,  1.63s/it]\n"
     ]
    },
    {
     "name": "stdout",
     "output_type": "stream",
     "text": [
      "train step took 53.5 s\n",
      "train loss = 0.16\n"
     ]
    },
    {
     "name": "stderr",
     "output_type": "stream",
     "text": [
      "Validation 19: 100%|██████████| 50/50 [01:16<00:00,  1.52s/it]\n"
     ]
    },
    {
     "name": "stdout",
     "output_type": "stream",
     "text": [
      "val step took 77.0 s\n",
      "val loss = 0.21\n",
      "[Epoch 19|val]\t77.01 s\t0.2108\n",
      "start training (epoch=20)\n"
     ]
    },
    {
     "name": "stderr",
     "output_type": "stream",
     "text": [
      "Epoch 20: 100%|██████████| 32/32 [00:53<00:00,  1.68s/it]\n"
     ]
    },
    {
     "name": "stdout",
     "output_type": "stream",
     "text": [
      "train step took 55.2 s\n",
      "train loss = 0.17\n"
     ]
    },
    {
     "name": "stderr",
     "output_type": "stream",
     "text": [
      "Validation 20: 100%|██████████| 50/50 [01:14<00:00,  1.50s/it]\n"
     ]
    },
    {
     "name": "stdout",
     "output_type": "stream",
     "text": [
      "val step took 76.3 s\n",
      "val loss = 0.21\n",
      "[Epoch 20|val]\t76.27 s\t0.2136\n",
      "start training (epoch=21)\n"
     ]
    },
    {
     "name": "stderr",
     "output_type": "stream",
     "text": [
      "Epoch 21: 100%|██████████| 32/32 [01:00<00:00,  1.91s/it]\n"
     ]
    },
    {
     "name": "stdout",
     "output_type": "stream",
     "text": [
      "train step took 61.9 s\n",
      "train loss = 0.16\n"
     ]
    },
    {
     "name": "stderr",
     "output_type": "stream",
     "text": [
      "Validation 21: 100%|██████████| 50/50 [01:10<00:00,  1.41s/it]\n"
     ]
    },
    {
     "name": "stdout",
     "output_type": "stream",
     "text": [
      "val step took 71.9 s\n",
      "val loss = 0.21\n",
      "[Epoch 21|val]\t71.95 s\t0.2125\n",
      "start training (epoch=22)\n"
     ]
    },
    {
     "name": "stderr",
     "output_type": "stream",
     "text": [
      "Epoch 22: 100%|██████████| 32/32 [00:56<00:00,  1.76s/it]\n"
     ]
    },
    {
     "name": "stdout",
     "output_type": "stream",
     "text": [
      "train step took 57.3 s\n",
      "train loss = 0.15\n"
     ]
    },
    {
     "name": "stderr",
     "output_type": "stream",
     "text": [
      "Validation 22: 100%|██████████| 50/50 [01:15<00:00,  1.50s/it]\n"
     ]
    },
    {
     "name": "stdout",
     "output_type": "stream",
     "text": [
      "val step took 76.7 s\n",
      "val loss = 0.21\n",
      "[Epoch 22|val]\t76.71 s\t0.2116\n",
      "start training (epoch=23)\n"
     ]
    },
    {
     "name": "stderr",
     "output_type": "stream",
     "text": [
      "Epoch 23: 100%|██████████| 32/32 [00:56<00:00,  1.76s/it]\n"
     ]
    },
    {
     "name": "stdout",
     "output_type": "stream",
     "text": [
      "train step took 57.7 s\n",
      "train loss = 0.16\n"
     ]
    },
    {
     "name": "stderr",
     "output_type": "stream",
     "text": [
      "Validation 23: 100%|██████████| 50/50 [01:08<00:00,  1.37s/it]\n"
     ]
    },
    {
     "name": "stdout",
     "output_type": "stream",
     "text": [
      "val step took 69.3 s\n",
      "val loss = 0.21\n",
      "[Epoch 23|val]\t69.33 s\t0.2125\n",
      "start training (epoch=24)\n"
     ]
    },
    {
     "name": "stderr",
     "output_type": "stream",
     "text": [
      "Epoch 24: 100%|██████████| 32/32 [01:05<00:00,  2.04s/it]\n"
     ]
    },
    {
     "name": "stdout",
     "output_type": "stream",
     "text": [
      "train step took 66.3 s\n",
      "train loss = 0.16\n"
     ]
    },
    {
     "name": "stderr",
     "output_type": "stream",
     "text": [
      "Validation 24: 100%|██████████| 50/50 [01:02<00:00,  1.25s/it]\n"
     ]
    },
    {
     "name": "stdout",
     "output_type": "stream",
     "text": [
      "val step took 63.9 s\n",
      "val loss = 0.21\n",
      "[Epoch 24|val]\t63.86 s\t0.2141\n",
      "finished\n",
      "python ../train.py --augment --normalize --images-dir \"/home/amritagupta/ssdprivate/data/Streamflow/fpe_stations/West Brook 0_01171100/FLOW_CFS\" --pairs-file \"/home/amritagupta/ssdprivate/data/Streamflow/Jeff_data/stations/29-West Brook 0_01171100/input_4275/pairs_1500.csv\" --output-dir \"/home/amritagupta/ssdprivate/repos/fpe-model/results/vary_annot_frac.jeff_data/West Brook 0_01171100/input_4275/pairs_1500\" --model-dir \"/home/amritagupta/ssdprivate/repos/fpe-model/results/vary_annot_frac.jeff_data/West Brook 0_01171100/input_4275/pairs_1500\" --gpu 3\n",
      "Namespace(images_dir='/home/amritagupta/ssdprivate/data/Streamflow/fpe_stations/West Brook 0_01171100/FLOW_CFS', pairs_file='/home/amritagupta/ssdprivate/data/Streamflow/Jeff_data/stations/29-West Brook 0_01171100/input_4275/pairs_1500.csv', output_dir='/home/amritagupta/ssdprivate/repos/fpe-model/results/vary_annot_frac.jeff_data/West Brook 0_01171100/input_4275/pairs_1500', model_dir='/home/amritagupta/ssdprivate/repos/fpe-model/results/vary_annot_frac.jeff_data/West Brook 0_01171100/input_4275/pairs_1500', gpu=3, num_workers=12, local=False, epochs=25, batch_size=64, lr=0.001, random_seed=1691, unfreeze_after=2, num_image_stats=1000, input_size=480, decolorize=False, augment=True, normalize=True)\n",
      "train()\n",
      "args:\n",
      "{'images_dir': '/home/amritagupta/ssdprivate/data/Streamflow/fpe_stations/West Brook 0_01171100/FLOW_CFS', 'pairs_file': '/home/amritagupta/ssdprivate/data/Streamflow/Jeff_data/stations/29-West Brook 0_01171100/input_4275/pairs_1500.csv', 'output_dir': '/home/amritagupta/ssdprivate/repos/fpe-model/results/vary_annot_frac.jeff_data/West Brook 0_01171100/input_4275/pairs_1500', 'model_dir': '/home/amritagupta/ssdprivate/repos/fpe-model/results/vary_annot_frac.jeff_data/West Brook 0_01171100/input_4275/pairs_1500', 'gpu': 3, 'num_workers': 12, 'local': False, 'epochs': 25, 'batch_size': 64, 'lr': 0.001, 'random_seed': 1691, 'unfreeze_after': 2, 'num_image_stats': 1000, 'input_size': 480, 'decolorize': False, 'augment': True, 'normalize': True}\n",
      "device: cuda:3\n",
      "output_dir: /home/amritagupta/ssdprivate/repos/fpe-model/results/vary_annot_frac.jeff_data/West Brook 0_01171100/input_4275/pairs_1500\n",
      "saved args: /home/amritagupta/ssdprivate/repos/fpe-model/results/vary_annot_frac.jeff_data/West Brook 0_01171100/input_4275/pairs_1500/args.json\n",
      "model_dir: /home/amritagupta/ssdprivate/repos/fpe-model/results/vary_annot_frac.jeff_data/West Brook 0_01171100/input_4275/pairs_1500\n",
      "set seeds (1691)\n"
     ]
    },
    {
     "name": "stderr",
     "output_type": "stream",
     "text": [
      "100%|██████████| 1000/1000 [01:44<00:00,  9.56it/s]\n"
     ]
    },
    {
     "name": "stdout",
     "output_type": "stream",
     "text": [
      "resize_shape: [480, 640]\n",
      "input_shape: [384, 512]\n",
      "creating train dataset\n",
      "creating val datasets\n",
      "val ds: 3176\n",
      "creating data loaders\n",
      "initializing model\n",
      "start training\n",
      "start training (epoch=0)\n"
     ]
    },
    {
     "name": "stderr",
     "output_type": "stream",
     "text": [
      "Epoch 0: 100%|██████████| 47/47 [01:13<00:00,  1.56s/it]\n"
     ]
    },
    {
     "name": "stdout",
     "output_type": "stream",
     "text": [
      "train step took 73.9 s\n",
      "train loss = 0.68\n"
     ]
    },
    {
     "name": "stderr",
     "output_type": "stream",
     "text": [
      "Validation 0: 100%|██████████| 50/50 [01:15<00:00,  1.51s/it]\n"
     ]
    },
    {
     "name": "stdout",
     "output_type": "stream",
     "text": [
      "val step took 76.8 s\n",
      "val loss = 0.66\n",
      "[Epoch 0|val]\t76.78 s\t0.6626\n",
      "start training (epoch=1)\n"
     ]
    },
    {
     "name": "stderr",
     "output_type": "stream",
     "text": [
      "Epoch 1: 100%|██████████| 47/47 [01:36<00:00,  2.06s/it]\n"
     ]
    },
    {
     "name": "stdout",
     "output_type": "stream",
     "text": [
      "train step took 97.6 s\n",
      "train loss = 0.65\n"
     ]
    },
    {
     "name": "stderr",
     "output_type": "stream",
     "text": [
      "Validation 1: 100%|██████████| 50/50 [01:02<00:00,  1.25s/it]\n"
     ]
    },
    {
     "name": "stdout",
     "output_type": "stream",
     "text": [
      "val step took 63.5 s\n",
      "val loss = 0.62\n",
      "[Epoch 1|val]\t63.51 s\t0.6174\n",
      "unfreezing cnn body after epoch=1\n",
      "start training (epoch=2)\n"
     ]
    },
    {
     "name": "stderr",
     "output_type": "stream",
     "text": [
      "Epoch 2: 100%|██████████| 47/47 [01:41<00:00,  2.17s/it]\n"
     ]
    },
    {
     "name": "stdout",
     "output_type": "stream",
     "text": [
      "train step took 102.5 s\n",
      "train loss = 0.58\n"
     ]
    },
    {
     "name": "stderr",
     "output_type": "stream",
     "text": [
      "Validation 2: 100%|██████████| 50/50 [01:05<00:00,  1.32s/it]\n"
     ]
    },
    {
     "name": "stdout",
     "output_type": "stream",
     "text": [
      "val step took 66.9 s\n",
      "val loss = 0.48\n",
      "[Epoch 2|val]\t66.93 s\t0.4794\n",
      "start training (epoch=3)\n"
     ]
    },
    {
     "name": "stderr",
     "output_type": "stream",
     "text": [
      "Epoch 3: 100%|██████████| 47/47 [01:44<00:00,  2.23s/it]\n"
     ]
    },
    {
     "name": "stdout",
     "output_type": "stream",
     "text": [
      "train step took 105.4 s\n",
      "train loss = 0.41\n"
     ]
    },
    {
     "name": "stderr",
     "output_type": "stream",
     "text": [
      "Validation 3: 100%|██████████| 50/50 [01:06<00:00,  1.32s/it]\n"
     ]
    },
    {
     "name": "stdout",
     "output_type": "stream",
     "text": [
      "val step took 67.4 s\n",
      "val loss = 0.33\n",
      "[Epoch 3|val]\t67.36 s\t0.3303\n",
      "start training (epoch=4)\n"
     ]
    },
    {
     "name": "stderr",
     "output_type": "stream",
     "text": [
      "Epoch 4: 100%|██████████| 47/47 [01:15<00:00,  1.60s/it]\n"
     ]
    },
    {
     "name": "stdout",
     "output_type": "stream",
     "text": [
      "train step took 75.9 s\n",
      "train loss = 0.31\n"
     ]
    },
    {
     "name": "stderr",
     "output_type": "stream",
     "text": [
      "Validation 4: 100%|██████████| 50/50 [00:49<00:00,  1.01it/s]\n"
     ]
    },
    {
     "name": "stdout",
     "output_type": "stream",
     "text": [
      "val step took 50.0 s\n",
      "val loss = 0.27\n",
      "[Epoch 4|val]\t50.03 s\t0.2665\n",
      "start training (epoch=5)\n"
     ]
    },
    {
     "name": "stderr",
     "output_type": "stream",
     "text": [
      "Epoch 5: 100%|██████████| 47/47 [01:25<00:00,  1.82s/it]\n"
     ]
    },
    {
     "name": "stdout",
     "output_type": "stream",
     "text": [
      "train step took 86.4 s\n",
      "train loss = 0.25\n"
     ]
    },
    {
     "name": "stderr",
     "output_type": "stream",
     "text": [
      "Validation 5: 100%|██████████| 50/50 [01:15<00:00,  1.50s/it]\n"
     ]
    },
    {
     "name": "stdout",
     "output_type": "stream",
     "text": [
      "val step took 75.9 s\n",
      "val loss = 0.24\n",
      "[Epoch 5|val]\t75.91 s\t0.2367\n",
      "start training (epoch=6)\n"
     ]
    },
    {
     "name": "stderr",
     "output_type": "stream",
     "text": [
      "Epoch 6: 100%|██████████| 47/47 [01:27<00:00,  1.86s/it]\n"
     ]
    },
    {
     "name": "stdout",
     "output_type": "stream",
     "text": [
      "train step took 88.4 s\n",
      "train loss = 0.23\n"
     ]
    },
    {
     "name": "stderr",
     "output_type": "stream",
     "text": [
      "Validation 6: 100%|██████████| 50/50 [01:19<00:00,  1.59s/it]\n"
     ]
    },
    {
     "name": "stdout",
     "output_type": "stream",
     "text": [
      "val step took 80.3 s\n",
      "val loss = 0.22\n",
      "[Epoch 6|val]\t80.27 s\t0.2210\n",
      "start training (epoch=7)\n"
     ]
    },
    {
     "name": "stderr",
     "output_type": "stream",
     "text": [
      "Epoch 7: 100%|██████████| 47/47 [01:14<00:00,  1.59s/it]\n"
     ]
    },
    {
     "name": "stdout",
     "output_type": "stream",
     "text": [
      "train step took 75.5 s\n",
      "train loss = 0.21\n"
     ]
    },
    {
     "name": "stderr",
     "output_type": "stream",
     "text": [
      "Validation 7: 100%|██████████| 50/50 [01:21<00:00,  1.64s/it]\n"
     ]
    },
    {
     "name": "stdout",
     "output_type": "stream",
     "text": [
      "val step took 83.2 s\n",
      "val loss = 0.21\n",
      "[Epoch 7|val]\t83.21 s\t0.2119\n",
      "start training (epoch=8)\n"
     ]
    },
    {
     "name": "stderr",
     "output_type": "stream",
     "text": [
      "Epoch 8: 100%|██████████| 47/47 [01:09<00:00,  1.47s/it]\n"
     ]
    },
    {
     "name": "stdout",
     "output_type": "stream",
     "text": [
      "train step took 70.3 s\n",
      "train loss = 0.20\n"
     ]
    },
    {
     "name": "stderr",
     "output_type": "stream",
     "text": [
      "Validation 8: 100%|██████████| 50/50 [01:27<00:00,  1.74s/it]\n"
     ]
    },
    {
     "name": "stdout",
     "output_type": "stream",
     "text": [
      "val step took 87.8 s\n",
      "val loss = 0.21\n",
      "[Epoch 8|val]\t87.77 s\t0.2082\n",
      "start training (epoch=9)\n"
     ]
    },
    {
     "name": "stderr",
     "output_type": "stream",
     "text": [
      "Epoch 9: 100%|██████████| 47/47 [01:21<00:00,  1.74s/it]\n"
     ]
    },
    {
     "name": "stdout",
     "output_type": "stream",
     "text": [
      "train step took 82.8 s\n",
      "train loss = 0.20\n"
     ]
    },
    {
     "name": "stderr",
     "output_type": "stream",
     "text": [
      "Validation 9: 100%|██████████| 50/50 [01:13<00:00,  1.47s/it]\n"
     ]
    },
    {
     "name": "stdout",
     "output_type": "stream",
     "text": [
      "val step took 74.8 s\n",
      "val loss = 0.21\n",
      "[Epoch 9|val]\t74.76 s\t0.2067\n",
      "start training (epoch=10)\n"
     ]
    },
    {
     "name": "stderr",
     "output_type": "stream",
     "text": [
      "Epoch 10: 100%|██████████| 47/47 [01:29<00:00,  1.90s/it]\n"
     ]
    },
    {
     "name": "stdout",
     "output_type": "stream",
     "text": [
      "train step took 90.2 s\n",
      "train loss = 0.19\n"
     ]
    },
    {
     "name": "stderr",
     "output_type": "stream",
     "text": [
      "Validation 10: 100%|██████████| 50/50 [01:19<00:00,  1.59s/it]\n"
     ]
    },
    {
     "name": "stdout",
     "output_type": "stream",
     "text": [
      "val step took 80.7 s\n",
      "val loss = 0.20\n",
      "[Epoch 10|val]\t80.74 s\t0.2028\n",
      "start training (epoch=11)\n"
     ]
    },
    {
     "name": "stderr",
     "output_type": "stream",
     "text": [
      "Epoch 11: 100%|██████████| 47/47 [01:33<00:00,  1.99s/it]\n"
     ]
    },
    {
     "name": "stdout",
     "output_type": "stream",
     "text": [
      "train step took 94.0 s\n",
      "train loss = 0.18\n"
     ]
    },
    {
     "name": "stderr",
     "output_type": "stream",
     "text": [
      "Validation 11: 100%|██████████| 50/50 [01:12<00:00,  1.46s/it]\n"
     ]
    },
    {
     "name": "stdout",
     "output_type": "stream",
     "text": [
      "val step took 74.0 s\n",
      "val loss = 0.21\n",
      "[Epoch 11|val]\t74.00 s\t0.2106\n",
      "start training (epoch=12)\n"
     ]
    },
    {
     "name": "stderr",
     "output_type": "stream",
     "text": [
      "Epoch 12: 100%|██████████| 47/47 [01:36<00:00,  2.05s/it]\n"
     ]
    },
    {
     "name": "stdout",
     "output_type": "stream",
     "text": [
      "train step took 97.1 s\n",
      "train loss = 0.19\n"
     ]
    },
    {
     "name": "stderr",
     "output_type": "stream",
     "text": [
      "Validation 12: 100%|██████████| 50/50 [01:13<00:00,  1.46s/it]\n"
     ]
    },
    {
     "name": "stdout",
     "output_type": "stream",
     "text": [
      "val step took 74.1 s\n",
      "val loss = 0.21\n",
      "[Epoch 12|val]\t74.07 s\t0.2077\n",
      "start training (epoch=13)\n"
     ]
    },
    {
     "name": "stderr",
     "output_type": "stream",
     "text": [
      "Epoch 13: 100%|██████████| 47/47 [01:32<00:00,  1.97s/it]\n"
     ]
    },
    {
     "name": "stdout",
     "output_type": "stream",
     "text": [
      "train step took 93.8 s\n",
      "train loss = 0.18\n"
     ]
    },
    {
     "name": "stderr",
     "output_type": "stream",
     "text": [
      "Validation 13: 100%|██████████| 50/50 [01:07<00:00,  1.34s/it]\n"
     ]
    },
    {
     "name": "stdout",
     "output_type": "stream",
     "text": [
      "val step took 67.9 s\n",
      "val loss = 0.20\n",
      "[Epoch 13|val]\t67.90 s\t0.2013\n",
      "start training (epoch=14)\n"
     ]
    },
    {
     "name": "stderr",
     "output_type": "stream",
     "text": [
      "Epoch 14: 100%|██████████| 47/47 [01:30<00:00,  1.92s/it]\n"
     ]
    },
    {
     "name": "stdout",
     "output_type": "stream",
     "text": [
      "train step took 91.0 s\n",
      "train loss = 0.17\n"
     ]
    },
    {
     "name": "stderr",
     "output_type": "stream",
     "text": [
      "Validation 14: 100%|██████████| 50/50 [01:07<00:00,  1.35s/it]\n"
     ]
    },
    {
     "name": "stdout",
     "output_type": "stream",
     "text": [
      "val step took 68.8 s\n",
      "val loss = 0.20\n",
      "[Epoch 14|val]\t68.79 s\t0.2019\n",
      "start training (epoch=15)\n"
     ]
    },
    {
     "name": "stderr",
     "output_type": "stream",
     "text": [
      "Epoch 15: 100%|██████████| 47/47 [01:32<00:00,  1.97s/it]\n"
     ]
    },
    {
     "name": "stdout",
     "output_type": "stream",
     "text": [
      "train step took 93.1 s\n",
      "train loss = 0.17\n"
     ]
    },
    {
     "name": "stderr",
     "output_type": "stream",
     "text": [
      "Validation 15: 100%|██████████| 50/50 [01:14<00:00,  1.49s/it]\n"
     ]
    },
    {
     "name": "stdout",
     "output_type": "stream",
     "text": [
      "val step took 75.5 s\n",
      "val loss = 0.20\n",
      "[Epoch 15|val]\t75.52 s\t0.2042\n",
      "start training (epoch=16)\n"
     ]
    },
    {
     "name": "stderr",
     "output_type": "stream",
     "text": [
      "Epoch 16: 100%|██████████| 47/47 [01:09<00:00,  1.49s/it]\n"
     ]
    },
    {
     "name": "stdout",
     "output_type": "stream",
     "text": [
      "train step took 70.7 s\n",
      "train loss = 0.17\n"
     ]
    },
    {
     "name": "stderr",
     "output_type": "stream",
     "text": [
      "Validation 16: 100%|██████████| 50/50 [01:01<00:00,  1.23s/it]\n"
     ]
    },
    {
     "name": "stdout",
     "output_type": "stream",
     "text": [
      "val step took 62.2 s\n",
      "val loss = 0.20\n",
      "[Epoch 16|val]\t62.21 s\t0.2016\n",
      "start training (epoch=17)\n"
     ]
    },
    {
     "name": "stderr",
     "output_type": "stream",
     "text": [
      "Epoch 17: 100%|██████████| 47/47 [01:28<00:00,  1.88s/it]\n"
     ]
    },
    {
     "name": "stdout",
     "output_type": "stream",
     "text": [
      "train step took 89.3 s\n",
      "train loss = 0.17\n"
     ]
    },
    {
     "name": "stderr",
     "output_type": "stream",
     "text": [
      "Validation 17: 100%|██████████| 50/50 [01:21<00:00,  1.62s/it]\n"
     ]
    },
    {
     "name": "stdout",
     "output_type": "stream",
     "text": [
      "val step took 82.4 s\n",
      "val loss = 0.20\n",
      "[Epoch 17|val]\t82.45 s\t0.2012\n",
      "start training (epoch=18)\n"
     ]
    },
    {
     "name": "stderr",
     "output_type": "stream",
     "text": [
      "Epoch 18: 100%|██████████| 47/47 [01:28<00:00,  1.89s/it]\n"
     ]
    },
    {
     "name": "stdout",
     "output_type": "stream",
     "text": [
      "train step took 89.6 s\n",
      "train loss = 0.18\n"
     ]
    },
    {
     "name": "stderr",
     "output_type": "stream",
     "text": [
      "Validation 18: 100%|██████████| 50/50 [01:18<00:00,  1.56s/it]\n"
     ]
    },
    {
     "name": "stdout",
     "output_type": "stream",
     "text": [
      "val step took 79.3 s\n",
      "val loss = 0.20\n",
      "[Epoch 18|val]\t79.29 s\t0.2020\n",
      "start training (epoch=19)\n"
     ]
    },
    {
     "name": "stderr",
     "output_type": "stream",
     "text": [
      "Epoch 19: 100%|██████████| 47/47 [01:34<00:00,  2.01s/it]\n"
     ]
    },
    {
     "name": "stdout",
     "output_type": "stream",
     "text": [
      "train step took 95.3 s\n",
      "train loss = 0.16\n"
     ]
    },
    {
     "name": "stderr",
     "output_type": "stream",
     "text": [
      "Validation 19: 100%|██████████| 50/50 [01:14<00:00,  1.49s/it]\n"
     ]
    },
    {
     "name": "stdout",
     "output_type": "stream",
     "text": [
      "val step took 75.6 s\n",
      "val loss = 0.20\n",
      "[Epoch 19|val]\t75.58 s\t0.2026\n",
      "start training (epoch=20)\n"
     ]
    },
    {
     "name": "stderr",
     "output_type": "stream",
     "text": [
      "Epoch 20: 100%|██████████| 47/47 [01:28<00:00,  1.89s/it]\n"
     ]
    },
    {
     "name": "stdout",
     "output_type": "stream",
     "text": [
      "train step took 89.7 s\n",
      "train loss = 0.17\n"
     ]
    },
    {
     "name": "stderr",
     "output_type": "stream",
     "text": [
      "Validation 20: 100%|██████████| 50/50 [00:56<00:00,  1.12s/it]\n"
     ]
    },
    {
     "name": "stdout",
     "output_type": "stream",
     "text": [
      "val step took 56.8 s\n",
      "val loss = 0.20\n",
      "[Epoch 20|val]\t56.80 s\t0.2016\n",
      "start training (epoch=21)\n"
     ]
    },
    {
     "name": "stderr",
     "output_type": "stream",
     "text": [
      "Epoch 21: 100%|██████████| 47/47 [01:09<00:00,  1.48s/it]\n"
     ]
    },
    {
     "name": "stdout",
     "output_type": "stream",
     "text": [
      "train step took 70.1 s\n",
      "train loss = 0.17\n"
     ]
    },
    {
     "name": "stderr",
     "output_type": "stream",
     "text": [
      "Validation 21: 100%|██████████| 50/50 [01:16<00:00,  1.52s/it]\n"
     ]
    },
    {
     "name": "stdout",
     "output_type": "stream",
     "text": [
      "val step took 76.9 s\n",
      "val loss = 0.20\n",
      "[Epoch 21|val]\t76.95 s\t0.2018\n",
      "start training (epoch=22)\n"
     ]
    },
    {
     "name": "stderr",
     "output_type": "stream",
     "text": [
      "Epoch 22: 100%|██████████| 47/47 [01:16<00:00,  1.63s/it]\n"
     ]
    },
    {
     "name": "stdout",
     "output_type": "stream",
     "text": [
      "train step took 77.8 s\n",
      "train loss = 0.18\n"
     ]
    },
    {
     "name": "stderr",
     "output_type": "stream",
     "text": [
      "Validation 22: 100%|██████████| 50/50 [00:50<00:00,  1.01s/it]\n"
     ]
    },
    {
     "name": "stdout",
     "output_type": "stream",
     "text": [
      "val step took 51.2 s\n",
      "val loss = 0.20\n",
      "[Epoch 22|val]\t51.17 s\t0.2027\n",
      "start training (epoch=23)\n"
     ]
    },
    {
     "name": "stderr",
     "output_type": "stream",
     "text": [
      "Epoch 23: 100%|██████████| 47/47 [01:04<00:00,  1.36s/it]\n"
     ]
    },
    {
     "name": "stdout",
     "output_type": "stream",
     "text": [
      "train step took 64.8 s\n",
      "train loss = 0.17\n"
     ]
    },
    {
     "name": "stderr",
     "output_type": "stream",
     "text": [
      "Validation 23: 100%|██████████| 50/50 [00:53<00:00,  1.06s/it]\n"
     ]
    },
    {
     "name": "stdout",
     "output_type": "stream",
     "text": [
      "val step took 53.8 s\n",
      "val loss = 0.20\n",
      "[Epoch 23|val]\t53.77 s\t0.2018\n",
      "start training (epoch=24)\n"
     ]
    },
    {
     "name": "stderr",
     "output_type": "stream",
     "text": [
      "Epoch 24: 100%|██████████| 47/47 [01:00<00:00,  1.29s/it]\n"
     ]
    },
    {
     "name": "stdout",
     "output_type": "stream",
     "text": [
      "train step took 61.3 s\n",
      "train loss = 0.17\n"
     ]
    },
    {
     "name": "stderr",
     "output_type": "stream",
     "text": [
      "Validation 24: 100%|██████████| 50/50 [00:49<00:00,  1.01it/s]\n"
     ]
    },
    {
     "name": "stdout",
     "output_type": "stream",
     "text": [
      "val step took 50.1 s\n",
      "val loss = 0.20\n",
      "[Epoch 24|val]\t50.10 s\t0.2030\n",
      "finished\n",
      "python ../train.py --augment --normalize --images-dir \"/home/amritagupta/ssdprivate/data/Streamflow/fpe_stations/West Brook 0_01171100/FLOW_CFS\" --pairs-file \"/home/amritagupta/ssdprivate/data/Streamflow/Jeff_data/stations/29-West Brook 0_01171100/input_4275/pairs_2000.csv\" --output-dir \"/home/amritagupta/ssdprivate/repos/fpe-model/results/vary_annot_frac.jeff_data/West Brook 0_01171100/input_4275/pairs_2000\" --model-dir \"/home/amritagupta/ssdprivate/repos/fpe-model/results/vary_annot_frac.jeff_data/West Brook 0_01171100/input_4275/pairs_2000\" --gpu 3\n",
      "Namespace(images_dir='/home/amritagupta/ssdprivate/data/Streamflow/fpe_stations/West Brook 0_01171100/FLOW_CFS', pairs_file='/home/amritagupta/ssdprivate/data/Streamflow/Jeff_data/stations/29-West Brook 0_01171100/input_4275/pairs_2000.csv', output_dir='/home/amritagupta/ssdprivate/repos/fpe-model/results/vary_annot_frac.jeff_data/West Brook 0_01171100/input_4275/pairs_2000', model_dir='/home/amritagupta/ssdprivate/repos/fpe-model/results/vary_annot_frac.jeff_data/West Brook 0_01171100/input_4275/pairs_2000', gpu=3, num_workers=12, local=False, epochs=25, batch_size=64, lr=0.001, random_seed=1691, unfreeze_after=2, num_image_stats=1000, input_size=480, decolorize=False, augment=True, normalize=True)\n",
      "train()\n",
      "args:\n",
      "{'images_dir': '/home/amritagupta/ssdprivate/data/Streamflow/fpe_stations/West Brook 0_01171100/FLOW_CFS', 'pairs_file': '/home/amritagupta/ssdprivate/data/Streamflow/Jeff_data/stations/29-West Brook 0_01171100/input_4275/pairs_2000.csv', 'output_dir': '/home/amritagupta/ssdprivate/repos/fpe-model/results/vary_annot_frac.jeff_data/West Brook 0_01171100/input_4275/pairs_2000', 'model_dir': '/home/amritagupta/ssdprivate/repos/fpe-model/results/vary_annot_frac.jeff_data/West Brook 0_01171100/input_4275/pairs_2000', 'gpu': 3, 'num_workers': 12, 'local': False, 'epochs': 25, 'batch_size': 64, 'lr': 0.001, 'random_seed': 1691, 'unfreeze_after': 2, 'num_image_stats': 1000, 'input_size': 480, 'decolorize': False, 'augment': True, 'normalize': True}\n",
      "device: cuda:3\n",
      "output_dir: /home/amritagupta/ssdprivate/repos/fpe-model/results/vary_annot_frac.jeff_data/West Brook 0_01171100/input_4275/pairs_2000\n",
      "saved args: /home/amritagupta/ssdprivate/repos/fpe-model/results/vary_annot_frac.jeff_data/West Brook 0_01171100/input_4275/pairs_2000/args.json\n",
      "model_dir: /home/amritagupta/ssdprivate/repos/fpe-model/results/vary_annot_frac.jeff_data/West Brook 0_01171100/input_4275/pairs_2000\n",
      "set seeds (1691)\n"
     ]
    },
    {
     "name": "stderr",
     "output_type": "stream",
     "text": [
      "100%|██████████| 1000/1000 [01:22<00:00, 12.13it/s]\n"
     ]
    },
    {
     "name": "stdout",
     "output_type": "stream",
     "text": [
      "resize_shape: [480, 640]\n",
      "input_shape: [384, 512]\n",
      "creating train dataset\n",
      "creating val datasets\n",
      "val ds: 3176\n",
      "creating data loaders\n",
      "initializing model\n",
      "start training\n",
      "start training (epoch=0)\n"
     ]
    },
    {
     "name": "stderr",
     "output_type": "stream",
     "text": [
      "Epoch 0: 100%|██████████| 63/63 [01:34<00:00,  1.50s/it]\n"
     ]
    },
    {
     "name": "stdout",
     "output_type": "stream",
     "text": [
      "train step took 94.8 s\n",
      "train loss = 0.67\n"
     ]
    },
    {
     "name": "stderr",
     "output_type": "stream",
     "text": [
      "Validation 0: 100%|██████████| 50/50 [00:47<00:00,  1.04it/s]\n"
     ]
    },
    {
     "name": "stdout",
     "output_type": "stream",
     "text": [
      "val step took 48.8 s\n",
      "val loss = 0.64\n",
      "[Epoch 0|val]\t48.76 s\t0.6356\n",
      "start training (epoch=1)\n"
     ]
    },
    {
     "name": "stderr",
     "output_type": "stream",
     "text": [
      "Epoch 1: 100%|██████████| 63/63 [01:22<00:00,  1.32s/it]\n"
     ]
    },
    {
     "name": "stdout",
     "output_type": "stream",
     "text": [
      "train step took 83.6 s\n",
      "train loss = 0.61\n"
     ]
    },
    {
     "name": "stderr",
     "output_type": "stream",
     "text": [
      "Validation 1: 100%|██████████| 50/50 [00:47<00:00,  1.05it/s]\n"
     ]
    },
    {
     "name": "stdout",
     "output_type": "stream",
     "text": [
      "val step took 48.3 s\n",
      "val loss = 0.55\n",
      "[Epoch 1|val]\t48.34 s\t0.5483\n",
      "unfreezing cnn body after epoch=1\n",
      "start training (epoch=2)\n"
     ]
    },
    {
     "name": "stderr",
     "output_type": "stream",
     "text": [
      "Epoch 2: 100%|██████████| 63/63 [01:21<00:00,  1.30s/it]\n"
     ]
    },
    {
     "name": "stdout",
     "output_type": "stream",
     "text": [
      "train step took 82.6 s\n",
      "train loss = 0.47\n"
     ]
    },
    {
     "name": "stderr",
     "output_type": "stream",
     "text": [
      "Validation 2: 100%|██████████| 50/50 [00:53<00:00,  1.08s/it]\n"
     ]
    },
    {
     "name": "stdout",
     "output_type": "stream",
     "text": [
      "val step took 54.7 s\n",
      "val loss = 0.35\n",
      "[Epoch 2|val]\t54.67 s\t0.3472\n",
      "start training (epoch=3)\n"
     ]
    },
    {
     "name": "stderr",
     "output_type": "stream",
     "text": [
      "Epoch 3: 100%|██████████| 63/63 [01:26<00:00,  1.37s/it]\n"
     ]
    },
    {
     "name": "stdout",
     "output_type": "stream",
     "text": [
      "train step took 87.0 s\n",
      "train loss = 0.31\n"
     ]
    },
    {
     "name": "stderr",
     "output_type": "stream",
     "text": [
      "Validation 3: 100%|██████████| 50/50 [00:54<00:00,  1.08s/it]\n"
     ]
    },
    {
     "name": "stdout",
     "output_type": "stream",
     "text": [
      "val step took 54.9 s\n",
      "val loss = 0.26\n",
      "[Epoch 3|val]\t54.91 s\t0.2634\n",
      "start training (epoch=4)\n"
     ]
    },
    {
     "name": "stderr",
     "output_type": "stream",
     "text": [
      "Epoch 4: 100%|██████████| 63/63 [01:17<00:00,  1.23s/it]\n"
     ]
    },
    {
     "name": "stdout",
     "output_type": "stream",
     "text": [
      "train step took 78.5 s\n",
      "train loss = 0.25\n"
     ]
    },
    {
     "name": "stderr",
     "output_type": "stream",
     "text": [
      "Validation 4: 100%|██████████| 50/50 [00:39<00:00,  1.27it/s]\n"
     ]
    },
    {
     "name": "stdout",
     "output_type": "stream",
     "text": [
      "val step took 40.1 s\n",
      "val loss = 0.23\n",
      "[Epoch 4|val]\t40.12 s\t0.2305\n",
      "start training (epoch=5)\n"
     ]
    },
    {
     "name": "stderr",
     "output_type": "stream",
     "text": [
      "Epoch 5: 100%|██████████| 63/63 [01:21<00:00,  1.30s/it]\n"
     ]
    },
    {
     "name": "stdout",
     "output_type": "stream",
     "text": [
      "train step took 82.4 s\n",
      "train loss = 0.23\n"
     ]
    },
    {
     "name": "stderr",
     "output_type": "stream",
     "text": [
      "Validation 5: 100%|██████████| 50/50 [00:50<00:00,  1.01s/it]\n"
     ]
    },
    {
     "name": "stdout",
     "output_type": "stream",
     "text": [
      "val step took 51.2 s\n",
      "val loss = 0.22\n",
      "[Epoch 5|val]\t51.19 s\t0.2176\n",
      "start training (epoch=6)\n"
     ]
    },
    {
     "name": "stderr",
     "output_type": "stream",
     "text": [
      "Epoch 6: 100%|██████████| 63/63 [01:28<00:00,  1.40s/it]\n"
     ]
    },
    {
     "name": "stdout",
     "output_type": "stream",
     "text": [
      "train step took 89.0 s\n",
      "train loss = 0.21\n"
     ]
    },
    {
     "name": "stderr",
     "output_type": "stream",
     "text": [
      "Validation 6: 100%|██████████| 50/50 [00:51<00:00,  1.03s/it]\n"
     ]
    },
    {
     "name": "stdout",
     "output_type": "stream",
     "text": [
      "val step took 52.5 s\n",
      "val loss = 0.21\n",
      "[Epoch 6|val]\t52.47 s\t0.2142\n",
      "start training (epoch=7)\n"
     ]
    },
    {
     "name": "stderr",
     "output_type": "stream",
     "text": [
      "Epoch 7: 100%|██████████| 63/63 [01:05<00:00,  1.04s/it]\n"
     ]
    },
    {
     "name": "stdout",
     "output_type": "stream",
     "text": [
      "train step took 66.4 s\n",
      "train loss = 0.20\n"
     ]
    },
    {
     "name": "stderr",
     "output_type": "stream",
     "text": [
      "Validation 7: 100%|██████████| 50/50 [00:58<00:00,  1.17s/it]\n"
     ]
    },
    {
     "name": "stdout",
     "output_type": "stream",
     "text": [
      "val step took 59.3 s\n",
      "val loss = 0.21\n",
      "[Epoch 7|val]\t59.32 s\t0.2078\n",
      "start training (epoch=8)\n"
     ]
    },
    {
     "name": "stderr",
     "output_type": "stream",
     "text": [
      "Epoch 8: 100%|██████████| 63/63 [01:32<00:00,  1.46s/it]\n"
     ]
    },
    {
     "name": "stdout",
     "output_type": "stream",
     "text": [
      "train step took 92.8 s\n",
      "train loss = 0.20\n"
     ]
    },
    {
     "name": "stderr",
     "output_type": "stream",
     "text": [
      "Validation 8: 100%|██████████| 50/50 [00:52<00:00,  1.04s/it]\n"
     ]
    },
    {
     "name": "stdout",
     "output_type": "stream",
     "text": [
      "val step took 53.0 s\n",
      "val loss = 0.21\n",
      "[Epoch 8|val]\t53.03 s\t0.2104\n",
      "start training (epoch=9)\n"
     ]
    },
    {
     "name": "stderr",
     "output_type": "stream",
     "text": [
      "Epoch 9: 100%|██████████| 63/63 [01:40<00:00,  1.59s/it]\n"
     ]
    },
    {
     "name": "stdout",
     "output_type": "stream",
     "text": [
      "train step took 101.4 s\n",
      "train loss = 0.19\n"
     ]
    },
    {
     "name": "stderr",
     "output_type": "stream",
     "text": [
      "Validation 9: 100%|██████████| 50/50 [00:55<00:00,  1.10s/it]\n"
     ]
    },
    {
     "name": "stdout",
     "output_type": "stream",
     "text": [
      "val step took 56.1 s\n",
      "val loss = 0.21\n",
      "[Epoch 9|val]\t56.05 s\t0.2121\n",
      "start training (epoch=10)\n"
     ]
    },
    {
     "name": "stderr",
     "output_type": "stream",
     "text": [
      "Epoch 10: 100%|██████████| 63/63 [01:43<00:00,  1.64s/it]\n"
     ]
    },
    {
     "name": "stdout",
     "output_type": "stream",
     "text": [
      "train step took 103.9 s\n",
      "train loss = 0.19\n"
     ]
    },
    {
     "name": "stderr",
     "output_type": "stream",
     "text": [
      "Validation 10: 100%|██████████| 50/50 [00:56<00:00,  1.13s/it]\n"
     ]
    },
    {
     "name": "stdout",
     "output_type": "stream",
     "text": [
      "val step took 57.7 s\n",
      "val loss = 0.21\n",
      "[Epoch 10|val]\t57.74 s\t0.2070\n",
      "start training (epoch=11)\n"
     ]
    },
    {
     "name": "stderr",
     "output_type": "stream",
     "text": [
      "Epoch 11: 100%|██████████| 63/63 [02:05<00:00,  1.99s/it]\n"
     ]
    },
    {
     "name": "stdout",
     "output_type": "stream",
     "text": [
      "train step took 126.4 s\n",
      "train loss = 0.18\n"
     ]
    },
    {
     "name": "stderr",
     "output_type": "stream",
     "text": [
      "Validation 11: 100%|██████████| 50/50 [01:21<00:00,  1.63s/it]\n"
     ]
    },
    {
     "name": "stdout",
     "output_type": "stream",
     "text": [
      "val step took 82.8 s\n",
      "val loss = 0.21\n",
      "[Epoch 11|val]\t82.77 s\t0.2056\n",
      "start training (epoch=12)\n"
     ]
    },
    {
     "name": "stderr",
     "output_type": "stream",
     "text": [
      "Epoch 12: 100%|██████████| 63/63 [02:00<00:00,  1.91s/it]\n"
     ]
    },
    {
     "name": "stdout",
     "output_type": "stream",
     "text": [
      "train step took 121.2 s\n",
      "train loss = 0.18\n"
     ]
    },
    {
     "name": "stderr",
     "output_type": "stream",
     "text": [
      "Validation 12: 100%|██████████| 50/50 [01:16<00:00,  1.52s/it]\n"
     ]
    },
    {
     "name": "stdout",
     "output_type": "stream",
     "text": [
      "val step took 77.1 s\n",
      "val loss = 0.21\n",
      "[Epoch 12|val]\t77.12 s\t0.2070\n",
      "start training (epoch=13)\n"
     ]
    },
    {
     "name": "stderr",
     "output_type": "stream",
     "text": [
      "Epoch 13: 100%|██████████| 63/63 [02:00<00:00,  1.91s/it]\n"
     ]
    },
    {
     "name": "stdout",
     "output_type": "stream",
     "text": [
      "train step took 121.2 s\n",
      "train loss = 0.19\n"
     ]
    },
    {
     "name": "stderr",
     "output_type": "stream",
     "text": [
      "Validation 13: 100%|██████████| 50/50 [01:14<00:00,  1.49s/it]\n"
     ]
    },
    {
     "name": "stdout",
     "output_type": "stream",
     "text": [
      "val step took 75.7 s\n",
      "val loss = 0.20\n",
      "[Epoch 13|val]\t75.66 s\t0.2046\n",
      "start training (epoch=14)\n"
     ]
    },
    {
     "name": "stderr",
     "output_type": "stream",
     "text": [
      "Epoch 14: 100%|██████████| 63/63 [02:06<00:00,  2.01s/it]\n"
     ]
    },
    {
     "name": "stdout",
     "output_type": "stream",
     "text": [
      "train step took 127.5 s\n",
      "train loss = 0.18\n"
     ]
    },
    {
     "name": "stderr",
     "output_type": "stream",
     "text": [
      "Validation 14: 100%|██████████| 50/50 [01:19<00:00,  1.58s/it]\n"
     ]
    },
    {
     "name": "stdout",
     "output_type": "stream",
     "text": [
      "val step took 80.3 s\n",
      "val loss = 0.21\n",
      "[Epoch 14|val]\t80.30 s\t0.2077\n",
      "start training (epoch=15)\n"
     ]
    },
    {
     "name": "stderr",
     "output_type": "stream",
     "text": [
      "Epoch 15: 100%|██████████| 63/63 [02:03<00:00,  1.96s/it]\n"
     ]
    },
    {
     "name": "stdout",
     "output_type": "stream",
     "text": [
      "train step took 124.8 s\n",
      "train loss = 0.18\n"
     ]
    },
    {
     "name": "stderr",
     "output_type": "stream",
     "text": [
      "Validation 15: 100%|██████████| 50/50 [01:13<00:00,  1.48s/it]\n"
     ]
    },
    {
     "name": "stdout",
     "output_type": "stream",
     "text": [
      "val step took 75.0 s\n",
      "val loss = 0.21\n",
      "[Epoch 15|val]\t75.00 s\t0.2095\n",
      "start training (epoch=16)\n"
     ]
    },
    {
     "name": "stderr",
     "output_type": "stream",
     "text": [
      "Epoch 16: 100%|██████████| 63/63 [01:56<00:00,  1.85s/it]\n"
     ]
    },
    {
     "name": "stdout",
     "output_type": "stream",
     "text": [
      "train step took 117.6 s\n",
      "train loss = 0.18\n"
     ]
    },
    {
     "name": "stderr",
     "output_type": "stream",
     "text": [
      "Validation 16: 100%|██████████| 50/50 [01:17<00:00,  1.56s/it]\n"
     ]
    },
    {
     "name": "stdout",
     "output_type": "stream",
     "text": [
      "val step took 79.0 s\n",
      "val loss = 0.21\n",
      "[Epoch 16|val]\t78.99 s\t0.2065\n",
      "start training (epoch=17)\n"
     ]
    },
    {
     "name": "stderr",
     "output_type": "stream",
     "text": [
      "Epoch 17: 100%|██████████| 63/63 [01:55<00:00,  1.83s/it]\n"
     ]
    },
    {
     "name": "stdout",
     "output_type": "stream",
     "text": [
      "train step took 116.7 s\n",
      "train loss = 0.17\n"
     ]
    },
    {
     "name": "stderr",
     "output_type": "stream",
     "text": [
      "Validation 17: 100%|██████████| 50/50 [01:19<00:00,  1.58s/it]\n"
     ]
    },
    {
     "name": "stdout",
     "output_type": "stream",
     "text": [
      "val step took 80.4 s\n",
      "val loss = 0.21\n",
      "[Epoch 17|val]\t80.35 s\t0.2075\n",
      "start training (epoch=18)\n"
     ]
    },
    {
     "name": "stderr",
     "output_type": "stream",
     "text": [
      "Epoch 18: 100%|██████████| 63/63 [01:59<00:00,  1.89s/it]\n"
     ]
    },
    {
     "name": "stdout",
     "output_type": "stream",
     "text": [
      "train step took 120.3 s\n",
      "train loss = 0.17\n"
     ]
    },
    {
     "name": "stderr",
     "output_type": "stream",
     "text": [
      "Validation 18: 100%|██████████| 50/50 [01:08<00:00,  1.37s/it]\n"
     ]
    },
    {
     "name": "stdout",
     "output_type": "stream",
     "text": [
      "val step took 69.9 s\n",
      "val loss = 0.21\n",
      "[Epoch 18|val]\t69.86 s\t0.2057\n",
      "start training (epoch=19)\n"
     ]
    },
    {
     "name": "stderr",
     "output_type": "stream",
     "text": [
      "Epoch 19: 100%|██████████| 63/63 [02:07<00:00,  2.03s/it]\n"
     ]
    },
    {
     "name": "stdout",
     "output_type": "stream",
     "text": [
      "train step took 128.6 s\n",
      "train loss = 0.17\n"
     ]
    },
    {
     "name": "stderr",
     "output_type": "stream",
     "text": [
      "Validation 19: 100%|██████████| 50/50 [01:03<00:00,  1.28s/it]\n"
     ]
    },
    {
     "name": "stdout",
     "output_type": "stream",
     "text": [
      "val step took 65.0 s\n",
      "val loss = 0.21\n",
      "[Epoch 19|val]\t65.01 s\t0.2071\n",
      "start training (epoch=20)\n"
     ]
    },
    {
     "name": "stderr",
     "output_type": "stream",
     "text": [
      "Epoch 20: 100%|██████████| 63/63 [01:17<00:00,  1.24s/it]\n"
     ]
    },
    {
     "name": "stdout",
     "output_type": "stream",
     "text": [
      "train step took 78.8 s\n",
      "train loss = 0.18\n"
     ]
    },
    {
     "name": "stderr",
     "output_type": "stream",
     "text": [
      "Validation 20: 100%|██████████| 50/50 [00:50<00:00,  1.01s/it]\n"
     ]
    },
    {
     "name": "stdout",
     "output_type": "stream",
     "text": [
      "val step took 51.5 s\n",
      "val loss = 0.21\n",
      "[Epoch 20|val]\t51.51 s\t0.2092\n",
      "start training (epoch=21)\n"
     ]
    },
    {
     "name": "stderr",
     "output_type": "stream",
     "text": [
      "Epoch 21: 100%|██████████| 63/63 [01:12<00:00,  1.15s/it]\n"
     ]
    },
    {
     "name": "stdout",
     "output_type": "stream",
     "text": [
      "train step took 72.9 s\n",
      "train loss = 0.17\n"
     ]
    },
    {
     "name": "stderr",
     "output_type": "stream",
     "text": [
      "Validation 21: 100%|██████████| 50/50 [00:41<00:00,  1.21it/s]\n"
     ]
    },
    {
     "name": "stdout",
     "output_type": "stream",
     "text": [
      "val step took 42.0 s\n",
      "val loss = 0.21\n",
      "[Epoch 21|val]\t42.04 s\t0.2053\n",
      "start training (epoch=22)\n"
     ]
    },
    {
     "name": "stderr",
     "output_type": "stream",
     "text": [
      "Epoch 22: 100%|██████████| 63/63 [01:22<00:00,  1.31s/it]\n"
     ]
    },
    {
     "name": "stdout",
     "output_type": "stream",
     "text": [
      "train step took 83.2 s\n",
      "train loss = 0.17\n"
     ]
    },
    {
     "name": "stderr",
     "output_type": "stream",
     "text": [
      "Validation 22: 100%|██████████| 50/50 [00:56<00:00,  1.13s/it]\n"
     ]
    },
    {
     "name": "stdout",
     "output_type": "stream",
     "text": [
      "val step took 57.5 s\n",
      "val loss = 0.21\n",
      "[Epoch 22|val]\t57.46 s\t0.2063\n",
      "start training (epoch=23)\n"
     ]
    },
    {
     "name": "stderr",
     "output_type": "stream",
     "text": [
      "Epoch 23: 100%|██████████| 63/63 [01:25<00:00,  1.36s/it]\n"
     ]
    },
    {
     "name": "stdout",
     "output_type": "stream",
     "text": [
      "train step took 86.6 s\n",
      "train loss = 0.17\n"
     ]
    },
    {
     "name": "stderr",
     "output_type": "stream",
     "text": [
      "Validation 23: 100%|██████████| 50/50 [00:43<00:00,  1.15it/s]\n"
     ]
    },
    {
     "name": "stdout",
     "output_type": "stream",
     "text": [
      "val step took 44.4 s\n",
      "val loss = 0.21\n",
      "[Epoch 23|val]\t44.36 s\t0.2064\n",
      "start training (epoch=24)\n"
     ]
    },
    {
     "name": "stderr",
     "output_type": "stream",
     "text": [
      "Epoch 24: 100%|██████████| 63/63 [01:13<00:00,  1.17s/it]\n"
     ]
    },
    {
     "name": "stdout",
     "output_type": "stream",
     "text": [
      "train step took 74.4 s\n",
      "train loss = 0.17\n"
     ]
    },
    {
     "name": "stderr",
     "output_type": "stream",
     "text": [
      "Validation 24: 100%|██████████| 50/50 [00:54<00:00,  1.08s/it]\n"
     ]
    },
    {
     "name": "stdout",
     "output_type": "stream",
     "text": [
      "val step took 54.9 s\n",
      "val loss = 0.21\n",
      "[Epoch 24|val]\t54.87 s\t0.2071\n",
      "finished\n",
      "python ../train.py --augment --normalize --images-dir \"/home/amritagupta/ssdprivate/data/Streamflow/fpe_stations/West Brook 0_01171100/FLOW_CFS\" --pairs-file \"/home/amritagupta/ssdprivate/data/Streamflow/Jeff_data/stations/29-West Brook 0_01171100/input_4275/pairs_2500.csv\" --output-dir \"/home/amritagupta/ssdprivate/repos/fpe-model/results/vary_annot_frac.jeff_data/West Brook 0_01171100/input_4275/pairs_2500\" --model-dir \"/home/amritagupta/ssdprivate/repos/fpe-model/results/vary_annot_frac.jeff_data/West Brook 0_01171100/input_4275/pairs_2500\" --gpu 3\n",
      "Namespace(images_dir='/home/amritagupta/ssdprivate/data/Streamflow/fpe_stations/West Brook 0_01171100/FLOW_CFS', pairs_file='/home/amritagupta/ssdprivate/data/Streamflow/Jeff_data/stations/29-West Brook 0_01171100/input_4275/pairs_2500.csv', output_dir='/home/amritagupta/ssdprivate/repos/fpe-model/results/vary_annot_frac.jeff_data/West Brook 0_01171100/input_4275/pairs_2500', model_dir='/home/amritagupta/ssdprivate/repos/fpe-model/results/vary_annot_frac.jeff_data/West Brook 0_01171100/input_4275/pairs_2500', gpu=3, num_workers=12, local=False, epochs=25, batch_size=64, lr=0.001, random_seed=1691, unfreeze_after=2, num_image_stats=1000, input_size=480, decolorize=False, augment=True, normalize=True)\n",
      "train()\n",
      "args:\n",
      "{'images_dir': '/home/amritagupta/ssdprivate/data/Streamflow/fpe_stations/West Brook 0_01171100/FLOW_CFS', 'pairs_file': '/home/amritagupta/ssdprivate/data/Streamflow/Jeff_data/stations/29-West Brook 0_01171100/input_4275/pairs_2500.csv', 'output_dir': '/home/amritagupta/ssdprivate/repos/fpe-model/results/vary_annot_frac.jeff_data/West Brook 0_01171100/input_4275/pairs_2500', 'model_dir': '/home/amritagupta/ssdprivate/repos/fpe-model/results/vary_annot_frac.jeff_data/West Brook 0_01171100/input_4275/pairs_2500', 'gpu': 3, 'num_workers': 12, 'local': False, 'epochs': 25, 'batch_size': 64, 'lr': 0.001, 'random_seed': 1691, 'unfreeze_after': 2, 'num_image_stats': 1000, 'input_size': 480, 'decolorize': False, 'augment': True, 'normalize': True}\n",
      "device: cuda:3\n",
      "output_dir: /home/amritagupta/ssdprivate/repos/fpe-model/results/vary_annot_frac.jeff_data/West Brook 0_01171100/input_4275/pairs_2500\n",
      "saved args: /home/amritagupta/ssdprivate/repos/fpe-model/results/vary_annot_frac.jeff_data/West Brook 0_01171100/input_4275/pairs_2500/args.json\n",
      "model_dir: /home/amritagupta/ssdprivate/repos/fpe-model/results/vary_annot_frac.jeff_data/West Brook 0_01171100/input_4275/pairs_2500\n",
      "set seeds (1691)\n"
     ]
    },
    {
     "name": "stderr",
     "output_type": "stream",
     "text": [
      "100%|██████████| 1000/1000 [01:24<00:00, 11.79it/s]\n"
     ]
    },
    {
     "name": "stdout",
     "output_type": "stream",
     "text": [
      "resize_shape: [480, 640]\n",
      "input_shape: [384, 512]\n",
      "creating train dataset\n",
      "creating val datasets\n",
      "val ds: 3176\n",
      "creating data loaders\n",
      "initializing model\n",
      "start training\n",
      "start training (epoch=0)\n"
     ]
    },
    {
     "name": "stderr",
     "output_type": "stream",
     "text": [
      "Epoch 0: 100%|██████████| 79/79 [02:02<00:00,  1.54s/it]\n"
     ]
    },
    {
     "name": "stdout",
     "output_type": "stream",
     "text": [
      "train step took 122.7 s\n",
      "train loss = 0.66\n"
     ]
    },
    {
     "name": "stderr",
     "output_type": "stream",
     "text": [
      "Validation 0: 100%|██████████| 50/50 [01:03<00:00,  1.27s/it]\n"
     ]
    },
    {
     "name": "stdout",
     "output_type": "stream",
     "text": [
      "val step took 64.5 s\n",
      "val loss = 0.61\n",
      "[Epoch 0|val]\t64.54 s\t0.6115\n",
      "start training (epoch=1)\n"
     ]
    },
    {
     "name": "stderr",
     "output_type": "stream",
     "text": [
      "Epoch 1: 100%|██████████| 79/79 [01:52<00:00,  1.42s/it]\n"
     ]
    },
    {
     "name": "stdout",
     "output_type": "stream",
     "text": [
      "train step took 113.2 s\n",
      "train loss = 0.56\n"
     ]
    },
    {
     "name": "stderr",
     "output_type": "stream",
     "text": [
      "Validation 1: 100%|██████████| 50/50 [00:55<00:00,  1.11s/it]\n"
     ]
    },
    {
     "name": "stdout",
     "output_type": "stream",
     "text": [
      "val step took 56.2 s\n",
      "val loss = 0.48\n",
      "[Epoch 1|val]\t56.16 s\t0.4794\n",
      "unfreezing cnn body after epoch=1\n",
      "start training (epoch=2)\n"
     ]
    },
    {
     "name": "stderr",
     "output_type": "stream",
     "text": [
      "Epoch 2: 100%|██████████| 79/79 [01:54<00:00,  1.45s/it]\n"
     ]
    },
    {
     "name": "stdout",
     "output_type": "stream",
     "text": [
      "train step took 115.7 s\n",
      "train loss = 0.38\n"
     ]
    },
    {
     "name": "stderr",
     "output_type": "stream",
     "text": [
      "Validation 2: 100%|██████████| 50/50 [00:56<00:00,  1.12s/it]\n"
     ]
    },
    {
     "name": "stdout",
     "output_type": "stream",
     "text": [
      "val step took 57.4 s\n",
      "val loss = 0.28\n",
      "[Epoch 2|val]\t57.41 s\t0.2812\n",
      "start training (epoch=3)\n"
     ]
    },
    {
     "name": "stderr",
     "output_type": "stream",
     "text": [
      "Epoch 3: 100%|██████████| 79/79 [01:58<00:00,  1.50s/it]\n"
     ]
    },
    {
     "name": "stdout",
     "output_type": "stream",
     "text": [
      "train step took 119.1 s\n",
      "train loss = 0.26\n"
     ]
    },
    {
     "name": "stderr",
     "output_type": "stream",
     "text": [
      "Validation 3: 100%|██████████| 50/50 [00:56<00:00,  1.12s/it]\n"
     ]
    },
    {
     "name": "stdout",
     "output_type": "stream",
     "text": [
      "val step took 57.2 s\n",
      "val loss = 0.22\n",
      "[Epoch 3|val]\t57.15 s\t0.2249\n",
      "start training (epoch=4)\n"
     ]
    },
    {
     "name": "stderr",
     "output_type": "stream",
     "text": [
      "Epoch 4: 100%|██████████| 79/79 [01:46<00:00,  1.35s/it]\n"
     ]
    },
    {
     "name": "stdout",
     "output_type": "stream",
     "text": [
      "train step took 108.1 s\n",
      "train loss = 0.23\n"
     ]
    },
    {
     "name": "stderr",
     "output_type": "stream",
     "text": [
      "Validation 4: 100%|██████████| 50/50 [01:04<00:00,  1.28s/it]\n"
     ]
    },
    {
     "name": "stdout",
     "output_type": "stream",
     "text": [
      "val step took 65.1 s\n",
      "val loss = 0.21\n",
      "[Epoch 4|val]\t65.15 s\t0.2117\n",
      "start training (epoch=5)\n"
     ]
    },
    {
     "name": "stderr",
     "output_type": "stream",
     "text": [
      "Epoch 5: 100%|██████████| 79/79 [01:47<00:00,  1.36s/it]\n"
     ]
    },
    {
     "name": "stdout",
     "output_type": "stream",
     "text": [
      "train step took 108.2 s\n",
      "train loss = 0.22\n"
     ]
    },
    {
     "name": "stderr",
     "output_type": "stream",
     "text": [
      "Validation 5: 100%|██████████| 50/50 [00:59<00:00,  1.19s/it]\n"
     ]
    },
    {
     "name": "stdout",
     "output_type": "stream",
     "text": [
      "val step took 60.5 s\n",
      "val loss = 0.21\n",
      "[Epoch 5|val]\t60.50 s\t0.2076\n",
      "start training (epoch=6)\n"
     ]
    },
    {
     "name": "stderr",
     "output_type": "stream",
     "text": [
      "Epoch 6: 100%|██████████| 79/79 [01:53<00:00,  1.43s/it]\n"
     ]
    },
    {
     "name": "stdout",
     "output_type": "stream",
     "text": [
      "train step took 114.4 s\n",
      "train loss = 0.21\n"
     ]
    },
    {
     "name": "stderr",
     "output_type": "stream",
     "text": [
      "Validation 6: 100%|██████████| 50/50 [00:53<00:00,  1.07s/it]\n"
     ]
    },
    {
     "name": "stdout",
     "output_type": "stream",
     "text": [
      "val step took 54.8 s\n",
      "val loss = 0.21\n",
      "[Epoch 6|val]\t54.83 s\t0.2059\n",
      "start training (epoch=7)\n"
     ]
    },
    {
     "name": "stderr",
     "output_type": "stream",
     "text": [
      "Epoch 7: 100%|██████████| 79/79 [01:52<00:00,  1.43s/it]\n"
     ]
    },
    {
     "name": "stdout",
     "output_type": "stream",
     "text": [
      "train step took 113.6 s\n",
      "train loss = 0.19\n"
     ]
    },
    {
     "name": "stderr",
     "output_type": "stream",
     "text": [
      "Validation 7: 100%|██████████| 50/50 [00:53<00:00,  1.07s/it]\n"
     ]
    },
    {
     "name": "stdout",
     "output_type": "stream",
     "text": [
      "val step took 54.6 s\n",
      "val loss = 0.20\n",
      "[Epoch 7|val]\t54.58 s\t0.1969\n",
      "start training (epoch=8)\n"
     ]
    },
    {
     "name": "stderr",
     "output_type": "stream",
     "text": [
      "Epoch 8: 100%|██████████| 79/79 [01:52<00:00,  1.43s/it]\n"
     ]
    },
    {
     "name": "stdout",
     "output_type": "stream",
     "text": [
      "train step took 113.5 s\n",
      "train loss = 0.19\n"
     ]
    },
    {
     "name": "stderr",
     "output_type": "stream",
     "text": [
      "Validation 8: 100%|██████████| 50/50 [01:00<00:00,  1.21s/it]\n"
     ]
    },
    {
     "name": "stdout",
     "output_type": "stream",
     "text": [
      "val step took 61.4 s\n",
      "val loss = 0.20\n",
      "[Epoch 8|val]\t61.43 s\t0.2003\n",
      "start training (epoch=9)\n"
     ]
    },
    {
     "name": "stderr",
     "output_type": "stream",
     "text": [
      "Epoch 9: 100%|██████████| 79/79 [01:50<00:00,  1.40s/it]\n"
     ]
    },
    {
     "name": "stdout",
     "output_type": "stream",
     "text": [
      "train step took 111.7 s\n",
      "train loss = 0.18\n"
     ]
    },
    {
     "name": "stderr",
     "output_type": "stream",
     "text": [
      "Validation 9: 100%|██████████| 50/50 [00:52<00:00,  1.06s/it]\n"
     ]
    },
    {
     "name": "stdout",
     "output_type": "stream",
     "text": [
      "val step took 53.7 s\n",
      "val loss = 0.20\n",
      "[Epoch 9|val]\t53.72 s\t0.1982\n",
      "start training (epoch=10)\n"
     ]
    },
    {
     "name": "stderr",
     "output_type": "stream",
     "text": [
      "Epoch 10: 100%|██████████| 79/79 [01:52<00:00,  1.42s/it]\n"
     ]
    },
    {
     "name": "stdout",
     "output_type": "stream",
     "text": [
      "train step took 113.5 s\n",
      "train loss = 0.18\n"
     ]
    },
    {
     "name": "stderr",
     "output_type": "stream",
     "text": [
      "Validation 10: 100%|██████████| 50/50 [00:52<00:00,  1.06s/it]\n"
     ]
    },
    {
     "name": "stdout",
     "output_type": "stream",
     "text": [
      "val step took 53.9 s\n",
      "val loss = 0.19\n",
      "[Epoch 10|val]\t53.87 s\t0.1947\n",
      "start training (epoch=11)\n"
     ]
    },
    {
     "name": "stderr",
     "output_type": "stream",
     "text": [
      "Epoch 11: 100%|██████████| 79/79 [01:28<00:00,  1.12s/it]\n"
     ]
    },
    {
     "name": "stdout",
     "output_type": "stream",
     "text": [
      "train step took 89.3 s\n",
      "train loss = 0.18\n"
     ]
    },
    {
     "name": "stderr",
     "output_type": "stream",
     "text": [
      "Validation 11: 100%|██████████| 50/50 [00:46<00:00,  1.07it/s]\n"
     ]
    },
    {
     "name": "stdout",
     "output_type": "stream",
     "text": [
      "val step took 47.4 s\n",
      "val loss = 0.20\n",
      "[Epoch 11|val]\t47.44 s\t0.2012\n",
      "start training (epoch=12)\n"
     ]
    },
    {
     "name": "stderr",
     "output_type": "stream",
     "text": [
      "Epoch 12: 100%|██████████| 79/79 [01:52<00:00,  1.43s/it]\n"
     ]
    },
    {
     "name": "stdout",
     "output_type": "stream",
     "text": [
      "train step took 113.7 s\n",
      "train loss = 0.18\n"
     ]
    },
    {
     "name": "stderr",
     "output_type": "stream",
     "text": [
      "Validation 12: 100%|██████████| 50/50 [00:53<00:00,  1.08s/it]\n"
     ]
    },
    {
     "name": "stdout",
     "output_type": "stream",
     "text": [
      "val step took 55.0 s\n",
      "val loss = 0.19\n",
      "[Epoch 12|val]\t55.01 s\t0.1948\n",
      "start training (epoch=13)\n"
     ]
    },
    {
     "name": "stderr",
     "output_type": "stream",
     "text": [
      "Epoch 13: 100%|██████████| 79/79 [01:23<00:00,  1.06s/it]\n"
     ]
    },
    {
     "name": "stdout",
     "output_type": "stream",
     "text": [
      "train step took 84.8 s\n",
      "train loss = 0.18\n"
     ]
    },
    {
     "name": "stderr",
     "output_type": "stream",
     "text": [
      "Validation 13: 100%|██████████| 50/50 [00:48<00:00,  1.02it/s]\n"
     ]
    },
    {
     "name": "stdout",
     "output_type": "stream",
     "text": [
      "val step took 49.8 s\n",
      "val loss = 0.20\n",
      "[Epoch 13|val]\t49.80 s\t0.1984\n",
      "start training (epoch=14)\n"
     ]
    },
    {
     "name": "stderr",
     "output_type": "stream",
     "text": [
      "Epoch 14: 100%|██████████| 79/79 [02:01<00:00,  1.53s/it]\n"
     ]
    },
    {
     "name": "stdout",
     "output_type": "stream",
     "text": [
      "train step took 122.1 s\n",
      "train loss = 0.17\n"
     ]
    },
    {
     "name": "stderr",
     "output_type": "stream",
     "text": [
      "Validation 14: 100%|██████████| 50/50 [01:07<00:00,  1.36s/it]\n"
     ]
    },
    {
     "name": "stdout",
     "output_type": "stream",
     "text": [
      "val step took 68.7 s\n",
      "val loss = 0.20\n",
      "[Epoch 14|val]\t68.71 s\t0.1965\n",
      "start training (epoch=15)\n"
     ]
    },
    {
     "name": "stderr",
     "output_type": "stream",
     "text": [
      "Epoch 15: 100%|██████████| 79/79 [02:00<00:00,  1.53s/it]\n"
     ]
    },
    {
     "name": "stdout",
     "output_type": "stream",
     "text": [
      "train step took 121.7 s\n",
      "train loss = 0.17\n"
     ]
    },
    {
     "name": "stderr",
     "output_type": "stream",
     "text": [
      "Validation 15: 100%|██████████| 50/50 [00:51<00:00,  1.03s/it]\n"
     ]
    },
    {
     "name": "stdout",
     "output_type": "stream",
     "text": [
      "val step took 52.5 s\n",
      "val loss = 0.19\n",
      "[Epoch 15|val]\t52.46 s\t0.1948\n",
      "start training (epoch=16)\n"
     ]
    },
    {
     "name": "stderr",
     "output_type": "stream",
     "text": [
      "Epoch 16: 100%|██████████| 79/79 [01:52<00:00,  1.42s/it]\n"
     ]
    },
    {
     "name": "stdout",
     "output_type": "stream",
     "text": [
      "train step took 113.6 s\n",
      "train loss = 0.17\n"
     ]
    },
    {
     "name": "stderr",
     "output_type": "stream",
     "text": [
      "Validation 16: 100%|██████████| 50/50 [00:59<00:00,  1.19s/it]\n"
     ]
    },
    {
     "name": "stdout",
     "output_type": "stream",
     "text": [
      "val step took 60.5 s\n",
      "val loss = 0.20\n",
      "[Epoch 16|val]\t60.55 s\t0.1961\n",
      "start training (epoch=17)\n"
     ]
    },
    {
     "name": "stderr",
     "output_type": "stream",
     "text": [
      "Epoch 17: 100%|██████████| 79/79 [01:47<00:00,  1.36s/it]\n"
     ]
    },
    {
     "name": "stdout",
     "output_type": "stream",
     "text": [
      "train step took 108.6 s\n",
      "train loss = 0.18\n"
     ]
    },
    {
     "name": "stderr",
     "output_type": "stream",
     "text": [
      "Validation 17: 100%|██████████| 50/50 [00:54<00:00,  1.09s/it]\n"
     ]
    },
    {
     "name": "stdout",
     "output_type": "stream",
     "text": [
      "val step took 55.7 s\n",
      "val loss = 0.19\n",
      "[Epoch 17|val]\t55.74 s\t0.1933\n",
      "start training (epoch=18)\n"
     ]
    },
    {
     "name": "stderr",
     "output_type": "stream",
     "text": [
      "Epoch 18: 100%|██████████| 79/79 [01:57<00:00,  1.48s/it]\n"
     ]
    },
    {
     "name": "stdout",
     "output_type": "stream",
     "text": [
      "train step took 118.3 s\n",
      "train loss = 0.18\n"
     ]
    },
    {
     "name": "stderr",
     "output_type": "stream",
     "text": [
      "Validation 18: 100%|██████████| 50/50 [01:03<00:00,  1.28s/it]\n"
     ]
    },
    {
     "name": "stdout",
     "output_type": "stream",
     "text": [
      "val step took 64.9 s\n",
      "val loss = 0.19\n",
      "[Epoch 18|val]\t64.89 s\t0.1950\n",
      "start training (epoch=19)\n"
     ]
    },
    {
     "name": "stderr",
     "output_type": "stream",
     "text": [
      "Epoch 19: 100%|██████████| 79/79 [01:48<00:00,  1.37s/it]\n"
     ]
    },
    {
     "name": "stdout",
     "output_type": "stream",
     "text": [
      "train step took 109.2 s\n",
      "train loss = 0.17\n"
     ]
    },
    {
     "name": "stderr",
     "output_type": "stream",
     "text": [
      "Validation 19: 100%|██████████| 50/50 [01:08<00:00,  1.38s/it]\n"
     ]
    },
    {
     "name": "stdout",
     "output_type": "stream",
     "text": [
      "val step took 69.7 s\n",
      "val loss = 0.19\n",
      "[Epoch 19|val]\t69.75 s\t0.1945\n",
      "start training (epoch=20)\n"
     ]
    },
    {
     "name": "stderr",
     "output_type": "stream",
     "text": [
      "Epoch 20: 100%|██████████| 79/79 [01:38<00:00,  1.25s/it]\n"
     ]
    },
    {
     "name": "stdout",
     "output_type": "stream",
     "text": [
      "train step took 99.9 s\n",
      "train loss = 0.17\n"
     ]
    },
    {
     "name": "stderr",
     "output_type": "stream",
     "text": [
      "Validation 20: 100%|██████████| 50/50 [00:44<00:00,  1.12it/s]\n"
     ]
    },
    {
     "name": "stdout",
     "output_type": "stream",
     "text": [
      "val step took 45.4 s\n",
      "val loss = 0.20\n",
      "[Epoch 20|val]\t45.43 s\t0.1951\n",
      "start training (epoch=21)\n"
     ]
    },
    {
     "name": "stderr",
     "output_type": "stream",
     "text": [
      "Epoch 21: 100%|██████████| 79/79 [01:45<00:00,  1.33s/it]\n"
     ]
    },
    {
     "name": "stdout",
     "output_type": "stream",
     "text": [
      "train step took 106.3 s\n",
      "train loss = 0.18\n"
     ]
    },
    {
     "name": "stderr",
     "output_type": "stream",
     "text": [
      "Validation 21: 100%|██████████| 50/50 [00:56<00:00,  1.12s/it]\n"
     ]
    },
    {
     "name": "stdout",
     "output_type": "stream",
     "text": [
      "val step took 57.3 s\n",
      "val loss = 0.19\n",
      "[Epoch 21|val]\t57.27 s\t0.1942\n",
      "start training (epoch=22)\n"
     ]
    },
    {
     "name": "stderr",
     "output_type": "stream",
     "text": [
      "Epoch 22: 100%|██████████| 79/79 [02:00<00:00,  1.52s/it]\n"
     ]
    },
    {
     "name": "stdout",
     "output_type": "stream",
     "text": [
      "train step took 121.3 s\n",
      "train loss = 0.17\n"
     ]
    },
    {
     "name": "stderr",
     "output_type": "stream",
     "text": [
      "Validation 22: 100%|██████████| 50/50 [00:57<00:00,  1.15s/it]\n"
     ]
    },
    {
     "name": "stdout",
     "output_type": "stream",
     "text": [
      "val step took 58.5 s\n",
      "val loss = 0.20\n",
      "[Epoch 22|val]\t58.47 s\t0.1967\n",
      "start training (epoch=23)\n"
     ]
    },
    {
     "name": "stderr",
     "output_type": "stream",
     "text": [
      "Epoch 23: 100%|██████████| 79/79 [01:46<00:00,  1.35s/it]\n"
     ]
    },
    {
     "name": "stdout",
     "output_type": "stream",
     "text": [
      "train step took 107.9 s\n",
      "train loss = 0.17\n"
     ]
    },
    {
     "name": "stderr",
     "output_type": "stream",
     "text": [
      "Validation 23: 100%|██████████| 50/50 [00:51<00:00,  1.02s/it]\n"
     ]
    },
    {
     "name": "stdout",
     "output_type": "stream",
     "text": [
      "val step took 52.3 s\n",
      "val loss = 0.20\n",
      "[Epoch 23|val]\t52.34 s\t0.1973\n",
      "start training (epoch=24)\n"
     ]
    },
    {
     "name": "stderr",
     "output_type": "stream",
     "text": [
      "Epoch 24: 100%|██████████| 79/79 [01:56<00:00,  1.48s/it]\n"
     ]
    },
    {
     "name": "stdout",
     "output_type": "stream",
     "text": [
      "train step took 117.5 s\n",
      "train loss = 0.17\n"
     ]
    },
    {
     "name": "stderr",
     "output_type": "stream",
     "text": [
      "Validation 24: 100%|██████████| 50/50 [00:45<00:00,  1.10it/s]\n"
     ]
    },
    {
     "name": "stdout",
     "output_type": "stream",
     "text": [
      "val step took 46.2 s\n",
      "val loss = 0.20\n",
      "[Epoch 24|val]\t46.22 s\t0.2004\n",
      "finished\n",
      "python ../train.py --augment --normalize --images-dir \"/home/amritagupta/ssdprivate/data/Streamflow/fpe_stations/West Brook 0_01171100/FLOW_CFS\" --pairs-file \"/home/amritagupta/ssdprivate/data/Streamflow/Jeff_data/stations/29-West Brook 0_01171100/input_4275/pairs_3000.csv\" --output-dir \"/home/amritagupta/ssdprivate/repos/fpe-model/results/vary_annot_frac.jeff_data/West Brook 0_01171100/input_4275/pairs_3000\" --model-dir \"/home/amritagupta/ssdprivate/repos/fpe-model/results/vary_annot_frac.jeff_data/West Brook 0_01171100/input_4275/pairs_3000\" --gpu 3\n",
      "Namespace(images_dir='/home/amritagupta/ssdprivate/data/Streamflow/fpe_stations/West Brook 0_01171100/FLOW_CFS', pairs_file='/home/amritagupta/ssdprivate/data/Streamflow/Jeff_data/stations/29-West Brook 0_01171100/input_4275/pairs_3000.csv', output_dir='/home/amritagupta/ssdprivate/repos/fpe-model/results/vary_annot_frac.jeff_data/West Brook 0_01171100/input_4275/pairs_3000', model_dir='/home/amritagupta/ssdprivate/repos/fpe-model/results/vary_annot_frac.jeff_data/West Brook 0_01171100/input_4275/pairs_3000', gpu=3, num_workers=12, local=False, epochs=25, batch_size=64, lr=0.001, random_seed=1691, unfreeze_after=2, num_image_stats=1000, input_size=480, decolorize=False, augment=True, normalize=True)\n",
      "train()\n",
      "args:\n",
      "{'images_dir': '/home/amritagupta/ssdprivate/data/Streamflow/fpe_stations/West Brook 0_01171100/FLOW_CFS', 'pairs_file': '/home/amritagupta/ssdprivate/data/Streamflow/Jeff_data/stations/29-West Brook 0_01171100/input_4275/pairs_3000.csv', 'output_dir': '/home/amritagupta/ssdprivate/repos/fpe-model/results/vary_annot_frac.jeff_data/West Brook 0_01171100/input_4275/pairs_3000', 'model_dir': '/home/amritagupta/ssdprivate/repos/fpe-model/results/vary_annot_frac.jeff_data/West Brook 0_01171100/input_4275/pairs_3000', 'gpu': 3, 'num_workers': 12, 'local': False, 'epochs': 25, 'batch_size': 64, 'lr': 0.001, 'random_seed': 1691, 'unfreeze_after': 2, 'num_image_stats': 1000, 'input_size': 480, 'decolorize': False, 'augment': True, 'normalize': True}\n",
      "device: cuda:3\n",
      "output_dir: /home/amritagupta/ssdprivate/repos/fpe-model/results/vary_annot_frac.jeff_data/West Brook 0_01171100/input_4275/pairs_3000\n",
      "saved args: /home/amritagupta/ssdprivate/repos/fpe-model/results/vary_annot_frac.jeff_data/West Brook 0_01171100/input_4275/pairs_3000/args.json\n",
      "model_dir: /home/amritagupta/ssdprivate/repos/fpe-model/results/vary_annot_frac.jeff_data/West Brook 0_01171100/input_4275/pairs_3000\n",
      "set seeds (1691)\n"
     ]
    },
    {
     "name": "stderr",
     "output_type": "stream",
     "text": [
      "100%|██████████| 1000/1000 [01:23<00:00, 11.94it/s]\n"
     ]
    },
    {
     "name": "stdout",
     "output_type": "stream",
     "text": [
      "resize_shape: [480, 640]\n",
      "input_shape: [384, 512]\n",
      "creating train dataset\n",
      "creating val datasets\n",
      "val ds: 3176\n",
      "creating data loaders\n",
      "initializing model\n",
      "start training\n",
      "start training (epoch=0)\n"
     ]
    },
    {
     "name": "stderr",
     "output_type": "stream",
     "text": [
      "Epoch 0: 100%|██████████| 94/94 [02:20<00:00,  1.49s/it]\n"
     ]
    },
    {
     "name": "stdout",
     "output_type": "stream",
     "text": [
      "train step took 141.0 s\n",
      "train loss = 0.66\n"
     ]
    },
    {
     "name": "stderr",
     "output_type": "stream",
     "text": [
      "Validation 0: 100%|██████████| 50/50 [00:52<00:00,  1.04s/it]\n"
     ]
    },
    {
     "name": "stdout",
     "output_type": "stream",
     "text": [
      "val step took 53.1 s\n",
      "val loss = 0.61\n",
      "[Epoch 0|val]\t53.11 s\t0.6137\n",
      "start training (epoch=1)\n"
     ]
    },
    {
     "name": "stderr",
     "output_type": "stream",
     "text": [
      "Epoch 1: 100%|██████████| 94/94 [02:16<00:00,  1.45s/it]\n"
     ]
    },
    {
     "name": "stdout",
     "output_type": "stream",
     "text": [
      "train step took 138.0 s\n",
      "train loss = 0.56\n"
     ]
    },
    {
     "name": "stderr",
     "output_type": "stream",
     "text": [
      "Validation 1: 100%|██████████| 50/50 [01:08<00:00,  1.38s/it]\n"
     ]
    },
    {
     "name": "stdout",
     "output_type": "stream",
     "text": [
      "val step took 69.9 s\n",
      "val loss = 0.46\n",
      "[Epoch 1|val]\t69.92 s\t0.4617\n",
      "unfreezing cnn body after epoch=1\n",
      "start training (epoch=2)\n"
     ]
    },
    {
     "name": "stderr",
     "output_type": "stream",
     "text": [
      "Epoch 2: 100%|██████████| 94/94 [02:16<00:00,  1.46s/it]\n"
     ]
    },
    {
     "name": "stdout",
     "output_type": "stream",
     "text": [
      "train step took 137.7 s\n",
      "train loss = 0.36\n"
     ]
    },
    {
     "name": "stderr",
     "output_type": "stream",
     "text": [
      "Validation 2: 100%|██████████| 50/50 [01:00<00:00,  1.22s/it]\n"
     ]
    },
    {
     "name": "stdout",
     "output_type": "stream",
     "text": [
      "val step took 61.8 s\n",
      "val loss = 0.27\n",
      "[Epoch 2|val]\t61.81 s\t0.2660\n",
      "start training (epoch=3)\n"
     ]
    },
    {
     "name": "stderr",
     "output_type": "stream",
     "text": [
      "Epoch 3: 100%|██████████| 94/94 [01:55<00:00,  1.23s/it]\n"
     ]
    },
    {
     "name": "stdout",
     "output_type": "stream",
     "text": [
      "train step took 116.5 s\n",
      "train loss = 0.24\n"
     ]
    },
    {
     "name": "stderr",
     "output_type": "stream",
     "text": [
      "Validation 3: 100%|██████████| 50/50 [00:57<00:00,  1.15s/it]\n"
     ]
    },
    {
     "name": "stdout",
     "output_type": "stream",
     "text": [
      "val step took 58.6 s\n",
      "val loss = 0.21\n",
      "[Epoch 3|val]\t58.56 s\t0.2142\n",
      "start training (epoch=4)\n"
     ]
    },
    {
     "name": "stderr",
     "output_type": "stream",
     "text": [
      "Epoch 4: 100%|██████████| 94/94 [02:05<00:00,  1.34s/it]\n"
     ]
    },
    {
     "name": "stdout",
     "output_type": "stream",
     "text": [
      "train step took 127.0 s\n",
      "train loss = 0.21\n"
     ]
    },
    {
     "name": "stderr",
     "output_type": "stream",
     "text": [
      "Validation 4: 100%|██████████| 50/50 [00:45<00:00,  1.10it/s]\n"
     ]
    },
    {
     "name": "stdout",
     "output_type": "stream",
     "text": [
      "val step took 46.6 s\n",
      "val loss = 0.20\n",
      "[Epoch 4|val]\t46.57 s\t0.2017\n",
      "start training (epoch=5)\n"
     ]
    },
    {
     "name": "stderr",
     "output_type": "stream",
     "text": [
      "Epoch 5: 100%|██████████| 94/94 [01:44<00:00,  1.11s/it]\n"
     ]
    },
    {
     "name": "stdout",
     "output_type": "stream",
     "text": [
      "train step took 105.5 s\n",
      "train loss = 0.21\n"
     ]
    },
    {
     "name": "stderr",
     "output_type": "stream",
     "text": [
      "Validation 5: 100%|██████████| 50/50 [01:00<00:00,  1.22s/it]\n"
     ]
    },
    {
     "name": "stdout",
     "output_type": "stream",
     "text": [
      "val step took 62.0 s\n",
      "val loss = 0.20\n",
      "[Epoch 5|val]\t61.97 s\t0.2021\n",
      "start training (epoch=6)\n"
     ]
    },
    {
     "name": "stderr",
     "output_type": "stream",
     "text": [
      "Epoch 6: 100%|██████████| 94/94 [01:38<00:00,  1.05s/it]\n"
     ]
    },
    {
     "name": "stdout",
     "output_type": "stream",
     "text": [
      "train step took 99.9 s\n",
      "train loss = 0.20\n"
     ]
    },
    {
     "name": "stderr",
     "output_type": "stream",
     "text": [
      "Validation 6: 100%|██████████| 50/50 [00:45<00:00,  1.10it/s]\n"
     ]
    },
    {
     "name": "stdout",
     "output_type": "stream",
     "text": [
      "val step took 46.6 s\n",
      "val loss = 0.19\n",
      "[Epoch 6|val]\t46.56 s\t0.1944\n",
      "start training (epoch=7)\n"
     ]
    },
    {
     "name": "stderr",
     "output_type": "stream",
     "text": [
      "Epoch 7: 100%|██████████| 94/94 [02:18<00:00,  1.48s/it]\n"
     ]
    },
    {
     "name": "stdout",
     "output_type": "stream",
     "text": [
      "train step took 139.8 s\n",
      "train loss = 0.19\n"
     ]
    },
    {
     "name": "stderr",
     "output_type": "stream",
     "text": [
      "Validation 7: 100%|██████████| 50/50 [00:48<00:00,  1.04it/s]\n"
     ]
    },
    {
     "name": "stdout",
     "output_type": "stream",
     "text": [
      "val step took 49.2 s\n",
      "val loss = 0.19\n",
      "[Epoch 7|val]\t49.16 s\t0.1931\n",
      "start training (epoch=8)\n"
     ]
    },
    {
     "name": "stderr",
     "output_type": "stream",
     "text": [
      "Epoch 8: 100%|██████████| 94/94 [02:16<00:00,  1.45s/it]\n"
     ]
    },
    {
     "name": "stdout",
     "output_type": "stream",
     "text": [
      "train step took 137.1 s\n",
      "train loss = 0.19\n"
     ]
    },
    {
     "name": "stderr",
     "output_type": "stream",
     "text": [
      "Validation 8: 100%|██████████| 50/50 [01:01<00:00,  1.23s/it]\n"
     ]
    },
    {
     "name": "stdout",
     "output_type": "stream",
     "text": [
      "val step took 62.8 s\n",
      "val loss = 0.20\n",
      "[Epoch 8|val]\t62.81 s\t0.1988\n",
      "start training (epoch=9)\n"
     ]
    },
    {
     "name": "stderr",
     "output_type": "stream",
     "text": [
      "Epoch 9: 100%|██████████| 94/94 [02:10<00:00,  1.38s/it]\n"
     ]
    },
    {
     "name": "stdout",
     "output_type": "stream",
     "text": [
      "train step took 131.2 s\n",
      "train loss = 0.18\n"
     ]
    },
    {
     "name": "stderr",
     "output_type": "stream",
     "text": [
      "Validation 9: 100%|██████████| 50/50 [00:57<00:00,  1.14s/it]\n"
     ]
    },
    {
     "name": "stdout",
     "output_type": "stream",
     "text": [
      "val step took 58.4 s\n",
      "val loss = 0.19\n",
      "[Epoch 9|val]\t58.40 s\t0.1923\n",
      "start training (epoch=10)\n"
     ]
    },
    {
     "name": "stderr",
     "output_type": "stream",
     "text": [
      "Epoch 10: 100%|██████████| 94/94 [02:05<00:00,  1.33s/it]\n"
     ]
    },
    {
     "name": "stdout",
     "output_type": "stream",
     "text": [
      "train step took 126.4 s\n",
      "train loss = 0.19\n"
     ]
    },
    {
     "name": "stderr",
     "output_type": "stream",
     "text": [
      "Validation 10: 100%|██████████| 50/50 [00:54<00:00,  1.08s/it]\n"
     ]
    },
    {
     "name": "stdout",
     "output_type": "stream",
     "text": [
      "val step took 55.2 s\n",
      "val loss = 0.19\n",
      "[Epoch 10|val]\t55.24 s\t0.1938\n",
      "start training (epoch=11)\n"
     ]
    },
    {
     "name": "stderr",
     "output_type": "stream",
     "text": [
      "Epoch 11: 100%|██████████| 94/94 [01:57<00:00,  1.25s/it]\n"
     ]
    },
    {
     "name": "stdout",
     "output_type": "stream",
     "text": [
      "train step took 118.3 s\n",
      "train loss = 0.18\n"
     ]
    },
    {
     "name": "stderr",
     "output_type": "stream",
     "text": [
      "Validation 11: 100%|██████████| 50/50 [00:56<00:00,  1.13s/it]\n"
     ]
    },
    {
     "name": "stdout",
     "output_type": "stream",
     "text": [
      "val step took 57.6 s\n",
      "val loss = 0.19\n",
      "[Epoch 11|val]\t57.59 s\t0.1898\n",
      "start training (epoch=12)\n"
     ]
    },
    {
     "name": "stderr",
     "output_type": "stream",
     "text": [
      "Epoch 12: 100%|██████████| 94/94 [01:59<00:00,  1.27s/it]\n"
     ]
    },
    {
     "name": "stdout",
     "output_type": "stream",
     "text": [
      "train step took 120.6 s\n",
      "train loss = 0.17\n"
     ]
    },
    {
     "name": "stderr",
     "output_type": "stream",
     "text": [
      "Validation 12: 100%|██████████| 50/50 [00:53<00:00,  1.08s/it]\n"
     ]
    },
    {
     "name": "stdout",
     "output_type": "stream",
     "text": [
      "val step took 54.8 s\n",
      "val loss = 0.19\n",
      "[Epoch 12|val]\t54.81 s\t0.1943\n",
      "start training (epoch=13)\n"
     ]
    },
    {
     "name": "stderr",
     "output_type": "stream",
     "text": [
      "Epoch 13: 100%|██████████| 94/94 [02:07<00:00,  1.36s/it]\n"
     ]
    },
    {
     "name": "stdout",
     "output_type": "stream",
     "text": [
      "train step took 128.8 s\n",
      "train loss = 0.17\n"
     ]
    },
    {
     "name": "stderr",
     "output_type": "stream",
     "text": [
      "Validation 13: 100%|██████████| 50/50 [00:41<00:00,  1.20it/s]\n"
     ]
    },
    {
     "name": "stdout",
     "output_type": "stream",
     "text": [
      "val step took 42.8 s\n",
      "val loss = 0.19\n",
      "[Epoch 13|val]\t42.84 s\t0.1919\n",
      "start training (epoch=14)\n"
     ]
    },
    {
     "name": "stderr",
     "output_type": "stream",
     "text": [
      "Epoch 14: 100%|██████████| 94/94 [02:21<00:00,  1.50s/it]\n"
     ]
    },
    {
     "name": "stdout",
     "output_type": "stream",
     "text": [
      "train step took 142.6 s\n",
      "train loss = 0.17\n"
     ]
    },
    {
     "name": "stderr",
     "output_type": "stream",
     "text": [
      "Validation 14: 100%|██████████| 50/50 [00:51<00:00,  1.04s/it]\n"
     ]
    },
    {
     "name": "stdout",
     "output_type": "stream",
     "text": [
      "val step took 52.9 s\n",
      "val loss = 0.19\n",
      "[Epoch 14|val]\t52.85 s\t0.1910\n",
      "start training (epoch=15)\n"
     ]
    },
    {
     "name": "stderr",
     "output_type": "stream",
     "text": [
      "Epoch 15: 100%|██████████| 94/94 [02:16<00:00,  1.45s/it]\n"
     ]
    },
    {
     "name": "stdout",
     "output_type": "stream",
     "text": [
      "train step took 137.6 s\n",
      "train loss = 0.17\n"
     ]
    },
    {
     "name": "stderr",
     "output_type": "stream",
     "text": [
      "Validation 15: 100%|██████████| 50/50 [00:56<00:00,  1.13s/it]\n"
     ]
    },
    {
     "name": "stdout",
     "output_type": "stream",
     "text": [
      "val step took 57.4 s\n",
      "val loss = 0.19\n",
      "[Epoch 15|val]\t57.38 s\t0.1931\n",
      "start training (epoch=16)\n"
     ]
    },
    {
     "name": "stderr",
     "output_type": "stream",
     "text": [
      "Epoch 16: 100%|██████████| 94/94 [01:57<00:00,  1.25s/it]\n"
     ]
    },
    {
     "name": "stdout",
     "output_type": "stream",
     "text": [
      "train step took 118.9 s\n",
      "train loss = 0.16\n"
     ]
    },
    {
     "name": "stderr",
     "output_type": "stream",
     "text": [
      "Validation 16: 100%|██████████| 50/50 [00:47<00:00,  1.05it/s]\n"
     ]
    },
    {
     "name": "stdout",
     "output_type": "stream",
     "text": [
      "val step took 48.8 s\n",
      "val loss = 0.19\n",
      "[Epoch 16|val]\t48.75 s\t0.1937\n",
      "start training (epoch=17)\n"
     ]
    },
    {
     "name": "stderr",
     "output_type": "stream",
     "text": [
      "Epoch 17: 100%|██████████| 94/94 [02:06<00:00,  1.34s/it]\n"
     ]
    },
    {
     "name": "stdout",
     "output_type": "stream",
     "text": [
      "train step took 127.5 s\n",
      "train loss = 0.16\n"
     ]
    },
    {
     "name": "stderr",
     "output_type": "stream",
     "text": [
      "Validation 17: 100%|██████████| 50/50 [00:44<00:00,  1.12it/s]\n"
     ]
    },
    {
     "name": "stdout",
     "output_type": "stream",
     "text": [
      "val step took 45.6 s\n",
      "val loss = 0.19\n",
      "[Epoch 17|val]\t45.60 s\t0.1943\n",
      "start training (epoch=18)\n"
     ]
    },
    {
     "name": "stderr",
     "output_type": "stream",
     "text": [
      "Epoch 18: 100%|██████████| 94/94 [02:10<00:00,  1.38s/it]\n"
     ]
    },
    {
     "name": "stdout",
     "output_type": "stream",
     "text": [
      "train step took 131.1 s\n",
      "train loss = 0.16\n"
     ]
    },
    {
     "name": "stderr",
     "output_type": "stream",
     "text": [
      "Validation 18: 100%|██████████| 50/50 [00:53<00:00,  1.08s/it]\n"
     ]
    },
    {
     "name": "stdout",
     "output_type": "stream",
     "text": [
      "val step took 54.9 s\n",
      "val loss = 0.20\n",
      "[Epoch 18|val]\t54.89 s\t0.1955\n",
      "start training (epoch=19)\n"
     ]
    },
    {
     "name": "stderr",
     "output_type": "stream",
     "text": [
      "Epoch 19: 100%|██████████| 94/94 [02:03<00:00,  1.31s/it]\n"
     ]
    },
    {
     "name": "stdout",
     "output_type": "stream",
     "text": [
      "train step took 124.3 s\n",
      "train loss = 0.16\n"
     ]
    },
    {
     "name": "stderr",
     "output_type": "stream",
     "text": [
      "Validation 19: 100%|██████████| 50/50 [00:44<00:00,  1.13it/s]\n"
     ]
    },
    {
     "name": "stdout",
     "output_type": "stream",
     "text": [
      "val step took 45.5 s\n",
      "val loss = 0.19\n",
      "[Epoch 19|val]\t45.48 s\t0.1948\n",
      "start training (epoch=20)\n"
     ]
    },
    {
     "name": "stderr",
     "output_type": "stream",
     "text": [
      "Epoch 20: 100%|██████████| 94/94 [01:25<00:00,  1.10it/s]\n"
     ]
    },
    {
     "name": "stdout",
     "output_type": "stream",
     "text": [
      "train step took 86.4 s\n",
      "train loss = 0.16\n"
     ]
    },
    {
     "name": "stderr",
     "output_type": "stream",
     "text": [
      "Validation 20: 100%|██████████| 50/50 [00:39<00:00,  1.26it/s]\n"
     ]
    },
    {
     "name": "stdout",
     "output_type": "stream",
     "text": [
      "val step took 40.5 s\n",
      "val loss = 0.19\n",
      "[Epoch 20|val]\t40.52 s\t0.1943\n",
      "start training (epoch=21)\n"
     ]
    },
    {
     "name": "stderr",
     "output_type": "stream",
     "text": [
      "Epoch 21:   0%|          | 0/94 [00:00<?, ?it/s]"
     ]
    }
   ],
   "source": [
    "for jeff_station in jeff_station_dirs[8:10]:\n",
    "    station = '-'.join(jeff_station.split('-')[1:])\n",
    "    station_data_dir = fpe_data_dir / station / 'FLOW_CFS'\n",
    "    # check it exists\n",
    "    if not station_data_dir.exists():\n",
    "        print(f'{station} does not exist')\n",
    "        continue\n",
    "    \n",
    "    pairs_files = list((jeff_data_dir / jeff_station / f'input_{random_seed}').glob('*.csv'))\n",
    "    for pair_file in pairs_files:\n",
    "        output_dir = Path(f'../../results/vary_annot_frac.jeff_data/{station}/input_{random_seed}/{pair_file.stem}').resolve()\n",
    "        output_dir.mkdir(parents=True, exist_ok=True)\n",
    "\n",
    "        command = f'python ../train.py --augment --normalize --images-dir \"{station_data_dir}\" --pairs-file \"{pair_file}\" --output-dir \"{output_dir}\" --model-dir \"{output_dir}\" --gpu 3'\n",
    "        print(command)\n",
    "        subprocess.run(command, shell=True)\n"
   ]
  },
  {
   "cell_type": "code",
   "execution_count": null,
   "metadata": {},
   "outputs": [],
   "source": []
  }
 ],
 "metadata": {
  "kernelspec": {
   "display_name": "fpe-model.dev-amrita",
   "language": "python",
   "name": "python3"
  },
  "language_info": {
   "codemirror_mode": {
    "name": "ipython",
    "version": 3
   },
   "file_extension": ".py",
   "mimetype": "text/x-python",
   "name": "python",
   "nbconvert_exporter": "python",
   "pygments_lexer": "ipython3",
   "version": "3.9.16"
  }
 },
 "nbformat": 4,
 "nbformat_minor": 2
}
