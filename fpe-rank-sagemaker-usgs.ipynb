{
 "cells": [
  {
   "cell_type": "markdown",
   "id": "61634f46-4d19-436c-9cb5-becc5b8111ff",
   "metadata": {},
   "source": [
    "# FPE Rank Model"
   ]
  },
  {
   "cell_type": "code",
   "execution_count": 34,
   "id": "f198bc4d",
   "metadata": {},
   "outputs": [],
   "source": [
    "import boto3\n",
    "import time\n",
    "import json\n",
    "import os\n",
    "import pandas as pd\n",
    "import sagemaker\n",
    "from io import StringIO"
   ]
  },
  {
   "cell_type": "code",
   "execution_count": 2,
   "id": "9100f343",
   "metadata": {},
   "outputs": [],
   "source": [
    "AWS_PROFILE=\"conte-prod\"\n",
    "AWS_REGION=\"us-west-2\"\n",
    "JOB_ROLE_ARN=\"arn:aws:iam::694155575325:role/fpe-prod-sagemaker-execution-role\"\n",
    "\n",
    "session = boto3.Session(profile_name=AWS_PROFILE)\n",
    "s3 = session.client(\"s3\")"
   ]
  },
  {
   "cell_type": "code",
   "execution_count": 3,
   "id": "feeae8a4",
   "metadata": {},
   "outputs": [
    {
     "data": {
      "text/plain": [
       "('s3://usgs-chs-conte-prod-fpe-models/rank/PATRC/20230922/input',\n",
       " 's3://usgs-chs-conte-prod-fpe-models/rank/PATRC/20230922/jobs',\n",
       " 's3://usgs-chs-conte-prod-fpe-models/rank/PATRC/20230922/checkpoints',\n",
       " 's3://usgs-chs-conte-prod-fpe-models/rank/PATRC/20230922/transform')"
      ]
     },
     "execution_count": 3,
     "metadata": {},
     "output_type": "execute_result"
    }
   ],
   "source": [
    "model_id = \"20230922\"\n",
    "site = \"PATRC\"\n",
    "site_dir = f\"D:/fpe/sites/{site}\"\n",
    "model_dir = f\"{site_dir}/models/{model_id}\"\n",
    "\n",
    "if not os.path.exists(model_dir):\n",
    "    os.makedirs(model_dir)\n",
    "\n",
    "model_bucket = \"usgs-chs-conte-prod-fpe-models\"\n",
    "storage_bucket = \"usgs-chs-conte-prod-fpe-storage\"\n",
    "\n",
    "site_key = f\"rank/{site}\"\n",
    "data_key = f\"{site_key}/data\"\n",
    "model_key = f\"{site_key}/{model_id}\"\n",
    "input_key = f\"{model_key}/input\"\n",
    "output_key = f\"{model_key}/jobs\"\n",
    "checkpoint_key = f\"{model_key}/checkpoints\"\n",
    "transform_key = f\"{model_key}/transform\"\n",
    "\n",
    "input_path = f\"s3://{model_bucket}/{input_key}\"\n",
    "output_path = f\"s3://{model_bucket}/{output_key}\"\n",
    "checkpoint_path = f\"s3://{model_bucket}/{checkpoint_key}\"\n",
    "transform_path = f\"s3://{model_bucket}/{transform_key}\"\n",
    "(input_path, output_path, checkpoint_path, transform_path)"
   ]
  },
  {
   "cell_type": "code",
   "execution_count": 100,
   "id": "2cf3830e",
   "metadata": {},
   "outputs": [
    {
     "name": "stdout",
     "output_type": "stream",
     "text": [
      "uploading: args.json -> rank/LANESV/20230922/input/args.json\n",
      "uploading: flow-images.csv -> rank/LANESV/20230922/input/flow-images.csv\n",
      "uploading: manifest.json -> rank/LANESV/20230922/input/manifest.json\n",
      "uploading: pairs-test.csv -> rank/LANESV/20230922/input/pairs-test.csv\n",
      "uploading: pairs-train.csv -> rank/LANESV/20230922/input/pairs-train.csv\n",
      "uploading: pairs-val.csv -> rank/LANESV/20230922/input/pairs-val.csv\n"
     ]
    }
   ],
   "source": [
    "# upload input files to s3\n",
    "\n",
    "for subdir, dirs, files in os.walk(f\"{model_dir}/input\"):\n",
    "    for file in files:\n",
    "        s3_key = f\"{input_key}/{file}\"\n",
    "        print(f\"uploading: {file} -> {s3_key}\")\n",
    "        s3.upload_file(Filename=os.path.join(subdir, file), Bucket=model_bucket, Key=s3_key)"
   ]
  },
  {
   "cell_type": "code",
   "execution_count": 83,
   "id": "25f6568d",
   "metadata": {},
   "outputs": [],
   "source": [
    "def timestamp():\n",
    "    return time.strftime(\"%Y%m%d-%H%M%S\")\n",
    "\n",
    "def get_batch_creds(session, role_arn):\n",
    "    sts = session.client(\"sts\")\n",
    "    response = sts.assume_role(\n",
    "        RoleArn=role_arn,\n",
    "        RoleSessionName=f\"fpe-sagemaker-session--{timestamp()}\"\n",
    "    )\n",
    "    return response['Credentials']\n",
    "\n",
    "creds = get_batch_creds(session, JOB_ROLE_ARN)\n",
    "sm_boto_session = boto3.Session(\n",
    "    aws_access_key_id=creds['AccessKeyId'],\n",
    "    aws_secret_access_key=creds['SecretAccessKey'],\n",
    "    aws_session_token=creds['SessionToken'],\n",
    "    region_name=AWS_REGION\n",
    ")\n",
    "\n",
    "sm_session = sagemaker.Session(boto_session = sm_boto_session)"
   ]
  },
  {
   "cell_type": "code",
   "execution_count": 3,
   "id": "29f3c9c7",
   "metadata": {},
   "outputs": [],
   "source": [
    "# def timestamp():\n",
    "#     return time.strftime(\"%Y%m%d-%H%M%S\")\n",
    "\n",
    "# sts = session.client(\"sts\")\n",
    "# response = sts.assume_role(\n",
    "#     RoleArn=\"arn:aws:iam::694155575325:role/fpe-prod-batch-job-role\",\n",
    "#     RoleSessionName=f\"fpe-batch-session--{timestamp()}\"\n",
    "# )\n",
    "# creds = response['Credentials']\n",
    "# batch_boto_session = boto3.Session(\n",
    "#     aws_access_key_id=creds['AccessKeyId'],\n",
    "#     aws_secret_access_key=creds['SecretAccessKey'],\n",
    "#     aws_session_token=creds['SessionToken'],\n",
    "#     region_name=AWS_REGION\n",
    "# )\n",
    "# batch = batch_boto_session.client('batch')\n",
    "\n",
    "# batch.terminate_job(jobId=\"aaf02bed-6135-4bb3-bbe7-54f58237a7a0\", reason=\"running indefinitely\")"
   ]
  },
  {
   "cell_type": "markdown",
   "id": "7e903ac6",
   "metadata": {},
   "source": [
    "## Training"
   ]
  },
  {
   "cell_type": "code",
   "execution_count": 76,
   "id": "b6d650da-67eb-49dd-81bc-07ee38ff59a2",
   "metadata": {},
   "outputs": [],
   "source": [
    "from sagemaker.pytorch import PyTorch\n",
    "\n",
    "estimator = PyTorch(\n",
    "    entry_point=\"train.py\",\n",
    "    source_dir=\"src\",\n",
    "    py_version=\"py38\",\n",
    "    framework_version=\"1.12\",\n",
    "    role=\"arn:aws:iam::694155575325:role/fpe-prod-sagemaker-execution-role\",\n",
    "    instance_count=1,\n",
    "    instance_type=\"ml.p3.2xlarge\",\n",
    "    volume_size=100,\n",
    "    hyperparameters={\n",
    "        \"epochs\": 15\n",
    "    },\n",
    "    base_job_name=\"fpe-rank\",\n",
    "    output_path=output_path,\n",
    "    checkpoint_s3_uri=checkpoint_path,\n",
    "    code_location=output_path,\n",
    "    disable_output_compression=False,\n",
    "    sagemaker_session=sm_session\n",
    ")"
   ]
  },
  {
   "cell_type": "code",
   "execution_count": 77,
   "id": "8b76c344-025b-42e8-b606-34c4f93f43ad",
   "metadata": {},
   "outputs": [
    {
     "data": {
      "text/plain": [
       "(<sagemaker.inputs.TrainingInput at 0x15a2f27a0d0>,\n",
       " 's3://usgs-chs-conte-prod-fpe-models/rank/PATRC/20230922/input/manifest.json',\n",
       " 's3://usgs-chs-conte-prod-fpe-models/rank/PATRC/20230922/input')"
      ]
     },
     "execution_count": 77,
     "metadata": {},
     "output_type": "execute_result"
    }
   ],
   "source": [
    "from sagemaker.inputs import TrainingInput\n",
    "\n",
    "input_images = TrainingInput(\n",
    "    s3_data = f\"{input_path}/manifest.json\",\n",
    "    s3_data_type = \"ManifestFile\",\n",
    "    input_mode = \"File\"\n",
    ")\n",
    "(input_images, f\"{input_path}/manifest.json\", input_path)"
   ]
  },
  {
   "cell_type": "code",
   "execution_count": 78,
   "id": "bd8dd95e-9915-4e4e-9824-7a15d2f13281",
   "metadata": {},
   "outputs": [
    {
     "name": "stdout",
     "output_type": "stream",
     "text": [
      "Using provided s3_resource\n"
     ]
    },
    {
     "name": "stderr",
     "output_type": "stream",
     "text": [
      "INFO:sagemaker.image_uris:image_uri is not presented, retrieving image_uri based on instance_type, framework etc.\n",
      "INFO:sagemaker:Creating training-job with name: fpe-rank-2023-09-23-01-48-47-142\n"
     ]
    }
   ],
   "source": [
    "estimator.fit({ \"images\": input_images, \"values\": input_path }, wait=False)"
   ]
  },
  {
   "cell_type": "code",
   "execution_count": 79,
   "id": "62693c29",
   "metadata": {},
   "outputs": [],
   "source": [
    "sm_session.stop_training_job(\"fpe-rank-2023-09-23-01-46-19-458\")"
   ]
  },
  {
   "cell_type": "markdown",
   "id": "ff74e6da",
   "metadata": {},
   "source": [
    "## Batch Transform"
   ]
  },
  {
   "cell_type": "code",
   "execution_count": 140,
   "id": "a9feef7c",
   "metadata": {},
   "outputs": [
    {
     "name": "stdout",
     "output_type": "stream",
     "text": [
      "downloading transform data file: s3://usgs-chs-conte-prod-fpe-models/rank/PATRC/20230922/input/flow-images.csv\n",
      "rows: 31573\n"
     ]
    }
   ],
   "source": [
    "# create manifest\n",
    "transform_data_key = f\"{input_key}/flow-images.csv\"\n",
    "\n",
    "# Read CSV file from S3\n",
    "print(f\"downloading transform data file: s3://{model_bucket}/{transform_data_key}\")\n",
    "csv_obj = s3.get_object(Bucket=model_bucket, Key=transform_data_key)\n",
    "csv_data = csv_obj['Body'].read().decode('utf-8')\n",
    "transform_data = pd.read_csv(StringIO(csv_data))\n",
    "print(f\"rows: {len(transform_data)}\")"
   ]
  },
  {
   "cell_type": "code",
   "execution_count": 141,
   "id": "9b4eb03d",
   "metadata": {},
   "outputs": [
    {
     "name": "stdout",
     "output_type": "stream",
     "text": [
      "filtered rows: 15781\n"
     ]
    }
   ],
   "source": [
    "transform_data[\"timestamp\"] = pd.to_datetime(transform_data[\"timestamp\"]).dt.tz_convert(\"America/New_York\")\n",
    "\n",
    "#(transform_data[\"timestamp\"][100], transform_data[\"filename\"][100])\n",
    "\n",
    "# filter out nighttime\n",
    "transform_data = transform_data[transform_data[\"timestamp\"].dt.hour.between(7, 18)]\n",
    "print(f\"filtered rows: {len(transform_data)}\")"
   ]
  },
  {
   "cell_type": "code",
   "execution_count": 142,
   "metadata": {},
   "outputs": [
    {
     "data": {
      "text/html": [
       "<div>\n",
       "<style scoped>\n",
       "    .dataframe tbody tr th:only-of-type {\n",
       "        vertical-align: middle;\n",
       "    }\n",
       "\n",
       "    .dataframe tbody tr th {\n",
       "        vertical-align: top;\n",
       "    }\n",
       "\n",
       "    .dataframe thead th {\n",
       "        text-align: right;\n",
       "    }\n",
       "</style>\n",
       "<table border=\"1\" class=\"dataframe\">\n",
       "  <thead>\n",
       "    <tr style=\"text-align: right;\">\n",
       "      <th></th>\n",
       "      <th>month</th>\n",
       "      <th>count</th>\n",
       "    </tr>\n",
       "  </thead>\n",
       "  <tbody>\n",
       "    <tr>\n",
       "      <th>0</th>\n",
       "      <td>1</td>\n",
       "      <td>1488</td>\n",
       "    </tr>\n",
       "    <tr>\n",
       "      <th>1</th>\n",
       "      <td>2</td>\n",
       "      <td>1342</td>\n",
       "    </tr>\n",
       "    <tr>\n",
       "      <th>2</th>\n",
       "      <td>3</td>\n",
       "      <td>1488</td>\n",
       "    </tr>\n",
       "    <tr>\n",
       "      <th>3</th>\n",
       "      <td>4</td>\n",
       "      <td>1438</td>\n",
       "    </tr>\n",
       "    <tr>\n",
       "      <th>4</th>\n",
       "      <td>5</td>\n",
       "      <td>1488</td>\n",
       "    </tr>\n",
       "    <tr>\n",
       "      <th>5</th>\n",
       "      <td>6</td>\n",
       "      <td>1440</td>\n",
       "    </tr>\n",
       "    <tr>\n",
       "      <th>6</th>\n",
       "      <td>7</td>\n",
       "      <td>1488</td>\n",
       "    </tr>\n",
       "    <tr>\n",
       "      <th>7</th>\n",
       "      <td>8</td>\n",
       "      <td>1487</td>\n",
       "    </tr>\n",
       "    <tr>\n",
       "      <th>8</th>\n",
       "      <td>9</td>\n",
       "      <td>271</td>\n",
       "    </tr>\n",
       "    <tr>\n",
       "      <th>9</th>\n",
       "      <td>10</td>\n",
       "      <td>923</td>\n",
       "    </tr>\n",
       "    <tr>\n",
       "      <th>10</th>\n",
       "      <td>11</td>\n",
       "      <td>1440</td>\n",
       "    </tr>\n",
       "    <tr>\n",
       "      <th>11</th>\n",
       "      <td>12</td>\n",
       "      <td>1488</td>\n",
       "    </tr>\n",
       "  </tbody>\n",
       "</table>\n",
       "</div>"
      ],
      "text/plain": [
       "    month  count\n",
       "0       1   1488\n",
       "1       2   1342\n",
       "2       3   1488\n",
       "3       4   1438\n",
       "4       5   1488\n",
       "5       6   1440\n",
       "6       7   1488\n",
       "7       8   1487\n",
       "8       9    271\n",
       "9      10    923\n",
       "10     11   1440\n",
       "11     12   1488"
      ]
     },
     "execution_count": 142,
     "metadata": {},
     "output_type": "execute_result"
    }
   ],
   "source": [
    "transform_data[\"hour\"] = transform_data[\"timestamp\"].dt.hour\n",
    "transform_data.groupby(\"hour\").size().reset_index(name=\"count\")\n",
    "\n",
    "transform_data[\"month\"] = transform_data[\"timestamp\"].dt.month\n",
    "transform_data.groupby(\"month\").size().reset_index(name=\"count\")"
   ]
  },
  {
   "cell_type": "code",
   "execution_count": 153,
   "id": "89b510f4",
   "metadata": {},
   "outputs": [],
   "source": [
    "file = f\"{model_dir}/transform/flow-images.csv\"\n",
    "transform_data.to_csv(file, index=False)"
   ]
  },
  {
   "cell_type": "code",
   "execution_count": 144,
   "id": "a3dfbd3e",
   "metadata": {},
   "outputs": [
    {
     "name": "stdout",
     "output_type": "stream",
     "text": [
      "uploading: D:/fpe/sites/PATRC/models/20230922/transform/flow-images.csv -> rank/PATRC/20230922/transform/flow-images.csv\n"
     ]
    }
   ],
   "source": [
    "s3_key = f\"{transform_key}/flow-images.csv\"\n",
    "print(f\"uploading: {file} -> {s3_key}\")\n",
    "s3.upload_file(Filename=file, Bucket=model_bucket, Key=s3_key)"
   ]
  },
  {
   "cell_type": "code",
   "execution_count": 145,
   "id": "f2239dac",
   "metadata": {},
   "outputs": [
    {
     "data": {
      "text/html": [
       "<div>\n",
       "<style scoped>\n",
       "    .dataframe tbody tr th:only-of-type {\n",
       "        vertical-align: middle;\n",
       "    }\n",
       "\n",
       "    .dataframe tbody tr th {\n",
       "        vertical-align: top;\n",
       "    }\n",
       "\n",
       "    .dataframe thead th {\n",
       "        text-align: right;\n",
       "    }\n",
       "</style>\n",
       "<table border=\"1\" class=\"dataframe\">\n",
       "  <thead>\n",
       "    <tr style=\"text-align: right;\">\n",
       "      <th></th>\n",
       "      <th>station_name</th>\n",
       "      <th>station_id</th>\n",
       "      <th>imageset_id</th>\n",
       "      <th>image_id</th>\n",
       "      <th>timestamp</th>\n",
       "      <th>filename</th>\n",
       "      <th>url</th>\n",
       "      <th>flow_cfs</th>\n",
       "      <th>hour</th>\n",
       "      <th>month</th>\n",
       "    </tr>\n",
       "  </thead>\n",
       "  <tbody>\n",
       "    <tr>\n",
       "      <th>0</th>\n",
       "      <td>01359135_Patroon Creek</td>\n",
       "      <td>80</td>\n",
       "      <td>587</td>\n",
       "      <td>984697</td>\n",
       "      <td>2022-10-12 16:15:00-04:00</td>\n",
       "      <td>imagesets/526f3f68-6a19-47ef-afa1-3663cbba51ed...</td>\n",
       "      <td>https://usgs-chs-conte-prod-fpe-storage.s3.ama...</td>\n",
       "      <td>12.7</td>\n",
       "      <td>16</td>\n",
       "      <td>10</td>\n",
       "    </tr>\n",
       "    <tr>\n",
       "      <th>1</th>\n",
       "      <td>01359135_Patroon Creek</td>\n",
       "      <td>80</td>\n",
       "      <td>587</td>\n",
       "      <td>984698</td>\n",
       "      <td>2022-10-12 16:30:00-04:00</td>\n",
       "      <td>imagesets/526f3f68-6a19-47ef-afa1-3663cbba51ed...</td>\n",
       "      <td>https://usgs-chs-conte-prod-fpe-storage.s3.ama...</td>\n",
       "      <td>12.7</td>\n",
       "      <td>16</td>\n",
       "      <td>10</td>\n",
       "    </tr>\n",
       "    <tr>\n",
       "      <th>2</th>\n",
       "      <td>01359135_Patroon Creek</td>\n",
       "      <td>80</td>\n",
       "      <td>587</td>\n",
       "      <td>984699</td>\n",
       "      <td>2022-10-12 16:45:00-04:00</td>\n",
       "      <td>imagesets/526f3f68-6a19-47ef-afa1-3663cbba51ed...</td>\n",
       "      <td>https://usgs-chs-conte-prod-fpe-storage.s3.ama...</td>\n",
       "      <td>12.7</td>\n",
       "      <td>16</td>\n",
       "      <td>10</td>\n",
       "    </tr>\n",
       "    <tr>\n",
       "      <th>3</th>\n",
       "      <td>01359135_Patroon Creek</td>\n",
       "      <td>80</td>\n",
       "      <td>587</td>\n",
       "      <td>984700</td>\n",
       "      <td>2022-10-12 17:00:00-04:00</td>\n",
       "      <td>imagesets/526f3f68-6a19-47ef-afa1-3663cbba51ed...</td>\n",
       "      <td>https://usgs-chs-conte-prod-fpe-storage.s3.ama...</td>\n",
       "      <td>12.7</td>\n",
       "      <td>17</td>\n",
       "      <td>10</td>\n",
       "    </tr>\n",
       "    <tr>\n",
       "      <th>4</th>\n",
       "      <td>01359135_Patroon Creek</td>\n",
       "      <td>80</td>\n",
       "      <td>587</td>\n",
       "      <td>984701</td>\n",
       "      <td>2022-10-12 17:15:00-04:00</td>\n",
       "      <td>imagesets/526f3f68-6a19-47ef-afa1-3663cbba51ed...</td>\n",
       "      <td>https://usgs-chs-conte-prod-fpe-storage.s3.ama...</td>\n",
       "      <td>12.7</td>\n",
       "      <td>17</td>\n",
       "      <td>10</td>\n",
       "    </tr>\n",
       "    <tr>\n",
       "      <th>...</th>\n",
       "      <td>...</td>\n",
       "      <td>...</td>\n",
       "      <td>...</td>\n",
       "      <td>...</td>\n",
       "      <td>...</td>\n",
       "      <td>...</td>\n",
       "      <td>...</td>\n",
       "      <td>...</td>\n",
       "      <td>...</td>\n",
       "      <td>...</td>\n",
       "    </tr>\n",
       "    <tr>\n",
       "      <th>31568</th>\n",
       "      <td>01359135_Patroon Creek</td>\n",
       "      <td>80</td>\n",
       "      <td>2073</td>\n",
       "      <td>2951330</td>\n",
       "      <td>2023-09-06 13:30:00-04:00</td>\n",
       "      <td>imagesets/44c56acf-60e1-4148-be1d-167713d0e98a...</td>\n",
       "      <td>https://usgs-chs-conte-prod-fpe-storage.s3.ama...</td>\n",
       "      <td>16.1</td>\n",
       "      <td>13</td>\n",
       "      <td>9</td>\n",
       "    </tr>\n",
       "    <tr>\n",
       "      <th>31569</th>\n",
       "      <td>01359135_Patroon Creek</td>\n",
       "      <td>80</td>\n",
       "      <td>2073</td>\n",
       "      <td>2951332</td>\n",
       "      <td>2023-09-06 13:45:00-04:00</td>\n",
       "      <td>imagesets/44c56acf-60e1-4148-be1d-167713d0e98a...</td>\n",
       "      <td>https://usgs-chs-conte-prod-fpe-storage.s3.ama...</td>\n",
       "      <td>16.1</td>\n",
       "      <td>13</td>\n",
       "      <td>9</td>\n",
       "    </tr>\n",
       "    <tr>\n",
       "      <th>31570</th>\n",
       "      <td>01359135_Patroon Creek</td>\n",
       "      <td>80</td>\n",
       "      <td>2073</td>\n",
       "      <td>2951334</td>\n",
       "      <td>2023-09-06 14:00:00-04:00</td>\n",
       "      <td>imagesets/44c56acf-60e1-4148-be1d-167713d0e98a...</td>\n",
       "      <td>https://usgs-chs-conte-prod-fpe-storage.s3.ama...</td>\n",
       "      <td>16.1</td>\n",
       "      <td>14</td>\n",
       "      <td>9</td>\n",
       "    </tr>\n",
       "    <tr>\n",
       "      <th>31571</th>\n",
       "      <td>01359135_Patroon Creek</td>\n",
       "      <td>80</td>\n",
       "      <td>2073</td>\n",
       "      <td>2951337</td>\n",
       "      <td>2023-09-06 14:15:00-04:00</td>\n",
       "      <td>imagesets/44c56acf-60e1-4148-be1d-167713d0e98a...</td>\n",
       "      <td>https://usgs-chs-conte-prod-fpe-storage.s3.ama...</td>\n",
       "      <td>16.1</td>\n",
       "      <td>14</td>\n",
       "      <td>9</td>\n",
       "    </tr>\n",
       "    <tr>\n",
       "      <th>31572</th>\n",
       "      <td>01359135_Patroon Creek</td>\n",
       "      <td>80</td>\n",
       "      <td>2073</td>\n",
       "      <td>2951339</td>\n",
       "      <td>2023-09-06 14:30:00-04:00</td>\n",
       "      <td>imagesets/44c56acf-60e1-4148-be1d-167713d0e98a...</td>\n",
       "      <td>https://usgs-chs-conte-prod-fpe-storage.s3.ama...</td>\n",
       "      <td>16.1</td>\n",
       "      <td>14</td>\n",
       "      <td>9</td>\n",
       "    </tr>\n",
       "  </tbody>\n",
       "</table>\n",
       "<p>15781 rows × 10 columns</p>\n",
       "</div>"
      ],
      "text/plain": [
       "                 station_name  station_id  imageset_id  image_id  \\\n",
       "0      01359135_Patroon Creek          80          587    984697   \n",
       "1      01359135_Patroon Creek          80          587    984698   \n",
       "2      01359135_Patroon Creek          80          587    984699   \n",
       "3      01359135_Patroon Creek          80          587    984700   \n",
       "4      01359135_Patroon Creek          80          587    984701   \n",
       "...                       ...         ...          ...       ...   \n",
       "31568  01359135_Patroon Creek          80         2073   2951330   \n",
       "31569  01359135_Patroon Creek          80         2073   2951332   \n",
       "31570  01359135_Patroon Creek          80         2073   2951334   \n",
       "31571  01359135_Patroon Creek          80         2073   2951337   \n",
       "31572  01359135_Patroon Creek          80         2073   2951339   \n",
       "\n",
       "                      timestamp  \\\n",
       "0     2022-10-12 16:15:00-04:00   \n",
       "1     2022-10-12 16:30:00-04:00   \n",
       "2     2022-10-12 16:45:00-04:00   \n",
       "3     2022-10-12 17:00:00-04:00   \n",
       "4     2022-10-12 17:15:00-04:00   \n",
       "...                         ...   \n",
       "31568 2023-09-06 13:30:00-04:00   \n",
       "31569 2023-09-06 13:45:00-04:00   \n",
       "31570 2023-09-06 14:00:00-04:00   \n",
       "31571 2023-09-06 14:15:00-04:00   \n",
       "31572 2023-09-06 14:30:00-04:00   \n",
       "\n",
       "                                                filename  \\\n",
       "0      imagesets/526f3f68-6a19-47ef-afa1-3663cbba51ed...   \n",
       "1      imagesets/526f3f68-6a19-47ef-afa1-3663cbba51ed...   \n",
       "2      imagesets/526f3f68-6a19-47ef-afa1-3663cbba51ed...   \n",
       "3      imagesets/526f3f68-6a19-47ef-afa1-3663cbba51ed...   \n",
       "4      imagesets/526f3f68-6a19-47ef-afa1-3663cbba51ed...   \n",
       "...                                                  ...   \n",
       "31568  imagesets/44c56acf-60e1-4148-be1d-167713d0e98a...   \n",
       "31569  imagesets/44c56acf-60e1-4148-be1d-167713d0e98a...   \n",
       "31570  imagesets/44c56acf-60e1-4148-be1d-167713d0e98a...   \n",
       "31571  imagesets/44c56acf-60e1-4148-be1d-167713d0e98a...   \n",
       "31572  imagesets/44c56acf-60e1-4148-be1d-167713d0e98a...   \n",
       "\n",
       "                                                     url  flow_cfs  hour  \\\n",
       "0      https://usgs-chs-conte-prod-fpe-storage.s3.ama...      12.7    16   \n",
       "1      https://usgs-chs-conte-prod-fpe-storage.s3.ama...      12.7    16   \n",
       "2      https://usgs-chs-conte-prod-fpe-storage.s3.ama...      12.7    16   \n",
       "3      https://usgs-chs-conte-prod-fpe-storage.s3.ama...      12.7    17   \n",
       "4      https://usgs-chs-conte-prod-fpe-storage.s3.ama...      12.7    17   \n",
       "...                                                  ...       ...   ...   \n",
       "31568  https://usgs-chs-conte-prod-fpe-storage.s3.ama...      16.1    13   \n",
       "31569  https://usgs-chs-conte-prod-fpe-storage.s3.ama...      16.1    13   \n",
       "31570  https://usgs-chs-conte-prod-fpe-storage.s3.ama...      16.1    14   \n",
       "31571  https://usgs-chs-conte-prod-fpe-storage.s3.ama...      16.1    14   \n",
       "31572  https://usgs-chs-conte-prod-fpe-storage.s3.ama...      16.1    14   \n",
       "\n",
       "       month  \n",
       "0         10  \n",
       "1         10  \n",
       "2         10  \n",
       "3         10  \n",
       "4         10  \n",
       "...      ...  \n",
       "31568      9  \n",
       "31569      9  \n",
       "31570      9  \n",
       "31571      9  \n",
       "31572      9  \n",
       "\n",
       "[15781 rows x 10 columns]"
      ]
     },
     "execution_count": 145,
     "metadata": {},
     "output_type": "execute_result"
    }
   ],
   "source": [
    "transform_data"
   ]
  },
  {
   "cell_type": "code",
   "execution_count": 146,
   "id": "393cafc5",
   "metadata": {},
   "outputs": [
    {
     "name": "stdout",
     "output_type": "stream",
     "text": [
      "uploading transform manifest: rank/PATRC/20230922/transform/manifest.json (n = 15781)\n"
     ]
    },
    {
     "data": {
      "text/plain": [
       "{'ResponseMetadata': {'RequestId': '0BYE5GQZ40JV8DDK',\n",
       "  'HostId': 'zu/cleWe5qyTtC+EqDTYVvZ+2SwzzFLoQUqnYx+FEw3rGq28zsrQU5BXbEkYyZM0UZ7IIhw0Ab4=',\n",
       "  'HTTPStatusCode': 200,\n",
       "  'HTTPHeaders': {'x-amz-id-2': 'zu/cleWe5qyTtC+EqDTYVvZ+2SwzzFLoQUqnYx+FEw3rGq28zsrQU5BXbEkYyZM0UZ7IIhw0Ab4=',\n",
       "   'x-amz-request-id': '0BYE5GQZ40JV8DDK',\n",
       "   'date': 'Sat, 23 Sep 2023 13:07:58 GMT',\n",
       "   'x-amz-server-side-encryption': 'AES256',\n",
       "   'etag': '\"7f17d68af9020daf5a68632521092268\"',\n",
       "   'server': 'AmazonS3',\n",
       "   'content-length': '0'},\n",
       "  'RetryAttempts': 0},\n",
       " 'ETag': '\"7f17d68af9020daf5a68632521092268\"',\n",
       " 'ServerSideEncryption': 'AES256'}"
      ]
     },
     "execution_count": 146,
     "metadata": {},
     "output_type": "execute_result"
    }
   ],
   "source": [
    "manifest = transform_data['filename'].to_list()\n",
    "manifest.insert(0, {\"prefix\": f\"s3://{storage_bucket}/\"})\n",
    "\n",
    "manifest_key = f\"{transform_key}/manifest.json\"\n",
    "body = json.dumps(manifest)\n",
    "print(f\"uploading transform manifest: {manifest_key} (n = {len(manifest) - 1})\")\n",
    "s3.put_object(Bucket=model_bucket, Key=manifest_key, Body=body)"
   ]
  },
  {
   "cell_type": "code",
   "execution_count": 147,
   "id": "b8ef6ff8",
   "metadata": {},
   "outputs": [
    {
     "data": {
      "text/plain": [
       "'s3://usgs-chs-conte-prod-fpe-models/rank/PATRC/20230922/jobs/fpe-rank-2023-09-23-01-48-47-142/output/model.tar.gz'"
      ]
     },
     "execution_count": 147,
     "metadata": {},
     "output_type": "execute_result"
    }
   ],
   "source": [
    "job_name = \"fpe-rank-2023-09-23-01-48-47-142\"\n",
    "model_path = f\"{output_path}/{job_name}/output/model.tar.gz\"\n",
    "model_path"
   ]
  },
  {
   "cell_type": "code",
   "execution_count": 148,
   "id": "2eb28f08",
   "metadata": {},
   "outputs": [
    {
     "data": {
      "text/plain": [
       "<sagemaker.pytorch.model.PyTorchModel at 0x15a35557100>"
      ]
     },
     "execution_count": 148,
     "metadata": {},
     "output_type": "execute_result"
    }
   ],
   "source": [
    "from sagemaker.pytorch.model import PyTorchModel\n",
    "\n",
    "pytorch_model = PyTorchModel(\n",
    "    model_data=model_path,\n",
    "    role=\"arn:aws:iam::694155575325:role/fpe-prod-sagemaker-execution-role\",\n",
    "    py_version=\"py38\",\n",
    "    framework_version=\"1.12\",\n",
    "    source_dir=\"src/\",\n",
    "    entry_point=\"transform.py\",\n",
    "    sagemaker_session = sm_session\n",
    ")\n",
    "pytorch_model"
   ]
  },
  {
   "cell_type": "code",
   "execution_count": 149,
   "id": "ffbb72cc",
   "metadata": {},
   "outputs": [
    {
     "name": "stderr",
     "output_type": "stream",
     "text": [
      "INFO:sagemaker:Repacking model artifact (s3://usgs-chs-conte-prod-fpe-models/rank/PATRC/20230922/jobs/fpe-rank-2023-09-23-01-48-47-142/output/model.tar.gz), script artifact (src/), and dependencies ([]) into single tar.gz file located at s3://sagemaker-us-west-2-694155575325/pytorch-inference-2023-09-23-13-08-06-046/model.tar.gz. This may take some time depending on model size...\n"
     ]
    },
    {
     "name": "stderr",
     "output_type": "stream",
     "text": [
      "INFO:sagemaker:Creating model with name: pytorch-inference-2023-09-23-13-08-42-098\n"
     ]
    },
    {
     "data": {
      "text/plain": [
       "(<sagemaker.transformer.Transformer at 0x15a34661820>,\n",
       " 's3://usgs-chs-conte-prod-fpe-models/rank/PATRC/20230922/transform')"
      ]
     },
     "execution_count": 149,
     "metadata": {},
     "output_type": "execute_result"
    }
   ],
   "source": [
    "transformer = pytorch_model.transformer(\n",
    "    instance_count=1,\n",
    "    instance_type=\"ml.c5.xlarge\",\n",
    "    output_path=transform_path\n",
    ")\n",
    "(transformer,transform_path)"
   ]
  },
  {
   "cell_type": "code",
   "execution_count": 150,
   "id": "9479ade3",
   "metadata": {},
   "outputs": [
    {
     "name": "stderr",
     "output_type": "stream",
     "text": [
      "INFO:sagemaker:Creating transform job with name: pytorch-inference-2023-09-23-13-08-45-957\n"
     ]
    }
   ],
   "source": [
    "transformer.transform(\n",
    "    data=f\"{transform_path}/manifest.json\",\n",
    "    data_type=\"ManifestFile\",\n",
    "    content_type=\"image/jpg\",\n",
    "    wait=False,\n",
    ")"
   ]
  },
  {
   "cell_type": "code",
   "execution_count": 9,
   "id": "6c6ce644",
   "metadata": {},
   "outputs": [
    {
     "name": "stderr",
     "output_type": "stream",
     "text": [
      "INFO:sagemaker:Stopping transform job: pytorch-inference-2023-09-04-16-09-22-922\n"
     ]
    }
   ],
   "source": [
    "sm_session.stop_transform_job(\"pytorch-inference-2023-09-20-13-46-27-309\")"
   ]
  },
  {
   "cell_type": "code",
   "execution_count": 17,
   "id": "5740c6d5",
   "metadata": {},
   "outputs": [
    {
     "name": "stderr",
     "output_type": "stream",
     "text": [
      "INFO:sagemaker:Deleting model with name: pytorch-inference-2023-09-21-16-13-31-012\n"
     ]
    },
    {
     "ename": "ClientError",
     "evalue": "An error occurred (ExpiredTokenException) when calling the DeleteModel operation: The security token included in the request is expired",
     "output_type": "error",
     "traceback": [
      "\u001b[1;31m---------------------------------------------------------------------------\u001b[0m",
      "\u001b[1;31mClientError\u001b[0m                               Traceback (most recent call last)",
      "\u001b[1;32mc:\\Users\\jdwalker\\git\\fpe-model\\fpe-rank-sagemaker-usgs.ipynb Cell 26\u001b[0m line \u001b[0;36m1\n\u001b[1;32m----> <a href='vscode-notebook-cell:/c%3A/Users/jdwalker/git/fpe-model/fpe-rank-sagemaker-usgs.ipynb#X53sZmlsZQ%3D%3D?line=0'>1</a>\u001b[0m pytorch_model\u001b[39m.\u001b[39;49mdelete_model()\n",
      "File \u001b[1;32mc:\\Users\\jdwalker\\Miniconda3\\envs\\sagemaker\\lib\\site-packages\\sagemaker\\model.py:1536\u001b[0m, in \u001b[0;36mModel.delete_model\u001b[1;34m(self)\u001b[0m\n\u001b[0;32m   1532\u001b[0m \u001b[39mif\u001b[39;00m \u001b[39mself\u001b[39m\u001b[39m.\u001b[39mname \u001b[39mis\u001b[39;00m \u001b[39mNone\u001b[39;00m:\n\u001b[0;32m   1533\u001b[0m     \u001b[39mraise\u001b[39;00m \u001b[39mValueError\u001b[39;00m(\n\u001b[0;32m   1534\u001b[0m         \u001b[39m\"\u001b[39m\u001b[39mThe SageMaker model must be created first before attempting to delete.\u001b[39m\u001b[39m\"\u001b[39m\n\u001b[0;32m   1535\u001b[0m     )\n\u001b[1;32m-> 1536\u001b[0m \u001b[39mself\u001b[39;49m\u001b[39m.\u001b[39;49msagemaker_session\u001b[39m.\u001b[39;49mdelete_model(\u001b[39mself\u001b[39;49m\u001b[39m.\u001b[39;49mname)\n",
      "File \u001b[1;32mc:\\Users\\jdwalker\\Miniconda3\\envs\\sagemaker\\lib\\site-packages\\sagemaker\\session.py:4133\u001b[0m, in \u001b[0;36mSession.delete_model\u001b[1;34m(self, model_name)\u001b[0m\n\u001b[0;32m   4127\u001b[0m \u001b[39m\u001b[39m\u001b[39m\"\"\"Delete an Amazon SageMaker Model.\u001b[39;00m\n\u001b[0;32m   4128\u001b[0m \n\u001b[0;32m   4129\u001b[0m \u001b[39mArgs:\u001b[39;00m\n\u001b[0;32m   4130\u001b[0m \u001b[39m    model_name (str): Name of the Amazon SageMaker model to delete.\u001b[39;00m\n\u001b[0;32m   4131\u001b[0m \u001b[39m\"\"\"\u001b[39;00m\n\u001b[0;32m   4132\u001b[0m LOGGER\u001b[39m.\u001b[39minfo(\u001b[39m\"\u001b[39m\u001b[39mDeleting model with name: \u001b[39m\u001b[39m%s\u001b[39;00m\u001b[39m\"\u001b[39m, model_name)\n\u001b[1;32m-> 4133\u001b[0m \u001b[39mself\u001b[39;49m\u001b[39m.\u001b[39;49msagemaker_client\u001b[39m.\u001b[39;49mdelete_model(ModelName\u001b[39m=\u001b[39;49mmodel_name)\n",
      "File \u001b[1;32mc:\\Users\\jdwalker\\Miniconda3\\envs\\sagemaker\\lib\\site-packages\\botocore\\client.py:535\u001b[0m, in \u001b[0;36mClientCreator._create_api_method.<locals>._api_call\u001b[1;34m(self, *args, **kwargs)\u001b[0m\n\u001b[0;32m    531\u001b[0m     \u001b[39mraise\u001b[39;00m \u001b[39mTypeError\u001b[39;00m(\n\u001b[0;32m    532\u001b[0m         \u001b[39mf\u001b[39m\u001b[39m\"\u001b[39m\u001b[39m{\u001b[39;00mpy_operation_name\u001b[39m}\u001b[39;00m\u001b[39m() only accepts keyword arguments.\u001b[39m\u001b[39m\"\u001b[39m\n\u001b[0;32m    533\u001b[0m     )\n\u001b[0;32m    534\u001b[0m \u001b[39m# The \"self\" in this scope is referring to the BaseClient.\u001b[39;00m\n\u001b[1;32m--> 535\u001b[0m \u001b[39mreturn\u001b[39;00m \u001b[39mself\u001b[39;49m\u001b[39m.\u001b[39;49m_make_api_call(operation_name, kwargs)\n",
      "File \u001b[1;32mc:\\Users\\jdwalker\\Miniconda3\\envs\\sagemaker\\lib\\site-packages\\botocore\\client.py:980\u001b[0m, in \u001b[0;36mBaseClient._make_api_call\u001b[1;34m(self, operation_name, api_params)\u001b[0m\n\u001b[0;32m    978\u001b[0m     error_code \u001b[39m=\u001b[39m parsed_response\u001b[39m.\u001b[39mget(\u001b[39m\"\u001b[39m\u001b[39mError\u001b[39m\u001b[39m\"\u001b[39m, {})\u001b[39m.\u001b[39mget(\u001b[39m\"\u001b[39m\u001b[39mCode\u001b[39m\u001b[39m\"\u001b[39m)\n\u001b[0;32m    979\u001b[0m     error_class \u001b[39m=\u001b[39m \u001b[39mself\u001b[39m\u001b[39m.\u001b[39mexceptions\u001b[39m.\u001b[39mfrom_code(error_code)\n\u001b[1;32m--> 980\u001b[0m     \u001b[39mraise\u001b[39;00m error_class(parsed_response, operation_name)\n\u001b[0;32m    981\u001b[0m \u001b[39melse\u001b[39;00m:\n\u001b[0;32m    982\u001b[0m     \u001b[39mreturn\u001b[39;00m parsed_response\n",
      "\u001b[1;31mClientError\u001b[0m: An error occurred (ExpiredTokenException) when calling the DeleteModel operation: The security token included in the request is expired"
     ]
    }
   ],
   "source": [
    "pytorch_model.delete_model()"
   ]
  },
  {
   "cell_type": "markdown",
   "id": "1e5cdd03",
   "metadata": {},
   "source": [
    "## Process Transform Output"
   ]
  },
  {
   "cell_type": "code",
   "execution_count": 4,
   "id": "0939b456",
   "metadata": {},
   "outputs": [],
   "source": [
    "def process_transform_output (session, site, model_id, job_size = 5000, root_dir = \"D:/fpe/sites\"):\n",
    "    lambda_client = session.client(\"lambda\")\n",
    "    transform_prefix = f\"rank/{site}/{model_id}/transform\"\n",
    "    df = pd.read_csv(f\"{root_dir}/{site}/models/{model_id}/transform/flow-images.csv\")\n",
    "    skip = 0\n",
    "    while skip < len(df):\n",
    "        payload = {\n",
    "            \"action\": \"process_transform_output\",\n",
    "            \"bucket_name\": model_bucket,\n",
    "            \"data_file\": f\"{transform_prefix}/flow-images.csv\",\n",
    "            \"data_prefix\": transform_prefix,\n",
    "            \"output_prefix\": transform_prefix,\n",
    "            \"n\": job_size,\n",
    "            \"skip\": skip\n",
    "        }\n",
    "        print(f\"invoke: skip={skip}, n={job_size} ({skip} to {skip + job_size - 1})\")\n",
    "        lambda_client.invoke(\n",
    "            FunctionName=\"fpe-prod-lambda-models\",\n",
    "            InvocationType=\"Event\",\n",
    "            Payload=json.dumps(payload)\n",
    "        )\n",
    "        skip += job_size\n",
    "    return df"
   ]
  },
  {
   "cell_type": "code",
   "execution_count": 9,
   "id": "14825b5d",
   "metadata": {},
   "outputs": [
    {
     "name": "stdout",
     "output_type": "stream",
     "text": [
      "invoke: skip=0, n=5000 (0 to 4999)\n",
      "invoke: skip=5000, n=5000 (5000 to 9999)\n",
      "invoke: skip=10000, n=5000 (10000 to 14999)\n",
      "invoke: skip=15000, n=5000 (15000 to 19999)\n",
      "invoke: skip=20000, n=5000 (20000 to 24999)\n",
      "invoke: skip=25000, n=5000 (25000 to 29999)\n",
      "invoke: skip=30000, n=5000 (30000 to 34999)\n"
     ]
    },
    {
     "data": {
      "text/html": [
       "<div>\n",
       "<style scoped>\n",
       "    .dataframe tbody tr th:only-of-type {\n",
       "        vertical-align: middle;\n",
       "    }\n",
       "\n",
       "    .dataframe tbody tr th {\n",
       "        vertical-align: top;\n",
       "    }\n",
       "\n",
       "    .dataframe thead th {\n",
       "        text-align: right;\n",
       "    }\n",
       "</style>\n",
       "<table border=\"1\" class=\"dataframe\">\n",
       "  <thead>\n",
       "    <tr style=\"text-align: right;\">\n",
       "      <th></th>\n",
       "      <th>station_name</th>\n",
       "      <th>station_id</th>\n",
       "      <th>imageset_id</th>\n",
       "      <th>image_id</th>\n",
       "      <th>timestamp</th>\n",
       "      <th>filename</th>\n",
       "      <th>url</th>\n",
       "      <th>flow_cfs</th>\n",
       "      <th>hour</th>\n",
       "      <th>month</th>\n",
       "    </tr>\n",
       "  </thead>\n",
       "  <tbody>\n",
       "    <tr>\n",
       "      <th>0</th>\n",
       "      <td>Avery Brook_Bridge_01171000</td>\n",
       "      <td>12</td>\n",
       "      <td>95</td>\n",
       "      <td>153582</td>\n",
       "      <td>2021-03-10 11:01:17-05:00</td>\n",
       "      <td>imagesets/fec63b82-d9fa-4844-ab9b-cda8999122b0...</td>\n",
       "      <td>https://usgs-chs-conte-prod-fpe-storage.s3.ama...</td>\n",
       "      <td>3.390000</td>\n",
       "      <td>11</td>\n",
       "      <td>3</td>\n",
       "    </tr>\n",
       "    <tr>\n",
       "      <th>1</th>\n",
       "      <td>Avery Brook_Bridge_01171000</td>\n",
       "      <td>12</td>\n",
       "      <td>95</td>\n",
       "      <td>153583</td>\n",
       "      <td>2021-03-10 11:02:24-05:00</td>\n",
       "      <td>imagesets/fec63b82-d9fa-4844-ab9b-cda8999122b0...</td>\n",
       "      <td>https://usgs-chs-conte-prod-fpe-storage.s3.ama...</td>\n",
       "      <td>3.390000</td>\n",
       "      <td>11</td>\n",
       "      <td>3</td>\n",
       "    </tr>\n",
       "    <tr>\n",
       "      <th>2</th>\n",
       "      <td>Avery Brook_Bridge_01171000</td>\n",
       "      <td>12</td>\n",
       "      <td>95</td>\n",
       "      <td>153584</td>\n",
       "      <td>2021-03-10 11:16:18-05:00</td>\n",
       "      <td>imagesets/fec63b82-d9fa-4844-ab9b-cda8999122b0...</td>\n",
       "      <td>https://usgs-chs-conte-prod-fpe-storage.s3.ama...</td>\n",
       "      <td>3.390000</td>\n",
       "      <td>11</td>\n",
       "      <td>3</td>\n",
       "    </tr>\n",
       "    <tr>\n",
       "      <th>3</th>\n",
       "      <td>Avery Brook_Bridge_01171000</td>\n",
       "      <td>12</td>\n",
       "      <td>95</td>\n",
       "      <td>153585</td>\n",
       "      <td>2021-03-10 11:31:18-05:00</td>\n",
       "      <td>imagesets/fec63b82-d9fa-4844-ab9b-cda8999122b0...</td>\n",
       "      <td>https://usgs-chs-conte-prod-fpe-storage.s3.ama...</td>\n",
       "      <td>3.390000</td>\n",
       "      <td>11</td>\n",
       "      <td>3</td>\n",
       "    </tr>\n",
       "    <tr>\n",
       "      <th>4</th>\n",
       "      <td>Avery Brook_Bridge_01171000</td>\n",
       "      <td>12</td>\n",
       "      <td>95</td>\n",
       "      <td>153586</td>\n",
       "      <td>2021-03-10 11:46:18-05:00</td>\n",
       "      <td>imagesets/fec63b82-d9fa-4844-ab9b-cda8999122b0...</td>\n",
       "      <td>https://usgs-chs-conte-prod-fpe-storage.s3.ama...</td>\n",
       "      <td>3.390867</td>\n",
       "      <td>11</td>\n",
       "      <td>3</td>\n",
       "    </tr>\n",
       "    <tr>\n",
       "      <th>...</th>\n",
       "      <td>...</td>\n",
       "      <td>...</td>\n",
       "      <td>...</td>\n",
       "      <td>...</td>\n",
       "      <td>...</td>\n",
       "      <td>...</td>\n",
       "      <td>...</td>\n",
       "      <td>...</td>\n",
       "      <td>...</td>\n",
       "      <td>...</td>\n",
       "    </tr>\n",
       "    <tr>\n",
       "      <th>31204</th>\n",
       "      <td>Avery Brook_Bridge_01171000</td>\n",
       "      <td>12</td>\n",
       "      <td>2079</td>\n",
       "      <td>2962371</td>\n",
       "      <td>2023-09-06 09:45:00-04:00</td>\n",
       "      <td>imagesets/7e360ec6-8bb5-4882-9e18-19898844da69...</td>\n",
       "      <td>https://usgs-chs-conte-prod-fpe-storage.s3.ama...</td>\n",
       "      <td>1.780000</td>\n",
       "      <td>9</td>\n",
       "      <td>9</td>\n",
       "    </tr>\n",
       "    <tr>\n",
       "      <th>31205</th>\n",
       "      <td>Avery Brook_Bridge_01171000</td>\n",
       "      <td>12</td>\n",
       "      <td>2079</td>\n",
       "      <td>2962372</td>\n",
       "      <td>2023-09-06 10:00:00-04:00</td>\n",
       "      <td>imagesets/7e360ec6-8bb5-4882-9e18-19898844da69...</td>\n",
       "      <td>https://usgs-chs-conte-prod-fpe-storage.s3.ama...</td>\n",
       "      <td>1.780000</td>\n",
       "      <td>10</td>\n",
       "      <td>9</td>\n",
       "    </tr>\n",
       "    <tr>\n",
       "      <th>31206</th>\n",
       "      <td>Avery Brook_Bridge_01171000</td>\n",
       "      <td>12</td>\n",
       "      <td>2079</td>\n",
       "      <td>2962373</td>\n",
       "      <td>2023-09-06 10:15:00-04:00</td>\n",
       "      <td>imagesets/7e360ec6-8bb5-4882-9e18-19898844da69...</td>\n",
       "      <td>https://usgs-chs-conte-prod-fpe-storage.s3.ama...</td>\n",
       "      <td>1.780000</td>\n",
       "      <td>10</td>\n",
       "      <td>9</td>\n",
       "    </tr>\n",
       "    <tr>\n",
       "      <th>31207</th>\n",
       "      <td>Avery Brook_Bridge_01171000</td>\n",
       "      <td>12</td>\n",
       "      <td>2079</td>\n",
       "      <td>2962374</td>\n",
       "      <td>2023-09-06 10:30:00-04:00</td>\n",
       "      <td>imagesets/7e360ec6-8bb5-4882-9e18-19898844da69...</td>\n",
       "      <td>https://usgs-chs-conte-prod-fpe-storage.s3.ama...</td>\n",
       "      <td>1.780000</td>\n",
       "      <td>10</td>\n",
       "      <td>9</td>\n",
       "    </tr>\n",
       "    <tr>\n",
       "      <th>31208</th>\n",
       "      <td>Avery Brook_Bridge_01171000</td>\n",
       "      <td>12</td>\n",
       "      <td>2079</td>\n",
       "      <td>2962375</td>\n",
       "      <td>2023-09-06 10:45:00-04:00</td>\n",
       "      <td>imagesets/7e360ec6-8bb5-4882-9e18-19898844da69...</td>\n",
       "      <td>https://usgs-chs-conte-prod-fpe-storage.s3.ama...</td>\n",
       "      <td>1.780000</td>\n",
       "      <td>10</td>\n",
       "      <td>9</td>\n",
       "    </tr>\n",
       "  </tbody>\n",
       "</table>\n",
       "<p>31209 rows × 10 columns</p>\n",
       "</div>"
      ],
      "text/plain": [
       "                      station_name  station_id  imageset_id  image_id  \\\n",
       "0      Avery Brook_Bridge_01171000          12           95    153582   \n",
       "1      Avery Brook_Bridge_01171000          12           95    153583   \n",
       "2      Avery Brook_Bridge_01171000          12           95    153584   \n",
       "3      Avery Brook_Bridge_01171000          12           95    153585   \n",
       "4      Avery Brook_Bridge_01171000          12           95    153586   \n",
       "...                            ...         ...          ...       ...   \n",
       "31204  Avery Brook_Bridge_01171000          12         2079   2962371   \n",
       "31205  Avery Brook_Bridge_01171000          12         2079   2962372   \n",
       "31206  Avery Brook_Bridge_01171000          12         2079   2962373   \n",
       "31207  Avery Brook_Bridge_01171000          12         2079   2962374   \n",
       "31208  Avery Brook_Bridge_01171000          12         2079   2962375   \n",
       "\n",
       "                       timestamp  \\\n",
       "0      2021-03-10 11:01:17-05:00   \n",
       "1      2021-03-10 11:02:24-05:00   \n",
       "2      2021-03-10 11:16:18-05:00   \n",
       "3      2021-03-10 11:31:18-05:00   \n",
       "4      2021-03-10 11:46:18-05:00   \n",
       "...                          ...   \n",
       "31204  2023-09-06 09:45:00-04:00   \n",
       "31205  2023-09-06 10:00:00-04:00   \n",
       "31206  2023-09-06 10:15:00-04:00   \n",
       "31207  2023-09-06 10:30:00-04:00   \n",
       "31208  2023-09-06 10:45:00-04:00   \n",
       "\n",
       "                                                filename  \\\n",
       "0      imagesets/fec63b82-d9fa-4844-ab9b-cda8999122b0...   \n",
       "1      imagesets/fec63b82-d9fa-4844-ab9b-cda8999122b0...   \n",
       "2      imagesets/fec63b82-d9fa-4844-ab9b-cda8999122b0...   \n",
       "3      imagesets/fec63b82-d9fa-4844-ab9b-cda8999122b0...   \n",
       "4      imagesets/fec63b82-d9fa-4844-ab9b-cda8999122b0...   \n",
       "...                                                  ...   \n",
       "31204  imagesets/7e360ec6-8bb5-4882-9e18-19898844da69...   \n",
       "31205  imagesets/7e360ec6-8bb5-4882-9e18-19898844da69...   \n",
       "31206  imagesets/7e360ec6-8bb5-4882-9e18-19898844da69...   \n",
       "31207  imagesets/7e360ec6-8bb5-4882-9e18-19898844da69...   \n",
       "31208  imagesets/7e360ec6-8bb5-4882-9e18-19898844da69...   \n",
       "\n",
       "                                                     url  flow_cfs  hour  \\\n",
       "0      https://usgs-chs-conte-prod-fpe-storage.s3.ama...  3.390000    11   \n",
       "1      https://usgs-chs-conte-prod-fpe-storage.s3.ama...  3.390000    11   \n",
       "2      https://usgs-chs-conte-prod-fpe-storage.s3.ama...  3.390000    11   \n",
       "3      https://usgs-chs-conte-prod-fpe-storage.s3.ama...  3.390000    11   \n",
       "4      https://usgs-chs-conte-prod-fpe-storage.s3.ama...  3.390867    11   \n",
       "...                                                  ...       ...   ...   \n",
       "31204  https://usgs-chs-conte-prod-fpe-storage.s3.ama...  1.780000     9   \n",
       "31205  https://usgs-chs-conte-prod-fpe-storage.s3.ama...  1.780000    10   \n",
       "31206  https://usgs-chs-conte-prod-fpe-storage.s3.ama...  1.780000    10   \n",
       "31207  https://usgs-chs-conte-prod-fpe-storage.s3.ama...  1.780000    10   \n",
       "31208  https://usgs-chs-conte-prod-fpe-storage.s3.ama...  1.780000    10   \n",
       "\n",
       "       month  \n",
       "0          3  \n",
       "1          3  \n",
       "2          3  \n",
       "3          3  \n",
       "4          3  \n",
       "...      ...  \n",
       "31204      9  \n",
       "31205      9  \n",
       "31206      9  \n",
       "31207      9  \n",
       "31208      9  \n",
       "\n",
       "[31209 rows x 10 columns]"
      ]
     },
     "execution_count": 9,
     "metadata": {},
     "output_type": "execute_result"
    }
   ],
   "source": [
    "process_transform_output(session, \"AVERYBB\", \"20230922\")"
   ]
  },
  {
   "cell_type": "code",
   "execution_count": 12,
   "id": "6fc52115",
   "metadata": {},
   "outputs": [],
   "source": [
    "def combine_predictions (session, site, model_id, job_size = 5000, root_dir = \"D:/fpe/sites\"):\n",
    "    s3 = session.client(\"s3\")\n",
    "    transform_prefix = f\"rank/{site}/{model_id}/transform\"\n",
    "    df = pd.read_csv(f\"{root_dir}/{site}/models/{model_id}/transform/flow-images.csv\")\n",
    "    keys = [f\"{transform_prefix}/predictions-{skip:05d}-{(skip + job_size - 1):05d}.csv\" for skip in range(0, len(df), job_size)]\n",
    "\n",
    "    dfs = []\n",
    "    for key in keys:\n",
    "        print(key)\n",
    "        csv_obj = s3.get_object(Bucket=model_bucket, Key=key)\n",
    "        csv_data = csv_obj['Body'].read().decode('utf-8')\n",
    "        dfs.append(pd.read_csv(StringIO(csv_data)))\n",
    "\n",
    "    df = pd.concat(dfs, ignore_index=True)\n",
    "\n",
    "    csv_buffer = StringIO()\n",
    "    df.to_csv(csv_buffer, index=False)\n",
    "    output_key = f\"{transform_key}/predictions.csv\"\n",
    "    s3.put_object(Body=csv_buffer.getvalue(), Bucket=model_bucket, Key=output_key)\n",
    "    df.to_csv(f\"{root_dir}/{site}/models/{model_id}/transform/predictions.csv\", index=False)\n",
    "    df\n"
   ]
  },
  {
   "cell_type": "code",
   "execution_count": 33,
   "id": "054a3d08",
   "metadata": {},
   "outputs": [
    {
     "name": "stdout",
     "output_type": "stream",
     "text": [
      "rank/AVERYBB/20230922/transform/predictions-00000-04999.csv\n",
      "rank/AVERYBB/20230922/transform/predictions-05000-09999.csv\n",
      "rank/AVERYBB/20230922/transform/predictions-10000-14999.csv\n",
      "rank/AVERYBB/20230922/transform/predictions-15000-19999.csv\n",
      "rank/AVERYBB/20230922/transform/predictions-20000-24999.csv\n",
      "rank/AVERYBB/20230922/transform/predictions-25000-29999.csv\n",
      "rank/AVERYBB/20230922/transform/predictions-30000-34999.csv\n"
     ]
    }
   ],
   "source": [
    "combine_predictions(session, \"AVERYBB\", \"20230922\")"
   ]
  },
  {
   "cell_type": "code",
   "execution_count": 29,
   "id": "fc422f5a",
   "metadata": {},
   "outputs": [],
   "source": [
    "def download_output(session, site, model_id, job_id, root_dir = \"D:/fpe/sites\"):\n",
    "    s3 = session.client(\"s3\")\n",
    "    output_dir = f\"{root_dir}/{site}/models/{model_id}/output\"\n",
    "    if not os.path.exists(output_dir):\n",
    "        os.makedirs(output_dir)\n",
    "    output_file = f\"{root_dir}/{site}/models/{model_id}/output/output.tar.gz\"\n",
    "    output_key = f\"rank/{site}/{model_id}/jobs/{job_id}/output/output.tar.gz\"\n",
    "    s3.download_file(Bucket=model_bucket, Key=output_key, Filename=output_file)\n",
    "    !tar -xzvf {output_file} -C {output_dir}\n",
    "    output_file"
   ]
  },
  {
   "cell_type": "code",
   "execution_count": 32,
   "id": "4f7971b9",
   "metadata": {},
   "outputs": [
    {
     "name": "stderr",
     "output_type": "stream",
     "text": [
      "x metrics.csv\n",
      "x args.json\n"
     ]
    }
   ],
   "source": [
    "download_output(session, \"AVERYBB\", \"20230922\", \"fpe-rank-2023-09-23-01-48-02-464\")"
   ]
  }
 ],
 "metadata": {
  "kernelspec": {
   "display_name": "Python 3",
   "language": "python",
   "name": "python3"
  },
  "language_info": {
   "codemirror_mode": {
    "name": "ipython",
    "version": 3
   },
   "file_extension": ".py",
   "mimetype": "text/x-python",
   "name": "python",
   "nbconvert_exporter": "python",
   "pygments_lexer": "ipython3",
   "version": "3.9.17"
  }
 },
 "nbformat": 4,
 "nbformat_minor": 5
}
