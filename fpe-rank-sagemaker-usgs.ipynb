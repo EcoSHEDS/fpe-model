{
 "cells": [
  {
   "cell_type": "markdown",
   "id": "61634f46-4d19-436c-9cb5-becc5b8111ff",
   "metadata": {},
   "source": [
    "# FPE Rank Model"
   ]
  },
  {
   "cell_type": "code",
   "execution_count": 1,
   "id": "f198bc4d",
   "metadata": {},
   "outputs": [],
   "source": [
    "import boto3\n",
    "import time\n",
    "import json\n",
    "import os\n",
    "import pandas as pd\n",
    "import sagemaker\n",
    "from io import StringIO"
   ]
  },
  {
   "cell_type": "code",
   "execution_count": 2,
   "id": "9100f343",
   "metadata": {},
   "outputs": [],
   "source": [
    "AWS_PROFILE=\"conte-prod\"\n",
    "AWS_REGION=\"us-west-2\"\n",
    "JOB_ROLE_ARN=\"arn:aws:iam::694155575325:role/fpe-prod-sagemaker-execution-role\"\n",
    "\n",
    "session = boto3.Session(profile_name=AWS_PROFILE)\n",
    "s3 = session.client(\"s3\")"
   ]
  },
  {
   "cell_type": "code",
   "execution_count": 33,
   "id": "25f6568d",
   "metadata": {},
   "outputs": [],
   "source": [
    "def timestamp():\n",
    "    return time.strftime(\"%Y%m%d-%H%M%S\")\n",
    "\n",
    "def get_batch_creds(session, role_arn):\n",
    "    sts = session.client(\"sts\")\n",
    "    response = sts.assume_role(\n",
    "        RoleArn=role_arn,\n",
    "        RoleSessionName=f\"fpe-sagemaker-session--{timestamp()}\"\n",
    "    )\n",
    "    return response['Credentials']\n",
    "\n",
    "creds = get_batch_creds(session, JOB_ROLE_ARN)\n",
    "sm_boto_session = boto3.Session(\n",
    "    aws_access_key_id=creds['AccessKeyId'],\n",
    "    aws_secret_access_key=creds['SecretAccessKey'],\n",
    "    aws_session_token=creds['SessionToken'],\n",
    "    region_name=AWS_REGION\n",
    ")\n",
    "\n",
    "sm_session = sagemaker.Session(boto_session = sm_boto_session)"
   ]
  },
  {
   "cell_type": "code",
   "execution_count": 55,
   "id": "feeae8a4",
   "metadata": {},
   "outputs": [
    {
     "data": {
      "text/plain": [
       "('s3://usgs-chs-conte-prod-fpe-models/rank/01651770/20231026/input',\n",
       " 's3://usgs-chs-conte-prod-fpe-models/rank/01651770/20231026/jobs',\n",
       " 's3://usgs-chs-conte-prod-fpe-models/rank/01651770/20231026/checkpoints',\n",
       " 's3://usgs-chs-conte-prod-fpe-models/rank/01651770/20231026/transform')"
      ]
     },
     "execution_count": 55,
     "metadata": {},
     "output_type": "execute_result"
    }
   ],
   "source": [
    "model_id = \"20231026\"\n",
    "site = \"01651770\"\n",
    "site_dir = f\"D:/fpe/sites/{site}\"\n",
    "model_dir = f\"{site_dir}/models/{model_id}\"\n",
    "\n",
    "if not os.path.exists(model_dir):\n",
    "    os.makedirs(model_dir)\n",
    "\n",
    "model_bucket = \"usgs-chs-conte-prod-fpe-models\"\n",
    "storage_bucket = \"usgs-chs-conte-prod-fpe-storage\"\n",
    "\n",
    "site_key = f\"rank/{site}\"\n",
    "data_key = f\"{site_key}/data\"\n",
    "model_key = f\"{site_key}/{model_id}\"\n",
    "input_key = f\"{model_key}/input\"\n",
    "output_key = f\"{model_key}/jobs\"\n",
    "checkpoint_key = f\"{model_key}/checkpoints\"\n",
    "transform_key = f\"{model_key}/transform\"\n",
    "\n",
    "input_path = f\"s3://{model_bucket}/{input_key}\"\n",
    "output_path = f\"s3://{model_bucket}/{output_key}\"\n",
    "checkpoint_path = f\"s3://{model_bucket}/{checkpoint_key}\"\n",
    "transform_path = f\"s3://{model_bucket}/{transform_key}\"\n",
    "(input_path, output_path, checkpoint_path, transform_path)"
   ]
  },
  {
   "cell_type": "code",
   "execution_count": 56,
   "id": "2cf3830e",
   "metadata": {},
   "outputs": [
    {
     "name": "stdout",
     "output_type": "stream",
     "text": [
      "uploading: annotations.csv -> rank/01651770/20231026/input/annotations.csv\n",
      "uploading: args.json -> rank/01651770/20231026/input/args.json\n",
      "uploading: images.csv -> rank/01651770/20231026/input/images.csv\n",
      "uploading: manifest.json -> rank/01651770/20231026/input/manifest.json\n",
      "uploading: pairs-test.csv -> rank/01651770/20231026/input/pairs-test.csv\n",
      "uploading: pairs-train.csv -> rank/01651770/20231026/input/pairs-train.csv\n",
      "uploading: pairs-val.csv -> rank/01651770/20231026/input/pairs-val.csv\n"
     ]
    }
   ],
   "source": [
    "# upload input files to s3\n",
    "\n",
    "for subdir, dirs, files in os.walk(f\"{model_dir}/input\"):\n",
    "    for file in files:\n",
    "        s3_key = f\"{input_key}/{file}\"\n",
    "        print(f\"uploading: {file} -> {s3_key}\")\n",
    "        s3.upload_file(Filename=os.path.join(subdir, file), Bucket=model_bucket, Key=s3_key)"
   ]
  },
  {
   "cell_type": "code",
   "execution_count": 13,
   "id": "29f3c9c7",
   "metadata": {},
   "outputs": [],
   "source": [
    "# def timestamp():\n",
    "#     return time.strftime(\"%Y%m%d-%H%M%S\")\n",
    "\n",
    "# sts = session.client(\"sts\")\n",
    "# response = sts.assume_role(\n",
    "#     RoleArn=\"arn:aws:iam::694155575325:role/fpe-prod-batch-job-role\",\n",
    "#     RoleSessionName=f\"fpe-batch-session--{timestamp()}\"\n",
    "# )\n",
    "# creds = response['Credentials']\n",
    "# batch_boto_session = boto3.Session(\n",
    "#     aws_access_key_id=creds['AccessKeyId'],\n",
    "#     aws_secret_access_key=creds['SecretAccessKey'],\n",
    "#     aws_session_token=creds['SessionToken'],\n",
    "#     region_name=AWS_REGION\n",
    "# )\n",
    "# batch = batch_boto_session.client('batch')\n",
    "\n",
    "# batch.terminate_job(jobId=\"aaf02bed-6135-4bb3-bbe7-54f58237a7a0\", reason=\"running indefinitely\")"
   ]
  },
  {
   "cell_type": "markdown",
   "id": "7e903ac6",
   "metadata": {},
   "source": [
    "## Training"
   ]
  },
  {
   "cell_type": "code",
   "execution_count": 16,
   "id": "b6d650da-67eb-49dd-81bc-07ee38ff59a2",
   "metadata": {},
   "outputs": [],
   "source": [
    "from sagemaker.pytorch import PyTorch\n",
    "\n",
    "estimator = PyTorch(\n",
    "    entry_point=\"train.py\",\n",
    "    source_dir=\"src\",\n",
    "    py_version=\"py38\",\n",
    "    framework_version=\"1.12\",\n",
    "    role=\"arn:aws:iam::694155575325:role/fpe-prod-sagemaker-execution-role\",\n",
    "    instance_count=1,\n",
    "    instance_type=\"ml.p3.2xlarge\",\n",
    "    volume_size=100,\n",
    "    hyperparameters={\n",
    "        \"epochs\": 15\n",
    "    },\n",
    "    base_job_name=\"fpe-rank\",\n",
    "    output_path=output_path,\n",
    "    checkpoint_s3_uri=checkpoint_path,\n",
    "    code_location=output_path,\n",
    "    disable_output_compression=False,\n",
    "    sagemaker_session=sm_session\n",
    ")"
   ]
  },
  {
   "cell_type": "code",
   "execution_count": 17,
   "id": "8b76c344-025b-42e8-b606-34c4f93f43ad",
   "metadata": {},
   "outputs": [
    {
     "data": {
      "text/plain": [
       "(<sagemaker.inputs.TrainingInput at 0x1a33cc560d0>,\n",
       " 's3://usgs-chs-conte-prod-fpe-models/rank/01651770/20231026/input/manifest.json',\n",
       " 's3://usgs-chs-conte-prod-fpe-models/rank/01651770/20231026/input')"
      ]
     },
     "execution_count": 17,
     "metadata": {},
     "output_type": "execute_result"
    }
   ],
   "source": [
    "from sagemaker.inputs import TrainingInput\n",
    "\n",
    "input_images = TrainingInput(\n",
    "    s3_data = f\"{input_path}/manifest.json\",\n",
    "    s3_data_type = \"ManifestFile\",\n",
    "    input_mode = \"File\"\n",
    ")\n",
    "(input_images, f\"{input_path}/manifest.json\", input_path)"
   ]
  },
  {
   "cell_type": "code",
   "execution_count": 18,
   "id": "bd8dd95e-9915-4e4e-9824-7a15d2f13281",
   "metadata": {},
   "outputs": [
    {
     "name": "stdout",
     "output_type": "stream",
     "text": [
      "Using provided s3_resource\n"
     ]
    },
    {
     "name": "stderr",
     "output_type": "stream",
     "text": [
      "INFO:sagemaker.image_uris:image_uri is not presented, retrieving image_uri based on instance_type, framework etc.\n",
      "INFO:sagemaker:Creating training-job with name: fpe-rank-2023-10-26-19-59-36-250\n"
     ]
    }
   ],
   "source": [
    "estimator.fit({ \"images\": input_images, \"values\": input_path }, wait=False)"
   ]
  },
  {
   "cell_type": "code",
   "execution_count": 79,
   "id": "62693c29",
   "metadata": {},
   "outputs": [],
   "source": [
    "sm_session.stop_training_job(\"fpe-rank-2023-09-23-01-46-19-458\")"
   ]
  },
  {
   "cell_type": "markdown",
   "id": "ff74e6da",
   "metadata": {},
   "source": [
    "## Batch Transform"
   ]
  },
  {
   "cell_type": "code",
   "execution_count": 57,
   "id": "97f6a94c",
   "metadata": {},
   "outputs": [
    {
     "data": {
      "text/plain": [
       "{'id': 79,\n",
       " 'user_id': 'b13471f1-beda-4991-bde6-6adf96f7fb04',\n",
       " 'name': '01651770 HICKEY RUN AT NATIONAL ARBORETUM',\n",
       " 'description': 'HICKEY RUN AT NATIONAL ARBORETUM AT WASHINGTON, DC',\n",
       " 'latitude': 38.9161,\n",
       " 'longitude': -76.9689,\n",
       " 'timezone': 'US/Eastern',\n",
       " 'created_at': '2022-11-01 15:05:54',\n",
       " 'updated_at': '2023-06-20 19:18:16',\n",
       " 'private': False,\n",
       " 'nwis_id': '01651770'}"
      ]
     },
     "execution_count": 57,
     "metadata": {},
     "output_type": "execute_result"
    }
   ],
   "source": [
    "with open(f\"{site_dir}/data/station.json\", \"r\") as f:\n",
    "    station = json.load(f)\n",
    "station"
   ]
  },
  {
   "cell_type": "code",
   "execution_count": 58,
   "id": "aeaa29e4",
   "metadata": {},
   "outputs": [],
   "source": [
    "def download_output(session, site, model_id, root_dir = \"D:/fpe/sites\"):\n",
    "    s3 = session.client(\"s3\")\n",
    "    output_dir = f\"{root_dir}/{site}/models/{model_id}/output\"\n",
    "    if not os.path.exists(output_dir):\n",
    "        os.makedirs(output_dir)\n",
    "    output_file = f\"{output_dir}/output.tar.gz\"\n",
    "    with open(f\"{root_dir}/{site}/models/{model_id}/job.txt\", \"r\") as f:\n",
    "        job_id = f.readline().strip()\n",
    "    print(f\"job: {job_id}\")\n",
    "    output_key = f\"rank/{site}/{model_id}/jobs/{job_id}/output/output.tar.gz\"\n",
    "    print(f\"downloading: s3://{model_bucket}/{output_key} -> {output_file}\")\n",
    "    s3.download_file(Bucket=model_bucket, Key=output_key, Filename=output_file)\n",
    "    print(f\"extracting: {output_file} -> {output_dir}\")\n",
    "    !tar -xzvf {output_file} -C {output_dir}\n",
    "    output_file"
   ]
  },
  {
   "cell_type": "code",
   "execution_count": 59,
   "id": "11eb5131",
   "metadata": {},
   "outputs": [
    {
     "name": "stdout",
     "output_type": "stream",
     "text": [
      "job: fpe-rank-2023-10-26-19-59-36-250\n",
      "downloading: s3://usgs-chs-conte-prod-fpe-models/rank/01651770/20231026/jobs/fpe-rank-2023-10-26-19-59-36-250/output/output.tar.gz -> D:/fpe/sites/01651770/models/20231026/output/output.tar.gz\n",
      "extracting: D:/fpe/sites/01651770/models/20231026/output/output.tar.gz -> D:/fpe/sites/01651770/models/20231026/output\n"
     ]
    },
    {
     "name": "stderr",
     "output_type": "stream",
     "text": [
      "x args.json\n",
      "x metrics.csv\n"
     ]
    }
   ],
   "source": [
    "download_output(session, site, model_id)"
   ]
  },
  {
   "cell_type": "code",
   "execution_count": 60,
   "id": "a9feef7c",
   "metadata": {},
   "outputs": [
    {
     "name": "stdout",
     "output_type": "stream",
     "text": [
      "rows: 16363\n"
     ]
    }
   ],
   "source": [
    "transform_images_file = f\"{model_dir}/input/images.csv\"\n",
    "transform_images = pd.read_csv(transform_images_file)\n",
    "transform_images[\"timestamp\"] = pd.to_datetime(transform_images[\"timestamp\"]).dt.tz_convert(station[\"timezone\"])\n",
    "print(f\"rows: {len(transform_images)}\")"
   ]
  },
  {
   "cell_type": "code",
   "execution_count": 61,
   "metadata": {},
   "outputs": [
    {
     "data": {
      "text/html": [
       "<div>\n",
       "<style scoped>\n",
       "    .dataframe tbody tr th:only-of-type {\n",
       "        vertical-align: middle;\n",
       "    }\n",
       "\n",
       "    .dataframe tbody tr th {\n",
       "        vertical-align: top;\n",
       "    }\n",
       "\n",
       "    .dataframe thead th {\n",
       "        text-align: right;\n",
       "    }\n",
       "</style>\n",
       "<table border=\"1\" class=\"dataframe\">\n",
       "  <thead>\n",
       "    <tr style=\"text-align: right;\">\n",
       "      <th></th>\n",
       "      <th>hour</th>\n",
       "      <th>count</th>\n",
       "    </tr>\n",
       "  </thead>\n",
       "  <tbody>\n",
       "    <tr>\n",
       "      <th>0</th>\n",
       "      <td>7</td>\n",
       "      <td>1346</td>\n",
       "    </tr>\n",
       "    <tr>\n",
       "      <th>1</th>\n",
       "      <td>8</td>\n",
       "      <td>1365</td>\n",
       "    </tr>\n",
       "    <tr>\n",
       "      <th>2</th>\n",
       "      <td>9</td>\n",
       "      <td>1364</td>\n",
       "    </tr>\n",
       "    <tr>\n",
       "      <th>3</th>\n",
       "      <td>10</td>\n",
       "      <td>1364</td>\n",
       "    </tr>\n",
       "    <tr>\n",
       "      <th>4</th>\n",
       "      <td>11</td>\n",
       "      <td>1365</td>\n",
       "    </tr>\n",
       "    <tr>\n",
       "      <th>5</th>\n",
       "      <td>12</td>\n",
       "      <td>1368</td>\n",
       "    </tr>\n",
       "    <tr>\n",
       "      <th>6</th>\n",
       "      <td>13</td>\n",
       "      <td>1368</td>\n",
       "    </tr>\n",
       "    <tr>\n",
       "      <th>7</th>\n",
       "      <td>14</td>\n",
       "      <td>1369</td>\n",
       "    </tr>\n",
       "    <tr>\n",
       "      <th>8</th>\n",
       "      <td>15</td>\n",
       "      <td>1370</td>\n",
       "    </tr>\n",
       "    <tr>\n",
       "      <th>9</th>\n",
       "      <td>16</td>\n",
       "      <td>1370</td>\n",
       "    </tr>\n",
       "    <tr>\n",
       "      <th>10</th>\n",
       "      <td>17</td>\n",
       "      <td>1365</td>\n",
       "    </tr>\n",
       "    <tr>\n",
       "      <th>11</th>\n",
       "      <td>18</td>\n",
       "      <td>1349</td>\n",
       "    </tr>\n",
       "  </tbody>\n",
       "</table>\n",
       "</div>"
      ],
      "text/plain": [
       "    hour  count\n",
       "0      7   1346\n",
       "1      8   1365\n",
       "2      9   1364\n",
       "3     10   1364\n",
       "4     11   1365\n",
       "5     12   1368\n",
       "6     13   1368\n",
       "7     14   1369\n",
       "8     15   1370\n",
       "9     16   1370\n",
       "10    17   1365\n",
       "11    18   1349"
      ]
     },
     "execution_count": 61,
     "metadata": {},
     "output_type": "execute_result"
    }
   ],
   "source": [
    "transform_images[\"hour\"] = transform_images[\"timestamp\"].dt.hour\n",
    "transform_images.groupby(\"hour\").size().reset_index(name=\"count\")"
   ]
  },
  {
   "cell_type": "code",
   "execution_count": 62,
   "id": "d476d207",
   "metadata": {},
   "outputs": [
    {
     "data": {
      "text/html": [
       "<div>\n",
       "<style scoped>\n",
       "    .dataframe tbody tr th:only-of-type {\n",
       "        vertical-align: middle;\n",
       "    }\n",
       "\n",
       "    .dataframe tbody tr th {\n",
       "        vertical-align: top;\n",
       "    }\n",
       "\n",
       "    .dataframe thead th {\n",
       "        text-align: right;\n",
       "    }\n",
       "</style>\n",
       "<table border=\"1\" class=\"dataframe\">\n",
       "  <thead>\n",
       "    <tr style=\"text-align: right;\">\n",
       "      <th></th>\n",
       "      <th>month</th>\n",
       "      <th>count</th>\n",
       "    </tr>\n",
       "  </thead>\n",
       "  <tbody>\n",
       "    <tr>\n",
       "      <th>0</th>\n",
       "      <td>1</td>\n",
       "      <td>1858</td>\n",
       "    </tr>\n",
       "    <tr>\n",
       "      <th>1</th>\n",
       "      <td>2</td>\n",
       "      <td>1680</td>\n",
       "    </tr>\n",
       "    <tr>\n",
       "      <th>2</th>\n",
       "      <td>3</td>\n",
       "      <td>1860</td>\n",
       "    </tr>\n",
       "    <tr>\n",
       "      <th>3</th>\n",
       "      <td>4</td>\n",
       "      <td>1799</td>\n",
       "    </tr>\n",
       "    <tr>\n",
       "      <th>4</th>\n",
       "      <td>5</td>\n",
       "      <td>1860</td>\n",
       "    </tr>\n",
       "    <tr>\n",
       "      <th>5</th>\n",
       "      <td>6</td>\n",
       "      <td>1800</td>\n",
       "    </tr>\n",
       "    <tr>\n",
       "      <th>6</th>\n",
       "      <td>7</td>\n",
       "      <td>1860</td>\n",
       "    </tr>\n",
       "    <tr>\n",
       "      <th>7</th>\n",
       "      <td>8</td>\n",
       "      <td>240</td>\n",
       "    </tr>\n",
       "    <tr>\n",
       "      <th>8</th>\n",
       "      <td>10</td>\n",
       "      <td>112</td>\n",
       "    </tr>\n",
       "    <tr>\n",
       "      <th>9</th>\n",
       "      <td>11</td>\n",
       "      <td>1436</td>\n",
       "    </tr>\n",
       "    <tr>\n",
       "      <th>10</th>\n",
       "      <td>12</td>\n",
       "      <td>1858</td>\n",
       "    </tr>\n",
       "  </tbody>\n",
       "</table>\n",
       "</div>"
      ],
      "text/plain": [
       "    month  count\n",
       "0       1   1858\n",
       "1       2   1680\n",
       "2       3   1860\n",
       "3       4   1799\n",
       "4       5   1860\n",
       "5       6   1800\n",
       "6       7   1860\n",
       "7       8    240\n",
       "8      10    112\n",
       "9      11   1436\n",
       "10     12   1858"
      ]
     },
     "execution_count": 62,
     "metadata": {},
     "output_type": "execute_result"
    }
   ],
   "source": [
    "transform_images[\"month\"] = transform_images[\"timestamp\"].dt.month\n",
    "transform_images.groupby(\"month\").size().reset_index(name=\"count\")"
   ]
  },
  {
   "cell_type": "code",
   "execution_count": 63,
   "id": "e9816821",
   "metadata": {},
   "outputs": [],
   "source": [
    "transform_images = transform_images[transform_images[\"timestamp\"].dt.hour.between(7, 18)]\n",
    "transform_images[\"timestamp\"] = transform_images[\"timestamp\"].dt.tz_convert(\"UTC\")\n",
    "transform_images.to_csv(f\"{model_dir}/input/images.csv\", index=False)"
   ]
  },
  {
   "cell_type": "code",
   "execution_count": 64,
   "id": "a3dfbd3e",
   "metadata": {},
   "outputs": [
    {
     "name": "stdout",
     "output_type": "stream",
     "text": [
      "uploading: D:/fpe/sites/01651770/models/20231026/input/images.csv -> rank/01651770/20231026/transform/images.csv\n"
     ]
    }
   ],
   "source": [
    "s3_key = f\"{transform_key}/images.csv\"\n",
    "print(f\"uploading: {transform_images_file} -> {s3_key}\")\n",
    "s3.upload_file(Filename=transform_images_file, Bucket=model_bucket, Key=s3_key)"
   ]
  },
  {
   "cell_type": "code",
   "execution_count": 65,
   "id": "f2239dac",
   "metadata": {},
   "outputs": [
    {
     "data": {
      "text/html": [
       "<div>\n",
       "<style scoped>\n",
       "    .dataframe tbody tr th:only-of-type {\n",
       "        vertical-align: middle;\n",
       "    }\n",
       "\n",
       "    .dataframe tbody tr th {\n",
       "        vertical-align: top;\n",
       "    }\n",
       "\n",
       "    .dataframe thead th {\n",
       "        text-align: right;\n",
       "    }\n",
       "</style>\n",
       "<table border=\"1\" class=\"dataframe\">\n",
       "  <thead>\n",
       "    <tr style=\"text-align: right;\">\n",
       "      <th></th>\n",
       "      <th>station_name</th>\n",
       "      <th>station_id</th>\n",
       "      <th>imageset_id</th>\n",
       "      <th>image_id</th>\n",
       "      <th>timestamp</th>\n",
       "      <th>filename</th>\n",
       "      <th>url</th>\n",
       "      <th>flow_cfs</th>\n",
       "      <th>hour</th>\n",
       "      <th>month</th>\n",
       "    </tr>\n",
       "  </thead>\n",
       "  <tbody>\n",
       "    <tr>\n",
       "      <th>0</th>\n",
       "      <td>01651770 HICKEY RUN AT NATIONAL ARBORETUM</td>\n",
       "      <td>79</td>\n",
       "      <td>610</td>\n",
       "      <td>1036972</td>\n",
       "      <td>2022-10-26 18:30:00+00:00</td>\n",
       "      <td>imagesets/2ae2fe0a-8d71-45a7-b3fe-902455392131...</td>\n",
       "      <td>https://usgs-chs-conte-prod-fpe-storage.s3.ama...</td>\n",
       "      <td>0.14</td>\n",
       "      <td>14</td>\n",
       "      <td>10</td>\n",
       "    </tr>\n",
       "    <tr>\n",
       "      <th>1</th>\n",
       "      <td>01651770 HICKEY RUN AT NATIONAL ARBORETUM</td>\n",
       "      <td>79</td>\n",
       "      <td>610</td>\n",
       "      <td>1036973</td>\n",
       "      <td>2022-10-26 19:00:00+00:00</td>\n",
       "      <td>imagesets/2ae2fe0a-8d71-45a7-b3fe-902455392131...</td>\n",
       "      <td>https://usgs-chs-conte-prod-fpe-storage.s3.ama...</td>\n",
       "      <td>0.14</td>\n",
       "      <td>15</td>\n",
       "      <td>10</td>\n",
       "    </tr>\n",
       "    <tr>\n",
       "      <th>2</th>\n",
       "      <td>01651770 HICKEY RUN AT NATIONAL ARBORETUM</td>\n",
       "      <td>79</td>\n",
       "      <td>610</td>\n",
       "      <td>1036974</td>\n",
       "      <td>2022-10-26 19:30:00+00:00</td>\n",
       "      <td>imagesets/2ae2fe0a-8d71-45a7-b3fe-902455392131...</td>\n",
       "      <td>https://usgs-chs-conte-prod-fpe-storage.s3.ama...</td>\n",
       "      <td>0.14</td>\n",
       "      <td>15</td>\n",
       "      <td>10</td>\n",
       "    </tr>\n",
       "    <tr>\n",
       "      <th>3</th>\n",
       "      <td>01651770 HICKEY RUN AT NATIONAL ARBORETUM</td>\n",
       "      <td>79</td>\n",
       "      <td>610</td>\n",
       "      <td>1036975</td>\n",
       "      <td>2022-10-26 20:00:00+00:00</td>\n",
       "      <td>imagesets/2ae2fe0a-8d71-45a7-b3fe-902455392131...</td>\n",
       "      <td>https://usgs-chs-conte-prod-fpe-storage.s3.ama...</td>\n",
       "      <td>0.16</td>\n",
       "      <td>16</td>\n",
       "      <td>10</td>\n",
       "    </tr>\n",
       "    <tr>\n",
       "      <th>4</th>\n",
       "      <td>01651770 HICKEY RUN AT NATIONAL ARBORETUM</td>\n",
       "      <td>79</td>\n",
       "      <td>610</td>\n",
       "      <td>1036976</td>\n",
       "      <td>2022-10-26 20:30:00+00:00</td>\n",
       "      <td>imagesets/2ae2fe0a-8d71-45a7-b3fe-902455392131...</td>\n",
       "      <td>https://usgs-chs-conte-prod-fpe-storage.s3.ama...</td>\n",
       "      <td>0.14</td>\n",
       "      <td>16</td>\n",
       "      <td>10</td>\n",
       "    </tr>\n",
       "    <tr>\n",
       "      <th>...</th>\n",
       "      <td>...</td>\n",
       "      <td>...</td>\n",
       "      <td>...</td>\n",
       "      <td>...</td>\n",
       "      <td>...</td>\n",
       "      <td>...</td>\n",
       "      <td>...</td>\n",
       "      <td>...</td>\n",
       "      <td>...</td>\n",
       "      <td>...</td>\n",
       "    </tr>\n",
       "    <tr>\n",
       "      <th>16358</th>\n",
       "      <td>01651770 HICKEY RUN AT NATIONAL ARBORETUM</td>\n",
       "      <td>79</td>\n",
       "      <td>1991</td>\n",
       "      <td>2793662</td>\n",
       "      <td>2023-08-04 22:00:00+00:00</td>\n",
       "      <td>imagesets/5a130b49-b468-4e7d-a36b-5b6ee4d90452...</td>\n",
       "      <td>https://usgs-chs-conte-prod-fpe-storage.s3.ama...</td>\n",
       "      <td>0.28</td>\n",
       "      <td>18</td>\n",
       "      <td>8</td>\n",
       "    </tr>\n",
       "    <tr>\n",
       "      <th>16359</th>\n",
       "      <td>01651770 HICKEY RUN AT NATIONAL ARBORETUM</td>\n",
       "      <td>79</td>\n",
       "      <td>1991</td>\n",
       "      <td>2793664</td>\n",
       "      <td>2023-08-04 22:12:00+00:00</td>\n",
       "      <td>imagesets/5a130b49-b468-4e7d-a36b-5b6ee4d90452...</td>\n",
       "      <td>https://usgs-chs-conte-prod-fpe-storage.s3.ama...</td>\n",
       "      <td>0.28</td>\n",
       "      <td>18</td>\n",
       "      <td>8</td>\n",
       "    </tr>\n",
       "    <tr>\n",
       "      <th>16360</th>\n",
       "      <td>01651770 HICKEY RUN AT NATIONAL ARBORETUM</td>\n",
       "      <td>79</td>\n",
       "      <td>1991</td>\n",
       "      <td>2793666</td>\n",
       "      <td>2023-08-04 22:24:00+00:00</td>\n",
       "      <td>imagesets/5a130b49-b468-4e7d-a36b-5b6ee4d90452...</td>\n",
       "      <td>https://usgs-chs-conte-prod-fpe-storage.s3.ama...</td>\n",
       "      <td>0.28</td>\n",
       "      <td>18</td>\n",
       "      <td>8</td>\n",
       "    </tr>\n",
       "    <tr>\n",
       "      <th>16361</th>\n",
       "      <td>01651770 HICKEY RUN AT NATIONAL ARBORETUM</td>\n",
       "      <td>79</td>\n",
       "      <td>1991</td>\n",
       "      <td>2793669</td>\n",
       "      <td>2023-08-04 22:36:00+00:00</td>\n",
       "      <td>imagesets/5a130b49-b468-4e7d-a36b-5b6ee4d90452...</td>\n",
       "      <td>https://usgs-chs-conte-prod-fpe-storage.s3.ama...</td>\n",
       "      <td>0.26</td>\n",
       "      <td>18</td>\n",
       "      <td>8</td>\n",
       "    </tr>\n",
       "    <tr>\n",
       "      <th>16362</th>\n",
       "      <td>01651770 HICKEY RUN AT NATIONAL ARBORETUM</td>\n",
       "      <td>79</td>\n",
       "      <td>1991</td>\n",
       "      <td>2793671</td>\n",
       "      <td>2023-08-04 22:48:00+00:00</td>\n",
       "      <td>imagesets/5a130b49-b468-4e7d-a36b-5b6ee4d90452...</td>\n",
       "      <td>https://usgs-chs-conte-prod-fpe-storage.s3.ama...</td>\n",
       "      <td>0.26</td>\n",
       "      <td>18</td>\n",
       "      <td>8</td>\n",
       "    </tr>\n",
       "  </tbody>\n",
       "</table>\n",
       "<p>16363 rows × 10 columns</p>\n",
       "</div>"
      ],
      "text/plain": [
       "                                    station_name  station_id  imageset_id  \\\n",
       "0      01651770 HICKEY RUN AT NATIONAL ARBORETUM          79          610   \n",
       "1      01651770 HICKEY RUN AT NATIONAL ARBORETUM          79          610   \n",
       "2      01651770 HICKEY RUN AT NATIONAL ARBORETUM          79          610   \n",
       "3      01651770 HICKEY RUN AT NATIONAL ARBORETUM          79          610   \n",
       "4      01651770 HICKEY RUN AT NATIONAL ARBORETUM          79          610   \n",
       "...                                          ...         ...          ...   \n",
       "16358  01651770 HICKEY RUN AT NATIONAL ARBORETUM          79         1991   \n",
       "16359  01651770 HICKEY RUN AT NATIONAL ARBORETUM          79         1991   \n",
       "16360  01651770 HICKEY RUN AT NATIONAL ARBORETUM          79         1991   \n",
       "16361  01651770 HICKEY RUN AT NATIONAL ARBORETUM          79         1991   \n",
       "16362  01651770 HICKEY RUN AT NATIONAL ARBORETUM          79         1991   \n",
       "\n",
       "       image_id                 timestamp  \\\n",
       "0       1036972 2022-10-26 18:30:00+00:00   \n",
       "1       1036973 2022-10-26 19:00:00+00:00   \n",
       "2       1036974 2022-10-26 19:30:00+00:00   \n",
       "3       1036975 2022-10-26 20:00:00+00:00   \n",
       "4       1036976 2022-10-26 20:30:00+00:00   \n",
       "...         ...                       ...   \n",
       "16358   2793662 2023-08-04 22:00:00+00:00   \n",
       "16359   2793664 2023-08-04 22:12:00+00:00   \n",
       "16360   2793666 2023-08-04 22:24:00+00:00   \n",
       "16361   2793669 2023-08-04 22:36:00+00:00   \n",
       "16362   2793671 2023-08-04 22:48:00+00:00   \n",
       "\n",
       "                                                filename  \\\n",
       "0      imagesets/2ae2fe0a-8d71-45a7-b3fe-902455392131...   \n",
       "1      imagesets/2ae2fe0a-8d71-45a7-b3fe-902455392131...   \n",
       "2      imagesets/2ae2fe0a-8d71-45a7-b3fe-902455392131...   \n",
       "3      imagesets/2ae2fe0a-8d71-45a7-b3fe-902455392131...   \n",
       "4      imagesets/2ae2fe0a-8d71-45a7-b3fe-902455392131...   \n",
       "...                                                  ...   \n",
       "16358  imagesets/5a130b49-b468-4e7d-a36b-5b6ee4d90452...   \n",
       "16359  imagesets/5a130b49-b468-4e7d-a36b-5b6ee4d90452...   \n",
       "16360  imagesets/5a130b49-b468-4e7d-a36b-5b6ee4d90452...   \n",
       "16361  imagesets/5a130b49-b468-4e7d-a36b-5b6ee4d90452...   \n",
       "16362  imagesets/5a130b49-b468-4e7d-a36b-5b6ee4d90452...   \n",
       "\n",
       "                                                     url  flow_cfs  hour  \\\n",
       "0      https://usgs-chs-conte-prod-fpe-storage.s3.ama...      0.14    14   \n",
       "1      https://usgs-chs-conte-prod-fpe-storage.s3.ama...      0.14    15   \n",
       "2      https://usgs-chs-conte-prod-fpe-storage.s3.ama...      0.14    15   \n",
       "3      https://usgs-chs-conte-prod-fpe-storage.s3.ama...      0.16    16   \n",
       "4      https://usgs-chs-conte-prod-fpe-storage.s3.ama...      0.14    16   \n",
       "...                                                  ...       ...   ...   \n",
       "16358  https://usgs-chs-conte-prod-fpe-storage.s3.ama...      0.28    18   \n",
       "16359  https://usgs-chs-conte-prod-fpe-storage.s3.ama...      0.28    18   \n",
       "16360  https://usgs-chs-conte-prod-fpe-storage.s3.ama...      0.28    18   \n",
       "16361  https://usgs-chs-conte-prod-fpe-storage.s3.ama...      0.26    18   \n",
       "16362  https://usgs-chs-conte-prod-fpe-storage.s3.ama...      0.26    18   \n",
       "\n",
       "       month  \n",
       "0         10  \n",
       "1         10  \n",
       "2         10  \n",
       "3         10  \n",
       "4         10  \n",
       "...      ...  \n",
       "16358      8  \n",
       "16359      8  \n",
       "16360      8  \n",
       "16361      8  \n",
       "16362      8  \n",
       "\n",
       "[16363 rows x 10 columns]"
      ]
     },
     "execution_count": 65,
     "metadata": {},
     "output_type": "execute_result"
    }
   ],
   "source": [
    "transform_images"
   ]
  },
  {
   "cell_type": "code",
   "execution_count": 66,
   "id": "393cafc5",
   "metadata": {},
   "outputs": [
    {
     "name": "stdout",
     "output_type": "stream",
     "text": [
      "uploading transform manifest: rank/01651770/20231026/transform/manifest.json (n = 16363)\n"
     ]
    },
    {
     "data": {
      "text/plain": [
       "{'ResponseMetadata': {'RequestId': 'NXHVJP1HD7C4QE69',\n",
       "  'HostId': 'o3suoY98LakWiRjfHKLnf1gUPpkC2Na3/Kq341K5NdZVWXrEa1dDydcefAm8KxCRf1PFF5hrv4DZkePzXXLx1Q==',\n",
       "  'HTTPStatusCode': 200,\n",
       "  'HTTPHeaders': {'x-amz-id-2': 'o3suoY98LakWiRjfHKLnf1gUPpkC2Na3/Kq341K5NdZVWXrEa1dDydcefAm8KxCRf1PFF5hrv4DZkePzXXLx1Q==',\n",
       "   'x-amz-request-id': 'NXHVJP1HD7C4QE69',\n",
       "   'date': 'Thu, 26 Oct 2023 22:58:12 GMT',\n",
       "   'x-amz-server-side-encryption': 'AES256',\n",
       "   'etag': '\"94b537f0a7d1275f65ca68b4bffdcd29\"',\n",
       "   'server': 'AmazonS3',\n",
       "   'content-length': '0'},\n",
       "  'RetryAttempts': 0},\n",
       " 'ETag': '\"94b537f0a7d1275f65ca68b4bffdcd29\"',\n",
       " 'ServerSideEncryption': 'AES256'}"
      ]
     },
     "execution_count": 66,
     "metadata": {},
     "output_type": "execute_result"
    }
   ],
   "source": [
    "manifest = transform_images['filename'].to_list()\n",
    "manifest.insert(0, {\"prefix\": f\"s3://{storage_bucket}/\"})\n",
    "\n",
    "manifest_key = f\"{transform_key}/manifest.json\"\n",
    "body = json.dumps(manifest)\n",
    "print(f\"uploading transform manifest: {manifest_key} (n = {len(manifest) - 1})\")\n",
    "s3.put_object(Bucket=model_bucket, Key=manifest_key, Body=body)"
   ]
  },
  {
   "cell_type": "code",
   "execution_count": 67,
   "id": "69b826e5",
   "metadata": {},
   "outputs": [
    {
     "data": {
      "text/plain": [
       "'s3://usgs-chs-conte-prod-fpe-models/rank/01651770/20231026/jobs/fpe-rank-2023-10-26-19-59-36-250/output/model.tar.gz'"
      ]
     },
     "execution_count": 67,
     "metadata": {},
     "output_type": "execute_result"
    }
   ],
   "source": [
    "with open(f\"{model_dir}/job.txt\", \"r\") as f:\n",
    "    job_name = f.readline().strip()\n",
    "model_path = f\"{output_path}/{job_name}/output/model.tar.gz\"\n",
    "model_path"
   ]
  },
  {
   "cell_type": "code",
   "execution_count": 68,
   "id": "2eb28f08",
   "metadata": {},
   "outputs": [
    {
     "data": {
      "text/plain": [
       "<sagemaker.pytorch.model.PyTorchModel at 0x1a341109280>"
      ]
     },
     "execution_count": 68,
     "metadata": {},
     "output_type": "execute_result"
    }
   ],
   "source": [
    "from sagemaker.pytorch.model import PyTorchModel\n",
    "\n",
    "pytorch_model = PyTorchModel(\n",
    "    model_data=model_path,\n",
    "    role=\"arn:aws:iam::694155575325:role/fpe-prod-sagemaker-execution-role\",\n",
    "    py_version=\"py38\",\n",
    "    framework_version=\"1.12\",\n",
    "    source_dir=\"src/\",\n",
    "    entry_point=\"transform.py\",\n",
    "    sagemaker_session = sm_session\n",
    ")\n",
    "pytorch_model"
   ]
  },
  {
   "cell_type": "code",
   "execution_count": 69,
   "id": "ffbb72cc",
   "metadata": {},
   "outputs": [
    {
     "name": "stderr",
     "output_type": "stream",
     "text": [
      "INFO:sagemaker:Repacking model artifact (s3://usgs-chs-conte-prod-fpe-models/rank/01651770/20231026/jobs/fpe-rank-2023-10-26-19-59-36-250/output/model.tar.gz), script artifact (src/), and dependencies ([]) into single tar.gz file located at s3://sagemaker-us-west-2-694155575325/pytorch-inference-2023-10-26-22-58-16-275/model.tar.gz. This may take some time depending on model size...\n"
     ]
    },
    {
     "name": "stderr",
     "output_type": "stream",
     "text": [
      "INFO:sagemaker:Creating model with name: pytorch-inference-2023-10-26-22-58-52-069\n"
     ]
    },
    {
     "data": {
      "text/plain": [
       "(<sagemaker.transformer.Transformer at 0x1a341ff6a00>,\n",
       " 's3://usgs-chs-conte-prod-fpe-models/rank/01651770/20231026/transform')"
      ]
     },
     "execution_count": 69,
     "metadata": {},
     "output_type": "execute_result"
    }
   ],
   "source": [
    "transformer = pytorch_model.transformer(\n",
    "    instance_count=1,\n",
    "    instance_type=\"ml.c5.xlarge\",\n",
    "    output_path=transform_path\n",
    ")\n",
    "(transformer,transform_path)"
   ]
  },
  {
   "cell_type": "code",
   "execution_count": 70,
   "id": "9479ade3",
   "metadata": {},
   "outputs": [
    {
     "name": "stderr",
     "output_type": "stream",
     "text": [
      "INFO:sagemaker:Creating transform job with name: pytorch-inference-2023-10-26-22-58-59-941\n"
     ]
    }
   ],
   "source": [
    "transformer.transform(\n",
    "    data=f\"{transform_path}/manifest.json\",\n",
    "    data_type=\"ManifestFile\",\n",
    "    content_type=\"image/jpg\",\n",
    "    wait=False,\n",
    ")"
   ]
  },
  {
   "cell_type": "code",
   "execution_count": 132,
   "id": "6c6ce644",
   "metadata": {},
   "outputs": [
    {
     "name": "stderr",
     "output_type": "stream",
     "text": [
      "INFO:sagemaker:Stopping transform job: pytorch-inference-2023-09-29-00-44-57-671\n"
     ]
    }
   ],
   "source": [
    "sm_session.stop_transform_job(\"pytorch-inference-2023-09-29-00-44-57-671\")"
   ]
  },
  {
   "cell_type": "markdown",
   "id": "1e5cdd03",
   "metadata": {},
   "source": [
    "## Process Transform Output"
   ]
  },
  {
   "cell_type": "code",
   "execution_count": 71,
   "id": "0939b456",
   "metadata": {},
   "outputs": [],
   "source": [
    "def process_transform_output (session, site, model_id, job_size = 5000, root_dir = \"D:/fpe/sites\"):\n",
    "    lambda_client = session.client(\"lambda\")\n",
    "    transform_prefix = f\"rank/{site}/{model_id}/transform\"\n",
    "    df = pd.read_csv(f\"{root_dir}/{site}/models/{model_id}/input/images.csv\")\n",
    "    skip = 0\n",
    "    while skip < len(df):\n",
    "        payload = {\n",
    "            \"action\": \"process_transform_output\",\n",
    "            \"bucket_name\": model_bucket,\n",
    "            \"data_file\": f\"{transform_prefix}/images.csv\",\n",
    "            \"data_prefix\": transform_prefix,\n",
    "            \"output_prefix\": transform_prefix,\n",
    "            \"n\": job_size,\n",
    "            \"skip\": skip\n",
    "        }\n",
    "        print(f\"invoke: skip={skip}, n={job_size} ({skip} to {skip + job_size - 1})\")\n",
    "        lambda_client.invoke(\n",
    "            FunctionName=\"fpe-prod-lambda-models\",\n",
    "            InvocationType=\"Event\",\n",
    "            Payload=json.dumps(payload)\n",
    "        )\n",
    "        skip += job_size\n",
    "    return df"
   ]
  },
  {
   "cell_type": "code",
   "execution_count": 75,
   "id": "14825b5d",
   "metadata": {},
   "outputs": [
    {
     "name": "stdout",
     "output_type": "stream",
     "text": [
      "invoke: skip=0, n=5000 (0 to 4999)\n",
      "invoke: skip=5000, n=5000 (5000 to 9999)\n",
      "invoke: skip=10000, n=5000 (10000 to 14999)\n",
      "invoke: skip=15000, n=5000 (15000 to 19999)\n"
     ]
    },
    {
     "data": {
      "text/html": [
       "<div>\n",
       "<style scoped>\n",
       "    .dataframe tbody tr th:only-of-type {\n",
       "        vertical-align: middle;\n",
       "    }\n",
       "\n",
       "    .dataframe tbody tr th {\n",
       "        vertical-align: top;\n",
       "    }\n",
       "\n",
       "    .dataframe thead th {\n",
       "        text-align: right;\n",
       "    }\n",
       "</style>\n",
       "<table border=\"1\" class=\"dataframe\">\n",
       "  <thead>\n",
       "    <tr style=\"text-align: right;\">\n",
       "      <th></th>\n",
       "      <th>station_name</th>\n",
       "      <th>station_id</th>\n",
       "      <th>imageset_id</th>\n",
       "      <th>image_id</th>\n",
       "      <th>timestamp</th>\n",
       "      <th>filename</th>\n",
       "      <th>url</th>\n",
       "      <th>flow_cfs</th>\n",
       "      <th>hour</th>\n",
       "      <th>month</th>\n",
       "    </tr>\n",
       "  </thead>\n",
       "  <tbody>\n",
       "    <tr>\n",
       "      <th>0</th>\n",
       "      <td>01651770 HICKEY RUN AT NATIONAL ARBORETUM</td>\n",
       "      <td>79</td>\n",
       "      <td>610</td>\n",
       "      <td>1036972</td>\n",
       "      <td>2022-10-26 18:30:00+00:00</td>\n",
       "      <td>imagesets/2ae2fe0a-8d71-45a7-b3fe-902455392131...</td>\n",
       "      <td>https://usgs-chs-conte-prod-fpe-storage.s3.ama...</td>\n",
       "      <td>0.14</td>\n",
       "      <td>14</td>\n",
       "      <td>10</td>\n",
       "    </tr>\n",
       "    <tr>\n",
       "      <th>1</th>\n",
       "      <td>01651770 HICKEY RUN AT NATIONAL ARBORETUM</td>\n",
       "      <td>79</td>\n",
       "      <td>610</td>\n",
       "      <td>1036973</td>\n",
       "      <td>2022-10-26 19:00:00+00:00</td>\n",
       "      <td>imagesets/2ae2fe0a-8d71-45a7-b3fe-902455392131...</td>\n",
       "      <td>https://usgs-chs-conte-prod-fpe-storage.s3.ama...</td>\n",
       "      <td>0.14</td>\n",
       "      <td>15</td>\n",
       "      <td>10</td>\n",
       "    </tr>\n",
       "    <tr>\n",
       "      <th>2</th>\n",
       "      <td>01651770 HICKEY RUN AT NATIONAL ARBORETUM</td>\n",
       "      <td>79</td>\n",
       "      <td>610</td>\n",
       "      <td>1036974</td>\n",
       "      <td>2022-10-26 19:30:00+00:00</td>\n",
       "      <td>imagesets/2ae2fe0a-8d71-45a7-b3fe-902455392131...</td>\n",
       "      <td>https://usgs-chs-conte-prod-fpe-storage.s3.ama...</td>\n",
       "      <td>0.14</td>\n",
       "      <td>15</td>\n",
       "      <td>10</td>\n",
       "    </tr>\n",
       "    <tr>\n",
       "      <th>3</th>\n",
       "      <td>01651770 HICKEY RUN AT NATIONAL ARBORETUM</td>\n",
       "      <td>79</td>\n",
       "      <td>610</td>\n",
       "      <td>1036975</td>\n",
       "      <td>2022-10-26 20:00:00+00:00</td>\n",
       "      <td>imagesets/2ae2fe0a-8d71-45a7-b3fe-902455392131...</td>\n",
       "      <td>https://usgs-chs-conte-prod-fpe-storage.s3.ama...</td>\n",
       "      <td>0.16</td>\n",
       "      <td>16</td>\n",
       "      <td>10</td>\n",
       "    </tr>\n",
       "    <tr>\n",
       "      <th>4</th>\n",
       "      <td>01651770 HICKEY RUN AT NATIONAL ARBORETUM</td>\n",
       "      <td>79</td>\n",
       "      <td>610</td>\n",
       "      <td>1036976</td>\n",
       "      <td>2022-10-26 20:30:00+00:00</td>\n",
       "      <td>imagesets/2ae2fe0a-8d71-45a7-b3fe-902455392131...</td>\n",
       "      <td>https://usgs-chs-conte-prod-fpe-storage.s3.ama...</td>\n",
       "      <td>0.14</td>\n",
       "      <td>16</td>\n",
       "      <td>10</td>\n",
       "    </tr>\n",
       "    <tr>\n",
       "      <th>...</th>\n",
       "      <td>...</td>\n",
       "      <td>...</td>\n",
       "      <td>...</td>\n",
       "      <td>...</td>\n",
       "      <td>...</td>\n",
       "      <td>...</td>\n",
       "      <td>...</td>\n",
       "      <td>...</td>\n",
       "      <td>...</td>\n",
       "      <td>...</td>\n",
       "    </tr>\n",
       "    <tr>\n",
       "      <th>16358</th>\n",
       "      <td>01651770 HICKEY RUN AT NATIONAL ARBORETUM</td>\n",
       "      <td>79</td>\n",
       "      <td>1991</td>\n",
       "      <td>2793662</td>\n",
       "      <td>2023-08-04 22:00:00+00:00</td>\n",
       "      <td>imagesets/5a130b49-b468-4e7d-a36b-5b6ee4d90452...</td>\n",
       "      <td>https://usgs-chs-conte-prod-fpe-storage.s3.ama...</td>\n",
       "      <td>0.28</td>\n",
       "      <td>18</td>\n",
       "      <td>8</td>\n",
       "    </tr>\n",
       "    <tr>\n",
       "      <th>16359</th>\n",
       "      <td>01651770 HICKEY RUN AT NATIONAL ARBORETUM</td>\n",
       "      <td>79</td>\n",
       "      <td>1991</td>\n",
       "      <td>2793664</td>\n",
       "      <td>2023-08-04 22:12:00+00:00</td>\n",
       "      <td>imagesets/5a130b49-b468-4e7d-a36b-5b6ee4d90452...</td>\n",
       "      <td>https://usgs-chs-conte-prod-fpe-storage.s3.ama...</td>\n",
       "      <td>0.28</td>\n",
       "      <td>18</td>\n",
       "      <td>8</td>\n",
       "    </tr>\n",
       "    <tr>\n",
       "      <th>16360</th>\n",
       "      <td>01651770 HICKEY RUN AT NATIONAL ARBORETUM</td>\n",
       "      <td>79</td>\n",
       "      <td>1991</td>\n",
       "      <td>2793666</td>\n",
       "      <td>2023-08-04 22:24:00+00:00</td>\n",
       "      <td>imagesets/5a130b49-b468-4e7d-a36b-5b6ee4d90452...</td>\n",
       "      <td>https://usgs-chs-conte-prod-fpe-storage.s3.ama...</td>\n",
       "      <td>0.28</td>\n",
       "      <td>18</td>\n",
       "      <td>8</td>\n",
       "    </tr>\n",
       "    <tr>\n",
       "      <th>16361</th>\n",
       "      <td>01651770 HICKEY RUN AT NATIONAL ARBORETUM</td>\n",
       "      <td>79</td>\n",
       "      <td>1991</td>\n",
       "      <td>2793669</td>\n",
       "      <td>2023-08-04 22:36:00+00:00</td>\n",
       "      <td>imagesets/5a130b49-b468-4e7d-a36b-5b6ee4d90452...</td>\n",
       "      <td>https://usgs-chs-conte-prod-fpe-storage.s3.ama...</td>\n",
       "      <td>0.26</td>\n",
       "      <td>18</td>\n",
       "      <td>8</td>\n",
       "    </tr>\n",
       "    <tr>\n",
       "      <th>16362</th>\n",
       "      <td>01651770 HICKEY RUN AT NATIONAL ARBORETUM</td>\n",
       "      <td>79</td>\n",
       "      <td>1991</td>\n",
       "      <td>2793671</td>\n",
       "      <td>2023-08-04 22:48:00+00:00</td>\n",
       "      <td>imagesets/5a130b49-b468-4e7d-a36b-5b6ee4d90452...</td>\n",
       "      <td>https://usgs-chs-conte-prod-fpe-storage.s3.ama...</td>\n",
       "      <td>0.26</td>\n",
       "      <td>18</td>\n",
       "      <td>8</td>\n",
       "    </tr>\n",
       "  </tbody>\n",
       "</table>\n",
       "<p>16363 rows × 10 columns</p>\n",
       "</div>"
      ],
      "text/plain": [
       "                                    station_name  station_id  imageset_id  \\\n",
       "0      01651770 HICKEY RUN AT NATIONAL ARBORETUM          79          610   \n",
       "1      01651770 HICKEY RUN AT NATIONAL ARBORETUM          79          610   \n",
       "2      01651770 HICKEY RUN AT NATIONAL ARBORETUM          79          610   \n",
       "3      01651770 HICKEY RUN AT NATIONAL ARBORETUM          79          610   \n",
       "4      01651770 HICKEY RUN AT NATIONAL ARBORETUM          79          610   \n",
       "...                                          ...         ...          ...   \n",
       "16358  01651770 HICKEY RUN AT NATIONAL ARBORETUM          79         1991   \n",
       "16359  01651770 HICKEY RUN AT NATIONAL ARBORETUM          79         1991   \n",
       "16360  01651770 HICKEY RUN AT NATIONAL ARBORETUM          79         1991   \n",
       "16361  01651770 HICKEY RUN AT NATIONAL ARBORETUM          79         1991   \n",
       "16362  01651770 HICKEY RUN AT NATIONAL ARBORETUM          79         1991   \n",
       "\n",
       "       image_id                  timestamp  \\\n",
       "0       1036972  2022-10-26 18:30:00+00:00   \n",
       "1       1036973  2022-10-26 19:00:00+00:00   \n",
       "2       1036974  2022-10-26 19:30:00+00:00   \n",
       "3       1036975  2022-10-26 20:00:00+00:00   \n",
       "4       1036976  2022-10-26 20:30:00+00:00   \n",
       "...         ...                        ...   \n",
       "16358   2793662  2023-08-04 22:00:00+00:00   \n",
       "16359   2793664  2023-08-04 22:12:00+00:00   \n",
       "16360   2793666  2023-08-04 22:24:00+00:00   \n",
       "16361   2793669  2023-08-04 22:36:00+00:00   \n",
       "16362   2793671  2023-08-04 22:48:00+00:00   \n",
       "\n",
       "                                                filename  \\\n",
       "0      imagesets/2ae2fe0a-8d71-45a7-b3fe-902455392131...   \n",
       "1      imagesets/2ae2fe0a-8d71-45a7-b3fe-902455392131...   \n",
       "2      imagesets/2ae2fe0a-8d71-45a7-b3fe-902455392131...   \n",
       "3      imagesets/2ae2fe0a-8d71-45a7-b3fe-902455392131...   \n",
       "4      imagesets/2ae2fe0a-8d71-45a7-b3fe-902455392131...   \n",
       "...                                                  ...   \n",
       "16358  imagesets/5a130b49-b468-4e7d-a36b-5b6ee4d90452...   \n",
       "16359  imagesets/5a130b49-b468-4e7d-a36b-5b6ee4d90452...   \n",
       "16360  imagesets/5a130b49-b468-4e7d-a36b-5b6ee4d90452...   \n",
       "16361  imagesets/5a130b49-b468-4e7d-a36b-5b6ee4d90452...   \n",
       "16362  imagesets/5a130b49-b468-4e7d-a36b-5b6ee4d90452...   \n",
       "\n",
       "                                                     url  flow_cfs  hour  \\\n",
       "0      https://usgs-chs-conte-prod-fpe-storage.s3.ama...      0.14    14   \n",
       "1      https://usgs-chs-conte-prod-fpe-storage.s3.ama...      0.14    15   \n",
       "2      https://usgs-chs-conte-prod-fpe-storage.s3.ama...      0.14    15   \n",
       "3      https://usgs-chs-conte-prod-fpe-storage.s3.ama...      0.16    16   \n",
       "4      https://usgs-chs-conte-prod-fpe-storage.s3.ama...      0.14    16   \n",
       "...                                                  ...       ...   ...   \n",
       "16358  https://usgs-chs-conte-prod-fpe-storage.s3.ama...      0.28    18   \n",
       "16359  https://usgs-chs-conte-prod-fpe-storage.s3.ama...      0.28    18   \n",
       "16360  https://usgs-chs-conte-prod-fpe-storage.s3.ama...      0.28    18   \n",
       "16361  https://usgs-chs-conte-prod-fpe-storage.s3.ama...      0.26    18   \n",
       "16362  https://usgs-chs-conte-prod-fpe-storage.s3.ama...      0.26    18   \n",
       "\n",
       "       month  \n",
       "0         10  \n",
       "1         10  \n",
       "2         10  \n",
       "3         10  \n",
       "4         10  \n",
       "...      ...  \n",
       "16358      8  \n",
       "16359      8  \n",
       "16360      8  \n",
       "16361      8  \n",
       "16362      8  \n",
       "\n",
       "[16363 rows x 10 columns]"
      ]
     },
     "execution_count": 75,
     "metadata": {},
     "output_type": "execute_result"
    }
   ],
   "source": [
    "process_transform_output(session, \"01651770\", \"20231026\")"
   ]
  },
  {
   "cell_type": "code",
   "execution_count": 76,
   "id": "6fc52115",
   "metadata": {},
   "outputs": [],
   "source": [
    "def combine_predictions (session, site, model_id, job_size = 5000, root_dir = \"D:/fpe/sites\"):\n",
    "    s3 = session.client(\"s3\")\n",
    "    transform_prefix = f\"rank/{site}/{model_id}/transform\"\n",
    "    df = pd.read_csv(f\"{root_dir}/{site}/models/{model_id}/input/images.csv\")\n",
    "    keys = [f\"{transform_prefix}/predictions-{skip:05d}-{(skip + job_size - 1):05d}.csv\" for skip in range(0, len(df), job_size)]\n",
    "\n",
    "    dfs = []\n",
    "    for key in keys:\n",
    "        print(key)\n",
    "        csv_obj = s3.get_object(Bucket=model_bucket, Key=key)\n",
    "        csv_data = csv_obj['Body'].read().decode('utf-8')\n",
    "        dfs.append(pd.read_csv(StringIO(csv_data)))\n",
    "\n",
    "    df = pd.concat(dfs, ignore_index=True)\n",
    "\n",
    "    csv_buffer = StringIO()\n",
    "    df.to_csv(csv_buffer, index=False)\n",
    "    output_key = f\"{transform_key}/predictions.csv\"\n",
    "    s3.put_object(Body=csv_buffer.getvalue(), Bucket=model_bucket, Key=output_key)\n",
    "    transform_path = f\"{root_dir}/{site}/models/{model_id}/transform\"\n",
    "    if not os.path.exists(transform_path):\n",
    "        os.makedirs(transform_path)\n",
    "    df.to_csv(f\"{transform_path}/predictions.csv\", index=False)\n",
    "    df\n"
   ]
  },
  {
   "cell_type": "code",
   "execution_count": 79,
   "id": "054a3d08",
   "metadata": {},
   "outputs": [
    {
     "name": "stdout",
     "output_type": "stream",
     "text": [
      "rank/01651770/20231026/transform/predictions-00000-04999.csv\n",
      "rank/01651770/20231026/transform/predictions-05000-09999.csv\n",
      "rank/01651770/20231026/transform/predictions-10000-14999.csv\n",
      "rank/01651770/20231026/transform/predictions-15000-19999.csv\n"
     ]
    }
   ],
   "source": [
    "combine_predictions(session, \"01651770\", \"20231026\")"
   ]
  },
  {
   "cell_type": "code",
   "execution_count": null,
   "id": "bfc08c1b",
   "metadata": {},
   "outputs": [],
   "source": []
  }
 ],
 "metadata": {
  "kernelspec": {
   "display_name": "Python 3",
   "language": "python",
   "name": "python3"
  },
  "language_info": {
   "codemirror_mode": {
    "name": "ipython",
    "version": 3
   },
   "file_extension": ".py",
   "mimetype": "text/x-python",
   "name": "python",
   "nbconvert_exporter": "python",
   "pygments_lexer": "ipython3",
   "version": "3.9.17"
  }
 },
 "nbformat": 4,
 "nbformat_minor": 5
}
