{
 "cells": [
  {
   "cell_type": "markdown",
   "id": "61634f46-4d19-436c-9cb5-becc5b8111ff",
   "metadata": {},
   "source": [
    "# FPE Rank Model"
   ]
  },
  {
   "cell_type": "code",
   "execution_count": 71,
   "id": "f198bc4d",
   "metadata": {},
   "outputs": [],
   "source": [
    "import boto3\n",
    "import time\n",
    "import json\n",
    "import os\n",
    "import pandas as pd\n",
    "from io import StringIO, BytesIO\n",
    "from urllib.parse import urlparse\n",
    "\n",
    "SITE = \"WESTKILL\""
   ]
  },
  {
   "cell_type": "code",
   "execution_count": 72,
   "id": "72c5ed80",
   "metadata": {},
   "outputs": [
    {
     "data": {
      "text/plain": [
       "Session(region_name='us-west-2')"
      ]
     },
     "execution_count": 72,
     "metadata": {},
     "output_type": "execute_result"
    }
   ],
   "source": [
    "AWS_PROFILE=\"conte-prod\"\n",
    "\n",
    "model_bucket = \"usgs-chs-conte-prod-fpe-models\"\n",
    "session = boto3.Session(profile_name=AWS_PROFILE)\n",
    "session"
   ]
  },
  {
   "cell_type": "code",
   "execution_count": 59,
   "id": "d5210fbe-3094-40fa-95ee-fbe81f2f9bde",
   "metadata": {},
   "outputs": [],
   "source": [
    "\n",
    "def get_url_path(url):\n",
    "    return urlparse(url).path[1:]\n",
    "\n",
    "def create_manifest(session, data_bucket, data_key, image_bucket, filename = \"images.manifest\"):\n",
    "    s3 = session.client('s3')\n",
    "\n",
    "    # Read CSV file from S3\n",
    "    print(f\"downloading: {data_key}\")\n",
    "    csv_obj = s3.get_object(Bucket=data_bucket, Key=data_key)\n",
    "    csv_data = csv_obj['Body'].read().decode('utf-8')\n",
    "    data = pd.read_csv(StringIO(csv_data))\n",
    "    print(f\"rows: {len(data)}\")\n",
    "\n",
    "    # Extract 'URL' column and get keys\n",
    "    manifest = data['url'].apply(get_url_path).to_list()\n",
    "    manifest.insert(0, {\"prefix\": f\"s3://{image_bucket}/\"})\n",
    "\n",
    "    # Upload JSON to S3\n",
    "    prefix = os.path.dirname(data_key)\n",
    "    manifest_key = f\"{prefix}/{filename}\"\n",
    "    body = json.dumps(manifest)\n",
    "    print(f\"uploading: {manifest_key}\")\n",
    "    s3.put_object(Bucket=data_bucket, Key=manifest_key, Body=body)\n",
    "    return f\"s3://{data_bucket}/{manifest_key}\""
   ]
  },
  {
   "cell_type": "code",
   "execution_count": 60,
   "id": "22709c0d-cb51-4255-a4d5-1801088cf465",
   "metadata": {},
   "outputs": [
    {
     "name": "stdout",
     "output_type": "stream",
     "text": [
      "downloading: rank/WESTKILL/data/flow-images-train.csv\n",
      "rows: 4622\n",
      "uploading: rank/WESTKILL/data/flow-images-train.manifest\n"
     ]
    },
    {
     "data": {
      "text/plain": [
       "'s3://usgs-chs-conte-prod-fpe-models/rank/WESTKILL/data/flow-images-train.manifest'"
      ]
     },
     "execution_count": 60,
     "metadata": {},
     "output_type": "execute_result"
    }
   ],
   "source": [
    "create_manifest(\n",
    "    session,\n",
    "    data_bucket=\"usgs-chs-conte-prod-fpe-models\",\n",
    "    data_key=f\"rank/{SITE}/data/flow-images-train.csv\",\n",
    "    image_bucket=\"usgs-chs-conte-prod-fpe-storage\",\n",
    "    filename=\"flow-images-train.manifest\"\n",
    ")"
   ]
  },
  {
   "cell_type": "code",
   "execution_count": 61,
   "id": "d36876c8",
   "metadata": {},
   "outputs": [],
   "source": [
    "AWS_PROFILE=\"conte-prod\"\n",
    "AWS_REGION=\"us-west-2\"\n",
    "JOB_ROLE_ARN=\"arn:aws:iam::694155575325:role/fpe-prod-sagemaker-execution-role\"\n",
    "\n",
    "def timestamp():\n",
    "    return time.strftime(\"%Y%m%d-%H%M%S\")\n",
    "\n",
    "def get_batch_creds(session, role_arn):\n",
    "    sts = session.client(\"sts\")\n",
    "    response = sts.assume_role(\n",
    "        RoleArn=role_arn,\n",
    "        RoleSessionName=f\"fpe-sagemaker-session--{timestamp()}\"\n",
    "    )\n",
    "    return response['Credentials']\n",
    "\n",
    "# session = boto3.Session(profile_name=AWS_PROFILE)"
   ]
  },
  {
   "cell_type": "code",
   "execution_count": 73,
   "id": "25f6568d",
   "metadata": {},
   "outputs": [],
   "source": [
    "import sagemaker\n",
    "creds = get_batch_creds(session, JOB_ROLE_ARN)\n",
    "sm_boto_session = boto3.Session(\n",
    "    aws_access_key_id=creds['AccessKeyId'],\n",
    "    aws_secret_access_key=creds['SecretAccessKey'],\n",
    "    aws_session_token=creds['SessionToken'],\n",
    "    region_name=AWS_REGION\n",
    ")\n",
    "\n",
    "sm_session = sagemaker.Session(boto_session = sm_boto_session)"
   ]
  },
  {
   "cell_type": "markdown",
   "id": "7e903ac6",
   "metadata": {},
   "source": [
    "## Training"
   ]
  },
  {
   "cell_type": "code",
   "execution_count": 63,
   "id": "b6d650da-67eb-49dd-81bc-07ee38ff59a2",
   "metadata": {},
   "outputs": [],
   "source": [
    "from sagemaker.pytorch import PyTorch\n",
    "\n",
    "output_path = f\"s3://{model_bucket}/rank/{SITE}/jobs/\"\n",
    "checkpoint_path = f\"s3://{model_bucket}/models/{SITE}/checkpoints/\"\n",
    "estimator = PyTorch(\n",
    "    entry_point=\"train.py\",\n",
    "    source_dir=\"src\",\n",
    "    py_version=\"py38\",\n",
    "    framework_version=\"1.12\",\n",
    "    role=\"arn:aws:iam::694155575325:role/fpe-prod-sagemaker-execution-role\",\n",
    "    instance_count=1,\n",
    "    # instance_type=\"ml.m5.large\",\n",
    "    instance_type=\"ml.p3.2xlarge\",\n",
    "    volume_size=100,\n",
    "    hyperparameters={\n",
    "        \"data-file\": \"flow-images-train.csv\",\n",
    "        \"num-image-stats\": 1000,\n",
    "        \"num-train-pairs\": 5000,\n",
    "        \"num-eval-pairs\": 1000,\n",
    "        \"epochs\": 15\n",
    "    },\n",
    "    base_job_name=\"fpe-rank\",\n",
    "    output_path=output_path,\n",
    "    checkpoint_s3_uri=checkpoint_path,\n",
    "    code_location=output_path[:-1],\n",
    "    disable_output_compression=False,\n",
    "    sagemaker_session=sm_session\n",
    ")"
   ]
  },
  {
   "cell_type": "code",
   "execution_count": 64,
   "id": "8b76c344-025b-42e8-b606-34c4f93f43ad",
   "metadata": {},
   "outputs": [
    {
     "data": {
      "text/plain": [
       "(<sagemaker.inputs.TrainingInput at 0x1cb2cdc43a0>,\n",
       " 's3://usgs-chs-conte-prod-fpe-models/rank/WESTKILL/data/flow-images-train.csv')"
      ]
     },
     "execution_count": 64,
     "metadata": {},
     "output_type": "execute_result"
    }
   ],
   "source": [
    "from sagemaker.inputs import TrainingInput\n",
    "\n",
    "data_dir = f\"s3://{model_bucket}/rank/{SITE}/data\"\n",
    "images = TrainingInput(\n",
    "    s3_data = f\"{data_dir}/flow-images-train.manifest\",\n",
    "    s3_data_type = \"ManifestFile\",\n",
    "    input_mode = \"File\"\n",
    ")\n",
    "values = f\"{data_dir}/flow-images-train.csv\"\n",
    "(images, values)"
   ]
  },
  {
   "cell_type": "code",
   "execution_count": 65,
   "id": "bd8dd95e-9915-4e4e-9824-7a15d2f13281",
   "metadata": {},
   "outputs": [
    {
     "name": "stdout",
     "output_type": "stream",
     "text": [
      "Using provided s3_resource\n"
     ]
    },
    {
     "name": "stderr",
     "output_type": "stream",
     "text": [
      "INFO:sagemaker.image_uris:image_uri is not presented, retrieving image_uri based on instance_type, framework etc.\n",
      "INFO:sagemaker:Creating training-job with name: fpe-rank-2023-09-08-13-51-26-026\n"
     ]
    }
   ],
   "source": [
    "estimator.fit({ \"images\": images, \"values\": values }, wait=False)"
   ]
  },
  {
   "cell_type": "markdown",
   "id": "ff74e6da",
   "metadata": {},
   "source": [
    "## Batch Transform"
   ]
  },
  {
   "cell_type": "code",
   "execution_count": 78,
   "id": "b8ef6ff8",
   "metadata": {},
   "outputs": [
    {
     "data": {
      "text/plain": [
       "'s3://usgs-chs-conte-prod-fpe-models/rank/WESTKILL/jobs/fpe-rank-2023-09-08-13-51-26-026/output/model.tar.gz'"
      ]
     },
     "execution_count": 78,
     "metadata": {},
     "output_type": "execute_result"
    }
   ],
   "source": [
    "model_artifact_s3_location = f\"s3://usgs-chs-conte-prod-fpe-models/rank/{SITE}/jobs/fpe-rank-2023-09-08-13-51-26-026/output/model.tar.gz\"\n",
    "model_artifact_s3_location"
   ]
  },
  {
   "cell_type": "code",
   "execution_count": 75,
   "id": "2eb28f08",
   "metadata": {},
   "outputs": [
    {
     "data": {
      "text/plain": [
       "<sagemaker.pytorch.model.PyTorchModel at 0x1cb22b7d940>"
      ]
     },
     "execution_count": 75,
     "metadata": {},
     "output_type": "execute_result"
    }
   ],
   "source": [
    "from sagemaker.pytorch.model import PyTorchModel\n",
    "\n",
    "pytorch_model = PyTorchModel(\n",
    "    model_data=model_artifact_s3_location,\n",
    "    role=\"arn:aws:iam::694155575325:role/fpe-prod-sagemaker-execution-role\",\n",
    "    py_version=\"py38\",\n",
    "    framework_version=\"1.12\",\n",
    "    source_dir=\"src/\",\n",
    "    entry_point=\"transform.py\",\n",
    "    sagemaker_session = sm_session\n",
    ")\n",
    "pytorch_model"
   ]
  },
  {
   "cell_type": "code",
   "execution_count": 76,
   "id": "ffbb72cc",
   "metadata": {},
   "outputs": [
    {
     "name": "stderr",
     "output_type": "stream",
     "text": [
      "INFO:sagemaker:Repacking model artifact (s3://usgs-chs-conte-prod-fpe-models/rank/WESTKILL/jobs/fpe-rank-2023-09-08-13-51-26-026/output/model.tar.gz), script artifact (src/), and dependencies ([]) into single tar.gz file located at s3://sagemaker-us-west-2-694155575325/pytorch-inference-2023-09-08-18-45-42-638/model.tar.gz. This may take some time depending on model size...\n",
      "INFO:sagemaker:Creating model with name: pytorch-inference-2023-09-08-18-46-19-875\n"
     ]
    },
    {
     "data": {
      "text/plain": [
       "<sagemaker.transformer.Transformer at 0x1cb2e08fe20>"
      ]
     },
     "execution_count": 76,
     "metadata": {},
     "output_type": "execute_result"
    }
   ],
   "source": [
    "transformer = pytorch_model.transformer(\n",
    "    instance_count=1,\n",
    "    instance_type=\"ml.c5.xlarge\",\n",
    "    output_path=f\"s3://{model_bucket}/rank/{SITE}/transform/output\",\n",
    "    job_name=\"job_name\"\n",
    ")\n",
    "transformer"
   ]
  },
  {
   "cell_type": "code",
   "execution_count": 77,
   "id": "9479ade3",
   "metadata": {},
   "outputs": [
    {
     "name": "stderr",
     "output_type": "stream",
     "text": [
      "INFO:sagemaker:Creating transform job with name: pytorch-inference-2023-09-08-18-46-22-341\n"
     ]
    }
   ],
   "source": [
    "transformer.transform(\n",
    "    data=f\"s3://{model_bucket}/rank/{SITE}/data/flow-images-train.manifest\",\n",
    "    data_type=\"ManifestFile\",\n",
    "    content_type=\"image/jpg\",\n",
    "    wait=False,\n",
    ")"
   ]
  },
  {
   "cell_type": "code",
   "execution_count": 9,
   "id": "6c6ce644",
   "metadata": {},
   "outputs": [
    {
     "name": "stderr",
     "output_type": "stream",
     "text": [
      "INFO:sagemaker:Stopping transform job: pytorch-inference-2023-09-04-16-09-22-922\n"
     ]
    }
   ],
   "source": [
    "sm_session.stop_transform_job(\"pytorch-inference-2023-09-04-22-38-19-105\")"
   ]
  },
  {
   "cell_type": "markdown",
   "id": "1e5cdd03",
   "metadata": {},
   "source": [
    "## Process Transform Output"
   ]
  },
  {
   "cell_type": "code",
   "execution_count": 81,
   "id": "31af0a7e",
   "metadata": {},
   "outputs": [
    {
     "name": "stdout",
     "output_type": "stream",
     "text": [
      "downloading: s3://usgs-chs-conte-prod-fpe-models/rank/WESTKILL/data/flow-images-train.csv\n",
      "rows: 4622\n"
     ]
    }
   ],
   "source": [
    "data_file = f\"rank/{SITE}/data/flow-images-train.csv\"\n",
    "\n",
    "# get number of rows\n",
    "s3 = session.client('s3')\n",
    "\n",
    "# Read CSV file from S3\n",
    "print(f\"downloading: s3://{model_bucket}/{data_file}\")\n",
    "csv_obj = s3.get_object(Bucket=model_bucket, Key=data_file)\n",
    "csv_data = csv_obj['Body'].read().decode('utf-8')\n",
    "data = pd.read_csv(StringIO(csv_data))\n",
    "print(f\"rows: {len(data)}\")"
   ]
  },
  {
   "cell_type": "code",
   "execution_count": 82,
   "id": "b4645d00",
   "metadata": {},
   "outputs": [
    {
     "name": "stdout",
     "output_type": "stream",
     "text": [
      "invoke: skip=0, n=5000 (0 to 4999)\n"
     ]
    }
   ],
   "source": [
    "lambda_client = session.client(\"lambda\")\n",
    "\n",
    "job_size = 5000\n",
    "skip = 0\n",
    "while skip < len(data):\n",
    "    payload = {\n",
    "        \"action\": \"process_transform_output\",\n",
    "        \"bucket_name\": model_bucket,\n",
    "        \"data_file\": data_file,\n",
    "        \"data_prefix\": f\"rank/{SITE}/transform/output\",\n",
    "        \"output_prefix\": f\"rank/{SITE}/transform\",\n",
    "        \"n\": job_size,\n",
    "        \"skip\": skip\n",
    "    }\n",
    "    print(f\"invoke: skip={skip}, n={job_size} ({skip} to {skip + job_size - 1})\")\n",
    "    lambda_client.invoke(\n",
    "        FunctionName=\"fpe-prod-lambda-models\",\n",
    "        InvocationType=\"Event\",\n",
    "        Payload=json.dumps(payload)\n",
    "    )\n",
    "    skip += job_size"
   ]
  },
  {
   "cell_type": "code",
   "execution_count": 83,
   "id": "6fc52115",
   "metadata": {},
   "outputs": [
    {
     "name": "stdout",
     "output_type": "stream",
     "text": [
      "rank/WESTKILL/transform/predictions-00000-04999.csv\n"
     ]
    },
    {
     "data": {
      "text/html": [
       "<div>\n",
       "<style scoped>\n",
       "    .dataframe tbody tr th:only-of-type {\n",
       "        vertical-align: middle;\n",
       "    }\n",
       "\n",
       "    .dataframe tbody tr th {\n",
       "        vertical-align: top;\n",
       "    }\n",
       "\n",
       "    .dataframe thead th {\n",
       "        text-align: right;\n",
       "    }\n",
       "</style>\n",
       "<table border=\"1\" class=\"dataframe\">\n",
       "  <thead>\n",
       "    <tr style=\"text-align: right;\">\n",
       "      <th></th>\n",
       "      <th>station_name</th>\n",
       "      <th>station_id</th>\n",
       "      <th>imageset_id</th>\n",
       "      <th>image_id</th>\n",
       "      <th>timestamp</th>\n",
       "      <th>filename</th>\n",
       "      <th>url</th>\n",
       "      <th>flow_cfs</th>\n",
       "      <th>score</th>\n",
       "    </tr>\n",
       "  </thead>\n",
       "  <tbody>\n",
       "    <tr>\n",
       "      <th>0</th>\n",
       "      <td>01349711_West Kill</td>\n",
       "      <td>89</td>\n",
       "      <td>620</td>\n",
       "      <td>1064971</td>\n",
       "      <td>2022-10-13T15:00:00Z</td>\n",
       "      <td>imagesets/bba32ae8-7361-487a-a7f2-84b391e59fc9...</td>\n",
       "      <td>https://usgs-chs-conte-prod-fpe-storage.s3.ama...</td>\n",
       "      <td>4.52</td>\n",
       "      <td>-6.343492</td>\n",
       "    </tr>\n",
       "    <tr>\n",
       "      <th>1</th>\n",
       "      <td>01349711_West Kill</td>\n",
       "      <td>89</td>\n",
       "      <td>620</td>\n",
       "      <td>1064972</td>\n",
       "      <td>2022-10-13T16:00:00Z</td>\n",
       "      <td>imagesets/bba32ae8-7361-487a-a7f2-84b391e59fc9...</td>\n",
       "      <td>https://usgs-chs-conte-prod-fpe-storage.s3.ama...</td>\n",
       "      <td>4.52</td>\n",
       "      <td>-4.915704</td>\n",
       "    </tr>\n",
       "    <tr>\n",
       "      <th>2</th>\n",
       "      <td>01349711_West Kill</td>\n",
       "      <td>89</td>\n",
       "      <td>620</td>\n",
       "      <td>1064973</td>\n",
       "      <td>2022-10-13T17:00:00Z</td>\n",
       "      <td>imagesets/bba32ae8-7361-487a-a7f2-84b391e59fc9...</td>\n",
       "      <td>https://usgs-chs-conte-prod-fpe-storage.s3.ama...</td>\n",
       "      <td>4.71</td>\n",
       "      <td>-5.903940</td>\n",
       "    </tr>\n",
       "    <tr>\n",
       "      <th>3</th>\n",
       "      <td>01349711_West Kill</td>\n",
       "      <td>89</td>\n",
       "      <td>620</td>\n",
       "      <td>1064974</td>\n",
       "      <td>2022-10-13T18:00:00Z</td>\n",
       "      <td>imagesets/bba32ae8-7361-487a-a7f2-84b391e59fc9...</td>\n",
       "      <td>https://usgs-chs-conte-prod-fpe-storage.s3.ama...</td>\n",
       "      <td>4.91</td>\n",
       "      <td>-4.971095</td>\n",
       "    </tr>\n",
       "    <tr>\n",
       "      <th>4</th>\n",
       "      <td>01349711_West Kill</td>\n",
       "      <td>89</td>\n",
       "      <td>620</td>\n",
       "      <td>1064975</td>\n",
       "      <td>2022-10-13T19:00:00Z</td>\n",
       "      <td>imagesets/bba32ae8-7361-487a-a7f2-84b391e59fc9...</td>\n",
       "      <td>https://usgs-chs-conte-prod-fpe-storage.s3.ama...</td>\n",
       "      <td>5.79</td>\n",
       "      <td>-5.115305</td>\n",
       "    </tr>\n",
       "    <tr>\n",
       "      <th>...</th>\n",
       "      <td>...</td>\n",
       "      <td>...</td>\n",
       "      <td>...</td>\n",
       "      <td>...</td>\n",
       "      <td>...</td>\n",
       "      <td>...</td>\n",
       "      <td>...</td>\n",
       "      <td>...</td>\n",
       "      <td>...</td>\n",
       "    </tr>\n",
       "    <tr>\n",
       "      <th>4617</th>\n",
       "      <td>01349711_West Kill</td>\n",
       "      <td>89</td>\n",
       "      <td>1943</td>\n",
       "      <td>2706719</td>\n",
       "      <td>2023-06-28T16:30:00Z</td>\n",
       "      <td>imagesets/46b25625-a640-4795-9294-6fd3c5437273...</td>\n",
       "      <td>https://usgs-chs-conte-prod-fpe-storage.s3.ama...</td>\n",
       "      <td>7.59</td>\n",
       "      <td>-7.719587</td>\n",
       "    </tr>\n",
       "    <tr>\n",
       "      <th>4618</th>\n",
       "      <td>01349711_West Kill</td>\n",
       "      <td>89</td>\n",
       "      <td>1943</td>\n",
       "      <td>2706720</td>\n",
       "      <td>2023-06-28T16:45:00Z</td>\n",
       "      <td>imagesets/46b25625-a640-4795-9294-6fd3c5437273...</td>\n",
       "      <td>https://usgs-chs-conte-prod-fpe-storage.s3.ama...</td>\n",
       "      <td>8.11</td>\n",
       "      <td>-6.313333</td>\n",
       "    </tr>\n",
       "    <tr>\n",
       "      <th>4619</th>\n",
       "      <td>01349711_West Kill</td>\n",
       "      <td>89</td>\n",
       "      <td>1943</td>\n",
       "      <td>2706721</td>\n",
       "      <td>2023-06-28T17:00:00Z</td>\n",
       "      <td>imagesets/46b25625-a640-4795-9294-6fd3c5437273...</td>\n",
       "      <td>https://usgs-chs-conte-prod-fpe-storage.s3.ama...</td>\n",
       "      <td>8.37</td>\n",
       "      <td>-5.083445</td>\n",
       "    </tr>\n",
       "    <tr>\n",
       "      <th>4620</th>\n",
       "      <td>01349711_West Kill</td>\n",
       "      <td>89</td>\n",
       "      <td>1943</td>\n",
       "      <td>2706722</td>\n",
       "      <td>2023-06-28T17:15:00Z</td>\n",
       "      <td>imagesets/46b25625-a640-4795-9294-6fd3c5437273...</td>\n",
       "      <td>https://usgs-chs-conte-prod-fpe-storage.s3.ama...</td>\n",
       "      <td>8.37</td>\n",
       "      <td>-5.244941</td>\n",
       "    </tr>\n",
       "    <tr>\n",
       "      <th>4621</th>\n",
       "      <td>01349711_West Kill</td>\n",
       "      <td>89</td>\n",
       "      <td>1943</td>\n",
       "      <td>2706723</td>\n",
       "      <td>2023-06-28T17:30:00Z</td>\n",
       "      <td>imagesets/46b25625-a640-4795-9294-6fd3c5437273...</td>\n",
       "      <td>https://usgs-chs-conte-prod-fpe-storage.s3.ama...</td>\n",
       "      <td>8.37</td>\n",
       "      <td>-5.585077</td>\n",
       "    </tr>\n",
       "  </tbody>\n",
       "</table>\n",
       "<p>4622 rows × 9 columns</p>\n",
       "</div>"
      ],
      "text/plain": [
       "            station_name  station_id  imageset_id  image_id  \\\n",
       "0     01349711_West Kill          89          620   1064971   \n",
       "1     01349711_West Kill          89          620   1064972   \n",
       "2     01349711_West Kill          89          620   1064973   \n",
       "3     01349711_West Kill          89          620   1064974   \n",
       "4     01349711_West Kill          89          620   1064975   \n",
       "...                  ...         ...          ...       ...   \n",
       "4617  01349711_West Kill          89         1943   2706719   \n",
       "4618  01349711_West Kill          89         1943   2706720   \n",
       "4619  01349711_West Kill          89         1943   2706721   \n",
       "4620  01349711_West Kill          89         1943   2706722   \n",
       "4621  01349711_West Kill          89         1943   2706723   \n",
       "\n",
       "                 timestamp                                           filename  \\\n",
       "0     2022-10-13T15:00:00Z  imagesets/bba32ae8-7361-487a-a7f2-84b391e59fc9...   \n",
       "1     2022-10-13T16:00:00Z  imagesets/bba32ae8-7361-487a-a7f2-84b391e59fc9...   \n",
       "2     2022-10-13T17:00:00Z  imagesets/bba32ae8-7361-487a-a7f2-84b391e59fc9...   \n",
       "3     2022-10-13T18:00:00Z  imagesets/bba32ae8-7361-487a-a7f2-84b391e59fc9...   \n",
       "4     2022-10-13T19:00:00Z  imagesets/bba32ae8-7361-487a-a7f2-84b391e59fc9...   \n",
       "...                    ...                                                ...   \n",
       "4617  2023-06-28T16:30:00Z  imagesets/46b25625-a640-4795-9294-6fd3c5437273...   \n",
       "4618  2023-06-28T16:45:00Z  imagesets/46b25625-a640-4795-9294-6fd3c5437273...   \n",
       "4619  2023-06-28T17:00:00Z  imagesets/46b25625-a640-4795-9294-6fd3c5437273...   \n",
       "4620  2023-06-28T17:15:00Z  imagesets/46b25625-a640-4795-9294-6fd3c5437273...   \n",
       "4621  2023-06-28T17:30:00Z  imagesets/46b25625-a640-4795-9294-6fd3c5437273...   \n",
       "\n",
       "                                                    url  flow_cfs     score  \n",
       "0     https://usgs-chs-conte-prod-fpe-storage.s3.ama...      4.52 -6.343492  \n",
       "1     https://usgs-chs-conte-prod-fpe-storage.s3.ama...      4.52 -4.915704  \n",
       "2     https://usgs-chs-conte-prod-fpe-storage.s3.ama...      4.71 -5.903940  \n",
       "3     https://usgs-chs-conte-prod-fpe-storage.s3.ama...      4.91 -4.971095  \n",
       "4     https://usgs-chs-conte-prod-fpe-storage.s3.ama...      5.79 -5.115305  \n",
       "...                                                 ...       ...       ...  \n",
       "4617  https://usgs-chs-conte-prod-fpe-storage.s3.ama...      7.59 -7.719587  \n",
       "4618  https://usgs-chs-conte-prod-fpe-storage.s3.ama...      8.11 -6.313333  \n",
       "4619  https://usgs-chs-conte-prod-fpe-storage.s3.ama...      8.37 -5.083445  \n",
       "4620  https://usgs-chs-conte-prod-fpe-storage.s3.ama...      8.37 -5.244941  \n",
       "4621  https://usgs-chs-conte-prod-fpe-storage.s3.ama...      8.37 -5.585077  \n",
       "\n",
       "[4622 rows x 9 columns]"
      ]
     },
     "execution_count": 83,
     "metadata": {},
     "output_type": "execute_result"
    }
   ],
   "source": [
    "filenames = [f\"rank/{SITE}/transform/predictions-{skip:05d}-{(skip + job_size - 1):05d}.csv\" for skip in range(0, len(data), job_size)]\n",
    "\n",
    "dfs = []\n",
    "for key in filenames:\n",
    "    print(key)\n",
    "    csv_obj = s3.get_object(Bucket=model_bucket, Key=key)\n",
    "    csv_data = csv_obj['Body'].read().decode('utf-8')\n",
    "    dfs.append(pd.read_csv(StringIO(csv_data)))\n",
    "\n",
    "df = pd.concat(dfs, ignore_index=True)\n",
    "df"
   ]
  },
  {
   "cell_type": "code",
   "execution_count": 84,
   "id": "64e1819a",
   "metadata": {},
   "outputs": [
    {
     "data": {
      "text/plain": [
       "{'ResponseMetadata': {'RequestId': 'J76KBHBWP0BF7WK1',\n",
       "  'HostId': 'O24p24djPPJLTWfRS0VxbN5TKZA0WR7EeXVVvTzec885GLRQTWusLL4CikaLXxL/S/yPsmv+9o+no5N4ETBJ0Q==',\n",
       "  'HTTPStatusCode': 200,\n",
       "  'HTTPHeaders': {'x-amz-id-2': 'O24p24djPPJLTWfRS0VxbN5TKZA0WR7EeXVVvTzec885GLRQTWusLL4CikaLXxL/S/yPsmv+9o+no5N4ETBJ0Q==',\n",
       "   'x-amz-request-id': 'J76KBHBWP0BF7WK1',\n",
       "   'date': 'Fri, 08 Sep 2023 19:55:43 GMT',\n",
       "   'x-amz-server-side-encryption': 'AES256',\n",
       "   'etag': '\"345ad3df5dee0ffb6b6c5502562838f3\"',\n",
       "   'server': 'AmazonS3',\n",
       "   'content-length': '0'},\n",
       "  'RetryAttempts': 0},\n",
       " 'ETag': '\"345ad3df5dee0ffb6b6c5502562838f3\"',\n",
       " 'ServerSideEncryption': 'AES256'}"
      ]
     },
     "execution_count": 84,
     "metadata": {},
     "output_type": "execute_result"
    }
   ],
   "source": [
    "csv_buffer = StringIO()\n",
    "df.to_csv(csv_buffer, index=False)\n",
    "output_key = f\"rank/{SITE}/transform/predictions.csv\"\n",
    "s3.put_object(Body=csv_buffer.getvalue(), Bucket=model_bucket, Key=output_key)"
   ]
  }
 ],
 "metadata": {
  "kernelspec": {
   "display_name": "Python 3",
   "language": "python",
   "name": "python3"
  },
  "language_info": {
   "codemirror_mode": {
    "name": "ipython",
    "version": 3
   },
   "file_extension": ".py",
   "mimetype": "text/x-python",
   "name": "python",
   "nbconvert_exporter": "python",
   "pygments_lexer": "ipython3",
   "version": "3.9.17"
  }
 },
 "nbformat": 4,
 "nbformat_minor": 5
}
